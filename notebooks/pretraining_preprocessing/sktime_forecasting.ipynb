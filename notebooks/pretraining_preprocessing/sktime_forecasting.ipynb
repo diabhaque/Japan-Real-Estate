{
 "cells": [
  {
   "cell_type": "code",
   "execution_count": 1,
   "metadata": {},
   "outputs": [],
   "source": [
    "from sktime.datasets import load_forecastingdata\n"
   ]
  },
  {
   "cell_type": "code",
   "execution_count": 2,
   "metadata": {},
   "outputs": [
    {
     "ename": "KeyboardInterrupt",
     "evalue": "",
     "output_type": "error",
     "traceback": [
      "\u001b[0;31m---------------------------------------------------------------------------\u001b[0m",
      "\u001b[0;31mKeyboardInterrupt\u001b[0m                         Traceback (most recent call last)",
      "\u001b[1;32m/Users/diab/Desktop/japan_re/notebooks/pretraining_preprocessing/sktime_forecasting.ipynb Cell 2\u001b[0m line \u001b[0;36m1\n\u001b[0;32m----> <a href='vscode-notebook-cell:/Users/diab/Desktop/japan_re/notebooks/pretraining_preprocessing/sktime_forecasting.ipynb#W1sZmlsZQ%3D%3D?line=0'>1</a>\u001b[0m df, meta \u001b[39m=\u001b[39m load_forecastingdata(name\u001b[39m=\u001b[39;49m\u001b[39m\"\u001b[39;49m\u001b[39mkaggle_web_traffic_dataset_without_missing_values\u001b[39;49m\u001b[39m\"\u001b[39;49m, return_type\u001b[39m=\u001b[39;49m\u001b[39m\"\u001b[39;49m\u001b[39mpd_multiindex_hier\u001b[39;49m\u001b[39m\"\u001b[39;49m)\n",
      "File \u001b[0;32m~/Desktop/japan_re/venv38/lib/python3.8/site-packages/sktime/datasets/_single_problem_loaders.py:1439\u001b[0m, in \u001b[0;36mload_forecastingdata\u001b[0;34m(name, replace_missing_vals, value_column_name, return_type, extract_path)\u001b[0m\n\u001b[1;32m   1432\u001b[0m         \u001b[39mraise\u001b[39;00m \u001b[39mValueError\u001b[39;00m(\n\u001b[1;32m   1433\u001b[0m             \u001b[39mf\u001b[39m\u001b[39m\"\u001b[39m\u001b[39mInvalid dataset name =\u001b[39m\u001b[39m{\u001b[39;00mname\u001b[39m}\u001b[39;00m\u001b[39m is not available on extract path =\u001b[39m\u001b[39m\"\u001b[39m\n\u001b[1;32m   1434\u001b[0m             \u001b[39mf\u001b[39m\u001b[39m\"\u001b[39m\u001b[39m{\u001b[39;00mextract_path\u001b[39m}\u001b[39;00m\u001b[39m. Nor is it available on \u001b[39m\u001b[39m\"\u001b[39m\n\u001b[1;32m   1435\u001b[0m             \u001b[39mf\u001b[39m\u001b[39m\"\u001b[39m\u001b[39mhttps://forecastingdata.org/.\u001b[39m\u001b[39m\"\u001b[39m,\n\u001b[1;32m   1436\u001b[0m         ) \u001b[39mfrom\u001b[39;00m \u001b[39me\u001b[39;00m\n\u001b[1;32m   1438\u001b[0m path_to_file \u001b[39m=\u001b[39m os\u001b[39m.\u001b[39mpath\u001b[39m.\u001b[39mjoin(path_to_data_dir, \u001b[39mf\u001b[39m\u001b[39m\"\u001b[39m\u001b[39m{\u001b[39;00mname\u001b[39m}\u001b[39;00m\u001b[39m/\u001b[39m\u001b[39m{\u001b[39;00mname\u001b[39m}\u001b[39;00m\u001b[39m.tsf\u001b[39m\u001b[39m\"\u001b[39m)\n\u001b[0;32m-> 1439\u001b[0m \u001b[39mreturn\u001b[39;00m load_tsf_to_dataframe(\n\u001b[1;32m   1440\u001b[0m     path_to_file, replace_missing_vals, value_column_name, return_type\n\u001b[1;32m   1441\u001b[0m )\n",
      "File \u001b[0;32m~/Desktop/japan_re/venv38/lib/python3.8/site-packages/sktime/datasets/_readers_writers/tsf.py:287\u001b[0m, in \u001b[0;36mload_tsf_to_dataframe\u001b[0;34m(full_file_path_and_name, replace_missing_vals_with, value_column_name, return_type)\u001b[0m\n\u001b[1;32m    269\u001b[0m metadata \u001b[39m=\u001b[39m \u001b[39mdict\u001b[39m(\n\u001b[1;32m    270\u001b[0m     \u001b[39mzip\u001b[39m(\n\u001b[1;32m    271\u001b[0m         (\n\u001b[0;32m   (...)\u001b[0m\n\u001b[1;32m    283\u001b[0m     )\n\u001b[1;32m    284\u001b[0m )\n\u001b[1;32m    286\u001b[0m \u001b[39mif\u001b[39;00m return_type \u001b[39m!=\u001b[39m \u001b[39m\"\u001b[39m\u001b[39mdefault_tsf\u001b[39m\u001b[39m\"\u001b[39m:\n\u001b[0;32m--> 287\u001b[0m     loaded_data \u001b[39m=\u001b[39m _convert_tsf_to_hierarchical(\n\u001b[1;32m    288\u001b[0m         loaded_data, metadata, value_column_name\u001b[39m=\u001b[39;49mvalue_column_name\n\u001b[1;32m    289\u001b[0m     )\n\u001b[1;32m    290\u001b[0m     \u001b[39mif\u001b[39;00m (\n\u001b[1;32m    291\u001b[0m         loaded_data\u001b[39m.\u001b[39mindex\u001b[39m.\u001b[39mnlevels \u001b[39m==\u001b[39m \u001b[39m2\u001b[39m\n\u001b[1;32m    292\u001b[0m         \u001b[39mand\u001b[39;00m return_type \u001b[39mnot\u001b[39;00m \u001b[39min\u001b[39;00m MTYPE_LIST_HIERARCHICAL\n\u001b[1;32m    293\u001b[0m     ):\n\u001b[1;32m    294\u001b[0m         loaded_data \u001b[39m=\u001b[39m convert(\n\u001b[1;32m    295\u001b[0m             loaded_data, from_type\u001b[39m=\u001b[39m\u001b[39m\"\u001b[39m\u001b[39mpd-multiindex\u001b[39m\u001b[39m\"\u001b[39m, to_type\u001b[39m=\u001b[39mreturn_type\n\u001b[1;32m    296\u001b[0m         )\n",
      "File \u001b[0;32m~/Desktop/japan_re/venv38/lib/python3.8/site-packages/sktime/datasets/_readers_writers/tsf.py:72\u001b[0m, in \u001b[0;36m_convert_tsf_to_hierarchical\u001b[0;34m(data, metadata, freq, value_column_name)\u001b[0m\n\u001b[1;32m     70\u001b[0m columns \u001b[39m=\u001b[39m [value_column_name, \u001b[39m\"\u001b[39m\u001b[39mtimestamp\u001b[39m\u001b[39m\"\u001b[39m]\n\u001b[1;32m     71\u001b[0m index_columns \u001b[39m=\u001b[39m [c \u001b[39mfor\u001b[39;00m c \u001b[39min\u001b[39;00m \u001b[39mlist\u001b[39m(df\u001b[39m.\u001b[39mcolumns) \u001b[39mif\u001b[39;00m c \u001b[39mnot\u001b[39;00m \u001b[39min\u001b[39;00m drop_columns \u001b[39m+\u001b[39m columns]\n\u001b[0;32m---> 72\u001b[0m result \u001b[39m=\u001b[39m pd\u001b[39m.\u001b[39mDataFrame({c: df[c]\u001b[39m.\u001b[39mexplode() \u001b[39mfor\u001b[39;00m c \u001b[39min\u001b[39;00m columns})\n\u001b[1;32m     73\u001b[0m df \u001b[39m=\u001b[39m df\u001b[39m.\u001b[39mdrop(columns\u001b[39m=\u001b[39mcolumns \u001b[39m+\u001b[39m drop_columns)\u001b[39m.\u001b[39mjoin(result)\n\u001b[1;32m     74\u001b[0m \u001b[39mif\u001b[39;00m df[\u001b[39m\"\u001b[39m\u001b[39mtimestamp\u001b[39m\u001b[39m\"\u001b[39m]\u001b[39m.\u001b[39mdtype \u001b[39m==\u001b[39m \u001b[39m\"\u001b[39m\u001b[39mobject\u001b[39m\u001b[39m\"\u001b[39m:\n",
      "File \u001b[0;32m~/Desktop/japan_re/venv38/lib/python3.8/site-packages/sktime/datasets/_readers_writers/tsf.py:72\u001b[0m, in \u001b[0;36m<dictcomp>\u001b[0;34m(.0)\u001b[0m\n\u001b[1;32m     70\u001b[0m columns \u001b[39m=\u001b[39m [value_column_name, \u001b[39m\"\u001b[39m\u001b[39mtimestamp\u001b[39m\u001b[39m\"\u001b[39m]\n\u001b[1;32m     71\u001b[0m index_columns \u001b[39m=\u001b[39m [c \u001b[39mfor\u001b[39;00m c \u001b[39min\u001b[39;00m \u001b[39mlist\u001b[39m(df\u001b[39m.\u001b[39mcolumns) \u001b[39mif\u001b[39;00m c \u001b[39mnot\u001b[39;00m \u001b[39min\u001b[39;00m drop_columns \u001b[39m+\u001b[39m columns]\n\u001b[0;32m---> 72\u001b[0m result \u001b[39m=\u001b[39m pd\u001b[39m.\u001b[39mDataFrame({c: df[c]\u001b[39m.\u001b[39;49mexplode() \u001b[39mfor\u001b[39;00m c \u001b[39min\u001b[39;00m columns})\n\u001b[1;32m     73\u001b[0m df \u001b[39m=\u001b[39m df\u001b[39m.\u001b[39mdrop(columns\u001b[39m=\u001b[39mcolumns \u001b[39m+\u001b[39m drop_columns)\u001b[39m.\u001b[39mjoin(result)\n\u001b[1;32m     74\u001b[0m \u001b[39mif\u001b[39;00m df[\u001b[39m\"\u001b[39m\u001b[39mtimestamp\u001b[39m\u001b[39m\"\u001b[39m]\u001b[39m.\u001b[39mdtype \u001b[39m==\u001b[39m \u001b[39m\"\u001b[39m\u001b[39mobject\u001b[39m\u001b[39m\"\u001b[39m:\n",
      "File \u001b[0;32m~/Desktop/japan_re/venv38/lib/python3.8/site-packages/pandas/core/series.py:4402\u001b[0m, in \u001b[0;36mSeries.explode\u001b[0;34m(self, ignore_index)\u001b[0m\n\u001b[1;32m   4399\u001b[0m     result \u001b[39m=\u001b[39m \u001b[39mself\u001b[39m\u001b[39m.\u001b[39mcopy()\n\u001b[1;32m   4400\u001b[0m     \u001b[39mreturn\u001b[39;00m result\u001b[39m.\u001b[39mreset_index(drop\u001b[39m=\u001b[39m\u001b[39mTrue\u001b[39;00m) \u001b[39mif\u001b[39;00m ignore_index \u001b[39melse\u001b[39;00m result\n\u001b[0;32m-> 4402\u001b[0m values, counts \u001b[39m=\u001b[39m reshape\u001b[39m.\u001b[39;49mexplode(np\u001b[39m.\u001b[39;49masarray(\u001b[39mself\u001b[39;49m\u001b[39m.\u001b[39;49m_values))\n\u001b[1;32m   4404\u001b[0m \u001b[39mif\u001b[39;00m ignore_index:\n\u001b[1;32m   4405\u001b[0m     index \u001b[39m=\u001b[39m default_index(\u001b[39mlen\u001b[39m(values))\n",
      "File \u001b[0;32m~/Desktop/japan_re/venv38/lib/python3.8/site-packages/pandas/_libs/reshape.pyx:126\u001b[0m, in \u001b[0;36mpandas._libs.reshape.explode\u001b[0;34m()\u001b[0m\n",
      "File \u001b[0;32m~/Desktop/japan_re/venv38/lib/python3.8/site-packages/pandas/core/arrays/datetimes.py:590\u001b[0m, in \u001b[0;36mDatetimeArray.__iter__\u001b[0;34m(self)\u001b[0m\n\u001b[1;32m    588\u001b[0m start_i \u001b[39m=\u001b[39m i \u001b[39m*\u001b[39m chunksize\n\u001b[1;32m    589\u001b[0m end_i \u001b[39m=\u001b[39m \u001b[39mmin\u001b[39m((i \u001b[39m+\u001b[39m \u001b[39m1\u001b[39m) \u001b[39m*\u001b[39m chunksize, length)\n\u001b[0;32m--> 590\u001b[0m converted \u001b[39m=\u001b[39m ints_to_pydatetime(\n\u001b[1;32m    591\u001b[0m     data[start_i:end_i],\n\u001b[1;32m    592\u001b[0m     tz\u001b[39m=\u001b[39;49m\u001b[39mself\u001b[39;49m\u001b[39m.\u001b[39;49mtz,\n\u001b[1;32m    593\u001b[0m     freq\u001b[39m=\u001b[39;49m\u001b[39mself\u001b[39;49m\u001b[39m.\u001b[39;49mfreq,\n\u001b[1;32m    594\u001b[0m     box\u001b[39m=\u001b[39;49m\u001b[39m\"\u001b[39;49m\u001b[39mtimestamp\u001b[39;49m\u001b[39m\"\u001b[39;49m,\n\u001b[1;32m    595\u001b[0m     reso\u001b[39m=\u001b[39;49m\u001b[39mself\u001b[39;49m\u001b[39m.\u001b[39;49m_reso,\n\u001b[1;32m    596\u001b[0m )\n\u001b[1;32m    597\u001b[0m \u001b[39myield from\u001b[39;00m converted\n",
      "\u001b[0;31mKeyboardInterrupt\u001b[0m: "
     ]
    }
   ],
   "source": [
    "df, meta = load_forecastingdata(name=\"kaggle_web_traffic_dataset_without_missing_values\", return_type=\"pd_multiindex_hier\")\n"
   ]
  },
  {
   "cell_type": "code",
   "execution_count": null,
   "metadata": {},
   "outputs": [],
   "source": []
  }
 ],
 "metadata": {
  "kernelspec": {
   "display_name": "venv38",
   "language": "python",
   "name": "python3"
  },
  "language_info": {
   "codemirror_mode": {
    "name": "ipython",
    "version": 3
   },
   "file_extension": ".py",
   "mimetype": "text/x-python",
   "name": "python",
   "nbconvert_exporter": "python",
   "pygments_lexer": "ipython3",
   "version": "3.8.18"
  }
 },
 "nbformat": 4,
 "nbformat_minor": 2
}
