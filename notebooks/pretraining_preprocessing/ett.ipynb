{
 "cells": [
  {
   "cell_type": "code",
   "execution_count": 19,
   "metadata": {},
   "outputs": [],
   "source": [
    "import warnings\n",
    "\n",
    "import numpy as np\n",
    "import pandas as pd\n",
    "import matplotlib.pyplot as plt\n",
    "import seaborn as sns\n",
    "\n",
    "from tqdm.auto import tqdm\n",
    "\n",
    "import torch\n",
    "from torch.utils.data import DataLoader\n",
    "from torchvision import transforms\n",
    "\n",
    "from transformers import AdamW, get_scheduler\n",
    "\n",
    "from jre_utils.datapath import (\n",
    "    processed_pretraining_data_paths,\n",
    "    pretraining_data_paths,\n",
    "    pretrained_weights_paths,\n",
    ")\n",
    "from jre_utils.data import TimeSeriesDataset, PadAndMask, ToNumpy, ToTensor\n",
    "from jre_utils.models import TimeSeriesTransformerModel\n",
    "from jre_utils.engine import (\n",
    "    evaluate,\n",
    "    train,\n",
    "    EarlyStopper,\n",
    ")\n",
    "from jre_utils.metrics import MSELossWeighted\n",
    "\n",
    "warnings.filterwarnings(\"ignore\")\n",
    "pd.set_option(\"display.max_columns\", None)"
   ]
  },
  {
   "cell_type": "code",
   "execution_count": 20,
   "metadata": {},
   "outputs": [],
   "source": [
    "datasets = [\"ettm1\", \"ettm2\", \"etth1\", \"etth2\"]\n",
    "dataset = \"ettm2\"\n",
    "df = pd.read_csv(pretraining_data_paths[dataset])\n",
    "date_time = pd.to_datetime(df.pop(\"date\"), format='%Y/%m/%d %H:%M')"
   ]
  },
  {
   "cell_type": "code",
   "execution_count": 21,
   "metadata": {},
   "outputs": [
    {
     "data": {
      "text/html": [
       "<div>\n",
       "<style scoped>\n",
       "    .dataframe tbody tr th:only-of-type {\n",
       "        vertical-align: middle;\n",
       "    }\n",
       "\n",
       "    .dataframe tbody tr th {\n",
       "        vertical-align: top;\n",
       "    }\n",
       "\n",
       "    .dataframe thead th {\n",
       "        text-align: right;\n",
       "    }\n",
       "</style>\n",
       "<table border=\"1\" class=\"dataframe\">\n",
       "  <thead>\n",
       "    <tr style=\"text-align: right;\">\n",
       "      <th></th>\n",
       "      <th>HUFL</th>\n",
       "      <th>HULL</th>\n",
       "      <th>MUFL</th>\n",
       "      <th>MULL</th>\n",
       "      <th>LUFL</th>\n",
       "      <th>LULL</th>\n",
       "      <th>OT</th>\n",
       "    </tr>\n",
       "  </thead>\n",
       "  <tbody>\n",
       "    <tr>\n",
       "      <th>0</th>\n",
       "      <td>41.130001</td>\n",
       "      <td>12.481</td>\n",
       "      <td>36.535999</td>\n",
       "      <td>9.355</td>\n",
       "      <td>4.424</td>\n",
       "      <td>1.311</td>\n",
       "      <td>38.661999</td>\n",
       "    </tr>\n",
       "    <tr>\n",
       "      <th>1</th>\n",
       "      <td>39.622002</td>\n",
       "      <td>11.309</td>\n",
       "      <td>35.543999</td>\n",
       "      <td>8.551</td>\n",
       "      <td>3.209</td>\n",
       "      <td>1.258</td>\n",
       "      <td>38.223000</td>\n",
       "    </tr>\n",
       "    <tr>\n",
       "      <th>2</th>\n",
       "      <td>38.868000</td>\n",
       "      <td>10.555</td>\n",
       "      <td>34.365002</td>\n",
       "      <td>7.586</td>\n",
       "      <td>4.435</td>\n",
       "      <td>1.258</td>\n",
       "      <td>37.344002</td>\n",
       "    </tr>\n",
       "    <tr>\n",
       "      <th>3</th>\n",
       "      <td>35.518002</td>\n",
       "      <td>9.214</td>\n",
       "      <td>32.569000</td>\n",
       "      <td>8.712</td>\n",
       "      <td>4.435</td>\n",
       "      <td>1.215</td>\n",
       "      <td>37.124001</td>\n",
       "    </tr>\n",
       "    <tr>\n",
       "      <th>4</th>\n",
       "      <td>37.528000</td>\n",
       "      <td>10.136</td>\n",
       "      <td>33.936001</td>\n",
       "      <td>7.532</td>\n",
       "      <td>4.435</td>\n",
       "      <td>1.215</td>\n",
       "      <td>37.124001</td>\n",
       "    </tr>\n",
       "    <tr>\n",
       "      <th>...</th>\n",
       "      <td>...</td>\n",
       "      <td>...</td>\n",
       "      <td>...</td>\n",
       "      <td>...</td>\n",
       "      <td>...</td>\n",
       "      <td>...</td>\n",
       "      <td>...</td>\n",
       "    </tr>\n",
       "    <tr>\n",
       "      <th>69675</th>\n",
       "      <td>42.722000</td>\n",
       "      <td>12.230</td>\n",
       "      <td>54.014000</td>\n",
       "      <td>12.652</td>\n",
       "      <td>-11.525</td>\n",
       "      <td>-1.418</td>\n",
       "      <td>45.986500</td>\n",
       "    </tr>\n",
       "    <tr>\n",
       "      <th>69676</th>\n",
       "      <td>38.868000</td>\n",
       "      <td>10.052</td>\n",
       "      <td>49.859001</td>\n",
       "      <td>10.669</td>\n",
       "      <td>-11.525</td>\n",
       "      <td>-1.418</td>\n",
       "      <td>45.986500</td>\n",
       "    </tr>\n",
       "    <tr>\n",
       "      <th>69677</th>\n",
       "      <td>39.622002</td>\n",
       "      <td>11.057</td>\n",
       "      <td>50.448002</td>\n",
       "      <td>11.795</td>\n",
       "      <td>-10.299</td>\n",
       "      <td>-1.418</td>\n",
       "      <td>45.546501</td>\n",
       "    </tr>\n",
       "    <tr>\n",
       "      <th>69678</th>\n",
       "      <td>40.459999</td>\n",
       "      <td>11.392</td>\n",
       "      <td>51.841999</td>\n",
       "      <td>11.929</td>\n",
       "      <td>-11.536</td>\n",
       "      <td>-1.418</td>\n",
       "      <td>45.546501</td>\n",
       "    </tr>\n",
       "    <tr>\n",
       "      <th>69679</th>\n",
       "      <td>43.223999</td>\n",
       "      <td>12.146</td>\n",
       "      <td>54.737000</td>\n",
       "      <td>12.679</td>\n",
       "      <td>-11.536</td>\n",
       "      <td>-1.418</td>\n",
       "      <td>45.327000</td>\n",
       "    </tr>\n",
       "  </tbody>\n",
       "</table>\n",
       "<p>69680 rows × 7 columns</p>\n",
       "</div>"
      ],
      "text/plain": [
       "            HUFL    HULL       MUFL    MULL    LUFL   LULL         OT\n",
       "0      41.130001  12.481  36.535999   9.355   4.424  1.311  38.661999\n",
       "1      39.622002  11.309  35.543999   8.551   3.209  1.258  38.223000\n",
       "2      38.868000  10.555  34.365002   7.586   4.435  1.258  37.344002\n",
       "3      35.518002   9.214  32.569000   8.712   4.435  1.215  37.124001\n",
       "4      37.528000  10.136  33.936001   7.532   4.435  1.215  37.124001\n",
       "...          ...     ...        ...     ...     ...    ...        ...\n",
       "69675  42.722000  12.230  54.014000  12.652 -11.525 -1.418  45.986500\n",
       "69676  38.868000  10.052  49.859001  10.669 -11.525 -1.418  45.986500\n",
       "69677  39.622002  11.057  50.448002  11.795 -10.299 -1.418  45.546501\n",
       "69678  40.459999  11.392  51.841999  11.929 -11.536 -1.418  45.546501\n",
       "69679  43.223999  12.146  54.737000  12.679 -11.536 -1.418  45.327000\n",
       "\n",
       "[69680 rows x 7 columns]"
      ]
     },
     "execution_count": 21,
     "metadata": {},
     "output_type": "execute_result"
    }
   ],
   "source": [
    "df"
   ]
  },
  {
   "cell_type": "code",
   "execution_count": 22,
   "metadata": {},
   "outputs": [
    {
     "data": {
      "image/png": "[encoded data removed]",
      "text/plain": [
       "<Figure size 640x480 with 4 Axes>"
      ]
     },
     "metadata": {},
     "output_type": "display_data"
    }
   ],
   "source": [
    "plot_cols = ['HUFL', 'HULL', 'MUFL', 'OT']\n",
    "plot_features = df[plot_cols]\n",
    "plot_features.index = date_time\n",
    "_ = plot_features.plot(subplots=True)\n"
   ]
  },
  {
   "cell_type": "code",
   "execution_count": 23,
   "metadata": {},
   "outputs": [
    {
     "data": {
      "text/html": [
       "<div>\n",
       "<style scoped>\n",
       "    .dataframe tbody tr th:only-of-type {\n",
       "        vertical-align: middle;\n",
       "    }\n",
       "\n",
       "    .dataframe tbody tr th {\n",
       "        vertical-align: top;\n",
       "    }\n",
       "\n",
       "    .dataframe thead th {\n",
       "        text-align: right;\n",
       "    }\n",
       "</style>\n",
       "<table border=\"1\" class=\"dataframe\">\n",
       "  <thead>\n",
       "    <tr style=\"text-align: right;\">\n",
       "      <th></th>\n",
       "      <th>count</th>\n",
       "      <th>mean</th>\n",
       "      <th>std</th>\n",
       "      <th>min</th>\n",
       "      <th>25%</th>\n",
       "      <th>50%</th>\n",
       "      <th>75%</th>\n",
       "      <th>max</th>\n",
       "    </tr>\n",
       "  </thead>\n",
       "  <tbody>\n",
       "    <tr>\n",
       "      <th>HUFL</th>\n",
       "      <td>69680.0</td>\n",
       "      <td>37.219411</td>\n",
       "      <td>10.243442</td>\n",
       "      <td>0.0000</td>\n",
       "      <td>30.156000</td>\n",
       "      <td>37.277000</td>\n",
       "      <td>44.146000</td>\n",
       "      <td>107.892998</td>\n",
       "    </tr>\n",
       "    <tr>\n",
       "      <th>HULL</th>\n",
       "      <td>69680.0</td>\n",
       "      <td>8.554209</td>\n",
       "      <td>6.031270</td>\n",
       "      <td>-29.3190</td>\n",
       "      <td>4.523000</td>\n",
       "      <td>9.131000</td>\n",
       "      <td>13.235000</td>\n",
       "      <td>36.438999</td>\n",
       "    </tr>\n",
       "    <tr>\n",
       "      <th>MUFL</th>\n",
       "      <td>69680.0</td>\n",
       "      <td>43.861438</td>\n",
       "      <td>13.061909</td>\n",
       "      <td>10.4270</td>\n",
       "      <td>37.421001</td>\n",
       "      <td>41.415001</td>\n",
       "      <td>46.186001</td>\n",
       "      <td>93.230003</td>\n",
       "    </tr>\n",
       "    <tr>\n",
       "      <th>MULL</th>\n",
       "      <td>69680.0</td>\n",
       "      <td>8.340187</td>\n",
       "      <td>4.369039</td>\n",
       "      <td>-6.6480</td>\n",
       "      <td>5.656000</td>\n",
       "      <td>9.328000</td>\n",
       "      <td>11.285000</td>\n",
       "      <td>29.808001</td>\n",
       "    </tr>\n",
       "    <tr>\n",
       "      <th>LUFL</th>\n",
       "      <td>69680.0</td>\n",
       "      <td>-3.430701</td>\n",
       "      <td>6.154438</td>\n",
       "      <td>-14.6170</td>\n",
       "      <td>-9.286000</td>\n",
       "      <td>-3.774000</td>\n",
       "      <td>2.527000</td>\n",
       "      <td>17.218000</td>\n",
       "    </tr>\n",
       "    <tr>\n",
       "      <th>LULL</th>\n",
       "      <td>69680.0</td>\n",
       "      <td>-2.084888</td>\n",
       "      <td>6.013584</td>\n",
       "      <td>-31.4620</td>\n",
       "      <td>-2.505000</td>\n",
       "      <td>-1.226000</td>\n",
       "      <td>0.000000</td>\n",
       "      <td>3.731000</td>\n",
       "    </tr>\n",
       "    <tr>\n",
       "      <th>OT</th>\n",
       "      <td>69680.0</td>\n",
       "      <td>26.609799</td>\n",
       "      <td>11.886536</td>\n",
       "      <td>-2.6465</td>\n",
       "      <td>16.469500</td>\n",
       "      <td>26.577000</td>\n",
       "      <td>35.585999</td>\n",
       "      <td>58.876999</td>\n",
       "    </tr>\n",
       "  </tbody>\n",
       "</table>\n",
       "</div>"
      ],
      "text/plain": [
       "        count       mean        std      min        25%        50%        75%  \\\n",
       "HUFL  69680.0  37.219411  10.243442   0.0000  30.156000  37.277000  44.146000   \n",
       "HULL  69680.0   8.554209   6.031270 -29.3190   4.523000   9.131000  13.235000   \n",
       "MUFL  69680.0  43.861438  13.061909  10.4270  37.421001  41.415001  46.186001   \n",
       "MULL  69680.0   8.340187   4.369039  -6.6480   5.656000   9.328000  11.285000   \n",
       "LUFL  69680.0  -3.430701   6.154438 -14.6170  -9.286000  -3.774000   2.527000   \n",
       "LULL  69680.0  -2.084888   6.013584 -31.4620  -2.505000  -1.226000   0.000000   \n",
       "OT    69680.0  26.609799  11.886536  -2.6465  16.469500  26.577000  35.585999   \n",
       "\n",
       "             max  \n",
       "HUFL  107.892998  \n",
       "HULL   36.438999  \n",
       "MUFL   93.230003  \n",
       "MULL   29.808001  \n",
       "LUFL   17.218000  \n",
       "LULL    3.731000  \n",
       "OT     58.876999  "
      ]
     },
     "execution_count": 23,
     "metadata": {},
     "output_type": "execute_result"
    }
   ],
   "source": [
    "df.describe().transpose()"
   ]
  },
  {
   "cell_type": "code",
   "execution_count": 24,
   "metadata": {},
   "outputs": [],
   "source": [
    "column_indices = {name: i for i, name in enumerate(df.columns)}\n",
    "\n",
    "n = len(df)\n",
    "train_df = df[0:int(n*0.9)]\n",
    "val_df = df[int(n*0.9):]\n",
    "\n",
    "num_features = df.shape[1]"
   ]
  },
  {
   "cell_type": "code",
   "execution_count": 25,
   "metadata": {},
   "outputs": [],
   "source": [
    "train_mean = train_df.mean()\n",
    "train_std = train_df.std()\n",
    "\n",
    "train_df = (train_df - train_mean) / train_std\n",
    "val_df = (val_df - train_mean) / train_std"
   ]
  },
  {
   "cell_type": "code",
   "execution_count": 26,
   "metadata": {},
   "outputs": [
    {
     "data": {
      "text/html": [
       "<div>\n",
       "<style scoped>\n",
       "    .dataframe tbody tr th:only-of-type {\n",
       "        vertical-align: middle;\n",
       "    }\n",
       "\n",
       "    .dataframe tbody tr th {\n",
       "        vertical-align: top;\n",
       "    }\n",
       "\n",
       "    .dataframe thead th {\n",
       "        text-align: right;\n",
       "    }\n",
       "</style>\n",
       "<table border=\"1\" class=\"dataframe\">\n",
       "  <thead>\n",
       "    <tr style=\"text-align: right;\">\n",
       "      <th></th>\n",
       "      <th>HUFL</th>\n",
       "      <th>HULL</th>\n",
       "      <th>MUFL</th>\n",
       "      <th>MULL</th>\n",
       "      <th>LUFL</th>\n",
       "      <th>LULL</th>\n",
       "      <th>OT</th>\n",
       "    </tr>\n",
       "  </thead>\n",
       "  <tbody>\n",
       "    <tr>\n",
       "      <th>0</th>\n",
       "      <td>0.292261</td>\n",
       "      <td>0.613372</td>\n",
       "      <td>-0.569050</td>\n",
       "      <td>0.245910</td>\n",
       "      <td>1.187957</td>\n",
       "      <td>0.539172</td>\n",
       "      <td>1.059677</td>\n",
       "    </tr>\n",
       "    <tr>\n",
       "      <th>1</th>\n",
       "      <td>0.145110</td>\n",
       "      <td>0.427543</td>\n",
       "      <td>-0.642024</td>\n",
       "      <td>0.069326</td>\n",
       "      <td>0.982196</td>\n",
       "      <td>0.530804</td>\n",
       "      <td>1.023397</td>\n",
       "    </tr>\n",
       "    <tr>\n",
       "      <th>2</th>\n",
       "      <td>0.071534</td>\n",
       "      <td>0.307991</td>\n",
       "      <td>-0.728753</td>\n",
       "      <td>-0.142619</td>\n",
       "      <td>1.189820</td>\n",
       "      <td>0.530804</td>\n",
       "      <td>0.950754</td>\n",
       "    </tr>\n",
       "    <tr>\n",
       "      <th>3</th>\n",
       "      <td>-0.255361</td>\n",
       "      <td>0.095366</td>\n",
       "      <td>-0.860871</td>\n",
       "      <td>0.104687</td>\n",
       "      <td>1.189820</td>\n",
       "      <td>0.524016</td>\n",
       "      <td>0.932573</td>\n",
       "    </tr>\n",
       "    <tr>\n",
       "      <th>4</th>\n",
       "      <td>-0.059224</td>\n",
       "      <td>0.241555</td>\n",
       "      <td>-0.760311</td>\n",
       "      <td>-0.154479</td>\n",
       "      <td>1.189820</td>\n",
       "      <td>0.524016</td>\n",
       "      <td>0.932573</td>\n",
       "    </tr>\n",
       "    <tr>\n",
       "      <th>...</th>\n",
       "      <td>...</td>\n",
       "      <td>...</td>\n",
       "      <td>...</td>\n",
       "      <td>...</td>\n",
       "      <td>...</td>\n",
       "      <td>...</td>\n",
       "      <td>...</td>\n",
       "    </tr>\n",
       "    <tr>\n",
       "      <th>62707</th>\n",
       "      <td>-1.963800</td>\n",
       "      <td>-1.365581</td>\n",
       "      <td>-1.259209</td>\n",
       "      <td>-0.790313</td>\n",
       "      <td>-1.238502</td>\n",
       "      <td>0.067899</td>\n",
       "      <td>-0.758215</td>\n",
       "    </tr>\n",
       "    <tr>\n",
       "      <th>62708</th>\n",
       "      <td>-2.315285</td>\n",
       "      <td>-1.365581</td>\n",
       "      <td>-1.359768</td>\n",
       "      <td>-0.860815</td>\n",
       "      <td>-1.451546</td>\n",
       "      <td>0.067899</td>\n",
       "      <td>-0.776396</td>\n",
       "    </tr>\n",
       "    <tr>\n",
       "      <th>62709</th>\n",
       "      <td>-2.217216</td>\n",
       "      <td>-1.365581</td>\n",
       "      <td>-1.387354</td>\n",
       "      <td>-0.878606</td>\n",
       "      <td>-1.242228</td>\n",
       "      <td>0.067899</td>\n",
       "      <td>-0.794536</td>\n",
       "    </tr>\n",
       "    <tr>\n",
       "      <th>62710</th>\n",
       "      <td>-2.413353</td>\n",
       "      <td>-1.365581</td>\n",
       "      <td>-1.533301</td>\n",
       "      <td>-1.072760</td>\n",
       "      <td>-1.242228</td>\n",
       "      <td>0.067899</td>\n",
       "      <td>-0.812676</td>\n",
       "    </tr>\n",
       "    <tr>\n",
       "      <th>62711</th>\n",
       "      <td>-2.266202</td>\n",
       "      <td>-1.365581</td>\n",
       "      <td>-1.513587</td>\n",
       "      <td>-1.013899</td>\n",
       "      <td>-1.034604</td>\n",
       "      <td>0.067899</td>\n",
       "      <td>-0.830816</td>\n",
       "    </tr>\n",
       "  </tbody>\n",
       "</table>\n",
       "<p>62712 rows × 7 columns</p>\n",
       "</div>"
      ],
      "text/plain": [
       "           HUFL      HULL      MUFL      MULL      LUFL      LULL        OT\n",
       "0      0.292261  0.613372 -0.569050  0.245910  1.187957  0.539172  1.059677\n",
       "1      0.145110  0.427543 -0.642024  0.069326  0.982196  0.530804  1.023397\n",
       "2      0.071534  0.307991 -0.728753 -0.142619  1.189820  0.530804  0.950754\n",
       "3     -0.255361  0.095366 -0.860871  0.104687  1.189820  0.524016  0.932573\n",
       "4     -0.059224  0.241555 -0.760311 -0.154479  1.189820  0.524016  0.932573\n",
       "...         ...       ...       ...       ...       ...       ...       ...\n",
       "62707 -1.963800 -1.365581 -1.259209 -0.790313 -1.238502  0.067899 -0.758215\n",
       "62708 -2.315285 -1.365581 -1.359768 -0.860815 -1.451546  0.067899 -0.776396\n",
       "62709 -2.217216 -1.365581 -1.387354 -0.878606 -1.242228  0.067899 -0.794536\n",
       "62710 -2.413353 -1.365581 -1.533301 -1.072760 -1.242228  0.067899 -0.812676\n",
       "62711 -2.266202 -1.365581 -1.513587 -1.013899 -1.034604  0.067899 -0.830816\n",
       "\n",
       "[62712 rows x 7 columns]"
      ]
     },
     "execution_count": 26,
     "metadata": {},
     "output_type": "execute_result"
    }
   ],
   "source": [
    "train_df"
   ]
  },
  {
   "cell_type": "code",
   "execution_count": 27,
   "metadata": {},
   "outputs": [],
   "source": [
    "train_df.to_csv(processed_pretraining_data_paths[dataset][\"train\"], index=False)\n",
    "val_df.to_csv(processed_pretraining_data_paths[dataset][\"eval\"], index=False)"
   ]
  },
  {
   "cell_type": "code",
   "execution_count": 28,
   "metadata": {},
   "outputs": [],
   "source": [
    "# df_std = (df - train_mean) / train_std\n",
    "# df_std = df_std.melt(var_name='Column', value_name='Normalized')\n",
    "# plt.figure(figsize=(12, 6))\n",
    "# ax = sns.violinplot(x='Column', y='Normalized', data=df_std)\n",
    "# _ = ax.set_xticklabels(df.keys(), rotation=90)"
   ]
  },
  {
   "cell_type": "code",
   "execution_count": 29,
   "metadata": {},
   "outputs": [],
   "source": [
    "BATCH_SIZE = 64\n",
    "window_length = 10\n",
    "shift = 1\n",
    "\n",
    "feature_columns = df.columns\n",
    "metrics = [\"OT\"]\n",
    "\n",
    "train_dataset = TimeSeriesDataset(\n",
    "    train_df,\n",
    "    metrics=metrics,\n",
    "    feature_columns=feature_columns,\n",
    "    window_length=window_length,\n",
    "    shift=shift,\n",
    "    transform=transforms.Compose(\n",
    "        [ToNumpy(), PadAndMask(pad_length=window_length), ToTensor()]\n",
    "    ),\n",
    ")\n",
    "val_dataset = TimeSeriesDataset(\n",
    "    val_df,\n",
    "    metrics=metrics,\n",
    "    feature_columns=feature_columns,\n",
    "    window_length=window_length,\n",
    "    shift=shift,\n",
    "    transform=transforms.Compose(\n",
    "        [ToNumpy(), PadAndMask(pad_length=window_length), ToTensor()]\n",
    "    ),\n",
    ")"
   ]
  },
  {
   "cell_type": "code",
   "execution_count": 30,
   "metadata": {},
   "outputs": [],
   "source": [
    "train_dataloader = DataLoader(train_dataset, batch_size=BATCH_SIZE, shuffle=False, num_workers=0)\n",
    "eval_dataloader = DataLoader(val_dataset, batch_size=BATCH_SIZE, shuffle=False, num_workers=0)"
   ]
  },
  {
   "cell_type": "code",
   "execution_count": 31,
   "metadata": {},
   "outputs": [
    {
     "name": "stdout",
     "output_type": "stream",
     "text": [
      "0 torch.Size([64, 10, 7]) torch.Size([64, 1])\n"
     ]
    }
   ],
   "source": [
    "for i, sample in enumerate(train_dataloader):\n",
    "    if i == 0:\n",
    "        print(i, sample[\"window\"].shape, sample[\"target\"].shape)\n",
    "        break"
   ]
  },
  {
   "cell_type": "code",
   "execution_count": 32,
   "metadata": {},
   "outputs": [
    {
     "name": "stdout",
     "output_type": "stream",
     "text": [
      "Using mps device\n"
     ]
    }
   ],
   "source": [
    "device = (\n",
    "    \"cuda\"\n",
    "    if torch.cuda.is_available()\n",
    "    else \"mps\"\n",
    "    if torch.backends.mps.is_available()\n",
    "    else \"cpu\"\n",
    ")\n",
    "# device = \"cpu\"\n",
    "print(f\"Using {device} device\")"
   ]
  },
  {
   "cell_type": "code",
   "execution_count": 33,
   "metadata": {},
   "outputs": [],
   "source": [
    "n_features = len(feature_columns)\n",
    "target_size = len(metrics)\n",
    "d_model = 128\n",
    "d_hid = 256\n",
    "nlayers = 4\n",
    "nhead = 4\n",
    "dropout = 0.1\n",
    "enc_dropout = 0\n",
    "\n",
    "model = TimeSeriesTransformerModel(\n",
    "    n_features=n_features,\n",
    "    target_size=target_size,\n",
    "    d_model=d_model,\n",
    "    nhead=nhead,\n",
    "    d_hid=d_hid,\n",
    "    nlayers=nlayers,\n",
    "    dropout=dropout,\n",
    "    device=device,\n",
    ")\n",
    "model = model.to(device)\n"
   ]
  },
  {
   "cell_type": "code",
   "execution_count": 35,
   "metadata": {},
   "outputs": [
    {
     "data": {
      "text/plain": [
       "7"
      ]
     },
     "execution_count": 35,
     "metadata": {},
     "output_type": "execute_result"
    }
   ],
   "source": [
    "n_features"
   ]
  },
  {
   "cell_type": "code",
   "execution_count": 34,
   "metadata": {},
   "outputs": [
    {
     "name": "stdout",
     "output_type": "stream",
     "text": [
      "torch.Size([64, 10, 7]) torch.Size([64, 10]) torch.Size([64, 1]) torch.Size([64, 1])\n",
      "torch.Size([64, 1])\n",
      "Loss: 0.17294225096702576\n"
     ]
    }
   ],
   "source": [
    "model.eval()\n",
    "mse_loss_weighted = MSELossWeighted().to(device)\n",
    "\n",
    "with torch.no_grad():\n",
    "    for batch in eval_dataloader:\n",
    "        window = batch[\"window\"].to(device)\n",
    "        mask = batch[\"mask\"].to(device)\n",
    "        target = batch[\"target\"].to(device)\n",
    "        weight = batch[\"weight\"].to(device)\n",
    "\n",
    "        outputs = model(window, mask)\n",
    "        loss = mse_loss_weighted(outputs, target, weight)\n",
    "\n",
    "        print(\n",
    "            batch[\"window\"].shape,\n",
    "            batch[\"mask\"].shape,\n",
    "            batch[\"target\"].shape,\n",
    "            batch[\"weight\"].shape,\n",
    "        )\n",
    "\n",
    "        print(outputs.shape)\n",
    "        print(\"Loss:\", loss.item())\n",
    "\n",
    "        if i == 0:\n",
    "            break"
   ]
  },
  {
   "cell_type": "code",
   "execution_count": 40,
   "metadata": {},
   "outputs": [],
   "source": [
    "learning_rate = 1e-4\n",
    "num_epochs = 20"
   ]
  },
  {
   "cell_type": "code",
   "execution_count": 41,
   "metadata": {},
   "outputs": [],
   "source": [
    "train_losses, train_r2_scores = [], []\n",
    "eval_losses, eval_r2_scores = [], []"
   ]
  },
  {
   "cell_type": "code",
   "execution_count": 42,
   "metadata": {},
   "outputs": [
    {
     "name": "stderr",
     "output_type": "stream",
     "text": [
      "100%|██████████| 4900/4900 [07:14<00:00, 11.28it/s]\n"
     ]
    }
   ],
   "source": [
    "num_training_steps = num_epochs * len(train_dataloader)\n",
    "\n",
    "optimizer = AdamW(model.parameters(), lr=learning_rate)\n",
    "lr_scheduler = get_scheduler(\n",
    "    \"linear\",\n",
    "    optimizer=optimizer,\n",
    "    num_warmup_steps=0,\n",
    "    num_training_steps=num_training_steps,\n",
    ")\n",
    "\n",
    "progress_bar = tqdm(range(num_training_steps))\n",
    "early_stopper = EarlyStopper(patience=5, min_delta=0.01)\n",
    "\n",
    "for epoch in range(num_epochs):\n",
    "    train_loss, train_r2_score = train(\n",
    "        model, train_dataloader, optimizer, lr_scheduler, progress_bar, device=device\n",
    "    )\n",
    "    train_losses.append(train_loss)\n",
    "    train_r2_scores.append(train_r2_score)\n",
    "\n",
    "    eval_loss, eval_r2_score = evaluate(model, eval_dataloader, device=device)\n",
    "    eval_losses.append(eval_loss)\n",
    "    eval_r2_scores.append(eval_r2_score)\n",
    "\n",
    "    if early_stopper.early_stop(eval_loss):\n",
    "        print(f\"Early stopping at epoch {epoch}\")\n",
    "        break\n",
    "\n",
    "\n",
    "progress_bar.close()"
   ]
  },
  {
   "cell_type": "code",
   "execution_count": 43,
   "metadata": {},
   "outputs": [
    {
     "data": {
      "image/png": "[encoded data removed]",
      "text/plain": [
       "<Figure size 640x480 with 1 Axes>"
      ]
     },
     "metadata": {},
     "output_type": "display_data"
    }
   ],
   "source": [
    "# Plot MSE\n",
    "plt.plot(train_losses, label = \"train\")\n",
    "plt.plot(eval_losses, label = \"eval\")\n",
    "plt.xlabel('epoch')\n",
    "plt.ylabel('loss')\n",
    "plt.title('loss over epochs')\n",
    "plt.legend()\n",
    "plt.show()"
   ]
  },
  {
   "cell_type": "code",
   "execution_count": 44,
   "metadata": {},
   "outputs": [
    {
     "data": {
      "image/png": "[encoded data removed]",
      "text/plain": [
       "<Figure size 640x480 with 1 Axes>"
      ]
     },
     "metadata": {},
     "output_type": "display_data"
    }
   ],
   "source": [
    "# Plot MSE\n",
    "plt.plot(train_losses, label = \"train\")\n",
    "plt.plot(eval_losses, label = \"eval\")\n",
    "plt.xlabel('epoch')\n",
    "plt.ylabel('loss')\n",
    "plt.title('loss over epochs')\n",
    "plt.legend()\n",
    "plt.show()"
   ]
  },
  {
   "cell_type": "code",
   "execution_count": 45,
   "metadata": {},
   "outputs": [
    {
     "data": {
      "image/png": "[encoded data removed]",
      "text/plain": [
       "<Figure size 640x480 with 1 Axes>"
      ]
     },
     "metadata": {},
     "output_type": "display_data"
    }
   ],
   "source": [
    "# Plot R2 scores\n",
    "plt.plot(train_r2_scores, label = \"train\")\n",
    "plt.plot(eval_r2_scores, label = \"eval\")\n",
    "plt.xlabel('epoch')\n",
    "plt.ylabel('r2 score')\n",
    "plt.title('r2 scores over epochs')\n",
    "plt.legend()\n",
    "plt.show()"
   ]
  },
  {
   "cell_type": "code",
   "execution_count": null,
   "metadata": {},
   "outputs": [],
   "source": []
  }
 ],
 "metadata": {
  "kernelspec": {
   "display_name": "venv38",
   "language": "python",
   "name": "python3"
  },
  "language_info": {
   "codemirror_mode": {
    "name": "ipython",
    "version": 3
   },
   "file_extension": ".py",
   "mimetype": "text/x-python",
   "name": "python",
   "nbconvert_exporter": "python",
   "pygments_lexer": "ipython3",
   "version": "3.8.18"
  }
 },
 "nbformat": 4,
 "nbformat_minor": 2
}
