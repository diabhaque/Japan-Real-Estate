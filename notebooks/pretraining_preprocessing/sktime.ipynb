{
 "cells": [
  {
   "cell_type": "code",
   "execution_count": 4,
   "metadata": {},
   "outputs": [],
   "source": [
    "import warnings\n",
    "\n",
    "import numpy as np\n",
    "import pandas as pd\n",
    "import matplotlib.pyplot as plt\n",
    "import seaborn as sns\n",
    "\n",
    "from tqdm.auto import tqdm\n",
    "\n",
    "import torch\n",
    "from torch.utils.data import DataLoader\n",
    "from torchvision import transforms\n",
    "\n",
    "from transformers import AdamW, get_scheduler\n",
    "\n",
    "from jre_utils.datapath import (\n",
    "    processed_pretraining_data_paths,\n",
    "    pretraining_data_paths,\n",
    "    pretrained_weights_paths,\n",
    ")\n",
    "\n",
    "from jre_utils.data import SKTimeSeriesDataset, PadAndMask, ToNumpy, ToTensor\n",
    "from jre_utils.models import TimeSeriesTransformerModel\n",
    "from jre_utils.engine import (\n",
    "    evaluate,\n",
    "    train,\n",
    "    EarlyStopper,\n",
    ")\n",
    "from jre_utils.metrics import MSELossWeighted\n",
    "\n",
    "from sktime.datasets import load_UCR_UEA_dataset, load_forecastingdata\n",
    "\n",
    "warnings.filterwarnings(\"ignore\")\n",
    "pd.set_option(\"display.max_columns\", None)"
   ]
  },
  {
   "cell_type": "code",
   "execution_count": 5,
   "metadata": {},
   "outputs": [],
   "source": [
    "col_rename_dict = {\n",
    "    \"ArrowHead\": {\n",
    "        \"level_0\": \"id\",\n",
    "        \"timepoints\": \"time_idx\",\n",
    "        \"dim_0\": \"value\",\n",
    "        \"class_val\": \"class\",\n",
    "    }\n",
    "}"
   ]
  },
  {
   "cell_type": "code",
   "execution_count": 6,
   "metadata": {},
   "outputs": [],
   "source": [
    "dataset = 'ArrowHead'\n",
    "df = load_UCR_UEA_dataset(name=dataset, return_X_y=False, return_type=\"pd-multiindex\")\n",
    "df = df.reset_index()\n",
    "df = df.rename(columns = col_rename_dict[dataset])\n",
    "df = df.astype(float)"
   ]
  },
  {
   "cell_type": "code",
   "execution_count": 7,
   "metadata": {},
   "outputs": [],
   "source": [
    "# Done: Convert all dataframes into id, time_idx, value, classVal (optional)"
   ]
  },
  {
   "cell_type": "code",
   "execution_count": 8,
   "metadata": {},
   "outputs": [],
   "source": [
    "eval_start_time = df[\"time_idx\"].quantile(0.9)\n",
    "train_df = df[df[\"time_idx\"] <= eval_start_time]\n",
    "eval_df = df[df[\"time_idx\"] > eval_start_time]\n"
   ]
  },
  {
   "cell_type": "code",
   "execution_count": 15,
   "metadata": {},
   "outputs": [],
   "source": [
    "BATCH_SIZE = 64\n",
    "window_length = 10\n",
    "shift = 1\n",
    "\n",
    "metrics = [\"value\", \"class\"]\n",
    "feature_columns = [\"value\", \"class\"]\n",
    "\n",
    "train_dataset = SKTimeSeriesDataset(\n",
    "    df,\n",
    "    train_df,\n",
    "    metrics=metrics,\n",
    "    feature_columns=feature_columns,\n",
    "    window_length=window_length,\n",
    "    shift=shift,\n",
    "    transform=transforms.Compose(\n",
    "        [ToNumpy(), PadAndMask(pad_length=window_length), ToTensor()]\n",
    "    ),\n",
    ")\n",
    "\n",
    "eval_dataset = SKTimeSeriesDataset(\n",
    "    df,\n",
    "    eval_df,\n",
    "    metrics=metrics,\n",
    "    feature_columns=feature_columns,\n",
    "    window_length=window_length,\n",
    "    shift=shift,\n",
    "    transform=transforms.Compose(\n",
    "        [ToNumpy(), PadAndMask(pad_length=window_length), ToTensor()]\n",
    "    ),\n",
    ")"
   ]
  },
  {
   "cell_type": "code",
   "execution_count": 17,
   "metadata": {},
   "outputs": [],
   "source": [
    "train_dataloader = DataLoader(train_dataset, batch_size=BATCH_SIZE, shuffle=False, num_workers=0)\n",
    "eval_dataloader = DataLoader(eval_dataset, batch_size=BATCH_SIZE, shuffle=False, num_workers=0)"
   ]
  },
  {
   "cell_type": "code",
   "execution_count": 18,
   "metadata": {},
   "outputs": [
    {
     "name": "stdout",
     "output_type": "stream",
     "text": [
      "0 torch.Size([64, 10, 2]) torch.Size([64, 2])\n"
     ]
    }
   ],
   "source": [
    "# Build time series transfomer classifier\n",
    "for i, sample in enumerate(train_dataloader):\n",
    "    if i == 0:\n",
    "        print(i, sample[\"window\"].shape, sample[\"target\"].shape)\n",
    "        break"
   ]
  },
  {
   "cell_type": "code",
   "execution_count": 19,
   "metadata": {},
   "outputs": [
    {
     "name": "stdout",
     "output_type": "stream",
     "text": [
      "Using mps device\n"
     ]
    }
   ],
   "source": [
    "device = (\n",
    "    \"cuda\"\n",
    "    if torch.cuda.is_available()\n",
    "    else \"mps\"\n",
    "    if torch.backends.mps.is_available()\n",
    "    else \"cpu\"\n",
    ")\n",
    "# device = \"cpu\"\n",
    "print(f\"Using {device} device\")"
   ]
  },
  {
   "cell_type": "code",
   "execution_count": 20,
   "metadata": {},
   "outputs": [],
   "source": [
    "n_features = len(feature_columns)\n",
    "target_size = len(metrics)\n",
    "d_model = 128\n",
    "d_hid = 256\n",
    "nlayers = 4\n",
    "nhead = 4\n",
    "dropout = 0.1\n",
    "enc_dropout = 0\n",
    "\n",
    "model = TimeSeriesTransformerModel(\n",
    "    n_features=n_features,\n",
    "    target_size=target_size,\n",
    "    d_model=d_model,\n",
    "    nhead=nhead,\n",
    "    d_hid=d_hid,\n",
    "    nlayers=nlayers,\n",
    "    dropout=dropout,\n",
    "    device=device,\n",
    ")\n",
    "model = model.to(device)\n"
   ]
  },
  {
   "cell_type": "code",
   "execution_count": 23,
   "metadata": {},
   "outputs": [
    {
     "name": "stdout",
     "output_type": "stream",
     "text": [
      "torch.Size([64, 10, 2]) torch.Size([64, 10]) torch.Size([64, 2]) torch.Size([64, 1])\n",
      "torch.Size([64, 2])\n",
      "Loss: 1.6841917037963867\n"
     ]
    }
   ],
   "source": [
    "from torch.nn import MSELoss\n",
    "\n",
    "model.eval()\n",
    "mse_loss = MSELoss().to(device)\n",
    "\n",
    "with torch.no_grad():\n",
    "    for batch in eval_dataloader:\n",
    "        window = batch[\"window\"].to(device)\n",
    "        mask = batch[\"mask\"].to(device)\n",
    "        target = batch[\"target\"].to(device)\n",
    "        weight = batch[\"weight\"].to(device)\n",
    "\n",
    "        outputs = model(window, mask)\n",
    "        loss = mse_loss(outputs, target)\n",
    "\n",
    "        print(\n",
    "            batch[\"window\"].shape,\n",
    "            batch[\"mask\"].shape,\n",
    "            batch[\"target\"].shape,\n",
    "            batch[\"weight\"].shape,\n",
    "        )\n",
    "\n",
    "        print(outputs.shape)\n",
    "        print(\"Loss:\", loss.item())\n",
    "\n",
    "        if i == 0:\n",
    "            break"
   ]
  },
  {
   "cell_type": "code",
   "execution_count": null,
   "metadata": {},
   "outputs": [],
   "source": []
  }
 ],
 "metadata": {
  "kernelspec": {
   "display_name": "venv38",
   "language": "python",
   "name": "python3"
  },
  "language_info": {
   "codemirror_mode": {
    "name": "ipython",
    "version": 3
   },
   "file_extension": ".py",
   "mimetype": "text/x-python",
   "name": "python",
   "nbconvert_exporter": "python",
   "pygments_lexer": "ipython3",
   "version": "3.8.18"
  }
 },
 "nbformat": 4,
 "nbformat_minor": 2
}
