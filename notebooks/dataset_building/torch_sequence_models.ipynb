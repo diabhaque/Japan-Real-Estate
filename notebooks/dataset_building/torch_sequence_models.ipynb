{
 "cells": [
  {
   "cell_type": "code",
   "execution_count": 95,
   "metadata": {},
   "outputs": [],
   "source": [
    "import warnings\n",
    "\n",
    "import numpy as np\n",
    "import pandas as pd\n",
    "import matplotlib.pyplot as plt\n",
    "import seaborn as sns\n",
    "\n",
    "from jre_utils.datapath import model_ready_data_paths\n",
    "\n",
    "warnings.filterwarnings(\"ignore\")\n",
    "pd.set_option(\"display.max_columns\", None)"
   ]
  },
  {
   "cell_type": "code",
   "execution_count": 96,
   "metadata": {},
   "outputs": [],
   "source": [
    "import torch\n",
    "from torch.utils.data import Dataset, DataLoader\n",
    "from torchvision import transforms"
   ]
  },
  {
   "cell_type": "code",
   "execution_count": 97,
   "metadata": {},
   "outputs": [],
   "source": [
    "metrics = {\n",
    "    \"weighted_mean\": \"unit_price_wmean\",\n",
    "    \"weighted_median\": \"unit_price_wmedian\",\n",
    "    \"mean\": \"unit_price_mean\",\n",
    "    \"median\": \"unit_price_median\",\n",
    "}\n",
    "\n",
    "metric = metrics[\"weighted_median\"]\n",
    "metric_pct_chg = metric + \"_pct_chg\""
   ]
  },
  {
   "cell_type": "code",
   "execution_count": 98,
   "metadata": {},
   "outputs": [],
   "source": [
    "start_year = 2006\n",
    "eval_start_year = 2021 # eval_years = [2021]\n",
    "\n",
    "dataset_key = \"transactions\"\n",
    "model_ready_data_path = model_ready_data_paths[f\"sequence_{dataset_key}\"]\n",
    "df = pd.read_csv(model_ready_data_path)\n",
    "train_df = df[(df[\"year\"] >= start_year) & (df[\"year\"] < eval_start_year)]\n",
    "eval_df = df[df[\"year\"] >= eval_start_year]"
   ]
  },
  {
   "cell_type": "code",
   "execution_count": 99,
   "metadata": {},
   "outputs": [],
   "source": [
    "columns = [\n",
    "    metric,\n",
    "    \"count\",\n",
    "    \"total_traded_area\",\n",
    "    \"population\",\n",
    "    \"taxpayer_count\",\n",
    "    \"taxable_income\",\n",
    "    \"new_dwellings\",\n",
    "    \"existing_dwellings\",\n",
    "    \"new_dwellings_ratio\",\n",
    "    \"net_migration_ratio\",\n",
    "]\n",
    "columns_normalized = [f\"{col}_normalized\" for col in columns]\n",
    "\n",
    "train_df_mean = train_df[columns].mean()\n",
    "train_df_std = train_df[columns].std()\n",
    "train_df[columns_normalized] = (train_df[columns] - train_df_mean) / train_df_std\n",
    "eval_df[columns_normalized] = (eval_df[columns] - train_df_mean) / train_df_std\n",
    "df = pd.concat([train_df, eval_df])"
   ]
  },
  {
   "cell_type": "code",
   "execution_count": 100,
   "metadata": {},
   "outputs": [],
   "source": [
    "class TimeSeriesDataset(Dataset):\n",
    "    def __init__(\n",
    "        self,\n",
    "        complete_df,\n",
    "        df,\n",
    "        metrics=[metric_pct_chg],\n",
    "        feature_columns=None,\n",
    "        shift=1,\n",
    "        window_length=5,\n",
    "        transform=None,\n",
    "    ):\n",
    "        self.feature_columns = feature_columns if feature_columns is not None else df.columns\n",
    "        self.complete_df = complete_df\n",
    "        self.df = df\n",
    "        self.transform = transform\n",
    "        self.metrics = metrics\n",
    "        self.shift = shift\n",
    "        self.window_length = window_length\n",
    "\n",
    "    def __len__(self):\n",
    "        return len(self.df)\n",
    "\n",
    "    def __getitem__(self, idx):\n",
    "        if torch.is_tensor(idx):\n",
    "            idx = idx.tolist()\n",
    "\n",
    "        row = self.df.iloc[idx]\n",
    "        target = row[self.metrics]\n",
    "        area_code, year = row[\"area_code\"], row[\"year\"]\n",
    "        area_df = (\n",
    "            self.complete_df[\n",
    "                (self.complete_df[\"area_code\"] == area_code)\n",
    "                & (self.complete_df[\"year\"] <= year - self.shift)\n",
    "            ]\n",
    "            .sort_values(by=\"year\")  # sorting just to be safe\n",
    "            .tail(self.window_length)\n",
    "        )\n",
    "\n",
    "        sample = {\n",
    "            \"window\": area_df[self.feature_columns],\n",
    "            \"target\": target,\n",
    "        }\n",
    "\n",
    "        if self.transform:\n",
    "            sample = self.transform(sample)\n",
    "\n",
    "        return sample\n",
    "\n",
    "\n",
    "class ToNumpy(object):\n",
    "    \"\"\"Convert pandas dataframes in sample to ndarrays.\"\"\"\n",
    "\n",
    "    def __call__(self, sample):\n",
    "        window, target = sample[\"window\"], sample[\"target\"]\n",
    "        return {\"window\": window.values, \"target\": target.values}\n",
    "\n",
    "\n",
    "class ToTensor(object):\n",
    "    \"\"\"Convert ndarrays in sample to Tensors.\"\"\"\n",
    "\n",
    "    def __call__(self, sample):\n",
    "        window, target, mask = sample[\"window\"], sample[\"target\"], sample[\"mask\"]\n",
    "        return {\n",
    "            \"window\": torch.from_numpy(window),\n",
    "            \"mask\": torch.from_numpy(mask),\n",
    "            \"target\": torch.from_numpy(target),\n",
    "        }\n",
    "\n",
    "\n",
    "class PadAndMask(object):\n",
    "    \"\"\"Pad all inputs to be of the same length and create a mask\"\"\"\n",
    "\n",
    "    def __init__(self, pad_length=5):\n",
    "        self.pad_length = pad_length\n",
    "\n",
    "    def __call__(self, sample):\n",
    "        window, target = sample[\"window\"], sample[\"target\"]\n",
    "\n",
    "        # the first n elements of the mask are 1, the rest are 0\n",
    "        mask = np.zeros(self.pad_length)\n",
    "        mask[: window.shape[0]] = 1\n",
    "\n",
    "        padded_window = np.pad(\n",
    "            window, ((0, self.pad_length - window.shape[0]), (0, 0)), \"constant\"\n",
    "        )\n",
    "        return {\"window\": padded_window, \"mask\": mask, \"target\": target}"
   ]
  },
  {
   "cell_type": "code",
   "execution_count": 101,
   "metadata": {},
   "outputs": [
    {
     "name": "stdout",
     "output_type": "stream",
     "text": [
      "0 (0, 11) (1,) unit_price_wmedian_pct_chg   -0.426053\n",
      "Name: 0, dtype: float64\n",
      "1 (1, 11) (1,) unit_price_wmedian_pct_chg   -0.087079\n",
      "Name: 1, dtype: float64\n",
      "2 (2, 11) (1,) unit_price_wmedian_pct_chg    0.389261\n",
      "Name: 2, dtype: float64\n",
      "3 (3, 11) (1,) unit_price_wmedian_pct_chg   -0.231734\n",
      "Name: 3, dtype: float64\n",
      "0 torch.Size([5, 23]) torch.Size([1]) tensor([-0.4261], dtype=torch.float64)\n",
      "1 torch.Size([5, 23]) torch.Size([1]) tensor([-0.0871], dtype=torch.float64)\n",
      "2 torch.Size([5, 23]) torch.Size([1]) tensor([0.3893], dtype=torch.float64)\n",
      "3 torch.Size([5, 23]) torch.Size([1]) tensor([-0.2317], dtype=torch.float64)\n"
     ]
    }
   ],
   "source": [
    "feature_columns = [metric_pct_chg] + columns_normalized\n",
    "time_series_dataset = TimeSeriesDataset(df, train_df, feature_columns=feature_columns)\n",
    "time_series_dataset_transformed = TimeSeriesDataset(\n",
    "    df, train_df, transform=transforms.Compose([ToNumpy(), PadAndMask(), ToTensor()])\n",
    ")\n",
    "\n",
    "for i, sample in enumerate(time_series_dataset):\n",
    "    print(i, sample[\"window\"].shape, sample[\"target\"].shape, sample[\"target\"])\n",
    "    if i == 3:\n",
    "        break\n",
    "\n",
    "\n",
    "for i, sample in enumerate(time_series_dataset_transformed):\n",
    "    print(i, sample[\"window\"].shape, sample[\"target\"].shape, sample[\"target\"])\n",
    "    if i == 3:\n",
    "        break"
   ]
  },
  {
   "cell_type": "code",
   "execution_count": 102,
   "metadata": {},
   "outputs": [],
   "source": [
    "train_dataset = TimeSeriesDataset(\n",
    "    df, train_df, feature_columns=feature_columns, transform=transforms.Compose([ToNumpy(), PadAndMask(), ToTensor()])\n",
    ")\n",
    "eval_dataset = TimeSeriesDataset(\n",
    "    df, eval_df, feature_columns=feature_columns, transform=transforms.Compose([ToNumpy(), PadAndMask(), ToTensor()])\n",
    ")\n"
   ]
  },
  {
   "cell_type": "code",
   "execution_count": 103,
   "metadata": {},
   "outputs": [],
   "source": [
    "train_dataloader = DataLoader(train_dataset, batch_size=32, shuffle=False, num_workers=0)\n",
    "eval_dataloader = DataLoader(eval_dataset, batch_size=32, shuffle=False, num_workers=0)"
   ]
  },
  {
   "cell_type": "code",
   "execution_count": 104,
   "metadata": {},
   "outputs": [
    {
     "name": "stdout",
     "output_type": "stream",
     "text": [
      "0 torch.Size([32, 5, 11]) torch.Size([32, 1])\n"
     ]
    }
   ],
   "source": [
    "for i, sample in enumerate(train_dataloader):\n",
    "    print(i, sample[\"window\"].shape, sample[\"target\"].shape)\n",
    "    if i == 0:\n",
    "        break"
   ]
  },
  {
   "cell_type": "markdown",
   "metadata": {},
   "source": [
    "### Building the Transformer Model"
   ]
  },
  {
   "cell_type": "code",
   "execution_count": 167,
   "metadata": {},
   "outputs": [],
   "source": [
    "import math\n",
    "\n",
    "from torch import nn, Tensor\n",
    "from torch.nn import TransformerEncoder, TransformerEncoderLayer\n"
   ]
  },
  {
   "cell_type": "code",
   "execution_count": 168,
   "metadata": {},
   "outputs": [],
   "source": [
    "class PositionalEncoding(nn.Module):\n",
    "\n",
    "    def __init__(self, d_model: int, dropout: float = 0.1, max_len: int = 5000):\n",
    "        super().__init__()\n",
    "        self.dropout = nn.Dropout(p=dropout)\n",
    "\n",
    "        position = torch.arange(max_len).unsqueeze(1)\n",
    "        div_term = torch.exp(torch.arange(0, d_model, 2) * (-math.log(10000.0) / d_model))\n",
    "        pe = torch.zeros(max_len, 1, d_model)\n",
    "        pe[:, 0, 0::2] = torch.sin(position * div_term)\n",
    "        pe[:, 0, 1::2] = torch.cos(position * div_term)\n",
    "        self.register_buffer('pe', pe)\n",
    "\n",
    "    def forward(self, x: Tensor) -> Tensor:\n",
    "        \"\"\"\n",
    "        Arguments:\n",
    "            x: Tensor, shape ``[seq_len, batch_size, embedding_dim]``\n",
    "        \"\"\"\n",
    "        x = x + self.pe[:x.size(0)]\n",
    "        return self.dropout(x)\n",
    "\n",
    "\n",
    "class TimeSeriesTransformerModel(nn.Module):\n",
    "    def __init__(\n",
    "            self,\n",
    "            n_features: int,\n",
    "            d_model: int,\n",
    "            nhead: int, \n",
    "            d_hid: int, \n",
    "            nlayers: int,\n",
    "            dropout: float = 0.1,\n",
    "            device: str = \"cpu\",\n",
    "    ):\n",
    "        super().__init__()\n",
    "        self.d_model = d_model\n",
    "        self.embedding = nn.Linear(n_features, d_model)\n",
    "        self.pos_encoder = PositionalEncoding(d_model, dropout)\n",
    "        self.encoder_layers = TransformerEncoderLayer(d_model, nhead, d_hid, dropout)\n",
    "        self.transformer_encoder = TransformerEncoder(self.encoder_layers, nlayers)\n",
    "        self.linear = nn.Linear(d_model, 1)\n",
    "        self.device = device\n",
    "\n",
    "    def init_weights(self) -> None:\n",
    "        initrange = 0.1\n",
    "        self.linear.bias.data.zero_()\n",
    "        self.linear.weight.data.uniform_(-initrange, initrange)\n",
    "\n",
    "    def forward(self, window: Tensor, mask: Tensor) -> Tensor:\n",
    "        \"\"\"\n",
    "        Arguments:\n",
    "            src: Tensor, shape ``[batch_size, seq_len, n_features]`` -> ``[seq_len, batch_size, n_features]`` \n",
    "            src_mask: Tensor, shape ``[batch_size, seq_len]``\n",
    "        \n",
    "        Returns:\n",
    "            output: Tensor, shape ``[batch_size, 1]``\n",
    "        \"\"\"\n",
    "        window = window.permute(1, 0, 2)\n",
    "        window = self.embedding(window)\n",
    "        window = self.pos_encoder(window)\n",
    "        output_layer = self.transformer_encoder(window, src_key_padding_mask=mask)\n",
    "        pooled_output = torch.mean(output_layer, dim=0)\n",
    "        final_output = self.linear(pooled_output)\n",
    "        return final_output"
   ]
  },
  {
   "cell_type": "code",
   "execution_count": 169,
   "metadata": {},
   "outputs": [
    {
     "name": "stdout",
     "output_type": "stream",
     "text": [
      "Using mps device\n"
     ]
    }
   ],
   "source": [
    "device = (\n",
    "    \"cuda\"\n",
    "    if torch.cuda.is_available()\n",
    "    else \"mps\"\n",
    "    if torch.backends.mps.is_available()\n",
    "    else \"cpu\"\n",
    ")\n",
    "# device = \"cpu\"\n",
    "print(f\"Using {device} device\")"
   ]
  },
  {
   "cell_type": "code",
   "execution_count": 181,
   "metadata": {},
   "outputs": [],
   "source": [
    "n_features = len(feature_columns)\n",
    "d_model = 256\n",
    "d_hid = 512\n",
    "nlayers = 8\n",
    "nhead = 8\n",
    "dropout = 0.1\n",
    "\n",
    "model = TimeSeriesTransformerModel(\n",
    "    n_features=n_features,\n",
    "    d_model=d_model,\n",
    "    nhead=nhead,\n",
    "    d_hid=d_hid,\n",
    "    nlayers=nlayers,\n",
    "    dropout=dropout,\n",
    "    device=device,\n",
    ")"
   ]
  },
  {
   "cell_type": "code",
   "execution_count": 182,
   "metadata": {},
   "outputs": [
    {
     "name": "stdout",
     "output_type": "stream",
     "text": [
      "torch.Size([32, 5, 11]) torch.Size([32, 5]) torch.Size([32, 1])\n"
     ]
    }
   ],
   "source": [
    "data_iter = iter(train_dataloader)\n",
    "batch = next(data_iter)\n",
    "print(batch['window'].shape, batch['mask'].shape, batch['target'].shape)\n"
   ]
  },
  {
   "cell_type": "code",
   "execution_count": 183,
   "metadata": {},
   "outputs": [],
   "source": [
    "window = batch['window'].to(torch.float32).to(device)\n",
    "mask = batch['mask'].to(torch.float32).to(device)\n",
    "target = batch['target'].to(torch.float32).to(device)\n",
    "model = model.to(device)"
   ]
  },
  {
   "cell_type": "code",
   "execution_count": 184,
   "metadata": {},
   "outputs": [
    {
     "data": {
      "text/plain": [
       "torch.Size([32, 1])"
      ]
     },
     "execution_count": 184,
     "metadata": {},
     "output_type": "execute_result"
    }
   ],
   "source": [
    "output = model(window, mask)\n",
    "output.shape\n"
   ]
  },
  {
   "cell_type": "code",
   "execution_count": 185,
   "metadata": {},
   "outputs": [],
   "source": [
    "learning_rate = 1e-4\n",
    "num_epochs = 30"
   ]
  },
  {
   "cell_type": "code",
   "execution_count": 186,
   "metadata": {},
   "outputs": [
    {
     "name": "stdout",
     "output_type": "stream",
     "text": [
      "9690\n"
     ]
    }
   ],
   "source": [
    "from transformers import AdamW, get_scheduler\n",
    "\n",
    "optimizer = AdamW(model.parameters(), lr=learning_rate)\n",
    "num_training_steps = num_epochs * len(train_dataloader)\n",
    "lr_scheduler = get_scheduler(\n",
    "    \"linear\",\n",
    "    optimizer=optimizer,\n",
    "    num_warmup_steps=0,\n",
    "    num_training_steps=num_training_steps,\n",
    ")\n",
    "print(num_training_steps)"
   ]
  },
  {
   "cell_type": "code",
   "execution_count": 187,
   "metadata": {},
   "outputs": [
    {
     "name": "stderr",
     "output_type": "stream",
     "text": [
      "100%|██████████| 9690/9690 [20:56<00:00,  7.71it/s]  \n"
     ]
    }
   ],
   "source": [
    "from tqdm.auto import tqdm\n",
    "from torch.nn import MSELoss\n",
    "from torcheval.metrics import R2Score\n",
    "\n",
    "mse_loss = MSELoss()\n",
    "\n",
    "progress_bar = tqdm(range(num_training_steps))\n",
    "\n",
    "train_losses, train_r2_scores, eval_losses, eval_r2_scores = [], [], [], []\n",
    "\n",
    "phases = [\"train\", \"eval\"]\n",
    "\n",
    "for epoch in range(num_epochs):\n",
    "    running_loss = 0.0\n",
    "    r2_score = R2Score(device=device)\n",
    "\n",
    "    for phase in phases:\n",
    "        if phase == \"train\":\n",
    "            model.train()\n",
    "            dataloader, losses, r2_scores = train_dataloader, train_losses, train_r2_scores\n",
    "        else:\n",
    "            model.eval()\n",
    "            dataloader, losses, r2_scores = eval_dataloader, eval_losses, eval_r2_scores\n",
    "\n",
    "        for batch in dataloader:\n",
    "            window = batch[\"window\"].to(torch.float32).to(device)\n",
    "            mask = batch[\"mask\"].to(torch.float32).to(device)\n",
    "            target = batch[\"target\"].to(torch.float32).to(device)\n",
    "\n",
    "            outputs = model(window, mask)\n",
    "            loss = mse_loss(outputs, target)\n",
    "\n",
    "            if phase == \"train\":\n",
    "                optimizer.zero_grad()\n",
    "                loss.backward()\n",
    "                optimizer.step()\n",
    "                lr_scheduler.step()\n",
    "                progress_bar.update(1)\n",
    "\n",
    "            running_loss += loss.item() * len(batch)\n",
    "            r2_score.update(outputs, target)\n",
    "\n",
    "        losses.append(running_loss / len(train_dataloader))\n",
    "        r2_scores.append(r2_score.compute().item())\n",
    "\n",
    "progress_bar.close()"
   ]
  },
  {
   "cell_type": "code",
   "execution_count": 188,
   "metadata": {},
   "outputs": [
    {
     "data": {
      "image/png": "[encoded data removed]",
      "text/plain": [
       "<Figure size 640x480 with 1 Axes>"
      ]
     },
     "metadata": {},
     "output_type": "display_data"
    }
   ],
   "source": [
    "# Plot MSE\n",
    "plt.plot(train_losses, label = \"train\")\n",
    "plt.plot(eval_losses, label = \"eval\")\n",
    "plt.xlabel('epoch')\n",
    "plt.ylabel('loss')\n",
    "plt.title('loss over epochs')\n",
    "plt.legend()\n",
    "plt.show()"
   ]
  },
  {
   "cell_type": "code",
   "execution_count": 189,
   "metadata": {},
   "outputs": [
    {
     "data": {
      "image/png": "[encoded data removed]",
      "text/plain": [
       "<Figure size 640x480 with 1 Axes>"
      ]
     },
     "metadata": {},
     "output_type": "display_data"
    }
   ],
   "source": [
    "# Plot R2 scores\n",
    "plt.plot(train_r2_scores, label = \"train\")\n",
    "plt.plot(eval_r2_scores, label = \"eval\")\n",
    "plt.xlabel('epoch')\n",
    "plt.ylabel('r2 score')\n",
    "plt.title('r2 scores over epochs')\n",
    "plt.legend()\n",
    "plt.show()"
   ]
  },
  {
   "cell_type": "code",
   "execution_count": null,
   "metadata": {},
   "outputs": [],
   "source": [
    "# How do I make the model better?\n",
    "# Model is currently underfitting. Make it overfit first.\n",
    "\n",
    "# Basic\n",
    "# Hyperparameter Tuning\n",
    "#   1. Learning rate.\n",
    "#   2. No. of hidden units.\n",
    "#   3. No. of layers.\n",
    "# Alternative Cost Function\n",
    "#   1. Weighted MSE loss - Weighted on count\n",
    "\n",
    "# Advanced\n",
    "# Pretrain on the Time Series Datasets\n"
   ]
  }
 ],
 "metadata": {
  "kernelspec": {
   "display_name": "venv38",
   "language": "python",
   "name": "python3"
  },
  "language_info": {
   "codemirror_mode": {
    "name": "ipython",
    "version": 3
   },
   "file_extension": ".py",
   "mimetype": "text/x-python",
   "name": "python",
   "nbconvert_exporter": "python",
   "pygments_lexer": "ipython3",
   "version": "3.8.18"
  }
 },
 "nbformat": 4,
 "nbformat_minor": 2
}
