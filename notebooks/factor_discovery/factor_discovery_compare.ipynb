{
 "cells": [
  {
   "cell_type": "code",
   "execution_count": 1,
   "metadata": {},
   "outputs": [],
   "source": [
    "import warnings\n",
    "\n",
    "import pandas as pd\n",
    "\n",
    "from jre_utils.datapath import (\n",
    "    factor_data_paths,\n",
    "    get_derived_csv_path,\n",
    "    get_derived_lpa_path,\n",
    "    get_derived_plps_path,\n",
    ")\n",
    "from jre_utils.config import asset_types\n",
    "from jre_utils.visualize import plot_time_series\n",
    "from jre_utils.process import (\n",
    "    get_most_active_municipalities,\n",
    "    get_highest_growth_municipalities,\n",
    "    get_cumulative_growth,\n",
    ")\n",
    "\n",
    "warnings.filterwarnings(\"ignore\")\n",
    "pd.set_option(\"display.max_columns\", None)"
   ]
  },
  {
   "cell_type": "code",
   "execution_count": 3,
   "metadata": {},
   "outputs": [],
   "source": [
    "asset_type = \"building\"\n",
    "\n",
    "factor = \"taxable_income\"\n",
    "factor_column = \"taxable_income_growth\"\n",
    "\n",
    "metrics = {\n",
    "    \"weighted_mean\": \"unit_price_wmean\",\n",
    "    \"weighted_median\": \"unit_price_wmedian\",\n",
    "    \"mean\": \"unit_price_mean\",\n",
    "    \"median\": \"unit_price_median\",\n",
    "}\n",
    "\n",
    "dataset_paths = {\n",
    "    \"main\": get_derived_csv_path(asset_type),\n",
    "    \"lpa\": get_derived_lpa_path(),\n",
    "    \"plps\": get_derived_plps_path()\n",
    "}"
   ]
  },
  {
   "cell_type": "code",
   "execution_count": 4,
   "metadata": {},
   "outputs": [],
   "source": [
    "granularity_columns = [\"area\", \"area_code\"]\n",
    "group_by_columns = granularity_columns + [\"year\"]\n",
    "display_columns = [\"unit_price\", \"total_traded_area\", \"count\"]\n",
    "\n",
    "metric = metrics[\"weighted_median\"]\n",
    "metric_pct_chg = metric + \"_pct_chg\"\n",
    "upcoming_metric = \"upcoming_\" + metric\n",
    "upcoming_metric_pct_chg = \"upcoming_\" + metric_pct_chg"
   ]
  },
  {
   "cell_type": "code",
   "execution_count": 5,
   "metadata": {},
   "outputs": [],
   "source": [
    "core_df_path = dataset_paths[\"main\"]\n",
    "factor_path = factor_data_paths[\"processed\"][factor][\"municipality\"]\n",
    "\n",
    "df = pd.read_csv(core_df_path)\n",
    "factor_df = pd.read_csv(factor_path)\n",
    "\n",
    "# time box\n",
    "# start_year = 1975\n",
    "start_year = 2010\n",
    "end_year = 2022\n",
    "df = df[(df[\"year\"] >= start_year) & (df[\"year\"] <= end_year)]\n",
    "\n",
    "df = df.merge(factor_df, on=group_by_columns, how=\"left\")\n",
    "df = df.sort_values(by=[\"year\", \"area_code\"])\n",
    "\n",
    "# prepare metrics\n",
    "df[metric_pct_chg] = df.groupby(granularity_columns)[metric].pct_change(fill_method=\"ffill\").fillna(0) # fill na with 0 for visualizations\n",
    "\n",
    "# set up target variables\n",
    "df[upcoming_metric] = df.groupby(granularity_columns)[metric].shift(-1)\n",
    "df[upcoming_metric_pct_chg] = df.groupby(granularity_columns)[metric_pct_chg].shift(-1)"
   ]
  },
  {
   "cell_type": "code",
   "execution_count": 6,
   "metadata": {},
   "outputs": [
    {
     "data": {
      "text/html": [
       "<div>\n",
       "<style scoped>\n",
       "    .dataframe tbody tr th:only-of-type {\n",
       "        vertical-align: middle;\n",
       "    }\n",
       "\n",
       "    .dataframe tbody tr th {\n",
       "        vertical-align: top;\n",
       "    }\n",
       "\n",
       "    .dataframe thead th {\n",
       "        text-align: right;\n",
       "    }\n",
       "</style>\n",
       "<table border=\"1\" class=\"dataframe\">\n",
       "  <thead>\n",
       "    <tr style=\"text-align: right;\">\n",
       "      <th></th>\n",
       "      <th>year</th>\n",
       "      <th>area_code</th>\n",
       "      <th>area</th>\n",
       "      <th>taxable_income_growth</th>\n",
       "      <th>unit_price_wmedian_pct_chg</th>\n",
       "      <th>upcoming_unit_price_wmedian_pct_chg</th>\n",
       "    </tr>\n",
       "  </thead>\n",
       "  <tbody>\n",
       "    <tr>\n",
       "      <th>2434</th>\n",
       "      <td>2010</td>\n",
       "      <td>13101</td>\n",
       "      <td>Tokyo-to Chiyoda-ku</td>\n",
       "      <td>-0.034085</td>\n",
       "      <td>0.000000</td>\n",
       "      <td>-0.400000</td>\n",
       "    </tr>\n",
       "    <tr>\n",
       "      <th>2379</th>\n",
       "      <td>2011</td>\n",
       "      <td>13101</td>\n",
       "      <td>Tokyo-to Chiyoda-ku</td>\n",
       "      <td>0.075307</td>\n",
       "      <td>-0.400000</td>\n",
       "      <td>-0.044261</td>\n",
       "    </tr>\n",
       "    <tr>\n",
       "      <th>2322</th>\n",
       "      <td>2012</td>\n",
       "      <td>13101</td>\n",
       "      <td>Tokyo-to Chiyoda-ku</td>\n",
       "      <td>-0.060839</td>\n",
       "      <td>-0.044261</td>\n",
       "      <td>0.525820</td>\n",
       "    </tr>\n",
       "    <tr>\n",
       "      <th>2263</th>\n",
       "      <td>2013</td>\n",
       "      <td>13101</td>\n",
       "      <td>Tokyo-to Chiyoda-ku</td>\n",
       "      <td>0.062684</td>\n",
       "      <td>0.525820</td>\n",
       "      <td>0.186464</td>\n",
       "    </tr>\n",
       "    <tr>\n",
       "      <th>2205</th>\n",
       "      <td>2014</td>\n",
       "      <td>13101</td>\n",
       "      <td>Tokyo-to Chiyoda-ku</td>\n",
       "      <td>0.203222</td>\n",
       "      <td>0.186464</td>\n",
       "      <td>-0.133050</td>\n",
       "    </tr>\n",
       "    <tr>\n",
       "      <th>2148</th>\n",
       "      <td>2015</td>\n",
       "      <td>13101</td>\n",
       "      <td>Tokyo-to Chiyoda-ku</td>\n",
       "      <td>-0.002293</td>\n",
       "      <td>-0.133050</td>\n",
       "      <td>0.187606</td>\n",
       "    </tr>\n",
       "    <tr>\n",
       "      <th>2090</th>\n",
       "      <td>2016</td>\n",
       "      <td>13101</td>\n",
       "      <td>Tokyo-to Chiyoda-ku</td>\n",
       "      <td>0.123044</td>\n",
       "      <td>0.187606</td>\n",
       "      <td>0.156003</td>\n",
       "    </tr>\n",
       "    <tr>\n",
       "      <th>2032</th>\n",
       "      <td>2017</td>\n",
       "      <td>13101</td>\n",
       "      <td>Tokyo-to Chiyoda-ku</td>\n",
       "      <td>0.061411</td>\n",
       "      <td>0.156003</td>\n",
       "      <td>-0.233166</td>\n",
       "    </tr>\n",
       "    <tr>\n",
       "      <th>1975</th>\n",
       "      <td>2018</td>\n",
       "      <td>13101</td>\n",
       "      <td>Tokyo-to Chiyoda-ku</td>\n",
       "      <td>0.086993</td>\n",
       "      <td>-0.233166</td>\n",
       "      <td>0.398819</td>\n",
       "    </tr>\n",
       "    <tr>\n",
       "      <th>1917</th>\n",
       "      <td>2019</td>\n",
       "      <td>13101</td>\n",
       "      <td>Tokyo-to Chiyoda-ku</td>\n",
       "      <td>0.138419</td>\n",
       "      <td>0.398819</td>\n",
       "      <td>-0.069217</td>\n",
       "    </tr>\n",
       "    <tr>\n",
       "      <th>1858</th>\n",
       "      <td>2020</td>\n",
       "      <td>13101</td>\n",
       "      <td>Tokyo-to Chiyoda-ku</td>\n",
       "      <td>-0.028845</td>\n",
       "      <td>-0.069217</td>\n",
       "      <td>-0.078443</td>\n",
       "    </tr>\n",
       "    <tr>\n",
       "      <th>1800</th>\n",
       "      <td>2021</td>\n",
       "      <td>13101</td>\n",
       "      <td>Tokyo-to Chiyoda-ku</td>\n",
       "      <td>-0.006847</td>\n",
       "      <td>-0.078443</td>\n",
       "      <td>0.319422</td>\n",
       "    </tr>\n",
       "    <tr>\n",
       "      <th>1743</th>\n",
       "      <td>2022</td>\n",
       "      <td>13101</td>\n",
       "      <td>Tokyo-to Chiyoda-ku</td>\n",
       "      <td>NaN</td>\n",
       "      <td>0.319422</td>\n",
       "      <td>NaN</td>\n",
       "    </tr>\n",
       "  </tbody>\n",
       "</table>\n",
       "</div>"
      ],
      "text/plain": [
       "      year  area_code                 area  taxable_income_growth  \\\n",
       "2434  2010      13101  Tokyo-to Chiyoda-ku              -0.034085   \n",
       "2379  2011      13101  Tokyo-to Chiyoda-ku               0.075307   \n",
       "2322  2012      13101  Tokyo-to Chiyoda-ku              -0.060839   \n",
       "2263  2013      13101  Tokyo-to Chiyoda-ku               0.062684   \n",
       "2205  2014      13101  Tokyo-to Chiyoda-ku               0.203222   \n",
       "2148  2015      13101  Tokyo-to Chiyoda-ku              -0.002293   \n",
       "2090  2016      13101  Tokyo-to Chiyoda-ku               0.123044   \n",
       "2032  2017      13101  Tokyo-to Chiyoda-ku               0.061411   \n",
       "1975  2018      13101  Tokyo-to Chiyoda-ku               0.086993   \n",
       "1917  2019      13101  Tokyo-to Chiyoda-ku               0.138419   \n",
       "1858  2020      13101  Tokyo-to Chiyoda-ku              -0.028845   \n",
       "1800  2021      13101  Tokyo-to Chiyoda-ku              -0.006847   \n",
       "1743  2022      13101  Tokyo-to Chiyoda-ku                    NaN   \n",
       "\n",
       "      unit_price_wmedian_pct_chg  upcoming_unit_price_wmedian_pct_chg  \n",
       "2434                    0.000000                            -0.400000  \n",
       "2379                   -0.400000                            -0.044261  \n",
       "2322                   -0.044261                             0.525820  \n",
       "2263                    0.525820                             0.186464  \n",
       "2205                    0.186464                            -0.133050  \n",
       "2148                   -0.133050                             0.187606  \n",
       "2090                    0.187606                             0.156003  \n",
       "2032                    0.156003                            -0.233166  \n",
       "1975                   -0.233166                             0.398819  \n",
       "1917                    0.398819                            -0.069217  \n",
       "1858                   -0.069217                            -0.078443  \n",
       "1800                   -0.078443                             0.319422  \n",
       "1743                    0.319422                                  NaN  "
      ]
     },
     "execution_count": 6,
     "metadata": {},
     "output_type": "execute_result"
    }
   ],
   "source": [
    "df[df[\"area_code\"] == 13101][[\"year\", \"area_code\", \"area\", factor_column, metric_pct_chg, upcoming_metric_pct_chg]] # Tokyo-to Chiyoda-ku"
   ]
  },
  {
   "cell_type": "code",
   "execution_count": 7,
   "metadata": {},
   "outputs": [],
   "source": [
    "comparables = [\n",
    "    13102,  # Tokyo-to Chuo-ku\n",
    "    13103,  # Tokyo-to Minato-ku\n",
    "    15461,  # Niigata-ken Yuzawa-Machi\n",
    "    20321,  # Nagano-ken Karuisawa-machi\n",
    "]\n",
    "\n",
    "frequency_n = 500\n",
    "return_n = 10\n",
    "factor_n = 10\n",
    "\n",
    "frequency_df = get_most_active_municipalities(\n",
    "    df.copy(), n=frequency_n, keep=comparables\n",
    ")\n",
    "\n",
    "return_df = get_highest_growth_municipalities(\n",
    "    frequency_df.copy(),\n",
    "    column=metric_pct_chg,\n",
    "    cumulative_column=\"return_growth\",\n",
    "    end_year=2021,\n",
    "    n=return_n,\n",
    "    keep=comparables,\n",
    ")\n",
    "\n",
    "return_df[\"factor_growth\"] = get_cumulative_growth(return_df.copy(), factor_column)\n",
    "\n",
    "factor_growth_df = get_highest_growth_municipalities(\n",
    "    frequency_df.copy(),\n",
    "    column=factor_column,\n",
    "    cumulative_column=\"factor_growth\",\n",
    "    end_year=2021,\n",
    "    n=factor_n,\n",
    "    keep=comparables,\n",
    ")\n",
    "\n",
    "factor_growth_df[\"return_growth\"] = get_cumulative_growth(\n",
    "    factor_growth_df.copy(), metric_pct_chg\n",
    ")\n",
    "\n",
    "# Tokyo Area Codes are 13000 + n. Therefore, if area_code // 1000 == 13, it is in Tokyo\n",
    "tokyo_df = frequency_df[frequency_df[\"area_code\"] // 1000 == 13]\n",
    "tokyo_df[\"return_growth\"] = get_cumulative_growth(tokyo_df.copy(), metric_pct_chg)\n",
    "tokyo_df[\"factor_growth\"] = get_cumulative_growth(tokyo_df.copy(), factor_column)"
   ]
  },
  {
   "cell_type": "code",
   "execution_count": 8,
   "metadata": {},
   "outputs": [],
   "source": [
    "plot_df = tokyo_df.copy()"
   ]
  },
  {
   "cell_type": "code",
   "execution_count": 9,
   "metadata": {},
   "outputs": [
    {
     "data": {
      "application/vnd.plotly.v1+json": {
       "config": {
        "plotlyServerURL": "https://plot.ly"
       },
       "data": [
        {
         "hovertemplate": "variable=('Tokyo-to Chiyoda-ku', 13101)<br>year=%{x}<br>value=%{y}<extra></extra>",
         "legendgroup": "('Tokyo-to Chiyoda-ku', 13101)",
         "line": {
          "color": "#636efa",
          "dash": "solid"
         },
         "marker": {
          "symbol": "circle"
         },
         "mode": "lines+markers",
         "name": "('Tokyo-to Chiyoda-ku', 13101)",
         "orientation": "v",
         "showlegend": true,
         "type": "scatter",
         "visible": "legendonly",
         "x": [
          2010,
          2011,
          2012,
          2013,
          2014,
          2015,
          2016,
          2017,
          2018,
          2019,
          2020,
          2021,
          2022
         ],
         "xaxis": "x",
         "y": [
          1,
          0.6000000000000001,
          0.5734433374844333,
          0.8749714285714287,
          1.038122096881221,
          0.9,
          1.0688457854406133,
          1.2355885078776647,
          0.94749173553719,
          1.3253694725159186,
          1.2336309523809528,
          1.13686170212766,
          1.5000000000000007
         ],
         "yaxis": "y"
        },
        {
         "hovertemplate": "variable=('Tokyo-to Chuo-ku', 13102)<br>year=%{x}<br>value=%{y}<extra></extra>",
         "legendgroup": "('Tokyo-to Chuo-ku', 13102)",
         "line": {
          "color": "#EF553B",
          "dash": "solid"
         },
         "marker": {
          "symbol": "circle"
         },
         "mode": "lines+markers",
         "name": "('Tokyo-to Chuo-ku', 13102)",
         "orientation": "v",
         "showlegend": true,
         "type": "scatter",
         "visible": "legendonly",
         "x": [
          2010,
          2011,
          2012,
          2013,
          2014,
          2015,
          2016,
          2017,
          2018,
          2019,
          2020,
          2021,
          2022
         ],
         "xaxis": "x",
         "y": [
          1,
          1.242524642357826,
          1.0297737464765204,
          1.2024944054856928,
          1.2677888625516816,
          1.4933543461929242,
          1.5591660650068533,
          2.050486191843554,
          2.253015236625119,
          2.571472043336662,
          2.0610700424399147,
          1.5746880686089544,
          1.9244240707764841
         ],
         "yaxis": "y"
        },
        {
         "hovertemplate": "variable=('Tokyo-to Minato-ku', 13103)<br>year=%{x}<br>value=%{y}<extra></extra>",
         "legendgroup": "('Tokyo-to Minato-ku', 13103)",
         "line": {
          "color": "#00cc96",
          "dash": "solid"
         },
         "marker": {
          "symbol": "circle"
         },
         "mode": "lines+markers",
         "name": "('Tokyo-to Minato-ku', 13103)",
         "orientation": "v",
         "showlegend": true,
         "type": "scatter",
         "visible": "legendonly",
         "x": [
          2010,
          2011,
          2012,
          2013,
          2014,
          2015,
          2016,
          2017,
          2018,
          2019,
          2020,
          2021,
          2022
         ],
         "xaxis": "x",
         "y": [
          1,
          0.7729666583679643,
          0.7786549091369228,
          0.960785219094861,
          0.932394597694065,
          1.2654297580534108,
          1.0802486045706021,
          1.381510277464528,
          1.9339970033039342,
          1.481960696069607,
          1.4621343343095305,
          1.7843202589489715,
          1.667673096423566
         ],
         "yaxis": "y"
        },
        {
         "hovertemplate": "variable=('Tokyo-to Shinjuku-ku', 13104)<br>year=%{x}<br>value=%{y}<extra></extra>",
         "legendgroup": "('Tokyo-to Shinjuku-ku', 13104)",
         "line": {
          "color": "#ab63fa",
          "dash": "solid"
         },
         "marker": {
          "symbol": "circle"
         },
         "mode": "lines+markers",
         "name": "('Tokyo-to Shinjuku-ku', 13104)",
         "orientation": "v",
         "showlegend": true,
         "type": "scatter",
         "visible": "legendonly",
         "x": [
          2010,
          2011,
          2012,
          2013,
          2014,
          2015,
          2016,
          2017,
          2018,
          2019,
          2020,
          2021,
          2022
         ],
         "xaxis": "x",
         "y": [
          1,
          1.1229559885101967,
          0.8216230518271312,
          0.934186480630758,
          1.1263338163614807,
          1.1525194142767583,
          1.335546616321665,
          1.3871677458484244,
          1.4543072347850032,
          1.3717626403424785,
          1.48292062387307,
          1.4089799075550233,
          1.431007113687261
         ],
         "yaxis": "y"
        },
        {
         "hovertemplate": "variable=('Tokyo-to Bunkyo-ku', 13105)<br>year=%{x}<br>value=%{y}<extra></extra>",
         "legendgroup": "('Tokyo-to Bunkyo-ku', 13105)",
         "line": {
          "color": "#FFA15A",
          "dash": "solid"
         },
         "marker": {
          "symbol": "circle"
         },
         "mode": "lines+markers",
         "name": "('Tokyo-to Bunkyo-ku', 13105)",
         "orientation": "v",
         "showlegend": true,
         "type": "scatter",
         "visible": "legendonly",
         "x": [
          2010,
          2011,
          2012,
          2013,
          2014,
          2015,
          2016,
          2017,
          2018,
          2019,
          2020,
          2021,
          2022
         ],
         "xaxis": "x",
         "y": [
          1,
          0.9949261154345678,
          1.006691122334923,
          1.0052997178630585,
          1.1026934980162881,
          1.136576280033138,
          1.4283709048033464,
          1.1635134891254877,
          1.3113170534693486,
          1.4125764188367707,
          1.1924346392777936,
          1.4730074955784507,
          1.7854636310041827
         ],
         "yaxis": "y"
        },
        {
         "hovertemplate": "variable=('Tokyo-to Taito-ku', 13106)<br>year=%{x}<br>value=%{y}<extra></extra>",
         "legendgroup": "('Tokyo-to Taito-ku', 13106)",
         "line": {
          "color": "#19d3f3",
          "dash": "solid"
         },
         "marker": {
          "symbol": "circle"
         },
         "mode": "lines+markers",
         "name": "('Tokyo-to Taito-ku', 13106)",
         "orientation": "v",
         "showlegend": true,
         "type": "scatter",
         "visible": "legendonly",
         "x": [
          2010,
          2011,
          2012,
          2013,
          2014,
          2015,
          2016,
          2017,
          2018,
          2019,
          2020,
          2021,
          2022
         ],
         "xaxis": "x",
         "y": [
          1,
          1.0892601821969852,
          1.1034212887686463,
          1.1498003579787968,
          1.2483167390230585,
          1.1563403552251135,
          1.1313924432687885,
          1.519647502737538,
          1.560512185047501,
          1.9167454516872537,
          1.6715504045484362,
          1.6029785364681113,
          2.0287525281868257
         ],
         "yaxis": "y"
        },
        {
         "hovertemplate": "variable=('Tokyo-to Sumida-ku', 13107)<br>year=%{x}<br>value=%{y}<extra></extra>",
         "legendgroup": "('Tokyo-to Sumida-ku', 13107)",
         "line": {
          "color": "#FF6692",
          "dash": "solid"
         },
         "marker": {
          "symbol": "circle"
         },
         "mode": "lines+markers",
         "name": "('Tokyo-to Sumida-ku', 13107)",
         "orientation": "v",
         "showlegend": true,
         "type": "scatter",
         "visible": "legendonly",
         "x": [
          2010,
          2011,
          2012,
          2013,
          2014,
          2015,
          2016,
          2017,
          2018,
          2019,
          2020,
          2021,
          2022
         ],
         "xaxis": "x",
         "y": [
          1,
          0.8645833333333334,
          0.8638528138528141,
          0.8671156004489338,
          1.027777777777778,
          1.0579428234600652,
          1.09457671957672,
          1.333333333333334,
          1.4165457184325112,
          1.5495495495495497,
          1.3333333333333337,
          1.255163161574363,
          1.6666666666666672
         ],
         "yaxis": "y"
        },
        {
         "hovertemplate": "variable=('Tokyo-to Koto-ku', 13108)<br>year=%{x}<br>value=%{y}<extra></extra>",
         "legendgroup": "('Tokyo-to Koto-ku', 13108)",
         "line": {
          "color": "#B6E880",
          "dash": "solid"
         },
         "marker": {
          "symbol": "circle"
         },
         "mode": "lines+markers",
         "name": "('Tokyo-to Koto-ku', 13108)",
         "orientation": "v",
         "showlegend": true,
         "type": "scatter",
         "visible": "legendonly",
         "x": [
          2010,
          2011,
          2012,
          2013,
          2014,
          2015,
          2016,
          2017,
          2018,
          2019,
          2020,
          2021,
          2022
         ],
         "xaxis": "x",
         "y": [
          1,
          0.951145337407172,
          0.8680431131019039,
          1.250102913036844,
          0.9936289533738627,
          1.3316349384098547,
          1.4652322295099454,
          1.522956326987682,
          1.3074308110702288,
          1.4991601343784997,
          1.6470793921984341,
          1.6961926091825308,
          1.4821866263635581
         ],
         "yaxis": "y"
        },
        {
         "hovertemplate": "variable=('Tokyo-to Shinagawa-ku', 13109)<br>year=%{x}<br>value=%{y}<extra></extra>",
         "legendgroup": "('Tokyo-to Shinagawa-ku', 13109)",
         "line": {
          "color": "#FF97FF",
          "dash": "solid"
         },
         "marker": {
          "symbol": "circle"
         },
         "mode": "lines+markers",
         "name": "('Tokyo-to Shinagawa-ku', 13109)",
         "orientation": "v",
         "showlegend": true,
         "type": "scatter",
         "visible": "legendonly",
         "x": [
          2010,
          2011,
          2012,
          2013,
          2014,
          2015,
          2016,
          2017,
          2018,
          2019,
          2020,
          2021,
          2022
         ],
         "xaxis": "x",
         "y": [
          1,
          0.9304762770930236,
          0.9971553588391036,
          0.94322701190845,
          1.234625111118169,
          1.1191819892310129,
          1.0420110043289355,
          1.1202085733341418,
          1.374801430910083,
          1.2729642878797065,
          1.131523811448628,
          1.3220596880362947,
          1.3366125022736919
         ],
         "yaxis": "y"
        },
        {
         "hovertemplate": "variable=('Tokyo-to Meguro-ku', 13110)<br>year=%{x}<br>value=%{y}<extra></extra>",
         "legendgroup": "('Tokyo-to Meguro-ku', 13110)",
         "line": {
          "color": "#FECB52",
          "dash": "solid"
         },
         "marker": {
          "symbol": "circle"
         },
         "mode": "lines+markers",
         "name": "('Tokyo-to Meguro-ku', 13110)",
         "orientation": "v",
         "showlegend": true,
         "type": "scatter",
         "visible": "legendonly",
         "x": [
          2010,
          2011,
          2012,
          2013,
          2014,
          2015,
          2016,
          2017,
          2018,
          2019,
          2020,
          2021,
          2022
         ],
         "xaxis": "x",
         "y": [
          1,
          0.9761205099608614,
          0.9353339984406029,
          1.0480299840749332,
          1.0495746821549437,
          1.1380225276512685,
          1.1273209549071617,
          1.202005968169761,
          1.2485450404858298,
          1.3165286540972685,
          1.3082901294108187,
          1.3337139267266303,
          1.5970526981100792
         ],
         "yaxis": "y"
        },
        {
         "hovertemplate": "variable=('Tokyo-to Ota-ku', 13111)<br>year=%{x}<br>value=%{y}<extra></extra>",
         "legendgroup": "('Tokyo-to Ota-ku', 13111)",
         "line": {
          "color": "#636efa",
          "dash": "solid"
         },
         "marker": {
          "symbol": "circle"
         },
         "mode": "lines+markers",
         "name": "('Tokyo-to Ota-ku', 13111)",
         "orientation": "v",
         "showlegend": true,
         "type": "scatter",
         "visible": "legendonly",
         "x": [
          2010,
          2011,
          2012,
          2013,
          2014,
          2015,
          2016,
          2017,
          2018,
          2019,
          2020,
          2021,
          2022
         ],
         "xaxis": "x",
         "y": [
          1,
          0.9527445871889317,
          0.9363922148653464,
          1.0716843876488111,
          0.9753251348644797,
          1.1432935046267183,
          1.106954210499791,
          1.1043440931063875,
          1.3100238073847814,
          1.302583308668094,
          1.33137939257941,
          1.3610636959841886,
          1.3858103086384466
         ],
         "yaxis": "y"
        },
        {
         "hovertemplate": "variable=('Tokyo-to Setagaya-ku', 13112)<br>year=%{x}<br>value=%{y}<extra></extra>",
         "legendgroup": "('Tokyo-to Setagaya-ku', 13112)",
         "line": {
          "color": "#EF553B",
          "dash": "solid"
         },
         "marker": {
          "symbol": "circle"
         },
         "mode": "lines+markers",
         "name": "('Tokyo-to Setagaya-ku', 13112)",
         "orientation": "v",
         "showlegend": true,
         "type": "scatter",
         "visible": "legendonly",
         "x": [
          2010,
          2011,
          2012,
          2013,
          2014,
          2015,
          2016,
          2017,
          2018,
          2019,
          2020,
          2021,
          2022
         ],
         "xaxis": "x",
         "y": [
          1,
          0.975,
          0.9027777777777777,
          0.9533770161290323,
          1.0340909090909092,
          1.0339769439817657,
          1.0833333333333335,
          1.0833333333333335,
          1.2458333333333333,
          1.1916666666666669,
          1.1607142857142858,
          1.231632968050625,
          1.4130434782608694
         ],
         "yaxis": "y"
        },
        {
         "hovertemplate": "variable=('Tokyo-to Shibuya-ku', 13113)<br>year=%{x}<br>value=%{y}<extra></extra>",
         "legendgroup": "('Tokyo-to Shibuya-ku', 13113)",
         "line": {
          "color": "#00cc96",
          "dash": "solid"
         },
         "marker": {
          "symbol": "circle"
         },
         "mode": "lines+markers",
         "name": "('Tokyo-to Shibuya-ku', 13113)",
         "orientation": "v",
         "showlegend": true,
         "type": "scatter",
         "visible": "legendonly",
         "x": [
          2010,
          2011,
          2012,
          2013,
          2014,
          2015,
          2016,
          2017,
          2018,
          2019,
          2020,
          2021,
          2022
         ],
         "xaxis": "x",
         "y": [
          1,
          0.9150253082181935,
          0.8134782916637155,
          0.9761739499964586,
          0.9908228762554985,
          1.1612825058260408,
          1.2185436138501744,
          1.265410675921335,
          1.22966377322047,
          1.3142050796597802,
          1.814679330171157,
          1.8740029080546448,
          1.7160813540868782
         ],
         "yaxis": "y"
        },
        {
         "hovertemplate": "variable=('Tokyo-to Nakano-ku', 13114)<br>year=%{x}<br>value=%{y}<extra></extra>",
         "legendgroup": "('Tokyo-to Nakano-ku', 13114)",
         "line": {
          "color": "#ab63fa",
          "dash": "solid"
         },
         "marker": {
          "symbol": "circle"
         },
         "mode": "lines+markers",
         "name": "('Tokyo-to Nakano-ku', 13114)",
         "orientation": "v",
         "showlegend": true,
         "type": "scatter",
         "visible": "legendonly",
         "x": [
          2010,
          2011,
          2012,
          2013,
          2014,
          2015,
          2016,
          2017,
          2018,
          2019,
          2020,
          2021,
          2022
         ],
         "xaxis": "x",
         "y": [
          1,
          1.0888998212596335,
          1.0951460982278005,
          1.0052124459952834,
          1.000314816664699,
          1.0242008188438427,
          1.2353527006123788,
          1.4330091327103596,
          1.323592179227549,
          1.273736873809978,
          1.417022215408317,
          1.438756092727197,
          1.6422469963765813
         ],
         "yaxis": "y"
        },
        {
         "hovertemplate": "variable=('Tokyo-to Suginami-ku', 13115)<br>year=%{x}<br>value=%{y}<extra></extra>",
         "legendgroup": "('Tokyo-to Suginami-ku', 13115)",
         "line": {
          "color": "#FFA15A",
          "dash": "solid"
         },
         "marker": {
          "symbol": "circle"
         },
         "mode": "lines+markers",
         "name": "('Tokyo-to Suginami-ku', 13115)",
         "orientation": "v",
         "showlegend": true,
         "type": "scatter",
         "visible": "legendonly",
         "x": [
          2010,
          2011,
          2012,
          2013,
          2014,
          2015,
          2016,
          2017,
          2018,
          2019,
          2020,
          2021,
          2022
         ],
         "xaxis": "x",
         "y": [
          1,
          0.9988444316047956,
          1.0124147578247946,
          1.0504201680672272,
          1.0027213796477497,
          1.027313955885385,
          1.0874898048811092,
          1.0782191664544607,
          1.1119396476539336,
          1.1849398996382312,
          1.2142857142857146,
          1.238238275589719,
          1.3571428571428574
         ],
         "yaxis": "y"
        },
        {
         "hovertemplate": "variable=('Tokyo-to Toshima-ku', 13116)<br>year=%{x}<br>value=%{y}<extra></extra>",
         "legendgroup": "('Tokyo-to Toshima-ku', 13116)",
         "line": {
          "color": "#19d3f3",
          "dash": "solid"
         },
         "marker": {
          "symbol": "circle"
         },
         "mode": "lines+markers",
         "name": "('Tokyo-to Toshima-ku', 13116)",
         "orientation": "v",
         "showlegend": true,
         "type": "scatter",
         "visible": "legendonly",
         "x": [
          2010,
          2011,
          2012,
          2013,
          2014,
          2015,
          2016,
          2017,
          2018,
          2019,
          2020,
          2021,
          2022
         ],
         "xaxis": "x",
         "y": [
          1,
          0.8881846154307724,
          0.9171625761119744,
          0.8813174799715513,
          1.0208678505537103,
          1.060937523049459,
          1.1436584981991262,
          1.1785992566094319,
          1.3115488242678746,
          1.189307744665897,
          1.2080901413050327,
          1.4342243398207222,
          1.5435715620725206
         ],
         "yaxis": "y"
        },
        {
         "hovertemplate": "variable=('Tokyo-to Kita-ku', 13117)<br>year=%{x}<br>value=%{y}<extra></extra>",
         "legendgroup": "('Tokyo-to Kita-ku', 13117)",
         "line": {
          "color": "#FF6692",
          "dash": "solid"
         },
         "marker": {
          "symbol": "circle"
         },
         "mode": "lines+markers",
         "name": "('Tokyo-to Kita-ku', 13117)",
         "orientation": "v",
         "showlegend": true,
         "type": "scatter",
         "visible": "legendonly",
         "x": [
          2010,
          2011,
          2012,
          2013,
          2014,
          2015,
          2016,
          2017,
          2018,
          2019,
          2020,
          2021,
          2022
         ],
         "xaxis": "x",
         "y": [
          1,
          0.875,
          1.0174107142857143,
          1.0362980769230772,
          0.9414473684210527,
          1.0638957816377173,
          1.2606864525958048,
          1.3125000000000002,
          1.0781250000000002,
          1.2097238895558227,
          1.294519794721408,
          1.3508928571428576,
          1.2984884270193673
         ],
         "yaxis": "y"
        },
        {
         "hovertemplate": "variable=('Tokyo-to Arakawa-ku', 13118)<br>year=%{x}<br>value=%{y}<extra></extra>",
         "legendgroup": "('Tokyo-to Arakawa-ku', 13118)",
         "line": {
          "color": "#B6E880",
          "dash": "solid"
         },
         "marker": {
          "symbol": "circle"
         },
         "mode": "lines+markers",
         "name": "('Tokyo-to Arakawa-ku', 13118)",
         "orientation": "v",
         "showlegend": true,
         "type": "scatter",
         "visible": "legendonly",
         "x": [
          2010,
          2011,
          2012,
          2013,
          2014,
          2015,
          2016,
          2017,
          2018,
          2019,
          2020,
          2021,
          2022
         ],
         "xaxis": "x",
         "y": [
          1,
          0.9946576104226247,
          0.884779298534696,
          0.8563711471242454,
          0.9251391939873725,
          0.946767726221891,
          1.2372626439594983,
          1.411826047408568,
          1.3668255481410867,
          1.2788220924690181,
          1.2704407127667372,
          1.4362567524626624,
          1.4979220377610445
         ],
         "yaxis": "y"
        },
        {
         "hovertemplate": "variable=('Tokyo-to Itabashi-ku', 13119)<br>year=%{x}<br>value=%{y}<extra></extra>",
         "legendgroup": "('Tokyo-to Itabashi-ku', 13119)",
         "line": {
          "color": "#FF97FF",
          "dash": "solid"
         },
         "marker": {
          "symbol": "circle"
         },
         "mode": "lines+markers",
         "name": "('Tokyo-to Itabashi-ku', 13119)",
         "orientation": "v",
         "showlegend": true,
         "type": "scatter",
         "visible": "legendonly",
         "x": [
          2010,
          2011,
          2012,
          2013,
          2014,
          2015,
          2016,
          2017,
          2018,
          2019,
          2020,
          2021,
          2022
         ],
         "xaxis": "x",
         "y": [
          1,
          1.1666666666666665,
          0.9421816327476702,
          0.9504545454545451,
          1.0656038607490512,
          1.0222402597402598,
          1.0825429975429977,
          1.125,
          1.32,
          1.036414076706894,
          1.311948529411765,
          1.4017027863777092,
          1.4157857142857142
         ],
         "yaxis": "y"
        },
        {
         "hovertemplate": "variable=('Tokyo-to Nerima-ku', 13120)<br>year=%{x}<br>value=%{y}<extra></extra>",
         "legendgroup": "('Tokyo-to Nerima-ku', 13120)",
         "line": {
          "color": "#FECB52",
          "dash": "solid"
         },
         "marker": {
          "symbol": "circle"
         },
         "mode": "lines+markers",
         "name": "('Tokyo-to Nerima-ku', 13120)",
         "orientation": "v",
         "showlegend": true,
         "type": "scatter",
         "visible": "legendonly",
         "x": [
          2010,
          2011,
          2012,
          2013,
          2014,
          2015,
          2016,
          2017,
          2018,
          2019,
          2020,
          2021,
          2022
         ],
         "xaxis": "x",
         "y": [
          1,
          0.9655905055191168,
          0.9549365942028987,
          0.9860587002096434,
          0.9768648127410724,
          1.0241656236962866,
          1.0760400313971739,
          1.1298700142450138,
          1.1212797619047616,
          1.0929487179487176,
          1.1687499999999997,
          1.1810162008065634,
          1.2731481481481477
         ],
         "yaxis": "y"
        },
        {
         "hovertemplate": "variable=('Tokyo-to Adachi-ku', 13121)<br>year=%{x}<br>value=%{y}<extra></extra>",
         "legendgroup": "('Tokyo-to Adachi-ku', 13121)",
         "line": {
          "color": "#636efa",
          "dash": "solid"
         },
         "marker": {
          "symbol": "circle"
         },
         "mode": "lines+markers",
         "name": "('Tokyo-to Adachi-ku', 13121)",
         "orientation": "v",
         "showlegend": true,
         "type": "scatter",
         "visible": "legendonly",
         "x": [
          2010,
          2011,
          2012,
          2013,
          2014,
          2015,
          2016,
          2017,
          2018,
          2019,
          2020,
          2021,
          2022
         ],
         "xaxis": "x",
         "y": [
          1,
          1.0046766356668106,
          0.9728696225482116,
          1.0048764169564657,
          1.0134058568210538,
          0.9637610654957257,
          1.1200801575390593,
          1.1248805010713698,
          1.1520824477544613,
          1.073017966045822,
          1.2160870281852647,
          1.3512078090947386,
          1.356404762206641
         ],
         "yaxis": "y"
        },
        {
         "hovertemplate": "variable=('Tokyo-to Katsushika-ku', 13122)<br>year=%{x}<br>value=%{y}<extra></extra>",
         "legendgroup": "('Tokyo-to Katsushika-ku', 13122)",
         "line": {
          "color": "#EF553B",
          "dash": "solid"
         },
         "marker": {
          "symbol": "circle"
         },
         "mode": "lines+markers",
         "name": "('Tokyo-to Katsushika-ku', 13122)",
         "orientation": "v",
         "showlegend": true,
         "type": "scatter",
         "visible": "legendonly",
         "x": [
          2010,
          2011,
          2012,
          2013,
          2014,
          2015,
          2016,
          2017,
          2018,
          2019,
          2020,
          2021,
          2022
         ],
         "xaxis": "x",
         "y": [
          1,
          1.0274838593974174,
          1.0169588414634145,
          0.8963474025974025,
          1.014368206521739,
          1.0363866396761132,
          1.0848214285714284,
          1.0986860795454545,
          1.1685267857142856,
          1.0512595663265305,
          1.1852773826458034,
          1.2749999999999997,
          1.3895680147058822
         ],
         "yaxis": "y"
        },
        {
         "hovertemplate": "variable=('Tokyo-to Edogawa-ku', 13123)<br>year=%{x}<br>value=%{y}<extra></extra>",
         "legendgroup": "('Tokyo-to Edogawa-ku', 13123)",
         "line": {
          "color": "#00cc96",
          "dash": "solid"
         },
         "marker": {
          "symbol": "circle"
         },
         "mode": "lines+markers",
         "name": "('Tokyo-to Edogawa-ku', 13123)",
         "orientation": "v",
         "showlegend": true,
         "type": "scatter",
         "visible": "legendonly",
         "x": [
          2010,
          2011,
          2012,
          2013,
          2014,
          2015,
          2016,
          2017,
          2018,
          2019,
          2020,
          2021,
          2022
         ],
         "xaxis": "x",
         "y": [
          1,
          1.07362221287337,
          1.0443285466277121,
          1.035278562413607,
          1.048313951158924,
          1.0736222128733701,
          1.062883864338986,
          1.1654511284003715,
          1.2468058267045878,
          1.1995920435129523,
          1.317627261253681,
          1.3252471598522222,
          1.520964801570607
         ],
         "yaxis": "y"
        },
        {
         "hovertemplate": "variable=('Tokyo-to Hachioji-shi', 13201)<br>year=%{x}<br>value=%{y}<extra></extra>",
         "legendgroup": "('Tokyo-to Hachioji-shi', 13201)",
         "line": {
          "color": "#ab63fa",
          "dash": "solid"
         },
         "marker": {
          "symbol": "circle"
         },
         "mode": "lines+markers",
         "name": "('Tokyo-to Hachioji-shi', 13201)",
         "orientation": "v",
         "showlegend": true,
         "type": "scatter",
         "visible": "legendonly",
         "x": [
          2010,
          2011,
          2012,
          2013,
          2014,
          2015,
          2016,
          2017,
          2018,
          2019,
          2020,
          2021,
          2022
         ],
         "xaxis": "x",
         "y": [
          1,
          1.0273712622833284,
          0.9718376805382838,
          0.9087122058589759,
          1.0273712622833284,
          0.9845641263548562,
          0.9539876006916621,
          0.904086710809329,
          0.9506503594935954,
          0.9236383550855364,
          0.9806725685431772,
          1.0273712622833286,
          1.0537141151623886
         ],
         "yaxis": "y"
        },
        {
         "hovertemplate": "variable=('Tokyo-to Tachikawa-shi', 13202)<br>year=%{x}<br>value=%{y}<extra></extra>",
         "legendgroup": "('Tokyo-to Tachikawa-shi', 13202)",
         "line": {
          "color": "#FFA15A",
          "dash": "solid"
         },
         "marker": {
          "symbol": "circle"
         },
         "mode": "lines+markers",
         "name": "('Tokyo-to Tachikawa-shi', 13202)",
         "orientation": "v",
         "showlegend": true,
         "type": "scatter",
         "visible": "legendonly",
         "x": [
          2010,
          2011,
          2012,
          2013,
          2014,
          2015,
          2016,
          2017,
          2018,
          2019,
          2020,
          2021,
          2022
         ],
         "xaxis": "x",
         "y": [
          1,
          0.8918529030085094,
          0.9505366364436827,
          1.1196172248803828,
          0.9952153110047846,
          0.9821395881006865,
          1.0512438407534994,
          1.0947368421052632,
          1.0601560719981773,
          1.1899313501144166,
          1.0411899313501147,
          1.1403508771929827,
          1.1843358395989974
         ],
         "yaxis": "y"
        },
        {
         "hovertemplate": "variable=('Tokyo-to Musashino-shi', 13203)<br>year=%{x}<br>value=%{y}<extra></extra>",
         "legendgroup": "('Tokyo-to Musashino-shi', 13203)",
         "line": {
          "color": "#19d3f3",
          "dash": "solid"
         },
         "marker": {
          "symbol": "circle"
         },
         "mode": "lines+markers",
         "name": "('Tokyo-to Musashino-shi', 13203)",
         "orientation": "v",
         "showlegend": true,
         "type": "scatter",
         "visible": "legendonly",
         "x": [
          2010,
          2011,
          2012,
          2013,
          2014,
          2015,
          2016,
          2017,
          2018,
          2019,
          2020,
          2021,
          2022
         ],
         "xaxis": "x",
         "y": [
          1,
          0.9285287081339713,
          0.881247522463002,
          0.9090223552712453,
          1.09375,
          1.0859941944847604,
          1.095,
          1.0351704545454548,
          1.185574229691877,
          1.1949920508744039,
          1.1064413265306123,
          1.1743857493857495,
          1.2559975321839603
         ],
         "yaxis": "y"
        },
        {
         "hovertemplate": "variable=('Tokyo-to Mitaka-shi', 13204)<br>year=%{x}<br>value=%{y}<extra></extra>",
         "legendgroup": "('Tokyo-to Mitaka-shi', 13204)",
         "line": {
          "color": "#FF6692",
          "dash": "solid"
         },
         "marker": {
          "symbol": "circle"
         },
         "mode": "lines+markers",
         "name": "('Tokyo-to Mitaka-shi', 13204)",
         "orientation": "v",
         "showlegend": true,
         "type": "scatter",
         "visible": "legendonly",
         "x": [
          2010,
          2011,
          2012,
          2013,
          2014,
          2015,
          2016,
          2017,
          2018,
          2019,
          2020,
          2021,
          2022
         ],
         "xaxis": "x",
         "y": [
          1,
          1.078878125604292,
          0.976847446875991,
          0.9458389670656182,
          1.1116765870820702,
          1.044335774714373,
          1.139655354688656,
          1.0539669821556745,
          1.0191695270146783,
          1.0342927370758004,
          1.11639708214399,
          1.1892055875012062,
          1.2498197964420608
         ],
         "yaxis": "y"
        },
        {
         "hovertemplate": "variable=('Tokyo-to Ome-shi', 13205)<br>year=%{x}<br>value=%{y}<extra></extra>",
         "legendgroup": "('Tokyo-to Ome-shi', 13205)",
         "line": {
          "color": "#B6E880",
          "dash": "solid"
         },
         "marker": {
          "symbol": "circle"
         },
         "mode": "lines+markers",
         "name": "('Tokyo-to Ome-shi', 13205)",
         "orientation": "v",
         "showlegend": true,
         "type": "scatter",
         "visible": "legendonly",
         "x": [
          2010,
          2011,
          2012,
          2013,
          2014,
          2015,
          2016,
          2017,
          2018,
          2019,
          2020,
          2021,
          2022
         ],
         "xaxis": "x",
         "y": [
          1,
          1.1057448301447572,
          0.9601689722160653,
          0.8961577074016611,
          0.8701753368853793,
          0.8489915122752578,
          0.9841990458421783,
          0.7469906438803449,
          0.9481555615410129,
          0.7442446884270231,
          0.9777166704792881,
          1.095292699483165,
          1.0701482386250116
         ],
         "yaxis": "y"
        },
        {
         "hovertemplate": "variable=('Tokyo-to Fuchu-shi', 13206)<br>year=%{x}<br>value=%{y}<extra></extra>",
         "legendgroup": "('Tokyo-to Fuchu-shi', 13206)",
         "line": {
          "color": "#FF97FF",
          "dash": "solid"
         },
         "marker": {
          "symbol": "circle"
         },
         "mode": "lines+markers",
         "name": "('Tokyo-to Fuchu-shi', 13206)",
         "orientation": "v",
         "showlegend": true,
         "type": "scatter",
         "visible": "legendonly",
         "x": [
          2010,
          2011,
          2012,
          2013,
          2014,
          2015,
          2016,
          2017,
          2018,
          2019,
          2020,
          2021,
          2022
         ],
         "xaxis": "x",
         "y": [
          1,
          1.0396711638947664,
          1.0101010101010104,
          1.0136144049187528,
          1.0186502291765451,
          1.0259259259259261,
          1.1111111111111112,
          1.0833333333333333,
          1.0389075944631498,
          0.9386612783351912,
          1.0353535353535352,
          1.1111111111111112,
          0.9785353535353535
         ],
         "yaxis": "y"
        },
        {
         "hovertemplate": "variable=('Tokyo-to Akishima-shi', 13207)<br>year=%{x}<br>value=%{y}<extra></extra>",
         "legendgroup": "('Tokyo-to Akishima-shi', 13207)",
         "line": {
          "color": "#FECB52",
          "dash": "solid"
         },
         "marker": {
          "symbol": "circle"
         },
         "mode": "lines+markers",
         "name": "('Tokyo-to Akishima-shi', 13207)",
         "orientation": "v",
         "showlegend": true,
         "type": "scatter",
         "visible": "legendonly",
         "x": [
          2010,
          2011,
          2012,
          2013,
          2014,
          2015,
          2016,
          2017,
          2018,
          2019,
          2020,
          2021,
          2022
         ],
         "xaxis": "x",
         "y": [
          1,
          1.4036234481740872,
          1.0802379903916512,
          1.4024776684671627,
          1.0615831158219475,
          1.28291666410463,
          1.3269028627610002,
          1.4489638780087715,
          1.3769263216446108,
          1.1368690210163426,
          1.2277303386028697,
          1.0718081214825048,
          1.6571110169332526
         ],
         "yaxis": "y"
        },
        {
         "hovertemplate": "variable=('Tokyo-to Chofu-shi', 13208)<br>year=%{x}<br>value=%{y}<extra></extra>",
         "legendgroup": "('Tokyo-to Chofu-shi', 13208)",
         "line": {
          "color": "#636efa",
          "dash": "solid"
         },
         "marker": {
          "symbol": "circle"
         },
         "mode": "lines+markers",
         "name": "('Tokyo-to Chofu-shi', 13208)",
         "orientation": "v",
         "showlegend": true,
         "type": "scatter",
         "visible": "legendonly",
         "x": [
          2010,
          2011,
          2012,
          2013,
          2014,
          2015,
          2016,
          2017,
          2018,
          2019,
          2020,
          2021,
          2022
         ],
         "xaxis": "x",
         "y": [
          1,
          1.0479827501104095,
          1.0212765957446808,
          1.0212765957446808,
          0.9993504832011336,
          1.0465874550980934,
          1.0431249187190366,
          1.073925402704798,
          1.0852199678999135,
          1.116120679950467,
          1.1185410334346504,
          1.1914893617021276,
          1.2409609508591932
         ],
         "yaxis": "y"
        },
        {
         "hovertemplate": "variable=('Tokyo-to Machida-shi', 13209)<br>year=%{x}<br>value=%{y}<extra></extra>",
         "legendgroup": "('Tokyo-to Machida-shi', 13209)",
         "line": {
          "color": "#EF553B",
          "dash": "solid"
         },
         "marker": {
          "symbol": "circle"
         },
         "mode": "lines+markers",
         "name": "('Tokyo-to Machida-shi', 13209)",
         "orientation": "v",
         "showlegend": true,
         "type": "scatter",
         "visible": "legendonly",
         "x": [
          2010,
          2011,
          2012,
          2013,
          2014,
          2015,
          2016,
          2017,
          2018,
          2019,
          2020,
          2021,
          2022
         ],
         "xaxis": "x",
         "y": [
          1,
          1.0757805952317268,
          1.0524193548387097,
          0.935483870967742,
          0.899971756541387,
          1.013186306780777,
          1.0794044665012408,
          0.9874551971326165,
          0.9905123339658443,
          0.9978494623655911,
          1.1153846153846152,
          1.084442288516991,
          1.0913978494623653
         ],
         "yaxis": "y"
        },
        {
         "hovertemplate": "variable=('Tokyo-to Koganei-shi', 13210)<br>year=%{x}<br>value=%{y}<extra></extra>",
         "legendgroup": "('Tokyo-to Koganei-shi', 13210)",
         "line": {
          "color": "#00cc96",
          "dash": "solid"
         },
         "marker": {
          "symbol": "circle"
         },
         "mode": "lines+markers",
         "name": "('Tokyo-to Koganei-shi', 13210)",
         "orientation": "v",
         "showlegend": true,
         "type": "scatter",
         "visible": "legendonly",
         "x": [
          2010,
          2011,
          2012,
          2013,
          2014,
          2015,
          2016,
          2017,
          2018,
          2019,
          2020,
          2021,
          2022
         ],
         "xaxis": "x",
         "y": [
          1,
          1.2001562804156616,
          1.1427100759233044,
          1.0608809126042347,
          1.073779521212284,
          1.1212797690952256,
          1.2071570262094782,
          1.2322738386308068,
          1.2220166615497436,
          1.2456863429968565,
          1.306957101578129,
          1.4081942937100282,
          1.417316722940195
         ],
         "yaxis": "y"
        },
        {
         "hovertemplate": "variable=('Tokyo-to Kodaira-shi', 13211)<br>year=%{x}<br>value=%{y}<extra></extra>",
         "legendgroup": "('Tokyo-to Kodaira-shi', 13211)",
         "line": {
          "color": "#ab63fa",
          "dash": "solid"
         },
         "marker": {
          "symbol": "circle"
         },
         "mode": "lines+markers",
         "name": "('Tokyo-to Kodaira-shi', 13211)",
         "orientation": "v",
         "showlegend": true,
         "type": "scatter",
         "visible": "legendonly",
         "x": [
          2010,
          2011,
          2012,
          2013,
          2014,
          2015,
          2016,
          2017,
          2018,
          2019,
          2020,
          2021,
          2022
         ],
         "xaxis": "x",
         "y": [
          1,
          0.9690217906303175,
          0.9551786221927414,
          0.8945423250946617,
          0.874279779191123,
          0.9286458826873876,
          0.9286458826873876,
          0.9518620297545723,
          0.9643630320215179,
          0.9518620297545723,
          0.9117614120930715,
          0.9950412342967133,
          1.1640190733092404
         ],
         "yaxis": "y"
        },
        {
         "hovertemplate": "variable=('Tokyo-to Hino-shi', 13212)<br>year=%{x}<br>value=%{y}<extra></extra>",
         "legendgroup": "('Tokyo-to Hino-shi', 13212)",
         "line": {
          "color": "#FFA15A",
          "dash": "solid"
         },
         "marker": {
          "symbol": "circle"
         },
         "mode": "lines+markers",
         "name": "('Tokyo-to Hino-shi', 13212)",
         "orientation": "v",
         "showlegend": true,
         "type": "scatter",
         "visible": "legendonly",
         "x": [
          2010,
          2011,
          2012,
          2013,
          2014,
          2015,
          2016,
          2017,
          2018,
          2019,
          2020,
          2021,
          2022
         ],
         "xaxis": "x",
         "y": [
          1,
          1.0790031115620211,
          1.1208926707663218,
          0.9352566616032382,
          0.9564805091745338,
          0.9294941836854534,
          0.9957466986328527,
          0.9890861855985191,
          1.0410079122070734,
          0.9754453043841358,
          0.9598275033405543,
          1.0715100343983956,
          1.1104789966883668
         ],
         "yaxis": "y"
        },
        {
         "hovertemplate": "variable=('Tokyo-to Higashimurayama-shi', 13213)<br>year=%{x}<br>value=%{y}<extra></extra>",
         "legendgroup": "('Tokyo-to Higashimurayama-shi', 13213)",
         "line": {
          "color": "#19d3f3",
          "dash": "solid"
         },
         "marker": {
          "symbol": "circle"
         },
         "mode": "lines+markers",
         "name": "('Tokyo-to Higashimurayama-shi', 13213)",
         "orientation": "v",
         "showlegend": true,
         "type": "scatter",
         "visible": "legendonly",
         "x": [
          2010,
          2011,
          2012,
          2013,
          2014,
          2015,
          2016,
          2017,
          2018,
          2019,
          2020,
          2021,
          2022
         ],
         "xaxis": "x",
         "y": [
          1,
          0.9035038749507421,
          0.8538446981643854,
          0.9156919867644944,
          0.8864315013456567,
          0.8884934190751385,
          0.8643110468934718,
          0.9877840535925394,
          0.9681406207085967,
          0.934162608539497,
          0.9247553908705735,
          1.0498292394588207,
          1.049520556942073
         ],
         "yaxis": "y"
        },
        {
         "hovertemplate": "variable=('Tokyo-to Kokubunji-shi', 13214)<br>year=%{x}<br>value=%{y}<extra></extra>",
         "legendgroup": "('Tokyo-to Kokubunji-shi', 13214)",
         "line": {
          "color": "#FF6692",
          "dash": "solid"
         },
         "marker": {
          "symbol": "circle"
         },
         "mode": "lines+markers",
         "name": "('Tokyo-to Kokubunji-shi', 13214)",
         "orientation": "v",
         "showlegend": true,
         "type": "scatter",
         "visible": "legendonly",
         "x": [
          2010,
          2011,
          2012,
          2013,
          2014,
          2015,
          2016,
          2017,
          2018,
          2019,
          2020,
          2021,
          2022
         ],
         "xaxis": "x",
         "y": [
          1,
          1.0543517593026053,
          0.9420741817789536,
          0.8848174372695533,
          0.9908190900597518,
          0.8249933575414045,
          1.0741054160385877,
          0.9899920290496853,
          0.9679922061819145,
          1.0743599395025305,
          1.0592507306704453,
          1.0999911433885392,
          1.2792937290324584
         ],
         "yaxis": "y"
        },
        {
         "hovertemplate": "variable=('Tokyo-to Kunitachi-shi', 13215)<br>year=%{x}<br>value=%{y}<extra></extra>",
         "legendgroup": "('Tokyo-to Kunitachi-shi', 13215)",
         "line": {
          "color": "#B6E880",
          "dash": "solid"
         },
         "marker": {
          "symbol": "circle"
         },
         "mode": "lines+markers",
         "name": "('Tokyo-to Kunitachi-shi', 13215)",
         "orientation": "v",
         "showlegend": true,
         "type": "scatter",
         "visible": "legendonly",
         "x": [
          2010,
          2011,
          2012,
          2013,
          2014,
          2015,
          2016,
          2017,
          2018,
          2019,
          2020,
          2021,
          2022
         ],
         "xaxis": "x",
         "y": [
          1,
          0.9921482450086568,
          0.9126432146669093,
          1.1025471951806018,
          1.0195267106605055,
          1.0442284237878798,
          1.0949804020456195,
          1.1493336301705241,
          1.236763475088757,
          1.0956665516448125,
          1.3601226420519898,
          1.2327974290561634,
          1.336442514967584
         ],
         "yaxis": "y"
        },
        {
         "hovertemplate": "variable=('Tokyo-to Komae-shi', 13219)<br>year=%{x}<br>value=%{y}<extra></extra>",
         "legendgroup": "('Tokyo-to Komae-shi', 13219)",
         "line": {
          "color": "#FF97FF",
          "dash": "solid"
         },
         "marker": {
          "symbol": "circle"
         },
         "mode": "lines+markers",
         "name": "('Tokyo-to Komae-shi', 13219)",
         "orientation": "v",
         "showlegend": true,
         "type": "scatter",
         "visible": "legendonly",
         "x": [
          2010,
          2011,
          2012,
          2013,
          2014,
          2015,
          2016,
          2017,
          2018,
          2019,
          2020,
          2021,
          2022
         ],
         "xaxis": "x",
         "y": [
          1,
          0.9562313044674985,
          0.9923116009784756,
          0.9758309013118749,
          1.0201868513715056,
          0.9758309013118749,
          0.9226037612403181,
          0.9706714973635784,
          0.9983762134022254,
          1.0061196786383084,
          1.0885935832412472,
          1.0543171837648289,
          1.161703453942708
         ],
         "yaxis": "y"
        },
        {
         "hovertemplate": "variable=('Tokyo-to Higashiyamato-shi', 13220)<br>year=%{x}<br>value=%{y}<extra></extra>",
         "legendgroup": "('Tokyo-to Higashiyamato-shi', 13220)",
         "line": {
          "color": "#FECB52",
          "dash": "solid"
         },
         "marker": {
          "symbol": "circle"
         },
         "mode": "lines+markers",
         "name": "('Tokyo-to Higashiyamato-shi', 13220)",
         "orientation": "v",
         "showlegend": true,
         "type": "scatter",
         "visible": "legendonly",
         "x": [
          2010,
          2011,
          2012,
          2013,
          2014,
          2015,
          2016,
          2017,
          2018,
          2019,
          2020,
          2021,
          2022
         ],
         "xaxis": "x",
         "y": [
          1,
          0.8171428571428571,
          0.8591689560439559,
          0.9794406651549507,
          0.8197243513501606,
          0.848239603533721,
          0.8151298981130912,
          0.9057915057915054,
          0.9748901098901096,
          0.817495421245421,
          0.7857142857142855,
          0.7551184412453421,
          0.9380952380952378
         ],
         "yaxis": "y"
        },
        {
         "hovertemplate": "variable=('Tokyo-to Kiyose-shi', 13221)<br>year=%{x}<br>value=%{y}<extra></extra>",
         "legendgroup": "('Tokyo-to Kiyose-shi', 13221)",
         "line": {
          "color": "#636efa",
          "dash": "solid"
         },
         "marker": {
          "symbol": "circle"
         },
         "mode": "lines+markers",
         "name": "('Tokyo-to Kiyose-shi', 13221)",
         "orientation": "v",
         "showlegend": true,
         "type": "scatter",
         "visible": "legendonly",
         "x": [
          2010,
          2011,
          2012,
          2013,
          2014,
          2015,
          2016,
          2017,
          2018,
          2019,
          2020,
          2021,
          2022
         ],
         "xaxis": "x",
         "y": [
          1,
          1.1292405851229381,
          0.9925595238095237,
          1.0267857142857142,
          1.0154289432103354,
          1.0046846577458821,
          1.1824968671679197,
          1.1449708454810497,
          1.0618803637264924,
          1.0008364456893868,
          1.084531405782652,
          1.249058529072006,
          1.4148307050092763
         ],
         "yaxis": "y"
        },
        {
         "hovertemplate": "variable=('Tokyo-to Higashikurume-shi', 13222)<br>year=%{x}<br>value=%{y}<extra></extra>",
         "legendgroup": "('Tokyo-to Higashikurume-shi', 13222)",
         "line": {
          "color": "#EF553B",
          "dash": "solid"
         },
         "marker": {
          "symbol": "circle"
         },
         "mode": "lines+markers",
         "name": "('Tokyo-to Higashikurume-shi', 13222)",
         "orientation": "v",
         "showlegend": true,
         "type": "scatter",
         "visible": "legendonly",
         "x": [
          2010,
          2011,
          2012,
          2013,
          2014,
          2015,
          2016,
          2017,
          2018,
          2019,
          2020,
          2021,
          2022
         ],
         "xaxis": "x",
         "y": [
          1,
          0.9278319991600462,
          1.0439181335104615,
          1.112640016907702,
          0.9906835314538515,
          0.8489263994549258,
          1.0396723126314624,
          1.0624129237074755,
          1.0144658977687873,
          1.095566257057456,
          1.0557228757712946,
          1.1259150476032325,
          1.1894719362338095
         ],
         "yaxis": "y"
        },
        {
         "hovertemplate": "variable=('Tokyo-to Musashimurayama-shi', 13223)<br>year=%{x}<br>value=%{y}<extra></extra>",
         "legendgroup": "('Tokyo-to Musashimurayama-shi', 13223)",
         "line": {
          "color": "#00cc96",
          "dash": "solid"
         },
         "marker": {
          "symbol": "circle"
         },
         "mode": "lines+markers",
         "name": "('Tokyo-to Musashimurayama-shi', 13223)",
         "orientation": "v",
         "showlegend": true,
         "type": "scatter",
         "visible": "legendonly",
         "x": [
          2010,
          2011,
          2012,
          2013,
          2014,
          2015,
          2016,
          2017,
          2018,
          2019,
          2020,
          2021,
          2022
         ],
         "xaxis": "x",
         "y": [
          1,
          0.9632430934282579,
          1.0267831610768412,
          0.7319392527367103,
          0.8537912060384227,
          0.9989378651088687,
          1.3319171534784915,
          0.8784013292460418,
          1.177530025736345,
          1.0033540360421527,
          1.2145774165492926,
          1.2737152400963614,
          1.2057355284121078
         ],
         "yaxis": "y"
        },
        {
         "hovertemplate": "variable=('Tokyo-to Tama-shi', 13224)<br>year=%{x}<br>value=%{y}<extra></extra>",
         "legendgroup": "('Tokyo-to Tama-shi', 13224)",
         "line": {
          "color": "#ab63fa",
          "dash": "solid"
         },
         "marker": {
          "symbol": "circle"
         },
         "mode": "lines+markers",
         "name": "('Tokyo-to Tama-shi', 13224)",
         "orientation": "v",
         "showlegend": true,
         "type": "scatter",
         "visible": "legendonly",
         "x": [
          2010,
          2011,
          2012,
          2013,
          2014,
          2015,
          2016,
          2017,
          2018,
          2019,
          2020,
          2021,
          2022
         ],
         "xaxis": "x",
         "y": [
          1,
          1.3196836202145938,
          0.9942066208702228,
          1.2321201919477291,
          1.379231388080946,
          0.811804198732834,
          1.2024068511474915,
          1.166597214040143,
          1.142013959491836,
          1.1789529274466202,
          1.4387473122211663,
          1.1846428483494875,
          1.179755774102297
         ],
         "yaxis": "y"
        },
        {
         "hovertemplate": "variable=('Tokyo-to Inagi-shi', 13225)<br>year=%{x}<br>value=%{y}<extra></extra>",
         "legendgroup": "('Tokyo-to Inagi-shi', 13225)",
         "line": {
          "color": "#FFA15A",
          "dash": "solid"
         },
         "marker": {
          "symbol": "circle"
         },
         "mode": "lines+markers",
         "name": "('Tokyo-to Inagi-shi', 13225)",
         "orientation": "v",
         "showlegend": true,
         "type": "scatter",
         "visible": "legendonly",
         "x": [
          2010,
          2011,
          2012,
          2013,
          2014,
          2015,
          2016,
          2017,
          2018,
          2019,
          2020,
          2021,
          2022
         ],
         "xaxis": "x",
         "y": [
          1,
          1.086887291919852,
          0.9668459968490837,
          0.9312490105856814,
          0.9959723157139191,
          0.99548205423516,
          0.7884235414543973,
          1.0269967288062294,
          1.0207861725848704,
          0.8682869847692507,
          0.9231703682294818,
          1.0360571547901636,
          1.182120971575356
         ],
         "yaxis": "y"
        },
        {
         "hovertemplate": "variable=('Tokyo-to Hamura-shi', 13227)<br>year=%{x}<br>value=%{y}<extra></extra>",
         "legendgroup": "('Tokyo-to Hamura-shi', 13227)",
         "line": {
          "color": "#19d3f3",
          "dash": "solid"
         },
         "marker": {
          "symbol": "circle"
         },
         "mode": "lines+markers",
         "name": "('Tokyo-to Hamura-shi', 13227)",
         "orientation": "v",
         "showlegend": true,
         "type": "scatter",
         "visible": "legendonly",
         "x": [
          2010,
          2011,
          2012,
          2013,
          2014,
          2015,
          2016,
          2017,
          2018,
          2019,
          2020,
          2021,
          2022
         ],
         "xaxis": "x",
         "y": [
          1,
          1.5338986244582624,
          1.4062980349097798,
          1.416830601092896,
          1.0832255718734685,
          0.8046857923497267,
          1.4077772258100125,
          1.6197518970719498,
          0.9647959252512983,
          1.1972369518684658,
          1.607417698331841,
          1.267252025918219,
          1.4941383928441734
         ],
         "yaxis": "y"
        },
        {
         "hovertemplate": "variable=('Tokyo-to Akiruno-shi', 13228)<br>year=%{x}<br>value=%{y}<extra></extra>",
         "legendgroup": "('Tokyo-to Akiruno-shi', 13228)",
         "line": {
          "color": "#FF6692",
          "dash": "solid"
         },
         "marker": {
          "symbol": "circle"
         },
         "mode": "lines+markers",
         "name": "('Tokyo-to Akiruno-shi', 13228)",
         "orientation": "v",
         "showlegend": true,
         "type": "scatter",
         "visible": "legendonly",
         "x": [
          2010,
          2011,
          2012,
          2013,
          2014,
          2015,
          2016,
          2017,
          2018,
          2019,
          2020,
          2021,
          2022
         ],
         "xaxis": "x",
         "y": [
          1,
          1.2,
          1.16796875,
          0.991208791208791,
          1.0390818858560795,
          1.219601677148847,
          1.1039313946922642,
          0.8088311688311689,
          0.889204863521351,
          0.7770087245533861,
          0.8685209181784526,
          0.7818416523235802,
          0.7471910112359552
         ],
         "yaxis": "y"
        },
        {
         "hovertemplate": "variable=('Tokyo-to Nishitokyo-shi', 13229)<br>year=%{x}<br>value=%{y}<extra></extra>",
         "legendgroup": "('Tokyo-to Nishitokyo-shi', 13229)",
         "line": {
          "color": "#B6E880",
          "dash": "solid"
         },
         "marker": {
          "symbol": "circle"
         },
         "mode": "lines+markers",
         "name": "('Tokyo-to Nishitokyo-shi', 13229)",
         "orientation": "v",
         "showlegend": true,
         "type": "scatter",
         "visible": "legendonly",
         "x": [
          2010,
          2011,
          2012,
          2013,
          2014,
          2015,
          2016,
          2017,
          2018,
          2019,
          2020,
          2021,
          2022
         ],
         "xaxis": "x",
         "y": [
          1,
          1.0875554875248736,
          1.0458334099983437,
          1.0207913188899678,
          1.0086767542487745,
          0.9798742804084265,
          1.0623328936094976,
          1.083418048170159,
          1.0609803647176423,
          1.1617069980379326,
          1.0623482310559864,
          1.0859434981658933,
          1.235450137913384
         ],
         "yaxis": "y"
        }
       ],
       "layout": {
        "autosize": false,
        "height": 800,
        "hovermode": "closest",
        "legend": {
         "title": {
          "text": "variable"
         },
         "tracegroupgap": 0
        },
        "template": {
         "data": {
          "bar": [
           {
            "error_x": {
             "color": "#2a3f5f"
            },
            "error_y": {
             "color": "#2a3f5f"
            },
            "marker": {
             "line": {
              "color": "#E5ECF6",
              "width": 0.5
             },
             "pattern": {
              "fillmode": "overlay",
              "size": 10,
              "solidity": 0.2
             }
            },
            "type": "bar"
           }
          ],
          "barpolar": [
           {
            "marker": {
             "line": {
              "color": "#E5ECF6",
              "width": 0.5
             },
             "pattern": {
              "fillmode": "overlay",
              "size": 10,
              "solidity": 0.2
             }
            },
            "type": "barpolar"
           }
          ],
          "carpet": [
           {
            "aaxis": {
             "endlinecolor": "#2a3f5f",
             "gridcolor": "white",
             "linecolor": "white",
             "minorgridcolor": "white",
             "startlinecolor": "#2a3f5f"
            },
            "baxis": {
             "endlinecolor": "#2a3f5f",
             "gridcolor": "white",
             "linecolor": "white",
             "minorgridcolor": "white",
             "startlinecolor": "#2a3f5f"
            },
            "type": "carpet"
           }
          ],
          "choropleth": [
           {
            "colorbar": {
             "outlinewidth": 0,
             "ticks": ""
            },
            "type": "choropleth"
           }
          ],
          "contour": [
           {
            "colorbar": {
             "outlinewidth": 0,
             "ticks": ""
            },
            "colorscale": [
             [
              0,
              "#0d0887"
             ],
             [
              0.1111111111111111,
              "#46039f"
             ],
             [
              0.2222222222222222,
              "#7201a8"
             ],
             [
              0.3333333333333333,
              "#9c179e"
             ],
             [
              0.4444444444444444,
              "#bd3786"
             ],
             [
              0.5555555555555556,
              "#d8576b"
             ],
             [
              0.6666666666666666,
              "#ed7953"
             ],
             [
              0.7777777777777778,
              "#fb9f3a"
             ],
             [
              0.8888888888888888,
              "#fdca26"
             ],
             [
              1,
              "#f0f921"
             ]
            ],
            "type": "contour"
           }
          ],
          "contourcarpet": [
           {
            "colorbar": {
             "outlinewidth": 0,
             "ticks": ""
            },
            "type": "contourcarpet"
           }
          ],
          "heatmap": [
           {
            "colorbar": {
             "outlinewidth": 0,
             "ticks": ""
            },
            "colorscale": [
             [
              0,
              "#0d0887"
             ],
             [
              0.1111111111111111,
              "#46039f"
             ],
             [
              0.2222222222222222,
              "#7201a8"
             ],
             [
              0.3333333333333333,
              "#9c179e"
             ],
             [
              0.4444444444444444,
              "#bd3786"
             ],
             [
              0.5555555555555556,
              "#d8576b"
             ],
             [
              0.6666666666666666,
              "#ed7953"
             ],
             [
              0.7777777777777778,
              "#fb9f3a"
             ],
             [
              0.8888888888888888,
              "#fdca26"
             ],
             [
              1,
              "#f0f921"
             ]
            ],
            "type": "heatmap"
           }
          ],
          "heatmapgl": [
           {
            "colorbar": {
             "outlinewidth": 0,
             "ticks": ""
            },
            "colorscale": [
             [
              0,
              "#0d0887"
             ],
             [
              0.1111111111111111,
              "#46039f"
             ],
             [
              0.2222222222222222,
              "#7201a8"
             ],
             [
              0.3333333333333333,
              "#9c179e"
             ],
             [
              0.4444444444444444,
              "#bd3786"
             ],
             [
              0.5555555555555556,
              "#d8576b"
             ],
             [
              0.6666666666666666,
              "#ed7953"
             ],
             [
              0.7777777777777778,
              "#fb9f3a"
             ],
             [
              0.8888888888888888,
              "#fdca26"
             ],
             [
              1,
              "#f0f921"
             ]
            ],
            "type": "heatmapgl"
           }
          ],
          "histogram": [
           {
            "marker": {
             "pattern": {
              "fillmode": "overlay",
              "size": 10,
              "solidity": 0.2
             }
            },
            "type": "histogram"
           }
          ],
          "histogram2d": [
           {
            "colorbar": {
             "outlinewidth": 0,
             "ticks": ""
            },
            "colorscale": [
             [
              0,
              "#0d0887"
             ],
             [
              0.1111111111111111,
              "#46039f"
             ],
             [
              0.2222222222222222,
              "#7201a8"
             ],
             [
              0.3333333333333333,
              "#9c179e"
             ],
             [
              0.4444444444444444,
              "#bd3786"
             ],
             [
              0.5555555555555556,
              "#d8576b"
             ],
             [
              0.6666666666666666,
              "#ed7953"
             ],
             [
              0.7777777777777778,
              "#fb9f3a"
             ],
             [
              0.8888888888888888,
              "#fdca26"
             ],
             [
              1,
              "#f0f921"
             ]
            ],
            "type": "histogram2d"
           }
          ],
          "histogram2dcontour": [
           {
            "colorbar": {
             "outlinewidth": 0,
             "ticks": ""
            },
            "colorscale": [
             [
              0,
              "#0d0887"
             ],
             [
              0.1111111111111111,
              "#46039f"
             ],
             [
              0.2222222222222222,
              "#7201a8"
             ],
             [
              0.3333333333333333,
              "#9c179e"
             ],
             [
              0.4444444444444444,
              "#bd3786"
             ],
             [
              0.5555555555555556,
              "#d8576b"
             ],
             [
              0.6666666666666666,
              "#ed7953"
             ],
             [
              0.7777777777777778,
              "#fb9f3a"
             ],
             [
              0.8888888888888888,
              "#fdca26"
             ],
             [
              1,
              "#f0f921"
             ]
            ],
            "type": "histogram2dcontour"
           }
          ],
          "mesh3d": [
           {
            "colorbar": {
             "outlinewidth": 0,
             "ticks": ""
            },
            "type": "mesh3d"
           }
          ],
          "parcoords": [
           {
            "line": {
             "colorbar": {
              "outlinewidth": 0,
              "ticks": ""
             }
            },
            "type": "parcoords"
           }
          ],
          "pie": [
           {
            "automargin": true,
            "type": "pie"
           }
          ],
          "scatter": [
           {
            "fillpattern": {
             "fillmode": "overlay",
             "size": 10,
             "solidity": 0.2
            },
            "type": "scatter"
           }
          ],
          "scatter3d": [
           {
            "line": {
             "colorbar": {
              "outlinewidth": 0,
              "ticks": ""
             }
            },
            "marker": {
             "colorbar": {
              "outlinewidth": 0,
              "ticks": ""
             }
            },
            "type": "scatter3d"
           }
          ],
          "scattercarpet": [
           {
            "marker": {
             "colorbar": {
              "outlinewidth": 0,
              "ticks": ""
             }
            },
            "type": "scattercarpet"
           }
          ],
          "scattergeo": [
           {
            "marker": {
             "colorbar": {
              "outlinewidth": 0,
              "ticks": ""
             }
            },
            "type": "scattergeo"
           }
          ],
          "scattergl": [
           {
            "marker": {
             "colorbar": {
              "outlinewidth": 0,
              "ticks": ""
             }
            },
            "type": "scattergl"
           }
          ],
          "scattermapbox": [
           {
            "marker": {
             "colorbar": {
              "outlinewidth": 0,
              "ticks": ""
             }
            },
            "type": "scattermapbox"
           }
          ],
          "scatterpolar": [
           {
            "marker": {
             "colorbar": {
              "outlinewidth": 0,
              "ticks": ""
             }
            },
            "type": "scatterpolar"
           }
          ],
          "scatterpolargl": [
           {
            "marker": {
             "colorbar": {
              "outlinewidth": 0,
              "ticks": ""
             }
            },
            "type": "scatterpolargl"
           }
          ],
          "scatterternary": [
           {
            "marker": {
             "colorbar": {
              "outlinewidth": 0,
              "ticks": ""
             }
            },
            "type": "scatterternary"
           }
          ],
          "surface": [
           {
            "colorbar": {
             "outlinewidth": 0,
             "ticks": ""
            },
            "colorscale": [
             [
              0,
              "#0d0887"
             ],
             [
              0.1111111111111111,
              "#46039f"
             ],
             [
              0.2222222222222222,
              "#7201a8"
             ],
             [
              0.3333333333333333,
              "#9c179e"
             ],
             [
              0.4444444444444444,
              "#bd3786"
             ],
             [
              0.5555555555555556,
              "#d8576b"
             ],
             [
              0.6666666666666666,
              "#ed7953"
             ],
             [
              0.7777777777777778,
              "#fb9f3a"
             ],
             [
              0.8888888888888888,
              "#fdca26"
             ],
             [
              1,
              "#f0f921"
             ]
            ],
            "type": "surface"
           }
          ],
          "table": [
           {
            "cells": {
             "fill": {
              "color": "#EBF0F8"
             },
             "line": {
              "color": "white"
             }
            },
            "header": {
             "fill": {
              "color": "#C8D4E3"
             },
             "line": {
              "color": "white"
             }
            },
            "type": "table"
           }
          ]
         },
         "layout": {
          "annotationdefaults": {
           "arrowcolor": "#2a3f5f",
           "arrowhead": 0,
           "arrowwidth": 1
          },
          "autotypenumbers": "strict",
          "coloraxis": {
           "colorbar": {
            "outlinewidth": 0,
            "ticks": ""
           }
          },
          "colorscale": {
           "diverging": [
            [
             0,
             "#8e0152"
            ],
            [
             0.1,
             "#c51b7d"
            ],
            [
             0.2,
             "#de77ae"
            ],
            [
             0.3,
             "#f1b6da"
            ],
            [
             0.4,
             "#fde0ef"
            ],
            [
             0.5,
             "#f7f7f7"
            ],
            [
             0.6,
             "#e6f5d0"
            ],
            [
             0.7,
             "#b8e186"
            ],
            [
             0.8,
             "#7fbc41"
            ],
            [
             0.9,
             "#4d9221"
            ],
            [
             1,
             "#276419"
            ]
           ],
           "sequential": [
            [
             0,
             "#0d0887"
            ],
            [
             0.1111111111111111,
             "#46039f"
            ],
            [
             0.2222222222222222,
             "#7201a8"
            ],
            [
             0.3333333333333333,
             "#9c179e"
            ],
            [
             0.4444444444444444,
             "#bd3786"
            ],
            [
             0.5555555555555556,
             "#d8576b"
            ],
            [
             0.6666666666666666,
             "#ed7953"
            ],
            [
             0.7777777777777778,
             "#fb9f3a"
            ],
            [
             0.8888888888888888,
             "#fdca26"
            ],
            [
             1,
             "#f0f921"
            ]
           ],
           "sequentialminus": [
            [
             0,
             "#0d0887"
            ],
            [
             0.1111111111111111,
             "#46039f"
            ],
            [
             0.2222222222222222,
             "#7201a8"
            ],
            [
             0.3333333333333333,
             "#9c179e"
            ],
            [
             0.4444444444444444,
             "#bd3786"
            ],
            [
             0.5555555555555556,
             "#d8576b"
            ],
            [
             0.6666666666666666,
             "#ed7953"
            ],
            [
             0.7777777777777778,
             "#fb9f3a"
            ],
            [
             0.8888888888888888,
             "#fdca26"
            ],
            [
             1,
             "#f0f921"
            ]
           ]
          },
          "colorway": [
           "#636efa",
           "#EF553B",
           "#00cc96",
           "#ab63fa",
           "#FFA15A",
           "#19d3f3",
           "#FF6692",
           "#B6E880",
           "#FF97FF",
           "#FECB52"
          ],
          "font": {
           "color": "#2a3f5f"
          },
          "geo": {
           "bgcolor": "white",
           "lakecolor": "white",
           "landcolor": "#E5ECF6",
           "showlakes": true,
           "showland": true,
           "subunitcolor": "white"
          },
          "hoverlabel": {
           "align": "left"
          },
          "hovermode": "closest",
          "mapbox": {
           "style": "light"
          },
          "paper_bgcolor": "white",
          "plot_bgcolor": "#E5ECF6",
          "polar": {
           "angularaxis": {
            "gridcolor": "white",
            "linecolor": "white",
            "ticks": ""
           },
           "bgcolor": "#E5ECF6",
           "radialaxis": {
            "gridcolor": "white",
            "linecolor": "white",
            "ticks": ""
           }
          },
          "scene": {
           "xaxis": {
            "backgroundcolor": "#E5ECF6",
            "gridcolor": "white",
            "gridwidth": 2,
            "linecolor": "white",
            "showbackground": true,
            "ticks": "",
            "zerolinecolor": "white"
           },
           "yaxis": {
            "backgroundcolor": "#E5ECF6",
            "gridcolor": "white",
            "gridwidth": 2,
            "linecolor": "white",
            "showbackground": true,
            "ticks": "",
            "zerolinecolor": "white"
           },
           "zaxis": {
            "backgroundcolor": "#E5ECF6",
            "gridcolor": "white",
            "gridwidth": 2,
            "linecolor": "white",
            "showbackground": true,
            "ticks": "",
            "zerolinecolor": "white"
           }
          },
          "shapedefaults": {
           "line": {
            "color": "#2a3f5f"
           }
          },
          "ternary": {
           "aaxis": {
            "gridcolor": "white",
            "linecolor": "white",
            "ticks": ""
           },
           "baxis": {
            "gridcolor": "white",
            "linecolor": "white",
            "ticks": ""
           },
           "bgcolor": "#E5ECF6",
           "caxis": {
            "gridcolor": "white",
            "linecolor": "white",
            "ticks": ""
           }
          },
          "title": {
           "x": 0.05
          },
          "xaxis": {
           "automargin": true,
           "gridcolor": "white",
           "linecolor": "white",
           "ticks": "",
           "title": {
            "standoff": 15
           },
           "zerolinecolor": "white",
           "zerolinewidth": 2
          },
          "yaxis": {
           "automargin": true,
           "gridcolor": "white",
           "linecolor": "white",
           "ticks": "",
           "title": {
            "standoff": 15
           },
           "zerolinecolor": "white",
           "zerolinewidth": 2
          }
         }
        },
        "title": {
         "text": "Cumulative Price Growth for top and bottom 10 municipalities"
        },
        "width": 1600,
        "xaxis": {
         "anchor": "y",
         "domain": [
          0,
          1
         ],
         "title": {
          "text": "year"
         }
        },
        "yaxis": {
         "anchor": "x",
         "domain": [
          0,
          1
         ],
         "title": {
          "text": "value"
         }
        }
       }
      }
     },
     "metadata": {},
     "output_type": "display_data"
    }
   ],
   "source": [
    "plot_time_series(\n",
    "    plot_df,\n",
    "    \"return_growth\",\n",
    "    group_by_columns,\n",
    "    granularity_columns,\n",
    "    f\"Cumulative Price Growth for top and bottom {return_n} municipalities\",\n",
    "    visible=\"legendonly\",\n",
    ")"
   ]
  },
  {
   "cell_type": "code",
   "execution_count": 10,
   "metadata": {},
   "outputs": [
    {
     "data": {
      "application/vnd.plotly.v1+json": {
       "config": {
        "plotlyServerURL": "https://plot.ly"
       },
       "data": [
        {
         "hovertemplate": "variable=('Tokyo-to Chiyoda-ku', 13101)<br>year=%{x}<br>value=%{y}<extra></extra>",
         "legendgroup": "('Tokyo-to Chiyoda-ku', 13101)",
         "line": {
          "color": "#636efa",
          "dash": "solid"
         },
         "marker": {
          "symbol": "circle"
         },
         "mode": "lines+markers",
         "name": "('Tokyo-to Chiyoda-ku', 13101)",
         "orientation": "v",
         "showlegend": true,
         "type": "scatter",
         "x": [
          2010,
          2011,
          2012,
          2013,
          2014,
          2015,
          2016,
          2017,
          2018,
          2019,
          2020,
          2021,
          2022
         ],
         "xaxis": "x",
         "y": [
          0.9659145354576767,
          1.038654660781151,
          0.9754641143412605,
          1.0366096739244055,
          1.2472719501096792,
          1.2444124058813493,
          1.3975299910073982,
          1.483353118889478,
          1.6123939021196485,
          1.8355793721687899,
          1.7826328673859426,
          1.770427870414826,
          null
         ],
         "yaxis": "y"
        },
        {
         "hovertemplate": "variable=('Tokyo-to Chuo-ku', 13102)<br>year=%{x}<br>value=%{y}<extra></extra>",
         "legendgroup": "('Tokyo-to Chuo-ku', 13102)",
         "line": {
          "color": "#EF553B",
          "dash": "solid"
         },
         "marker": {
          "symbol": "circle"
         },
         "mode": "lines+markers",
         "name": "('Tokyo-to Chuo-ku', 13102)",
         "orientation": "v",
         "showlegend": true,
         "type": "scatter",
         "x": [
          2010,
          2011,
          2012,
          2013,
          2014,
          2015,
          2016,
          2017,
          2018,
          2019,
          2020,
          2021,
          2022
         ],
         "xaxis": "x",
         "y": [
          0.9022838684701899,
          0.9228425815231919,
          0.9589135763912007,
          1.0080037380349312,
          1.1125463046334658,
          1.1742181810713168,
          1.2701940053611493,
          1.3744020852254202,
          1.4783993021573505,
          1.6385323917422265,
          1.6736897637446198,
          1.7729190757365614,
          null
         ],
         "yaxis": "y"
        },
        {
         "hovertemplate": "variable=('Tokyo-to Minato-ku', 13103)<br>year=%{x}<br>value=%{y}<extra></extra>",
         "legendgroup": "('Tokyo-to Minato-ku', 13103)",
         "line": {
          "color": "#00cc96",
          "dash": "solid"
         },
         "marker": {
          "symbol": "circle"
         },
         "mode": "lines+markers",
         "name": "('Tokyo-to Minato-ku', 13103)",
         "orientation": "v",
         "showlegend": true,
         "type": "scatter",
         "x": [
          2010,
          2011,
          2012,
          2013,
          2014,
          2015,
          2016,
          2017,
          2018,
          2019,
          2020,
          2021,
          2022
         ],
         "xaxis": "x",
         "y": [
          0.8785384412044468,
          0.825202376013984,
          0.8627728087193598,
          0.8891013513603856,
          1.2810672360187387,
          1.0594396328531073,
          1.1805811766777374,
          1.2207101213095561,
          1.2609084912623614,
          1.3950061226717576,
          1.349720303322906,
          1.3433425271356585,
          null
         ],
         "yaxis": "y"
        },
        {
         "hovertemplate": "variable=('Tokyo-to Shinjuku-ku', 13104)<br>year=%{x}<br>value=%{y}<extra></extra>",
         "legendgroup": "('Tokyo-to Shinjuku-ku', 13104)",
         "line": {
          "color": "#ab63fa",
          "dash": "solid"
         },
         "marker": {
          "symbol": "circle"
         },
         "mode": "lines+markers",
         "name": "('Tokyo-to Shinjuku-ku', 13104)",
         "orientation": "v",
         "showlegend": true,
         "type": "scatter",
         "x": [
          2010,
          2011,
          2012,
          2013,
          2014,
          2015,
          2016,
          2017,
          2018,
          2019,
          2020,
          2021,
          2022
         ],
         "xaxis": "x",
         "y": [
          0.9127583412260988,
          0.9317423404535168,
          0.9273234522030617,
          0.9535867832860476,
          1.0367360444509457,
          1.042364515017859,
          1.1288554523089032,
          1.1579615176402276,
          1.2429695812910957,
          1.2826909498113392,
          1.305295463787136,
          1.3292845387239478,
          null
         ],
         "yaxis": "y"
        },
        {
         "hovertemplate": "variable=('Tokyo-to Bunkyo-ku', 13105)<br>year=%{x}<br>value=%{y}<extra></extra>",
         "legendgroup": "('Tokyo-to Bunkyo-ku', 13105)",
         "line": {
          "color": "#FFA15A",
          "dash": "solid"
         },
         "marker": {
          "symbol": "circle"
         },
         "mode": "lines+markers",
         "name": "('Tokyo-to Bunkyo-ku', 13105)",
         "orientation": "v",
         "showlegend": true,
         "type": "scatter",
         "x": [
          2010,
          2011,
          2012,
          2013,
          2014,
          2015,
          2016,
          2017,
          2018,
          2019,
          2020,
          2021,
          2022
         ],
         "xaxis": "x",
         "y": [
          0.9165594587488817,
          0.9309393227203744,
          0.9469892235550949,
          0.9593928266416996,
          1.0438432978702075,
          1.0571940898886893,
          1.1079982404282485,
          1.1784037198518358,
          1.2120488114503656,
          1.2695673976194841,
          1.2776592579798336,
          1.2893237838904332,
          null
         ],
         "yaxis": "y"
        },
        {
         "hovertemplate": "variable=('Tokyo-to Taito-ku', 13106)<br>year=%{x}<br>value=%{y}<extra></extra>",
         "legendgroup": "('Tokyo-to Taito-ku', 13106)",
         "line": {
          "color": "#19d3f3",
          "dash": "solid"
         },
         "marker": {
          "symbol": "circle"
         },
         "mode": "lines+markers",
         "name": "('Tokyo-to Taito-ku', 13106)",
         "orientation": "v",
         "showlegend": true,
         "type": "scatter",
         "x": [
          2010,
          2011,
          2012,
          2013,
          2014,
          2015,
          2016,
          2017,
          2018,
          2019,
          2020,
          2021,
          2022
         ],
         "xaxis": "x",
         "y": [
          0.9458214813431722,
          0.9680746409115534,
          0.9496974971080252,
          1.00020581364088,
          1.0516320462531494,
          1.1071583489962364,
          1.1607203723576145,
          1.2240026980239804,
          1.2812736603509185,
          1.3535906211035484,
          1.4234994674128867,
          1.4630920141013168,
          null
         ],
         "yaxis": "y"
        },
        {
         "hovertemplate": "variable=('Tokyo-to Sumida-ku', 13107)<br>year=%{x}<br>value=%{y}<extra></extra>",
         "legendgroup": "('Tokyo-to Sumida-ku', 13107)",
         "line": {
          "color": "#FF6692",
          "dash": "solid"
         },
         "marker": {
          "symbol": "circle"
         },
         "mode": "lines+markers",
         "name": "('Tokyo-to Sumida-ku', 13107)",
         "orientation": "v",
         "showlegend": true,
         "type": "scatter",
         "x": [
          2010,
          2011,
          2012,
          2013,
          2014,
          2015,
          2016,
          2017,
          2018,
          2019,
          2020,
          2021,
          2022
         ],
         "xaxis": "x",
         "y": [
          0.9604715654275117,
          0.9579491296006967,
          0.968404813684466,
          0.9923887258398497,
          1.0460444862342566,
          1.0867911676728566,
          1.1378466673467098,
          1.1785919012029082,
          1.2419173666089285,
          1.297978136377673,
          1.3528327992835667,
          1.4114066369849771,
          null
         ],
         "yaxis": "y"
        },
        {
         "hovertemplate": "variable=('Tokyo-to Koto-ku', 13108)<br>year=%{x}<br>value=%{y}<extra></extra>",
         "legendgroup": "('Tokyo-to Koto-ku', 13108)",
         "line": {
          "color": "#B6E880",
          "dash": "solid"
         },
         "marker": {
          "symbol": "circle"
         },
         "mode": "lines+markers",
         "name": "('Tokyo-to Koto-ku', 13108)",
         "orientation": "v",
         "showlegend": true,
         "type": "scatter",
         "x": [
          2010,
          2011,
          2012,
          2013,
          2014,
          2015,
          2016,
          2017,
          2018,
          2019,
          2020,
          2021,
          2022
         ],
         "xaxis": "x",
         "y": [
          0.977741942829058,
          0.9837335605616608,
          0.9973144560052541,
          1.0208273063891427,
          1.0876669100570633,
          1.1210196407360018,
          1.1919097202213904,
          1.227714466907445,
          1.289995784503114,
          1.3509741485119753,
          1.3781600600147577,
          1.4417883263259474,
          null
         ],
         "yaxis": "y"
        },
        {
         "hovertemplate": "variable=('Tokyo-to Shinagawa-ku', 13109)<br>year=%{x}<br>value=%{y}<extra></extra>",
         "legendgroup": "('Tokyo-to Shinagawa-ku', 13109)",
         "line": {
          "color": "#FF97FF",
          "dash": "solid"
         },
         "marker": {
          "symbol": "circle"
         },
         "mode": "lines+markers",
         "name": "('Tokyo-to Shinagawa-ku', 13109)",
         "orientation": "v",
         "showlegend": true,
         "type": "scatter",
         "x": [
          2010,
          2011,
          2012,
          2013,
          2014,
          2015,
          2016,
          2017,
          2018,
          2019,
          2020,
          2021,
          2022
         ],
         "xaxis": "x",
         "y": [
          0.9394875061295014,
          0.9504034159237378,
          0.962042649379194,
          0.978577403005146,
          1.0563300248147631,
          1.0551837450203099,
          1.1549950032879037,
          1.151066564298838,
          1.2227044684824562,
          1.2994809991435945,
          1.3539431771844073,
          1.4080253859931533,
          null
         ],
         "yaxis": "y"
        },
        {
         "hovertemplate": "variable=('Tokyo-to Meguro-ku', 13110)<br>year=%{x}<br>value=%{y}<extra></extra>",
         "legendgroup": "('Tokyo-to Meguro-ku', 13110)",
         "line": {
          "color": "#FECB52",
          "dash": "solid"
         },
         "marker": {
          "symbol": "circle"
         },
         "mode": "lines+markers",
         "name": "('Tokyo-to Meguro-ku', 13110)",
         "orientation": "v",
         "showlegend": true,
         "type": "scatter",
         "x": [
          2010,
          2011,
          2012,
          2013,
          2014,
          2015,
          2016,
          2017,
          2018,
          2019,
          2020,
          2021,
          2022
         ],
         "xaxis": "x",
         "y": [
          0.9229150977672959,
          0.9540781180156023,
          0.9313647832086119,
          0.9676564773837393,
          1.128047126019608,
          1.0910543118533698,
          1.1053788461869694,
          1.1597607875245124,
          1.2049146432425824,
          1.2687997069890384,
          1.2841104924674587,
          1.2913890563231638,
          null
         ],
         "yaxis": "y"
        },
        {
         "hovertemplate": "variable=('Tokyo-to Ota-ku', 13111)<br>year=%{x}<br>value=%{y}<extra></extra>",
         "legendgroup": "('Tokyo-to Ota-ku', 13111)",
         "line": {
          "color": "#636efa",
          "dash": "solid"
         },
         "marker": {
          "symbol": "circle"
         },
         "mode": "lines+markers",
         "name": "('Tokyo-to Ota-ku', 13111)",
         "orientation": "v",
         "showlegend": true,
         "type": "scatter",
         "x": [
          2010,
          2011,
          2012,
          2013,
          2014,
          2015,
          2016,
          2017,
          2018,
          2019,
          2020,
          2021,
          2022
         ],
         "xaxis": "x",
         "y": [
          0.9230838711815097,
          0.915455463390584,
          0.9159036535143111,
          0.9261482730716322,
          0.9838067540943861,
          0.995730269380214,
          1.0353743053275486,
          1.0672225490530372,
          1.1007698508049781,
          1.1493422982140316,
          1.1604674606991945,
          1.194078970250733,
          null
         ],
         "yaxis": "y"
        },
        {
         "hovertemplate": "variable=('Tokyo-to Setagaya-ku', 13112)<br>year=%{x}<br>value=%{y}<extra></extra>",
         "legendgroup": "('Tokyo-to Setagaya-ku', 13112)",
         "line": {
          "color": "#EF553B",
          "dash": "solid"
         },
         "marker": {
          "symbol": "circle"
         },
         "mode": "lines+markers",
         "name": "('Tokyo-to Setagaya-ku', 13112)",
         "orientation": "v",
         "showlegend": true,
         "type": "scatter",
         "x": [
          2010,
          2011,
          2012,
          2013,
          2014,
          2015,
          2016,
          2017,
          2018,
          2019,
          2020,
          2021,
          2022
         ],
         "xaxis": "x",
         "y": [
          0.9289064005702062,
          0.9272587546698251,
          0.9380769971020264,
          0.9573362337768977,
          1.028510961866582,
          1.0352389627610683,
          1.0795554987910714,
          1.1007899695098122,
          1.13767204141403,
          1.1906888308567838,
          1.1854980392974812,
          1.2138036471705371,
          null
         ],
         "yaxis": "y"
        },
        {
         "hovertemplate": "variable=('Tokyo-to Shibuya-ku', 13113)<br>year=%{x}<br>value=%{y}<extra></extra>",
         "legendgroup": "('Tokyo-to Shibuya-ku', 13113)",
         "line": {
          "color": "#00cc96",
          "dash": "solid"
         },
         "marker": {
          "symbol": "circle"
         },
         "mode": "lines+markers",
         "name": "('Tokyo-to Shibuya-ku', 13113)",
         "orientation": "v",
         "showlegend": true,
         "type": "scatter",
         "x": [
          2010,
          2011,
          2012,
          2013,
          2014,
          2015,
          2016,
          2017,
          2018,
          2019,
          2020,
          2021,
          2022
         ],
         "xaxis": "x",
         "y": [
          0.867169069809871,
          0.8746109100896711,
          0.9353957792724763,
          0.9843024534186924,
          1.0885601169886567,
          1.0760103946090491,
          1.1562000641521555,
          1.2224604753963193,
          1.3288300699925493,
          1.3813339307795833,
          1.416333979217769,
          1.4675136084048959,
          null
         ],
         "yaxis": "y"
        },
        {
         "hovertemplate": "variable=('Tokyo-to Nakano-ku', 13114)<br>year=%{x}<br>value=%{y}<extra></extra>",
         "legendgroup": "('Tokyo-to Nakano-ku', 13114)",
         "line": {
          "color": "#ab63fa",
          "dash": "solid"
         },
         "marker": {
          "symbol": "circle"
         },
         "mode": "lines+markers",
         "name": "('Tokyo-to Nakano-ku', 13114)",
         "orientation": "v",
         "showlegend": true,
         "type": "scatter",
         "x": [
          2010,
          2011,
          2012,
          2013,
          2014,
          2015,
          2016,
          2017,
          2018,
          2019,
          2020,
          2021,
          2022
         ],
         "xaxis": "x",
         "y": [
          0.941512029726114,
          0.9302804828976362,
          0.9300870801887998,
          0.9522341528880256,
          1.0292277291369256,
          1.0226781971536643,
          1.0683024528450655,
          1.1065888097143874,
          1.1434111566484304,
          1.1688140143578665,
          1.1879064597896074,
          1.2306023747634809,
          null
         ],
         "yaxis": "y"
        },
        {
         "hovertemplate": "variable=('Tokyo-to Suginami-ku', 13115)<br>year=%{x}<br>value=%{y}<extra></extra>",
         "legendgroup": "('Tokyo-to Suginami-ku', 13115)",
         "line": {
          "color": "#FFA15A",
          "dash": "solid"
         },
         "marker": {
          "symbol": "circle"
         },
         "mode": "lines+markers",
         "name": "('Tokyo-to Suginami-ku', 13115)",
         "orientation": "v",
         "showlegend": true,
         "type": "scatter",
         "x": [
          2010,
          2011,
          2012,
          2013,
          2014,
          2015,
          2016,
          2017,
          2018,
          2019,
          2020,
          2021,
          2022
         ],
         "xaxis": "x",
         "y": [
          0.9442919735950845,
          0.9450089977202276,
          0.9598923818745609,
          0.9563354921165105,
          1.004037656031639,
          1.0091229432933821,
          1.0614361987558285,
          1.0955033877929008,
          1.1434978281482977,
          1.1543852287468126,
          1.1558346490247615,
          1.183114490663222,
          null
         ],
         "yaxis": "y"
        },
        {
         "hovertemplate": "variable=('Tokyo-to Toshima-ku', 13116)<br>year=%{x}<br>value=%{y}<extra></extra>",
         "legendgroup": "('Tokyo-to Toshima-ku', 13116)",
         "line": {
          "color": "#19d3f3",
          "dash": "solid"
         },
         "marker": {
          "symbol": "circle"
         },
         "mode": "lines+markers",
         "name": "('Tokyo-to Toshima-ku', 13116)",
         "orientation": "v",
         "showlegend": true,
         "type": "scatter",
         "x": [
          2010,
          2011,
          2012,
          2013,
          2014,
          2015,
          2016,
          2017,
          2018,
          2019,
          2020,
          2021,
          2022
         ],
         "xaxis": "x",
         "y": [
          0.954332116587388,
          0.9570168637833933,
          0.9813749201926034,
          1.0096641263998152,
          1.0567207459190908,
          1.0896915225308608,
          1.1276868790324162,
          1.1772486349271671,
          1.2319831185978607,
          1.287194461369898,
          1.3367410232463923,
          1.3463179427926484,
          null
         ],
         "yaxis": "y"
        },
        {
         "hovertemplate": "variable=('Tokyo-to Kita-ku', 13117)<br>year=%{x}<br>value=%{y}<extra></extra>",
         "legendgroup": "('Tokyo-to Kita-ku', 13117)",
         "line": {
          "color": "#FF6692",
          "dash": "solid"
         },
         "marker": {
          "symbol": "circle"
         },
         "mode": "lines+markers",
         "name": "('Tokyo-to Kita-ku', 13117)",
         "orientation": "v",
         "showlegend": true,
         "type": "scatter",
         "x": [
          2010,
          2011,
          2012,
          2013,
          2014,
          2015,
          2016,
          2017,
          2018,
          2019,
          2020,
          2021,
          2022
         ],
         "xaxis": "x",
         "y": [
          0.9497629655676931,
          0.9412851333731727,
          0.9340009372517712,
          0.9554362243107458,
          0.9886172357539492,
          1.0212612385300748,
          1.0645997568191445,
          1.1228426656807347,
          1.1482192220607146,
          1.1910271977447358,
          1.2243751116445967,
          1.2658051361062344,
          null
         ],
         "yaxis": "y"
        },
        {
         "hovertemplate": "variable=('Tokyo-to Arakawa-ku', 13118)<br>year=%{x}<br>value=%{y}<extra></extra>",
         "legendgroup": "('Tokyo-to Arakawa-ku', 13118)",
         "line": {
          "color": "#B6E880",
          "dash": "solid"
         },
         "marker": {
          "symbol": "circle"
         },
         "mode": "lines+markers",
         "name": "('Tokyo-to Arakawa-ku', 13118)",
         "orientation": "v",
         "showlegend": true,
         "type": "scatter",
         "x": [
          2010,
          2011,
          2012,
          2013,
          2014,
          2015,
          2016,
          2017,
          2018,
          2019,
          2020,
          2021,
          2022
         ],
         "xaxis": "x",
         "y": [
          0.9720821104101538,
          0.9692904470164913,
          0.9756662084214938,
          0.9979480307775719,
          1.0363790410688365,
          1.0565583308238586,
          1.1222122221303783,
          1.1480579526780192,
          1.200928875643149,
          1.2461665953538945,
          1.288732327166463,
          1.3182118970577188,
          null
         ],
         "yaxis": "y"
        },
        {
         "hovertemplate": "variable=('Tokyo-to Itabashi-ku', 13119)<br>year=%{x}<br>value=%{y}<extra></extra>",
         "legendgroup": "('Tokyo-to Itabashi-ku', 13119)",
         "line": {
          "color": "#FF97FF",
          "dash": "solid"
         },
         "marker": {
          "symbol": "circle"
         },
         "mode": "lines+markers",
         "name": "('Tokyo-to Itabashi-ku', 13119)",
         "orientation": "v",
         "showlegend": true,
         "type": "scatter",
         "x": [
          2010,
          2011,
          2012,
          2013,
          2014,
          2015,
          2016,
          2017,
          2018,
          2019,
          2020,
          2021,
          2022
         ],
         "xaxis": "x",
         "y": [
          0.9489545196851584,
          0.9428838264447732,
          0.9460100976173078,
          0.9537916609532634,
          0.9938834407573311,
          1.0037097896325708,
          1.0355891890779343,
          1.0769506963852917,
          1.1112713205657925,
          1.15600714147517,
          1.1578953460460348,
          1.1934937231573124,
          null
         ],
         "yaxis": "y"
        },
        {
         "hovertemplate": "variable=('Tokyo-to Nerima-ku', 13120)<br>year=%{x}<br>value=%{y}<extra></extra>",
         "legendgroup": "('Tokyo-to Nerima-ku', 13120)",
         "line": {
          "color": "#FECB52",
          "dash": "solid"
         },
         "marker": {
          "symbol": "circle"
         },
         "mode": "lines+markers",
         "name": "('Tokyo-to Nerima-ku', 13120)",
         "orientation": "v",
         "showlegend": true,
         "type": "scatter",
         "x": [
          2010,
          2011,
          2012,
          2013,
          2014,
          2015,
          2016,
          2017,
          2018,
          2019,
          2020,
          2021,
          2022
         ],
         "xaxis": "x",
         "y": [
          0.9441055691173091,
          0.9411685463088914,
          0.9401290908868254,
          0.9513880935674189,
          0.9916305655397452,
          1.0088925090916978,
          1.0313135781936948,
          1.0673770054359972,
          1.1016171590549433,
          1.1136330103025622,
          1.143457612699762,
          1.1788438240450754,
          null
         ],
         "yaxis": "y"
        },
        {
         "hovertemplate": "variable=('Tokyo-to Adachi-ku', 13121)<br>year=%{x}<br>value=%{y}<extra></extra>",
         "legendgroup": "('Tokyo-to Adachi-ku', 13121)",
         "line": {
          "color": "#636efa",
          "dash": "solid"
         },
         "marker": {
          "symbol": "circle"
         },
         "mode": "lines+markers",
         "name": "('Tokyo-to Adachi-ku', 13121)",
         "orientation": "v",
         "showlegend": true,
         "type": "scatter",
         "x": [
          2010,
          2011,
          2012,
          2013,
          2014,
          2015,
          2016,
          2017,
          2018,
          2019,
          2020,
          2021,
          2022
         ],
         "xaxis": "x",
         "y": [
          0.9536584939520593,
          0.9498452983016308,
          0.9540175406985827,
          0.9674630505328412,
          0.999043757524246,
          1.0308276078752292,
          1.0628616069794719,
          1.0998427896156455,
          1.1320992118517683,
          1.1750345489492542,
          1.1953339483691447,
          1.2347197424642857,
          null
         ],
         "yaxis": "y"
        },
        {
         "hovertemplate": "variable=('Tokyo-to Katsushika-ku', 13122)<br>year=%{x}<br>value=%{y}<extra></extra>",
         "legendgroup": "('Tokyo-to Katsushika-ku', 13122)",
         "line": {
          "color": "#EF553B",
          "dash": "solid"
         },
         "marker": {
          "symbol": "circle"
         },
         "mode": "lines+markers",
         "name": "('Tokyo-to Katsushika-ku', 13122)",
         "orientation": "v",
         "showlegend": true,
         "type": "scatter",
         "x": [
          2010,
          2011,
          2012,
          2013,
          2014,
          2015,
          2016,
          2017,
          2018,
          2019,
          2020,
          2021,
          2022
         ],
         "xaxis": "x",
         "y": [
          0.9415545330778244,
          0.9439104934537087,
          0.9401774601182727,
          0.9545429250913273,
          0.9876954269415893,
          0.9859531124281667,
          1.0291321179935995,
          1.0610524636720833,
          1.0916486659734959,
          1.134638742160719,
          1.1426222116199969,
          1.15420723230166,
          null
         ],
         "yaxis": "y"
        },
        {
         "hovertemplate": "variable=('Tokyo-to Edogawa-ku', 13123)<br>year=%{x}<br>value=%{y}<extra></extra>",
         "legendgroup": "('Tokyo-to Edogawa-ku', 13123)",
         "line": {
          "color": "#00cc96",
          "dash": "solid"
         },
         "marker": {
          "symbol": "circle"
         },
         "mode": "lines+markers",
         "name": "('Tokyo-to Edogawa-ku', 13123)",
         "orientation": "v",
         "showlegend": true,
         "type": "scatter",
         "x": [
          2010,
          2011,
          2012,
          2013,
          2014,
          2015,
          2016,
          2017,
          2018,
          2019,
          2020,
          2021,
          2022
         ],
         "xaxis": "x",
         "y": [
          0.943532247925572,
          0.9357593777065347,
          0.9350914703992401,
          0.9375956480666611,
          0.954640790447853,
          0.9800959449124131,
          1.020347037130165,
          1.0502619873299248,
          1.0973378279272483,
          1.117149658278155,
          1.1449763073436148,
          1.1672891853854106,
          null
         ],
         "yaxis": "y"
        },
        {
         "hovertemplate": "variable=('Tokyo-to Hachioji-shi', 13201)<br>year=%{x}<br>value=%{y}<extra></extra>",
         "legendgroup": "('Tokyo-to Hachioji-shi', 13201)",
         "line": {
          "color": "#ab63fa",
          "dash": "solid"
         },
         "marker": {
          "symbol": "circle"
         },
         "mode": "lines+markers",
         "name": "('Tokyo-to Hachioji-shi', 13201)",
         "orientation": "v",
         "showlegend": true,
         "type": "scatter",
         "x": [
          2010,
          2011,
          2012,
          2013,
          2014,
          2015,
          2016,
          2017,
          2018,
          2019,
          2020,
          2021,
          2022
         ],
         "xaxis": "x",
         "y": [
          0.9380267863360034,
          0.9337769308841308,
          0.9372480936262811,
          0.9373003332607778,
          0.9549941325921585,
          0.9562362717811613,
          0.9717282245342532,
          0.9903991940122668,
          1.0093649785208136,
          1.0168892803097067,
          1.0315956620968363,
          1.0425114547496974,
          null
         ],
         "yaxis": "y"
        },
        {
         "hovertemplate": "variable=('Tokyo-to Tachikawa-shi', 13202)<br>year=%{x}<br>value=%{y}<extra></extra>",
         "legendgroup": "('Tokyo-to Tachikawa-shi', 13202)",
         "line": {
          "color": "#FFA15A",
          "dash": "solid"
         },
         "marker": {
          "symbol": "circle"
         },
         "mode": "lines+markers",
         "name": "('Tokyo-to Tachikawa-shi', 13202)",
         "orientation": "v",
         "showlegend": true,
         "type": "scatter",
         "x": [
          2010,
          2011,
          2012,
          2013,
          2014,
          2015,
          2016,
          2017,
          2018,
          2019,
          2020,
          2021,
          2022
         ],
         "xaxis": "x",
         "y": [
          0.9383050624471813,
          0.9428344471747048,
          0.9451050922548575,
          0.9493214757840586,
          0.963900745176133,
          0.9792055829456862,
          1.014424736938938,
          1.045139044463528,
          1.0811157785764722,
          1.1029788425975975,
          1.1234900719231369,
          1.1359271262118877,
          null
         ],
         "yaxis": "y"
        },
        {
         "hovertemplate": "variable=('Tokyo-to Musashino-shi', 13203)<br>year=%{x}<br>value=%{y}<extra></extra>",
         "legendgroup": "('Tokyo-to Musashino-shi', 13203)",
         "line": {
          "color": "#19d3f3",
          "dash": "solid"
         },
         "marker": {
          "symbol": "circle"
         },
         "mode": "lines+markers",
         "name": "('Tokyo-to Musashino-shi', 13203)",
         "orientation": "v",
         "showlegend": true,
         "type": "scatter",
         "x": [
          2010,
          2011,
          2012,
          2013,
          2014,
          2015,
          2016,
          2017,
          2018,
          2019,
          2020,
          2021,
          2022
         ],
         "xaxis": "x",
         "y": [
          0.9386695855734268,
          0.968338592348474,
          0.9578661993652114,
          0.9709696197318683,
          1.0325912143136393,
          1.0467534011480395,
          1.1005337224659353,
          1.125650561983296,
          1.1611399484967182,
          1.1756798986672359,
          1.2077282780716456,
          1.2214057261248359,
          null
         ],
         "yaxis": "y"
        },
        {
         "hovertemplate": "variable=('Tokyo-to Mitaka-shi', 13204)<br>year=%{x}<br>value=%{y}<extra></extra>",
         "legendgroup": "('Tokyo-to Mitaka-shi', 13204)",
         "line": {
          "color": "#FF6692",
          "dash": "solid"
         },
         "marker": {
          "symbol": "circle"
         },
         "mode": "lines+markers",
         "name": "('Tokyo-to Mitaka-shi', 13204)",
         "orientation": "v",
         "showlegend": true,
         "type": "scatter",
         "x": [
          2010,
          2011,
          2012,
          2013,
          2014,
          2015,
          2016,
          2017,
          2018,
          2019,
          2020,
          2021,
          2022
         ],
         "xaxis": "x",
         "y": [
          0.9399796796855787,
          0.9454971790958622,
          0.9439000630126055,
          0.9467998734084515,
          1.0015747301904139,
          1.0055946177024109,
          1.0363081289513167,
          1.0650217360698544,
          1.1118110761549138,
          1.1235814679949772,
          1.1354240105642452,
          1.16179185749761,
          null
         ],
         "yaxis": "y"
        },
        {
         "hovertemplate": "variable=('Tokyo-to Ome-shi', 13205)<br>year=%{x}<br>value=%{y}<extra></extra>",
         "legendgroup": "('Tokyo-to Ome-shi', 13205)",
         "line": {
          "color": "#B6E880",
          "dash": "solid"
         },
         "marker": {
          "symbol": "circle"
         },
         "mode": "lines+markers",
         "name": "('Tokyo-to Ome-shi', 13205)",
         "orientation": "v",
         "showlegend": true,
         "type": "scatter",
         "x": [
          2010,
          2011,
          2012,
          2013,
          2014,
          2015,
          2016,
          2017,
          2018,
          2019,
          2020,
          2021,
          2022
         ],
         "xaxis": "x",
         "y": [
          0.9166638938536035,
          0.9181374062387776,
          0.9183357565496316,
          0.907828701735082,
          0.9101515147192281,
          0.9153090952294918,
          0.9286394357156206,
          0.9226183354480818,
          0.9378972008396547,
          0.9450999316887548,
          0.9386339385056509,
          0.9403700606812536,
          null
         ],
         "yaxis": "y"
        },
        {
         "hovertemplate": "variable=('Tokyo-to Fuchu-shi', 13206)<br>year=%{x}<br>value=%{y}<extra></extra>",
         "legendgroup": "('Tokyo-to Fuchu-shi', 13206)",
         "line": {
          "color": "#FF97FF",
          "dash": "solid"
         },
         "marker": {
          "symbol": "circle"
         },
         "mode": "lines+markers",
         "name": "('Tokyo-to Fuchu-shi', 13206)",
         "orientation": "v",
         "showlegend": true,
         "type": "scatter",
         "x": [
          2010,
          2011,
          2012,
          2013,
          2014,
          2015,
          2016,
          2017,
          2018,
          2019,
          2020,
          2021,
          2022
         ],
         "xaxis": "x",
         "y": [
          0.9527910906338888,
          0.957027640960369,
          0.9570230712888412,
          0.9595684165341898,
          0.9857372231548979,
          0.9960122282797007,
          1.0266457801477584,
          1.0407315963037644,
          1.0730752304747688,
          1.0934300756355135,
          1.096982174914809,
          1.1378480172585772,
          null
         ],
         "yaxis": "y"
        },
        {
         "hovertemplate": "variable=('Tokyo-to Akishima-shi', 13207)<br>year=%{x}<br>value=%{y}<extra></extra>",
         "legendgroup": "('Tokyo-to Akishima-shi', 13207)",
         "line": {
          "color": "#FECB52",
          "dash": "solid"
         },
         "marker": {
          "symbol": "circle"
         },
         "mode": "lines+markers",
         "name": "('Tokyo-to Akishima-shi', 13207)",
         "orientation": "v",
         "showlegend": true,
         "type": "scatter",
         "x": [
          2010,
          2011,
          2012,
          2013,
          2014,
          2015,
          2016,
          2017,
          2018,
          2019,
          2020,
          2021,
          2022
         ],
         "xaxis": "x",
         "y": [
          0.9285533394954445,
          0.9291720704054156,
          0.9268031412170837,
          0.9240414404345552,
          0.9304992977051239,
          0.947188052263624,
          0.9602259303626794,
          0.9755292303347,
          0.9942073509764463,
          1.0153423703236175,
          1.0350897363906126,
          1.0633571330497096,
          null
         ],
         "yaxis": "y"
        },
        {
         "hovertemplate": "variable=('Tokyo-to Chofu-shi', 13208)<br>year=%{x}<br>value=%{y}<extra></extra>",
         "legendgroup": "('Tokyo-to Chofu-shi', 13208)",
         "line": {
          "color": "#636efa",
          "dash": "solid"
         },
         "marker": {
          "symbol": "circle"
         },
         "mode": "lines+markers",
         "name": "('Tokyo-to Chofu-shi', 13208)",
         "orientation": "v",
         "showlegend": true,
         "type": "scatter",
         "x": [
          2010,
          2011,
          2012,
          2013,
          2014,
          2015,
          2016,
          2017,
          2018,
          2019,
          2020,
          2021,
          2022
         ],
         "xaxis": "x",
         "y": [
          0.9412924522213323,
          0.9446010986967628,
          0.9381825007562323,
          0.944449556701025,
          0.9742567744685717,
          0.9882403161751045,
          1.0338167892078074,
          1.0723090822051868,
          1.0926146238450574,
          1.132029736801286,
          1.1555396804154308,
          1.1828276487747333,
          null
         ],
         "yaxis": "y"
        },
        {
         "hovertemplate": "variable=('Tokyo-to Machida-shi', 13209)<br>year=%{x}<br>value=%{y}<extra></extra>",
         "legendgroup": "('Tokyo-to Machida-shi', 13209)",
         "line": {
          "color": "#EF553B",
          "dash": "solid"
         },
         "marker": {
          "symbol": "circle"
         },
         "mode": "lines+markers",
         "name": "('Tokyo-to Machida-shi', 13209)",
         "orientation": "v",
         "showlegend": true,
         "type": "scatter",
         "x": [
          2010,
          2011,
          2012,
          2013,
          2014,
          2015,
          2016,
          2017,
          2018,
          2019,
          2020,
          2021,
          2022
         ],
         "xaxis": "x",
         "y": [
          0.9330598381172043,
          0.9313792399155519,
          0.9281945144482335,
          0.9248417871951279,
          0.9536328341754372,
          0.9548786749289602,
          0.9747576378631923,
          0.9934747035472439,
          1.0055838369831764,
          1.024795639289631,
          1.0163508428949142,
          1.0409490672864403,
          null
         ],
         "yaxis": "y"
        },
        {
         "hovertemplate": "variable=('Tokyo-to Koganei-shi', 13210)<br>year=%{x}<br>value=%{y}<extra></extra>",
         "legendgroup": "('Tokyo-to Koganei-shi', 13210)",
         "line": {
          "color": "#00cc96",
          "dash": "solid"
         },
         "marker": {
          "symbol": "circle"
         },
         "mode": "lines+markers",
         "name": "('Tokyo-to Koganei-shi', 13210)",
         "orientation": "v",
         "showlegend": true,
         "type": "scatter",
         "x": [
          2010,
          2011,
          2012,
          2013,
          2014,
          2015,
          2016,
          2017,
          2018,
          2019,
          2020,
          2021,
          2022
         ],
         "xaxis": "x",
         "y": [
          0.9545467984069248,
          0.9668418137030022,
          0.9729564962276265,
          0.9689817436543379,
          1.0168015812061368,
          1.007882965386069,
          1.0663281927827526,
          1.0869536609048411,
          1.0963728536510697,
          1.1344797313923545,
          1.136070285283338,
          1.1793442073222549,
          null
         ],
         "yaxis": "y"
        },
        {
         "hovertemplate": "variable=('Tokyo-to Kodaira-shi', 13211)<br>year=%{x}<br>value=%{y}<extra></extra>",
         "legendgroup": "('Tokyo-to Kodaira-shi', 13211)",
         "line": {
          "color": "#ab63fa",
          "dash": "solid"
         },
         "marker": {
          "symbol": "circle"
         },
         "mode": "lines+markers",
         "name": "('Tokyo-to Kodaira-shi', 13211)",
         "orientation": "v",
         "showlegend": true,
         "type": "scatter",
         "x": [
          2010,
          2011,
          2012,
          2013,
          2014,
          2015,
          2016,
          2017,
          2018,
          2019,
          2020,
          2021,
          2022
         ],
         "xaxis": "x",
         "y": [
          0.9352499981960019,
          0.9360179538527642,
          0.9425170841065835,
          0.9560372568163238,
          0.9653823874503152,
          0.9871744091978819,
          1.0189881430528125,
          1.0371384004197786,
          1.079273842464994,
          1.092683183364598,
          1.1279200935990943,
          1.1434975270256884,
          null
         ],
         "yaxis": "y"
        },
        {
         "hovertemplate": "variable=('Tokyo-to Hino-shi', 13212)<br>year=%{x}<br>value=%{y}<extra></extra>",
         "legendgroup": "('Tokyo-to Hino-shi', 13212)",
         "line": {
          "color": "#FFA15A",
          "dash": "solid"
         },
         "marker": {
          "symbol": "circle"
         },
         "mode": "lines+markers",
         "name": "('Tokyo-to Hino-shi', 13212)",
         "orientation": "v",
         "showlegend": true,
         "type": "scatter",
         "x": [
          2010,
          2011,
          2012,
          2013,
          2014,
          2015,
          2016,
          2017,
          2018,
          2019,
          2020,
          2021,
          2022
         ],
         "xaxis": "x",
         "y": [
          0.939248711895188,
          0.9404108132709892,
          0.9414546710914885,
          0.9486286569502895,
          0.9622632201134425,
          0.9952351293950731,
          1.0159794526349857,
          1.03945848348531,
          1.0665628179880904,
          1.0966695630068537,
          1.1017126435581501,
          1.1370878385431578,
          null
         ],
         "yaxis": "y"
        },
        {
         "hovertemplate": "variable=('Tokyo-to Higashimurayama-shi', 13213)<br>year=%{x}<br>value=%{y}<extra></extra>",
         "legendgroup": "('Tokyo-to Higashimurayama-shi', 13213)",
         "line": {
          "color": "#19d3f3",
          "dash": "solid"
         },
         "marker": {
          "symbol": "circle"
         },
         "mode": "lines+markers",
         "name": "('Tokyo-to Higashimurayama-shi', 13213)",
         "orientation": "v",
         "showlegend": true,
         "type": "scatter",
         "x": [
          2010,
          2011,
          2012,
          2013,
          2014,
          2015,
          2016,
          2017,
          2018,
          2019,
          2020,
          2021,
          2022
         ],
         "xaxis": "x",
         "y": [
          0.9538303153217204,
          0.9473943242838021,
          0.9496193456717508,
          0.9441631273142403,
          0.9606173284425481,
          0.9576731364610154,
          0.9645046340227499,
          0.9900133618930113,
          1.0099800343072929,
          1.025789346315816,
          1.0403799354937895,
          1.0611048970991095,
          null
         ],
         "yaxis": "y"
        },
        {
         "hovertemplate": "variable=('Tokyo-to Kokubunji-shi', 13214)<br>year=%{x}<br>value=%{y}<extra></extra>",
         "legendgroup": "('Tokyo-to Kokubunji-shi', 13214)",
         "line": {
          "color": "#FF6692",
          "dash": "solid"
         },
         "marker": {
          "symbol": "circle"
         },
         "mode": "lines+markers",
         "name": "('Tokyo-to Kokubunji-shi', 13214)",
         "orientation": "v",
         "showlegend": true,
         "type": "scatter",
         "x": [
          2010,
          2011,
          2012,
          2013,
          2014,
          2015,
          2016,
          2017,
          2018,
          2019,
          2020,
          2021,
          2022
         ],
         "xaxis": "x",
         "y": [
          0.9346133856642043,
          0.941652776955764,
          0.9362209463521197,
          0.9523946335767047,
          0.9727377697867962,
          0.9933068907748588,
          1.019424237951593,
          1.0314931722427545,
          1.0721198906948386,
          1.1302250314905542,
          1.1428879353607229,
          1.1692286687966513,
          null
         ],
         "yaxis": "y"
        },
        {
         "hovertemplate": "variable=('Tokyo-to Kunitachi-shi', 13215)<br>year=%{x}<br>value=%{y}<extra></extra>",
         "legendgroup": "('Tokyo-to Kunitachi-shi', 13215)",
         "line": {
          "color": "#B6E880",
          "dash": "solid"
         },
         "marker": {
          "symbol": "circle"
         },
         "mode": "lines+markers",
         "name": "('Tokyo-to Kunitachi-shi', 13215)",
         "orientation": "v",
         "showlegend": true,
         "type": "scatter",
         "x": [
          2010,
          2011,
          2012,
          2013,
          2014,
          2015,
          2016,
          2017,
          2018,
          2019,
          2020,
          2021,
          2022
         ],
         "xaxis": "x",
         "y": [
          0.9593690027115745,
          0.9503887093759114,
          0.9671407201978263,
          0.9671347387836422,
          1.029370153276596,
          0.9916038787502579,
          1.0264959821659883,
          1.0656764357171957,
          1.073514907563657,
          1.078192398854413,
          1.1150342782020504,
          1.114131491040832,
          null
         ],
         "yaxis": "y"
        },
        {
         "hovertemplate": "variable=('Tokyo-to Komae-shi', 13219)<br>year=%{x}<br>value=%{y}<extra></extra>",
         "legendgroup": "('Tokyo-to Komae-shi', 13219)",
         "line": {
          "color": "#FF97FF",
          "dash": "solid"
         },
         "marker": {
          "symbol": "circle"
         },
         "mode": "lines+markers",
         "name": "('Tokyo-to Komae-shi', 13219)",
         "orientation": "v",
         "showlegend": true,
         "type": "scatter",
         "x": [
          2010,
          2011,
          2012,
          2013,
          2014,
          2015,
          2016,
          2017,
          2018,
          2019,
          2020,
          2021,
          2022
         ],
         "xaxis": "x",
         "y": [
          0.9250077941085703,
          0.9124162021732016,
          0.9045707901958875,
          0.9179995616449581,
          0.9502361856730475,
          0.9775446609272213,
          1.0252821868886977,
          1.030655263871821,
          1.0738000230211286,
          1.132071111676091,
          1.119270237943227,
          1.1620287826371902,
          null
         ],
         "yaxis": "y"
        },
        {
         "hovertemplate": "variable=('Tokyo-to Higashiyamato-shi', 13220)<br>year=%{x}<br>value=%{y}<extra></extra>",
         "legendgroup": "('Tokyo-to Higashiyamato-shi', 13220)",
         "line": {
          "color": "#FECB52",
          "dash": "solid"
         },
         "marker": {
          "symbol": "circle"
         },
         "mode": "lines+markers",
         "name": "('Tokyo-to Higashiyamato-shi', 13220)",
         "orientation": "v",
         "showlegend": true,
         "type": "scatter",
         "x": [
          2010,
          2011,
          2012,
          2013,
          2014,
          2015,
          2016,
          2017,
          2018,
          2019,
          2020,
          2021,
          2022
         ],
         "xaxis": "x",
         "y": [
          0.942893799586285,
          0.9423850955730005,
          0.9339512353472202,
          0.9388176598429189,
          0.9657255709818758,
          0.992901351141224,
          1.061079011760566,
          1.0342885601011964,
          1.0518165548476386,
          1.0623205625785617,
          1.0650372951258804,
          1.0725066097073939,
          null
         ],
         "yaxis": "y"
        },
        {
         "hovertemplate": "variable=('Tokyo-to Kiyose-shi', 13221)<br>year=%{x}<br>value=%{y}<extra></extra>",
         "legendgroup": "('Tokyo-to Kiyose-shi', 13221)",
         "line": {
          "color": "#636efa",
          "dash": "solid"
         },
         "marker": {
          "symbol": "circle"
         },
         "mode": "lines+markers",
         "name": "('Tokyo-to Kiyose-shi', 13221)",
         "orientation": "v",
         "showlegend": true,
         "type": "scatter",
         "x": [
          2010,
          2011,
          2012,
          2013,
          2014,
          2015,
          2016,
          2017,
          2018,
          2019,
          2020,
          2021,
          2022
         ],
         "xaxis": "x",
         "y": [
          0.9728176724609994,
          0.9497870831757871,
          0.9388946837800574,
          0.9410625675508546,
          0.962021756587339,
          0.9577600308350828,
          0.9787952881422914,
          1.011423328669654,
          1.0394056827422868,
          1.040838838696259,
          1.0780303383200944,
          1.0979259255037839,
          null
         ],
         "yaxis": "y"
        },
        {
         "hovertemplate": "variable=('Tokyo-to Higashikurume-shi', 13222)<br>year=%{x}<br>value=%{y}<extra></extra>",
         "legendgroup": "('Tokyo-to Higashikurume-shi', 13222)",
         "line": {
          "color": "#EF553B",
          "dash": "solid"
         },
         "marker": {
          "symbol": "circle"
         },
         "mode": "lines+markers",
         "name": "('Tokyo-to Higashikurume-shi', 13222)",
         "orientation": "v",
         "showlegend": true,
         "type": "scatter",
         "x": [
          2010,
          2011,
          2012,
          2013,
          2014,
          2015,
          2016,
          2017,
          2018,
          2019,
          2020,
          2021,
          2022
         ],
         "xaxis": "x",
         "y": [
          0.9404129828626482,
          0.9281679761011414,
          0.9159995319321966,
          0.9285573262091108,
          0.9517750953190423,
          0.9436019500498996,
          0.9568384067232638,
          0.9861145033312886,
          1.0246971958700328,
          1.032674750166501,
          1.0333533869069653,
          1.048608415486579,
          null
         ],
         "yaxis": "y"
        },
        {
         "hovertemplate": "variable=('Tokyo-to Musashimurayama-shi', 13223)<br>year=%{x}<br>value=%{y}<extra></extra>",
         "legendgroup": "('Tokyo-to Musashimurayama-shi', 13223)",
         "line": {
          "color": "#00cc96",
          "dash": "solid"
         },
         "marker": {
          "symbol": "circle"
         },
         "mode": "lines+markers",
         "name": "('Tokyo-to Musashimurayama-shi', 13223)",
         "orientation": "v",
         "showlegend": true,
         "type": "scatter",
         "x": [
          2010,
          2011,
          2012,
          2013,
          2014,
          2015,
          2016,
          2017,
          2018,
          2019,
          2020,
          2021,
          2022
         ],
         "xaxis": "x",
         "y": [
          0.9314115151266706,
          0.917773335656309,
          0.9224456321226533,
          0.933940097974912,
          0.9416823809133394,
          0.9555858612773634,
          0.9678096868082318,
          1.0091555505452163,
          1.0210782979421171,
          1.056400785029106,
          1.0592111789784378,
          1.068353673034353,
          null
         ],
         "yaxis": "y"
        },
        {
         "hovertemplate": "variable=('Tokyo-to Tama-shi', 13224)<br>year=%{x}<br>value=%{y}<extra></extra>",
         "legendgroup": "('Tokyo-to Tama-shi', 13224)",
         "line": {
          "color": "#ab63fa",
          "dash": "solid"
         },
         "marker": {
          "symbol": "circle"
         },
         "mode": "lines+markers",
         "name": "('Tokyo-to Tama-shi', 13224)",
         "orientation": "v",
         "showlegend": true,
         "type": "scatter",
         "x": [
          2010,
          2011,
          2012,
          2013,
          2014,
          2015,
          2016,
          2017,
          2018,
          2019,
          2020,
          2021,
          2022
         ],
         "xaxis": "x",
         "y": [
          0.9378689808371691,
          0.9386147934462311,
          0.9034687147101933,
          0.8962799105542416,
          0.9416495300615274,
          0.9450659083925426,
          0.9514945314469714,
          0.9682220333697267,
          0.9778929146508278,
          0.9965411153382564,
          1.0062177124049234,
          1.0207570204742713,
          null
         ],
         "yaxis": "y"
        },
        {
         "hovertemplate": "variable=('Tokyo-to Inagi-shi', 13225)<br>year=%{x}<br>value=%{y}<extra></extra>",
         "legendgroup": "('Tokyo-to Inagi-shi', 13225)",
         "line": {
          "color": "#FFA15A",
          "dash": "solid"
         },
         "marker": {
          "symbol": "circle"
         },
         "mode": "lines+markers",
         "name": "('Tokyo-to Inagi-shi', 13225)",
         "orientation": "v",
         "showlegend": true,
         "type": "scatter",
         "x": [
          2010,
          2011,
          2012,
          2013,
          2014,
          2015,
          2016,
          2017,
          2018,
          2019,
          2020,
          2021,
          2022
         ],
         "xaxis": "x",
         "y": [
          0.9426753929818072,
          0.9625143430918969,
          0.9693197071234071,
          0.9845323484178833,
          1.0048845554850367,
          1.0241886216923435,
          1.063907694816858,
          1.087695630740967,
          1.121426216639375,
          1.1460622505588263,
          1.170453883394824,
          1.2095664381464084,
          null
         ],
         "yaxis": "y"
        },
        {
         "hovertemplate": "variable=('Tokyo-to Hamura-shi', 13227)<br>year=%{x}<br>value=%{y}<extra></extra>",
         "legendgroup": "('Tokyo-to Hamura-shi', 13227)",
         "line": {
          "color": "#19d3f3",
          "dash": "solid"
         },
         "marker": {
          "symbol": "circle"
         },
         "mode": "lines+markers",
         "name": "('Tokyo-to Hamura-shi', 13227)",
         "orientation": "v",
         "showlegend": true,
         "type": "scatter",
         "x": [
          2010,
          2011,
          2012,
          2013,
          2014,
          2015,
          2016,
          2017,
          2018,
          2019,
          2020,
          2021,
          2022
         ],
         "xaxis": "x",
         "y": [
          0.8976336543904345,
          0.9173290015657807,
          0.9122184458831532,
          0.9152504065022486,
          0.9298850620579338,
          0.9437160400166028,
          0.9580417107672597,
          0.9627519174014466,
          0.9711503940468742,
          0.9988533500142782,
          0.9814873334798614,
          0.9899015589117146,
          null
         ],
         "yaxis": "y"
        },
        {
         "hovertemplate": "variable=('Tokyo-to Akiruno-shi', 13228)<br>year=%{x}<br>value=%{y}<extra></extra>",
         "legendgroup": "('Tokyo-to Akiruno-shi', 13228)",
         "line": {
          "color": "#FF6692",
          "dash": "solid"
         },
         "marker": {
          "symbol": "circle"
         },
         "mode": "lines+markers",
         "name": "('Tokyo-to Akiruno-shi', 13228)",
         "orientation": "v",
         "showlegend": true,
         "type": "scatter",
         "x": [
          2010,
          2011,
          2012,
          2013,
          2014,
          2015,
          2016,
          2017,
          2018,
          2019,
          2020,
          2021,
          2022
         ],
         "xaxis": "x",
         "y": [
          0.9259405279075223,
          0.922504155508219,
          0.9171732329174407,
          0.9142369648138492,
          0.9149319482832584,
          0.9206809041557807,
          0.9352748604667226,
          0.958904063544623,
          0.9685885241866028,
          0.9732449871359986,
          0.9858067038014586,
          1.0044934386358522,
          null
         ],
         "yaxis": "y"
        },
        {
         "hovertemplate": "variable=('Tokyo-to Nishitokyo-shi', 13229)<br>year=%{x}<br>value=%{y}<extra></extra>",
         "legendgroup": "('Tokyo-to Nishitokyo-shi', 13229)",
         "line": {
          "color": "#B6E880",
          "dash": "solid"
         },
         "marker": {
          "symbol": "circle"
         },
         "mode": "lines+markers",
         "name": "('Tokyo-to Nishitokyo-shi', 13229)",
         "orientation": "v",
         "showlegend": true,
         "type": "scatter",
         "x": [
          2010,
          2011,
          2012,
          2013,
          2014,
          2015,
          2016,
          2017,
          2018,
          2019,
          2020,
          2021,
          2022
         ],
         "xaxis": "x",
         "y": [
          0.9610742131954162,
          0.9720223866380473,
          0.9632131035562217,
          0.97036617533525,
          0.9932680763409591,
          1.008982171965906,
          1.0258622047926431,
          1.0563034357020114,
          1.079509963048595,
          1.1095901749204378,
          1.108618239741727,
          1.1314222525575304,
          null
         ],
         "yaxis": "y"
        }
       ],
       "layout": {
        "autosize": false,
        "height": 800,
        "hovermode": "closest",
        "legend": {
         "title": {
          "text": "variable"
         },
         "tracegroupgap": 0
        },
        "template": {
         "data": {
          "bar": [
           {
            "error_x": {
             "color": "#2a3f5f"
            },
            "error_y": {
             "color": "#2a3f5f"
            },
            "marker": {
             "line": {
              "color": "#E5ECF6",
              "width": 0.5
             },
             "pattern": {
              "fillmode": "overlay",
              "size": 10,
              "solidity": 0.2
             }
            },
            "type": "bar"
           }
          ],
          "barpolar": [
           {
            "marker": {
             "line": {
              "color": "#E5ECF6",
              "width": 0.5
             },
             "pattern": {
              "fillmode": "overlay",
              "size": 10,
              "solidity": 0.2
             }
            },
            "type": "barpolar"
           }
          ],
          "carpet": [
           {
            "aaxis": {
             "endlinecolor": "#2a3f5f",
             "gridcolor": "white",
             "linecolor": "white",
             "minorgridcolor": "white",
             "startlinecolor": "#2a3f5f"
            },
            "baxis": {
             "endlinecolor": "#2a3f5f",
             "gridcolor": "white",
             "linecolor": "white",
             "minorgridcolor": "white",
             "startlinecolor": "#2a3f5f"
            },
            "type": "carpet"
           }
          ],
          "choropleth": [
           {
            "colorbar": {
             "outlinewidth": 0,
             "ticks": ""
            },
            "type": "choropleth"
           }
          ],
          "contour": [
           {
            "colorbar": {
             "outlinewidth": 0,
             "ticks": ""
            },
            "colorscale": [
             [
              0,
              "#0d0887"
             ],
             [
              0.1111111111111111,
              "#46039f"
             ],
             [
              0.2222222222222222,
              "#7201a8"
             ],
             [
              0.3333333333333333,
              "#9c179e"
             ],
             [
              0.4444444444444444,
              "#bd3786"
             ],
             [
              0.5555555555555556,
              "#d8576b"
             ],
             [
              0.6666666666666666,
              "#ed7953"
             ],
             [
              0.7777777777777778,
              "#fb9f3a"
             ],
             [
              0.8888888888888888,
              "#fdca26"
             ],
             [
              1,
              "#f0f921"
             ]
            ],
            "type": "contour"
           }
          ],
          "contourcarpet": [
           {
            "colorbar": {
             "outlinewidth": 0,
             "ticks": ""
            },
            "type": "contourcarpet"
           }
          ],
          "heatmap": [
           {
            "colorbar": {
             "outlinewidth": 0,
             "ticks": ""
            },
            "colorscale": [
             [
              0,
              "#0d0887"
             ],
             [
              0.1111111111111111,
              "#46039f"
             ],
             [
              0.2222222222222222,
              "#7201a8"
             ],
             [
              0.3333333333333333,
              "#9c179e"
             ],
             [
              0.4444444444444444,
              "#bd3786"
             ],
             [
              0.5555555555555556,
              "#d8576b"
             ],
             [
              0.6666666666666666,
              "#ed7953"
             ],
             [
              0.7777777777777778,
              "#fb9f3a"
             ],
             [
              0.8888888888888888,
              "#fdca26"
             ],
             [
              1,
              "#f0f921"
             ]
            ],
            "type": "heatmap"
           }
          ],
          "heatmapgl": [
           {
            "colorbar": {
             "outlinewidth": 0,
             "ticks": ""
            },
            "colorscale": [
             [
              0,
              "#0d0887"
             ],
             [
              0.1111111111111111,
              "#46039f"
             ],
             [
              0.2222222222222222,
              "#7201a8"
             ],
             [
              0.3333333333333333,
              "#9c179e"
             ],
             [
              0.4444444444444444,
              "#bd3786"
             ],
             [
              0.5555555555555556,
              "#d8576b"
             ],
             [
              0.6666666666666666,
              "#ed7953"
             ],
             [
              0.7777777777777778,
              "#fb9f3a"
             ],
             [
              0.8888888888888888,
              "#fdca26"
             ],
             [
              1,
              "#f0f921"
             ]
            ],
            "type": "heatmapgl"
           }
          ],
          "histogram": [
           {
            "marker": {
             "pattern": {
              "fillmode": "overlay",
              "size": 10,
              "solidity": 0.2
             }
            },
            "type": "histogram"
           }
          ],
          "histogram2d": [
           {
            "colorbar": {
             "outlinewidth": 0,
             "ticks": ""
            },
            "colorscale": [
             [
              0,
              "#0d0887"
             ],
             [
              0.1111111111111111,
              "#46039f"
             ],
             [
              0.2222222222222222,
              "#7201a8"
             ],
             [
              0.3333333333333333,
              "#9c179e"
             ],
             [
              0.4444444444444444,
              "#bd3786"
             ],
             [
              0.5555555555555556,
              "#d8576b"
             ],
             [
              0.6666666666666666,
              "#ed7953"
             ],
             [
              0.7777777777777778,
              "#fb9f3a"
             ],
             [
              0.8888888888888888,
              "#fdca26"
             ],
             [
              1,
              "#f0f921"
             ]
            ],
            "type": "histogram2d"
           }
          ],
          "histogram2dcontour": [
           {
            "colorbar": {
             "outlinewidth": 0,
             "ticks": ""
            },
            "colorscale": [
             [
              0,
              "#0d0887"
             ],
             [
              0.1111111111111111,
              "#46039f"
             ],
             [
              0.2222222222222222,
              "#7201a8"
             ],
             [
              0.3333333333333333,
              "#9c179e"
             ],
             [
              0.4444444444444444,
              "#bd3786"
             ],
             [
              0.5555555555555556,
              "#d8576b"
             ],
             [
              0.6666666666666666,
              "#ed7953"
             ],
             [
              0.7777777777777778,
              "#fb9f3a"
             ],
             [
              0.8888888888888888,
              "#fdca26"
             ],
             [
              1,
              "#f0f921"
             ]
            ],
            "type": "histogram2dcontour"
           }
          ],
          "mesh3d": [
           {
            "colorbar": {
             "outlinewidth": 0,
             "ticks": ""
            },
            "type": "mesh3d"
           }
          ],
          "parcoords": [
           {
            "line": {
             "colorbar": {
              "outlinewidth": 0,
              "ticks": ""
             }
            },
            "type": "parcoords"
           }
          ],
          "pie": [
           {
            "automargin": true,
            "type": "pie"
           }
          ],
          "scatter": [
           {
            "fillpattern": {
             "fillmode": "overlay",
             "size": 10,
             "solidity": 0.2
            },
            "type": "scatter"
           }
          ],
          "scatter3d": [
           {
            "line": {
             "colorbar": {
              "outlinewidth": 0,
              "ticks": ""
             }
            },
            "marker": {
             "colorbar": {
              "outlinewidth": 0,
              "ticks": ""
             }
            },
            "type": "scatter3d"
           }
          ],
          "scattercarpet": [
           {
            "marker": {
             "colorbar": {
              "outlinewidth": 0,
              "ticks": ""
             }
            },
            "type": "scattercarpet"
           }
          ],
          "scattergeo": [
           {
            "marker": {
             "colorbar": {
              "outlinewidth": 0,
              "ticks": ""
             }
            },
            "type": "scattergeo"
           }
          ],
          "scattergl": [
           {
            "marker": {
             "colorbar": {
              "outlinewidth": 0,
              "ticks": ""
             }
            },
            "type": "scattergl"
           }
          ],
          "scattermapbox": [
           {
            "marker": {
             "colorbar": {
              "outlinewidth": 0,
              "ticks": ""
             }
            },
            "type": "scattermapbox"
           }
          ],
          "scatterpolar": [
           {
            "marker": {
             "colorbar": {
              "outlinewidth": 0,
              "ticks": ""
             }
            },
            "type": "scatterpolar"
           }
          ],
          "scatterpolargl": [
           {
            "marker": {
             "colorbar": {
              "outlinewidth": 0,
              "ticks": ""
             }
            },
            "type": "scatterpolargl"
           }
          ],
          "scatterternary": [
           {
            "marker": {
             "colorbar": {
              "outlinewidth": 0,
              "ticks": ""
             }
            },
            "type": "scatterternary"
           }
          ],
          "surface": [
           {
            "colorbar": {
             "outlinewidth": 0,
             "ticks": ""
            },
            "colorscale": [
             [
              0,
              "#0d0887"
             ],
             [
              0.1111111111111111,
              "#46039f"
             ],
             [
              0.2222222222222222,
              "#7201a8"
             ],
             [
              0.3333333333333333,
              "#9c179e"
             ],
             [
              0.4444444444444444,
              "#bd3786"
             ],
             [
              0.5555555555555556,
              "#d8576b"
             ],
             [
              0.6666666666666666,
              "#ed7953"
             ],
             [
              0.7777777777777778,
              "#fb9f3a"
             ],
             [
              0.8888888888888888,
              "#fdca26"
             ],
             [
              1,
              "#f0f921"
             ]
            ],
            "type": "surface"
           }
          ],
          "table": [
           {
            "cells": {
             "fill": {
              "color": "#EBF0F8"
             },
             "line": {
              "color": "white"
             }
            },
            "header": {
             "fill": {
              "color": "#C8D4E3"
             },
             "line": {
              "color": "white"
             }
            },
            "type": "table"
           }
          ]
         },
         "layout": {
          "annotationdefaults": {
           "arrowcolor": "#2a3f5f",
           "arrowhead": 0,
           "arrowwidth": 1
          },
          "autotypenumbers": "strict",
          "coloraxis": {
           "colorbar": {
            "outlinewidth": 0,
            "ticks": ""
           }
          },
          "colorscale": {
           "diverging": [
            [
             0,
             "#8e0152"
            ],
            [
             0.1,
             "#c51b7d"
            ],
            [
             0.2,
             "#de77ae"
            ],
            [
             0.3,
             "#f1b6da"
            ],
            [
             0.4,
             "#fde0ef"
            ],
            [
             0.5,
             "#f7f7f7"
            ],
            [
             0.6,
             "#e6f5d0"
            ],
            [
             0.7,
             "#b8e186"
            ],
            [
             0.8,
             "#7fbc41"
            ],
            [
             0.9,
             "#4d9221"
            ],
            [
             1,
             "#276419"
            ]
           ],
           "sequential": [
            [
             0,
             "#0d0887"
            ],
            [
             0.1111111111111111,
             "#46039f"
            ],
            [
             0.2222222222222222,
             "#7201a8"
            ],
            [
             0.3333333333333333,
             "#9c179e"
            ],
            [
             0.4444444444444444,
             "#bd3786"
            ],
            [
             0.5555555555555556,
             "#d8576b"
            ],
            [
             0.6666666666666666,
             "#ed7953"
            ],
            [
             0.7777777777777778,
             "#fb9f3a"
            ],
            [
             0.8888888888888888,
             "#fdca26"
            ],
            [
             1,
             "#f0f921"
            ]
           ],
           "sequentialminus": [
            [
             0,
             "#0d0887"
            ],
            [
             0.1111111111111111,
             "#46039f"
            ],
            [
             0.2222222222222222,
             "#7201a8"
            ],
            [
             0.3333333333333333,
             "#9c179e"
            ],
            [
             0.4444444444444444,
             "#bd3786"
            ],
            [
             0.5555555555555556,
             "#d8576b"
            ],
            [
             0.6666666666666666,
             "#ed7953"
            ],
            [
             0.7777777777777778,
             "#fb9f3a"
            ],
            [
             0.8888888888888888,
             "#fdca26"
            ],
            [
             1,
             "#f0f921"
            ]
           ]
          },
          "colorway": [
           "#636efa",
           "#EF553B",
           "#00cc96",
           "#ab63fa",
           "#FFA15A",
           "#19d3f3",
           "#FF6692",
           "#B6E880",
           "#FF97FF",
           "#FECB52"
          ],
          "font": {
           "color": "#2a3f5f"
          },
          "geo": {
           "bgcolor": "white",
           "lakecolor": "white",
           "landcolor": "#E5ECF6",
           "showlakes": true,
           "showland": true,
           "subunitcolor": "white"
          },
          "hoverlabel": {
           "align": "left"
          },
          "hovermode": "closest",
          "mapbox": {
           "style": "light"
          },
          "paper_bgcolor": "white",
          "plot_bgcolor": "#E5ECF6",
          "polar": {
           "angularaxis": {
            "gridcolor": "white",
            "linecolor": "white",
            "ticks": ""
           },
           "bgcolor": "#E5ECF6",
           "radialaxis": {
            "gridcolor": "white",
            "linecolor": "white",
            "ticks": ""
           }
          },
          "scene": {
           "xaxis": {
            "backgroundcolor": "#E5ECF6",
            "gridcolor": "white",
            "gridwidth": 2,
            "linecolor": "white",
            "showbackground": true,
            "ticks": "",
            "zerolinecolor": "white"
           },
           "yaxis": {
            "backgroundcolor": "#E5ECF6",
            "gridcolor": "white",
            "gridwidth": 2,
            "linecolor": "white",
            "showbackground": true,
            "ticks": "",
            "zerolinecolor": "white"
           },
           "zaxis": {
            "backgroundcolor": "#E5ECF6",
            "gridcolor": "white",
            "gridwidth": 2,
            "linecolor": "white",
            "showbackground": true,
            "ticks": "",
            "zerolinecolor": "white"
           }
          },
          "shapedefaults": {
           "line": {
            "color": "#2a3f5f"
           }
          },
          "ternary": {
           "aaxis": {
            "gridcolor": "white",
            "linecolor": "white",
            "ticks": ""
           },
           "baxis": {
            "gridcolor": "white",
            "linecolor": "white",
            "ticks": ""
           },
           "bgcolor": "#E5ECF6",
           "caxis": {
            "gridcolor": "white",
            "linecolor": "white",
            "ticks": ""
           }
          },
          "title": {
           "x": 0.05
          },
          "xaxis": {
           "automargin": true,
           "gridcolor": "white",
           "linecolor": "white",
           "ticks": "",
           "title": {
            "standoff": 15
           },
           "zerolinecolor": "white",
           "zerolinewidth": 2
          },
          "yaxis": {
           "automargin": true,
           "gridcolor": "white",
           "linecolor": "white",
           "ticks": "",
           "title": {
            "standoff": 15
           },
           "zerolinecolor": "white",
           "zerolinewidth": 2
          }
         }
        },
        "title": {
         "text": "cumulative taxable_income_growth for top and bottom 10 municipalities"
        },
        "width": 1600,
        "xaxis": {
         "anchor": "y",
         "domain": [
          0,
          1
         ],
         "title": {
          "text": "year"
         }
        },
        "yaxis": {
         "anchor": "x",
         "domain": [
          0,
          1
         ],
         "title": {
          "text": "value"
         }
        }
       }
      }
     },
     "metadata": {},
     "output_type": "display_data"
    }
   ],
   "source": [
    "plot_time_series(\n",
    "    plot_df,\n",
    "    \"factor_growth\",\n",
    "    group_by_columns,\n",
    "    granularity_columns,\n",
    "    f\"cumulative {factor_column} for top and bottom {return_n} municipalities\",\n",
    "    # visible=\"legendonly\",\n",
    ")"
   ]
  },
  {
   "cell_type": "code",
   "execution_count": 11,
   "metadata": {},
   "outputs": [
    {
     "data": {
      "application/vnd.plotly.v1+json": {
       "config": {
        "plotlyServerURL": "https://plot.ly"
       },
       "data": [
        {
         "hovertemplate": "variable=('Tokyo-to Chiyoda-ku', 13101)<br>year=%{x}<br>value=%{y}<extra></extra>",
         "legendgroup": "('Tokyo-to Chiyoda-ku', 13101)",
         "line": {
          "color": "#636efa",
          "dash": "solid"
         },
         "marker": {
          "symbol": "circle"
         },
         "mode": "lines+markers",
         "name": "('Tokyo-to Chiyoda-ku', 13101)",
         "orientation": "v",
         "showlegend": true,
         "type": "scatter",
         "x": [
          2010,
          2011,
          2012,
          2013,
          2014,
          2015,
          2016,
          2017,
          2018,
          2019,
          2020,
          2021,
          2022
         ],
         "xaxis": "x",
         "y": [
          46,
          61,
          57,
          63,
          68,
          70,
          64,
          66,
          66,
          64,
          41,
          48,
          52
         ],
         "yaxis": "y"
        },
        {
         "hovertemplate": "variable=('Tokyo-to Chuo-ku', 13102)<br>year=%{x}<br>value=%{y}<extra></extra>",
         "legendgroup": "('Tokyo-to Chuo-ku', 13102)",
         "line": {
          "color": "#EF553B",
          "dash": "solid"
         },
         "marker": {
          "symbol": "circle"
         },
         "mode": "lines+markers",
         "name": "('Tokyo-to Chuo-ku', 13102)",
         "orientation": "v",
         "showlegend": true,
         "type": "scatter",
         "x": [
          2010,
          2011,
          2012,
          2013,
          2014,
          2015,
          2016,
          2017,
          2018,
          2019,
          2020,
          2021,
          2022
         ],
         "xaxis": "x",
         "y": [
          90,
          87,
          86,
          114,
          92,
          90,
          93,
          76,
          84,
          81,
          66,
          80,
          62
         ],
         "yaxis": "y"
        },
        {
         "hovertemplate": "variable=('Tokyo-to Minato-ku', 13103)<br>year=%{x}<br>value=%{y}<extra></extra>",
         "legendgroup": "('Tokyo-to Minato-ku', 13103)",
         "line": {
          "color": "#00cc96",
          "dash": "solid"
         },
         "marker": {
          "symbol": "circle"
         },
         "mode": "lines+markers",
         "name": "('Tokyo-to Minato-ku', 13103)",
         "orientation": "v",
         "showlegend": true,
         "type": "scatter",
         "x": [
          2010,
          2011,
          2012,
          2013,
          2014,
          2015,
          2016,
          2017,
          2018,
          2019,
          2020,
          2021,
          2022
         ],
         "xaxis": "x",
         "y": [
          98,
          85,
          96,
          139,
          118,
          123,
          126,
          128,
          103,
          99,
          73,
          78,
          101
         ],
         "yaxis": "y"
        },
        {
         "hovertemplate": "variable=('Tokyo-to Shinjuku-ku', 13104)<br>year=%{x}<br>value=%{y}<extra></extra>",
         "legendgroup": "('Tokyo-to Shinjuku-ku', 13104)",
         "line": {
          "color": "#ab63fa",
          "dash": "solid"
         },
         "marker": {
          "symbol": "circle"
         },
         "mode": "lines+markers",
         "name": "('Tokyo-to Shinjuku-ku', 13104)",
         "orientation": "v",
         "showlegend": true,
         "type": "scatter",
         "x": [
          2010,
          2011,
          2012,
          2013,
          2014,
          2015,
          2016,
          2017,
          2018,
          2019,
          2020,
          2021,
          2022
         ],
         "xaxis": "x",
         "y": [
          182,
          177,
          208,
          229,
          243,
          217,
          214,
          183,
          206,
          203,
          190,
          205,
          231
         ],
         "yaxis": "y"
        },
        {
         "hovertemplate": "variable=('Tokyo-to Bunkyo-ku', 13105)<br>year=%{x}<br>value=%{y}<extra></extra>",
         "legendgroup": "('Tokyo-to Bunkyo-ku', 13105)",
         "line": {
          "color": "#FFA15A",
          "dash": "solid"
         },
         "marker": {
          "symbol": "circle"
         },
         "mode": "lines+markers",
         "name": "('Tokyo-to Bunkyo-ku', 13105)",
         "orientation": "v",
         "showlegend": true,
         "type": "scatter",
         "x": [
          2010,
          2011,
          2012,
          2013,
          2014,
          2015,
          2016,
          2017,
          2018,
          2019,
          2020,
          2021,
          2022
         ],
         "xaxis": "x",
         "y": [
          134,
          108,
          124,
          174,
          153,
          160,
          115,
          140,
          131,
          153,
          134,
          139,
          140
         ],
         "yaxis": "y"
        },
        {
         "hovertemplate": "variable=('Tokyo-to Taito-ku', 13106)<br>year=%{x}<br>value=%{y}<extra></extra>",
         "legendgroup": "('Tokyo-to Taito-ku', 13106)",
         "line": {
          "color": "#19d3f3",
          "dash": "solid"
         },
         "marker": {
          "symbol": "circle"
         },
         "mode": "lines+markers",
         "name": "('Tokyo-to Taito-ku', 13106)",
         "orientation": "v",
         "showlegend": true,
         "type": "scatter",
         "x": [
          2010,
          2011,
          2012,
          2013,
          2014,
          2015,
          2016,
          2017,
          2018,
          2019,
          2020,
          2021,
          2022
         ],
         "xaxis": "x",
         "y": [
          133,
          117,
          128,
          151,
          155,
          154,
          151,
          170,
          137,
          161,
          157,
          126,
          124
         ],
         "yaxis": "y"
        },
        {
         "hovertemplate": "variable=('Tokyo-to Sumida-ku', 13107)<br>year=%{x}<br>value=%{y}<extra></extra>",
         "legendgroup": "('Tokyo-to Sumida-ku', 13107)",
         "line": {
          "color": "#FF6692",
          "dash": "solid"
         },
         "marker": {
          "symbol": "circle"
         },
         "mode": "lines+markers",
         "name": "('Tokyo-to Sumida-ku', 13107)",
         "orientation": "v",
         "showlegend": true,
         "type": "scatter",
         "x": [
          2010,
          2011,
          2012,
          2013,
          2014,
          2015,
          2016,
          2017,
          2018,
          2019,
          2020,
          2021,
          2022
         ],
         "xaxis": "x",
         "y": [
          139,
          144,
          168,
          176,
          222,
          198,
          154,
          160,
          183,
          180,
          177,
          190,
          158
         ],
         "yaxis": "y"
        },
        {
         "hovertemplate": "variable=('Tokyo-to Koto-ku', 13108)<br>year=%{x}<br>value=%{y}<extra></extra>",
         "legendgroup": "('Tokyo-to Koto-ku', 13108)",
         "line": {
          "color": "#B6E880",
          "dash": "solid"
         },
         "marker": {
          "symbol": "circle"
         },
         "mode": "lines+markers",
         "name": "('Tokyo-to Koto-ku', 13108)",
         "orientation": "v",
         "showlegend": true,
         "type": "scatter",
         "x": [
          2010,
          2011,
          2012,
          2013,
          2014,
          2015,
          2016,
          2017,
          2018,
          2019,
          2020,
          2021,
          2022
         ],
         "xaxis": "x",
         "y": [
          158,
          146,
          189,
          166,
          161,
          177,
          196,
          160,
          149,
          203,
          172,
          196,
          193
         ],
         "yaxis": "y"
        },
        {
         "hovertemplate": "variable=('Tokyo-to Shinagawa-ku', 13109)<br>year=%{x}<br>value=%{y}<extra></extra>",
         "legendgroup": "('Tokyo-to Shinagawa-ku', 13109)",
         "line": {
          "color": "#FF97FF",
          "dash": "solid"
         },
         "marker": {
          "symbol": "circle"
         },
         "mode": "lines+markers",
         "name": "('Tokyo-to Shinagawa-ku', 13109)",
         "orientation": "v",
         "showlegend": true,
         "type": "scatter",
         "x": [
          2010,
          2011,
          2012,
          2013,
          2014,
          2015,
          2016,
          2017,
          2018,
          2019,
          2020,
          2021,
          2022
         ],
         "xaxis": "x",
         "y": [
          185,
          211,
          218,
          233,
          241,
          211,
          175,
          225,
          218,
          210,
          227,
          231,
          219
         ],
         "yaxis": "y"
        },
        {
         "hovertemplate": "variable=('Tokyo-to Meguro-ku', 13110)<br>year=%{x}<br>value=%{y}<extra></extra>",
         "legendgroup": "('Tokyo-to Meguro-ku', 13110)",
         "line": {
          "color": "#FECB52",
          "dash": "solid"
         },
         "marker": {
          "symbol": "circle"
         },
         "mode": "lines+markers",
         "name": "('Tokyo-to Meguro-ku', 13110)",
         "orientation": "v",
         "showlegend": true,
         "type": "scatter",
         "x": [
          2010,
          2011,
          2012,
          2013,
          2014,
          2015,
          2016,
          2017,
          2018,
          2019,
          2020,
          2021,
          2022
         ],
         "xaxis": "x",
         "y": [
          150,
          150,
          172,
          171,
          148,
          147,
          174,
          167,
          156,
          155,
          150,
          160,
          168
         ],
         "yaxis": "y"
        },
        {
         "hovertemplate": "variable=('Tokyo-to Ota-ku', 13111)<br>year=%{x}<br>value=%{y}<extra></extra>",
         "legendgroup": "('Tokyo-to Ota-ku', 13111)",
         "line": {
          "color": "#636efa",
          "dash": "solid"
         },
         "marker": {
          "symbol": "circle"
         },
         "mode": "lines+markers",
         "name": "('Tokyo-to Ota-ku', 13111)",
         "orientation": "v",
         "showlegend": true,
         "type": "scatter",
         "x": [
          2010,
          2011,
          2012,
          2013,
          2014,
          2015,
          2016,
          2017,
          2018,
          2019,
          2020,
          2021,
          2022
         ],
         "xaxis": "x",
         "y": [
          454,
          411,
          482,
          539,
          560,
          563,
          557,
          552,
          514,
          550,
          614,
          630,
          520
         ],
         "yaxis": "y"
        },
        {
         "hovertemplate": "variable=('Tokyo-to Setagaya-ku', 13112)<br>year=%{x}<br>value=%{y}<extra></extra>",
         "legendgroup": "('Tokyo-to Setagaya-ku', 13112)",
         "line": {
          "color": "#EF553B",
          "dash": "solid"
         },
         "marker": {
          "symbol": "circle"
         },
         "mode": "lines+markers",
         "name": "('Tokyo-to Setagaya-ku', 13112)",
         "orientation": "v",
         "showlegend": true,
         "type": "scatter",
         "x": [
          2010,
          2011,
          2012,
          2013,
          2014,
          2015,
          2016,
          2017,
          2018,
          2019,
          2020,
          2021,
          2022
         ],
         "xaxis": "x",
         "y": [
          561,
          628,
          640,
          768,
          687,
          723,
          680,
          692,
          684,
          613,
          738,
          764,
          679
         ],
         "yaxis": "y"
        },
        {
         "hovertemplate": "variable=('Tokyo-to Shibuya-ku', 13113)<br>year=%{x}<br>value=%{y}<extra></extra>",
         "legendgroup": "('Tokyo-to Shibuya-ku', 13113)",
         "line": {
          "color": "#00cc96",
          "dash": "solid"
         },
         "marker": {
          "symbol": "circle"
         },
         "mode": "lines+markers",
         "name": "('Tokyo-to Shibuya-ku', 13113)",
         "orientation": "v",
         "showlegend": true,
         "type": "scatter",
         "x": [
          2010,
          2011,
          2012,
          2013,
          2014,
          2015,
          2016,
          2017,
          2018,
          2019,
          2020,
          2021,
          2022
         ],
         "xaxis": "x",
         "y": [
          122,
          118,
          159,
          166,
          167,
          155,
          127,
          144,
          142,
          128,
          122,
          115,
          112
         ],
         "yaxis": "y"
        },
        {
         "hovertemplate": "variable=('Tokyo-to Nakano-ku', 13114)<br>year=%{x}<br>value=%{y}<extra></extra>",
         "legendgroup": "('Tokyo-to Nakano-ku', 13114)",
         "line": {
          "color": "#ab63fa",
          "dash": "solid"
         },
         "marker": {
          "symbol": "circle"
         },
         "mode": "lines+markers",
         "name": "('Tokyo-to Nakano-ku', 13114)",
         "orientation": "v",
         "showlegend": true,
         "type": "scatter",
         "x": [
          2010,
          2011,
          2012,
          2013,
          2014,
          2015,
          2016,
          2017,
          2018,
          2019,
          2020,
          2021,
          2022
         ],
         "xaxis": "x",
         "y": [
          270,
          294,
          306,
          336,
          314,
          320,
          266,
          230,
          246,
          282,
          315,
          339,
          265
         ],
         "yaxis": "y"
        },
        {
         "hovertemplate": "variable=('Tokyo-to Suginami-ku', 13115)<br>year=%{x}<br>value=%{y}<extra></extra>",
         "legendgroup": "('Tokyo-to Suginami-ku', 13115)",
         "line": {
          "color": "#FFA15A",
          "dash": "solid"
         },
         "marker": {
          "symbol": "circle"
         },
         "mode": "lines+markers",
         "name": "('Tokyo-to Suginami-ku', 13115)",
         "orientation": "v",
         "showlegend": true,
         "type": "scatter",
         "x": [
          2010,
          2011,
          2012,
          2013,
          2014,
          2015,
          2016,
          2017,
          2018,
          2019,
          2020,
          2021,
          2022
         ],
         "xaxis": "x",
         "y": [
          500,
          420,
          461,
          622,
          543,
          545,
          609,
          540,
          546,
          545,
          647,
          644,
          446
         ],
         "yaxis": "y"
        },
        {
         "hovertemplate": "variable=('Tokyo-to Toshima-ku', 13116)<br>year=%{x}<br>value=%{y}<extra></extra>",
         "legendgroup": "('Tokyo-to Toshima-ku', 13116)",
         "line": {
          "color": "#19d3f3",
          "dash": "solid"
         },
         "marker": {
          "symbol": "circle"
         },
         "mode": "lines+markers",
         "name": "('Tokyo-to Toshima-ku', 13116)",
         "orientation": "v",
         "showlegend": true,
         "type": "scatter",
         "x": [
          2010,
          2011,
          2012,
          2013,
          2014,
          2015,
          2016,
          2017,
          2018,
          2019,
          2020,
          2021,
          2022
         ],
         "xaxis": "x",
         "y": [
          193,
          168,
          223,
          229,
          190,
          176,
          185,
          182,
          168,
          168,
          186,
          214,
          186
         ],
         "yaxis": "y"
        },
        {
         "hovertemplate": "variable=('Tokyo-to Kita-ku', 13117)<br>year=%{x}<br>value=%{y}<extra></extra>",
         "legendgroup": "('Tokyo-to Kita-ku', 13117)",
         "line": {
          "color": "#FF6692",
          "dash": "solid"
         },
         "marker": {
          "symbol": "circle"
         },
         "mode": "lines+markers",
         "name": "('Tokyo-to Kita-ku', 13117)",
         "orientation": "v",
         "showlegend": true,
         "type": "scatter",
         "x": [
          2010,
          2011,
          2012,
          2013,
          2014,
          2015,
          2016,
          2017,
          2018,
          2019,
          2020,
          2021,
          2022
         ],
         "xaxis": "x",
         "y": [
          195,
          167,
          221,
          224,
          219,
          234,
          211,
          211,
          223,
          196,
          260,
          252,
          223
         ],
         "yaxis": "y"
        },
        {
         "hovertemplate": "variable=('Tokyo-to Arakawa-ku', 13118)<br>year=%{x}<br>value=%{y}<extra></extra>",
         "legendgroup": "('Tokyo-to Arakawa-ku', 13118)",
         "line": {
          "color": "#B6E880",
          "dash": "solid"
         },
         "marker": {
          "symbol": "circle"
         },
         "mode": "lines+markers",
         "name": "('Tokyo-to Arakawa-ku', 13118)",
         "orientation": "v",
         "showlegend": true,
         "type": "scatter",
         "x": [
          2010,
          2011,
          2012,
          2013,
          2014,
          2015,
          2016,
          2017,
          2018,
          2019,
          2020,
          2021,
          2022
         ],
         "xaxis": "x",
         "y": [
          148,
          149,
          146,
          186,
          128,
          144,
          155,
          127,
          146,
          111,
          183,
          167,
          119
         ],
         "yaxis": "y"
        },
        {
         "hovertemplate": "variable=('Tokyo-to Itabashi-ku', 13119)<br>year=%{x}<br>value=%{y}<extra></extra>",
         "legendgroup": "('Tokyo-to Itabashi-ku', 13119)",
         "line": {
          "color": "#FF97FF",
          "dash": "solid"
         },
         "marker": {
          "symbol": "circle"
         },
         "mode": "lines+markers",
         "name": "('Tokyo-to Itabashi-ku', 13119)",
         "orientation": "v",
         "showlegend": true,
         "type": "scatter",
         "x": [
          2010,
          2011,
          2012,
          2013,
          2014,
          2015,
          2016,
          2017,
          2018,
          2019,
          2020,
          2021,
          2022
         ],
         "xaxis": "x",
         "y": [
          402,
          357,
          421,
          426,
          396,
          457,
          365,
          364,
          373,
          344,
          392,
          415,
          346
         ],
         "yaxis": "y"
        },
        {
         "hovertemplate": "variable=('Tokyo-to Nerima-ku', 13120)<br>year=%{x}<br>value=%{y}<extra></extra>",
         "legendgroup": "('Tokyo-to Nerima-ku', 13120)",
         "line": {
          "color": "#FECB52",
          "dash": "solid"
         },
         "marker": {
          "symbol": "circle"
         },
         "mode": "lines+markers",
         "name": "('Tokyo-to Nerima-ku', 13120)",
         "orientation": "v",
         "showlegend": true,
         "type": "scatter",
         "x": [
          2010,
          2011,
          2012,
          2013,
          2014,
          2015,
          2016,
          2017,
          2018,
          2019,
          2020,
          2021,
          2022
         ],
         "xaxis": "x",
         "y": [
          646,
          649,
          641,
          784,
          768,
          771,
          758,
          732,
          746,
          696,
          871,
          886,
          691
         ],
         "yaxis": "y"
        },
        {
         "hovertemplate": "variable=('Tokyo-to Adachi-ku', 13121)<br>year=%{x}<br>value=%{y}<extra></extra>",
         "legendgroup": "('Tokyo-to Adachi-ku', 13121)",
         "line": {
          "color": "#636efa",
          "dash": "solid"
         },
         "marker": {
          "symbol": "circle"
         },
         "mode": "lines+markers",
         "name": "('Tokyo-to Adachi-ku', 13121)",
         "orientation": "v",
         "showlegend": true,
         "type": "scatter",
         "x": [
          2010,
          2011,
          2012,
          2013,
          2014,
          2015,
          2016,
          2017,
          2018,
          2019,
          2020,
          2021,
          2022
         ],
         "xaxis": "x",
         "y": [
          550,
          630,
          670,
          693,
          626,
          620,
          578,
          575,
          540,
          605,
          787,
          646,
          571
         ],
         "yaxis": "y"
        },
        {
         "hovertemplate": "variable=('Tokyo-to Katsushika-ku', 13122)<br>year=%{x}<br>value=%{y}<extra></extra>",
         "legendgroup": "('Tokyo-to Katsushika-ku', 13122)",
         "line": {
          "color": "#EF553B",
          "dash": "solid"
         },
         "marker": {
          "symbol": "circle"
         },
         "mode": "lines+markers",
         "name": "('Tokyo-to Katsushika-ku', 13122)",
         "orientation": "v",
         "showlegend": true,
         "type": "scatter",
         "x": [
          2010,
          2011,
          2012,
          2013,
          2014,
          2015,
          2016,
          2017,
          2018,
          2019,
          2020,
          2021,
          2022
         ],
         "xaxis": "x",
         "y": [
          400,
          337,
          392,
          431,
          400,
          461,
          437,
          407,
          384,
          418,
          513,
          535,
          391
         ],
         "yaxis": "y"
        },
        {
         "hovertemplate": "variable=('Tokyo-to Edogawa-ku', 13123)<br>year=%{x}<br>value=%{y}<extra></extra>",
         "legendgroup": "('Tokyo-to Edogawa-ku', 13123)",
         "line": {
          "color": "#00cc96",
          "dash": "solid"
         },
         "marker": {
          "symbol": "circle"
         },
         "mode": "lines+markers",
         "name": "('Tokyo-to Edogawa-ku', 13123)",
         "orientation": "v",
         "showlegend": true,
         "type": "scatter",
         "x": [
          2010,
          2011,
          2012,
          2013,
          2014,
          2015,
          2016,
          2017,
          2018,
          2019,
          2020,
          2021,
          2022
         ],
         "xaxis": "x",
         "y": [
          446,
          418,
          493,
          535,
          489,
          560,
          538,
          511,
          490,
          476,
          548,
          557,
          462
         ],
         "yaxis": "y"
        },
        {
         "hovertemplate": "variable=('Tokyo-to Hachioji-shi', 13201)<br>year=%{x}<br>value=%{y}<extra></extra>",
         "legendgroup": "('Tokyo-to Hachioji-shi', 13201)",
         "line": {
          "color": "#ab63fa",
          "dash": "solid"
         },
         "marker": {
          "symbol": "circle"
         },
         "mode": "lines+markers",
         "name": "('Tokyo-to Hachioji-shi', 13201)",
         "orientation": "v",
         "showlegend": true,
         "type": "scatter",
         "x": [
          2010,
          2011,
          2012,
          2013,
          2014,
          2015,
          2016,
          2017,
          2018,
          2019,
          2020,
          2021,
          2022
         ],
         "xaxis": "x",
         "y": [
          624,
          539,
          652,
          613,
          567,
          662,
          632,
          561,
          554,
          451,
          610,
          631,
          505
         ],
         "yaxis": "y"
        },
        {
         "hovertemplate": "variable=('Tokyo-to Tachikawa-shi', 13202)<br>year=%{x}<br>value=%{y}<extra></extra>",
         "legendgroup": "('Tokyo-to Tachikawa-shi', 13202)",
         "line": {
          "color": "#FFA15A",
          "dash": "solid"
         },
         "marker": {
          "symbol": "circle"
         },
         "mode": "lines+markers",
         "name": "('Tokyo-to Tachikawa-shi', 13202)",
         "orientation": "v",
         "showlegend": true,
         "type": "scatter",
         "x": [
          2010,
          2011,
          2012,
          2013,
          2014,
          2015,
          2016,
          2017,
          2018,
          2019,
          2020,
          2021,
          2022
         ],
         "xaxis": "x",
         "y": [
          176,
          164,
          152,
          232,
          236,
          162,
          192,
          166,
          169,
          156,
          185,
          191,
          152
         ],
         "yaxis": "y"
        },
        {
         "hovertemplate": "variable=('Tokyo-to Musashino-shi', 13203)<br>year=%{x}<br>value=%{y}<extra></extra>",
         "legendgroup": "('Tokyo-to Musashino-shi', 13203)",
         "line": {
          "color": "#19d3f3",
          "dash": "solid"
         },
         "marker": {
          "symbol": "circle"
         },
         "mode": "lines+markers",
         "name": "('Tokyo-to Musashino-shi', 13203)",
         "orientation": "v",
         "showlegend": true,
         "type": "scatter",
         "x": [
          2010,
          2011,
          2012,
          2013,
          2014,
          2015,
          2016,
          2017,
          2018,
          2019,
          2020,
          2021,
          2022
         ],
         "xaxis": "x",
         "y": [
          64,
          61,
          93,
          83,
          88,
          95,
          71,
          72,
          79,
          95,
          109,
          107,
          79
         ],
         "yaxis": "y"
        },
        {
         "hovertemplate": "variable=('Tokyo-to Mitaka-shi', 13204)<br>year=%{x}<br>value=%{y}<extra></extra>",
         "legendgroup": "('Tokyo-to Mitaka-shi', 13204)",
         "line": {
          "color": "#FF6692",
          "dash": "solid"
         },
         "marker": {
          "symbol": "circle"
         },
         "mode": "lines+markers",
         "name": "('Tokyo-to Mitaka-shi', 13204)",
         "orientation": "v",
         "showlegend": true,
         "type": "scatter",
         "x": [
          2010,
          2011,
          2012,
          2013,
          2014,
          2015,
          2016,
          2017,
          2018,
          2019,
          2020,
          2021,
          2022
         ],
         "xaxis": "x",
         "y": [
          145,
          126,
          161,
          164,
          139,
          209,
          203,
          139,
          138,
          159,
          200,
          190,
          95
         ],
         "yaxis": "y"
        },
        {
         "hovertemplate": "variable=('Tokyo-to Ome-shi', 13205)<br>year=%{x}<br>value=%{y}<extra></extra>",
         "legendgroup": "('Tokyo-to Ome-shi', 13205)",
         "line": {
          "color": "#B6E880",
          "dash": "solid"
         },
         "marker": {
          "symbol": "circle"
         },
         "mode": "lines+markers",
         "name": "('Tokyo-to Ome-shi', 13205)",
         "orientation": "v",
         "showlegend": true,
         "type": "scatter",
         "x": [
          2010,
          2011,
          2012,
          2013,
          2014,
          2015,
          2016,
          2017,
          2018,
          2019,
          2020,
          2021,
          2022
         ],
         "xaxis": "x",
         "y": [
          149,
          123,
          144,
          168,
          164,
          153,
          132,
          122,
          107,
          107,
          189,
          120,
          117
         ],
         "yaxis": "y"
        },
        {
         "hovertemplate": "variable=('Tokyo-to Fuchu-shi', 13206)<br>year=%{x}<br>value=%{y}<extra></extra>",
         "legendgroup": "('Tokyo-to Fuchu-shi', 13206)",
         "line": {
          "color": "#FF97FF",
          "dash": "solid"
         },
         "marker": {
          "symbol": "circle"
         },
         "mode": "lines+markers",
         "name": "('Tokyo-to Fuchu-shi', 13206)",
         "orientation": "v",
         "showlegend": true,
         "type": "scatter",
         "x": [
          2010,
          2011,
          2012,
          2013,
          2014,
          2015,
          2016,
          2017,
          2018,
          2019,
          2020,
          2021,
          2022
         ],
         "xaxis": "x",
         "y": [
          252,
          208,
          212,
          226,
          216,
          263,
          229,
          189,
          192,
          206,
          244,
          265,
          169
         ],
         "yaxis": "y"
        },
        {
         "hovertemplate": "variable=('Tokyo-to Akishima-shi', 13207)<br>year=%{x}<br>value=%{y}<extra></extra>",
         "legendgroup": "('Tokyo-to Akishima-shi', 13207)",
         "line": {
          "color": "#FECB52",
          "dash": "solid"
         },
         "marker": {
          "symbol": "circle"
         },
         "mode": "lines+markers",
         "name": "('Tokyo-to Akishima-shi', 13207)",
         "orientation": "v",
         "showlegend": true,
         "type": "scatter",
         "x": [
          2010,
          2011,
          2012,
          2013,
          2014,
          2015,
          2016,
          2017,
          2018,
          2019,
          2020,
          2021,
          2022
         ],
         "xaxis": "x",
         "y": [
          76,
          122,
          94,
          104,
          129,
          101,
          117,
          128,
          105,
          82,
          120,
          89,
          101
         ],
         "yaxis": "y"
        },
        {
         "hovertemplate": "variable=('Tokyo-to Chofu-shi', 13208)<br>year=%{x}<br>value=%{y}<extra></extra>",
         "legendgroup": "('Tokyo-to Chofu-shi', 13208)",
         "line": {
          "color": "#636efa",
          "dash": "solid"
         },
         "marker": {
          "symbol": "circle"
         },
         "mode": "lines+markers",
         "name": "('Tokyo-to Chofu-shi', 13208)",
         "orientation": "v",
         "showlegend": true,
         "type": "scatter",
         "x": [
          2010,
          2011,
          2012,
          2013,
          2014,
          2015,
          2016,
          2017,
          2018,
          2019,
          2020,
          2021,
          2022
         ],
         "xaxis": "x",
         "y": [
          225,
          199,
          211,
          217,
          199,
          251,
          233,
          198,
          216,
          207,
          249,
          275,
          160
         ],
         "yaxis": "y"
        },
        {
         "hovertemplate": "variable=('Tokyo-to Machida-shi', 13209)<br>year=%{x}<br>value=%{y}<extra></extra>",
         "legendgroup": "('Tokyo-to Machida-shi', 13209)",
         "line": {
          "color": "#EF553B",
          "dash": "solid"
         },
         "marker": {
          "symbol": "circle"
         },
         "mode": "lines+markers",
         "name": "('Tokyo-to Machida-shi', 13209)",
         "orientation": "v",
         "showlegend": true,
         "type": "scatter",
         "x": [
          2010,
          2011,
          2012,
          2013,
          2014,
          2015,
          2016,
          2017,
          2018,
          2019,
          2020,
          2021,
          2022
         ],
         "xaxis": "x",
         "y": [
          457,
          450,
          445,
          530,
          489,
          553,
          516,
          445,
          435,
          362,
          537,
          522,
          391
         ],
         "yaxis": "y"
        },
        {
         "hovertemplate": "variable=('Tokyo-to Koganei-shi', 13210)<br>year=%{x}<br>value=%{y}<extra></extra>",
         "legendgroup": "('Tokyo-to Koganei-shi', 13210)",
         "line": {
          "color": "#00cc96",
          "dash": "solid"
         },
         "marker": {
          "symbol": "circle"
         },
         "mode": "lines+markers",
         "name": "('Tokyo-to Koganei-shi', 13210)",
         "orientation": "v",
         "showlegend": true,
         "type": "scatter",
         "x": [
          2010,
          2011,
          2012,
          2013,
          2014,
          2015,
          2016,
          2017,
          2018,
          2019,
          2020,
          2021,
          2022
         ],
         "xaxis": "x",
         "y": [
          109,
          95,
          121,
          132,
          113,
          153,
          149,
          148,
          148,
          162,
          202,
          157,
          130
         ],
         "yaxis": "y"
        },
        {
         "hovertemplate": "variable=('Tokyo-to Kodaira-shi', 13211)<br>year=%{x}<br>value=%{y}<extra></extra>",
         "legendgroup": "('Tokyo-to Kodaira-shi', 13211)",
         "line": {
          "color": "#ab63fa",
          "dash": "solid"
         },
         "marker": {
          "symbol": "circle"
         },
         "mode": "lines+markers",
         "name": "('Tokyo-to Kodaira-shi', 13211)",
         "orientation": "v",
         "showlegend": true,
         "type": "scatter",
         "x": [
          2010,
          2011,
          2012,
          2013,
          2014,
          2015,
          2016,
          2017,
          2018,
          2019,
          2020,
          2021,
          2022
         ],
         "xaxis": "x",
         "y": [
          251,
          262,
          222,
          307,
          297,
          274,
          281,
          256,
          248,
          229,
          273,
          257,
          198
         ],
         "yaxis": "y"
        },
        {
         "hovertemplate": "variable=('Tokyo-to Hino-shi', 13212)<br>year=%{x}<br>value=%{y}<extra></extra>",
         "legendgroup": "('Tokyo-to Hino-shi', 13212)",
         "line": {
          "color": "#FFA15A",
          "dash": "solid"
         },
         "marker": {
          "symbol": "circle"
         },
         "mode": "lines+markers",
         "name": "('Tokyo-to Hino-shi', 13212)",
         "orientation": "v",
         "showlegend": true,
         "type": "scatter",
         "x": [
          2010,
          2011,
          2012,
          2013,
          2014,
          2015,
          2016,
          2017,
          2018,
          2019,
          2020,
          2021,
          2022
         ],
         "xaxis": "x",
         "y": [
          208,
          247,
          203,
          217,
          270,
          232,
          246,
          186,
          243,
          190,
          207,
          229,
          174
         ],
         "yaxis": "y"
        },
        {
         "hovertemplate": "variable=('Tokyo-to Higashimurayama-shi', 13213)<br>year=%{x}<br>value=%{y}<extra></extra>",
         "legendgroup": "('Tokyo-to Higashimurayama-shi', 13213)",
         "line": {
          "color": "#19d3f3",
          "dash": "solid"
         },
         "marker": {
          "symbol": "circle"
         },
         "mode": "lines+markers",
         "name": "('Tokyo-to Higashimurayama-shi', 13213)",
         "orientation": "v",
         "showlegend": true,
         "type": "scatter",
         "x": [
          2010,
          2011,
          2012,
          2013,
          2014,
          2015,
          2016,
          2017,
          2018,
          2019,
          2020,
          2021,
          2022
         ],
         "xaxis": "x",
         "y": [
          219,
          156,
          173,
          180,
          174,
          188,
          203,
          174,
          166,
          182,
          244,
          256,
          182
         ],
         "yaxis": "y"
        },
        {
         "hovertemplate": "variable=('Tokyo-to Kokubunji-shi', 13214)<br>year=%{x}<br>value=%{y}<extra></extra>",
         "legendgroup": "('Tokyo-to Kokubunji-shi', 13214)",
         "line": {
          "color": "#FF6692",
          "dash": "solid"
         },
         "marker": {
          "symbol": "circle"
         },
         "mode": "lines+markers",
         "name": "('Tokyo-to Kokubunji-shi', 13214)",
         "orientation": "v",
         "showlegend": true,
         "type": "scatter",
         "x": [
          2010,
          2011,
          2012,
          2013,
          2014,
          2015,
          2016,
          2017,
          2018,
          2019,
          2020,
          2021,
          2022
         ],
         "xaxis": "x",
         "y": [
          82,
          130,
          141,
          182,
          145,
          172,
          129,
          173,
          141,
          142,
          210,
          176,
          146
         ],
         "yaxis": "y"
        },
        {
         "hovertemplate": "variable=('Tokyo-to Kunitachi-shi', 13215)<br>year=%{x}<br>value=%{y}<extra></extra>",
         "legendgroup": "('Tokyo-to Kunitachi-shi', 13215)",
         "line": {
          "color": "#B6E880",
          "dash": "solid"
         },
         "marker": {
          "symbol": "circle"
         },
         "mode": "lines+markers",
         "name": "('Tokyo-to Kunitachi-shi', 13215)",
         "orientation": "v",
         "showlegend": true,
         "type": "scatter",
         "x": [
          2010,
          2011,
          2012,
          2013,
          2014,
          2015,
          2016,
          2017,
          2018,
          2019,
          2020,
          2021,
          2022
         ],
         "xaxis": "x",
         "y": [
          57,
          61,
          58,
          73,
          50,
          74,
          82,
          48,
          65,
          47,
          57,
          100,
          65
         ],
         "yaxis": "y"
        },
        {
         "hovertemplate": "variable=('Tokyo-to Komae-shi', 13219)<br>year=%{x}<br>value=%{y}<extra></extra>",
         "legendgroup": "('Tokyo-to Komae-shi', 13219)",
         "line": {
          "color": "#FF97FF",
          "dash": "solid"
         },
         "marker": {
          "symbol": "circle"
         },
         "mode": "lines+markers",
         "name": "('Tokyo-to Komae-shi', 13219)",
         "orientation": "v",
         "showlegend": true,
         "type": "scatter",
         "x": [
          2010,
          2011,
          2012,
          2013,
          2014,
          2015,
          2016,
          2017,
          2018,
          2019,
          2020,
          2021,
          2022
         ],
         "xaxis": "x",
         "y": [
          71,
          84,
          87,
          96,
          107,
          91,
          90,
          79,
          82,
          69,
          79,
          73,
          59
         ],
         "yaxis": "y"
        },
        {
         "hovertemplate": "variable=('Tokyo-to Higashiyamato-shi', 13220)<br>year=%{x}<br>value=%{y}<extra></extra>",
         "legendgroup": "('Tokyo-to Higashiyamato-shi', 13220)",
         "line": {
          "color": "#FECB52",
          "dash": "solid"
         },
         "marker": {
          "symbol": "circle"
         },
         "mode": "lines+markers",
         "name": "('Tokyo-to Higashiyamato-shi', 13220)",
         "orientation": "v",
         "showlegend": true,
         "type": "scatter",
         "x": [
          2010,
          2011,
          2012,
          2013,
          2014,
          2015,
          2016,
          2017,
          2018,
          2019,
          2020,
          2021,
          2022
         ],
         "xaxis": "x",
         "y": [
          118,
          77,
          82,
          113,
          84,
          89,
          81,
          66,
          74,
          77,
          89,
          99,
          86
         ],
         "yaxis": "y"
        },
        {
         "hovertemplate": "variable=('Tokyo-to Kiyose-shi', 13221)<br>year=%{x}<br>value=%{y}<extra></extra>",
         "legendgroup": "('Tokyo-to Kiyose-shi', 13221)",
         "line": {
          "color": "#636efa",
          "dash": "solid"
         },
         "marker": {
          "symbol": "circle"
         },
         "mode": "lines+markers",
         "name": "('Tokyo-to Kiyose-shi', 13221)",
         "orientation": "v",
         "showlegend": true,
         "type": "scatter",
         "x": [
          2010,
          2011,
          2012,
          2013,
          2014,
          2015,
          2016,
          2017,
          2018,
          2019,
          2020,
          2021,
          2022
         ],
         "xaxis": "x",
         "y": [
          71,
          74,
          62,
          87,
          109,
          96,
          66,
          83,
          86,
          54,
          123,
          106,
          73
         ],
         "yaxis": "y"
        },
        {
         "hovertemplate": "variable=('Tokyo-to Higashikurume-shi', 13222)<br>year=%{x}<br>value=%{y}<extra></extra>",
         "legendgroup": "('Tokyo-to Higashikurume-shi', 13222)",
         "line": {
          "color": "#EF553B",
          "dash": "solid"
         },
         "marker": {
          "symbol": "circle"
         },
         "mode": "lines+markers",
         "name": "('Tokyo-to Higashikurume-shi', 13222)",
         "orientation": "v",
         "showlegend": true,
         "type": "scatter",
         "x": [
          2010,
          2011,
          2012,
          2013,
          2014,
          2015,
          2016,
          2017,
          2018,
          2019,
          2020,
          2021,
          2022
         ],
         "xaxis": "x",
         "y": [
          138,
          140,
          189,
          201,
          136,
          126,
          143,
          141,
          137,
          148,
          167,
          208,
          131
         ],
         "yaxis": "y"
        },
        {
         "hovertemplate": "variable=('Tokyo-to Musashimurayama-shi', 13223)<br>year=%{x}<br>value=%{y}<extra></extra>",
         "legendgroup": "('Tokyo-to Musashimurayama-shi', 13223)",
         "line": {
          "color": "#00cc96",
          "dash": "solid"
         },
         "marker": {
          "symbol": "circle"
         },
         "mode": "lines+markers",
         "name": "('Tokyo-to Musashimurayama-shi', 13223)",
         "orientation": "v",
         "showlegend": true,
         "type": "scatter",
         "x": [
          2010,
          2011,
          2012,
          2013,
          2014,
          2015,
          2016,
          2017,
          2018,
          2019,
          2020,
          2021,
          2022
         ],
         "xaxis": "x",
         "y": [
          97,
          78,
          97,
          98,
          85,
          93,
          128,
          115,
          98,
          67,
          82,
          82,
          68
         ],
         "yaxis": "y"
        },
        {
         "hovertemplate": "variable=('Tokyo-to Tama-shi', 13224)<br>year=%{x}<br>value=%{y}<extra></extra>",
         "legendgroup": "('Tokyo-to Tama-shi', 13224)",
         "line": {
          "color": "#ab63fa",
          "dash": "solid"
         },
         "marker": {
          "symbol": "circle"
         },
         "mode": "lines+markers",
         "name": "('Tokyo-to Tama-shi', 13224)",
         "orientation": "v",
         "showlegend": true,
         "type": "scatter",
         "x": [
          2010,
          2011,
          2012,
          2013,
          2014,
          2015,
          2016,
          2017,
          2018,
          2019,
          2020,
          2021,
          2022
         ],
         "xaxis": "x",
         "y": [
          83,
          75,
          71,
          75,
          79,
          86,
          93,
          105,
          94,
          67,
          79,
          92,
          78
         ],
         "yaxis": "y"
        },
        {
         "hovertemplate": "variable=('Tokyo-to Inagi-shi', 13225)<br>year=%{x}<br>value=%{y}<extra></extra>",
         "legendgroup": "('Tokyo-to Inagi-shi', 13225)",
         "line": {
          "color": "#FFA15A",
          "dash": "solid"
         },
         "marker": {
          "symbol": "circle"
         },
         "mode": "lines+markers",
         "name": "('Tokyo-to Inagi-shi', 13225)",
         "orientation": "v",
         "showlegend": true,
         "type": "scatter",
         "x": [
          2010,
          2011,
          2012,
          2013,
          2014,
          2015,
          2016,
          2017,
          2018,
          2019,
          2020,
          2021,
          2022
         ],
         "xaxis": "x",
         "y": [
          92,
          86,
          76,
          63,
          74,
          61,
          56,
          54,
          89,
          67,
          80,
          97,
          87
         ],
         "yaxis": "y"
        },
        {
         "hovertemplate": "variable=('Tokyo-to Hamura-shi', 13227)<br>year=%{x}<br>value=%{y}<extra></extra>",
         "legendgroup": "('Tokyo-to Hamura-shi', 13227)",
         "line": {
          "color": "#19d3f3",
          "dash": "solid"
         },
         "marker": {
          "symbol": "circle"
         },
         "mode": "lines+markers",
         "name": "('Tokyo-to Hamura-shi', 13227)",
         "orientation": "v",
         "showlegend": true,
         "type": "scatter",
         "x": [
          2010,
          2011,
          2012,
          2013,
          2014,
          2015,
          2016,
          2017,
          2018,
          2019,
          2020,
          2021,
          2022
         ],
         "xaxis": "x",
         "y": [
          46,
          63,
          61,
          57,
          59,
          54,
          46,
          57,
          49,
          43,
          58,
          43,
          54
         ],
         "yaxis": "y"
        },
        {
         "hovertemplate": "variable=('Tokyo-to Akiruno-shi', 13228)<br>year=%{x}<br>value=%{y}<extra></extra>",
         "legendgroup": "('Tokyo-to Akiruno-shi', 13228)",
         "line": {
          "color": "#FF6692",
          "dash": "solid"
         },
         "marker": {
          "symbol": "circle"
         },
         "mode": "lines+markers",
         "name": "('Tokyo-to Akiruno-shi', 13228)",
         "orientation": "v",
         "showlegend": true,
         "type": "scatter",
         "x": [
          2010,
          2011,
          2012,
          2013,
          2014,
          2015,
          2016,
          2017,
          2018,
          2019,
          2020,
          2021,
          2022
         ],
         "xaxis": "x",
         "y": [
          99,
          107,
          107,
          115,
          95,
          87,
          114,
          101,
          97,
          81,
          96,
          91,
          82
         ],
         "yaxis": "y"
        },
        {
         "hovertemplate": "variable=('Tokyo-to Nishitokyo-shi', 13229)<br>year=%{x}<br>value=%{y}<extra></extra>",
         "legendgroup": "('Tokyo-to Nishitokyo-shi', 13229)",
         "line": {
          "color": "#B6E880",
          "dash": "solid"
         },
         "marker": {
          "symbol": "circle"
         },
         "mode": "lines+markers",
         "name": "('Tokyo-to Nishitokyo-shi', 13229)",
         "orientation": "v",
         "showlegend": true,
         "type": "scatter",
         "x": [
          2010,
          2011,
          2012,
          2013,
          2014,
          2015,
          2016,
          2017,
          2018,
          2019,
          2020,
          2021,
          2022
         ],
         "xaxis": "x",
         "y": [
          239,
          246,
          193,
          230,
          224,
          229,
          243,
          252,
          222,
          243,
          294,
          252,
          188
         ],
         "yaxis": "y"
        }
       ],
       "layout": {
        "autosize": false,
        "height": 800,
        "hovermode": "closest",
        "legend": {
         "title": {
          "text": "variable"
         },
         "tracegroupgap": 0
        },
        "template": {
         "data": {
          "bar": [
           {
            "error_x": {
             "color": "#2a3f5f"
            },
            "error_y": {
             "color": "#2a3f5f"
            },
            "marker": {
             "line": {
              "color": "#E5ECF6",
              "width": 0.5
             },
             "pattern": {
              "fillmode": "overlay",
              "size": 10,
              "solidity": 0.2
             }
            },
            "type": "bar"
           }
          ],
          "barpolar": [
           {
            "marker": {
             "line": {
              "color": "#E5ECF6",
              "width": 0.5
             },
             "pattern": {
              "fillmode": "overlay",
              "size": 10,
              "solidity": 0.2
             }
            },
            "type": "barpolar"
           }
          ],
          "carpet": [
           {
            "aaxis": {
             "endlinecolor": "#2a3f5f",
             "gridcolor": "white",
             "linecolor": "white",
             "minorgridcolor": "white",
             "startlinecolor": "#2a3f5f"
            },
            "baxis": {
             "endlinecolor": "#2a3f5f",
             "gridcolor": "white",
             "linecolor": "white",
             "minorgridcolor": "white",
             "startlinecolor": "#2a3f5f"
            },
            "type": "carpet"
           }
          ],
          "choropleth": [
           {
            "colorbar": {
             "outlinewidth": 0,
             "ticks": ""
            },
            "type": "choropleth"
           }
          ],
          "contour": [
           {
            "colorbar": {
             "outlinewidth": 0,
             "ticks": ""
            },
            "colorscale": [
             [
              0,
              "#0d0887"
             ],
             [
              0.1111111111111111,
              "#46039f"
             ],
             [
              0.2222222222222222,
              "#7201a8"
             ],
             [
              0.3333333333333333,
              "#9c179e"
             ],
             [
              0.4444444444444444,
              "#bd3786"
             ],
             [
              0.5555555555555556,
              "#d8576b"
             ],
             [
              0.6666666666666666,
              "#ed7953"
             ],
             [
              0.7777777777777778,
              "#fb9f3a"
             ],
             [
              0.8888888888888888,
              "#fdca26"
             ],
             [
              1,
              "#f0f921"
             ]
            ],
            "type": "contour"
           }
          ],
          "contourcarpet": [
           {
            "colorbar": {
             "outlinewidth": 0,
             "ticks": ""
            },
            "type": "contourcarpet"
           }
          ],
          "heatmap": [
           {
            "colorbar": {
             "outlinewidth": 0,
             "ticks": ""
            },
            "colorscale": [
             [
              0,
              "#0d0887"
             ],
             [
              0.1111111111111111,
              "#46039f"
             ],
             [
              0.2222222222222222,
              "#7201a8"
             ],
             [
              0.3333333333333333,
              "#9c179e"
             ],
             [
              0.4444444444444444,
              "#bd3786"
             ],
             [
              0.5555555555555556,
              "#d8576b"
             ],
             [
              0.6666666666666666,
              "#ed7953"
             ],
             [
              0.7777777777777778,
              "#fb9f3a"
             ],
             [
              0.8888888888888888,
              "#fdca26"
             ],
             [
              1,
              "#f0f921"
             ]
            ],
            "type": "heatmap"
           }
          ],
          "heatmapgl": [
           {
            "colorbar": {
             "outlinewidth": 0,
             "ticks": ""
            },
            "colorscale": [
             [
              0,
              "#0d0887"
             ],
             [
              0.1111111111111111,
              "#46039f"
             ],
             [
              0.2222222222222222,
              "#7201a8"
             ],
             [
              0.3333333333333333,
              "#9c179e"
             ],
             [
              0.4444444444444444,
              "#bd3786"
             ],
             [
              0.5555555555555556,
              "#d8576b"
             ],
             [
              0.6666666666666666,
              "#ed7953"
             ],
             [
              0.7777777777777778,
              "#fb9f3a"
             ],
             [
              0.8888888888888888,
              "#fdca26"
             ],
             [
              1,
              "#f0f921"
             ]
            ],
            "type": "heatmapgl"
           }
          ],
          "histogram": [
           {
            "marker": {
             "pattern": {
              "fillmode": "overlay",
              "size": 10,
              "solidity": 0.2
             }
            },
            "type": "histogram"
           }
          ],
          "histogram2d": [
           {
            "colorbar": {
             "outlinewidth": 0,
             "ticks": ""
            },
            "colorscale": [
             [
              0,
              "#0d0887"
             ],
             [
              0.1111111111111111,
              "#46039f"
             ],
             [
              0.2222222222222222,
              "#7201a8"
             ],
             [
              0.3333333333333333,
              "#9c179e"
             ],
             [
              0.4444444444444444,
              "#bd3786"
             ],
             [
              0.5555555555555556,
              "#d8576b"
             ],
             [
              0.6666666666666666,
              "#ed7953"
             ],
             [
              0.7777777777777778,
              "#fb9f3a"
             ],
             [
              0.8888888888888888,
              "#fdca26"
             ],
             [
              1,
              "#f0f921"
             ]
            ],
            "type": "histogram2d"
           }
          ],
          "histogram2dcontour": [
           {
            "colorbar": {
             "outlinewidth": 0,
             "ticks": ""
            },
            "colorscale": [
             [
              0,
              "#0d0887"
             ],
             [
              0.1111111111111111,
              "#46039f"
             ],
             [
              0.2222222222222222,
              "#7201a8"
             ],
             [
              0.3333333333333333,
              "#9c179e"
             ],
             [
              0.4444444444444444,
              "#bd3786"
             ],
             [
              0.5555555555555556,
              "#d8576b"
             ],
             [
              0.6666666666666666,
              "#ed7953"
             ],
             [
              0.7777777777777778,
              "#fb9f3a"
             ],
             [
              0.8888888888888888,
              "#fdca26"
             ],
             [
              1,
              "#f0f921"
             ]
            ],
            "type": "histogram2dcontour"
           }
          ],
          "mesh3d": [
           {
            "colorbar": {
             "outlinewidth": 0,
             "ticks": ""
            },
            "type": "mesh3d"
           }
          ],
          "parcoords": [
           {
            "line": {
             "colorbar": {
              "outlinewidth": 0,
              "ticks": ""
             }
            },
            "type": "parcoords"
           }
          ],
          "pie": [
           {
            "automargin": true,
            "type": "pie"
           }
          ],
          "scatter": [
           {
            "fillpattern": {
             "fillmode": "overlay",
             "size": 10,
             "solidity": 0.2
            },
            "type": "scatter"
           }
          ],
          "scatter3d": [
           {
            "line": {
             "colorbar": {
              "outlinewidth": 0,
              "ticks": ""
             }
            },
            "marker": {
             "colorbar": {
              "outlinewidth": 0,
              "ticks": ""
             }
            },
            "type": "scatter3d"
           }
          ],
          "scattercarpet": [
           {
            "marker": {
             "colorbar": {
              "outlinewidth": 0,
              "ticks": ""
             }
            },
            "type": "scattercarpet"
           }
          ],
          "scattergeo": [
           {
            "marker": {
             "colorbar": {
              "outlinewidth": 0,
              "ticks": ""
             }
            },
            "type": "scattergeo"
           }
          ],
          "scattergl": [
           {
            "marker": {
             "colorbar": {
              "outlinewidth": 0,
              "ticks": ""
             }
            },
            "type": "scattergl"
           }
          ],
          "scattermapbox": [
           {
            "marker": {
             "colorbar": {
              "outlinewidth": 0,
              "ticks": ""
             }
            },
            "type": "scattermapbox"
           }
          ],
          "scatterpolar": [
           {
            "marker": {
             "colorbar": {
              "outlinewidth": 0,
              "ticks": ""
             }
            },
            "type": "scatterpolar"
           }
          ],
          "scatterpolargl": [
           {
            "marker": {
             "colorbar": {
              "outlinewidth": 0,
              "ticks": ""
             }
            },
            "type": "scatterpolargl"
           }
          ],
          "scatterternary": [
           {
            "marker": {
             "colorbar": {
              "outlinewidth": 0,
              "ticks": ""
             }
            },
            "type": "scatterternary"
           }
          ],
          "surface": [
           {
            "colorbar": {
             "outlinewidth": 0,
             "ticks": ""
            },
            "colorscale": [
             [
              0,
              "#0d0887"
             ],
             [
              0.1111111111111111,
              "#46039f"
             ],
             [
              0.2222222222222222,
              "#7201a8"
             ],
             [
              0.3333333333333333,
              "#9c179e"
             ],
             [
              0.4444444444444444,
              "#bd3786"
             ],
             [
              0.5555555555555556,
              "#d8576b"
             ],
             [
              0.6666666666666666,
              "#ed7953"
             ],
             [
              0.7777777777777778,
              "#fb9f3a"
             ],
             [
              0.8888888888888888,
              "#fdca26"
             ],
             [
              1,
              "#f0f921"
             ]
            ],
            "type": "surface"
           }
          ],
          "table": [
           {
            "cells": {
             "fill": {
              "color": "#EBF0F8"
             },
             "line": {
              "color": "white"
             }
            },
            "header": {
             "fill": {
              "color": "#C8D4E3"
             },
             "line": {
              "color": "white"
             }
            },
            "type": "table"
           }
          ]
         },
         "layout": {
          "annotationdefaults": {
           "arrowcolor": "#2a3f5f",
           "arrowhead": 0,
           "arrowwidth": 1
          },
          "autotypenumbers": "strict",
          "coloraxis": {
           "colorbar": {
            "outlinewidth": 0,
            "ticks": ""
           }
          },
          "colorscale": {
           "diverging": [
            [
             0,
             "#8e0152"
            ],
            [
             0.1,
             "#c51b7d"
            ],
            [
             0.2,
             "#de77ae"
            ],
            [
             0.3,
             "#f1b6da"
            ],
            [
             0.4,
             "#fde0ef"
            ],
            [
             0.5,
             "#f7f7f7"
            ],
            [
             0.6,
             "#e6f5d0"
            ],
            [
             0.7,
             "#b8e186"
            ],
            [
             0.8,
             "#7fbc41"
            ],
            [
             0.9,
             "#4d9221"
            ],
            [
             1,
             "#276419"
            ]
           ],
           "sequential": [
            [
             0,
             "#0d0887"
            ],
            [
             0.1111111111111111,
             "#46039f"
            ],
            [
             0.2222222222222222,
             "#7201a8"
            ],
            [
             0.3333333333333333,
             "#9c179e"
            ],
            [
             0.4444444444444444,
             "#bd3786"
            ],
            [
             0.5555555555555556,
             "#d8576b"
            ],
            [
             0.6666666666666666,
             "#ed7953"
            ],
            [
             0.7777777777777778,
             "#fb9f3a"
            ],
            [
             0.8888888888888888,
             "#fdca26"
            ],
            [
             1,
             "#f0f921"
            ]
           ],
           "sequentialminus": [
            [
             0,
             "#0d0887"
            ],
            [
             0.1111111111111111,
             "#46039f"
            ],
            [
             0.2222222222222222,
             "#7201a8"
            ],
            [
             0.3333333333333333,
             "#9c179e"
            ],
            [
             0.4444444444444444,
             "#bd3786"
            ],
            [
             0.5555555555555556,
             "#d8576b"
            ],
            [
             0.6666666666666666,
             "#ed7953"
            ],
            [
             0.7777777777777778,
             "#fb9f3a"
            ],
            [
             0.8888888888888888,
             "#fdca26"
            ],
            [
             1,
             "#f0f921"
            ]
           ]
          },
          "colorway": [
           "#636efa",
           "#EF553B",
           "#00cc96",
           "#ab63fa",
           "#FFA15A",
           "#19d3f3",
           "#FF6692",
           "#B6E880",
           "#FF97FF",
           "#FECB52"
          ],
          "font": {
           "color": "#2a3f5f"
          },
          "geo": {
           "bgcolor": "white",
           "lakecolor": "white",
           "landcolor": "#E5ECF6",
           "showlakes": true,
           "showland": true,
           "subunitcolor": "white"
          },
          "hoverlabel": {
           "align": "left"
          },
          "hovermode": "closest",
          "mapbox": {
           "style": "light"
          },
          "paper_bgcolor": "white",
          "plot_bgcolor": "#E5ECF6",
          "polar": {
           "angularaxis": {
            "gridcolor": "white",
            "linecolor": "white",
            "ticks": ""
           },
           "bgcolor": "#E5ECF6",
           "radialaxis": {
            "gridcolor": "white",
            "linecolor": "white",
            "ticks": ""
           }
          },
          "scene": {
           "xaxis": {
            "backgroundcolor": "#E5ECF6",
            "gridcolor": "white",
            "gridwidth": 2,
            "linecolor": "white",
            "showbackground": true,
            "ticks": "",
            "zerolinecolor": "white"
           },
           "yaxis": {
            "backgroundcolor": "#E5ECF6",
            "gridcolor": "white",
            "gridwidth": 2,
            "linecolor": "white",
            "showbackground": true,
            "ticks": "",
            "zerolinecolor": "white"
           },
           "zaxis": {
            "backgroundcolor": "#E5ECF6",
            "gridcolor": "white",
            "gridwidth": 2,
            "linecolor": "white",
            "showbackground": true,
            "ticks": "",
            "zerolinecolor": "white"
           }
          },
          "shapedefaults": {
           "line": {
            "color": "#2a3f5f"
           }
          },
          "ternary": {
           "aaxis": {
            "gridcolor": "white",
            "linecolor": "white",
            "ticks": ""
           },
           "baxis": {
            "gridcolor": "white",
            "linecolor": "white",
            "ticks": ""
           },
           "bgcolor": "#E5ECF6",
           "caxis": {
            "gridcolor": "white",
            "linecolor": "white",
            "ticks": ""
           }
          },
          "title": {
           "x": 0.05
          },
          "xaxis": {
           "automargin": true,
           "gridcolor": "white",
           "linecolor": "white",
           "ticks": "",
           "title": {
            "standoff": 15
           },
           "zerolinecolor": "white",
           "zerolinewidth": 2
          },
          "yaxis": {
           "automargin": true,
           "gridcolor": "white",
           "linecolor": "white",
           "ticks": "",
           "title": {
            "standoff": 15
           },
           "zerolinecolor": "white",
           "zerolinewidth": 2
          }
         }
        },
        "title": {
         "text": "Count for top and bottom 10 municipalities"
        },
        "width": 1600,
        "xaxis": {
         "anchor": "y",
         "domain": [
          0,
          1
         ],
         "title": {
          "text": "year"
         }
        },
        "yaxis": {
         "anchor": "x",
         "domain": [
          0,
          1
         ],
         "title": {
          "text": "value"
         }
        }
       }
      }
     },
     "metadata": {},
     "output_type": "display_data"
    }
   ],
   "source": [
    "plot_time_series(\n",
    "    plot_df,\n",
    "    \"count\",\n",
    "    group_by_columns,\n",
    "    granularity_columns,\n",
    "    f\"Count for top and bottom {return_n} municipalities\",\n",
    "    # visible=\"legendonly\",\n",
    ")"
   ]
  },
  {
   "cell_type": "code",
   "execution_count": 12,
   "metadata": {},
   "outputs": [],
   "source": [
    "# See if you can make a liquid long short equity strategy using REITs\n",
    "\n",
    "# MVP\n",
    "# Validating"
   ]
  },
  {
   "cell_type": "code",
   "execution_count": null,
   "metadata": {},
   "outputs": [],
   "source": []
  }
 ],
 "metadata": {
  "kernelspec": {
   "display_name": "venv",
   "language": "python",
   "name": "python3"
  },
  "language_info": {
   "codemirror_mode": {
    "name": "ipython",
    "version": 3
   },
   "file_extension": ".py",
   "mimetype": "text/x-python",
   "name": "python",
   "nbconvert_exporter": "python",
   "pygments_lexer": "ipython3",
   "version": "3.12.0"
  }
 },
 "nbformat": 4,
 "nbformat_minor": 2
}
