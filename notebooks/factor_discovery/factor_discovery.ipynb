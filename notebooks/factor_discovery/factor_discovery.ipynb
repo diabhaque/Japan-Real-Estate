{
 "cells": [
  {
   "cell_type": "code",
   "execution_count": 1,
   "metadata": {},
   "outputs": [],
   "source": [
    "import warnings\n",
    "\n",
    "import pandas as pd\n",
    "\n",
    "from jre_utils.datapath import factor_data_paths, get_derived_csv_path\n",
    "from jre_utils.config import asset_types, statistics, area_levels, period_cols\n",
    "from jre_utils.visualize import plot_time_series\n",
    "from jre_utils.process import (\n",
    "    get_most_active_municipalities,\n",
    "    get_highest_growth_municipalities,\n",
    "    get_cumulative_growth,\n",
    ")\n",
    "\n",
    "warnings.filterwarnings(\"ignore\")\n",
    "pd.set_option(\"display.max_columns\", None)"
   ]
  },
  {
   "cell_type": "code",
   "execution_count": 2,
   "metadata": {},
   "outputs": [],
   "source": [
    "factor = \"migration\"\n",
    "factor_column = \"net_migration_ratio\""
   ]
  },
  {
   "cell_type": "code",
   "execution_count": 13,
   "metadata": {},
   "outputs": [],
   "source": [
    "period = \"yearly\"\n",
    "area_level = \"municipality\"\n",
    "asset_type = \"building\"\n",
    "statistic = \"median\"\n",
    "\n",
    "granularity_columns = area_levels[area_level][\"columns\"]\n",
    "group_by_columns = granularity_columns + [period_cols[period]]\n",
    "display_columns = list(statistics[statistic].keys())\n",
    "\n",
    "label = asset_types[asset_type][\"label\"]\n",
    "\n",
    "metric = asset_types[asset_type][\"metric\"]\n",
    "metric_pct_chg = asset_types[asset_type][\"metric_pct_chg\"]\n",
    "upcoming_metric = \"Upcoming\" + metric\n",
    "upcoming_metric_pct_chg = \"Upcoming\" + metric_pct_chg"
   ]
  },
  {
   "cell_type": "code",
   "execution_count": 14,
   "metadata": {},
   "outputs": [],
   "source": [
    "core_df_path = get_derived_csv_path(period, area_level, asset_type, statistic)\n",
    "factor_path = factor_data_paths[\"processed\"][factor][area_level]"
   ]
  },
  {
   "cell_type": "code",
   "execution_count": 20,
   "metadata": {},
   "outputs": [],
   "source": [
    "df = pd.read_csv(core_df_path)\n",
    "factor_df = pd.read_csv(factor_path)\n",
    "\n",
    "# time box\n",
    "start_year = 2010\n",
    "end_year = 2022\n",
    "df = df[(df[\"year\"] >= start_year) & (df[\"year\"] <= end_year)]\n",
    "\n",
    "df = df.merge(factor_df, on=group_by_columns, how=\"left\")\n",
    "df = df[~df[[\"Prefecture\", \"Municipality\", \"year\"]].duplicated()]\n",
    "\n",
    "# prepare metrics\n",
    "df[metric_pct_chg] = df.groupby(granularity_columns)[metric].pct_change(fill_method=\"ffill\").fillna(0) # fill na with 0 for visualizations\n",
    "\n",
    "# set up target variables\n",
    "df[upcoming_metric] = df.groupby(granularity_columns)[metric].shift(-1)\n",
    "df[upcoming_metric_pct_chg] = df.groupby(granularity_columns)[metric_pct_chg].shift(-1)"
   ]
  },
  {
   "cell_type": "code",
   "execution_count": 21,
   "metadata": {},
   "outputs": [
    {
     "data": {
      "text/html": [
       "<div>\n",
       "<style scoped>\n",
       "    .dataframe tbody tr th:only-of-type {\n",
       "        vertical-align: middle;\n",
       "    }\n",
       "\n",
       "    .dataframe tbody tr th {\n",
       "        vertical-align: top;\n",
       "    }\n",
       "\n",
       "    .dataframe thead th {\n",
       "        text-align: right;\n",
       "    }\n",
       "</style>\n",
       "<table border=\"1\" class=\"dataframe\">\n",
       "  <thead>\n",
       "    <tr style=\"text-align: right;\">\n",
       "      <th></th>\n",
       "      <th>Prefecture</th>\n",
       "      <th>Municipality</th>\n",
       "      <th>year</th>\n",
       "      <th>TradePricePerArea</th>\n",
       "      <th>UnitPrice</th>\n",
       "      <th>Count</th>\n",
       "      <th>net_migration_ratio</th>\n",
       "      <th>TradePricePctChg</th>\n",
       "      <th>UpcomingTradePricePerArea</th>\n",
       "      <th>UpcomingTradePricePctChg</th>\n",
       "    </tr>\n",
       "  </thead>\n",
       "  <tbody>\n",
       "    <tr>\n",
       "      <th>1940</th>\n",
       "      <td>Tokyo</td>\n",
       "      <td>Chiyoda</td>\n",
       "      <td>2010</td>\n",
       "      <td>2.083035e+06</td>\n",
       "      <td>NaN</td>\n",
       "      <td>46</td>\n",
       "      <td>0.012579</td>\n",
       "      <td>0.000000</td>\n",
       "      <td>1.545455e+06</td>\n",
       "      <td>-0.258075</td>\n",
       "    </tr>\n",
       "    <tr>\n",
       "      <th>1941</th>\n",
       "      <td>Tokyo</td>\n",
       "      <td>Chiyoda</td>\n",
       "      <td>2011</td>\n",
       "      <td>1.545455e+06</td>\n",
       "      <td>NaN</td>\n",
       "      <td>61</td>\n",
       "      <td>0.013117</td>\n",
       "      <td>-0.258075</td>\n",
       "      <td>1.488889e+06</td>\n",
       "      <td>-0.036601</td>\n",
       "    </tr>\n",
       "    <tr>\n",
       "      <th>1942</th>\n",
       "      <td>Tokyo</td>\n",
       "      <td>Chiyoda</td>\n",
       "      <td>2012</td>\n",
       "      <td>1.488889e+06</td>\n",
       "      <td>NaN</td>\n",
       "      <td>57</td>\n",
       "      <td>0.019949</td>\n",
       "      <td>-0.036601</td>\n",
       "      <td>2.162162e+06</td>\n",
       "      <td>0.452198</td>\n",
       "    </tr>\n",
       "    <tr>\n",
       "      <th>1943</th>\n",
       "      <td>Tokyo</td>\n",
       "      <td>Chiyoda</td>\n",
       "      <td>2013</td>\n",
       "      <td>2.162162e+06</td>\n",
       "      <td>NaN</td>\n",
       "      <td>63</td>\n",
       "      <td>0.035358</td>\n",
       "      <td>0.452198</td>\n",
       "      <td>2.037500e+06</td>\n",
       "      <td>-0.057656</td>\n",
       "    </tr>\n",
       "    <tr>\n",
       "      <th>1944</th>\n",
       "      <td>Tokyo</td>\n",
       "      <td>Chiyoda</td>\n",
       "      <td>2014</td>\n",
       "      <td>2.037500e+06</td>\n",
       "      <td>NaN</td>\n",
       "      <td>68</td>\n",
       "      <td>0.043446</td>\n",
       "      <td>-0.057656</td>\n",
       "      <td>2.124060e+06</td>\n",
       "      <td>0.042484</td>\n",
       "    </tr>\n",
       "    <tr>\n",
       "      <th>1945</th>\n",
       "      <td>Tokyo</td>\n",
       "      <td>Chiyoda</td>\n",
       "      <td>2015</td>\n",
       "      <td>2.124060e+06</td>\n",
       "      <td>NaN</td>\n",
       "      <td>70</td>\n",
       "      <td>0.023197</td>\n",
       "      <td>0.042484</td>\n",
       "      <td>2.785714e+06</td>\n",
       "      <td>0.311504</td>\n",
       "    </tr>\n",
       "    <tr>\n",
       "      <th>1946</th>\n",
       "      <td>Tokyo</td>\n",
       "      <td>Chiyoda</td>\n",
       "      <td>2016</td>\n",
       "      <td>2.785714e+06</td>\n",
       "      <td>NaN</td>\n",
       "      <td>64</td>\n",
       "      <td>0.014473</td>\n",
       "      <td>0.311504</td>\n",
       "      <td>3.699248e+06</td>\n",
       "      <td>0.327935</td>\n",
       "    </tr>\n",
       "    <tr>\n",
       "      <th>1947</th>\n",
       "      <td>Tokyo</td>\n",
       "      <td>Chiyoda</td>\n",
       "      <td>2017</td>\n",
       "      <td>3.699248e+06</td>\n",
       "      <td>NaN</td>\n",
       "      <td>66</td>\n",
       "      <td>0.017522</td>\n",
       "      <td>0.327935</td>\n",
       "      <td>3.061189e+06</td>\n",
       "      <td>-0.172484</td>\n",
       "    </tr>\n",
       "    <tr>\n",
       "      <th>1948</th>\n",
       "      <td>Tokyo</td>\n",
       "      <td>Chiyoda</td>\n",
       "      <td>2018</td>\n",
       "      <td>3.061189e+06</td>\n",
       "      <td>NaN</td>\n",
       "      <td>66</td>\n",
       "      <td>0.032212</td>\n",
       "      <td>-0.172484</td>\n",
       "      <td>3.095455e+06</td>\n",
       "      <td>0.011194</td>\n",
       "    </tr>\n",
       "    <tr>\n",
       "      <th>1949</th>\n",
       "      <td>Tokyo</td>\n",
       "      <td>Chiyoda</td>\n",
       "      <td>2019</td>\n",
       "      <td>3.095455e+06</td>\n",
       "      <td>NaN</td>\n",
       "      <td>64</td>\n",
       "      <td>0.028108</td>\n",
       "      <td>0.011194</td>\n",
       "      <td>3.500000e+06</td>\n",
       "      <td>0.130690</td>\n",
       "    </tr>\n",
       "    <tr>\n",
       "      <th>1950</th>\n",
       "      <td>Tokyo</td>\n",
       "      <td>Chiyoda</td>\n",
       "      <td>2020</td>\n",
       "      <td>3.500000e+06</td>\n",
       "      <td>NaN</td>\n",
       "      <td>41</td>\n",
       "      <td>0.014607</td>\n",
       "      <td>0.130690</td>\n",
       "      <td>3.344915e+06</td>\n",
       "      <td>-0.044310</td>\n",
       "    </tr>\n",
       "    <tr>\n",
       "      <th>1951</th>\n",
       "      <td>Tokyo</td>\n",
       "      <td>Chiyoda</td>\n",
       "      <td>2021</td>\n",
       "      <td>3.344915e+06</td>\n",
       "      <td>NaN</td>\n",
       "      <td>48</td>\n",
       "      <td>-0.000976</td>\n",
       "      <td>-0.044310</td>\n",
       "      <td>4.333333e+06</td>\n",
       "      <td>0.295499</td>\n",
       "    </tr>\n",
       "    <tr>\n",
       "      <th>1952</th>\n",
       "      <td>Tokyo</td>\n",
       "      <td>Chiyoda</td>\n",
       "      <td>2022</td>\n",
       "      <td>4.333333e+06</td>\n",
       "      <td>NaN</td>\n",
       "      <td>52</td>\n",
       "      <td>-0.001383</td>\n",
       "      <td>0.295499</td>\n",
       "      <td>NaN</td>\n",
       "      <td>NaN</td>\n",
       "    </tr>\n",
       "  </tbody>\n",
       "</table>\n",
       "</div>"
      ],
      "text/plain": [
       "     Prefecture Municipality  year  TradePricePerArea  UnitPrice  Count  \\\n",
       "1940      Tokyo      Chiyoda  2010       2.083035e+06        NaN     46   \n",
       "1941      Tokyo      Chiyoda  2011       1.545455e+06        NaN     61   \n",
       "1942      Tokyo      Chiyoda  2012       1.488889e+06        NaN     57   \n",
       "1943      Tokyo      Chiyoda  2013       2.162162e+06        NaN     63   \n",
       "1944      Tokyo      Chiyoda  2014       2.037500e+06        NaN     68   \n",
       "1945      Tokyo      Chiyoda  2015       2.124060e+06        NaN     70   \n",
       "1946      Tokyo      Chiyoda  2016       2.785714e+06        NaN     64   \n",
       "1947      Tokyo      Chiyoda  2017       3.699248e+06        NaN     66   \n",
       "1948      Tokyo      Chiyoda  2018       3.061189e+06        NaN     66   \n",
       "1949      Tokyo      Chiyoda  2019       3.095455e+06        NaN     64   \n",
       "1950      Tokyo      Chiyoda  2020       3.500000e+06        NaN     41   \n",
       "1951      Tokyo      Chiyoda  2021       3.344915e+06        NaN     48   \n",
       "1952      Tokyo      Chiyoda  2022       4.333333e+06        NaN     52   \n",
       "\n",
       "      net_migration_ratio  TradePricePctChg  UpcomingTradePricePerArea  \\\n",
       "1940             0.012579          0.000000               1.545455e+06   \n",
       "1941             0.013117         -0.258075               1.488889e+06   \n",
       "1942             0.019949         -0.036601               2.162162e+06   \n",
       "1943             0.035358          0.452198               2.037500e+06   \n",
       "1944             0.043446         -0.057656               2.124060e+06   \n",
       "1945             0.023197          0.042484               2.785714e+06   \n",
       "1946             0.014473          0.311504               3.699248e+06   \n",
       "1947             0.017522          0.327935               3.061189e+06   \n",
       "1948             0.032212         -0.172484               3.095455e+06   \n",
       "1949             0.028108          0.011194               3.500000e+06   \n",
       "1950             0.014607          0.130690               3.344915e+06   \n",
       "1951            -0.000976         -0.044310               4.333333e+06   \n",
       "1952            -0.001383          0.295499                        NaN   \n",
       "\n",
       "      UpcomingTradePricePctChg  \n",
       "1940                 -0.258075  \n",
       "1941                 -0.036601  \n",
       "1942                  0.452198  \n",
       "1943                 -0.057656  \n",
       "1944                  0.042484  \n",
       "1945                  0.311504  \n",
       "1946                  0.327935  \n",
       "1947                 -0.172484  \n",
       "1948                  0.011194  \n",
       "1949                  0.130690  \n",
       "1950                 -0.044310  \n",
       "1951                  0.295499  \n",
       "1952                       NaN  "
      ]
     },
     "execution_count": 21,
     "metadata": {},
     "output_type": "execute_result"
    }
   ],
   "source": [
    "df[(df[\"Prefecture\"] == \"Tokyo\") & (df[\"Municipality\"] == \"Chiyoda\")]"
   ]
  },
  {
   "cell_type": "code",
   "execution_count": 22,
   "metadata": {},
   "outputs": [],
   "source": [
    "# comparables = [\"Tokyo_Minato\", \"Tokyo_Chuo\"]\n",
    "comparables = [\"Niigata_Yuzawa\"]\n",
    "\n",
    "frequency_n = 500\n",
    "return_n = 10\n",
    "factor_n = 10\n",
    "\n",
    "frequency_df = get_most_active_municipalities(\n",
    "    df.copy(), n=frequency_n, keep=comparables\n",
    ")\n",
    "\n",
    "return_df = get_highest_growth_municipalities(\n",
    "    frequency_df.copy(),\n",
    "    column=metric_pct_chg,\n",
    "    cumulative_column=\"return_growth\",\n",
    "    end_year=2021,\n",
    "    n=return_n,\n",
    "    keep=comparables,\n",
    ")\n",
    "\n",
    "return_df[\"factor_growth\"] = get_cumulative_growth(return_df.copy(), factor_column)\n",
    "\n",
    "factor_growth_df = get_highest_growth_municipalities(\n",
    "    frequency_df.copy(),\n",
    "    column=factor_column,\n",
    "    cumulative_column=\"factor_growth\",\n",
    "    end_year=2021,\n",
    "    n=factor_n,\n",
    "    keep=comparables,\n",
    ")\n",
    "\n",
    "factor_growth_df[\"return_growth\"] = get_cumulative_growth(\n",
    "    factor_growth_df.copy(), metric_pct_chg\n",
    ")\n",
    "\n",
    "tokyo_df = frequency_df[frequency_df[\"Prefecture\"] == \"Tokyo\"]"
   ]
  },
  {
   "cell_type": "code",
   "execution_count": 23,
   "metadata": {},
   "outputs": [
    {
     "data": {
      "application/vnd.plotly.v1+json": {
       "config": {
        "plotlyServerURL": "https://plot.ly"
       },
       "data": [
        {
         "hovertemplate": "variable=('Fukuoka', 'Fukutsu')<br>year=%{x}<br>value=%{y}<extra></extra>",
         "legendgroup": "('Fukuoka', 'Fukutsu')",
         "line": {
          "color": "#636efa",
          "dash": "solid"
         },
         "marker": {
          "symbol": "circle"
         },
         "mode": "lines+markers",
         "name": "('Fukuoka', 'Fukutsu')",
         "orientation": "v",
         "showlegend": true,
         "type": "scatter",
         "visible": "legendonly",
         "x": [
          2010,
          2011,
          2012,
          2013,
          2014,
          2015,
          2016,
          2017,
          2018,
          2019,
          2020,
          2021,
          2022
         ],
         "xaxis": "x",
         "y": [
          1,
          1.046996576408341,
          1.2244180939833111,
          2.0035650623885912,
          2.4781144781144775,
          2.0481310803891444,
          1.7119341563786,
          2.1515151515151505,
          2.6666666666666656,
          2.461538461538461,
          2.0056980056980054,
          2.236874236874236,
          2.6666666666666656
         ],
         "yaxis": "y"
        },
        {
         "hovertemplate": "variable=('Tokyo', 'Chuo')<br>year=%{x}<br>value=%{y}<extra></extra>",
         "legendgroup": "('Tokyo', 'Chuo')",
         "line": {
          "color": "#EF553B",
          "dash": "solid"
         },
         "marker": {
          "symbol": "circle"
         },
         "mode": "lines+markers",
         "name": "('Tokyo', 'Chuo')",
         "orientation": "v",
         "showlegend": true,
         "type": "scatter",
         "visible": "legendonly",
         "x": [
          2010,
          2011,
          2012,
          2013,
          2014,
          2015,
          2016,
          2017,
          2018,
          2019,
          2020,
          2021,
          2022
         ],
         "xaxis": "x",
         "y": [
          1,
          0.8702040816326531,
          0.9230785931393833,
          0.9826702398130971,
          1.0936318340045048,
          1.3096716947648626,
          1.6537815126050421,
          1.860874009711219,
          1.7855835930431285,
          2.0081632653061225,
          1.9858503401360543,
          1.7429723502304149,
          2.5009878734102338
         ],
         "yaxis": "y"
        },
        {
         "hovertemplate": "variable=('Tokyo', 'Minato')<br>year=%{x}<br>value=%{y}<extra></extra>",
         "legendgroup": "('Tokyo', 'Minato')",
         "line": {
          "color": "#00cc96",
          "dash": "solid"
         },
         "marker": {
          "symbol": "circle"
         },
         "mode": "lines+markers",
         "name": "('Tokyo', 'Minato')",
         "orientation": "v",
         "showlegend": true,
         "type": "scatter",
         "visible": "legendonly",
         "x": [
          2010,
          2011,
          2012,
          2013,
          2014,
          2015,
          2016,
          2017,
          2018,
          2019,
          2020,
          2021,
          2022
         ],
         "xaxis": "x",
         "y": [
          1,
          1.0524664732177866,
          1.0090338386158322,
          1.105305466237942,
          1.1642088923383969,
          1.35048231511254,
          1.5064373771430803,
          1.7937528709232886,
          2.0080904470490615,
          1.6977491961414792,
          1.7684887459807077,
          2.145444413485651,
          2.1221864951768494
         ],
         "yaxis": "y"
        },
        {
         "hovertemplate": "variable=('Tokyo', 'Sumida')<br>year=%{x}<br>value=%{y}<extra></extra>",
         "legendgroup": "('Tokyo', 'Sumida')",
         "line": {
          "color": "#ab63fa",
          "dash": "solid"
         },
         "marker": {
          "symbol": "circle"
         },
         "mode": "lines+markers",
         "name": "('Tokyo', 'Sumida')",
         "orientation": "v",
         "showlegend": true,
         "type": "scatter",
         "visible": "legendonly",
         "x": [
          2010,
          2011,
          2012,
          2013,
          2014,
          2015,
          2016,
          2017,
          2018,
          2019,
          2020,
          2021,
          2022
         ],
         "xaxis": "x",
         "y": [
          1,
          0.9059343434343433,
          0.9523809523809524,
          0.9023809523809523,
          1,
          1.0057471264367817,
          1.1161616161616161,
          1.2041666666666666,
          1.282051282051282,
          1.3518518518518519,
          1.303030303030303,
          1.2735042735042734,
          1.5962962962962963
         ],
         "yaxis": "y"
        },
        {
         "hovertemplate": "variable=('Tokyo', 'Taito')<br>year=%{x}<br>value=%{y}<extra></extra>",
         "legendgroup": "('Tokyo', 'Taito')",
         "line": {
          "color": "#FFA15A",
          "dash": "solid"
         },
         "marker": {
          "symbol": "circle"
         },
         "mode": "lines+markers",
         "name": "('Tokyo', 'Taito')",
         "orientation": "v",
         "showlegend": true,
         "type": "scatter",
         "visible": "legendonly",
         "x": [
          2010,
          2011,
          2012,
          2013,
          2014,
          2015,
          2016,
          2017,
          2018,
          2019,
          2020,
          2021,
          2022
         ],
         "xaxis": "x",
         "y": [
          1,
          1.123456790123457,
          1.054882154882155,
          1.0317460317460319,
          1.1349206349206349,
          1.2679012345679013,
          1.271111111111111,
          1.5913793103448275,
          1.672514619883041,
          1.8055555555555556,
          1.7333333333333334,
          1.6033333333333335,
          2.1167084377610696
         ],
         "yaxis": "y"
        },
        {
         "hovertemplate": "variable=('Ibaraki', 'Hitachi')<br>year=%{x}<br>value=%{y}<extra></extra>",
         "legendgroup": "('Ibaraki', 'Hitachi')",
         "line": {
          "color": "#19d3f3",
          "dash": "solid"
         },
         "marker": {
          "symbol": "circle"
         },
         "mode": "lines+markers",
         "name": "('Ibaraki', 'Hitachi')",
         "orientation": "v",
         "showlegend": true,
         "type": "scatter",
         "visible": "legendonly",
         "x": [
          2010,
          2011,
          2012,
          2013,
          2014,
          2015,
          2016,
          2017,
          2018,
          2019,
          2020,
          2021,
          2022
         ],
         "xaxis": "x",
         "y": [
          1,
          0.7146947178794313,
          0.9400826446280993,
          1.3647692656277537,
          1.0309408121648498,
          1.1439069326735798,
          0.9484655471916618,
          1.2294923759891911,
          0.8511870295309784,
          0.6735479972810351,
          1.208828638577608,
          0.7903879559930513,
          0.6872938747765663
         ],
         "yaxis": "y"
        },
        {
         "hovertemplate": "variable=('Ibaraki', 'Tsukuba')<br>year=%{x}<br>value=%{y}<extra></extra>",
         "legendgroup": "('Ibaraki', 'Tsukuba')",
         "line": {
          "color": "#FF6692",
          "dash": "solid"
         },
         "marker": {
          "symbol": "circle"
         },
         "mode": "lines+markers",
         "name": "('Ibaraki', 'Tsukuba')",
         "orientation": "v",
         "showlegend": true,
         "type": "scatter",
         "visible": "legendonly",
         "x": [
          2010,
          2011,
          2012,
          2013,
          2014,
          2015,
          2016,
          2017,
          2018,
          2019,
          2020,
          2021,
          2022
         ],
         "xaxis": "x",
         "y": [
          1,
          1.0505502704719267,
          0.9246387307021295,
          0.9848908785674313,
          1.4445066218988993,
          1.3614222375274414,
          1.555090860895944,
          1.666049675003228,
          1.8659558221528774,
          1.5758254057078902,
          1.49018272061507,
          1.5971203436228616,
          1.7163961947397866
         ],
         "yaxis": "y"
        },
        {
         "hovertemplate": "variable=('Nagano', 'Karuizawa')<br>year=%{x}<br>value=%{y}<extra></extra>",
         "legendgroup": "('Nagano', 'Karuizawa')",
         "line": {
          "color": "#B6E880",
          "dash": "solid"
         },
         "marker": {
          "symbol": "circle"
         },
         "mode": "lines+markers",
         "name": "('Nagano', 'Karuizawa')",
         "orientation": "v",
         "showlegend": true,
         "type": "scatter",
         "visible": "legendonly",
         "x": [
          2010,
          2011,
          2012,
          2013,
          2014,
          2015,
          2016,
          2017,
          2018,
          2019,
          2020,
          2021,
          2022
         ],
         "xaxis": "x",
         "y": [
          1,
          1.1374032574794963,
          0.8684349851757731,
          1.0795621151402603,
          1.2541296060991107,
          0.9953409572215165,
          1.1645489199491743,
          1.085826498787109,
          1.118560974118191,
          1.0619932534640288,
          1.3866343710292253,
          1.4034307496823384,
          1.7003741352534243
         ],
         "yaxis": "y"
        },
        {
         "hovertemplate": "variable=('Kyoto', 'Kizugawa')<br>year=%{x}<br>value=%{y}<extra></extra>",
         "legendgroup": "('Kyoto', 'Kizugawa')",
         "line": {
          "color": "#FF97FF",
          "dash": "solid"
         },
         "marker": {
          "symbol": "circle"
         },
         "mode": "lines+markers",
         "name": "('Kyoto', 'Kizugawa')",
         "orientation": "v",
         "showlegend": true,
         "type": "scatter",
         "visible": "legendonly",
         "x": [
          2010,
          2011,
          2012,
          2013,
          2014,
          2015,
          2016,
          2017,
          2018,
          2019,
          2020,
          2021,
          2022
         ],
         "xaxis": "x",
         "y": [
          1,
          0.9777777777777777,
          0.9692508243232881,
          0.8345679012345678,
          0.9007407407407407,
          0.8017429193899783,
          0.8443330548593706,
          0.8559670781893003,
          0.8126984126984126,
          0.8714596949891068,
          0.9760348583877994,
          0.888888888888889,
          0.5834757834757837
         ],
         "yaxis": "y"
        },
        {
         "hovertemplate": "variable=('Niigata', 'Yuzawa')<br>year=%{x}<br>value=%{y}<extra></extra>",
         "legendgroup": "('Niigata', 'Yuzawa')",
         "line": {
          "color": "#FECB52",
          "dash": "solid"
         },
         "marker": {
          "symbol": "circle"
         },
         "mode": "lines+markers",
         "name": "('Niigata', 'Yuzawa')",
         "orientation": "v",
         "showlegend": true,
         "type": "scatter",
         "visible": "legendonly",
         "x": [
          2010,
          2011,
          2012,
          2013,
          2014,
          2015,
          2016,
          2017,
          2018,
          2019,
          2020,
          2021,
          2022
         ],
         "xaxis": "x",
         "y": [
          1,
          1.4255765199161425,
          3.1820512820512823,
          0.44225427350427354,
          0.6417378917378918,
          0.7083333333333334,
          0.8405555555555556,
          0.5151515151515152,
          0.9941520467836259,
          0.39766081871345027,
          0.4434782608695652,
          0.3105218855218856,
          0.6149870801033592
         ],
         "yaxis": "y"
        },
        {
         "hovertemplate": "variable=('Hiroshima', 'Kure')<br>year=%{x}<br>value=%{y}<extra></extra>",
         "legendgroup": "('Hiroshima', 'Kure')",
         "line": {
          "color": "#636efa",
          "dash": "solid"
         },
         "marker": {
          "symbol": "circle"
         },
         "mode": "lines+markers",
         "name": "('Hiroshima', 'Kure')",
         "orientation": "v",
         "showlegend": true,
         "type": "scatter",
         "visible": "legendonly",
         "x": [
          2010,
          2011,
          2012,
          2013,
          2014,
          2015,
          2016,
          2017,
          2018,
          2019,
          2020,
          2021,
          2022
         ],
         "xaxis": "x",
         "y": [
          1,
          1.0052867563407615,
          0.850860691261715,
          0.9362423362624125,
          1.3671899886234355,
          1.074220705346985,
          1.255582642613359,
          0.9155290102389075,
          0.709435899708937,
          0.6087876666374958,
          0.7173670701353312,
          0.610352673492605,
          0.7847391516333493
         ],
         "yaxis": "y"
        },
        {
         "hovertemplate": "variable=('Miyagi', 'Ishinomaki')<br>year=%{x}<br>value=%{y}<extra></extra>",
         "legendgroup": "('Miyagi', 'Ishinomaki')",
         "line": {
          "color": "#EF553B",
          "dash": "solid"
         },
         "marker": {
          "symbol": "circle"
         },
         "mode": "lines+markers",
         "name": "('Miyagi', 'Ishinomaki')",
         "orientation": "v",
         "showlegend": true,
         "type": "scatter",
         "visible": "legendonly",
         "x": [
          2010,
          2011,
          2012,
          2013,
          2014,
          2015,
          2016,
          2017,
          2018,
          2019,
          2020,
          2021,
          2022
         ],
         "xaxis": "x",
         "y": [
          1,
          1.3142857142857145,
          1.8162698412698415,
          2.3953546453546455,
          2.7669172932330834,
          3.1171052631578946,
          2.9888392857142865,
          2.872127872127873,
          2.8750000000000004,
          2.068783068783069,
          2.5628571428571427,
          2.0535714285714284,
          1.7311827956989245
         ],
         "yaxis": "y"
        },
        {
         "hovertemplate": "variable=('Osaka', 'Kashiwara')<br>year=%{x}<br>value=%{y}<extra></extra>",
         "legendgroup": "('Osaka', 'Kashiwara')",
         "line": {
          "color": "#00cc96",
          "dash": "solid"
         },
         "marker": {
          "symbol": "circle"
         },
         "mode": "lines+markers",
         "name": "('Osaka', 'Kashiwara')",
         "orientation": "v",
         "showlegend": true,
         "type": "scatter",
         "visible": "legendonly",
         "x": [
          2010,
          2011,
          2012,
          2013,
          2014,
          2015,
          2016,
          2017,
          2018,
          2019,
          2020,
          2021,
          2022
         ],
         "xaxis": "x",
         "y": [
          1,
          1.0042134831460674,
          0.9503351902558776,
          0.9269662921348315,
          0.8248874130009552,
          0.7492977528089888,
          0.7303370786516854,
          0.6832084893882647,
          0.5767790262172283,
          0.8239700374531835,
          0.8703183520599248,
          0.6179775280898875,
          0.5368334304838093
         ],
         "yaxis": "y"
        },
        {
         "hovertemplate": "variable=('Osaka', 'Kawachinagano')<br>year=%{x}<br>value=%{y}<extra></extra>",
         "legendgroup": "('Osaka', 'Kawachinagano')",
         "line": {
          "color": "#ab63fa",
          "dash": "solid"
         },
         "marker": {
          "symbol": "circle"
         },
         "mode": "lines+markers",
         "name": "('Osaka', 'Kawachinagano')",
         "orientation": "v",
         "showlegend": true,
         "type": "scatter",
         "visible": "legendonly",
         "x": [
          2010,
          2011,
          2012,
          2013,
          2014,
          2015,
          2016,
          2017,
          2018,
          2019,
          2020,
          2021,
          2022
         ],
         "xaxis": "x",
         "y": [
          1,
          1.0540184453227932,
          1.0104669887278583,
          0.7841489883077783,
          0.9177103024574669,
          0.8593154080854308,
          0.9057971014492752,
          0.7295338817077948,
          0.7238142292490117,
          0.7476370510396976,
          0.7368815592203898,
          0.6441223832528181,
          0.7763975155279503
         ],
         "yaxis": "y"
        },
        {
         "hovertemplate": "variable=('Osaka', 'Tondabayashi')<br>year=%{x}<br>value=%{y}<extra></extra>",
         "legendgroup": "('Osaka', 'Tondabayashi')",
         "line": {
          "color": "#FFA15A",
          "dash": "solid"
         },
         "marker": {
          "symbol": "circle"
         },
         "mode": "lines+markers",
         "name": "('Osaka', 'Tondabayashi')",
         "orientation": "v",
         "showlegend": true,
         "type": "scatter",
         "visible": "legendonly",
         "x": [
          2010,
          2011,
          2012,
          2013,
          2014,
          2015,
          2016,
          2017,
          2018,
          2019,
          2020,
          2021,
          2022
         ],
         "xaxis": "x",
         "y": [
          1,
          0.9,
          1.0515683147262096,
          0.8888888888888888,
          0.7333333333333333,
          0.764957264957265,
          0.7499999999999999,
          0.603660130718954,
          0.7483333333333332,
          0.6480708412397215,
          0.8666666666666665,
          0.6669467787114843,
          0.6363636363636361
         ],
         "yaxis": "y"
        },
        {
         "hovertemplate": "variable=('Chiba', 'Inzai')<br>year=%{x}<br>value=%{y}<extra></extra>",
         "legendgroup": "('Chiba', 'Inzai')",
         "line": {
          "color": "#19d3f3",
          "dash": "solid"
         },
         "marker": {
          "symbol": "circle"
         },
         "mode": "lines+markers",
         "name": "('Chiba', 'Inzai')",
         "orientation": "v",
         "showlegend": true,
         "type": "scatter",
         "visible": "legendonly",
         "x": [
          2010,
          2011,
          2012,
          2013,
          2014,
          2015,
          2016,
          2017,
          2018,
          2019,
          2020,
          2021,
          2022
         ],
         "xaxis": "x",
         "y": [
          1,
          1.1198875343406594,
          1.0504807692307692,
          0.8754006410256409,
          0.8703983516483516,
          0.938664889032536,
          0.8846153846153847,
          0.9339752427413273,
          1.0504807692307692,
          0.9979567307692306,
          1.050480769230769,
          1.209644522144522,
          1.1778117715617713
         ],
         "yaxis": "y"
        },
        {
         "hovertemplate": "variable=('Chiba', 'Nagareyama')<br>year=%{x}<br>value=%{y}<extra></extra>",
         "legendgroup": "('Chiba', 'Nagareyama')",
         "line": {
          "color": "#FF6692",
          "dash": "solid"
         },
         "marker": {
          "symbol": "circle"
         },
         "mode": "lines+markers",
         "name": "('Chiba', 'Nagareyama')",
         "orientation": "v",
         "showlegend": true,
         "type": "scatter",
         "visible": "legendonly",
         "x": [
          2010,
          2011,
          2012,
          2013,
          2014,
          2015,
          2016,
          2017,
          2018,
          2019,
          2020,
          2021,
          2022
         ],
         "xaxis": "x",
         "y": [
          1,
          1.040950040950041,
          0.9393939393939394,
          0.8767676767676766,
          0.8710517877184545,
          0.9117647058823529,
          1.08993783993784,
          0.9080808080808079,
          1.017229437229437,
          1.3069828722002634,
          1.2709447415329767,
          1.327721661054994,
          1.295715778474399
         ],
         "yaxis": "y"
        },
        {
         "hovertemplate": "variable=('Chiba', 'Yachimata')<br>year=%{x}<br>value=%{y}<extra></extra>",
         "legendgroup": "('Chiba', 'Yachimata')",
         "line": {
          "color": "#B6E880",
          "dash": "solid"
         },
         "marker": {
          "symbol": "circle"
         },
         "mode": "lines+markers",
         "name": "('Chiba', 'Yachimata')",
         "orientation": "v",
         "showlegend": true,
         "type": "scatter",
         "visible": "legendonly",
         "x": [
          2010,
          2011,
          2012,
          2013,
          2014,
          2015,
          2016,
          2017,
          2018,
          2019,
          2020,
          2021,
          2022
         ],
         "xaxis": "x",
         "y": [
          1,
          1.0577777777777777,
          0.9769565217391303,
          1.0266666666666662,
          0.96551724137931,
          0.8977338603425558,
          0.8484848484848484,
          0.8397262952101662,
          1.0124074074074074,
          0.756,
          0.9726315789473685,
          0.8885368126747437,
          1.018181818181818
         ],
         "yaxis": "y"
        },
        {
         "hovertemplate": "variable=('Hokkaido', 'Kushiro')<br>year=%{x}<br>value=%{y}<extra></extra>",
         "legendgroup": "('Hokkaido', 'Kushiro')",
         "line": {
          "color": "#FF97FF",
          "dash": "solid"
         },
         "marker": {
          "symbol": "circle"
         },
         "mode": "lines+markers",
         "name": "('Hokkaido', 'Kushiro')",
         "orientation": "v",
         "showlegend": true,
         "type": "scatter",
         "visible": "legendonly",
         "x": [
          2010,
          2011,
          2012,
          2013,
          2014,
          2015,
          2016,
          2017,
          2018,
          2019,
          2020,
          2021,
          2022
         ],
         "xaxis": "x",
         "y": [
          1,
          1.0371959942775393,
          0.9144258561793815,
          1.0113148653921185,
          0.8510395184214926,
          0.9334763948497853,
          1.090300429184549,
          0.8868025751072959,
          1.266281022578839,
          1.244635193133047,
          1.0988958585525108,
          1.2404465170023107,
          1.1282888598619143
         ],
         "yaxis": "y"
        },
        {
         "hovertemplate": "variable=('Hokkaido', 'Muroran')<br>year=%{x}<br>value=%{y}<extra></extra>",
         "legendgroup": "('Hokkaido', 'Muroran')",
         "line": {
          "color": "#FECB52",
          "dash": "solid"
         },
         "marker": {
          "symbol": "circle"
         },
         "mode": "lines+markers",
         "name": "('Hokkaido', 'Muroran')",
         "orientation": "v",
         "showlegend": true,
         "type": "scatter",
         "visible": "legendonly",
         "x": [
          2010,
          2011,
          2012,
          2013,
          2014,
          2015,
          2016,
          2017,
          2018,
          2019,
          2020,
          2021,
          2022
         ],
         "xaxis": "x",
         "y": [
          1,
          0.8403846153846152,
          0.9258530942741469,
          0.8179820179820179,
          0.7885714285714285,
          0.6987489433643279,
          0.7660408163265303,
          0.9389499389499388,
          0.8115484515484515,
          0.9857142857142857,
          0.8593406593406592,
          0.6899592343140729,
          0.535229476405947
         ],
         "yaxis": "y"
        },
        {
         "hovertemplate": "variable=('Hokkaido', 'Otaru')<br>year=%{x}<br>value=%{y}<extra></extra>",
         "legendgroup": "('Hokkaido', 'Otaru')",
         "line": {
          "color": "#636efa",
          "dash": "solid"
         },
         "marker": {
          "symbol": "circle"
         },
         "mode": "lines+markers",
         "name": "('Hokkaido', 'Otaru')",
         "orientation": "v",
         "showlegend": true,
         "type": "scatter",
         "visible": "legendonly",
         "x": [
          2010,
          2011,
          2012,
          2013,
          2014,
          2015,
          2016,
          2017,
          2018,
          2019,
          2020,
          2021,
          2022
         ],
         "xaxis": "x",
         "y": [
          1,
          0.8279264666125979,
          0.8819951338199512,
          0.9649714376388446,
          0.7664233576642335,
          0.7354567573545676,
          0.6386861313868613,
          0.8515815085158152,
          1.1660860429108604,
          0.7161026321610263,
          0.7640636798389128,
          0.8392990829122216,
          0.8667883211678832
         ],
         "yaxis": "y"
        }
       ],
       "layout": {
        "autosize": false,
        "height": 800,
        "hovermode": "closest",
        "legend": {
         "title": {
          "text": "variable"
         },
         "tracegroupgap": 0
        },
        "template": {
         "data": {
          "bar": [
           {
            "error_x": {
             "color": "#2a3f5f"
            },
            "error_y": {
             "color": "#2a3f5f"
            },
            "marker": {
             "line": {
              "color": "#E5ECF6",
              "width": 0.5
             },
             "pattern": {
              "fillmode": "overlay",
              "size": 10,
              "solidity": 0.2
             }
            },
            "type": "bar"
           }
          ],
          "barpolar": [
           {
            "marker": {
             "line": {
              "color": "#E5ECF6",
              "width": 0.5
             },
             "pattern": {
              "fillmode": "overlay",
              "size": 10,
              "solidity": 0.2
             }
            },
            "type": "barpolar"
           }
          ],
          "carpet": [
           {
            "aaxis": {
             "endlinecolor": "#2a3f5f",
             "gridcolor": "white",
             "linecolor": "white",
             "minorgridcolor": "white",
             "startlinecolor": "#2a3f5f"
            },
            "baxis": {
             "endlinecolor": "#2a3f5f",
             "gridcolor": "white",
             "linecolor": "white",
             "minorgridcolor": "white",
             "startlinecolor": "#2a3f5f"
            },
            "type": "carpet"
           }
          ],
          "choropleth": [
           {
            "colorbar": {
             "outlinewidth": 0,
             "ticks": ""
            },
            "type": "choropleth"
           }
          ],
          "contour": [
           {
            "colorbar": {
             "outlinewidth": 0,
             "ticks": ""
            },
            "colorscale": [
             [
              0,
              "#0d0887"
             ],
             [
              0.1111111111111111,
              "#46039f"
             ],
             [
              0.2222222222222222,
              "#7201a8"
             ],
             [
              0.3333333333333333,
              "#9c179e"
             ],
             [
              0.4444444444444444,
              "#bd3786"
             ],
             [
              0.5555555555555556,
              "#d8576b"
             ],
             [
              0.6666666666666666,
              "#ed7953"
             ],
             [
              0.7777777777777778,
              "#fb9f3a"
             ],
             [
              0.8888888888888888,
              "#fdca26"
             ],
             [
              1,
              "#f0f921"
             ]
            ],
            "type": "contour"
           }
          ],
          "contourcarpet": [
           {
            "colorbar": {
             "outlinewidth": 0,
             "ticks": ""
            },
            "type": "contourcarpet"
           }
          ],
          "heatmap": [
           {
            "colorbar": {
             "outlinewidth": 0,
             "ticks": ""
            },
            "colorscale": [
             [
              0,
              "#0d0887"
             ],
             [
              0.1111111111111111,
              "#46039f"
             ],
             [
              0.2222222222222222,
              "#7201a8"
             ],
             [
              0.3333333333333333,
              "#9c179e"
             ],
             [
              0.4444444444444444,
              "#bd3786"
             ],
             [
              0.5555555555555556,
              "#d8576b"
             ],
             [
              0.6666666666666666,
              "#ed7953"
             ],
             [
              0.7777777777777778,
              "#fb9f3a"
             ],
             [
              0.8888888888888888,
              "#fdca26"
             ],
             [
              1,
              "#f0f921"
             ]
            ],
            "type": "heatmap"
           }
          ],
          "heatmapgl": [
           {
            "colorbar": {
             "outlinewidth": 0,
             "ticks": ""
            },
            "colorscale": [
             [
              0,
              "#0d0887"
             ],
             [
              0.1111111111111111,
              "#46039f"
             ],
             [
              0.2222222222222222,
              "#7201a8"
             ],
             [
              0.3333333333333333,
              "#9c179e"
             ],
             [
              0.4444444444444444,
              "#bd3786"
             ],
             [
              0.5555555555555556,
              "#d8576b"
             ],
             [
              0.6666666666666666,
              "#ed7953"
             ],
             [
              0.7777777777777778,
              "#fb9f3a"
             ],
             [
              0.8888888888888888,
              "#fdca26"
             ],
             [
              1,
              "#f0f921"
             ]
            ],
            "type": "heatmapgl"
           }
          ],
          "histogram": [
           {
            "marker": {
             "pattern": {
              "fillmode": "overlay",
              "size": 10,
              "solidity": 0.2
             }
            },
            "type": "histogram"
           }
          ],
          "histogram2d": [
           {
            "colorbar": {
             "outlinewidth": 0,
             "ticks": ""
            },
            "colorscale": [
             [
              0,
              "#0d0887"
             ],
             [
              0.1111111111111111,
              "#46039f"
             ],
             [
              0.2222222222222222,
              "#7201a8"
             ],
             [
              0.3333333333333333,
              "#9c179e"
             ],
             [
              0.4444444444444444,
              "#bd3786"
             ],
             [
              0.5555555555555556,
              "#d8576b"
             ],
             [
              0.6666666666666666,
              "#ed7953"
             ],
             [
              0.7777777777777778,
              "#fb9f3a"
             ],
             [
              0.8888888888888888,
              "#fdca26"
             ],
             [
              1,
              "#f0f921"
             ]
            ],
            "type": "histogram2d"
           }
          ],
          "histogram2dcontour": [
           {
            "colorbar": {
             "outlinewidth": 0,
             "ticks": ""
            },
            "colorscale": [
             [
              0,
              "#0d0887"
             ],
             [
              0.1111111111111111,
              "#46039f"
             ],
             [
              0.2222222222222222,
              "#7201a8"
             ],
             [
              0.3333333333333333,
              "#9c179e"
             ],
             [
              0.4444444444444444,
              "#bd3786"
             ],
             [
              0.5555555555555556,
              "#d8576b"
             ],
             [
              0.6666666666666666,
              "#ed7953"
             ],
             [
              0.7777777777777778,
              "#fb9f3a"
             ],
             [
              0.8888888888888888,
              "#fdca26"
             ],
             [
              1,
              "#f0f921"
             ]
            ],
            "type": "histogram2dcontour"
           }
          ],
          "mesh3d": [
           {
            "colorbar": {
             "outlinewidth": 0,
             "ticks": ""
            },
            "type": "mesh3d"
           }
          ],
          "parcoords": [
           {
            "line": {
             "colorbar": {
              "outlinewidth": 0,
              "ticks": ""
             }
            },
            "type": "parcoords"
           }
          ],
          "pie": [
           {
            "automargin": true,
            "type": "pie"
           }
          ],
          "scatter": [
           {
            "fillpattern": {
             "fillmode": "overlay",
             "size": 10,
             "solidity": 0.2
            },
            "type": "scatter"
           }
          ],
          "scatter3d": [
           {
            "line": {
             "colorbar": {
              "outlinewidth": 0,
              "ticks": ""
             }
            },
            "marker": {
             "colorbar": {
              "outlinewidth": 0,
              "ticks": ""
             }
            },
            "type": "scatter3d"
           }
          ],
          "scattercarpet": [
           {
            "marker": {
             "colorbar": {
              "outlinewidth": 0,
              "ticks": ""
             }
            },
            "type": "scattercarpet"
           }
          ],
          "scattergeo": [
           {
            "marker": {
             "colorbar": {
              "outlinewidth": 0,
              "ticks": ""
             }
            },
            "type": "scattergeo"
           }
          ],
          "scattergl": [
           {
            "marker": {
             "colorbar": {
              "outlinewidth": 0,
              "ticks": ""
             }
            },
            "type": "scattergl"
           }
          ],
          "scattermapbox": [
           {
            "marker": {
             "colorbar": {
              "outlinewidth": 0,
              "ticks": ""
             }
            },
            "type": "scattermapbox"
           }
          ],
          "scatterpolar": [
           {
            "marker": {
             "colorbar": {
              "outlinewidth": 0,
              "ticks": ""
             }
            },
            "type": "scatterpolar"
           }
          ],
          "scatterpolargl": [
           {
            "marker": {
             "colorbar": {
              "outlinewidth": 0,
              "ticks": ""
             }
            },
            "type": "scatterpolargl"
           }
          ],
          "scatterternary": [
           {
            "marker": {
             "colorbar": {
              "outlinewidth": 0,
              "ticks": ""
             }
            },
            "type": "scatterternary"
           }
          ],
          "surface": [
           {
            "colorbar": {
             "outlinewidth": 0,
             "ticks": ""
            },
            "colorscale": [
             [
              0,
              "#0d0887"
             ],
             [
              0.1111111111111111,
              "#46039f"
             ],
             [
              0.2222222222222222,
              "#7201a8"
             ],
             [
              0.3333333333333333,
              "#9c179e"
             ],
             [
              0.4444444444444444,
              "#bd3786"
             ],
             [
              0.5555555555555556,
              "#d8576b"
             ],
             [
              0.6666666666666666,
              "#ed7953"
             ],
             [
              0.7777777777777778,
              "#fb9f3a"
             ],
             [
              0.8888888888888888,
              "#fdca26"
             ],
             [
              1,
              "#f0f921"
             ]
            ],
            "type": "surface"
           }
          ],
          "table": [
           {
            "cells": {
             "fill": {
              "color": "#EBF0F8"
             },
             "line": {
              "color": "white"
             }
            },
            "header": {
             "fill": {
              "color": "#C8D4E3"
             },
             "line": {
              "color": "white"
             }
            },
            "type": "table"
           }
          ]
         },
         "layout": {
          "annotationdefaults": {
           "arrowcolor": "#2a3f5f",
           "arrowhead": 0,
           "arrowwidth": 1
          },
          "autotypenumbers": "strict",
          "coloraxis": {
           "colorbar": {
            "outlinewidth": 0,
            "ticks": ""
           }
          },
          "colorscale": {
           "diverging": [
            [
             0,
             "#8e0152"
            ],
            [
             0.1,
             "#c51b7d"
            ],
            [
             0.2,
             "#de77ae"
            ],
            [
             0.3,
             "#f1b6da"
            ],
            [
             0.4,
             "#fde0ef"
            ],
            [
             0.5,
             "#f7f7f7"
            ],
            [
             0.6,
             "#e6f5d0"
            ],
            [
             0.7,
             "#b8e186"
            ],
            [
             0.8,
             "#7fbc41"
            ],
            [
             0.9,
             "#4d9221"
            ],
            [
             1,
             "#276419"
            ]
           ],
           "sequential": [
            [
             0,
             "#0d0887"
            ],
            [
             0.1111111111111111,
             "#46039f"
            ],
            [
             0.2222222222222222,
             "#7201a8"
            ],
            [
             0.3333333333333333,
             "#9c179e"
            ],
            [
             0.4444444444444444,
             "#bd3786"
            ],
            [
             0.5555555555555556,
             "#d8576b"
            ],
            [
             0.6666666666666666,
             "#ed7953"
            ],
            [
             0.7777777777777778,
             "#fb9f3a"
            ],
            [
             0.8888888888888888,
             "#fdca26"
            ],
            [
             1,
             "#f0f921"
            ]
           ],
           "sequentialminus": [
            [
             0,
             "#0d0887"
            ],
            [
             0.1111111111111111,
             "#46039f"
            ],
            [
             0.2222222222222222,
             "#7201a8"
            ],
            [
             0.3333333333333333,
             "#9c179e"
            ],
            [
             0.4444444444444444,
             "#bd3786"
            ],
            [
             0.5555555555555556,
             "#d8576b"
            ],
            [
             0.6666666666666666,
             "#ed7953"
            ],
            [
             0.7777777777777778,
             "#fb9f3a"
            ],
            [
             0.8888888888888888,
             "#fdca26"
            ],
            [
             1,
             "#f0f921"
            ]
           ]
          },
          "colorway": [
           "#636efa",
           "#EF553B",
           "#00cc96",
           "#ab63fa",
           "#FFA15A",
           "#19d3f3",
           "#FF6692",
           "#B6E880",
           "#FF97FF",
           "#FECB52"
          ],
          "font": {
           "color": "#2a3f5f"
          },
          "geo": {
           "bgcolor": "white",
           "lakecolor": "white",
           "landcolor": "#E5ECF6",
           "showlakes": true,
           "showland": true,
           "subunitcolor": "white"
          },
          "hoverlabel": {
           "align": "left"
          },
          "hovermode": "closest",
          "mapbox": {
           "style": "light"
          },
          "paper_bgcolor": "white",
          "plot_bgcolor": "#E5ECF6",
          "polar": {
           "angularaxis": {
            "gridcolor": "white",
            "linecolor": "white",
            "ticks": ""
           },
           "bgcolor": "#E5ECF6",
           "radialaxis": {
            "gridcolor": "white",
            "linecolor": "white",
            "ticks": ""
           }
          },
          "scene": {
           "xaxis": {
            "backgroundcolor": "#E5ECF6",
            "gridcolor": "white",
            "gridwidth": 2,
            "linecolor": "white",
            "showbackground": true,
            "ticks": "",
            "zerolinecolor": "white"
           },
           "yaxis": {
            "backgroundcolor": "#E5ECF6",
            "gridcolor": "white",
            "gridwidth": 2,
            "linecolor": "white",
            "showbackground": true,
            "ticks": "",
            "zerolinecolor": "white"
           },
           "zaxis": {
            "backgroundcolor": "#E5ECF6",
            "gridcolor": "white",
            "gridwidth": 2,
            "linecolor": "white",
            "showbackground": true,
            "ticks": "",
            "zerolinecolor": "white"
           }
          },
          "shapedefaults": {
           "line": {
            "color": "#2a3f5f"
           }
          },
          "ternary": {
           "aaxis": {
            "gridcolor": "white",
            "linecolor": "white",
            "ticks": ""
           },
           "baxis": {
            "gridcolor": "white",
            "linecolor": "white",
            "ticks": ""
           },
           "bgcolor": "#E5ECF6",
           "caxis": {
            "gridcolor": "white",
            "linecolor": "white",
            "ticks": ""
           }
          },
          "title": {
           "x": 0.05
          },
          "xaxis": {
           "automargin": true,
           "gridcolor": "white",
           "linecolor": "white",
           "ticks": "",
           "title": {
            "standoff": 15
           },
           "zerolinecolor": "white",
           "zerolinewidth": 2
          },
          "yaxis": {
           "automargin": true,
           "gridcolor": "white",
           "linecolor": "white",
           "ticks": "",
           "title": {
            "standoff": 15
           },
           "zerolinecolor": "white",
           "zerolinewidth": 2
          }
         }
        },
        "title": {
         "text": "Cumulative Price Growth for top and bottom 10 municipalities"
        },
        "width": 1600,
        "xaxis": {
         "anchor": "y",
         "domain": [
          0,
          1
         ],
         "title": {
          "text": "year"
         }
        },
        "yaxis": {
         "anchor": "x",
         "domain": [
          0,
          1
         ],
         "title": {
          "text": "value"
         }
        }
       }
      }
     },
     "metadata": {},
     "output_type": "display_data"
    }
   ],
   "source": [
    "plot_time_series(\n",
    "    factor_growth_df.copy(),\n",
    "    \"return_growth\",\n",
    "    group_by_columns,\n",
    "    granularity_columns,\n",
    "    f\"Cumulative Price Growth for top and bottom {return_n} municipalities\",\n",
    "    visible=\"legendonly\",\n",
    ")"
   ]
  },
  {
   "cell_type": "code",
   "execution_count": 24,
   "metadata": {},
   "outputs": [
    {
     "data": {
      "application/vnd.plotly.v1+json": {
       "config": {
        "plotlyServerURL": "https://plot.ly"
       },
       "data": [
        {
         "hovertemplate": "variable=('Fukuoka', 'Fukutsu')<br>year=%{x}<br>value=%{y}<extra></extra>",
         "legendgroup": "('Fukuoka', 'Fukutsu')",
         "line": {
          "color": "#636efa",
          "dash": "solid"
         },
         "marker": {
          "symbol": "circle"
         },
         "mode": "lines+markers",
         "name": "('Fukuoka', 'Fukutsu')",
         "orientation": "v",
         "showlegend": true,
         "type": "scatter",
         "x": [
          2010,
          2011,
          2012,
          2013,
          2014,
          2015,
          2016,
          2017,
          2018,
          2019,
          2020,
          2021,
          2022
         ],
         "xaxis": "x",
         "y": [
          1.0042212723868733,
          1.008371895863506,
          1.0219364866296934,
          1.0401109187890774,
          1.0605461160761591,
          1.0809459889081205,
          1.1051785651206325,
          1.1290755590095019,
          1.1578120032498493,
          1.1839521000388562,
          1.1986117489137722,
          1.209824488503262,
          1.2204929472552244
         ],
         "yaxis": "y"
        },
        {
         "hovertemplate": "variable=('Tokyo', 'Chuo')<br>year=%{x}<br>value=%{y}<extra></extra>",
         "legendgroup": "('Tokyo', 'Chuo')",
         "line": {
          "color": "#EF553B",
          "dash": "solid"
         },
         "marker": {
          "symbol": "circle"
         },
         "mode": "lines+markers",
         "name": "('Tokyo', 'Chuo')",
         "orientation": "v",
         "showlegend": true,
         "type": "scatter",
         "x": [
          2010,
          2011,
          2012,
          2013,
          2014,
          2015,
          2016,
          2017,
          2018,
          2019,
          2020,
          2021,
          2022
         ],
         "xaxis": "x",
         "y": [
          1.0171855126885105,
          1.0392844164496393,
          1.060035733753255,
          1.084110592938041,
          1.1182469262915629,
          1.1457058930410025,
          1.1819468838955842,
          1.2213600024226265,
          1.250469384046998,
          1.2808052207619154,
          1.288042819938222,
          1.2900041096656372,
          1.2969480837934144
         ],
         "yaxis": "y"
        },
        {
         "hovertemplate": "variable=('Tokyo', 'Minato')<br>year=%{x}<br>value=%{y}<extra></extra>",
         "legendgroup": "('Tokyo', 'Minato')",
         "line": {
          "color": "#00cc96",
          "dash": "solid"
         },
         "marker": {
          "symbol": "circle"
         },
         "mode": "lines+markers",
         "name": "('Tokyo', 'Minato')",
         "orientation": "v",
         "showlegend": true,
         "type": "scatter",
         "x": [
          2010,
          2011,
          2012,
          2013,
          2014,
          2015,
          2016,
          2017,
          2018,
          2019,
          2020,
          2021,
          2022
         ],
         "xaxis": "x",
         "y": [
          1.012250708585787,
          1.0223274202331791,
          1.037017979426356,
          1.052527539438534,
          1.068963299329791,
          1.0780194759252346,
          1.0918738824497982,
          1.1016032691425357,
          1.110123450437586,
          1.116954174545797,
          1.1107537809108483,
          1.1080608475863385,
          1.1121139515647034
         ],
         "yaxis": "y"
        },
        {
         "hovertemplate": "variable=('Tokyo', 'Sumida')<br>year=%{x}<br>value=%{y}<extra></extra>",
         "legendgroup": "('Tokyo', 'Sumida')",
         "line": {
          "color": "#ab63fa",
          "dash": "solid"
         },
         "marker": {
          "symbol": "circle"
         },
         "mode": "lines+markers",
         "name": "('Tokyo', 'Sumida')",
         "orientation": "v",
         "showlegend": true,
         "type": "scatter",
         "x": [
          2010,
          2011,
          2012,
          2013,
          2014,
          2015,
          2016,
          2017,
          2018,
          2019,
          2020,
          2021,
          2022
         ],
         "xaxis": "x",
         "y": [
          1.008419246072705,
          1.0110381173270513,
          1.0209064451757315,
          1.0317300336365072,
          1.0458606048094943,
          1.0560365589569847,
          1.0671070579997002,
          1.0796144956750167,
          1.0899766446875765,
          1.1013223883134382,
          1.1058113036473947,
          1.1099292159871408,
          1.1241876757119191
         ],
         "yaxis": "y"
        },
        {
         "hovertemplate": "variable=('Tokyo', 'Taito')<br>year=%{x}<br>value=%{y}<extra></extra>",
         "legendgroup": "('Tokyo', 'Taito')",
         "line": {
          "color": "#FFA15A",
          "dash": "solid"
         },
         "marker": {
          "symbol": "circle"
         },
         "mode": "lines+markers",
         "name": "('Tokyo', 'Taito')",
         "orientation": "v",
         "showlegend": true,
         "type": "scatter",
         "x": [
          2010,
          2011,
          2012,
          2013,
          2014,
          2015,
          2016,
          2017,
          2018,
          2019,
          2020,
          2021,
          2022
         ],
         "xaxis": "x",
         "y": [
          1.010813495242062,
          1.0222998301880744,
          1.040963121976226,
          1.055263635684,
          1.0665256907286957,
          1.0744876272254436,
          1.084761782704815,
          1.096824837397071,
          1.1123428705691363,
          1.1291104631913955,
          1.140917197996432,
          1.1489220176801271,
          1.1620488060380618
         ],
         "yaxis": "y"
        },
        {
         "hovertemplate": "variable=('Ibaraki', 'Hitachi')<br>year=%{x}<br>value=%{y}<extra></extra>",
         "legendgroup": "('Ibaraki', 'Hitachi')",
         "line": {
          "color": "#19d3f3",
          "dash": "solid"
         },
         "marker": {
          "symbol": "circle"
         },
         "mode": "lines+markers",
         "name": "('Ibaraki', 'Hitachi')",
         "orientation": "v",
         "showlegend": true,
         "type": "scatter",
         "x": [
          2010,
          2011,
          2012,
          2013,
          2014,
          2015,
          2016,
          2017,
          2018,
          2019,
          2020,
          2021,
          2022
         ],
         "xaxis": "x",
         "y": [
          0.9946817324189833,
          0.9900048639432149,
          0.9837298426968695,
          0.9757925287694225,
          0.9672939906248832,
          0.9592551218391052,
          0.952573881159436,
          0.9460797152187975,
          0.9394091645242159,
          0.9327439588221778,
          0.9270889567109057,
          0.921213421049981,
          0.9148641722270298
         ],
         "yaxis": "y"
        },
        {
         "hovertemplate": "variable=('Ibaraki', 'Tsukuba')<br>year=%{x}<br>value=%{y}<extra></extra>",
         "legendgroup": "('Ibaraki', 'Tsukuba')",
         "line": {
          "color": "#FF6692",
          "dash": "solid"
         },
         "marker": {
          "symbol": "circle"
         },
         "mode": "lines+markers",
         "name": "('Ibaraki', 'Tsukuba')",
         "orientation": "v",
         "showlegend": true,
         "type": "scatter",
         "x": [
          2010,
          2011,
          2012,
          2013,
          2014,
          2015,
          2016,
          2017,
          2018,
          2019,
          2020,
          2021,
          2022
         ],
         "xaxis": "x",
         "y": [
          1.0077339796136573,
          1.0115430536745311,
          1.0171965214911964,
          1.0224445790861783,
          1.0256566754579794,
          1.0340900990804756,
          1.0431472307363312,
          1.0526632333024444,
          1.0642107420343567,
          1.076591346496542,
          1.0934671038562969,
          1.1114164334146102,
          1.1284235231667092
         ],
         "yaxis": "y"
        },
        {
         "hovertemplate": "variable=('Nagano', 'Karuizawa')<br>year=%{x}<br>value=%{y}<extra></extra>",
         "legendgroup": "('Nagano', 'Karuizawa')",
         "line": {
          "color": "#B6E880",
          "dash": "solid"
         },
         "marker": {
          "symbol": "circle"
         },
         "mode": "lines+markers",
         "name": "('Nagano', 'Karuizawa')",
         "orientation": "v",
         "showlegend": true,
         "type": "scatter",
         "x": [
          2010,
          2011,
          2012,
          2013,
          2014,
          2015,
          2016,
          2017,
          2018,
          2019,
          2020,
          2021,
          2022
         ],
         "xaxis": "x",
         "y": [
          1.0124511856924556,
          1.0254117380723298,
          1.037579942271775,
          1.0503707057558433,
          1.0575584356783063,
          1.0647461656007693,
          1.0721602807176405,
          1.0730658214952735,
          1.0797441847303177,
          1.0859697775765456,
          1.115739430641235,
          1.1430798681383918,
          1.166977008238846
         ],
         "yaxis": "y"
        },
        {
         "hovertemplate": "variable=('Kyoto', 'Kizugawa')<br>year=%{x}<br>value=%{y}<extra></extra>",
         "legendgroup": "('Kyoto', 'Kizugawa')",
         "line": {
          "color": "#FF97FF",
          "dash": "solid"
         },
         "marker": {
          "symbol": "circle"
         },
         "mode": "lines+markers",
         "name": "('Kyoto', 'Kizugawa')",
         "orientation": "v",
         "showlegend": true,
         "type": "scatter",
         "x": [
          2010,
          2011,
          2012,
          2013,
          2014,
          2015,
          2016,
          2017,
          2018,
          2019,
          2020,
          2021,
          2022
         ],
         "xaxis": "x",
         "y": [
          1.0112561082394147,
          1.0206055983956162,
          1.0251673586984154,
          1.0267632686495494,
          1.0373979606248056,
          1.0518600118634012,
          1.0633985820410696,
          1.0771968477247689,
          1.088339971188882,
          1.1002881111770184,
          1.1103013868881162,
          1.1195864030683702,
          1.1263288515483874
         ],
         "yaxis": "y"
        },
        {
         "hovertemplate": "variable=('Niigata', 'Yuzawa')<br>year=%{x}<br>value=%{y}<extra></extra>",
         "legendgroup": "('Niigata', 'Yuzawa')",
         "line": {
          "color": "#FECB52",
          "dash": "solid"
         },
         "marker": {
          "symbol": "circle"
         },
         "mode": "lines+markers",
         "name": "('Niigata', 'Yuzawa')",
         "orientation": "v",
         "showlegend": true,
         "type": "scatter",
         "x": [
          2010,
          2011,
          2012,
          2013,
          2014,
          2015,
          2016,
          2017,
          2018,
          2019,
          2020,
          2021,
          2022
         ],
         "xaxis": "x",
         "y": [
          0.9972401103955842,
          0.9925088710737286,
          1.0056512025233277,
          1.0102510185306874,
          1.0067025890392958,
          1.0017085030884483,
          1.0036798528058881,
          1.0107767117886717,
          1.0124852148771195,
          1.0207648836903669,
          1.0261532395847024,
          1.0294455690238216,
          1.031028519668143
         ],
         "yaxis": "y"
        },
        {
         "hovertemplate": "variable=('Hiroshima', 'Kure')<br>year=%{x}<br>value=%{y}<extra></extra>",
         "legendgroup": "('Hiroshima', 'Kure')",
         "line": {
          "color": "#636efa",
          "dash": "solid"
         },
         "marker": {
          "symbol": "circle"
         },
         "mode": "lines+markers",
         "name": "('Hiroshima', 'Kure')",
         "orientation": "v",
         "showlegend": true,
         "type": "scatter",
         "x": [
          2010,
          2011,
          2012,
          2013,
          2014,
          2015,
          2016,
          2017,
          2018,
          2019,
          2020,
          2021,
          2022
         ],
         "xaxis": "x",
         "y": [
          0.9954239581214795,
          0.9904323143718665,
          0.9858297447143402,
          0.9797593046184865,
          0.9757624525815952,
          0.9698158087877691,
          0.9672337716311933,
          0.9612163870933514,
          0.9558445118446536,
          0.9487748587395771,
          0.9405424046547413,
          0.9321315171957478,
          0.9252708568738596
         ],
         "yaxis": "y"
        },
        {
         "hovertemplate": "variable=('Miyagi', 'Ishinomaki')<br>year=%{x}<br>value=%{y}<extra></extra>",
         "legendgroup": "('Miyagi', 'Ishinomaki')",
         "line": {
          "color": "#EF553B",
          "dash": "solid"
         },
         "marker": {
          "symbol": "circle"
         },
         "mode": "lines+markers",
         "name": "('Miyagi', 'Ishinomaki')",
         "orientation": "v",
         "showlegend": true,
         "type": "scatter",
         "x": [
          2010,
          2011,
          2012,
          2013,
          2014,
          2015,
          2016,
          2017,
          2018,
          2019,
          2020,
          2021,
          2022
         ],
         "xaxis": "x",
         "y": [
          0.9972241959797327,
          0.960972726729399,
          0.9553347898556982,
          0.951948043323793,
          0.9490659884319366,
          0.9464827641164247,
          0.9442780585309493,
          0.940804983165878,
          0.9360436159827878,
          0.9306978690059572,
          0.9265275222960819,
          0.9216762797194533,
          0.917992654244216
         ],
         "yaxis": "y"
        },
        {
         "hovertemplate": "variable=('Osaka', 'Kashiwara')<br>year=%{x}<br>value=%{y}<extra></extra>",
         "legendgroup": "('Osaka', 'Kashiwara')",
         "line": {
          "color": "#00cc96",
          "dash": "solid"
         },
         "marker": {
          "symbol": "circle"
         },
         "mode": "lines+markers",
         "name": "('Osaka', 'Kashiwara')",
         "orientation": "v",
         "showlegend": true,
         "type": "scatter",
         "x": [
          2010,
          2011,
          2012,
          2013,
          2014,
          2015,
          2016,
          2017,
          2018,
          2019,
          2020,
          2021,
          2022
         ],
         "xaxis": "x",
         "y": [
          0.9915945746800208,
          0.9856862156482821,
          0.980773954097645,
          0.9762437573342796,
          0.9707174630898128,
          0.9628169090958713,
          0.9559670332669271,
          0.9492945446606449,
          0.9445596703326695,
          0.938446633736321,
          0.9350899216767189,
          0.9322396198707155,
          0.9299361782613152
         ],
         "yaxis": "y"
        },
        {
         "hovertemplate": "variable=('Osaka', 'Kawachinagano')<br>year=%{x}<br>value=%{y}<extra></extra>",
         "legendgroup": "('Osaka', 'Kawachinagano')",
         "line": {
          "color": "#ab63fa",
          "dash": "solid"
         },
         "marker": {
          "symbol": "circle"
         },
         "mode": "lines+markers",
         "name": "('Osaka', 'Kawachinagano')",
         "orientation": "v",
         "showlegend": true,
         "type": "scatter",
         "x": [
          2010,
          2011,
          2012,
          2013,
          2014,
          2015,
          2016,
          2017,
          2018,
          2019,
          2020,
          2021,
          2022
         ],
         "xaxis": "x",
         "y": [
          0.9987050226621035,
          0.9937471094255852,
          0.9875034686892982,
          0.9810008324854318,
          0.9741004532420686,
          0.9655721024882069,
          0.9597077051151609,
          0.9535658125982799,
          0.9471186754231805,
          0.9406345388955698,
          0.9351956340764042,
          0.9291981797903357,
          0.9249950843047001
         ],
         "yaxis": "y"
        },
        {
         "hovertemplate": "variable=('Osaka', 'Tondabayashi')<br>year=%{x}<br>value=%{y}<extra></extra>",
         "legendgroup": "('Osaka', 'Tondabayashi')",
         "line": {
          "color": "#FFA15A",
          "dash": "solid"
         },
         "marker": {
          "symbol": "circle"
         },
         "mode": "lines+markers",
         "name": "('Osaka', 'Tondabayashi')",
         "orientation": "v",
         "showlegend": true,
         "type": "scatter",
         "x": [
          2010,
          2011,
          2012,
          2013,
          2014,
          2015,
          2016,
          2017,
          2018,
          2019,
          2020,
          2021,
          2022
         ],
         "xaxis": "x",
         "y": [
          0.9918713248011068,
          0.9846160498097545,
          0.9801712210307854,
          0.9725700449671396,
          0.9668886198547217,
          0.9616136285022486,
          0.9557506053268768,
          0.9499827049463857,
          0.9448720166032519,
          0.9399775164303015,
          0.9349100657212043,
          0.9317861335116076,
          0.9283157297901858
         ],
         "yaxis": "y"
        },
        {
         "hovertemplate": "variable=('Chiba', 'Inzai')<br>year=%{x}<br>value=%{y}<extra></extra>",
         "legendgroup": "('Chiba', 'Inzai')",
         "line": {
          "color": "#19d3f3",
          "dash": "solid"
         },
         "marker": {
          "symbol": "circle"
         },
         "mode": "lines+markers",
         "name": "('Chiba', 'Inzai')",
         "orientation": "v",
         "showlegend": true,
         "type": "scatter",
         "x": [
          2010,
          2011,
          2012,
          2013,
          2014,
          2015,
          2016,
          2017,
          2018,
          2019,
          2020,
          2021,
          2022
         ],
         "xaxis": "x",
         "y": [
          1.0155484085616058,
          1.0208938671398469,
          1.0372296772762557,
          1.0425751358544968,
          1.0455362093822775,
          1.0573361428412993,
          1.0799711655761335,
          1.0980148608184535,
          1.1169014084507036,
          1.137950537872906,
          1.158733503382499,
          1.17768379199651,
          1.1884230600118664
         ],
         "yaxis": "y"
        },
        {
         "hovertemplate": "variable=('Chiba', 'Nagareyama')<br>year=%{x}<br>value=%{y}<extra></extra>",
         "legendgroup": "('Chiba', 'Nagareyama')",
         "line": {
          "color": "#FF6692",
          "dash": "solid"
         },
         "marker": {
          "symbol": "circle"
         },
         "mode": "lines+markers",
         "name": "('Chiba', 'Nagareyama')",
         "orientation": "v",
         "showlegend": true,
         "type": "scatter",
         "x": [
          2010,
          2011,
          2012,
          2013,
          2014,
          2015,
          2016,
          2017,
          2018,
          2019,
          2020,
          2021,
          2022
         ],
         "xaxis": "x",
         "y": [
          1.0127336279862496,
          1.0205794840685212,
          1.0247450674524077,
          1.0327873588121441,
          1.0465782707918072,
          1.06384724268423,
          1.084542276915966,
          1.1071265563162607,
          1.13093566744663,
          1.1546292284137847,
          1.1768668573244354,
          1.1989400810108057,
          1.2151191372976289
         ],
         "yaxis": "y"
        },
        {
         "hovertemplate": "variable=('Chiba', 'Yachimata')<br>year=%{x}<br>value=%{y}<extra></extra>",
         "legendgroup": "('Chiba', 'Yachimata')",
         "line": {
          "color": "#B6E880",
          "dash": "solid"
         },
         "marker": {
          "symbol": "circle"
         },
         "mode": "lines+markers",
         "name": "('Chiba', 'Yachimata')",
         "orientation": "v",
         "showlegend": true,
         "type": "scatter",
         "x": [
          2010,
          2011,
          2012,
          2013,
          2014,
          2015,
          2016,
          2017,
          2018,
          2019,
          2020,
          2021,
          2022
         ],
         "xaxis": "x",
         "y": [
          0.9953125,
          0.9892007743362833,
          0.9852046460176993,
          0.9804203539823011,
          0.9720685840707967,
          0.9652378318584074,
          0.9577157079646021,
          0.9501244469026552,
          0.9412887168141596,
          0.9327295353982304,
          0.9264657079646021,
          0.9221467456668911,
          0.890555286250964
         ],
         "yaxis": "y"
        },
        {
         "hovertemplate": "variable=('Hokkaido', 'Kushiro')<br>year=%{x}<br>value=%{y}<extra></extra>",
         "legendgroup": "('Hokkaido', 'Kushiro')",
         "line": {
          "color": "#FF97FF",
          "dash": "solid"
         },
         "marker": {
          "symbol": "circle"
         },
         "mode": "lines+markers",
         "name": "('Hokkaido', 'Kushiro')",
         "orientation": "v",
         "showlegend": true,
         "type": "scatter",
         "x": [
          2010,
          2011,
          2012,
          2013,
          2014,
          2015,
          2016,
          2017,
          2018,
          2019,
          2020,
          2021,
          2022
         ],
         "xaxis": "x",
         "y": [
          0.9939127648862649,
          0.9895933452331916,
          0.983683463774086,
          0.9771042152958948,
          0.9717206737150443,
          0.966663234015287,
          0.9609307062108109,
          0.9550780356080374,
          0.9500606435077124,
          0.9444196530733675,
          0.9390246693212507,
          0.9347503753582115,
          0.9290099872602707
         ],
         "yaxis": "y"
        },
        {
         "hovertemplate": "variable=('Hokkaido', 'Muroran')<br>year=%{x}<br>value=%{y}<extra></extra>",
         "legendgroup": "('Hokkaido', 'Muroran')",
         "line": {
          "color": "#FECB52",
          "dash": "solid"
         },
         "marker": {
          "symbol": "circle"
         },
         "mode": "lines+markers",
         "name": "('Hokkaido', 'Muroran')",
         "orientation": "v",
         "showlegend": true,
         "type": "scatter",
         "x": [
          2010,
          2011,
          2012,
          2013,
          2014,
          2015,
          2016,
          2017,
          2018,
          2019,
          2020,
          2021,
          2022
         ],
         "xaxis": "x",
         "y": [
          0.9963967016830453,
          0.9931887495764148,
          0.985665875974246,
          0.975635377838021,
          0.966248729244324,
          0.9601152151812945,
          0.9513950073421439,
          0.9447305997966792,
          0.9377273240709365,
          0.9305659098610642,
          0.9234044956511919,
          0.9163568996032175,
          0.9082154249093749
         ],
         "yaxis": "y"
        },
        {
         "hovertemplate": "variable=('Hokkaido', 'Otaru')<br>year=%{x}<br>value=%{y}<extra></extra>",
         "legendgroup": "('Hokkaido', 'Otaru')",
         "line": {
          "color": "#636efa",
          "dash": "solid"
         },
         "marker": {
          "symbol": "circle"
         },
         "mode": "lines+markers",
         "name": "('Hokkaido', 'Otaru')",
         "orientation": "v",
         "showlegend": true,
         "type": "scatter",
         "x": [
          2010,
          2011,
          2012,
          2013,
          2014,
          2015,
          2016,
          2017,
          2018,
          2019,
          2020,
          2021,
          2022
         ],
         "xaxis": "x",
         "y": [
          0.9925508523463562,
          0.9877018000016722,
          0.9810803354206554,
          0.9733803747147004,
          0.9651286252936606,
          0.957721279815402,
          0.9506232704349938,
          0.9458912641813885,
          0.9371796908311113,
          0.9305080636396323,
          0.9261857187048019,
          0.9229288826473596,
          0.9205260520979844
         ],
         "yaxis": "y"
        }
       ],
       "layout": {
        "autosize": false,
        "height": 800,
        "hovermode": "closest",
        "legend": {
         "title": {
          "text": "variable"
         },
         "tracegroupgap": 0
        },
        "template": {
         "data": {
          "bar": [
           {
            "error_x": {
             "color": "#2a3f5f"
            },
            "error_y": {
             "color": "#2a3f5f"
            },
            "marker": {
             "line": {
              "color": "#E5ECF6",
              "width": 0.5
             },
             "pattern": {
              "fillmode": "overlay",
              "size": 10,
              "solidity": 0.2
             }
            },
            "type": "bar"
           }
          ],
          "barpolar": [
           {
            "marker": {
             "line": {
              "color": "#E5ECF6",
              "width": 0.5
             },
             "pattern": {
              "fillmode": "overlay",
              "size": 10,
              "solidity": 0.2
             }
            },
            "type": "barpolar"
           }
          ],
          "carpet": [
           {
            "aaxis": {
             "endlinecolor": "#2a3f5f",
             "gridcolor": "white",
             "linecolor": "white",
             "minorgridcolor": "white",
             "startlinecolor": "#2a3f5f"
            },
            "baxis": {
             "endlinecolor": "#2a3f5f",
             "gridcolor": "white",
             "linecolor": "white",
             "minorgridcolor": "white",
             "startlinecolor": "#2a3f5f"
            },
            "type": "carpet"
           }
          ],
          "choropleth": [
           {
            "colorbar": {
             "outlinewidth": 0,
             "ticks": ""
            },
            "type": "choropleth"
           }
          ],
          "contour": [
           {
            "colorbar": {
             "outlinewidth": 0,
             "ticks": ""
            },
            "colorscale": [
             [
              0,
              "#0d0887"
             ],
             [
              0.1111111111111111,
              "#46039f"
             ],
             [
              0.2222222222222222,
              "#7201a8"
             ],
             [
              0.3333333333333333,
              "#9c179e"
             ],
             [
              0.4444444444444444,
              "#bd3786"
             ],
             [
              0.5555555555555556,
              "#d8576b"
             ],
             [
              0.6666666666666666,
              "#ed7953"
             ],
             [
              0.7777777777777778,
              "#fb9f3a"
             ],
             [
              0.8888888888888888,
              "#fdca26"
             ],
             [
              1,
              "#f0f921"
             ]
            ],
            "type": "contour"
           }
          ],
          "contourcarpet": [
           {
            "colorbar": {
             "outlinewidth": 0,
             "ticks": ""
            },
            "type": "contourcarpet"
           }
          ],
          "heatmap": [
           {
            "colorbar": {
             "outlinewidth": 0,
             "ticks": ""
            },
            "colorscale": [
             [
              0,
              "#0d0887"
             ],
             [
              0.1111111111111111,
              "#46039f"
             ],
             [
              0.2222222222222222,
              "#7201a8"
             ],
             [
              0.3333333333333333,
              "#9c179e"
             ],
             [
              0.4444444444444444,
              "#bd3786"
             ],
             [
              0.5555555555555556,
              "#d8576b"
             ],
             [
              0.6666666666666666,
              "#ed7953"
             ],
             [
              0.7777777777777778,
              "#fb9f3a"
             ],
             [
              0.8888888888888888,
              "#fdca26"
             ],
             [
              1,
              "#f0f921"
             ]
            ],
            "type": "heatmap"
           }
          ],
          "heatmapgl": [
           {
            "colorbar": {
             "outlinewidth": 0,
             "ticks": ""
            },
            "colorscale": [
             [
              0,
              "#0d0887"
             ],
             [
              0.1111111111111111,
              "#46039f"
             ],
             [
              0.2222222222222222,
              "#7201a8"
             ],
             [
              0.3333333333333333,
              "#9c179e"
             ],
             [
              0.4444444444444444,
              "#bd3786"
             ],
             [
              0.5555555555555556,
              "#d8576b"
             ],
             [
              0.6666666666666666,
              "#ed7953"
             ],
             [
              0.7777777777777778,
              "#fb9f3a"
             ],
             [
              0.8888888888888888,
              "#fdca26"
             ],
             [
              1,
              "#f0f921"
             ]
            ],
            "type": "heatmapgl"
           }
          ],
          "histogram": [
           {
            "marker": {
             "pattern": {
              "fillmode": "overlay",
              "size": 10,
              "solidity": 0.2
             }
            },
            "type": "histogram"
           }
          ],
          "histogram2d": [
           {
            "colorbar": {
             "outlinewidth": 0,
             "ticks": ""
            },
            "colorscale": [
             [
              0,
              "#0d0887"
             ],
             [
              0.1111111111111111,
              "#46039f"
             ],
             [
              0.2222222222222222,
              "#7201a8"
             ],
             [
              0.3333333333333333,
              "#9c179e"
             ],
             [
              0.4444444444444444,
              "#bd3786"
             ],
             [
              0.5555555555555556,
              "#d8576b"
             ],
             [
              0.6666666666666666,
              "#ed7953"
             ],
             [
              0.7777777777777778,
              "#fb9f3a"
             ],
             [
              0.8888888888888888,
              "#fdca26"
             ],
             [
              1,
              "#f0f921"
             ]
            ],
            "type": "histogram2d"
           }
          ],
          "histogram2dcontour": [
           {
            "colorbar": {
             "outlinewidth": 0,
             "ticks": ""
            },
            "colorscale": [
             [
              0,
              "#0d0887"
             ],
             [
              0.1111111111111111,
              "#46039f"
             ],
             [
              0.2222222222222222,
              "#7201a8"
             ],
             [
              0.3333333333333333,
              "#9c179e"
             ],
             [
              0.4444444444444444,
              "#bd3786"
             ],
             [
              0.5555555555555556,
              "#d8576b"
             ],
             [
              0.6666666666666666,
              "#ed7953"
             ],
             [
              0.7777777777777778,
              "#fb9f3a"
             ],
             [
              0.8888888888888888,
              "#fdca26"
             ],
             [
              1,
              "#f0f921"
             ]
            ],
            "type": "histogram2dcontour"
           }
          ],
          "mesh3d": [
           {
            "colorbar": {
             "outlinewidth": 0,
             "ticks": ""
            },
            "type": "mesh3d"
           }
          ],
          "parcoords": [
           {
            "line": {
             "colorbar": {
              "outlinewidth": 0,
              "ticks": ""
             }
            },
            "type": "parcoords"
           }
          ],
          "pie": [
           {
            "automargin": true,
            "type": "pie"
           }
          ],
          "scatter": [
           {
            "fillpattern": {
             "fillmode": "overlay",
             "size": 10,
             "solidity": 0.2
            },
            "type": "scatter"
           }
          ],
          "scatter3d": [
           {
            "line": {
             "colorbar": {
              "outlinewidth": 0,
              "ticks": ""
             }
            },
            "marker": {
             "colorbar": {
              "outlinewidth": 0,
              "ticks": ""
             }
            },
            "type": "scatter3d"
           }
          ],
          "scattercarpet": [
           {
            "marker": {
             "colorbar": {
              "outlinewidth": 0,
              "ticks": ""
             }
            },
            "type": "scattercarpet"
           }
          ],
          "scattergeo": [
           {
            "marker": {
             "colorbar": {
              "outlinewidth": 0,
              "ticks": ""
             }
            },
            "type": "scattergeo"
           }
          ],
          "scattergl": [
           {
            "marker": {
             "colorbar": {
              "outlinewidth": 0,
              "ticks": ""
             }
            },
            "type": "scattergl"
           }
          ],
          "scattermapbox": [
           {
            "marker": {
             "colorbar": {
              "outlinewidth": 0,
              "ticks": ""
             }
            },
            "type": "scattermapbox"
           }
          ],
          "scatterpolar": [
           {
            "marker": {
             "colorbar": {
              "outlinewidth": 0,
              "ticks": ""
             }
            },
            "type": "scatterpolar"
           }
          ],
          "scatterpolargl": [
           {
            "marker": {
             "colorbar": {
              "outlinewidth": 0,
              "ticks": ""
             }
            },
            "type": "scatterpolargl"
           }
          ],
          "scatterternary": [
           {
            "marker": {
             "colorbar": {
              "outlinewidth": 0,
              "ticks": ""
             }
            },
            "type": "scatterternary"
           }
          ],
          "surface": [
           {
            "colorbar": {
             "outlinewidth": 0,
             "ticks": ""
            },
            "colorscale": [
             [
              0,
              "#0d0887"
             ],
             [
              0.1111111111111111,
              "#46039f"
             ],
             [
              0.2222222222222222,
              "#7201a8"
             ],
             [
              0.3333333333333333,
              "#9c179e"
             ],
             [
              0.4444444444444444,
              "#bd3786"
             ],
             [
              0.5555555555555556,
              "#d8576b"
             ],
             [
              0.6666666666666666,
              "#ed7953"
             ],
             [
              0.7777777777777778,
              "#fb9f3a"
             ],
             [
              0.8888888888888888,
              "#fdca26"
             ],
             [
              1,
              "#f0f921"
             ]
            ],
            "type": "surface"
           }
          ],
          "table": [
           {
            "cells": {
             "fill": {
              "color": "#EBF0F8"
             },
             "line": {
              "color": "white"
             }
            },
            "header": {
             "fill": {
              "color": "#C8D4E3"
             },
             "line": {
              "color": "white"
             }
            },
            "type": "table"
           }
          ]
         },
         "layout": {
          "annotationdefaults": {
           "arrowcolor": "#2a3f5f",
           "arrowhead": 0,
           "arrowwidth": 1
          },
          "autotypenumbers": "strict",
          "coloraxis": {
           "colorbar": {
            "outlinewidth": 0,
            "ticks": ""
           }
          },
          "colorscale": {
           "diverging": [
            [
             0,
             "#8e0152"
            ],
            [
             0.1,
             "#c51b7d"
            ],
            [
             0.2,
             "#de77ae"
            ],
            [
             0.3,
             "#f1b6da"
            ],
            [
             0.4,
             "#fde0ef"
            ],
            [
             0.5,
             "#f7f7f7"
            ],
            [
             0.6,
             "#e6f5d0"
            ],
            [
             0.7,
             "#b8e186"
            ],
            [
             0.8,
             "#7fbc41"
            ],
            [
             0.9,
             "#4d9221"
            ],
            [
             1,
             "#276419"
            ]
           ],
           "sequential": [
            [
             0,
             "#0d0887"
            ],
            [
             0.1111111111111111,
             "#46039f"
            ],
            [
             0.2222222222222222,
             "#7201a8"
            ],
            [
             0.3333333333333333,
             "#9c179e"
            ],
            [
             0.4444444444444444,
             "#bd3786"
            ],
            [
             0.5555555555555556,
             "#d8576b"
            ],
            [
             0.6666666666666666,
             "#ed7953"
            ],
            [
             0.7777777777777778,
             "#fb9f3a"
            ],
            [
             0.8888888888888888,
             "#fdca26"
            ],
            [
             1,
             "#f0f921"
            ]
           ],
           "sequentialminus": [
            [
             0,
             "#0d0887"
            ],
            [
             0.1111111111111111,
             "#46039f"
            ],
            [
             0.2222222222222222,
             "#7201a8"
            ],
            [
             0.3333333333333333,
             "#9c179e"
            ],
            [
             0.4444444444444444,
             "#bd3786"
            ],
            [
             0.5555555555555556,
             "#d8576b"
            ],
            [
             0.6666666666666666,
             "#ed7953"
            ],
            [
             0.7777777777777778,
             "#fb9f3a"
            ],
            [
             0.8888888888888888,
             "#fdca26"
            ],
            [
             1,
             "#f0f921"
            ]
           ]
          },
          "colorway": [
           "#636efa",
           "#EF553B",
           "#00cc96",
           "#ab63fa",
           "#FFA15A",
           "#19d3f3",
           "#FF6692",
           "#B6E880",
           "#FF97FF",
           "#FECB52"
          ],
          "font": {
           "color": "#2a3f5f"
          },
          "geo": {
           "bgcolor": "white",
           "lakecolor": "white",
           "landcolor": "#E5ECF6",
           "showlakes": true,
           "showland": true,
           "subunitcolor": "white"
          },
          "hoverlabel": {
           "align": "left"
          },
          "hovermode": "closest",
          "mapbox": {
           "style": "light"
          },
          "paper_bgcolor": "white",
          "plot_bgcolor": "#E5ECF6",
          "polar": {
           "angularaxis": {
            "gridcolor": "white",
            "linecolor": "white",
            "ticks": ""
           },
           "bgcolor": "#E5ECF6",
           "radialaxis": {
            "gridcolor": "white",
            "linecolor": "white",
            "ticks": ""
           }
          },
          "scene": {
           "xaxis": {
            "backgroundcolor": "#E5ECF6",
            "gridcolor": "white",
            "gridwidth": 2,
            "linecolor": "white",
            "showbackground": true,
            "ticks": "",
            "zerolinecolor": "white"
           },
           "yaxis": {
            "backgroundcolor": "#E5ECF6",
            "gridcolor": "white",
            "gridwidth": 2,
            "linecolor": "white",
            "showbackground": true,
            "ticks": "",
            "zerolinecolor": "white"
           },
           "zaxis": {
            "backgroundcolor": "#E5ECF6",
            "gridcolor": "white",
            "gridwidth": 2,
            "linecolor": "white",
            "showbackground": true,
            "ticks": "",
            "zerolinecolor": "white"
           }
          },
          "shapedefaults": {
           "line": {
            "color": "#2a3f5f"
           }
          },
          "ternary": {
           "aaxis": {
            "gridcolor": "white",
            "linecolor": "white",
            "ticks": ""
           },
           "baxis": {
            "gridcolor": "white",
            "linecolor": "white",
            "ticks": ""
           },
           "bgcolor": "#E5ECF6",
           "caxis": {
            "gridcolor": "white",
            "linecolor": "white",
            "ticks": ""
           }
          },
          "title": {
           "x": 0.05
          },
          "xaxis": {
           "automargin": true,
           "gridcolor": "white",
           "linecolor": "white",
           "ticks": "",
           "title": {
            "standoff": 15
           },
           "zerolinecolor": "white",
           "zerolinewidth": 2
          },
          "yaxis": {
           "automargin": true,
           "gridcolor": "white",
           "linecolor": "white",
           "ticks": "",
           "title": {
            "standoff": 15
           },
           "zerolinecolor": "white",
           "zerolinewidth": 2
          }
         }
        },
        "title": {
         "text": "cumulative net_migration_ratio for top and bottom 10 municipalities"
        },
        "width": 1600,
        "xaxis": {
         "anchor": "y",
         "domain": [
          0,
          1
         ],
         "title": {
          "text": "year"
         }
        },
        "yaxis": {
         "anchor": "x",
         "domain": [
          0,
          1
         ],
         "title": {
          "text": "value"
         }
        }
       }
      }
     },
     "metadata": {},
     "output_type": "display_data"
    }
   ],
   "source": [
    "plot_time_series(\n",
    "    factor_growth_df.copy(),\n",
    "    \"factor_growth\",\n",
    "    group_by_columns,\n",
    "    granularity_columns,\n",
    "    f\"cumulative {factor_column} for top and bottom {return_n} municipalities\",\n",
    "    # visible=\"legendonly\",\n",
    ")"
   ]
  },
  {
   "cell_type": "code",
   "execution_count": 10,
   "metadata": {},
   "outputs": [
    {
     "data": {
      "text/plain": [
       "0.9"
      ]
     },
     "execution_count": 10,
     "metadata": {},
     "output_type": "execute_result"
    }
   ],
   "source": [
    "1 - 0.3 / 3"
   ]
  },
  {
   "cell_type": "code",
   "execution_count": 11,
   "metadata": {},
   "outputs": [
    {
     "data": {
      "application/vnd.plotly.v1+json": {
       "config": {
        "plotlyServerURL": "https://plot.ly"
       },
       "data": [
        {
         "hovertemplate": "variable=('Fukuoka', 'Fukutsu')<br>year=%{x}<br>value=%{y}<extra></extra>",
         "legendgroup": "('Fukuoka', 'Fukutsu')",
         "line": {
          "color": "#636efa",
          "dash": "solid"
         },
         "marker": {
          "symbol": "circle"
         },
         "mode": "lines+markers",
         "name": "('Fukuoka', 'Fukutsu')",
         "orientation": "v",
         "showlegend": true,
         "type": "scatter",
         "visible": "legendonly",
         "x": [
          2010,
          2011,
          2012,
          2013,
          2014,
          2015,
          2016,
          2017,
          2018,
          2019,
          2020,
          2021,
          2022
         ],
         "xaxis": "x",
         "y": [
          43,
          36,
          92,
          78,
          107,
          102,
          105,
          118,
          105,
          95,
          101,
          92,
          60
         ],
         "yaxis": "y"
        },
        {
         "hovertemplate": "variable=('Tokyo', 'Chuo')<br>year=%{x}<br>value=%{y}<extra></extra>",
         "legendgroup": "('Tokyo', 'Chuo')",
         "line": {
          "color": "#EF553B",
          "dash": "solid"
         },
         "marker": {
          "symbol": "circle"
         },
         "mode": "lines+markers",
         "name": "('Tokyo', 'Chuo')",
         "orientation": "v",
         "showlegend": true,
         "type": "scatter",
         "visible": "legendonly",
         "x": [
          2010,
          2011,
          2012,
          2013,
          2014,
          2015,
          2016,
          2017,
          2018,
          2019,
          2020,
          2021,
          2022
         ],
         "xaxis": "x",
         "y": [
          90,
          87,
          86,
          114,
          92,
          90,
          93,
          76,
          84,
          81,
          66,
          80,
          62
         ],
         "yaxis": "y"
        },
        {
         "hovertemplate": "variable=('Tokyo', 'Minato')<br>year=%{x}<br>value=%{y}<extra></extra>",
         "legendgroup": "('Tokyo', 'Minato')",
         "line": {
          "color": "#00cc96",
          "dash": "solid"
         },
         "marker": {
          "symbol": "circle"
         },
         "mode": "lines+markers",
         "name": "('Tokyo', 'Minato')",
         "orientation": "v",
         "showlegend": true,
         "type": "scatter",
         "visible": "legendonly",
         "x": [
          2010,
          2011,
          2012,
          2013,
          2014,
          2015,
          2016,
          2017,
          2018,
          2019,
          2020,
          2021,
          2022
         ],
         "xaxis": "x",
         "y": [
          98,
          85,
          96,
          139,
          118,
          123,
          126,
          128,
          103,
          99,
          73,
          78,
          101
         ],
         "yaxis": "y"
        },
        {
         "hovertemplate": "variable=('Tokyo', 'Sumida')<br>year=%{x}<br>value=%{y}<extra></extra>",
         "legendgroup": "('Tokyo', 'Sumida')",
         "line": {
          "color": "#ab63fa",
          "dash": "solid"
         },
         "marker": {
          "symbol": "circle"
         },
         "mode": "lines+markers",
         "name": "('Tokyo', 'Sumida')",
         "orientation": "v",
         "showlegend": true,
         "type": "scatter",
         "visible": "legendonly",
         "x": [
          2010,
          2011,
          2012,
          2013,
          2014,
          2015,
          2016,
          2017,
          2018,
          2019,
          2020,
          2021,
          2022
         ],
         "xaxis": "x",
         "y": [
          139,
          144,
          168,
          176,
          222,
          198,
          154,
          160,
          183,
          180,
          177,
          190,
          158
         ],
         "yaxis": "y"
        },
        {
         "hovertemplate": "variable=('Tokyo', 'Taito')<br>year=%{x}<br>value=%{y}<extra></extra>",
         "legendgroup": "('Tokyo', 'Taito')",
         "line": {
          "color": "#FFA15A",
          "dash": "solid"
         },
         "marker": {
          "symbol": "circle"
         },
         "mode": "lines+markers",
         "name": "('Tokyo', 'Taito')",
         "orientation": "v",
         "showlegend": true,
         "type": "scatter",
         "visible": "legendonly",
         "x": [
          2010,
          2011,
          2012,
          2013,
          2014,
          2015,
          2016,
          2017,
          2018,
          2019,
          2020,
          2021,
          2022
         ],
         "xaxis": "x",
         "y": [
          133,
          117,
          128,
          151,
          155,
          154,
          151,
          170,
          137,
          161,
          157,
          126,
          124
         ],
         "yaxis": "y"
        },
        {
         "hovertemplate": "variable=('Ibaraki', 'Hitachi')<br>year=%{x}<br>value=%{y}<extra></extra>",
         "legendgroup": "('Ibaraki', 'Hitachi')",
         "line": {
          "color": "#19d3f3",
          "dash": "solid"
         },
         "marker": {
          "symbol": "circle"
         },
         "mode": "lines+markers",
         "name": "('Ibaraki', 'Hitachi')",
         "orientation": "v",
         "showlegend": true,
         "type": "scatter",
         "visible": "legendonly",
         "x": [
          2010,
          2011,
          2012,
          2013,
          2014,
          2015,
          2016,
          2017,
          2018,
          2019,
          2020,
          2021,
          2022
         ],
         "xaxis": "x",
         "y": [
          104,
          72,
          122,
          102,
          109,
          140,
          145,
          139,
          127,
          125,
          127,
          179,
          149
         ],
         "yaxis": "y"
        },
        {
         "hovertemplate": "variable=('Ibaraki', 'Tsukuba')<br>year=%{x}<br>value=%{y}<extra></extra>",
         "legendgroup": "('Ibaraki', 'Tsukuba')",
         "line": {
          "color": "#FF6692",
          "dash": "solid"
         },
         "marker": {
          "symbol": "circle"
         },
         "mode": "lines+markers",
         "name": "('Ibaraki', 'Tsukuba')",
         "orientation": "v",
         "showlegend": true,
         "type": "scatter",
         "visible": "legendonly",
         "x": [
          2010,
          2011,
          2012,
          2013,
          2014,
          2015,
          2016,
          2017,
          2018,
          2019,
          2020,
          2021,
          2022
         ],
         "xaxis": "x",
         "y": [
          148,
          93,
          168,
          229,
          259,
          306,
          305,
          372,
          396,
          327,
          333,
          377,
          302
         ],
         "yaxis": "y"
        },
        {
         "hovertemplate": "variable=('Nagano', 'Karuizawa')<br>year=%{x}<br>value=%{y}<extra></extra>",
         "legendgroup": "('Nagano', 'Karuizawa')",
         "line": {
          "color": "#B6E880",
          "dash": "solid"
         },
         "marker": {
          "symbol": "circle"
         },
         "mode": "lines+markers",
         "name": "('Nagano', 'Karuizawa')",
         "orientation": "v",
         "showlegend": true,
         "type": "scatter",
         "visible": "legendonly",
         "x": [
          2010,
          2011,
          2012,
          2013,
          2014,
          2015,
          2016,
          2017,
          2018,
          2019,
          2020,
          2021,
          2022
         ],
         "xaxis": "x",
         "y": [
          102,
          122,
          132,
          151,
          121,
          117,
          131,
          121,
          134,
          122,
          172,
          171,
          132
         ],
         "yaxis": "y"
        },
        {
         "hovertemplate": "variable=('Kyoto', 'Kizugawa')<br>year=%{x}<br>value=%{y}<extra></extra>",
         "legendgroup": "('Kyoto', 'Kizugawa')",
         "line": {
          "color": "#FF97FF",
          "dash": "solid"
         },
         "marker": {
          "symbol": "circle"
         },
         "mode": "lines+markers",
         "name": "('Kyoto', 'Kizugawa')",
         "orientation": "v",
         "showlegend": true,
         "type": "scatter",
         "visible": "legendonly",
         "x": [
          2010,
          2011,
          2012,
          2013,
          2014,
          2015,
          2016,
          2017,
          2018,
          2019,
          2020,
          2021,
          2022
         ],
         "xaxis": "x",
         "y": [
          91,
          111,
          82,
          64,
          90,
          112,
          100,
          82,
          99,
          117,
          123,
          95,
          56
         ],
         "yaxis": "y"
        },
        {
         "hovertemplate": "variable=('Niigata', 'Yuzawa')<br>year=%{x}<br>value=%{y}<extra></extra>",
         "legendgroup": "('Niigata', 'Yuzawa')",
         "line": {
          "color": "#FECB52",
          "dash": "solid"
         },
         "marker": {
          "symbol": "circle"
         },
         "mode": "lines+markers",
         "name": "('Niigata', 'Yuzawa')",
         "orientation": "v",
         "showlegend": true,
         "type": "scatter",
         "visible": "legendonly",
         "x": [
          2010,
          2011,
          2012,
          2013,
          2014,
          2015,
          2016,
          2017,
          2018,
          2019,
          2020,
          2021,
          2022
         ],
         "xaxis": "x",
         "y": [
          13,
          9,
          2,
          10,
          4,
          7,
          8,
          5,
          11,
          13,
          7,
          4,
          9
         ],
         "yaxis": "y"
        },
        {
         "hovertemplate": "variable=('Hiroshima', 'Kure')<br>year=%{x}<br>value=%{y}<extra></extra>",
         "legendgroup": "('Hiroshima', 'Kure')",
         "line": {
          "color": "#636efa",
          "dash": "solid"
         },
         "marker": {
          "symbol": "circle"
         },
         "mode": "lines+markers",
         "name": "('Hiroshima', 'Kure')",
         "orientation": "v",
         "showlegend": true,
         "type": "scatter",
         "visible": "legendonly",
         "x": [
          2010,
          2011,
          2012,
          2013,
          2014,
          2015,
          2016,
          2017,
          2018,
          2019,
          2020,
          2021,
          2022
         ],
         "xaxis": "x",
         "y": [
          174,
          129,
          184,
          210,
          219,
          239,
          223,
          191,
          140,
          214,
          214,
          211,
          191
         ],
         "yaxis": "y"
        },
        {
         "hovertemplate": "variable=('Miyagi', 'Ishinomaki')<br>year=%{x}<br>value=%{y}<extra></extra>",
         "legendgroup": "('Miyagi', 'Ishinomaki')",
         "line": {
          "color": "#EF553B",
          "dash": "solid"
         },
         "marker": {
          "symbol": "circle"
         },
         "mode": "lines+markers",
         "name": "('Miyagi', 'Ishinomaki')",
         "orientation": "v",
         "showlegend": true,
         "type": "scatter",
         "visible": "legendonly",
         "x": [
          2010,
          2011,
          2012,
          2013,
          2014,
          2015,
          2016,
          2017,
          2018,
          2019,
          2020,
          2021,
          2022
         ],
         "xaxis": "x",
         "y": [
          95,
          109,
          156,
          164,
          151,
          150,
          118,
          112,
          119,
          93,
          112,
          155,
          85
         ],
         "yaxis": "y"
        },
        {
         "hovertemplate": "variable=('Osaka', 'Kashiwara')<br>year=%{x}<br>value=%{y}<extra></extra>",
         "legendgroup": "('Osaka', 'Kashiwara')",
         "line": {
          "color": "#00cc96",
          "dash": "solid"
         },
         "marker": {
          "symbol": "circle"
         },
         "mode": "lines+markers",
         "name": "('Osaka', 'Kashiwara')",
         "orientation": "v",
         "showlegend": true,
         "type": "scatter",
         "visible": "legendonly",
         "x": [
          2010,
          2011,
          2012,
          2013,
          2014,
          2015,
          2016,
          2017,
          2018,
          2019,
          2020,
          2021,
          2022
         ],
         "xaxis": "x",
         "y": [
          112,
          83,
          108,
          109,
          106,
          88,
          97,
          94,
          73,
          113,
          82,
          105,
          100
         ],
         "yaxis": "y"
        },
        {
         "hovertemplate": "variable=('Osaka', 'Kawachinagano')<br>year=%{x}<br>value=%{y}<extra></extra>",
         "legendgroup": "('Osaka', 'Kawachinagano')",
         "line": {
          "color": "#ab63fa",
          "dash": "solid"
         },
         "marker": {
          "symbol": "circle"
         },
         "mode": "lines+markers",
         "name": "('Osaka', 'Kawachinagano')",
         "orientation": "v",
         "showlegend": true,
         "type": "scatter",
         "visible": "legendonly",
         "x": [
          2010,
          2011,
          2012,
          2013,
          2014,
          2015,
          2016,
          2017,
          2018,
          2019,
          2020,
          2021,
          2022
         ],
         "xaxis": "x",
         "y": [
          175,
          129,
          132,
          136,
          136,
          126,
          141,
          148,
          134,
          104,
          142,
          125,
          85
         ],
         "yaxis": "y"
        },
        {
         "hovertemplate": "variable=('Osaka', 'Tondabayashi')<br>year=%{x}<br>value=%{y}<extra></extra>",
         "legendgroup": "('Osaka', 'Tondabayashi')",
         "line": {
          "color": "#FFA15A",
          "dash": "solid"
         },
         "marker": {
          "symbol": "circle"
         },
         "mode": "lines+markers",
         "name": "('Osaka', 'Tondabayashi')",
         "orientation": "v",
         "showlegend": true,
         "type": "scatter",
         "visible": "legendonly",
         "x": [
          2010,
          2011,
          2012,
          2013,
          2014,
          2015,
          2016,
          2017,
          2018,
          2019,
          2020,
          2021,
          2022
         ],
         "xaxis": "x",
         "y": [
          145,
          125,
          118,
          139,
          147,
          118,
          149,
          104,
          118,
          110,
          135,
          106,
          103
         ],
         "yaxis": "y"
        },
        {
         "hovertemplate": "variable=('Chiba', 'Inzai')<br>year=%{x}<br>value=%{y}<extra></extra>",
         "legendgroup": "('Chiba', 'Inzai')",
         "line": {
          "color": "#19d3f3",
          "dash": "solid"
         },
         "marker": {
          "symbol": "circle"
         },
         "mode": "lines+markers",
         "name": "('Chiba', 'Inzai')",
         "orientation": "v",
         "showlegend": true,
         "type": "scatter",
         "visible": "legendonly",
         "x": [
          2010,
          2011,
          2012,
          2013,
          2014,
          2015,
          2016,
          2017,
          2018,
          2019,
          2020,
          2021,
          2022
         ],
         "xaxis": "x",
         "y": [
          116,
          92,
          115,
          93,
          115,
          126,
          143,
          200,
          215,
          191,
          274,
          249,
          125
         ],
         "yaxis": "y"
        },
        {
         "hovertemplate": "variable=('Chiba', 'Nagareyama')<br>year=%{x}<br>value=%{y}<extra></extra>",
         "legendgroup": "('Chiba', 'Nagareyama')",
         "line": {
          "color": "#FF6692",
          "dash": "solid"
         },
         "marker": {
          "symbol": "circle"
         },
         "mode": "lines+markers",
         "name": "('Chiba', 'Nagareyama')",
         "orientation": "v",
         "showlegend": true,
         "type": "scatter",
         "visible": "legendonly",
         "x": [
          2010,
          2011,
          2012,
          2013,
          2014,
          2015,
          2016,
          2017,
          2018,
          2019,
          2020,
          2021,
          2022
         ],
         "xaxis": "x",
         "y": [
          233,
          147,
          173,
          183,
          210,
          237,
          244,
          197,
          222,
          299,
          369,
          308,
          228
         ],
         "yaxis": "y"
        },
        {
         "hovertemplate": "variable=('Chiba', 'Yachimata')<br>year=%{x}<br>value=%{y}<extra></extra>",
         "legendgroup": "('Chiba', 'Yachimata')",
         "line": {
          "color": "#B6E880",
          "dash": "solid"
         },
         "marker": {
          "symbol": "circle"
         },
         "mode": "lines+markers",
         "name": "('Chiba', 'Yachimata')",
         "orientation": "v",
         "showlegend": true,
         "type": "scatter",
         "visible": "legendonly",
         "x": [
          2010,
          2011,
          2012,
          2013,
          2014,
          2015,
          2016,
          2017,
          2018,
          2019,
          2020,
          2021,
          2022
         ],
         "xaxis": "x",
         "y": [
          131,
          107,
          102,
          110,
          87,
          104,
          85,
          104,
          80,
          97,
          101,
          120,
          85
         ],
         "yaxis": "y"
        },
        {
         "hovertemplate": "variable=('Hokkaido', 'Kushiro')<br>year=%{x}<br>value=%{y}<extra></extra>",
         "legendgroup": "('Hokkaido', 'Kushiro')",
         "line": {
          "color": "#FF97FF",
          "dash": "solid"
         },
         "marker": {
          "symbol": "circle"
         },
         "mode": "lines+markers",
         "name": "('Hokkaido', 'Kushiro')",
         "orientation": "v",
         "showlegend": true,
         "type": "scatter",
         "visible": "legendonly",
         "x": [
          2010,
          2011,
          2012,
          2013,
          2014,
          2015,
          2016,
          2017,
          2018,
          2019,
          2020,
          2021,
          2022
         ],
         "xaxis": "x",
         "y": [
          212,
          169,
          205,
          242,
          206,
          276,
          235,
          221,
          169,
          235,
          258,
          266,
          226
         ],
         "yaxis": "y"
        },
        {
         "hovertemplate": "variable=('Hokkaido', 'Muroran')<br>year=%{x}<br>value=%{y}<extra></extra>",
         "legendgroup": "('Hokkaido', 'Muroran')",
         "line": {
          "color": "#FECB52",
          "dash": "solid"
         },
         "marker": {
          "symbol": "circle"
         },
         "mode": "lines+markers",
         "name": "('Hokkaido', 'Muroran')",
         "orientation": "v",
         "showlegend": true,
         "type": "scatter",
         "visible": "legendonly",
         "x": [
          2010,
          2011,
          2012,
          2013,
          2014,
          2015,
          2016,
          2017,
          2018,
          2019,
          2020,
          2021,
          2022
         ],
         "xaxis": "x",
         "y": [
          70,
          88,
          91,
          78,
          87,
          114,
          92,
          104,
          64,
          89,
          117,
          150,
          127
         ],
         "yaxis": "y"
        },
        {
         "hovertemplate": "variable=('Hokkaido', 'Otaru')<br>year=%{x}<br>value=%{y}<extra></extra>",
         "legendgroup": "('Hokkaido', 'Otaru')",
         "line": {
          "color": "#636efa",
          "dash": "solid"
         },
         "marker": {
          "symbol": "circle"
         },
         "mode": "lines+markers",
         "name": "('Hokkaido', 'Otaru')",
         "orientation": "v",
         "showlegend": true,
         "type": "scatter",
         "visible": "legendonly",
         "x": [
          2010,
          2011,
          2012,
          2013,
          2014,
          2015,
          2016,
          2017,
          2018,
          2019,
          2020,
          2021,
          2022
         ],
         "xaxis": "x",
         "y": [
          104,
          131,
          123,
          126,
          123,
          127,
          131,
          123,
          152,
          99,
          180,
          184,
          169
         ],
         "yaxis": "y"
        }
       ],
       "layout": {
        "autosize": false,
        "height": 800,
        "hovermode": "closest",
        "legend": {
         "title": {
          "text": "variable"
         },
         "tracegroupgap": 0
        },
        "template": {
         "data": {
          "bar": [
           {
            "error_x": {
             "color": "#2a3f5f"
            },
            "error_y": {
             "color": "#2a3f5f"
            },
            "marker": {
             "line": {
              "color": "#E5ECF6",
              "width": 0.5
             },
             "pattern": {
              "fillmode": "overlay",
              "size": 10,
              "solidity": 0.2
             }
            },
            "type": "bar"
           }
          ],
          "barpolar": [
           {
            "marker": {
             "line": {
              "color": "#E5ECF6",
              "width": 0.5
             },
             "pattern": {
              "fillmode": "overlay",
              "size": 10,
              "solidity": 0.2
             }
            },
            "type": "barpolar"
           }
          ],
          "carpet": [
           {
            "aaxis": {
             "endlinecolor": "#2a3f5f",
             "gridcolor": "white",
             "linecolor": "white",
             "minorgridcolor": "white",
             "startlinecolor": "#2a3f5f"
            },
            "baxis": {
             "endlinecolor": "#2a3f5f",
             "gridcolor": "white",
             "linecolor": "white",
             "minorgridcolor": "white",
             "startlinecolor": "#2a3f5f"
            },
            "type": "carpet"
           }
          ],
          "choropleth": [
           {
            "colorbar": {
             "outlinewidth": 0,
             "ticks": ""
            },
            "type": "choropleth"
           }
          ],
          "contour": [
           {
            "colorbar": {
             "outlinewidth": 0,
             "ticks": ""
            },
            "colorscale": [
             [
              0,
              "#0d0887"
             ],
             [
              0.1111111111111111,
              "#46039f"
             ],
             [
              0.2222222222222222,
              "#7201a8"
             ],
             [
              0.3333333333333333,
              "#9c179e"
             ],
             [
              0.4444444444444444,
              "#bd3786"
             ],
             [
              0.5555555555555556,
              "#d8576b"
             ],
             [
              0.6666666666666666,
              "#ed7953"
             ],
             [
              0.7777777777777778,
              "#fb9f3a"
             ],
             [
              0.8888888888888888,
              "#fdca26"
             ],
             [
              1,
              "#f0f921"
             ]
            ],
            "type": "contour"
           }
          ],
          "contourcarpet": [
           {
            "colorbar": {
             "outlinewidth": 0,
             "ticks": ""
            },
            "type": "contourcarpet"
           }
          ],
          "heatmap": [
           {
            "colorbar": {
             "outlinewidth": 0,
             "ticks": ""
            },
            "colorscale": [
             [
              0,
              "#0d0887"
             ],
             [
              0.1111111111111111,
              "#46039f"
             ],
             [
              0.2222222222222222,
              "#7201a8"
             ],
             [
              0.3333333333333333,
              "#9c179e"
             ],
             [
              0.4444444444444444,
              "#bd3786"
             ],
             [
              0.5555555555555556,
              "#d8576b"
             ],
             [
              0.6666666666666666,
              "#ed7953"
             ],
             [
              0.7777777777777778,
              "#fb9f3a"
             ],
             [
              0.8888888888888888,
              "#fdca26"
             ],
             [
              1,
              "#f0f921"
             ]
            ],
            "type": "heatmap"
           }
          ],
          "heatmapgl": [
           {
            "colorbar": {
             "outlinewidth": 0,
             "ticks": ""
            },
            "colorscale": [
             [
              0,
              "#0d0887"
             ],
             [
              0.1111111111111111,
              "#46039f"
             ],
             [
              0.2222222222222222,
              "#7201a8"
             ],
             [
              0.3333333333333333,
              "#9c179e"
             ],
             [
              0.4444444444444444,
              "#bd3786"
             ],
             [
              0.5555555555555556,
              "#d8576b"
             ],
             [
              0.6666666666666666,
              "#ed7953"
             ],
             [
              0.7777777777777778,
              "#fb9f3a"
             ],
             [
              0.8888888888888888,
              "#fdca26"
             ],
             [
              1,
              "#f0f921"
             ]
            ],
            "type": "heatmapgl"
           }
          ],
          "histogram": [
           {
            "marker": {
             "pattern": {
              "fillmode": "overlay",
              "size": 10,
              "solidity": 0.2
             }
            },
            "type": "histogram"
           }
          ],
          "histogram2d": [
           {
            "colorbar": {
             "outlinewidth": 0,
             "ticks": ""
            },
            "colorscale": [
             [
              0,
              "#0d0887"
             ],
             [
              0.1111111111111111,
              "#46039f"
             ],
             [
              0.2222222222222222,
              "#7201a8"
             ],
             [
              0.3333333333333333,
              "#9c179e"
             ],
             [
              0.4444444444444444,
              "#bd3786"
             ],
             [
              0.5555555555555556,
              "#d8576b"
             ],
             [
              0.6666666666666666,
              "#ed7953"
             ],
             [
              0.7777777777777778,
              "#fb9f3a"
             ],
             [
              0.8888888888888888,
              "#fdca26"
             ],
             [
              1,
              "#f0f921"
             ]
            ],
            "type": "histogram2d"
           }
          ],
          "histogram2dcontour": [
           {
            "colorbar": {
             "outlinewidth": 0,
             "ticks": ""
            },
            "colorscale": [
             [
              0,
              "#0d0887"
             ],
             [
              0.1111111111111111,
              "#46039f"
             ],
             [
              0.2222222222222222,
              "#7201a8"
             ],
             [
              0.3333333333333333,
              "#9c179e"
             ],
             [
              0.4444444444444444,
              "#bd3786"
             ],
             [
              0.5555555555555556,
              "#d8576b"
             ],
             [
              0.6666666666666666,
              "#ed7953"
             ],
             [
              0.7777777777777778,
              "#fb9f3a"
             ],
             [
              0.8888888888888888,
              "#fdca26"
             ],
             [
              1,
              "#f0f921"
             ]
            ],
            "type": "histogram2dcontour"
           }
          ],
          "mesh3d": [
           {
            "colorbar": {
             "outlinewidth": 0,
             "ticks": ""
            },
            "type": "mesh3d"
           }
          ],
          "parcoords": [
           {
            "line": {
             "colorbar": {
              "outlinewidth": 0,
              "ticks": ""
             }
            },
            "type": "parcoords"
           }
          ],
          "pie": [
           {
            "automargin": true,
            "type": "pie"
           }
          ],
          "scatter": [
           {
            "fillpattern": {
             "fillmode": "overlay",
             "size": 10,
             "solidity": 0.2
            },
            "type": "scatter"
           }
          ],
          "scatter3d": [
           {
            "line": {
             "colorbar": {
              "outlinewidth": 0,
              "ticks": ""
             }
            },
            "marker": {
             "colorbar": {
              "outlinewidth": 0,
              "ticks": ""
             }
            },
            "type": "scatter3d"
           }
          ],
          "scattercarpet": [
           {
            "marker": {
             "colorbar": {
              "outlinewidth": 0,
              "ticks": ""
             }
            },
            "type": "scattercarpet"
           }
          ],
          "scattergeo": [
           {
            "marker": {
             "colorbar": {
              "outlinewidth": 0,
              "ticks": ""
             }
            },
            "type": "scattergeo"
           }
          ],
          "scattergl": [
           {
            "marker": {
             "colorbar": {
              "outlinewidth": 0,
              "ticks": ""
             }
            },
            "type": "scattergl"
           }
          ],
          "scattermapbox": [
           {
            "marker": {
             "colorbar": {
              "outlinewidth": 0,
              "ticks": ""
             }
            },
            "type": "scattermapbox"
           }
          ],
          "scatterpolar": [
           {
            "marker": {
             "colorbar": {
              "outlinewidth": 0,
              "ticks": ""
             }
            },
            "type": "scatterpolar"
           }
          ],
          "scatterpolargl": [
           {
            "marker": {
             "colorbar": {
              "outlinewidth": 0,
              "ticks": ""
             }
            },
            "type": "scatterpolargl"
           }
          ],
          "scatterternary": [
           {
            "marker": {
             "colorbar": {
              "outlinewidth": 0,
              "ticks": ""
             }
            },
            "type": "scatterternary"
           }
          ],
          "surface": [
           {
            "colorbar": {
             "outlinewidth": 0,
             "ticks": ""
            },
            "colorscale": [
             [
              0,
              "#0d0887"
             ],
             [
              0.1111111111111111,
              "#46039f"
             ],
             [
              0.2222222222222222,
              "#7201a8"
             ],
             [
              0.3333333333333333,
              "#9c179e"
             ],
             [
              0.4444444444444444,
              "#bd3786"
             ],
             [
              0.5555555555555556,
              "#d8576b"
             ],
             [
              0.6666666666666666,
              "#ed7953"
             ],
             [
              0.7777777777777778,
              "#fb9f3a"
             ],
             [
              0.8888888888888888,
              "#fdca26"
             ],
             [
              1,
              "#f0f921"
             ]
            ],
            "type": "surface"
           }
          ],
          "table": [
           {
            "cells": {
             "fill": {
              "color": "#EBF0F8"
             },
             "line": {
              "color": "white"
             }
            },
            "header": {
             "fill": {
              "color": "#C8D4E3"
             },
             "line": {
              "color": "white"
             }
            },
            "type": "table"
           }
          ]
         },
         "layout": {
          "annotationdefaults": {
           "arrowcolor": "#2a3f5f",
           "arrowhead": 0,
           "arrowwidth": 1
          },
          "autotypenumbers": "strict",
          "coloraxis": {
           "colorbar": {
            "outlinewidth": 0,
            "ticks": ""
           }
          },
          "colorscale": {
           "diverging": [
            [
             0,
             "#8e0152"
            ],
            [
             0.1,
             "#c51b7d"
            ],
            [
             0.2,
             "#de77ae"
            ],
            [
             0.3,
             "#f1b6da"
            ],
            [
             0.4,
             "#fde0ef"
            ],
            [
             0.5,
             "#f7f7f7"
            ],
            [
             0.6,
             "#e6f5d0"
            ],
            [
             0.7,
             "#b8e186"
            ],
            [
             0.8,
             "#7fbc41"
            ],
            [
             0.9,
             "#4d9221"
            ],
            [
             1,
             "#276419"
            ]
           ],
           "sequential": [
            [
             0,
             "#0d0887"
            ],
            [
             0.1111111111111111,
             "#46039f"
            ],
            [
             0.2222222222222222,
             "#7201a8"
            ],
            [
             0.3333333333333333,
             "#9c179e"
            ],
            [
             0.4444444444444444,
             "#bd3786"
            ],
            [
             0.5555555555555556,
             "#d8576b"
            ],
            [
             0.6666666666666666,
             "#ed7953"
            ],
            [
             0.7777777777777778,
             "#fb9f3a"
            ],
            [
             0.8888888888888888,
             "#fdca26"
            ],
            [
             1,
             "#f0f921"
            ]
           ],
           "sequentialminus": [
            [
             0,
             "#0d0887"
            ],
            [
             0.1111111111111111,
             "#46039f"
            ],
            [
             0.2222222222222222,
             "#7201a8"
            ],
            [
             0.3333333333333333,
             "#9c179e"
            ],
            [
             0.4444444444444444,
             "#bd3786"
            ],
            [
             0.5555555555555556,
             "#d8576b"
            ],
            [
             0.6666666666666666,
             "#ed7953"
            ],
            [
             0.7777777777777778,
             "#fb9f3a"
            ],
            [
             0.8888888888888888,
             "#fdca26"
            ],
            [
             1,
             "#f0f921"
            ]
           ]
          },
          "colorway": [
           "#636efa",
           "#EF553B",
           "#00cc96",
           "#ab63fa",
           "#FFA15A",
           "#19d3f3",
           "#FF6692",
           "#B6E880",
           "#FF97FF",
           "#FECB52"
          ],
          "font": {
           "color": "#2a3f5f"
          },
          "geo": {
           "bgcolor": "white",
           "lakecolor": "white",
           "landcolor": "#E5ECF6",
           "showlakes": true,
           "showland": true,
           "subunitcolor": "white"
          },
          "hoverlabel": {
           "align": "left"
          },
          "hovermode": "closest",
          "mapbox": {
           "style": "light"
          },
          "paper_bgcolor": "white",
          "plot_bgcolor": "#E5ECF6",
          "polar": {
           "angularaxis": {
            "gridcolor": "white",
            "linecolor": "white",
            "ticks": ""
           },
           "bgcolor": "#E5ECF6",
           "radialaxis": {
            "gridcolor": "white",
            "linecolor": "white",
            "ticks": ""
           }
          },
          "scene": {
           "xaxis": {
            "backgroundcolor": "#E5ECF6",
            "gridcolor": "white",
            "gridwidth": 2,
            "linecolor": "white",
            "showbackground": true,
            "ticks": "",
            "zerolinecolor": "white"
           },
           "yaxis": {
            "backgroundcolor": "#E5ECF6",
            "gridcolor": "white",
            "gridwidth": 2,
            "linecolor": "white",
            "showbackground": true,
            "ticks": "",
            "zerolinecolor": "white"
           },
           "zaxis": {
            "backgroundcolor": "#E5ECF6",
            "gridcolor": "white",
            "gridwidth": 2,
            "linecolor": "white",
            "showbackground": true,
            "ticks": "",
            "zerolinecolor": "white"
           }
          },
          "shapedefaults": {
           "line": {
            "color": "#2a3f5f"
           }
          },
          "ternary": {
           "aaxis": {
            "gridcolor": "white",
            "linecolor": "white",
            "ticks": ""
           },
           "baxis": {
            "gridcolor": "white",
            "linecolor": "white",
            "ticks": ""
           },
           "bgcolor": "#E5ECF6",
           "caxis": {
            "gridcolor": "white",
            "linecolor": "white",
            "ticks": ""
           }
          },
          "title": {
           "x": 0.05
          },
          "xaxis": {
           "automargin": true,
           "gridcolor": "white",
           "linecolor": "white",
           "ticks": "",
           "title": {
            "standoff": 15
           },
           "zerolinecolor": "white",
           "zerolinewidth": 2
          },
          "yaxis": {
           "automargin": true,
           "gridcolor": "white",
           "linecolor": "white",
           "ticks": "",
           "title": {
            "standoff": 15
           },
           "zerolinecolor": "white",
           "zerolinewidth": 2
          }
         }
        },
        "title": {
         "text": "Count for top and bottom 10 municipalities"
        },
        "width": 1600,
        "xaxis": {
         "anchor": "y",
         "domain": [
          0,
          1
         ],
         "title": {
          "text": "year"
         }
        },
        "yaxis": {
         "anchor": "x",
         "domain": [
          0,
          1
         ],
         "title": {
          "text": "value"
         }
        }
       }
      }
     },
     "metadata": {},
     "output_type": "display_data"
    }
   ],
   "source": [
    "plot_time_series(\n",
    "    factor_growth_df.copy(),\n",
    "    \"Count\",\n",
    "    group_by_columns,\n",
    "    granularity_columns,\n",
    "    f\"Count for top and bottom {return_n} municipalities\",\n",
    "    visible=\"legendonly\",\n",
    ")"
   ]
  },
  {
   "cell_type": "code",
   "execution_count": 12,
   "metadata": {},
   "outputs": [],
   "source": [
    "# See if you can make a liquid long short equity strategy using REITs\n",
    "\n",
    "# MVP\n",
    "# Validating"
   ]
  },
  {
   "cell_type": "code",
   "execution_count": null,
   "metadata": {},
   "outputs": [],
   "source": []
  }
 ],
 "metadata": {
  "kernelspec": {
   "display_name": "venv",
   "language": "python",
   "name": "python3"
  },
  "language_info": {
   "codemirror_mode": {
    "name": "ipython",
    "version": 3
   },
   "file_extension": ".py",
   "mimetype": "text/x-python",
   "name": "python",
   "nbconvert_exporter": "python",
   "pygments_lexer": "ipython3",
   "version": "3.12.0"
  }
 },
 "nbformat": 4,
 "nbformat_minor": 2
}
