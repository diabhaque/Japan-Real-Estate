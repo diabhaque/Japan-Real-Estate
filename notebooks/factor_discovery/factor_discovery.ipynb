{
 "cells": [
  {
   "cell_type": "code",
   "execution_count": 107,
   "metadata": {},
   "outputs": [],
   "source": [
    "import warnings\n",
    "\n",
    "import pandas as pd\n",
    "\n",
    "from jre_utils.datapath import (\n",
    "    factor_data_paths,\n",
    "    get_derived_csv_path,\n",
    "    get_derived_lpa_path,\n",
    "    get_derived_plps_path,\n",
    ")\n",
    "from jre_utils.config import asset_types\n",
    "from jre_utils.visualize import plot_time_series\n",
    "from jre_utils.process import (\n",
    "    get_most_active_municipalities,\n",
    "    get_highest_growth_municipalities,\n",
    "    get_cumulative_growth,\n",
    ")\n",
    "\n",
    "warnings.filterwarnings(\"ignore\")\n",
    "pd.set_option(\"display.max_columns\", None)"
   ]
  },
  {
   "cell_type": "code",
   "execution_count": 108,
   "metadata": {},
   "outputs": [],
   "source": [
    "asset_type = \"building\"\n",
    "\n",
    "factor = \"taxable_income\"\n",
    "factor_column = \"taxable_income_growth\"\n",
    "\n",
    "metrics = {\n",
    "    \"weighted_mean\": \"unit_price_wmean\",\n",
    "    \"weighted_median\": \"unit_price_wmedian\",\n",
    "    \"mean\": \"unit_price_mean\",\n",
    "    \"median\": \"unit_price_median\",\n",
    "}\n",
    "\n",
    "dataset_paths = {\n",
    "    \"main\": get_derived_csv_path(asset_type),\n",
    "    \"lpa\": get_derived_lpa_path(),\n",
    "    \"plps\": get_derived_plps_path()\n",
    "}"
   ]
  },
  {
   "cell_type": "code",
   "execution_count": 109,
   "metadata": {},
   "outputs": [],
   "source": [
    "granularity_columns = [\"area\", \"area_code\"]\n",
    "group_by_columns = granularity_columns + [\"year\"]\n",
    "display_columns = [\"unit_price\", \"total_traded_area\", \"count\"]\n",
    "\n",
    "metric = metrics[\"weighted_median\"]\n",
    "metric_pct_chg = metric + \"_pct_chg\"\n",
    "upcoming_metric = \"upcoming_\" + metric\n",
    "upcoming_metric_pct_chg = \"upcoming_\" + metric_pct_chg"
   ]
  },
  {
   "cell_type": "code",
   "execution_count": 110,
   "metadata": {},
   "outputs": [],
   "source": [
    "core_df_path = dataset_paths[\"main\"]\n",
    "factor_path = factor_data_paths[\"processed\"][factor][\"municipality\"]\n",
    "\n",
    "df = pd.read_csv(core_df_path)\n",
    "factor_df = pd.read_csv(factor_path)\n",
    "\n",
    "# time box\n",
    "# start_year = 1975\n",
    "start_year = 2006\n",
    "end_year = 2022\n",
    "df = df[(df[\"year\"] >= start_year) & (df[\"year\"] <= end_year)]\n",
    "\n",
    "df = df.merge(factor_df, on=group_by_columns, how=\"left\")\n",
    "df = df.sort_values(by=[\"year\", \"area_code\"])\n",
    "\n",
    "# prepare metrics\n",
    "df[metric_pct_chg] = df.groupby(granularity_columns)[metric].pct_change(fill_method=\"ffill\").fillna(0) # fill na with 0 for visualizations\n",
    "\n",
    "# set up target variables\n",
    "df[upcoming_metric] = df.groupby(granularity_columns)[metric].shift(-1)\n",
    "df[upcoming_metric_pct_chg] = df.groupby(granularity_columns)[metric_pct_chg].shift(-1)"
   ]
  },
  {
   "cell_type": "code",
   "execution_count": 111,
   "metadata": {},
   "outputs": [
    {
     "data": {
      "text/html": [
       "<div>\n",
       "<style scoped>\n",
       "    .dataframe tbody tr th:only-of-type {\n",
       "        vertical-align: middle;\n",
       "    }\n",
       "\n",
       "    .dataframe tbody tr th {\n",
       "        vertical-align: top;\n",
       "    }\n",
       "\n",
       "    .dataframe thead th {\n",
       "        text-align: right;\n",
       "    }\n",
       "</style>\n",
       "<table border=\"1\" class=\"dataframe\">\n",
       "  <thead>\n",
       "    <tr style=\"text-align: right;\">\n",
       "      <th></th>\n",
       "      <th>year</th>\n",
       "      <th>area_code</th>\n",
       "      <th>area</th>\n",
       "      <th>taxable_income_growth</th>\n",
       "      <th>unit_price_wmedian_pct_chg</th>\n",
       "      <th>upcoming_unit_price_wmedian_pct_chg</th>\n",
       "    </tr>\n",
       "  </thead>\n",
       "  <tbody>\n",
       "    <tr>\n",
       "      <th>3099</th>\n",
       "      <td>2006</td>\n",
       "      <td>13101</td>\n",
       "      <td>Tokyo-to Chiyoda-ku</td>\n",
       "      <td>0.096990</td>\n",
       "      <td>0.000000</td>\n",
       "      <td>0.450577</td>\n",
       "    </tr>\n",
       "    <tr>\n",
       "      <th>3043</th>\n",
       "      <td>2007</td>\n",
       "      <td>13101</td>\n",
       "      <td>Tokyo-to Chiyoda-ku</td>\n",
       "      <td>0.106918</td>\n",
       "      <td>0.450577</td>\n",
       "      <td>-0.298286</td>\n",
       "    </tr>\n",
       "    <tr>\n",
       "      <th>2986</th>\n",
       "      <td>2008</td>\n",
       "      <td>13101</td>\n",
       "      <td>Tokyo-to Chiyoda-ku</td>\n",
       "      <td>0.068980</td>\n",
       "      <td>-0.298286</td>\n",
       "      <td>-0.080213</td>\n",
       "    </tr>\n",
       "    <tr>\n",
       "      <th>2928</th>\n",
       "      <td>2009</td>\n",
       "      <td>13101</td>\n",
       "      <td>Tokyo-to Chiyoda-ku</td>\n",
       "      <td>-0.086969</td>\n",
       "      <td>-0.080213</td>\n",
       "      <td>0.250000</td>\n",
       "    </tr>\n",
       "    <tr>\n",
       "      <th>2871</th>\n",
       "      <td>2010</td>\n",
       "      <td>13101</td>\n",
       "      <td>Tokyo-to Chiyoda-ku</td>\n",
       "      <td>-0.034085</td>\n",
       "      <td>0.250000</td>\n",
       "      <td>-0.400000</td>\n",
       "    </tr>\n",
       "    <tr>\n",
       "      <th>2816</th>\n",
       "      <td>2011</td>\n",
       "      <td>13101</td>\n",
       "      <td>Tokyo-to Chiyoda-ku</td>\n",
       "      <td>0.075307</td>\n",
       "      <td>-0.400000</td>\n",
       "      <td>-0.044261</td>\n",
       "    </tr>\n",
       "    <tr>\n",
       "      <th>2759</th>\n",
       "      <td>2012</td>\n",
       "      <td>13101</td>\n",
       "      <td>Tokyo-to Chiyoda-ku</td>\n",
       "      <td>-0.060839</td>\n",
       "      <td>-0.044261</td>\n",
       "      <td>0.525820</td>\n",
       "    </tr>\n",
       "    <tr>\n",
       "      <th>2700</th>\n",
       "      <td>2013</td>\n",
       "      <td>13101</td>\n",
       "      <td>Tokyo-to Chiyoda-ku</td>\n",
       "      <td>0.062684</td>\n",
       "      <td>0.525820</td>\n",
       "      <td>0.186464</td>\n",
       "    </tr>\n",
       "    <tr>\n",
       "      <th>2642</th>\n",
       "      <td>2014</td>\n",
       "      <td>13101</td>\n",
       "      <td>Tokyo-to Chiyoda-ku</td>\n",
       "      <td>0.203222</td>\n",
       "      <td>0.186464</td>\n",
       "      <td>-0.133050</td>\n",
       "    </tr>\n",
       "    <tr>\n",
       "      <th>2585</th>\n",
       "      <td>2015</td>\n",
       "      <td>13101</td>\n",
       "      <td>Tokyo-to Chiyoda-ku</td>\n",
       "      <td>-0.002293</td>\n",
       "      <td>-0.133050</td>\n",
       "      <td>0.187606</td>\n",
       "    </tr>\n",
       "    <tr>\n",
       "      <th>2527</th>\n",
       "      <td>2016</td>\n",
       "      <td>13101</td>\n",
       "      <td>Tokyo-to Chiyoda-ku</td>\n",
       "      <td>0.123044</td>\n",
       "      <td>0.187606</td>\n",
       "      <td>0.156003</td>\n",
       "    </tr>\n",
       "    <tr>\n",
       "      <th>2469</th>\n",
       "      <td>2017</td>\n",
       "      <td>13101</td>\n",
       "      <td>Tokyo-to Chiyoda-ku</td>\n",
       "      <td>0.061411</td>\n",
       "      <td>0.156003</td>\n",
       "      <td>-0.233166</td>\n",
       "    </tr>\n",
       "    <tr>\n",
       "      <th>2412</th>\n",
       "      <td>2018</td>\n",
       "      <td>13101</td>\n",
       "      <td>Tokyo-to Chiyoda-ku</td>\n",
       "      <td>0.086993</td>\n",
       "      <td>-0.233166</td>\n",
       "      <td>0.398819</td>\n",
       "    </tr>\n",
       "    <tr>\n",
       "      <th>2354</th>\n",
       "      <td>2019</td>\n",
       "      <td>13101</td>\n",
       "      <td>Tokyo-to Chiyoda-ku</td>\n",
       "      <td>0.138419</td>\n",
       "      <td>0.398819</td>\n",
       "      <td>-0.069217</td>\n",
       "    </tr>\n",
       "    <tr>\n",
       "      <th>2295</th>\n",
       "      <td>2020</td>\n",
       "      <td>13101</td>\n",
       "      <td>Tokyo-to Chiyoda-ku</td>\n",
       "      <td>-0.028845</td>\n",
       "      <td>-0.069217</td>\n",
       "      <td>-0.078443</td>\n",
       "    </tr>\n",
       "    <tr>\n",
       "      <th>2237</th>\n",
       "      <td>2021</td>\n",
       "      <td>13101</td>\n",
       "      <td>Tokyo-to Chiyoda-ku</td>\n",
       "      <td>-0.006847</td>\n",
       "      <td>-0.078443</td>\n",
       "      <td>0.319422</td>\n",
       "    </tr>\n",
       "    <tr>\n",
       "      <th>2180</th>\n",
       "      <td>2022</td>\n",
       "      <td>13101</td>\n",
       "      <td>Tokyo-to Chiyoda-ku</td>\n",
       "      <td>NaN</td>\n",
       "      <td>0.319422</td>\n",
       "      <td>NaN</td>\n",
       "    </tr>\n",
       "  </tbody>\n",
       "</table>\n",
       "</div>"
      ],
      "text/plain": [
       "      year  area_code                 area  taxable_income_growth  \\\n",
       "3099  2006      13101  Tokyo-to Chiyoda-ku               0.096990   \n",
       "3043  2007      13101  Tokyo-to Chiyoda-ku               0.106918   \n",
       "2986  2008      13101  Tokyo-to Chiyoda-ku               0.068980   \n",
       "2928  2009      13101  Tokyo-to Chiyoda-ku              -0.086969   \n",
       "2871  2010      13101  Tokyo-to Chiyoda-ku              -0.034085   \n",
       "2816  2011      13101  Tokyo-to Chiyoda-ku               0.075307   \n",
       "2759  2012      13101  Tokyo-to Chiyoda-ku              -0.060839   \n",
       "2700  2013      13101  Tokyo-to Chiyoda-ku               0.062684   \n",
       "2642  2014      13101  Tokyo-to Chiyoda-ku               0.203222   \n",
       "2585  2015      13101  Tokyo-to Chiyoda-ku              -0.002293   \n",
       "2527  2016      13101  Tokyo-to Chiyoda-ku               0.123044   \n",
       "2469  2017      13101  Tokyo-to Chiyoda-ku               0.061411   \n",
       "2412  2018      13101  Tokyo-to Chiyoda-ku               0.086993   \n",
       "2354  2019      13101  Tokyo-to Chiyoda-ku               0.138419   \n",
       "2295  2020      13101  Tokyo-to Chiyoda-ku              -0.028845   \n",
       "2237  2021      13101  Tokyo-to Chiyoda-ku              -0.006847   \n",
       "2180  2022      13101  Tokyo-to Chiyoda-ku                    NaN   \n",
       "\n",
       "      unit_price_wmedian_pct_chg  upcoming_unit_price_wmedian_pct_chg  \n",
       "3099                    0.000000                             0.450577  \n",
       "3043                    0.450577                            -0.298286  \n",
       "2986                   -0.298286                            -0.080213  \n",
       "2928                   -0.080213                             0.250000  \n",
       "2871                    0.250000                            -0.400000  \n",
       "2816                   -0.400000                            -0.044261  \n",
       "2759                   -0.044261                             0.525820  \n",
       "2700                    0.525820                             0.186464  \n",
       "2642                    0.186464                            -0.133050  \n",
       "2585                   -0.133050                             0.187606  \n",
       "2527                    0.187606                             0.156003  \n",
       "2469                    0.156003                            -0.233166  \n",
       "2412                   -0.233166                             0.398819  \n",
       "2354                    0.398819                            -0.069217  \n",
       "2295                   -0.069217                            -0.078443  \n",
       "2237                   -0.078443                             0.319422  \n",
       "2180                    0.319422                                  NaN  "
      ]
     },
     "execution_count": 111,
     "metadata": {},
     "output_type": "execute_result"
    }
   ],
   "source": [
    "df[df[\"area_code\"] == 13101][[\"year\", \"area_code\", \"area\", factor_column, metric_pct_chg, upcoming_metric_pct_chg]] # Tokyo-to Chiyoda-ku"
   ]
  },
  {
   "cell_type": "code",
   "execution_count": 117,
   "metadata": {},
   "outputs": [],
   "source": [
    "comparables = [\n",
    "    13102,  # Tokyo-to Chuo-ku\n",
    "    13103,  # Tokyo-to Minato-ku\n",
    "    15461,  # Niigata-ken Yuzawa-Machi\n",
    "    20321,  # Nagano-ken Karuisawa-machi\n",
    "]\n",
    "\n",
    "frequency_n = 500\n",
    "return_n = 10\n",
    "factor_n = 10\n",
    "\n",
    "frequency_df = get_most_active_municipalities(\n",
    "    df.copy(), n=frequency_n, keep=comparables\n",
    ")\n",
    "\n",
    "return_df = get_highest_growth_municipalities(\n",
    "    frequency_df.copy(),\n",
    "    column=metric_pct_chg,\n",
    "    cumulative_column=\"return_growth\",\n",
    "    end_year=2021,\n",
    "    n=return_n,\n",
    "    keep=comparables,\n",
    ")\n",
    "\n",
    "return_df[\"factor_growth\"] = get_cumulative_growth(return_df.copy(), factor_column)\n",
    "\n",
    "factor_growth_df = get_highest_growth_municipalities(\n",
    "    frequency_df.copy(),\n",
    "    column=factor_column,\n",
    "    cumulative_column=\"factor_growth\",\n",
    "    end_year=2021,\n",
    "    n=factor_n,\n",
    "    keep=comparables,\n",
    ")\n",
    "\n",
    "factor_growth_df[\"return_growth\"] = get_cumulative_growth(\n",
    "    factor_growth_df.copy(), metric_pct_chg\n",
    ")\n",
    "\n",
    "# Tokyo Area Codes are 13000 + n. Therefore, if area_code // 1000 == 13, it is in Tokyo\n",
    "tokyo_df = frequency_df[frequency_df[\"area_code\"] // 1000 == 13]\n",
    "tokyo_df[\"return_growth\"] = get_cumulative_growth(tokyo_df.copy(), metric_pct_chg)\n",
    "tokyo_df[\"factor_growth\"] = get_cumulative_growth(tokyo_df.copy(), factor_column)"
   ]
  },
  {
   "cell_type": "code",
   "execution_count": 118,
   "metadata": {},
   "outputs": [],
   "source": [
    "plot_df = factor_growth_df.copy()"
   ]
  },
  {
   "cell_type": "code",
   "execution_count": 119,
   "metadata": {},
   "outputs": [
    {
     "data": {
      "application/vnd.plotly.v1+json": {
       "config": {
        "plotlyServerURL": "https://plot.ly"
       },
       "data": [
        {
         "hovertemplate": "variable=('Aichi-ken Nagakute-shi', 23238)<br>year=%{x}<br>value=%{y}<extra></extra>",
         "legendgroup": "('Aichi-ken Nagakute-shi', 23238)",
         "line": {
          "color": "#636efa",
          "dash": "solid"
         },
         "marker": {
          "symbol": "circle"
         },
         "mode": "lines+markers",
         "name": "('Aichi-ken Nagakute-shi', 23238)",
         "orientation": "v",
         "showlegend": true,
         "type": "scatter",
         "visible": "legendonly",
         "x": [
          2006,
          2007,
          2008,
          2009,
          2010,
          2011,
          2012,
          2013,
          2014,
          2015,
          2016,
          2017,
          2018,
          2019,
          2020,
          2021,
          2022
         ],
         "xaxis": "x",
         "y": [
          1,
          1.1021052631578945,
          2.1689303904923594,
          1.7222565210680654,
          1.8251336272482537,
          1.5385947155337731,
          1.4943371085942698,
          1.5789473684210522,
          1.937551695616211,
          1.3243040131032164,
          1.900044228217602,
          1.8207236842105254,
          2.0108984582668783,
          1.661517153206903,
          1.7647898979630408,
          1.5789473684210518,
          1.6462320574162672
         ],
         "yaxis": "y"
        },
        {
         "hovertemplate": "variable=('Tokyo-to Chiyoda-ku', 13101)<br>year=%{x}<br>value=%{y}<extra></extra>",
         "legendgroup": "('Tokyo-to Chiyoda-ku', 13101)",
         "line": {
          "color": "#EF553B",
          "dash": "solid"
         },
         "marker": {
          "symbol": "circle"
         },
         "mode": "lines+markers",
         "name": "('Tokyo-to Chiyoda-ku', 13101)",
         "orientation": "v",
         "showlegend": true,
         "type": "scatter",
         "visible": "legendonly",
         "x": [
          2006,
          2007,
          2008,
          2009,
          2010,
          2011,
          2012,
          2013,
          2014,
          2015,
          2016,
          2017,
          2018,
          2019,
          2020,
          2021,
          2022
         ],
         "xaxis": "x",
         "y": [
          1,
          1.450577282452402,
          1.0178906183429433,
          0.936242386863002,
          1.1703029835787524,
          0.7021817901472516,
          0.6711024487713898,
          1.0239816734033065,
          1.214917387299124,
          1.0532726852208776,
          1.250873411686725,
          1.4460129172448501,
          1.1088524050153838,
          1.551083848029577,
          1.443721984206527,
          1.3304726419164195,
          1.7554544753681296
         ],
         "yaxis": "y"
        },
        {
         "hovertemplate": "variable=('Tokyo-to Chuo-ku', 13102)<br>year=%{x}<br>value=%{y}<extra></extra>",
         "legendgroup": "('Tokyo-to Chuo-ku', 13102)",
         "line": {
          "color": "#00cc96",
          "dash": "solid"
         },
         "marker": {
          "symbol": "circle"
         },
         "mode": "lines+markers",
         "name": "('Tokyo-to Chuo-ku', 13102)",
         "orientation": "v",
         "showlegend": true,
         "type": "scatter",
         "visible": "legendonly",
         "x": [
          2006,
          2007,
          2008,
          2009,
          2010,
          2011,
          2012,
          2013,
          2014,
          2015,
          2016,
          2017,
          2018,
          2019,
          2020,
          2021,
          2022
         ],
         "xaxis": "x",
         "y": [
          1,
          1.3030282943827887,
          1.2851785917200107,
          1.020058764007857,
          0.6581839088149455,
          0.8178097259059661,
          0.677780509650927,
          0.7914624681306773,
          0.8344382291063195,
          0.9829018008230462,
          1.0262180151578282,
          1.3495970167186628,
          1.4828983750615503,
          1.6925015208916792,
          1.3565631368744888,
          1.0364343481612988,
          1.2666249571212358
         ],
         "yaxis": "y"
        },
        {
         "hovertemplate": "variable=('Tokyo-to Koto-ku', 13108)<br>year=%{x}<br>value=%{y}<extra></extra>",
         "legendgroup": "('Tokyo-to Koto-ku', 13108)",
         "line": {
          "color": "#ab63fa",
          "dash": "solid"
         },
         "marker": {
          "symbol": "circle"
         },
         "mode": "lines+markers",
         "name": "('Tokyo-to Koto-ku', 13108)",
         "orientation": "v",
         "showlegend": true,
         "type": "scatter",
         "visible": "legendonly",
         "x": [
          2006,
          2007,
          2008,
          2009,
          2010,
          2011,
          2012,
          2013,
          2014,
          2015,
          2016,
          2017,
          2018,
          2019,
          2020,
          2021,
          2022
         ],
         "xaxis": "x",
         "y": [
          1,
          1.0443195237943252,
          1.2352941176470589,
          0.6259043724441647,
          0.7209919261822374,
          0.685768108896451,
          0.6258520761245674,
          0.90131410719646,
          0.7163984530034617,
          0.960098039215686,
          1.0564206074586695,
          1.0980392156862742,
          0.9426470588235292,
          1.0808823529411762,
          1.1875309435562176,
          1.2229411764705878,
          1.0686445907034139
         ],
         "yaxis": "y"
        },
        {
         "hovertemplate": "variable=('Tokyo-to Minato-ku', 13103)<br>year=%{x}<br>value=%{y}<extra></extra>",
         "legendgroup": "('Tokyo-to Minato-ku', 13103)",
         "line": {
          "color": "#FFA15A",
          "dash": "solid"
         },
         "marker": {
          "symbol": "circle"
         },
         "mode": "lines+markers",
         "name": "('Tokyo-to Minato-ku', 13103)",
         "orientation": "v",
         "showlegend": true,
         "type": "scatter",
         "visible": "legendonly",
         "x": [
          2006,
          2007,
          2008,
          2009,
          2010,
          2011,
          2012,
          2013,
          2014,
          2015,
          2016,
          2017,
          2018,
          2019,
          2020,
          2021,
          2022
         ],
         "xaxis": "x",
         "y": [
          1,
          1.0088098519485647,
          1.0457445938981407,
          1.0297156874539324,
          0.7137839787597642,
          0.5517312168585249,
          0.5557913991245754,
          0.6857930964191017,
          0.6655283257161794,
          0.9032434875443694,
          0.7710641470200877,
          0.9860999025461368,
          1.3804560759277433,
          1.0577998020061539,
          1.043648062624716,
          1.2736192138142497,
          1.190358338035829
         ],
         "yaxis": "y"
        },
        {
         "hovertemplate": "variable=('Tokyo-to Shibuya-ku', 13113)<br>year=%{x}<br>value=%{y}<extra></extra>",
         "legendgroup": "('Tokyo-to Shibuya-ku', 13113)",
         "line": {
          "color": "#19d3f3",
          "dash": "solid"
         },
         "marker": {
          "symbol": "circle"
         },
         "mode": "lines+markers",
         "name": "('Tokyo-to Shibuya-ku', 13113)",
         "orientation": "v",
         "showlegend": true,
         "type": "scatter",
         "visible": "legendonly",
         "x": [
          2006,
          2007,
          2008,
          2009,
          2010,
          2011,
          2012,
          2013,
          2014,
          2015,
          2016,
          2017,
          2018,
          2019,
          2020,
          2021,
          2022
         ],
         "xaxis": "x",
         "y": [
          1,
          1.1375364221771698,
          0.823764445530997,
          0.5865710457960162,
          0.6521395696752201,
          0.5967242107433484,
          0.5305013830657087,
          0.6366016596788504,
          0.6461548041456248,
          0.7573182736207557,
          0.7946605079667405,
          0.825224373657769,
          0.801912403913205,
          0.8570451351143176,
          1.183424197476335,
          1.2221114500288672,
          1.1191245557818859
         ],
         "yaxis": "y"
        },
        {
         "hovertemplate": "variable=('Tokyo-to Shinagawa-ku', 13109)<br>year=%{x}<br>value=%{y}<extra></extra>",
         "legendgroup": "('Tokyo-to Shinagawa-ku', 13109)",
         "line": {
          "color": "#FF6692",
          "dash": "solid"
         },
         "marker": {
          "symbol": "circle"
         },
         "mode": "lines+markers",
         "name": "('Tokyo-to Shinagawa-ku', 13109)",
         "orientation": "v",
         "showlegend": true,
         "type": "scatter",
         "visible": "legendonly",
         "x": [
          2006,
          2007,
          2008,
          2009,
          2010,
          2011,
          2012,
          2013,
          2014,
          2015,
          2016,
          2017,
          2018,
          2019,
          2020,
          2021,
          2022
         ],
         "xaxis": "x",
         "y": [
          1,
          1.0590531966813082,
          0.9398852869008476,
          0.6012476924056275,
          0.8051209292319131,
          0.7491459248413863,
          0.8028306490971209,
          0.759411808304372,
          0.9940225167165142,
          0.9010768431492941,
          0.8389448680751916,
          0.90190336749634,
          1.10688140556369,
          1.02489019033675,
          0.9110135025215556,
          1.064417924531835,
          1.0761346998535877
         ],
         "yaxis": "y"
        },
        {
         "hovertemplate": "variable=('Tokyo-to Sumida-ku', 13107)<br>year=%{x}<br>value=%{y}<extra></extra>",
         "legendgroup": "('Tokyo-to Sumida-ku', 13107)",
         "line": {
          "color": "#B6E880",
          "dash": "solid"
         },
         "marker": {
          "symbol": "circle"
         },
         "mode": "lines+markers",
         "name": "('Tokyo-to Sumida-ku', 13107)",
         "orientation": "v",
         "showlegend": true,
         "type": "scatter",
         "visible": "legendonly",
         "x": [
          2006,
          2007,
          2008,
          2009,
          2010,
          2011,
          2012,
          2013,
          2014,
          2015,
          2016,
          2017,
          2018,
          2019,
          2020,
          2021,
          2022
         ],
         "xaxis": "x",
         "y": [
          1,
          1.1226652298850575,
          1.062364359778153,
          0.7370689655172413,
          0.8599137931034481,
          0.7434671336206895,
          0.7428389498432603,
          0.7456446650412166,
          0.8838002873563218,
          0.9097396262081161,
          0.9412416187739463,
          1.146551724137931,
          1.2181072018417496,
          1.3324790307548926,
          1.146551724137931,
          1.0793321152331266,
          1.433189655172414
         ],
         "yaxis": "y"
        },
        {
         "hovertemplate": "variable=('Tokyo-to Taito-ku', 13106)<br>year=%{x}<br>value=%{y}<extra></extra>",
         "legendgroup": "('Tokyo-to Taito-ku', 13106)",
         "line": {
          "color": "#FF97FF",
          "dash": "solid"
         },
         "marker": {
          "symbol": "circle"
         },
         "mode": "lines+markers",
         "name": "('Tokyo-to Taito-ku', 13106)",
         "orientation": "v",
         "showlegend": true,
         "type": "scatter",
         "visible": "legendonly",
         "x": [
          2006,
          2007,
          2008,
          2009,
          2010,
          2011,
          2012,
          2013,
          2014,
          2015,
          2016,
          2017,
          2018,
          2019,
          2020,
          2021,
          2022
         ],
         "xaxis": "x",
         "y": [
          1,
          1.33169298089165,
          0.8932039371217556,
          0.9523943731127097,
          0.7894693628152987,
          0.85993754197913,
          0.8711173017610189,
          0.907732155978323,
          0.9855078205482055,
          0.9128952834371865,
          0.8931996712814544,
          1.1997151456900639,
          1.23197656039496,
          1.513211810422658,
          1.3196378327925085,
          1.2655024437920797,
          1.6016379657375792
         ],
         "yaxis": "y"
        },
        {
         "hovertemplate": "variable=('Chiba-ken Sammu-shi', 12237)<br>year=%{x}<br>value=%{y}<extra></extra>",
         "legendgroup": "('Chiba-ken Sammu-shi', 12237)",
         "line": {
          "color": "#FECB52",
          "dash": "solid"
         },
         "marker": {
          "symbol": "circle"
         },
         "mode": "lines+markers",
         "name": "('Chiba-ken Sammu-shi', 12237)",
         "orientation": "v",
         "showlegend": true,
         "type": "scatter",
         "visible": "legendonly",
         "x": [
          2006,
          2007,
          2008,
          2009,
          2010,
          2011,
          2012,
          2013,
          2014,
          2015,
          2016,
          2017,
          2018,
          2019,
          2020,
          2021,
          2022
         ],
         "xaxis": "x",
         "y": [
          null,
          1,
          0.8630873450307572,
          1.013426186615924,
          0.7101891748401867,
          0.33441308112616236,
          0.4875371799422723,
          0.5526431581968612,
          0.5900313583099523,
          0.25785260829532736,
          0.5058418092734874,
          0.6595043706482719,
          0.36731738519002477,
          0.515433981309395,
          0.3936760741596524,
          0.30186147589782725,
          0.48541684038263666
         ],
         "yaxis": "y"
        },
        {
         "hovertemplate": "variable=('Kanagawa-ken Aikawa-machi', 14401)<br>year=%{x}<br>value=%{y}<extra></extra>",
         "legendgroup": "('Kanagawa-ken Aikawa-machi', 14401)",
         "line": {
          "color": "#636efa",
          "dash": "solid"
         },
         "marker": {
          "symbol": "circle"
         },
         "mode": "lines+markers",
         "name": "('Kanagawa-ken Aikawa-machi', 14401)",
         "orientation": "v",
         "showlegend": true,
         "type": "scatter",
         "visible": "legendonly",
         "x": [
          2006,
          2007,
          2008,
          2009,
          2010,
          2011,
          2012,
          2013,
          2014,
          2015,
          2016,
          2017,
          2018,
          2019,
          2020,
          2021,
          2022
         ],
         "xaxis": "x",
         "y": [
          null,
          1,
          1.3272079682279518,
          0.7879695307739183,
          0.7578712167377616,
          0.6663220079794879,
          1.2242535039609992,
          0.736515419298631,
          0.9995061074601248,
          0.781656192870201,
          0.857989037071697,
          0.7801343264289047,
          0.6163127567929326,
          0.4858041105755915,
          1.0656130939255992,
          0.6019785838273042,
          0.7084737803076468
         ],
         "yaxis": "y"
        },
        {
         "hovertemplate": "variable=('Kyoto-fu Joyo-shi', 26207)<br>year=%{x}<br>value=%{y}<extra></extra>",
         "legendgroup": "('Kyoto-fu Joyo-shi', 26207)",
         "line": {
          "color": "#EF553B",
          "dash": "solid"
         },
         "marker": {
          "symbol": "circle"
         },
         "mode": "lines+markers",
         "name": "('Kyoto-fu Joyo-shi', 26207)",
         "orientation": "v",
         "showlegend": true,
         "type": "scatter",
         "visible": "legendonly",
         "x": [
          2006,
          2007,
          2008,
          2009,
          2010,
          2011,
          2012,
          2013,
          2014,
          2015,
          2016,
          2017,
          2018,
          2019,
          2020,
          2021,
          2022
         ],
         "xaxis": "x",
         "y": [
          null,
          1,
          0.9289065319379285,
          0.7288343558282209,
          0.7867421508480693,
          0.7020481359131666,
          0.7288343558282209,
          0.7901070085663398,
          0.784022138441761,
          0.7859978347167089,
          0.7562105231345766,
          0.651876091175983,
          0.6073619631901841,
          0.5732128491135293,
          0.693477212971078,
          0.7208918794115707,
          0.8491864497199253
         ],
         "yaxis": "y"
        },
        {
         "hovertemplate": "variable=('Nagano-ken Karuizawa-machi', 20321)<br>year=%{x}<br>value=%{y}<extra></extra>",
         "legendgroup": "('Nagano-ken Karuizawa-machi', 20321)",
         "line": {
          "color": "#00cc96",
          "dash": "solid"
         },
         "marker": {
          "symbol": "circle"
         },
         "mode": "lines+markers",
         "name": "('Nagano-ken Karuizawa-machi', 20321)",
         "orientation": "v",
         "showlegend": true,
         "type": "scatter",
         "visible": "legendonly",
         "x": [
          2006,
          2007,
          2008,
          2009,
          2010,
          2011,
          2012,
          2013,
          2014,
          2015,
          2016,
          2017,
          2018,
          2019,
          2020,
          2021,
          2022
         ],
         "xaxis": "x",
         "y": [
          null,
          1,
          0.7650728211732416,
          0.7164517837805102,
          1.082666558978697,
          1.0696944569360434,
          0.8686084100042012,
          1.0936388683886167,
          1.0920091045534064,
          0.8906400543047743,
          1.1231247133354967,
          1.1051351232855824,
          1.091524634460858,
          1.0587763349413766,
          1.2783426715845392,
          1.2385935817154188,
          1.6685290576313965
         ],
         "yaxis": "y"
        },
        {
         "hovertemplate": "variable=('Niigata-ken Kashiwazaki-shi', 15205)<br>year=%{x}<br>value=%{y}<extra></extra>",
         "legendgroup": "('Niigata-ken Kashiwazaki-shi', 15205)",
         "line": {
          "color": "#ab63fa",
          "dash": "solid"
         },
         "marker": {
          "symbol": "circle"
         },
         "mode": "lines+markers",
         "name": "('Niigata-ken Kashiwazaki-shi', 15205)",
         "orientation": "v",
         "showlegend": true,
         "type": "scatter",
         "visible": "legendonly",
         "x": [
          2006,
          2007,
          2008,
          2009,
          2010,
          2011,
          2012,
          2013,
          2014,
          2015,
          2016,
          2017,
          2018,
          2019,
          2020,
          2021,
          2022
         ],
         "xaxis": "x",
         "y": [
          null,
          1,
          0.7289322603501934,
          0.6914156021892439,
          0.7695339010880751,
          1.0433867814985576,
          0.7413738151831455,
          0.6699138997177577,
          0.7795979808152239,
          0.6517957106836451,
          0.5025227381638706,
          0.5786012815873387,
          0.5823609958800331,
          0.6733421634520658,
          0.494282718373625,
          0.327636124876026,
          0.4259194963344966
         ],
         "yaxis": "y"
        },
        {
         "hovertemplate": "variable=('Niigata-ken Yuzawa-machi', 15461)<br>year=%{x}<br>value=%{y}<extra></extra>",
         "legendgroup": "('Niigata-ken Yuzawa-machi', 15461)",
         "line": {
          "color": "#FFA15A",
          "dash": "solid"
         },
         "marker": {
          "symbol": "circle"
         },
         "mode": "lines+markers",
         "name": "('Niigata-ken Yuzawa-machi', 15461)",
         "orientation": "v",
         "showlegend": true,
         "type": "scatter",
         "visible": "legendonly",
         "x": [
          2006,
          2007,
          2008,
          2009,
          2010,
          2011,
          2012,
          2013,
          2014,
          2015,
          2016,
          2017,
          2018,
          2019,
          2020,
          2021,
          2022
         ],
         "xaxis": "x",
         "y": [
          null,
          1,
          0.356512233318951,
          0.6130990919595583,
          0.5543810248017043,
          0.860945325673471,
          1.1009258038674874,
          0.2514649928818204,
          0.1829362511475974,
          0.23161770065552412,
          0.5756404506528682,
          0.04317698234032288,
          0.25862476182246424,
          0.20959255151434555,
          0.04754234385241741,
          0.17487585175268322,
          0.3028147738803077
         ],
         "yaxis": "y"
        },
        {
         "hovertemplate": "variable=('Osaka-fu Kawachinagano-shi', 27216)<br>year=%{x}<br>value=%{y}<extra></extra>",
         "legendgroup": "('Osaka-fu Kawachinagano-shi', 27216)",
         "line": {
          "color": "#19d3f3",
          "dash": "solid"
         },
         "marker": {
          "symbol": "circle"
         },
         "mode": "lines+markers",
         "name": "('Osaka-fu Kawachinagano-shi', 27216)",
         "orientation": "v",
         "showlegend": true,
         "type": "scatter",
         "visible": "legendonly",
         "x": [
          2006,
          2007,
          2008,
          2009,
          2010,
          2011,
          2012,
          2013,
          2014,
          2015,
          2016,
          2017,
          2018,
          2019,
          2020,
          2021,
          2022
         ],
         "xaxis": "x",
         "y": [
          null,
          1,
          0.9321824907521579,
          0.8047325347038135,
          0.7480822895710298,
          0.7814773254556444,
          0.7457459926017262,
          0.5080116429781047,
          0.6331931228625269,
          0.6686189889025893,
          0.648474776175414,
          0.5472323905672009,
          0.5595503684799127,
          0.5833274616875108,
          0.5378762161973271,
          0.49451420518885714,
          0.6553836947849421
         ],
         "yaxis": "y"
        },
        {
         "hovertemplate": "variable=('Saitama-ken Moroyama-machi', 11326)<br>year=%{x}<br>value=%{y}<extra></extra>",
         "legendgroup": "('Saitama-ken Moroyama-machi', 11326)",
         "line": {
          "color": "#FF6692",
          "dash": "solid"
         },
         "marker": {
          "symbol": "circle"
         },
         "mode": "lines+markers",
         "name": "('Saitama-ken Moroyama-machi', 11326)",
         "orientation": "v",
         "showlegend": true,
         "type": "scatter",
         "visible": "legendonly",
         "x": [
          2006,
          2007,
          2008,
          2009,
          2010,
          2011,
          2012,
          2013,
          2014,
          2015,
          2016,
          2017,
          2018,
          2019,
          2020,
          2021,
          2022
         ],
         "xaxis": "x",
         "y": [
          null,
          1,
          0.8514037535600709,
          0.6051024181759066,
          0.720916663472886,
          0.5778024944130216,
          0.3229330755401783,
          0.7925300340973056,
          0.6878210776802396,
          0.8062989722193953,
          0.46192771307251806,
          0.6083647094738983,
          0.621397078052458,
          0.3720965279550119,
          0.6397801749622285,
          0.4564767792833761,
          0.6615786438723243
         ],
         "yaxis": "y"
        },
        {
         "hovertemplate": "variable=('Tochigi-ken Nikko-shi', 9206)<br>year=%{x}<br>value=%{y}<extra></extra>",
         "legendgroup": "('Tochigi-ken Nikko-shi', 9206)",
         "line": {
          "color": "#B6E880",
          "dash": "solid"
         },
         "marker": {
          "symbol": "circle"
         },
         "mode": "lines+markers",
         "name": "('Tochigi-ken Nikko-shi', 9206)",
         "orientation": "v",
         "showlegend": true,
         "type": "scatter",
         "visible": "legendonly",
         "x": [
          2006,
          2007,
          2008,
          2009,
          2010,
          2011,
          2012,
          2013,
          2014,
          2015,
          2016,
          2017,
          2018,
          2019,
          2020,
          2021,
          2022
         ],
         "xaxis": "x",
         "y": [
          null,
          1,
          1.056587916666139,
          0.8436333699058125,
          0.7485408249072699,
          0.7554403481822837,
          0.7061019237339783,
          0.7926237493415244,
          0.6902083775993831,
          0.9590241601549457,
          0.6644857362198404,
          0.8908397985572344,
          0.45582561431088797,
          0.5870335878775923,
          0.39961697726569867,
          0.6567831541218639,
          0.7773401901199939
         ],
         "yaxis": "y"
        },
        {
         "hovertemplate": "variable=('Chiba-ken Isumi-shi', 12238)<br>year=%{x}<br>value=%{y}<extra></extra>",
         "legendgroup": "('Chiba-ken Isumi-shi', 12238)",
         "line": {
          "color": "#FF97FF",
          "dash": "solid"
         },
         "marker": {
          "symbol": "circle"
         },
         "mode": "lines+markers",
         "name": "('Chiba-ken Isumi-shi', 12238)",
         "orientation": "v",
         "showlegend": true,
         "type": "scatter",
         "visible": "legendonly",
         "x": [
          2006,
          2007,
          2008,
          2009,
          2010,
          2011,
          2012,
          2013,
          2014,
          2015,
          2016,
          2017,
          2018,
          2019,
          2020,
          2021,
          2022
         ],
         "xaxis": "x",
         "y": [
          null,
          null,
          1,
          0.8472307965383146,
          0.6452026219181553,
          0.8021420788959746,
          0.5392897092170016,
          0.7314176348172191,
          0.5720769967387207,
          0.49416775297076515,
          0.606151070669441,
          0.32838932075776034,
          0.45159589424172447,
          0.4806245870445526,
          0.3954643215728568,
          0.6005892134061988,
          0.5195092631426664
         ],
         "yaxis": "y"
        },
        {
         "hovertemplate": "variable=('Hokkaido Muroran-shi', 1205)<br>year=%{x}<br>value=%{y}<extra></extra>",
         "legendgroup": "('Hokkaido Muroran-shi', 1205)",
         "line": {
          "color": "#FECB52",
          "dash": "solid"
         },
         "marker": {
          "symbol": "circle"
         },
         "mode": "lines+markers",
         "name": "('Hokkaido Muroran-shi', 1205)",
         "orientation": "v",
         "showlegend": true,
         "type": "scatter",
         "visible": "legendonly",
         "x": [
          2006,
          2007,
          2008,
          2009,
          2010,
          2011,
          2012,
          2013,
          2014,
          2015,
          2016,
          2017,
          2018,
          2019,
          2020,
          2021,
          2022
         ],
         "xaxis": "x",
         "y": [
          null,
          null,
          1,
          0.8694786600105552,
          0.9367414148604924,
          0.6939650752749529,
          1.0260951213726128,
          1.1741128547928035,
          0.7603728751599341,
          0.7696303097905853,
          0.7599052934500304,
          0.8087430873853125,
          1.0725996003741474,
          1.1312335029471134,
          0.8407969292633889,
          0.7382665710576514,
          0.5385199622192538
         ],
         "yaxis": "y"
        },
        {
         "hovertemplate": "variable=('Hokkaido Otaru-shi', 1203)<br>year=%{x}<br>value=%{y}<extra></extra>",
         "legendgroup": "('Hokkaido Otaru-shi', 1203)",
         "line": {
          "color": "#636efa",
          "dash": "solid"
         },
         "marker": {
          "symbol": "circle"
         },
         "mode": "lines+markers",
         "name": "('Hokkaido Otaru-shi', 1203)",
         "orientation": "v",
         "showlegend": true,
         "type": "scatter",
         "visible": "legendonly",
         "x": [
          2006,
          2007,
          2008,
          2009,
          2010,
          2011,
          2012,
          2013,
          2014,
          2015,
          2016,
          2017,
          2018,
          2019,
          2020,
          2021,
          2022
         ],
         "xaxis": "x",
         "y": [
          null,
          null,
          1,
          0.7870591148546603,
          0.7342040516125359,
          0.5524057919269195,
          0.5090148183322019,
          0.7534753312800267,
          0.646647609883112,
          0.6171677616650231,
          0.5951770728540319,
          0.7022893809660773,
          0.9179282926924681,
          0.4628490200995601,
          0.6917907757128142,
          0.7539690308658786,
          0.9105938838657947
         ],
         "yaxis": "y"
        }
       ],
       "layout": {
        "autosize": false,
        "height": 800,
        "hovermode": "closest",
        "legend": {
         "title": {
          "text": "variable"
         },
         "tracegroupgap": 0
        },
        "template": {
         "data": {
          "bar": [
           {
            "error_x": {
             "color": "#2a3f5f"
            },
            "error_y": {
             "color": "#2a3f5f"
            },
            "marker": {
             "line": {
              "color": "#E5ECF6",
              "width": 0.5
             },
             "pattern": {
              "fillmode": "overlay",
              "size": 10,
              "solidity": 0.2
             }
            },
            "type": "bar"
           }
          ],
          "barpolar": [
           {
            "marker": {
             "line": {
              "color": "#E5ECF6",
              "width": 0.5
             },
             "pattern": {
              "fillmode": "overlay",
              "size": 10,
              "solidity": 0.2
             }
            },
            "type": "barpolar"
           }
          ],
          "carpet": [
           {
            "aaxis": {
             "endlinecolor": "#2a3f5f",
             "gridcolor": "white",
             "linecolor": "white",
             "minorgridcolor": "white",
             "startlinecolor": "#2a3f5f"
            },
            "baxis": {
             "endlinecolor": "#2a3f5f",
             "gridcolor": "white",
             "linecolor": "white",
             "minorgridcolor": "white",
             "startlinecolor": "#2a3f5f"
            },
            "type": "carpet"
           }
          ],
          "choropleth": [
           {
            "colorbar": {
             "outlinewidth": 0,
             "ticks": ""
            },
            "type": "choropleth"
           }
          ],
          "contour": [
           {
            "colorbar": {
             "outlinewidth": 0,
             "ticks": ""
            },
            "colorscale": [
             [
              0,
              "#0d0887"
             ],
             [
              0.1111111111111111,
              "#46039f"
             ],
             [
              0.2222222222222222,
              "#7201a8"
             ],
             [
              0.3333333333333333,
              "#9c179e"
             ],
             [
              0.4444444444444444,
              "#bd3786"
             ],
             [
              0.5555555555555556,
              "#d8576b"
             ],
             [
              0.6666666666666666,
              "#ed7953"
             ],
             [
              0.7777777777777778,
              "#fb9f3a"
             ],
             [
              0.8888888888888888,
              "#fdca26"
             ],
             [
              1,
              "#f0f921"
             ]
            ],
            "type": "contour"
           }
          ],
          "contourcarpet": [
           {
            "colorbar": {
             "outlinewidth": 0,
             "ticks": ""
            },
            "type": "contourcarpet"
           }
          ],
          "heatmap": [
           {
            "colorbar": {
             "outlinewidth": 0,
             "ticks": ""
            },
            "colorscale": [
             [
              0,
              "#0d0887"
             ],
             [
              0.1111111111111111,
              "#46039f"
             ],
             [
              0.2222222222222222,
              "#7201a8"
             ],
             [
              0.3333333333333333,
              "#9c179e"
             ],
             [
              0.4444444444444444,
              "#bd3786"
             ],
             [
              0.5555555555555556,
              "#d8576b"
             ],
             [
              0.6666666666666666,
              "#ed7953"
             ],
             [
              0.7777777777777778,
              "#fb9f3a"
             ],
             [
              0.8888888888888888,
              "#fdca26"
             ],
             [
              1,
              "#f0f921"
             ]
            ],
            "type": "heatmap"
           }
          ],
          "heatmapgl": [
           {
            "colorbar": {
             "outlinewidth": 0,
             "ticks": ""
            },
            "colorscale": [
             [
              0,
              "#0d0887"
             ],
             [
              0.1111111111111111,
              "#46039f"
             ],
             [
              0.2222222222222222,
              "#7201a8"
             ],
             [
              0.3333333333333333,
              "#9c179e"
             ],
             [
              0.4444444444444444,
              "#bd3786"
             ],
             [
              0.5555555555555556,
              "#d8576b"
             ],
             [
              0.6666666666666666,
              "#ed7953"
             ],
             [
              0.7777777777777778,
              "#fb9f3a"
             ],
             [
              0.8888888888888888,
              "#fdca26"
             ],
             [
              1,
              "#f0f921"
             ]
            ],
            "type": "heatmapgl"
           }
          ],
          "histogram": [
           {
            "marker": {
             "pattern": {
              "fillmode": "overlay",
              "size": 10,
              "solidity": 0.2
             }
            },
            "type": "histogram"
           }
          ],
          "histogram2d": [
           {
            "colorbar": {
             "outlinewidth": 0,
             "ticks": ""
            },
            "colorscale": [
             [
              0,
              "#0d0887"
             ],
             [
              0.1111111111111111,
              "#46039f"
             ],
             [
              0.2222222222222222,
              "#7201a8"
             ],
             [
              0.3333333333333333,
              "#9c179e"
             ],
             [
              0.4444444444444444,
              "#bd3786"
             ],
             [
              0.5555555555555556,
              "#d8576b"
             ],
             [
              0.6666666666666666,
              "#ed7953"
             ],
             [
              0.7777777777777778,
              "#fb9f3a"
             ],
             [
              0.8888888888888888,
              "#fdca26"
             ],
             [
              1,
              "#f0f921"
             ]
            ],
            "type": "histogram2d"
           }
          ],
          "histogram2dcontour": [
           {
            "colorbar": {
             "outlinewidth": 0,
             "ticks": ""
            },
            "colorscale": [
             [
              0,
              "#0d0887"
             ],
             [
              0.1111111111111111,
              "#46039f"
             ],
             [
              0.2222222222222222,
              "#7201a8"
             ],
             [
              0.3333333333333333,
              "#9c179e"
             ],
             [
              0.4444444444444444,
              "#bd3786"
             ],
             [
              0.5555555555555556,
              "#d8576b"
             ],
             [
              0.6666666666666666,
              "#ed7953"
             ],
             [
              0.7777777777777778,
              "#fb9f3a"
             ],
             [
              0.8888888888888888,
              "#fdca26"
             ],
             [
              1,
              "#f0f921"
             ]
            ],
            "type": "histogram2dcontour"
           }
          ],
          "mesh3d": [
           {
            "colorbar": {
             "outlinewidth": 0,
             "ticks": ""
            },
            "type": "mesh3d"
           }
          ],
          "parcoords": [
           {
            "line": {
             "colorbar": {
              "outlinewidth": 0,
              "ticks": ""
             }
            },
            "type": "parcoords"
           }
          ],
          "pie": [
           {
            "automargin": true,
            "type": "pie"
           }
          ],
          "scatter": [
           {
            "fillpattern": {
             "fillmode": "overlay",
             "size": 10,
             "solidity": 0.2
            },
            "type": "scatter"
           }
          ],
          "scatter3d": [
           {
            "line": {
             "colorbar": {
              "outlinewidth": 0,
              "ticks": ""
             }
            },
            "marker": {
             "colorbar": {
              "outlinewidth": 0,
              "ticks": ""
             }
            },
            "type": "scatter3d"
           }
          ],
          "scattercarpet": [
           {
            "marker": {
             "colorbar": {
              "outlinewidth": 0,
              "ticks": ""
             }
            },
            "type": "scattercarpet"
           }
          ],
          "scattergeo": [
           {
            "marker": {
             "colorbar": {
              "outlinewidth": 0,
              "ticks": ""
             }
            },
            "type": "scattergeo"
           }
          ],
          "scattergl": [
           {
            "marker": {
             "colorbar": {
              "outlinewidth": 0,
              "ticks": ""
             }
            },
            "type": "scattergl"
           }
          ],
          "scattermapbox": [
           {
            "marker": {
             "colorbar": {
              "outlinewidth": 0,
              "ticks": ""
             }
            },
            "type": "scattermapbox"
           }
          ],
          "scatterpolar": [
           {
            "marker": {
             "colorbar": {
              "outlinewidth": 0,
              "ticks": ""
             }
            },
            "type": "scatterpolar"
           }
          ],
          "scatterpolargl": [
           {
            "marker": {
             "colorbar": {
              "outlinewidth": 0,
              "ticks": ""
             }
            },
            "type": "scatterpolargl"
           }
          ],
          "scatterternary": [
           {
            "marker": {
             "colorbar": {
              "outlinewidth": 0,
              "ticks": ""
             }
            },
            "type": "scatterternary"
           }
          ],
          "surface": [
           {
            "colorbar": {
             "outlinewidth": 0,
             "ticks": ""
            },
            "colorscale": [
             [
              0,
              "#0d0887"
             ],
             [
              0.1111111111111111,
              "#46039f"
             ],
             [
              0.2222222222222222,
              "#7201a8"
             ],
             [
              0.3333333333333333,
              "#9c179e"
             ],
             [
              0.4444444444444444,
              "#bd3786"
             ],
             [
              0.5555555555555556,
              "#d8576b"
             ],
             [
              0.6666666666666666,
              "#ed7953"
             ],
             [
              0.7777777777777778,
              "#fb9f3a"
             ],
             [
              0.8888888888888888,
              "#fdca26"
             ],
             [
              1,
              "#f0f921"
             ]
            ],
            "type": "surface"
           }
          ],
          "table": [
           {
            "cells": {
             "fill": {
              "color": "#EBF0F8"
             },
             "line": {
              "color": "white"
             }
            },
            "header": {
             "fill": {
              "color": "#C8D4E3"
             },
             "line": {
              "color": "white"
             }
            },
            "type": "table"
           }
          ]
         },
         "layout": {
          "annotationdefaults": {
           "arrowcolor": "#2a3f5f",
           "arrowhead": 0,
           "arrowwidth": 1
          },
          "autotypenumbers": "strict",
          "coloraxis": {
           "colorbar": {
            "outlinewidth": 0,
            "ticks": ""
           }
          },
          "colorscale": {
           "diverging": [
            [
             0,
             "#8e0152"
            ],
            [
             0.1,
             "#c51b7d"
            ],
            [
             0.2,
             "#de77ae"
            ],
            [
             0.3,
             "#f1b6da"
            ],
            [
             0.4,
             "#fde0ef"
            ],
            [
             0.5,
             "#f7f7f7"
            ],
            [
             0.6,
             "#e6f5d0"
            ],
            [
             0.7,
             "#b8e186"
            ],
            [
             0.8,
             "#7fbc41"
            ],
            [
             0.9,
             "#4d9221"
            ],
            [
             1,
             "#276419"
            ]
           ],
           "sequential": [
            [
             0,
             "#0d0887"
            ],
            [
             0.1111111111111111,
             "#46039f"
            ],
            [
             0.2222222222222222,
             "#7201a8"
            ],
            [
             0.3333333333333333,
             "#9c179e"
            ],
            [
             0.4444444444444444,
             "#bd3786"
            ],
            [
             0.5555555555555556,
             "#d8576b"
            ],
            [
             0.6666666666666666,
             "#ed7953"
            ],
            [
             0.7777777777777778,
             "#fb9f3a"
            ],
            [
             0.8888888888888888,
             "#fdca26"
            ],
            [
             1,
             "#f0f921"
            ]
           ],
           "sequentialminus": [
            [
             0,
             "#0d0887"
            ],
            [
             0.1111111111111111,
             "#46039f"
            ],
            [
             0.2222222222222222,
             "#7201a8"
            ],
            [
             0.3333333333333333,
             "#9c179e"
            ],
            [
             0.4444444444444444,
             "#bd3786"
            ],
            [
             0.5555555555555556,
             "#d8576b"
            ],
            [
             0.6666666666666666,
             "#ed7953"
            ],
            [
             0.7777777777777778,
             "#fb9f3a"
            ],
            [
             0.8888888888888888,
             "#fdca26"
            ],
            [
             1,
             "#f0f921"
            ]
           ]
          },
          "colorway": [
           "#636efa",
           "#EF553B",
           "#00cc96",
           "#ab63fa",
           "#FFA15A",
           "#19d3f3",
           "#FF6692",
           "#B6E880",
           "#FF97FF",
           "#FECB52"
          ],
          "font": {
           "color": "#2a3f5f"
          },
          "geo": {
           "bgcolor": "white",
           "lakecolor": "white",
           "landcolor": "#E5ECF6",
           "showlakes": true,
           "showland": true,
           "subunitcolor": "white"
          },
          "hoverlabel": {
           "align": "left"
          },
          "hovermode": "closest",
          "mapbox": {
           "style": "light"
          },
          "paper_bgcolor": "white",
          "plot_bgcolor": "#E5ECF6",
          "polar": {
           "angularaxis": {
            "gridcolor": "white",
            "linecolor": "white",
            "ticks": ""
           },
           "bgcolor": "#E5ECF6",
           "radialaxis": {
            "gridcolor": "white",
            "linecolor": "white",
            "ticks": ""
           }
          },
          "scene": {
           "xaxis": {
            "backgroundcolor": "#E5ECF6",
            "gridcolor": "white",
            "gridwidth": 2,
            "linecolor": "white",
            "showbackground": true,
            "ticks": "",
            "zerolinecolor": "white"
           },
           "yaxis": {
            "backgroundcolor": "#E5ECF6",
            "gridcolor": "white",
            "gridwidth": 2,
            "linecolor": "white",
            "showbackground": true,
            "ticks": "",
            "zerolinecolor": "white"
           },
           "zaxis": {
            "backgroundcolor": "#E5ECF6",
            "gridcolor": "white",
            "gridwidth": 2,
            "linecolor": "white",
            "showbackground": true,
            "ticks": "",
            "zerolinecolor": "white"
           }
          },
          "shapedefaults": {
           "line": {
            "color": "#2a3f5f"
           }
          },
          "ternary": {
           "aaxis": {
            "gridcolor": "white",
            "linecolor": "white",
            "ticks": ""
           },
           "baxis": {
            "gridcolor": "white",
            "linecolor": "white",
            "ticks": ""
           },
           "bgcolor": "#E5ECF6",
           "caxis": {
            "gridcolor": "white",
            "linecolor": "white",
            "ticks": ""
           }
          },
          "title": {
           "x": 0.05
          },
          "xaxis": {
           "automargin": true,
           "gridcolor": "white",
           "linecolor": "white",
           "ticks": "",
           "title": {
            "standoff": 15
           },
           "zerolinecolor": "white",
           "zerolinewidth": 2
          },
          "yaxis": {
           "automargin": true,
           "gridcolor": "white",
           "linecolor": "white",
           "ticks": "",
           "title": {
            "standoff": 15
           },
           "zerolinecolor": "white",
           "zerolinewidth": 2
          }
         }
        },
        "title": {
         "text": "Cumulative Price Growth for top and bottom 10 municipalities"
        },
        "width": 1600,
        "xaxis": {
         "anchor": "y",
         "domain": [
          0,
          1
         ],
         "title": {
          "text": "year"
         }
        },
        "yaxis": {
         "anchor": "x",
         "domain": [
          0,
          1
         ],
         "title": {
          "text": "value"
         }
        }
       }
      }
     },
     "metadata": {},
     "output_type": "display_data"
    }
   ],
   "source": [
    "plot_time_series(\n",
    "    plot_df,\n",
    "    \"return_growth\",\n",
    "    group_by_columns,\n",
    "    granularity_columns,\n",
    "    f\"Cumulative Price Growth for top and bottom {return_n} municipalities\",\n",
    "    visible=\"legendonly\",\n",
    ")"
   ]
  },
  {
   "cell_type": "code",
   "execution_count": 120,
   "metadata": {},
   "outputs": [
    {
     "data": {
      "application/vnd.plotly.v1+json": {
       "config": {
        "plotlyServerURL": "https://plot.ly"
       },
       "data": [
        {
         "hovertemplate": "variable=('Aichi-ken Nagakute-shi', 23238)<br>year=%{x}<br>value=%{y}<extra></extra>",
         "legendgroup": "('Aichi-ken Nagakute-shi', 23238)",
         "line": {
          "color": "#636efa",
          "dash": "solid"
         },
         "marker": {
          "symbol": "circle"
         },
         "mode": "lines+markers",
         "name": "('Aichi-ken Nagakute-shi', 23238)",
         "orientation": "v",
         "showlegend": true,
         "type": "scatter",
         "x": [
          2006,
          2007,
          2008,
          2009,
          2010,
          2011,
          2012,
          2013,
          2014,
          2015,
          2016,
          2017,
          2018,
          2019,
          2020
         ],
         "xaxis": "x",
         "y": [
          1.0803819255832932,
          1.1268341092582859,
          1.2308318668508569,
          1.2156466486999786,
          1.1453311422994001,
          1.1525333199944876,
          1.1844121890027526,
          1.22710473073038,
          1.36280877079501,
          1.4144352403646732,
          1.4044195901343715,
          1.456591328145473,
          1.4995000215733174,
          1.5632703408540973,
          1.6348626426524495
         ],
         "yaxis": "y"
        },
        {
         "hovertemplate": "variable=('Tokyo-to Chiyoda-ku', 13101)<br>year=%{x}<br>value=%{y}<extra></extra>",
         "legendgroup": "('Tokyo-to Chiyoda-ku', 13101)",
         "line": {
          "color": "#EF553B",
          "dash": "solid"
         },
         "marker": {
          "symbol": "circle"
         },
         "mode": "lines+markers",
         "name": "('Tokyo-to Chiyoda-ku', 13101)",
         "orientation": "v",
         "showlegend": true,
         "type": "scatter",
         "x": [
          2006,
          2007,
          2008,
          2009,
          2010,
          2011,
          2012,
          2013,
          2014,
          2015,
          2016,
          2017,
          2018,
          2019,
          2020
         ],
         "xaxis": "x",
         "y": [
          1.0969896970206856,
          1.2142771096626868,
          1.2980378897379397,
          1.1851493836320053,
          1.1447530163388602,
          1.2309609310312906,
          1.1560706938666845,
          1.228537316118483,
          1.478203582893975,
          1.4748145958143013,
          1.656281807449659,
          1.7579950345604767,
          1.9109276392691044,
          2.1754357615334636,
          2.1126862440246033
         ],
         "yaxis": "y"
        },
        {
         "hovertemplate": "variable=('Tokyo-to Chuo-ku', 13102)<br>year=%{x}<br>value=%{y}<extra></extra>",
         "legendgroup": "('Tokyo-to Chuo-ku', 13102)",
         "line": {
          "color": "#00cc96",
          "dash": "solid"
         },
         "marker": {
          "symbol": "circle"
         },
         "mode": "lines+markers",
         "name": "('Tokyo-to Chuo-ku', 13102)",
         "orientation": "v",
         "showlegend": true,
         "type": "scatter",
         "x": [
          2006,
          2007,
          2008,
          2009,
          2010,
          2011,
          2012,
          2013,
          2014,
          2015,
          2016,
          2017,
          2018,
          2019,
          2020
         ],
         "xaxis": "x",
         "y": [
          1.1240025771778486,
          1.270078271062457,
          1.3185648428938854,
          1.3927515349630892,
          1.256657242784291,
          1.285290421945725,
          1.33552835541579,
          1.4038987533966818,
          1.549500573495772,
          1.635394174068643,
          1.7690646506676548,
          1.9142006138541743,
          2.0590428973680095,
          2.282068503685727,
          2.3310339875073285
         ],
         "yaxis": "y"
        },
        {
         "hovertemplate": "variable=('Tokyo-to Koto-ku', 13108)<br>year=%{x}<br>value=%{y}<extra></extra>",
         "legendgroup": "('Tokyo-to Koto-ku', 13108)",
         "line": {
          "color": "#ab63fa",
          "dash": "solid"
         },
         "marker": {
          "symbol": "circle"
         },
         "mode": "lines+markers",
         "name": "('Tokyo-to Koto-ku', 13108)",
         "orientation": "v",
         "showlegend": true,
         "type": "scatter",
         "x": [
          2006,
          2007,
          2008,
          2009,
          2010,
          2011,
          2012,
          2013,
          2014,
          2015,
          2016,
          2017,
          2018,
          2019,
          2020
         ],
         "xaxis": "x",
         "y": [
          1.1032946512469874,
          1.1749635843709079,
          1.2138654733732106,
          1.2410033776474425,
          1.2133810535184337,
          1.2208166713621662,
          1.2376706084791422,
          1.2668501352236667,
          1.3497983091361727,
          1.391189160562501,
          1.479163988645564,
          1.5235978002187687,
          1.6008891257193272,
          1.6765634814177393,
          1.7103012894171168
         ],
         "yaxis": "y"
        },
        {
         "hovertemplate": "variable=('Tokyo-to Minato-ku', 13103)<br>year=%{x}<br>value=%{y}<extra></extra>",
         "legendgroup": "('Tokyo-to Minato-ku', 13103)",
         "line": {
          "color": "#FFA15A",
          "dash": "solid"
         },
         "marker": {
          "symbol": "circle"
         },
         "mode": "lines+markers",
         "name": "('Tokyo-to Minato-ku', 13103)",
         "orientation": "v",
         "showlegend": true,
         "type": "scatter",
         "x": [
          2006,
          2007,
          2008,
          2009,
          2010,
          2011,
          2012,
          2013,
          2014,
          2015,
          2016,
          2017,
          2018,
          2019,
          2020
         ],
         "xaxis": "x",
         "y": [
          1.1666716930423604,
          1.3154230093548844,
          1.4960306967175738,
          1.4395194913535108,
          1.2646732100171314,
          1.187894904583359,
          1.2419782747613326,
          1.2798787250720214,
          1.8441212559833429,
          1.5250840014044553,
          1.699469614952666,
          1.7572360129176148,
          1.8151023499853174,
          2.008138504143482,
          1.942948684508896
         ],
         "yaxis": "y"
        },
        {
         "hovertemplate": "variable=('Tokyo-to Shibuya-ku', 13113)<br>year=%{x}<br>value=%{y}<extra></extra>",
         "legendgroup": "('Tokyo-to Shibuya-ku', 13113)",
         "line": {
          "color": "#19d3f3",
          "dash": "solid"
         },
         "marker": {
          "symbol": "circle"
         },
         "mode": "lines+markers",
         "name": "('Tokyo-to Shibuya-ku', 13113)",
         "orientation": "v",
         "showlegend": true,
         "type": "scatter",
         "x": [
          2006,
          2007,
          2008,
          2009,
          2010,
          2011,
          2012,
          2013,
          2014,
          2015,
          2016,
          2017,
          2018,
          2019,
          2020
         ],
         "xaxis": "x",
         "y": [
          1.1006718679895224,
          1.1974189227825995,
          1.1890093252129137,
          1.1426184969518034,
          0.9908434191492482,
          0.9993466035043088,
          1.0688005193673777,
          1.124682189871239,
          1.2438089247152586,
          1.2294693797927088,
          1.3210955794771149,
          1.3968059509803297,
          1.5183458172792466,
          1.5783376997758942,
          1.6183294025155743
         ],
         "yaxis": "y"
        },
        {
         "hovertemplate": "variable=('Tokyo-to Shinagawa-ku', 13109)<br>year=%{x}<br>value=%{y}<extra></extra>",
         "legendgroup": "('Tokyo-to Shinagawa-ku', 13109)",
         "line": {
          "color": "#FF6692",
          "dash": "solid"
         },
         "marker": {
          "symbol": "circle"
         },
         "mode": "lines+markers",
         "name": "('Tokyo-to Shinagawa-ku', 13109)",
         "orientation": "v",
         "showlegend": true,
         "type": "scatter",
         "x": [
          2006,
          2007,
          2008,
          2009,
          2010,
          2011,
          2012,
          2013,
          2014,
          2015,
          2016,
          2017,
          2018,
          2019,
          2020
         ],
         "xaxis": "x",
         "y": [
          1.0536152731291735,
          1.0986672157977835,
          1.1615410848441596,
          1.150184251310632,
          1.0805837338532533,
          1.0931390413873117,
          1.1065263044051052,
          1.1255443176249764,
          1.2149741587285097,
          1.2136557257613338,
          1.3284570631242185,
          1.3239386344667605,
          1.4063354236556582,
          1.4946425800923673,
          1.557284119566986
         ],
         "yaxis": "y"
        },
        {
         "hovertemplate": "variable=('Tokyo-to Sumida-ku', 13107)<br>year=%{x}<br>value=%{y}<extra></extra>",
         "legendgroup": "('Tokyo-to Sumida-ku', 13107)",
         "line": {
          "color": "#B6E880",
          "dash": "solid"
         },
         "marker": {
          "symbol": "circle"
         },
         "mode": "lines+markers",
         "name": "('Tokyo-to Sumida-ku', 13107)",
         "orientation": "v",
         "showlegend": true,
         "type": "scatter",
         "x": [
          2006,
          2007,
          2008,
          2009,
          2010,
          2011,
          2012,
          2013,
          2014,
          2015,
          2016,
          2017,
          2018,
          2019,
          2020
         ],
         "xaxis": "x",
         "y": [
          1.0641956390890746,
          1.1189026000540054,
          1.154317518268276,
          1.1672182102565827,
          1.1210799016006383,
          1.1181356685693762,
          1.1303397334326415,
          1.1583341924535997,
          1.2209621730711153,
          1.268522441653773,
          1.3281153506068435,
          1.3756739295449614,
          1.4495885659398415,
          1.515023717294922,
          1.5790510787561673
         ],
         "yaxis": "y"
        },
        {
         "hovertemplate": "variable=('Tokyo-to Taito-ku', 13106)<br>year=%{x}<br>value=%{y}<extra></extra>",
         "legendgroup": "('Tokyo-to Taito-ku', 13106)",
         "line": {
          "color": "#FF97FF",
          "dash": "solid"
         },
         "marker": {
          "symbol": "circle"
         },
         "mode": "lines+markers",
         "name": "('Tokyo-to Taito-ku', 13106)",
         "orientation": "v",
         "showlegend": true,
         "type": "scatter",
         "x": [
          2006,
          2007,
          2008,
          2009,
          2010,
          2011,
          2012,
          2013,
          2014,
          2015,
          2016,
          2017,
          2018,
          2019,
          2020
         ],
         "xaxis": "x",
         "y": [
          1.075524368933073,
          1.1167752445231793,
          1.2582470573343492,
          1.1575277779102904,
          1.0948146375989813,
          1.1205732879456527,
          1.0993012335144168,
          1.1577660129166818,
          1.2172933056786597,
          1.2815665435084391,
          1.3435660733903143,
          1.4168171231998983,
          1.483109852960983,
          1.5668187438462002,
          1.6477401753709204
         ],
         "yaxis": "y"
        },
        {
         "hovertemplate": "variable=('Chiba-ken Sammu-shi', 12237)<br>year=%{x}<br>value=%{y}<extra></extra>",
         "legendgroup": "('Chiba-ken Sammu-shi', 12237)",
         "line": {
          "color": "#FECB52",
          "dash": "solid"
         },
         "marker": {
          "symbol": "circle"
         },
         "mode": "lines+markers",
         "name": "('Chiba-ken Sammu-shi', 12237)",
         "orientation": "v",
         "showlegend": true,
         "type": "scatter",
         "x": [
          2006,
          2007,
          2008,
          2009,
          2010,
          2011,
          2012,
          2013,
          2014,
          2015,
          2016,
          2017,
          2018,
          2019,
          2020
         ],
         "xaxis": "x",
         "y": [
          null,
          0.9819101676411172,
          0.9845001990441867,
          0.9684078160236809,
          0.8946104864752741,
          0.8813966624254502,
          0.8656750066534641,
          0.8646759621411593,
          0.8607254489659636,
          0.8548184699862568,
          0.8694867660694493,
          0.8851899727089504,
          0.8869730980827125,
          0.8999212633477441,
          0.888218392717975
         ],
         "yaxis": "y"
        },
        {
         "hovertemplate": "variable=('Kanagawa-ken Aikawa-machi', 14401)<br>year=%{x}<br>value=%{y}<extra></extra>",
         "legendgroup": "('Kanagawa-ken Aikawa-machi', 14401)",
         "line": {
          "color": "#636efa",
          "dash": "solid"
         },
         "marker": {
          "symbol": "circle"
         },
         "mode": "lines+markers",
         "name": "('Kanagawa-ken Aikawa-machi', 14401)",
         "orientation": "v",
         "showlegend": true,
         "type": "scatter",
         "x": [
          2006,
          2007,
          2008,
          2009,
          2010,
          2011,
          2012,
          2013,
          2014,
          2015,
          2016,
          2017,
          2018,
          2019,
          2020
         ],
         "xaxis": "x",
         "y": [
          null,
          1.0189985183410346,
          1.0211959112556888,
          0.987004217289478,
          0.8688638663529606,
          0.8731122816992537,
          0.8634058736751884,
          0.8622476789852165,
          0.8581433153816139,
          0.8549144050696041,
          0.8667527015941425,
          0.8642514731850971,
          0.8867823186710855,
          0.9033574635299593,
          0.8944807619831583
         ],
         "yaxis": "y"
        },
        {
         "hovertemplate": "variable=('Kyoto-fu Joyo-shi', 26207)<br>year=%{x}<br>value=%{y}<extra></extra>",
         "legendgroup": "('Kyoto-fu Joyo-shi', 26207)",
         "line": {
          "color": "#EF553B",
          "dash": "solid"
         },
         "marker": {
          "symbol": "circle"
         },
         "mode": "lines+markers",
         "name": "('Kyoto-fu Joyo-shi', 26207)",
         "orientation": "v",
         "showlegend": true,
         "type": "scatter",
         "x": [
          2006,
          2007,
          2008,
          2009,
          2010,
          2011,
          2012,
          2013,
          2014,
          2015,
          2016,
          2017,
          2018,
          2019,
          2020
         ],
         "xaxis": "x",
         "y": [
          null,
          0.9955584361911245,
          0.990194425536053,
          0.9652063899172739,
          0.8920862216866131,
          0.8733354836805146,
          0.861322064124916,
          0.8371725423528679,
          0.8436025811112117,
          0.827465400537616,
          0.8574881658551495,
          0.8389573449839898,
          0.8615611260062933,
          0.863795070466559,
          0.8705195389285196
         ],
         "yaxis": "y"
        },
        {
         "hovertemplate": "variable=('Nagano-ken Karuizawa-machi', 20321)<br>year=%{x}<br>value=%{y}<extra></extra>",
         "legendgroup": "('Nagano-ken Karuizawa-machi', 20321)",
         "line": {
          "color": "#00cc96",
          "dash": "solid"
         },
         "marker": {
          "symbol": "circle"
         },
         "mode": "lines+markers",
         "name": "('Nagano-ken Karuizawa-machi', 20321)",
         "orientation": "v",
         "showlegend": true,
         "type": "scatter",
         "x": [
          2006,
          2007,
          2008,
          2009,
          2010,
          2011,
          2012,
          2013,
          2014,
          2015,
          2016,
          2017,
          2018,
          2019,
          2020
         ],
         "xaxis": "x",
         "y": [
          null,
          1.0936635423272656,
          1.1296339898677878,
          1.1670010806720736,
          1.0347290736805228,
          1.0605177477430685,
          1.0567245679283739,
          1.0584640838390786,
          1.6587512261929556,
          1.1803351616401752,
          1.2954620479606467,
          1.28428462291897,
          1.3460798735877113,
          2.433867624294033,
          1.4768126930821366
         ],
         "yaxis": "y"
        },
        {
         "hovertemplate": "variable=('Niigata-ken Kashiwazaki-shi', 15205)<br>year=%{x}<br>value=%{y}<extra></extra>",
         "legendgroup": "('Niigata-ken Kashiwazaki-shi', 15205)",
         "line": {
          "color": "#ab63fa",
          "dash": "solid"
         },
         "marker": {
          "symbol": "circle"
         },
         "mode": "lines+markers",
         "name": "('Niigata-ken Kashiwazaki-shi', 15205)",
         "orientation": "v",
         "showlegend": true,
         "type": "scatter",
         "x": [
          2006,
          2007,
          2008,
          2009,
          2010,
          2011,
          2012,
          2013,
          2014,
          2015,
          2016,
          2017,
          2018,
          2019,
          2020
         ],
         "xaxis": "x",
         "y": [
          null,
          1.0084740197550244,
          0.9220561817181337,
          0.9567818473165435,
          0.8965085577295706,
          0.8977509612975112,
          0.8936974479609582,
          0.8708585597854142,
          0.8715219321931139,
          0.8664383485818098,
          0.8828015182375789,
          0.8910703308582901,
          0.8948368953439843,
          0.8943836913204485,
          0.8787883509328684
         ],
         "yaxis": "y"
        },
        {
         "hovertemplate": "variable=('Niigata-ken Yuzawa-machi', 15461)<br>year=%{x}<br>value=%{y}<extra></extra>",
         "legendgroup": "('Niigata-ken Yuzawa-machi', 15461)",
         "line": {
          "color": "#FFA15A",
          "dash": "solid"
         },
         "marker": {
          "symbol": "circle"
         },
         "mode": "lines+markers",
         "name": "('Niigata-ken Yuzawa-machi', 15461)",
         "orientation": "v",
         "showlegend": true,
         "type": "scatter",
         "x": [
          2006,
          2007,
          2008,
          2009,
          2010,
          2011,
          2012,
          2013,
          2014,
          2015,
          2016,
          2017,
          2018,
          2019,
          2020
         ],
         "xaxis": "x",
         "y": [
          null,
          1.0468642833595005,
          0.9621553254743058,
          0.9420793540322252,
          0.8903395979037543,
          0.8557146784792072,
          0.8307873384859522,
          0.875391193560869,
          0.890495591138574,
          0.8997037181124358,
          0.9122824357512077,
          0.9518229314686565,
          0.9458657161394687,
          0.9597403775752043,
          1.0019823350818893
         ],
         "yaxis": "y"
        },
        {
         "hovertemplate": "variable=('Osaka-fu Kawachinagano-shi', 27216)<br>year=%{x}<br>value=%{y}<extra></extra>",
         "legendgroup": "('Osaka-fu Kawachinagano-shi', 27216)",
         "line": {
          "color": "#19d3f3",
          "dash": "solid"
         },
         "marker": {
          "symbol": "circle"
         },
         "mode": "lines+markers",
         "name": "('Osaka-fu Kawachinagano-shi', 27216)",
         "orientation": "v",
         "showlegend": true,
         "type": "scatter",
         "x": [
          2006,
          2007,
          2008,
          2009,
          2010,
          2011,
          2012,
          2013,
          2014,
          2015,
          2016,
          2017,
          2018,
          2019,
          2020
         ],
         "xaxis": "x",
         "y": [
          null,
          0.9781086057114818,
          0.966102985977074,
          0.9338144355009339,
          0.8660478401086692,
          0.8595276791619031,
          0.8376968489096344,
          0.8218577291285457,
          0.8175433099444622,
          0.8114816122986493,
          0.8111075525349399,
          0.8097828441314414,
          0.8099656136390646,
          0.812256251151675,
          0.8084069620158979
         ],
         "yaxis": "y"
        },
        {
         "hovertemplate": "variable=('Saitama-ken Moroyama-machi', 11326)<br>year=%{x}<br>value=%{y}<extra></extra>",
         "legendgroup": "('Saitama-ken Moroyama-machi', 11326)",
         "line": {
          "color": "#FF6692",
          "dash": "solid"
         },
         "marker": {
          "symbol": "circle"
         },
         "mode": "lines+markers",
         "name": "('Saitama-ken Moroyama-machi', 11326)",
         "orientation": "v",
         "showlegend": true,
         "type": "scatter",
         "x": [
          2006,
          2007,
          2008,
          2009,
          2010,
          2011,
          2012,
          2013,
          2014,
          2015,
          2016,
          2017,
          2018,
          2019,
          2020
         ],
         "xaxis": "x",
         "y": [
          null,
          0.997683457261076,
          0.998380629338869,
          0.9809100169179971,
          0.9022839587240199,
          0.8849919764200207,
          0.8723890849399879,
          0.868017190223847,
          0.8634336974196798,
          0.8581721097356615,
          0.8599254630356579,
          0.8699785633808547,
          0.8618562001023983,
          0.8733072429366178,
          0.8754854609136463
         ],
         "yaxis": "y"
        },
        {
         "hovertemplate": "variable=('Tochigi-ken Nikko-shi', 9206)<br>year=%{x}<br>value=%{y}<extra></extra>",
         "legendgroup": "('Tochigi-ken Nikko-shi', 9206)",
         "line": {
          "color": "#B6E880",
          "dash": "solid"
         },
         "marker": {
          "symbol": "circle"
         },
         "mode": "lines+markers",
         "name": "('Tochigi-ken Nikko-shi', 9206)",
         "orientation": "v",
         "showlegend": true,
         "type": "scatter",
         "x": [
          2006,
          2007,
          2008,
          2009,
          2010,
          2011,
          2012,
          2013,
          2014,
          2015,
          2016,
          2017,
          2018,
          2019,
          2020
         ],
         "xaxis": "x",
         "y": [
          null,
          0.9987095548958164,
          0.993388727903419,
          0.9690362545917994,
          0.8922805145450781,
          0.886959155251051,
          0.8604895208911869,
          0.8623287174625807,
          0.8738104550307512,
          0.8558918943468845,
          0.8649397857391506,
          0.8699633308568436,
          0.8821219758023414,
          0.8796798789511759,
          0.8752357355719543
         ],
         "yaxis": "y"
        },
        {
         "hovertemplate": "variable=('Chiba-ken Isumi-shi', 12238)<br>year=%{x}<br>value=%{y}<extra></extra>",
         "legendgroup": "('Chiba-ken Isumi-shi', 12238)",
         "line": {
          "color": "#FF97FF",
          "dash": "solid"
         },
         "marker": {
          "symbol": "circle"
         },
         "mode": "lines+markers",
         "name": "('Chiba-ken Isumi-shi', 12238)",
         "orientation": "v",
         "showlegend": true,
         "type": "scatter",
         "x": [
          2006,
          2007,
          2008,
          2009,
          2010,
          2011,
          2012,
          2013,
          2014,
          2015,
          2016,
          2017,
          2018,
          2019,
          2020
         ],
         "xaxis": "x",
         "y": [
          null,
          null,
          0.9994509870080351,
          0.9815170304375238,
          0.9096632083655336,
          0.9013843015480151,
          0.8775036297282758,
          0.8636230044884984,
          0.8543092292336415,
          0.8547477317745173,
          0.8507100220205248,
          0.8554174458555238,
          0.8577183942703314,
          0.8588063109786878,
          0.8502637086912781
         ],
         "yaxis": "y"
        },
        {
         "hovertemplate": "variable=('Hokkaido Muroran-shi', 1205)<br>year=%{x}<br>value=%{y}<extra></extra>",
         "legendgroup": "('Hokkaido Muroran-shi', 1205)",
         "line": {
          "color": "#FECB52",
          "dash": "solid"
         },
         "marker": {
          "symbol": "circle"
         },
         "mode": "lines+markers",
         "name": "('Hokkaido Muroran-shi', 1205)",
         "orientation": "v",
         "showlegend": true,
         "type": "scatter",
         "x": [
          2006,
          2007,
          2008,
          2009,
          2010,
          2011,
          2012,
          2013,
          2014,
          2015,
          2016,
          2017,
          2018,
          2019,
          2020
         ],
         "xaxis": "x",
         "y": [
          null,
          null,
          1.0062673278265537,
          0.9854457828760602,
          0.9387067234642877,
          0.9221556350333016,
          0.909750318447294,
          0.8894381129162313,
          0.8898648967585999,
          0.8742799199091978,
          0.8750815106915977,
          0.8765393109354895,
          0.8761639393081243,
          0.9346094035037432,
          0.8918244730339941
         ],
         "yaxis": "y"
        },
        {
         "hovertemplate": "variable=('Hokkaido Otaru-shi', 1203)<br>year=%{x}<br>value=%{y}<extra></extra>",
         "legendgroup": "('Hokkaido Otaru-shi', 1203)",
         "line": {
          "color": "#636efa",
          "dash": "solid"
         },
         "marker": {
          "symbol": "circle"
         },
         "mode": "lines+markers",
         "name": "('Hokkaido Otaru-shi', 1203)",
         "orientation": "v",
         "showlegend": true,
         "type": "scatter",
         "x": [
          2006,
          2007,
          2008,
          2009,
          2010,
          2011,
          2012,
          2013,
          2014,
          2015,
          2016,
          2017,
          2018,
          2019,
          2020
         ],
         "xaxis": "x",
         "y": [
          null,
          null,
          0.9695504328155526,
          0.9213640092421009,
          0.8675114324100058,
          0.8469770070215892,
          0.841252684059397,
          0.8193133451795209,
          0.8187587507819449,
          0.8072916807368962,
          0.8073540782628555,
          0.8135961541350053,
          0.8214095481573561,
          0.825616643432104,
          0.8163392814787451
         ],
         "yaxis": "y"
        }
       ],
       "layout": {
        "autosize": false,
        "height": 800,
        "hovermode": "closest",
        "legend": {
         "title": {
          "text": "variable"
         },
         "tracegroupgap": 0
        },
        "template": {
         "data": {
          "bar": [
           {
            "error_x": {
             "color": "#2a3f5f"
            },
            "error_y": {
             "color": "#2a3f5f"
            },
            "marker": {
             "line": {
              "color": "#E5ECF6",
              "width": 0.5
             },
             "pattern": {
              "fillmode": "overlay",
              "size": 10,
              "solidity": 0.2
             }
            },
            "type": "bar"
           }
          ],
          "barpolar": [
           {
            "marker": {
             "line": {
              "color": "#E5ECF6",
              "width": 0.5
             },
             "pattern": {
              "fillmode": "overlay",
              "size": 10,
              "solidity": 0.2
             }
            },
            "type": "barpolar"
           }
          ],
          "carpet": [
           {
            "aaxis": {
             "endlinecolor": "#2a3f5f",
             "gridcolor": "white",
             "linecolor": "white",
             "minorgridcolor": "white",
             "startlinecolor": "#2a3f5f"
            },
            "baxis": {
             "endlinecolor": "#2a3f5f",
             "gridcolor": "white",
             "linecolor": "white",
             "minorgridcolor": "white",
             "startlinecolor": "#2a3f5f"
            },
            "type": "carpet"
           }
          ],
          "choropleth": [
           {
            "colorbar": {
             "outlinewidth": 0,
             "ticks": ""
            },
            "type": "choropleth"
           }
          ],
          "contour": [
           {
            "colorbar": {
             "outlinewidth": 0,
             "ticks": ""
            },
            "colorscale": [
             [
              0,
              "#0d0887"
             ],
             [
              0.1111111111111111,
              "#46039f"
             ],
             [
              0.2222222222222222,
              "#7201a8"
             ],
             [
              0.3333333333333333,
              "#9c179e"
             ],
             [
              0.4444444444444444,
              "#bd3786"
             ],
             [
              0.5555555555555556,
              "#d8576b"
             ],
             [
              0.6666666666666666,
              "#ed7953"
             ],
             [
              0.7777777777777778,
              "#fb9f3a"
             ],
             [
              0.8888888888888888,
              "#fdca26"
             ],
             [
              1,
              "#f0f921"
             ]
            ],
            "type": "contour"
           }
          ],
          "contourcarpet": [
           {
            "colorbar": {
             "outlinewidth": 0,
             "ticks": ""
            },
            "type": "contourcarpet"
           }
          ],
          "heatmap": [
           {
            "colorbar": {
             "outlinewidth": 0,
             "ticks": ""
            },
            "colorscale": [
             [
              0,
              "#0d0887"
             ],
             [
              0.1111111111111111,
              "#46039f"
             ],
             [
              0.2222222222222222,
              "#7201a8"
             ],
             [
              0.3333333333333333,
              "#9c179e"
             ],
             [
              0.4444444444444444,
              "#bd3786"
             ],
             [
              0.5555555555555556,
              "#d8576b"
             ],
             [
              0.6666666666666666,
              "#ed7953"
             ],
             [
              0.7777777777777778,
              "#fb9f3a"
             ],
             [
              0.8888888888888888,
              "#fdca26"
             ],
             [
              1,
              "#f0f921"
             ]
            ],
            "type": "heatmap"
           }
          ],
          "heatmapgl": [
           {
            "colorbar": {
             "outlinewidth": 0,
             "ticks": ""
            },
            "colorscale": [
             [
              0,
              "#0d0887"
             ],
             [
              0.1111111111111111,
              "#46039f"
             ],
             [
              0.2222222222222222,
              "#7201a8"
             ],
             [
              0.3333333333333333,
              "#9c179e"
             ],
             [
              0.4444444444444444,
              "#bd3786"
             ],
             [
              0.5555555555555556,
              "#d8576b"
             ],
             [
              0.6666666666666666,
              "#ed7953"
             ],
             [
              0.7777777777777778,
              "#fb9f3a"
             ],
             [
              0.8888888888888888,
              "#fdca26"
             ],
             [
              1,
              "#f0f921"
             ]
            ],
            "type": "heatmapgl"
           }
          ],
          "histogram": [
           {
            "marker": {
             "pattern": {
              "fillmode": "overlay",
              "size": 10,
              "solidity": 0.2
             }
            },
            "type": "histogram"
           }
          ],
          "histogram2d": [
           {
            "colorbar": {
             "outlinewidth": 0,
             "ticks": ""
            },
            "colorscale": [
             [
              0,
              "#0d0887"
             ],
             [
              0.1111111111111111,
              "#46039f"
             ],
             [
              0.2222222222222222,
              "#7201a8"
             ],
             [
              0.3333333333333333,
              "#9c179e"
             ],
             [
              0.4444444444444444,
              "#bd3786"
             ],
             [
              0.5555555555555556,
              "#d8576b"
             ],
             [
              0.6666666666666666,
              "#ed7953"
             ],
             [
              0.7777777777777778,
              "#fb9f3a"
             ],
             [
              0.8888888888888888,
              "#fdca26"
             ],
             [
              1,
              "#f0f921"
             ]
            ],
            "type": "histogram2d"
           }
          ],
          "histogram2dcontour": [
           {
            "colorbar": {
             "outlinewidth": 0,
             "ticks": ""
            },
            "colorscale": [
             [
              0,
              "#0d0887"
             ],
             [
              0.1111111111111111,
              "#46039f"
             ],
             [
              0.2222222222222222,
              "#7201a8"
             ],
             [
              0.3333333333333333,
              "#9c179e"
             ],
             [
              0.4444444444444444,
              "#bd3786"
             ],
             [
              0.5555555555555556,
              "#d8576b"
             ],
             [
              0.6666666666666666,
              "#ed7953"
             ],
             [
              0.7777777777777778,
              "#fb9f3a"
             ],
             [
              0.8888888888888888,
              "#fdca26"
             ],
             [
              1,
              "#f0f921"
             ]
            ],
            "type": "histogram2dcontour"
           }
          ],
          "mesh3d": [
           {
            "colorbar": {
             "outlinewidth": 0,
             "ticks": ""
            },
            "type": "mesh3d"
           }
          ],
          "parcoords": [
           {
            "line": {
             "colorbar": {
              "outlinewidth": 0,
              "ticks": ""
             }
            },
            "type": "parcoords"
           }
          ],
          "pie": [
           {
            "automargin": true,
            "type": "pie"
           }
          ],
          "scatter": [
           {
            "fillpattern": {
             "fillmode": "overlay",
             "size": 10,
             "solidity": 0.2
            },
            "type": "scatter"
           }
          ],
          "scatter3d": [
           {
            "line": {
             "colorbar": {
              "outlinewidth": 0,
              "ticks": ""
             }
            },
            "marker": {
             "colorbar": {
              "outlinewidth": 0,
              "ticks": ""
             }
            },
            "type": "scatter3d"
           }
          ],
          "scattercarpet": [
           {
            "marker": {
             "colorbar": {
              "outlinewidth": 0,
              "ticks": ""
             }
            },
            "type": "scattercarpet"
           }
          ],
          "scattergeo": [
           {
            "marker": {
             "colorbar": {
              "outlinewidth": 0,
              "ticks": ""
             }
            },
            "type": "scattergeo"
           }
          ],
          "scattergl": [
           {
            "marker": {
             "colorbar": {
              "outlinewidth": 0,
              "ticks": ""
             }
            },
            "type": "scattergl"
           }
          ],
          "scattermapbox": [
           {
            "marker": {
             "colorbar": {
              "outlinewidth": 0,
              "ticks": ""
             }
            },
            "type": "scattermapbox"
           }
          ],
          "scatterpolar": [
           {
            "marker": {
             "colorbar": {
              "outlinewidth": 0,
              "ticks": ""
             }
            },
            "type": "scatterpolar"
           }
          ],
          "scatterpolargl": [
           {
            "marker": {
             "colorbar": {
              "outlinewidth": 0,
              "ticks": ""
             }
            },
            "type": "scatterpolargl"
           }
          ],
          "scatterternary": [
           {
            "marker": {
             "colorbar": {
              "outlinewidth": 0,
              "ticks": ""
             }
            },
            "type": "scatterternary"
           }
          ],
          "surface": [
           {
            "colorbar": {
             "outlinewidth": 0,
             "ticks": ""
            },
            "colorscale": [
             [
              0,
              "#0d0887"
             ],
             [
              0.1111111111111111,
              "#46039f"
             ],
             [
              0.2222222222222222,
              "#7201a8"
             ],
             [
              0.3333333333333333,
              "#9c179e"
             ],
             [
              0.4444444444444444,
              "#bd3786"
             ],
             [
              0.5555555555555556,
              "#d8576b"
             ],
             [
              0.6666666666666666,
              "#ed7953"
             ],
             [
              0.7777777777777778,
              "#fb9f3a"
             ],
             [
              0.8888888888888888,
              "#fdca26"
             ],
             [
              1,
              "#f0f921"
             ]
            ],
            "type": "surface"
           }
          ],
          "table": [
           {
            "cells": {
             "fill": {
              "color": "#EBF0F8"
             },
             "line": {
              "color": "white"
             }
            },
            "header": {
             "fill": {
              "color": "#C8D4E3"
             },
             "line": {
              "color": "white"
             }
            },
            "type": "table"
           }
          ]
         },
         "layout": {
          "annotationdefaults": {
           "arrowcolor": "#2a3f5f",
           "arrowhead": 0,
           "arrowwidth": 1
          },
          "autotypenumbers": "strict",
          "coloraxis": {
           "colorbar": {
            "outlinewidth": 0,
            "ticks": ""
           }
          },
          "colorscale": {
           "diverging": [
            [
             0,
             "#8e0152"
            ],
            [
             0.1,
             "#c51b7d"
            ],
            [
             0.2,
             "#de77ae"
            ],
            [
             0.3,
             "#f1b6da"
            ],
            [
             0.4,
             "#fde0ef"
            ],
            [
             0.5,
             "#f7f7f7"
            ],
            [
             0.6,
             "#e6f5d0"
            ],
            [
             0.7,
             "#b8e186"
            ],
            [
             0.8,
             "#7fbc41"
            ],
            [
             0.9,
             "#4d9221"
            ],
            [
             1,
             "#276419"
            ]
           ],
           "sequential": [
            [
             0,
             "#0d0887"
            ],
            [
             0.1111111111111111,
             "#46039f"
            ],
            [
             0.2222222222222222,
             "#7201a8"
            ],
            [
             0.3333333333333333,
             "#9c179e"
            ],
            [
             0.4444444444444444,
             "#bd3786"
            ],
            [
             0.5555555555555556,
             "#d8576b"
            ],
            [
             0.6666666666666666,
             "#ed7953"
            ],
            [
             0.7777777777777778,
             "#fb9f3a"
            ],
            [
             0.8888888888888888,
             "#fdca26"
            ],
            [
             1,
             "#f0f921"
            ]
           ],
           "sequentialminus": [
            [
             0,
             "#0d0887"
            ],
            [
             0.1111111111111111,
             "#46039f"
            ],
            [
             0.2222222222222222,
             "#7201a8"
            ],
            [
             0.3333333333333333,
             "#9c179e"
            ],
            [
             0.4444444444444444,
             "#bd3786"
            ],
            [
             0.5555555555555556,
             "#d8576b"
            ],
            [
             0.6666666666666666,
             "#ed7953"
            ],
            [
             0.7777777777777778,
             "#fb9f3a"
            ],
            [
             0.8888888888888888,
             "#fdca26"
            ],
            [
             1,
             "#f0f921"
            ]
           ]
          },
          "colorway": [
           "#636efa",
           "#EF553B",
           "#00cc96",
           "#ab63fa",
           "#FFA15A",
           "#19d3f3",
           "#FF6692",
           "#B6E880",
           "#FF97FF",
           "#FECB52"
          ],
          "font": {
           "color": "#2a3f5f"
          },
          "geo": {
           "bgcolor": "white",
           "lakecolor": "white",
           "landcolor": "#E5ECF6",
           "showlakes": true,
           "showland": true,
           "subunitcolor": "white"
          },
          "hoverlabel": {
           "align": "left"
          },
          "hovermode": "closest",
          "mapbox": {
           "style": "light"
          },
          "paper_bgcolor": "white",
          "plot_bgcolor": "#E5ECF6",
          "polar": {
           "angularaxis": {
            "gridcolor": "white",
            "linecolor": "white",
            "ticks": ""
           },
           "bgcolor": "#E5ECF6",
           "radialaxis": {
            "gridcolor": "white",
            "linecolor": "white",
            "ticks": ""
           }
          },
          "scene": {
           "xaxis": {
            "backgroundcolor": "#E5ECF6",
            "gridcolor": "white",
            "gridwidth": 2,
            "linecolor": "white",
            "showbackground": true,
            "ticks": "",
            "zerolinecolor": "white"
           },
           "yaxis": {
            "backgroundcolor": "#E5ECF6",
            "gridcolor": "white",
            "gridwidth": 2,
            "linecolor": "white",
            "showbackground": true,
            "ticks": "",
            "zerolinecolor": "white"
           },
           "zaxis": {
            "backgroundcolor": "#E5ECF6",
            "gridcolor": "white",
            "gridwidth": 2,
            "linecolor": "white",
            "showbackground": true,
            "ticks": "",
            "zerolinecolor": "white"
           }
          },
          "shapedefaults": {
           "line": {
            "color": "#2a3f5f"
           }
          },
          "ternary": {
           "aaxis": {
            "gridcolor": "white",
            "linecolor": "white",
            "ticks": ""
           },
           "baxis": {
            "gridcolor": "white",
            "linecolor": "white",
            "ticks": ""
           },
           "bgcolor": "#E5ECF6",
           "caxis": {
            "gridcolor": "white",
            "linecolor": "white",
            "ticks": ""
           }
          },
          "title": {
           "x": 0.05
          },
          "xaxis": {
           "automargin": true,
           "gridcolor": "white",
           "linecolor": "white",
           "ticks": "",
           "title": {
            "standoff": 15
           },
           "zerolinecolor": "white",
           "zerolinewidth": 2
          },
          "yaxis": {
           "automargin": true,
           "gridcolor": "white",
           "linecolor": "white",
           "ticks": "",
           "title": {
            "standoff": 15
           },
           "zerolinecolor": "white",
           "zerolinewidth": 2
          }
         }
        },
        "title": {
         "text": "cumulative taxable_income_growth for top and bottom 10 municipalities"
        },
        "width": 1600,
        "xaxis": {
         "anchor": "y",
         "domain": [
          0,
          1
         ],
         "title": {
          "text": "year"
         }
        },
        "yaxis": {
         "anchor": "x",
         "domain": [
          0,
          1
         ],
         "title": {
          "text": "value"
         }
        }
       }
      }
     },
     "metadata": {},
     "output_type": "display_data"
    }
   ],
   "source": [
    "plot_time_series(\n",
    "    plot_df[plot_df[\"year\"] <= 2020],\n",
    "    \"factor_growth\",\n",
    "    group_by_columns,\n",
    "    granularity_columns,\n",
    "    f\"cumulative {factor_column} for top and bottom {return_n} municipalities\",\n",
    "    # visible=\"legendonly\",\n",
    ")"
   ]
  },
  {
   "cell_type": "code",
   "execution_count": 121,
   "metadata": {},
   "outputs": [
    {
     "data": {
      "application/vnd.plotly.v1+json": {
       "config": {
        "plotlyServerURL": "https://plot.ly"
       },
       "data": [
        {
         "hovertemplate": "variable=('Aichi-ken Nagakute-shi', 23238)<br>year=%{x}<br>value=%{y}<extra></extra>",
         "legendgroup": "('Aichi-ken Nagakute-shi', 23238)",
         "line": {
          "color": "#636efa",
          "dash": "solid"
         },
         "marker": {
          "symbol": "circle"
         },
         "mode": "lines+markers",
         "name": "('Aichi-ken Nagakute-shi', 23238)",
         "orientation": "v",
         "showlegend": true,
         "type": "scatter",
         "x": [
          2006,
          2007,
          2008,
          2009,
          2010,
          2011,
          2012,
          2013,
          2014,
          2015,
          2016,
          2017,
          2018,
          2019,
          2020,
          2021,
          2022
         ],
         "xaxis": "x",
         "y": [
          1,
          28,
          45,
          43,
          49,
          56,
          59,
          68,
          58,
          37,
          48,
          65,
          57,
          53,
          70,
          53,
          53
         ],
         "yaxis": "y"
        },
        {
         "hovertemplate": "variable=('Tokyo-to Chiyoda-ku', 13101)<br>year=%{x}<br>value=%{y}<extra></extra>",
         "legendgroup": "('Tokyo-to Chiyoda-ku', 13101)",
         "line": {
          "color": "#EF553B",
          "dash": "solid"
         },
         "marker": {
          "symbol": "circle"
         },
         "mode": "lines+markers",
         "name": "('Tokyo-to Chiyoda-ku', 13101)",
         "orientation": "v",
         "showlegend": true,
         "type": "scatter",
         "x": [
          2006,
          2007,
          2008,
          2009,
          2010,
          2011,
          2012,
          2013,
          2014,
          2015,
          2016,
          2017,
          2018,
          2019,
          2020,
          2021,
          2022
         ],
         "xaxis": "x",
         "y": [
          99,
          76,
          59,
          53,
          46,
          61,
          57,
          63,
          68,
          70,
          64,
          66,
          66,
          64,
          41,
          48,
          52
         ],
         "yaxis": "y"
        },
        {
         "hovertemplate": "variable=('Tokyo-to Chuo-ku', 13102)<br>year=%{x}<br>value=%{y}<extra></extra>",
         "legendgroup": "('Tokyo-to Chuo-ku', 13102)",
         "line": {
          "color": "#00cc96",
          "dash": "solid"
         },
         "marker": {
          "symbol": "circle"
         },
         "mode": "lines+markers",
         "name": "('Tokyo-to Chuo-ku', 13102)",
         "orientation": "v",
         "showlegend": true,
         "type": "scatter",
         "x": [
          2006,
          2007,
          2008,
          2009,
          2010,
          2011,
          2012,
          2013,
          2014,
          2015,
          2016,
          2017,
          2018,
          2019,
          2020,
          2021,
          2022
         ],
         "xaxis": "x",
         "y": [
          114,
          97,
          95,
          64,
          90,
          87,
          86,
          114,
          92,
          90,
          93,
          76,
          84,
          81,
          66,
          80,
          62
         ],
         "yaxis": "y"
        },
        {
         "hovertemplate": "variable=('Tokyo-to Koto-ku', 13108)<br>year=%{x}<br>value=%{y}<extra></extra>",
         "legendgroup": "('Tokyo-to Koto-ku', 13108)",
         "line": {
          "color": "#ab63fa",
          "dash": "solid"
         },
         "marker": {
          "symbol": "circle"
         },
         "mode": "lines+markers",
         "name": "('Tokyo-to Koto-ku', 13108)",
         "orientation": "v",
         "showlegend": true,
         "type": "scatter",
         "x": [
          2006,
          2007,
          2008,
          2009,
          2010,
          2011,
          2012,
          2013,
          2014,
          2015,
          2016,
          2017,
          2018,
          2019,
          2020,
          2021,
          2022
         ],
         "xaxis": "x",
         "y": [
          85,
          114,
          112,
          143,
          158,
          146,
          189,
          166,
          161,
          177,
          196,
          160,
          149,
          203,
          172,
          196,
          193
         ],
         "yaxis": "y"
        },
        {
         "hovertemplate": "variable=('Tokyo-to Minato-ku', 13103)<br>year=%{x}<br>value=%{y}<extra></extra>",
         "legendgroup": "('Tokyo-to Minato-ku', 13103)",
         "line": {
          "color": "#FFA15A",
          "dash": "solid"
         },
         "marker": {
          "symbol": "circle"
         },
         "mode": "lines+markers",
         "name": "('Tokyo-to Minato-ku', 13103)",
         "orientation": "v",
         "showlegend": true,
         "type": "scatter",
         "x": [
          2006,
          2007,
          2008,
          2009,
          2010,
          2011,
          2012,
          2013,
          2014,
          2015,
          2016,
          2017,
          2018,
          2019,
          2020,
          2021,
          2022
         ],
         "xaxis": "x",
         "y": [
          137,
          107,
          76,
          84,
          98,
          85,
          96,
          139,
          118,
          123,
          126,
          128,
          103,
          99,
          73,
          78,
          101
         ],
         "yaxis": "y"
        },
        {
         "hovertemplate": "variable=('Tokyo-to Shibuya-ku', 13113)<br>year=%{x}<br>value=%{y}<extra></extra>",
         "legendgroup": "('Tokyo-to Shibuya-ku', 13113)",
         "line": {
          "color": "#19d3f3",
          "dash": "solid"
         },
         "marker": {
          "symbol": "circle"
         },
         "mode": "lines+markers",
         "name": "('Tokyo-to Shibuya-ku', 13113)",
         "orientation": "v",
         "showlegend": true,
         "type": "scatter",
         "x": [
          2006,
          2007,
          2008,
          2009,
          2010,
          2011,
          2012,
          2013,
          2014,
          2015,
          2016,
          2017,
          2018,
          2019,
          2020,
          2021,
          2022
         ],
         "xaxis": "x",
         "y": [
          148,
          136,
          113,
          118,
          122,
          118,
          159,
          166,
          167,
          155,
          127,
          144,
          142,
          128,
          122,
          115,
          112
         ],
         "yaxis": "y"
        },
        {
         "hovertemplate": "variable=('Tokyo-to Shinagawa-ku', 13109)<br>year=%{x}<br>value=%{y}<extra></extra>",
         "legendgroup": "('Tokyo-to Shinagawa-ku', 13109)",
         "line": {
          "color": "#FF6692",
          "dash": "solid"
         },
         "marker": {
          "symbol": "circle"
         },
         "mode": "lines+markers",
         "name": "('Tokyo-to Shinagawa-ku', 13109)",
         "orientation": "v",
         "showlegend": true,
         "type": "scatter",
         "x": [
          2006,
          2007,
          2008,
          2009,
          2010,
          2011,
          2012,
          2013,
          2014,
          2015,
          2016,
          2017,
          2018,
          2019,
          2020,
          2021,
          2022
         ],
         "xaxis": "x",
         "y": [
          193,
          191,
          144,
          198,
          185,
          211,
          218,
          233,
          241,
          211,
          175,
          225,
          218,
          210,
          227,
          231,
          219
         ],
         "yaxis": "y"
        },
        {
         "hovertemplate": "variable=('Tokyo-to Sumida-ku', 13107)<br>year=%{x}<br>value=%{y}<extra></extra>",
         "legendgroup": "('Tokyo-to Sumida-ku', 13107)",
         "line": {
          "color": "#B6E880",
          "dash": "solid"
         },
         "marker": {
          "symbol": "circle"
         },
         "mode": "lines+markers",
         "name": "('Tokyo-to Sumida-ku', 13107)",
         "orientation": "v",
         "showlegend": true,
         "type": "scatter",
         "x": [
          2006,
          2007,
          2008,
          2009,
          2010,
          2011,
          2012,
          2013,
          2014,
          2015,
          2016,
          2017,
          2018,
          2019,
          2020,
          2021,
          2022
         ],
         "xaxis": "x",
         "y": [
          139,
          127,
          99,
          96,
          139,
          144,
          168,
          176,
          222,
          198,
          154,
          160,
          183,
          180,
          177,
          190,
          158
         ],
         "yaxis": "y"
        },
        {
         "hovertemplate": "variable=('Tokyo-to Taito-ku', 13106)<br>year=%{x}<br>value=%{y}<extra></extra>",
         "legendgroup": "('Tokyo-to Taito-ku', 13106)",
         "line": {
          "color": "#FF97FF",
          "dash": "solid"
         },
         "marker": {
          "symbol": "circle"
         },
         "mode": "lines+markers",
         "name": "('Tokyo-to Taito-ku', 13106)",
         "orientation": "v",
         "showlegend": true,
         "type": "scatter",
         "x": [
          2006,
          2007,
          2008,
          2009,
          2010,
          2011,
          2012,
          2013,
          2014,
          2015,
          2016,
          2017,
          2018,
          2019,
          2020,
          2021,
          2022
         ],
         "xaxis": "x",
         "y": [
          82,
          88,
          80,
          104,
          133,
          117,
          128,
          151,
          155,
          154,
          151,
          170,
          137,
          161,
          157,
          126,
          124
         ],
         "yaxis": "y"
        },
        {
         "hovertemplate": "variable=('Chiba-ken Sammu-shi', 12237)<br>year=%{x}<br>value=%{y}<extra></extra>",
         "legendgroup": "('Chiba-ken Sammu-shi', 12237)",
         "line": {
          "color": "#FECB52",
          "dash": "solid"
         },
         "marker": {
          "symbol": "circle"
         },
         "mode": "lines+markers",
         "name": "('Chiba-ken Sammu-shi', 12237)",
         "orientation": "v",
         "showlegend": true,
         "type": "scatter",
         "x": [
          2006,
          2007,
          2008,
          2009,
          2010,
          2011,
          2012,
          2013,
          2014,
          2015,
          2016,
          2017,
          2018,
          2019,
          2020,
          2021,
          2022
         ],
         "xaxis": "x",
         "y": [
          null,
          13,
          59,
          66,
          53,
          48,
          60,
          54,
          61,
          63,
          57,
          50,
          53,
          68,
          59,
          70,
          79
         ],
         "yaxis": "y"
        },
        {
         "hovertemplate": "variable=('Kanagawa-ken Aikawa-machi', 14401)<br>year=%{x}<br>value=%{y}<extra></extra>",
         "legendgroup": "('Kanagawa-ken Aikawa-machi', 14401)",
         "line": {
          "color": "#636efa",
          "dash": "solid"
         },
         "marker": {
          "symbol": "circle"
         },
         "mode": "lines+markers",
         "name": "('Kanagawa-ken Aikawa-machi', 14401)",
         "orientation": "v",
         "showlegend": true,
         "type": "scatter",
         "x": [
          2006,
          2007,
          2008,
          2009,
          2010,
          2011,
          2012,
          2013,
          2014,
          2015,
          2016,
          2017,
          2018,
          2019,
          2020,
          2021,
          2022
         ],
         "xaxis": "x",
         "y": [
          null,
          35,
          48,
          55,
          54,
          49,
          42,
          47,
          47,
          54,
          38,
          39,
          49,
          54,
          50,
          55,
          37
         ],
         "yaxis": "y"
        },
        {
         "hovertemplate": "variable=('Kyoto-fu Joyo-shi', 26207)<br>year=%{x}<br>value=%{y}<extra></extra>",
         "legendgroup": "('Kyoto-fu Joyo-shi', 26207)",
         "line": {
          "color": "#EF553B",
          "dash": "solid"
         },
         "marker": {
          "symbol": "circle"
         },
         "mode": "lines+markers",
         "name": "('Kyoto-fu Joyo-shi', 26207)",
         "orientation": "v",
         "showlegend": true,
         "type": "scatter",
         "x": [
          2006,
          2007,
          2008,
          2009,
          2010,
          2011,
          2012,
          2013,
          2014,
          2015,
          2016,
          2017,
          2018,
          2019,
          2020,
          2021,
          2022
         ],
         "xaxis": "x",
         "y": [
          null,
          74,
          119,
          88,
          116,
          95,
          89,
          119,
          107,
          126,
          105,
          93,
          101,
          105,
          101,
          107,
          74
         ],
         "yaxis": "y"
        },
        {
         "hovertemplate": "variable=('Nagano-ken Karuizawa-machi', 20321)<br>year=%{x}<br>value=%{y}<extra></extra>",
         "legendgroup": "('Nagano-ken Karuizawa-machi', 20321)",
         "line": {
          "color": "#00cc96",
          "dash": "solid"
         },
         "marker": {
          "symbol": "circle"
         },
         "mode": "lines+markers",
         "name": "('Nagano-ken Karuizawa-machi', 20321)",
         "orientation": "v",
         "showlegend": true,
         "type": "scatter",
         "x": [
          2006,
          2007,
          2008,
          2009,
          2010,
          2011,
          2012,
          2013,
          2014,
          2015,
          2016,
          2017,
          2018,
          2019,
          2020,
          2021,
          2022
         ],
         "xaxis": "x",
         "y": [
          null,
          76,
          78,
          80,
          102,
          122,
          132,
          151,
          121,
          117,
          131,
          121,
          134,
          122,
          172,
          171,
          132
         ],
         "yaxis": "y"
        },
        {
         "hovertemplate": "variable=('Niigata-ken Kashiwazaki-shi', 15205)<br>year=%{x}<br>value=%{y}<extra></extra>",
         "legendgroup": "('Niigata-ken Kashiwazaki-shi', 15205)",
         "line": {
          "color": "#ab63fa",
          "dash": "solid"
         },
         "marker": {
          "symbol": "circle"
         },
         "mode": "lines+markers",
         "name": "('Niigata-ken Kashiwazaki-shi', 15205)",
         "orientation": "v",
         "showlegend": true,
         "type": "scatter",
         "x": [
          2006,
          2007,
          2008,
          2009,
          2010,
          2011,
          2012,
          2013,
          2014,
          2015,
          2016,
          2017,
          2018,
          2019,
          2020,
          2021,
          2022
         ],
         "xaxis": "x",
         "y": [
          null,
          55,
          78,
          97,
          77,
          90,
          87,
          97,
          87,
          94,
          73,
          84,
          69,
          70,
          77,
          76,
          80
         ],
         "yaxis": "y"
        },
        {
         "hovertemplate": "variable=('Niigata-ken Yuzawa-machi', 15461)<br>year=%{x}<br>value=%{y}<extra></extra>",
         "legendgroup": "('Niigata-ken Yuzawa-machi', 15461)",
         "line": {
          "color": "#FFA15A",
          "dash": "solid"
         },
         "marker": {
          "symbol": "circle"
         },
         "mode": "lines+markers",
         "name": "('Niigata-ken Yuzawa-machi', 15461)",
         "orientation": "v",
         "showlegend": true,
         "type": "scatter",
         "x": [
          2006,
          2007,
          2008,
          2009,
          2010,
          2011,
          2012,
          2013,
          2014,
          2015,
          2016,
          2017,
          2018,
          2019,
          2020,
          2021,
          2022
         ],
         "xaxis": "x",
         "y": [
          null,
          5,
          9,
          10,
          13,
          9,
          2,
          10,
          4,
          7,
          8,
          5,
          11,
          13,
          7,
          4,
          9
         ],
         "yaxis": "y"
        },
        {
         "hovertemplate": "variable=('Osaka-fu Kawachinagano-shi', 27216)<br>year=%{x}<br>value=%{y}<extra></extra>",
         "legendgroup": "('Osaka-fu Kawachinagano-shi', 27216)",
         "line": {
          "color": "#19d3f3",
          "dash": "solid"
         },
         "marker": {
          "symbol": "circle"
         },
         "mode": "lines+markers",
         "name": "('Osaka-fu Kawachinagano-shi', 27216)",
         "orientation": "v",
         "showlegend": true,
         "type": "scatter",
         "x": [
          2006,
          2007,
          2008,
          2009,
          2010,
          2011,
          2012,
          2013,
          2014,
          2015,
          2016,
          2017,
          2018,
          2019,
          2020,
          2021,
          2022
         ],
         "xaxis": "x",
         "y": [
          null,
          110,
          151,
          140,
          175,
          129,
          132,
          136,
          136,
          126,
          141,
          148,
          134,
          104,
          142,
          125,
          85
         ],
         "yaxis": "y"
        },
        {
         "hovertemplate": "variable=('Saitama-ken Moroyama-machi', 11326)<br>year=%{x}<br>value=%{y}<extra></extra>",
         "legendgroup": "('Saitama-ken Moroyama-machi', 11326)",
         "line": {
          "color": "#FF6692",
          "dash": "solid"
         },
         "marker": {
          "symbol": "circle"
         },
         "mode": "lines+markers",
         "name": "('Saitama-ken Moroyama-machi', 11326)",
         "orientation": "v",
         "showlegend": true,
         "type": "scatter",
         "x": [
          2006,
          2007,
          2008,
          2009,
          2010,
          2011,
          2012,
          2013,
          2014,
          2015,
          2016,
          2017,
          2018,
          2019,
          2020,
          2021,
          2022
         ],
         "xaxis": "x",
         "y": [
          null,
          50,
          46,
          44,
          51,
          53,
          45,
          60,
          51,
          55,
          46,
          47,
          48,
          42,
          41,
          52,
          53
         ],
         "yaxis": "y"
        },
        {
         "hovertemplate": "variable=('Tochigi-ken Nikko-shi', 9206)<br>year=%{x}<br>value=%{y}<extra></extra>",
         "legendgroup": "('Tochigi-ken Nikko-shi', 9206)",
         "line": {
          "color": "#B6E880",
          "dash": "solid"
         },
         "marker": {
          "symbol": "circle"
         },
         "mode": "lines+markers",
         "name": "('Tochigi-ken Nikko-shi', 9206)",
         "orientation": "v",
         "showlegend": true,
         "type": "scatter",
         "x": [
          2006,
          2007,
          2008,
          2009,
          2010,
          2011,
          2012,
          2013,
          2014,
          2015,
          2016,
          2017,
          2018,
          2019,
          2020,
          2021,
          2022
         ],
         "xaxis": "x",
         "y": [
          null,
          41,
          46,
          49,
          80,
          44,
          75,
          70,
          68,
          71,
          77,
          84,
          69,
          61,
          64,
          65,
          75
         ],
         "yaxis": "y"
        },
        {
         "hovertemplate": "variable=('Chiba-ken Isumi-shi', 12238)<br>year=%{x}<br>value=%{y}<extra></extra>",
         "legendgroup": "('Chiba-ken Isumi-shi', 12238)",
         "line": {
          "color": "#FF97FF",
          "dash": "solid"
         },
         "marker": {
          "symbol": "circle"
         },
         "mode": "lines+markers",
         "name": "('Chiba-ken Isumi-shi', 12238)",
         "orientation": "v",
         "showlegend": true,
         "type": "scatter",
         "x": [
          2006,
          2007,
          2008,
          2009,
          2010,
          2011,
          2012,
          2013,
          2014,
          2015,
          2016,
          2017,
          2018,
          2019,
          2020,
          2021,
          2022
         ],
         "xaxis": "x",
         "y": [
          null,
          null,
          42,
          62,
          81,
          65,
          67,
          67,
          71,
          75,
          79,
          62,
          63,
          62,
          79,
          79,
          79
         ],
         "yaxis": "y"
        },
        {
         "hovertemplate": "variable=('Hokkaido Muroran-shi', 1205)<br>year=%{x}<br>value=%{y}<extra></extra>",
         "legendgroup": "('Hokkaido Muroran-shi', 1205)",
         "line": {
          "color": "#FECB52",
          "dash": "solid"
         },
         "marker": {
          "symbol": "circle"
         },
         "mode": "lines+markers",
         "name": "('Hokkaido Muroran-shi', 1205)",
         "orientation": "v",
         "showlegend": true,
         "type": "scatter",
         "x": [
          2006,
          2007,
          2008,
          2009,
          2010,
          2011,
          2012,
          2013,
          2014,
          2015,
          2016,
          2017,
          2018,
          2019,
          2020,
          2021,
          2022
         ],
         "xaxis": "x",
         "y": [
          null,
          null,
          70,
          79,
          70,
          88,
          91,
          78,
          87,
          114,
          92,
          104,
          64,
          89,
          117,
          150,
          127
         ],
         "yaxis": "y"
        },
        {
         "hovertemplate": "variable=('Hokkaido Otaru-shi', 1203)<br>year=%{x}<br>value=%{y}<extra></extra>",
         "legendgroup": "('Hokkaido Otaru-shi', 1203)",
         "line": {
          "color": "#636efa",
          "dash": "solid"
         },
         "marker": {
          "symbol": "circle"
         },
         "mode": "lines+markers",
         "name": "('Hokkaido Otaru-shi', 1203)",
         "orientation": "v",
         "showlegend": true,
         "type": "scatter",
         "x": [
          2006,
          2007,
          2008,
          2009,
          2010,
          2011,
          2012,
          2013,
          2014,
          2015,
          2016,
          2017,
          2018,
          2019,
          2020,
          2021,
          2022
         ],
         "xaxis": "x",
         "y": [
          null,
          null,
          119,
          115,
          104,
          131,
          123,
          126,
          123,
          127,
          131,
          123,
          152,
          99,
          180,
          184,
          169
         ],
         "yaxis": "y"
        }
       ],
       "layout": {
        "autosize": false,
        "height": 800,
        "hovermode": "closest",
        "legend": {
         "title": {
          "text": "variable"
         },
         "tracegroupgap": 0
        },
        "template": {
         "data": {
          "bar": [
           {
            "error_x": {
             "color": "#2a3f5f"
            },
            "error_y": {
             "color": "#2a3f5f"
            },
            "marker": {
             "line": {
              "color": "#E5ECF6",
              "width": 0.5
             },
             "pattern": {
              "fillmode": "overlay",
              "size": 10,
              "solidity": 0.2
             }
            },
            "type": "bar"
           }
          ],
          "barpolar": [
           {
            "marker": {
             "line": {
              "color": "#E5ECF6",
              "width": 0.5
             },
             "pattern": {
              "fillmode": "overlay",
              "size": 10,
              "solidity": 0.2
             }
            },
            "type": "barpolar"
           }
          ],
          "carpet": [
           {
            "aaxis": {
             "endlinecolor": "#2a3f5f",
             "gridcolor": "white",
             "linecolor": "white",
             "minorgridcolor": "white",
             "startlinecolor": "#2a3f5f"
            },
            "baxis": {
             "endlinecolor": "#2a3f5f",
             "gridcolor": "white",
             "linecolor": "white",
             "minorgridcolor": "white",
             "startlinecolor": "#2a3f5f"
            },
            "type": "carpet"
           }
          ],
          "choropleth": [
           {
            "colorbar": {
             "outlinewidth": 0,
             "ticks": ""
            },
            "type": "choropleth"
           }
          ],
          "contour": [
           {
            "colorbar": {
             "outlinewidth": 0,
             "ticks": ""
            },
            "colorscale": [
             [
              0,
              "#0d0887"
             ],
             [
              0.1111111111111111,
              "#46039f"
             ],
             [
              0.2222222222222222,
              "#7201a8"
             ],
             [
              0.3333333333333333,
              "#9c179e"
             ],
             [
              0.4444444444444444,
              "#bd3786"
             ],
             [
              0.5555555555555556,
              "#d8576b"
             ],
             [
              0.6666666666666666,
              "#ed7953"
             ],
             [
              0.7777777777777778,
              "#fb9f3a"
             ],
             [
              0.8888888888888888,
              "#fdca26"
             ],
             [
              1,
              "#f0f921"
             ]
            ],
            "type": "contour"
           }
          ],
          "contourcarpet": [
           {
            "colorbar": {
             "outlinewidth": 0,
             "ticks": ""
            },
            "type": "contourcarpet"
           }
          ],
          "heatmap": [
           {
            "colorbar": {
             "outlinewidth": 0,
             "ticks": ""
            },
            "colorscale": [
             [
              0,
              "#0d0887"
             ],
             [
              0.1111111111111111,
              "#46039f"
             ],
             [
              0.2222222222222222,
              "#7201a8"
             ],
             [
              0.3333333333333333,
              "#9c179e"
             ],
             [
              0.4444444444444444,
              "#bd3786"
             ],
             [
              0.5555555555555556,
              "#d8576b"
             ],
             [
              0.6666666666666666,
              "#ed7953"
             ],
             [
              0.7777777777777778,
              "#fb9f3a"
             ],
             [
              0.8888888888888888,
              "#fdca26"
             ],
             [
              1,
              "#f0f921"
             ]
            ],
            "type": "heatmap"
           }
          ],
          "heatmapgl": [
           {
            "colorbar": {
             "outlinewidth": 0,
             "ticks": ""
            },
            "colorscale": [
             [
              0,
              "#0d0887"
             ],
             [
              0.1111111111111111,
              "#46039f"
             ],
             [
              0.2222222222222222,
              "#7201a8"
             ],
             [
              0.3333333333333333,
              "#9c179e"
             ],
             [
              0.4444444444444444,
              "#bd3786"
             ],
             [
              0.5555555555555556,
              "#d8576b"
             ],
             [
              0.6666666666666666,
              "#ed7953"
             ],
             [
              0.7777777777777778,
              "#fb9f3a"
             ],
             [
              0.8888888888888888,
              "#fdca26"
             ],
             [
              1,
              "#f0f921"
             ]
            ],
            "type": "heatmapgl"
           }
          ],
          "histogram": [
           {
            "marker": {
             "pattern": {
              "fillmode": "overlay",
              "size": 10,
              "solidity": 0.2
             }
            },
            "type": "histogram"
           }
          ],
          "histogram2d": [
           {
            "colorbar": {
             "outlinewidth": 0,
             "ticks": ""
            },
            "colorscale": [
             [
              0,
              "#0d0887"
             ],
             [
              0.1111111111111111,
              "#46039f"
             ],
             [
              0.2222222222222222,
              "#7201a8"
             ],
             [
              0.3333333333333333,
              "#9c179e"
             ],
             [
              0.4444444444444444,
              "#bd3786"
             ],
             [
              0.5555555555555556,
              "#d8576b"
             ],
             [
              0.6666666666666666,
              "#ed7953"
             ],
             [
              0.7777777777777778,
              "#fb9f3a"
             ],
             [
              0.8888888888888888,
              "#fdca26"
             ],
             [
              1,
              "#f0f921"
             ]
            ],
            "type": "histogram2d"
           }
          ],
          "histogram2dcontour": [
           {
            "colorbar": {
             "outlinewidth": 0,
             "ticks": ""
            },
            "colorscale": [
             [
              0,
              "#0d0887"
             ],
             [
              0.1111111111111111,
              "#46039f"
             ],
             [
              0.2222222222222222,
              "#7201a8"
             ],
             [
              0.3333333333333333,
              "#9c179e"
             ],
             [
              0.4444444444444444,
              "#bd3786"
             ],
             [
              0.5555555555555556,
              "#d8576b"
             ],
             [
              0.6666666666666666,
              "#ed7953"
             ],
             [
              0.7777777777777778,
              "#fb9f3a"
             ],
             [
              0.8888888888888888,
              "#fdca26"
             ],
             [
              1,
              "#f0f921"
             ]
            ],
            "type": "histogram2dcontour"
           }
          ],
          "mesh3d": [
           {
            "colorbar": {
             "outlinewidth": 0,
             "ticks": ""
            },
            "type": "mesh3d"
           }
          ],
          "parcoords": [
           {
            "line": {
             "colorbar": {
              "outlinewidth": 0,
              "ticks": ""
             }
            },
            "type": "parcoords"
           }
          ],
          "pie": [
           {
            "automargin": true,
            "type": "pie"
           }
          ],
          "scatter": [
           {
            "fillpattern": {
             "fillmode": "overlay",
             "size": 10,
             "solidity": 0.2
            },
            "type": "scatter"
           }
          ],
          "scatter3d": [
           {
            "line": {
             "colorbar": {
              "outlinewidth": 0,
              "ticks": ""
             }
            },
            "marker": {
             "colorbar": {
              "outlinewidth": 0,
              "ticks": ""
             }
            },
            "type": "scatter3d"
           }
          ],
          "scattercarpet": [
           {
            "marker": {
             "colorbar": {
              "outlinewidth": 0,
              "ticks": ""
             }
            },
            "type": "scattercarpet"
           }
          ],
          "scattergeo": [
           {
            "marker": {
             "colorbar": {
              "outlinewidth": 0,
              "ticks": ""
             }
            },
            "type": "scattergeo"
           }
          ],
          "scattergl": [
           {
            "marker": {
             "colorbar": {
              "outlinewidth": 0,
              "ticks": ""
             }
            },
            "type": "scattergl"
           }
          ],
          "scattermapbox": [
           {
            "marker": {
             "colorbar": {
              "outlinewidth": 0,
              "ticks": ""
             }
            },
            "type": "scattermapbox"
           }
          ],
          "scatterpolar": [
           {
            "marker": {
             "colorbar": {
              "outlinewidth": 0,
              "ticks": ""
             }
            },
            "type": "scatterpolar"
           }
          ],
          "scatterpolargl": [
           {
            "marker": {
             "colorbar": {
              "outlinewidth": 0,
              "ticks": ""
             }
            },
            "type": "scatterpolargl"
           }
          ],
          "scatterternary": [
           {
            "marker": {
             "colorbar": {
              "outlinewidth": 0,
              "ticks": ""
             }
            },
            "type": "scatterternary"
           }
          ],
          "surface": [
           {
            "colorbar": {
             "outlinewidth": 0,
             "ticks": ""
            },
            "colorscale": [
             [
              0,
              "#0d0887"
             ],
             [
              0.1111111111111111,
              "#46039f"
             ],
             [
              0.2222222222222222,
              "#7201a8"
             ],
             [
              0.3333333333333333,
              "#9c179e"
             ],
             [
              0.4444444444444444,
              "#bd3786"
             ],
             [
              0.5555555555555556,
              "#d8576b"
             ],
             [
              0.6666666666666666,
              "#ed7953"
             ],
             [
              0.7777777777777778,
              "#fb9f3a"
             ],
             [
              0.8888888888888888,
              "#fdca26"
             ],
             [
              1,
              "#f0f921"
             ]
            ],
            "type": "surface"
           }
          ],
          "table": [
           {
            "cells": {
             "fill": {
              "color": "#EBF0F8"
             },
             "line": {
              "color": "white"
             }
            },
            "header": {
             "fill": {
              "color": "#C8D4E3"
             },
             "line": {
              "color": "white"
             }
            },
            "type": "table"
           }
          ]
         },
         "layout": {
          "annotationdefaults": {
           "arrowcolor": "#2a3f5f",
           "arrowhead": 0,
           "arrowwidth": 1
          },
          "autotypenumbers": "strict",
          "coloraxis": {
           "colorbar": {
            "outlinewidth": 0,
            "ticks": ""
           }
          },
          "colorscale": {
           "diverging": [
            [
             0,
             "#8e0152"
            ],
            [
             0.1,
             "#c51b7d"
            ],
            [
             0.2,
             "#de77ae"
            ],
            [
             0.3,
             "#f1b6da"
            ],
            [
             0.4,
             "#fde0ef"
            ],
            [
             0.5,
             "#f7f7f7"
            ],
            [
             0.6,
             "#e6f5d0"
            ],
            [
             0.7,
             "#b8e186"
            ],
            [
             0.8,
             "#7fbc41"
            ],
            [
             0.9,
             "#4d9221"
            ],
            [
             1,
             "#276419"
            ]
           ],
           "sequential": [
            [
             0,
             "#0d0887"
            ],
            [
             0.1111111111111111,
             "#46039f"
            ],
            [
             0.2222222222222222,
             "#7201a8"
            ],
            [
             0.3333333333333333,
             "#9c179e"
            ],
            [
             0.4444444444444444,
             "#bd3786"
            ],
            [
             0.5555555555555556,
             "#d8576b"
            ],
            [
             0.6666666666666666,
             "#ed7953"
            ],
            [
             0.7777777777777778,
             "#fb9f3a"
            ],
            [
             0.8888888888888888,
             "#fdca26"
            ],
            [
             1,
             "#f0f921"
            ]
           ],
           "sequentialminus": [
            [
             0,
             "#0d0887"
            ],
            [
             0.1111111111111111,
             "#46039f"
            ],
            [
             0.2222222222222222,
             "#7201a8"
            ],
            [
             0.3333333333333333,
             "#9c179e"
            ],
            [
             0.4444444444444444,
             "#bd3786"
            ],
            [
             0.5555555555555556,
             "#d8576b"
            ],
            [
             0.6666666666666666,
             "#ed7953"
            ],
            [
             0.7777777777777778,
             "#fb9f3a"
            ],
            [
             0.8888888888888888,
             "#fdca26"
            ],
            [
             1,
             "#f0f921"
            ]
           ]
          },
          "colorway": [
           "#636efa",
           "#EF553B",
           "#00cc96",
           "#ab63fa",
           "#FFA15A",
           "#19d3f3",
           "#FF6692",
           "#B6E880",
           "#FF97FF",
           "#FECB52"
          ],
          "font": {
           "color": "#2a3f5f"
          },
          "geo": {
           "bgcolor": "white",
           "lakecolor": "white",
           "landcolor": "#E5ECF6",
           "showlakes": true,
           "showland": true,
           "subunitcolor": "white"
          },
          "hoverlabel": {
           "align": "left"
          },
          "hovermode": "closest",
          "mapbox": {
           "style": "light"
          },
          "paper_bgcolor": "white",
          "plot_bgcolor": "#E5ECF6",
          "polar": {
           "angularaxis": {
            "gridcolor": "white",
            "linecolor": "white",
            "ticks": ""
           },
           "bgcolor": "#E5ECF6",
           "radialaxis": {
            "gridcolor": "white",
            "linecolor": "white",
            "ticks": ""
           }
          },
          "scene": {
           "xaxis": {
            "backgroundcolor": "#E5ECF6",
            "gridcolor": "white",
            "gridwidth": 2,
            "linecolor": "white",
            "showbackground": true,
            "ticks": "",
            "zerolinecolor": "white"
           },
           "yaxis": {
            "backgroundcolor": "#E5ECF6",
            "gridcolor": "white",
            "gridwidth": 2,
            "linecolor": "white",
            "showbackground": true,
            "ticks": "",
            "zerolinecolor": "white"
           },
           "zaxis": {
            "backgroundcolor": "#E5ECF6",
            "gridcolor": "white",
            "gridwidth": 2,
            "linecolor": "white",
            "showbackground": true,
            "ticks": "",
            "zerolinecolor": "white"
           }
          },
          "shapedefaults": {
           "line": {
            "color": "#2a3f5f"
           }
          },
          "ternary": {
           "aaxis": {
            "gridcolor": "white",
            "linecolor": "white",
            "ticks": ""
           },
           "baxis": {
            "gridcolor": "white",
            "linecolor": "white",
            "ticks": ""
           },
           "bgcolor": "#E5ECF6",
           "caxis": {
            "gridcolor": "white",
            "linecolor": "white",
            "ticks": ""
           }
          },
          "title": {
           "x": 0.05
          },
          "xaxis": {
           "automargin": true,
           "gridcolor": "white",
           "linecolor": "white",
           "ticks": "",
           "title": {
            "standoff": 15
           },
           "zerolinecolor": "white",
           "zerolinewidth": 2
          },
          "yaxis": {
           "automargin": true,
           "gridcolor": "white",
           "linecolor": "white",
           "ticks": "",
           "title": {
            "standoff": 15
           },
           "zerolinecolor": "white",
           "zerolinewidth": 2
          }
         }
        },
        "title": {
         "text": "Count for top and bottom 10 municipalities"
        },
        "width": 1600,
        "xaxis": {
         "anchor": "y",
         "domain": [
          0,
          1
         ],
         "title": {
          "text": "year"
         }
        },
        "yaxis": {
         "anchor": "x",
         "domain": [
          0,
          1
         ],
         "title": {
          "text": "value"
         }
        }
       }
      }
     },
     "metadata": {},
     "output_type": "display_data"
    }
   ],
   "source": [
    "plot_time_series(\n",
    "    plot_df,\n",
    "    \"count\",\n",
    "    group_by_columns,\n",
    "    granularity_columns,\n",
    "    f\"Count for top and bottom {return_n} municipalities\",\n",
    "    # visible=\"legendonly\",\n",
    ")"
   ]
  },
  {
   "cell_type": "code",
   "execution_count": 22,
   "metadata": {},
   "outputs": [],
   "source": [
    "# See if you can make a liquid long short equity strategy using REITs\n",
    "\n",
    "# MVP\n",
    "# Validating"
   ]
  },
  {
   "cell_type": "code",
   "execution_count": null,
   "metadata": {},
   "outputs": [],
   "source": [
    "# Notebook idea\n",
    "# Put in area\n",
    "# See Graph of all factors\n",
    "# See Graph of all prices\n",
    "\n"
   ]
  }
 ],
 "metadata": {
  "kernelspec": {
   "display_name": "venv",
   "language": "python",
   "name": "python3"
  },
  "language_info": {
   "codemirror_mode": {
    "name": "ipython",
    "version": 3
   },
   "file_extension": ".py",
   "mimetype": "text/x-python",
   "name": "python",
   "nbconvert_exporter": "python",
   "pygments_lexer": "ipython3",
   "version": "3.12.0"
  }
 },
 "nbformat": 4,
 "nbformat_minor": 2
}
