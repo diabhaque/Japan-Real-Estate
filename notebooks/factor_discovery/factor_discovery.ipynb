{
 "cells": [
  {
   "cell_type": "code",
   "execution_count": 2,
   "metadata": {},
   "outputs": [],
   "source": [
    "import warnings\n",
    "\n",
    "import pandas as pd\n",
    "\n",
    "from jre_utils.datapath import (\n",
    "    factor_data_paths,\n",
    "    get_derived_csv_path,\n",
    "    get_derived_lpa_path,\n",
    "    get_derived_plps_path,\n",
    ")\n",
    "from jre_utils.config import asset_types\n",
    "from jre_utils.visualize import plot_time_series\n",
    "from jre_utils.process import (\n",
    "    get_most_active_municipalities,\n",
    "    get_highest_growth_municipalities,\n",
    "    get_cumulative_growth,\n",
    ")\n",
    "\n",
    "warnings.filterwarnings(\"ignore\")\n",
    "pd.set_option(\"display.max_columns\", None)"
   ]
  },
  {
   "cell_type": "code",
   "execution_count": 3,
   "metadata": {},
   "outputs": [],
   "source": [
    "asset_type = \"building\"\n",
    "\n",
    "factor = \"taxable_income\"\n",
    "factor_column = \"taxable_income_growth\"\n",
    "\n",
    "metrics = {\n",
    "    \"weighted_mean\": \"unit_price_wmean\",\n",
    "    \"weighted_median\": \"unit_price_wmedian\",\n",
    "    \"mean\": \"unit_price_mean\",\n",
    "    \"median\": \"unit_price_median\",\n",
    "}\n",
    "\n",
    "dataset_paths = {\n",
    "    \"main\": get_derived_csv_path(asset_type),\n",
    "    \"lpa\": get_derived_lpa_path(),\n",
    "    \"plps\": get_derived_plps_path()\n",
    "}"
   ]
  },
  {
   "cell_type": "code",
   "execution_count": 4,
   "metadata": {},
   "outputs": [],
   "source": [
    "granularity_columns = [\"area\", \"area_code\"]\n",
    "group_by_columns = granularity_columns + [\"year\"]\n",
    "display_columns = [\"unit_price\", \"total_traded_area\", \"count\"]\n",
    "\n",
    "metric = metrics[\"weighted_median\"]\n",
    "metric_pct_chg = metric + \"_pct_chg\"\n",
    "upcoming_metric = \"upcoming_\" + metric\n",
    "upcoming_metric_pct_chg = \"upcoming_\" + metric_pct_chg"
   ]
  },
  {
   "cell_type": "code",
   "execution_count": 5,
   "metadata": {},
   "outputs": [],
   "source": [
    "core_df_path = dataset_paths[\"main\"]\n",
    "factor_path = factor_data_paths[\"processed\"][factor][\"municipality\"]\n",
    "\n",
    "df = pd.read_csv(core_df_path)\n",
    "factor_df = pd.read_csv(factor_path)\n",
    "\n",
    "# time box\n",
    "# start_year = 1975\n",
    "start_year = 1975\n",
    "end_year = 2022\n",
    "df = df[(df[\"year\"] >= start_year) & (df[\"year\"] <= end_year)]\n",
    "\n",
    "df = df.merge(factor_df, on=group_by_columns, how=\"left\")\n",
    "df = df.sort_values(by=[\"year\", \"area_code\"])\n",
    "\n",
    "# prepare metrics\n",
    "df[metric_pct_chg] = df.groupby(granularity_columns)[metric].pct_change(fill_method=\"ffill\").fillna(0) # fill na with 0 for visualizations\n",
    "\n",
    "# set up target variables\n",
    "df[upcoming_metric] = df.groupby(granularity_columns)[metric].shift(-1)\n",
    "df[upcoming_metric_pct_chg] = df.groupby(granularity_columns)[metric_pct_chg].shift(-1)"
   ]
  },
  {
   "cell_type": "code",
   "execution_count": 6,
   "metadata": {},
   "outputs": [
    {
     "data": {
      "text/html": [
       "<div>\n",
       "<style scoped>\n",
       "    .dataframe tbody tr th:only-of-type {\n",
       "        vertical-align: middle;\n",
       "    }\n",
       "\n",
       "    .dataframe tbody tr th {\n",
       "        vertical-align: top;\n",
       "    }\n",
       "\n",
       "    .dataframe thead th {\n",
       "        text-align: right;\n",
       "    }\n",
       "</style>\n",
       "<table border=\"1\" class=\"dataframe\">\n",
       "  <thead>\n",
       "    <tr style=\"text-align: right;\">\n",
       "      <th></th>\n",
       "      <th>year</th>\n",
       "      <th>area_code</th>\n",
       "      <th>area</th>\n",
       "      <th>taxable_income_growth</th>\n",
       "      <th>unit_price_wmedian_pct_chg</th>\n",
       "      <th>upcoming_unit_price_wmedian_pct_chg</th>\n",
       "    </tr>\n",
       "  </thead>\n",
       "  <tbody>\n",
       "    <tr>\n",
       "      <th>3130</th>\n",
       "      <td>2005</td>\n",
       "      <td>13101</td>\n",
       "      <td>Tokyo-to Chiyoda-ku</td>\n",
       "      <td>0.175917</td>\n",
       "      <td>0.000000</td>\n",
       "      <td>0.017399</td>\n",
       "    </tr>\n",
       "    <tr>\n",
       "      <th>3106</th>\n",
       "      <td>2006</td>\n",
       "      <td>13101</td>\n",
       "      <td>Tokyo-to Chiyoda-ku</td>\n",
       "      <td>0.096990</td>\n",
       "      <td>0.017399</td>\n",
       "      <td>0.450577</td>\n",
       "    </tr>\n",
       "    <tr>\n",
       "      <th>3050</th>\n",
       "      <td>2007</td>\n",
       "      <td>13101</td>\n",
       "      <td>Tokyo-to Chiyoda-ku</td>\n",
       "      <td>0.106918</td>\n",
       "      <td>0.450577</td>\n",
       "      <td>-0.298286</td>\n",
       "    </tr>\n",
       "    <tr>\n",
       "      <th>2993</th>\n",
       "      <td>2008</td>\n",
       "      <td>13101</td>\n",
       "      <td>Tokyo-to Chiyoda-ku</td>\n",
       "      <td>0.068980</td>\n",
       "      <td>-0.298286</td>\n",
       "      <td>-0.080213</td>\n",
       "    </tr>\n",
       "    <tr>\n",
       "      <th>2935</th>\n",
       "      <td>2009</td>\n",
       "      <td>13101</td>\n",
       "      <td>Tokyo-to Chiyoda-ku</td>\n",
       "      <td>-0.086969</td>\n",
       "      <td>-0.080213</td>\n",
       "      <td>0.250000</td>\n",
       "    </tr>\n",
       "    <tr>\n",
       "      <th>2878</th>\n",
       "      <td>2010</td>\n",
       "      <td>13101</td>\n",
       "      <td>Tokyo-to Chiyoda-ku</td>\n",
       "      <td>-0.034085</td>\n",
       "      <td>0.250000</td>\n",
       "      <td>-0.400000</td>\n",
       "    </tr>\n",
       "    <tr>\n",
       "      <th>2823</th>\n",
       "      <td>2011</td>\n",
       "      <td>13101</td>\n",
       "      <td>Tokyo-to Chiyoda-ku</td>\n",
       "      <td>0.075307</td>\n",
       "      <td>-0.400000</td>\n",
       "      <td>-0.044261</td>\n",
       "    </tr>\n",
       "    <tr>\n",
       "      <th>2766</th>\n",
       "      <td>2012</td>\n",
       "      <td>13101</td>\n",
       "      <td>Tokyo-to Chiyoda-ku</td>\n",
       "      <td>-0.060839</td>\n",
       "      <td>-0.044261</td>\n",
       "      <td>0.525820</td>\n",
       "    </tr>\n",
       "    <tr>\n",
       "      <th>2707</th>\n",
       "      <td>2013</td>\n",
       "      <td>13101</td>\n",
       "      <td>Tokyo-to Chiyoda-ku</td>\n",
       "      <td>0.062684</td>\n",
       "      <td>0.525820</td>\n",
       "      <td>0.186464</td>\n",
       "    </tr>\n",
       "    <tr>\n",
       "      <th>2649</th>\n",
       "      <td>2014</td>\n",
       "      <td>13101</td>\n",
       "      <td>Tokyo-to Chiyoda-ku</td>\n",
       "      <td>0.203222</td>\n",
       "      <td>0.186464</td>\n",
       "      <td>-0.133050</td>\n",
       "    </tr>\n",
       "    <tr>\n",
       "      <th>2592</th>\n",
       "      <td>2015</td>\n",
       "      <td>13101</td>\n",
       "      <td>Tokyo-to Chiyoda-ku</td>\n",
       "      <td>-0.002293</td>\n",
       "      <td>-0.133050</td>\n",
       "      <td>0.187606</td>\n",
       "    </tr>\n",
       "    <tr>\n",
       "      <th>2534</th>\n",
       "      <td>2016</td>\n",
       "      <td>13101</td>\n",
       "      <td>Tokyo-to Chiyoda-ku</td>\n",
       "      <td>0.123044</td>\n",
       "      <td>0.187606</td>\n",
       "      <td>0.156003</td>\n",
       "    </tr>\n",
       "    <tr>\n",
       "      <th>2476</th>\n",
       "      <td>2017</td>\n",
       "      <td>13101</td>\n",
       "      <td>Tokyo-to Chiyoda-ku</td>\n",
       "      <td>0.061411</td>\n",
       "      <td>0.156003</td>\n",
       "      <td>-0.233166</td>\n",
       "    </tr>\n",
       "    <tr>\n",
       "      <th>2419</th>\n",
       "      <td>2018</td>\n",
       "      <td>13101</td>\n",
       "      <td>Tokyo-to Chiyoda-ku</td>\n",
       "      <td>0.086993</td>\n",
       "      <td>-0.233166</td>\n",
       "      <td>0.398819</td>\n",
       "    </tr>\n",
       "    <tr>\n",
       "      <th>2361</th>\n",
       "      <td>2019</td>\n",
       "      <td>13101</td>\n",
       "      <td>Tokyo-to Chiyoda-ku</td>\n",
       "      <td>0.138419</td>\n",
       "      <td>0.398819</td>\n",
       "      <td>-0.069217</td>\n",
       "    </tr>\n",
       "    <tr>\n",
       "      <th>2302</th>\n",
       "      <td>2020</td>\n",
       "      <td>13101</td>\n",
       "      <td>Tokyo-to Chiyoda-ku</td>\n",
       "      <td>-0.028845</td>\n",
       "      <td>-0.069217</td>\n",
       "      <td>-0.078443</td>\n",
       "    </tr>\n",
       "    <tr>\n",
       "      <th>2244</th>\n",
       "      <td>2021</td>\n",
       "      <td>13101</td>\n",
       "      <td>Tokyo-to Chiyoda-ku</td>\n",
       "      <td>-0.006847</td>\n",
       "      <td>-0.078443</td>\n",
       "      <td>0.319422</td>\n",
       "    </tr>\n",
       "    <tr>\n",
       "      <th>2187</th>\n",
       "      <td>2022</td>\n",
       "      <td>13101</td>\n",
       "      <td>Tokyo-to Chiyoda-ku</td>\n",
       "      <td>NaN</td>\n",
       "      <td>0.319422</td>\n",
       "      <td>NaN</td>\n",
       "    </tr>\n",
       "  </tbody>\n",
       "</table>\n",
       "</div>"
      ],
      "text/plain": [
       "      year  area_code                 area  taxable_income_growth  \\\n",
       "3130  2005      13101  Tokyo-to Chiyoda-ku               0.175917   \n",
       "3106  2006      13101  Tokyo-to Chiyoda-ku               0.096990   \n",
       "3050  2007      13101  Tokyo-to Chiyoda-ku               0.106918   \n",
       "2993  2008      13101  Tokyo-to Chiyoda-ku               0.068980   \n",
       "2935  2009      13101  Tokyo-to Chiyoda-ku              -0.086969   \n",
       "2878  2010      13101  Tokyo-to Chiyoda-ku              -0.034085   \n",
       "2823  2011      13101  Tokyo-to Chiyoda-ku               0.075307   \n",
       "2766  2012      13101  Tokyo-to Chiyoda-ku              -0.060839   \n",
       "2707  2013      13101  Tokyo-to Chiyoda-ku               0.062684   \n",
       "2649  2014      13101  Tokyo-to Chiyoda-ku               0.203222   \n",
       "2592  2015      13101  Tokyo-to Chiyoda-ku              -0.002293   \n",
       "2534  2016      13101  Tokyo-to Chiyoda-ku               0.123044   \n",
       "2476  2017      13101  Tokyo-to Chiyoda-ku               0.061411   \n",
       "2419  2018      13101  Tokyo-to Chiyoda-ku               0.086993   \n",
       "2361  2019      13101  Tokyo-to Chiyoda-ku               0.138419   \n",
       "2302  2020      13101  Tokyo-to Chiyoda-ku              -0.028845   \n",
       "2244  2021      13101  Tokyo-to Chiyoda-ku              -0.006847   \n",
       "2187  2022      13101  Tokyo-to Chiyoda-ku                    NaN   \n",
       "\n",
       "      unit_price_wmedian_pct_chg  upcoming_unit_price_wmedian_pct_chg  \n",
       "3130                    0.000000                             0.017399  \n",
       "3106                    0.017399                             0.450577  \n",
       "3050                    0.450577                            -0.298286  \n",
       "2993                   -0.298286                            -0.080213  \n",
       "2935                   -0.080213                             0.250000  \n",
       "2878                    0.250000                            -0.400000  \n",
       "2823                   -0.400000                            -0.044261  \n",
       "2766                   -0.044261                             0.525820  \n",
       "2707                    0.525820                             0.186464  \n",
       "2649                    0.186464                            -0.133050  \n",
       "2592                   -0.133050                             0.187606  \n",
       "2534                    0.187606                             0.156003  \n",
       "2476                    0.156003                            -0.233166  \n",
       "2419                   -0.233166                             0.398819  \n",
       "2361                    0.398819                            -0.069217  \n",
       "2302                   -0.069217                            -0.078443  \n",
       "2244                   -0.078443                             0.319422  \n",
       "2187                    0.319422                                  NaN  "
      ]
     },
     "execution_count": 6,
     "metadata": {},
     "output_type": "execute_result"
    }
   ],
   "source": [
    "df[df[\"area_code\"] == 13101][[\"year\", \"area_code\", \"area\", factor_column, metric_pct_chg, upcoming_metric_pct_chg]] # Tokyo-to Chiyoda-ku"
   ]
  },
  {
   "cell_type": "code",
   "execution_count": 7,
   "metadata": {},
   "outputs": [],
   "source": [
    "comparables = [\n",
    "    13102,  # Tokyo-to Chuo-ku\n",
    "    13103,  # Tokyo-to Minato-ku\n",
    "    15461,  # Niigata-ken Yuzawa-Machi\n",
    "    20321,  # Nagano-ken Karuisawa-machi\n",
    "    5214, # Akita-ken Nikaho-shi\n",
    "]\n",
    "\n",
    "frequency_n = 500\n",
    "return_n = 10\n",
    "factor_n = 10\n",
    "\n",
    "frequency_df = get_most_active_municipalities(\n",
    "    df.copy(), n=frequency_n, keep=comparables\n",
    ")\n",
    "\n",
    "return_df = get_highest_growth_municipalities(\n",
    "    frequency_df.copy(),\n",
    "    column=metric_pct_chg,\n",
    "    cumulative_column=\"return_growth\",\n",
    "    end_year=2021,\n",
    "    n=return_n,\n",
    "    keep=comparables,\n",
    ")\n",
    "\n",
    "return_df[\"factor_growth\"] = get_cumulative_growth(return_df.copy(), factor_column)\n",
    "\n",
    "factor_growth_df = get_highest_growth_municipalities(\n",
    "    frequency_df.copy(),\n",
    "    column=factor_column,\n",
    "    cumulative_column=\"factor_growth\",\n",
    "    end_year=2021,\n",
    "    n=factor_n,\n",
    "    keep=comparables,\n",
    ")\n",
    "\n",
    "factor_growth_df[\"return_growth\"] = get_cumulative_growth(\n",
    "    factor_growth_df.copy(), metric_pct_chg\n",
    ")\n",
    "\n",
    "# Tokyo Area Codes are 13000 + n. Therefore, if area_code // 1000 == 13, it is in Tokyo\n",
    "tokyo_df = frequency_df[frequency_df[\"area_code\"] // 1000 == 13]\n",
    "tokyo_df[\"return_growth\"] = get_cumulative_growth(tokyo_df.copy(), metric_pct_chg)\n",
    "tokyo_df[\"factor_growth\"] = get_cumulative_growth(tokyo_df.copy(), factor_column)"
   ]
  },
  {
   "cell_type": "code",
   "execution_count": 8,
   "metadata": {},
   "outputs": [],
   "source": [
    "plot_df = factor_growth_df.copy()"
   ]
  },
  {
   "cell_type": "code",
   "execution_count": 9,
   "metadata": {},
   "outputs": [
    {
     "data": {
      "application/vnd.plotly.v1+json": {
       "config": {
        "plotlyServerURL": "https://plot.ly"
       },
       "data": [
        {
         "hovertemplate": "variable=('Tokyo-to Bunkyo-ku', 13105)<br>year=%{x}<br>value=%{y}<extra></extra>",
         "legendgroup": "('Tokyo-to Bunkyo-ku', 13105)",
         "line": {
          "color": "#636efa",
          "dash": "solid"
         },
         "marker": {
          "symbol": "circle"
         },
         "mode": "lines+markers",
         "name": "('Tokyo-to Bunkyo-ku', 13105)",
         "orientation": "v",
         "showlegend": true,
         "type": "scatter",
         "visible": "legendonly",
         "x": [
          2005,
          2006,
          2007,
          2008,
          2009,
          2010,
          2011,
          2012,
          2013,
          2014,
          2015,
          2016,
          2017,
          2018,
          2019,
          2020,
          2021,
          2022
         ],
         "xaxis": "x",
         "y": [
          1,
          1.1233600876768848,
          1.2876210854142514,
          0.9068677032123508,
          0.674016052606131,
          0.8236406795843222,
          0.8194616218527172,
          0.82915176013144,
          0.8280057428066567,
          0.9082232220793488,
          0.9361304596859145,
          1.176464382730701,
          0.9583170408888423,
          1.080054069070005,
          1.1634554015755056,
          0.9821376766546478,
          1.2132288946910355,
          1.4705804784133762
         ],
         "yaxis": "y"
        },
        {
         "hovertemplate": "variable=('Tokyo-to Chiyoda-ku', 13101)<br>year=%{x}<br>value=%{y}<extra></extra>",
         "legendgroup": "('Tokyo-to Chiyoda-ku', 13101)",
         "line": {
          "color": "#EF553B",
          "dash": "solid"
         },
         "marker": {
          "symbol": "circle"
         },
         "mode": "lines+markers",
         "name": "('Tokyo-to Chiyoda-ku', 13101)",
         "orientation": "v",
         "showlegend": true,
         "type": "scatter",
         "visible": "legendonly",
         "x": [
          2005,
          2006,
          2007,
          2008,
          2009,
          2010,
          2011,
          2012,
          2013,
          2014,
          2015,
          2016,
          2017,
          2018,
          2019,
          2020,
          2021,
          2022
         ],
         "xaxis": "x",
         "y": [
          1,
          1.0173985486399493,
          1.4758152218571554,
          1.0356004377763308,
          0.95253164556962,
          1.190664556962025,
          0.714398734177215,
          0.6827786573687278,
          1.0417974683544302,
          1.2360551865555673,
          1.0715981012658224,
          1.2726367935823752,
          1.4711714433195289,
          1.1281448275185684,
          1.5780704558041587,
          1.4688406513713077,
          1.3536209348909236,
          1.785996835443038
         ],
         "yaxis": "y"
        },
        {
         "hovertemplate": "variable=('Tokyo-to Chuo-ku', 13102)<br>year=%{x}<br>value=%{y}<extra></extra>",
         "legendgroup": "('Tokyo-to Chuo-ku', 13102)",
         "line": {
          "color": "#00cc96",
          "dash": "solid"
         },
         "marker": {
          "symbol": "circle"
         },
         "mode": "lines+markers",
         "name": "('Tokyo-to Chuo-ku', 13102)",
         "orientation": "v",
         "showlegend": true,
         "type": "scatter",
         "visible": "legendonly",
         "x": [
          2005,
          2006,
          2007,
          2008,
          2009,
          2010,
          2011,
          2012,
          2013,
          2014,
          2015,
          2016,
          2017,
          2018,
          2019,
          2020,
          2021,
          2022
         ],
         "xaxis": "x",
         "y": [
          1,
          1.26271436133718,
          1.645352540545838,
          1.6228134646479497,
          1.2880428507205746,
          0.8310982740616727,
          1.0326600857426864,
          0.8558431833706588,
          0.9993910249679766,
          1.053657135541314,
          1.2411242196834373,
          1.2958202256027258,
          1.70415553502847,
          1.8724770745937878,
          2.1371459770149426,
          1.7129517549920317,
          1.308720536006411,
          1.5993855237850745
         ],
         "yaxis": "y"
        },
        {
         "hovertemplate": "variable=('Tokyo-to Koto-ku', 13108)<br>year=%{x}<br>value=%{y}<extra></extra>",
         "legendgroup": "('Tokyo-to Koto-ku', 13108)",
         "line": {
          "color": "#ab63fa",
          "dash": "solid"
         },
         "marker": {
          "symbol": "circle"
         },
         "mode": "lines+markers",
         "name": "('Tokyo-to Koto-ku', 13108)",
         "orientation": "v",
         "showlegend": true,
         "type": "scatter",
         "visible": "legendonly",
         "x": [
          2005,
          2006,
          2007,
          2008,
          2009,
          2010,
          2011,
          2012,
          2013,
          2014,
          2015,
          2016,
          2017,
          2018,
          2019,
          2020,
          2021,
          2022
         ],
         "xaxis": "x",
         "y": [
          1,
          1.3977927274326167,
          1.4597422354756013,
          1.7266851338873501,
          0.8748845798707294,
          1.0077972709551655,
          0.958561675320678,
          0.8748114804555248,
          1.2598503041716338,
          1.001376547552216,
          1.3420180568380011,
          1.4766570422156753,
          1.5348312301220883,
          1.317625203359275,
          1.5108494921514308,
          1.6599221165040743,
          1.7094182825484758,
          1.4937436370954371
         ],
         "yaxis": "y"
        },
        {
         "hovertemplate": "variable=('Tokyo-to Minato-ku', 13103)<br>year=%{x}<br>value=%{y}<extra></extra>",
         "legendgroup": "('Tokyo-to Minato-ku', 13103)",
         "line": {
          "color": "#FFA15A",
          "dash": "solid"
         },
         "marker": {
          "symbol": "circle"
         },
         "mode": "lines+markers",
         "name": "('Tokyo-to Minato-ku', 13103)",
         "orientation": "v",
         "showlegend": true,
         "type": "scatter",
         "visible": "legendonly",
         "x": [
          2005,
          2006,
          2007,
          2008,
          2009,
          2010,
          2011,
          2012,
          2013,
          2014,
          2015,
          2016,
          2017,
          2018,
          2019,
          2020,
          2021,
          2022
         ],
         "xaxis": "x",
         "y": [
          1,
          1.6263581107416956,
          1.6406860849126772,
          1.7007552020505219,
          1.674686460048664,
          1.1608683631734207,
          0.8973125394872473,
          0.9039158498467282,
          1.1153451646518677,
          1.0823873904568493,
          1.468997371942401,
          1.2540264294082468,
          1.603751574507505,
          2.245115935607739,
          1.720361287533668,
          1.697345491409564,
          2.071360938383267,
          1.9359489377535755
         ],
         "yaxis": "y"
        },
        {
         "hovertemplate": "variable=('Tokyo-to Shibuya-ku', 13113)<br>year=%{x}<br>value=%{y}<extra></extra>",
         "legendgroup": "('Tokyo-to Shibuya-ku', 13113)",
         "line": {
          "color": "#19d3f3",
          "dash": "solid"
         },
         "marker": {
          "symbol": "circle"
         },
         "mode": "lines+markers",
         "name": "('Tokyo-to Shibuya-ku', 13113)",
         "orientation": "v",
         "showlegend": true,
         "type": "scatter",
         "visible": "legendonly",
         "x": [
          2005,
          2006,
          2007,
          2008,
          2009,
          2010,
          2011,
          2012,
          2013,
          2014,
          2015,
          2016,
          2017,
          2018,
          2019,
          2020,
          2021,
          2022
         ],
         "xaxis": "x",
         "y": [
          1,
          1.1910531758514755,
          1.3548663682808428,
          0.9811472590032237,
          0.6986373069578663,
          0.7767329055600855,
          0.7107302663133301,
          0.6318553570940124,
          0.7582264285128149,
          0.7696047315693344,
          0.9020063349263575,
          0.9464829217375328,
          0.9828861110351302,
          0.9551203154355137,
          1.0207863300259645,
          1.4095211487836723,
          1.4555997238013338,
          1.3329368563373867
         ],
         "yaxis": "y"
        },
        {
         "hovertemplate": "variable=('Tokyo-to Shinagawa-ku', 13109)<br>year=%{x}<br>value=%{y}<extra></extra>",
         "legendgroup": "('Tokyo-to Shinagawa-ku', 13109)",
         "line": {
          "color": "#FF6692",
          "dash": "solid"
         },
         "marker": {
          "symbol": "circle"
         },
         "mode": "lines+markers",
         "name": "('Tokyo-to Shinagawa-ku', 13109)",
         "orientation": "v",
         "showlegend": true,
         "type": "scatter",
         "visible": "legendonly",
         "x": [
          2005,
          2006,
          2007,
          2008,
          2009,
          2010,
          2011,
          2012,
          2013,
          2014,
          2015,
          2016,
          2017,
          2018,
          2019,
          2020,
          2021,
          2022
         ],
         "xaxis": "x",
         "y": [
          1,
          1.2238611284956684,
          1.296134040427331,
          1.1502890678829465,
          0.7358436793329678,
          0.9853562090252505,
          0.9168505769843103,
          0.9825532241949123,
          0.929414592704325,
          1.2165455190587775,
          1.1027929221180095,
          1.0267520129881536,
          1.103804473138114,
          1.354669126124049,
          1.2543232649296752,
          1.1149540132708222,
          1.3026997223085486,
          1.3170394281761588
         ],
         "yaxis": "y"
        },
        {
         "hovertemplate": "variable=('Tokyo-to Sumida-ku', 13107)<br>year=%{x}<br>value=%{y}<extra></extra>",
         "legendgroup": "('Tokyo-to Sumida-ku', 13107)",
         "line": {
          "color": "#B6E880",
          "dash": "solid"
         },
         "marker": {
          "symbol": "circle"
         },
         "mode": "lines+markers",
         "name": "('Tokyo-to Sumida-ku', 13107)",
         "orientation": "v",
         "showlegend": true,
         "type": "scatter",
         "visible": "legendonly",
         "x": [
          2005,
          2006,
          2007,
          2008,
          2009,
          2010,
          2011,
          2012,
          2013,
          2014,
          2015,
          2016,
          2017,
          2018,
          2019,
          2020,
          2021,
          2022
         ],
         "xaxis": "x",
         "y": [
          1,
          1.193949967320766,
          1.3404061145334247,
          1.2684098926398724,
          0.8800234672924612,
          1.0266940451745379,
          0.8876625598904859,
          0.8869125398899528,
          0.8902624234588642,
          1.0552133242071642,
          1.0861835969815863,
          1.1237953999760983,
          1.368925393566051,
          1.454359053832147,
          1.5909132952254101,
          1.3689253935660508,
          1.2886685437108447,
          1.7111567419575635
         ],
         "yaxis": "y"
        },
        {
         "hovertemplate": "variable=('Tokyo-to Taito-ku', 13106)<br>year=%{x}<br>value=%{y}<extra></extra>",
         "legendgroup": "('Tokyo-to Taito-ku', 13106)",
         "line": {
          "color": "#FF97FF",
          "dash": "solid"
         },
         "marker": {
          "symbol": "circle"
         },
         "mode": "lines+markers",
         "name": "('Tokyo-to Taito-ku', 13106)",
         "orientation": "v",
         "showlegend": true,
         "type": "scatter",
         "visible": "legendonly",
         "x": [
          2005,
          2006,
          2007,
          2008,
          2009,
          2010,
          2011,
          2012,
          2013,
          2014,
          2015,
          2016,
          2017,
          2018,
          2019,
          2020,
          2021,
          2022
         ],
         "xaxis": "x",
         "y": [
          1,
          1.14229507673243,
          1.5211863357916657,
          1.0203024598922044,
          1.0879154035143173,
          0.9018069663750041,
          0.9823024205001475,
          0.9950730050580504,
          1.0368979727657526,
          1.1257407314935222,
          1.0427957878425542,
          1.02029758704383,
          1.3704287044030898,
          1.4072807595889159,
          1.7285344010991692,
          1.507415799468736,
          1.4455772111365512,
          1.8295431629697811
         ],
         "yaxis": "y"
        },
        {
         "hovertemplate": "variable=('Aichi-ken Nagakute-shi', 23238)<br>year=%{x}<br>value=%{y}<extra></extra>",
         "legendgroup": "('Aichi-ken Nagakute-shi', 23238)",
         "line": {
          "color": "#FECB52",
          "dash": "solid"
         },
         "marker": {
          "symbol": "circle"
         },
         "mode": "lines+markers",
         "name": "('Aichi-ken Nagakute-shi', 23238)",
         "orientation": "v",
         "showlegend": true,
         "type": "scatter",
         "visible": "legendonly",
         "x": [
          2005,
          2006,
          2007,
          2008,
          2009,
          2010,
          2011,
          2012,
          2013,
          2014,
          2015,
          2016,
          2017,
          2018,
          2019,
          2020,
          2021,
          2022
         ],
         "xaxis": "x",
         "y": [
          null,
          1,
          1.1021052631578945,
          2.1689303904923594,
          1.7222565210680654,
          1.8251336272482537,
          1.5385947155337731,
          1.4943371085942698,
          1.5789473684210522,
          1.937551695616211,
          1.3243040131032164,
          1.900044228217602,
          1.8207236842105254,
          2.0108984582668783,
          1.661517153206903,
          1.7647898979630408,
          1.5789473684210518,
          1.6462320574162672
         ],
         "yaxis": "y"
        },
        {
         "hovertemplate": "variable=('Akita-ken Nikaho-shi', 5214)<br>year=%{x}<br>value=%{y}<extra></extra>",
         "legendgroup": "('Akita-ken Nikaho-shi', 5214)",
         "line": {
          "color": "#636efa",
          "dash": "solid"
         },
         "marker": {
          "symbol": "circle"
         },
         "mode": "lines+markers",
         "name": "('Akita-ken Nikaho-shi', 5214)",
         "orientation": "v",
         "showlegend": true,
         "type": "scatter",
         "visible": "legendonly",
         "x": [
          2005,
          2006,
          2007,
          2008,
          2009,
          2010,
          2011,
          2012,
          2013,
          2014,
          2015,
          2016,
          2017,
          2018,
          2019,
          2020,
          2021,
          2022
         ],
         "xaxis": "x",
         "y": [
          null,
          null,
          1,
          0.9951089662252783,
          0.48145007487770425,
          1.2570619831450098,
          0.4476508455199482,
          0.5680163769375913,
          1.2615646922774608,
          0.6583039898392263,
          1.2755916112114203,
          0.6471009501722444,
          0.35797192849925624,
          0.3254066948177144,
          0.5250458527470601,
          0.5458766280790777,
          1.0258928417272626,
          0.30051421041262905
         ],
         "yaxis": "y"
        },
        {
         "hovertemplate": "variable=('Chiba-ken Sammu-shi', 12237)<br>year=%{x}<br>value=%{y}<extra></extra>",
         "legendgroup": "('Chiba-ken Sammu-shi', 12237)",
         "line": {
          "color": "#EF553B",
          "dash": "solid"
         },
         "marker": {
          "symbol": "circle"
         },
         "mode": "lines+markers",
         "name": "('Chiba-ken Sammu-shi', 12237)",
         "orientation": "v",
         "showlegend": true,
         "type": "scatter",
         "visible": "legendonly",
         "x": [
          2005,
          2006,
          2007,
          2008,
          2009,
          2010,
          2011,
          2012,
          2013,
          2014,
          2015,
          2016,
          2017,
          2018,
          2019,
          2020,
          2021,
          2022
         ],
         "xaxis": "x",
         "y": [
          null,
          null,
          1,
          0.8630873450307572,
          1.013426186615924,
          0.7101891748401867,
          0.33441308112616236,
          0.4875371799422723,
          0.5526431581968612,
          0.5900313583099523,
          0.25785260829532736,
          0.5058418092734874,
          0.6595043706482719,
          0.36731738519002477,
          0.515433981309395,
          0.3936760741596524,
          0.30186147589782725,
          0.48541684038263666
         ],
         "yaxis": "y"
        },
        {
         "hovertemplate": "variable=('Kanagawa-ken Aikawa-machi', 14401)<br>year=%{x}<br>value=%{y}<extra></extra>",
         "legendgroup": "('Kanagawa-ken Aikawa-machi', 14401)",
         "line": {
          "color": "#00cc96",
          "dash": "solid"
         },
         "marker": {
          "symbol": "circle"
         },
         "mode": "lines+markers",
         "name": "('Kanagawa-ken Aikawa-machi', 14401)",
         "orientation": "v",
         "showlegend": true,
         "type": "scatter",
         "visible": "legendonly",
         "x": [
          2005,
          2006,
          2007,
          2008,
          2009,
          2010,
          2011,
          2012,
          2013,
          2014,
          2015,
          2016,
          2017,
          2018,
          2019,
          2020,
          2021,
          2022
         ],
         "xaxis": "x",
         "y": [
          null,
          null,
          1,
          1.3272079682279518,
          0.7879695307739183,
          0.7578712167377616,
          0.6663220079794879,
          1.2242535039609992,
          0.736515419298631,
          0.9995061074601248,
          0.781656192870201,
          0.857989037071697,
          0.7801343264289047,
          0.6163127567929326,
          0.4858041105755915,
          1.0656130939255992,
          0.6019785838273042,
          0.7084737803076468
         ],
         "yaxis": "y"
        },
        {
         "hovertemplate": "variable=('Nagano-ken Karuizawa-machi', 20321)<br>year=%{x}<br>value=%{y}<extra></extra>",
         "legendgroup": "('Nagano-ken Karuizawa-machi', 20321)",
         "line": {
          "color": "#ab63fa",
          "dash": "solid"
         },
         "marker": {
          "symbol": "circle"
         },
         "mode": "lines+markers",
         "name": "('Nagano-ken Karuizawa-machi', 20321)",
         "orientation": "v",
         "showlegend": true,
         "type": "scatter",
         "visible": "legendonly",
         "x": [
          2005,
          2006,
          2007,
          2008,
          2009,
          2010,
          2011,
          2012,
          2013,
          2014,
          2015,
          2016,
          2017,
          2018,
          2019,
          2020,
          2021,
          2022
         ],
         "xaxis": "x",
         "y": [
          null,
          null,
          1,
          0.7650728211732416,
          0.7164517837805102,
          1.082666558978697,
          1.0696944569360434,
          0.8686084100042012,
          1.0936388683886167,
          1.0920091045534064,
          0.8906400543047743,
          1.1231247133354967,
          1.1051351232855824,
          1.091524634460858,
          1.0587763349413766,
          1.2783426715845392,
          1.2385935817154188,
          1.6685290576313965
         ],
         "yaxis": "y"
        },
        {
         "hovertemplate": "variable=('Niigata-ken Kashiwazaki-shi', 15205)<br>year=%{x}<br>value=%{y}<extra></extra>",
         "legendgroup": "('Niigata-ken Kashiwazaki-shi', 15205)",
         "line": {
          "color": "#FFA15A",
          "dash": "solid"
         },
         "marker": {
          "symbol": "circle"
         },
         "mode": "lines+markers",
         "name": "('Niigata-ken Kashiwazaki-shi', 15205)",
         "orientation": "v",
         "showlegend": true,
         "type": "scatter",
         "visible": "legendonly",
         "x": [
          2005,
          2006,
          2007,
          2008,
          2009,
          2010,
          2011,
          2012,
          2013,
          2014,
          2015,
          2016,
          2017,
          2018,
          2019,
          2020,
          2021,
          2022
         ],
         "xaxis": "x",
         "y": [
          null,
          null,
          1,
          0.7289322603501934,
          0.6914156021892439,
          0.7695339010880751,
          1.0433867814985576,
          0.7413738151831455,
          0.6699138997177577,
          0.7795979808152239,
          0.6517957106836451,
          0.5025227381638706,
          0.5786012815873387,
          0.5823609958800331,
          0.6733421634520658,
          0.494282718373625,
          0.327636124876026,
          0.4259194963344966
         ],
         "yaxis": "y"
        },
        {
         "hovertemplate": "variable=('Niigata-ken Yuzawa-machi', 15461)<br>year=%{x}<br>value=%{y}<extra></extra>",
         "legendgroup": "('Niigata-ken Yuzawa-machi', 15461)",
         "line": {
          "color": "#19d3f3",
          "dash": "solid"
         },
         "marker": {
          "symbol": "circle"
         },
         "mode": "lines+markers",
         "name": "('Niigata-ken Yuzawa-machi', 15461)",
         "orientation": "v",
         "showlegend": true,
         "type": "scatter",
         "visible": "legendonly",
         "x": [
          2005,
          2006,
          2007,
          2008,
          2009,
          2010,
          2011,
          2012,
          2013,
          2014,
          2015,
          2016,
          2017,
          2018,
          2019,
          2020,
          2021,
          2022
         ],
         "xaxis": "x",
         "y": [
          null,
          null,
          1,
          0.356512233318951,
          0.6130990919595583,
          0.5543810248017043,
          0.860945325673471,
          1.1009258038674874,
          0.2514649928818204,
          0.1829362511475974,
          0.23161770065552412,
          0.5756404506528682,
          0.04317698234032288,
          0.25862476182246424,
          0.20959255151434555,
          0.04754234385241741,
          0.17487585175268322,
          0.3028147738803077
         ],
         "yaxis": "y"
        },
        {
         "hovertemplate": "variable=('Osaka-fu Kawachinagano-shi', 27216)<br>year=%{x}<br>value=%{y}<extra></extra>",
         "legendgroup": "('Osaka-fu Kawachinagano-shi', 27216)",
         "line": {
          "color": "#FF6692",
          "dash": "solid"
         },
         "marker": {
          "symbol": "circle"
         },
         "mode": "lines+markers",
         "name": "('Osaka-fu Kawachinagano-shi', 27216)",
         "orientation": "v",
         "showlegend": true,
         "type": "scatter",
         "visible": "legendonly",
         "x": [
          2005,
          2006,
          2007,
          2008,
          2009,
          2010,
          2011,
          2012,
          2013,
          2014,
          2015,
          2016,
          2017,
          2018,
          2019,
          2020,
          2021,
          2022
         ],
         "xaxis": "x",
         "y": [
          null,
          null,
          1,
          0.9321824907521579,
          0.8047325347038135,
          0.7480822895710298,
          0.7814773254556444,
          0.7457459926017262,
          0.5080116429781047,
          0.6331931228625269,
          0.6686189889025893,
          0.648474776175414,
          0.5472323905672009,
          0.5595503684799127,
          0.5833274616875108,
          0.5378762161973271,
          0.49451420518885714,
          0.6553836947849421
         ],
         "yaxis": "y"
        },
        {
         "hovertemplate": "variable=('Saitama-ken Moroyama-machi', 11326)<br>year=%{x}<br>value=%{y}<extra></extra>",
         "legendgroup": "('Saitama-ken Moroyama-machi', 11326)",
         "line": {
          "color": "#B6E880",
          "dash": "solid"
         },
         "marker": {
          "symbol": "circle"
         },
         "mode": "lines+markers",
         "name": "('Saitama-ken Moroyama-machi', 11326)",
         "orientation": "v",
         "showlegend": true,
         "type": "scatter",
         "visible": "legendonly",
         "x": [
          2005,
          2006,
          2007,
          2008,
          2009,
          2010,
          2011,
          2012,
          2013,
          2014,
          2015,
          2016,
          2017,
          2018,
          2019,
          2020,
          2021,
          2022
         ],
         "xaxis": "x",
         "y": [
          null,
          null,
          1,
          0.8514037535600709,
          0.6051024181759066,
          0.720916663472886,
          0.5778024944130216,
          0.3229330755401783,
          0.7925300340973056,
          0.6878210776802396,
          0.8062989722193953,
          0.46192771307251806,
          0.6083647094738983,
          0.621397078052458,
          0.3720965279550119,
          0.6397801749622285,
          0.4564767792833761,
          0.6615786438723243
         ],
         "yaxis": "y"
        },
        {
         "hovertemplate": "variable=('Tochigi-ken Nikko-shi', 9206)<br>year=%{x}<br>value=%{y}<extra></extra>",
         "legendgroup": "('Tochigi-ken Nikko-shi', 9206)",
         "line": {
          "color": "#FF97FF",
          "dash": "solid"
         },
         "marker": {
          "symbol": "circle"
         },
         "mode": "lines+markers",
         "name": "('Tochigi-ken Nikko-shi', 9206)",
         "orientation": "v",
         "showlegend": true,
         "type": "scatter",
         "visible": "legendonly",
         "x": [
          2005,
          2006,
          2007,
          2008,
          2009,
          2010,
          2011,
          2012,
          2013,
          2014,
          2015,
          2016,
          2017,
          2018,
          2019,
          2020,
          2021,
          2022
         ],
         "xaxis": "x",
         "y": [
          null,
          null,
          1,
          1.056587916666139,
          0.8436333699058125,
          0.7485408249072699,
          0.7554403481822837,
          0.7061019237339783,
          0.7926237493415244,
          0.6902083775993831,
          0.9590241601549457,
          0.6644857362198404,
          0.8908397985572344,
          0.45582561431088797,
          0.5870335878775923,
          0.39961697726569867,
          0.6567831541218639,
          0.7773401901199939
         ],
         "yaxis": "y"
        },
        {
         "hovertemplate": "variable=('Chiba-ken Isumi-shi', 12238)<br>year=%{x}<br>value=%{y}<extra></extra>",
         "legendgroup": "('Chiba-ken Isumi-shi', 12238)",
         "line": {
          "color": "#FECB52",
          "dash": "solid"
         },
         "marker": {
          "symbol": "circle"
         },
         "mode": "lines+markers",
         "name": "('Chiba-ken Isumi-shi', 12238)",
         "orientation": "v",
         "showlegend": true,
         "type": "scatter",
         "visible": "legendonly",
         "x": [
          2005,
          2006,
          2007,
          2008,
          2009,
          2010,
          2011,
          2012,
          2013,
          2014,
          2015,
          2016,
          2017,
          2018,
          2019,
          2020,
          2021,
          2022
         ],
         "xaxis": "x",
         "y": [
          null,
          null,
          null,
          1,
          0.8472307965383146,
          0.6452026219181553,
          0.8021420788959746,
          0.5392897092170016,
          0.7314176348172191,
          0.5720769967387207,
          0.49416775297076515,
          0.606151070669441,
          0.32838932075776034,
          0.45159589424172447,
          0.4806245870445526,
          0.3954643215728568,
          0.6005892134061988,
          0.5195092631426664
         ],
         "yaxis": "y"
        },
        {
         "hovertemplate": "variable=('Hokkaido Muroran-shi', 1205)<br>year=%{x}<br>value=%{y}<extra></extra>",
         "legendgroup": "('Hokkaido Muroran-shi', 1205)",
         "line": {
          "color": "#636efa",
          "dash": "solid"
         },
         "marker": {
          "symbol": "circle"
         },
         "mode": "lines+markers",
         "name": "('Hokkaido Muroran-shi', 1205)",
         "orientation": "v",
         "showlegend": true,
         "type": "scatter",
         "visible": "legendonly",
         "x": [
          2005,
          2006,
          2007,
          2008,
          2009,
          2010,
          2011,
          2012,
          2013,
          2014,
          2015,
          2016,
          2017,
          2018,
          2019,
          2020,
          2021,
          2022
         ],
         "xaxis": "x",
         "y": [
          null,
          null,
          null,
          1,
          0.8694786600105552,
          0.9367414148604924,
          0.6939650752749529,
          1.0260951213726128,
          1.1741128547928035,
          0.7603728751599341,
          0.7696303097905853,
          0.7599052934500304,
          0.8087430873853125,
          1.0725996003741474,
          1.1312335029471134,
          0.8407969292633889,
          0.7382665710576514,
          0.5385199622192538
         ],
         "yaxis": "y"
        },
        {
         "hovertemplate": "variable=('Hokkaido Otaru-shi', 1203)<br>year=%{x}<br>value=%{y}<extra></extra>",
         "legendgroup": "('Hokkaido Otaru-shi', 1203)",
         "line": {
          "color": "#EF553B",
          "dash": "solid"
         },
         "marker": {
          "symbol": "circle"
         },
         "mode": "lines+markers",
         "name": "('Hokkaido Otaru-shi', 1203)",
         "orientation": "v",
         "showlegend": true,
         "type": "scatter",
         "visible": "legendonly",
         "x": [
          2005,
          2006,
          2007,
          2008,
          2009,
          2010,
          2011,
          2012,
          2013,
          2014,
          2015,
          2016,
          2017,
          2018,
          2019,
          2020,
          2021,
          2022
         ],
         "xaxis": "x",
         "y": [
          null,
          null,
          null,
          1,
          0.7870591148546603,
          0.7342040516125359,
          0.5524057919269195,
          0.5090148183322019,
          0.7534753312800267,
          0.646647609883112,
          0.6171677616650231,
          0.5951770728540319,
          0.7022893809660773,
          0.9179282926924681,
          0.4628490200995601,
          0.6917907757128142,
          0.7539690308658786,
          0.9105938838657947
         ],
         "yaxis": "y"
        }
       ],
       "layout": {
        "autosize": false,
        "height": 800,
        "hovermode": "closest",
        "legend": {
         "title": {
          "text": "variable"
         },
         "tracegroupgap": 0
        },
        "template": {
         "data": {
          "bar": [
           {
            "error_x": {
             "color": "#2a3f5f"
            },
            "error_y": {
             "color": "#2a3f5f"
            },
            "marker": {
             "line": {
              "color": "#E5ECF6",
              "width": 0.5
             },
             "pattern": {
              "fillmode": "overlay",
              "size": 10,
              "solidity": 0.2
             }
            },
            "type": "bar"
           }
          ],
          "barpolar": [
           {
            "marker": {
             "line": {
              "color": "#E5ECF6",
              "width": 0.5
             },
             "pattern": {
              "fillmode": "overlay",
              "size": 10,
              "solidity": 0.2
             }
            },
            "type": "barpolar"
           }
          ],
          "carpet": [
           {
            "aaxis": {
             "endlinecolor": "#2a3f5f",
             "gridcolor": "white",
             "linecolor": "white",
             "minorgridcolor": "white",
             "startlinecolor": "#2a3f5f"
            },
            "baxis": {
             "endlinecolor": "#2a3f5f",
             "gridcolor": "white",
             "linecolor": "white",
             "minorgridcolor": "white",
             "startlinecolor": "#2a3f5f"
            },
            "type": "carpet"
           }
          ],
          "choropleth": [
           {
            "colorbar": {
             "outlinewidth": 0,
             "ticks": ""
            },
            "type": "choropleth"
           }
          ],
          "contour": [
           {
            "colorbar": {
             "outlinewidth": 0,
             "ticks": ""
            },
            "colorscale": [
             [
              0,
              "#0d0887"
             ],
             [
              0.1111111111111111,
              "#46039f"
             ],
             [
              0.2222222222222222,
              "#7201a8"
             ],
             [
              0.3333333333333333,
              "#9c179e"
             ],
             [
              0.4444444444444444,
              "#bd3786"
             ],
             [
              0.5555555555555556,
              "#d8576b"
             ],
             [
              0.6666666666666666,
              "#ed7953"
             ],
             [
              0.7777777777777778,
              "#fb9f3a"
             ],
             [
              0.8888888888888888,
              "#fdca26"
             ],
             [
              1,
              "#f0f921"
             ]
            ],
            "type": "contour"
           }
          ],
          "contourcarpet": [
           {
            "colorbar": {
             "outlinewidth": 0,
             "ticks": ""
            },
            "type": "contourcarpet"
           }
          ],
          "heatmap": [
           {
            "colorbar": {
             "outlinewidth": 0,
             "ticks": ""
            },
            "colorscale": [
             [
              0,
              "#0d0887"
             ],
             [
              0.1111111111111111,
              "#46039f"
             ],
             [
              0.2222222222222222,
              "#7201a8"
             ],
             [
              0.3333333333333333,
              "#9c179e"
             ],
             [
              0.4444444444444444,
              "#bd3786"
             ],
             [
              0.5555555555555556,
              "#d8576b"
             ],
             [
              0.6666666666666666,
              "#ed7953"
             ],
             [
              0.7777777777777778,
              "#fb9f3a"
             ],
             [
              0.8888888888888888,
              "#fdca26"
             ],
             [
              1,
              "#f0f921"
             ]
            ],
            "type": "heatmap"
           }
          ],
          "heatmapgl": [
           {
            "colorbar": {
             "outlinewidth": 0,
             "ticks": ""
            },
            "colorscale": [
             [
              0,
              "#0d0887"
             ],
             [
              0.1111111111111111,
              "#46039f"
             ],
             [
              0.2222222222222222,
              "#7201a8"
             ],
             [
              0.3333333333333333,
              "#9c179e"
             ],
             [
              0.4444444444444444,
              "#bd3786"
             ],
             [
              0.5555555555555556,
              "#d8576b"
             ],
             [
              0.6666666666666666,
              "#ed7953"
             ],
             [
              0.7777777777777778,
              "#fb9f3a"
             ],
             [
              0.8888888888888888,
              "#fdca26"
             ],
             [
              1,
              "#f0f921"
             ]
            ],
            "type": "heatmapgl"
           }
          ],
          "histogram": [
           {
            "marker": {
             "pattern": {
              "fillmode": "overlay",
              "size": 10,
              "solidity": 0.2
             }
            },
            "type": "histogram"
           }
          ],
          "histogram2d": [
           {
            "colorbar": {
             "outlinewidth": 0,
             "ticks": ""
            },
            "colorscale": [
             [
              0,
              "#0d0887"
             ],
             [
              0.1111111111111111,
              "#46039f"
             ],
             [
              0.2222222222222222,
              "#7201a8"
             ],
             [
              0.3333333333333333,
              "#9c179e"
             ],
             [
              0.4444444444444444,
              "#bd3786"
             ],
             [
              0.5555555555555556,
              "#d8576b"
             ],
             [
              0.6666666666666666,
              "#ed7953"
             ],
             [
              0.7777777777777778,
              "#fb9f3a"
             ],
             [
              0.8888888888888888,
              "#fdca26"
             ],
             [
              1,
              "#f0f921"
             ]
            ],
            "type": "histogram2d"
           }
          ],
          "histogram2dcontour": [
           {
            "colorbar": {
             "outlinewidth": 0,
             "ticks": ""
            },
            "colorscale": [
             [
              0,
              "#0d0887"
             ],
             [
              0.1111111111111111,
              "#46039f"
             ],
             [
              0.2222222222222222,
              "#7201a8"
             ],
             [
              0.3333333333333333,
              "#9c179e"
             ],
             [
              0.4444444444444444,
              "#bd3786"
             ],
             [
              0.5555555555555556,
              "#d8576b"
             ],
             [
              0.6666666666666666,
              "#ed7953"
             ],
             [
              0.7777777777777778,
              "#fb9f3a"
             ],
             [
              0.8888888888888888,
              "#fdca26"
             ],
             [
              1,
              "#f0f921"
             ]
            ],
            "type": "histogram2dcontour"
           }
          ],
          "mesh3d": [
           {
            "colorbar": {
             "outlinewidth": 0,
             "ticks": ""
            },
            "type": "mesh3d"
           }
          ],
          "parcoords": [
           {
            "line": {
             "colorbar": {
              "outlinewidth": 0,
              "ticks": ""
             }
            },
            "type": "parcoords"
           }
          ],
          "pie": [
           {
            "automargin": true,
            "type": "pie"
           }
          ],
          "scatter": [
           {
            "fillpattern": {
             "fillmode": "overlay",
             "size": 10,
             "solidity": 0.2
            },
            "type": "scatter"
           }
          ],
          "scatter3d": [
           {
            "line": {
             "colorbar": {
              "outlinewidth": 0,
              "ticks": ""
             }
            },
            "marker": {
             "colorbar": {
              "outlinewidth": 0,
              "ticks": ""
             }
            },
            "type": "scatter3d"
           }
          ],
          "scattercarpet": [
           {
            "marker": {
             "colorbar": {
              "outlinewidth": 0,
              "ticks": ""
             }
            },
            "type": "scattercarpet"
           }
          ],
          "scattergeo": [
           {
            "marker": {
             "colorbar": {
              "outlinewidth": 0,
              "ticks": ""
             }
            },
            "type": "scattergeo"
           }
          ],
          "scattergl": [
           {
            "marker": {
             "colorbar": {
              "outlinewidth": 0,
              "ticks": ""
             }
            },
            "type": "scattergl"
           }
          ],
          "scattermapbox": [
           {
            "marker": {
             "colorbar": {
              "outlinewidth": 0,
              "ticks": ""
             }
            },
            "type": "scattermapbox"
           }
          ],
          "scatterpolar": [
           {
            "marker": {
             "colorbar": {
              "outlinewidth": 0,
              "ticks": ""
             }
            },
            "type": "scatterpolar"
           }
          ],
          "scatterpolargl": [
           {
            "marker": {
             "colorbar": {
              "outlinewidth": 0,
              "ticks": ""
             }
            },
            "type": "scatterpolargl"
           }
          ],
          "scatterternary": [
           {
            "marker": {
             "colorbar": {
              "outlinewidth": 0,
              "ticks": ""
             }
            },
            "type": "scatterternary"
           }
          ],
          "surface": [
           {
            "colorbar": {
             "outlinewidth": 0,
             "ticks": ""
            },
            "colorscale": [
             [
              0,
              "#0d0887"
             ],
             [
              0.1111111111111111,
              "#46039f"
             ],
             [
              0.2222222222222222,
              "#7201a8"
             ],
             [
              0.3333333333333333,
              "#9c179e"
             ],
             [
              0.4444444444444444,
              "#bd3786"
             ],
             [
              0.5555555555555556,
              "#d8576b"
             ],
             [
              0.6666666666666666,
              "#ed7953"
             ],
             [
              0.7777777777777778,
              "#fb9f3a"
             ],
             [
              0.8888888888888888,
              "#fdca26"
             ],
             [
              1,
              "#f0f921"
             ]
            ],
            "type": "surface"
           }
          ],
          "table": [
           {
            "cells": {
             "fill": {
              "color": "#EBF0F8"
             },
             "line": {
              "color": "white"
             }
            },
            "header": {
             "fill": {
              "color": "#C8D4E3"
             },
             "line": {
              "color": "white"
             }
            },
            "type": "table"
           }
          ]
         },
         "layout": {
          "annotationdefaults": {
           "arrowcolor": "#2a3f5f",
           "arrowhead": 0,
           "arrowwidth": 1
          },
          "autotypenumbers": "strict",
          "coloraxis": {
           "colorbar": {
            "outlinewidth": 0,
            "ticks": ""
           }
          },
          "colorscale": {
           "diverging": [
            [
             0,
             "#8e0152"
            ],
            [
             0.1,
             "#c51b7d"
            ],
            [
             0.2,
             "#de77ae"
            ],
            [
             0.3,
             "#f1b6da"
            ],
            [
             0.4,
             "#fde0ef"
            ],
            [
             0.5,
             "#f7f7f7"
            ],
            [
             0.6,
             "#e6f5d0"
            ],
            [
             0.7,
             "#b8e186"
            ],
            [
             0.8,
             "#7fbc41"
            ],
            [
             0.9,
             "#4d9221"
            ],
            [
             1,
             "#276419"
            ]
           ],
           "sequential": [
            [
             0,
             "#0d0887"
            ],
            [
             0.1111111111111111,
             "#46039f"
            ],
            [
             0.2222222222222222,
             "#7201a8"
            ],
            [
             0.3333333333333333,
             "#9c179e"
            ],
            [
             0.4444444444444444,
             "#bd3786"
            ],
            [
             0.5555555555555556,
             "#d8576b"
            ],
            [
             0.6666666666666666,
             "#ed7953"
            ],
            [
             0.7777777777777778,
             "#fb9f3a"
            ],
            [
             0.8888888888888888,
             "#fdca26"
            ],
            [
             1,
             "#f0f921"
            ]
           ],
           "sequentialminus": [
            [
             0,
             "#0d0887"
            ],
            [
             0.1111111111111111,
             "#46039f"
            ],
            [
             0.2222222222222222,
             "#7201a8"
            ],
            [
             0.3333333333333333,
             "#9c179e"
            ],
            [
             0.4444444444444444,
             "#bd3786"
            ],
            [
             0.5555555555555556,
             "#d8576b"
            ],
            [
             0.6666666666666666,
             "#ed7953"
            ],
            [
             0.7777777777777778,
             "#fb9f3a"
            ],
            [
             0.8888888888888888,
             "#fdca26"
            ],
            [
             1,
             "#f0f921"
            ]
           ]
          },
          "colorway": [
           "#636efa",
           "#EF553B",
           "#00cc96",
           "#ab63fa",
           "#FFA15A",
           "#19d3f3",
           "#FF6692",
           "#B6E880",
           "#FF97FF",
           "#FECB52"
          ],
          "font": {
           "color": "#2a3f5f"
          },
          "geo": {
           "bgcolor": "white",
           "lakecolor": "white",
           "landcolor": "#E5ECF6",
           "showlakes": true,
           "showland": true,
           "subunitcolor": "white"
          },
          "hoverlabel": {
           "align": "left"
          },
          "hovermode": "closest",
          "mapbox": {
           "style": "light"
          },
          "paper_bgcolor": "white",
          "plot_bgcolor": "#E5ECF6",
          "polar": {
           "angularaxis": {
            "gridcolor": "white",
            "linecolor": "white",
            "ticks": ""
           },
           "bgcolor": "#E5ECF6",
           "radialaxis": {
            "gridcolor": "white",
            "linecolor": "white",
            "ticks": ""
           }
          },
          "scene": {
           "xaxis": {
            "backgroundcolor": "#E5ECF6",
            "gridcolor": "white",
            "gridwidth": 2,
            "linecolor": "white",
            "showbackground": true,
            "ticks": "",
            "zerolinecolor": "white"
           },
           "yaxis": {
            "backgroundcolor": "#E5ECF6",
            "gridcolor": "white",
            "gridwidth": 2,
            "linecolor": "white",
            "showbackground": true,
            "ticks": "",
            "zerolinecolor": "white"
           },
           "zaxis": {
            "backgroundcolor": "#E5ECF6",
            "gridcolor": "white",
            "gridwidth": 2,
            "linecolor": "white",
            "showbackground": true,
            "ticks": "",
            "zerolinecolor": "white"
           }
          },
          "shapedefaults": {
           "line": {
            "color": "#2a3f5f"
           }
          },
          "ternary": {
           "aaxis": {
            "gridcolor": "white",
            "linecolor": "white",
            "ticks": ""
           },
           "baxis": {
            "gridcolor": "white",
            "linecolor": "white",
            "ticks": ""
           },
           "bgcolor": "#E5ECF6",
           "caxis": {
            "gridcolor": "white",
            "linecolor": "white",
            "ticks": ""
           }
          },
          "title": {
           "x": 0.05
          },
          "xaxis": {
           "automargin": true,
           "gridcolor": "white",
           "linecolor": "white",
           "ticks": "",
           "title": {
            "standoff": 15
           },
           "zerolinecolor": "white",
           "zerolinewidth": 2
          },
          "yaxis": {
           "automargin": true,
           "gridcolor": "white",
           "linecolor": "white",
           "ticks": "",
           "title": {
            "standoff": 15
           },
           "zerolinecolor": "white",
           "zerolinewidth": 2
          }
         }
        },
        "title": {
         "text": "Cumulative Price Growth for top and bottom 10 municipalities"
        },
        "width": 1600,
        "xaxis": {
         "anchor": "y",
         "domain": [
          0,
          1
         ],
         "title": {
          "text": "year"
         }
        },
        "yaxis": {
         "anchor": "x",
         "domain": [
          0,
          1
         ],
         "title": {
          "text": "value"
         }
        }
       }
      }
     },
     "metadata": {},
     "output_type": "display_data"
    }
   ],
   "source": [
    "plot_time_series(\n",
    "    plot_df,\n",
    "    \"return_growth\",\n",
    "    group_by_columns,\n",
    "    granularity_columns,\n",
    "    f\"Cumulative Price Growth for top and bottom {return_n} municipalities\",\n",
    "    visible=\"legendonly\",\n",
    ")"
   ]
  },
  {
   "cell_type": "code",
   "execution_count": 10,
   "metadata": {},
   "outputs": [
    {
     "data": {
      "application/vnd.plotly.v1+json": {
       "config": {
        "plotlyServerURL": "https://plot.ly"
       },
       "data": [
        {
         "hovertemplate": "variable=('Tokyo-to Bunkyo-ku', 13105)<br>year=%{x}<br>value=%{y}<extra></extra>",
         "legendgroup": "('Tokyo-to Bunkyo-ku', 13105)",
         "line": {
          "color": "#636efa",
          "dash": "solid"
         },
         "marker": {
          "symbol": "circle"
         },
         "mode": "lines+markers",
         "name": "('Tokyo-to Bunkyo-ku', 13105)",
         "orientation": "v",
         "showlegend": true,
         "type": "scatter",
         "x": [
          2005,
          2006,
          2007,
          2008,
          2009,
          2010,
          2011,
          2012,
          2013,
          2014,
          2015,
          2016,
          2017,
          2018,
          2019,
          2020
         ],
         "xaxis": "x",
         "y": [
          1.0677799641231438,
          1.172961058260583,
          1.2144909019743422,
          1.2655817270069352,
          1.2811859864260753,
          1.1742831342753357,
          1.1927064144823254,
          1.2132693225152973,
          1.2291606449710464,
          1.3373574052560893,
          1.3544622528978574,
          1.419551818621421,
          1.5097543322265305,
          1.5528599520945885,
          1.626551958653504,
          1.6369191367513005
         ],
         "yaxis": "y"
        },
        {
         "hovertemplate": "variable=('Tokyo-to Chiyoda-ku', 13101)<br>year=%{x}<br>value=%{y}<extra></extra>",
         "legendgroup": "('Tokyo-to Chiyoda-ku', 13101)",
         "line": {
          "color": "#EF553B",
          "dash": "solid"
         },
         "marker": {
          "symbol": "circle"
         },
         "mode": "lines+markers",
         "name": "('Tokyo-to Chiyoda-ku', 13101)",
         "orientation": "v",
         "showlegend": true,
         "type": "scatter",
         "x": [
          2005,
          2006,
          2007,
          2008,
          2009,
          2010,
          2011,
          2012,
          2013,
          2014,
          2015,
          2016,
          2017,
          2018,
          2019,
          2020
         ],
         "xaxis": "x",
         "y": [
          1.1759165067037287,
          1.2899682924105464,
          1.4278884969648473,
          1.526384180869718,
          1.3936367231226252,
          1.3461339680117492,
          1.447507277907085,
          1.3594426118342677,
          1.4446573091252213,
          1.7382439933936193,
          1.7342588275456254,
          1.9476491171331418,
          2.0672553798428575,
          2.2470913541329294,
          2.5581308212607974,
          2.4843426278344336
         ],
         "yaxis": "y"
        },
        {
         "hovertemplate": "variable=('Tokyo-to Chuo-ku', 13102)<br>year=%{x}<br>value=%{y}<extra></extra>",
         "legendgroup": "('Tokyo-to Chuo-ku', 13102)",
         "line": {
          "color": "#00cc96",
          "dash": "solid"
         },
         "marker": {
          "symbol": "circle"
         },
         "mode": "lines+markers",
         "name": "('Tokyo-to Chuo-ku', 13102)",
         "orientation": "v",
         "showlegend": true,
         "type": "scatter",
         "x": [
          2005,
          2006,
          2007,
          2008,
          2009,
          2010,
          2011,
          2012,
          2013,
          2014,
          2015,
          2016,
          2017,
          2018,
          2019,
          2020
         ],
         "xaxis": "x",
         "y": [
          1.162538241606278,
          1.306695979633261,
          1.4765145599432905,
          1.5328820539017158,
          1.6191269204504344,
          1.4609121013282433,
          1.4941992670821744,
          1.552602785920397,
          1.6320859881670244,
          1.8013536720796945,
          1.901208267454912,
          2.0566053082750004,
          2.22533141571169,
          2.3937161092981025,
          2.6529919054998765,
          2.7099161529612417
         ],
         "yaxis": "y"
        },
        {
         "hovertemplate": "variable=('Tokyo-to Koto-ku', 13108)<br>year=%{x}<br>value=%{y}<extra></extra>",
         "legendgroup": "('Tokyo-to Koto-ku', 13108)",
         "line": {
          "color": "#ab63fa",
          "dash": "solid"
         },
         "marker": {
          "symbol": "circle"
         },
         "mode": "lines+markers",
         "name": "('Tokyo-to Koto-ku', 13108)",
         "orientation": "v",
         "showlegend": true,
         "type": "scatter",
         "x": [
          2005,
          2006,
          2007,
          2008,
          2009,
          2010,
          2011,
          2012,
          2013,
          2014,
          2015,
          2016,
          2017,
          2018,
          2019,
          2020
         ],
         "xaxis": "x",
         "y": [
          1.045439111132766,
          1.1534273795171857,
          1.2283528852580907,
          1.2690224415180436,
          1.2973934680405028,
          1.2685160100556505,
          1.2762894957649251,
          1.293909260803584,
          1.3244146793066545,
          1.4111319445118307,
          1.4544035594359996,
          1.546375885509215,
          1.5928287299845467,
          1.6736321046141238,
          1.7527450357710166,
          1.7880158597774536
         ],
         "yaxis": "y"
        },
        {
         "hovertemplate": "variable=('Tokyo-to Minato-ku', 13103)<br>year=%{x}<br>value=%{y}<extra></extra>",
         "legendgroup": "('Tokyo-to Minato-ku', 13103)",
         "line": {
          "color": "#FFA15A",
          "dash": "solid"
         },
         "marker": {
          "symbol": "circle"
         },
         "mode": "lines+markers",
         "name": "('Tokyo-to Minato-ku', 13103)",
         "orientation": "v",
         "showlegend": true,
         "type": "scatter",
         "x": [
          2005,
          2006,
          2007,
          2008,
          2009,
          2010,
          2011,
          2012,
          2013,
          2014,
          2015,
          2016,
          2017,
          2018,
          2019,
          2020
         ],
         "xaxis": "x",
         "y": [
          1.212841179368124,
          1.4149874721249023,
          1.595399194033945,
          1.8144476345778586,
          1.7459085176165943,
          1.5338477475524492,
          1.4407278570402664,
          1.506322395511123,
          1.5522896223645215,
          2.2366261990046636,
          1.8496846788988373,
          2.061186732099483,
          2.1312481983351397,
          2.2014308748300455,
          2.4355530716999207,
          2.356488173971514
         ],
         "yaxis": "y"
        },
        {
         "hovertemplate": "variable=('Tokyo-to Shibuya-ku', 13113)<br>year=%{x}<br>value=%{y}<extra></extra>",
         "legendgroup": "('Tokyo-to Shibuya-ku', 13113)",
         "line": {
          "color": "#19d3f3",
          "dash": "solid"
         },
         "marker": {
          "symbol": "circle"
         },
         "mode": "lines+markers",
         "name": "('Tokyo-to Shibuya-ku', 13113)",
         "orientation": "v",
         "showlegend": true,
         "type": "scatter",
         "x": [
          2005,
          2006,
          2007,
          2008,
          2009,
          2010,
          2011,
          2012,
          2013,
          2014,
          2015,
          2016,
          2017,
          2018,
          2019,
          2020
         ],
         "xaxis": "x",
         "y": [
          1.066393104477275,
          1.1737488903161482,
          1.2769192824259707,
          1.267951345566229,
          1.2184804861975915,
          1.0566285897974448,
          1.0656963269597806,
          1.1397615039151021,
          1.1993533320070906,
          1.3263892606036458,
          1.3110976687768967,
          1.408807216309805,
          1.4895442344182461,
          1.619153509758501,
          1.683128439577537,
          1.7257753156154367
         ],
         "yaxis": "y"
        },
        {
         "hovertemplate": "variable=('Tokyo-to Shinagawa-ku', 13109)<br>year=%{x}<br>value=%{y}<extra></extra>",
         "legendgroup": "('Tokyo-to Shinagawa-ku', 13109)",
         "line": {
          "color": "#FF6692",
          "dash": "solid"
         },
         "marker": {
          "symbol": "circle"
         },
         "mode": "lines+markers",
         "name": "('Tokyo-to Shinagawa-ku', 13109)",
         "orientation": "v",
         "showlegend": true,
         "type": "scatter",
         "x": [
          2005,
          2006,
          2007,
          2008,
          2009,
          2010,
          2011,
          2012,
          2013,
          2014,
          2015,
          2016,
          2017,
          2018,
          2019,
          2020
         ],
         "xaxis": "x",
         "y": [
          1.0679047811426927,
          1.1251607876596084,
          1.1732719726351835,
          1.240415277998748,
          1.228287261169652,
          1.1539605358069118,
          1.1673684087512495,
          1.181664730934366,
          1.2019741581797014,
          1.2974767130709959,
          1.2960687522017327,
          1.4186656492531324,
          1.413840397686581,
          1.5018323228122112,
          1.5961359573800886,
          1.6630311568831726
         ],
         "yaxis": "y"
        },
        {
         "hovertemplate": "variable=('Tokyo-to Sumida-ku', 13107)<br>year=%{x}<br>value=%{y}<extra></extra>",
         "legendgroup": "('Tokyo-to Sumida-ku', 13107)",
         "line": {
          "color": "#B6E880",
          "dash": "solid"
         },
         "marker": {
          "symbol": "circle"
         },
         "mode": "lines+markers",
         "name": "('Tokyo-to Sumida-ku', 13107)",
         "orientation": "v",
         "showlegend": true,
         "type": "scatter",
         "x": [
          2005,
          2006,
          2007,
          2008,
          2009,
          2010,
          2011,
          2012,
          2013,
          2014,
          2015,
          2016,
          2017,
          2018,
          2019,
          2020
         ],
         "xaxis": "x",
         "y": [
          1.0371354263892838,
          1.1037149979082637,
          1.1604535251950892,
          1.1971835914977884,
          1.2105633561837974,
          1.1627116817630343,
          1.1596581133827668,
          1.172315381398412,
          1.2013494265916507,
          1.2663031239732974,
          1.315629563408961,
          1.3774354804457816,
          1.426760167491235,
          1.5034196554250479,
          1.5712847690265463,
          1.637689813856236
         ],
         "yaxis": "y"
        },
        {
         "hovertemplate": "variable=('Tokyo-to Taito-ku', 13106)<br>year=%{x}<br>value=%{y}<extra></extra>",
         "legendgroup": "('Tokyo-to Taito-ku', 13106)",
         "line": {
          "color": "#FF97FF",
          "dash": "solid"
         },
         "marker": {
          "symbol": "circle"
         },
         "mode": "lines+markers",
         "name": "('Tokyo-to Taito-ku', 13106)",
         "orientation": "v",
         "showlegend": true,
         "type": "scatter",
         "x": [
          2005,
          2006,
          2007,
          2008,
          2009,
          2010,
          2011,
          2012,
          2013,
          2014,
          2015,
          2016,
          2017,
          2018,
          2019,
          2020
         ],
         "xaxis": "x",
         "y": [
          1.0276628887994315,
          1.1052764799519472,
          1.147668473926382,
          1.2930538057636014,
          1.189548340112876,
          1.1251003731748719,
          1.1515715822017067,
          1.1297110812942042,
          1.1897931653877574,
          1.250967155029941,
          1.3170183762905852,
          1.3807329922731997,
          1.4560103777281077,
          1.524136955900784,
          1.610161476526083,
          1.6933214286125624
         ],
         "yaxis": "y"
        },
        {
         "hovertemplate": "variable=('Aichi-ken Nagakute-shi', 23238)<br>year=%{x}<br>value=%{y}<extra></extra>",
         "legendgroup": "('Aichi-ken Nagakute-shi', 23238)",
         "line": {
          "color": "#FECB52",
          "dash": "solid"
         },
         "marker": {
          "symbol": "circle"
         },
         "mode": "lines+markers",
         "name": "('Aichi-ken Nagakute-shi', 23238)",
         "orientation": "v",
         "showlegend": true,
         "type": "scatter",
         "x": [
          2005,
          2006,
          2007,
          2008,
          2009,
          2010,
          2011,
          2012,
          2013,
          2014,
          2015,
          2016,
          2017,
          2018,
          2019,
          2020
         ],
         "xaxis": "x",
         "y": [
          null,
          1.0803819255832932,
          1.1268341092582859,
          1.2308318668508569,
          1.2156466486999786,
          1.1453311422994001,
          1.1525333199944876,
          1.1844121890027526,
          1.22710473073038,
          1.36280877079501,
          1.4144352403646732,
          1.4044195901343715,
          1.456591328145473,
          1.4995000215733174,
          1.5632703408540973,
          1.6348626426524495
         ],
         "yaxis": "y"
        },
        {
         "hovertemplate": "variable=('Akita-ken Nikaho-shi', 5214)<br>year=%{x}<br>value=%{y}<extra></extra>",
         "legendgroup": "('Akita-ken Nikaho-shi', 5214)",
         "line": {
          "color": "#636efa",
          "dash": "solid"
         },
         "marker": {
          "symbol": "circle"
         },
         "mode": "lines+markers",
         "name": "('Akita-ken Nikaho-shi', 5214)",
         "orientation": "v",
         "showlegend": true,
         "type": "scatter",
         "x": [
          2005,
          2006,
          2007,
          2008,
          2009,
          2010,
          2011,
          2012,
          2013,
          2014,
          2015,
          2016,
          2017,
          2018,
          2019,
          2020
         ],
         "xaxis": "x",
         "y": [
          null,
          null,
          0.9986318269607227,
          1.009892766946341,
          0.979293743036626,
          0.849398367802787,
          0.8818040445792458,
          0.8785318458282217,
          0.8516502054509648,
          0.8192996482285169,
          0.8129599934424347,
          0.8446691402711712,
          0.8499102698964456,
          0.8776050520559644,
          0.8733335131388562,
          0.8569483573874569
         ],
         "yaxis": "y"
        },
        {
         "hovertemplate": "variable=('Chiba-ken Sammu-shi', 12237)<br>year=%{x}<br>value=%{y}<extra></extra>",
         "legendgroup": "('Chiba-ken Sammu-shi', 12237)",
         "line": {
          "color": "#EF553B",
          "dash": "solid"
         },
         "marker": {
          "symbol": "circle"
         },
         "mode": "lines+markers",
         "name": "('Chiba-ken Sammu-shi', 12237)",
         "orientation": "v",
         "showlegend": true,
         "type": "scatter",
         "x": [
          2005,
          2006,
          2007,
          2008,
          2009,
          2010,
          2011,
          2012,
          2013,
          2014,
          2015,
          2016,
          2017,
          2018,
          2019,
          2020
         ],
         "xaxis": "x",
         "y": [
          null,
          null,
          0.9819101676411172,
          0.9845001990441867,
          0.9684078160236809,
          0.8946104864752741,
          0.8813966624254502,
          0.8656750066534641,
          0.8646759621411593,
          0.8607254489659636,
          0.8548184699862568,
          0.8694867660694493,
          0.8851899727089504,
          0.8869730980827125,
          0.8999212633477441,
          0.888218392717975
         ],
         "yaxis": "y"
        },
        {
         "hovertemplate": "variable=('Kanagawa-ken Aikawa-machi', 14401)<br>year=%{x}<br>value=%{y}<extra></extra>",
         "legendgroup": "('Kanagawa-ken Aikawa-machi', 14401)",
         "line": {
          "color": "#00cc96",
          "dash": "solid"
         },
         "marker": {
          "symbol": "circle"
         },
         "mode": "lines+markers",
         "name": "('Kanagawa-ken Aikawa-machi', 14401)",
         "orientation": "v",
         "showlegend": true,
         "type": "scatter",
         "x": [
          2005,
          2006,
          2007,
          2008,
          2009,
          2010,
          2011,
          2012,
          2013,
          2014,
          2015,
          2016,
          2017,
          2018,
          2019,
          2020
         ],
         "xaxis": "x",
         "y": [
          null,
          null,
          1.0189985183410346,
          1.0211959112556888,
          0.987004217289478,
          0.8688638663529606,
          0.8731122816992537,
          0.8634058736751884,
          0.8622476789852165,
          0.8581433153816139,
          0.8549144050696041,
          0.8667527015941425,
          0.8642514731850971,
          0.8867823186710855,
          0.9033574635299593,
          0.8944807619831583
         ],
         "yaxis": "y"
        },
        {
         "hovertemplate": "variable=('Nagano-ken Karuizawa-machi', 20321)<br>year=%{x}<br>value=%{y}<extra></extra>",
         "legendgroup": "('Nagano-ken Karuizawa-machi', 20321)",
         "line": {
          "color": "#ab63fa",
          "dash": "solid"
         },
         "marker": {
          "symbol": "circle"
         },
         "mode": "lines+markers",
         "name": "('Nagano-ken Karuizawa-machi', 20321)",
         "orientation": "v",
         "showlegend": true,
         "type": "scatter",
         "x": [
          2005,
          2006,
          2007,
          2008,
          2009,
          2010,
          2011,
          2012,
          2013,
          2014,
          2015,
          2016,
          2017,
          2018,
          2019,
          2020
         ],
         "xaxis": "x",
         "y": [
          null,
          null,
          1.0936635423272656,
          1.1296339898677878,
          1.1670010806720736,
          1.0347290736805228,
          1.0605177477430685,
          1.0567245679283739,
          1.0584640838390786,
          1.6587512261929556,
          1.1803351616401752,
          1.2954620479606467,
          1.28428462291897,
          1.3460798735877113,
          2.433867624294033,
          1.4768126930821366
         ],
         "yaxis": "y"
        },
        {
         "hovertemplate": "variable=('Niigata-ken Kashiwazaki-shi', 15205)<br>year=%{x}<br>value=%{y}<extra></extra>",
         "legendgroup": "('Niigata-ken Kashiwazaki-shi', 15205)",
         "line": {
          "color": "#FFA15A",
          "dash": "solid"
         },
         "marker": {
          "symbol": "circle"
         },
         "mode": "lines+markers",
         "name": "('Niigata-ken Kashiwazaki-shi', 15205)",
         "orientation": "v",
         "showlegend": true,
         "type": "scatter",
         "x": [
          2005,
          2006,
          2007,
          2008,
          2009,
          2010,
          2011,
          2012,
          2013,
          2014,
          2015,
          2016,
          2017,
          2018,
          2019,
          2020
         ],
         "xaxis": "x",
         "y": [
          null,
          null,
          1.0084740197550244,
          0.9220561817181337,
          0.9567818473165435,
          0.8965085577295706,
          0.8977509612975112,
          0.8936974479609582,
          0.8708585597854142,
          0.8715219321931139,
          0.8664383485818098,
          0.8828015182375789,
          0.8910703308582901,
          0.8948368953439843,
          0.8943836913204485,
          0.8787883509328684
         ],
         "yaxis": "y"
        },
        {
         "hovertemplate": "variable=('Niigata-ken Yuzawa-machi', 15461)<br>year=%{x}<br>value=%{y}<extra></extra>",
         "legendgroup": "('Niigata-ken Yuzawa-machi', 15461)",
         "line": {
          "color": "#19d3f3",
          "dash": "solid"
         },
         "marker": {
          "symbol": "circle"
         },
         "mode": "lines+markers",
         "name": "('Niigata-ken Yuzawa-machi', 15461)",
         "orientation": "v",
         "showlegend": true,
         "type": "scatter",
         "x": [
          2005,
          2006,
          2007,
          2008,
          2009,
          2010,
          2011,
          2012,
          2013,
          2014,
          2015,
          2016,
          2017,
          2018,
          2019,
          2020
         ],
         "xaxis": "x",
         "y": [
          null,
          null,
          1.0468642833595005,
          0.9621553254743058,
          0.9420793540322252,
          0.8903395979037543,
          0.8557146784792072,
          0.8307873384859522,
          0.875391193560869,
          0.890495591138574,
          0.8997037181124358,
          0.9122824357512077,
          0.9518229314686565,
          0.9458657161394687,
          0.9597403775752043,
          1.0019823350818893
         ],
         "yaxis": "y"
        },
        {
         "hovertemplate": "variable=('Osaka-fu Kawachinagano-shi', 27216)<br>year=%{x}<br>value=%{y}<extra></extra>",
         "legendgroup": "('Osaka-fu Kawachinagano-shi', 27216)",
         "line": {
          "color": "#FF6692",
          "dash": "solid"
         },
         "marker": {
          "symbol": "circle"
         },
         "mode": "lines+markers",
         "name": "('Osaka-fu Kawachinagano-shi', 27216)",
         "orientation": "v",
         "showlegend": true,
         "type": "scatter",
         "x": [
          2005,
          2006,
          2007,
          2008,
          2009,
          2010,
          2011,
          2012,
          2013,
          2014,
          2015,
          2016,
          2017,
          2018,
          2019,
          2020
         ],
         "xaxis": "x",
         "y": [
          null,
          null,
          0.9781086057114818,
          0.966102985977074,
          0.9338144355009339,
          0.8660478401086692,
          0.8595276791619031,
          0.8376968489096344,
          0.8218577291285457,
          0.8175433099444622,
          0.8114816122986493,
          0.8111075525349399,
          0.8097828441314414,
          0.8099656136390646,
          0.812256251151675,
          0.8084069620158979
         ],
         "yaxis": "y"
        },
        {
         "hovertemplate": "variable=('Saitama-ken Moroyama-machi', 11326)<br>year=%{x}<br>value=%{y}<extra></extra>",
         "legendgroup": "('Saitama-ken Moroyama-machi', 11326)",
         "line": {
          "color": "#B6E880",
          "dash": "solid"
         },
         "marker": {
          "symbol": "circle"
         },
         "mode": "lines+markers",
         "name": "('Saitama-ken Moroyama-machi', 11326)",
         "orientation": "v",
         "showlegend": true,
         "type": "scatter",
         "x": [
          2005,
          2006,
          2007,
          2008,
          2009,
          2010,
          2011,
          2012,
          2013,
          2014,
          2015,
          2016,
          2017,
          2018,
          2019,
          2020
         ],
         "xaxis": "x",
         "y": [
          null,
          null,
          0.997683457261076,
          0.998380629338869,
          0.9809100169179971,
          0.9022839587240199,
          0.8849919764200207,
          0.8723890849399879,
          0.868017190223847,
          0.8634336974196798,
          0.8581721097356615,
          0.8599254630356579,
          0.8699785633808547,
          0.8618562001023983,
          0.8733072429366178,
          0.8754854609136463
         ],
         "yaxis": "y"
        },
        {
         "hovertemplate": "variable=('Tochigi-ken Nikko-shi', 9206)<br>year=%{x}<br>value=%{y}<extra></extra>",
         "legendgroup": "('Tochigi-ken Nikko-shi', 9206)",
         "line": {
          "color": "#FF97FF",
          "dash": "solid"
         },
         "marker": {
          "symbol": "circle"
         },
         "mode": "lines+markers",
         "name": "('Tochigi-ken Nikko-shi', 9206)",
         "orientation": "v",
         "showlegend": true,
         "type": "scatter",
         "x": [
          2005,
          2006,
          2007,
          2008,
          2009,
          2010,
          2011,
          2012,
          2013,
          2014,
          2015,
          2016,
          2017,
          2018,
          2019,
          2020
         ],
         "xaxis": "x",
         "y": [
          null,
          null,
          0.9987095548958164,
          0.993388727903419,
          0.9690362545917994,
          0.8922805145450781,
          0.886959155251051,
          0.8604895208911869,
          0.8623287174625807,
          0.8738104550307512,
          0.8558918943468845,
          0.8649397857391506,
          0.8699633308568436,
          0.8821219758023414,
          0.8796798789511759,
          0.8752357355719543
         ],
         "yaxis": "y"
        },
        {
         "hovertemplate": "variable=('Chiba-ken Isumi-shi', 12238)<br>year=%{x}<br>value=%{y}<extra></extra>",
         "legendgroup": "('Chiba-ken Isumi-shi', 12238)",
         "line": {
          "color": "#FECB52",
          "dash": "solid"
         },
         "marker": {
          "symbol": "circle"
         },
         "mode": "lines+markers",
         "name": "('Chiba-ken Isumi-shi', 12238)",
         "orientation": "v",
         "showlegend": true,
         "type": "scatter",
         "x": [
          2005,
          2006,
          2007,
          2008,
          2009,
          2010,
          2011,
          2012,
          2013,
          2014,
          2015,
          2016,
          2017,
          2018,
          2019,
          2020
         ],
         "xaxis": "x",
         "y": [
          null,
          null,
          null,
          0.9994509870080351,
          0.9815170304375238,
          0.9096632083655336,
          0.9013843015480151,
          0.8775036297282758,
          0.8636230044884984,
          0.8543092292336415,
          0.8547477317745173,
          0.8507100220205248,
          0.8554174458555238,
          0.8577183942703314,
          0.8588063109786878,
          0.8502637086912781
         ],
         "yaxis": "y"
        },
        {
         "hovertemplate": "variable=('Hokkaido Muroran-shi', 1205)<br>year=%{x}<br>value=%{y}<extra></extra>",
         "legendgroup": "('Hokkaido Muroran-shi', 1205)",
         "line": {
          "color": "#636efa",
          "dash": "solid"
         },
         "marker": {
          "symbol": "circle"
         },
         "mode": "lines+markers",
         "name": "('Hokkaido Muroran-shi', 1205)",
         "orientation": "v",
         "showlegend": true,
         "type": "scatter",
         "x": [
          2005,
          2006,
          2007,
          2008,
          2009,
          2010,
          2011,
          2012,
          2013,
          2014,
          2015,
          2016,
          2017,
          2018,
          2019,
          2020
         ],
         "xaxis": "x",
         "y": [
          null,
          null,
          null,
          1.0062673278265537,
          0.9854457828760602,
          0.9387067234642877,
          0.9221556350333016,
          0.909750318447294,
          0.8894381129162313,
          0.8898648967585999,
          0.8742799199091978,
          0.8750815106915977,
          0.8765393109354895,
          0.8761639393081243,
          0.9346094035037432,
          0.8918244730339941
         ],
         "yaxis": "y"
        },
        {
         "hovertemplate": "variable=('Hokkaido Otaru-shi', 1203)<br>year=%{x}<br>value=%{y}<extra></extra>",
         "legendgroup": "('Hokkaido Otaru-shi', 1203)",
         "line": {
          "color": "#EF553B",
          "dash": "solid"
         },
         "marker": {
          "symbol": "circle"
         },
         "mode": "lines+markers",
         "name": "('Hokkaido Otaru-shi', 1203)",
         "orientation": "v",
         "showlegend": true,
         "type": "scatter",
         "x": [
          2005,
          2006,
          2007,
          2008,
          2009,
          2010,
          2011,
          2012,
          2013,
          2014,
          2015,
          2016,
          2017,
          2018,
          2019,
          2020
         ],
         "xaxis": "x",
         "y": [
          null,
          null,
          null,
          0.9695504328155526,
          0.9213640092421009,
          0.8675114324100058,
          0.8469770070215892,
          0.841252684059397,
          0.8193133451795209,
          0.8187587507819449,
          0.8072916807368962,
          0.8073540782628555,
          0.8135961541350053,
          0.8214095481573561,
          0.825616643432104,
          0.8163392814787451
         ],
         "yaxis": "y"
        }
       ],
       "layout": {
        "autosize": false,
        "height": 800,
        "hovermode": "closest",
        "legend": {
         "title": {
          "text": "variable"
         },
         "tracegroupgap": 0
        },
        "template": {
         "data": {
          "bar": [
           {
            "error_x": {
             "color": "#2a3f5f"
            },
            "error_y": {
             "color": "#2a3f5f"
            },
            "marker": {
             "line": {
              "color": "#E5ECF6",
              "width": 0.5
             },
             "pattern": {
              "fillmode": "overlay",
              "size": 10,
              "solidity": 0.2
             }
            },
            "type": "bar"
           }
          ],
          "barpolar": [
           {
            "marker": {
             "line": {
              "color": "#E5ECF6",
              "width": 0.5
             },
             "pattern": {
              "fillmode": "overlay",
              "size": 10,
              "solidity": 0.2
             }
            },
            "type": "barpolar"
           }
          ],
          "carpet": [
           {
            "aaxis": {
             "endlinecolor": "#2a3f5f",
             "gridcolor": "white",
             "linecolor": "white",
             "minorgridcolor": "white",
             "startlinecolor": "#2a3f5f"
            },
            "baxis": {
             "endlinecolor": "#2a3f5f",
             "gridcolor": "white",
             "linecolor": "white",
             "minorgridcolor": "white",
             "startlinecolor": "#2a3f5f"
            },
            "type": "carpet"
           }
          ],
          "choropleth": [
           {
            "colorbar": {
             "outlinewidth": 0,
             "ticks": ""
            },
            "type": "choropleth"
           }
          ],
          "contour": [
           {
            "colorbar": {
             "outlinewidth": 0,
             "ticks": ""
            },
            "colorscale": [
             [
              0,
              "#0d0887"
             ],
             [
              0.1111111111111111,
              "#46039f"
             ],
             [
              0.2222222222222222,
              "#7201a8"
             ],
             [
              0.3333333333333333,
              "#9c179e"
             ],
             [
              0.4444444444444444,
              "#bd3786"
             ],
             [
              0.5555555555555556,
              "#d8576b"
             ],
             [
              0.6666666666666666,
              "#ed7953"
             ],
             [
              0.7777777777777778,
              "#fb9f3a"
             ],
             [
              0.8888888888888888,
              "#fdca26"
             ],
             [
              1,
              "#f0f921"
             ]
            ],
            "type": "contour"
           }
          ],
          "contourcarpet": [
           {
            "colorbar": {
             "outlinewidth": 0,
             "ticks": ""
            },
            "type": "contourcarpet"
           }
          ],
          "heatmap": [
           {
            "colorbar": {
             "outlinewidth": 0,
             "ticks": ""
            },
            "colorscale": [
             [
              0,
              "#0d0887"
             ],
             [
              0.1111111111111111,
              "#46039f"
             ],
             [
              0.2222222222222222,
              "#7201a8"
             ],
             [
              0.3333333333333333,
              "#9c179e"
             ],
             [
              0.4444444444444444,
              "#bd3786"
             ],
             [
              0.5555555555555556,
              "#d8576b"
             ],
             [
              0.6666666666666666,
              "#ed7953"
             ],
             [
              0.7777777777777778,
              "#fb9f3a"
             ],
             [
              0.8888888888888888,
              "#fdca26"
             ],
             [
              1,
              "#f0f921"
             ]
            ],
            "type": "heatmap"
           }
          ],
          "heatmapgl": [
           {
            "colorbar": {
             "outlinewidth": 0,
             "ticks": ""
            },
            "colorscale": [
             [
              0,
              "#0d0887"
             ],
             [
              0.1111111111111111,
              "#46039f"
             ],
             [
              0.2222222222222222,
              "#7201a8"
             ],
             [
              0.3333333333333333,
              "#9c179e"
             ],
             [
              0.4444444444444444,
              "#bd3786"
             ],
             [
              0.5555555555555556,
              "#d8576b"
             ],
             [
              0.6666666666666666,
              "#ed7953"
             ],
             [
              0.7777777777777778,
              "#fb9f3a"
             ],
             [
              0.8888888888888888,
              "#fdca26"
             ],
             [
              1,
              "#f0f921"
             ]
            ],
            "type": "heatmapgl"
           }
          ],
          "histogram": [
           {
            "marker": {
             "pattern": {
              "fillmode": "overlay",
              "size": 10,
              "solidity": 0.2
             }
            },
            "type": "histogram"
           }
          ],
          "histogram2d": [
           {
            "colorbar": {
             "outlinewidth": 0,
             "ticks": ""
            },
            "colorscale": [
             [
              0,
              "#0d0887"
             ],
             [
              0.1111111111111111,
              "#46039f"
             ],
             [
              0.2222222222222222,
              "#7201a8"
             ],
             [
              0.3333333333333333,
              "#9c179e"
             ],
             [
              0.4444444444444444,
              "#bd3786"
             ],
             [
              0.5555555555555556,
              "#d8576b"
             ],
             [
              0.6666666666666666,
              "#ed7953"
             ],
             [
              0.7777777777777778,
              "#fb9f3a"
             ],
             [
              0.8888888888888888,
              "#fdca26"
             ],
             [
              1,
              "#f0f921"
             ]
            ],
            "type": "histogram2d"
           }
          ],
          "histogram2dcontour": [
           {
            "colorbar": {
             "outlinewidth": 0,
             "ticks": ""
            },
            "colorscale": [
             [
              0,
              "#0d0887"
             ],
             [
              0.1111111111111111,
              "#46039f"
             ],
             [
              0.2222222222222222,
              "#7201a8"
             ],
             [
              0.3333333333333333,
              "#9c179e"
             ],
             [
              0.4444444444444444,
              "#bd3786"
             ],
             [
              0.5555555555555556,
              "#d8576b"
             ],
             [
              0.6666666666666666,
              "#ed7953"
             ],
             [
              0.7777777777777778,
              "#fb9f3a"
             ],
             [
              0.8888888888888888,
              "#fdca26"
             ],
             [
              1,
              "#f0f921"
             ]
            ],
            "type": "histogram2dcontour"
           }
          ],
          "mesh3d": [
           {
            "colorbar": {
             "outlinewidth": 0,
             "ticks": ""
            },
            "type": "mesh3d"
           }
          ],
          "parcoords": [
           {
            "line": {
             "colorbar": {
              "outlinewidth": 0,
              "ticks": ""
             }
            },
            "type": "parcoords"
           }
          ],
          "pie": [
           {
            "automargin": true,
            "type": "pie"
           }
          ],
          "scatter": [
           {
            "fillpattern": {
             "fillmode": "overlay",
             "size": 10,
             "solidity": 0.2
            },
            "type": "scatter"
           }
          ],
          "scatter3d": [
           {
            "line": {
             "colorbar": {
              "outlinewidth": 0,
              "ticks": ""
             }
            },
            "marker": {
             "colorbar": {
              "outlinewidth": 0,
              "ticks": ""
             }
            },
            "type": "scatter3d"
           }
          ],
          "scattercarpet": [
           {
            "marker": {
             "colorbar": {
              "outlinewidth": 0,
              "ticks": ""
             }
            },
            "type": "scattercarpet"
           }
          ],
          "scattergeo": [
           {
            "marker": {
             "colorbar": {
              "outlinewidth": 0,
              "ticks": ""
             }
            },
            "type": "scattergeo"
           }
          ],
          "scattergl": [
           {
            "marker": {
             "colorbar": {
              "outlinewidth": 0,
              "ticks": ""
             }
            },
            "type": "scattergl"
           }
          ],
          "scattermapbox": [
           {
            "marker": {
             "colorbar": {
              "outlinewidth": 0,
              "ticks": ""
             }
            },
            "type": "scattermapbox"
           }
          ],
          "scatterpolar": [
           {
            "marker": {
             "colorbar": {
              "outlinewidth": 0,
              "ticks": ""
             }
            },
            "type": "scatterpolar"
           }
          ],
          "scatterpolargl": [
           {
            "marker": {
             "colorbar": {
              "outlinewidth": 0,
              "ticks": ""
             }
            },
            "type": "scatterpolargl"
           }
          ],
          "scatterternary": [
           {
            "marker": {
             "colorbar": {
              "outlinewidth": 0,
              "ticks": ""
             }
            },
            "type": "scatterternary"
           }
          ],
          "surface": [
           {
            "colorbar": {
             "outlinewidth": 0,
             "ticks": ""
            },
            "colorscale": [
             [
              0,
              "#0d0887"
             ],
             [
              0.1111111111111111,
              "#46039f"
             ],
             [
              0.2222222222222222,
              "#7201a8"
             ],
             [
              0.3333333333333333,
              "#9c179e"
             ],
             [
              0.4444444444444444,
              "#bd3786"
             ],
             [
              0.5555555555555556,
              "#d8576b"
             ],
             [
              0.6666666666666666,
              "#ed7953"
             ],
             [
              0.7777777777777778,
              "#fb9f3a"
             ],
             [
              0.8888888888888888,
              "#fdca26"
             ],
             [
              1,
              "#f0f921"
             ]
            ],
            "type": "surface"
           }
          ],
          "table": [
           {
            "cells": {
             "fill": {
              "color": "#EBF0F8"
             },
             "line": {
              "color": "white"
             }
            },
            "header": {
             "fill": {
              "color": "#C8D4E3"
             },
             "line": {
              "color": "white"
             }
            },
            "type": "table"
           }
          ]
         },
         "layout": {
          "annotationdefaults": {
           "arrowcolor": "#2a3f5f",
           "arrowhead": 0,
           "arrowwidth": 1
          },
          "autotypenumbers": "strict",
          "coloraxis": {
           "colorbar": {
            "outlinewidth": 0,
            "ticks": ""
           }
          },
          "colorscale": {
           "diverging": [
            [
             0,
             "#8e0152"
            ],
            [
             0.1,
             "#c51b7d"
            ],
            [
             0.2,
             "#de77ae"
            ],
            [
             0.3,
             "#f1b6da"
            ],
            [
             0.4,
             "#fde0ef"
            ],
            [
             0.5,
             "#f7f7f7"
            ],
            [
             0.6,
             "#e6f5d0"
            ],
            [
             0.7,
             "#b8e186"
            ],
            [
             0.8,
             "#7fbc41"
            ],
            [
             0.9,
             "#4d9221"
            ],
            [
             1,
             "#276419"
            ]
           ],
           "sequential": [
            [
             0,
             "#0d0887"
            ],
            [
             0.1111111111111111,
             "#46039f"
            ],
            [
             0.2222222222222222,
             "#7201a8"
            ],
            [
             0.3333333333333333,
             "#9c179e"
            ],
            [
             0.4444444444444444,
             "#bd3786"
            ],
            [
             0.5555555555555556,
             "#d8576b"
            ],
            [
             0.6666666666666666,
             "#ed7953"
            ],
            [
             0.7777777777777778,
             "#fb9f3a"
            ],
            [
             0.8888888888888888,
             "#fdca26"
            ],
            [
             1,
             "#f0f921"
            ]
           ],
           "sequentialminus": [
            [
             0,
             "#0d0887"
            ],
            [
             0.1111111111111111,
             "#46039f"
            ],
            [
             0.2222222222222222,
             "#7201a8"
            ],
            [
             0.3333333333333333,
             "#9c179e"
            ],
            [
             0.4444444444444444,
             "#bd3786"
            ],
            [
             0.5555555555555556,
             "#d8576b"
            ],
            [
             0.6666666666666666,
             "#ed7953"
            ],
            [
             0.7777777777777778,
             "#fb9f3a"
            ],
            [
             0.8888888888888888,
             "#fdca26"
            ],
            [
             1,
             "#f0f921"
            ]
           ]
          },
          "colorway": [
           "#636efa",
           "#EF553B",
           "#00cc96",
           "#ab63fa",
           "#FFA15A",
           "#19d3f3",
           "#FF6692",
           "#B6E880",
           "#FF97FF",
           "#FECB52"
          ],
          "font": {
           "color": "#2a3f5f"
          },
          "geo": {
           "bgcolor": "white",
           "lakecolor": "white",
           "landcolor": "#E5ECF6",
           "showlakes": true,
           "showland": true,
           "subunitcolor": "white"
          },
          "hoverlabel": {
           "align": "left"
          },
          "hovermode": "closest",
          "mapbox": {
           "style": "light"
          },
          "paper_bgcolor": "white",
          "plot_bgcolor": "#E5ECF6",
          "polar": {
           "angularaxis": {
            "gridcolor": "white",
            "linecolor": "white",
            "ticks": ""
           },
           "bgcolor": "#E5ECF6",
           "radialaxis": {
            "gridcolor": "white",
            "linecolor": "white",
            "ticks": ""
           }
          },
          "scene": {
           "xaxis": {
            "backgroundcolor": "#E5ECF6",
            "gridcolor": "white",
            "gridwidth": 2,
            "linecolor": "white",
            "showbackground": true,
            "ticks": "",
            "zerolinecolor": "white"
           },
           "yaxis": {
            "backgroundcolor": "#E5ECF6",
            "gridcolor": "white",
            "gridwidth": 2,
            "linecolor": "white",
            "showbackground": true,
            "ticks": "",
            "zerolinecolor": "white"
           },
           "zaxis": {
            "backgroundcolor": "#E5ECF6",
            "gridcolor": "white",
            "gridwidth": 2,
            "linecolor": "white",
            "showbackground": true,
            "ticks": "",
            "zerolinecolor": "white"
           }
          },
          "shapedefaults": {
           "line": {
            "color": "#2a3f5f"
           }
          },
          "ternary": {
           "aaxis": {
            "gridcolor": "white",
            "linecolor": "white",
            "ticks": ""
           },
           "baxis": {
            "gridcolor": "white",
            "linecolor": "white",
            "ticks": ""
           },
           "bgcolor": "#E5ECF6",
           "caxis": {
            "gridcolor": "white",
            "linecolor": "white",
            "ticks": ""
           }
          },
          "title": {
           "x": 0.05
          },
          "xaxis": {
           "automargin": true,
           "gridcolor": "white",
           "linecolor": "white",
           "ticks": "",
           "title": {
            "standoff": 15
           },
           "zerolinecolor": "white",
           "zerolinewidth": 2
          },
          "yaxis": {
           "automargin": true,
           "gridcolor": "white",
           "linecolor": "white",
           "ticks": "",
           "title": {
            "standoff": 15
           },
           "zerolinecolor": "white",
           "zerolinewidth": 2
          }
         }
        },
        "title": {
         "text": "cumulative taxable_income_growth for top and bottom 10 municipalities"
        },
        "width": 1600,
        "xaxis": {
         "anchor": "y",
         "domain": [
          0,
          1
         ],
         "title": {
          "text": "year"
         }
        },
        "yaxis": {
         "anchor": "x",
         "domain": [
          0,
          1
         ],
         "title": {
          "text": "value"
         }
        }
       }
      }
     },
     "metadata": {},
     "output_type": "display_data"
    }
   ],
   "source": [
    "plot_time_series(\n",
    "    plot_df[plot_df[\"year\"] <= 2020],\n",
    "    \"factor_growth\",\n",
    "    group_by_columns,\n",
    "    granularity_columns,\n",
    "    f\"cumulative {factor_column} for top and bottom {return_n} municipalities\",\n",
    "    # visible=\"legendonly\",\n",
    ")"
   ]
  },
  {
   "cell_type": "code",
   "execution_count": 11,
   "metadata": {},
   "outputs": [
    {
     "data": {
      "application/vnd.plotly.v1+json": {
       "config": {
        "plotlyServerURL": "https://plot.ly"
       },
       "data": [
        {
         "hovertemplate": "variable=('Tokyo-to Bunkyo-ku', 13105)<br>year=%{x}<br>value=%{y}<extra></extra>",
         "legendgroup": "('Tokyo-to Bunkyo-ku', 13105)",
         "line": {
          "color": "#636efa",
          "dash": "solid"
         },
         "marker": {
          "symbol": "circle"
         },
         "mode": "lines+markers",
         "name": "('Tokyo-to Bunkyo-ku', 13105)",
         "orientation": "v",
         "showlegend": true,
         "type": "scatter",
         "x": [
          2005,
          2006,
          2007,
          2008,
          2009,
          2010,
          2011,
          2012,
          2013,
          2014,
          2015,
          2016,
          2017,
          2018,
          2019,
          2020,
          2021,
          2022
         ],
         "xaxis": "x",
         "y": [
          56,
          137,
          110,
          105,
          112,
          134,
          108,
          124,
          174,
          153,
          160,
          115,
          140,
          131,
          153,
          134,
          139,
          140
         ],
         "yaxis": "y"
        },
        {
         "hovertemplate": "variable=('Tokyo-to Chiyoda-ku', 13101)<br>year=%{x}<br>value=%{y}<extra></extra>",
         "legendgroup": "('Tokyo-to Chiyoda-ku', 13101)",
         "line": {
          "color": "#EF553B",
          "dash": "solid"
         },
         "marker": {
          "symbol": "circle"
         },
         "mode": "lines+markers",
         "name": "('Tokyo-to Chiyoda-ku', 13101)",
         "orientation": "v",
         "showlegend": true,
         "type": "scatter",
         "x": [
          2005,
          2006,
          2007,
          2008,
          2009,
          2010,
          2011,
          2012,
          2013,
          2014,
          2015,
          2016,
          2017,
          2018,
          2019,
          2020,
          2021,
          2022
         ],
         "xaxis": "x",
         "y": [
          47,
          99,
          76,
          59,
          53,
          46,
          61,
          57,
          63,
          68,
          70,
          64,
          66,
          66,
          64,
          41,
          48,
          52
         ],
         "yaxis": "y"
        },
        {
         "hovertemplate": "variable=('Tokyo-to Chuo-ku', 13102)<br>year=%{x}<br>value=%{y}<extra></extra>",
         "legendgroup": "('Tokyo-to Chuo-ku', 13102)",
         "line": {
          "color": "#00cc96",
          "dash": "solid"
         },
         "marker": {
          "symbol": "circle"
         },
         "mode": "lines+markers",
         "name": "('Tokyo-to Chuo-ku', 13102)",
         "orientation": "v",
         "showlegend": true,
         "type": "scatter",
         "x": [
          2005,
          2006,
          2007,
          2008,
          2009,
          2010,
          2011,
          2012,
          2013,
          2014,
          2015,
          2016,
          2017,
          2018,
          2019,
          2020,
          2021,
          2022
         ],
         "xaxis": "x",
         "y": [
          65,
          114,
          97,
          95,
          64,
          90,
          87,
          86,
          114,
          92,
          90,
          93,
          76,
          84,
          81,
          66,
          80,
          62
         ],
         "yaxis": "y"
        },
        {
         "hovertemplate": "variable=('Tokyo-to Koto-ku', 13108)<br>year=%{x}<br>value=%{y}<extra></extra>",
         "legendgroup": "('Tokyo-to Koto-ku', 13108)",
         "line": {
          "color": "#ab63fa",
          "dash": "solid"
         },
         "marker": {
          "symbol": "circle"
         },
         "mode": "lines+markers",
         "name": "('Tokyo-to Koto-ku', 13108)",
         "orientation": "v",
         "showlegend": true,
         "type": "scatter",
         "x": [
          2005,
          2006,
          2007,
          2008,
          2009,
          2010,
          2011,
          2012,
          2013,
          2014,
          2015,
          2016,
          2017,
          2018,
          2019,
          2020,
          2021,
          2022
         ],
         "xaxis": "x",
         "y": [
          81,
          85,
          114,
          112,
          143,
          158,
          146,
          189,
          166,
          161,
          177,
          196,
          160,
          149,
          203,
          172,
          196,
          193
         ],
         "yaxis": "y"
        },
        {
         "hovertemplate": "variable=('Tokyo-to Minato-ku', 13103)<br>year=%{x}<br>value=%{y}<extra></extra>",
         "legendgroup": "('Tokyo-to Minato-ku', 13103)",
         "line": {
          "color": "#FFA15A",
          "dash": "solid"
         },
         "marker": {
          "symbol": "circle"
         },
         "mode": "lines+markers",
         "name": "('Tokyo-to Minato-ku', 13103)",
         "orientation": "v",
         "showlegend": true,
         "type": "scatter",
         "x": [
          2005,
          2006,
          2007,
          2008,
          2009,
          2010,
          2011,
          2012,
          2013,
          2014,
          2015,
          2016,
          2017,
          2018,
          2019,
          2020,
          2021,
          2022
         ],
         "xaxis": "x",
         "y": [
          70,
          137,
          107,
          76,
          84,
          98,
          85,
          96,
          139,
          118,
          123,
          126,
          128,
          103,
          99,
          73,
          78,
          101
         ],
         "yaxis": "y"
        },
        {
         "hovertemplate": "variable=('Tokyo-to Shibuya-ku', 13113)<br>year=%{x}<br>value=%{y}<extra></extra>",
         "legendgroup": "('Tokyo-to Shibuya-ku', 13113)",
         "line": {
          "color": "#19d3f3",
          "dash": "solid"
         },
         "marker": {
          "symbol": "circle"
         },
         "mode": "lines+markers",
         "name": "('Tokyo-to Shibuya-ku', 13113)",
         "orientation": "v",
         "showlegend": true,
         "type": "scatter",
         "x": [
          2005,
          2006,
          2007,
          2008,
          2009,
          2010,
          2011,
          2012,
          2013,
          2014,
          2015,
          2016,
          2017,
          2018,
          2019,
          2020,
          2021,
          2022
         ],
         "xaxis": "x",
         "y": [
          78,
          148,
          136,
          113,
          118,
          122,
          118,
          159,
          166,
          167,
          155,
          127,
          144,
          142,
          128,
          122,
          115,
          112
         ],
         "yaxis": "y"
        },
        {
         "hovertemplate": "variable=('Tokyo-to Shinagawa-ku', 13109)<br>year=%{x}<br>value=%{y}<extra></extra>",
         "legendgroup": "('Tokyo-to Shinagawa-ku', 13109)",
         "line": {
          "color": "#FF6692",
          "dash": "solid"
         },
         "marker": {
          "symbol": "circle"
         },
         "mode": "lines+markers",
         "name": "('Tokyo-to Shinagawa-ku', 13109)",
         "orientation": "v",
         "showlegend": true,
         "type": "scatter",
         "x": [
          2005,
          2006,
          2007,
          2008,
          2009,
          2010,
          2011,
          2012,
          2013,
          2014,
          2015,
          2016,
          2017,
          2018,
          2019,
          2020,
          2021,
          2022
         ],
         "xaxis": "x",
         "y": [
          106,
          193,
          191,
          144,
          198,
          185,
          211,
          218,
          233,
          241,
          211,
          175,
          225,
          218,
          210,
          227,
          231,
          219
         ],
         "yaxis": "y"
        },
        {
         "hovertemplate": "variable=('Tokyo-to Sumida-ku', 13107)<br>year=%{x}<br>value=%{y}<extra></extra>",
         "legendgroup": "('Tokyo-to Sumida-ku', 13107)",
         "line": {
          "color": "#B6E880",
          "dash": "solid"
         },
         "marker": {
          "symbol": "circle"
         },
         "mode": "lines+markers",
         "name": "('Tokyo-to Sumida-ku', 13107)",
         "orientation": "v",
         "showlegend": true,
         "type": "scatter",
         "x": [
          2005,
          2006,
          2007,
          2008,
          2009,
          2010,
          2011,
          2012,
          2013,
          2014,
          2015,
          2016,
          2017,
          2018,
          2019,
          2020,
          2021,
          2022
         ],
         "xaxis": "x",
         "y": [
          71,
          139,
          127,
          99,
          96,
          139,
          144,
          168,
          176,
          222,
          198,
          154,
          160,
          183,
          180,
          177,
          190,
          158
         ],
         "yaxis": "y"
        },
        {
         "hovertemplate": "variable=('Tokyo-to Taito-ku', 13106)<br>year=%{x}<br>value=%{y}<extra></extra>",
         "legendgroup": "('Tokyo-to Taito-ku', 13106)",
         "line": {
          "color": "#FF97FF",
          "dash": "solid"
         },
         "marker": {
          "symbol": "circle"
         },
         "mode": "lines+markers",
         "name": "('Tokyo-to Taito-ku', 13106)",
         "orientation": "v",
         "showlegend": true,
         "type": "scatter",
         "x": [
          2005,
          2006,
          2007,
          2008,
          2009,
          2010,
          2011,
          2012,
          2013,
          2014,
          2015,
          2016,
          2017,
          2018,
          2019,
          2020,
          2021,
          2022
         ],
         "xaxis": "x",
         "y": [
          69,
          82,
          88,
          80,
          104,
          133,
          117,
          128,
          151,
          155,
          154,
          151,
          170,
          137,
          161,
          157,
          126,
          124
         ],
         "yaxis": "y"
        },
        {
         "hovertemplate": "variable=('Aichi-ken Nagakute-shi', 23238)<br>year=%{x}<br>value=%{y}<extra></extra>",
         "legendgroup": "('Aichi-ken Nagakute-shi', 23238)",
         "line": {
          "color": "#FECB52",
          "dash": "solid"
         },
         "marker": {
          "symbol": "circle"
         },
         "mode": "lines+markers",
         "name": "('Aichi-ken Nagakute-shi', 23238)",
         "orientation": "v",
         "showlegend": true,
         "type": "scatter",
         "x": [
          2005,
          2006,
          2007,
          2008,
          2009,
          2010,
          2011,
          2012,
          2013,
          2014,
          2015,
          2016,
          2017,
          2018,
          2019,
          2020,
          2021,
          2022
         ],
         "xaxis": "x",
         "y": [
          null,
          1,
          28,
          45,
          43,
          49,
          56,
          59,
          68,
          58,
          37,
          48,
          65,
          57,
          53,
          70,
          53,
          53
         ],
         "yaxis": "y"
        },
        {
         "hovertemplate": "variable=('Akita-ken Nikaho-shi', 5214)<br>year=%{x}<br>value=%{y}<extra></extra>",
         "legendgroup": "('Akita-ken Nikaho-shi', 5214)",
         "line": {
          "color": "#636efa",
          "dash": "solid"
         },
         "marker": {
          "symbol": "circle"
         },
         "mode": "lines+markers",
         "name": "('Akita-ken Nikaho-shi', 5214)",
         "orientation": "v",
         "showlegend": true,
         "type": "scatter",
         "x": [
          2005,
          2006,
          2007,
          2008,
          2009,
          2010,
          2011,
          2012,
          2013,
          2014,
          2015,
          2016,
          2017,
          2018,
          2019,
          2020,
          2021,
          2022
         ],
         "xaxis": "x",
         "y": [
          null,
          null,
          17,
          16,
          25,
          21,
          24,
          7,
          22,
          16,
          14,
          17,
          9,
          16,
          17,
          17,
          19,
          14
         ],
         "yaxis": "y"
        },
        {
         "hovertemplate": "variable=('Chiba-ken Sammu-shi', 12237)<br>year=%{x}<br>value=%{y}<extra></extra>",
         "legendgroup": "('Chiba-ken Sammu-shi', 12237)",
         "line": {
          "color": "#EF553B",
          "dash": "solid"
         },
         "marker": {
          "symbol": "circle"
         },
         "mode": "lines+markers",
         "name": "('Chiba-ken Sammu-shi', 12237)",
         "orientation": "v",
         "showlegend": true,
         "type": "scatter",
         "x": [
          2005,
          2006,
          2007,
          2008,
          2009,
          2010,
          2011,
          2012,
          2013,
          2014,
          2015,
          2016,
          2017,
          2018,
          2019,
          2020,
          2021,
          2022
         ],
         "xaxis": "x",
         "y": [
          null,
          null,
          13,
          59,
          66,
          53,
          48,
          60,
          54,
          61,
          63,
          57,
          50,
          53,
          68,
          59,
          70,
          79
         ],
         "yaxis": "y"
        },
        {
         "hovertemplate": "variable=('Kanagawa-ken Aikawa-machi', 14401)<br>year=%{x}<br>value=%{y}<extra></extra>",
         "legendgroup": "('Kanagawa-ken Aikawa-machi', 14401)",
         "line": {
          "color": "#00cc96",
          "dash": "solid"
         },
         "marker": {
          "symbol": "circle"
         },
         "mode": "lines+markers",
         "name": "('Kanagawa-ken Aikawa-machi', 14401)",
         "orientation": "v",
         "showlegend": true,
         "type": "scatter",
         "x": [
          2005,
          2006,
          2007,
          2008,
          2009,
          2010,
          2011,
          2012,
          2013,
          2014,
          2015,
          2016,
          2017,
          2018,
          2019,
          2020,
          2021,
          2022
         ],
         "xaxis": "x",
         "y": [
          null,
          null,
          35,
          48,
          55,
          54,
          49,
          42,
          47,
          47,
          54,
          38,
          39,
          49,
          54,
          50,
          55,
          37
         ],
         "yaxis": "y"
        },
        {
         "hovertemplate": "variable=('Nagano-ken Karuizawa-machi', 20321)<br>year=%{x}<br>value=%{y}<extra></extra>",
         "legendgroup": "('Nagano-ken Karuizawa-machi', 20321)",
         "line": {
          "color": "#ab63fa",
          "dash": "solid"
         },
         "marker": {
          "symbol": "circle"
         },
         "mode": "lines+markers",
         "name": "('Nagano-ken Karuizawa-machi', 20321)",
         "orientation": "v",
         "showlegend": true,
         "type": "scatter",
         "x": [
          2005,
          2006,
          2007,
          2008,
          2009,
          2010,
          2011,
          2012,
          2013,
          2014,
          2015,
          2016,
          2017,
          2018,
          2019,
          2020,
          2021,
          2022
         ],
         "xaxis": "x",
         "y": [
          null,
          null,
          76,
          78,
          80,
          102,
          122,
          132,
          151,
          121,
          117,
          131,
          121,
          134,
          122,
          172,
          171,
          132
         ],
         "yaxis": "y"
        },
        {
         "hovertemplate": "variable=('Niigata-ken Kashiwazaki-shi', 15205)<br>year=%{x}<br>value=%{y}<extra></extra>",
         "legendgroup": "('Niigata-ken Kashiwazaki-shi', 15205)",
         "line": {
          "color": "#FFA15A",
          "dash": "solid"
         },
         "marker": {
          "symbol": "circle"
         },
         "mode": "lines+markers",
         "name": "('Niigata-ken Kashiwazaki-shi', 15205)",
         "orientation": "v",
         "showlegend": true,
         "type": "scatter",
         "x": [
          2005,
          2006,
          2007,
          2008,
          2009,
          2010,
          2011,
          2012,
          2013,
          2014,
          2015,
          2016,
          2017,
          2018,
          2019,
          2020,
          2021,
          2022
         ],
         "xaxis": "x",
         "y": [
          null,
          null,
          55,
          78,
          97,
          77,
          90,
          87,
          97,
          87,
          94,
          73,
          84,
          69,
          70,
          77,
          76,
          80
         ],
         "yaxis": "y"
        },
        {
         "hovertemplate": "variable=('Niigata-ken Yuzawa-machi', 15461)<br>year=%{x}<br>value=%{y}<extra></extra>",
         "legendgroup": "('Niigata-ken Yuzawa-machi', 15461)",
         "line": {
          "color": "#19d3f3",
          "dash": "solid"
         },
         "marker": {
          "symbol": "circle"
         },
         "mode": "lines+markers",
         "name": "('Niigata-ken Yuzawa-machi', 15461)",
         "orientation": "v",
         "showlegend": true,
         "type": "scatter",
         "x": [
          2005,
          2006,
          2007,
          2008,
          2009,
          2010,
          2011,
          2012,
          2013,
          2014,
          2015,
          2016,
          2017,
          2018,
          2019,
          2020,
          2021,
          2022
         ],
         "xaxis": "x",
         "y": [
          null,
          null,
          5,
          9,
          10,
          13,
          9,
          2,
          10,
          4,
          7,
          8,
          5,
          11,
          13,
          7,
          4,
          9
         ],
         "yaxis": "y"
        },
        {
         "hovertemplate": "variable=('Osaka-fu Kawachinagano-shi', 27216)<br>year=%{x}<br>value=%{y}<extra></extra>",
         "legendgroup": "('Osaka-fu Kawachinagano-shi', 27216)",
         "line": {
          "color": "#FF6692",
          "dash": "solid"
         },
         "marker": {
          "symbol": "circle"
         },
         "mode": "lines+markers",
         "name": "('Osaka-fu Kawachinagano-shi', 27216)",
         "orientation": "v",
         "showlegend": true,
         "type": "scatter",
         "x": [
          2005,
          2006,
          2007,
          2008,
          2009,
          2010,
          2011,
          2012,
          2013,
          2014,
          2015,
          2016,
          2017,
          2018,
          2019,
          2020,
          2021,
          2022
         ],
         "xaxis": "x",
         "y": [
          null,
          null,
          110,
          151,
          140,
          175,
          129,
          132,
          136,
          136,
          126,
          141,
          148,
          134,
          104,
          142,
          125,
          85
         ],
         "yaxis": "y"
        },
        {
         "hovertemplate": "variable=('Saitama-ken Moroyama-machi', 11326)<br>year=%{x}<br>value=%{y}<extra></extra>",
         "legendgroup": "('Saitama-ken Moroyama-machi', 11326)",
         "line": {
          "color": "#B6E880",
          "dash": "solid"
         },
         "marker": {
          "symbol": "circle"
         },
         "mode": "lines+markers",
         "name": "('Saitama-ken Moroyama-machi', 11326)",
         "orientation": "v",
         "showlegend": true,
         "type": "scatter",
         "x": [
          2005,
          2006,
          2007,
          2008,
          2009,
          2010,
          2011,
          2012,
          2013,
          2014,
          2015,
          2016,
          2017,
          2018,
          2019,
          2020,
          2021,
          2022
         ],
         "xaxis": "x",
         "y": [
          null,
          null,
          50,
          46,
          44,
          51,
          53,
          45,
          60,
          51,
          55,
          46,
          47,
          48,
          42,
          41,
          52,
          53
         ],
         "yaxis": "y"
        },
        {
         "hovertemplate": "variable=('Tochigi-ken Nikko-shi', 9206)<br>year=%{x}<br>value=%{y}<extra></extra>",
         "legendgroup": "('Tochigi-ken Nikko-shi', 9206)",
         "line": {
          "color": "#FF97FF",
          "dash": "solid"
         },
         "marker": {
          "symbol": "circle"
         },
         "mode": "lines+markers",
         "name": "('Tochigi-ken Nikko-shi', 9206)",
         "orientation": "v",
         "showlegend": true,
         "type": "scatter",
         "x": [
          2005,
          2006,
          2007,
          2008,
          2009,
          2010,
          2011,
          2012,
          2013,
          2014,
          2015,
          2016,
          2017,
          2018,
          2019,
          2020,
          2021,
          2022
         ],
         "xaxis": "x",
         "y": [
          null,
          null,
          41,
          46,
          49,
          80,
          44,
          75,
          70,
          68,
          71,
          77,
          84,
          69,
          61,
          64,
          65,
          75
         ],
         "yaxis": "y"
        },
        {
         "hovertemplate": "variable=('Chiba-ken Isumi-shi', 12238)<br>year=%{x}<br>value=%{y}<extra></extra>",
         "legendgroup": "('Chiba-ken Isumi-shi', 12238)",
         "line": {
          "color": "#FECB52",
          "dash": "solid"
         },
         "marker": {
          "symbol": "circle"
         },
         "mode": "lines+markers",
         "name": "('Chiba-ken Isumi-shi', 12238)",
         "orientation": "v",
         "showlegend": true,
         "type": "scatter",
         "x": [
          2005,
          2006,
          2007,
          2008,
          2009,
          2010,
          2011,
          2012,
          2013,
          2014,
          2015,
          2016,
          2017,
          2018,
          2019,
          2020,
          2021,
          2022
         ],
         "xaxis": "x",
         "y": [
          null,
          null,
          null,
          42,
          62,
          81,
          65,
          67,
          67,
          71,
          75,
          79,
          62,
          63,
          62,
          79,
          79,
          79
         ],
         "yaxis": "y"
        },
        {
         "hovertemplate": "variable=('Hokkaido Muroran-shi', 1205)<br>year=%{x}<br>value=%{y}<extra></extra>",
         "legendgroup": "('Hokkaido Muroran-shi', 1205)",
         "line": {
          "color": "#636efa",
          "dash": "solid"
         },
         "marker": {
          "symbol": "circle"
         },
         "mode": "lines+markers",
         "name": "('Hokkaido Muroran-shi', 1205)",
         "orientation": "v",
         "showlegend": true,
         "type": "scatter",
         "x": [
          2005,
          2006,
          2007,
          2008,
          2009,
          2010,
          2011,
          2012,
          2013,
          2014,
          2015,
          2016,
          2017,
          2018,
          2019,
          2020,
          2021,
          2022
         ],
         "xaxis": "x",
         "y": [
          null,
          null,
          null,
          70,
          79,
          70,
          88,
          91,
          78,
          87,
          114,
          92,
          104,
          64,
          89,
          117,
          150,
          127
         ],
         "yaxis": "y"
        },
        {
         "hovertemplate": "variable=('Hokkaido Otaru-shi', 1203)<br>year=%{x}<br>value=%{y}<extra></extra>",
         "legendgroup": "('Hokkaido Otaru-shi', 1203)",
         "line": {
          "color": "#EF553B",
          "dash": "solid"
         },
         "marker": {
          "symbol": "circle"
         },
         "mode": "lines+markers",
         "name": "('Hokkaido Otaru-shi', 1203)",
         "orientation": "v",
         "showlegend": true,
         "type": "scatter",
         "x": [
          2005,
          2006,
          2007,
          2008,
          2009,
          2010,
          2011,
          2012,
          2013,
          2014,
          2015,
          2016,
          2017,
          2018,
          2019,
          2020,
          2021,
          2022
         ],
         "xaxis": "x",
         "y": [
          null,
          null,
          null,
          119,
          115,
          104,
          131,
          123,
          126,
          123,
          127,
          131,
          123,
          152,
          99,
          180,
          184,
          169
         ],
         "yaxis": "y"
        }
       ],
       "layout": {
        "autosize": false,
        "height": 800,
        "hovermode": "closest",
        "legend": {
         "title": {
          "text": "variable"
         },
         "tracegroupgap": 0
        },
        "template": {
         "data": {
          "bar": [
           {
            "error_x": {
             "color": "#2a3f5f"
            },
            "error_y": {
             "color": "#2a3f5f"
            },
            "marker": {
             "line": {
              "color": "#E5ECF6",
              "width": 0.5
             },
             "pattern": {
              "fillmode": "overlay",
              "size": 10,
              "solidity": 0.2
             }
            },
            "type": "bar"
           }
          ],
          "barpolar": [
           {
            "marker": {
             "line": {
              "color": "#E5ECF6",
              "width": 0.5
             },
             "pattern": {
              "fillmode": "overlay",
              "size": 10,
              "solidity": 0.2
             }
            },
            "type": "barpolar"
           }
          ],
          "carpet": [
           {
            "aaxis": {
             "endlinecolor": "#2a3f5f",
             "gridcolor": "white",
             "linecolor": "white",
             "minorgridcolor": "white",
             "startlinecolor": "#2a3f5f"
            },
            "baxis": {
             "endlinecolor": "#2a3f5f",
             "gridcolor": "white",
             "linecolor": "white",
             "minorgridcolor": "white",
             "startlinecolor": "#2a3f5f"
            },
            "type": "carpet"
           }
          ],
          "choropleth": [
           {
            "colorbar": {
             "outlinewidth": 0,
             "ticks": ""
            },
            "type": "choropleth"
           }
          ],
          "contour": [
           {
            "colorbar": {
             "outlinewidth": 0,
             "ticks": ""
            },
            "colorscale": [
             [
              0,
              "#0d0887"
             ],
             [
              0.1111111111111111,
              "#46039f"
             ],
             [
              0.2222222222222222,
              "#7201a8"
             ],
             [
              0.3333333333333333,
              "#9c179e"
             ],
             [
              0.4444444444444444,
              "#bd3786"
             ],
             [
              0.5555555555555556,
              "#d8576b"
             ],
             [
              0.6666666666666666,
              "#ed7953"
             ],
             [
              0.7777777777777778,
              "#fb9f3a"
             ],
             [
              0.8888888888888888,
              "#fdca26"
             ],
             [
              1,
              "#f0f921"
             ]
            ],
            "type": "contour"
           }
          ],
          "contourcarpet": [
           {
            "colorbar": {
             "outlinewidth": 0,
             "ticks": ""
            },
            "type": "contourcarpet"
           }
          ],
          "heatmap": [
           {
            "colorbar": {
             "outlinewidth": 0,
             "ticks": ""
            },
            "colorscale": [
             [
              0,
              "#0d0887"
             ],
             [
              0.1111111111111111,
              "#46039f"
             ],
             [
              0.2222222222222222,
              "#7201a8"
             ],
             [
              0.3333333333333333,
              "#9c179e"
             ],
             [
              0.4444444444444444,
              "#bd3786"
             ],
             [
              0.5555555555555556,
              "#d8576b"
             ],
             [
              0.6666666666666666,
              "#ed7953"
             ],
             [
              0.7777777777777778,
              "#fb9f3a"
             ],
             [
              0.8888888888888888,
              "#fdca26"
             ],
             [
              1,
              "#f0f921"
             ]
            ],
            "type": "heatmap"
           }
          ],
          "heatmapgl": [
           {
            "colorbar": {
             "outlinewidth": 0,
             "ticks": ""
            },
            "colorscale": [
             [
              0,
              "#0d0887"
             ],
             [
              0.1111111111111111,
              "#46039f"
             ],
             [
              0.2222222222222222,
              "#7201a8"
             ],
             [
              0.3333333333333333,
              "#9c179e"
             ],
             [
              0.4444444444444444,
              "#bd3786"
             ],
             [
              0.5555555555555556,
              "#d8576b"
             ],
             [
              0.6666666666666666,
              "#ed7953"
             ],
             [
              0.7777777777777778,
              "#fb9f3a"
             ],
             [
              0.8888888888888888,
              "#fdca26"
             ],
             [
              1,
              "#f0f921"
             ]
            ],
            "type": "heatmapgl"
           }
          ],
          "histogram": [
           {
            "marker": {
             "pattern": {
              "fillmode": "overlay",
              "size": 10,
              "solidity": 0.2
             }
            },
            "type": "histogram"
           }
          ],
          "histogram2d": [
           {
            "colorbar": {
             "outlinewidth": 0,
             "ticks": ""
            },
            "colorscale": [
             [
              0,
              "#0d0887"
             ],
             [
              0.1111111111111111,
              "#46039f"
             ],
             [
              0.2222222222222222,
              "#7201a8"
             ],
             [
              0.3333333333333333,
              "#9c179e"
             ],
             [
              0.4444444444444444,
              "#bd3786"
             ],
             [
              0.5555555555555556,
              "#d8576b"
             ],
             [
              0.6666666666666666,
              "#ed7953"
             ],
             [
              0.7777777777777778,
              "#fb9f3a"
             ],
             [
              0.8888888888888888,
              "#fdca26"
             ],
             [
              1,
              "#f0f921"
             ]
            ],
            "type": "histogram2d"
           }
          ],
          "histogram2dcontour": [
           {
            "colorbar": {
             "outlinewidth": 0,
             "ticks": ""
            },
            "colorscale": [
             [
              0,
              "#0d0887"
             ],
             [
              0.1111111111111111,
              "#46039f"
             ],
             [
              0.2222222222222222,
              "#7201a8"
             ],
             [
              0.3333333333333333,
              "#9c179e"
             ],
             [
              0.4444444444444444,
              "#bd3786"
             ],
             [
              0.5555555555555556,
              "#d8576b"
             ],
             [
              0.6666666666666666,
              "#ed7953"
             ],
             [
              0.7777777777777778,
              "#fb9f3a"
             ],
             [
              0.8888888888888888,
              "#fdca26"
             ],
             [
              1,
              "#f0f921"
             ]
            ],
            "type": "histogram2dcontour"
           }
          ],
          "mesh3d": [
           {
            "colorbar": {
             "outlinewidth": 0,
             "ticks": ""
            },
            "type": "mesh3d"
           }
          ],
          "parcoords": [
           {
            "line": {
             "colorbar": {
              "outlinewidth": 0,
              "ticks": ""
             }
            },
            "type": "parcoords"
           }
          ],
          "pie": [
           {
            "automargin": true,
            "type": "pie"
           }
          ],
          "scatter": [
           {
            "fillpattern": {
             "fillmode": "overlay",
             "size": 10,
             "solidity": 0.2
            },
            "type": "scatter"
           }
          ],
          "scatter3d": [
           {
            "line": {
             "colorbar": {
              "outlinewidth": 0,
              "ticks": ""
             }
            },
            "marker": {
             "colorbar": {
              "outlinewidth": 0,
              "ticks": ""
             }
            },
            "type": "scatter3d"
           }
          ],
          "scattercarpet": [
           {
            "marker": {
             "colorbar": {
              "outlinewidth": 0,
              "ticks": ""
             }
            },
            "type": "scattercarpet"
           }
          ],
          "scattergeo": [
           {
            "marker": {
             "colorbar": {
              "outlinewidth": 0,
              "ticks": ""
             }
            },
            "type": "scattergeo"
           }
          ],
          "scattergl": [
           {
            "marker": {
             "colorbar": {
              "outlinewidth": 0,
              "ticks": ""
             }
            },
            "type": "scattergl"
           }
          ],
          "scattermapbox": [
           {
            "marker": {
             "colorbar": {
              "outlinewidth": 0,
              "ticks": ""
             }
            },
            "type": "scattermapbox"
           }
          ],
          "scatterpolar": [
           {
            "marker": {
             "colorbar": {
              "outlinewidth": 0,
              "ticks": ""
             }
            },
            "type": "scatterpolar"
           }
          ],
          "scatterpolargl": [
           {
            "marker": {
             "colorbar": {
              "outlinewidth": 0,
              "ticks": ""
             }
            },
            "type": "scatterpolargl"
           }
          ],
          "scatterternary": [
           {
            "marker": {
             "colorbar": {
              "outlinewidth": 0,
              "ticks": ""
             }
            },
            "type": "scatterternary"
           }
          ],
          "surface": [
           {
            "colorbar": {
             "outlinewidth": 0,
             "ticks": ""
            },
            "colorscale": [
             [
              0,
              "#0d0887"
             ],
             [
              0.1111111111111111,
              "#46039f"
             ],
             [
              0.2222222222222222,
              "#7201a8"
             ],
             [
              0.3333333333333333,
              "#9c179e"
             ],
             [
              0.4444444444444444,
              "#bd3786"
             ],
             [
              0.5555555555555556,
              "#d8576b"
             ],
             [
              0.6666666666666666,
              "#ed7953"
             ],
             [
              0.7777777777777778,
              "#fb9f3a"
             ],
             [
              0.8888888888888888,
              "#fdca26"
             ],
             [
              1,
              "#f0f921"
             ]
            ],
            "type": "surface"
           }
          ],
          "table": [
           {
            "cells": {
             "fill": {
              "color": "#EBF0F8"
             },
             "line": {
              "color": "white"
             }
            },
            "header": {
             "fill": {
              "color": "#C8D4E3"
             },
             "line": {
              "color": "white"
             }
            },
            "type": "table"
           }
          ]
         },
         "layout": {
          "annotationdefaults": {
           "arrowcolor": "#2a3f5f",
           "arrowhead": 0,
           "arrowwidth": 1
          },
          "autotypenumbers": "strict",
          "coloraxis": {
           "colorbar": {
            "outlinewidth": 0,
            "ticks": ""
           }
          },
          "colorscale": {
           "diverging": [
            [
             0,
             "#8e0152"
            ],
            [
             0.1,
             "#c51b7d"
            ],
            [
             0.2,
             "#de77ae"
            ],
            [
             0.3,
             "#f1b6da"
            ],
            [
             0.4,
             "#fde0ef"
            ],
            [
             0.5,
             "#f7f7f7"
            ],
            [
             0.6,
             "#e6f5d0"
            ],
            [
             0.7,
             "#b8e186"
            ],
            [
             0.8,
             "#7fbc41"
            ],
            [
             0.9,
             "#4d9221"
            ],
            [
             1,
             "#276419"
            ]
           ],
           "sequential": [
            [
             0,
             "#0d0887"
            ],
            [
             0.1111111111111111,
             "#46039f"
            ],
            [
             0.2222222222222222,
             "#7201a8"
            ],
            [
             0.3333333333333333,
             "#9c179e"
            ],
            [
             0.4444444444444444,
             "#bd3786"
            ],
            [
             0.5555555555555556,
             "#d8576b"
            ],
            [
             0.6666666666666666,
             "#ed7953"
            ],
            [
             0.7777777777777778,
             "#fb9f3a"
            ],
            [
             0.8888888888888888,
             "#fdca26"
            ],
            [
             1,
             "#f0f921"
            ]
           ],
           "sequentialminus": [
            [
             0,
             "#0d0887"
            ],
            [
             0.1111111111111111,
             "#46039f"
            ],
            [
             0.2222222222222222,
             "#7201a8"
            ],
            [
             0.3333333333333333,
             "#9c179e"
            ],
            [
             0.4444444444444444,
             "#bd3786"
            ],
            [
             0.5555555555555556,
             "#d8576b"
            ],
            [
             0.6666666666666666,
             "#ed7953"
            ],
            [
             0.7777777777777778,
             "#fb9f3a"
            ],
            [
             0.8888888888888888,
             "#fdca26"
            ],
            [
             1,
             "#f0f921"
            ]
           ]
          },
          "colorway": [
           "#636efa",
           "#EF553B",
           "#00cc96",
           "#ab63fa",
           "#FFA15A",
           "#19d3f3",
           "#FF6692",
           "#B6E880",
           "#FF97FF",
           "#FECB52"
          ],
          "font": {
           "color": "#2a3f5f"
          },
          "geo": {
           "bgcolor": "white",
           "lakecolor": "white",
           "landcolor": "#E5ECF6",
           "showlakes": true,
           "showland": true,
           "subunitcolor": "white"
          },
          "hoverlabel": {
           "align": "left"
          },
          "hovermode": "closest",
          "mapbox": {
           "style": "light"
          },
          "paper_bgcolor": "white",
          "plot_bgcolor": "#E5ECF6",
          "polar": {
           "angularaxis": {
            "gridcolor": "white",
            "linecolor": "white",
            "ticks": ""
           },
           "bgcolor": "#E5ECF6",
           "radialaxis": {
            "gridcolor": "white",
            "linecolor": "white",
            "ticks": ""
           }
          },
          "scene": {
           "xaxis": {
            "backgroundcolor": "#E5ECF6",
            "gridcolor": "white",
            "gridwidth": 2,
            "linecolor": "white",
            "showbackground": true,
            "ticks": "",
            "zerolinecolor": "white"
           },
           "yaxis": {
            "backgroundcolor": "#E5ECF6",
            "gridcolor": "white",
            "gridwidth": 2,
            "linecolor": "white",
            "showbackground": true,
            "ticks": "",
            "zerolinecolor": "white"
           },
           "zaxis": {
            "backgroundcolor": "#E5ECF6",
            "gridcolor": "white",
            "gridwidth": 2,
            "linecolor": "white",
            "showbackground": true,
            "ticks": "",
            "zerolinecolor": "white"
           }
          },
          "shapedefaults": {
           "line": {
            "color": "#2a3f5f"
           }
          },
          "ternary": {
           "aaxis": {
            "gridcolor": "white",
            "linecolor": "white",
            "ticks": ""
           },
           "baxis": {
            "gridcolor": "white",
            "linecolor": "white",
            "ticks": ""
           },
           "bgcolor": "#E5ECF6",
           "caxis": {
            "gridcolor": "white",
            "linecolor": "white",
            "ticks": ""
           }
          },
          "title": {
           "x": 0.05
          },
          "xaxis": {
           "automargin": true,
           "gridcolor": "white",
           "linecolor": "white",
           "ticks": "",
           "title": {
            "standoff": 15
           },
           "zerolinecolor": "white",
           "zerolinewidth": 2
          },
          "yaxis": {
           "automargin": true,
           "gridcolor": "white",
           "linecolor": "white",
           "ticks": "",
           "title": {
            "standoff": 15
           },
           "zerolinecolor": "white",
           "zerolinewidth": 2
          }
         }
        },
        "title": {
         "text": "Count for top and bottom 10 municipalities"
        },
        "width": 1600,
        "xaxis": {
         "anchor": "y",
         "domain": [
          0,
          1
         ],
         "title": {
          "text": "year"
         }
        },
        "yaxis": {
         "anchor": "x",
         "domain": [
          0,
          1
         ],
         "title": {
          "text": "value"
         }
        }
       }
      }
     },
     "metadata": {},
     "output_type": "display_data"
    }
   ],
   "source": [
    "plot_time_series(\n",
    "    plot_df,\n",
    "    \"count\",\n",
    "    group_by_columns,\n",
    "    granularity_columns,\n",
    "    f\"Count for top and bottom {return_n} municipalities\",\n",
    "    # visible=\"legendonly\",\n",
    ")"
   ]
  },
  {
   "cell_type": "code",
   "execution_count": 22,
   "metadata": {},
   "outputs": [],
   "source": [
    "# See if you can make a liquid long short equity strategy using REITs\n",
    "\n",
    "# MVP\n",
    "# Validating"
   ]
  },
  {
   "cell_type": "code",
   "execution_count": null,
   "metadata": {},
   "outputs": [],
   "source": [
    "# Notebook idea\n",
    "# Put in area\n",
    "# See Graph of all factors\n",
    "# See Graph of all prices\n",
    "\n"
   ]
  }
 ],
 "metadata": {
  "kernelspec": {
   "display_name": "venv",
   "language": "python",
   "name": "python3"
  },
  "language_info": {
   "codemirror_mode": {
    "name": "ipython",
    "version": 3
   },
   "file_extension": ".py",
   "mimetype": "text/x-python",
   "name": "python",
   "nbconvert_exporter": "python",
   "pygments_lexer": "ipython3",
   "version": "3.12.0"
  }
 },
 "nbformat": 4,
 "nbformat_minor": 2
}
