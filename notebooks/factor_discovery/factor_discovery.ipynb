{
 "cells": [
  {
   "cell_type": "code",
   "execution_count": 1,
   "metadata": {},
   "outputs": [],
   "source": [
    "import warnings\n",
    "\n",
    "import pandas as pd\n",
    "\n",
    "from jre_utils.datapath import factor_data_paths, get_derived_csv_path\n",
    "from jre_utils.config import asset_types, statistics, area_levels, period_cols\n",
    "from jre_utils.visualize import plot_time_series\n",
    "from jre_utils.process import (\n",
    "    get_most_active_municipalities,\n",
    "    get_highest_growth_municipalities,\n",
    "    get_cumulative_growth,\n",
    ")\n",
    "\n",
    "warnings.filterwarnings(\"ignore\")\n",
    "pd.set_option(\"display.max_columns\", None)"
   ]
  },
  {
   "cell_type": "code",
   "execution_count": 2,
   "metadata": {},
   "outputs": [],
   "source": [
    "factor = \"migration\"\n",
    "factor_column = \"net_migration_ratio\""
   ]
  },
  {
   "cell_type": "code",
   "execution_count": 13,
   "metadata": {},
   "outputs": [],
   "source": [
    "period = \"yearly\"\n",
    "area_level = \"municipality\"\n",
    "asset_type = \"building\"\n",
    "statistic = \"median\"\n",
    "\n",
    "granularity_columns = area_levels[area_level][\"columns\"]\n",
    "group_by_columns = granularity_columns + [period_cols[period]]\n",
    "display_columns = list(statistics[statistic].keys())\n",
    "\n",
    "label = asset_types[asset_type][\"label\"]\n",
    "\n",
    "metric = asset_types[asset_type][\"metric\"]\n",
    "metric_pct_chg = asset_types[asset_type][\"metric_pct_chg\"]\n",
    "upcoming_metric = \"Upcoming\" + metric\n",
    "upcoming_metric_pct_chg = \"Upcoming\" + metric_pct_chg"
   ]
  },
  {
   "cell_type": "code",
   "execution_count": 14,
   "metadata": {},
   "outputs": [],
   "source": [
    "core_df_path = get_derived_csv_path(period, area_level, asset_type, statistic)\n",
    "factor_path = factor_data_paths[\"processed\"][factor][area_level]"
   ]
  },
  {
   "cell_type": "code",
   "execution_count": 15,
   "metadata": {},
   "outputs": [],
   "source": [
    "df = pd.read_csv(core_df_path)\n",
    "factor_df = pd.read_csv(factor_path)\n",
    "\n",
    "# time box\n",
    "start_year = 2005\n",
    "end_year = 2022\n",
    "df = df[(df[\"year\"] >= start_year) & (df[\"year\"] <= end_year)]\n",
    "\n",
    "df = df.merge(factor_df, on=group_by_columns, how=\"left\")\n",
    "df = df[~df[[\"Prefecture\", \"Municipality\", \"year\"]].duplicated()]\n",
    "\n",
    "# prepare metrics\n",
    "df[metric_pct_chg] = df.groupby(granularity_columns)[metric].pct_change(fill_method=\"ffill\").fillna(0) # fill na with 0 for visualizations\n",
    "\n",
    "# set up target variables\n",
    "df[upcoming_metric] = df.groupby(granularity_columns)[metric].shift(-1)\n",
    "df[upcoming_metric_pct_chg] = df.groupby(granularity_columns)[metric_pct_chg].shift(-1)"
   ]
  },
  {
   "cell_type": "code",
   "execution_count": 16,
   "metadata": {},
   "outputs": [
    {
     "data": {
      "text/html": [
       "<div>\n",
       "<style scoped>\n",
       "    .dataframe tbody tr th:only-of-type {\n",
       "        vertical-align: middle;\n",
       "    }\n",
       "\n",
       "    .dataframe tbody tr th {\n",
       "        vertical-align: top;\n",
       "    }\n",
       "\n",
       "    .dataframe thead th {\n",
       "        text-align: right;\n",
       "    }\n",
       "</style>\n",
       "<table border=\"1\" class=\"dataframe\">\n",
       "  <thead>\n",
       "    <tr style=\"text-align: right;\">\n",
       "      <th></th>\n",
       "      <th>Prefecture</th>\n",
       "      <th>Municipality</th>\n",
       "      <th>year</th>\n",
       "      <th>TradePricePerArea</th>\n",
       "      <th>UnitPrice</th>\n",
       "      <th>Count</th>\n",
       "      <th>net_migration_ratio</th>\n",
       "      <th>TradePricePctChg</th>\n",
       "      <th>UpcomingTradePricePerArea</th>\n",
       "      <th>UpcomingTradePricePctChg</th>\n",
       "    </tr>\n",
       "  </thead>\n",
       "  <tbody>\n",
       "    <tr>\n",
       "      <th>2450</th>\n",
       "      <td>Tokyo</td>\n",
       "      <td>Chiyoda</td>\n",
       "      <td>2005</td>\n",
       "      <td>1.680000e+06</td>\n",
       "      <td>NaN</td>\n",
       "      <td>47</td>\n",
       "      <td>0.019842</td>\n",
       "      <td>0.000000</td>\n",
       "      <td>2.111111e+06</td>\n",
       "      <td>0.256614</td>\n",
       "    </tr>\n",
       "    <tr>\n",
       "      <th>2451</th>\n",
       "      <td>Tokyo</td>\n",
       "      <td>Chiyoda</td>\n",
       "      <td>2006</td>\n",
       "      <td>2.111111e+06</td>\n",
       "      <td>NaN</td>\n",
       "      <td>99</td>\n",
       "      <td>0.019416</td>\n",
       "      <td>0.256614</td>\n",
       "      <td>2.400000e+06</td>\n",
       "      <td>0.136842</td>\n",
       "    </tr>\n",
       "    <tr>\n",
       "      <th>2452</th>\n",
       "      <td>Tokyo</td>\n",
       "      <td>Chiyoda</td>\n",
       "      <td>2007</td>\n",
       "      <td>2.400000e+06</td>\n",
       "      <td>NaN</td>\n",
       "      <td>76</td>\n",
       "      <td>0.008594</td>\n",
       "      <td>0.136842</td>\n",
       "      <td>2.333333e+06</td>\n",
       "      <td>-0.027778</td>\n",
       "    </tr>\n",
       "    <tr>\n",
       "      <th>2453</th>\n",
       "      <td>Tokyo</td>\n",
       "      <td>Chiyoda</td>\n",
       "      <td>2008</td>\n",
       "      <td>2.333333e+06</td>\n",
       "      <td>NaN</td>\n",
       "      <td>59</td>\n",
       "      <td>0.010735</td>\n",
       "      <td>-0.027778</td>\n",
       "      <td>1.920000e+06</td>\n",
       "      <td>-0.177143</td>\n",
       "    </tr>\n",
       "    <tr>\n",
       "      <th>2454</th>\n",
       "      <td>Tokyo</td>\n",
       "      <td>Chiyoda</td>\n",
       "      <td>2009</td>\n",
       "      <td>1.920000e+06</td>\n",
       "      <td>NaN</td>\n",
       "      <td>53</td>\n",
       "      <td>0.019982</td>\n",
       "      <td>-0.177143</td>\n",
       "      <td>2.083035e+06</td>\n",
       "      <td>0.084914</td>\n",
       "    </tr>\n",
       "    <tr>\n",
       "      <th>2455</th>\n",
       "      <td>Tokyo</td>\n",
       "      <td>Chiyoda</td>\n",
       "      <td>2010</td>\n",
       "      <td>2.083035e+06</td>\n",
       "      <td>NaN</td>\n",
       "      <td>46</td>\n",
       "      <td>0.012579</td>\n",
       "      <td>0.084914</td>\n",
       "      <td>1.545455e+06</td>\n",
       "      <td>-0.258075</td>\n",
       "    </tr>\n",
       "    <tr>\n",
       "      <th>2456</th>\n",
       "      <td>Tokyo</td>\n",
       "      <td>Chiyoda</td>\n",
       "      <td>2011</td>\n",
       "      <td>1.545455e+06</td>\n",
       "      <td>NaN</td>\n",
       "      <td>61</td>\n",
       "      <td>0.013117</td>\n",
       "      <td>-0.258075</td>\n",
       "      <td>1.488889e+06</td>\n",
       "      <td>-0.036601</td>\n",
       "    </tr>\n",
       "    <tr>\n",
       "      <th>2457</th>\n",
       "      <td>Tokyo</td>\n",
       "      <td>Chiyoda</td>\n",
       "      <td>2012</td>\n",
       "      <td>1.488889e+06</td>\n",
       "      <td>NaN</td>\n",
       "      <td>57</td>\n",
       "      <td>0.019949</td>\n",
       "      <td>-0.036601</td>\n",
       "      <td>2.162162e+06</td>\n",
       "      <td>0.452198</td>\n",
       "    </tr>\n",
       "    <tr>\n",
       "      <th>2458</th>\n",
       "      <td>Tokyo</td>\n",
       "      <td>Chiyoda</td>\n",
       "      <td>2013</td>\n",
       "      <td>2.162162e+06</td>\n",
       "      <td>NaN</td>\n",
       "      <td>63</td>\n",
       "      <td>0.035358</td>\n",
       "      <td>0.452198</td>\n",
       "      <td>2.037500e+06</td>\n",
       "      <td>-0.057656</td>\n",
       "    </tr>\n",
       "    <tr>\n",
       "      <th>2459</th>\n",
       "      <td>Tokyo</td>\n",
       "      <td>Chiyoda</td>\n",
       "      <td>2014</td>\n",
       "      <td>2.037500e+06</td>\n",
       "      <td>NaN</td>\n",
       "      <td>68</td>\n",
       "      <td>0.043446</td>\n",
       "      <td>-0.057656</td>\n",
       "      <td>2.124060e+06</td>\n",
       "      <td>0.042484</td>\n",
       "    </tr>\n",
       "    <tr>\n",
       "      <th>2460</th>\n",
       "      <td>Tokyo</td>\n",
       "      <td>Chiyoda</td>\n",
       "      <td>2015</td>\n",
       "      <td>2.124060e+06</td>\n",
       "      <td>NaN</td>\n",
       "      <td>70</td>\n",
       "      <td>0.023197</td>\n",
       "      <td>0.042484</td>\n",
       "      <td>2.785714e+06</td>\n",
       "      <td>0.311504</td>\n",
       "    </tr>\n",
       "    <tr>\n",
       "      <th>2461</th>\n",
       "      <td>Tokyo</td>\n",
       "      <td>Chiyoda</td>\n",
       "      <td>2016</td>\n",
       "      <td>2.785714e+06</td>\n",
       "      <td>NaN</td>\n",
       "      <td>64</td>\n",
       "      <td>0.014473</td>\n",
       "      <td>0.311504</td>\n",
       "      <td>3.699248e+06</td>\n",
       "      <td>0.327935</td>\n",
       "    </tr>\n",
       "    <tr>\n",
       "      <th>2462</th>\n",
       "      <td>Tokyo</td>\n",
       "      <td>Chiyoda</td>\n",
       "      <td>2017</td>\n",
       "      <td>3.699248e+06</td>\n",
       "      <td>NaN</td>\n",
       "      <td>66</td>\n",
       "      <td>0.017522</td>\n",
       "      <td>0.327935</td>\n",
       "      <td>3.061189e+06</td>\n",
       "      <td>-0.172484</td>\n",
       "    </tr>\n",
       "    <tr>\n",
       "      <th>2463</th>\n",
       "      <td>Tokyo</td>\n",
       "      <td>Chiyoda</td>\n",
       "      <td>2018</td>\n",
       "      <td>3.061189e+06</td>\n",
       "      <td>NaN</td>\n",
       "      <td>66</td>\n",
       "      <td>0.032212</td>\n",
       "      <td>-0.172484</td>\n",
       "      <td>3.095455e+06</td>\n",
       "      <td>0.011194</td>\n",
       "    </tr>\n",
       "    <tr>\n",
       "      <th>2464</th>\n",
       "      <td>Tokyo</td>\n",
       "      <td>Chiyoda</td>\n",
       "      <td>2019</td>\n",
       "      <td>3.095455e+06</td>\n",
       "      <td>NaN</td>\n",
       "      <td>64</td>\n",
       "      <td>0.028108</td>\n",
       "      <td>0.011194</td>\n",
       "      <td>3.500000e+06</td>\n",
       "      <td>0.130690</td>\n",
       "    </tr>\n",
       "    <tr>\n",
       "      <th>2465</th>\n",
       "      <td>Tokyo</td>\n",
       "      <td>Chiyoda</td>\n",
       "      <td>2020</td>\n",
       "      <td>3.500000e+06</td>\n",
       "      <td>NaN</td>\n",
       "      <td>41</td>\n",
       "      <td>0.014607</td>\n",
       "      <td>0.130690</td>\n",
       "      <td>3.344915e+06</td>\n",
       "      <td>-0.044310</td>\n",
       "    </tr>\n",
       "    <tr>\n",
       "      <th>2466</th>\n",
       "      <td>Tokyo</td>\n",
       "      <td>Chiyoda</td>\n",
       "      <td>2021</td>\n",
       "      <td>3.344915e+06</td>\n",
       "      <td>NaN</td>\n",
       "      <td>48</td>\n",
       "      <td>-0.000976</td>\n",
       "      <td>-0.044310</td>\n",
       "      <td>4.333333e+06</td>\n",
       "      <td>0.295499</td>\n",
       "    </tr>\n",
       "    <tr>\n",
       "      <th>2467</th>\n",
       "      <td>Tokyo</td>\n",
       "      <td>Chiyoda</td>\n",
       "      <td>2022</td>\n",
       "      <td>4.333333e+06</td>\n",
       "      <td>NaN</td>\n",
       "      <td>52</td>\n",
       "      <td>-0.001383</td>\n",
       "      <td>0.295499</td>\n",
       "      <td>NaN</td>\n",
       "      <td>NaN</td>\n",
       "    </tr>\n",
       "  </tbody>\n",
       "</table>\n",
       "</div>"
      ],
      "text/plain": [
       "     Prefecture Municipality  year  TradePricePerArea  UnitPrice  Count  \\\n",
       "2450      Tokyo      Chiyoda  2005       1.680000e+06        NaN     47   \n",
       "2451      Tokyo      Chiyoda  2006       2.111111e+06        NaN     99   \n",
       "2452      Tokyo      Chiyoda  2007       2.400000e+06        NaN     76   \n",
       "2453      Tokyo      Chiyoda  2008       2.333333e+06        NaN     59   \n",
       "2454      Tokyo      Chiyoda  2009       1.920000e+06        NaN     53   \n",
       "2455      Tokyo      Chiyoda  2010       2.083035e+06        NaN     46   \n",
       "2456      Tokyo      Chiyoda  2011       1.545455e+06        NaN     61   \n",
       "2457      Tokyo      Chiyoda  2012       1.488889e+06        NaN     57   \n",
       "2458      Tokyo      Chiyoda  2013       2.162162e+06        NaN     63   \n",
       "2459      Tokyo      Chiyoda  2014       2.037500e+06        NaN     68   \n",
       "2460      Tokyo      Chiyoda  2015       2.124060e+06        NaN     70   \n",
       "2461      Tokyo      Chiyoda  2016       2.785714e+06        NaN     64   \n",
       "2462      Tokyo      Chiyoda  2017       3.699248e+06        NaN     66   \n",
       "2463      Tokyo      Chiyoda  2018       3.061189e+06        NaN     66   \n",
       "2464      Tokyo      Chiyoda  2019       3.095455e+06        NaN     64   \n",
       "2465      Tokyo      Chiyoda  2020       3.500000e+06        NaN     41   \n",
       "2466      Tokyo      Chiyoda  2021       3.344915e+06        NaN     48   \n",
       "2467      Tokyo      Chiyoda  2022       4.333333e+06        NaN     52   \n",
       "\n",
       "      net_migration_ratio  TradePricePctChg  UpcomingTradePricePerArea  \\\n",
       "2450             0.019842          0.000000               2.111111e+06   \n",
       "2451             0.019416          0.256614               2.400000e+06   \n",
       "2452             0.008594          0.136842               2.333333e+06   \n",
       "2453             0.010735         -0.027778               1.920000e+06   \n",
       "2454             0.019982         -0.177143               2.083035e+06   \n",
       "2455             0.012579          0.084914               1.545455e+06   \n",
       "2456             0.013117         -0.258075               1.488889e+06   \n",
       "2457             0.019949         -0.036601               2.162162e+06   \n",
       "2458             0.035358          0.452198               2.037500e+06   \n",
       "2459             0.043446         -0.057656               2.124060e+06   \n",
       "2460             0.023197          0.042484               2.785714e+06   \n",
       "2461             0.014473          0.311504               3.699248e+06   \n",
       "2462             0.017522          0.327935               3.061189e+06   \n",
       "2463             0.032212         -0.172484               3.095455e+06   \n",
       "2464             0.028108          0.011194               3.500000e+06   \n",
       "2465             0.014607          0.130690               3.344915e+06   \n",
       "2466            -0.000976         -0.044310               4.333333e+06   \n",
       "2467            -0.001383          0.295499                        NaN   \n",
       "\n",
       "      UpcomingTradePricePctChg  \n",
       "2450                  0.256614  \n",
       "2451                  0.136842  \n",
       "2452                 -0.027778  \n",
       "2453                 -0.177143  \n",
       "2454                  0.084914  \n",
       "2455                 -0.258075  \n",
       "2456                 -0.036601  \n",
       "2457                  0.452198  \n",
       "2458                 -0.057656  \n",
       "2459                  0.042484  \n",
       "2460                  0.311504  \n",
       "2461                  0.327935  \n",
       "2462                 -0.172484  \n",
       "2463                  0.011194  \n",
       "2464                  0.130690  \n",
       "2465                 -0.044310  \n",
       "2466                  0.295499  \n",
       "2467                       NaN  "
      ]
     },
     "execution_count": 16,
     "metadata": {},
     "output_type": "execute_result"
    }
   ],
   "source": [
    "df[(df[\"Prefecture\"] == \"Tokyo\") & (df[\"Municipality\"] == \"Chiyoda\")]"
   ]
  },
  {
   "cell_type": "code",
   "execution_count": 17,
   "metadata": {},
   "outputs": [],
   "source": [
    "# comparables = [\"Tokyo_Minato\", \"Tokyo_Chuo\"]\n",
    "comparables = [\"Niigata_Yuzawa\"]\n",
    "\n",
    "frequency_n = 500\n",
    "return_n = 10\n",
    "factor_n = 10\n",
    "\n",
    "frequency_df = get_most_active_municipalities(\n",
    "    df.copy(), n=frequency_n, keep=comparables\n",
    ")\n",
    "\n",
    "return_df = get_highest_growth_municipalities(\n",
    "    frequency_df.copy(),\n",
    "    column=metric_pct_chg,\n",
    "    cumulative_column=\"return_growth\",\n",
    "    end_year=2021,\n",
    "    n=return_n,\n",
    "    keep=comparables,\n",
    ")\n",
    "\n",
    "return_df[\"factor_growth\"] = get_cumulative_growth(return_df.copy(), factor_column)\n",
    "\n",
    "factor_growth_df = get_highest_growth_municipalities(\n",
    "    frequency_df.copy(),\n",
    "    column=factor_column,\n",
    "    cumulative_column=\"factor_growth\",\n",
    "    end_year=2021,\n",
    "    n=factor_n,\n",
    "    keep=comparables,\n",
    ")\n",
    "\n",
    "factor_growth_df[\"return_growth\"] = get_cumulative_growth(\n",
    "    factor_growth_df.copy(), metric_pct_chg\n",
    ")\n",
    "\n",
    "tokyo_df = frequency_df[frequency_df[\"Prefecture\"] == \"Tokyo\"]"
   ]
  },
  {
   "cell_type": "code",
   "execution_count": 18,
   "metadata": {},
   "outputs": [
    {
     "data": {
      "application/vnd.plotly.v1+json": {
       "config": {
        "plotlyServerURL": "https://plot.ly"
       },
       "data": [
        {
         "hovertemplate": "variable=('Fukuoka', 'Fukutsu')<br>year=%{x}<br>value=%{y}<extra></extra>",
         "legendgroup": "('Fukuoka', 'Fukutsu')",
         "line": {
          "color": "#636efa",
          "dash": "solid"
         },
         "marker": {
          "symbol": "circle"
         },
         "mode": "lines+markers",
         "name": "('Fukuoka', 'Fukutsu')",
         "orientation": "v",
         "showlegend": true,
         "type": "scatter",
         "visible": "legendonly",
         "x": [
          2005,
          2006,
          2007,
          2008,
          2009,
          2010,
          2011,
          2012,
          2013,
          2014,
          2015,
          2016,
          2017,
          2018,
          2019,
          2020,
          2021,
          2022
         ],
         "xaxis": "x",
         "y": [
          1,
          0.36680911680911676,
          0.2991143317230273,
          0.39094650205761305,
          0.38359788359788355,
          0.31249999999999994,
          0.3271864301276065,
          0.38263065436978466,
          0.6261140819964347,
          0.7744107744107742,
          0.6400409626216076,
          0.5349794238683124,
          0.6723484848484845,
          0.833333333333333,
          0.769230769230769,
          0.6267806267806267,
          0.6990231990231988,
          0.833333333333333
         ],
         "yaxis": "y"
        },
        {
         "hovertemplate": "variable=('Fukuoka', 'Omuta')<br>year=%{x}<br>value=%{y}<extra></extra>",
         "legendgroup": "('Fukuoka', 'Omuta')",
         "line": {
          "color": "#EF553B",
          "dash": "solid"
         },
         "marker": {
          "symbol": "circle"
         },
         "mode": "lines+markers",
         "name": "('Fukuoka', 'Omuta')",
         "orientation": "v",
         "showlegend": true,
         "type": "scatter",
         "visible": "legendonly",
         "x": [
          2005,
          2006,
          2007,
          2008,
          2009,
          2010,
          2011,
          2012,
          2013,
          2014,
          2015,
          2016,
          2017,
          2018,
          2019,
          2020,
          2021,
          2022
         ],
         "xaxis": "x",
         "y": [
          null,
          1,
          0.9666666666666668,
          0.8655224703611801,
          0.6269033530571992,
          0.8242649242649244,
          0.7265934065934067,
          0.6450454506474574,
          0.9931863008786086,
          0.6178925184404637,
          0.8216666666666665,
          0.7941538461538461,
          0.5576923076923077,
          0.5440900562851781,
          0.6156923076923076,
          0.6041666666666667,
          0.4461538461538462,
          0.5576923076923077
         ],
         "yaxis": "y"
        },
        {
         "hovertemplate": "variable=('Tokyo', 'Chiyoda')<br>year=%{x}<br>value=%{y}<extra></extra>",
         "legendgroup": "('Tokyo', 'Chiyoda')",
         "line": {
          "color": "#00cc96",
          "dash": "solid"
         },
         "marker": {
          "symbol": "circle"
         },
         "mode": "lines+markers",
         "name": "('Tokyo', 'Chiyoda')",
         "orientation": "v",
         "showlegend": true,
         "type": "scatter",
         "visible": "legendonly",
         "x": [
          2005,
          2006,
          2007,
          2008,
          2009,
          2010,
          2011,
          2012,
          2013,
          2014,
          2015,
          2016,
          2017,
          2018,
          2019,
          2020,
          2021,
          2022
         ],
         "xaxis": "x",
         "y": [
          1,
          1.2566137566137565,
          1.4285714285714284,
          1.3888888888888886,
          1.1428571428571428,
          1.2399015759230814,
          0.9199134199134199,
          0.8862433862433864,
          1.2870012870012872,
          1.212797619047619,
          1.2643215180809166,
          1.658163265306122,
          2.2019334049409243,
          1.8221361971361976,
          1.842532467532468,
          2.0833333333333335,
          1.9910209846650526,
          2.579365079365079
         ],
         "yaxis": "y"
        },
        {
         "hovertemplate": "variable=('Tokyo', 'Chuo')<br>year=%{x}<br>value=%{y}<extra></extra>",
         "legendgroup": "('Tokyo', 'Chuo')",
         "line": {
          "color": "#ab63fa",
          "dash": "solid"
         },
         "marker": {
          "symbol": "circle"
         },
         "mode": "lines+markers",
         "name": "('Tokyo', 'Chuo')",
         "orientation": "v",
         "showlegend": true,
         "type": "scatter",
         "visible": "legendonly",
         "x": [
          2005,
          2006,
          2007,
          2008,
          2009,
          2010,
          2011,
          2012,
          2013,
          2014,
          2015,
          2016,
          2017,
          2018,
          2019,
          2020,
          2021,
          2022
         ],
         "xaxis": "x",
         "y": [
          1,
          0.979359243697479,
          1.36525974025974,
          1.1836734693877553,
          0.8831413210445469,
          0.7736280487804879,
          0.6732142857142858,
          0.714119490881459,
          0.7602212602212604,
          0.8460642618251315,
          1.0131987577639754,
          1.2794117647058827,
          1.4396243291592132,
          1.3813775510204085,
          1.553571428571429,
          1.5363095238095241,
          1.3484122983870972,
          1.9348343685300213
         ],
         "yaxis": "y"
        },
        {
         "hovertemplate": "variable=('Tokyo', 'Koto')<br>year=%{x}<br>value=%{y}<extra></extra>",
         "legendgroup": "('Tokyo', 'Koto')",
         "line": {
          "color": "#FFA15A",
          "dash": "solid"
         },
         "marker": {
          "symbol": "circle"
         },
         "mode": "lines+markers",
         "name": "('Tokyo', 'Koto')",
         "orientation": "v",
         "showlegend": true,
         "type": "scatter",
         "visible": "legendonly",
         "x": [
          2005,
          2006,
          2007,
          2008,
          2009,
          2010,
          2011,
          2012,
          2013,
          2014,
          2015,
          2016,
          2017,
          2018,
          2019,
          2020,
          2021,
          2022
         ],
         "xaxis": "x",
         "y": [
          1,
          1.2894736842105263,
          1.408502024291498,
          1.3662280701754388,
          1.2035087719298247,
          1.303987240829346,
          1.2105263157894737,
          1.1902834008097165,
          1.2280701754385963,
          1.0847953216374269,
          1.3099415204678362,
          1.4736842105263157,
          1.4410931174089068,
          1.473684210526316,
          1.5741626794258377,
          1.5121024486349566,
          1.6754784688995217,
          1.75
         ],
         "yaxis": "y"
        },
        {
         "hovertemplate": "variable=('Tokyo', 'Minato')<br>year=%{x}<br>value=%{y}<extra></extra>",
         "legendgroup": "('Tokyo', 'Minato')",
         "line": {
          "color": "#19d3f3",
          "dash": "solid"
         },
         "marker": {
          "symbol": "circle"
         },
         "mode": "lines+markers",
         "name": "('Tokyo', 'Minato')",
         "orientation": "v",
         "showlegend": true,
         "type": "scatter",
         "visible": "legendonly",
         "x": [
          2005,
          2006,
          2007,
          2008,
          2009,
          2010,
          2011,
          2012,
          2013,
          2014,
          2015,
          2016,
          2017,
          2018,
          2019,
          2020,
          2021,
          2022
         ],
         "xaxis": "x",
         "y": [
          1,
          1.467741935483871,
          1.5074106364428947,
          1.5229981024667936,
          0.8939882697947215,
          0.8299413489736072,
          0.8734854445318646,
          0.8374389051808407,
          0.9173387096774194,
          0.966225098594398,
          1.1208211143695013,
          1.2502546689303904,
          1.4887096774193544,
          1.6665972944849115,
          1.409032258064516,
          1.467741935483871,
          1.78059303067617,
          1.7612903225806453
         ],
         "yaxis": "y"
        },
        {
         "hovertemplate": "variable=('Tokyo', 'Sumida')<br>year=%{x}<br>value=%{y}<extra></extra>",
         "legendgroup": "('Tokyo', 'Sumida')",
         "line": {
          "color": "#FF6692",
          "dash": "solid"
         },
         "marker": {
          "symbol": "circle"
         },
         "mode": "lines+markers",
         "name": "('Tokyo', 'Sumida')",
         "orientation": "v",
         "showlegend": true,
         "type": "scatter",
         "visible": "legendonly",
         "x": [
          2005,
          2006,
          2007,
          2008,
          2009,
          2010,
          2011,
          2012,
          2013,
          2014,
          2015,
          2016,
          2017,
          2018,
          2019,
          2020,
          2021,
          2022
         ],
         "xaxis": "x",
         "y": [
          1,
          1.144901610017889,
          1.3333333333333333,
          1.140285071267817,
          0.923076923076923,
          1.1162790697674418,
          1.0112755461592668,
          1.0631229235880397,
          1.0073089700996674,
          1.1162790697674414,
          1.122694466720128,
          1.245947850599013,
          1.3441860465116273,
          1.4311270125223607,
          1.5090439276485783,
          1.454545454545454,
          1.4215861657722115,
          1.7819121447028416
         ],
         "yaxis": "y"
        },
        {
         "hovertemplate": "variable=('Tokyo', 'Taito')<br>year=%{x}<br>value=%{y}<extra></extra>",
         "legendgroup": "('Tokyo', 'Taito')",
         "line": {
          "color": "#B6E880",
          "dash": "solid"
         },
         "marker": {
          "symbol": "circle"
         },
         "mode": "lines+markers",
         "name": "('Tokyo', 'Taito')",
         "orientation": "v",
         "showlegend": true,
         "type": "scatter",
         "visible": "legendonly",
         "x": [
          2005,
          2006,
          2007,
          2008,
          2009,
          2010,
          2011,
          2012,
          2013,
          2014,
          2015,
          2016,
          2017,
          2018,
          2019,
          2020,
          2021,
          2022
         ],
         "xaxis": "x",
         "y": [
          1,
          1.0347261904761904,
          1.2220813397129187,
          1.00512987012987,
          0.8951169590643274,
          0.7961538461538461,
          0.8944444444444445,
          0.839848484848485,
          0.8214285714285716,
          0.9035714285714287,
          1.0094444444444446,
          1.0120000000000002,
          1.2669827586206899,
          1.3315789473684214,
          1.4375000000000004,
          1.3800000000000003,
          1.2765000000000004,
          1.6852255639097748
         ],
         "yaxis": "y"
        },
        {
         "hovertemplate": "variable=('Ibaraki', 'Hitachi')<br>year=%{x}<br>value=%{y}<extra></extra>",
         "legendgroup": "('Ibaraki', 'Hitachi')",
         "line": {
          "color": "#FF97FF",
          "dash": "solid"
         },
         "marker": {
          "symbol": "circle"
         },
         "mode": "lines+markers",
         "name": "('Ibaraki', 'Hitachi')",
         "orientation": "v",
         "showlegend": true,
         "type": "scatter",
         "visible": "legendonly",
         "x": [
          2005,
          2006,
          2007,
          2008,
          2009,
          2010,
          2011,
          2012,
          2013,
          2014,
          2015,
          2016,
          2017,
          2018,
          2019,
          2020,
          2021,
          2022
         ],
         "xaxis": "x",
         "y": [
          null,
          null,
          1,
          0.9403437815975733,
          0.7338374291115312,
          0.8251313903487816,
          0.5897170462387853,
          0.7756916996047432,
          1.126113961652714,
          0.8506616257088847,
          0.9438735177865611,
          0.782608695652174,
          1.0144927536231885,
          0.7023411371237457,
          0.555765595463138,
          0.9974424552429667,
          0.6521739130434783,
          0.5671077504725898
         ],
         "yaxis": "y"
        },
        {
         "hovertemplate": "variable=('Ibaraki', 'Hokota')<br>year=%{x}<br>value=%{y}<extra></extra>",
         "legendgroup": "('Ibaraki', 'Hokota')",
         "line": {
          "color": "#FECB52",
          "dash": "solid"
         },
         "marker": {
          "symbol": "circle"
         },
         "mode": "lines+markers",
         "name": "('Ibaraki', 'Hokota')",
         "orientation": "v",
         "showlegend": true,
         "type": "scatter",
         "visible": "legendonly",
         "x": [
          2005,
          2006,
          2007,
          2008,
          2009,
          2010,
          2011,
          2012,
          2013,
          2014,
          2015,
          2016,
          2017,
          2018,
          2019,
          2020,
          2021,
          2022
         ],
         "xaxis": "x",
         "y": [
          null,
          null,
          1,
          0.8266666666666667,
          0.6415277777777778,
          0.6623931623931624,
          0.7083333333333335,
          0.6135416666666668,
          0.6458333333333334,
          0.607843137254902,
          0.6396825396825397,
          0.6038279132791329,
          0.6027777777777779,
          0.25558510638297877,
          0.26278735632183914,
          0.3549153055051422,
          0.2044202898550725,
          0.4133333333333334
         ],
         "yaxis": "y"
        },
        {
         "hovertemplate": "variable=('Nagano', 'Karuizawa')<br>year=%{x}<br>value=%{y}<extra></extra>",
         "legendgroup": "('Nagano', 'Karuizawa')",
         "line": {
          "color": "#636efa",
          "dash": "solid"
         },
         "marker": {
          "symbol": "circle"
         },
         "mode": "lines+markers",
         "name": "('Nagano', 'Karuizawa')",
         "orientation": "v",
         "showlegend": true,
         "type": "scatter",
         "visible": "legendonly",
         "x": [
          2005,
          2006,
          2007,
          2008,
          2009,
          2010,
          2011,
          2012,
          2013,
          2014,
          2015,
          2016,
          2017,
          2018,
          2019,
          2020,
          2021,
          2022
         ],
         "xaxis": "x",
         "y": [
          null,
          null,
          1,
          0.9665118529269473,
          0.7862151998944452,
          0.9614217336256677,
          1.093524211637419,
          0.8349322689888728,
          1.037914480294742,
          1.205747460087083,
          0.9569424286405421,
          1.1196226415094341,
          1.0439371948805911,
          1.0754088309027268,
          1.0210233948441496,
          1.333140420899855,
          1.3492888243831642,
          1.6347766489275926
         ],
         "yaxis": "y"
        },
        {
         "hovertemplate": "variable=('Niigata', 'Yuzawa')<br>year=%{x}<br>value=%{y}<extra></extra>",
         "legendgroup": "('Niigata', 'Yuzawa')",
         "line": {
          "color": "#EF553B",
          "dash": "solid"
         },
         "marker": {
          "symbol": "circle"
         },
         "mode": "lines+markers",
         "name": "('Niigata', 'Yuzawa')",
         "orientation": "v",
         "showlegend": true,
         "type": "scatter",
         "visible": "legendonly",
         "x": [
          2005,
          2006,
          2007,
          2008,
          2009,
          2010,
          2011,
          2012,
          2013,
          2014,
          2015,
          2016,
          2017,
          2018,
          2019,
          2020,
          2021,
          2022
         ],
         "xaxis": "x",
         "y": [
          null,
          null,
          1,
          0.38923076923076927,
          0.6215201465201466,
          0.5823529411764707,
          0.8301886792452832,
          1.8530769230769235,
          0.257548076923077,
          0.37371794871794883,
          0.41250000000000014,
          0.4895000000000002,
          0.30000000000000016,
          0.578947368421053,
          0.23157894736842113,
          0.2582608695652175,
          0.18083333333333343,
          0.35813953488372113
         ],
         "yaxis": "y"
        },
        {
         "hovertemplate": "variable=('Hiroshima', 'Kure')<br>year=%{x}<br>value=%{y}<extra></extra>",
         "legendgroup": "('Hiroshima', 'Kure')",
         "line": {
          "color": "#00cc96",
          "dash": "solid"
         },
         "marker": {
          "symbol": "circle"
         },
         "mode": "lines+markers",
         "name": "('Hiroshima', 'Kure')",
         "orientation": "v",
         "showlegend": true,
         "type": "scatter",
         "visible": "legendonly",
         "x": [
          2005,
          2006,
          2007,
          2008,
          2009,
          2010,
          2011,
          2012,
          2013,
          2014,
          2015,
          2016,
          2017,
          2018,
          2019,
          2020,
          2021,
          2022
         ],
         "xaxis": "x",
         "y": [
          null,
          null,
          1,
          0.8868453557312254,
          1.0808823529411766,
          1.0751980428704568,
          1.0808823529411766,
          0.9148437500000001,
          1.00664592760181,
          1.4700000000000002,
          1.155,
          1.3499999999999999,
          0.9843749999999999,
          0.7627840909090908,
          0.6545673076923078,
          0.771311669829222,
          0.6562499999999999,
          0.8437499999999998
         ],
         "yaxis": "y"
        },
        {
         "hovertemplate": "variable=('Miyagi', 'Ishinomaki')<br>year=%{x}<br>value=%{y}<extra></extra>",
         "legendgroup": "('Miyagi', 'Ishinomaki')",
         "line": {
          "color": "#ab63fa",
          "dash": "solid"
         },
         "marker": {
          "symbol": "circle"
         },
         "mode": "lines+markers",
         "name": "('Miyagi', 'Ishinomaki')",
         "orientation": "v",
         "showlegend": true,
         "type": "scatter",
         "visible": "legendonly",
         "x": [
          2005,
          2006,
          2007,
          2008,
          2009,
          2010,
          2011,
          2012,
          2013,
          2014,
          2015,
          2016,
          2017,
          2018,
          2019,
          2020,
          2021,
          2022
         ],
         "xaxis": "x",
         "y": [
          null,
          1,
          1.0079268292682926,
          0.7459082156611038,
          0.6903148043108336,
          0.6680805938494165,
          0.8780487804878048,
          1.2134146341463412,
          1.60028995394849,
          1.8485237483953785,
          2.082477535301668,
          1.9967855249204662,
          1.9188128944226504,
          1.9207317073170729,
          1.3821138211382111,
          1.712195121951219,
          1.3719512195121948,
          1.1565696302124309
         ],
         "yaxis": "y"
        },
        {
         "hovertemplate": "variable=('Osaka', 'Hannan')<br>year=%{x}<br>value=%{y}<extra></extra>",
         "legendgroup": "('Osaka', 'Hannan')",
         "line": {
          "color": "#FFA15A",
          "dash": "solid"
         },
         "marker": {
          "symbol": "circle"
         },
         "mode": "lines+markers",
         "name": "('Osaka', 'Hannan')",
         "orientation": "v",
         "showlegend": true,
         "type": "scatter",
         "visible": "legendonly",
         "x": [
          2005,
          2006,
          2007,
          2008,
          2009,
          2010,
          2011,
          2012,
          2013,
          2014,
          2015,
          2016,
          2017,
          2018,
          2019,
          2020,
          2021,
          2022
         ],
         "xaxis": "x",
         "y": [
          null,
          1,
          1.7840089134125636,
          1.5417457305502844,
          1.6129032258064515,
          1.4231499051233396,
          1.4824478178368121,
          1.4308012486992714,
          1.4448924731182795,
          1.5263411640953715,
          1.598068831589168,
          1.3706425598335066,
          0.8362135176651304,
          0.9753024193548386,
          1.0978302611367128,
          0.8198924731182792,
          1.1592741935483868,
          0.796345702967095
         ],
         "yaxis": "y"
        },
        {
         "hovertemplate": "variable=('Osaka', 'Kashiwara')<br>year=%{x}<br>value=%{y}<extra></extra>",
         "legendgroup": "('Osaka', 'Kashiwara')",
         "line": {
          "color": "#19d3f3",
          "dash": "solid"
         },
         "marker": {
          "symbol": "circle"
         },
         "mode": "lines+markers",
         "name": "('Osaka', 'Kashiwara')",
         "orientation": "v",
         "showlegend": true,
         "type": "scatter",
         "visible": "legendonly",
         "x": [
          2005,
          2006,
          2007,
          2008,
          2009,
          2010,
          2011,
          2012,
          2013,
          2014,
          2015,
          2016,
          2017,
          2018,
          2019,
          2020,
          2021,
          2022
         ],
         "xaxis": "x",
         "y": [
          null,
          null,
          1,
          0.775,
          0.9666666666666666,
          0.8090909090909092,
          0.8125000000000001,
          0.7689075630252102,
          0.7500000000000001,
          0.6674089068825911,
          0.6062500000000002,
          0.590909090909091,
          0.552777777777778,
          0.46666666666666673,
          0.666666666666667,
          0.7041666666666667,
          0.5000000000000001,
          0.43434704830053683
         ],
         "yaxis": "y"
        },
        {
         "hovertemplate": "variable=('Osaka', 'Kawachinagano')<br>year=%{x}<br>value=%{y}<extra></extra>",
         "legendgroup": "('Osaka', 'Kawachinagano')",
         "line": {
          "color": "#FF6692",
          "dash": "solid"
         },
         "marker": {
          "symbol": "circle"
         },
         "mode": "lines+markers",
         "name": "('Osaka', 'Kawachinagano')",
         "orientation": "v",
         "showlegend": true,
         "type": "scatter",
         "visible": "legendonly",
         "x": [
          2005,
          2006,
          2007,
          2008,
          2009,
          2010,
          2011,
          2012,
          2013,
          2014,
          2015,
          2016,
          2017,
          2018,
          2019,
          2020,
          2021,
          2022
         ],
         "xaxis": "x",
         "y": [
          null,
          null,
          1,
          1.0747354497354498,
          0.9156746031746031,
          0.8305555555555556,
          0.8754208754208755,
          0.8392489711934158,
          0.6512792986222938,
          0.7622093900966185,
          0.7137091861598441,
          0.7523148148148149,
          0.6059184184184186,
          0.6011679292929294,
          0.6209541062801934,
          0.612021072796935,
          0.5349794238683129,
          0.64484126984127
         ],
         "yaxis": "y"
        },
        {
         "hovertemplate": "variable=('Osaka', 'Tondabayashi')<br>year=%{x}<br>value=%{y}<extra></extra>",
         "legendgroup": "('Osaka', 'Tondabayashi')",
         "line": {
          "color": "#B6E880",
          "dash": "solid"
         },
         "marker": {
          "symbol": "circle"
         },
         "mode": "lines+markers",
         "name": "('Osaka', 'Tondabayashi')",
         "orientation": "v",
         "showlegend": true,
         "type": "scatter",
         "visible": "legendonly",
         "x": [
          2005,
          2006,
          2007,
          2008,
          2009,
          2010,
          2011,
          2012,
          2013,
          2014,
          2015,
          2016,
          2017,
          2018,
          2019,
          2020,
          2021,
          2022
         ],
         "xaxis": "x",
         "y": [
          null,
          null,
          1,
          1.147012987012987,
          1.1151515151515152,
          1.1948051948051948,
          1.0753246753246752,
          1.2564192851274192,
          1.062049062049062,
          0.8761904761904761,
          0.913974913974914,
          0.896103896103896,
          0.7212562600797892,
          0.8941125541125539,
          0.7743184077149918,
          1.035497835497835,
          0.796871475863072,
          0.7603305785123964
         ],
         "yaxis": "y"
        },
        {
         "hovertemplate": "variable=('Chiba', 'Inzai')<br>year=%{x}<br>value=%{y}<extra></extra>",
         "legendgroup": "('Chiba', 'Inzai')",
         "line": {
          "color": "#FF97FF",
          "dash": "solid"
         },
         "marker": {
          "symbol": "circle"
         },
         "mode": "lines+markers",
         "name": "('Chiba', 'Inzai')",
         "orientation": "v",
         "showlegend": true,
         "type": "scatter",
         "visible": "legendonly",
         "x": [
          2005,
          2006,
          2007,
          2008,
          2009,
          2010,
          2011,
          2012,
          2013,
          2014,
          2015,
          2016,
          2017,
          2018,
          2019,
          2020,
          2021,
          2022
         ],
         "xaxis": "x",
         "y": [
          null,
          null,
          1,
          0.8693957115009747,
          1.0526315789473684,
          0.9519450800915331,
          1.0660714285714286,
          1,
          0.8333333333333333,
          0.8285714285714285,
          0.8935574229691876,
          0.8421052631578948,
          0.8890931372549019,
          0.9999999999999999,
          0.9499999999999998,
          0.9999999999999998,
          1.1515151515151514,
          1.1212121212121209
         ],
         "yaxis": "y"
        },
        {
         "hovertemplate": "variable=('Chiba', 'Nagareyama')<br>year=%{x}<br>value=%{y}<extra></extra>",
         "legendgroup": "('Chiba', 'Nagareyama')",
         "line": {
          "color": "#FECB52",
          "dash": "solid"
         },
         "marker": {
          "symbol": "circle"
         },
         "mode": "lines+markers",
         "name": "('Chiba', 'Nagareyama')",
         "orientation": "v",
         "showlegend": true,
         "type": "scatter",
         "visible": "legendonly",
         "x": [
          2005,
          2006,
          2007,
          2008,
          2009,
          2010,
          2011,
          2012,
          2013,
          2014,
          2015,
          2016,
          2017,
          2018,
          2019,
          2020,
          2021,
          2022
         ],
         "xaxis": "x",
         "y": [
          null,
          null,
          1,
          0.95177679600461,
          0.9501486343301154,
          0.8974570284906993,
          0.9342079305582955,
          0.843065693430657,
          0.786861313868613,
          0.7817315490673156,
          0.8182696436238729,
          0.9781723750701854,
          0.8149635036496349,
          0.9129197080291969,
          1.1729609647730879,
          1.1406182911120653,
          1.1915731365931506,
          1.1628492323181474
         ],
         "yaxis": "y"
        },
        {
         "hovertemplate": "variable=('Chiba', 'Yachimata')<br>year=%{x}<br>value=%{y}<extra></extra>",
         "legendgroup": "('Chiba', 'Yachimata')",
         "line": {
          "color": "#636efa",
          "dash": "solid"
         },
         "marker": {
          "symbol": "circle"
         },
         "mode": "lines+markers",
         "name": "('Chiba', 'Yachimata')",
         "orientation": "v",
         "showlegend": true,
         "type": "scatter",
         "visible": "legendonly",
         "x": [
          2005,
          2006,
          2007,
          2008,
          2009,
          2010,
          2011,
          2012,
          2013,
          2014,
          2015,
          2016,
          2017,
          2018,
          2019,
          2020,
          2021,
          2022
         ],
         "xaxis": "x",
         "y": [
          null,
          null,
          1,
          0.9310746152851416,
          0.970277756981358,
          0.7315586262954684,
          0.7738264580369844,
          0.7147009709938771,
          0.7510668563300139,
          0.7063324667680383,
          0.6567449496511281,
          0.6207164101900944,
          0.6143090149881322,
          0.7406353722143196,
          0.5530583214793741,
          0.7115370217863293,
          0.6500167700932894,
          0.7448596922281131
         ],
         "yaxis": "y"
        }
       ],
       "layout": {
        "autosize": false,
        "height": 800,
        "hovermode": "closest",
        "legend": {
         "title": {
          "text": "variable"
         },
         "tracegroupgap": 0
        },
        "template": {
         "data": {
          "bar": [
           {
            "error_x": {
             "color": "#2a3f5f"
            },
            "error_y": {
             "color": "#2a3f5f"
            },
            "marker": {
             "line": {
              "color": "#E5ECF6",
              "width": 0.5
             },
             "pattern": {
              "fillmode": "overlay",
              "size": 10,
              "solidity": 0.2
             }
            },
            "type": "bar"
           }
          ],
          "barpolar": [
           {
            "marker": {
             "line": {
              "color": "#E5ECF6",
              "width": 0.5
             },
             "pattern": {
              "fillmode": "overlay",
              "size": 10,
              "solidity": 0.2
             }
            },
            "type": "barpolar"
           }
          ],
          "carpet": [
           {
            "aaxis": {
             "endlinecolor": "#2a3f5f",
             "gridcolor": "white",
             "linecolor": "white",
             "minorgridcolor": "white",
             "startlinecolor": "#2a3f5f"
            },
            "baxis": {
             "endlinecolor": "#2a3f5f",
             "gridcolor": "white",
             "linecolor": "white",
             "minorgridcolor": "white",
             "startlinecolor": "#2a3f5f"
            },
            "type": "carpet"
           }
          ],
          "choropleth": [
           {
            "colorbar": {
             "outlinewidth": 0,
             "ticks": ""
            },
            "type": "choropleth"
           }
          ],
          "contour": [
           {
            "colorbar": {
             "outlinewidth": 0,
             "ticks": ""
            },
            "colorscale": [
             [
              0,
              "#0d0887"
             ],
             [
              0.1111111111111111,
              "#46039f"
             ],
             [
              0.2222222222222222,
              "#7201a8"
             ],
             [
              0.3333333333333333,
              "#9c179e"
             ],
             [
              0.4444444444444444,
              "#bd3786"
             ],
             [
              0.5555555555555556,
              "#d8576b"
             ],
             [
              0.6666666666666666,
              "#ed7953"
             ],
             [
              0.7777777777777778,
              "#fb9f3a"
             ],
             [
              0.8888888888888888,
              "#fdca26"
             ],
             [
              1,
              "#f0f921"
             ]
            ],
            "type": "contour"
           }
          ],
          "contourcarpet": [
           {
            "colorbar": {
             "outlinewidth": 0,
             "ticks": ""
            },
            "type": "contourcarpet"
           }
          ],
          "heatmap": [
           {
            "colorbar": {
             "outlinewidth": 0,
             "ticks": ""
            },
            "colorscale": [
             [
              0,
              "#0d0887"
             ],
             [
              0.1111111111111111,
              "#46039f"
             ],
             [
              0.2222222222222222,
              "#7201a8"
             ],
             [
              0.3333333333333333,
              "#9c179e"
             ],
             [
              0.4444444444444444,
              "#bd3786"
             ],
             [
              0.5555555555555556,
              "#d8576b"
             ],
             [
              0.6666666666666666,
              "#ed7953"
             ],
             [
              0.7777777777777778,
              "#fb9f3a"
             ],
             [
              0.8888888888888888,
              "#fdca26"
             ],
             [
              1,
              "#f0f921"
             ]
            ],
            "type": "heatmap"
           }
          ],
          "heatmapgl": [
           {
            "colorbar": {
             "outlinewidth": 0,
             "ticks": ""
            },
            "colorscale": [
             [
              0,
              "#0d0887"
             ],
             [
              0.1111111111111111,
              "#46039f"
             ],
             [
              0.2222222222222222,
              "#7201a8"
             ],
             [
              0.3333333333333333,
              "#9c179e"
             ],
             [
              0.4444444444444444,
              "#bd3786"
             ],
             [
              0.5555555555555556,
              "#d8576b"
             ],
             [
              0.6666666666666666,
              "#ed7953"
             ],
             [
              0.7777777777777778,
              "#fb9f3a"
             ],
             [
              0.8888888888888888,
              "#fdca26"
             ],
             [
              1,
              "#f0f921"
             ]
            ],
            "type": "heatmapgl"
           }
          ],
          "histogram": [
           {
            "marker": {
             "pattern": {
              "fillmode": "overlay",
              "size": 10,
              "solidity": 0.2
             }
            },
            "type": "histogram"
           }
          ],
          "histogram2d": [
           {
            "colorbar": {
             "outlinewidth": 0,
             "ticks": ""
            },
            "colorscale": [
             [
              0,
              "#0d0887"
             ],
             [
              0.1111111111111111,
              "#46039f"
             ],
             [
              0.2222222222222222,
              "#7201a8"
             ],
             [
              0.3333333333333333,
              "#9c179e"
             ],
             [
              0.4444444444444444,
              "#bd3786"
             ],
             [
              0.5555555555555556,
              "#d8576b"
             ],
             [
              0.6666666666666666,
              "#ed7953"
             ],
             [
              0.7777777777777778,
              "#fb9f3a"
             ],
             [
              0.8888888888888888,
              "#fdca26"
             ],
             [
              1,
              "#f0f921"
             ]
            ],
            "type": "histogram2d"
           }
          ],
          "histogram2dcontour": [
           {
            "colorbar": {
             "outlinewidth": 0,
             "ticks": ""
            },
            "colorscale": [
             [
              0,
              "#0d0887"
             ],
             [
              0.1111111111111111,
              "#46039f"
             ],
             [
              0.2222222222222222,
              "#7201a8"
             ],
             [
              0.3333333333333333,
              "#9c179e"
             ],
             [
              0.4444444444444444,
              "#bd3786"
             ],
             [
              0.5555555555555556,
              "#d8576b"
             ],
             [
              0.6666666666666666,
              "#ed7953"
             ],
             [
              0.7777777777777778,
              "#fb9f3a"
             ],
             [
              0.8888888888888888,
              "#fdca26"
             ],
             [
              1,
              "#f0f921"
             ]
            ],
            "type": "histogram2dcontour"
           }
          ],
          "mesh3d": [
           {
            "colorbar": {
             "outlinewidth": 0,
             "ticks": ""
            },
            "type": "mesh3d"
           }
          ],
          "parcoords": [
           {
            "line": {
             "colorbar": {
              "outlinewidth": 0,
              "ticks": ""
             }
            },
            "type": "parcoords"
           }
          ],
          "pie": [
           {
            "automargin": true,
            "type": "pie"
           }
          ],
          "scatter": [
           {
            "fillpattern": {
             "fillmode": "overlay",
             "size": 10,
             "solidity": 0.2
            },
            "type": "scatter"
           }
          ],
          "scatter3d": [
           {
            "line": {
             "colorbar": {
              "outlinewidth": 0,
              "ticks": ""
             }
            },
            "marker": {
             "colorbar": {
              "outlinewidth": 0,
              "ticks": ""
             }
            },
            "type": "scatter3d"
           }
          ],
          "scattercarpet": [
           {
            "marker": {
             "colorbar": {
              "outlinewidth": 0,
              "ticks": ""
             }
            },
            "type": "scattercarpet"
           }
          ],
          "scattergeo": [
           {
            "marker": {
             "colorbar": {
              "outlinewidth": 0,
              "ticks": ""
             }
            },
            "type": "scattergeo"
           }
          ],
          "scattergl": [
           {
            "marker": {
             "colorbar": {
              "outlinewidth": 0,
              "ticks": ""
             }
            },
            "type": "scattergl"
           }
          ],
          "scattermapbox": [
           {
            "marker": {
             "colorbar": {
              "outlinewidth": 0,
              "ticks": ""
             }
            },
            "type": "scattermapbox"
           }
          ],
          "scatterpolar": [
           {
            "marker": {
             "colorbar": {
              "outlinewidth": 0,
              "ticks": ""
             }
            },
            "type": "scatterpolar"
           }
          ],
          "scatterpolargl": [
           {
            "marker": {
             "colorbar": {
              "outlinewidth": 0,
              "ticks": ""
             }
            },
            "type": "scatterpolargl"
           }
          ],
          "scatterternary": [
           {
            "marker": {
             "colorbar": {
              "outlinewidth": 0,
              "ticks": ""
             }
            },
            "type": "scatterternary"
           }
          ],
          "surface": [
           {
            "colorbar": {
             "outlinewidth": 0,
             "ticks": ""
            },
            "colorscale": [
             [
              0,
              "#0d0887"
             ],
             [
              0.1111111111111111,
              "#46039f"
             ],
             [
              0.2222222222222222,
              "#7201a8"
             ],
             [
              0.3333333333333333,
              "#9c179e"
             ],
             [
              0.4444444444444444,
              "#bd3786"
             ],
             [
              0.5555555555555556,
              "#d8576b"
             ],
             [
              0.6666666666666666,
              "#ed7953"
             ],
             [
              0.7777777777777778,
              "#fb9f3a"
             ],
             [
              0.8888888888888888,
              "#fdca26"
             ],
             [
              1,
              "#f0f921"
             ]
            ],
            "type": "surface"
           }
          ],
          "table": [
           {
            "cells": {
             "fill": {
              "color": "#EBF0F8"
             },
             "line": {
              "color": "white"
             }
            },
            "header": {
             "fill": {
              "color": "#C8D4E3"
             },
             "line": {
              "color": "white"
             }
            },
            "type": "table"
           }
          ]
         },
         "layout": {
          "annotationdefaults": {
           "arrowcolor": "#2a3f5f",
           "arrowhead": 0,
           "arrowwidth": 1
          },
          "autotypenumbers": "strict",
          "coloraxis": {
           "colorbar": {
            "outlinewidth": 0,
            "ticks": ""
           }
          },
          "colorscale": {
           "diverging": [
            [
             0,
             "#8e0152"
            ],
            [
             0.1,
             "#c51b7d"
            ],
            [
             0.2,
             "#de77ae"
            ],
            [
             0.3,
             "#f1b6da"
            ],
            [
             0.4,
             "#fde0ef"
            ],
            [
             0.5,
             "#f7f7f7"
            ],
            [
             0.6,
             "#e6f5d0"
            ],
            [
             0.7,
             "#b8e186"
            ],
            [
             0.8,
             "#7fbc41"
            ],
            [
             0.9,
             "#4d9221"
            ],
            [
             1,
             "#276419"
            ]
           ],
           "sequential": [
            [
             0,
             "#0d0887"
            ],
            [
             0.1111111111111111,
             "#46039f"
            ],
            [
             0.2222222222222222,
             "#7201a8"
            ],
            [
             0.3333333333333333,
             "#9c179e"
            ],
            [
             0.4444444444444444,
             "#bd3786"
            ],
            [
             0.5555555555555556,
             "#d8576b"
            ],
            [
             0.6666666666666666,
             "#ed7953"
            ],
            [
             0.7777777777777778,
             "#fb9f3a"
            ],
            [
             0.8888888888888888,
             "#fdca26"
            ],
            [
             1,
             "#f0f921"
            ]
           ],
           "sequentialminus": [
            [
             0,
             "#0d0887"
            ],
            [
             0.1111111111111111,
             "#46039f"
            ],
            [
             0.2222222222222222,
             "#7201a8"
            ],
            [
             0.3333333333333333,
             "#9c179e"
            ],
            [
             0.4444444444444444,
             "#bd3786"
            ],
            [
             0.5555555555555556,
             "#d8576b"
            ],
            [
             0.6666666666666666,
             "#ed7953"
            ],
            [
             0.7777777777777778,
             "#fb9f3a"
            ],
            [
             0.8888888888888888,
             "#fdca26"
            ],
            [
             1,
             "#f0f921"
            ]
           ]
          },
          "colorway": [
           "#636efa",
           "#EF553B",
           "#00cc96",
           "#ab63fa",
           "#FFA15A",
           "#19d3f3",
           "#FF6692",
           "#B6E880",
           "#FF97FF",
           "#FECB52"
          ],
          "font": {
           "color": "#2a3f5f"
          },
          "geo": {
           "bgcolor": "white",
           "lakecolor": "white",
           "landcolor": "#E5ECF6",
           "showlakes": true,
           "showland": true,
           "subunitcolor": "white"
          },
          "hoverlabel": {
           "align": "left"
          },
          "hovermode": "closest",
          "mapbox": {
           "style": "light"
          },
          "paper_bgcolor": "white",
          "plot_bgcolor": "#E5ECF6",
          "polar": {
           "angularaxis": {
            "gridcolor": "white",
            "linecolor": "white",
            "ticks": ""
           },
           "bgcolor": "#E5ECF6",
           "radialaxis": {
            "gridcolor": "white",
            "linecolor": "white",
            "ticks": ""
           }
          },
          "scene": {
           "xaxis": {
            "backgroundcolor": "#E5ECF6",
            "gridcolor": "white",
            "gridwidth": 2,
            "linecolor": "white",
            "showbackground": true,
            "ticks": "",
            "zerolinecolor": "white"
           },
           "yaxis": {
            "backgroundcolor": "#E5ECF6",
            "gridcolor": "white",
            "gridwidth": 2,
            "linecolor": "white",
            "showbackground": true,
            "ticks": "",
            "zerolinecolor": "white"
           },
           "zaxis": {
            "backgroundcolor": "#E5ECF6",
            "gridcolor": "white",
            "gridwidth": 2,
            "linecolor": "white",
            "showbackground": true,
            "ticks": "",
            "zerolinecolor": "white"
           }
          },
          "shapedefaults": {
           "line": {
            "color": "#2a3f5f"
           }
          },
          "ternary": {
           "aaxis": {
            "gridcolor": "white",
            "linecolor": "white",
            "ticks": ""
           },
           "baxis": {
            "gridcolor": "white",
            "linecolor": "white",
            "ticks": ""
           },
           "bgcolor": "#E5ECF6",
           "caxis": {
            "gridcolor": "white",
            "linecolor": "white",
            "ticks": ""
           }
          },
          "title": {
           "x": 0.05
          },
          "xaxis": {
           "automargin": true,
           "gridcolor": "white",
           "linecolor": "white",
           "ticks": "",
           "title": {
            "standoff": 15
           },
           "zerolinecolor": "white",
           "zerolinewidth": 2
          },
          "yaxis": {
           "automargin": true,
           "gridcolor": "white",
           "linecolor": "white",
           "ticks": "",
           "title": {
            "standoff": 15
           },
           "zerolinecolor": "white",
           "zerolinewidth": 2
          }
         }
        },
        "title": {
         "text": "Cumulative Price Growth for top and bottom 10 municipalities"
        },
        "width": 1600,
        "xaxis": {
         "anchor": "y",
         "domain": [
          0,
          1
         ],
         "title": {
          "text": "year"
         }
        },
        "yaxis": {
         "anchor": "x",
         "domain": [
          0,
          1
         ],
         "title": {
          "text": "value"
         }
        }
       }
      }
     },
     "metadata": {},
     "output_type": "display_data"
    }
   ],
   "source": [
    "plot_time_series(\n",
    "    factor_growth_df.copy(),\n",
    "    \"return_growth\",\n",
    "    group_by_columns,\n",
    "    granularity_columns,\n",
    "    f\"Cumulative Price Growth for top and bottom {return_n} municipalities\",\n",
    "    visible=\"legendonly\",\n",
    ")"
   ]
  },
  {
   "cell_type": "code",
   "execution_count": 19,
   "metadata": {},
   "outputs": [
    {
     "data": {
      "application/vnd.plotly.v1+json": {
       "config": {
        "plotlyServerURL": "https://plot.ly"
       },
       "data": [
        {
         "hovertemplate": "variable=('Fukuoka', 'Fukutsu')<br>year=%{x}<br>value=%{y}<extra></extra>",
         "legendgroup": "('Fukuoka', 'Fukutsu')",
         "line": {
          "color": "#636efa",
          "dash": "solid"
         },
         "marker": {
          "symbol": "circle"
         },
         "mode": "lines+markers",
         "name": "('Fukuoka', 'Fukutsu')",
         "orientation": "v",
         "showlegend": true,
         "type": "scatter",
         "x": [
          2005,
          2006,
          2007,
          2008,
          2009,
          2010,
          2011,
          2012,
          2013,
          2014,
          2015,
          2016,
          2017,
          2018,
          2019,
          2020,
          2021,
          2022
         ],
         "xaxis": "x",
         "y": [
          0.9983520336605891,
          0.9940042075736325,
          0.9896037868162693,
          0.9923211781206169,
          0.9926016830294527,
          0.996791725105189,
          1.0009116409537162,
          1.0143758765778397,
          1.0324158485273487,
          1.052699859747545,
          1.0729488078541367,
          1.0970021037868154,
          1.1207223001402515,
          1.1492461430575025,
          1.1751928471248236,
          1.189744039270686,
          1.2008738234585845,
          1.2114633535711126
         ],
         "yaxis": "y"
        },
        {
         "hovertemplate": "variable=('Fukuoka', 'Omuta')<br>year=%{x}<br>value=%{y}<extra></extra>",
         "legendgroup": "('Fukuoka', 'Omuta')",
         "line": {
          "color": "#EF553B",
          "dash": "solid"
         },
         "marker": {
          "symbol": "circle"
         },
         "mode": "lines+markers",
         "name": "('Fukuoka', 'Omuta')",
         "orientation": "v",
         "showlegend": true,
         "type": "scatter",
         "x": [
          2005,
          2006,
          2007,
          2008,
          2009,
          2010,
          2011,
          2012,
          2013,
          2014,
          2015,
          2016,
          2017,
          2018,
          2019,
          2020,
          2021,
          2022
         ],
         "xaxis": "x",
         "y": [
          null,
          0.989830227055747,
          0.9778174421983314,
          0.9694408700344529,
          0.9607654310738453,
          0.9550537545141342,
          0.952463575609149,
          0.9495330206301111,
          0.9453654891868336,
          0.9424100286414017,
          0.9378274044248893,
          0.9350462828442161,
          0.9314681831389321,
          0.9290440413432408,
          0.9238387779668763,
          0.919472001992446,
          0.916013531931553,
          0.911196080184062
         ],
         "yaxis": "y"
        },
        {
         "hovertemplate": "variable=('Tokyo', 'Chiyoda')<br>year=%{x}<br>value=%{y}<extra></extra>",
         "legendgroup": "('Tokyo', 'Chiyoda')",
         "line": {
          "color": "#00cc96",
          "dash": "solid"
         },
         "marker": {
          "symbol": "circle"
         },
         "mode": "lines+markers",
         "name": "('Tokyo', 'Chiyoda')",
         "orientation": "v",
         "showlegend": true,
         "type": "scatter",
         "x": [
          2005,
          2006,
          2007,
          2008,
          2009,
          2010,
          2011,
          2012,
          2013,
          2014,
          2015,
          2016,
          2017,
          2018,
          2019,
          2020,
          2021,
          2022
         ],
         "xaxis": "x",
         "y": [
          1.0198422479664777,
          1.0396434146742257,
          1.0485785884479502,
          1.0598348533399065,
          1.0810122422151016,
          1.0946101388546547,
          1.1089680387807084,
          1.1310902966066883,
          1.1710829019801168,
          1.2219620409169336,
          1.250308109440473,
          1.2684044039109357,
          1.29062936488374,
          1.3322035987182643,
          1.369649166050447,
          1.3896557390518438,
          1.388299773833224,
          1.3863797825641493
         ],
         "yaxis": "y"
        },
        {
         "hovertemplate": "variable=('Tokyo', 'Chuo')<br>year=%{x}<br>value=%{y}<extra></extra>",
         "legendgroup": "('Tokyo', 'Chuo')",
         "line": {
          "color": "#ab63fa",
          "dash": "solid"
         },
         "marker": {
          "symbol": "circle"
         },
         "mode": "lines+markers",
         "name": "('Tokyo', 'Chuo')",
         "orientation": "v",
         "showlegend": true,
         "type": "scatter",
         "x": [
          2005,
          2006,
          2007,
          2008,
          2009,
          2010,
          2011,
          2012,
          2013,
          2014,
          2015,
          2016,
          2017,
          2018,
          2019,
          2020,
          2021,
          2022
         ],
         "xaxis": "x",
         "y": [
          1.0434520586231593,
          1.0696019005362725,
          1.0888954879731687,
          1.1304173144444247,
          1.1536674410886156,
          1.1734938075357655,
          1.1989885932887305,
          1.2229287124216108,
          1.2507030936118915,
          1.2900850699599968,
          1.3217635858647603,
          1.3635736370464815,
          1.4090432686428969,
          1.4426258144531576,
          1.4776232815693384,
          1.4859730640906932,
          1.4882357401917539,
          1.496246777054732
         ],
         "yaxis": "y"
        },
        {
         "hovertemplate": "variable=('Tokyo', 'Koto')<br>year=%{x}<br>value=%{y}<extra></extra>",
         "legendgroup": "('Tokyo', 'Koto')",
         "line": {
          "color": "#FFA15A",
          "dash": "solid"
         },
         "marker": {
          "symbol": "circle"
         },
         "mode": "lines+markers",
         "name": "('Tokyo', 'Koto')",
         "orientation": "v",
         "showlegend": true,
         "type": "scatter",
         "x": [
          2005,
          2006,
          2007,
          2008,
          2009,
          2010,
          2011,
          2012,
          2013,
          2014,
          2015,
          2016,
          2017,
          2018,
          2019,
          2020,
          2021,
          2022
         ],
         "xaxis": "x",
         "y": [
          1.0254362865431823,
          1.0389533586253068,
          1.0478754742245033,
          1.0642869895112697,
          1.0826154876143714,
          1.0905846909172054,
          1.0992903369783524,
          1.1071234099531349,
          1.11973220263334,
          1.130261102432492,
          1.1417830841330054,
          1.1474492300825703,
          1.1573733541620166,
          1.1653023878598519,
          1.1700736442758304,
          1.1793818344119609,
          1.1818196311827232,
          1.1941424022310447
         ],
         "yaxis": "y"
        },
        {
         "hovertemplate": "variable=('Tokyo', 'Minato')<br>year=%{x}<br>value=%{y}<extra></extra>",
         "legendgroup": "('Tokyo', 'Minato')",
         "line": {
          "color": "#19d3f3",
          "dash": "solid"
         },
         "marker": {
          "symbol": "circle"
         },
         "mode": "lines+markers",
         "name": "('Tokyo', 'Minato')",
         "orientation": "v",
         "showlegend": true,
         "type": "scatter",
         "x": [
          2005,
          2006,
          2007,
          2008,
          2009,
          2010,
          2011,
          2012,
          2013,
          2014,
          2015,
          2016,
          2017,
          2018,
          2019,
          2020,
          2021,
          2022
         ],
         "xaxis": "x",
         "y": [
          1.0260969051561422,
          1.0646581479210817,
          1.1055992971310782,
          1.118589820951866,
          1.125801951233641,
          1.1395938228635147,
          1.1509382044981675,
          1.1674768647025593,
          1.1849375576270444,
          1.2034409681826292,
          1.213636429464496,
          1.2292337473630337,
          1.2401871098860242,
          1.2497791466128565,
          1.257469189142219,
          1.2504887738895771,
          1.2474570642983018,
          1.2520200566656978
         ],
         "yaxis": "y"
        },
        {
         "hovertemplate": "variable=('Tokyo', 'Sumida')<br>year=%{x}<br>value=%{y}<extra></extra>",
         "legendgroup": "('Tokyo', 'Sumida')",
         "line": {
          "color": "#FF6692",
          "dash": "solid"
         },
         "marker": {
          "symbol": "circle"
         },
         "mode": "lines+markers",
         "name": "('Tokyo', 'Sumida')",
         "orientation": "v",
         "showlegend": true,
         "type": "scatter",
         "x": [
          2005,
          2006,
          2007,
          2008,
          2009,
          2010,
          2011,
          2012,
          2013,
          2014,
          2015,
          2016,
          2017,
          2018,
          2019,
          2020,
          2021,
          2022
         ],
         "xaxis": "x",
         "y": [
          1.0098654978040895,
          1.0268875599421292,
          1.0400973670540457,
          1.0495378499396821,
          1.0606182893793492,
          1.0695478957468454,
          1.0723255184967349,
          1.0827920474986368,
          1.0942717433768507,
          1.1092588856022974,
          1.1200516886830114,
          1.131793262440272,
          1.145058879591985,
          1.1560491643519801,
          1.1680826675481781,
          1.172843693250848,
          1.1772112263924437,
          1.1923340095549226
         ],
         "yaxis": "y"
        },
        {
         "hovertemplate": "variable=('Tokyo', 'Taito')<br>year=%{x}<br>value=%{y}<extra></extra>",
         "legendgroup": "('Tokyo', 'Taito')",
         "line": {
          "color": "#B6E880",
          "dash": "solid"
         },
         "marker": {
          "symbol": "circle"
         },
         "mode": "lines+markers",
         "name": "('Tokyo', 'Taito')",
         "orientation": "v",
         "showlegend": true,
         "type": "scatter",
         "x": [
          2005,
          2006,
          2007,
          2008,
          2009,
          2010,
          2011,
          2012,
          2013,
          2014,
          2015,
          2016,
          2017,
          2018,
          2019,
          2020,
          2021,
          2022
         ],
         "xaxis": "x",
         "y": [
          1.0117808590704138,
          1.0241945508582793,
          1.0315399306144126,
          1.0470047801471334,
          1.058107604163135,
          1.0695494457063426,
          1.081703224056683,
          1.1014509950164417,
          1.1165824773140764,
          1.128498943395373,
          1.1369235289464459,
          1.1477946909855232,
          1.160558700884835,
          1.176978449785853,
          1.1947203670429751,
          1.2072131629205218,
          1.2156831234977943,
          1.229572678077565
         ],
         "yaxis": "y"
        },
        {
         "hovertemplate": "variable=('Ibaraki', 'Hitachi')<br>year=%{x}<br>value=%{y}<extra></extra>",
         "legendgroup": "('Ibaraki', 'Hitachi')",
         "line": {
          "color": "#FF97FF",
          "dash": "solid"
         },
         "marker": {
          "symbol": "circle"
         },
         "mode": "lines+markers",
         "name": "('Ibaraki', 'Hitachi')",
         "orientation": "v",
         "showlegend": true,
         "type": "scatter",
         "x": [
          2005,
          2006,
          2007,
          2008,
          2009,
          2010,
          2011,
          2012,
          2013,
          2014,
          2015,
          2016,
          2017,
          2018,
          2019,
          2020,
          2021,
          2022
         ],
         "xaxis": "x",
         "y": [
          null,
          null,
          0.9876195923460899,
          0.9797732945091515,
          0.9728109400998337,
          0.9676372712146424,
          0.9630875623960068,
          0.9569831530782031,
          0.949261647254576,
          0.9409941763727124,
          0.9331738768718806,
          0.9266742928452583,
          0.9203566971713814,
          0.9138675124792017,
          0.9073835274542433,
          0.9018822795341103,
          0.8961664941642161,
          0.889989875447833
         ],
         "yaxis": "y"
        },
        {
         "hovertemplate": "variable=('Ibaraki', 'Hokota')<br>year=%{x}<br>value=%{y}<extra></extra>",
         "legendgroup": "('Ibaraki', 'Hokota')",
         "line": {
          "color": "#FECB52",
          "dash": "solid"
         },
         "marker": {
          "symbol": "circle"
         },
         "mode": "lines+markers",
         "name": "('Ibaraki', 'Hokota')",
         "orientation": "v",
         "showlegend": true,
         "type": "scatter",
         "x": [
          2005,
          2006,
          2007,
          2008,
          2009,
          2010,
          2011,
          2012,
          2013,
          2014,
          2015,
          2016,
          2017,
          2018,
          2019,
          2020,
          2021,
          2022
         ],
         "xaxis": "x",
         "y": [
          null,
          null,
          0.9829421370531412,
          0.9626773171739431,
          0.942668266866036,
          0.9401302457355346,
          0.9348377830680548,
          0.9285419166978185,
          0.9234068506895945,
          0.9201211954276275,
          0.9185078796702545,
          0.9156944143860551,
          0.9120546166407623,
          0.9075688118519689,
          0.9041060853483389,
          0.9012729454817328,
          0.89806465786187,
          0.887608433689959
         ],
         "yaxis": "y"
        },
        {
         "hovertemplate": "variable=('Nagano', 'Karuizawa')<br>year=%{x}<br>value=%{y}<extra></extra>",
         "legendgroup": "('Nagano', 'Karuizawa')",
         "line": {
          "color": "#636efa",
          "dash": "solid"
         },
         "marker": {
          "symbol": "circle"
         },
         "mode": "lines+markers",
         "name": "('Nagano', 'Karuizawa')",
         "orientation": "v",
         "showlegend": true,
         "type": "scatter",
         "x": [
          2005,
          2006,
          2007,
          2008,
          2009,
          2010,
          2011,
          2012,
          2013,
          2014,
          2015,
          2016,
          2017,
          2018,
          2019,
          2020,
          2021,
          2022
         ],
         "xaxis": "x",
         "y": [
          null,
          null,
          1.0123799606618071,
          1.017123683906051,
          1.0221566585676267,
          1.0348837209302322,
          1.048131435844035,
          1.0605692467893086,
          1.0736434108527126,
          1.080990396852944,
          1.0883373828531753,
          1.0959157699872721,
          1.0968413745227343,
          1.103667707971768,
          1.110031239153071,
          1.1404604882563913,
          1.1684066984922623,
          1.1928333193666651
         ],
         "yaxis": "y"
        },
        {
         "hovertemplate": "variable=('Niigata', 'Yuzawa')<br>year=%{x}<br>value=%{y}<extra></extra>",
         "legendgroup": "('Niigata', 'Yuzawa')",
         "line": {
          "color": "#EF553B",
          "dash": "solid"
         },
         "marker": {
          "symbol": "circle"
         },
         "mode": "lines+markers",
         "name": "('Niigata', 'Yuzawa')",
         "orientation": "v",
         "showlegend": true,
         "type": "scatter",
         "x": [
          2005,
          2006,
          2007,
          2008,
          2009,
          2010,
          2011,
          2012,
          2013,
          2014,
          2015,
          2016,
          2017,
          2018,
          2019,
          2020,
          2021,
          2022
         ],
         "xaxis": "x",
         "y": [
          null,
          null,
          0.9884777877352452,
          0.9818205095378314,
          0.9741390346946616,
          0.9714505184995522,
          0.9668416335936504,
          0.9796440916656002,
          0.9841249519907826,
          0.9806682883113563,
          0.9758033542440155,
          0.977723722954808,
          0.9846370503136609,
          0.9863013698630144,
          0.9943669184483428,
          0.9996159262578421,
          1.0028231128795624,
          1.004365126892191
         ],
         "yaxis": "y"
        },
        {
         "hovertemplate": "variable=('Hiroshima', 'Kure')<br>year=%{x}<br>value=%{y}<extra></extra>",
         "legendgroup": "('Hiroshima', 'Kure')",
         "line": {
          "color": "#00cc96",
          "dash": "solid"
         },
         "marker": {
          "symbol": "circle"
         },
         "mode": "lines+markers",
         "name": "('Hiroshima', 'Kure')",
         "orientation": "v",
         "showlegend": true,
         "type": "scatter",
         "x": [
          2005,
          2006,
          2007,
          2008,
          2009,
          2010,
          2011,
          2012,
          2013,
          2014,
          2015,
          2016,
          2017,
          2018,
          2019,
          2020,
          2021,
          2022
         ],
         "xaxis": "x",
         "y": [
          null,
          null,
          0.9881980833687392,
          0.9789282143056398,
          0.9706668726637572,
          0.9662250604043553,
          0.9613798371764668,
          0.9569122752807786,
          0.9510199001772436,
          0.9471402883100946,
          0.9413680781758961,
          0.938861780244021,
          0.9330209044130588,
          0.9278066030650655,
          0.9209443249947432,
          0.9129533545338676,
          0.9047891847077196,
          0.898129769008664
         ],
         "yaxis": "y"
        },
        {
         "hovertemplate": "variable=('Miyagi', 'Ishinomaki')<br>year=%{x}<br>value=%{y}<extra></extra>",
         "legendgroup": "('Miyagi', 'Ishinomaki')",
         "line": {
          "color": "#ab63fa",
          "dash": "solid"
         },
         "marker": {
          "symbol": "circle"
         },
         "mode": "lines+markers",
         "name": "('Miyagi', 'Ishinomaki')",
         "orientation": "v",
         "showlegend": true,
         "type": "scatter",
         "x": [
          2005,
          2006,
          2007,
          2008,
          2009,
          2010,
          2011,
          2012,
          2013,
          2014,
          2015,
          2016,
          2017,
          2018,
          2019,
          2020,
          2021,
          2022
         ],
         "xaxis": "x",
         "y": [
          null,
          0.9921296772203948,
          0.9793122944078949,
          0.9729967619243424,
          0.967484323601974,
          0.964798776726974,
          0.9297260485197372,
          0.9242714329769741,
          0.9209948087993425,
          0.918206465871711,
          0.9157072368421059,
          0.9135742187500007,
          0.910214072779606,
          0.9056075246710534,
          0.9004355982730271,
          0.8964008532072377,
          0.8917073520643591,
          0.8881435021630463
         ],
         "yaxis": "y"
        },
        {
         "hovertemplate": "variable=('Osaka', 'Hannan')<br>year=%{x}<br>value=%{y}<extra></extra>",
         "legendgroup": "('Osaka', 'Hannan')",
         "line": {
          "color": "#FFA15A",
          "dash": "solid"
         },
         "marker": {
          "symbol": "circle"
         },
         "mode": "lines+markers",
         "name": "('Osaka', 'Hannan')",
         "orientation": "v",
         "showlegend": true,
         "type": "scatter",
         "x": [
          2005,
          2006,
          2007,
          2008,
          2009,
          2010,
          2011,
          2012,
          2013,
          2014,
          2015,
          2016,
          2017,
          2018,
          2019,
          2020,
          2021,
          2022
         ],
         "xaxis": "x",
         "y": [
          null,
          0.9938446453862076,
          0.9864909031484911,
          0.9825144351236518,
          0.9817518248175182,
          0.9788103279224316,
          0.974870174674075,
          0.9709300214257183,
          0.9697679485782766,
          0.965101499800269,
          0.959291135563061,
          0.953026836619821,
          0.9461815012528603,
          0.9367396593673971,
          0.9306387769183286,
          0.921560082797691,
          0.9146400491518993,
          0.909632532725077
         ],
         "yaxis": "y"
        },
        {
         "hovertemplate": "variable=('Osaka', 'Kashiwara')<br>year=%{x}<br>value=%{y}<extra></extra>",
         "legendgroup": "('Osaka', 'Kashiwara')",
         "line": {
          "color": "#19d3f3",
          "dash": "solid"
         },
         "marker": {
          "symbol": "circle"
         },
         "mode": "lines+markers",
         "name": "('Osaka', 'Kashiwara')",
         "orientation": "v",
         "showlegend": true,
         "type": "scatter",
         "x": [
          2005,
          2006,
          2007,
          2008,
          2009,
          2010,
          2011,
          2012,
          2013,
          2014,
          2015,
          2016,
          2017,
          2018,
          2019,
          2020,
          2021,
          2022
         ],
         "xaxis": "x",
         "y": [
          null,
          null,
          0.9935597032911122,
          0.9862758749966528,
          0.9812548536539647,
          0.9730069892617091,
          0.9672093832846853,
          0.962389202795705,
          0.9579439252336451,
          0.9525212221835421,
          0.9447687652304317,
          0.9380472913263533,
          0.9314998794954881,
          0.9268537610797207,
          0.9208553142489895,
          0.9175615242481862,
          0.9147646517666665,
          0.9125043885073342
         ],
         "yaxis": "y"
        },
        {
         "hovertemplate": "variable=('Osaka', 'Kawachinagano')<br>year=%{x}<br>value=%{y}<extra></extra>",
         "legendgroup": "('Osaka', 'Kawachinagano')",
         "line": {
          "color": "#FF6692",
          "dash": "solid"
         },
         "marker": {
          "symbol": "circle"
         },
         "mode": "lines+markers",
         "name": "('Osaka', 'Kawachinagano')",
         "orientation": "v",
         "showlegend": true,
         "type": "scatter",
         "x": [
          2005,
          2006,
          2007,
          2008,
          2009,
          2010,
          2011,
          2012,
          2013,
          2014,
          2015,
          2016,
          2017,
          2018,
          2019,
          2020,
          2021,
          2022
         ],
         "xaxis": "x",
         "y": [
          null,
          null,
          0.9884825617520194,
          0.981170474295131,
          0.9735342056209423,
          0.972273500886996,
          0.9674468027627446,
          0.961368404938361,
          0.955037866167188,
          0.9483201109420172,
          0.9400174697655996,
          0.9343082783275858,
          0.9283289358751549,
          0.9220524273068652,
          0.91573989860332,
          0.9104449387207456,
          0.90460621182661,
          0.9005143546018528
         ],
         "yaxis": "y"
        },
        {
         "hovertemplate": "variable=('Osaka', 'Tondabayashi')<br>year=%{x}<br>value=%{y}<extra></extra>",
         "legendgroup": "('Osaka', 'Tondabayashi')",
         "line": {
          "color": "#B6E880",
          "dash": "solid"
         },
         "marker": {
          "symbol": "circle"
         },
         "mode": "lines+markers",
         "name": "('Osaka', 'Tondabayashi')",
         "orientation": "v",
         "showlegend": true,
         "type": "scatter",
         "x": [
          2005,
          2006,
          2007,
          2008,
          2009,
          2010,
          2011,
          2012,
          2013,
          2014,
          2015,
          2016,
          2017,
          2018,
          2019,
          2020,
          2021,
          2022
         ],
         "xaxis": "x",
         "y": [
          null,
          null,
          0.9917427315753888,
          0.9837052062204192,
          0.9773495605138608,
          0.9694050033806626,
          0.9623140635564571,
          0.9579699121027723,
          0.9505409060175796,
          0.9449881676808656,
          0.9398326572008115,
          0.9341024340770794,
          0.9284651791751187,
          0.9234702501690336,
          0.9186866125760654,
          0.9137339418526036,
          0.9106807680804792,
          0.907288970528542
         ],
         "yaxis": "y"
        },
        {
         "hovertemplate": "variable=('Chiba', 'Inzai')<br>year=%{x}<br>value=%{y}<extra></extra>",
         "legendgroup": "('Chiba', 'Inzai')",
         "line": {
          "color": "#FF97FF",
          "dash": "solid"
         },
         "marker": {
          "symbol": "circle"
         },
         "mode": "lines+markers",
         "name": "('Chiba', 'Inzai')",
         "orientation": "v",
         "showlegend": true,
         "type": "scatter",
         "x": [
          2005,
          2006,
          2007,
          2008,
          2009,
          2010,
          2011,
          2012,
          2013,
          2014,
          2015,
          2016,
          2017,
          2018,
          2019,
          2020,
          2021,
          2022
         ],
         "xaxis": "x",
         "y": [
          null,
          null,
          1.0050581806791419,
          1.0269846978433121,
          1.0460920913720893,
          1.0623571586018072,
          1.0679490005452623,
          1.0850377623351157,
          1.0906296042785708,
          1.0937271598779534,
          1.106070976948153,
          1.1297492952190904,
          1.1486246621112095,
          1.1683817302226287,
          1.1904010580414621,
          1.2121419538963063,
          1.2319657009446416,
          1.2431999642826312
         ],
         "yaxis": "y"
        },
        {
         "hovertemplate": "variable=('Chiba', 'Nagareyama')<br>year=%{x}<br>value=%{y}<extra></extra>",
         "legendgroup": "('Chiba', 'Nagareyama')",
         "line": {
          "color": "#FECB52",
          "dash": "solid"
         },
         "marker": {
          "symbol": "circle"
         },
         "mode": "lines+markers",
         "name": "('Chiba', 'Nagareyama')",
         "orientation": "v",
         "showlegend": true,
         "type": "scatter",
         "x": [
          2005,
          2006,
          2007,
          2008,
          2009,
          2010,
          2011,
          2012,
          2013,
          2014,
          2015,
          2016,
          2017,
          2018,
          2019,
          2020,
          2021,
          2022
         ],
         "xaxis": "x",
         "y": [
          null,
          null,
          1.0014497432134997,
          1.0070667644900952,
          1.015906089508437,
          1.028842259721203,
          1.0368129126925896,
          1.041044754218635,
          1.0492149669845923,
          1.0632252384446068,
          1.0807688921496692,
          1.1017931034482753,
          1.1247366104181946,
          1.1489244314013198,
          1.1729948642699919,
          1.1955862068965508,
          1.2180105292546162,
          1.2344469310588997
         ],
         "yaxis": "y"
        },
        {
         "hovertemplate": "variable=('Chiba', 'Yachimata')<br>year=%{x}<br>value=%{y}<extra></extra>",
         "legendgroup": "('Chiba', 'Yachimata')",
         "line": {
          "color": "#636efa",
          "dash": "solid"
         },
         "marker": {
          "symbol": "circle"
         },
         "mode": "lines+markers",
         "name": "('Chiba', 'Yachimata')",
         "orientation": "v",
         "showlegend": true,
         "type": "scatter",
         "x": [
          2005,
          2006,
          2007,
          2008,
          2009,
          2010,
          2011,
          2012,
          2013,
          2014,
          2015,
          2016,
          2017,
          2018,
          2019,
          2020,
          2021,
          2022
         ],
         "xaxis": "x",
         "y": [
          null,
          null,
          0.9902485015825983,
          0.9829214088490809,
          0.9740723281029027,
          0.9695063640649204,
          0.9635531012189376,
          0.9596605832042565,
          0.9550003367230121,
          0.9468651087615333,
          0.9402114620513172,
          0.9328843693177998,
          0.9254899319819523,
          0.9168832918041626,
          0.9085460300356935,
          0.9024446090645842,
          0.8982376274042643,
          0.8674652609828237
         ],
         "yaxis": "y"
        }
       ],
       "layout": {
        "autosize": false,
        "height": 800,
        "hovermode": "closest",
        "legend": {
         "title": {
          "text": "variable"
         },
         "tracegroupgap": 0
        },
        "template": {
         "data": {
          "bar": [
           {
            "error_x": {
             "color": "#2a3f5f"
            },
            "error_y": {
             "color": "#2a3f5f"
            },
            "marker": {
             "line": {
              "color": "#E5ECF6",
              "width": 0.5
             },
             "pattern": {
              "fillmode": "overlay",
              "size": 10,
              "solidity": 0.2
             }
            },
            "type": "bar"
           }
          ],
          "barpolar": [
           {
            "marker": {
             "line": {
              "color": "#E5ECF6",
              "width": 0.5
             },
             "pattern": {
              "fillmode": "overlay",
              "size": 10,
              "solidity": 0.2
             }
            },
            "type": "barpolar"
           }
          ],
          "carpet": [
           {
            "aaxis": {
             "endlinecolor": "#2a3f5f",
             "gridcolor": "white",
             "linecolor": "white",
             "minorgridcolor": "white",
             "startlinecolor": "#2a3f5f"
            },
            "baxis": {
             "endlinecolor": "#2a3f5f",
             "gridcolor": "white",
             "linecolor": "white",
             "minorgridcolor": "white",
             "startlinecolor": "#2a3f5f"
            },
            "type": "carpet"
           }
          ],
          "choropleth": [
           {
            "colorbar": {
             "outlinewidth": 0,
             "ticks": ""
            },
            "type": "choropleth"
           }
          ],
          "contour": [
           {
            "colorbar": {
             "outlinewidth": 0,
             "ticks": ""
            },
            "colorscale": [
             [
              0,
              "#0d0887"
             ],
             [
              0.1111111111111111,
              "#46039f"
             ],
             [
              0.2222222222222222,
              "#7201a8"
             ],
             [
              0.3333333333333333,
              "#9c179e"
             ],
             [
              0.4444444444444444,
              "#bd3786"
             ],
             [
              0.5555555555555556,
              "#d8576b"
             ],
             [
              0.6666666666666666,
              "#ed7953"
             ],
             [
              0.7777777777777778,
              "#fb9f3a"
             ],
             [
              0.8888888888888888,
              "#fdca26"
             ],
             [
              1,
              "#f0f921"
             ]
            ],
            "type": "contour"
           }
          ],
          "contourcarpet": [
           {
            "colorbar": {
             "outlinewidth": 0,
             "ticks": ""
            },
            "type": "contourcarpet"
           }
          ],
          "heatmap": [
           {
            "colorbar": {
             "outlinewidth": 0,
             "ticks": ""
            },
            "colorscale": [
             [
              0,
              "#0d0887"
             ],
             [
              0.1111111111111111,
              "#46039f"
             ],
             [
              0.2222222222222222,
              "#7201a8"
             ],
             [
              0.3333333333333333,
              "#9c179e"
             ],
             [
              0.4444444444444444,
              "#bd3786"
             ],
             [
              0.5555555555555556,
              "#d8576b"
             ],
             [
              0.6666666666666666,
              "#ed7953"
             ],
             [
              0.7777777777777778,
              "#fb9f3a"
             ],
             [
              0.8888888888888888,
              "#fdca26"
             ],
             [
              1,
              "#f0f921"
             ]
            ],
            "type": "heatmap"
           }
          ],
          "heatmapgl": [
           {
            "colorbar": {
             "outlinewidth": 0,
             "ticks": ""
            },
            "colorscale": [
             [
              0,
              "#0d0887"
             ],
             [
              0.1111111111111111,
              "#46039f"
             ],
             [
              0.2222222222222222,
              "#7201a8"
             ],
             [
              0.3333333333333333,
              "#9c179e"
             ],
             [
              0.4444444444444444,
              "#bd3786"
             ],
             [
              0.5555555555555556,
              "#d8576b"
             ],
             [
              0.6666666666666666,
              "#ed7953"
             ],
             [
              0.7777777777777778,
              "#fb9f3a"
             ],
             [
              0.8888888888888888,
              "#fdca26"
             ],
             [
              1,
              "#f0f921"
             ]
            ],
            "type": "heatmapgl"
           }
          ],
          "histogram": [
           {
            "marker": {
             "pattern": {
              "fillmode": "overlay",
              "size": 10,
              "solidity": 0.2
             }
            },
            "type": "histogram"
           }
          ],
          "histogram2d": [
           {
            "colorbar": {
             "outlinewidth": 0,
             "ticks": ""
            },
            "colorscale": [
             [
              0,
              "#0d0887"
             ],
             [
              0.1111111111111111,
              "#46039f"
             ],
             [
              0.2222222222222222,
              "#7201a8"
             ],
             [
              0.3333333333333333,
              "#9c179e"
             ],
             [
              0.4444444444444444,
              "#bd3786"
             ],
             [
              0.5555555555555556,
              "#d8576b"
             ],
             [
              0.6666666666666666,
              "#ed7953"
             ],
             [
              0.7777777777777778,
              "#fb9f3a"
             ],
             [
              0.8888888888888888,
              "#fdca26"
             ],
             [
              1,
              "#f0f921"
             ]
            ],
            "type": "histogram2d"
           }
          ],
          "histogram2dcontour": [
           {
            "colorbar": {
             "outlinewidth": 0,
             "ticks": ""
            },
            "colorscale": [
             [
              0,
              "#0d0887"
             ],
             [
              0.1111111111111111,
              "#46039f"
             ],
             [
              0.2222222222222222,
              "#7201a8"
             ],
             [
              0.3333333333333333,
              "#9c179e"
             ],
             [
              0.4444444444444444,
              "#bd3786"
             ],
             [
              0.5555555555555556,
              "#d8576b"
             ],
             [
              0.6666666666666666,
              "#ed7953"
             ],
             [
              0.7777777777777778,
              "#fb9f3a"
             ],
             [
              0.8888888888888888,
              "#fdca26"
             ],
             [
              1,
              "#f0f921"
             ]
            ],
            "type": "histogram2dcontour"
           }
          ],
          "mesh3d": [
           {
            "colorbar": {
             "outlinewidth": 0,
             "ticks": ""
            },
            "type": "mesh3d"
           }
          ],
          "parcoords": [
           {
            "line": {
             "colorbar": {
              "outlinewidth": 0,
              "ticks": ""
             }
            },
            "type": "parcoords"
           }
          ],
          "pie": [
           {
            "automargin": true,
            "type": "pie"
           }
          ],
          "scatter": [
           {
            "fillpattern": {
             "fillmode": "overlay",
             "size": 10,
             "solidity": 0.2
            },
            "type": "scatter"
           }
          ],
          "scatter3d": [
           {
            "line": {
             "colorbar": {
              "outlinewidth": 0,
              "ticks": ""
             }
            },
            "marker": {
             "colorbar": {
              "outlinewidth": 0,
              "ticks": ""
             }
            },
            "type": "scatter3d"
           }
          ],
          "scattercarpet": [
           {
            "marker": {
             "colorbar": {
              "outlinewidth": 0,
              "ticks": ""
             }
            },
            "type": "scattercarpet"
           }
          ],
          "scattergeo": [
           {
            "marker": {
             "colorbar": {
              "outlinewidth": 0,
              "ticks": ""
             }
            },
            "type": "scattergeo"
           }
          ],
          "scattergl": [
           {
            "marker": {
             "colorbar": {
              "outlinewidth": 0,
              "ticks": ""
             }
            },
            "type": "scattergl"
           }
          ],
          "scattermapbox": [
           {
            "marker": {
             "colorbar": {
              "outlinewidth": 0,
              "ticks": ""
             }
            },
            "type": "scattermapbox"
           }
          ],
          "scatterpolar": [
           {
            "marker": {
             "colorbar": {
              "outlinewidth": 0,
              "ticks": ""
             }
            },
            "type": "scatterpolar"
           }
          ],
          "scatterpolargl": [
           {
            "marker": {
             "colorbar": {
              "outlinewidth": 0,
              "ticks": ""
             }
            },
            "type": "scatterpolargl"
           }
          ],
          "scatterternary": [
           {
            "marker": {
             "colorbar": {
              "outlinewidth": 0,
              "ticks": ""
             }
            },
            "type": "scatterternary"
           }
          ],
          "surface": [
           {
            "colorbar": {
             "outlinewidth": 0,
             "ticks": ""
            },
            "colorscale": [
             [
              0,
              "#0d0887"
             ],
             [
              0.1111111111111111,
              "#46039f"
             ],
             [
              0.2222222222222222,
              "#7201a8"
             ],
             [
              0.3333333333333333,
              "#9c179e"
             ],
             [
              0.4444444444444444,
              "#bd3786"
             ],
             [
              0.5555555555555556,
              "#d8576b"
             ],
             [
              0.6666666666666666,
              "#ed7953"
             ],
             [
              0.7777777777777778,
              "#fb9f3a"
             ],
             [
              0.8888888888888888,
              "#fdca26"
             ],
             [
              1,
              "#f0f921"
             ]
            ],
            "type": "surface"
           }
          ],
          "table": [
           {
            "cells": {
             "fill": {
              "color": "#EBF0F8"
             },
             "line": {
              "color": "white"
             }
            },
            "header": {
             "fill": {
              "color": "#C8D4E3"
             },
             "line": {
              "color": "white"
             }
            },
            "type": "table"
           }
          ]
         },
         "layout": {
          "annotationdefaults": {
           "arrowcolor": "#2a3f5f",
           "arrowhead": 0,
           "arrowwidth": 1
          },
          "autotypenumbers": "strict",
          "coloraxis": {
           "colorbar": {
            "outlinewidth": 0,
            "ticks": ""
           }
          },
          "colorscale": {
           "diverging": [
            [
             0,
             "#8e0152"
            ],
            [
             0.1,
             "#c51b7d"
            ],
            [
             0.2,
             "#de77ae"
            ],
            [
             0.3,
             "#f1b6da"
            ],
            [
             0.4,
             "#fde0ef"
            ],
            [
             0.5,
             "#f7f7f7"
            ],
            [
             0.6,
             "#e6f5d0"
            ],
            [
             0.7,
             "#b8e186"
            ],
            [
             0.8,
             "#7fbc41"
            ],
            [
             0.9,
             "#4d9221"
            ],
            [
             1,
             "#276419"
            ]
           ],
           "sequential": [
            [
             0,
             "#0d0887"
            ],
            [
             0.1111111111111111,
             "#46039f"
            ],
            [
             0.2222222222222222,
             "#7201a8"
            ],
            [
             0.3333333333333333,
             "#9c179e"
            ],
            [
             0.4444444444444444,
             "#bd3786"
            ],
            [
             0.5555555555555556,
             "#d8576b"
            ],
            [
             0.6666666666666666,
             "#ed7953"
            ],
            [
             0.7777777777777778,
             "#fb9f3a"
            ],
            [
             0.8888888888888888,
             "#fdca26"
            ],
            [
             1,
             "#f0f921"
            ]
           ],
           "sequentialminus": [
            [
             0,
             "#0d0887"
            ],
            [
             0.1111111111111111,
             "#46039f"
            ],
            [
             0.2222222222222222,
             "#7201a8"
            ],
            [
             0.3333333333333333,
             "#9c179e"
            ],
            [
             0.4444444444444444,
             "#bd3786"
            ],
            [
             0.5555555555555556,
             "#d8576b"
            ],
            [
             0.6666666666666666,
             "#ed7953"
            ],
            [
             0.7777777777777778,
             "#fb9f3a"
            ],
            [
             0.8888888888888888,
             "#fdca26"
            ],
            [
             1,
             "#f0f921"
            ]
           ]
          },
          "colorway": [
           "#636efa",
           "#EF553B",
           "#00cc96",
           "#ab63fa",
           "#FFA15A",
           "#19d3f3",
           "#FF6692",
           "#B6E880",
           "#FF97FF",
           "#FECB52"
          ],
          "font": {
           "color": "#2a3f5f"
          },
          "geo": {
           "bgcolor": "white",
           "lakecolor": "white",
           "landcolor": "#E5ECF6",
           "showlakes": true,
           "showland": true,
           "subunitcolor": "white"
          },
          "hoverlabel": {
           "align": "left"
          },
          "hovermode": "closest",
          "mapbox": {
           "style": "light"
          },
          "paper_bgcolor": "white",
          "plot_bgcolor": "#E5ECF6",
          "polar": {
           "angularaxis": {
            "gridcolor": "white",
            "linecolor": "white",
            "ticks": ""
           },
           "bgcolor": "#E5ECF6",
           "radialaxis": {
            "gridcolor": "white",
            "linecolor": "white",
            "ticks": ""
           }
          },
          "scene": {
           "xaxis": {
            "backgroundcolor": "#E5ECF6",
            "gridcolor": "white",
            "gridwidth": 2,
            "linecolor": "white",
            "showbackground": true,
            "ticks": "",
            "zerolinecolor": "white"
           },
           "yaxis": {
            "backgroundcolor": "#E5ECF6",
            "gridcolor": "white",
            "gridwidth": 2,
            "linecolor": "white",
            "showbackground": true,
            "ticks": "",
            "zerolinecolor": "white"
           },
           "zaxis": {
            "backgroundcolor": "#E5ECF6",
            "gridcolor": "white",
            "gridwidth": 2,
            "linecolor": "white",
            "showbackground": true,
            "ticks": "",
            "zerolinecolor": "white"
           }
          },
          "shapedefaults": {
           "line": {
            "color": "#2a3f5f"
           }
          },
          "ternary": {
           "aaxis": {
            "gridcolor": "white",
            "linecolor": "white",
            "ticks": ""
           },
           "baxis": {
            "gridcolor": "white",
            "linecolor": "white",
            "ticks": ""
           },
           "bgcolor": "#E5ECF6",
           "caxis": {
            "gridcolor": "white",
            "linecolor": "white",
            "ticks": ""
           }
          },
          "title": {
           "x": 0.05
          },
          "xaxis": {
           "automargin": true,
           "gridcolor": "white",
           "linecolor": "white",
           "ticks": "",
           "title": {
            "standoff": 15
           },
           "zerolinecolor": "white",
           "zerolinewidth": 2
          },
          "yaxis": {
           "automargin": true,
           "gridcolor": "white",
           "linecolor": "white",
           "ticks": "",
           "title": {
            "standoff": 15
           },
           "zerolinecolor": "white",
           "zerolinewidth": 2
          }
         }
        },
        "title": {
         "text": "cumulative net_migration_ratio for top and bottom 10 municipalities"
        },
        "width": 1600,
        "xaxis": {
         "anchor": "y",
         "domain": [
          0,
          1
         ],
         "title": {
          "text": "year"
         }
        },
        "yaxis": {
         "anchor": "x",
         "domain": [
          0,
          1
         ],
         "title": {
          "text": "value"
         }
        }
       }
      }
     },
     "metadata": {},
     "output_type": "display_data"
    }
   ],
   "source": [
    "plot_time_series(\n",
    "    factor_growth_df.copy(),\n",
    "    \"factor_growth\",\n",
    "    group_by_columns,\n",
    "    granularity_columns,\n",
    "    f\"cumulative {factor_column} for top and bottom {return_n} municipalities\",\n",
    "    # visible=\"legendonly\",\n",
    ")"
   ]
  },
  {
   "cell_type": "code",
   "execution_count": 10,
   "metadata": {},
   "outputs": [
    {
     "data": {
      "text/plain": [
       "0.9"
      ]
     },
     "execution_count": 10,
     "metadata": {},
     "output_type": "execute_result"
    }
   ],
   "source": [
    "1 - 0.3 / 3"
   ]
  },
  {
   "cell_type": "code",
   "execution_count": 11,
   "metadata": {},
   "outputs": [
    {
     "data": {
      "application/vnd.plotly.v1+json": {
       "config": {
        "plotlyServerURL": "https://plot.ly"
       },
       "data": [
        {
         "hovertemplate": "variable=('Fukuoka', 'Fukutsu')<br>year=%{x}<br>value=%{y}<extra></extra>",
         "legendgroup": "('Fukuoka', 'Fukutsu')",
         "line": {
          "color": "#636efa",
          "dash": "solid"
         },
         "marker": {
          "symbol": "circle"
         },
         "mode": "lines+markers",
         "name": "('Fukuoka', 'Fukutsu')",
         "orientation": "v",
         "showlegend": true,
         "type": "scatter",
         "visible": "legendonly",
         "x": [
          2010,
          2011,
          2012,
          2013,
          2014,
          2015,
          2016,
          2017,
          2018,
          2019,
          2020,
          2021,
          2022
         ],
         "xaxis": "x",
         "y": [
          43,
          36,
          92,
          78,
          107,
          102,
          105,
          118,
          105,
          95,
          101,
          92,
          60
         ],
         "yaxis": "y"
        },
        {
         "hovertemplate": "variable=('Tokyo', 'Chuo')<br>year=%{x}<br>value=%{y}<extra></extra>",
         "legendgroup": "('Tokyo', 'Chuo')",
         "line": {
          "color": "#EF553B",
          "dash": "solid"
         },
         "marker": {
          "symbol": "circle"
         },
         "mode": "lines+markers",
         "name": "('Tokyo', 'Chuo')",
         "orientation": "v",
         "showlegend": true,
         "type": "scatter",
         "visible": "legendonly",
         "x": [
          2010,
          2011,
          2012,
          2013,
          2014,
          2015,
          2016,
          2017,
          2018,
          2019,
          2020,
          2021,
          2022
         ],
         "xaxis": "x",
         "y": [
          90,
          87,
          86,
          114,
          92,
          90,
          93,
          76,
          84,
          81,
          66,
          80,
          62
         ],
         "yaxis": "y"
        },
        {
         "hovertemplate": "variable=('Tokyo', 'Minato')<br>year=%{x}<br>value=%{y}<extra></extra>",
         "legendgroup": "('Tokyo', 'Minato')",
         "line": {
          "color": "#00cc96",
          "dash": "solid"
         },
         "marker": {
          "symbol": "circle"
         },
         "mode": "lines+markers",
         "name": "('Tokyo', 'Minato')",
         "orientation": "v",
         "showlegend": true,
         "type": "scatter",
         "visible": "legendonly",
         "x": [
          2010,
          2011,
          2012,
          2013,
          2014,
          2015,
          2016,
          2017,
          2018,
          2019,
          2020,
          2021,
          2022
         ],
         "xaxis": "x",
         "y": [
          98,
          85,
          96,
          139,
          118,
          123,
          126,
          128,
          103,
          99,
          73,
          78,
          101
         ],
         "yaxis": "y"
        },
        {
         "hovertemplate": "variable=('Tokyo', 'Sumida')<br>year=%{x}<br>value=%{y}<extra></extra>",
         "legendgroup": "('Tokyo', 'Sumida')",
         "line": {
          "color": "#ab63fa",
          "dash": "solid"
         },
         "marker": {
          "symbol": "circle"
         },
         "mode": "lines+markers",
         "name": "('Tokyo', 'Sumida')",
         "orientation": "v",
         "showlegend": true,
         "type": "scatter",
         "visible": "legendonly",
         "x": [
          2010,
          2011,
          2012,
          2013,
          2014,
          2015,
          2016,
          2017,
          2018,
          2019,
          2020,
          2021,
          2022
         ],
         "xaxis": "x",
         "y": [
          139,
          144,
          168,
          176,
          222,
          198,
          154,
          160,
          183,
          180,
          177,
          190,
          158
         ],
         "yaxis": "y"
        },
        {
         "hovertemplate": "variable=('Tokyo', 'Taito')<br>year=%{x}<br>value=%{y}<extra></extra>",
         "legendgroup": "('Tokyo', 'Taito')",
         "line": {
          "color": "#FFA15A",
          "dash": "solid"
         },
         "marker": {
          "symbol": "circle"
         },
         "mode": "lines+markers",
         "name": "('Tokyo', 'Taito')",
         "orientation": "v",
         "showlegend": true,
         "type": "scatter",
         "visible": "legendonly",
         "x": [
          2010,
          2011,
          2012,
          2013,
          2014,
          2015,
          2016,
          2017,
          2018,
          2019,
          2020,
          2021,
          2022
         ],
         "xaxis": "x",
         "y": [
          133,
          117,
          128,
          151,
          155,
          154,
          151,
          170,
          137,
          161,
          157,
          126,
          124
         ],
         "yaxis": "y"
        },
        {
         "hovertemplate": "variable=('Ibaraki', 'Hitachi')<br>year=%{x}<br>value=%{y}<extra></extra>",
         "legendgroup": "('Ibaraki', 'Hitachi')",
         "line": {
          "color": "#19d3f3",
          "dash": "solid"
         },
         "marker": {
          "symbol": "circle"
         },
         "mode": "lines+markers",
         "name": "('Ibaraki', 'Hitachi')",
         "orientation": "v",
         "showlegend": true,
         "type": "scatter",
         "visible": "legendonly",
         "x": [
          2010,
          2011,
          2012,
          2013,
          2014,
          2015,
          2016,
          2017,
          2018,
          2019,
          2020,
          2021,
          2022
         ],
         "xaxis": "x",
         "y": [
          104,
          72,
          122,
          102,
          109,
          140,
          145,
          139,
          127,
          125,
          127,
          179,
          149
         ],
         "yaxis": "y"
        },
        {
         "hovertemplate": "variable=('Ibaraki', 'Tsukuba')<br>year=%{x}<br>value=%{y}<extra></extra>",
         "legendgroup": "('Ibaraki', 'Tsukuba')",
         "line": {
          "color": "#FF6692",
          "dash": "solid"
         },
         "marker": {
          "symbol": "circle"
         },
         "mode": "lines+markers",
         "name": "('Ibaraki', 'Tsukuba')",
         "orientation": "v",
         "showlegend": true,
         "type": "scatter",
         "visible": "legendonly",
         "x": [
          2010,
          2011,
          2012,
          2013,
          2014,
          2015,
          2016,
          2017,
          2018,
          2019,
          2020,
          2021,
          2022
         ],
         "xaxis": "x",
         "y": [
          148,
          93,
          168,
          229,
          259,
          306,
          305,
          372,
          396,
          327,
          333,
          377,
          302
         ],
         "yaxis": "y"
        },
        {
         "hovertemplate": "variable=('Nagano', 'Karuizawa')<br>year=%{x}<br>value=%{y}<extra></extra>",
         "legendgroup": "('Nagano', 'Karuizawa')",
         "line": {
          "color": "#B6E880",
          "dash": "solid"
         },
         "marker": {
          "symbol": "circle"
         },
         "mode": "lines+markers",
         "name": "('Nagano', 'Karuizawa')",
         "orientation": "v",
         "showlegend": true,
         "type": "scatter",
         "visible": "legendonly",
         "x": [
          2010,
          2011,
          2012,
          2013,
          2014,
          2015,
          2016,
          2017,
          2018,
          2019,
          2020,
          2021,
          2022
         ],
         "xaxis": "x",
         "y": [
          102,
          122,
          132,
          151,
          121,
          117,
          131,
          121,
          134,
          122,
          172,
          171,
          132
         ],
         "yaxis": "y"
        },
        {
         "hovertemplate": "variable=('Kyoto', 'Kizugawa')<br>year=%{x}<br>value=%{y}<extra></extra>",
         "legendgroup": "('Kyoto', 'Kizugawa')",
         "line": {
          "color": "#FF97FF",
          "dash": "solid"
         },
         "marker": {
          "symbol": "circle"
         },
         "mode": "lines+markers",
         "name": "('Kyoto', 'Kizugawa')",
         "orientation": "v",
         "showlegend": true,
         "type": "scatter",
         "visible": "legendonly",
         "x": [
          2010,
          2011,
          2012,
          2013,
          2014,
          2015,
          2016,
          2017,
          2018,
          2019,
          2020,
          2021,
          2022
         ],
         "xaxis": "x",
         "y": [
          91,
          111,
          82,
          64,
          90,
          112,
          100,
          82,
          99,
          117,
          123,
          95,
          56
         ],
         "yaxis": "y"
        },
        {
         "hovertemplate": "variable=('Niigata', 'Yuzawa')<br>year=%{x}<br>value=%{y}<extra></extra>",
         "legendgroup": "('Niigata', 'Yuzawa')",
         "line": {
          "color": "#FECB52",
          "dash": "solid"
         },
         "marker": {
          "symbol": "circle"
         },
         "mode": "lines+markers",
         "name": "('Niigata', 'Yuzawa')",
         "orientation": "v",
         "showlegend": true,
         "type": "scatter",
         "visible": "legendonly",
         "x": [
          2010,
          2011,
          2012,
          2013,
          2014,
          2015,
          2016,
          2017,
          2018,
          2019,
          2020,
          2021,
          2022
         ],
         "xaxis": "x",
         "y": [
          13,
          9,
          2,
          10,
          4,
          7,
          8,
          5,
          11,
          13,
          7,
          4,
          9
         ],
         "yaxis": "y"
        },
        {
         "hovertemplate": "variable=('Hiroshima', 'Kure')<br>year=%{x}<br>value=%{y}<extra></extra>",
         "legendgroup": "('Hiroshima', 'Kure')",
         "line": {
          "color": "#636efa",
          "dash": "solid"
         },
         "marker": {
          "symbol": "circle"
         },
         "mode": "lines+markers",
         "name": "('Hiroshima', 'Kure')",
         "orientation": "v",
         "showlegend": true,
         "type": "scatter",
         "visible": "legendonly",
         "x": [
          2010,
          2011,
          2012,
          2013,
          2014,
          2015,
          2016,
          2017,
          2018,
          2019,
          2020,
          2021,
          2022
         ],
         "xaxis": "x",
         "y": [
          174,
          129,
          184,
          210,
          219,
          239,
          223,
          191,
          140,
          214,
          214,
          211,
          191
         ],
         "yaxis": "y"
        },
        {
         "hovertemplate": "variable=('Miyagi', 'Ishinomaki')<br>year=%{x}<br>value=%{y}<extra></extra>",
         "legendgroup": "('Miyagi', 'Ishinomaki')",
         "line": {
          "color": "#EF553B",
          "dash": "solid"
         },
         "marker": {
          "symbol": "circle"
         },
         "mode": "lines+markers",
         "name": "('Miyagi', 'Ishinomaki')",
         "orientation": "v",
         "showlegend": true,
         "type": "scatter",
         "visible": "legendonly",
         "x": [
          2010,
          2011,
          2012,
          2013,
          2014,
          2015,
          2016,
          2017,
          2018,
          2019,
          2020,
          2021,
          2022
         ],
         "xaxis": "x",
         "y": [
          95,
          109,
          156,
          164,
          151,
          150,
          118,
          112,
          119,
          93,
          112,
          155,
          85
         ],
         "yaxis": "y"
        },
        {
         "hovertemplate": "variable=('Osaka', 'Kashiwara')<br>year=%{x}<br>value=%{y}<extra></extra>",
         "legendgroup": "('Osaka', 'Kashiwara')",
         "line": {
          "color": "#00cc96",
          "dash": "solid"
         },
         "marker": {
          "symbol": "circle"
         },
         "mode": "lines+markers",
         "name": "('Osaka', 'Kashiwara')",
         "orientation": "v",
         "showlegend": true,
         "type": "scatter",
         "visible": "legendonly",
         "x": [
          2010,
          2011,
          2012,
          2013,
          2014,
          2015,
          2016,
          2017,
          2018,
          2019,
          2020,
          2021,
          2022
         ],
         "xaxis": "x",
         "y": [
          112,
          83,
          108,
          109,
          106,
          88,
          97,
          94,
          73,
          113,
          82,
          105,
          100
         ],
         "yaxis": "y"
        },
        {
         "hovertemplate": "variable=('Osaka', 'Kawachinagano')<br>year=%{x}<br>value=%{y}<extra></extra>",
         "legendgroup": "('Osaka', 'Kawachinagano')",
         "line": {
          "color": "#ab63fa",
          "dash": "solid"
         },
         "marker": {
          "symbol": "circle"
         },
         "mode": "lines+markers",
         "name": "('Osaka', 'Kawachinagano')",
         "orientation": "v",
         "showlegend": true,
         "type": "scatter",
         "visible": "legendonly",
         "x": [
          2010,
          2011,
          2012,
          2013,
          2014,
          2015,
          2016,
          2017,
          2018,
          2019,
          2020,
          2021,
          2022
         ],
         "xaxis": "x",
         "y": [
          175,
          129,
          132,
          136,
          136,
          126,
          141,
          148,
          134,
          104,
          142,
          125,
          85
         ],
         "yaxis": "y"
        },
        {
         "hovertemplate": "variable=('Osaka', 'Tondabayashi')<br>year=%{x}<br>value=%{y}<extra></extra>",
         "legendgroup": "('Osaka', 'Tondabayashi')",
         "line": {
          "color": "#FFA15A",
          "dash": "solid"
         },
         "marker": {
          "symbol": "circle"
         },
         "mode": "lines+markers",
         "name": "('Osaka', 'Tondabayashi')",
         "orientation": "v",
         "showlegend": true,
         "type": "scatter",
         "visible": "legendonly",
         "x": [
          2010,
          2011,
          2012,
          2013,
          2014,
          2015,
          2016,
          2017,
          2018,
          2019,
          2020,
          2021,
          2022
         ],
         "xaxis": "x",
         "y": [
          145,
          125,
          118,
          139,
          147,
          118,
          149,
          104,
          118,
          110,
          135,
          106,
          103
         ],
         "yaxis": "y"
        },
        {
         "hovertemplate": "variable=('Chiba', 'Inzai')<br>year=%{x}<br>value=%{y}<extra></extra>",
         "legendgroup": "('Chiba', 'Inzai')",
         "line": {
          "color": "#19d3f3",
          "dash": "solid"
         },
         "marker": {
          "symbol": "circle"
         },
         "mode": "lines+markers",
         "name": "('Chiba', 'Inzai')",
         "orientation": "v",
         "showlegend": true,
         "type": "scatter",
         "visible": "legendonly",
         "x": [
          2010,
          2011,
          2012,
          2013,
          2014,
          2015,
          2016,
          2017,
          2018,
          2019,
          2020,
          2021,
          2022
         ],
         "xaxis": "x",
         "y": [
          116,
          92,
          115,
          93,
          115,
          126,
          143,
          200,
          215,
          191,
          274,
          249,
          125
         ],
         "yaxis": "y"
        },
        {
         "hovertemplate": "variable=('Chiba', 'Nagareyama')<br>year=%{x}<br>value=%{y}<extra></extra>",
         "legendgroup": "('Chiba', 'Nagareyama')",
         "line": {
          "color": "#FF6692",
          "dash": "solid"
         },
         "marker": {
          "symbol": "circle"
         },
         "mode": "lines+markers",
         "name": "('Chiba', 'Nagareyama')",
         "orientation": "v",
         "showlegend": true,
         "type": "scatter",
         "visible": "legendonly",
         "x": [
          2010,
          2011,
          2012,
          2013,
          2014,
          2015,
          2016,
          2017,
          2018,
          2019,
          2020,
          2021,
          2022
         ],
         "xaxis": "x",
         "y": [
          233,
          147,
          173,
          183,
          210,
          237,
          244,
          197,
          222,
          299,
          369,
          308,
          228
         ],
         "yaxis": "y"
        },
        {
         "hovertemplate": "variable=('Chiba', 'Yachimata')<br>year=%{x}<br>value=%{y}<extra></extra>",
         "legendgroup": "('Chiba', 'Yachimata')",
         "line": {
          "color": "#B6E880",
          "dash": "solid"
         },
         "marker": {
          "symbol": "circle"
         },
         "mode": "lines+markers",
         "name": "('Chiba', 'Yachimata')",
         "orientation": "v",
         "showlegend": true,
         "type": "scatter",
         "visible": "legendonly",
         "x": [
          2010,
          2011,
          2012,
          2013,
          2014,
          2015,
          2016,
          2017,
          2018,
          2019,
          2020,
          2021,
          2022
         ],
         "xaxis": "x",
         "y": [
          131,
          107,
          102,
          110,
          87,
          104,
          85,
          104,
          80,
          97,
          101,
          120,
          85
         ],
         "yaxis": "y"
        },
        {
         "hovertemplate": "variable=('Hokkaido', 'Kushiro')<br>year=%{x}<br>value=%{y}<extra></extra>",
         "legendgroup": "('Hokkaido', 'Kushiro')",
         "line": {
          "color": "#FF97FF",
          "dash": "solid"
         },
         "marker": {
          "symbol": "circle"
         },
         "mode": "lines+markers",
         "name": "('Hokkaido', 'Kushiro')",
         "orientation": "v",
         "showlegend": true,
         "type": "scatter",
         "visible": "legendonly",
         "x": [
          2010,
          2011,
          2012,
          2013,
          2014,
          2015,
          2016,
          2017,
          2018,
          2019,
          2020,
          2021,
          2022
         ],
         "xaxis": "x",
         "y": [
          212,
          169,
          205,
          242,
          206,
          276,
          235,
          221,
          169,
          235,
          258,
          266,
          226
         ],
         "yaxis": "y"
        },
        {
         "hovertemplate": "variable=('Hokkaido', 'Muroran')<br>year=%{x}<br>value=%{y}<extra></extra>",
         "legendgroup": "('Hokkaido', 'Muroran')",
         "line": {
          "color": "#FECB52",
          "dash": "solid"
         },
         "marker": {
          "symbol": "circle"
         },
         "mode": "lines+markers",
         "name": "('Hokkaido', 'Muroran')",
         "orientation": "v",
         "showlegend": true,
         "type": "scatter",
         "visible": "legendonly",
         "x": [
          2010,
          2011,
          2012,
          2013,
          2014,
          2015,
          2016,
          2017,
          2018,
          2019,
          2020,
          2021,
          2022
         ],
         "xaxis": "x",
         "y": [
          70,
          88,
          91,
          78,
          87,
          114,
          92,
          104,
          64,
          89,
          117,
          150,
          127
         ],
         "yaxis": "y"
        },
        {
         "hovertemplate": "variable=('Hokkaido', 'Otaru')<br>year=%{x}<br>value=%{y}<extra></extra>",
         "legendgroup": "('Hokkaido', 'Otaru')",
         "line": {
          "color": "#636efa",
          "dash": "solid"
         },
         "marker": {
          "symbol": "circle"
         },
         "mode": "lines+markers",
         "name": "('Hokkaido', 'Otaru')",
         "orientation": "v",
         "showlegend": true,
         "type": "scatter",
         "visible": "legendonly",
         "x": [
          2010,
          2011,
          2012,
          2013,
          2014,
          2015,
          2016,
          2017,
          2018,
          2019,
          2020,
          2021,
          2022
         ],
         "xaxis": "x",
         "y": [
          104,
          131,
          123,
          126,
          123,
          127,
          131,
          123,
          152,
          99,
          180,
          184,
          169
         ],
         "yaxis": "y"
        }
       ],
       "layout": {
        "autosize": false,
        "height": 800,
        "hovermode": "closest",
        "legend": {
         "title": {
          "text": "variable"
         },
         "tracegroupgap": 0
        },
        "template": {
         "data": {
          "bar": [
           {
            "error_x": {
             "color": "#2a3f5f"
            },
            "error_y": {
             "color": "#2a3f5f"
            },
            "marker": {
             "line": {
              "color": "#E5ECF6",
              "width": 0.5
             },
             "pattern": {
              "fillmode": "overlay",
              "size": 10,
              "solidity": 0.2
             }
            },
            "type": "bar"
           }
          ],
          "barpolar": [
           {
            "marker": {
             "line": {
              "color": "#E5ECF6",
              "width": 0.5
             },
             "pattern": {
              "fillmode": "overlay",
              "size": 10,
              "solidity": 0.2
             }
            },
            "type": "barpolar"
           }
          ],
          "carpet": [
           {
            "aaxis": {
             "endlinecolor": "#2a3f5f",
             "gridcolor": "white",
             "linecolor": "white",
             "minorgridcolor": "white",
             "startlinecolor": "#2a3f5f"
            },
            "baxis": {
             "endlinecolor": "#2a3f5f",
             "gridcolor": "white",
             "linecolor": "white",
             "minorgridcolor": "white",
             "startlinecolor": "#2a3f5f"
            },
            "type": "carpet"
           }
          ],
          "choropleth": [
           {
            "colorbar": {
             "outlinewidth": 0,
             "ticks": ""
            },
            "type": "choropleth"
           }
          ],
          "contour": [
           {
            "colorbar": {
             "outlinewidth": 0,
             "ticks": ""
            },
            "colorscale": [
             [
              0,
              "#0d0887"
             ],
             [
              0.1111111111111111,
              "#46039f"
             ],
             [
              0.2222222222222222,
              "#7201a8"
             ],
             [
              0.3333333333333333,
              "#9c179e"
             ],
             [
              0.4444444444444444,
              "#bd3786"
             ],
             [
              0.5555555555555556,
              "#d8576b"
             ],
             [
              0.6666666666666666,
              "#ed7953"
             ],
             [
              0.7777777777777778,
              "#fb9f3a"
             ],
             [
              0.8888888888888888,
              "#fdca26"
             ],
             [
              1,
              "#f0f921"
             ]
            ],
            "type": "contour"
           }
          ],
          "contourcarpet": [
           {
            "colorbar": {
             "outlinewidth": 0,
             "ticks": ""
            },
            "type": "contourcarpet"
           }
          ],
          "heatmap": [
           {
            "colorbar": {
             "outlinewidth": 0,
             "ticks": ""
            },
            "colorscale": [
             [
              0,
              "#0d0887"
             ],
             [
              0.1111111111111111,
              "#46039f"
             ],
             [
              0.2222222222222222,
              "#7201a8"
             ],
             [
              0.3333333333333333,
              "#9c179e"
             ],
             [
              0.4444444444444444,
              "#bd3786"
             ],
             [
              0.5555555555555556,
              "#d8576b"
             ],
             [
              0.6666666666666666,
              "#ed7953"
             ],
             [
              0.7777777777777778,
              "#fb9f3a"
             ],
             [
              0.8888888888888888,
              "#fdca26"
             ],
             [
              1,
              "#f0f921"
             ]
            ],
            "type": "heatmap"
           }
          ],
          "heatmapgl": [
           {
            "colorbar": {
             "outlinewidth": 0,
             "ticks": ""
            },
            "colorscale": [
             [
              0,
              "#0d0887"
             ],
             [
              0.1111111111111111,
              "#46039f"
             ],
             [
              0.2222222222222222,
              "#7201a8"
             ],
             [
              0.3333333333333333,
              "#9c179e"
             ],
             [
              0.4444444444444444,
              "#bd3786"
             ],
             [
              0.5555555555555556,
              "#d8576b"
             ],
             [
              0.6666666666666666,
              "#ed7953"
             ],
             [
              0.7777777777777778,
              "#fb9f3a"
             ],
             [
              0.8888888888888888,
              "#fdca26"
             ],
             [
              1,
              "#f0f921"
             ]
            ],
            "type": "heatmapgl"
           }
          ],
          "histogram": [
           {
            "marker": {
             "pattern": {
              "fillmode": "overlay",
              "size": 10,
              "solidity": 0.2
             }
            },
            "type": "histogram"
           }
          ],
          "histogram2d": [
           {
            "colorbar": {
             "outlinewidth": 0,
             "ticks": ""
            },
            "colorscale": [
             [
              0,
              "#0d0887"
             ],
             [
              0.1111111111111111,
              "#46039f"
             ],
             [
              0.2222222222222222,
              "#7201a8"
             ],
             [
              0.3333333333333333,
              "#9c179e"
             ],
             [
              0.4444444444444444,
              "#bd3786"
             ],
             [
              0.5555555555555556,
              "#d8576b"
             ],
             [
              0.6666666666666666,
              "#ed7953"
             ],
             [
              0.7777777777777778,
              "#fb9f3a"
             ],
             [
              0.8888888888888888,
              "#fdca26"
             ],
             [
              1,
              "#f0f921"
             ]
            ],
            "type": "histogram2d"
           }
          ],
          "histogram2dcontour": [
           {
            "colorbar": {
             "outlinewidth": 0,
             "ticks": ""
            },
            "colorscale": [
             [
              0,
              "#0d0887"
             ],
             [
              0.1111111111111111,
              "#46039f"
             ],
             [
              0.2222222222222222,
              "#7201a8"
             ],
             [
              0.3333333333333333,
              "#9c179e"
             ],
             [
              0.4444444444444444,
              "#bd3786"
             ],
             [
              0.5555555555555556,
              "#d8576b"
             ],
             [
              0.6666666666666666,
              "#ed7953"
             ],
             [
              0.7777777777777778,
              "#fb9f3a"
             ],
             [
              0.8888888888888888,
              "#fdca26"
             ],
             [
              1,
              "#f0f921"
             ]
            ],
            "type": "histogram2dcontour"
           }
          ],
          "mesh3d": [
           {
            "colorbar": {
             "outlinewidth": 0,
             "ticks": ""
            },
            "type": "mesh3d"
           }
          ],
          "parcoords": [
           {
            "line": {
             "colorbar": {
              "outlinewidth": 0,
              "ticks": ""
             }
            },
            "type": "parcoords"
           }
          ],
          "pie": [
           {
            "automargin": true,
            "type": "pie"
           }
          ],
          "scatter": [
           {
            "fillpattern": {
             "fillmode": "overlay",
             "size": 10,
             "solidity": 0.2
            },
            "type": "scatter"
           }
          ],
          "scatter3d": [
           {
            "line": {
             "colorbar": {
              "outlinewidth": 0,
              "ticks": ""
             }
            },
            "marker": {
             "colorbar": {
              "outlinewidth": 0,
              "ticks": ""
             }
            },
            "type": "scatter3d"
           }
          ],
          "scattercarpet": [
           {
            "marker": {
             "colorbar": {
              "outlinewidth": 0,
              "ticks": ""
             }
            },
            "type": "scattercarpet"
           }
          ],
          "scattergeo": [
           {
            "marker": {
             "colorbar": {
              "outlinewidth": 0,
              "ticks": ""
             }
            },
            "type": "scattergeo"
           }
          ],
          "scattergl": [
           {
            "marker": {
             "colorbar": {
              "outlinewidth": 0,
              "ticks": ""
             }
            },
            "type": "scattergl"
           }
          ],
          "scattermapbox": [
           {
            "marker": {
             "colorbar": {
              "outlinewidth": 0,
              "ticks": ""
             }
            },
            "type": "scattermapbox"
           }
          ],
          "scatterpolar": [
           {
            "marker": {
             "colorbar": {
              "outlinewidth": 0,
              "ticks": ""
             }
            },
            "type": "scatterpolar"
           }
          ],
          "scatterpolargl": [
           {
            "marker": {
             "colorbar": {
              "outlinewidth": 0,
              "ticks": ""
             }
            },
            "type": "scatterpolargl"
           }
          ],
          "scatterternary": [
           {
            "marker": {
             "colorbar": {
              "outlinewidth": 0,
              "ticks": ""
             }
            },
            "type": "scatterternary"
           }
          ],
          "surface": [
           {
            "colorbar": {
             "outlinewidth": 0,
             "ticks": ""
            },
            "colorscale": [
             [
              0,
              "#0d0887"
             ],
             [
              0.1111111111111111,
              "#46039f"
             ],
             [
              0.2222222222222222,
              "#7201a8"
             ],
             [
              0.3333333333333333,
              "#9c179e"
             ],
             [
              0.4444444444444444,
              "#bd3786"
             ],
             [
              0.5555555555555556,
              "#d8576b"
             ],
             [
              0.6666666666666666,
              "#ed7953"
             ],
             [
              0.7777777777777778,
              "#fb9f3a"
             ],
             [
              0.8888888888888888,
              "#fdca26"
             ],
             [
              1,
              "#f0f921"
             ]
            ],
            "type": "surface"
           }
          ],
          "table": [
           {
            "cells": {
             "fill": {
              "color": "#EBF0F8"
             },
             "line": {
              "color": "white"
             }
            },
            "header": {
             "fill": {
              "color": "#C8D4E3"
             },
             "line": {
              "color": "white"
             }
            },
            "type": "table"
           }
          ]
         },
         "layout": {
          "annotationdefaults": {
           "arrowcolor": "#2a3f5f",
           "arrowhead": 0,
           "arrowwidth": 1
          },
          "autotypenumbers": "strict",
          "coloraxis": {
           "colorbar": {
            "outlinewidth": 0,
            "ticks": ""
           }
          },
          "colorscale": {
           "diverging": [
            [
             0,
             "#8e0152"
            ],
            [
             0.1,
             "#c51b7d"
            ],
            [
             0.2,
             "#de77ae"
            ],
            [
             0.3,
             "#f1b6da"
            ],
            [
             0.4,
             "#fde0ef"
            ],
            [
             0.5,
             "#f7f7f7"
            ],
            [
             0.6,
             "#e6f5d0"
            ],
            [
             0.7,
             "#b8e186"
            ],
            [
             0.8,
             "#7fbc41"
            ],
            [
             0.9,
             "#4d9221"
            ],
            [
             1,
             "#276419"
            ]
           ],
           "sequential": [
            [
             0,
             "#0d0887"
            ],
            [
             0.1111111111111111,
             "#46039f"
            ],
            [
             0.2222222222222222,
             "#7201a8"
            ],
            [
             0.3333333333333333,
             "#9c179e"
            ],
            [
             0.4444444444444444,
             "#bd3786"
            ],
            [
             0.5555555555555556,
             "#d8576b"
            ],
            [
             0.6666666666666666,
             "#ed7953"
            ],
            [
             0.7777777777777778,
             "#fb9f3a"
            ],
            [
             0.8888888888888888,
             "#fdca26"
            ],
            [
             1,
             "#f0f921"
            ]
           ],
           "sequentialminus": [
            [
             0,
             "#0d0887"
            ],
            [
             0.1111111111111111,
             "#46039f"
            ],
            [
             0.2222222222222222,
             "#7201a8"
            ],
            [
             0.3333333333333333,
             "#9c179e"
            ],
            [
             0.4444444444444444,
             "#bd3786"
            ],
            [
             0.5555555555555556,
             "#d8576b"
            ],
            [
             0.6666666666666666,
             "#ed7953"
            ],
            [
             0.7777777777777778,
             "#fb9f3a"
            ],
            [
             0.8888888888888888,
             "#fdca26"
            ],
            [
             1,
             "#f0f921"
            ]
           ]
          },
          "colorway": [
           "#636efa",
           "#EF553B",
           "#00cc96",
           "#ab63fa",
           "#FFA15A",
           "#19d3f3",
           "#FF6692",
           "#B6E880",
           "#FF97FF",
           "#FECB52"
          ],
          "font": {
           "color": "#2a3f5f"
          },
          "geo": {
           "bgcolor": "white",
           "lakecolor": "white",
           "landcolor": "#E5ECF6",
           "showlakes": true,
           "showland": true,
           "subunitcolor": "white"
          },
          "hoverlabel": {
           "align": "left"
          },
          "hovermode": "closest",
          "mapbox": {
           "style": "light"
          },
          "paper_bgcolor": "white",
          "plot_bgcolor": "#E5ECF6",
          "polar": {
           "angularaxis": {
            "gridcolor": "white",
            "linecolor": "white",
            "ticks": ""
           },
           "bgcolor": "#E5ECF6",
           "radialaxis": {
            "gridcolor": "white",
            "linecolor": "white",
            "ticks": ""
           }
          },
          "scene": {
           "xaxis": {
            "backgroundcolor": "#E5ECF6",
            "gridcolor": "white",
            "gridwidth": 2,
            "linecolor": "white",
            "showbackground": true,
            "ticks": "",
            "zerolinecolor": "white"
           },
           "yaxis": {
            "backgroundcolor": "#E5ECF6",
            "gridcolor": "white",
            "gridwidth": 2,
            "linecolor": "white",
            "showbackground": true,
            "ticks": "",
            "zerolinecolor": "white"
           },
           "zaxis": {
            "backgroundcolor": "#E5ECF6",
            "gridcolor": "white",
            "gridwidth": 2,
            "linecolor": "white",
            "showbackground": true,
            "ticks": "",
            "zerolinecolor": "white"
           }
          },
          "shapedefaults": {
           "line": {
            "color": "#2a3f5f"
           }
          },
          "ternary": {
           "aaxis": {
            "gridcolor": "white",
            "linecolor": "white",
            "ticks": ""
           },
           "baxis": {
            "gridcolor": "white",
            "linecolor": "white",
            "ticks": ""
           },
           "bgcolor": "#E5ECF6",
           "caxis": {
            "gridcolor": "white",
            "linecolor": "white",
            "ticks": ""
           }
          },
          "title": {
           "x": 0.05
          },
          "xaxis": {
           "automargin": true,
           "gridcolor": "white",
           "linecolor": "white",
           "ticks": "",
           "title": {
            "standoff": 15
           },
           "zerolinecolor": "white",
           "zerolinewidth": 2
          },
          "yaxis": {
           "automargin": true,
           "gridcolor": "white",
           "linecolor": "white",
           "ticks": "",
           "title": {
            "standoff": 15
           },
           "zerolinecolor": "white",
           "zerolinewidth": 2
          }
         }
        },
        "title": {
         "text": "Count for top and bottom 10 municipalities"
        },
        "width": 1600,
        "xaxis": {
         "anchor": "y",
         "domain": [
          0,
          1
         ],
         "title": {
          "text": "year"
         }
        },
        "yaxis": {
         "anchor": "x",
         "domain": [
          0,
          1
         ],
         "title": {
          "text": "value"
         }
        }
       }
      }
     },
     "metadata": {},
     "output_type": "display_data"
    }
   ],
   "source": [
    "plot_time_series(\n",
    "    factor_growth_df.copy(),\n",
    "    \"Count\",\n",
    "    group_by_columns,\n",
    "    granularity_columns,\n",
    "    f\"Count for top and bottom {return_n} municipalities\",\n",
    "    visible=\"legendonly\",\n",
    ")"
   ]
  },
  {
   "cell_type": "code",
   "execution_count": 12,
   "metadata": {},
   "outputs": [],
   "source": [
    "# See if you can make a liquid long short equity strategy using REITs\n",
    "\n",
    "# MVP\n",
    "# Validating"
   ]
  },
  {
   "cell_type": "code",
   "execution_count": null,
   "metadata": {},
   "outputs": [],
   "source": []
  }
 ],
 "metadata": {
  "kernelspec": {
   "display_name": "venv",
   "language": "python",
   "name": "python3"
  },
  "language_info": {
   "codemirror_mode": {
    "name": "ipython",
    "version": 3
   },
   "file_extension": ".py",
   "mimetype": "text/x-python",
   "name": "python",
   "nbconvert_exporter": "python",
   "pygments_lexer": "ipython3",
   "version": "3.12.0"
  }
 },
 "nbformat": 4,
 "nbformat_minor": 2
}
