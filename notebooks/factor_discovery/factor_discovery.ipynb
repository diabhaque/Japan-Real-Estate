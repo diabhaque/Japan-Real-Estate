{
 "cells": [
  {
   "cell_type": "code",
   "execution_count": 1,
   "metadata": {},
   "outputs": [],
   "source": [
    "import warnings\n",
    "\n",
    "import pandas as pd\n",
    "\n",
    "from jre_utils.datapath import factor_data_paths, get_derived_csv_path\n",
    "from jre_utils.config import asset_types, statistics, area_levels, period_cols\n",
    "from jre_utils.visualize import plot_time_series\n",
    "from jre_utils.process import (\n",
    "    get_most_active_municipalities,\n",
    "    get_highest_growth_municipalities,\n",
    "    get_cumulative_growth,\n",
    ")\n",
    "\n",
    "warnings.filterwarnings(\"ignore\")\n",
    "pd.set_option(\"display.max_columns\", None)"
   ]
  },
  {
   "cell_type": "code",
   "execution_count": 15,
   "metadata": {},
   "outputs": [],
   "source": [
    "factor = \"taxable_income\"\n",
    "factor_column = \"taxable_income_growth\""
   ]
  },
  {
   "cell_type": "code",
   "execution_count": 16,
   "metadata": {},
   "outputs": [],
   "source": [
    "period = \"yearly\"\n",
    "area_level = \"municipality\"\n",
    "asset_type = \"building\"\n",
    "statistic = \"median\"\n",
    "\n",
    "granularity_columns = area_levels[area_level][\"columns\"]\n",
    "group_by_columns = granularity_columns + [period_cols[period]]\n",
    "display_columns = list(statistics[statistic].keys())\n",
    "\n",
    "label = asset_types[asset_type][\"label\"]\n",
    "\n",
    "metric = asset_types[asset_type][\"metric\"]\n",
    "metric_pct_chg = asset_types[asset_type][\"metric_pct_chg\"]\n",
    "upcoming_metric = \"Upcoming\" + metric\n",
    "upcoming_metric_pct_chg = \"Upcoming\" + metric_pct_chg"
   ]
  },
  {
   "cell_type": "code",
   "execution_count": 17,
   "metadata": {},
   "outputs": [],
   "source": [
    "core_df_path = get_derived_csv_path(period, area_level, asset_type, statistic)\n",
    "factor_path = factor_data_paths[\"processed\"][factor][area_level]"
   ]
  },
  {
   "cell_type": "code",
   "execution_count": 18,
   "metadata": {},
   "outputs": [],
   "source": [
    "df = pd.read_csv(core_df_path)\n",
    "factor_df = pd.read_csv(factor_path)\n",
    "\n",
    "# time box\n",
    "start_year = 2010\n",
    "end_year = 2021\n",
    "df = df[(df[\"year\"] >= start_year) & (df[\"year\"] <= end_year)]\n",
    "\n",
    "df = df.merge(factor_df, on=group_by_columns)\n",
    "df = df[~df[[\"Prefecture\", \"Municipality\", \"year\"]].duplicated()]\n",
    "\n",
    "# prepare metrics\n",
    "df[metric_pct_chg] = df.groupby(granularity_columns)[metric].pct_change(fill_method=\"ffill\").fillna(0) # fill na with 0 for visualizations\n",
    "\n",
    "# set up target variables\n",
    "df[upcoming_metric] = df.groupby(granularity_columns)[metric].shift(-1)\n",
    "df[upcoming_metric_pct_chg] = df.groupby(granularity_columns)[metric_pct_chg].shift(-1)"
   ]
  },
  {
   "cell_type": "code",
   "execution_count": 23,
   "metadata": {},
   "outputs": [
    {
     "data": {
      "text/html": [
       "<div>\n",
       "<style scoped>\n",
       "    .dataframe tbody tr th:only-of-type {\n",
       "        vertical-align: middle;\n",
       "    }\n",
       "\n",
       "    .dataframe tbody tr th {\n",
       "        vertical-align: top;\n",
       "    }\n",
       "\n",
       "    .dataframe thead th {\n",
       "        text-align: right;\n",
       "    }\n",
       "</style>\n",
       "<table border=\"1\" class=\"dataframe\">\n",
       "  <thead>\n",
       "    <tr style=\"text-align: right;\">\n",
       "      <th></th>\n",
       "      <th>Prefecture</th>\n",
       "      <th>Municipality</th>\n",
       "      <th>year</th>\n",
       "      <th>TradePricePerArea</th>\n",
       "      <th>UnitPrice</th>\n",
       "      <th>Count</th>\n",
       "      <th>taxable_income</th>\n",
       "      <th>taxpayer_count</th>\n",
       "      <th>taxable_income_per_taxpayer</th>\n",
       "      <th>taxable_icnome_growth</th>\n",
       "      <th>taxable_income_per_taxpayer_growth</th>\n",
       "      <th>TradePricePctChg</th>\n",
       "      <th>UpcomingTradePricePerArea</th>\n",
       "      <th>UpcomingTradePricePctChg</th>\n",
       "    </tr>\n",
       "  </thead>\n",
       "  <tbody>\n",
       "    <tr>\n",
       "      <th>0</th>\n",
       "      <td>Fukuoka</td>\n",
       "      <td>Aka</td>\n",
       "      <td>2010</td>\n",
       "      <td>6666.666667</td>\n",
       "      <td>NaN</td>\n",
       "      <td>1</td>\n",
       "      <td>2347778.0</td>\n",
       "      <td>1037.0</td>\n",
       "      <td>2264.009643</td>\n",
       "      <td>-0.076211</td>\n",
       "      <td>-0.050377</td>\n",
       "      <td>0.000000</td>\n",
       "      <td>11818.181818</td>\n",
       "      <td>0.772727</td>\n",
       "    </tr>\n",
       "    <tr>\n",
       "      <th>1</th>\n",
       "      <td>Fukuoka</td>\n",
       "      <td>Aka</td>\n",
       "      <td>2011</td>\n",
       "      <td>11818.181818</td>\n",
       "      <td>NaN</td>\n",
       "      <td>1</td>\n",
       "      <td>2315924.0</td>\n",
       "      <td>1024.0</td>\n",
       "      <td>2261.644531</td>\n",
       "      <td>-0.013568</td>\n",
       "      <td>-0.001045</td>\n",
       "      <td>0.772727</td>\n",
       "      <td>16258.169935</td>\n",
       "      <td>0.375691</td>\n",
       "    </tr>\n",
       "    <tr>\n",
       "      <th>2</th>\n",
       "      <td>Fukuoka</td>\n",
       "      <td>Aka</td>\n",
       "      <td>2013</td>\n",
       "      <td>16258.169935</td>\n",
       "      <td>NaN</td>\n",
       "      <td>2</td>\n",
       "      <td>2297352.0</td>\n",
       "      <td>1019.0</td>\n",
       "      <td>2254.516192</td>\n",
       "      <td>-0.033717</td>\n",
       "      <td>-0.007165</td>\n",
       "      <td>0.375691</td>\n",
       "      <td>10815.047022</td>\n",
       "      <td>-0.334793</td>\n",
       "    </tr>\n",
       "    <tr>\n",
       "      <th>3</th>\n",
       "      <td>Fukuoka</td>\n",
       "      <td>Aka</td>\n",
       "      <td>2017</td>\n",
       "      <td>10815.047022</td>\n",
       "      <td>NaN</td>\n",
       "      <td>2</td>\n",
       "      <td>2383809.0</td>\n",
       "      <td>1013.0</td>\n",
       "      <td>2353.217177</td>\n",
       "      <td>0.023790</td>\n",
       "      <td>0.020758</td>\n",
       "      <td>-0.334793</td>\n",
       "      <td>10941.558442</td>\n",
       "      <td>0.011698</td>\n",
       "    </tr>\n",
       "    <tr>\n",
       "      <th>4</th>\n",
       "      <td>Fukuoka</td>\n",
       "      <td>Aka</td>\n",
       "      <td>2018</td>\n",
       "      <td>10941.558442</td>\n",
       "      <td>NaN</td>\n",
       "      <td>2</td>\n",
       "      <td>2452308.0</td>\n",
       "      <td>1021.0</td>\n",
       "      <td>2401.868756</td>\n",
       "      <td>0.028735</td>\n",
       "      <td>0.020674</td>\n",
       "      <td>0.011698</td>\n",
       "      <td>2439.024390</td>\n",
       "      <td>-0.777086</td>\n",
       "    </tr>\n",
       "    <tr>\n",
       "      <th>...</th>\n",
       "      <td>...</td>\n",
       "      <td>...</td>\n",
       "      <td>...</td>\n",
       "      <td>...</td>\n",
       "      <td>...</td>\n",
       "      <td>...</td>\n",
       "      <td>...</td>\n",
       "      <td>...</td>\n",
       "      <td>...</td>\n",
       "      <td>...</td>\n",
       "      <td>...</td>\n",
       "      <td>...</td>\n",
       "      <td>...</td>\n",
       "      <td>...</td>\n",
       "    </tr>\n",
       "    <tr>\n",
       "      <th>18591</th>\n",
       "      <td>Nara</td>\n",
       "      <td>Yoshino</td>\n",
       "      <td>2017</td>\n",
       "      <td>11864.406780</td>\n",
       "      <td>NaN</td>\n",
       "      <td>7</td>\n",
       "      <td>7471781.0</td>\n",
       "      <td>2721.0</td>\n",
       "      <td>2745.968761</td>\n",
       "      <td>0.017227</td>\n",
       "      <td>0.032181</td>\n",
       "      <td>0.759205</td>\n",
       "      <td>12533.333333</td>\n",
       "      <td>0.056381</td>\n",
       "    </tr>\n",
       "    <tr>\n",
       "      <th>18592</th>\n",
       "      <td>Nara</td>\n",
       "      <td>Yoshino</td>\n",
       "      <td>2018</td>\n",
       "      <td>12533.333333</td>\n",
       "      <td>NaN</td>\n",
       "      <td>4</td>\n",
       "      <td>7895063.0</td>\n",
       "      <td>2635.0</td>\n",
       "      <td>2996.228843</td>\n",
       "      <td>0.056651</td>\n",
       "      <td>0.091137</td>\n",
       "      <td>0.056381</td>\n",
       "      <td>24000.000000</td>\n",
       "      <td>0.914894</td>\n",
       "    </tr>\n",
       "    <tr>\n",
       "      <th>18593</th>\n",
       "      <td>Nara</td>\n",
       "      <td>Yoshino</td>\n",
       "      <td>2019</td>\n",
       "      <td>24000.000000</td>\n",
       "      <td>NaN</td>\n",
       "      <td>3</td>\n",
       "      <td>6754517.0</td>\n",
       "      <td>2548.0</td>\n",
       "      <td>2650.909341</td>\n",
       "      <td>-0.144463</td>\n",
       "      <td>-0.115251</td>\n",
       "      <td>0.914894</td>\n",
       "      <td>7748.804867</td>\n",
       "      <td>-0.677133</td>\n",
       "    </tr>\n",
       "    <tr>\n",
       "      <th>18594</th>\n",
       "      <td>Nara</td>\n",
       "      <td>Yoshino</td>\n",
       "      <td>2020</td>\n",
       "      <td>7748.804867</td>\n",
       "      <td>NaN</td>\n",
       "      <td>4</td>\n",
       "      <td>6846966.0</td>\n",
       "      <td>2490.0</td>\n",
       "      <td>2749.785542</td>\n",
       "      <td>0.013687</td>\n",
       "      <td>0.037299</td>\n",
       "      <td>-0.677133</td>\n",
       "      <td>5515.202703</td>\n",
       "      <td>-0.288251</td>\n",
       "    </tr>\n",
       "    <tr>\n",
       "      <th>18595</th>\n",
       "      <td>Nara</td>\n",
       "      <td>Yoshino</td>\n",
       "      <td>2021</td>\n",
       "      <td>5515.202703</td>\n",
       "      <td>NaN</td>\n",
       "      <td>6</td>\n",
       "      <td>6656901.0</td>\n",
       "      <td>2400.0</td>\n",
       "      <td>2773.708750</td>\n",
       "      <td>-0.027759</td>\n",
       "      <td>0.008700</td>\n",
       "      <td>-0.288251</td>\n",
       "      <td>NaN</td>\n",
       "      <td>NaN</td>\n",
       "    </tr>\n",
       "  </tbody>\n",
       "</table>\n",
       "<p>18596 rows × 14 columns</p>\n",
       "</div>"
      ],
      "text/plain": [
       "      Prefecture Municipality  year  TradePricePerArea  UnitPrice  Count  \\\n",
       "0        Fukuoka          Aka  2010        6666.666667        NaN      1   \n",
       "1        Fukuoka          Aka  2011       11818.181818        NaN      1   \n",
       "2        Fukuoka          Aka  2013       16258.169935        NaN      2   \n",
       "3        Fukuoka          Aka  2017       10815.047022        NaN      2   \n",
       "4        Fukuoka          Aka  2018       10941.558442        NaN      2   \n",
       "...          ...          ...   ...                ...        ...    ...   \n",
       "18591       Nara      Yoshino  2017       11864.406780        NaN      7   \n",
       "18592       Nara      Yoshino  2018       12533.333333        NaN      4   \n",
       "18593       Nara      Yoshino  2019       24000.000000        NaN      3   \n",
       "18594       Nara      Yoshino  2020        7748.804867        NaN      4   \n",
       "18595       Nara      Yoshino  2021        5515.202703        NaN      6   \n",
       "\n",
       "       taxable_income  taxpayer_count  taxable_income_per_taxpayer  \\\n",
       "0           2347778.0          1037.0                  2264.009643   \n",
       "1           2315924.0          1024.0                  2261.644531   \n",
       "2           2297352.0          1019.0                  2254.516192   \n",
       "3           2383809.0          1013.0                  2353.217177   \n",
       "4           2452308.0          1021.0                  2401.868756   \n",
       "...               ...             ...                          ...   \n",
       "18591       7471781.0          2721.0                  2745.968761   \n",
       "18592       7895063.0          2635.0                  2996.228843   \n",
       "18593       6754517.0          2548.0                  2650.909341   \n",
       "18594       6846966.0          2490.0                  2749.785542   \n",
       "18595       6656901.0          2400.0                  2773.708750   \n",
       "\n",
       "       taxable_icnome_growth  taxable_income_per_taxpayer_growth  \\\n",
       "0                  -0.076211                           -0.050377   \n",
       "1                  -0.013568                           -0.001045   \n",
       "2                  -0.033717                           -0.007165   \n",
       "3                   0.023790                            0.020758   \n",
       "4                   0.028735                            0.020674   \n",
       "...                      ...                                 ...   \n",
       "18591               0.017227                            0.032181   \n",
       "18592               0.056651                            0.091137   \n",
       "18593              -0.144463                           -0.115251   \n",
       "18594               0.013687                            0.037299   \n",
       "18595              -0.027759                            0.008700   \n",
       "\n",
       "       TradePricePctChg  UpcomingTradePricePerArea  UpcomingTradePricePctChg  \n",
       "0              0.000000               11818.181818                  0.772727  \n",
       "1              0.772727               16258.169935                  0.375691  \n",
       "2              0.375691               10815.047022                 -0.334793  \n",
       "3             -0.334793               10941.558442                  0.011698  \n",
       "4              0.011698                2439.024390                 -0.777086  \n",
       "...                 ...                        ...                       ...  \n",
       "18591          0.759205               12533.333333                  0.056381  \n",
       "18592          0.056381               24000.000000                  0.914894  \n",
       "18593          0.914894                7748.804867                 -0.677133  \n",
       "18594         -0.677133                5515.202703                 -0.288251  \n",
       "18595         -0.288251                        NaN                       NaN  \n",
       "\n",
       "[18596 rows x 14 columns]"
      ]
     },
     "execution_count": 23,
     "metadata": {},
     "output_type": "execute_result"
    }
   ],
   "source": [
    "df"
   ]
  },
  {
   "cell_type": "code",
   "execution_count": 19,
   "metadata": {},
   "outputs": [
    {
     "ename": "KeyError",
     "evalue": "'taxable_income_growth'",
     "output_type": "error",
     "traceback": [
      "\u001b[0;31m---------------------------------------------------------------------------\u001b[0m",
      "\u001b[0;31mKeyError\u001b[0m                                  Traceback (most recent call last)",
      "File \u001b[0;32m~/Desktop/japan_re/venv/lib/python3.12/site-packages/pandas/core/indexes/base.py:3790\u001b[0m, in \u001b[0;36mIndex.get_loc\u001b[0;34m(self, key)\u001b[0m\n\u001b[1;32m   3789\u001b[0m \u001b[39mtry\u001b[39;00m:\n\u001b[0;32m-> 3790\u001b[0m     \u001b[39mreturn\u001b[39;00m \u001b[39mself\u001b[39;49m\u001b[39m.\u001b[39;49m_engine\u001b[39m.\u001b[39;49mget_loc(casted_key)\n\u001b[1;32m   3791\u001b[0m \u001b[39mexcept\u001b[39;00m \u001b[39mKeyError\u001b[39;00m \u001b[39mas\u001b[39;00m err:\n",
      "File \u001b[0;32mindex.pyx:152\u001b[0m, in \u001b[0;36mpandas._libs.index.IndexEngine.get_loc\u001b[0;34m()\u001b[0m\n",
      "File \u001b[0;32mindex.pyx:181\u001b[0m, in \u001b[0;36mpandas._libs.index.IndexEngine.get_loc\u001b[0;34m()\u001b[0m\n",
      "File \u001b[0;32mpandas/_libs/hashtable_class_helper.pxi:7080\u001b[0m, in \u001b[0;36mpandas._libs.hashtable.PyObjectHashTable.get_item\u001b[0;34m()\u001b[0m\n",
      "File \u001b[0;32mpandas/_libs/hashtable_class_helper.pxi:7088\u001b[0m, in \u001b[0;36mpandas._libs.hashtable.PyObjectHashTable.get_item\u001b[0;34m()\u001b[0m\n",
      "\u001b[0;31mKeyError\u001b[0m: 'taxable_income_growth'",
      "\nThe above exception was the direct cause of the following exception:\n",
      "\u001b[0;31mKeyError\u001b[0m                                  Traceback (most recent call last)",
      "\u001b[1;32m/Users/diab/Desktop/japan_re/notebooks/factor_discovery/factor_discovery.ipynb Cell 6\u001b[0m line \u001b[0;36m2\n\u001b[1;32m      <a href='vscode-notebook-cell:/Users/diab/Desktop/japan_re/notebooks/factor_discovery/factor_discovery.ipynb#W4sZmlsZQ%3D%3D?line=6'>7</a>\u001b[0m frequency_df \u001b[39m=\u001b[39m get_most_active_municipalities(\n\u001b[1;32m      <a href='vscode-notebook-cell:/Users/diab/Desktop/japan_re/notebooks/factor_discovery/factor_discovery.ipynb#W4sZmlsZQ%3D%3D?line=7'>8</a>\u001b[0m     df\u001b[39m.\u001b[39mcopy(), n\u001b[39m=\u001b[39mfrequency_n, keep\u001b[39m=\u001b[39mcomparables\n\u001b[1;32m      <a href='vscode-notebook-cell:/Users/diab/Desktop/japan_re/notebooks/factor_discovery/factor_discovery.ipynb#W4sZmlsZQ%3D%3D?line=8'>9</a>\u001b[0m )\n\u001b[1;32m     <a href='vscode-notebook-cell:/Users/diab/Desktop/japan_re/notebooks/factor_discovery/factor_discovery.ipynb#W4sZmlsZQ%3D%3D?line=10'>11</a>\u001b[0m return_df \u001b[39m=\u001b[39m get_highest_growth_municipalities(\n\u001b[1;32m     <a href='vscode-notebook-cell:/Users/diab/Desktop/japan_re/notebooks/factor_discovery/factor_discovery.ipynb#W4sZmlsZQ%3D%3D?line=11'>12</a>\u001b[0m     frequency_df\u001b[39m.\u001b[39mcopy(),\n\u001b[1;32m     <a href='vscode-notebook-cell:/Users/diab/Desktop/japan_re/notebooks/factor_discovery/factor_discovery.ipynb#W4sZmlsZQ%3D%3D?line=12'>13</a>\u001b[0m     column\u001b[39m=\u001b[39mmetric_pct_chg,\n\u001b[0;32m   (...)\u001b[0m\n\u001b[1;32m     <a href='vscode-notebook-cell:/Users/diab/Desktop/japan_re/notebooks/factor_discovery/factor_discovery.ipynb#W4sZmlsZQ%3D%3D?line=16'>17</a>\u001b[0m     keep\u001b[39m=\u001b[39mcomparables,\n\u001b[1;32m     <a href='vscode-notebook-cell:/Users/diab/Desktop/japan_re/notebooks/factor_discovery/factor_discovery.ipynb#W4sZmlsZQ%3D%3D?line=17'>18</a>\u001b[0m )\n\u001b[0;32m---> <a href='vscode-notebook-cell:/Users/diab/Desktop/japan_re/notebooks/factor_discovery/factor_discovery.ipynb#W4sZmlsZQ%3D%3D?line=19'>20</a>\u001b[0m return_df[\u001b[39m\"\u001b[39m\u001b[39mfactor_growth\u001b[39m\u001b[39m\"\u001b[39m] \u001b[39m=\u001b[39m get_cumulative_growth(return_df, factor_column)\n\u001b[1;32m     <a href='vscode-notebook-cell:/Users/diab/Desktop/japan_re/notebooks/factor_discovery/factor_discovery.ipynb#W4sZmlsZQ%3D%3D?line=21'>22</a>\u001b[0m factor_growth_df \u001b[39m=\u001b[39m get_highest_growth_municipalities(\n\u001b[1;32m     <a href='vscode-notebook-cell:/Users/diab/Desktop/japan_re/notebooks/factor_discovery/factor_discovery.ipynb#W4sZmlsZQ%3D%3D?line=22'>23</a>\u001b[0m     frequency_df\u001b[39m.\u001b[39mcopy(),\n\u001b[1;32m     <a href='vscode-notebook-cell:/Users/diab/Desktop/japan_re/notebooks/factor_discovery/factor_discovery.ipynb#W4sZmlsZQ%3D%3D?line=23'>24</a>\u001b[0m     column\u001b[39m=\u001b[39mfactor_column,\n\u001b[0;32m   (...)\u001b[0m\n\u001b[1;32m     <a href='vscode-notebook-cell:/Users/diab/Desktop/japan_re/notebooks/factor_discovery/factor_discovery.ipynb#W4sZmlsZQ%3D%3D?line=27'>28</a>\u001b[0m     keep\u001b[39m=\u001b[39mcomparables,\n\u001b[1;32m     <a href='vscode-notebook-cell:/Users/diab/Desktop/japan_re/notebooks/factor_discovery/factor_discovery.ipynb#W4sZmlsZQ%3D%3D?line=28'>29</a>\u001b[0m )\n\u001b[1;32m     <a href='vscode-notebook-cell:/Users/diab/Desktop/japan_re/notebooks/factor_discovery/factor_discovery.ipynb#W4sZmlsZQ%3D%3D?line=30'>31</a>\u001b[0m factor_growth_df[\u001b[39m\"\u001b[39m\u001b[39mreturn_growth\u001b[39m\u001b[39m\"\u001b[39m] \u001b[39m=\u001b[39m get_cumulative_growth(\n\u001b[1;32m     <a href='vscode-notebook-cell:/Users/diab/Desktop/japan_re/notebooks/factor_discovery/factor_discovery.ipynb#W4sZmlsZQ%3D%3D?line=31'>32</a>\u001b[0m     factor_growth_df, metric_pct_chg\n\u001b[1;32m     <a href='vscode-notebook-cell:/Users/diab/Desktop/japan_re/notebooks/factor_discovery/factor_discovery.ipynb#W4sZmlsZQ%3D%3D?line=32'>33</a>\u001b[0m )\n",
      "File \u001b[0;32m~/Desktop/japan_re/jre_utils/process.py:23\u001b[0m, in \u001b[0;36mget_cumulative_growth\u001b[0;34m(df, column)\u001b[0m\n\u001b[1;32m     21\u001b[0m \u001b[39mdef\u001b[39;00m \u001b[39mget_cumulative_growth\u001b[39m(df, column):\n\u001b[1;32m     22\u001b[0m     df[\u001b[39m\"\u001b[39m\u001b[39mPrefecture_Municipality\u001b[39m\u001b[39m\"\u001b[39m] \u001b[39m=\u001b[39m df[\u001b[39m\"\u001b[39m\u001b[39mPrefecture\u001b[39m\u001b[39m\"\u001b[39m] \u001b[39m+\u001b[39m \u001b[39m\"\u001b[39m\u001b[39m_\u001b[39m\u001b[39m\"\u001b[39m \u001b[39m+\u001b[39m df[\u001b[39m\"\u001b[39m\u001b[39mMunicipality\u001b[39m\u001b[39m\"\u001b[39m]\n\u001b[0;32m---> 23\u001b[0m     df[\u001b[39m\"\u001b[39m\u001b[39mmultiplier\u001b[39m\u001b[39m\"\u001b[39m] \u001b[39m=\u001b[39m df[column] \u001b[39m+\u001b[39m \u001b[39m1\u001b[39m\n\u001b[1;32m     24\u001b[0m     \u001b[39mreturn\u001b[39;00m df\u001b[39m.\u001b[39mgroupby(\u001b[39m\"\u001b[39m\u001b[39mPrefecture_Municipality\u001b[39m\u001b[39m\"\u001b[39m)[\u001b[39m\"\u001b[39m\u001b[39mmultiplier\u001b[39m\u001b[39m\"\u001b[39m]\u001b[39m.\u001b[39mcumprod()\n",
      "File \u001b[0;32m~/Desktop/japan_re/venv/lib/python3.12/site-packages/pandas/core/frame.py:3893\u001b[0m, in \u001b[0;36mDataFrame.__getitem__\u001b[0;34m(self, key)\u001b[0m\n\u001b[1;32m   3891\u001b[0m \u001b[39mif\u001b[39;00m \u001b[39mself\u001b[39m\u001b[39m.\u001b[39mcolumns\u001b[39m.\u001b[39mnlevels \u001b[39m>\u001b[39m \u001b[39m1\u001b[39m:\n\u001b[1;32m   3892\u001b[0m     \u001b[39mreturn\u001b[39;00m \u001b[39mself\u001b[39m\u001b[39m.\u001b[39m_getitem_multilevel(key)\n\u001b[0;32m-> 3893\u001b[0m indexer \u001b[39m=\u001b[39m \u001b[39mself\u001b[39;49m\u001b[39m.\u001b[39;49mcolumns\u001b[39m.\u001b[39;49mget_loc(key)\n\u001b[1;32m   3894\u001b[0m \u001b[39mif\u001b[39;00m is_integer(indexer):\n\u001b[1;32m   3895\u001b[0m     indexer \u001b[39m=\u001b[39m [indexer]\n",
      "File \u001b[0;32m~/Desktop/japan_re/venv/lib/python3.12/site-packages/pandas/core/indexes/base.py:3797\u001b[0m, in \u001b[0;36mIndex.get_loc\u001b[0;34m(self, key)\u001b[0m\n\u001b[1;32m   3792\u001b[0m     \u001b[39mif\u001b[39;00m \u001b[39misinstance\u001b[39m(casted_key, \u001b[39mslice\u001b[39m) \u001b[39mor\u001b[39;00m (\n\u001b[1;32m   3793\u001b[0m         \u001b[39misinstance\u001b[39m(casted_key, abc\u001b[39m.\u001b[39mIterable)\n\u001b[1;32m   3794\u001b[0m         \u001b[39mand\u001b[39;00m \u001b[39many\u001b[39m(\u001b[39misinstance\u001b[39m(x, \u001b[39mslice\u001b[39m) \u001b[39mfor\u001b[39;00m x \u001b[39min\u001b[39;00m casted_key)\n\u001b[1;32m   3795\u001b[0m     ):\n\u001b[1;32m   3796\u001b[0m         \u001b[39mraise\u001b[39;00m InvalidIndexError(key)\n\u001b[0;32m-> 3797\u001b[0m     \u001b[39mraise\u001b[39;00m \u001b[39mKeyError\u001b[39;00m(key) \u001b[39mfrom\u001b[39;00m \u001b[39merr\u001b[39;00m\n\u001b[1;32m   3798\u001b[0m \u001b[39mexcept\u001b[39;00m \u001b[39mTypeError\u001b[39;00m:\n\u001b[1;32m   3799\u001b[0m     \u001b[39m# If we have a listlike key, _check_indexing_error will raise\u001b[39;00m\n\u001b[1;32m   3800\u001b[0m     \u001b[39m#  InvalidIndexError. Otherwise we fall through and re-raise\u001b[39;00m\n\u001b[1;32m   3801\u001b[0m     \u001b[39m#  the TypeError.\u001b[39;00m\n\u001b[1;32m   3802\u001b[0m     \u001b[39mself\u001b[39m\u001b[39m.\u001b[39m_check_indexing_error(key)\n",
      "\u001b[0;31mKeyError\u001b[0m: 'taxable_income_growth'"
     ]
    }
   ],
   "source": [
    "comparables = [\"Tokyo_Minato\", \"Tokyo_Chuo\"]\n",
    "\n",
    "frequency_n = 500\n",
    "return_n = 10\n",
    "factor_n = 10\n",
    "\n",
    "frequency_df = get_most_active_municipalities(\n",
    "    df.copy(), n=frequency_n, keep=comparables\n",
    ")\n",
    "\n",
    "return_df = get_highest_growth_municipalities(\n",
    "    frequency_df.copy(),\n",
    "    column=metric_pct_chg,\n",
    "    cumulative_column=\"return_growth\",\n",
    "    end_year=2021,\n",
    "    n=return_n,\n",
    "    keep=comparables,\n",
    ")\n",
    "\n",
    "return_df[\"factor_growth\"] = get_cumulative_growth(return_df, factor_column)\n",
    "\n",
    "factor_growth_df = get_highest_growth_municipalities(\n",
    "    frequency_df.copy(),\n",
    "    column=factor_column,\n",
    "    cumulative_column=\"factor_growth\",\n",
    "    end_year=2021,\n",
    "    n=factor_n,\n",
    "    keep=comparables,\n",
    ")\n",
    "\n",
    "factor_growth_df[\"return_growth\"] = get_cumulative_growth(\n",
    "    factor_growth_df, metric_pct_chg\n",
    ")\n",
    "\n",
    "tokyo_df = frequency_df[frequency_df[\"Prefecture\"] == \"Tokyo\"]"
   ]
  },
  {
   "cell_type": "code",
   "execution_count": 20,
   "metadata": {},
   "outputs": [
    {
     "data": {
      "application/vnd.plotly.v1+json": {
       "config": {
        "plotlyServerURL": "https://plot.ly"
       },
       "data": [
        {
         "hovertemplate": "variable=('Fukuoka', 'Fukutsu')<br>year=%{x}<br>value=%{y}<extra></extra>",
         "legendgroup": "('Fukuoka', 'Fukutsu')",
         "line": {
          "color": "#636efa",
          "dash": "solid"
         },
         "marker": {
          "symbol": "circle"
         },
         "mode": "lines+markers",
         "name": "('Fukuoka', 'Fukutsu')",
         "orientation": "v",
         "showlegend": true,
         "type": "scatter",
         "x": [
          2010,
          2011,
          2012,
          2013,
          2014,
          2015,
          2016,
          2017,
          2018,
          2019,
          2020,
          2021
         ],
         "xaxis": "x",
         "y": [
          1,
          1.046996576408341,
          1.2244180939833111,
          2.0035650623885912,
          2.4781144781144775,
          2.0481310803891444,
          1.7119341563786,
          2.1515151515151505,
          2.6666666666666656,
          2.461538461538461,
          2.0056980056980054,
          2.236874236874236
         ],
         "yaxis": "y"
        },
        {
         "hovertemplate": "variable=('Fukuoka', 'Shingu')<br>year=%{x}<br>value=%{y}<extra></extra>",
         "legendgroup": "('Fukuoka', 'Shingu')",
         "line": {
          "color": "#EF553B",
          "dash": "solid"
         },
         "marker": {
          "symbol": "circle"
         },
         "mode": "lines+markers",
         "name": "('Fukuoka', 'Shingu')",
         "orientation": "v",
         "showlegend": true,
         "type": "scatter",
         "x": [
          2010,
          2011,
          2012,
          2013,
          2014,
          2015,
          2016,
          2017,
          2018,
          2019,
          2020,
          2021
         ],
         "xaxis": "x",
         "y": [
          1,
          1.0588235294117647,
          1,
          0.9625668449197862,
          1.1484593837535013,
          0.9747899159663864,
          0.8823529411764705,
          0.6641887524240465,
          0.6393861892583119,
          0.6546096699549385,
          0.820233265720081,
          0.7446524064171121
         ],
         "yaxis": "y"
        },
        {
         "hovertemplate": "variable=('Tokyo', 'Chiyoda')<br>year=%{x}<br>value=%{y}<extra></extra>",
         "legendgroup": "('Tokyo', 'Chiyoda')",
         "line": {
          "color": "#00cc96",
          "dash": "solid"
         },
         "marker": {
          "symbol": "circle"
         },
         "mode": "lines+markers",
         "name": "('Tokyo', 'Chiyoda')",
         "orientation": "v",
         "showlegend": true,
         "type": "scatter",
         "x": [
          2010,
          2011,
          2012,
          2013,
          2014,
          2015,
          2016,
          2017,
          2018,
          2019,
          2020,
          2021
         ],
         "xaxis": "x",
         "y": [
          1,
          0.7419245509294261,
          0.7147691425293949,
          1.037986653128609,
          0.9781402351591626,
          1.0196950650213146,
          1.33733458970052,
          1.7758937061610152,
          1.4695813220332867,
          1.486031232890998,
          1.6802408947519358,
          1.6057895427568742
         ],
         "yaxis": "y"
        },
        {
         "hovertemplate": "variable=('Tokyo', 'Chuo')<br>year=%{x}<br>value=%{y}<extra></extra>",
         "legendgroup": "('Tokyo', 'Chuo')",
         "line": {
          "color": "#ab63fa",
          "dash": "solid"
         },
         "marker": {
          "symbol": "circle"
         },
         "mode": "lines+markers",
         "name": "('Tokyo', 'Chuo')",
         "orientation": "v",
         "showlegend": true,
         "type": "scatter",
         "x": [
          2010,
          2011,
          2012,
          2013,
          2014,
          2015,
          2016,
          2017,
          2018,
          2019,
          2020,
          2021
         ],
         "xaxis": "x",
         "y": [
          1,
          0.8702040816326531,
          0.9230785931393833,
          0.9826702398130971,
          1.0936318340045048,
          1.3096716947648626,
          1.6537815126050421,
          1.860874009711219,
          1.7855835930431285,
          2.0081632653061225,
          1.9858503401360543,
          1.7429723502304149
         ],
         "yaxis": "y"
        },
        {
         "hovertemplate": "variable=('Tokyo', 'Minato')<br>year=%{x}<br>value=%{y}<extra></extra>",
         "legendgroup": "('Tokyo', 'Minato')",
         "line": {
          "color": "#FFA15A",
          "dash": "solid"
         },
         "marker": {
          "symbol": "circle"
         },
         "mode": "lines+markers",
         "name": "('Tokyo', 'Minato')",
         "orientation": "v",
         "showlegend": true,
         "type": "scatter",
         "x": [
          2010,
          2011,
          2012,
          2013,
          2014,
          2015,
          2016,
          2017,
          2018,
          2019,
          2020,
          2021
         ],
         "xaxis": "x",
         "y": [
          1,
          1.0524664732177866,
          1.0090338386158322,
          1.105305466237942,
          1.1642088923383969,
          1.35048231511254,
          1.5064373771430803,
          1.7937528709232886,
          2.0080904470490615,
          1.6977491961414792,
          1.7684887459807077,
          2.145444413485651
         ],
         "yaxis": "y"
        },
        {
         "hovertemplate": "variable=('Tokyo', 'Taito')<br>year=%{x}<br>value=%{y}<extra></extra>",
         "legendgroup": "('Tokyo', 'Taito')",
         "line": {
          "color": "#19d3f3",
          "dash": "solid"
         },
         "marker": {
          "symbol": "circle"
         },
         "mode": "lines+markers",
         "name": "('Tokyo', 'Taito')",
         "orientation": "v",
         "showlegend": true,
         "type": "scatter",
         "x": [
          2010,
          2011,
          2012,
          2013,
          2014,
          2015,
          2016,
          2017,
          2018,
          2019,
          2020,
          2021
         ],
         "xaxis": "x",
         "y": [
          1,
          1.123456790123457,
          1.054882154882155,
          1.0317460317460319,
          1.1349206349206349,
          1.2679012345679013,
          1.271111111111111,
          1.5913793103448275,
          1.672514619883041,
          1.8055555555555556,
          1.7333333333333334,
          1.6033333333333335
         ],
         "yaxis": "y"
        },
        {
         "hovertemplate": "variable=('Shizuoka', 'Susono')<br>year=%{x}<br>value=%{y}<extra></extra>",
         "legendgroup": "('Shizuoka', 'Susono')",
         "line": {
          "color": "#FF6692",
          "dash": "solid"
         },
         "marker": {
          "symbol": "circle"
         },
         "mode": "lines+markers",
         "name": "('Shizuoka', 'Susono')",
         "orientation": "v",
         "showlegend": true,
         "type": "scatter",
         "x": [
          2010,
          2011,
          2012,
          2013,
          2014,
          2015,
          2016,
          2017,
          2018,
          2019,
          2020,
          2021
         ],
         "xaxis": "x",
         "y": [
          1,
          1.4895833333333333,
          1.0784313725490198,
          1.3541271347248578,
          1.1666666666666667,
          1.3883333333333336,
          1.1,
          1.2792427315753887,
          1.3095238095238098,
          0.9166666666666667,
          1.1916666666666669,
          0.9469449485783425
         ],
         "yaxis": "y"
        },
        {
         "hovertemplate": "variable=('Ibaraki', 'Tsukubamirai')<br>year=%{x}<br>value=%{y}<extra></extra>",
         "legendgroup": "('Ibaraki', 'Tsukubamirai')",
         "line": {
          "color": "#B6E880",
          "dash": "solid"
         },
         "marker": {
          "symbol": "circle"
         },
         "mode": "lines+markers",
         "name": "('Ibaraki', 'Tsukubamirai')",
         "orientation": "v",
         "showlegend": true,
         "type": "scatter",
         "x": [
          2010,
          2011,
          2012,
          2013,
          2014,
          2015,
          2016,
          2017,
          2018,
          2019,
          2020,
          2021
         ],
         "xaxis": "x",
         "y": [
          1,
          2.017026850032744,
          0.9743265292531054,
          2.1721827615737244,
          3.902692707731423,
          4.084479371316307,
          4.231206700444628,
          3.253656406898057,
          2.2897838899803533,
          2.3837590045841517,
          3.8788977885245073,
          4.538310412573673
         ],
         "yaxis": "y"
        },
        {
         "hovertemplate": "variable=('Nagano', 'Karuizawa')<br>year=%{x}<br>value=%{y}<extra></extra>",
         "legendgroup": "('Nagano', 'Karuizawa')",
         "line": {
          "color": "#FF97FF",
          "dash": "solid"
         },
         "marker": {
          "symbol": "circle"
         },
         "mode": "lines+markers",
         "name": "('Nagano', 'Karuizawa')",
         "orientation": "v",
         "showlegend": true,
         "type": "scatter",
         "x": [
          2010,
          2011,
          2012,
          2013,
          2014,
          2015,
          2016,
          2017,
          2018,
          2019,
          2020,
          2021
         ],
         "xaxis": "x",
         "y": [
          1,
          1.1374032574794963,
          0.8684349851757731,
          1.0795621151402603,
          1.2541296060991107,
          0.9953409572215165,
          1.1645489199491743,
          1.085826498787109,
          1.118560974118191,
          1.0619932534640288,
          1.3866343710292253,
          1.4034307496823384
         ],
         "yaxis": "y"
        },
        {
         "hovertemplate": "variable=('Aomori', 'Mutsu')<br>year=%{x}<br>value=%{y}<extra></extra>",
         "legendgroup": "('Aomori', 'Mutsu')",
         "line": {
          "color": "#FECB52",
          "dash": "solid"
         },
         "marker": {
          "symbol": "circle"
         },
         "mode": "lines+markers",
         "name": "('Aomori', 'Mutsu')",
         "orientation": "v",
         "showlegend": true,
         "type": "scatter",
         "x": [
          2010,
          2011,
          2012,
          2013,
          2014,
          2015,
          2016,
          2017,
          2018,
          2019,
          2020,
          2021
         ],
         "xaxis": "x",
         "y": [
          1,
          1.0433333333333334,
          1.1738656987295828,
          1.206060606060606,
          1.090909090909091,
          1.4000000000000001,
          1.054633204633205,
          1.3411764705882356,
          1.4383640552995398,
          1.0263157894736845,
          1.195588235294118,
          0.7384615384615387
         ],
         "yaxis": "y"
        },
        {
         "hovertemplate": "variable=('Kyoto', 'Maizuru')<br>year=%{x}<br>value=%{y}<extra></extra>",
         "legendgroup": "('Kyoto', 'Maizuru')",
         "line": {
          "color": "#636efa",
          "dash": "solid"
         },
         "marker": {
          "symbol": "circle"
         },
         "mode": "lines+markers",
         "name": "('Kyoto', 'Maizuru')",
         "orientation": "v",
         "showlegend": true,
         "type": "scatter",
         "x": [
          2010,
          2011,
          2012,
          2013,
          2014,
          2015,
          2016,
          2017,
          2018,
          2019,
          2020,
          2021
         ],
         "xaxis": "x",
         "y": [
          1,
          0.5309218203033839,
          0.681009334889148,
          0.6863412420588615,
          0.6404476503659698,
          0.6831441603903678,
          0.5640274661161473,
          0.43403210879974236,
          0.4847824230867745,
          0.791009027820426,
          0.4025670945157525,
          0.4867402142781371
         ],
         "yaxis": "y"
        },
        {
         "hovertemplate": "variable=('Mie', 'Shima')<br>year=%{x}<br>value=%{y}<extra></extra>",
         "legendgroup": "('Mie', 'Shima')",
         "line": {
          "color": "#EF553B",
          "dash": "solid"
         },
         "marker": {
          "symbol": "circle"
         },
         "mode": "lines+markers",
         "name": "('Mie', 'Shima')",
         "orientation": "v",
         "showlegend": true,
         "type": "scatter",
         "x": [
          2010,
          2011,
          2012,
          2013,
          2014,
          2015,
          2016,
          2017,
          2018,
          2019,
          2020,
          2021
         ],
         "xaxis": "x",
         "y": [
          1,
          1.4979772683490657,
          1.187758076269128,
          0.8945645834612315,
          0.9760105159382187,
          1.238961975130654,
          0.840244950580146,
          0.9172911840850251,
          0.7554162692464912,
          0.9125698324022347,
          0.619441340782123,
          0.48216587881392364
         ],
         "yaxis": "y"
        },
        {
         "hovertemplate": "variable=('Ehime', 'Uwajima')<br>year=%{x}<br>value=%{y}<extra></extra>",
         "legendgroup": "('Ehime', 'Uwajima')",
         "line": {
          "color": "#00cc96",
          "dash": "solid"
         },
         "marker": {
          "symbol": "circle"
         },
         "mode": "lines+markers",
         "name": "('Ehime', 'Uwajima')",
         "orientation": "v",
         "showlegend": true,
         "type": "scatter",
         "x": [
          2010,
          2011,
          2012,
          2013,
          2014,
          2015,
          2016,
          2017,
          2018,
          2019,
          2020,
          2021
         ],
         "xaxis": "x",
         "y": [
          1,
          0.9610215053763441,
          1.1357526881720428,
          0.9632056451612904,
          1.153225806451613,
          1.2133683891192235,
          0.7765830346475509,
          0.938030560271647,
          0.7624633431085044,
          0.673963133640553,
          0.6537001897533208,
          0.6451612903225807
         ],
         "yaxis": "y"
        },
        {
         "hovertemplate": "variable=('Aichi', 'Nagakute')<br>year=%{x}<br>value=%{y}<extra></extra>",
         "legendgroup": "('Aichi', 'Nagakute')",
         "line": {
          "color": "#ab63fa",
          "dash": "solid"
         },
         "marker": {
          "symbol": "circle"
         },
         "mode": "lines+markers",
         "name": "('Aichi', 'Nagakute')",
         "orientation": "v",
         "showlegend": true,
         "type": "scatter",
         "x": [
          2010,
          2011,
          2012,
          2013,
          2014,
          2015,
          2016,
          2017,
          2018,
          2019,
          2020,
          2021
         ],
         "xaxis": "x",
         "y": [
          1,
          1.0601851851851851,
          0.8333333333333334,
          0.9583333333333333,
          1.081615890083632,
          0.9722222222222221,
          1.10702614379085,
          1.0658914728682172,
          1.1666666666666667,
          1.2291666666666667,
          1.1020833333333333,
          1.150793650793651
         ],
         "yaxis": "y"
        },
        {
         "hovertemplate": "variable=('Chiba', 'Choshi')<br>year=%{x}<br>value=%{y}<extra></extra>",
         "legendgroup": "('Chiba', 'Choshi')",
         "line": {
          "color": "#FFA15A",
          "dash": "solid"
         },
         "marker": {
          "symbol": "circle"
         },
         "mode": "lines+markers",
         "name": "('Chiba', 'Choshi')",
         "orientation": "v",
         "showlegend": true,
         "type": "scatter",
         "x": [
          2010,
          2011,
          2012,
          2013,
          2014,
          2015,
          2016,
          2017,
          2018,
          2019,
          2020,
          2021
         ],
         "xaxis": "x",
         "y": [
          1,
          1.0456663560111836,
          0.8204459101010827,
          1.1106244175209692,
          0.7851942669285101,
          0.9722207429103981,
          0.9055068463689154,
          1.0480428704566636,
          0.8073159366262814,
          0.668288049322532,
          0.6668133916409779,
          0.7099524206602246
         ],
         "yaxis": "y"
        },
        {
         "hovertemplate": "variable=('Chiba', 'Inzai')<br>year=%{x}<br>value=%{y}<extra></extra>",
         "legendgroup": "('Chiba', 'Inzai')",
         "line": {
          "color": "#19d3f3",
          "dash": "solid"
         },
         "marker": {
          "symbol": "circle"
         },
         "mode": "lines+markers",
         "name": "('Chiba', 'Inzai')",
         "orientation": "v",
         "showlegend": true,
         "type": "scatter",
         "x": [
          2010,
          2011,
          2012,
          2013,
          2014,
          2015,
          2016,
          2017,
          2018,
          2019,
          2020,
          2021
         ],
         "xaxis": "x",
         "y": [
          1,
          1.1198875343406594,
          1.0504807692307692,
          0.8754006410256409,
          0.8703983516483516,
          0.938664889032536,
          0.8846153846153847,
          0.9339752427413273,
          1.0504807692307692,
          0.9979567307692306,
          1.050480769230769,
          1.209644522144522
         ],
         "yaxis": "y"
        },
        {
         "hovertemplate": "variable=('Chiba', 'Nagareyama')<br>year=%{x}<br>value=%{y}<extra></extra>",
         "legendgroup": "('Chiba', 'Nagareyama')",
         "line": {
          "color": "#FF6692",
          "dash": "solid"
         },
         "marker": {
          "symbol": "circle"
         },
         "mode": "lines+markers",
         "name": "('Chiba', 'Nagareyama')",
         "orientation": "v",
         "showlegend": true,
         "type": "scatter",
         "x": [
          2010,
          2011,
          2012,
          2013,
          2014,
          2015,
          2016,
          2017,
          2018,
          2019,
          2020,
          2021
         ],
         "xaxis": "x",
         "y": [
          1,
          1.040950040950041,
          0.9393939393939394,
          0.8767676767676766,
          0.8710517877184545,
          0.9117647058823529,
          1.08993783993784,
          0.9080808080808079,
          1.017229437229437,
          1.3069828722002634,
          1.2709447415329767,
          1.327721661054994
         ],
         "yaxis": "y"
        },
        {
         "hovertemplate": "variable=('Hokkaido', 'Muroran')<br>year=%{x}<br>value=%{y}<extra></extra>",
         "legendgroup": "('Hokkaido', 'Muroran')",
         "line": {
          "color": "#B6E880",
          "dash": "solid"
         },
         "marker": {
          "symbol": "circle"
         },
         "mode": "lines+markers",
         "name": "('Hokkaido', 'Muroran')",
         "orientation": "v",
         "showlegend": true,
         "type": "scatter",
         "x": [
          2010,
          2011,
          2012,
          2013,
          2014,
          2015,
          2016,
          2017,
          2018,
          2019,
          2020,
          2021
         ],
         "xaxis": "x",
         "y": [
          1,
          0.8403846153846152,
          0.9258530942741469,
          0.8179820179820179,
          0.7885714285714285,
          0.6987489433643279,
          0.7660408163265303,
          0.9389499389499388,
          0.8115484515484515,
          0.9857142857142857,
          0.8593406593406592,
          0.6899592343140729
         ],
         "yaxis": "y"
        },
        {
         "hovertemplate": "variable=('Hokkaido', 'Shiraoi')<br>year=%{x}<br>value=%{y}<extra></extra>",
         "legendgroup": "('Hokkaido', 'Shiraoi')",
         "line": {
          "color": "#FF97FF",
          "dash": "solid"
         },
         "marker": {
          "symbol": "circle"
         },
         "mode": "lines+markers",
         "name": "('Hokkaido', 'Shiraoi')",
         "orientation": "v",
         "showlegend": true,
         "type": "scatter",
         "x": [
          2010,
          2011,
          2012,
          2013,
          2014,
          2015,
          2016,
          2017,
          2018,
          2019,
          2020,
          2021
         ],
         "xaxis": "x",
         "y": [
          1,
          0.795,
          0.6309523809523809,
          0.6726734505087884,
          0.6162790697674417,
          0.5692592592592592,
          0.6615185185185185,
          0.5838983050847457,
          0.5299999999999999,
          0.7066666666666667,
          0.9275,
          0.8451835748792271
         ],
         "yaxis": "y"
        },
        {
         "hovertemplate": "variable=('Hokkaido', 'Wakkanai')<br>year=%{x}<br>value=%{y}<extra></extra>",
         "legendgroup": "('Hokkaido', 'Wakkanai')",
         "line": {
          "color": "#FECB52",
          "dash": "solid"
         },
         "marker": {
          "symbol": "circle"
         },
         "mode": "lines+markers",
         "name": "('Hokkaido', 'Wakkanai')",
         "orientation": "v",
         "showlegend": true,
         "type": "scatter",
         "x": [
          2010,
          2011,
          2012,
          2013,
          2014,
          2015,
          2016,
          2017,
          2018,
          2019,
          2020,
          2021
         ],
         "xaxis": "x",
         "y": [
          1,
          0.798215082552432,
          0.7771084337349398,
          0.6956970740103271,
          0.8768373493975904,
          0.8869397590361446,
          0.7856437243225777,
          0.6772397710977391,
          0.48981380065717417,
          0.5997079225994889,
          0.6873092369477913,
          0.5617142482975381
         ],
         "yaxis": "y"
        },
        {
         "hovertemplate": "variable=('Fukushima', 'Minamisoma')<br>year=%{x}<br>value=%{y}<extra></extra>",
         "legendgroup": "('Fukushima', 'Minamisoma')",
         "line": {
          "color": "#636efa",
          "dash": "solid"
         },
         "marker": {
          "symbol": "circle"
         },
         "mode": "lines+markers",
         "name": "('Fukushima', 'Minamisoma')",
         "orientation": "v",
         "showlegend": true,
         "type": "scatter",
         "x": [
          2010,
          2011,
          2012,
          2013,
          2014,
          2015,
          2016,
          2017,
          2018,
          2019,
          2020,
          2021
         ],
         "xaxis": "x",
         "y": [
          1,
          1.7579072532699167,
          2.42151724137931,
          3.247045544330944,
          3.6017991004497745,
          3.3191964017991,
          2.5816445623342177,
          2.803862068965517,
          2.703448275862068,
          4.121434993184653,
          1.9528364849833146,
          1.593103448275862
         ],
         "yaxis": "y"
        }
       ],
       "layout": {
        "autosize": false,
        "height": 800,
        "hovermode": "closest",
        "legend": {
         "title": {
          "text": "variable"
         },
         "tracegroupgap": 0
        },
        "template": {
         "data": {
          "bar": [
           {
            "error_x": {
             "color": "#2a3f5f"
            },
            "error_y": {
             "color": "#2a3f5f"
            },
            "marker": {
             "line": {
              "color": "#E5ECF6",
              "width": 0.5
             },
             "pattern": {
              "fillmode": "overlay",
              "size": 10,
              "solidity": 0.2
             }
            },
            "type": "bar"
           }
          ],
          "barpolar": [
           {
            "marker": {
             "line": {
              "color": "#E5ECF6",
              "width": 0.5
             },
             "pattern": {
              "fillmode": "overlay",
              "size": 10,
              "solidity": 0.2
             }
            },
            "type": "barpolar"
           }
          ],
          "carpet": [
           {
            "aaxis": {
             "endlinecolor": "#2a3f5f",
             "gridcolor": "white",
             "linecolor": "white",
             "minorgridcolor": "white",
             "startlinecolor": "#2a3f5f"
            },
            "baxis": {
             "endlinecolor": "#2a3f5f",
             "gridcolor": "white",
             "linecolor": "white",
             "minorgridcolor": "white",
             "startlinecolor": "#2a3f5f"
            },
            "type": "carpet"
           }
          ],
          "choropleth": [
           {
            "colorbar": {
             "outlinewidth": 0,
             "ticks": ""
            },
            "type": "choropleth"
           }
          ],
          "contour": [
           {
            "colorbar": {
             "outlinewidth": 0,
             "ticks": ""
            },
            "colorscale": [
             [
              0,
              "#0d0887"
             ],
             [
              0.1111111111111111,
              "#46039f"
             ],
             [
              0.2222222222222222,
              "#7201a8"
             ],
             [
              0.3333333333333333,
              "#9c179e"
             ],
             [
              0.4444444444444444,
              "#bd3786"
             ],
             [
              0.5555555555555556,
              "#d8576b"
             ],
             [
              0.6666666666666666,
              "#ed7953"
             ],
             [
              0.7777777777777778,
              "#fb9f3a"
             ],
             [
              0.8888888888888888,
              "#fdca26"
             ],
             [
              1,
              "#f0f921"
             ]
            ],
            "type": "contour"
           }
          ],
          "contourcarpet": [
           {
            "colorbar": {
             "outlinewidth": 0,
             "ticks": ""
            },
            "type": "contourcarpet"
           }
          ],
          "heatmap": [
           {
            "colorbar": {
             "outlinewidth": 0,
             "ticks": ""
            },
            "colorscale": [
             [
              0,
              "#0d0887"
             ],
             [
              0.1111111111111111,
              "#46039f"
             ],
             [
              0.2222222222222222,
              "#7201a8"
             ],
             [
              0.3333333333333333,
              "#9c179e"
             ],
             [
              0.4444444444444444,
              "#bd3786"
             ],
             [
              0.5555555555555556,
              "#d8576b"
             ],
             [
              0.6666666666666666,
              "#ed7953"
             ],
             [
              0.7777777777777778,
              "#fb9f3a"
             ],
             [
              0.8888888888888888,
              "#fdca26"
             ],
             [
              1,
              "#f0f921"
             ]
            ],
            "type": "heatmap"
           }
          ],
          "heatmapgl": [
           {
            "colorbar": {
             "outlinewidth": 0,
             "ticks": ""
            },
            "colorscale": [
             [
              0,
              "#0d0887"
             ],
             [
              0.1111111111111111,
              "#46039f"
             ],
             [
              0.2222222222222222,
              "#7201a8"
             ],
             [
              0.3333333333333333,
              "#9c179e"
             ],
             [
              0.4444444444444444,
              "#bd3786"
             ],
             [
              0.5555555555555556,
              "#d8576b"
             ],
             [
              0.6666666666666666,
              "#ed7953"
             ],
             [
              0.7777777777777778,
              "#fb9f3a"
             ],
             [
              0.8888888888888888,
              "#fdca26"
             ],
             [
              1,
              "#f0f921"
             ]
            ],
            "type": "heatmapgl"
           }
          ],
          "histogram": [
           {
            "marker": {
             "pattern": {
              "fillmode": "overlay",
              "size": 10,
              "solidity": 0.2
             }
            },
            "type": "histogram"
           }
          ],
          "histogram2d": [
           {
            "colorbar": {
             "outlinewidth": 0,
             "ticks": ""
            },
            "colorscale": [
             [
              0,
              "#0d0887"
             ],
             [
              0.1111111111111111,
              "#46039f"
             ],
             [
              0.2222222222222222,
              "#7201a8"
             ],
             [
              0.3333333333333333,
              "#9c179e"
             ],
             [
              0.4444444444444444,
              "#bd3786"
             ],
             [
              0.5555555555555556,
              "#d8576b"
             ],
             [
              0.6666666666666666,
              "#ed7953"
             ],
             [
              0.7777777777777778,
              "#fb9f3a"
             ],
             [
              0.8888888888888888,
              "#fdca26"
             ],
             [
              1,
              "#f0f921"
             ]
            ],
            "type": "histogram2d"
           }
          ],
          "histogram2dcontour": [
           {
            "colorbar": {
             "outlinewidth": 0,
             "ticks": ""
            },
            "colorscale": [
             [
              0,
              "#0d0887"
             ],
             [
              0.1111111111111111,
              "#46039f"
             ],
             [
              0.2222222222222222,
              "#7201a8"
             ],
             [
              0.3333333333333333,
              "#9c179e"
             ],
             [
              0.4444444444444444,
              "#bd3786"
             ],
             [
              0.5555555555555556,
              "#d8576b"
             ],
             [
              0.6666666666666666,
              "#ed7953"
             ],
             [
              0.7777777777777778,
              "#fb9f3a"
             ],
             [
              0.8888888888888888,
              "#fdca26"
             ],
             [
              1,
              "#f0f921"
             ]
            ],
            "type": "histogram2dcontour"
           }
          ],
          "mesh3d": [
           {
            "colorbar": {
             "outlinewidth": 0,
             "ticks": ""
            },
            "type": "mesh3d"
           }
          ],
          "parcoords": [
           {
            "line": {
             "colorbar": {
              "outlinewidth": 0,
              "ticks": ""
             }
            },
            "type": "parcoords"
           }
          ],
          "pie": [
           {
            "automargin": true,
            "type": "pie"
           }
          ],
          "scatter": [
           {
            "fillpattern": {
             "fillmode": "overlay",
             "size": 10,
             "solidity": 0.2
            },
            "type": "scatter"
           }
          ],
          "scatter3d": [
           {
            "line": {
             "colorbar": {
              "outlinewidth": 0,
              "ticks": ""
             }
            },
            "marker": {
             "colorbar": {
              "outlinewidth": 0,
              "ticks": ""
             }
            },
            "type": "scatter3d"
           }
          ],
          "scattercarpet": [
           {
            "marker": {
             "colorbar": {
              "outlinewidth": 0,
              "ticks": ""
             }
            },
            "type": "scattercarpet"
           }
          ],
          "scattergeo": [
           {
            "marker": {
             "colorbar": {
              "outlinewidth": 0,
              "ticks": ""
             }
            },
            "type": "scattergeo"
           }
          ],
          "scattergl": [
           {
            "marker": {
             "colorbar": {
              "outlinewidth": 0,
              "ticks": ""
             }
            },
            "type": "scattergl"
           }
          ],
          "scattermapbox": [
           {
            "marker": {
             "colorbar": {
              "outlinewidth": 0,
              "ticks": ""
             }
            },
            "type": "scattermapbox"
           }
          ],
          "scatterpolar": [
           {
            "marker": {
             "colorbar": {
              "outlinewidth": 0,
              "ticks": ""
             }
            },
            "type": "scatterpolar"
           }
          ],
          "scatterpolargl": [
           {
            "marker": {
             "colorbar": {
              "outlinewidth": 0,
              "ticks": ""
             }
            },
            "type": "scatterpolargl"
           }
          ],
          "scatterternary": [
           {
            "marker": {
             "colorbar": {
              "outlinewidth": 0,
              "ticks": ""
             }
            },
            "type": "scatterternary"
           }
          ],
          "surface": [
           {
            "colorbar": {
             "outlinewidth": 0,
             "ticks": ""
            },
            "colorscale": [
             [
              0,
              "#0d0887"
             ],
             [
              0.1111111111111111,
              "#46039f"
             ],
             [
              0.2222222222222222,
              "#7201a8"
             ],
             [
              0.3333333333333333,
              "#9c179e"
             ],
             [
              0.4444444444444444,
              "#bd3786"
             ],
             [
              0.5555555555555556,
              "#d8576b"
             ],
             [
              0.6666666666666666,
              "#ed7953"
             ],
             [
              0.7777777777777778,
              "#fb9f3a"
             ],
             [
              0.8888888888888888,
              "#fdca26"
             ],
             [
              1,
              "#f0f921"
             ]
            ],
            "type": "surface"
           }
          ],
          "table": [
           {
            "cells": {
             "fill": {
              "color": "#EBF0F8"
             },
             "line": {
              "color": "white"
             }
            },
            "header": {
             "fill": {
              "color": "#C8D4E3"
             },
             "line": {
              "color": "white"
             }
            },
            "type": "table"
           }
          ]
         },
         "layout": {
          "annotationdefaults": {
           "arrowcolor": "#2a3f5f",
           "arrowhead": 0,
           "arrowwidth": 1
          },
          "autotypenumbers": "strict",
          "coloraxis": {
           "colorbar": {
            "outlinewidth": 0,
            "ticks": ""
           }
          },
          "colorscale": {
           "diverging": [
            [
             0,
             "#8e0152"
            ],
            [
             0.1,
             "#c51b7d"
            ],
            [
             0.2,
             "#de77ae"
            ],
            [
             0.3,
             "#f1b6da"
            ],
            [
             0.4,
             "#fde0ef"
            ],
            [
             0.5,
             "#f7f7f7"
            ],
            [
             0.6,
             "#e6f5d0"
            ],
            [
             0.7,
             "#b8e186"
            ],
            [
             0.8,
             "#7fbc41"
            ],
            [
             0.9,
             "#4d9221"
            ],
            [
             1,
             "#276419"
            ]
           ],
           "sequential": [
            [
             0,
             "#0d0887"
            ],
            [
             0.1111111111111111,
             "#46039f"
            ],
            [
             0.2222222222222222,
             "#7201a8"
            ],
            [
             0.3333333333333333,
             "#9c179e"
            ],
            [
             0.4444444444444444,
             "#bd3786"
            ],
            [
             0.5555555555555556,
             "#d8576b"
            ],
            [
             0.6666666666666666,
             "#ed7953"
            ],
            [
             0.7777777777777778,
             "#fb9f3a"
            ],
            [
             0.8888888888888888,
             "#fdca26"
            ],
            [
             1,
             "#f0f921"
            ]
           ],
           "sequentialminus": [
            [
             0,
             "#0d0887"
            ],
            [
             0.1111111111111111,
             "#46039f"
            ],
            [
             0.2222222222222222,
             "#7201a8"
            ],
            [
             0.3333333333333333,
             "#9c179e"
            ],
            [
             0.4444444444444444,
             "#bd3786"
            ],
            [
             0.5555555555555556,
             "#d8576b"
            ],
            [
             0.6666666666666666,
             "#ed7953"
            ],
            [
             0.7777777777777778,
             "#fb9f3a"
            ],
            [
             0.8888888888888888,
             "#fdca26"
            ],
            [
             1,
             "#f0f921"
            ]
           ]
          },
          "colorway": [
           "#636efa",
           "#EF553B",
           "#00cc96",
           "#ab63fa",
           "#FFA15A",
           "#19d3f3",
           "#FF6692",
           "#B6E880",
           "#FF97FF",
           "#FECB52"
          ],
          "font": {
           "color": "#2a3f5f"
          },
          "geo": {
           "bgcolor": "white",
           "lakecolor": "white",
           "landcolor": "#E5ECF6",
           "showlakes": true,
           "showland": true,
           "subunitcolor": "white"
          },
          "hoverlabel": {
           "align": "left"
          },
          "hovermode": "closest",
          "mapbox": {
           "style": "light"
          },
          "paper_bgcolor": "white",
          "plot_bgcolor": "#E5ECF6",
          "polar": {
           "angularaxis": {
            "gridcolor": "white",
            "linecolor": "white",
            "ticks": ""
           },
           "bgcolor": "#E5ECF6",
           "radialaxis": {
            "gridcolor": "white",
            "linecolor": "white",
            "ticks": ""
           }
          },
          "scene": {
           "xaxis": {
            "backgroundcolor": "#E5ECF6",
            "gridcolor": "white",
            "gridwidth": 2,
            "linecolor": "white",
            "showbackground": true,
            "ticks": "",
            "zerolinecolor": "white"
           },
           "yaxis": {
            "backgroundcolor": "#E5ECF6",
            "gridcolor": "white",
            "gridwidth": 2,
            "linecolor": "white",
            "showbackground": true,
            "ticks": "",
            "zerolinecolor": "white"
           },
           "zaxis": {
            "backgroundcolor": "#E5ECF6",
            "gridcolor": "white",
            "gridwidth": 2,
            "linecolor": "white",
            "showbackground": true,
            "ticks": "",
            "zerolinecolor": "white"
           }
          },
          "shapedefaults": {
           "line": {
            "color": "#2a3f5f"
           }
          },
          "ternary": {
           "aaxis": {
            "gridcolor": "white",
            "linecolor": "white",
            "ticks": ""
           },
           "baxis": {
            "gridcolor": "white",
            "linecolor": "white",
            "ticks": ""
           },
           "bgcolor": "#E5ECF6",
           "caxis": {
            "gridcolor": "white",
            "linecolor": "white",
            "ticks": ""
           }
          },
          "title": {
           "x": 0.05
          },
          "xaxis": {
           "automargin": true,
           "gridcolor": "white",
           "linecolor": "white",
           "ticks": "",
           "title": {
            "standoff": 15
           },
           "zerolinecolor": "white",
           "zerolinewidth": 2
          },
          "yaxis": {
           "automargin": true,
           "gridcolor": "white",
           "linecolor": "white",
           "ticks": "",
           "title": {
            "standoff": 15
           },
           "zerolinecolor": "white",
           "zerolinewidth": 2
          }
         }
        },
        "title": {
         "text": "Cumulative Price Growth for top and bottom 10 municipalities"
        },
        "width": 1600,
        "xaxis": {
         "anchor": "y",
         "domain": [
          0,
          1
         ],
         "title": {
          "text": "year"
         }
        },
        "yaxis": {
         "anchor": "x",
         "domain": [
          0,
          1
         ],
         "title": {
          "text": "value"
         }
        }
       }
      }
     },
     "metadata": {},
     "output_type": "display_data"
    }
   ],
   "source": [
    "plot_time_series(\n",
    "    factor_growth_df.copy(),\n",
    "    \"return_growth\",\n",
    "    group_by_columns,\n",
    "    granularity_columns,\n",
    "    f\"Cumulative Price Growth for top and bottom {return_n} municipalities\",\n",
    "    # visible=\"legendonly\",\n",
    ")"
   ]
  },
  {
   "cell_type": "code",
   "execution_count": 21,
   "metadata": {},
   "outputs": [
    {
     "data": {
      "application/vnd.plotly.v1+json": {
       "config": {
        "plotlyServerURL": "https://plot.ly"
       },
       "data": [
        {
         "hovertemplate": "variable=('Fukuoka', 'Fukutsu')<br>year=%{x}<br>value=%{y}<extra></extra>",
         "legendgroup": "('Fukuoka', 'Fukutsu')",
         "line": {
          "color": "#636efa",
          "dash": "solid"
         },
         "marker": {
          "symbol": "circle"
         },
         "mode": "lines+markers",
         "name": "('Fukuoka', 'Fukutsu')",
         "orientation": "v",
         "showlegend": true,
         "type": "scatter",
         "x": [
          2010,
          2011,
          2012,
          2013,
          2014,
          2015,
          2016,
          2017,
          2018,
          2019,
          2020,
          2021
         ],
         "xaxis": "x",
         "y": [
          1.0042212723868733,
          1.008371895863506,
          1.0219364866296934,
          1.0401109187890774,
          1.0605461160761591,
          1.0809459889081205,
          1.1051785651206325,
          1.1290755590095019,
          1.1578120032498493,
          1.1839521000388562,
          1.1986117489137722,
          1.209824488503262
         ],
         "yaxis": "y"
        },
        {
         "hovertemplate": "variable=('Fukuoka', 'Shingu')<br>year=%{x}<br>value=%{y}<extra></extra>",
         "legendgroup": "('Fukuoka', 'Shingu')",
         "line": {
          "color": "#EF553B",
          "dash": "solid"
         },
         "marker": {
          "symbol": "circle"
         },
         "mode": "lines+markers",
         "name": "('Fukuoka', 'Shingu')",
         "orientation": "v",
         "showlegend": true,
         "type": "scatter",
         "x": [
          2010,
          2011,
          2012,
          2013,
          2014,
          2015,
          2016,
          2017,
          2018,
          2019,
          2020,
          2021
         ],
         "xaxis": "x",
         "y": [
          1.0191594093146534,
          1.0413858386974628,
          1.0772056039379019,
          1.1110185535781896,
          1.1553956834532368,
          1.2004543733434299,
          1.2216205982582349,
          1.2324119651647096,
          1.2377129875047324,
          1.246762589928057,
          1.252858765619083,
          1.2487741864624335
         ],
         "yaxis": "y"
        },
        {
         "hovertemplate": "variable=('Tokyo', 'Chiyoda')<br>year=%{x}<br>value=%{y}<extra></extra>",
         "legendgroup": "('Tokyo', 'Chiyoda')",
         "line": {
          "color": "#00cc96",
          "dash": "solid"
         },
         "marker": {
          "symbol": "circle"
         },
         "mode": "lines+markers",
         "name": "('Tokyo', 'Chiyoda')",
         "orientation": "v",
         "showlegend": true,
         "type": "scatter",
         "x": [
          2010,
          2011,
          2012,
          2013,
          2014,
          2015,
          2016,
          2017,
          2018,
          2019,
          2020,
          2021
         ],
         "xaxis": "x",
         "y": [
          1.0125788553621646,
          1.0258607585315802,
          1.0463251501102078,
          1.083320665805275,
          1.130386866306909,
          1.1566086493881584,
          1.1733487877175648,
          1.1939081857566314,
          1.2323668009424638,
          1.267006156418636,
          1.2855134149122134,
          1.2842590672132073
         ],
         "yaxis": "y"
        },
        {
         "hovertemplate": "variable=('Tokyo', 'Chuo')<br>year=%{x}<br>value=%{y}<extra></extra>",
         "legendgroup": "('Tokyo', 'Chuo')",
         "line": {
          "color": "#ab63fa",
          "dash": "solid"
         },
         "marker": {
          "symbol": "circle"
         },
         "mode": "lines+markers",
         "name": "('Tokyo', 'Chuo')",
         "orientation": "v",
         "showlegend": true,
         "type": "scatter",
         "x": [
          2010,
          2011,
          2012,
          2013,
          2014,
          2015,
          2016,
          2017,
          2018,
          2019,
          2020,
          2021
         ],
         "xaxis": "x",
         "y": [
          1.0171855126885105,
          1.0392844164496393,
          1.060035733753255,
          1.084110592938041,
          1.1182469262915629,
          1.1457058930410025,
          1.1819468838955842,
          1.2213600024226265,
          1.250469384046998,
          1.2808052207619154,
          1.288042819938222,
          1.2900041096656372
         ],
         "yaxis": "y"
        },
        {
         "hovertemplate": "variable=('Tokyo', 'Minato')<br>year=%{x}<br>value=%{y}<extra></extra>",
         "legendgroup": "('Tokyo', 'Minato')",
         "line": {
          "color": "#FFA15A",
          "dash": "solid"
         },
         "marker": {
          "symbol": "circle"
         },
         "mode": "lines+markers",
         "name": "('Tokyo', 'Minato')",
         "orientation": "v",
         "showlegend": true,
         "type": "scatter",
         "x": [
          2010,
          2011,
          2012,
          2013,
          2014,
          2015,
          2016,
          2017,
          2018,
          2019,
          2020,
          2021
         ],
         "xaxis": "x",
         "y": [
          1.012250708585787,
          1.0223274202331791,
          1.037017979426356,
          1.052527539438534,
          1.068963299329791,
          1.0780194759252346,
          1.0918738824497982,
          1.1016032691425357,
          1.110123450437586,
          1.116954174545797,
          1.1107537809108483,
          1.1080608475863385
         ],
         "yaxis": "y"
        },
        {
         "hovertemplate": "variable=('Tokyo', 'Taito')<br>year=%{x}<br>value=%{y}<extra></extra>",
         "legendgroup": "('Tokyo', 'Taito')",
         "line": {
          "color": "#19d3f3",
          "dash": "solid"
         },
         "marker": {
          "symbol": "circle"
         },
         "mode": "lines+markers",
         "name": "('Tokyo', 'Taito')",
         "orientation": "v",
         "showlegend": true,
         "type": "scatter",
         "x": [
          2010,
          2011,
          2012,
          2013,
          2014,
          2015,
          2016,
          2017,
          2018,
          2019,
          2020,
          2021
         ],
         "xaxis": "x",
         "y": [
          1.010813495242062,
          1.0222998301880744,
          1.040963121976226,
          1.055263635684,
          1.0665256907286957,
          1.0744876272254436,
          1.084761782704815,
          1.096824837397071,
          1.1123428705691363,
          1.1291104631913955,
          1.140917197996432,
          1.1489220176801271
         ],
         "yaxis": "y"
        },
        {
         "hovertemplate": "variable=('Shizuoka', 'Susono')<br>year=%{x}<br>value=%{y}<extra></extra>",
         "legendgroup": "('Shizuoka', 'Susono')",
         "line": {
          "color": "#FF6692",
          "dash": "solid"
         },
         "marker": {
          "symbol": "circle"
         },
         "mode": "lines+markers",
         "name": "('Shizuoka', 'Susono')",
         "orientation": "v",
         "showlegend": true,
         "type": "scatter",
         "x": [
          2010,
          2011,
          2012,
          2013,
          2014,
          2015,
          2016,
          2017,
          2018,
          2019,
          2020,
          2021
         ],
         "xaxis": "x",
         "y": [
          0.9952563233758861,
          0.9878569204564187,
          0.9825088371581898,
          0.975603948790271,
          0.96485283613253,
          0.9593215992966906,
          0.9525082876975771,
          0.946464220956428,
          0.940108793201341,
          0.9324529753292189,
          0.9246872653345304,
          0.9160711987476818
         ],
         "yaxis": "y"
        },
        {
         "hovertemplate": "variable=('Ibaraki', 'Tsukubamirai')<br>year=%{x}<br>value=%{y}<extra></extra>",
         "legendgroup": "('Ibaraki', 'Tsukubamirai')",
         "line": {
          "color": "#B6E880",
          "dash": "solid"
         },
         "marker": {
          "symbol": "circle"
         },
         "mode": "lines+markers",
         "name": "('Ibaraki', 'Tsukubamirai')",
         "orientation": "v",
         "showlegend": true,
         "type": "scatter",
         "x": [
          2010,
          2011,
          2012,
          2013,
          2014,
          2015,
          2016,
          2017,
          2018,
          2019,
          2020,
          2021
         ],
         "xaxis": "x",
         "y": [
          1.0189673340358272,
          1.0356668346543272,
          1.0473496128648003,
          1.0643240023823701,
          1.0865212809822693,
          1.1132771338250786,
          1.124135245338342,
          1.1343519494204422,
          1.1369633939616066,
          1.14243826453475,
          1.1464012461630084,
          1.1568334291700153
         ],
         "yaxis": "y"
        },
        {
         "hovertemplate": "variable=('Nagano', 'Karuizawa')<br>year=%{x}<br>value=%{y}<extra></extra>",
         "legendgroup": "('Nagano', 'Karuizawa')",
         "line": {
          "color": "#FF97FF",
          "dash": "solid"
         },
         "marker": {
          "symbol": "circle"
         },
         "mode": "lines+markers",
         "name": "('Nagano', 'Karuizawa')",
         "orientation": "v",
         "showlegend": true,
         "type": "scatter",
         "x": [
          2010,
          2011,
          2012,
          2013,
          2014,
          2015,
          2016,
          2017,
          2018,
          2019,
          2020,
          2021
         ],
         "xaxis": "x",
         "y": [
          1.0124511856924556,
          1.0254117380723298,
          1.037579942271775,
          1.0503707057558433,
          1.0575584356783063,
          1.0647461656007693,
          1.0721602807176405,
          1.0730658214952735,
          1.0797441847303177,
          1.0859697775765456,
          1.115739430641235,
          1.1430798681383918
         ],
         "yaxis": "y"
        },
        {
         "hovertemplate": "variable=('Aomori', 'Mutsu')<br>year=%{x}<br>value=%{y}<extra></extra>",
         "legendgroup": "('Aomori', 'Mutsu')",
         "line": {
          "color": "#FECB52",
          "dash": "solid"
         },
         "marker": {
          "symbol": "circle"
         },
         "mode": "lines+markers",
         "name": "('Aomori', 'Mutsu')",
         "orientation": "v",
         "showlegend": true,
         "type": "scatter",
         "x": [
          2010,
          2011,
          2012,
          2013,
          2014,
          2015,
          2016,
          2017,
          2018,
          2019,
          2020,
          2021
         ],
         "xaxis": "x",
         "y": [
          0.9962857093952725,
          0.9947452202043717,
          0.9870598907964332,
          0.9801105728908139,
          0.9703883744415731,
          0.9620697328107085,
          0.9555140954760972,
          0.9449360696985781,
          0.9371993906509428,
          0.9260565188367601,
          0.9205107577495171,
          0.9144998320914935
         ],
         "yaxis": "y"
        },
        {
         "hovertemplate": "variable=('Kyoto', 'Maizuru')<br>year=%{x}<br>value=%{y}<extra></extra>",
         "legendgroup": "('Kyoto', 'Maizuru')",
         "line": {
          "color": "#636efa",
          "dash": "solid"
         },
         "marker": {
          "symbol": "circle"
         },
         "mode": "lines+markers",
         "name": "('Kyoto', 'Maizuru')",
         "orientation": "v",
         "showlegend": true,
         "type": "scatter",
         "x": [
          2010,
          2011,
          2012,
          2013,
          2014,
          2015,
          2016,
          2017,
          2018,
          2019,
          2020,
          2021
         ],
         "xaxis": "x",
         "y": [
          0.9930664073803985,
          0.9855887766086747,
          0.9791644963016983,
          0.9721151508837729,
          0.9664779896053991,
          0.9597759025824454,
          0.9525645032468665,
          0.9441145489692219,
          0.9358845250083927,
          0.9299116806148795,
          0.9232790452709201,
          0.9145431453791215
         ],
         "yaxis": "y"
        },
        {
         "hovertemplate": "variable=('Mie', 'Shima')<br>year=%{x}<br>value=%{y}<extra></extra>",
         "legendgroup": "('Mie', 'Shima')",
         "line": {
          "color": "#EF553B",
          "dash": "solid"
         },
         "marker": {
          "symbol": "circle"
         },
         "mode": "lines+markers",
         "name": "('Mie', 'Shima')",
         "orientation": "v",
         "showlegend": true,
         "type": "scatter",
         "x": [
          2010,
          2011,
          2012,
          2013,
          2014,
          2015,
          2016,
          2017,
          2018,
          2019,
          2020,
          2021
         ],
         "xaxis": "x",
         "y": [
          0.9919697212431913,
          0.9853812880487023,
          0.9776914450496635,
          0.9683194488945851,
          0.9592878884972766,
          0.9496956103812882,
          0.9451898429990391,
          0.9372196411406604,
          0.9298502082665816,
          0.9223205703300229,
          0.915591957705864,
          0.9088633450817052
         ],
         "yaxis": "y"
        },
        {
         "hovertemplate": "variable=('Ehime', 'Uwajima')<br>year=%{x}<br>value=%{y}<extra></extra>",
         "legendgroup": "('Ehime', 'Uwajima')",
         "line": {
          "color": "#00cc96",
          "dash": "solid"
         },
         "marker": {
          "symbol": "circle"
         },
         "mode": "lines+markers",
         "name": "('Ehime', 'Uwajima')",
         "orientation": "v",
         "showlegend": true,
         "type": "scatter",
         "x": [
          2010,
          2011,
          2012,
          2013,
          2014,
          2015,
          2016,
          2017,
          2018,
          2019,
          2020,
          2021
         ],
         "xaxis": "x",
         "y": [
          0.9939854758434123,
          0.9862769044898818,
          0.9800128695058374,
          0.9739064203075551,
          0.9666574741624975,
          0.9597893603330316,
          0.9500978345086611,
          0.9441095746497005,
          0.93591511379007,
          0.9298743253358552,
          0.9223233397680869,
          0.9141231579056479
         ],
         "yaxis": "y"
        },
        {
         "hovertemplate": "variable=('Aichi', 'Nagakute')<br>year=%{x}<br>value=%{y}<extra></extra>",
         "legendgroup": "('Aichi', 'Nagakute')",
         "line": {
          "color": "#ab63fa",
          "dash": "solid"
         },
         "marker": {
          "symbol": "circle"
         },
         "mode": "lines+markers",
         "name": "('Aichi', 'Nagakute')",
         "orientation": "v",
         "showlegend": true,
         "type": "scatter",
         "x": [
          2010,
          2011,
          2012,
          2013,
          2014,
          2015,
          2016,
          2017,
          2018,
          2019,
          2020,
          2021
         ],
         "xaxis": "x",
         "y": [
          1.0036956156559718,
          1.0152864102133379,
          1.0311887563693376,
          1.0484536274894078,
          1.0698247382272246,
          1.080743602665323,
          1.0897586650988298,
          1.1014801127349423,
          1.1118017059559138,
          1.1229072176493644,
          1.1301864606080967,
          1.1330533847310023
         ],
         "yaxis": "y"
        },
        {
         "hovertemplate": "variable=('Chiba', 'Choshi')<br>year=%{x}<br>value=%{y}<extra></extra>",
         "legendgroup": "('Chiba', 'Choshi')",
         "line": {
          "color": "#FFA15A",
          "dash": "solid"
         },
         "marker": {
          "symbol": "circle"
         },
         "mode": "lines+markers",
         "name": "('Chiba', 'Choshi')",
         "orientation": "v",
         "showlegend": true,
         "type": "scatter",
         "x": [
          2010,
          2011,
          2012,
          2013,
          2014,
          2015,
          2016,
          2017,
          2018,
          2019,
          2020,
          2021
         ],
         "xaxis": "x",
         "y": [
          0.994630557294928,
          0.9889323731997496,
          0.9802128991859739,
          0.9715560425798374,
          0.9639167188478399,
          0.9535848465873515,
          0.9449436443331249,
          0.9345021916092677,
          0.924843456480902,
          0.9146994364433317,
          0.9058234189104576,
          0.8976108451715016
         ],
         "yaxis": "y"
        },
        {
         "hovertemplate": "variable=('Chiba', 'Inzai')<br>year=%{x}<br>value=%{y}<extra></extra>",
         "legendgroup": "('Chiba', 'Inzai')",
         "line": {
          "color": "#19d3f3",
          "dash": "solid"
         },
         "marker": {
          "symbol": "circle"
         },
         "mode": "lines+markers",
         "name": "('Chiba', 'Inzai')",
         "orientation": "v",
         "showlegend": true,
         "type": "scatter",
         "x": [
          2010,
          2011,
          2012,
          2013,
          2014,
          2015,
          2016,
          2017,
          2018,
          2019,
          2020,
          2021
         ],
         "xaxis": "x",
         "y": [
          1.0155484085616058,
          1.0208938671398469,
          1.0372296772762557,
          1.0425751358544968,
          1.0455362093822775,
          1.0573361428412993,
          1.0799711655761335,
          1.0980148608184535,
          1.1169014084507036,
          1.137950537872906,
          1.158733503382499,
          1.17768379199651
         ],
         "yaxis": "y"
        },
        {
         "hovertemplate": "variable=('Chiba', 'Nagareyama')<br>year=%{x}<br>value=%{y}<extra></extra>",
         "legendgroup": "('Chiba', 'Nagareyama')",
         "line": {
          "color": "#FF6692",
          "dash": "solid"
         },
         "marker": {
          "symbol": "circle"
         },
         "mode": "lines+markers",
         "name": "('Chiba', 'Nagareyama')",
         "orientation": "v",
         "showlegend": true,
         "type": "scatter",
         "x": [
          2010,
          2011,
          2012,
          2013,
          2014,
          2015,
          2016,
          2017,
          2018,
          2019,
          2020,
          2021
         ],
         "xaxis": "x",
         "y": [
          1.0127336279862496,
          1.0205794840685212,
          1.0247450674524077,
          1.0327873588121441,
          1.0465782707918072,
          1.06384724268423,
          1.084542276915966,
          1.1071265563162607,
          1.13093566744663,
          1.1546292284137847,
          1.1768668573244354,
          1.1989400810108057
         ],
         "yaxis": "y"
        },
        {
         "hovertemplate": "variable=('Hokkaido', 'Muroran')<br>year=%{x}<br>value=%{y}<extra></extra>",
         "legendgroup": "('Hokkaido', 'Muroran')",
         "line": {
          "color": "#B6E880",
          "dash": "solid"
         },
         "marker": {
          "symbol": "circle"
         },
         "mode": "lines+markers",
         "name": "('Hokkaido', 'Muroran')",
         "orientation": "v",
         "showlegend": true,
         "type": "scatter",
         "x": [
          2010,
          2011,
          2012,
          2013,
          2014,
          2015,
          2016,
          2017,
          2018,
          2019,
          2020,
          2021
         ],
         "xaxis": "x",
         "y": [
          0.9963967016830453,
          0.9931887495764148,
          0.985665875974246,
          0.975635377838021,
          0.966248729244324,
          0.9601152151812945,
          0.9513950073421439,
          0.9447305997966792,
          0.9377273240709365,
          0.9305659098610642,
          0.9234044956511919,
          0.9163568996032175
         ],
         "yaxis": "y"
        },
        {
         "hovertemplate": "variable=('Hokkaido', 'Shiraoi')<br>year=%{x}<br>value=%{y}<extra></extra>",
         "legendgroup": "('Hokkaido', 'Shiraoi')",
         "line": {
          "color": "#FF97FF",
          "dash": "solid"
         },
         "marker": {
          "symbol": "circle"
         },
         "mode": "lines+markers",
         "name": "('Hokkaido', 'Shiraoi')",
         "orientation": "v",
         "showlegend": true,
         "type": "scatter",
         "x": [
          2010,
          2011,
          2012,
          2013,
          2014,
          2015,
          2016,
          2017,
          2018,
          2019,
          2020,
          2021
         ],
         "xaxis": "x",
         "y": [
          0.9960663588164871,
          0.9838093609258309,
          0.9800467476198622,
          0.9735476882731888,
          0.9657944244911923,
          0.9554757425460353,
          0.9498888318795967,
          0.9404822986146746,
          0.9324439883701048,
          0.9242346502479909,
          0.9205860555270514,
          0.9168229761473423
         ],
         "yaxis": "y"
        },
        {
         "hovertemplate": "variable=('Hokkaido', 'Wakkanai')<br>year=%{x}<br>value=%{y}<extra></extra>",
         "legendgroup": "('Hokkaido', 'Wakkanai')",
         "line": {
          "color": "#FECB52",
          "dash": "solid"
         },
         "marker": {
          "symbol": "circle"
         },
         "mode": "lines+markers",
         "name": "('Hokkaido', 'Wakkanai')",
         "orientation": "v",
         "showlegend": true,
         "type": "scatter",
         "x": [
          2010,
          2011,
          2012,
          2013,
          2014,
          2015,
          2016,
          2017,
          2018,
          2019,
          2020,
          2021
         ],
         "xaxis": "x",
         "y": [
          0.9926756512011933,
          0.9820220529483834,
          0.9702498268790285,
          0.9577052149363449,
          0.9534704096308529,
          0.9419911575134503,
          0.9291535716188144,
          0.9163692537154425,
          0.906061897405849,
          0.8939167953976458,
          0.8849145048740215,
          0.8739708512982259
         ],
         "yaxis": "y"
        },
        {
         "hovertemplate": "variable=('Fukushima', 'Minamisoma')<br>year=%{x}<br>value=%{y}<extra></extra>",
         "legendgroup": "('Fukushima', 'Minamisoma')",
         "line": {
          "color": "#636efa",
          "dash": "solid"
         },
         "marker": {
          "symbol": "circle"
         },
         "mode": "lines+markers",
         "name": "('Fukushima', 'Minamisoma')",
         "orientation": "v",
         "showlegend": true,
         "type": "scatter",
         "x": [
          2010,
          2011,
          2012,
          2013,
          2014,
          2015,
          2016,
          2017,
          2018,
          2019,
          2020,
          2021
         ],
         "xaxis": "x",
         "y": [
          0.9972397239723974,
          0.9443894389438945,
          0.9293579357935795,
          0.9220522052205222,
          0.9210471047104714,
          0.9180018001800184,
          0.9101560156015606,
          0.8939393939393944,
          0.8887638763876393,
          0.8851635163516358,
          0.8822532253225329,
          0.8826268714454036
         ],
         "yaxis": "y"
        }
       ],
       "layout": {
        "autosize": false,
        "height": 800,
        "hovermode": "closest",
        "legend": {
         "title": {
          "text": "variable"
         },
         "tracegroupgap": 0
        },
        "template": {
         "data": {
          "bar": [
           {
            "error_x": {
             "color": "#2a3f5f"
            },
            "error_y": {
             "color": "#2a3f5f"
            },
            "marker": {
             "line": {
              "color": "#E5ECF6",
              "width": 0.5
             },
             "pattern": {
              "fillmode": "overlay",
              "size": 10,
              "solidity": 0.2
             }
            },
            "type": "bar"
           }
          ],
          "barpolar": [
           {
            "marker": {
             "line": {
              "color": "#E5ECF6",
              "width": 0.5
             },
             "pattern": {
              "fillmode": "overlay",
              "size": 10,
              "solidity": 0.2
             }
            },
            "type": "barpolar"
           }
          ],
          "carpet": [
           {
            "aaxis": {
             "endlinecolor": "#2a3f5f",
             "gridcolor": "white",
             "linecolor": "white",
             "minorgridcolor": "white",
             "startlinecolor": "#2a3f5f"
            },
            "baxis": {
             "endlinecolor": "#2a3f5f",
             "gridcolor": "white",
             "linecolor": "white",
             "minorgridcolor": "white",
             "startlinecolor": "#2a3f5f"
            },
            "type": "carpet"
           }
          ],
          "choropleth": [
           {
            "colorbar": {
             "outlinewidth": 0,
             "ticks": ""
            },
            "type": "choropleth"
           }
          ],
          "contour": [
           {
            "colorbar": {
             "outlinewidth": 0,
             "ticks": ""
            },
            "colorscale": [
             [
              0,
              "#0d0887"
             ],
             [
              0.1111111111111111,
              "#46039f"
             ],
             [
              0.2222222222222222,
              "#7201a8"
             ],
             [
              0.3333333333333333,
              "#9c179e"
             ],
             [
              0.4444444444444444,
              "#bd3786"
             ],
             [
              0.5555555555555556,
              "#d8576b"
             ],
             [
              0.6666666666666666,
              "#ed7953"
             ],
             [
              0.7777777777777778,
              "#fb9f3a"
             ],
             [
              0.8888888888888888,
              "#fdca26"
             ],
             [
              1,
              "#f0f921"
             ]
            ],
            "type": "contour"
           }
          ],
          "contourcarpet": [
           {
            "colorbar": {
             "outlinewidth": 0,
             "ticks": ""
            },
            "type": "contourcarpet"
           }
          ],
          "heatmap": [
           {
            "colorbar": {
             "outlinewidth": 0,
             "ticks": ""
            },
            "colorscale": [
             [
              0,
              "#0d0887"
             ],
             [
              0.1111111111111111,
              "#46039f"
             ],
             [
              0.2222222222222222,
              "#7201a8"
             ],
             [
              0.3333333333333333,
              "#9c179e"
             ],
             [
              0.4444444444444444,
              "#bd3786"
             ],
             [
              0.5555555555555556,
              "#d8576b"
             ],
             [
              0.6666666666666666,
              "#ed7953"
             ],
             [
              0.7777777777777778,
              "#fb9f3a"
             ],
             [
              0.8888888888888888,
              "#fdca26"
             ],
             [
              1,
              "#f0f921"
             ]
            ],
            "type": "heatmap"
           }
          ],
          "heatmapgl": [
           {
            "colorbar": {
             "outlinewidth": 0,
             "ticks": ""
            },
            "colorscale": [
             [
              0,
              "#0d0887"
             ],
             [
              0.1111111111111111,
              "#46039f"
             ],
             [
              0.2222222222222222,
              "#7201a8"
             ],
             [
              0.3333333333333333,
              "#9c179e"
             ],
             [
              0.4444444444444444,
              "#bd3786"
             ],
             [
              0.5555555555555556,
              "#d8576b"
             ],
             [
              0.6666666666666666,
              "#ed7953"
             ],
             [
              0.7777777777777778,
              "#fb9f3a"
             ],
             [
              0.8888888888888888,
              "#fdca26"
             ],
             [
              1,
              "#f0f921"
             ]
            ],
            "type": "heatmapgl"
           }
          ],
          "histogram": [
           {
            "marker": {
             "pattern": {
              "fillmode": "overlay",
              "size": 10,
              "solidity": 0.2
             }
            },
            "type": "histogram"
           }
          ],
          "histogram2d": [
           {
            "colorbar": {
             "outlinewidth": 0,
             "ticks": ""
            },
            "colorscale": [
             [
              0,
              "#0d0887"
             ],
             [
              0.1111111111111111,
              "#46039f"
             ],
             [
              0.2222222222222222,
              "#7201a8"
             ],
             [
              0.3333333333333333,
              "#9c179e"
             ],
             [
              0.4444444444444444,
              "#bd3786"
             ],
             [
              0.5555555555555556,
              "#d8576b"
             ],
             [
              0.6666666666666666,
              "#ed7953"
             ],
             [
              0.7777777777777778,
              "#fb9f3a"
             ],
             [
              0.8888888888888888,
              "#fdca26"
             ],
             [
              1,
              "#f0f921"
             ]
            ],
            "type": "histogram2d"
           }
          ],
          "histogram2dcontour": [
           {
            "colorbar": {
             "outlinewidth": 0,
             "ticks": ""
            },
            "colorscale": [
             [
              0,
              "#0d0887"
             ],
             [
              0.1111111111111111,
              "#46039f"
             ],
             [
              0.2222222222222222,
              "#7201a8"
             ],
             [
              0.3333333333333333,
              "#9c179e"
             ],
             [
              0.4444444444444444,
              "#bd3786"
             ],
             [
              0.5555555555555556,
              "#d8576b"
             ],
             [
              0.6666666666666666,
              "#ed7953"
             ],
             [
              0.7777777777777778,
              "#fb9f3a"
             ],
             [
              0.8888888888888888,
              "#fdca26"
             ],
             [
              1,
              "#f0f921"
             ]
            ],
            "type": "histogram2dcontour"
           }
          ],
          "mesh3d": [
           {
            "colorbar": {
             "outlinewidth": 0,
             "ticks": ""
            },
            "type": "mesh3d"
           }
          ],
          "parcoords": [
           {
            "line": {
             "colorbar": {
              "outlinewidth": 0,
              "ticks": ""
             }
            },
            "type": "parcoords"
           }
          ],
          "pie": [
           {
            "automargin": true,
            "type": "pie"
           }
          ],
          "scatter": [
           {
            "fillpattern": {
             "fillmode": "overlay",
             "size": 10,
             "solidity": 0.2
            },
            "type": "scatter"
           }
          ],
          "scatter3d": [
           {
            "line": {
             "colorbar": {
              "outlinewidth": 0,
              "ticks": ""
             }
            },
            "marker": {
             "colorbar": {
              "outlinewidth": 0,
              "ticks": ""
             }
            },
            "type": "scatter3d"
           }
          ],
          "scattercarpet": [
           {
            "marker": {
             "colorbar": {
              "outlinewidth": 0,
              "ticks": ""
             }
            },
            "type": "scattercarpet"
           }
          ],
          "scattergeo": [
           {
            "marker": {
             "colorbar": {
              "outlinewidth": 0,
              "ticks": ""
             }
            },
            "type": "scattergeo"
           }
          ],
          "scattergl": [
           {
            "marker": {
             "colorbar": {
              "outlinewidth": 0,
              "ticks": ""
             }
            },
            "type": "scattergl"
           }
          ],
          "scattermapbox": [
           {
            "marker": {
             "colorbar": {
              "outlinewidth": 0,
              "ticks": ""
             }
            },
            "type": "scattermapbox"
           }
          ],
          "scatterpolar": [
           {
            "marker": {
             "colorbar": {
              "outlinewidth": 0,
              "ticks": ""
             }
            },
            "type": "scatterpolar"
           }
          ],
          "scatterpolargl": [
           {
            "marker": {
             "colorbar": {
              "outlinewidth": 0,
              "ticks": ""
             }
            },
            "type": "scatterpolargl"
           }
          ],
          "scatterternary": [
           {
            "marker": {
             "colorbar": {
              "outlinewidth": 0,
              "ticks": ""
             }
            },
            "type": "scatterternary"
           }
          ],
          "surface": [
           {
            "colorbar": {
             "outlinewidth": 0,
             "ticks": ""
            },
            "colorscale": [
             [
              0,
              "#0d0887"
             ],
             [
              0.1111111111111111,
              "#46039f"
             ],
             [
              0.2222222222222222,
              "#7201a8"
             ],
             [
              0.3333333333333333,
              "#9c179e"
             ],
             [
              0.4444444444444444,
              "#bd3786"
             ],
             [
              0.5555555555555556,
              "#d8576b"
             ],
             [
              0.6666666666666666,
              "#ed7953"
             ],
             [
              0.7777777777777778,
              "#fb9f3a"
             ],
             [
              0.8888888888888888,
              "#fdca26"
             ],
             [
              1,
              "#f0f921"
             ]
            ],
            "type": "surface"
           }
          ],
          "table": [
           {
            "cells": {
             "fill": {
              "color": "#EBF0F8"
             },
             "line": {
              "color": "white"
             }
            },
            "header": {
             "fill": {
              "color": "#C8D4E3"
             },
             "line": {
              "color": "white"
             }
            },
            "type": "table"
           }
          ]
         },
         "layout": {
          "annotationdefaults": {
           "arrowcolor": "#2a3f5f",
           "arrowhead": 0,
           "arrowwidth": 1
          },
          "autotypenumbers": "strict",
          "coloraxis": {
           "colorbar": {
            "outlinewidth": 0,
            "ticks": ""
           }
          },
          "colorscale": {
           "diverging": [
            [
             0,
             "#8e0152"
            ],
            [
             0.1,
             "#c51b7d"
            ],
            [
             0.2,
             "#de77ae"
            ],
            [
             0.3,
             "#f1b6da"
            ],
            [
             0.4,
             "#fde0ef"
            ],
            [
             0.5,
             "#f7f7f7"
            ],
            [
             0.6,
             "#e6f5d0"
            ],
            [
             0.7,
             "#b8e186"
            ],
            [
             0.8,
             "#7fbc41"
            ],
            [
             0.9,
             "#4d9221"
            ],
            [
             1,
             "#276419"
            ]
           ],
           "sequential": [
            [
             0,
             "#0d0887"
            ],
            [
             0.1111111111111111,
             "#46039f"
            ],
            [
             0.2222222222222222,
             "#7201a8"
            ],
            [
             0.3333333333333333,
             "#9c179e"
            ],
            [
             0.4444444444444444,
             "#bd3786"
            ],
            [
             0.5555555555555556,
             "#d8576b"
            ],
            [
             0.6666666666666666,
             "#ed7953"
            ],
            [
             0.7777777777777778,
             "#fb9f3a"
            ],
            [
             0.8888888888888888,
             "#fdca26"
            ],
            [
             1,
             "#f0f921"
            ]
           ],
           "sequentialminus": [
            [
             0,
             "#0d0887"
            ],
            [
             0.1111111111111111,
             "#46039f"
            ],
            [
             0.2222222222222222,
             "#7201a8"
            ],
            [
             0.3333333333333333,
             "#9c179e"
            ],
            [
             0.4444444444444444,
             "#bd3786"
            ],
            [
             0.5555555555555556,
             "#d8576b"
            ],
            [
             0.6666666666666666,
             "#ed7953"
            ],
            [
             0.7777777777777778,
             "#fb9f3a"
            ],
            [
             0.8888888888888888,
             "#fdca26"
            ],
            [
             1,
             "#f0f921"
            ]
           ]
          },
          "colorway": [
           "#636efa",
           "#EF553B",
           "#00cc96",
           "#ab63fa",
           "#FFA15A",
           "#19d3f3",
           "#FF6692",
           "#B6E880",
           "#FF97FF",
           "#FECB52"
          ],
          "font": {
           "color": "#2a3f5f"
          },
          "geo": {
           "bgcolor": "white",
           "lakecolor": "white",
           "landcolor": "#E5ECF6",
           "showlakes": true,
           "showland": true,
           "subunitcolor": "white"
          },
          "hoverlabel": {
           "align": "left"
          },
          "hovermode": "closest",
          "mapbox": {
           "style": "light"
          },
          "paper_bgcolor": "white",
          "plot_bgcolor": "#E5ECF6",
          "polar": {
           "angularaxis": {
            "gridcolor": "white",
            "linecolor": "white",
            "ticks": ""
           },
           "bgcolor": "#E5ECF6",
           "radialaxis": {
            "gridcolor": "white",
            "linecolor": "white",
            "ticks": ""
           }
          },
          "scene": {
           "xaxis": {
            "backgroundcolor": "#E5ECF6",
            "gridcolor": "white",
            "gridwidth": 2,
            "linecolor": "white",
            "showbackground": true,
            "ticks": "",
            "zerolinecolor": "white"
           },
           "yaxis": {
            "backgroundcolor": "#E5ECF6",
            "gridcolor": "white",
            "gridwidth": 2,
            "linecolor": "white",
            "showbackground": true,
            "ticks": "",
            "zerolinecolor": "white"
           },
           "zaxis": {
            "backgroundcolor": "#E5ECF6",
            "gridcolor": "white",
            "gridwidth": 2,
            "linecolor": "white",
            "showbackground": true,
            "ticks": "",
            "zerolinecolor": "white"
           }
          },
          "shapedefaults": {
           "line": {
            "color": "#2a3f5f"
           }
          },
          "ternary": {
           "aaxis": {
            "gridcolor": "white",
            "linecolor": "white",
            "ticks": ""
           },
           "baxis": {
            "gridcolor": "white",
            "linecolor": "white",
            "ticks": ""
           },
           "bgcolor": "#E5ECF6",
           "caxis": {
            "gridcolor": "white",
            "linecolor": "white",
            "ticks": ""
           }
          },
          "title": {
           "x": 0.05
          },
          "xaxis": {
           "automargin": true,
           "gridcolor": "white",
           "linecolor": "white",
           "ticks": "",
           "title": {
            "standoff": 15
           },
           "zerolinecolor": "white",
           "zerolinewidth": 2
          },
          "yaxis": {
           "automargin": true,
           "gridcolor": "white",
           "linecolor": "white",
           "ticks": "",
           "title": {
            "standoff": 15
           },
           "zerolinecolor": "white",
           "zerolinewidth": 2
          }
         }
        },
        "title": {
         "text": "Cumulative Factor Growth for top and bottom 10 municipalities"
        },
        "width": 1600,
        "xaxis": {
         "anchor": "y",
         "domain": [
          0,
          1
         ],
         "title": {
          "text": "year"
         }
        },
        "yaxis": {
         "anchor": "x",
         "domain": [
          0,
          1
         ],
         "title": {
          "text": "value"
         }
        }
       }
      }
     },
     "metadata": {},
     "output_type": "display_data"
    }
   ],
   "source": [
    "plot_time_series(\n",
    "    factor_growth_df.copy(),\n",
    "    \"factor_growth\",\n",
    "    group_by_columns,\n",
    "    granularity_columns,\n",
    "    f\"Cumulative Factor Growth for top and bottom {return_n} municipalities\",\n",
    "    # visible=\"legendonly\",\n",
    ")"
   ]
  },
  {
   "cell_type": "code",
   "execution_count": 22,
   "metadata": {},
   "outputs": [
    {
     "data": {
      "application/vnd.plotly.v1+json": {
       "config": {
        "plotlyServerURL": "https://plot.ly"
       },
       "data": [
        {
         "hovertemplate": "variable=('Fukuoka', 'Fukutsu')<br>year=%{x}<br>value=%{y}<extra></extra>",
         "legendgroup": "('Fukuoka', 'Fukutsu')",
         "line": {
          "color": "#636efa",
          "dash": "solid"
         },
         "marker": {
          "symbol": "circle"
         },
         "mode": "lines+markers",
         "name": "('Fukuoka', 'Fukutsu')",
         "orientation": "v",
         "showlegend": true,
         "type": "scatter",
         "x": [
          2010,
          2011,
          2012,
          2013,
          2014,
          2015,
          2016,
          2017,
          2018,
          2019,
          2020,
          2021
         ],
         "xaxis": "x",
         "y": [
          43,
          36,
          92,
          78,
          107,
          102,
          105,
          118,
          105,
          95,
          101,
          92
         ],
         "yaxis": "y"
        },
        {
         "hovertemplate": "variable=('Fukuoka', 'Shingu')<br>year=%{x}<br>value=%{y}<extra></extra>",
         "legendgroup": "('Fukuoka', 'Shingu')",
         "line": {
          "color": "#EF553B",
          "dash": "solid"
         },
         "marker": {
          "symbol": "circle"
         },
         "mode": "lines+markers",
         "name": "('Fukuoka', 'Shingu')",
         "orientation": "v",
         "showlegend": true,
         "type": "scatter",
         "x": [
          2010,
          2011,
          2012,
          2013,
          2014,
          2015,
          2016,
          2017,
          2018,
          2019,
          2020,
          2021
         ],
         "xaxis": "x",
         "y": [
          92,
          63,
          49,
          69,
          65,
          29,
          30,
          32,
          33,
          20,
          30,
          26
         ],
         "yaxis": "y"
        },
        {
         "hovertemplate": "variable=('Tokyo', 'Chiyoda')<br>year=%{x}<br>value=%{y}<extra></extra>",
         "legendgroup": "('Tokyo', 'Chiyoda')",
         "line": {
          "color": "#00cc96",
          "dash": "solid"
         },
         "marker": {
          "symbol": "circle"
         },
         "mode": "lines+markers",
         "name": "('Tokyo', 'Chiyoda')",
         "orientation": "v",
         "showlegend": true,
         "type": "scatter",
         "x": [
          2010,
          2011,
          2012,
          2013,
          2014,
          2015,
          2016,
          2017,
          2018,
          2019,
          2020,
          2021
         ],
         "xaxis": "x",
         "y": [
          46,
          61,
          57,
          63,
          68,
          70,
          64,
          66,
          66,
          64,
          41,
          48
         ],
         "yaxis": "y"
        },
        {
         "hovertemplate": "variable=('Tokyo', 'Chuo')<br>year=%{x}<br>value=%{y}<extra></extra>",
         "legendgroup": "('Tokyo', 'Chuo')",
         "line": {
          "color": "#ab63fa",
          "dash": "solid"
         },
         "marker": {
          "symbol": "circle"
         },
         "mode": "lines+markers",
         "name": "('Tokyo', 'Chuo')",
         "orientation": "v",
         "showlegend": true,
         "type": "scatter",
         "x": [
          2010,
          2011,
          2012,
          2013,
          2014,
          2015,
          2016,
          2017,
          2018,
          2019,
          2020,
          2021
         ],
         "xaxis": "x",
         "y": [
          90,
          87,
          86,
          114,
          92,
          90,
          93,
          76,
          84,
          81,
          66,
          80
         ],
         "yaxis": "y"
        },
        {
         "hovertemplate": "variable=('Tokyo', 'Minato')<br>year=%{x}<br>value=%{y}<extra></extra>",
         "legendgroup": "('Tokyo', 'Minato')",
         "line": {
          "color": "#FFA15A",
          "dash": "solid"
         },
         "marker": {
          "symbol": "circle"
         },
         "mode": "lines+markers",
         "name": "('Tokyo', 'Minato')",
         "orientation": "v",
         "showlegend": true,
         "type": "scatter",
         "x": [
          2010,
          2011,
          2012,
          2013,
          2014,
          2015,
          2016,
          2017,
          2018,
          2019,
          2020,
          2021
         ],
         "xaxis": "x",
         "y": [
          98,
          85,
          96,
          139,
          118,
          123,
          126,
          128,
          103,
          99,
          73,
          78
         ],
         "yaxis": "y"
        },
        {
         "hovertemplate": "variable=('Tokyo', 'Taito')<br>year=%{x}<br>value=%{y}<extra></extra>",
         "legendgroup": "('Tokyo', 'Taito')",
         "line": {
          "color": "#19d3f3",
          "dash": "solid"
         },
         "marker": {
          "symbol": "circle"
         },
         "mode": "lines+markers",
         "name": "('Tokyo', 'Taito')",
         "orientation": "v",
         "showlegend": true,
         "type": "scatter",
         "x": [
          2010,
          2011,
          2012,
          2013,
          2014,
          2015,
          2016,
          2017,
          2018,
          2019,
          2020,
          2021
         ],
         "xaxis": "x",
         "y": [
          133,
          117,
          128,
          151,
          155,
          154,
          151,
          170,
          137,
          161,
          157,
          126
         ],
         "yaxis": "y"
        },
        {
         "hovertemplate": "variable=('Shizuoka', 'Susono')<br>year=%{x}<br>value=%{y}<extra></extra>",
         "legendgroup": "('Shizuoka', 'Susono')",
         "line": {
          "color": "#FF6692",
          "dash": "solid"
         },
         "marker": {
          "symbol": "circle"
         },
         "mode": "lines+markers",
         "name": "('Shizuoka', 'Susono')",
         "orientation": "v",
         "showlegend": true,
         "type": "scatter",
         "x": [
          2010,
          2011,
          2012,
          2013,
          2014,
          2015,
          2016,
          2017,
          2018,
          2019,
          2020,
          2021
         ],
         "xaxis": "x",
         "y": [
          41,
          39,
          47,
          50,
          61,
          58,
          71,
          58,
          52,
          77,
          61,
          72
         ],
         "yaxis": "y"
        },
        {
         "hovertemplate": "variable=('Ibaraki', 'Tsukubamirai')<br>year=%{x}<br>value=%{y}<extra></extra>",
         "legendgroup": "('Ibaraki', 'Tsukubamirai')",
         "line": {
          "color": "#B6E880",
          "dash": "solid"
         },
         "marker": {
          "symbol": "circle"
         },
         "mode": "lines+markers",
         "name": "('Ibaraki', 'Tsukubamirai')",
         "orientation": "v",
         "showlegend": true,
         "type": "scatter",
         "x": [
          2010,
          2011,
          2012,
          2013,
          2014,
          2015,
          2016,
          2017,
          2018,
          2019,
          2020,
          2021
         ],
         "xaxis": "x",
         "y": [
          34,
          23,
          29,
          57,
          66,
          63,
          56,
          58,
          56,
          65,
          81,
          105
         ],
         "yaxis": "y"
        },
        {
         "hovertemplate": "variable=('Nagano', 'Karuizawa')<br>year=%{x}<br>value=%{y}<extra></extra>",
         "legendgroup": "('Nagano', 'Karuizawa')",
         "line": {
          "color": "#FF97FF",
          "dash": "solid"
         },
         "marker": {
          "symbol": "circle"
         },
         "mode": "lines+markers",
         "name": "('Nagano', 'Karuizawa')",
         "orientation": "v",
         "showlegend": true,
         "type": "scatter",
         "x": [
          2010,
          2011,
          2012,
          2013,
          2014,
          2015,
          2016,
          2017,
          2018,
          2019,
          2020,
          2021
         ],
         "xaxis": "x",
         "y": [
          102,
          122,
          132,
          151,
          121,
          117,
          131,
          121,
          134,
          122,
          172,
          171
         ],
         "yaxis": "y"
        },
        {
         "hovertemplate": "variable=('Aomori', 'Mutsu')<br>year=%{x}<br>value=%{y}<extra></extra>",
         "legendgroup": "('Aomori', 'Mutsu')",
         "line": {
          "color": "#FECB52",
          "dash": "solid"
         },
         "marker": {
          "symbol": "circle"
         },
         "mode": "lines+markers",
         "name": "('Aomori', 'Mutsu')",
         "orientation": "v",
         "showlegend": true,
         "type": "scatter",
         "x": [
          2010,
          2011,
          2012,
          2013,
          2014,
          2015,
          2016,
          2017,
          2018,
          2019,
          2020,
          2021
         ],
         "xaxis": "x",
         "y": [
          79,
          48,
          50,
          60,
          55,
          53,
          48,
          35,
          50,
          51,
          40,
          45
         ],
         "yaxis": "y"
        },
        {
         "hovertemplate": "variable=('Kyoto', 'Maizuru')<br>year=%{x}<br>value=%{y}<extra></extra>",
         "legendgroup": "('Kyoto', 'Maizuru')",
         "line": {
          "color": "#636efa",
          "dash": "solid"
         },
         "marker": {
          "symbol": "circle"
         },
         "mode": "lines+markers",
         "name": "('Kyoto', 'Maizuru')",
         "orientation": "v",
         "showlegend": true,
         "type": "scatter",
         "x": [
          2010,
          2011,
          2012,
          2013,
          2014,
          2015,
          2016,
          2017,
          2018,
          2019,
          2020,
          2021
         ],
         "xaxis": "x",
         "y": [
          68,
          65,
          68,
          74,
          63,
          91,
          72,
          65,
          64,
          69,
          79,
          79
         ],
         "yaxis": "y"
        },
        {
         "hovertemplate": "variable=('Mie', 'Shima')<br>year=%{x}<br>value=%{y}<extra></extra>",
         "legendgroup": "('Mie', 'Shima')",
         "line": {
          "color": "#EF553B",
          "dash": "solid"
         },
         "marker": {
          "symbol": "circle"
         },
         "mode": "lines+markers",
         "name": "('Mie', 'Shima')",
         "orientation": "v",
         "showlegend": true,
         "type": "scatter",
         "x": [
          2010,
          2011,
          2012,
          2013,
          2014,
          2015,
          2016,
          2017,
          2018,
          2019,
          2020,
          2021
         ],
         "xaxis": "x",
         "y": [
          32,
          28,
          42,
          54,
          59,
          52,
          56,
          43,
          55,
          47,
          33,
          63
         ],
         "yaxis": "y"
        },
        {
         "hovertemplate": "variable=('Ehime', 'Uwajima')<br>year=%{x}<br>value=%{y}<extra></extra>",
         "legendgroup": "('Ehime', 'Uwajima')",
         "line": {
          "color": "#00cc96",
          "dash": "solid"
         },
         "marker": {
          "symbol": "circle"
         },
         "mode": "lines+markers",
         "name": "('Ehime', 'Uwajima')",
         "orientation": "v",
         "showlegend": true,
         "type": "scatter",
         "x": [
          2010,
          2011,
          2012,
          2013,
          2014,
          2015,
          2016,
          2017,
          2018,
          2019,
          2020,
          2021
         ],
         "xaxis": "x",
         "y": [
          53,
          41,
          59,
          56,
          51,
          48,
          55,
          53,
          39,
          53,
          59,
          61
         ],
         "yaxis": "y"
        },
        {
         "hovertemplate": "variable=('Aichi', 'Nagakute')<br>year=%{x}<br>value=%{y}<extra></extra>",
         "legendgroup": "('Aichi', 'Nagakute')",
         "line": {
          "color": "#ab63fa",
          "dash": "solid"
         },
         "marker": {
          "symbol": "circle"
         },
         "mode": "lines+markers",
         "name": "('Aichi', 'Nagakute')",
         "orientation": "v",
         "showlegend": true,
         "type": "scatter",
         "x": [
          2010,
          2011,
          2012,
          2013,
          2014,
          2015,
          2016,
          2017,
          2018,
          2019,
          2020,
          2021
         ],
         "xaxis": "x",
         "y": [
          49,
          56,
          59,
          68,
          58,
          37,
          48,
          65,
          57,
          53,
          70,
          53
         ],
         "yaxis": "y"
        },
        {
         "hovertemplate": "variable=('Chiba', 'Choshi')<br>year=%{x}<br>value=%{y}<extra></extra>",
         "legendgroup": "('Chiba', 'Choshi')",
         "line": {
          "color": "#FFA15A",
          "dash": "solid"
         },
         "marker": {
          "symbol": "circle"
         },
         "mode": "lines+markers",
         "name": "('Chiba', 'Choshi')",
         "orientation": "v",
         "showlegend": true,
         "type": "scatter",
         "x": [
          2010,
          2011,
          2012,
          2013,
          2014,
          2015,
          2016,
          2017,
          2018,
          2019,
          2020,
          2021
         ],
         "xaxis": "x",
         "y": [
          36,
          35,
          36,
          30,
          46,
          42,
          32,
          40,
          52,
          56,
          66,
          67
         ],
         "yaxis": "y"
        },
        {
         "hovertemplate": "variable=('Chiba', 'Inzai')<br>year=%{x}<br>value=%{y}<extra></extra>",
         "legendgroup": "('Chiba', 'Inzai')",
         "line": {
          "color": "#19d3f3",
          "dash": "solid"
         },
         "marker": {
          "symbol": "circle"
         },
         "mode": "lines+markers",
         "name": "('Chiba', 'Inzai')",
         "orientation": "v",
         "showlegend": true,
         "type": "scatter",
         "x": [
          2010,
          2011,
          2012,
          2013,
          2014,
          2015,
          2016,
          2017,
          2018,
          2019,
          2020,
          2021
         ],
         "xaxis": "x",
         "y": [
          116,
          92,
          115,
          93,
          115,
          126,
          143,
          200,
          215,
          191,
          274,
          249
         ],
         "yaxis": "y"
        },
        {
         "hovertemplate": "variable=('Chiba', 'Nagareyama')<br>year=%{x}<br>value=%{y}<extra></extra>",
         "legendgroup": "('Chiba', 'Nagareyama')",
         "line": {
          "color": "#FF6692",
          "dash": "solid"
         },
         "marker": {
          "symbol": "circle"
         },
         "mode": "lines+markers",
         "name": "('Chiba', 'Nagareyama')",
         "orientation": "v",
         "showlegend": true,
         "type": "scatter",
         "x": [
          2010,
          2011,
          2012,
          2013,
          2014,
          2015,
          2016,
          2017,
          2018,
          2019,
          2020,
          2021
         ],
         "xaxis": "x",
         "y": [
          233,
          147,
          173,
          183,
          210,
          237,
          244,
          197,
          222,
          299,
          369,
          308
         ],
         "yaxis": "y"
        },
        {
         "hovertemplate": "variable=('Hokkaido', 'Muroran')<br>year=%{x}<br>value=%{y}<extra></extra>",
         "legendgroup": "('Hokkaido', 'Muroran')",
         "line": {
          "color": "#B6E880",
          "dash": "solid"
         },
         "marker": {
          "symbol": "circle"
         },
         "mode": "lines+markers",
         "name": "('Hokkaido', 'Muroran')",
         "orientation": "v",
         "showlegend": true,
         "type": "scatter",
         "x": [
          2010,
          2011,
          2012,
          2013,
          2014,
          2015,
          2016,
          2017,
          2018,
          2019,
          2020,
          2021
         ],
         "xaxis": "x",
         "y": [
          70,
          88,
          91,
          78,
          87,
          114,
          92,
          104,
          64,
          89,
          117,
          150
         ],
         "yaxis": "y"
        },
        {
         "hovertemplate": "variable=('Hokkaido', 'Shiraoi')<br>year=%{x}<br>value=%{y}<extra></extra>",
         "legendgroup": "('Hokkaido', 'Shiraoi')",
         "line": {
          "color": "#FF97FF",
          "dash": "solid"
         },
         "marker": {
          "symbol": "circle"
         },
         "mode": "lines+markers",
         "name": "('Hokkaido', 'Shiraoi')",
         "orientation": "v",
         "showlegend": true,
         "type": "scatter",
         "x": [
          2010,
          2011,
          2012,
          2013,
          2014,
          2015,
          2016,
          2017,
          2018,
          2019,
          2020,
          2021
         ],
         "xaxis": "x",
         "y": [
          43,
          37,
          53,
          38,
          41,
          47,
          54,
          31,
          41,
          39,
          39,
          40
         ],
         "yaxis": "y"
        },
        {
         "hovertemplate": "variable=('Hokkaido', 'Wakkanai')<br>year=%{x}<br>value=%{y}<extra></extra>",
         "legendgroup": "('Hokkaido', 'Wakkanai')",
         "line": {
          "color": "#FECB52",
          "dash": "solid"
         },
         "marker": {
          "symbol": "circle"
         },
         "mode": "lines+markers",
         "name": "('Hokkaido', 'Wakkanai')",
         "orientation": "v",
         "showlegend": true,
         "type": "scatter",
         "x": [
          2010,
          2011,
          2012,
          2013,
          2014,
          2015,
          2016,
          2017,
          2018,
          2019,
          2020,
          2021
         ],
         "xaxis": "x",
         "y": [
          42,
          34,
          35,
          61,
          50,
          46,
          34,
          32,
          35,
          46,
          62,
          50
         ],
         "yaxis": "y"
        },
        {
         "hovertemplate": "variable=('Fukushima', 'Minamisoma')<br>year=%{x}<br>value=%{y}<extra></extra>",
         "legendgroup": "('Fukushima', 'Minamisoma')",
         "line": {
          "color": "#636efa",
          "dash": "solid"
         },
         "marker": {
          "symbol": "circle"
         },
         "mode": "lines+markers",
         "name": "('Fukushima', 'Minamisoma')",
         "orientation": "v",
         "showlegend": true,
         "type": "scatter",
         "x": [
          2010,
          2011,
          2012,
          2013,
          2014,
          2015,
          2016,
          2017,
          2018,
          2019,
          2020,
          2021
         ],
         "xaxis": "x",
         "y": [
          42,
          29,
          48,
          58,
          63,
          76,
          66,
          51,
          51,
          42,
          47,
          31
         ],
         "yaxis": "y"
        }
       ],
       "layout": {
        "autosize": false,
        "height": 800,
        "hovermode": "closest",
        "legend": {
         "title": {
          "text": "variable"
         },
         "tracegroupgap": 0
        },
        "template": {
         "data": {
          "bar": [
           {
            "error_x": {
             "color": "#2a3f5f"
            },
            "error_y": {
             "color": "#2a3f5f"
            },
            "marker": {
             "line": {
              "color": "#E5ECF6",
              "width": 0.5
             },
             "pattern": {
              "fillmode": "overlay",
              "size": 10,
              "solidity": 0.2
             }
            },
            "type": "bar"
           }
          ],
          "barpolar": [
           {
            "marker": {
             "line": {
              "color": "#E5ECF6",
              "width": 0.5
             },
             "pattern": {
              "fillmode": "overlay",
              "size": 10,
              "solidity": 0.2
             }
            },
            "type": "barpolar"
           }
          ],
          "carpet": [
           {
            "aaxis": {
             "endlinecolor": "#2a3f5f",
             "gridcolor": "white",
             "linecolor": "white",
             "minorgridcolor": "white",
             "startlinecolor": "#2a3f5f"
            },
            "baxis": {
             "endlinecolor": "#2a3f5f",
             "gridcolor": "white",
             "linecolor": "white",
             "minorgridcolor": "white",
             "startlinecolor": "#2a3f5f"
            },
            "type": "carpet"
           }
          ],
          "choropleth": [
           {
            "colorbar": {
             "outlinewidth": 0,
             "ticks": ""
            },
            "type": "choropleth"
           }
          ],
          "contour": [
           {
            "colorbar": {
             "outlinewidth": 0,
             "ticks": ""
            },
            "colorscale": [
             [
              0,
              "#0d0887"
             ],
             [
              0.1111111111111111,
              "#46039f"
             ],
             [
              0.2222222222222222,
              "#7201a8"
             ],
             [
              0.3333333333333333,
              "#9c179e"
             ],
             [
              0.4444444444444444,
              "#bd3786"
             ],
             [
              0.5555555555555556,
              "#d8576b"
             ],
             [
              0.6666666666666666,
              "#ed7953"
             ],
             [
              0.7777777777777778,
              "#fb9f3a"
             ],
             [
              0.8888888888888888,
              "#fdca26"
             ],
             [
              1,
              "#f0f921"
             ]
            ],
            "type": "contour"
           }
          ],
          "contourcarpet": [
           {
            "colorbar": {
             "outlinewidth": 0,
             "ticks": ""
            },
            "type": "contourcarpet"
           }
          ],
          "heatmap": [
           {
            "colorbar": {
             "outlinewidth": 0,
             "ticks": ""
            },
            "colorscale": [
             [
              0,
              "#0d0887"
             ],
             [
              0.1111111111111111,
              "#46039f"
             ],
             [
              0.2222222222222222,
              "#7201a8"
             ],
             [
              0.3333333333333333,
              "#9c179e"
             ],
             [
              0.4444444444444444,
              "#bd3786"
             ],
             [
              0.5555555555555556,
              "#d8576b"
             ],
             [
              0.6666666666666666,
              "#ed7953"
             ],
             [
              0.7777777777777778,
              "#fb9f3a"
             ],
             [
              0.8888888888888888,
              "#fdca26"
             ],
             [
              1,
              "#f0f921"
             ]
            ],
            "type": "heatmap"
           }
          ],
          "heatmapgl": [
           {
            "colorbar": {
             "outlinewidth": 0,
             "ticks": ""
            },
            "colorscale": [
             [
              0,
              "#0d0887"
             ],
             [
              0.1111111111111111,
              "#46039f"
             ],
             [
              0.2222222222222222,
              "#7201a8"
             ],
             [
              0.3333333333333333,
              "#9c179e"
             ],
             [
              0.4444444444444444,
              "#bd3786"
             ],
             [
              0.5555555555555556,
              "#d8576b"
             ],
             [
              0.6666666666666666,
              "#ed7953"
             ],
             [
              0.7777777777777778,
              "#fb9f3a"
             ],
             [
              0.8888888888888888,
              "#fdca26"
             ],
             [
              1,
              "#f0f921"
             ]
            ],
            "type": "heatmapgl"
           }
          ],
          "histogram": [
           {
            "marker": {
             "pattern": {
              "fillmode": "overlay",
              "size": 10,
              "solidity": 0.2
             }
            },
            "type": "histogram"
           }
          ],
          "histogram2d": [
           {
            "colorbar": {
             "outlinewidth": 0,
             "ticks": ""
            },
            "colorscale": [
             [
              0,
              "#0d0887"
             ],
             [
              0.1111111111111111,
              "#46039f"
             ],
             [
              0.2222222222222222,
              "#7201a8"
             ],
             [
              0.3333333333333333,
              "#9c179e"
             ],
             [
              0.4444444444444444,
              "#bd3786"
             ],
             [
              0.5555555555555556,
              "#d8576b"
             ],
             [
              0.6666666666666666,
              "#ed7953"
             ],
             [
              0.7777777777777778,
              "#fb9f3a"
             ],
             [
              0.8888888888888888,
              "#fdca26"
             ],
             [
              1,
              "#f0f921"
             ]
            ],
            "type": "histogram2d"
           }
          ],
          "histogram2dcontour": [
           {
            "colorbar": {
             "outlinewidth": 0,
             "ticks": ""
            },
            "colorscale": [
             [
              0,
              "#0d0887"
             ],
             [
              0.1111111111111111,
              "#46039f"
             ],
             [
              0.2222222222222222,
              "#7201a8"
             ],
             [
              0.3333333333333333,
              "#9c179e"
             ],
             [
              0.4444444444444444,
              "#bd3786"
             ],
             [
              0.5555555555555556,
              "#d8576b"
             ],
             [
              0.6666666666666666,
              "#ed7953"
             ],
             [
              0.7777777777777778,
              "#fb9f3a"
             ],
             [
              0.8888888888888888,
              "#fdca26"
             ],
             [
              1,
              "#f0f921"
             ]
            ],
            "type": "histogram2dcontour"
           }
          ],
          "mesh3d": [
           {
            "colorbar": {
             "outlinewidth": 0,
             "ticks": ""
            },
            "type": "mesh3d"
           }
          ],
          "parcoords": [
           {
            "line": {
             "colorbar": {
              "outlinewidth": 0,
              "ticks": ""
             }
            },
            "type": "parcoords"
           }
          ],
          "pie": [
           {
            "automargin": true,
            "type": "pie"
           }
          ],
          "scatter": [
           {
            "fillpattern": {
             "fillmode": "overlay",
             "size": 10,
             "solidity": 0.2
            },
            "type": "scatter"
           }
          ],
          "scatter3d": [
           {
            "line": {
             "colorbar": {
              "outlinewidth": 0,
              "ticks": ""
             }
            },
            "marker": {
             "colorbar": {
              "outlinewidth": 0,
              "ticks": ""
             }
            },
            "type": "scatter3d"
           }
          ],
          "scattercarpet": [
           {
            "marker": {
             "colorbar": {
              "outlinewidth": 0,
              "ticks": ""
             }
            },
            "type": "scattercarpet"
           }
          ],
          "scattergeo": [
           {
            "marker": {
             "colorbar": {
              "outlinewidth": 0,
              "ticks": ""
             }
            },
            "type": "scattergeo"
           }
          ],
          "scattergl": [
           {
            "marker": {
             "colorbar": {
              "outlinewidth": 0,
              "ticks": ""
             }
            },
            "type": "scattergl"
           }
          ],
          "scattermapbox": [
           {
            "marker": {
             "colorbar": {
              "outlinewidth": 0,
              "ticks": ""
             }
            },
            "type": "scattermapbox"
           }
          ],
          "scatterpolar": [
           {
            "marker": {
             "colorbar": {
              "outlinewidth": 0,
              "ticks": ""
             }
            },
            "type": "scatterpolar"
           }
          ],
          "scatterpolargl": [
           {
            "marker": {
             "colorbar": {
              "outlinewidth": 0,
              "ticks": ""
             }
            },
            "type": "scatterpolargl"
           }
          ],
          "scatterternary": [
           {
            "marker": {
             "colorbar": {
              "outlinewidth": 0,
              "ticks": ""
             }
            },
            "type": "scatterternary"
           }
          ],
          "surface": [
           {
            "colorbar": {
             "outlinewidth": 0,
             "ticks": ""
            },
            "colorscale": [
             [
              0,
              "#0d0887"
             ],
             [
              0.1111111111111111,
              "#46039f"
             ],
             [
              0.2222222222222222,
              "#7201a8"
             ],
             [
              0.3333333333333333,
              "#9c179e"
             ],
             [
              0.4444444444444444,
              "#bd3786"
             ],
             [
              0.5555555555555556,
              "#d8576b"
             ],
             [
              0.6666666666666666,
              "#ed7953"
             ],
             [
              0.7777777777777778,
              "#fb9f3a"
             ],
             [
              0.8888888888888888,
              "#fdca26"
             ],
             [
              1,
              "#f0f921"
             ]
            ],
            "type": "surface"
           }
          ],
          "table": [
           {
            "cells": {
             "fill": {
              "color": "#EBF0F8"
             },
             "line": {
              "color": "white"
             }
            },
            "header": {
             "fill": {
              "color": "#C8D4E3"
             },
             "line": {
              "color": "white"
             }
            },
            "type": "table"
           }
          ]
         },
         "layout": {
          "annotationdefaults": {
           "arrowcolor": "#2a3f5f",
           "arrowhead": 0,
           "arrowwidth": 1
          },
          "autotypenumbers": "strict",
          "coloraxis": {
           "colorbar": {
            "outlinewidth": 0,
            "ticks": ""
           }
          },
          "colorscale": {
           "diverging": [
            [
             0,
             "#8e0152"
            ],
            [
             0.1,
             "#c51b7d"
            ],
            [
             0.2,
             "#de77ae"
            ],
            [
             0.3,
             "#f1b6da"
            ],
            [
             0.4,
             "#fde0ef"
            ],
            [
             0.5,
             "#f7f7f7"
            ],
            [
             0.6,
             "#e6f5d0"
            ],
            [
             0.7,
             "#b8e186"
            ],
            [
             0.8,
             "#7fbc41"
            ],
            [
             0.9,
             "#4d9221"
            ],
            [
             1,
             "#276419"
            ]
           ],
           "sequential": [
            [
             0,
             "#0d0887"
            ],
            [
             0.1111111111111111,
             "#46039f"
            ],
            [
             0.2222222222222222,
             "#7201a8"
            ],
            [
             0.3333333333333333,
             "#9c179e"
            ],
            [
             0.4444444444444444,
             "#bd3786"
            ],
            [
             0.5555555555555556,
             "#d8576b"
            ],
            [
             0.6666666666666666,
             "#ed7953"
            ],
            [
             0.7777777777777778,
             "#fb9f3a"
            ],
            [
             0.8888888888888888,
             "#fdca26"
            ],
            [
             1,
             "#f0f921"
            ]
           ],
           "sequentialminus": [
            [
             0,
             "#0d0887"
            ],
            [
             0.1111111111111111,
             "#46039f"
            ],
            [
             0.2222222222222222,
             "#7201a8"
            ],
            [
             0.3333333333333333,
             "#9c179e"
            ],
            [
             0.4444444444444444,
             "#bd3786"
            ],
            [
             0.5555555555555556,
             "#d8576b"
            ],
            [
             0.6666666666666666,
             "#ed7953"
            ],
            [
             0.7777777777777778,
             "#fb9f3a"
            ],
            [
             0.8888888888888888,
             "#fdca26"
            ],
            [
             1,
             "#f0f921"
            ]
           ]
          },
          "colorway": [
           "#636efa",
           "#EF553B",
           "#00cc96",
           "#ab63fa",
           "#FFA15A",
           "#19d3f3",
           "#FF6692",
           "#B6E880",
           "#FF97FF",
           "#FECB52"
          ],
          "font": {
           "color": "#2a3f5f"
          },
          "geo": {
           "bgcolor": "white",
           "lakecolor": "white",
           "landcolor": "#E5ECF6",
           "showlakes": true,
           "showland": true,
           "subunitcolor": "white"
          },
          "hoverlabel": {
           "align": "left"
          },
          "hovermode": "closest",
          "mapbox": {
           "style": "light"
          },
          "paper_bgcolor": "white",
          "plot_bgcolor": "#E5ECF6",
          "polar": {
           "angularaxis": {
            "gridcolor": "white",
            "linecolor": "white",
            "ticks": ""
           },
           "bgcolor": "#E5ECF6",
           "radialaxis": {
            "gridcolor": "white",
            "linecolor": "white",
            "ticks": ""
           }
          },
          "scene": {
           "xaxis": {
            "backgroundcolor": "#E5ECF6",
            "gridcolor": "white",
            "gridwidth": 2,
            "linecolor": "white",
            "showbackground": true,
            "ticks": "",
            "zerolinecolor": "white"
           },
           "yaxis": {
            "backgroundcolor": "#E5ECF6",
            "gridcolor": "white",
            "gridwidth": 2,
            "linecolor": "white",
            "showbackground": true,
            "ticks": "",
            "zerolinecolor": "white"
           },
           "zaxis": {
            "backgroundcolor": "#E5ECF6",
            "gridcolor": "white",
            "gridwidth": 2,
            "linecolor": "white",
            "showbackground": true,
            "ticks": "",
            "zerolinecolor": "white"
           }
          },
          "shapedefaults": {
           "line": {
            "color": "#2a3f5f"
           }
          },
          "ternary": {
           "aaxis": {
            "gridcolor": "white",
            "linecolor": "white",
            "ticks": ""
           },
           "baxis": {
            "gridcolor": "white",
            "linecolor": "white",
            "ticks": ""
           },
           "bgcolor": "#E5ECF6",
           "caxis": {
            "gridcolor": "white",
            "linecolor": "white",
            "ticks": ""
           }
          },
          "title": {
           "x": 0.05
          },
          "xaxis": {
           "automargin": true,
           "gridcolor": "white",
           "linecolor": "white",
           "ticks": "",
           "title": {
            "standoff": 15
           },
           "zerolinecolor": "white",
           "zerolinewidth": 2
          },
          "yaxis": {
           "automargin": true,
           "gridcolor": "white",
           "linecolor": "white",
           "ticks": "",
           "title": {
            "standoff": 15
           },
           "zerolinecolor": "white",
           "zerolinewidth": 2
          }
         }
        },
        "title": {
         "text": "Count for top and bottom 10 municipalities"
        },
        "width": 1600,
        "xaxis": {
         "anchor": "y",
         "domain": [
          0,
          1
         ],
         "title": {
          "text": "year"
         }
        },
        "yaxis": {
         "anchor": "x",
         "domain": [
          0,
          1
         ],
         "title": {
          "text": "value"
         }
        }
       }
      }
     },
     "metadata": {},
     "output_type": "display_data"
    }
   ],
   "source": [
    "plot_time_series(\n",
    "    factor_growth_df.copy(),\n",
    "    \"Count\",\n",
    "    group_by_columns,\n",
    "    granularity_columns,\n",
    "    f\"Count for top and bottom {return_n} municipalities\",\n",
    "    # visible=\"legendonly\",\n",
    ")"
   ]
  },
  {
   "cell_type": "code",
   "execution_count": null,
   "metadata": {},
   "outputs": [],
   "source": []
  }
 ],
 "metadata": {
  "kernelspec": {
   "display_name": "venv",
   "language": "python",
   "name": "python3"
  },
  "language_info": {
   "codemirror_mode": {
    "name": "ipython",
    "version": 3
   },
   "file_extension": ".py",
   "mimetype": "text/x-python",
   "name": "python",
   "nbconvert_exporter": "python",
   "pygments_lexer": "ipython3",
   "version": "3.12.0"
  }
 },
 "nbformat": 4,
 "nbformat_minor": 2
}
