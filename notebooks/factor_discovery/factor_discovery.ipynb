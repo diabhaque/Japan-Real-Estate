{
 "cells": [
  {
   "cell_type": "code",
   "execution_count": 31,
   "metadata": {},
   "outputs": [],
   "source": [
    "import warnings\n",
    "\n",
    "import pandas as pd\n",
    "\n",
    "from jre_utils.datapath import factor_data_paths, get_derived_csv_path\n",
    "from jre_utils.config import asset_types\n",
    "from jre_utils.visualize import plot_time_series\n",
    "from jre_utils.process import (\n",
    "    get_most_active_municipalities,\n",
    "    get_highest_growth_municipalities,\n",
    "    get_cumulative_growth,\n",
    ")\n",
    "\n",
    "warnings.filterwarnings(\"ignore\")\n",
    "pd.set_option(\"display.max_columns\", None)"
   ]
  },
  {
   "cell_type": "code",
   "execution_count": 79,
   "metadata": {},
   "outputs": [],
   "source": [
    "factor = \"taxable_income\"\n",
    "factor_column = \"taxable_income_growth\""
   ]
  },
  {
   "cell_type": "code",
   "execution_count": 80,
   "metadata": {},
   "outputs": [],
   "source": [
    "asset_type = \"building\"\n",
    "# granularity_columns = [\"area\"]\n",
    "granularity_columns = [\"area\", \"area_code\"]\n",
    "group_by_columns = granularity_columns + [\"year\"]\n",
    "display_columns = [\"unit_price\", \"total_traded_area\", \"count\"]\n",
    "\n",
    "label = asset_types[asset_type][\"label\"]\n",
    "\n",
    "# metric = \"unit_price_wmean\"\n",
    "metric = \"unit_price_wmedian\"\n",
    "# metric = \"unit_price_mean\"\n",
    "# metric = \"unit_price_median\"\n",
    "metric_pct_chg = metric + \"_pct_chg\"\n",
    "upcoming_metric = \"upcoming_\" + metric\n",
    "upcoming_metric_pct_chg = \"upcoming_\" + metric_pct_chg"
   ]
  },
  {
   "cell_type": "code",
   "execution_count": 86,
   "metadata": {},
   "outputs": [],
   "source": [
    "core_df_path = get_derived_csv_path(asset_type)\n",
    "factor_path = factor_data_paths[\"processed\"][factor][\"municipality\"]\n",
    "\n",
    "df = pd.read_csv(core_df_path)\n",
    "factor_df = pd.read_csv(factor_path)\n",
    "\n",
    "# time box\n",
    "start_year = 2010\n",
    "end_year = 2022\n",
    "df = df[(df[\"year\"] >= start_year) & (df[\"year\"] <= end_year)]\n",
    "\n",
    "df = df.merge(factor_df, on=group_by_columns, how=\"left\")\n",
    "df = df.sort_values(by=[\"year\", \"area_code\"])\n",
    "\n",
    "# prepare metrics\n",
    "df[metric_pct_chg] = df.groupby(granularity_columns)[metric].pct_change(fill_method=\"ffill\").fillna(0) # fill na with 0 for visualizations\n",
    "\n",
    "# set up target variables\n",
    "df[upcoming_metric] = df.groupby(granularity_columns)[metric].shift(-1)\n",
    "df[upcoming_metric_pct_chg] = df.groupby(granularity_columns)[metric_pct_chg].shift(-1)"
   ]
  },
  {
   "cell_type": "code",
   "execution_count": 87,
   "metadata": {},
   "outputs": [
    {
     "data": {
      "text/html": [
       "<div>\n",
       "<style scoped>\n",
       "    .dataframe tbody tr th:only-of-type {\n",
       "        vertical-align: middle;\n",
       "    }\n",
       "\n",
       "    .dataframe tbody tr th {\n",
       "        vertical-align: top;\n",
       "    }\n",
       "\n",
       "    .dataframe thead th {\n",
       "        text-align: right;\n",
       "    }\n",
       "</style>\n",
       "<table border=\"1\" class=\"dataframe\">\n",
       "  <thead>\n",
       "    <tr style=\"text-align: right;\">\n",
       "      <th></th>\n",
       "      <th>year</th>\n",
       "      <th>area_code</th>\n",
       "      <th>area</th>\n",
       "      <th>unit_price_wmean</th>\n",
       "      <th>unit_price_wmedian</th>\n",
       "      <th>unit_price_mean</th>\n",
       "      <th>unit_price_median</th>\n",
       "      <th>total_traded_area</th>\n",
       "      <th>count</th>\n",
       "      <th>taxable_income</th>\n",
       "      <th>taxpayer_count</th>\n",
       "      <th>taxable_income_per_taxpayer</th>\n",
       "      <th>taxable_income_growth</th>\n",
       "      <th>taxable_income_per_taxpayer_growth</th>\n",
       "      <th>unit_price_wmedian_pct_chg</th>\n",
       "      <th>upcoming_unit_price_wmedian</th>\n",
       "      <th>upcoming_unit_price_wmedian_pct_chg</th>\n",
       "    </tr>\n",
       "  </thead>\n",
       "  <tbody>\n",
       "    <tr>\n",
       "      <th>2434</th>\n",
       "      <td>2010</td>\n",
       "      <td>13101</td>\n",
       "      <td>Tokyo-to Chiyoda-ku</td>\n",
       "      <td>4.694486e+06</td>\n",
       "      <td>3.333333e+06</td>\n",
       "      <td>2.883100e+06</td>\n",
       "      <td>2.083035e+06</td>\n",
       "      <td>10700.0</td>\n",
       "      <td>46.0</td>\n",
       "      <td>217272181.0</td>\n",
       "      <td>28171.0</td>\n",
       "      <td>7712.618686</td>\n",
       "      <td>-0.034085</td>\n",
       "      <td>-0.044303</td>\n",
       "      <td>0.000000</td>\n",
       "      <td>2.000000e+06</td>\n",
       "      <td>-0.400000</td>\n",
       "    </tr>\n",
       "    <tr>\n",
       "      <th>2379</th>\n",
       "      <td>2011</td>\n",
       "      <td>13101</td>\n",
       "      <td>Tokyo-to Chiyoda-ku</td>\n",
       "      <td>2.348582e+06</td>\n",
       "      <td>2.000000e+06</td>\n",
       "      <td>1.944476e+06</td>\n",
       "      <td>1.545455e+06</td>\n",
       "      <td>13575.0</td>\n",
       "      <td>61.0</td>\n",
       "      <td>233634297.0</td>\n",
       "      <td>28440.0</td>\n",
       "      <td>8214.989346</td>\n",
       "      <td>0.075307</td>\n",
       "      <td>0.065136</td>\n",
       "      <td>-0.400000</td>\n",
       "      <td>1.911478e+06</td>\n",
       "      <td>-0.044261</td>\n",
       "    </tr>\n",
       "    <tr>\n",
       "      <th>2322</th>\n",
       "      <td>2012</td>\n",
       "      <td>13101</td>\n",
       "      <td>Tokyo-to Chiyoda-ku</td>\n",
       "      <td>2.684736e+06</td>\n",
       "      <td>1.911478e+06</td>\n",
       "      <td>1.964714e+06</td>\n",
       "      <td>1.488889e+06</td>\n",
       "      <td>10810.0</td>\n",
       "      <td>57.0</td>\n",
       "      <td>219420257.0</td>\n",
       "      <td>28761.0</td>\n",
       "      <td>7629.089983</td>\n",
       "      <td>-0.060839</td>\n",
       "      <td>-0.071321</td>\n",
       "      <td>-0.044261</td>\n",
       "      <td>2.916571e+06</td>\n",
       "      <td>0.525820</td>\n",
       "    </tr>\n",
       "    <tr>\n",
       "      <th>2263</th>\n",
       "      <td>2013</td>\n",
       "      <td>13101</td>\n",
       "      <td>Tokyo-to Chiyoda-ku</td>\n",
       "      <td>3.266448e+06</td>\n",
       "      <td>2.916571e+06</td>\n",
       "      <td>2.702967e+06</td>\n",
       "      <td>2.162162e+06</td>\n",
       "      <td>12190.0</td>\n",
       "      <td>63.0</td>\n",
       "      <td>233174299.0</td>\n",
       "      <td>29730.0</td>\n",
       "      <td>7843.064211</td>\n",
       "      <td>0.062684</td>\n",
       "      <td>0.028047</td>\n",
       "      <td>0.525820</td>\n",
       "      <td>3.460407e+06</td>\n",
       "      <td>0.186464</td>\n",
       "    </tr>\n",
       "    <tr>\n",
       "      <th>2205</th>\n",
       "      <td>2014</td>\n",
       "      <td>13101</td>\n",
       "      <td>Tokyo-to Chiyoda-ku</td>\n",
       "      <td>3.575147e+06</td>\n",
       "      <td>3.460407e+06</td>\n",
       "      <td>2.645518e+06</td>\n",
       "      <td>2.037500e+06</td>\n",
       "      <td>15330.0</td>\n",
       "      <td>68.0</td>\n",
       "      <td>280560533.0</td>\n",
       "      <td>31214.0</td>\n",
       "      <td>8988.291568</td>\n",
       "      <td>0.203222</td>\n",
       "      <td>0.146018</td>\n",
       "      <td>0.186464</td>\n",
       "      <td>3.000000e+06</td>\n",
       "      <td>-0.133050</td>\n",
       "    </tr>\n",
       "    <tr>\n",
       "      <th>2148</th>\n",
       "      <td>2015</td>\n",
       "      <td>13101</td>\n",
       "      <td>Tokyo-to Chiyoda-ku</td>\n",
       "      <td>3.761074e+06</td>\n",
       "      <td>3.000000e+06</td>\n",
       "      <td>2.865819e+06</td>\n",
       "      <td>2.124060e+06</td>\n",
       "      <td>11355.0</td>\n",
       "      <td>70.0</td>\n",
       "      <td>279917309.0</td>\n",
       "      <td>32993.0</td>\n",
       "      <td>8484.142364</td>\n",
       "      <td>-0.002293</td>\n",
       "      <td>-0.056090</td>\n",
       "      <td>-0.133050</td>\n",
       "      <td>3.562819e+06</td>\n",
       "      <td>0.187606</td>\n",
       "    </tr>\n",
       "    <tr>\n",
       "      <th>2090</th>\n",
       "      <td>2016</td>\n",
       "      <td>13101</td>\n",
       "      <td>Tokyo-to Chiyoda-ku</td>\n",
       "      <td>3.597246e+06</td>\n",
       "      <td>3.562819e+06</td>\n",
       "      <td>3.001553e+06</td>\n",
       "      <td>2.785714e+06</td>\n",
       "      <td>10530.0</td>\n",
       "      <td>64.0</td>\n",
       "      <td>314359478.0</td>\n",
       "      <td>34324.0</td>\n",
       "      <td>9158.591015</td>\n",
       "      <td>0.123044</td>\n",
       "      <td>0.079495</td>\n",
       "      <td>0.187606</td>\n",
       "      <td>4.118628e+06</td>\n",
       "      <td>0.156003</td>\n",
       "    </tr>\n",
       "    <tr>\n",
       "      <th>2032</th>\n",
       "      <td>2017</td>\n",
       "      <td>13101</td>\n",
       "      <td>Tokyo-to Chiyoda-ku</td>\n",
       "      <td>4.685343e+06</td>\n",
       "      <td>4.118628e+06</td>\n",
       "      <td>4.216382e+06</td>\n",
       "      <td>3.699248e+06</td>\n",
       "      <td>11530.0</td>\n",
       "      <td>66.0</td>\n",
       "      <td>333664476.0</td>\n",
       "      <td>35326.0</td>\n",
       "      <td>9445.294571</td>\n",
       "      <td>0.061411</td>\n",
       "      <td>0.031304</td>\n",
       "      <td>0.156003</td>\n",
       "      <td>3.158306e+06</td>\n",
       "      <td>-0.233166</td>\n",
       "    </tr>\n",
       "    <tr>\n",
       "      <th>1975</th>\n",
       "      <td>2018</td>\n",
       "      <td>13101</td>\n",
       "      <td>Tokyo-to Chiyoda-ku</td>\n",
       "      <td>4.059672e+06</td>\n",
       "      <td>3.158306e+06</td>\n",
       "      <td>3.767976e+06</td>\n",
       "      <td>3.061189e+06</td>\n",
       "      <td>11580.0</td>\n",
       "      <td>66.0</td>\n",
       "      <td>362690825.0</td>\n",
       "      <td>36299.0</td>\n",
       "      <td>9991.758037</td>\n",
       "      <td>0.086993</td>\n",
       "      <td>0.057856</td>\n",
       "      <td>-0.233166</td>\n",
       "      <td>4.417898e+06</td>\n",
       "      <td>0.398819</td>\n",
       "    </tr>\n",
       "    <tr>\n",
       "      <th>1917</th>\n",
       "      <td>2019</td>\n",
       "      <td>13101</td>\n",
       "      <td>Tokyo-to Chiyoda-ku</td>\n",
       "      <td>5.296680e+06</td>\n",
       "      <td>4.417898e+06</td>\n",
       "      <td>3.891026e+06</td>\n",
       "      <td>3.095455e+06</td>\n",
       "      <td>10995.0</td>\n",
       "      <td>64.0</td>\n",
       "      <td>412894018.0</td>\n",
       "      <td>38175.0</td>\n",
       "      <td>10815.822344</td>\n",
       "      <td>0.138419</td>\n",
       "      <td>0.082474</td>\n",
       "      <td>0.398819</td>\n",
       "      <td>4.112103e+06</td>\n",
       "      <td>-0.069217</td>\n",
       "    </tr>\n",
       "    <tr>\n",
       "      <th>1858</th>\n",
       "      <td>2020</td>\n",
       "      <td>13101</td>\n",
       "      <td>Tokyo-to Chiyoda-ku</td>\n",
       "      <td>5.530627e+06</td>\n",
       "      <td>4.112103e+06</td>\n",
       "      <td>4.429003e+06</td>\n",
       "      <td>3.500000e+06</td>\n",
       "      <td>5665.0</td>\n",
       "      <td>41.0</td>\n",
       "      <td>400984266.0</td>\n",
       "      <td>39873.0</td>\n",
       "      <td>10056.536152</td>\n",
       "      <td>-0.028845</td>\n",
       "      <td>-0.070201</td>\n",
       "      <td>-0.069217</td>\n",
       "      <td>3.789539e+06</td>\n",
       "      <td>-0.078443</td>\n",
       "    </tr>\n",
       "    <tr>\n",
       "      <th>1800</th>\n",
       "      <td>2021</td>\n",
       "      <td>13101</td>\n",
       "      <td>Tokyo-to Chiyoda-ku</td>\n",
       "      <td>4.455984e+06</td>\n",
       "      <td>3.789539e+06</td>\n",
       "      <td>4.202751e+06</td>\n",
       "      <td>3.344915e+06</td>\n",
       "      <td>7520.0</td>\n",
       "      <td>48.0</td>\n",
       "      <td>398238882.0</td>\n",
       "      <td>40423.0</td>\n",
       "      <td>9851.789377</td>\n",
       "      <td>-0.006847</td>\n",
       "      <td>-0.020360</td>\n",
       "      <td>-0.078443</td>\n",
       "      <td>5.000000e+06</td>\n",
       "      <td>0.319422</td>\n",
       "    </tr>\n",
       "    <tr>\n",
       "      <th>1743</th>\n",
       "      <td>2022</td>\n",
       "      <td>13101</td>\n",
       "      <td>Tokyo-to Chiyoda-ku</td>\n",
       "      <td>5.638722e+06</td>\n",
       "      <td>5.000000e+06</td>\n",
       "      <td>4.984633e+06</td>\n",
       "      <td>4.333333e+06</td>\n",
       "      <td>7980.0</td>\n",
       "      <td>52.0</td>\n",
       "      <td>NaN</td>\n",
       "      <td>NaN</td>\n",
       "      <td>NaN</td>\n",
       "      <td>NaN</td>\n",
       "      <td>NaN</td>\n",
       "      <td>0.319422</td>\n",
       "      <td>NaN</td>\n",
       "      <td>NaN</td>\n",
       "    </tr>\n",
       "  </tbody>\n",
       "</table>\n",
       "</div>"
      ],
      "text/plain": [
       "      year  area_code                 area  unit_price_wmean  \\\n",
       "2434  2010      13101  Tokyo-to Chiyoda-ku      4.694486e+06   \n",
       "2379  2011      13101  Tokyo-to Chiyoda-ku      2.348582e+06   \n",
       "2322  2012      13101  Tokyo-to Chiyoda-ku      2.684736e+06   \n",
       "2263  2013      13101  Tokyo-to Chiyoda-ku      3.266448e+06   \n",
       "2205  2014      13101  Tokyo-to Chiyoda-ku      3.575147e+06   \n",
       "2148  2015      13101  Tokyo-to Chiyoda-ku      3.761074e+06   \n",
       "2090  2016      13101  Tokyo-to Chiyoda-ku      3.597246e+06   \n",
       "2032  2017      13101  Tokyo-to Chiyoda-ku      4.685343e+06   \n",
       "1975  2018      13101  Tokyo-to Chiyoda-ku      4.059672e+06   \n",
       "1917  2019      13101  Tokyo-to Chiyoda-ku      5.296680e+06   \n",
       "1858  2020      13101  Tokyo-to Chiyoda-ku      5.530627e+06   \n",
       "1800  2021      13101  Tokyo-to Chiyoda-ku      4.455984e+06   \n",
       "1743  2022      13101  Tokyo-to Chiyoda-ku      5.638722e+06   \n",
       "\n",
       "      unit_price_wmedian  unit_price_mean  unit_price_median  \\\n",
       "2434        3.333333e+06     2.883100e+06       2.083035e+06   \n",
       "2379        2.000000e+06     1.944476e+06       1.545455e+06   \n",
       "2322        1.911478e+06     1.964714e+06       1.488889e+06   \n",
       "2263        2.916571e+06     2.702967e+06       2.162162e+06   \n",
       "2205        3.460407e+06     2.645518e+06       2.037500e+06   \n",
       "2148        3.000000e+06     2.865819e+06       2.124060e+06   \n",
       "2090        3.562819e+06     3.001553e+06       2.785714e+06   \n",
       "2032        4.118628e+06     4.216382e+06       3.699248e+06   \n",
       "1975        3.158306e+06     3.767976e+06       3.061189e+06   \n",
       "1917        4.417898e+06     3.891026e+06       3.095455e+06   \n",
       "1858        4.112103e+06     4.429003e+06       3.500000e+06   \n",
       "1800        3.789539e+06     4.202751e+06       3.344915e+06   \n",
       "1743        5.000000e+06     4.984633e+06       4.333333e+06   \n",
       "\n",
       "      total_traded_area  count  taxable_income  taxpayer_count  \\\n",
       "2434            10700.0   46.0     217272181.0         28171.0   \n",
       "2379            13575.0   61.0     233634297.0         28440.0   \n",
       "2322            10810.0   57.0     219420257.0         28761.0   \n",
       "2263            12190.0   63.0     233174299.0         29730.0   \n",
       "2205            15330.0   68.0     280560533.0         31214.0   \n",
       "2148            11355.0   70.0     279917309.0         32993.0   \n",
       "2090            10530.0   64.0     314359478.0         34324.0   \n",
       "2032            11530.0   66.0     333664476.0         35326.0   \n",
       "1975            11580.0   66.0     362690825.0         36299.0   \n",
       "1917            10995.0   64.0     412894018.0         38175.0   \n",
       "1858             5665.0   41.0     400984266.0         39873.0   \n",
       "1800             7520.0   48.0     398238882.0         40423.0   \n",
       "1743             7980.0   52.0             NaN             NaN   \n",
       "\n",
       "      taxable_income_per_taxpayer  taxable_income_growth  \\\n",
       "2434                  7712.618686              -0.034085   \n",
       "2379                  8214.989346               0.075307   \n",
       "2322                  7629.089983              -0.060839   \n",
       "2263                  7843.064211               0.062684   \n",
       "2205                  8988.291568               0.203222   \n",
       "2148                  8484.142364              -0.002293   \n",
       "2090                  9158.591015               0.123044   \n",
       "2032                  9445.294571               0.061411   \n",
       "1975                  9991.758037               0.086993   \n",
       "1917                 10815.822344               0.138419   \n",
       "1858                 10056.536152              -0.028845   \n",
       "1800                  9851.789377              -0.006847   \n",
       "1743                          NaN                    NaN   \n",
       "\n",
       "      taxable_income_per_taxpayer_growth  unit_price_wmedian_pct_chg  \\\n",
       "2434                           -0.044303                    0.000000   \n",
       "2379                            0.065136                   -0.400000   \n",
       "2322                           -0.071321                   -0.044261   \n",
       "2263                            0.028047                    0.525820   \n",
       "2205                            0.146018                    0.186464   \n",
       "2148                           -0.056090                   -0.133050   \n",
       "2090                            0.079495                    0.187606   \n",
       "2032                            0.031304                    0.156003   \n",
       "1975                            0.057856                   -0.233166   \n",
       "1917                            0.082474                    0.398819   \n",
       "1858                           -0.070201                   -0.069217   \n",
       "1800                           -0.020360                   -0.078443   \n",
       "1743                                 NaN                    0.319422   \n",
       "\n",
       "      upcoming_unit_price_wmedian  upcoming_unit_price_wmedian_pct_chg  \n",
       "2434                 2.000000e+06                            -0.400000  \n",
       "2379                 1.911478e+06                            -0.044261  \n",
       "2322                 2.916571e+06                             0.525820  \n",
       "2263                 3.460407e+06                             0.186464  \n",
       "2205                 3.000000e+06                            -0.133050  \n",
       "2148                 3.562819e+06                             0.187606  \n",
       "2090                 4.118628e+06                             0.156003  \n",
       "2032                 3.158306e+06                            -0.233166  \n",
       "1975                 4.417898e+06                             0.398819  \n",
       "1917                 4.112103e+06                            -0.069217  \n",
       "1858                 3.789539e+06                            -0.078443  \n",
       "1800                 5.000000e+06                             0.319422  \n",
       "1743                          NaN                                  NaN  "
      ]
     },
     "execution_count": 87,
     "metadata": {},
     "output_type": "execute_result"
    }
   ],
   "source": [
    "df[df[\"area_code\"] == 13101] # Tokyo-to Chiyoda-ku"
   ]
  },
  {
   "cell_type": "code",
   "execution_count": 88,
   "metadata": {},
   "outputs": [],
   "source": [
    "comparables = [\n",
    "    13102, # Tokyo-to Chuo-ku\n",
    "    13103, # Tokyo-to Minato-ku\n",
    "    15461, # Niigata-ken Yuzawa-Machi\n",
    "    20321 # Nagano-ken Karuisawa-machi\n",
    "]\n",
    "\n",
    "frequency_n = 500\n",
    "return_n = 10\n",
    "factor_n = 10\n",
    "\n",
    "frequency_df = get_most_active_municipalities(\n",
    "    df.copy(), n=frequency_n, keep=comparables\n",
    ")\n",
    "\n",
    "return_df = get_highest_growth_municipalities(\n",
    "    frequency_df.copy(),\n",
    "    column=metric_pct_chg,\n",
    "    cumulative_column=\"return_growth\",\n",
    "    end_year=2021,\n",
    "    n=return_n,\n",
    "    keep=comparables,\n",
    ")\n",
    "\n",
    "return_df[\"factor_growth\"] = get_cumulative_growth(return_df.copy(), factor_column)\n",
    "\n",
    "factor_growth_df = get_highest_growth_municipalities(\n",
    "    frequency_df.copy(),\n",
    "    column=factor_column,\n",
    "    cumulative_column=\"factor_growth\",\n",
    "    end_year=2021,\n",
    "    n=factor_n,\n",
    "    keep=comparables,\n",
    ")\n",
    "\n",
    "factor_growth_df[\"return_growth\"] = get_cumulative_growth(\n",
    "    factor_growth_df.copy(), metric_pct_chg\n",
    ")\n",
    "\n",
    "# Tokyo Area Codes are 13000 + n. Therefore, if area_code // 1000 == 13, it is in Tokyo\n",
    "tokyo_df = frequency_df[frequency_df[\"area_code\"] // 1000 == 13]"
   ]
  },
  {
   "cell_type": "code",
   "execution_count": 90,
   "metadata": {},
   "outputs": [
    {
     "data": {
      "application/vnd.plotly.v1+json": {
       "config": {
        "plotlyServerURL": "https://plot.ly"
       },
       "data": [
        {
         "hovertemplate": "variable=('Chiba-ken Isumi-shi', 12238)<br>year=%{x}<br>value=%{y}<extra></extra>",
         "legendgroup": "('Chiba-ken Isumi-shi', 12238)",
         "line": {
          "color": "#636efa",
          "dash": "solid"
         },
         "marker": {
          "symbol": "circle"
         },
         "mode": "lines+markers",
         "name": "('Chiba-ken Isumi-shi', 12238)",
         "orientation": "v",
         "showlegend": true,
         "type": "scatter",
         "visible": "legendonly",
         "x": [
          2010,
          2011,
          2012,
          2013,
          2014,
          2015,
          2016,
          2017,
          2018,
          2019,
          2020,
          2021,
          2022
         ],
         "xaxis": "x",
         "y": [
          1,
          1.2432405753579334,
          0.8358455017025817,
          1.133624709463751,
          0.8866625418197531,
          0.7659109498061695,
          0.9394739731022542,
          0.5089708404802745,
          0.6999287958550948,
          0.7449203873593686,
          0.6129304316792158,
          0.9308536465965944,
          0.8051877743431842
         ],
         "yaxis": "y"
        },
        {
         "hovertemplate": "variable=('Chiba-ken Nagareyama-shi', 12220)<br>year=%{x}<br>value=%{y}<extra></extra>",
         "legendgroup": "('Chiba-ken Nagareyama-shi', 12220)",
         "line": {
          "color": "#EF553B",
          "dash": "solid"
         },
         "marker": {
          "symbol": "circle"
         },
         "mode": "lines+markers",
         "name": "('Chiba-ken Nagareyama-shi', 12220)",
         "orientation": "v",
         "showlegend": true,
         "type": "scatter",
         "visible": "legendonly",
         "x": [
          2010,
          2011,
          2012,
          2013,
          2014,
          2015,
          2016,
          2017,
          2018,
          2019,
          2020,
          2021,
          2022
         ],
         "xaxis": "x",
         "y": [
          1,
          1.1055661919343989,
          1.0043118223200338,
          0.8869647426604984,
          0.9198152886849614,
          0.925159963404195,
          1.071798837602685,
          0.9324501140789859,
          1.0347921997705818,
          1.3413033606140286,
          1.3263191019808813,
          1.3947199214299144,
          1.3133900997088153
         ],
         "yaxis": "y"
        },
        {
         "hovertemplate": "variable=('Hokkaido Muroran-shi', 1205)<br>year=%{x}<br>value=%{y}<extra></extra>",
         "legendgroup": "('Hokkaido Muroran-shi', 1205)",
         "line": {
          "color": "#00cc96",
          "dash": "solid"
         },
         "marker": {
          "symbol": "circle"
         },
         "mode": "lines+markers",
         "name": "('Hokkaido Muroran-shi', 1205)",
         "orientation": "v",
         "showlegend": true,
         "type": "scatter",
         "visible": "legendonly",
         "x": [
          2010,
          2011,
          2012,
          2013,
          2014,
          2015,
          2016,
          2017,
          2018,
          2019,
          2020,
          2021,
          2022
         ],
         "xaxis": "x",
         "y": [
          1,
          0.7408288608423533,
          1.095387804034935,
          1.2534012441071183,
          0.8117212104614541,
          0.8216038039753001,
          0.811222052740352,
          0.863357885703983,
          1.1450327522178443,
          1.2076262296095728,
          0.897576338491031,
          0.7881220573210166,
          0.5748864667197987
         ],
         "yaxis": "y"
        },
        {
         "hovertemplate": "variable=('Hokkaido Otaru-shi', 1203)<br>year=%{x}<br>value=%{y}<extra></extra>",
         "legendgroup": "('Hokkaido Otaru-shi', 1203)",
         "line": {
          "color": "#ab63fa",
          "dash": "solid"
         },
         "marker": {
          "symbol": "circle"
         },
         "mode": "lines+markers",
         "name": "('Hokkaido Otaru-shi', 1203)",
         "orientation": "v",
         "showlegend": true,
         "type": "scatter",
         "visible": "legendonly",
         "x": [
          2010,
          2011,
          2012,
          2013,
          2014,
          2015,
          2016,
          2017,
          2018,
          2019,
          2020,
          2021,
          2022
         ],
         "xaxis": "x",
         "y": [
          1,
          0.752387283499278,
          0.6932879452439008,
          1.0262478525216052,
          0.8807464470713241,
          0.8405943283880478,
          0.8106425884559499,
          0.9565316064704845,
          1.2502359400992382,
          0.6304092426117818,
          0.9422323047570101,
          1.0269202808264721,
          1.2402463346066441
         ],
         "yaxis": "y"
        },
        {
         "hovertemplate": "variable=('Kanagawa-ken Aikawa-machi', 14401)<br>year=%{x}<br>value=%{y}<extra></extra>",
         "legendgroup": "('Kanagawa-ken Aikawa-machi', 14401)",
         "line": {
          "color": "#FFA15A",
          "dash": "solid"
         },
         "marker": {
          "symbol": "circle"
         },
         "mode": "lines+markers",
         "name": "('Kanagawa-ken Aikawa-machi', 14401)",
         "orientation": "v",
         "showlegend": true,
         "type": "scatter",
         "visible": "legendonly",
         "x": [
          2010,
          2011,
          2012,
          2013,
          2014,
          2015,
          2016,
          2017,
          2018,
          2019,
          2020,
          2021,
          2022
         ],
         "xaxis": "x",
         "y": [
          1,
          0.8792021563342318,
          1.615384615384615,
          0.9718213372305441,
          1.318833708664217,
          1.0313839285714284,
          1.1321040014751982,
          1.0293758480325643,
          0.8132156798959012,
          0.6410114275967935,
          1.4060609116579268,
          0.7943019480519481,
          0.9348208041958042
         ],
         "yaxis": "y"
        },
        {
         "hovertemplate": "variable=('Kanagawa-ken Miura-shi', 14210)<br>year=%{x}<br>value=%{y}<extra></extra>",
         "legendgroup": "('Kanagawa-ken Miura-shi', 14210)",
         "line": {
          "color": "#19d3f3",
          "dash": "solid"
         },
         "marker": {
          "symbol": "circle"
         },
         "mode": "lines+markers",
         "name": "('Kanagawa-ken Miura-shi', 14210)",
         "orientation": "v",
         "showlegend": true,
         "type": "scatter",
         "visible": "legendonly",
         "x": [
          2010,
          2011,
          2012,
          2013,
          2014,
          2015,
          2016,
          2017,
          2018,
          2019,
          2020,
          2021,
          2022
         ],
         "xaxis": "x",
         "y": [
          1,
          1.069417288494837,
          1.0519872359154927,
          1.4370104617627888,
          1.1970788143495115,
          1.1170485572332296,
          0.8890157885234493,
          1.2070283721529493,
          0.8162288755318367,
          0.5861138064180536,
          1.1200139268446494,
          1.8130417118093167,
          0.9473647665960506
         ],
         "yaxis": "y"
        },
        {
         "hovertemplate": "variable=('Nagano-ken Karuizawa-machi', 20321)<br>year=%{x}<br>value=%{y}<extra></extra>",
         "legendgroup": "('Nagano-ken Karuizawa-machi', 20321)",
         "line": {
          "color": "#FF6692",
          "dash": "solid"
         },
         "marker": {
          "symbol": "circle"
         },
         "mode": "lines+markers",
         "name": "('Nagano-ken Karuizawa-machi', 20321)",
         "orientation": "v",
         "showlegend": true,
         "type": "scatter",
         "visible": "legendonly",
         "x": [
          2010,
          2011,
          2012,
          2013,
          2014,
          2015,
          2016,
          2017,
          2018,
          2019,
          2020,
          2021,
          2022
         ],
         "xaxis": "x",
         "y": [
          1,
          0.9880183774634265,
          0.8022861727839626,
          1.0101345232462615,
          1.0086291993571155,
          0.8226355999624987,
          1.0373689886523925,
          1.020752986337807,
          1.008181720778849,
          0.977933904174655,
          1.1807353436596653,
          1.144021279168178,
          1.5411292089831945
         ],
         "yaxis": "y"
        },
        {
         "hovertemplate": "variable=('Niigata-ken Yuzawa-machi', 15461)<br>year=%{x}<br>value=%{y}<extra></extra>",
         "legendgroup": "('Niigata-ken Yuzawa-machi', 15461)",
         "line": {
          "color": "#B6E880",
          "dash": "solid"
         },
         "marker": {
          "symbol": "circle"
         },
         "mode": "lines+markers",
         "name": "('Niigata-ken Yuzawa-machi', 15461)",
         "orientation": "v",
         "showlegend": true,
         "type": "scatter",
         "visible": "legendonly",
         "x": [
          2010,
          2011,
          2012,
          2013,
          2014,
          2015,
          2016,
          2017,
          2018,
          2019,
          2020,
          2021,
          2022
         ],
         "xaxis": "x",
         "y": [
          1,
          1.5529848374255257,
          1.9858648738226132,
          0.4535959595149681,
          0.32998288715424845,
          0.417795145023896,
          1.0383480402468106,
          0.07788322545088332,
          0.4665108476881425,
          0.3780658827370839,
          0.08575752366239944,
          0.315443429571267,
          0.5462213898620016
         ],
         "yaxis": "y"
        },
        {
         "hovertemplate": "variable=('Okinawa-ken Okinawa-shi', 47211)<br>year=%{x}<br>value=%{y}<extra></extra>",
         "legendgroup": "('Okinawa-ken Okinawa-shi', 47211)",
         "line": {
          "color": "#FF97FF",
          "dash": "solid"
         },
         "marker": {
          "symbol": "circle"
         },
         "mode": "lines+markers",
         "name": "('Okinawa-ken Okinawa-shi', 47211)",
         "orientation": "v",
         "showlegend": true,
         "type": "scatter",
         "visible": "legendonly",
         "x": [
          2010,
          2011,
          2012,
          2013,
          2014,
          2015,
          2016,
          2017,
          2018,
          2019,
          2020,
          2021,
          2022
         ],
         "xaxis": "x",
         "y": [
          1,
          0.9276390173707473,
          0.9980066475368,
          0.9776077566719762,
          0.7621849148985071,
          1.04875074278762,
          1.0517762516399256,
          1.0054821881399951,
          1.2995552357338431,
          1.1401736087965804,
          1.3835690637324118,
          1.4245065540240083,
          1.735235405813331
         ],
         "yaxis": "y"
        },
        {
         "hovertemplate": "variable=('Okinawa-ken Uruma-shi', 47213)<br>year=%{x}<br>value=%{y}<extra></extra>",
         "legendgroup": "('Okinawa-ken Uruma-shi', 47213)",
         "line": {
          "color": "#FECB52",
          "dash": "solid"
         },
         "marker": {
          "symbol": "circle"
         },
         "mode": "lines+markers",
         "name": "('Okinawa-ken Uruma-shi', 47213)",
         "orientation": "v",
         "showlegend": true,
         "type": "scatter",
         "visible": "legendonly",
         "x": [
          2010,
          2011,
          2012,
          2013,
          2014,
          2015,
          2016,
          2017,
          2018,
          2019,
          2020,
          2021,
          2022
         ],
         "xaxis": "x",
         "y": [
          1,
          0.8014186751006249,
          1.2421438554713755,
          1.0283075608191037,
          1.0234082837755123,
          1.2256318452700523,
          1.4614743280875668,
          1.864769135891717,
          1.814653635258554,
          1.759576349710003,
          2.070688732235393,
          1.739310819975442,
          1.6115745258141798
         ],
         "yaxis": "y"
        },
        {
         "hovertemplate": "variable=('Osaka-fu Kawachinagano-shi', 27216)<br>year=%{x}<br>value=%{y}<extra></extra>",
         "legendgroup": "('Osaka-fu Kawachinagano-shi', 27216)",
         "line": {
          "color": "#636efa",
          "dash": "solid"
         },
         "marker": {
          "symbol": "circle"
         },
         "mode": "lines+markers",
         "name": "('Osaka-fu Kawachinagano-shi', 27216)",
         "orientation": "v",
         "showlegend": true,
         "type": "scatter",
         "visible": "legendonly",
         "x": [
          2010,
          2011,
          2012,
          2013,
          2014,
          2015,
          2016,
          2017,
          2018,
          2019,
          2020,
          2021,
          2022
         ],
         "xaxis": "x",
         "y": [
          1,
          1.0446408588335439,
          0.9968769519050594,
          0.6790852424395879,
          0.8464217529138628,
          0.8937773266708308,
          0.8668495233957039,
          0.7315136291770769,
          0.7479797026083503,
          0.779763763719104,
          0.7190067505885744,
          0.6610425244426316,
          0.8760850295771025
         ],
         "yaxis": "y"
        },
        {
         "hovertemplate": "variable=('Saitama-ken Moroyama-machi', 11326)<br>year=%{x}<br>value=%{y}<extra></extra>",
         "legendgroup": "('Saitama-ken Moroyama-machi', 11326)",
         "line": {
          "color": "#EF553B",
          "dash": "solid"
         },
         "marker": {
          "symbol": "circle"
         },
         "mode": "lines+markers",
         "name": "('Saitama-ken Moroyama-machi', 11326)",
         "orientation": "v",
         "showlegend": true,
         "type": "scatter",
         "visible": "legendonly",
         "x": [
          2010,
          2011,
          2012,
          2013,
          2014,
          2015,
          2016,
          2017,
          2018,
          2019,
          2020,
          2021,
          2022
         ],
         "xaxis": "x",
         "y": [
          1,
          0.8014830613424335,
          0.4479478584729981,
          1.0993365450583916,
          0.954092355650077,
          1.1184357541899441,
          0.640750500685148,
          0.8438766091814428,
          0.8619541058448972,
          0.5161436082813013,
          0.8874537202125459,
          0.633189385697345,
          0.9176908752327748
         ],
         "yaxis": "y"
        },
        {
         "hovertemplate": "variable=('Saitama-ken Satte-shi', 11240)<br>year=%{x}<br>value=%{y}<extra></extra>",
         "legendgroup": "('Saitama-ken Satte-shi', 11240)",
         "line": {
          "color": "#00cc96",
          "dash": "solid"
         },
         "marker": {
          "symbol": "circle"
         },
         "mode": "lines+markers",
         "name": "('Saitama-ken Satte-shi', 11240)",
         "orientation": "v",
         "showlegend": true,
         "type": "scatter",
         "visible": "legendonly",
         "x": [
          2010,
          2011,
          2012,
          2013,
          2014,
          2015,
          2016,
          2017,
          2018,
          2019,
          2020,
          2021,
          2022
         ],
         "xaxis": "x",
         "y": [
          1,
          0.8843132411268414,
          0.8311012089219754,
          0.8357482554714625,
          0.8370608137902021,
          0.9376007139846794,
          0.8579352938421902,
          0.7345388202222365,
          1.0157341068167358,
          0.9229507028286686,
          0.8879228566060268,
          0.9092030861709556,
          0.8680407816783122
         ],
         "yaxis": "y"
        },
        {
         "hovertemplate": "variable=('Shizuoka-ken Ito-shi', 22208)<br>year=%{x}<br>value=%{y}<extra></extra>",
         "legendgroup": "('Shizuoka-ken Ito-shi', 22208)",
         "line": {
          "color": "#ab63fa",
          "dash": "solid"
         },
         "marker": {
          "symbol": "circle"
         },
         "mode": "lines+markers",
         "name": "('Shizuoka-ken Ito-shi', 22208)",
         "orientation": "v",
         "showlegend": true,
         "type": "scatter",
         "visible": "legendonly",
         "x": [
          2010,
          2011,
          2012,
          2013,
          2014,
          2015,
          2016,
          2017,
          2018,
          2019,
          2020,
          2021,
          2022
         ],
         "xaxis": "x",
         "y": [
          1,
          0.8531697891072889,
          0.8428135118621517,
          0.8715369028876995,
          0.9994334727289272,
          0.9443511279874917,
          0.9323669465956701,
          0.8768974759883852,
          0.8181597952210332,
          0.7338543148411567,
          0.6956157862407862,
          0.8104977873017647,
          0.9081131677766379
         ],
         "yaxis": "y"
        },
        {
         "hovertemplate": "variable=('Tochigi-ken Nikko-shi', 9206)<br>year=%{x}<br>value=%{y}<extra></extra>",
         "legendgroup": "('Tochigi-ken Nikko-shi', 9206)",
         "line": {
          "color": "#FFA15A",
          "dash": "solid"
         },
         "marker": {
          "symbol": "circle"
         },
         "mode": "lines+markers",
         "name": "('Tochigi-ken Nikko-shi', 9206)",
         "orientation": "v",
         "showlegend": true,
         "type": "scatter",
         "visible": "legendonly",
         "x": [
          2010,
          2011,
          2012,
          2013,
          2014,
          2015,
          2016,
          2017,
          2018,
          2019,
          2020,
          2021,
          2022
         ],
         "xaxis": "x",
         "y": [
          1,
          1.00921729723408,
          0.9433044935410851,
          1.0588918105297938,
          0.9220717890502325,
          1.2811915238874925,
          0.8877080769805143,
          1.190101820655664,
          0.6089522430087313,
          0.7842372364263696,
          0.5338612991685573,
          0.8774179473821312,
          1.0384740073679906
         ],
         "yaxis": "y"
        },
        {
         "hovertemplate": "variable=('Tokyo-to Chiyoda-ku', 13101)<br>year=%{x}<br>value=%{y}<extra></extra>",
         "legendgroup": "('Tokyo-to Chiyoda-ku', 13101)",
         "line": {
          "color": "#19d3f3",
          "dash": "solid"
         },
         "marker": {
          "symbol": "circle"
         },
         "mode": "lines+markers",
         "name": "('Tokyo-to Chiyoda-ku', 13101)",
         "orientation": "v",
         "showlegend": true,
         "type": "scatter",
         "visible": "legendonly",
         "x": [
          2010,
          2011,
          2012,
          2013,
          2014,
          2015,
          2016,
          2017,
          2018,
          2019,
          2020,
          2021,
          2022
         ],
         "xaxis": "x",
         "y": [
          1,
          0.6000000000000001,
          0.5734433374844333,
          0.8749714285714287,
          1.038122096881221,
          0.9,
          1.0688457854406133,
          1.2355885078776647,
          0.94749173553719,
          1.3253694725159186,
          1.2336309523809528,
          1.13686170212766,
          1.5000000000000007
         ],
         "yaxis": "y"
        },
        {
         "hovertemplate": "variable=('Tokyo-to Chuo-ku', 13102)<br>year=%{x}<br>value=%{y}<extra></extra>",
         "legendgroup": "('Tokyo-to Chuo-ku', 13102)",
         "line": {
          "color": "#FF6692",
          "dash": "solid"
         },
         "marker": {
          "symbol": "circle"
         },
         "mode": "lines+markers",
         "name": "('Tokyo-to Chuo-ku', 13102)",
         "orientation": "v",
         "showlegend": true,
         "type": "scatter",
         "visible": "legendonly",
         "x": [
          2010,
          2011,
          2012,
          2013,
          2014,
          2015,
          2016,
          2017,
          2018,
          2019,
          2020,
          2021,
          2022
         ],
         "xaxis": "x",
         "y": [
          1,
          1.242524642357826,
          1.0297737464765204,
          1.2024944054856928,
          1.2677888625516816,
          1.4933543461929242,
          1.5591660650068533,
          2.050486191843554,
          2.253015236625119,
          2.571472043336662,
          2.0610700424399147,
          1.5746880686089544,
          1.9244240707764841
         ],
         "yaxis": "y"
        },
        {
         "hovertemplate": "variable=('Tokyo-to Koto-ku', 13108)<br>year=%{x}<br>value=%{y}<extra></extra>",
         "legendgroup": "('Tokyo-to Koto-ku', 13108)",
         "line": {
          "color": "#B6E880",
          "dash": "solid"
         },
         "marker": {
          "symbol": "circle"
         },
         "mode": "lines+markers",
         "name": "('Tokyo-to Koto-ku', 13108)",
         "orientation": "v",
         "showlegend": true,
         "type": "scatter",
         "visible": "legendonly",
         "x": [
          2010,
          2011,
          2012,
          2013,
          2014,
          2015,
          2016,
          2017,
          2018,
          2019,
          2020,
          2021,
          2022
         ],
         "xaxis": "x",
         "y": [
          1,
          0.951145337407172,
          0.8680431131019039,
          1.250102913036844,
          0.9936289533738627,
          1.3316349384098547,
          1.4652322295099454,
          1.522956326987682,
          1.3074308110702288,
          1.4991601343784997,
          1.6470793921984341,
          1.6961926091825308,
          1.4821866263635581
         ],
         "yaxis": "y"
        },
        {
         "hovertemplate": "variable=('Tokyo-to Minato-ku', 13103)<br>year=%{x}<br>value=%{y}<extra></extra>",
         "legendgroup": "('Tokyo-to Minato-ku', 13103)",
         "line": {
          "color": "#FF97FF",
          "dash": "solid"
         },
         "marker": {
          "symbol": "circle"
         },
         "mode": "lines+markers",
         "name": "('Tokyo-to Minato-ku', 13103)",
         "orientation": "v",
         "showlegend": true,
         "type": "scatter",
         "visible": "legendonly",
         "x": [
          2010,
          2011,
          2012,
          2013,
          2014,
          2015,
          2016,
          2017,
          2018,
          2019,
          2020,
          2021,
          2022
         ],
         "xaxis": "x",
         "y": [
          1,
          0.7729666583679643,
          0.7786549091369228,
          0.960785219094861,
          0.932394597694065,
          1.2654297580534108,
          1.0802486045706021,
          1.381510277464528,
          1.9339970033039342,
          1.481960696069607,
          1.4621343343095305,
          1.7843202589489715,
          1.667673096423566
         ],
         "yaxis": "y"
        },
        {
         "hovertemplate": "variable=('Tokyo-to Shibuya-ku', 13113)<br>year=%{x}<br>value=%{y}<extra></extra>",
         "legendgroup": "('Tokyo-to Shibuya-ku', 13113)",
         "line": {
          "color": "#FECB52",
          "dash": "solid"
         },
         "marker": {
          "symbol": "circle"
         },
         "mode": "lines+markers",
         "name": "('Tokyo-to Shibuya-ku', 13113)",
         "orientation": "v",
         "showlegend": true,
         "type": "scatter",
         "visible": "legendonly",
         "x": [
          2010,
          2011,
          2012,
          2013,
          2014,
          2015,
          2016,
          2017,
          2018,
          2019,
          2020,
          2021,
          2022
         ],
         "xaxis": "x",
         "y": [
          1,
          0.9150253082181935,
          0.8134782916637155,
          0.9761739499964586,
          0.9908228762554985,
          1.1612825058260408,
          1.2185436138501744,
          1.265410675921335,
          1.22966377322047,
          1.3142050796597802,
          1.814679330171157,
          1.8740029080546448,
          1.7160813540868782
         ],
         "yaxis": "y"
        },
        {
         "hovertemplate": "variable=('Tokyo-to Shinagawa-ku', 13109)<br>year=%{x}<br>value=%{y}<extra></extra>",
         "legendgroup": "('Tokyo-to Shinagawa-ku', 13109)",
         "line": {
          "color": "#636efa",
          "dash": "solid"
         },
         "marker": {
          "symbol": "circle"
         },
         "mode": "lines+markers",
         "name": "('Tokyo-to Shinagawa-ku', 13109)",
         "orientation": "v",
         "showlegend": true,
         "type": "scatter",
         "visible": "legendonly",
         "x": [
          2010,
          2011,
          2012,
          2013,
          2014,
          2015,
          2016,
          2017,
          2018,
          2019,
          2020,
          2021,
          2022
         ],
         "xaxis": "x",
         "y": [
          1,
          0.9304762770930236,
          0.9971553588391036,
          0.94322701190845,
          1.234625111118169,
          1.1191819892310129,
          1.0420110043289355,
          1.1202085733341418,
          1.374801430910083,
          1.2729642878797065,
          1.131523811448628,
          1.3220596880362947,
          1.3366125022736919
         ],
         "yaxis": "y"
        },
        {
         "hovertemplate": "variable=('Tokyo-to Sumida-ku', 13107)<br>year=%{x}<br>value=%{y}<extra></extra>",
         "legendgroup": "('Tokyo-to Sumida-ku', 13107)",
         "line": {
          "color": "#EF553B",
          "dash": "solid"
         },
         "marker": {
          "symbol": "circle"
         },
         "mode": "lines+markers",
         "name": "('Tokyo-to Sumida-ku', 13107)",
         "orientation": "v",
         "showlegend": true,
         "type": "scatter",
         "visible": "legendonly",
         "x": [
          2010,
          2011,
          2012,
          2013,
          2014,
          2015,
          2016,
          2017,
          2018,
          2019,
          2020,
          2021,
          2022
         ],
         "xaxis": "x",
         "y": [
          1,
          0.8645833333333334,
          0.8638528138528141,
          0.8671156004489338,
          1.027777777777778,
          1.0579428234600652,
          1.09457671957672,
          1.333333333333334,
          1.4165457184325112,
          1.5495495495495497,
          1.3333333333333337,
          1.255163161574363,
          1.6666666666666672
         ],
         "yaxis": "y"
        },
        {
         "hovertemplate": "variable=('Tokyo-to Taito-ku', 13106)<br>year=%{x}<br>value=%{y}<extra></extra>",
         "legendgroup": "('Tokyo-to Taito-ku', 13106)",
         "line": {
          "color": "#00cc96",
          "dash": "solid"
         },
         "marker": {
          "symbol": "circle"
         },
         "mode": "lines+markers",
         "name": "('Tokyo-to Taito-ku', 13106)",
         "orientation": "v",
         "showlegend": true,
         "type": "scatter",
         "visible": "legendonly",
         "x": [
          2010,
          2011,
          2012,
          2013,
          2014,
          2015,
          2016,
          2017,
          2018,
          2019,
          2020,
          2021,
          2022
         ],
         "xaxis": "x",
         "y": [
          1,
          1.0892601821969852,
          1.1034212887686463,
          1.1498003579787968,
          1.2483167390230585,
          1.1563403552251135,
          1.1313924432687885,
          1.519647502737538,
          1.560512185047501,
          1.9167454516872537,
          1.6715504045484362,
          1.6029785364681113,
          2.0287525281868257
         ],
         "yaxis": "y"
        }
       ],
       "layout": {
        "autosize": false,
        "height": 800,
        "hovermode": "closest",
        "legend": {
         "title": {
          "text": "variable"
         },
         "tracegroupgap": 0
        },
        "template": {
         "data": {
          "bar": [
           {
            "error_x": {
             "color": "#2a3f5f"
            },
            "error_y": {
             "color": "#2a3f5f"
            },
            "marker": {
             "line": {
              "color": "#E5ECF6",
              "width": 0.5
             },
             "pattern": {
              "fillmode": "overlay",
              "size": 10,
              "solidity": 0.2
             }
            },
            "type": "bar"
           }
          ],
          "barpolar": [
           {
            "marker": {
             "line": {
              "color": "#E5ECF6",
              "width": 0.5
             },
             "pattern": {
              "fillmode": "overlay",
              "size": 10,
              "solidity": 0.2
             }
            },
            "type": "barpolar"
           }
          ],
          "carpet": [
           {
            "aaxis": {
             "endlinecolor": "#2a3f5f",
             "gridcolor": "white",
             "linecolor": "white",
             "minorgridcolor": "white",
             "startlinecolor": "#2a3f5f"
            },
            "baxis": {
             "endlinecolor": "#2a3f5f",
             "gridcolor": "white",
             "linecolor": "white",
             "minorgridcolor": "white",
             "startlinecolor": "#2a3f5f"
            },
            "type": "carpet"
           }
          ],
          "choropleth": [
           {
            "colorbar": {
             "outlinewidth": 0,
             "ticks": ""
            },
            "type": "choropleth"
           }
          ],
          "contour": [
           {
            "colorbar": {
             "outlinewidth": 0,
             "ticks": ""
            },
            "colorscale": [
             [
              0,
              "#0d0887"
             ],
             [
              0.1111111111111111,
              "#46039f"
             ],
             [
              0.2222222222222222,
              "#7201a8"
             ],
             [
              0.3333333333333333,
              "#9c179e"
             ],
             [
              0.4444444444444444,
              "#bd3786"
             ],
             [
              0.5555555555555556,
              "#d8576b"
             ],
             [
              0.6666666666666666,
              "#ed7953"
             ],
             [
              0.7777777777777778,
              "#fb9f3a"
             ],
             [
              0.8888888888888888,
              "#fdca26"
             ],
             [
              1,
              "#f0f921"
             ]
            ],
            "type": "contour"
           }
          ],
          "contourcarpet": [
           {
            "colorbar": {
             "outlinewidth": 0,
             "ticks": ""
            },
            "type": "contourcarpet"
           }
          ],
          "heatmap": [
           {
            "colorbar": {
             "outlinewidth": 0,
             "ticks": ""
            },
            "colorscale": [
             [
              0,
              "#0d0887"
             ],
             [
              0.1111111111111111,
              "#46039f"
             ],
             [
              0.2222222222222222,
              "#7201a8"
             ],
             [
              0.3333333333333333,
              "#9c179e"
             ],
             [
              0.4444444444444444,
              "#bd3786"
             ],
             [
              0.5555555555555556,
              "#d8576b"
             ],
             [
              0.6666666666666666,
              "#ed7953"
             ],
             [
              0.7777777777777778,
              "#fb9f3a"
             ],
             [
              0.8888888888888888,
              "#fdca26"
             ],
             [
              1,
              "#f0f921"
             ]
            ],
            "type": "heatmap"
           }
          ],
          "heatmapgl": [
           {
            "colorbar": {
             "outlinewidth": 0,
             "ticks": ""
            },
            "colorscale": [
             [
              0,
              "#0d0887"
             ],
             [
              0.1111111111111111,
              "#46039f"
             ],
             [
              0.2222222222222222,
              "#7201a8"
             ],
             [
              0.3333333333333333,
              "#9c179e"
             ],
             [
              0.4444444444444444,
              "#bd3786"
             ],
             [
              0.5555555555555556,
              "#d8576b"
             ],
             [
              0.6666666666666666,
              "#ed7953"
             ],
             [
              0.7777777777777778,
              "#fb9f3a"
             ],
             [
              0.8888888888888888,
              "#fdca26"
             ],
             [
              1,
              "#f0f921"
             ]
            ],
            "type": "heatmapgl"
           }
          ],
          "histogram": [
           {
            "marker": {
             "pattern": {
              "fillmode": "overlay",
              "size": 10,
              "solidity": 0.2
             }
            },
            "type": "histogram"
           }
          ],
          "histogram2d": [
           {
            "colorbar": {
             "outlinewidth": 0,
             "ticks": ""
            },
            "colorscale": [
             [
              0,
              "#0d0887"
             ],
             [
              0.1111111111111111,
              "#46039f"
             ],
             [
              0.2222222222222222,
              "#7201a8"
             ],
             [
              0.3333333333333333,
              "#9c179e"
             ],
             [
              0.4444444444444444,
              "#bd3786"
             ],
             [
              0.5555555555555556,
              "#d8576b"
             ],
             [
              0.6666666666666666,
              "#ed7953"
             ],
             [
              0.7777777777777778,
              "#fb9f3a"
             ],
             [
              0.8888888888888888,
              "#fdca26"
             ],
             [
              1,
              "#f0f921"
             ]
            ],
            "type": "histogram2d"
           }
          ],
          "histogram2dcontour": [
           {
            "colorbar": {
             "outlinewidth": 0,
             "ticks": ""
            },
            "colorscale": [
             [
              0,
              "#0d0887"
             ],
             [
              0.1111111111111111,
              "#46039f"
             ],
             [
              0.2222222222222222,
              "#7201a8"
             ],
             [
              0.3333333333333333,
              "#9c179e"
             ],
             [
              0.4444444444444444,
              "#bd3786"
             ],
             [
              0.5555555555555556,
              "#d8576b"
             ],
             [
              0.6666666666666666,
              "#ed7953"
             ],
             [
              0.7777777777777778,
              "#fb9f3a"
             ],
             [
              0.8888888888888888,
              "#fdca26"
             ],
             [
              1,
              "#f0f921"
             ]
            ],
            "type": "histogram2dcontour"
           }
          ],
          "mesh3d": [
           {
            "colorbar": {
             "outlinewidth": 0,
             "ticks": ""
            },
            "type": "mesh3d"
           }
          ],
          "parcoords": [
           {
            "line": {
             "colorbar": {
              "outlinewidth": 0,
              "ticks": ""
             }
            },
            "type": "parcoords"
           }
          ],
          "pie": [
           {
            "automargin": true,
            "type": "pie"
           }
          ],
          "scatter": [
           {
            "fillpattern": {
             "fillmode": "overlay",
             "size": 10,
             "solidity": 0.2
            },
            "type": "scatter"
           }
          ],
          "scatter3d": [
           {
            "line": {
             "colorbar": {
              "outlinewidth": 0,
              "ticks": ""
             }
            },
            "marker": {
             "colorbar": {
              "outlinewidth": 0,
              "ticks": ""
             }
            },
            "type": "scatter3d"
           }
          ],
          "scattercarpet": [
           {
            "marker": {
             "colorbar": {
              "outlinewidth": 0,
              "ticks": ""
             }
            },
            "type": "scattercarpet"
           }
          ],
          "scattergeo": [
           {
            "marker": {
             "colorbar": {
              "outlinewidth": 0,
              "ticks": ""
             }
            },
            "type": "scattergeo"
           }
          ],
          "scattergl": [
           {
            "marker": {
             "colorbar": {
              "outlinewidth": 0,
              "ticks": ""
             }
            },
            "type": "scattergl"
           }
          ],
          "scattermapbox": [
           {
            "marker": {
             "colorbar": {
              "outlinewidth": 0,
              "ticks": ""
             }
            },
            "type": "scattermapbox"
           }
          ],
          "scatterpolar": [
           {
            "marker": {
             "colorbar": {
              "outlinewidth": 0,
              "ticks": ""
             }
            },
            "type": "scatterpolar"
           }
          ],
          "scatterpolargl": [
           {
            "marker": {
             "colorbar": {
              "outlinewidth": 0,
              "ticks": ""
             }
            },
            "type": "scatterpolargl"
           }
          ],
          "scatterternary": [
           {
            "marker": {
             "colorbar": {
              "outlinewidth": 0,
              "ticks": ""
             }
            },
            "type": "scatterternary"
           }
          ],
          "surface": [
           {
            "colorbar": {
             "outlinewidth": 0,
             "ticks": ""
            },
            "colorscale": [
             [
              0,
              "#0d0887"
             ],
             [
              0.1111111111111111,
              "#46039f"
             ],
             [
              0.2222222222222222,
              "#7201a8"
             ],
             [
              0.3333333333333333,
              "#9c179e"
             ],
             [
              0.4444444444444444,
              "#bd3786"
             ],
             [
              0.5555555555555556,
              "#d8576b"
             ],
             [
              0.6666666666666666,
              "#ed7953"
             ],
             [
              0.7777777777777778,
              "#fb9f3a"
             ],
             [
              0.8888888888888888,
              "#fdca26"
             ],
             [
              1,
              "#f0f921"
             ]
            ],
            "type": "surface"
           }
          ],
          "table": [
           {
            "cells": {
             "fill": {
              "color": "#EBF0F8"
             },
             "line": {
              "color": "white"
             }
            },
            "header": {
             "fill": {
              "color": "#C8D4E3"
             },
             "line": {
              "color": "white"
             }
            },
            "type": "table"
           }
          ]
         },
         "layout": {
          "annotationdefaults": {
           "arrowcolor": "#2a3f5f",
           "arrowhead": 0,
           "arrowwidth": 1
          },
          "autotypenumbers": "strict",
          "coloraxis": {
           "colorbar": {
            "outlinewidth": 0,
            "ticks": ""
           }
          },
          "colorscale": {
           "diverging": [
            [
             0,
             "#8e0152"
            ],
            [
             0.1,
             "#c51b7d"
            ],
            [
             0.2,
             "#de77ae"
            ],
            [
             0.3,
             "#f1b6da"
            ],
            [
             0.4,
             "#fde0ef"
            ],
            [
             0.5,
             "#f7f7f7"
            ],
            [
             0.6,
             "#e6f5d0"
            ],
            [
             0.7,
             "#b8e186"
            ],
            [
             0.8,
             "#7fbc41"
            ],
            [
             0.9,
             "#4d9221"
            ],
            [
             1,
             "#276419"
            ]
           ],
           "sequential": [
            [
             0,
             "#0d0887"
            ],
            [
             0.1111111111111111,
             "#46039f"
            ],
            [
             0.2222222222222222,
             "#7201a8"
            ],
            [
             0.3333333333333333,
             "#9c179e"
            ],
            [
             0.4444444444444444,
             "#bd3786"
            ],
            [
             0.5555555555555556,
             "#d8576b"
            ],
            [
             0.6666666666666666,
             "#ed7953"
            ],
            [
             0.7777777777777778,
             "#fb9f3a"
            ],
            [
             0.8888888888888888,
             "#fdca26"
            ],
            [
             1,
             "#f0f921"
            ]
           ],
           "sequentialminus": [
            [
             0,
             "#0d0887"
            ],
            [
             0.1111111111111111,
             "#46039f"
            ],
            [
             0.2222222222222222,
             "#7201a8"
            ],
            [
             0.3333333333333333,
             "#9c179e"
            ],
            [
             0.4444444444444444,
             "#bd3786"
            ],
            [
             0.5555555555555556,
             "#d8576b"
            ],
            [
             0.6666666666666666,
             "#ed7953"
            ],
            [
             0.7777777777777778,
             "#fb9f3a"
            ],
            [
             0.8888888888888888,
             "#fdca26"
            ],
            [
             1,
             "#f0f921"
            ]
           ]
          },
          "colorway": [
           "#636efa",
           "#EF553B",
           "#00cc96",
           "#ab63fa",
           "#FFA15A",
           "#19d3f3",
           "#FF6692",
           "#B6E880",
           "#FF97FF",
           "#FECB52"
          ],
          "font": {
           "color": "#2a3f5f"
          },
          "geo": {
           "bgcolor": "white",
           "lakecolor": "white",
           "landcolor": "#E5ECF6",
           "showlakes": true,
           "showland": true,
           "subunitcolor": "white"
          },
          "hoverlabel": {
           "align": "left"
          },
          "hovermode": "closest",
          "mapbox": {
           "style": "light"
          },
          "paper_bgcolor": "white",
          "plot_bgcolor": "#E5ECF6",
          "polar": {
           "angularaxis": {
            "gridcolor": "white",
            "linecolor": "white",
            "ticks": ""
           },
           "bgcolor": "#E5ECF6",
           "radialaxis": {
            "gridcolor": "white",
            "linecolor": "white",
            "ticks": ""
           }
          },
          "scene": {
           "xaxis": {
            "backgroundcolor": "#E5ECF6",
            "gridcolor": "white",
            "gridwidth": 2,
            "linecolor": "white",
            "showbackground": true,
            "ticks": "",
            "zerolinecolor": "white"
           },
           "yaxis": {
            "backgroundcolor": "#E5ECF6",
            "gridcolor": "white",
            "gridwidth": 2,
            "linecolor": "white",
            "showbackground": true,
            "ticks": "",
            "zerolinecolor": "white"
           },
           "zaxis": {
            "backgroundcolor": "#E5ECF6",
            "gridcolor": "white",
            "gridwidth": 2,
            "linecolor": "white",
            "showbackground": true,
            "ticks": "",
            "zerolinecolor": "white"
           }
          },
          "shapedefaults": {
           "line": {
            "color": "#2a3f5f"
           }
          },
          "ternary": {
           "aaxis": {
            "gridcolor": "white",
            "linecolor": "white",
            "ticks": ""
           },
           "baxis": {
            "gridcolor": "white",
            "linecolor": "white",
            "ticks": ""
           },
           "bgcolor": "#E5ECF6",
           "caxis": {
            "gridcolor": "white",
            "linecolor": "white",
            "ticks": ""
           }
          },
          "title": {
           "x": 0.05
          },
          "xaxis": {
           "automargin": true,
           "gridcolor": "white",
           "linecolor": "white",
           "ticks": "",
           "title": {
            "standoff": 15
           },
           "zerolinecolor": "white",
           "zerolinewidth": 2
          },
          "yaxis": {
           "automargin": true,
           "gridcolor": "white",
           "linecolor": "white",
           "ticks": "",
           "title": {
            "standoff": 15
           },
           "zerolinecolor": "white",
           "zerolinewidth": 2
          }
         }
        },
        "title": {
         "text": "Cumulative Price Growth for top and bottom 10 municipalities"
        },
        "width": 1600,
        "xaxis": {
         "anchor": "y",
         "domain": [
          0,
          1
         ],
         "title": {
          "text": "year"
         }
        },
        "yaxis": {
         "anchor": "x",
         "domain": [
          0,
          1
         ],
         "title": {
          "text": "value"
         }
        }
       }
      }
     },
     "metadata": {},
     "output_type": "display_data"
    }
   ],
   "source": [
    "plot_time_series(\n",
    "    factor_growth_df.copy(),\n",
    "    \"return_growth\",\n",
    "    group_by_columns,\n",
    "    granularity_columns,\n",
    "    f\"Cumulative Price Growth for top and bottom {return_n} municipalities\",\n",
    "    visible=\"legendonly\",\n",
    ")"
   ]
  },
  {
   "cell_type": "code",
   "execution_count": 85,
   "metadata": {},
   "outputs": [
    {
     "data": {
      "application/vnd.plotly.v1+json": {
       "config": {
        "plotlyServerURL": "https://plot.ly"
       },
       "data": [
        {
         "hovertemplate": "variable=('Aichi-ken Nagakute-shi', 23238)<br>year=%{x}<br>value=%{y}<extra></extra>",
         "legendgroup": "('Aichi-ken Nagakute-shi', 23238)",
         "line": {
          "color": "#636efa",
          "dash": "solid"
         },
         "marker": {
          "symbol": "circle"
         },
         "mode": "lines+markers",
         "name": "('Aichi-ken Nagakute-shi', 23238)",
         "orientation": "v",
         "showlegend": true,
         "type": "scatter",
         "x": [
          2006,
          2007,
          2008,
          2009,
          2010,
          2011,
          2012,
          2013,
          2014,
          2015,
          2016,
          2017,
          2018,
          2019,
          2020,
          2021,
          2022
         ],
         "xaxis": "x",
         "y": [
          1.0803819255832932,
          1.1268341092582859,
          1.2308318668508569,
          1.2156466486999786,
          1.1453311422994001,
          1.1525333199944876,
          1.1844121890027526,
          1.22710473073038,
          1.36280877079501,
          1.4144352403646732,
          1.4044195901343715,
          1.456591328145473,
          1.4995000215733174,
          1.5632703408540973,
          1.6348626426524495,
          1.6831288746837854,
          null
         ],
         "yaxis": "y"
        },
        {
         "hovertemplate": "variable=('Tokyo-to Chiyoda-ku', 13101)<br>year=%{x}<br>value=%{y}<extra></extra>",
         "legendgroup": "('Tokyo-to Chiyoda-ku', 13101)",
         "line": {
          "color": "#EF553B",
          "dash": "solid"
         },
         "marker": {
          "symbol": "circle"
         },
         "mode": "lines+markers",
         "name": "('Tokyo-to Chiyoda-ku', 13101)",
         "orientation": "v",
         "showlegend": true,
         "type": "scatter",
         "x": [
          2006,
          2007,
          2008,
          2009,
          2010,
          2011,
          2012,
          2013,
          2014,
          2015,
          2016,
          2017,
          2018,
          2019,
          2020,
          2021,
          2022
         ],
         "xaxis": "x",
         "y": [
          1.0969896970206856,
          1.2142771096626868,
          1.2980378897379397,
          1.1851493836320053,
          1.1447530163388602,
          1.2309609310312906,
          1.1560706938666845,
          1.228537316118483,
          1.478203582893975,
          1.4748145958143013,
          1.656281807449659,
          1.7579950345604767,
          1.9109276392691044,
          2.1754357615334636,
          2.1126862440246033,
          2.098221499387054,
          null
         ],
         "yaxis": "y"
        },
        {
         "hovertemplate": "variable=('Tokyo-to Chuo-ku', 13102)<br>year=%{x}<br>value=%{y}<extra></extra>",
         "legendgroup": "('Tokyo-to Chuo-ku', 13102)",
         "line": {
          "color": "#00cc96",
          "dash": "solid"
         },
         "marker": {
          "symbol": "circle"
         },
         "mode": "lines+markers",
         "name": "('Tokyo-to Chuo-ku', 13102)",
         "orientation": "v",
         "showlegend": true,
         "type": "scatter",
         "x": [
          2006,
          2007,
          2008,
          2009,
          2010,
          2011,
          2012,
          2013,
          2014,
          2015,
          2016,
          2017,
          2018,
          2019,
          2020,
          2021,
          2022
         ],
         "xaxis": "x",
         "y": [
          1.1240025771778486,
          1.270078271062457,
          1.3185648428938854,
          1.3927515349630892,
          1.256657242784291,
          1.285290421945725,
          1.33552835541579,
          1.4038987533966818,
          1.549500573495772,
          1.635394174068643,
          1.7690646506676548,
          1.9142006138541743,
          2.0590428973680095,
          2.282068503685727,
          2.3310339875073285,
          2.4692357640974367,
          null
         ],
         "yaxis": "y"
        },
        {
         "hovertemplate": "variable=('Tokyo-to Koto-ku', 13108)<br>year=%{x}<br>value=%{y}<extra></extra>",
         "legendgroup": "('Tokyo-to Koto-ku', 13108)",
         "line": {
          "color": "#ab63fa",
          "dash": "solid"
         },
         "marker": {
          "symbol": "circle"
         },
         "mode": "lines+markers",
         "name": "('Tokyo-to Koto-ku', 13108)",
         "orientation": "v",
         "showlegend": true,
         "type": "scatter",
         "x": [
          2006,
          2007,
          2008,
          2009,
          2010,
          2011,
          2012,
          2013,
          2014,
          2015,
          2016,
          2017,
          2018,
          2019,
          2020,
          2021,
          2022
         ],
         "xaxis": "x",
         "y": [
          1.1032946512469874,
          1.1749635843709079,
          1.2138654733732106,
          1.2410033776474425,
          1.2133810535184337,
          1.2208166713621662,
          1.2376706084791422,
          1.2668501352236667,
          1.3497983091361727,
          1.391189160562501,
          1.479163988645564,
          1.5235978002187687,
          1.6008891257193272,
          1.6765634814177393,
          1.7103012894171168,
          1.7892641828231544,
          null
         ],
         "yaxis": "y"
        },
        {
         "hovertemplate": "variable=('Tokyo-to Minato-ku', 13103)<br>year=%{x}<br>value=%{y}<extra></extra>",
         "legendgroup": "('Tokyo-to Minato-ku', 13103)",
         "line": {
          "color": "#FFA15A",
          "dash": "solid"
         },
         "marker": {
          "symbol": "circle"
         },
         "mode": "lines+markers",
         "name": "('Tokyo-to Minato-ku', 13103)",
         "orientation": "v",
         "showlegend": true,
         "type": "scatter",
         "x": [
          2006,
          2007,
          2008,
          2009,
          2010,
          2011,
          2012,
          2013,
          2014,
          2015,
          2016,
          2017,
          2018,
          2019,
          2020,
          2021,
          2022
         ],
         "xaxis": "x",
         "y": [
          1.1666716930423604,
          1.3154230093548844,
          1.4960306967175738,
          1.4395194913535108,
          1.2646732100171314,
          1.187894904583359,
          1.2419782747613326,
          1.2798787250720214,
          1.8441212559833429,
          1.5250840014044553,
          1.699469614952666,
          1.7572360129176148,
          1.8151023499853174,
          2.008138504143482,
          1.942948684508896,
          1.9337677513758629,
          null
         ],
         "yaxis": "y"
        },
        {
         "hovertemplate": "variable=('Tokyo-to Shibuya-ku', 13113)<br>year=%{x}<br>value=%{y}<extra></extra>",
         "legendgroup": "('Tokyo-to Shibuya-ku', 13113)",
         "line": {
          "color": "#19d3f3",
          "dash": "solid"
         },
         "marker": {
          "symbol": "circle"
         },
         "mode": "lines+markers",
         "name": "('Tokyo-to Shibuya-ku', 13113)",
         "orientation": "v",
         "showlegend": true,
         "type": "scatter",
         "x": [
          2006,
          2007,
          2008,
          2009,
          2010,
          2011,
          2012,
          2013,
          2014,
          2015,
          2016,
          2017,
          2018,
          2019,
          2020,
          2021,
          2022
         ],
         "xaxis": "x",
         "y": [
          1.1006718679895224,
          1.1974189227825995,
          1.1890093252129137,
          1.1426184969518034,
          0.9908434191492482,
          0.9993466035043088,
          1.0688005193673777,
          1.124682189871239,
          1.2438089247152586,
          1.2294693797927088,
          1.3210955794771149,
          1.3968059509803297,
          1.5183458172792466,
          1.5783376997758942,
          1.6183294025155743,
          1.67680819349192,
          null
         ],
         "yaxis": "y"
        },
        {
         "hovertemplate": "variable=('Tokyo-to Shinagawa-ku', 13109)<br>year=%{x}<br>value=%{y}<extra></extra>",
         "legendgroup": "('Tokyo-to Shinagawa-ku', 13109)",
         "line": {
          "color": "#FF6692",
          "dash": "solid"
         },
         "marker": {
          "symbol": "circle"
         },
         "mode": "lines+markers",
         "name": "('Tokyo-to Shinagawa-ku', 13109)",
         "orientation": "v",
         "showlegend": true,
         "type": "scatter",
         "x": [
          2006,
          2007,
          2008,
          2009,
          2010,
          2011,
          2012,
          2013,
          2014,
          2015,
          2016,
          2017,
          2018,
          2019,
          2020,
          2021,
          2022
         ],
         "xaxis": "x",
         "y": [
          1.0536152731291735,
          1.0986672157977835,
          1.1615410848441596,
          1.150184251310632,
          1.0805837338532533,
          1.0931390413873117,
          1.1065263044051052,
          1.1255443176249764,
          1.2149741587285097,
          1.2136557257613338,
          1.3284570631242185,
          1.3239386344667605,
          1.4063354236556582,
          1.4946425800923673,
          1.557284119566986,
          1.6194886244148987,
          null
         ],
         "yaxis": "y"
        },
        {
         "hovertemplate": "variable=('Tokyo-to Sumida-ku', 13107)<br>year=%{x}<br>value=%{y}<extra></extra>",
         "legendgroup": "('Tokyo-to Sumida-ku', 13107)",
         "line": {
          "color": "#B6E880",
          "dash": "solid"
         },
         "marker": {
          "symbol": "circle"
         },
         "mode": "lines+markers",
         "name": "('Tokyo-to Sumida-ku', 13107)",
         "orientation": "v",
         "showlegend": true,
         "type": "scatter",
         "x": [
          2006,
          2007,
          2008,
          2009,
          2010,
          2011,
          2012,
          2013,
          2014,
          2015,
          2016,
          2017,
          2018,
          2019,
          2020,
          2021,
          2022
         ],
         "xaxis": "x",
         "y": [
          1.0641956390890746,
          1.1189026000540054,
          1.154317518268276,
          1.1672182102565827,
          1.1210799016006383,
          1.1181356685693762,
          1.1303397334326415,
          1.1583341924535997,
          1.2209621730711153,
          1.268522441653773,
          1.3281153506068435,
          1.3756739295449614,
          1.4495885659398415,
          1.515023717294922,
          1.5790510787561673,
          1.6474195287658673,
          null
         ],
         "yaxis": "y"
        },
        {
         "hovertemplate": "variable=('Tokyo-to Taito-ku', 13106)<br>year=%{x}<br>value=%{y}<extra></extra>",
         "legendgroup": "('Tokyo-to Taito-ku', 13106)",
         "line": {
          "color": "#FF97FF",
          "dash": "solid"
         },
         "marker": {
          "symbol": "circle"
         },
         "mode": "lines+markers",
         "name": "('Tokyo-to Taito-ku', 13106)",
         "orientation": "v",
         "showlegend": true,
         "type": "scatter",
         "x": [
          2006,
          2007,
          2008,
          2009,
          2010,
          2011,
          2012,
          2013,
          2014,
          2015,
          2016,
          2017,
          2018,
          2019,
          2020,
          2021,
          2022
         ],
         "xaxis": "x",
         "y": [
          1.075524368933073,
          1.1167752445231793,
          1.2582470573343492,
          1.1575277779102904,
          1.0948146375989813,
          1.1205732879456527,
          1.0993012335144168,
          1.1577660129166818,
          1.2172933056786597,
          1.2815665435084391,
          1.3435660733903143,
          1.4168171231998983,
          1.483109852960983,
          1.5668187438462002,
          1.6477401753709204,
          1.6935696479609885,
          null
         ],
         "yaxis": "y"
        },
        {
         "hovertemplate": "variable=('Chiba-ken Sammu-shi', 12237)<br>year=%{x}<br>value=%{y}<extra></extra>",
         "legendgroup": "('Chiba-ken Sammu-shi', 12237)",
         "line": {
          "color": "#FECB52",
          "dash": "solid"
         },
         "marker": {
          "symbol": "circle"
         },
         "mode": "lines+markers",
         "name": "('Chiba-ken Sammu-shi', 12237)",
         "orientation": "v",
         "showlegend": true,
         "type": "scatter",
         "x": [
          2006,
          2007,
          2008,
          2009,
          2010,
          2011,
          2012,
          2013,
          2014,
          2015,
          2016,
          2017,
          2018,
          2019,
          2020,
          2021,
          2022
         ],
         "xaxis": "x",
         "y": [
          null,
          0.9819101676411172,
          0.9845001990441867,
          0.9684078160236809,
          0.8946104864752741,
          0.8813966624254502,
          0.8656750066534641,
          0.8646759621411593,
          0.8607254489659636,
          0.8548184699862568,
          0.8694867660694493,
          0.8851899727089504,
          0.8869730980827125,
          0.8999212633477441,
          0.888218392717975,
          0.8944286120486475,
          null
         ],
         "yaxis": "y"
        },
        {
         "hovertemplate": "variable=('Kanagawa-ken Aikawa-machi', 14401)<br>year=%{x}<br>value=%{y}<extra></extra>",
         "legendgroup": "('Kanagawa-ken Aikawa-machi', 14401)",
         "line": {
          "color": "#636efa",
          "dash": "solid"
         },
         "marker": {
          "symbol": "circle"
         },
         "mode": "lines+markers",
         "name": "('Kanagawa-ken Aikawa-machi', 14401)",
         "orientation": "v",
         "showlegend": true,
         "type": "scatter",
         "x": [
          2006,
          2007,
          2008,
          2009,
          2010,
          2011,
          2012,
          2013,
          2014,
          2015,
          2016,
          2017,
          2018,
          2019,
          2020,
          2021,
          2022
         ],
         "xaxis": "x",
         "y": [
          null,
          1.0189985183410346,
          1.0211959112556888,
          0.987004217289478,
          0.8688638663529606,
          0.8731122816992537,
          0.8634058736751884,
          0.8622476789852165,
          0.8581433153816139,
          0.8549144050696041,
          0.8667527015941425,
          0.8642514731850971,
          0.8867823186710855,
          0.9033574635299593,
          0.8944807619831583,
          0.8996112969994785,
          null
         ],
         "yaxis": "y"
        },
        {
         "hovertemplate": "variable=('Kyoto-fu Joyo-shi', 26207)<br>year=%{x}<br>value=%{y}<extra></extra>",
         "legendgroup": "('Kyoto-fu Joyo-shi', 26207)",
         "line": {
          "color": "#EF553B",
          "dash": "solid"
         },
         "marker": {
          "symbol": "circle"
         },
         "mode": "lines+markers",
         "name": "('Kyoto-fu Joyo-shi', 26207)",
         "orientation": "v",
         "showlegend": true,
         "type": "scatter",
         "x": [
          2006,
          2007,
          2008,
          2009,
          2010,
          2011,
          2012,
          2013,
          2014,
          2015,
          2016,
          2017,
          2018,
          2019,
          2020,
          2021,
          2022
         ],
         "xaxis": "x",
         "y": [
          null,
          0.9955584361911245,
          0.990194425536053,
          0.9652063899172739,
          0.8920862216866131,
          0.8733354836805146,
          0.861322064124916,
          0.8371725423528679,
          0.8436025811112117,
          0.827465400537616,
          0.8574881658551495,
          0.8389573449839898,
          0.8615611260062933,
          0.863795070466559,
          0.8705195389285196,
          0.9005206763261538,
          null
         ],
         "yaxis": "y"
        },
        {
         "hovertemplate": "variable=('Nagano-ken Karuizawa-machi', 20321)<br>year=%{x}<br>value=%{y}<extra></extra>",
         "legendgroup": "('Nagano-ken Karuizawa-machi', 20321)",
         "line": {
          "color": "#00cc96",
          "dash": "solid"
         },
         "marker": {
          "symbol": "circle"
         },
         "mode": "lines+markers",
         "name": "('Nagano-ken Karuizawa-machi', 20321)",
         "orientation": "v",
         "showlegend": true,
         "type": "scatter",
         "x": [
          2006,
          2007,
          2008,
          2009,
          2010,
          2011,
          2012,
          2013,
          2014,
          2015,
          2016,
          2017,
          2018,
          2019,
          2020,
          2021,
          2022
         ],
         "xaxis": "x",
         "y": [
          null,
          1.0936635423272656,
          1.1296339898677878,
          1.1670010806720736,
          1.0347290736805228,
          1.0605177477430685,
          1.0567245679283739,
          1.0584640838390786,
          1.6587512261929556,
          1.1803351616401752,
          1.2954620479606467,
          1.28428462291897,
          1.3460798735877113,
          2.433867624294033,
          1.4768126930821366,
          1.6065846877950145,
          null
         ],
         "yaxis": "y"
        },
        {
         "hovertemplate": "variable=('Niigata-ken Kashiwazaki-shi', 15205)<br>year=%{x}<br>value=%{y}<extra></extra>",
         "legendgroup": "('Niigata-ken Kashiwazaki-shi', 15205)",
         "line": {
          "color": "#ab63fa",
          "dash": "solid"
         },
         "marker": {
          "symbol": "circle"
         },
         "mode": "lines+markers",
         "name": "('Niigata-ken Kashiwazaki-shi', 15205)",
         "orientation": "v",
         "showlegend": true,
         "type": "scatter",
         "x": [
          2006,
          2007,
          2008,
          2009,
          2010,
          2011,
          2012,
          2013,
          2014,
          2015,
          2016,
          2017,
          2018,
          2019,
          2020,
          2021,
          2022
         ],
         "xaxis": "x",
         "y": [
          null,
          1.0084740197550244,
          0.9220561817181337,
          0.9567818473165435,
          0.8965085577295706,
          0.8977509612975112,
          0.8936974479609582,
          0.8708585597854142,
          0.8715219321931139,
          0.8664383485818098,
          0.8828015182375789,
          0.8910703308582901,
          0.8948368953439843,
          0.8943836913204485,
          0.8787883509328684,
          0.8941240908468647,
          null
         ],
         "yaxis": "y"
        },
        {
         "hovertemplate": "variable=('Niigata-ken Yuzawa-machi', 15461)<br>year=%{x}<br>value=%{y}<extra></extra>",
         "legendgroup": "('Niigata-ken Yuzawa-machi', 15461)",
         "line": {
          "color": "#FFA15A",
          "dash": "solid"
         },
         "marker": {
          "symbol": "circle"
         },
         "mode": "lines+markers",
         "name": "('Niigata-ken Yuzawa-machi', 15461)",
         "orientation": "v",
         "showlegend": true,
         "type": "scatter",
         "x": [
          2006,
          2007,
          2008,
          2009,
          2010,
          2011,
          2012,
          2013,
          2014,
          2015,
          2016,
          2017,
          2018,
          2019,
          2020,
          2021,
          2022
         ],
         "xaxis": "x",
         "y": [
          null,
          1.0468642833595005,
          0.9621553254743058,
          0.9420793540322252,
          0.8903395979037543,
          0.8557146784792072,
          0.8307873384859522,
          0.875391193560869,
          0.890495591138574,
          0.8997037181124358,
          0.9122824357512077,
          0.9518229314686565,
          0.9458657161394687,
          0.9597403775752043,
          1.0019823350818893,
          0.9902645274752297,
          null
         ],
         "yaxis": "y"
        },
        {
         "hovertemplate": "variable=('Osaka-fu Kawachinagano-shi', 27216)<br>year=%{x}<br>value=%{y}<extra></extra>",
         "legendgroup": "('Osaka-fu Kawachinagano-shi', 27216)",
         "line": {
          "color": "#19d3f3",
          "dash": "solid"
         },
         "marker": {
          "symbol": "circle"
         },
         "mode": "lines+markers",
         "name": "('Osaka-fu Kawachinagano-shi', 27216)",
         "orientation": "v",
         "showlegend": true,
         "type": "scatter",
         "x": [
          2006,
          2007,
          2008,
          2009,
          2010,
          2011,
          2012,
          2013,
          2014,
          2015,
          2016,
          2017,
          2018,
          2019,
          2020,
          2021,
          2022
         ],
         "xaxis": "x",
         "y": [
          null,
          0.9781086057114818,
          0.966102985977074,
          0.9338144355009339,
          0.8660478401086692,
          0.8595276791619031,
          0.8376968489096344,
          0.8218577291285457,
          0.8175433099444622,
          0.8114816122986493,
          0.8111075525349399,
          0.8097828441314414,
          0.8099656136390646,
          0.812256251151675,
          0.8084069620158979,
          0.8128409013777126,
          null
         ],
         "yaxis": "y"
        },
        {
         "hovertemplate": "variable=('Saitama-ken Moroyama-machi', 11326)<br>year=%{x}<br>value=%{y}<extra></extra>",
         "legendgroup": "('Saitama-ken Moroyama-machi', 11326)",
         "line": {
          "color": "#FF6692",
          "dash": "solid"
         },
         "marker": {
          "symbol": "circle"
         },
         "mode": "lines+markers",
         "name": "('Saitama-ken Moroyama-machi', 11326)",
         "orientation": "v",
         "showlegend": true,
         "type": "scatter",
         "x": [
          2006,
          2007,
          2008,
          2009,
          2010,
          2011,
          2012,
          2013,
          2014,
          2015,
          2016,
          2017,
          2018,
          2019,
          2020,
          2021,
          2022
         ],
         "xaxis": "x",
         "y": [
          null,
          0.997683457261076,
          0.998380629338869,
          0.9809100169179971,
          0.9022839587240199,
          0.8849919764200207,
          0.8723890849399879,
          0.868017190223847,
          0.8634336974196798,
          0.8581721097356615,
          0.8599254630356579,
          0.8699785633808547,
          0.8618562001023983,
          0.8733072429366178,
          0.8754854609136463,
          0.8910744665857657,
          null
         ],
         "yaxis": "y"
        },
        {
         "hovertemplate": "variable=('Tochigi-ken Nikko-shi', 9206)<br>year=%{x}<br>value=%{y}<extra></extra>",
         "legendgroup": "('Tochigi-ken Nikko-shi', 9206)",
         "line": {
          "color": "#B6E880",
          "dash": "solid"
         },
         "marker": {
          "symbol": "circle"
         },
         "mode": "lines+markers",
         "name": "('Tochigi-ken Nikko-shi', 9206)",
         "orientation": "v",
         "showlegend": true,
         "type": "scatter",
         "x": [
          2006,
          2007,
          2008,
          2009,
          2010,
          2011,
          2012,
          2013,
          2014,
          2015,
          2016,
          2017,
          2018,
          2019,
          2020,
          2021,
          2022
         ],
         "xaxis": "x",
         "y": [
          null,
          0.9987095548958164,
          0.993388727903419,
          0.9690362545917994,
          0.8922805145450781,
          0.886959155251051,
          0.8604895208911869,
          0.8623287174625807,
          0.8738104550307512,
          0.8558918943468845,
          0.8649397857391506,
          0.8699633308568436,
          0.8821219758023414,
          0.8796798789511759,
          0.8752357355719543,
          0.8857338398269203,
          null
         ],
         "yaxis": "y"
        },
        {
         "hovertemplate": "variable=('Chiba-ken Isumi-shi', 12238)<br>year=%{x}<br>value=%{y}<extra></extra>",
         "legendgroup": "('Chiba-ken Isumi-shi', 12238)",
         "line": {
          "color": "#FF97FF",
          "dash": "solid"
         },
         "marker": {
          "symbol": "circle"
         },
         "mode": "lines+markers",
         "name": "('Chiba-ken Isumi-shi', 12238)",
         "orientation": "v",
         "showlegend": true,
         "type": "scatter",
         "x": [
          2006,
          2007,
          2008,
          2009,
          2010,
          2011,
          2012,
          2013,
          2014,
          2015,
          2016,
          2017,
          2018,
          2019,
          2020,
          2021,
          2022
         ],
         "xaxis": "x",
         "y": [
          null,
          null,
          0.9994509870080351,
          0.9815170304375238,
          0.9096632083655336,
          0.9013843015480151,
          0.8775036297282758,
          0.8636230044884984,
          0.8543092292336415,
          0.8547477317745173,
          0.8507100220205248,
          0.8554174458555238,
          0.8577183942703314,
          0.8588063109786878,
          0.8502637086912781,
          0.8767614217677032,
          null
         ],
         "yaxis": "y"
        },
        {
         "hovertemplate": "variable=('Hokkaido Muroran-shi', 1205)<br>year=%{x}<br>value=%{y}<extra></extra>",
         "legendgroup": "('Hokkaido Muroran-shi', 1205)",
         "line": {
          "color": "#FECB52",
          "dash": "solid"
         },
         "marker": {
          "symbol": "circle"
         },
         "mode": "lines+markers",
         "name": "('Hokkaido Muroran-shi', 1205)",
         "orientation": "v",
         "showlegend": true,
         "type": "scatter",
         "x": [
          2006,
          2007,
          2008,
          2009,
          2010,
          2011,
          2012,
          2013,
          2014,
          2015,
          2016,
          2017,
          2018,
          2019,
          2020,
          2021,
          2022
         ],
         "xaxis": "x",
         "y": [
          null,
          null,
          1.0062673278265537,
          0.9854457828760602,
          0.9387067234642877,
          0.9221556350333016,
          0.909750318447294,
          0.8894381129162313,
          0.8898648967585999,
          0.8742799199091978,
          0.8750815106915977,
          0.8765393109354895,
          0.8761639393081243,
          0.9346094035037432,
          0.8918244730339941,
          0.9001513781292784,
          null
         ],
         "yaxis": "y"
        },
        {
         "hovertemplate": "variable=('Hokkaido Otaru-shi', 1203)<br>year=%{x}<br>value=%{y}<extra></extra>",
         "legendgroup": "('Hokkaido Otaru-shi', 1203)",
         "line": {
          "color": "#636efa",
          "dash": "solid"
         },
         "marker": {
          "symbol": "circle"
         },
         "mode": "lines+markers",
         "name": "('Hokkaido Otaru-shi', 1203)",
         "orientation": "v",
         "showlegend": true,
         "type": "scatter",
         "x": [
          2006,
          2007,
          2008,
          2009,
          2010,
          2011,
          2012,
          2013,
          2014,
          2015,
          2016,
          2017,
          2018,
          2019,
          2020,
          2021,
          2022
         ],
         "xaxis": "x",
         "y": [
          null,
          null,
          0.9695504328155526,
          0.9213640092421009,
          0.8675114324100058,
          0.8469770070215892,
          0.841252684059397,
          0.8193133451795209,
          0.8187587507819449,
          0.8072916807368962,
          0.8073540782628555,
          0.8135961541350053,
          0.8214095481573561,
          0.825616643432104,
          0.8163392814787451,
          0.8397107985770315,
          null
         ],
         "yaxis": "y"
        }
       ],
       "layout": {
        "autosize": false,
        "height": 800,
        "hovermode": "closest",
        "legend": {
         "title": {
          "text": "variable"
         },
         "tracegroupgap": 0
        },
        "template": {
         "data": {
          "bar": [
           {
            "error_x": {
             "color": "#2a3f5f"
            },
            "error_y": {
             "color": "#2a3f5f"
            },
            "marker": {
             "line": {
              "color": "#E5ECF6",
              "width": 0.5
             },
             "pattern": {
              "fillmode": "overlay",
              "size": 10,
              "solidity": 0.2
             }
            },
            "type": "bar"
           }
          ],
          "barpolar": [
           {
            "marker": {
             "line": {
              "color": "#E5ECF6",
              "width": 0.5
             },
             "pattern": {
              "fillmode": "overlay",
              "size": 10,
              "solidity": 0.2
             }
            },
            "type": "barpolar"
           }
          ],
          "carpet": [
           {
            "aaxis": {
             "endlinecolor": "#2a3f5f",
             "gridcolor": "white",
             "linecolor": "white",
             "minorgridcolor": "white",
             "startlinecolor": "#2a3f5f"
            },
            "baxis": {
             "endlinecolor": "#2a3f5f",
             "gridcolor": "white",
             "linecolor": "white",
             "minorgridcolor": "white",
             "startlinecolor": "#2a3f5f"
            },
            "type": "carpet"
           }
          ],
          "choropleth": [
           {
            "colorbar": {
             "outlinewidth": 0,
             "ticks": ""
            },
            "type": "choropleth"
           }
          ],
          "contour": [
           {
            "colorbar": {
             "outlinewidth": 0,
             "ticks": ""
            },
            "colorscale": [
             [
              0,
              "#0d0887"
             ],
             [
              0.1111111111111111,
              "#46039f"
             ],
             [
              0.2222222222222222,
              "#7201a8"
             ],
             [
              0.3333333333333333,
              "#9c179e"
             ],
             [
              0.4444444444444444,
              "#bd3786"
             ],
             [
              0.5555555555555556,
              "#d8576b"
             ],
             [
              0.6666666666666666,
              "#ed7953"
             ],
             [
              0.7777777777777778,
              "#fb9f3a"
             ],
             [
              0.8888888888888888,
              "#fdca26"
             ],
             [
              1,
              "#f0f921"
             ]
            ],
            "type": "contour"
           }
          ],
          "contourcarpet": [
           {
            "colorbar": {
             "outlinewidth": 0,
             "ticks": ""
            },
            "type": "contourcarpet"
           }
          ],
          "heatmap": [
           {
            "colorbar": {
             "outlinewidth": 0,
             "ticks": ""
            },
            "colorscale": [
             [
              0,
              "#0d0887"
             ],
             [
              0.1111111111111111,
              "#46039f"
             ],
             [
              0.2222222222222222,
              "#7201a8"
             ],
             [
              0.3333333333333333,
              "#9c179e"
             ],
             [
              0.4444444444444444,
              "#bd3786"
             ],
             [
              0.5555555555555556,
              "#d8576b"
             ],
             [
              0.6666666666666666,
              "#ed7953"
             ],
             [
              0.7777777777777778,
              "#fb9f3a"
             ],
             [
              0.8888888888888888,
              "#fdca26"
             ],
             [
              1,
              "#f0f921"
             ]
            ],
            "type": "heatmap"
           }
          ],
          "heatmapgl": [
           {
            "colorbar": {
             "outlinewidth": 0,
             "ticks": ""
            },
            "colorscale": [
             [
              0,
              "#0d0887"
             ],
             [
              0.1111111111111111,
              "#46039f"
             ],
             [
              0.2222222222222222,
              "#7201a8"
             ],
             [
              0.3333333333333333,
              "#9c179e"
             ],
             [
              0.4444444444444444,
              "#bd3786"
             ],
             [
              0.5555555555555556,
              "#d8576b"
             ],
             [
              0.6666666666666666,
              "#ed7953"
             ],
             [
              0.7777777777777778,
              "#fb9f3a"
             ],
             [
              0.8888888888888888,
              "#fdca26"
             ],
             [
              1,
              "#f0f921"
             ]
            ],
            "type": "heatmapgl"
           }
          ],
          "histogram": [
           {
            "marker": {
             "pattern": {
              "fillmode": "overlay",
              "size": 10,
              "solidity": 0.2
             }
            },
            "type": "histogram"
           }
          ],
          "histogram2d": [
           {
            "colorbar": {
             "outlinewidth": 0,
             "ticks": ""
            },
            "colorscale": [
             [
              0,
              "#0d0887"
             ],
             [
              0.1111111111111111,
              "#46039f"
             ],
             [
              0.2222222222222222,
              "#7201a8"
             ],
             [
              0.3333333333333333,
              "#9c179e"
             ],
             [
              0.4444444444444444,
              "#bd3786"
             ],
             [
              0.5555555555555556,
              "#d8576b"
             ],
             [
              0.6666666666666666,
              "#ed7953"
             ],
             [
              0.7777777777777778,
              "#fb9f3a"
             ],
             [
              0.8888888888888888,
              "#fdca26"
             ],
             [
              1,
              "#f0f921"
             ]
            ],
            "type": "histogram2d"
           }
          ],
          "histogram2dcontour": [
           {
            "colorbar": {
             "outlinewidth": 0,
             "ticks": ""
            },
            "colorscale": [
             [
              0,
              "#0d0887"
             ],
             [
              0.1111111111111111,
              "#46039f"
             ],
             [
              0.2222222222222222,
              "#7201a8"
             ],
             [
              0.3333333333333333,
              "#9c179e"
             ],
             [
              0.4444444444444444,
              "#bd3786"
             ],
             [
              0.5555555555555556,
              "#d8576b"
             ],
             [
              0.6666666666666666,
              "#ed7953"
             ],
             [
              0.7777777777777778,
              "#fb9f3a"
             ],
             [
              0.8888888888888888,
              "#fdca26"
             ],
             [
              1,
              "#f0f921"
             ]
            ],
            "type": "histogram2dcontour"
           }
          ],
          "mesh3d": [
           {
            "colorbar": {
             "outlinewidth": 0,
             "ticks": ""
            },
            "type": "mesh3d"
           }
          ],
          "parcoords": [
           {
            "line": {
             "colorbar": {
              "outlinewidth": 0,
              "ticks": ""
             }
            },
            "type": "parcoords"
           }
          ],
          "pie": [
           {
            "automargin": true,
            "type": "pie"
           }
          ],
          "scatter": [
           {
            "fillpattern": {
             "fillmode": "overlay",
             "size": 10,
             "solidity": 0.2
            },
            "type": "scatter"
           }
          ],
          "scatter3d": [
           {
            "line": {
             "colorbar": {
              "outlinewidth": 0,
              "ticks": ""
             }
            },
            "marker": {
             "colorbar": {
              "outlinewidth": 0,
              "ticks": ""
             }
            },
            "type": "scatter3d"
           }
          ],
          "scattercarpet": [
           {
            "marker": {
             "colorbar": {
              "outlinewidth": 0,
              "ticks": ""
             }
            },
            "type": "scattercarpet"
           }
          ],
          "scattergeo": [
           {
            "marker": {
             "colorbar": {
              "outlinewidth": 0,
              "ticks": ""
             }
            },
            "type": "scattergeo"
           }
          ],
          "scattergl": [
           {
            "marker": {
             "colorbar": {
              "outlinewidth": 0,
              "ticks": ""
             }
            },
            "type": "scattergl"
           }
          ],
          "scattermapbox": [
           {
            "marker": {
             "colorbar": {
              "outlinewidth": 0,
              "ticks": ""
             }
            },
            "type": "scattermapbox"
           }
          ],
          "scatterpolar": [
           {
            "marker": {
             "colorbar": {
              "outlinewidth": 0,
              "ticks": ""
             }
            },
            "type": "scatterpolar"
           }
          ],
          "scatterpolargl": [
           {
            "marker": {
             "colorbar": {
              "outlinewidth": 0,
              "ticks": ""
             }
            },
            "type": "scatterpolargl"
           }
          ],
          "scatterternary": [
           {
            "marker": {
             "colorbar": {
              "outlinewidth": 0,
              "ticks": ""
             }
            },
            "type": "scatterternary"
           }
          ],
          "surface": [
           {
            "colorbar": {
             "outlinewidth": 0,
             "ticks": ""
            },
            "colorscale": [
             [
              0,
              "#0d0887"
             ],
             [
              0.1111111111111111,
              "#46039f"
             ],
             [
              0.2222222222222222,
              "#7201a8"
             ],
             [
              0.3333333333333333,
              "#9c179e"
             ],
             [
              0.4444444444444444,
              "#bd3786"
             ],
             [
              0.5555555555555556,
              "#d8576b"
             ],
             [
              0.6666666666666666,
              "#ed7953"
             ],
             [
              0.7777777777777778,
              "#fb9f3a"
             ],
             [
              0.8888888888888888,
              "#fdca26"
             ],
             [
              1,
              "#f0f921"
             ]
            ],
            "type": "surface"
           }
          ],
          "table": [
           {
            "cells": {
             "fill": {
              "color": "#EBF0F8"
             },
             "line": {
              "color": "white"
             }
            },
            "header": {
             "fill": {
              "color": "#C8D4E3"
             },
             "line": {
              "color": "white"
             }
            },
            "type": "table"
           }
          ]
         },
         "layout": {
          "annotationdefaults": {
           "arrowcolor": "#2a3f5f",
           "arrowhead": 0,
           "arrowwidth": 1
          },
          "autotypenumbers": "strict",
          "coloraxis": {
           "colorbar": {
            "outlinewidth": 0,
            "ticks": ""
           }
          },
          "colorscale": {
           "diverging": [
            [
             0,
             "#8e0152"
            ],
            [
             0.1,
             "#c51b7d"
            ],
            [
             0.2,
             "#de77ae"
            ],
            [
             0.3,
             "#f1b6da"
            ],
            [
             0.4,
             "#fde0ef"
            ],
            [
             0.5,
             "#f7f7f7"
            ],
            [
             0.6,
             "#e6f5d0"
            ],
            [
             0.7,
             "#b8e186"
            ],
            [
             0.8,
             "#7fbc41"
            ],
            [
             0.9,
             "#4d9221"
            ],
            [
             1,
             "#276419"
            ]
           ],
           "sequential": [
            [
             0,
             "#0d0887"
            ],
            [
             0.1111111111111111,
             "#46039f"
            ],
            [
             0.2222222222222222,
             "#7201a8"
            ],
            [
             0.3333333333333333,
             "#9c179e"
            ],
            [
             0.4444444444444444,
             "#bd3786"
            ],
            [
             0.5555555555555556,
             "#d8576b"
            ],
            [
             0.6666666666666666,
             "#ed7953"
            ],
            [
             0.7777777777777778,
             "#fb9f3a"
            ],
            [
             0.8888888888888888,
             "#fdca26"
            ],
            [
             1,
             "#f0f921"
            ]
           ],
           "sequentialminus": [
            [
             0,
             "#0d0887"
            ],
            [
             0.1111111111111111,
             "#46039f"
            ],
            [
             0.2222222222222222,
             "#7201a8"
            ],
            [
             0.3333333333333333,
             "#9c179e"
            ],
            [
             0.4444444444444444,
             "#bd3786"
            ],
            [
             0.5555555555555556,
             "#d8576b"
            ],
            [
             0.6666666666666666,
             "#ed7953"
            ],
            [
             0.7777777777777778,
             "#fb9f3a"
            ],
            [
             0.8888888888888888,
             "#fdca26"
            ],
            [
             1,
             "#f0f921"
            ]
           ]
          },
          "colorway": [
           "#636efa",
           "#EF553B",
           "#00cc96",
           "#ab63fa",
           "#FFA15A",
           "#19d3f3",
           "#FF6692",
           "#B6E880",
           "#FF97FF",
           "#FECB52"
          ],
          "font": {
           "color": "#2a3f5f"
          },
          "geo": {
           "bgcolor": "white",
           "lakecolor": "white",
           "landcolor": "#E5ECF6",
           "showlakes": true,
           "showland": true,
           "subunitcolor": "white"
          },
          "hoverlabel": {
           "align": "left"
          },
          "hovermode": "closest",
          "mapbox": {
           "style": "light"
          },
          "paper_bgcolor": "white",
          "plot_bgcolor": "#E5ECF6",
          "polar": {
           "angularaxis": {
            "gridcolor": "white",
            "linecolor": "white",
            "ticks": ""
           },
           "bgcolor": "#E5ECF6",
           "radialaxis": {
            "gridcolor": "white",
            "linecolor": "white",
            "ticks": ""
           }
          },
          "scene": {
           "xaxis": {
            "backgroundcolor": "#E5ECF6",
            "gridcolor": "white",
            "gridwidth": 2,
            "linecolor": "white",
            "showbackground": true,
            "ticks": "",
            "zerolinecolor": "white"
           },
           "yaxis": {
            "backgroundcolor": "#E5ECF6",
            "gridcolor": "white",
            "gridwidth": 2,
            "linecolor": "white",
            "showbackground": true,
            "ticks": "",
            "zerolinecolor": "white"
           },
           "zaxis": {
            "backgroundcolor": "#E5ECF6",
            "gridcolor": "white",
            "gridwidth": 2,
            "linecolor": "white",
            "showbackground": true,
            "ticks": "",
            "zerolinecolor": "white"
           }
          },
          "shapedefaults": {
           "line": {
            "color": "#2a3f5f"
           }
          },
          "ternary": {
           "aaxis": {
            "gridcolor": "white",
            "linecolor": "white",
            "ticks": ""
           },
           "baxis": {
            "gridcolor": "white",
            "linecolor": "white",
            "ticks": ""
           },
           "bgcolor": "#E5ECF6",
           "caxis": {
            "gridcolor": "white",
            "linecolor": "white",
            "ticks": ""
           }
          },
          "title": {
           "x": 0.05
          },
          "xaxis": {
           "automargin": true,
           "gridcolor": "white",
           "linecolor": "white",
           "ticks": "",
           "title": {
            "standoff": 15
           },
           "zerolinecolor": "white",
           "zerolinewidth": 2
          },
          "yaxis": {
           "automargin": true,
           "gridcolor": "white",
           "linecolor": "white",
           "ticks": "",
           "title": {
            "standoff": 15
           },
           "zerolinecolor": "white",
           "zerolinewidth": 2
          }
         }
        },
        "title": {
         "text": "cumulative taxable_income_growth for top and bottom 10 municipalities"
        },
        "width": 1600,
        "xaxis": {
         "anchor": "y",
         "domain": [
          0,
          1
         ],
         "title": {
          "text": "year"
         }
        },
        "yaxis": {
         "anchor": "x",
         "domain": [
          0,
          1
         ],
         "title": {
          "text": "value"
         }
        }
       }
      }
     },
     "metadata": {},
     "output_type": "display_data"
    }
   ],
   "source": [
    "plot_time_series(\n",
    "    factor_growth_df.copy(),\n",
    "    \"factor_growth\",\n",
    "    group_by_columns,\n",
    "    granularity_columns,\n",
    "    f\"cumulative {factor_column} for top and bottom {return_n} municipalities\",\n",
    "    # visible=\"legendonly\",\n",
    ")"
   ]
  },
  {
   "cell_type": "code",
   "execution_count": 58,
   "metadata": {},
   "outputs": [
    {
     "data": {
      "application/vnd.plotly.v1+json": {
       "config": {
        "plotlyServerURL": "https://plot.ly"
       },
       "data": [
        {
         "hovertemplate": "variable=('Fukuoka-ken Asakura-shi', 40228)<br>year=%{x}<br>value=%{y}<extra></extra>",
         "legendgroup": "('Fukuoka-ken Asakura-shi', 40228)",
         "line": {
          "color": "#636efa",
          "dash": "solid"
         },
         "marker": {
          "symbol": "circle"
         },
         "mode": "lines+markers",
         "name": "('Fukuoka-ken Asakura-shi', 40228)",
         "orientation": "v",
         "showlegend": true,
         "type": "scatter",
         "x": [
          2006,
          2007,
          2008,
          2009,
          2010,
          2011,
          2012,
          2013,
          2014,
          2015,
          2016,
          2017,
          2018,
          2019,
          2020,
          2021,
          2022
         ],
         "xaxis": "x",
         "y": [
          16,
          21,
          32,
          51,
          42,
          38,
          39,
          43,
          62,
          49,
          46,
          52,
          50,
          53,
          52,
          52,
          44
         ],
         "yaxis": "y"
        },
        {
         "hovertemplate": "variable=('Fukuoka-ken Fukutsu-shi', 40224)<br>year=%{x}<br>value=%{y}<extra></extra>",
         "legendgroup": "('Fukuoka-ken Fukutsu-shi', 40224)",
         "line": {
          "color": "#EF553B",
          "dash": "solid"
         },
         "marker": {
          "symbol": "circle"
         },
         "mode": "lines+markers",
         "name": "('Fukuoka-ken Fukutsu-shi', 40224)",
         "orientation": "v",
         "showlegend": true,
         "type": "scatter",
         "x": [
          2006,
          2007,
          2008,
          2009,
          2010,
          2011,
          2012,
          2013,
          2014,
          2015,
          2016,
          2017,
          2018,
          2019,
          2020,
          2021,
          2022
         ],
         "xaxis": "x",
         "y": [
          34,
          46,
          45,
          30,
          43,
          36,
          92,
          78,
          107,
          102,
          105,
          118,
          105,
          95,
          101,
          92,
          60
         ],
         "yaxis": "y"
        },
        {
         "hovertemplate": "variable=('Miyagi-ken Ishinomaki-shi', 4202)<br>year=%{x}<br>value=%{y}<extra></extra>",
         "legendgroup": "('Miyagi-ken Ishinomaki-shi', 4202)",
         "line": {
          "color": "#00cc96",
          "dash": "solid"
         },
         "marker": {
          "symbol": "circle"
         },
         "mode": "lines+markers",
         "name": "('Miyagi-ken Ishinomaki-shi', 4202)",
         "orientation": "v",
         "showlegend": true,
         "type": "scatter",
         "x": [
          2006,
          2007,
          2008,
          2009,
          2010,
          2011,
          2012,
          2013,
          2014,
          2015,
          2016,
          2017,
          2018,
          2019,
          2020,
          2021,
          2022
         ],
         "xaxis": "x",
         "y": [
          64,
          78,
          100,
          104,
          95,
          109,
          156,
          164,
          151,
          150,
          118,
          112,
          119,
          93,
          112,
          155,
          85
         ],
         "yaxis": "y"
        },
        {
         "hovertemplate": "variable=('Tokyo-to Chiyoda-ku', 13101)<br>year=%{x}<br>value=%{y}<extra></extra>",
         "legendgroup": "('Tokyo-to Chiyoda-ku', 13101)",
         "line": {
          "color": "#ab63fa",
          "dash": "solid"
         },
         "marker": {
          "symbol": "circle"
         },
         "mode": "lines+markers",
         "name": "('Tokyo-to Chiyoda-ku', 13101)",
         "orientation": "v",
         "showlegend": true,
         "type": "scatter",
         "x": [
          2006,
          2007,
          2008,
          2009,
          2010,
          2011,
          2012,
          2013,
          2014,
          2015,
          2016,
          2017,
          2018,
          2019,
          2020,
          2021,
          2022
         ],
         "xaxis": "x",
         "y": [
          99,
          76,
          59,
          53,
          46,
          61,
          57,
          63,
          68,
          70,
          64,
          66,
          66,
          64,
          41,
          48,
          52
         ],
         "yaxis": "y"
        },
        {
         "hovertemplate": "variable=('Tokyo-to Chuo-ku', 13102)<br>year=%{x}<br>value=%{y}<extra></extra>",
         "legendgroup": "('Tokyo-to Chuo-ku', 13102)",
         "line": {
          "color": "#FFA15A",
          "dash": "solid"
         },
         "marker": {
          "symbol": "circle"
         },
         "mode": "lines+markers",
         "name": "('Tokyo-to Chuo-ku', 13102)",
         "orientation": "v",
         "showlegend": true,
         "type": "scatter",
         "x": [
          2006,
          2007,
          2008,
          2009,
          2010,
          2011,
          2012,
          2013,
          2014,
          2015,
          2016,
          2017,
          2018,
          2019,
          2020,
          2021,
          2022
         ],
         "xaxis": "x",
         "y": [
          114,
          97,
          95,
          64,
          90,
          87,
          86,
          114,
          92,
          90,
          93,
          76,
          84,
          81,
          66,
          80,
          62
         ],
         "yaxis": "y"
        },
        {
         "hovertemplate": "variable=('Tokyo-to Minato-ku', 13103)<br>year=%{x}<br>value=%{y}<extra></extra>",
         "legendgroup": "('Tokyo-to Minato-ku', 13103)",
         "line": {
          "color": "#19d3f3",
          "dash": "solid"
         },
         "marker": {
          "symbol": "circle"
         },
         "mode": "lines+markers",
         "name": "('Tokyo-to Minato-ku', 13103)",
         "orientation": "v",
         "showlegend": true,
         "type": "scatter",
         "x": [
          2006,
          2007,
          2008,
          2009,
          2010,
          2011,
          2012,
          2013,
          2014,
          2015,
          2016,
          2017,
          2018,
          2019,
          2020,
          2021,
          2022
         ],
         "xaxis": "x",
         "y": [
          137,
          107,
          76,
          84,
          98,
          85,
          96,
          139,
          118,
          123,
          126,
          128,
          103,
          99,
          73,
          78,
          101
         ],
         "yaxis": "y"
        },
        {
         "hovertemplate": "variable=('Tokyo-to Sumida-ku', 13107)<br>year=%{x}<br>value=%{y}<extra></extra>",
         "legendgroup": "('Tokyo-to Sumida-ku', 13107)",
         "line": {
          "color": "#FF6692",
          "dash": "solid"
         },
         "marker": {
          "symbol": "circle"
         },
         "mode": "lines+markers",
         "name": "('Tokyo-to Sumida-ku', 13107)",
         "orientation": "v",
         "showlegend": true,
         "type": "scatter",
         "x": [
          2006,
          2007,
          2008,
          2009,
          2010,
          2011,
          2012,
          2013,
          2014,
          2015,
          2016,
          2017,
          2018,
          2019,
          2020,
          2021,
          2022
         ],
         "xaxis": "x",
         "y": [
          139,
          127,
          99,
          96,
          139,
          144,
          168,
          176,
          222,
          198,
          154,
          160,
          183,
          180,
          177,
          190,
          158
         ],
         "yaxis": "y"
        },
        {
         "hovertemplate": "variable=('Tokyo-to Taito-ku', 13106)<br>year=%{x}<br>value=%{y}<extra></extra>",
         "legendgroup": "('Tokyo-to Taito-ku', 13106)",
         "line": {
          "color": "#B6E880",
          "dash": "solid"
         },
         "marker": {
          "symbol": "circle"
         },
         "mode": "lines+markers",
         "name": "('Tokyo-to Taito-ku', 13106)",
         "orientation": "v",
         "showlegend": true,
         "type": "scatter",
         "x": [
          2006,
          2007,
          2008,
          2009,
          2010,
          2011,
          2012,
          2013,
          2014,
          2015,
          2016,
          2017,
          2018,
          2019,
          2020,
          2021,
          2022
         ],
         "xaxis": "x",
         "y": [
          82,
          88,
          80,
          104,
          133,
          117,
          128,
          151,
          155,
          154,
          151,
          170,
          137,
          161,
          157,
          126,
          124
         ],
         "yaxis": "y"
        },
        {
         "hovertemplate": "variable=('Chiba-ken Inzai-shi', 12231)<br>year=%{x}<br>value=%{y}<extra></extra>",
         "legendgroup": "('Chiba-ken Inzai-shi', 12231)",
         "line": {
          "color": "#FF97FF",
          "dash": "solid"
         },
         "marker": {
          "symbol": "circle"
         },
         "mode": "lines+markers",
         "name": "('Chiba-ken Inzai-shi', 12231)",
         "orientation": "v",
         "showlegend": true,
         "type": "scatter",
         "x": [
          2006,
          2007,
          2008,
          2009,
          2010,
          2011,
          2012,
          2013,
          2014,
          2015,
          2016,
          2017,
          2018,
          2019,
          2020,
          2021,
          2022
         ],
         "xaxis": "x",
         "y": [
          null,
          82,
          106,
          123,
          116,
          92,
          115,
          93,
          115,
          126,
          143,
          200,
          215,
          191,
          274,
          249,
          125
         ],
         "yaxis": "y"
        },
        {
         "hovertemplate": "variable=('Chiba-ken Nagareyama-shi', 12220)<br>year=%{x}<br>value=%{y}<extra></extra>",
         "legendgroup": "('Chiba-ken Nagareyama-shi', 12220)",
         "line": {
          "color": "#FECB52",
          "dash": "solid"
         },
         "marker": {
          "symbol": "circle"
         },
         "mode": "lines+markers",
         "name": "('Chiba-ken Nagareyama-shi', 12220)",
         "orientation": "v",
         "showlegend": true,
         "type": "scatter",
         "x": [
          2006,
          2007,
          2008,
          2009,
          2010,
          2011,
          2012,
          2013,
          2014,
          2015,
          2016,
          2017,
          2018,
          2019,
          2020,
          2021,
          2022
         ],
         "xaxis": "x",
         "y": [
          null,
          136,
          132,
          192,
          233,
          147,
          173,
          183,
          210,
          237,
          244,
          197,
          222,
          299,
          369,
          308,
          228
         ],
         "yaxis": "y"
        },
        {
         "hovertemplate": "variable=('Chiba-ken Sammu-shi', 12237)<br>year=%{x}<br>value=%{y}<extra></extra>",
         "legendgroup": "('Chiba-ken Sammu-shi', 12237)",
         "line": {
          "color": "#636efa",
          "dash": "solid"
         },
         "marker": {
          "symbol": "circle"
         },
         "mode": "lines+markers",
         "name": "('Chiba-ken Sammu-shi', 12237)",
         "orientation": "v",
         "showlegend": true,
         "type": "scatter",
         "x": [
          2006,
          2007,
          2008,
          2009,
          2010,
          2011,
          2012,
          2013,
          2014,
          2015,
          2016,
          2017,
          2018,
          2019,
          2020,
          2021,
          2022
         ],
         "xaxis": "x",
         "y": [
          null,
          13,
          59,
          66,
          53,
          48,
          60,
          54,
          61,
          63,
          57,
          50,
          53,
          68,
          59,
          70,
          79
         ],
         "yaxis": "y"
        },
        {
         "hovertemplate": "variable=('Chiba-ken Yachimata-shi', 12230)<br>year=%{x}<br>value=%{y}<extra></extra>",
         "legendgroup": "('Chiba-ken Yachimata-shi', 12230)",
         "line": {
          "color": "#EF553B",
          "dash": "solid"
         },
         "marker": {
          "symbol": "circle"
         },
         "mode": "lines+markers",
         "name": "('Chiba-ken Yachimata-shi', 12230)",
         "orientation": "v",
         "showlegend": true,
         "type": "scatter",
         "x": [
          2006,
          2007,
          2008,
          2009,
          2010,
          2011,
          2012,
          2013,
          2014,
          2015,
          2016,
          2017,
          2018,
          2019,
          2020,
          2021,
          2022
         ],
         "xaxis": "x",
         "y": [
          null,
          82,
          110,
          91,
          131,
          107,
          102,
          110,
          87,
          104,
          85,
          104,
          80,
          97,
          101,
          120,
          85
         ],
         "yaxis": "y"
        },
        {
         "hovertemplate": "variable=('Ehime-ken Uwajima-shi', 38203)<br>year=%{x}<br>value=%{y}<extra></extra>",
         "legendgroup": "('Ehime-ken Uwajima-shi', 38203)",
         "line": {
          "color": "#00cc96",
          "dash": "solid"
         },
         "marker": {
          "symbol": "circle"
         },
         "mode": "lines+markers",
         "name": "('Ehime-ken Uwajima-shi', 38203)",
         "orientation": "v",
         "showlegend": true,
         "type": "scatter",
         "x": [
          2006,
          2007,
          2008,
          2009,
          2010,
          2011,
          2012,
          2013,
          2014,
          2015,
          2016,
          2017,
          2018,
          2019,
          2020,
          2021,
          2022
         ],
         "xaxis": "x",
         "y": [
          null,
          41,
          42,
          50,
          53,
          41,
          59,
          56,
          51,
          48,
          55,
          53,
          39,
          53,
          59,
          61,
          39
         ],
         "yaxis": "y"
        },
        {
         "hovertemplate": "variable=('Fukushima-ken Minamisoma-shi', 7212)<br>year=%{x}<br>value=%{y}<extra></extra>",
         "legendgroup": "('Fukushima-ken Minamisoma-shi', 7212)",
         "line": {
          "color": "#ab63fa",
          "dash": "solid"
         },
         "marker": {
          "symbol": "circle"
         },
         "mode": "lines+markers",
         "name": "('Fukushima-ken Minamisoma-shi', 7212)",
         "orientation": "v",
         "showlegend": true,
         "type": "scatter",
         "x": [
          2006,
          2007,
          2008,
          2009,
          2010,
          2011,
          2012,
          2013,
          2014,
          2015,
          2016,
          2017,
          2018,
          2019,
          2020,
          2021,
          2022
         ],
         "xaxis": "x",
         "y": [
          null,
          26,
          28,
          43,
          42,
          29,
          48,
          58,
          63,
          76,
          66,
          51,
          51,
          42,
          47,
          31,
          44
         ],
         "yaxis": "y"
        },
        {
         "hovertemplate": "variable=('Ibaraki-ken Hitachi-shi', 8202)<br>year=%{x}<br>value=%{y}<extra></extra>",
         "legendgroup": "('Ibaraki-ken Hitachi-shi', 8202)",
         "line": {
          "color": "#FFA15A",
          "dash": "solid"
         },
         "marker": {
          "symbol": "circle"
         },
         "mode": "lines+markers",
         "name": "('Ibaraki-ken Hitachi-shi', 8202)",
         "orientation": "v",
         "showlegend": true,
         "type": "scatter",
         "x": [
          2006,
          2007,
          2008,
          2009,
          2010,
          2011,
          2012,
          2013,
          2014,
          2015,
          2016,
          2017,
          2018,
          2019,
          2020,
          2021,
          2022
         ],
         "xaxis": "x",
         "y": [
          null,
          59,
          99,
          136,
          104,
          72,
          122,
          102,
          109,
          140,
          145,
          139,
          127,
          125,
          127,
          179,
          149
         ],
         "yaxis": "y"
        },
        {
         "hovertemplate": "variable=('Ibaraki-ken Hokota-shi', 8234)<br>year=%{x}<br>value=%{y}<extra></extra>",
         "legendgroup": "('Ibaraki-ken Hokota-shi', 8234)",
         "line": {
          "color": "#19d3f3",
          "dash": "solid"
         },
         "marker": {
          "symbol": "circle"
         },
         "mode": "lines+markers",
         "name": "('Ibaraki-ken Hokota-shi', 8234)",
         "orientation": "v",
         "showlegend": true,
         "type": "scatter",
         "x": [
          2006,
          2007,
          2008,
          2009,
          2010,
          2011,
          2012,
          2013,
          2014,
          2015,
          2016,
          2017,
          2018,
          2019,
          2020,
          2021,
          2022
         ],
         "xaxis": "x",
         "y": [
          null,
          31,
          19,
          100,
          93,
          51,
          71,
          83,
          57,
          71,
          74,
          67,
          80,
          114,
          94,
          104,
          89
         ],
         "yaxis": "y"
        },
        {
         "hovertemplate": "variable=('Ibaraki-ken Tsukubamirai-shi', 8235)<br>year=%{x}<br>value=%{y}<extra></extra>",
         "legendgroup": "('Ibaraki-ken Tsukubamirai-shi', 8235)",
         "line": {
          "color": "#FF6692",
          "dash": "solid"
         },
         "marker": {
          "symbol": "circle"
         },
         "mode": "lines+markers",
         "name": "('Ibaraki-ken Tsukubamirai-shi', 8235)",
         "orientation": "v",
         "showlegend": true,
         "type": "scatter",
         "x": [
          2006,
          2007,
          2008,
          2009,
          2010,
          2011,
          2012,
          2013,
          2014,
          2015,
          2016,
          2017,
          2018,
          2019,
          2020,
          2021,
          2022
         ],
         "xaxis": "x",
         "y": [
          null,
          23,
          51,
          26,
          34,
          23,
          29,
          57,
          66,
          63,
          56,
          58,
          56,
          65,
          81,
          105,
          104
         ],
         "yaxis": "y"
        },
        {
         "hovertemplate": "variable=('Kyoto-fu Maizuru-shi', 26202)<br>year=%{x}<br>value=%{y}<extra></extra>",
         "legendgroup": "('Kyoto-fu Maizuru-shi', 26202)",
         "line": {
          "color": "#B6E880",
          "dash": "solid"
         },
         "marker": {
          "symbol": "circle"
         },
         "mode": "lines+markers",
         "name": "('Kyoto-fu Maizuru-shi', 26202)",
         "orientation": "v",
         "showlegend": true,
         "type": "scatter",
         "x": [
          2006,
          2007,
          2008,
          2009,
          2010,
          2011,
          2012,
          2013,
          2014,
          2015,
          2016,
          2017,
          2018,
          2019,
          2020,
          2021,
          2022
         ],
         "xaxis": "x",
         "y": [
          null,
          40,
          46,
          56,
          68,
          65,
          68,
          74,
          63,
          91,
          72,
          65,
          64,
          69,
          79,
          79,
          72
         ],
         "yaxis": "y"
        },
        {
         "hovertemplate": "variable=('Nagano-ken Karuizawa-machi', 20321)<br>year=%{x}<br>value=%{y}<extra></extra>",
         "legendgroup": "('Nagano-ken Karuizawa-machi', 20321)",
         "line": {
          "color": "#FF97FF",
          "dash": "solid"
         },
         "marker": {
          "symbol": "circle"
         },
         "mode": "lines+markers",
         "name": "('Nagano-ken Karuizawa-machi', 20321)",
         "orientation": "v",
         "showlegend": true,
         "type": "scatter",
         "x": [
          2006,
          2007,
          2008,
          2009,
          2010,
          2011,
          2012,
          2013,
          2014,
          2015,
          2016,
          2017,
          2018,
          2019,
          2020,
          2021,
          2022
         ],
         "xaxis": "x",
         "y": [
          null,
          76,
          78,
          80,
          102,
          122,
          132,
          151,
          121,
          117,
          131,
          121,
          134,
          122,
          172,
          171,
          132
         ],
         "yaxis": "y"
        },
        {
         "hovertemplate": "variable=('Niigata-ken Yuzawa-machi', 15461)<br>year=%{x}<br>value=%{y}<extra></extra>",
         "legendgroup": "('Niigata-ken Yuzawa-machi', 15461)",
         "line": {
          "color": "#FECB52",
          "dash": "solid"
         },
         "marker": {
          "symbol": "circle"
         },
         "mode": "lines+markers",
         "name": "('Niigata-ken Yuzawa-machi', 15461)",
         "orientation": "v",
         "showlegend": true,
         "type": "scatter",
         "x": [
          2006,
          2007,
          2008,
          2009,
          2010,
          2011,
          2012,
          2013,
          2014,
          2015,
          2016,
          2017,
          2018,
          2019,
          2020,
          2021,
          2022
         ],
         "xaxis": "x",
         "y": [
          null,
          5,
          9,
          10,
          13,
          9,
          2,
          10,
          4,
          7,
          8,
          5,
          11,
          13,
          7,
          4,
          9
         ],
         "yaxis": "y"
        },
        {
         "hovertemplate": "variable=('Shiga-ken Konan-shi', 25211)<br>year=%{x}<br>value=%{y}<extra></extra>",
         "legendgroup": "('Shiga-ken Konan-shi', 25211)",
         "line": {
          "color": "#636efa",
          "dash": "solid"
         },
         "marker": {
          "symbol": "circle"
         },
         "mode": "lines+markers",
         "name": "('Shiga-ken Konan-shi', 25211)",
         "orientation": "v",
         "showlegend": true,
         "type": "scatter",
         "x": [
          2006,
          2007,
          2008,
          2009,
          2010,
          2011,
          2012,
          2013,
          2014,
          2015,
          2016,
          2017,
          2018,
          2019,
          2020,
          2021,
          2022
         ],
         "xaxis": "x",
         "y": [
          null,
          21,
          61,
          51,
          53,
          47,
          65,
          53,
          51,
          62,
          39,
          57,
          60,
          53,
          62,
          53,
          52
         ],
         "yaxis": "y"
        }
       ],
       "layout": {
        "autosize": false,
        "height": 800,
        "hovermode": "closest",
        "legend": {
         "title": {
          "text": "variable"
         },
         "tracegroupgap": 0
        },
        "template": {
         "data": {
          "bar": [
           {
            "error_x": {
             "color": "#2a3f5f"
            },
            "error_y": {
             "color": "#2a3f5f"
            },
            "marker": {
             "line": {
              "color": "#E5ECF6",
              "width": 0.5
             },
             "pattern": {
              "fillmode": "overlay",
              "size": 10,
              "solidity": 0.2
             }
            },
            "type": "bar"
           }
          ],
          "barpolar": [
           {
            "marker": {
             "line": {
              "color": "#E5ECF6",
              "width": 0.5
             },
             "pattern": {
              "fillmode": "overlay",
              "size": 10,
              "solidity": 0.2
             }
            },
            "type": "barpolar"
           }
          ],
          "carpet": [
           {
            "aaxis": {
             "endlinecolor": "#2a3f5f",
             "gridcolor": "white",
             "linecolor": "white",
             "minorgridcolor": "white",
             "startlinecolor": "#2a3f5f"
            },
            "baxis": {
             "endlinecolor": "#2a3f5f",
             "gridcolor": "white",
             "linecolor": "white",
             "minorgridcolor": "white",
             "startlinecolor": "#2a3f5f"
            },
            "type": "carpet"
           }
          ],
          "choropleth": [
           {
            "colorbar": {
             "outlinewidth": 0,
             "ticks": ""
            },
            "type": "choropleth"
           }
          ],
          "contour": [
           {
            "colorbar": {
             "outlinewidth": 0,
             "ticks": ""
            },
            "colorscale": [
             [
              0,
              "#0d0887"
             ],
             [
              0.1111111111111111,
              "#46039f"
             ],
             [
              0.2222222222222222,
              "#7201a8"
             ],
             [
              0.3333333333333333,
              "#9c179e"
             ],
             [
              0.4444444444444444,
              "#bd3786"
             ],
             [
              0.5555555555555556,
              "#d8576b"
             ],
             [
              0.6666666666666666,
              "#ed7953"
             ],
             [
              0.7777777777777778,
              "#fb9f3a"
             ],
             [
              0.8888888888888888,
              "#fdca26"
             ],
             [
              1,
              "#f0f921"
             ]
            ],
            "type": "contour"
           }
          ],
          "contourcarpet": [
           {
            "colorbar": {
             "outlinewidth": 0,
             "ticks": ""
            },
            "type": "contourcarpet"
           }
          ],
          "heatmap": [
           {
            "colorbar": {
             "outlinewidth": 0,
             "ticks": ""
            },
            "colorscale": [
             [
              0,
              "#0d0887"
             ],
             [
              0.1111111111111111,
              "#46039f"
             ],
             [
              0.2222222222222222,
              "#7201a8"
             ],
             [
              0.3333333333333333,
              "#9c179e"
             ],
             [
              0.4444444444444444,
              "#bd3786"
             ],
             [
              0.5555555555555556,
              "#d8576b"
             ],
             [
              0.6666666666666666,
              "#ed7953"
             ],
             [
              0.7777777777777778,
              "#fb9f3a"
             ],
             [
              0.8888888888888888,
              "#fdca26"
             ],
             [
              1,
              "#f0f921"
             ]
            ],
            "type": "heatmap"
           }
          ],
          "heatmapgl": [
           {
            "colorbar": {
             "outlinewidth": 0,
             "ticks": ""
            },
            "colorscale": [
             [
              0,
              "#0d0887"
             ],
             [
              0.1111111111111111,
              "#46039f"
             ],
             [
              0.2222222222222222,
              "#7201a8"
             ],
             [
              0.3333333333333333,
              "#9c179e"
             ],
             [
              0.4444444444444444,
              "#bd3786"
             ],
             [
              0.5555555555555556,
              "#d8576b"
             ],
             [
              0.6666666666666666,
              "#ed7953"
             ],
             [
              0.7777777777777778,
              "#fb9f3a"
             ],
             [
              0.8888888888888888,
              "#fdca26"
             ],
             [
              1,
              "#f0f921"
             ]
            ],
            "type": "heatmapgl"
           }
          ],
          "histogram": [
           {
            "marker": {
             "pattern": {
              "fillmode": "overlay",
              "size": 10,
              "solidity": 0.2
             }
            },
            "type": "histogram"
           }
          ],
          "histogram2d": [
           {
            "colorbar": {
             "outlinewidth": 0,
             "ticks": ""
            },
            "colorscale": [
             [
              0,
              "#0d0887"
             ],
             [
              0.1111111111111111,
              "#46039f"
             ],
             [
              0.2222222222222222,
              "#7201a8"
             ],
             [
              0.3333333333333333,
              "#9c179e"
             ],
             [
              0.4444444444444444,
              "#bd3786"
             ],
             [
              0.5555555555555556,
              "#d8576b"
             ],
             [
              0.6666666666666666,
              "#ed7953"
             ],
             [
              0.7777777777777778,
              "#fb9f3a"
             ],
             [
              0.8888888888888888,
              "#fdca26"
             ],
             [
              1,
              "#f0f921"
             ]
            ],
            "type": "histogram2d"
           }
          ],
          "histogram2dcontour": [
           {
            "colorbar": {
             "outlinewidth": 0,
             "ticks": ""
            },
            "colorscale": [
             [
              0,
              "#0d0887"
             ],
             [
              0.1111111111111111,
              "#46039f"
             ],
             [
              0.2222222222222222,
              "#7201a8"
             ],
             [
              0.3333333333333333,
              "#9c179e"
             ],
             [
              0.4444444444444444,
              "#bd3786"
             ],
             [
              0.5555555555555556,
              "#d8576b"
             ],
             [
              0.6666666666666666,
              "#ed7953"
             ],
             [
              0.7777777777777778,
              "#fb9f3a"
             ],
             [
              0.8888888888888888,
              "#fdca26"
             ],
             [
              1,
              "#f0f921"
             ]
            ],
            "type": "histogram2dcontour"
           }
          ],
          "mesh3d": [
           {
            "colorbar": {
             "outlinewidth": 0,
             "ticks": ""
            },
            "type": "mesh3d"
           }
          ],
          "parcoords": [
           {
            "line": {
             "colorbar": {
              "outlinewidth": 0,
              "ticks": ""
             }
            },
            "type": "parcoords"
           }
          ],
          "pie": [
           {
            "automargin": true,
            "type": "pie"
           }
          ],
          "scatter": [
           {
            "fillpattern": {
             "fillmode": "overlay",
             "size": 10,
             "solidity": 0.2
            },
            "type": "scatter"
           }
          ],
          "scatter3d": [
           {
            "line": {
             "colorbar": {
              "outlinewidth": 0,
              "ticks": ""
             }
            },
            "marker": {
             "colorbar": {
              "outlinewidth": 0,
              "ticks": ""
             }
            },
            "type": "scatter3d"
           }
          ],
          "scattercarpet": [
           {
            "marker": {
             "colorbar": {
              "outlinewidth": 0,
              "ticks": ""
             }
            },
            "type": "scattercarpet"
           }
          ],
          "scattergeo": [
           {
            "marker": {
             "colorbar": {
              "outlinewidth": 0,
              "ticks": ""
             }
            },
            "type": "scattergeo"
           }
          ],
          "scattergl": [
           {
            "marker": {
             "colorbar": {
              "outlinewidth": 0,
              "ticks": ""
             }
            },
            "type": "scattergl"
           }
          ],
          "scattermapbox": [
           {
            "marker": {
             "colorbar": {
              "outlinewidth": 0,
              "ticks": ""
             }
            },
            "type": "scattermapbox"
           }
          ],
          "scatterpolar": [
           {
            "marker": {
             "colorbar": {
              "outlinewidth": 0,
              "ticks": ""
             }
            },
            "type": "scatterpolar"
           }
          ],
          "scatterpolargl": [
           {
            "marker": {
             "colorbar": {
              "outlinewidth": 0,
              "ticks": ""
             }
            },
            "type": "scatterpolargl"
           }
          ],
          "scatterternary": [
           {
            "marker": {
             "colorbar": {
              "outlinewidth": 0,
              "ticks": ""
             }
            },
            "type": "scatterternary"
           }
          ],
          "surface": [
           {
            "colorbar": {
             "outlinewidth": 0,
             "ticks": ""
            },
            "colorscale": [
             [
              0,
              "#0d0887"
             ],
             [
              0.1111111111111111,
              "#46039f"
             ],
             [
              0.2222222222222222,
              "#7201a8"
             ],
             [
              0.3333333333333333,
              "#9c179e"
             ],
             [
              0.4444444444444444,
              "#bd3786"
             ],
             [
              0.5555555555555556,
              "#d8576b"
             ],
             [
              0.6666666666666666,
              "#ed7953"
             ],
             [
              0.7777777777777778,
              "#fb9f3a"
             ],
             [
              0.8888888888888888,
              "#fdca26"
             ],
             [
              1,
              "#f0f921"
             ]
            ],
            "type": "surface"
           }
          ],
          "table": [
           {
            "cells": {
             "fill": {
              "color": "#EBF0F8"
             },
             "line": {
              "color": "white"
             }
            },
            "header": {
             "fill": {
              "color": "#C8D4E3"
             },
             "line": {
              "color": "white"
             }
            },
            "type": "table"
           }
          ]
         },
         "layout": {
          "annotationdefaults": {
           "arrowcolor": "#2a3f5f",
           "arrowhead": 0,
           "arrowwidth": 1
          },
          "autotypenumbers": "strict",
          "coloraxis": {
           "colorbar": {
            "outlinewidth": 0,
            "ticks": ""
           }
          },
          "colorscale": {
           "diverging": [
            [
             0,
             "#8e0152"
            ],
            [
             0.1,
             "#c51b7d"
            ],
            [
             0.2,
             "#de77ae"
            ],
            [
             0.3,
             "#f1b6da"
            ],
            [
             0.4,
             "#fde0ef"
            ],
            [
             0.5,
             "#f7f7f7"
            ],
            [
             0.6,
             "#e6f5d0"
            ],
            [
             0.7,
             "#b8e186"
            ],
            [
             0.8,
             "#7fbc41"
            ],
            [
             0.9,
             "#4d9221"
            ],
            [
             1,
             "#276419"
            ]
           ],
           "sequential": [
            [
             0,
             "#0d0887"
            ],
            [
             0.1111111111111111,
             "#46039f"
            ],
            [
             0.2222222222222222,
             "#7201a8"
            ],
            [
             0.3333333333333333,
             "#9c179e"
            ],
            [
             0.4444444444444444,
             "#bd3786"
            ],
            [
             0.5555555555555556,
             "#d8576b"
            ],
            [
             0.6666666666666666,
             "#ed7953"
            ],
            [
             0.7777777777777778,
             "#fb9f3a"
            ],
            [
             0.8888888888888888,
             "#fdca26"
            ],
            [
             1,
             "#f0f921"
            ]
           ],
           "sequentialminus": [
            [
             0,
             "#0d0887"
            ],
            [
             0.1111111111111111,
             "#46039f"
            ],
            [
             0.2222222222222222,
             "#7201a8"
            ],
            [
             0.3333333333333333,
             "#9c179e"
            ],
            [
             0.4444444444444444,
             "#bd3786"
            ],
            [
             0.5555555555555556,
             "#d8576b"
            ],
            [
             0.6666666666666666,
             "#ed7953"
            ],
            [
             0.7777777777777778,
             "#fb9f3a"
            ],
            [
             0.8888888888888888,
             "#fdca26"
            ],
            [
             1,
             "#f0f921"
            ]
           ]
          },
          "colorway": [
           "#636efa",
           "#EF553B",
           "#00cc96",
           "#ab63fa",
           "#FFA15A",
           "#19d3f3",
           "#FF6692",
           "#B6E880",
           "#FF97FF",
           "#FECB52"
          ],
          "font": {
           "color": "#2a3f5f"
          },
          "geo": {
           "bgcolor": "white",
           "lakecolor": "white",
           "landcolor": "#E5ECF6",
           "showlakes": true,
           "showland": true,
           "subunitcolor": "white"
          },
          "hoverlabel": {
           "align": "left"
          },
          "hovermode": "closest",
          "mapbox": {
           "style": "light"
          },
          "paper_bgcolor": "white",
          "plot_bgcolor": "#E5ECF6",
          "polar": {
           "angularaxis": {
            "gridcolor": "white",
            "linecolor": "white",
            "ticks": ""
           },
           "bgcolor": "#E5ECF6",
           "radialaxis": {
            "gridcolor": "white",
            "linecolor": "white",
            "ticks": ""
           }
          },
          "scene": {
           "xaxis": {
            "backgroundcolor": "#E5ECF6",
            "gridcolor": "white",
            "gridwidth": 2,
            "linecolor": "white",
            "showbackground": true,
            "ticks": "",
            "zerolinecolor": "white"
           },
           "yaxis": {
            "backgroundcolor": "#E5ECF6",
            "gridcolor": "white",
            "gridwidth": 2,
            "linecolor": "white",
            "showbackground": true,
            "ticks": "",
            "zerolinecolor": "white"
           },
           "zaxis": {
            "backgroundcolor": "#E5ECF6",
            "gridcolor": "white",
            "gridwidth": 2,
            "linecolor": "white",
            "showbackground": true,
            "ticks": "",
            "zerolinecolor": "white"
           }
          },
          "shapedefaults": {
           "line": {
            "color": "#2a3f5f"
           }
          },
          "ternary": {
           "aaxis": {
            "gridcolor": "white",
            "linecolor": "white",
            "ticks": ""
           },
           "baxis": {
            "gridcolor": "white",
            "linecolor": "white",
            "ticks": ""
           },
           "bgcolor": "#E5ECF6",
           "caxis": {
            "gridcolor": "white",
            "linecolor": "white",
            "ticks": ""
           }
          },
          "title": {
           "x": 0.05
          },
          "xaxis": {
           "automargin": true,
           "gridcolor": "white",
           "linecolor": "white",
           "ticks": "",
           "title": {
            "standoff": 15
           },
           "zerolinecolor": "white",
           "zerolinewidth": 2
          },
          "yaxis": {
           "automargin": true,
           "gridcolor": "white",
           "linecolor": "white",
           "ticks": "",
           "title": {
            "standoff": 15
           },
           "zerolinecolor": "white",
           "zerolinewidth": 2
          }
         }
        },
        "title": {
         "text": "Count for top and bottom 10 municipalities"
        },
        "width": 1600,
        "xaxis": {
         "anchor": "y",
         "domain": [
          0,
          1
         ],
         "title": {
          "text": "year"
         }
        },
        "yaxis": {
         "anchor": "x",
         "domain": [
          0,
          1
         ],
         "title": {
          "text": "value"
         }
        }
       }
      }
     },
     "metadata": {},
     "output_type": "display_data"
    }
   ],
   "source": [
    "plot_time_series(\n",
    "    factor_growth_df.copy(),\n",
    "    \"count\",\n",
    "    group_by_columns,\n",
    "    granularity_columns,\n",
    "    f\"Count for top and bottom {return_n} municipalities\",\n",
    "    # visible=\"legendonly\",\n",
    ")"
   ]
  },
  {
   "cell_type": "code",
   "execution_count": 12,
   "metadata": {},
   "outputs": [],
   "source": [
    "# See if you can make a liquid long short equity strategy using REITs\n",
    "\n",
    "# MVP\n",
    "# Validating"
   ]
  },
  {
   "cell_type": "code",
   "execution_count": null,
   "metadata": {},
   "outputs": [],
   "source": []
  }
 ],
 "metadata": {
  "kernelspec": {
   "display_name": "venv",
   "language": "python",
   "name": "python3"
  },
  "language_info": {
   "codemirror_mode": {
    "name": "ipython",
    "version": 3
   },
   "file_extension": ".py",
   "mimetype": "text/x-python",
   "name": "python",
   "nbconvert_exporter": "python",
   "pygments_lexer": "ipython3",
   "version": "3.12.0"
  }
 },
 "nbformat": 4,
 "nbformat_minor": 2
}
