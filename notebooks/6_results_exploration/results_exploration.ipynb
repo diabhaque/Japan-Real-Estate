{
 "cells": [
  {
   "cell_type": "code",
   "execution_count": 36,
   "metadata": {},
   "outputs": [],
   "source": [
    "import warnings\n",
    "\n",
    "import pandas as pd\n",
    "import numpy as np\n",
    "\n",
    "from jre_utils.datapath import (\n",
    "    model_ready_data_paths,\n",
    "    model_output_data_paths,\n",
    ")\n",
    "\n",
    "from jre_utils.visualize import plot_time_series\n",
    "from jre_utils.process import get_cumulative_growth, get_cumulative_growth_from_base\n",
    "\n",
    "\n",
    "warnings.filterwarnings(\"ignore\")\n",
    "pd.set_option(\"display.max_columns\", None)"
   ]
  },
  {
   "cell_type": "code",
   "execution_count": 37,
   "metadata": {},
   "outputs": [],
   "source": [
    "metrics = {\n",
    "    \"weighted_mean\": \"unit_price_wmean\",\n",
    "    \"weighted_median\": \"unit_price_wmedian\",\n",
    "    \"mean\": \"unit_price_mean\",\n",
    "    \"median\": \"unit_price_median\",\n",
    "    \"weighted_mean_smoothed\": \"unit_price_wmean_smoothed\",\n",
    "    \"weighted_median_smoothed\": \"unit_price_wmedian_smoothed\",\n",
    "    \"mean_smoothed\": \"unit_price_mean_smoothed\",\n",
    "    \"median_smoothed\": \"unit_price_median_smoothed\",\n",
    "}\n",
    "\n",
    "granularity_columns = [\"area\", \"area_code\"]\n",
    "group_by_columns = granularity_columns + [\"year\"]\n",
    "display_columns = [\"unit_price\", \"total_traded_area\", \"count\"]\n",
    "\n",
    "metric_key = \"weighted_median_smoothed\"\n",
    "metric = metrics[metric_key]\n",
    "metric_pct_chg = metric + \"_pct_chg\"\n",
    "upcoming_metric = \"upcoming_\" + metric\n",
    "normalized_metric_pct_chg = \"normalized_\" + metric + \"_pct_chg\""
   ]
  },
  {
   "cell_type": "code",
   "execution_count": 61,
   "metadata": {},
   "outputs": [],
   "source": [
    "start_year = 2006\n",
    "eval_start_year = 2020 # eval_years = [2020, 2021, 2022]\n",
    "eval_end_year = 2022\n",
    "\n",
    "dataset_key = \"transactions\"\n",
    "years_ahead = 2\n",
    "dataset_name = f\"sequence_{dataset_key}_{metric_key}_{years_ahead}\"\n",
    "output_dataset_name = f\"{dataset_name}_{eval_start_year}\"\n",
    "model_ready_data_path = model_ready_data_paths[dataset_name]\n",
    "model_output_data_path = model_output_data_paths[output_dataset_name]\n",
    "\n",
    "output_df = pd.read_csv(model_output_data_path)\n",
    "core_df = pd.read_csv(model_ready_data_path)"
   ]
  },
  {
   "cell_type": "code",
   "execution_count": 39,
   "metadata": {},
   "outputs": [],
   "source": [
    "# What do I want to see with tooling? What is the argument I want to make?\n",
    "\n",
    "# The model outputs normalized returns for each area for each eval year\n",
    "# I want to take out one target year, for e.g. 2022\n",
    "# I want to sort the relative returns for that year\n",
    "# I want to compare several areas\n",
    "# I want to see the cumulative factors for each area, this will help me identify trends\n",
    "\n",
    "# once this is done, write a narrative for the teammates"
   ]
  },
  {
   "cell_type": "code",
   "execution_count": 62,
   "metadata": {},
   "outputs": [
    {
     "data": {
      "text/html": [
       "<div>\n",
       "<style scoped>\n",
       "    .dataframe tbody tr th:only-of-type {\n",
       "        vertical-align: middle;\n",
       "    }\n",
       "\n",
       "    .dataframe tbody tr th {\n",
       "        vertical-align: top;\n",
       "    }\n",
       "\n",
       "    .dataframe thead th {\n",
       "        text-align: right;\n",
       "    }\n",
       "</style>\n",
       "<table border=\"1\" class=\"dataframe\">\n",
       "  <thead>\n",
       "    <tr style=\"text-align: right;\">\n",
       "      <th></th>\n",
       "      <th>unit_price_wmedian_smoothed_pct_chg</th>\n",
       "      <th>unit_price_wmedian_smoothed</th>\n",
       "      <th>year</th>\n",
       "      <th>years_since_crisis</th>\n",
       "      <th>count</th>\n",
       "      <th>total_traded_area</th>\n",
       "      <th>population</th>\n",
       "      <th>taxpayer_count</th>\n",
       "      <th>taxable_income</th>\n",
       "      <th>taxable_income_per_taxpayer</th>\n",
       "      <th>taxable_income_growth</th>\n",
       "      <th>taxable_income_per_taxpayer_growth</th>\n",
       "      <th>total_tax</th>\n",
       "      <th>total_tax_growth</th>\n",
       "      <th>new_dwellings</th>\n",
       "      <th>existing_dwellings</th>\n",
       "      <th>net_migration_ratio</th>\n",
       "      <th>new_dwellings_ratio</th>\n",
       "      <th>migrations_is_available</th>\n",
       "      <th>taxable_income_is_available</th>\n",
       "      <th>dwellings_is_available</th>\n",
       "      <th>total_tax_is_available</th>\n",
       "      <th>area_code</th>\n",
       "      <th>area</th>\n",
       "    </tr>\n",
       "  </thead>\n",
       "  <tbody>\n",
       "    <tr>\n",
       "      <th>18055</th>\n",
       "      <td>-0.380711</td>\n",
       "      <td>48804.375141</td>\n",
       "      <td>2009</td>\n",
       "      <td>1</td>\n",
       "      <td>66.0</td>\n",
       "      <td>24475.0</td>\n",
       "      <td>32971.0</td>\n",
       "      <td>18858.0</td>\n",
       "      <td>57521629.0</td>\n",
       "      <td>3050.250769</td>\n",
       "      <td>-0.084796</td>\n",
       "      <td>-0.075283</td>\n",
       "      <td>10489161.0</td>\n",
       "      <td>-0.047428</td>\n",
       "      <td>117.0</td>\n",
       "      <td>36941.0</td>\n",
       "      <td>0.000607</td>\n",
       "      <td>0.003167</td>\n",
       "      <td>1</td>\n",
       "      <td>1</td>\n",
       "      <td>1</td>\n",
       "      <td>1</td>\n",
       "      <td>22205</td>\n",
       "      <td>Shizuoka-ken Atami-shi</td>\n",
       "    </tr>\n",
       "    <tr>\n",
       "      <th>18056</th>\n",
       "      <td>-0.437615</td>\n",
       "      <td>35947.712418</td>\n",
       "      <td>2010</td>\n",
       "      <td>2</td>\n",
       "      <td>81.0</td>\n",
       "      <td>34870.0</td>\n",
       "      <td>32991.0</td>\n",
       "      <td>18391.0</td>\n",
       "      <td>52691475.0</td>\n",
       "      <td>2865.068512</td>\n",
       "      <td>-0.083971</td>\n",
       "      <td>-0.060711</td>\n",
       "      <td>10502168.0</td>\n",
       "      <td>0.001240</td>\n",
       "      <td>328.0</td>\n",
       "      <td>37058.0</td>\n",
       "      <td>0.002425</td>\n",
       "      <td>0.008851</td>\n",
       "      <td>1</td>\n",
       "      <td>1</td>\n",
       "      <td>1</td>\n",
       "      <td>1</td>\n",
       "      <td>22205</td>\n",
       "      <td>Shizuoka-ken Atami-shi</td>\n",
       "    </tr>\n",
       "    <tr>\n",
       "      <th>18057</th>\n",
       "      <td>-0.355986</td>\n",
       "      <td>31430.709603</td>\n",
       "      <td>2011</td>\n",
       "      <td>3</td>\n",
       "      <td>51.0</td>\n",
       "      <td>17320.0</td>\n",
       "      <td>33071.0</td>\n",
       "      <td>17776.0</td>\n",
       "      <td>50732226.0</td>\n",
       "      <td>2853.973110</td>\n",
       "      <td>-0.037183</td>\n",
       "      <td>-0.003873</td>\n",
       "      <td>10226135.0</td>\n",
       "      <td>-0.026283</td>\n",
       "      <td>341.0</td>\n",
       "      <td>37386.0</td>\n",
       "      <td>0.004929</td>\n",
       "      <td>0.009121</td>\n",
       "      <td>1</td>\n",
       "      <td>1</td>\n",
       "      <td>1</td>\n",
       "      <td>1</td>\n",
       "      <td>22205</td>\n",
       "      <td>Shizuoka-ken Atami-shi</td>\n",
       "    </tr>\n",
       "    <tr>\n",
       "      <th>18058</th>\n",
       "      <td>-0.179854</td>\n",
       "      <td>29482.359962</td>\n",
       "      <td>2012</td>\n",
       "      <td>4</td>\n",
       "      <td>80.0</td>\n",
       "      <td>28630.0</td>\n",
       "      <td>33234.0</td>\n",
       "      <td>17216.0</td>\n",
       "      <td>48997548.0</td>\n",
       "      <td>2846.047165</td>\n",
       "      <td>-0.034193</td>\n",
       "      <td>-0.002777</td>\n",
       "      <td>9791024.0</td>\n",
       "      <td>-0.042549</td>\n",
       "      <td>101.0</td>\n",
       "      <td>37727.0</td>\n",
       "      <td>0.004453</td>\n",
       "      <td>0.002677</td>\n",
       "      <td>1</td>\n",
       "      <td>1</td>\n",
       "      <td>1</td>\n",
       "      <td>1</td>\n",
       "      <td>22205</td>\n",
       "      <td>Shizuoka-ken Atami-shi</td>\n",
       "    </tr>\n",
       "    <tr>\n",
       "      <th>18059</th>\n",
       "      <td>-0.040344</td>\n",
       "      <td>30162.666029</td>\n",
       "      <td>2013</td>\n",
       "      <td>5</td>\n",
       "      <td>77.0</td>\n",
       "      <td>34195.0</td>\n",
       "      <td>33382.0</td>\n",
       "      <td>17136.0</td>\n",
       "      <td>48967696.0</td>\n",
       "      <td>2857.591970</td>\n",
       "      <td>-0.000609</td>\n",
       "      <td>0.004056</td>\n",
       "      <td>9793374.0</td>\n",
       "      <td>0.000240</td>\n",
       "      <td>110.0</td>\n",
       "      <td>37828.0</td>\n",
       "      <td>0.003475</td>\n",
       "      <td>0.002908</td>\n",
       "      <td>1</td>\n",
       "      <td>1</td>\n",
       "      <td>1</td>\n",
       "      <td>1</td>\n",
       "      <td>22205</td>\n",
       "      <td>Shizuoka-ken Atami-shi</td>\n",
       "    </tr>\n",
       "    <tr>\n",
       "      <th>18060</th>\n",
       "      <td>0.150013</td>\n",
       "      <td>33905.109157</td>\n",
       "      <td>2014</td>\n",
       "      <td>6</td>\n",
       "      <td>67.0</td>\n",
       "      <td>27145.0</td>\n",
       "      <td>33498.0</td>\n",
       "      <td>17165.0</td>\n",
       "      <td>50435446.0</td>\n",
       "      <td>2938.272415</td>\n",
       "      <td>0.029974</td>\n",
       "      <td>0.028234</td>\n",
       "      <td>9967010.0</td>\n",
       "      <td>0.017730</td>\n",
       "      <td>384.0</td>\n",
       "      <td>37938.0</td>\n",
       "      <td>-0.000478</td>\n",
       "      <td>0.010122</td>\n",
       "      <td>1</td>\n",
       "      <td>1</td>\n",
       "      <td>1</td>\n",
       "      <td>1</td>\n",
       "      <td>22205</td>\n",
       "      <td>Shizuoka-ken Atami-shi</td>\n",
       "    </tr>\n",
       "    <tr>\n",
       "      <th>18061</th>\n",
       "      <td>0.293594</td>\n",
       "      <td>39018.252360</td>\n",
       "      <td>2015</td>\n",
       "      <td>7</td>\n",
       "      <td>68.0</td>\n",
       "      <td>27400.0</td>\n",
       "      <td>33482.0</td>\n",
       "      <td>16940.0</td>\n",
       "      <td>50358761.0</td>\n",
       "      <td>2972.772196</td>\n",
       "      <td>-0.001520</td>\n",
       "      <td>0.011742</td>\n",
       "      <td>9762576.0</td>\n",
       "      <td>-0.020511</td>\n",
       "      <td>142.0</td>\n",
       "      <td>38322.0</td>\n",
       "      <td>0.004510</td>\n",
       "      <td>0.003705</td>\n",
       "      <td>1</td>\n",
       "      <td>1</td>\n",
       "      <td>1</td>\n",
       "      <td>1</td>\n",
       "      <td>22205</td>\n",
       "      <td>Shizuoka-ken Atami-shi</td>\n",
       "    </tr>\n",
       "    <tr>\n",
       "      <th>18062</th>\n",
       "      <td>0.270834</td>\n",
       "      <td>43087.769156</td>\n",
       "      <td>2016</td>\n",
       "      <td>8</td>\n",
       "      <td>74.0</td>\n",
       "      <td>28440.0</td>\n",
       "      <td>33633.0</td>\n",
       "      <td>17044.0</td>\n",
       "      <td>51725102.0</td>\n",
       "      <td>3034.798287</td>\n",
       "      <td>0.027132</td>\n",
       "      <td>0.020865</td>\n",
       "      <td>9757556.0</td>\n",
       "      <td>-0.000514</td>\n",
       "      <td>63.0</td>\n",
       "      <td>38464.0</td>\n",
       "      <td>0.004936</td>\n",
       "      <td>0.001638</td>\n",
       "      <td>1</td>\n",
       "      <td>1</td>\n",
       "      <td>1</td>\n",
       "      <td>1</td>\n",
       "      <td>22205</td>\n",
       "      <td>Shizuoka-ken Atami-shi</td>\n",
       "    </tr>\n",
       "    <tr>\n",
       "      <th>18063</th>\n",
       "      <td>0.061243</td>\n",
       "      <td>41407.846745</td>\n",
       "      <td>2017</td>\n",
       "      <td>9</td>\n",
       "      <td>81.0</td>\n",
       "      <td>31130.0</td>\n",
       "      <td>33799.0</td>\n",
       "      <td>17137.0</td>\n",
       "      <td>51994130.0</td>\n",
       "      <td>3034.027543</td>\n",
       "      <td>0.005201</td>\n",
       "      <td>-0.000254</td>\n",
       "      <td>9754325.0</td>\n",
       "      <td>-0.000331</td>\n",
       "      <td>103.0</td>\n",
       "      <td>38527.0</td>\n",
       "      <td>0.010562</td>\n",
       "      <td>0.002673</td>\n",
       "      <td>1</td>\n",
       "      <td>1</td>\n",
       "      <td>1</td>\n",
       "      <td>1</td>\n",
       "      <td>22205</td>\n",
       "      <td>Shizuoka-ken Atami-shi</td>\n",
       "    </tr>\n",
       "    <tr>\n",
       "      <th>18064</th>\n",
       "      <td>-0.168853</td>\n",
       "      <td>35812.257810</td>\n",
       "      <td>2018</td>\n",
       "      <td>10</td>\n",
       "      <td>66.0</td>\n",
       "      <td>22720.0</td>\n",
       "      <td>34156.0</td>\n",
       "      <td>17367.0</td>\n",
       "      <td>56631471.0</td>\n",
       "      <td>3260.866644</td>\n",
       "      <td>0.089190</td>\n",
       "      <td>0.074765</td>\n",
       "      <td>9898571.0</td>\n",
       "      <td>0.014788</td>\n",
       "      <td>59.0</td>\n",
       "      <td>38630.0</td>\n",
       "      <td>0.000937</td>\n",
       "      <td>0.001527</td>\n",
       "      <td>1</td>\n",
       "      <td>1</td>\n",
       "      <td>1</td>\n",
       "      <td>1</td>\n",
       "      <td>22205</td>\n",
       "      <td>Shizuoka-ken Atami-shi</td>\n",
       "    </tr>\n",
       "    <tr>\n",
       "      <th>18065</th>\n",
       "      <td>-0.189424</td>\n",
       "      <td>33564.198259</td>\n",
       "      <td>2019</td>\n",
       "      <td>0</td>\n",
       "      <td>61.0</td>\n",
       "      <td>22865.0</td>\n",
       "      <td>34188.0</td>\n",
       "      <td>17245.0</td>\n",
       "      <td>56599122.0</td>\n",
       "      <td>3282.059843</td>\n",
       "      <td>-0.000571</td>\n",
       "      <td>0.006499</td>\n",
       "      <td>9981136.0</td>\n",
       "      <td>0.008341</td>\n",
       "      <td>101.0</td>\n",
       "      <td>38731.0</td>\n",
       "      <td>0.000585</td>\n",
       "      <td>0.002608</td>\n",
       "      <td>1</td>\n",
       "      <td>1</td>\n",
       "      <td>1</td>\n",
       "      <td>1</td>\n",
       "      <td>22205</td>\n",
       "      <td>Shizuoka-ken Atami-shi</td>\n",
       "    </tr>\n",
       "    <tr>\n",
       "      <th>18066</th>\n",
       "      <td>-0.070168</td>\n",
       "      <td>33299.385586</td>\n",
       "      <td>2020</td>\n",
       "      <td>1</td>\n",
       "      <td>91.0</td>\n",
       "      <td>28115.0</td>\n",
       "      <td>34208.0</td>\n",
       "      <td>17063.0</td>\n",
       "      <td>54442464.0</td>\n",
       "      <td>3190.673621</td>\n",
       "      <td>-0.038104</td>\n",
       "      <td>-0.027844</td>\n",
       "      <td>9344213.0</td>\n",
       "      <td>-0.063813</td>\n",
       "      <td>61.0</td>\n",
       "      <td>38792.0</td>\n",
       "      <td>0.000877</td>\n",
       "      <td>0.001572</td>\n",
       "      <td>1</td>\n",
       "      <td>1</td>\n",
       "      <td>1</td>\n",
       "      <td>1</td>\n",
       "      <td>22205</td>\n",
       "      <td>Shizuoka-ken Atami-shi</td>\n",
       "    </tr>\n",
       "    <tr>\n",
       "      <th>18067</th>\n",
       "      <td>0.160012</td>\n",
       "      <td>38934.866167</td>\n",
       "      <td>2021</td>\n",
       "      <td>2</td>\n",
       "      <td>71.0</td>\n",
       "      <td>28815.0</td>\n",
       "      <td>34099.0</td>\n",
       "      <td>16669.0</td>\n",
       "      <td>52818894.0</td>\n",
       "      <td>3168.690023</td>\n",
       "      <td>-0.029822</td>\n",
       "      <td>-0.006890</td>\n",
       "      <td>8966889.0</td>\n",
       "      <td>-0.040381</td>\n",
       "      <td>79.0</td>\n",
       "      <td>38871.0</td>\n",
       "      <td>-0.003197</td>\n",
       "      <td>0.002032</td>\n",
       "      <td>1</td>\n",
       "      <td>1</td>\n",
       "      <td>1</td>\n",
       "      <td>1</td>\n",
       "      <td>22205</td>\n",
       "      <td>Shizuoka-ken Atami-shi</td>\n",
       "    </tr>\n",
       "    <tr>\n",
       "      <th>18068</th>\n",
       "      <td>0.508921</td>\n",
       "      <td>50246.145772</td>\n",
       "      <td>2022</td>\n",
       "      <td>3</td>\n",
       "      <td>63.0</td>\n",
       "      <td>20845.0</td>\n",
       "      <td>33969.0</td>\n",
       "      <td>0.0</td>\n",
       "      <td>0.0</td>\n",
       "      <td>0.000000</td>\n",
       "      <td>0.000000</td>\n",
       "      <td>0.000000</td>\n",
       "      <td>9930662.0</td>\n",
       "      <td>0.107481</td>\n",
       "      <td>0.0</td>\n",
       "      <td>0.0</td>\n",
       "      <td>-0.003827</td>\n",
       "      <td>0.000000</td>\n",
       "      <td>1</td>\n",
       "      <td>0</td>\n",
       "      <td>0</td>\n",
       "      <td>1</td>\n",
       "      <td>22205</td>\n",
       "      <td>Shizuoka-ken Atami-shi</td>\n",
       "    </tr>\n",
       "    <tr>\n",
       "      <th>18069</th>\n",
       "      <td>0.622221</td>\n",
       "      <td>63160.966042</td>\n",
       "      <td>2023</td>\n",
       "      <td>4</td>\n",
       "      <td>21.0</td>\n",
       "      <td>8610.0</td>\n",
       "      <td>0.0</td>\n",
       "      <td>0.0</td>\n",
       "      <td>0.0</td>\n",
       "      <td>0.000000</td>\n",
       "      <td>0.000000</td>\n",
       "      <td>0.000000</td>\n",
       "      <td>0.0</td>\n",
       "      <td>0.000000</td>\n",
       "      <td>0.0</td>\n",
       "      <td>0.0</td>\n",
       "      <td>0.000000</td>\n",
       "      <td>0.000000</td>\n",
       "      <td>0</td>\n",
       "      <td>0</td>\n",
       "      <td>0</td>\n",
       "      <td>0</td>\n",
       "      <td>22205</td>\n",
       "      <td>Shizuoka-ken Atami-shi</td>\n",
       "    </tr>\n",
       "  </tbody>\n",
       "</table>\n",
       "</div>"
      ],
      "text/plain": [
       "       unit_price_wmedian_smoothed_pct_chg  unit_price_wmedian_smoothed  year  \\\n",
       "18055                            -0.380711                 48804.375141  2009   \n",
       "18056                            -0.437615                 35947.712418  2010   \n",
       "18057                            -0.355986                 31430.709603  2011   \n",
       "18058                            -0.179854                 29482.359962  2012   \n",
       "18059                            -0.040344                 30162.666029  2013   \n",
       "18060                             0.150013                 33905.109157  2014   \n",
       "18061                             0.293594                 39018.252360  2015   \n",
       "18062                             0.270834                 43087.769156  2016   \n",
       "18063                             0.061243                 41407.846745  2017   \n",
       "18064                            -0.168853                 35812.257810  2018   \n",
       "18065                            -0.189424                 33564.198259  2019   \n",
       "18066                            -0.070168                 33299.385586  2020   \n",
       "18067                             0.160012                 38934.866167  2021   \n",
       "18068                             0.508921                 50246.145772  2022   \n",
       "18069                             0.622221                 63160.966042  2023   \n",
       "\n",
       "       years_since_crisis  count  total_traded_area  population  \\\n",
       "18055                   1   66.0            24475.0     32971.0   \n",
       "18056                   2   81.0            34870.0     32991.0   \n",
       "18057                   3   51.0            17320.0     33071.0   \n",
       "18058                   4   80.0            28630.0     33234.0   \n",
       "18059                   5   77.0            34195.0     33382.0   \n",
       "18060                   6   67.0            27145.0     33498.0   \n",
       "18061                   7   68.0            27400.0     33482.0   \n",
       "18062                   8   74.0            28440.0     33633.0   \n",
       "18063                   9   81.0            31130.0     33799.0   \n",
       "18064                  10   66.0            22720.0     34156.0   \n",
       "18065                   0   61.0            22865.0     34188.0   \n",
       "18066                   1   91.0            28115.0     34208.0   \n",
       "18067                   2   71.0            28815.0     34099.0   \n",
       "18068                   3   63.0            20845.0     33969.0   \n",
       "18069                   4   21.0             8610.0         0.0   \n",
       "\n",
       "       taxpayer_count  taxable_income  taxable_income_per_taxpayer  \\\n",
       "18055         18858.0      57521629.0                  3050.250769   \n",
       "18056         18391.0      52691475.0                  2865.068512   \n",
       "18057         17776.0      50732226.0                  2853.973110   \n",
       "18058         17216.0      48997548.0                  2846.047165   \n",
       "18059         17136.0      48967696.0                  2857.591970   \n",
       "18060         17165.0      50435446.0                  2938.272415   \n",
       "18061         16940.0      50358761.0                  2972.772196   \n",
       "18062         17044.0      51725102.0                  3034.798287   \n",
       "18063         17137.0      51994130.0                  3034.027543   \n",
       "18064         17367.0      56631471.0                  3260.866644   \n",
       "18065         17245.0      56599122.0                  3282.059843   \n",
       "18066         17063.0      54442464.0                  3190.673621   \n",
       "18067         16669.0      52818894.0                  3168.690023   \n",
       "18068             0.0             0.0                     0.000000   \n",
       "18069             0.0             0.0                     0.000000   \n",
       "\n",
       "       taxable_income_growth  taxable_income_per_taxpayer_growth   total_tax  \\\n",
       "18055              -0.084796                           -0.075283  10489161.0   \n",
       "18056              -0.083971                           -0.060711  10502168.0   \n",
       "18057              -0.037183                           -0.003873  10226135.0   \n",
       "18058              -0.034193                           -0.002777   9791024.0   \n",
       "18059              -0.000609                            0.004056   9793374.0   \n",
       "18060               0.029974                            0.028234   9967010.0   \n",
       "18061              -0.001520                            0.011742   9762576.0   \n",
       "18062               0.027132                            0.020865   9757556.0   \n",
       "18063               0.005201                           -0.000254   9754325.0   \n",
       "18064               0.089190                            0.074765   9898571.0   \n",
       "18065              -0.000571                            0.006499   9981136.0   \n",
       "18066              -0.038104                           -0.027844   9344213.0   \n",
       "18067              -0.029822                           -0.006890   8966889.0   \n",
       "18068               0.000000                            0.000000   9930662.0   \n",
       "18069               0.000000                            0.000000         0.0   \n",
       "\n",
       "       total_tax_growth  new_dwellings  existing_dwellings  \\\n",
       "18055         -0.047428          117.0             36941.0   \n",
       "18056          0.001240          328.0             37058.0   \n",
       "18057         -0.026283          341.0             37386.0   \n",
       "18058         -0.042549          101.0             37727.0   \n",
       "18059          0.000240          110.0             37828.0   \n",
       "18060          0.017730          384.0             37938.0   \n",
       "18061         -0.020511          142.0             38322.0   \n",
       "18062         -0.000514           63.0             38464.0   \n",
       "18063         -0.000331          103.0             38527.0   \n",
       "18064          0.014788           59.0             38630.0   \n",
       "18065          0.008341          101.0             38731.0   \n",
       "18066         -0.063813           61.0             38792.0   \n",
       "18067         -0.040381           79.0             38871.0   \n",
       "18068          0.107481            0.0                 0.0   \n",
       "18069          0.000000            0.0                 0.0   \n",
       "\n",
       "       net_migration_ratio  new_dwellings_ratio  migrations_is_available  \\\n",
       "18055             0.000607             0.003167                        1   \n",
       "18056             0.002425             0.008851                        1   \n",
       "18057             0.004929             0.009121                        1   \n",
       "18058             0.004453             0.002677                        1   \n",
       "18059             0.003475             0.002908                        1   \n",
       "18060            -0.000478             0.010122                        1   \n",
       "18061             0.004510             0.003705                        1   \n",
       "18062             0.004936             0.001638                        1   \n",
       "18063             0.010562             0.002673                        1   \n",
       "18064             0.000937             0.001527                        1   \n",
       "18065             0.000585             0.002608                        1   \n",
       "18066             0.000877             0.001572                        1   \n",
       "18067            -0.003197             0.002032                        1   \n",
       "18068            -0.003827             0.000000                        1   \n",
       "18069             0.000000             0.000000                        0   \n",
       "\n",
       "       taxable_income_is_available  dwellings_is_available  \\\n",
       "18055                            1                       1   \n",
       "18056                            1                       1   \n",
       "18057                            1                       1   \n",
       "18058                            1                       1   \n",
       "18059                            1                       1   \n",
       "18060                            1                       1   \n",
       "18061                            1                       1   \n",
       "18062                            1                       1   \n",
       "18063                            1                       1   \n",
       "18064                            1                       1   \n",
       "18065                            1                       1   \n",
       "18066                            1                       1   \n",
       "18067                            1                       1   \n",
       "18068                            0                       0   \n",
       "18069                            0                       0   \n",
       "\n",
       "       total_tax_is_available  area_code                    area  \n",
       "18055                       1      22205  Shizuoka-ken Atami-shi  \n",
       "18056                       1      22205  Shizuoka-ken Atami-shi  \n",
       "18057                       1      22205  Shizuoka-ken Atami-shi  \n",
       "18058                       1      22205  Shizuoka-ken Atami-shi  \n",
       "18059                       1      22205  Shizuoka-ken Atami-shi  \n",
       "18060                       1      22205  Shizuoka-ken Atami-shi  \n",
       "18061                       1      22205  Shizuoka-ken Atami-shi  \n",
       "18062                       1      22205  Shizuoka-ken Atami-shi  \n",
       "18063                       1      22205  Shizuoka-ken Atami-shi  \n",
       "18064                       1      22205  Shizuoka-ken Atami-shi  \n",
       "18065                       1      22205  Shizuoka-ken Atami-shi  \n",
       "18066                       1      22205  Shizuoka-ken Atami-shi  \n",
       "18067                       1      22205  Shizuoka-ken Atami-shi  \n",
       "18068                       1      22205  Shizuoka-ken Atami-shi  \n",
       "18069                       0      22205  Shizuoka-ken Atami-shi  "
      ]
     },
     "execution_count": 62,
     "metadata": {},
     "output_type": "execute_result"
    }
   ],
   "source": [
    "core_df[core_df[\"area_code\"] == 22205]"
   ]
  },
  {
   "cell_type": "code",
   "execution_count": 58,
   "metadata": {},
   "outputs": [
    {
     "name": "stdout",
     "output_type": "stream",
     "text": [
      "34\n"
     ]
    },
    {
     "data": {
      "text/html": [
       "<div>\n",
       "<style scoped>\n",
       "    .dataframe tbody tr th:only-of-type {\n",
       "        vertical-align: middle;\n",
       "    }\n",
       "\n",
       "    .dataframe tbody tr th {\n",
       "        vertical-align: top;\n",
       "    }\n",
       "\n",
       "    .dataframe thead th {\n",
       "        text-align: right;\n",
       "    }\n",
       "</style>\n",
       "<table border=\"1\" class=\"dataframe\">\n",
       "  <thead>\n",
       "    <tr style=\"text-align: right;\">\n",
       "      <th></th>\n",
       "      <th>year</th>\n",
       "      <th>area_code</th>\n",
       "      <th>predicted_normalized_return</th>\n",
       "      <th>unit_price_wmedian_smoothed_pct_chg</th>\n",
       "      <th>normalized_unit_price_wmedian_smoothed_pct_chg</th>\n",
       "    </tr>\n",
       "  </thead>\n",
       "  <tbody>\n",
       "    <tr>\n",
       "      <th>128</th>\n",
       "      <td>2022</td>\n",
       "      <td>22301</td>\n",
       "      <td>1.043257</td>\n",
       "      <td>0.275620</td>\n",
       "      <td>0.643081</td>\n",
       "    </tr>\n",
       "    <tr>\n",
       "      <th>182</th>\n",
       "      <td>2022</td>\n",
       "      <td>22304</td>\n",
       "      <td>0.835727</td>\n",
       "      <td>-0.024923</td>\n",
       "      <td>-0.245449</td>\n",
       "    </tr>\n",
       "    <tr>\n",
       "      <th>222</th>\n",
       "      <td>2022</td>\n",
       "      <td>22222</td>\n",
       "      <td>0.702759</td>\n",
       "      <td>0.463096</td>\n",
       "      <td>1.197337</td>\n",
       "    </tr>\n",
       "    <tr>\n",
       "      <th>247</th>\n",
       "      <td>2022</td>\n",
       "      <td>22207</td>\n",
       "      <td>0.614778</td>\n",
       "      <td>-0.048580</td>\n",
       "      <td>-0.315389</td>\n",
       "    </tr>\n",
       "    <tr>\n",
       "      <th>381</th>\n",
       "      <td>2022</td>\n",
       "      <td>22205</td>\n",
       "      <td>0.330175</td>\n",
       "      <td>0.508921</td>\n",
       "      <td>1.332816</td>\n",
       "    </tr>\n",
       "    <tr>\n",
       "      <th>387</th>\n",
       "      <td>2022</td>\n",
       "      <td>22223</td>\n",
       "      <td>0.326005</td>\n",
       "      <td>-0.092030</td>\n",
       "      <td>-0.443847</td>\n",
       "    </tr>\n",
       "    <tr>\n",
       "      <th>396</th>\n",
       "      <td>2022</td>\n",
       "      <td>22208</td>\n",
       "      <td>0.312025</td>\n",
       "      <td>0.101057</td>\n",
       "      <td>0.127000</td>\n",
       "    </tr>\n",
       "    <tr>\n",
       "      <th>401</th>\n",
       "      <td>2022</td>\n",
       "      <td>22214</td>\n",
       "      <td>0.306811</td>\n",
       "      <td>0.359625</td>\n",
       "      <td>0.891435</td>\n",
       "    </tr>\n",
       "    <tr>\n",
       "      <th>479</th>\n",
       "      <td>2022</td>\n",
       "      <td>22210</td>\n",
       "      <td>0.180489</td>\n",
       "      <td>0.146675</td>\n",
       "      <td>0.261864</td>\n",
       "    </tr>\n",
       "    <tr>\n",
       "      <th>569</th>\n",
       "      <td>2022</td>\n",
       "      <td>22206</td>\n",
       "      <td>0.084148</td>\n",
       "      <td>0.137625</td>\n",
       "      <td>0.235110</td>\n",
       "    </tr>\n",
       "  </tbody>\n",
       "</table>\n",
       "</div>"
      ],
      "text/plain": [
       "     year  area_code  predicted_normalized_return  \\\n",
       "128  2022      22301                     1.043257   \n",
       "182  2022      22304                     0.835727   \n",
       "222  2022      22222                     0.702759   \n",
       "247  2022      22207                     0.614778   \n",
       "381  2022      22205                     0.330175   \n",
       "387  2022      22223                     0.326005   \n",
       "396  2022      22208                     0.312025   \n",
       "401  2022      22214                     0.306811   \n",
       "479  2022      22210                     0.180489   \n",
       "569  2022      22206                     0.084148   \n",
       "\n",
       "     unit_price_wmedian_smoothed_pct_chg  \\\n",
       "128                             0.275620   \n",
       "182                            -0.024923   \n",
       "222                             0.463096   \n",
       "247                            -0.048580   \n",
       "381                             0.508921   \n",
       "387                            -0.092030   \n",
       "396                             0.101057   \n",
       "401                             0.359625   \n",
       "479                             0.146675   \n",
       "569                             0.137625   \n",
       "\n",
       "     normalized_unit_price_wmedian_smoothed_pct_chg  \n",
       "128                                        0.643081  \n",
       "182                                       -0.245449  \n",
       "222                                        1.197337  \n",
       "247                                       -0.315389  \n",
       "381                                        1.332816  \n",
       "387                                       -0.443847  \n",
       "396                                        0.127000  \n",
       "401                                        0.891435  \n",
       "479                                        0.261864  \n",
       "569                                        0.235110  "
      ]
     },
     "execution_count": 58,
     "metadata": {},
     "output_type": "execute_result"
    }
   ],
   "source": [
    "target_year = 2022\n",
    "prefecture_code = 22 # (Tokyo, 13), (Hokaido, 1)\n",
    "results_df = output_df[output_df[\"year\"] == target_year].sort_values(by=[\"predicted_normalized_return\"], ascending=False)\n",
    "prefectural_results_df = results_df[(results_df[\"area_code\"].astype(int) // 1000 == prefecture_code)]\n",
    "# results_df\n",
    "print(len(prefectural_results_df))\n",
    "prefectural_results_df.head(10)"
   ]
  },
  {
   "cell_type": "code",
   "execution_count": 41,
   "metadata": {},
   "outputs": [
    {
     "data": {
      "text/html": [
       "<div>\n",
       "<style scoped>\n",
       "    .dataframe tbody tr th:only-of-type {\n",
       "        vertical-align: middle;\n",
       "    }\n",
       "\n",
       "    .dataframe tbody tr th {\n",
       "        vertical-align: top;\n",
       "    }\n",
       "\n",
       "    .dataframe thead th {\n",
       "        text-align: right;\n",
       "    }\n",
       "</style>\n",
       "<table border=\"1\" class=\"dataframe\">\n",
       "  <thead>\n",
       "    <tr style=\"text-align: right;\">\n",
       "      <th></th>\n",
       "      <th>year</th>\n",
       "      <th>area_code</th>\n",
       "      <th>predicted_normalized_return</th>\n",
       "      <th>unit_price_wmedian_smoothed_pct_chg</th>\n",
       "      <th>normalized_unit_price_wmedian_smoothed_pct_chg</th>\n",
       "    </tr>\n",
       "  </thead>\n",
       "  <tbody>\n",
       "    <tr>\n",
       "      <th>857</th>\n",
       "      <td>2022</td>\n",
       "      <td>26205</td>\n",
       "      <td>-0.245691</td>\n",
       "      <td>-0.208192</td>\n",
       "      <td>-0.787270</td>\n",
       "    </tr>\n",
       "    <tr>\n",
       "      <th>892</th>\n",
       "      <td>2022</td>\n",
       "      <td>26214</td>\n",
       "      <td>-0.294226</td>\n",
       "      <td>-0.098804</td>\n",
       "      <td>-0.463873</td>\n",
       "    </tr>\n",
       "    <tr>\n",
       "      <th>939</th>\n",
       "      <td>2022</td>\n",
       "      <td>26213</td>\n",
       "      <td>-0.361289</td>\n",
       "      <td>-0.141129</td>\n",
       "      <td>-0.589003</td>\n",
       "    </tr>\n",
       "    <tr>\n",
       "      <th>1065</th>\n",
       "      <td>2022</td>\n",
       "      <td>26202</td>\n",
       "      <td>-0.562107</td>\n",
       "      <td>-0.092140</td>\n",
       "      <td>-0.444173</td>\n",
       "    </tr>\n",
       "    <tr>\n",
       "      <th>1121</th>\n",
       "      <td>2022</td>\n",
       "      <td>26211</td>\n",
       "      <td>-0.654612</td>\n",
       "      <td>-0.318021</td>\n",
       "      <td>-1.111968</td>\n",
       "    </tr>\n",
       "    <tr>\n",
       "      <th>1142</th>\n",
       "      <td>2022</td>\n",
       "      <td>26407</td>\n",
       "      <td>-0.689627</td>\n",
       "      <td>-0.259672</td>\n",
       "      <td>-0.939466</td>\n",
       "    </tr>\n",
       "    <tr>\n",
       "      <th>1154</th>\n",
       "      <td>2022</td>\n",
       "      <td>26465</td>\n",
       "      <td>-0.704094</td>\n",
       "      <td>-0.271700</td>\n",
       "      <td>-0.975025</td>\n",
       "    </tr>\n",
       "    <tr>\n",
       "      <th>1252</th>\n",
       "      <td>2022</td>\n",
       "      <td>26303</td>\n",
       "      <td>-0.911691</td>\n",
       "      <td>-0.335992</td>\n",
       "      <td>-1.165099</td>\n",
       "    </tr>\n",
       "    <tr>\n",
       "      <th>1267</th>\n",
       "      <td>2022</td>\n",
       "      <td>26203</td>\n",
       "      <td>-0.942309</td>\n",
       "      <td>-0.252415</td>\n",
       "      <td>-0.918012</td>\n",
       "    </tr>\n",
       "    <tr>\n",
       "      <th>1325</th>\n",
       "      <td>2022</td>\n",
       "      <td>26463</td>\n",
       "      <td>-1.078612</td>\n",
       "      <td>-0.412271</td>\n",
       "      <td>-1.390612</td>\n",
       "    </tr>\n",
       "  </tbody>\n",
       "</table>\n",
       "</div>"
      ],
      "text/plain": [
       "      year  area_code  predicted_normalized_return  \\\n",
       "857   2022      26205                    -0.245691   \n",
       "892   2022      26214                    -0.294226   \n",
       "939   2022      26213                    -0.361289   \n",
       "1065  2022      26202                    -0.562107   \n",
       "1121  2022      26211                    -0.654612   \n",
       "1142  2022      26407                    -0.689627   \n",
       "1154  2022      26465                    -0.704094   \n",
       "1252  2022      26303                    -0.911691   \n",
       "1267  2022      26203                    -0.942309   \n",
       "1325  2022      26463                    -1.078612   \n",
       "\n",
       "      unit_price_wmedian_smoothed_pct_chg  \\\n",
       "857                             -0.208192   \n",
       "892                             -0.098804   \n",
       "939                             -0.141129   \n",
       "1065                            -0.092140   \n",
       "1121                            -0.318021   \n",
       "1142                            -0.259672   \n",
       "1154                            -0.271700   \n",
       "1252                            -0.335992   \n",
       "1267                            -0.252415   \n",
       "1325                            -0.412271   \n",
       "\n",
       "      normalized_unit_price_wmedian_smoothed_pct_chg  \n",
       "857                                        -0.787270  \n",
       "892                                        -0.463873  \n",
       "939                                        -0.589003  \n",
       "1065                                       -0.444173  \n",
       "1121                                       -1.111968  \n",
       "1142                                       -0.939466  \n",
       "1154                                       -0.975025  \n",
       "1252                                       -1.165099  \n",
       "1267                                       -0.918012  \n",
       "1325                                       -1.390612  "
      ]
     },
     "execution_count": 41,
     "metadata": {},
     "output_type": "execute_result"
    }
   ],
   "source": [
    "prefectural_results_df.tail(10)"
   ]
  },
  {
   "cell_type": "code",
   "execution_count": 55,
   "metadata": {},
   "outputs": [
    {
     "data": {
      "application/vnd.plotly.v1+json": {
       "config": {
        "plotlyServerURL": "https://plot.ly"
       },
       "data": [
        {
         "hovertemplate": "variable=('Shizuoka-ken Atami-shi', 22205)<br>year=%{x}<br>value=%{y}<extra></extra>",
         "legendgroup": "('Shizuoka-ken Atami-shi', 22205)",
         "line": {
          "color": "#636efa",
          "dash": "solid"
         },
         "marker": {
          "symbol": "circle"
         },
         "mode": "lines+markers",
         "name": "('Shizuoka-ken Atami-shi', 22205)",
         "orientation": "v",
         "showlegend": true,
         "type": "scatter",
         "x": [
          2009,
          2010,
          2011,
          2012,
          2013,
          2014,
          2015,
          2016,
          2017,
          2018,
          2019,
          2020,
          2021,
          2022,
          2023
         ],
         "xaxis": "x",
         "y": [
          null,
          0.7365674145911082,
          0.6440141793024415,
          0.6040925609043405,
          0.6180320092555549,
          0.6947145426773448,
          0.7994826743898548,
          0.882866936252342,
          0.8484453827213917,
          0.7337919542388228,
          0.6877292898860277,
          0.6823032871482247,
          0.7977740941229607,
          1.029541831585081,
          1.2941660631675533
         ],
         "yaxis": "y"
        }
       ],
       "layout": {
        "autosize": false,
        "height": 600,
        "hovermode": "closest",
        "legend": {
         "title": {
          "text": "variable"
         },
         "tracegroupgap": 0
        },
        "shapes": [
         {
          "fillcolor": "LightSalmon",
          "layer": "below",
          "line": {
           "width": 0
          },
          "opacity": 0.5,
          "type": "rect",
          "x0": 2020,
          "x1": 2022,
          "xref": "x",
          "y0": 0,
          "y1": 1,
          "yref": "y domain"
         }
        ],
        "showlegend": true,
        "template": {
         "data": {
          "bar": [
           {
            "error_x": {
             "color": "#2a3f5f"
            },
            "error_y": {
             "color": "#2a3f5f"
            },
            "marker": {
             "line": {
              "color": "#E5ECF6",
              "width": 0.5
             },
             "pattern": {
              "fillmode": "overlay",
              "size": 10,
              "solidity": 0.2
             }
            },
            "type": "bar"
           }
          ],
          "barpolar": [
           {
            "marker": {
             "line": {
              "color": "#E5ECF6",
              "width": 0.5
             },
             "pattern": {
              "fillmode": "overlay",
              "size": 10,
              "solidity": 0.2
             }
            },
            "type": "barpolar"
           }
          ],
          "carpet": [
           {
            "aaxis": {
             "endlinecolor": "#2a3f5f",
             "gridcolor": "white",
             "linecolor": "white",
             "minorgridcolor": "white",
             "startlinecolor": "#2a3f5f"
            },
            "baxis": {
             "endlinecolor": "#2a3f5f",
             "gridcolor": "white",
             "linecolor": "white",
             "minorgridcolor": "white",
             "startlinecolor": "#2a3f5f"
            },
            "type": "carpet"
           }
          ],
          "choropleth": [
           {
            "colorbar": {
             "outlinewidth": 0,
             "ticks": ""
            },
            "type": "choropleth"
           }
          ],
          "contour": [
           {
            "colorbar": {
             "outlinewidth": 0,
             "ticks": ""
            },
            "colorscale": [
             [
              0,
              "#0d0887"
             ],
             [
              0.1111111111111111,
              "#46039f"
             ],
             [
              0.2222222222222222,
              "#7201a8"
             ],
             [
              0.3333333333333333,
              "#9c179e"
             ],
             [
              0.4444444444444444,
              "#bd3786"
             ],
             [
              0.5555555555555556,
              "#d8576b"
             ],
             [
              0.6666666666666666,
              "#ed7953"
             ],
             [
              0.7777777777777778,
              "#fb9f3a"
             ],
             [
              0.8888888888888888,
              "#fdca26"
             ],
             [
              1,
              "#f0f921"
             ]
            ],
            "type": "contour"
           }
          ],
          "contourcarpet": [
           {
            "colorbar": {
             "outlinewidth": 0,
             "ticks": ""
            },
            "type": "contourcarpet"
           }
          ],
          "heatmap": [
           {
            "colorbar": {
             "outlinewidth": 0,
             "ticks": ""
            },
            "colorscale": [
             [
              0,
              "#0d0887"
             ],
             [
              0.1111111111111111,
              "#46039f"
             ],
             [
              0.2222222222222222,
              "#7201a8"
             ],
             [
              0.3333333333333333,
              "#9c179e"
             ],
             [
              0.4444444444444444,
              "#bd3786"
             ],
             [
              0.5555555555555556,
              "#d8576b"
             ],
             [
              0.6666666666666666,
              "#ed7953"
             ],
             [
              0.7777777777777778,
              "#fb9f3a"
             ],
             [
              0.8888888888888888,
              "#fdca26"
             ],
             [
              1,
              "#f0f921"
             ]
            ],
            "type": "heatmap"
           }
          ],
          "heatmapgl": [
           {
            "colorbar": {
             "outlinewidth": 0,
             "ticks": ""
            },
            "colorscale": [
             [
              0,
              "#0d0887"
             ],
             [
              0.1111111111111111,
              "#46039f"
             ],
             [
              0.2222222222222222,
              "#7201a8"
             ],
             [
              0.3333333333333333,
              "#9c179e"
             ],
             [
              0.4444444444444444,
              "#bd3786"
             ],
             [
              0.5555555555555556,
              "#d8576b"
             ],
             [
              0.6666666666666666,
              "#ed7953"
             ],
             [
              0.7777777777777778,
              "#fb9f3a"
             ],
             [
              0.8888888888888888,
              "#fdca26"
             ],
             [
              1,
              "#f0f921"
             ]
            ],
            "type": "heatmapgl"
           }
          ],
          "histogram": [
           {
            "marker": {
             "pattern": {
              "fillmode": "overlay",
              "size": 10,
              "solidity": 0.2
             }
            },
            "type": "histogram"
           }
          ],
          "histogram2d": [
           {
            "colorbar": {
             "outlinewidth": 0,
             "ticks": ""
            },
            "colorscale": [
             [
              0,
              "#0d0887"
             ],
             [
              0.1111111111111111,
              "#46039f"
             ],
             [
              0.2222222222222222,
              "#7201a8"
             ],
             [
              0.3333333333333333,
              "#9c179e"
             ],
             [
              0.4444444444444444,
              "#bd3786"
             ],
             [
              0.5555555555555556,
              "#d8576b"
             ],
             [
              0.6666666666666666,
              "#ed7953"
             ],
             [
              0.7777777777777778,
              "#fb9f3a"
             ],
             [
              0.8888888888888888,
              "#fdca26"
             ],
             [
              1,
              "#f0f921"
             ]
            ],
            "type": "histogram2d"
           }
          ],
          "histogram2dcontour": [
           {
            "colorbar": {
             "outlinewidth": 0,
             "ticks": ""
            },
            "colorscale": [
             [
              0,
              "#0d0887"
             ],
             [
              0.1111111111111111,
              "#46039f"
             ],
             [
              0.2222222222222222,
              "#7201a8"
             ],
             [
              0.3333333333333333,
              "#9c179e"
             ],
             [
              0.4444444444444444,
              "#bd3786"
             ],
             [
              0.5555555555555556,
              "#d8576b"
             ],
             [
              0.6666666666666666,
              "#ed7953"
             ],
             [
              0.7777777777777778,
              "#fb9f3a"
             ],
             [
              0.8888888888888888,
              "#fdca26"
             ],
             [
              1,
              "#f0f921"
             ]
            ],
            "type": "histogram2dcontour"
           }
          ],
          "mesh3d": [
           {
            "colorbar": {
             "outlinewidth": 0,
             "ticks": ""
            },
            "type": "mesh3d"
           }
          ],
          "parcoords": [
           {
            "line": {
             "colorbar": {
              "outlinewidth": 0,
              "ticks": ""
             }
            },
            "type": "parcoords"
           }
          ],
          "pie": [
           {
            "automargin": true,
            "type": "pie"
           }
          ],
          "scatter": [
           {
            "fillpattern": {
             "fillmode": "overlay",
             "size": 10,
             "solidity": 0.2
            },
            "type": "scatter"
           }
          ],
          "scatter3d": [
           {
            "line": {
             "colorbar": {
              "outlinewidth": 0,
              "ticks": ""
             }
            },
            "marker": {
             "colorbar": {
              "outlinewidth": 0,
              "ticks": ""
             }
            },
            "type": "scatter3d"
           }
          ],
          "scattercarpet": [
           {
            "marker": {
             "colorbar": {
              "outlinewidth": 0,
              "ticks": ""
             }
            },
            "type": "scattercarpet"
           }
          ],
          "scattergeo": [
           {
            "marker": {
             "colorbar": {
              "outlinewidth": 0,
              "ticks": ""
             }
            },
            "type": "scattergeo"
           }
          ],
          "scattergl": [
           {
            "marker": {
             "colorbar": {
              "outlinewidth": 0,
              "ticks": ""
             }
            },
            "type": "scattergl"
           }
          ],
          "scattermapbox": [
           {
            "marker": {
             "colorbar": {
              "outlinewidth": 0,
              "ticks": ""
             }
            },
            "type": "scattermapbox"
           }
          ],
          "scatterpolar": [
           {
            "marker": {
             "colorbar": {
              "outlinewidth": 0,
              "ticks": ""
             }
            },
            "type": "scatterpolar"
           }
          ],
          "scatterpolargl": [
           {
            "marker": {
             "colorbar": {
              "outlinewidth": 0,
              "ticks": ""
             }
            },
            "type": "scatterpolargl"
           }
          ],
          "scatterternary": [
           {
            "marker": {
             "colorbar": {
              "outlinewidth": 0,
              "ticks": ""
             }
            },
            "type": "scatterternary"
           }
          ],
          "surface": [
           {
            "colorbar": {
             "outlinewidth": 0,
             "ticks": ""
            },
            "colorscale": [
             [
              0,
              "#0d0887"
             ],
             [
              0.1111111111111111,
              "#46039f"
             ],
             [
              0.2222222222222222,
              "#7201a8"
             ],
             [
              0.3333333333333333,
              "#9c179e"
             ],
             [
              0.4444444444444444,
              "#bd3786"
             ],
             [
              0.5555555555555556,
              "#d8576b"
             ],
             [
              0.6666666666666666,
              "#ed7953"
             ],
             [
              0.7777777777777778,
              "#fb9f3a"
             ],
             [
              0.8888888888888888,
              "#fdca26"
             ],
             [
              1,
              "#f0f921"
             ]
            ],
            "type": "surface"
           }
          ],
          "table": [
           {
            "cells": {
             "fill": {
              "color": "#EBF0F8"
             },
             "line": {
              "color": "white"
             }
            },
            "header": {
             "fill": {
              "color": "#C8D4E3"
             },
             "line": {
              "color": "white"
             }
            },
            "type": "table"
           }
          ]
         },
         "layout": {
          "annotationdefaults": {
           "arrowcolor": "#2a3f5f",
           "arrowhead": 0,
           "arrowwidth": 1
          },
          "autotypenumbers": "strict",
          "coloraxis": {
           "colorbar": {
            "outlinewidth": 0,
            "ticks": ""
           }
          },
          "colorscale": {
           "diverging": [
            [
             0,
             "#8e0152"
            ],
            [
             0.1,
             "#c51b7d"
            ],
            [
             0.2,
             "#de77ae"
            ],
            [
             0.3,
             "#f1b6da"
            ],
            [
             0.4,
             "#fde0ef"
            ],
            [
             0.5,
             "#f7f7f7"
            ],
            [
             0.6,
             "#e6f5d0"
            ],
            [
             0.7,
             "#b8e186"
            ],
            [
             0.8,
             "#7fbc41"
            ],
            [
             0.9,
             "#4d9221"
            ],
            [
             1,
             "#276419"
            ]
           ],
           "sequential": [
            [
             0,
             "#0d0887"
            ],
            [
             0.1111111111111111,
             "#46039f"
            ],
            [
             0.2222222222222222,
             "#7201a8"
            ],
            [
             0.3333333333333333,
             "#9c179e"
            ],
            [
             0.4444444444444444,
             "#bd3786"
            ],
            [
             0.5555555555555556,
             "#d8576b"
            ],
            [
             0.6666666666666666,
             "#ed7953"
            ],
            [
             0.7777777777777778,
             "#fb9f3a"
            ],
            [
             0.8888888888888888,
             "#fdca26"
            ],
            [
             1,
             "#f0f921"
            ]
           ],
           "sequentialminus": [
            [
             0,
             "#0d0887"
            ],
            [
             0.1111111111111111,
             "#46039f"
            ],
            [
             0.2222222222222222,
             "#7201a8"
            ],
            [
             0.3333333333333333,
             "#9c179e"
            ],
            [
             0.4444444444444444,
             "#bd3786"
            ],
            [
             0.5555555555555556,
             "#d8576b"
            ],
            [
             0.6666666666666666,
             "#ed7953"
            ],
            [
             0.7777777777777778,
             "#fb9f3a"
            ],
            [
             0.8888888888888888,
             "#fdca26"
            ],
            [
             1,
             "#f0f921"
            ]
           ]
          },
          "colorway": [
           "#636efa",
           "#EF553B",
           "#00cc96",
           "#ab63fa",
           "#FFA15A",
           "#19d3f3",
           "#FF6692",
           "#B6E880",
           "#FF97FF",
           "#FECB52"
          ],
          "font": {
           "color": "#2a3f5f"
          },
          "geo": {
           "bgcolor": "white",
           "lakecolor": "white",
           "landcolor": "#E5ECF6",
           "showlakes": true,
           "showland": true,
           "subunitcolor": "white"
          },
          "hoverlabel": {
           "align": "left"
          },
          "hovermode": "closest",
          "mapbox": {
           "style": "light"
          },
          "paper_bgcolor": "white",
          "plot_bgcolor": "#E5ECF6",
          "polar": {
           "angularaxis": {
            "gridcolor": "white",
            "linecolor": "white",
            "ticks": ""
           },
           "bgcolor": "#E5ECF6",
           "radialaxis": {
            "gridcolor": "white",
            "linecolor": "white",
            "ticks": ""
           }
          },
          "scene": {
           "xaxis": {
            "backgroundcolor": "#E5ECF6",
            "gridcolor": "white",
            "gridwidth": 2,
            "linecolor": "white",
            "showbackground": true,
            "ticks": "",
            "zerolinecolor": "white"
           },
           "yaxis": {
            "backgroundcolor": "#E5ECF6",
            "gridcolor": "white",
            "gridwidth": 2,
            "linecolor": "white",
            "showbackground": true,
            "ticks": "",
            "zerolinecolor": "white"
           },
           "zaxis": {
            "backgroundcolor": "#E5ECF6",
            "gridcolor": "white",
            "gridwidth": 2,
            "linecolor": "white",
            "showbackground": true,
            "ticks": "",
            "zerolinecolor": "white"
           }
          },
          "shapedefaults": {
           "line": {
            "color": "#2a3f5f"
           }
          },
          "ternary": {
           "aaxis": {
            "gridcolor": "white",
            "linecolor": "white",
            "ticks": ""
           },
           "baxis": {
            "gridcolor": "white",
            "linecolor": "white",
            "ticks": ""
           },
           "bgcolor": "#E5ECF6",
           "caxis": {
            "gridcolor": "white",
            "linecolor": "white",
            "ticks": ""
           }
          },
          "title": {
           "x": 0.05
          },
          "xaxis": {
           "automargin": true,
           "gridcolor": "white",
           "linecolor": "white",
           "ticks": "",
           "title": {
            "standoff": 15
           },
           "zerolinecolor": "white",
           "zerolinewidth": 2
          },
          "yaxis": {
           "automargin": true,
           "gridcolor": "white",
           "linecolor": "white",
           "ticks": "",
           "title": {
            "standoff": 15
           },
           "zerolinecolor": "white",
           "zerolinewidth": 2
          }
         }
        },
        "title": {
         "text": "cumulative_unit_price_wmedian_smoothed_growth over time"
        },
        "width": 1200,
        "xaxis": {
         "anchor": "y",
         "domain": [
          0,
          1
         ],
         "title": {
          "text": "year"
         }
        },
        "yaxis": {
         "anchor": "x",
         "domain": [
          0,
          1
         ],
         "title": {
          "text": "value"
         }
        }
       }
      }
     },
     "metadata": {},
     "output_type": "display_data"
    },
    {
     "data": {
      "application/vnd.plotly.v1+json": {
       "config": {
        "plotlyServerURL": "https://plot.ly"
       },
       "data": [
        {
         "hovertemplate": "variable=('Shizuoka-ken Atami-shi', 22205)<br>year=%{x}<br>value=%{y}<extra></extra>",
         "legendgroup": "('Shizuoka-ken Atami-shi', 22205)",
         "line": {
          "color": "#636efa",
          "dash": "solid"
         },
         "marker": {
          "symbol": "circle"
         },
         "mode": "lines+markers",
         "name": "('Shizuoka-ken Atami-shi', 22205)",
         "orientation": "v",
         "showlegend": true,
         "type": "scatter",
         "x": [
          2009,
          2010,
          2011,
          2012,
          2013,
          2014,
          2015,
          2016,
          2017,
          2018,
          2019,
          2020,
          2021,
          2022,
          2023
         ],
         "xaxis": "x",
         "y": [
          0.9152043726182807,
          0.8383536620582637,
          0.8071808096369946,
          0.7795810194661575,
          0.7791060558497517,
          0.802458857939388,
          0.8012387525888558,
          0.8229780753345248,
          0.8272584757028236,
          0.9010414132570091,
          0.9005267208401823,
          0.8662129702361756,
          0.8403809764438603,
          null,
          null
         ],
         "yaxis": "y"
        }
       ],
       "layout": {
        "autosize": false,
        "height": 600,
        "hovermode": "closest",
        "legend": {
         "title": {
          "text": "variable"
         },
         "tracegroupgap": 0
        },
        "shapes": [
         {
          "fillcolor": "LightSalmon",
          "layer": "below",
          "line": {
           "width": 0
          },
          "opacity": 0.5,
          "type": "rect",
          "x0": 2015,
          "x1": 2020,
          "xref": "x",
          "y0": 0,
          "y1": 1,
          "yref": "y domain"
         }
        ],
        "showlegend": true,
        "template": {
         "data": {
          "bar": [
           {
            "error_x": {
             "color": "#2a3f5f"
            },
            "error_y": {
             "color": "#2a3f5f"
            },
            "marker": {
             "line": {
              "color": "#E5ECF6",
              "width": 0.5
             },
             "pattern": {
              "fillmode": "overlay",
              "size": 10,
              "solidity": 0.2
             }
            },
            "type": "bar"
           }
          ],
          "barpolar": [
           {
            "marker": {
             "line": {
              "color": "#E5ECF6",
              "width": 0.5
             },
             "pattern": {
              "fillmode": "overlay",
              "size": 10,
              "solidity": 0.2
             }
            },
            "type": "barpolar"
           }
          ],
          "carpet": [
           {
            "aaxis": {
             "endlinecolor": "#2a3f5f",
             "gridcolor": "white",
             "linecolor": "white",
             "minorgridcolor": "white",
             "startlinecolor": "#2a3f5f"
            },
            "baxis": {
             "endlinecolor": "#2a3f5f",
             "gridcolor": "white",
             "linecolor": "white",
             "minorgridcolor": "white",
             "startlinecolor": "#2a3f5f"
            },
            "type": "carpet"
           }
          ],
          "choropleth": [
           {
            "colorbar": {
             "outlinewidth": 0,
             "ticks": ""
            },
            "type": "choropleth"
           }
          ],
          "contour": [
           {
            "colorbar": {
             "outlinewidth": 0,
             "ticks": ""
            },
            "colorscale": [
             [
              0,
              "#0d0887"
             ],
             [
              0.1111111111111111,
              "#46039f"
             ],
             [
              0.2222222222222222,
              "#7201a8"
             ],
             [
              0.3333333333333333,
              "#9c179e"
             ],
             [
              0.4444444444444444,
              "#bd3786"
             ],
             [
              0.5555555555555556,
              "#d8576b"
             ],
             [
              0.6666666666666666,
              "#ed7953"
             ],
             [
              0.7777777777777778,
              "#fb9f3a"
             ],
             [
              0.8888888888888888,
              "#fdca26"
             ],
             [
              1,
              "#f0f921"
             ]
            ],
            "type": "contour"
           }
          ],
          "contourcarpet": [
           {
            "colorbar": {
             "outlinewidth": 0,
             "ticks": ""
            },
            "type": "contourcarpet"
           }
          ],
          "heatmap": [
           {
            "colorbar": {
             "outlinewidth": 0,
             "ticks": ""
            },
            "colorscale": [
             [
              0,
              "#0d0887"
             ],
             [
              0.1111111111111111,
              "#46039f"
             ],
             [
              0.2222222222222222,
              "#7201a8"
             ],
             [
              0.3333333333333333,
              "#9c179e"
             ],
             [
              0.4444444444444444,
              "#bd3786"
             ],
             [
              0.5555555555555556,
              "#d8576b"
             ],
             [
              0.6666666666666666,
              "#ed7953"
             ],
             [
              0.7777777777777778,
              "#fb9f3a"
             ],
             [
              0.8888888888888888,
              "#fdca26"
             ],
             [
              1,
              "#f0f921"
             ]
            ],
            "type": "heatmap"
           }
          ],
          "heatmapgl": [
           {
            "colorbar": {
             "outlinewidth": 0,
             "ticks": ""
            },
            "colorscale": [
             [
              0,
              "#0d0887"
             ],
             [
              0.1111111111111111,
              "#46039f"
             ],
             [
              0.2222222222222222,
              "#7201a8"
             ],
             [
              0.3333333333333333,
              "#9c179e"
             ],
             [
              0.4444444444444444,
              "#bd3786"
             ],
             [
              0.5555555555555556,
              "#d8576b"
             ],
             [
              0.6666666666666666,
              "#ed7953"
             ],
             [
              0.7777777777777778,
              "#fb9f3a"
             ],
             [
              0.8888888888888888,
              "#fdca26"
             ],
             [
              1,
              "#f0f921"
             ]
            ],
            "type": "heatmapgl"
           }
          ],
          "histogram": [
           {
            "marker": {
             "pattern": {
              "fillmode": "overlay",
              "size": 10,
              "solidity": 0.2
             }
            },
            "type": "histogram"
           }
          ],
          "histogram2d": [
           {
            "colorbar": {
             "outlinewidth": 0,
             "ticks": ""
            },
            "colorscale": [
             [
              0,
              "#0d0887"
             ],
             [
              0.1111111111111111,
              "#46039f"
             ],
             [
              0.2222222222222222,
              "#7201a8"
             ],
             [
              0.3333333333333333,
              "#9c179e"
             ],
             [
              0.4444444444444444,
              "#bd3786"
             ],
             [
              0.5555555555555556,
              "#d8576b"
             ],
             [
              0.6666666666666666,
              "#ed7953"
             ],
             [
              0.7777777777777778,
              "#fb9f3a"
             ],
             [
              0.8888888888888888,
              "#fdca26"
             ],
             [
              1,
              "#f0f921"
             ]
            ],
            "type": "histogram2d"
           }
          ],
          "histogram2dcontour": [
           {
            "colorbar": {
             "outlinewidth": 0,
             "ticks": ""
            },
            "colorscale": [
             [
              0,
              "#0d0887"
             ],
             [
              0.1111111111111111,
              "#46039f"
             ],
             [
              0.2222222222222222,
              "#7201a8"
             ],
             [
              0.3333333333333333,
              "#9c179e"
             ],
             [
              0.4444444444444444,
              "#bd3786"
             ],
             [
              0.5555555555555556,
              "#d8576b"
             ],
             [
              0.6666666666666666,
              "#ed7953"
             ],
             [
              0.7777777777777778,
              "#fb9f3a"
             ],
             [
              0.8888888888888888,
              "#fdca26"
             ],
             [
              1,
              "#f0f921"
             ]
            ],
            "type": "histogram2dcontour"
           }
          ],
          "mesh3d": [
           {
            "colorbar": {
             "outlinewidth": 0,
             "ticks": ""
            },
            "type": "mesh3d"
           }
          ],
          "parcoords": [
           {
            "line": {
             "colorbar": {
              "outlinewidth": 0,
              "ticks": ""
             }
            },
            "type": "parcoords"
           }
          ],
          "pie": [
           {
            "automargin": true,
            "type": "pie"
           }
          ],
          "scatter": [
           {
            "fillpattern": {
             "fillmode": "overlay",
             "size": 10,
             "solidity": 0.2
            },
            "type": "scatter"
           }
          ],
          "scatter3d": [
           {
            "line": {
             "colorbar": {
              "outlinewidth": 0,
              "ticks": ""
             }
            },
            "marker": {
             "colorbar": {
              "outlinewidth": 0,
              "ticks": ""
             }
            },
            "type": "scatter3d"
           }
          ],
          "scattercarpet": [
           {
            "marker": {
             "colorbar": {
              "outlinewidth": 0,
              "ticks": ""
             }
            },
            "type": "scattercarpet"
           }
          ],
          "scattergeo": [
           {
            "marker": {
             "colorbar": {
              "outlinewidth": 0,
              "ticks": ""
             }
            },
            "type": "scattergeo"
           }
          ],
          "scattergl": [
           {
            "marker": {
             "colorbar": {
              "outlinewidth": 0,
              "ticks": ""
             }
            },
            "type": "scattergl"
           }
          ],
          "scattermapbox": [
           {
            "marker": {
             "colorbar": {
              "outlinewidth": 0,
              "ticks": ""
             }
            },
            "type": "scattermapbox"
           }
          ],
          "scatterpolar": [
           {
            "marker": {
             "colorbar": {
              "outlinewidth": 0,
              "ticks": ""
             }
            },
            "type": "scatterpolar"
           }
          ],
          "scatterpolargl": [
           {
            "marker": {
             "colorbar": {
              "outlinewidth": 0,
              "ticks": ""
             }
            },
            "type": "scatterpolargl"
           }
          ],
          "scatterternary": [
           {
            "marker": {
             "colorbar": {
              "outlinewidth": 0,
              "ticks": ""
             }
            },
            "type": "scatterternary"
           }
          ],
          "surface": [
           {
            "colorbar": {
             "outlinewidth": 0,
             "ticks": ""
            },
            "colorscale": [
             [
              0,
              "#0d0887"
             ],
             [
              0.1111111111111111,
              "#46039f"
             ],
             [
              0.2222222222222222,
              "#7201a8"
             ],
             [
              0.3333333333333333,
              "#9c179e"
             ],
             [
              0.4444444444444444,
              "#bd3786"
             ],
             [
              0.5555555555555556,
              "#d8576b"
             ],
             [
              0.6666666666666666,
              "#ed7953"
             ],
             [
              0.7777777777777778,
              "#fb9f3a"
             ],
             [
              0.8888888888888888,
              "#fdca26"
             ],
             [
              1,
              "#f0f921"
             ]
            ],
            "type": "surface"
           }
          ],
          "table": [
           {
            "cells": {
             "fill": {
              "color": "#EBF0F8"
             },
             "line": {
              "color": "white"
             }
            },
            "header": {
             "fill": {
              "color": "#C8D4E3"
             },
             "line": {
              "color": "white"
             }
            },
            "type": "table"
           }
          ]
         },
         "layout": {
          "annotationdefaults": {
           "arrowcolor": "#2a3f5f",
           "arrowhead": 0,
           "arrowwidth": 1
          },
          "autotypenumbers": "strict",
          "coloraxis": {
           "colorbar": {
            "outlinewidth": 0,
            "ticks": ""
           }
          },
          "colorscale": {
           "diverging": [
            [
             0,
             "#8e0152"
            ],
            [
             0.1,
             "#c51b7d"
            ],
            [
             0.2,
             "#de77ae"
            ],
            [
             0.3,
             "#f1b6da"
            ],
            [
             0.4,
             "#fde0ef"
            ],
            [
             0.5,
             "#f7f7f7"
            ],
            [
             0.6,
             "#e6f5d0"
            ],
            [
             0.7,
             "#b8e186"
            ],
            [
             0.8,
             "#7fbc41"
            ],
            [
             0.9,
             "#4d9221"
            ],
            [
             1,
             "#276419"
            ]
           ],
           "sequential": [
            [
             0,
             "#0d0887"
            ],
            [
             0.1111111111111111,
             "#46039f"
            ],
            [
             0.2222222222222222,
             "#7201a8"
            ],
            [
             0.3333333333333333,
             "#9c179e"
            ],
            [
             0.4444444444444444,
             "#bd3786"
            ],
            [
             0.5555555555555556,
             "#d8576b"
            ],
            [
             0.6666666666666666,
             "#ed7953"
            ],
            [
             0.7777777777777778,
             "#fb9f3a"
            ],
            [
             0.8888888888888888,
             "#fdca26"
            ],
            [
             1,
             "#f0f921"
            ]
           ],
           "sequentialminus": [
            [
             0,
             "#0d0887"
            ],
            [
             0.1111111111111111,
             "#46039f"
            ],
            [
             0.2222222222222222,
             "#7201a8"
            ],
            [
             0.3333333333333333,
             "#9c179e"
            ],
            [
             0.4444444444444444,
             "#bd3786"
            ],
            [
             0.5555555555555556,
             "#d8576b"
            ],
            [
             0.6666666666666666,
             "#ed7953"
            ],
            [
             0.7777777777777778,
             "#fb9f3a"
            ],
            [
             0.8888888888888888,
             "#fdca26"
            ],
            [
             1,
             "#f0f921"
            ]
           ]
          },
          "colorway": [
           "#636efa",
           "#EF553B",
           "#00cc96",
           "#ab63fa",
           "#FFA15A",
           "#19d3f3",
           "#FF6692",
           "#B6E880",
           "#FF97FF",
           "#FECB52"
          ],
          "font": {
           "color": "#2a3f5f"
          },
          "geo": {
           "bgcolor": "white",
           "lakecolor": "white",
           "landcolor": "#E5ECF6",
           "showlakes": true,
           "showland": true,
           "subunitcolor": "white"
          },
          "hoverlabel": {
           "align": "left"
          },
          "hovermode": "closest",
          "mapbox": {
           "style": "light"
          },
          "paper_bgcolor": "white",
          "plot_bgcolor": "#E5ECF6",
          "polar": {
           "angularaxis": {
            "gridcolor": "white",
            "linecolor": "white",
            "ticks": ""
           },
           "bgcolor": "#E5ECF6",
           "radialaxis": {
            "gridcolor": "white",
            "linecolor": "white",
            "ticks": ""
           }
          },
          "scene": {
           "xaxis": {
            "backgroundcolor": "#E5ECF6",
            "gridcolor": "white",
            "gridwidth": 2,
            "linecolor": "white",
            "showbackground": true,
            "ticks": "",
            "zerolinecolor": "white"
           },
           "yaxis": {
            "backgroundcolor": "#E5ECF6",
            "gridcolor": "white",
            "gridwidth": 2,
            "linecolor": "white",
            "showbackground": true,
            "ticks": "",
            "zerolinecolor": "white"
           },
           "zaxis": {
            "backgroundcolor": "#E5ECF6",
            "gridcolor": "white",
            "gridwidth": 2,
            "linecolor": "white",
            "showbackground": true,
            "ticks": "",
            "zerolinecolor": "white"
           }
          },
          "shapedefaults": {
           "line": {
            "color": "#2a3f5f"
           }
          },
          "ternary": {
           "aaxis": {
            "gridcolor": "white",
            "linecolor": "white",
            "ticks": ""
           },
           "baxis": {
            "gridcolor": "white",
            "linecolor": "white",
            "ticks": ""
           },
           "bgcolor": "#E5ECF6",
           "caxis": {
            "gridcolor": "white",
            "linecolor": "white",
            "ticks": ""
           }
          },
          "title": {
           "x": 0.05
          },
          "xaxis": {
           "automargin": true,
           "gridcolor": "white",
           "linecolor": "white",
           "ticks": "",
           "title": {
            "standoff": 15
           },
           "zerolinecolor": "white",
           "zerolinewidth": 2
          },
          "yaxis": {
           "automargin": true,
           "gridcolor": "white",
           "linecolor": "white",
           "ticks": "",
           "title": {
            "standoff": 15
           },
           "zerolinecolor": "white",
           "zerolinewidth": 2
          }
         }
        },
        "title": {
         "text": "cumulative_taxable_income_growth over time"
        },
        "width": 1200,
        "xaxis": {
         "anchor": "y",
         "domain": [
          0,
          1
         ],
         "title": {
          "text": "year"
         }
        },
        "yaxis": {
         "anchor": "x",
         "domain": [
          0,
          1
         ],
         "title": {
          "text": "value"
         }
        }
       }
      }
     },
     "metadata": {},
     "output_type": "display_data"
    },
    {
     "data": {
      "application/vnd.plotly.v1+json": {
       "config": {
        "plotlyServerURL": "https://plot.ly"
       },
       "data": [
        {
         "hovertemplate": "variable=('Shizuoka-ken Atami-shi', 22205)<br>year=%{x}<br>value=%{y}<extra></extra>",
         "legendgroup": "('Shizuoka-ken Atami-shi', 22205)",
         "line": {
          "color": "#636efa",
          "dash": "solid"
         },
         "marker": {
          "symbol": "circle"
         },
         "mode": "lines+markers",
         "name": "('Shizuoka-ken Atami-shi', 22205)",
         "orientation": "v",
         "showlegend": true,
         "type": "scatter",
         "x": [
          2009,
          2010,
          2011,
          2012,
          2013,
          2014,
          2015,
          2016,
          2017,
          2018,
          2019,
          2020,
          2021,
          2022,
          2023
         ],
         "xaxis": "x",
         "y": [
          0.9525720139382696,
          0.9537532432267986,
          0.928685336391979,
          0.8891707783108613,
          0.8893841933049447,
          0.9051529277358668,
          0.8865872762888677,
          0.8861313855355493,
          0.8858379626224075,
          0.8989376474039206,
          0.9064357788875362,
          0.8485936860038819,
          0.8143270480347208,
          0.901851988074189,
          null
         ],
         "yaxis": "y"
        }
       ],
       "layout": {
        "autosize": false,
        "height": 600,
        "hovermode": "closest",
        "legend": {
         "title": {
          "text": "variable"
         },
         "tracegroupgap": 0
        },
        "shapes": [
         {
          "fillcolor": "LightSalmon",
          "layer": "below",
          "line": {
           "width": 0
          },
          "opacity": 0.5,
          "type": "rect",
          "x0": 2015,
          "x1": 2020,
          "xref": "x",
          "y0": 0,
          "y1": 1,
          "yref": "y domain"
         }
        ],
        "showlegend": true,
        "template": {
         "data": {
          "bar": [
           {
            "error_x": {
             "color": "#2a3f5f"
            },
            "error_y": {
             "color": "#2a3f5f"
            },
            "marker": {
             "line": {
              "color": "#E5ECF6",
              "width": 0.5
             },
             "pattern": {
              "fillmode": "overlay",
              "size": 10,
              "solidity": 0.2
             }
            },
            "type": "bar"
           }
          ],
          "barpolar": [
           {
            "marker": {
             "line": {
              "color": "#E5ECF6",
              "width": 0.5
             },
             "pattern": {
              "fillmode": "overlay",
              "size": 10,
              "solidity": 0.2
             }
            },
            "type": "barpolar"
           }
          ],
          "carpet": [
           {
            "aaxis": {
             "endlinecolor": "#2a3f5f",
             "gridcolor": "white",
             "linecolor": "white",
             "minorgridcolor": "white",
             "startlinecolor": "#2a3f5f"
            },
            "baxis": {
             "endlinecolor": "#2a3f5f",
             "gridcolor": "white",
             "linecolor": "white",
             "minorgridcolor": "white",
             "startlinecolor": "#2a3f5f"
            },
            "type": "carpet"
           }
          ],
          "choropleth": [
           {
            "colorbar": {
             "outlinewidth": 0,
             "ticks": ""
            },
            "type": "choropleth"
           }
          ],
          "contour": [
           {
            "colorbar": {
             "outlinewidth": 0,
             "ticks": ""
            },
            "colorscale": [
             [
              0,
              "#0d0887"
             ],
             [
              0.1111111111111111,
              "#46039f"
             ],
             [
              0.2222222222222222,
              "#7201a8"
             ],
             [
              0.3333333333333333,
              "#9c179e"
             ],
             [
              0.4444444444444444,
              "#bd3786"
             ],
             [
              0.5555555555555556,
              "#d8576b"
             ],
             [
              0.6666666666666666,
              "#ed7953"
             ],
             [
              0.7777777777777778,
              "#fb9f3a"
             ],
             [
              0.8888888888888888,
              "#fdca26"
             ],
             [
              1,
              "#f0f921"
             ]
            ],
            "type": "contour"
           }
          ],
          "contourcarpet": [
           {
            "colorbar": {
             "outlinewidth": 0,
             "ticks": ""
            },
            "type": "contourcarpet"
           }
          ],
          "heatmap": [
           {
            "colorbar": {
             "outlinewidth": 0,
             "ticks": ""
            },
            "colorscale": [
             [
              0,
              "#0d0887"
             ],
             [
              0.1111111111111111,
              "#46039f"
             ],
             [
              0.2222222222222222,
              "#7201a8"
             ],
             [
              0.3333333333333333,
              "#9c179e"
             ],
             [
              0.4444444444444444,
              "#bd3786"
             ],
             [
              0.5555555555555556,
              "#d8576b"
             ],
             [
              0.6666666666666666,
              "#ed7953"
             ],
             [
              0.7777777777777778,
              "#fb9f3a"
             ],
             [
              0.8888888888888888,
              "#fdca26"
             ],
             [
              1,
              "#f0f921"
             ]
            ],
            "type": "heatmap"
           }
          ],
          "heatmapgl": [
           {
            "colorbar": {
             "outlinewidth": 0,
             "ticks": ""
            },
            "colorscale": [
             [
              0,
              "#0d0887"
             ],
             [
              0.1111111111111111,
              "#46039f"
             ],
             [
              0.2222222222222222,
              "#7201a8"
             ],
             [
              0.3333333333333333,
              "#9c179e"
             ],
             [
              0.4444444444444444,
              "#bd3786"
             ],
             [
              0.5555555555555556,
              "#d8576b"
             ],
             [
              0.6666666666666666,
              "#ed7953"
             ],
             [
              0.7777777777777778,
              "#fb9f3a"
             ],
             [
              0.8888888888888888,
              "#fdca26"
             ],
             [
              1,
              "#f0f921"
             ]
            ],
            "type": "heatmapgl"
           }
          ],
          "histogram": [
           {
            "marker": {
             "pattern": {
              "fillmode": "overlay",
              "size": 10,
              "solidity": 0.2
             }
            },
            "type": "histogram"
           }
          ],
          "histogram2d": [
           {
            "colorbar": {
             "outlinewidth": 0,
             "ticks": ""
            },
            "colorscale": [
             [
              0,
              "#0d0887"
             ],
             [
              0.1111111111111111,
              "#46039f"
             ],
             [
              0.2222222222222222,
              "#7201a8"
             ],
             [
              0.3333333333333333,
              "#9c179e"
             ],
             [
              0.4444444444444444,
              "#bd3786"
             ],
             [
              0.5555555555555556,
              "#d8576b"
             ],
             [
              0.6666666666666666,
              "#ed7953"
             ],
             [
              0.7777777777777778,
              "#fb9f3a"
             ],
             [
              0.8888888888888888,
              "#fdca26"
             ],
             [
              1,
              "#f0f921"
             ]
            ],
            "type": "histogram2d"
           }
          ],
          "histogram2dcontour": [
           {
            "colorbar": {
             "outlinewidth": 0,
             "ticks": ""
            },
            "colorscale": [
             [
              0,
              "#0d0887"
             ],
             [
              0.1111111111111111,
              "#46039f"
             ],
             [
              0.2222222222222222,
              "#7201a8"
             ],
             [
              0.3333333333333333,
              "#9c179e"
             ],
             [
              0.4444444444444444,
              "#bd3786"
             ],
             [
              0.5555555555555556,
              "#d8576b"
             ],
             [
              0.6666666666666666,
              "#ed7953"
             ],
             [
              0.7777777777777778,
              "#fb9f3a"
             ],
             [
              0.8888888888888888,
              "#fdca26"
             ],
             [
              1,
              "#f0f921"
             ]
            ],
            "type": "histogram2dcontour"
           }
          ],
          "mesh3d": [
           {
            "colorbar": {
             "outlinewidth": 0,
             "ticks": ""
            },
            "type": "mesh3d"
           }
          ],
          "parcoords": [
           {
            "line": {
             "colorbar": {
              "outlinewidth": 0,
              "ticks": ""
             }
            },
            "type": "parcoords"
           }
          ],
          "pie": [
           {
            "automargin": true,
            "type": "pie"
           }
          ],
          "scatter": [
           {
            "fillpattern": {
             "fillmode": "overlay",
             "size": 10,
             "solidity": 0.2
            },
            "type": "scatter"
           }
          ],
          "scatter3d": [
           {
            "line": {
             "colorbar": {
              "outlinewidth": 0,
              "ticks": ""
             }
            },
            "marker": {
             "colorbar": {
              "outlinewidth": 0,
              "ticks": ""
             }
            },
            "type": "scatter3d"
           }
          ],
          "scattercarpet": [
           {
            "marker": {
             "colorbar": {
              "outlinewidth": 0,
              "ticks": ""
             }
            },
            "type": "scattercarpet"
           }
          ],
          "scattergeo": [
           {
            "marker": {
             "colorbar": {
              "outlinewidth": 0,
              "ticks": ""
             }
            },
            "type": "scattergeo"
           }
          ],
          "scattergl": [
           {
            "marker": {
             "colorbar": {
              "outlinewidth": 0,
              "ticks": ""
             }
            },
            "type": "scattergl"
           }
          ],
          "scattermapbox": [
           {
            "marker": {
             "colorbar": {
              "outlinewidth": 0,
              "ticks": ""
             }
            },
            "type": "scattermapbox"
           }
          ],
          "scatterpolar": [
           {
            "marker": {
             "colorbar": {
              "outlinewidth": 0,
              "ticks": ""
             }
            },
            "type": "scatterpolar"
           }
          ],
          "scatterpolargl": [
           {
            "marker": {
             "colorbar": {
              "outlinewidth": 0,
              "ticks": ""
             }
            },
            "type": "scatterpolargl"
           }
          ],
          "scatterternary": [
           {
            "marker": {
             "colorbar": {
              "outlinewidth": 0,
              "ticks": ""
             }
            },
            "type": "scatterternary"
           }
          ],
          "surface": [
           {
            "colorbar": {
             "outlinewidth": 0,
             "ticks": ""
            },
            "colorscale": [
             [
              0,
              "#0d0887"
             ],
             [
              0.1111111111111111,
              "#46039f"
             ],
             [
              0.2222222222222222,
              "#7201a8"
             ],
             [
              0.3333333333333333,
              "#9c179e"
             ],
             [
              0.4444444444444444,
              "#bd3786"
             ],
             [
              0.5555555555555556,
              "#d8576b"
             ],
             [
              0.6666666666666666,
              "#ed7953"
             ],
             [
              0.7777777777777778,
              "#fb9f3a"
             ],
             [
              0.8888888888888888,
              "#fdca26"
             ],
             [
              1,
              "#f0f921"
             ]
            ],
            "type": "surface"
           }
          ],
          "table": [
           {
            "cells": {
             "fill": {
              "color": "#EBF0F8"
             },
             "line": {
              "color": "white"
             }
            },
            "header": {
             "fill": {
              "color": "#C8D4E3"
             },
             "line": {
              "color": "white"
             }
            },
            "type": "table"
           }
          ]
         },
         "layout": {
          "annotationdefaults": {
           "arrowcolor": "#2a3f5f",
           "arrowhead": 0,
           "arrowwidth": 1
          },
          "autotypenumbers": "strict",
          "coloraxis": {
           "colorbar": {
            "outlinewidth": 0,
            "ticks": ""
           }
          },
          "colorscale": {
           "diverging": [
            [
             0,
             "#8e0152"
            ],
            [
             0.1,
             "#c51b7d"
            ],
            [
             0.2,
             "#de77ae"
            ],
            [
             0.3,
             "#f1b6da"
            ],
            [
             0.4,
             "#fde0ef"
            ],
            [
             0.5,
             "#f7f7f7"
            ],
            [
             0.6,
             "#e6f5d0"
            ],
            [
             0.7,
             "#b8e186"
            ],
            [
             0.8,
             "#7fbc41"
            ],
            [
             0.9,
             "#4d9221"
            ],
            [
             1,
             "#276419"
            ]
           ],
           "sequential": [
            [
             0,
             "#0d0887"
            ],
            [
             0.1111111111111111,
             "#46039f"
            ],
            [
             0.2222222222222222,
             "#7201a8"
            ],
            [
             0.3333333333333333,
             "#9c179e"
            ],
            [
             0.4444444444444444,
             "#bd3786"
            ],
            [
             0.5555555555555556,
             "#d8576b"
            ],
            [
             0.6666666666666666,
             "#ed7953"
            ],
            [
             0.7777777777777778,
             "#fb9f3a"
            ],
            [
             0.8888888888888888,
             "#fdca26"
            ],
            [
             1,
             "#f0f921"
            ]
           ],
           "sequentialminus": [
            [
             0,
             "#0d0887"
            ],
            [
             0.1111111111111111,
             "#46039f"
            ],
            [
             0.2222222222222222,
             "#7201a8"
            ],
            [
             0.3333333333333333,
             "#9c179e"
            ],
            [
             0.4444444444444444,
             "#bd3786"
            ],
            [
             0.5555555555555556,
             "#d8576b"
            ],
            [
             0.6666666666666666,
             "#ed7953"
            ],
            [
             0.7777777777777778,
             "#fb9f3a"
            ],
            [
             0.8888888888888888,
             "#fdca26"
            ],
            [
             1,
             "#f0f921"
            ]
           ]
          },
          "colorway": [
           "#636efa",
           "#EF553B",
           "#00cc96",
           "#ab63fa",
           "#FFA15A",
           "#19d3f3",
           "#FF6692",
           "#B6E880",
           "#FF97FF",
           "#FECB52"
          ],
          "font": {
           "color": "#2a3f5f"
          },
          "geo": {
           "bgcolor": "white",
           "lakecolor": "white",
           "landcolor": "#E5ECF6",
           "showlakes": true,
           "showland": true,
           "subunitcolor": "white"
          },
          "hoverlabel": {
           "align": "left"
          },
          "hovermode": "closest",
          "mapbox": {
           "style": "light"
          },
          "paper_bgcolor": "white",
          "plot_bgcolor": "#E5ECF6",
          "polar": {
           "angularaxis": {
            "gridcolor": "white",
            "linecolor": "white",
            "ticks": ""
           },
           "bgcolor": "#E5ECF6",
           "radialaxis": {
            "gridcolor": "white",
            "linecolor": "white",
            "ticks": ""
           }
          },
          "scene": {
           "xaxis": {
            "backgroundcolor": "#E5ECF6",
            "gridcolor": "white",
            "gridwidth": 2,
            "linecolor": "white",
            "showbackground": true,
            "ticks": "",
            "zerolinecolor": "white"
           },
           "yaxis": {
            "backgroundcolor": "#E5ECF6",
            "gridcolor": "white",
            "gridwidth": 2,
            "linecolor": "white",
            "showbackground": true,
            "ticks": "",
            "zerolinecolor": "white"
           },
           "zaxis": {
            "backgroundcolor": "#E5ECF6",
            "gridcolor": "white",
            "gridwidth": 2,
            "linecolor": "white",
            "showbackground": true,
            "ticks": "",
            "zerolinecolor": "white"
           }
          },
          "shapedefaults": {
           "line": {
            "color": "#2a3f5f"
           }
          },
          "ternary": {
           "aaxis": {
            "gridcolor": "white",
            "linecolor": "white",
            "ticks": ""
           },
           "baxis": {
            "gridcolor": "white",
            "linecolor": "white",
            "ticks": ""
           },
           "bgcolor": "#E5ECF6",
           "caxis": {
            "gridcolor": "white",
            "linecolor": "white",
            "ticks": ""
           }
          },
          "title": {
           "x": 0.05
          },
          "xaxis": {
           "automargin": true,
           "gridcolor": "white",
           "linecolor": "white",
           "ticks": "",
           "title": {
            "standoff": 15
           },
           "zerolinecolor": "white",
           "zerolinewidth": 2
          },
          "yaxis": {
           "automargin": true,
           "gridcolor": "white",
           "linecolor": "white",
           "ticks": "",
           "title": {
            "standoff": 15
           },
           "zerolinecolor": "white",
           "zerolinewidth": 2
          }
         }
        },
        "title": {
         "text": "cumulative_total_tax_growth over time"
        },
        "width": 1200,
        "xaxis": {
         "anchor": "y",
         "domain": [
          0,
          1
         ],
         "title": {
          "text": "year"
         }
        },
        "yaxis": {
         "anchor": "x",
         "domain": [
          0,
          1
         ],
         "title": {
          "text": "value"
         }
        }
       }
      }
     },
     "metadata": {},
     "output_type": "display_data"
    },
    {
     "data": {
      "application/vnd.plotly.v1+json": {
       "config": {
        "plotlyServerURL": "https://plot.ly"
       },
       "data": [
        {
         "hovertemplate": "variable=('Shizuoka-ken Atami-shi', 22205)<br>year=%{x}<br>value=%{y}<extra></extra>",
         "legendgroup": "('Shizuoka-ken Atami-shi', 22205)",
         "line": {
          "color": "#636efa",
          "dash": "solid"
         },
         "marker": {
          "symbol": "circle"
         },
         "mode": "lines+markers",
         "name": "('Shizuoka-ken Atami-shi', 22205)",
         "orientation": "v",
         "showlegend": true,
         "type": "scatter",
         "x": [
          2009,
          2010,
          2011,
          2012,
          2013,
          2014,
          2015,
          2016,
          2017,
          2018,
          2019,
          2020,
          2021,
          2022,
          2023
         ],
         "xaxis": "x",
         "y": [
          1.0006065936732278,
          1.0030329683661396,
          1.0079767068029477,
          1.0124654999848348,
          1.015983743289557,
          1.0154984683509747,
          1.0200782505838462,
          1.0251129780716384,
          1.035940675138758,
          1.036911225015923,
          1.037517818689151,
          1.0384277091989929,
          1.0351082974771626,
          1.0311469186119613,
          null
         ],
         "yaxis": "y"
        }
       ],
       "layout": {
        "autosize": false,
        "height": 600,
        "hovermode": "closest",
        "legend": {
         "title": {
          "text": "variable"
         },
         "tracegroupgap": 0
        },
        "shapes": [
         {
          "fillcolor": "LightSalmon",
          "layer": "below",
          "line": {
           "width": 0
          },
          "opacity": 0.5,
          "type": "rect",
          "x0": 2015,
          "x1": 2020,
          "xref": "x",
          "y0": 0,
          "y1": 1,
          "yref": "y domain"
         }
        ],
        "showlegend": true,
        "template": {
         "data": {
          "bar": [
           {
            "error_x": {
             "color": "#2a3f5f"
            },
            "error_y": {
             "color": "#2a3f5f"
            },
            "marker": {
             "line": {
              "color": "#E5ECF6",
              "width": 0.5
             },
             "pattern": {
              "fillmode": "overlay",
              "size": 10,
              "solidity": 0.2
             }
            },
            "type": "bar"
           }
          ],
          "barpolar": [
           {
            "marker": {
             "line": {
              "color": "#E5ECF6",
              "width": 0.5
             },
             "pattern": {
              "fillmode": "overlay",
              "size": 10,
              "solidity": 0.2
             }
            },
            "type": "barpolar"
           }
          ],
          "carpet": [
           {
            "aaxis": {
             "endlinecolor": "#2a3f5f",
             "gridcolor": "white",
             "linecolor": "white",
             "minorgridcolor": "white",
             "startlinecolor": "#2a3f5f"
            },
            "baxis": {
             "endlinecolor": "#2a3f5f",
             "gridcolor": "white",
             "linecolor": "white",
             "minorgridcolor": "white",
             "startlinecolor": "#2a3f5f"
            },
            "type": "carpet"
           }
          ],
          "choropleth": [
           {
            "colorbar": {
             "outlinewidth": 0,
             "ticks": ""
            },
            "type": "choropleth"
           }
          ],
          "contour": [
           {
            "colorbar": {
             "outlinewidth": 0,
             "ticks": ""
            },
            "colorscale": [
             [
              0,
              "#0d0887"
             ],
             [
              0.1111111111111111,
              "#46039f"
             ],
             [
              0.2222222222222222,
              "#7201a8"
             ],
             [
              0.3333333333333333,
              "#9c179e"
             ],
             [
              0.4444444444444444,
              "#bd3786"
             ],
             [
              0.5555555555555556,
              "#d8576b"
             ],
             [
              0.6666666666666666,
              "#ed7953"
             ],
             [
              0.7777777777777778,
              "#fb9f3a"
             ],
             [
              0.8888888888888888,
              "#fdca26"
             ],
             [
              1,
              "#f0f921"
             ]
            ],
            "type": "contour"
           }
          ],
          "contourcarpet": [
           {
            "colorbar": {
             "outlinewidth": 0,
             "ticks": ""
            },
            "type": "contourcarpet"
           }
          ],
          "heatmap": [
           {
            "colorbar": {
             "outlinewidth": 0,
             "ticks": ""
            },
            "colorscale": [
             [
              0,
              "#0d0887"
             ],
             [
              0.1111111111111111,
              "#46039f"
             ],
             [
              0.2222222222222222,
              "#7201a8"
             ],
             [
              0.3333333333333333,
              "#9c179e"
             ],
             [
              0.4444444444444444,
              "#bd3786"
             ],
             [
              0.5555555555555556,
              "#d8576b"
             ],
             [
              0.6666666666666666,
              "#ed7953"
             ],
             [
              0.7777777777777778,
              "#fb9f3a"
             ],
             [
              0.8888888888888888,
              "#fdca26"
             ],
             [
              1,
              "#f0f921"
             ]
            ],
            "type": "heatmap"
           }
          ],
          "heatmapgl": [
           {
            "colorbar": {
             "outlinewidth": 0,
             "ticks": ""
            },
            "colorscale": [
             [
              0,
              "#0d0887"
             ],
             [
              0.1111111111111111,
              "#46039f"
             ],
             [
              0.2222222222222222,
              "#7201a8"
             ],
             [
              0.3333333333333333,
              "#9c179e"
             ],
             [
              0.4444444444444444,
              "#bd3786"
             ],
             [
              0.5555555555555556,
              "#d8576b"
             ],
             [
              0.6666666666666666,
              "#ed7953"
             ],
             [
              0.7777777777777778,
              "#fb9f3a"
             ],
             [
              0.8888888888888888,
              "#fdca26"
             ],
             [
              1,
              "#f0f921"
             ]
            ],
            "type": "heatmapgl"
           }
          ],
          "histogram": [
           {
            "marker": {
             "pattern": {
              "fillmode": "overlay",
              "size": 10,
              "solidity": 0.2
             }
            },
            "type": "histogram"
           }
          ],
          "histogram2d": [
           {
            "colorbar": {
             "outlinewidth": 0,
             "ticks": ""
            },
            "colorscale": [
             [
              0,
              "#0d0887"
             ],
             [
              0.1111111111111111,
              "#46039f"
             ],
             [
              0.2222222222222222,
              "#7201a8"
             ],
             [
              0.3333333333333333,
              "#9c179e"
             ],
             [
              0.4444444444444444,
              "#bd3786"
             ],
             [
              0.5555555555555556,
              "#d8576b"
             ],
             [
              0.6666666666666666,
              "#ed7953"
             ],
             [
              0.7777777777777778,
              "#fb9f3a"
             ],
             [
              0.8888888888888888,
              "#fdca26"
             ],
             [
              1,
              "#f0f921"
             ]
            ],
            "type": "histogram2d"
           }
          ],
          "histogram2dcontour": [
           {
            "colorbar": {
             "outlinewidth": 0,
             "ticks": ""
            },
            "colorscale": [
             [
              0,
              "#0d0887"
             ],
             [
              0.1111111111111111,
              "#46039f"
             ],
             [
              0.2222222222222222,
              "#7201a8"
             ],
             [
              0.3333333333333333,
              "#9c179e"
             ],
             [
              0.4444444444444444,
              "#bd3786"
             ],
             [
              0.5555555555555556,
              "#d8576b"
             ],
             [
              0.6666666666666666,
              "#ed7953"
             ],
             [
              0.7777777777777778,
              "#fb9f3a"
             ],
             [
              0.8888888888888888,
              "#fdca26"
             ],
             [
              1,
              "#f0f921"
             ]
            ],
            "type": "histogram2dcontour"
           }
          ],
          "mesh3d": [
           {
            "colorbar": {
             "outlinewidth": 0,
             "ticks": ""
            },
            "type": "mesh3d"
           }
          ],
          "parcoords": [
           {
            "line": {
             "colorbar": {
              "outlinewidth": 0,
              "ticks": ""
             }
            },
            "type": "parcoords"
           }
          ],
          "pie": [
           {
            "automargin": true,
            "type": "pie"
           }
          ],
          "scatter": [
           {
            "fillpattern": {
             "fillmode": "overlay",
             "size": 10,
             "solidity": 0.2
            },
            "type": "scatter"
           }
          ],
          "scatter3d": [
           {
            "line": {
             "colorbar": {
              "outlinewidth": 0,
              "ticks": ""
             }
            },
            "marker": {
             "colorbar": {
              "outlinewidth": 0,
              "ticks": ""
             }
            },
            "type": "scatter3d"
           }
          ],
          "scattercarpet": [
           {
            "marker": {
             "colorbar": {
              "outlinewidth": 0,
              "ticks": ""
             }
            },
            "type": "scattercarpet"
           }
          ],
          "scattergeo": [
           {
            "marker": {
             "colorbar": {
              "outlinewidth": 0,
              "ticks": ""
             }
            },
            "type": "scattergeo"
           }
          ],
          "scattergl": [
           {
            "marker": {
             "colorbar": {
              "outlinewidth": 0,
              "ticks": ""
             }
            },
            "type": "scattergl"
           }
          ],
          "scattermapbox": [
           {
            "marker": {
             "colorbar": {
              "outlinewidth": 0,
              "ticks": ""
             }
            },
            "type": "scattermapbox"
           }
          ],
          "scatterpolar": [
           {
            "marker": {
             "colorbar": {
              "outlinewidth": 0,
              "ticks": ""
             }
            },
            "type": "scatterpolar"
           }
          ],
          "scatterpolargl": [
           {
            "marker": {
             "colorbar": {
              "outlinewidth": 0,
              "ticks": ""
             }
            },
            "type": "scatterpolargl"
           }
          ],
          "scatterternary": [
           {
            "marker": {
             "colorbar": {
              "outlinewidth": 0,
              "ticks": ""
             }
            },
            "type": "scatterternary"
           }
          ],
          "surface": [
           {
            "colorbar": {
             "outlinewidth": 0,
             "ticks": ""
            },
            "colorscale": [
             [
              0,
              "#0d0887"
             ],
             [
              0.1111111111111111,
              "#46039f"
             ],
             [
              0.2222222222222222,
              "#7201a8"
             ],
             [
              0.3333333333333333,
              "#9c179e"
             ],
             [
              0.4444444444444444,
              "#bd3786"
             ],
             [
              0.5555555555555556,
              "#d8576b"
             ],
             [
              0.6666666666666666,
              "#ed7953"
             ],
             [
              0.7777777777777778,
              "#fb9f3a"
             ],
             [
              0.8888888888888888,
              "#fdca26"
             ],
             [
              1,
              "#f0f921"
             ]
            ],
            "type": "surface"
           }
          ],
          "table": [
           {
            "cells": {
             "fill": {
              "color": "#EBF0F8"
             },
             "line": {
              "color": "white"
             }
            },
            "header": {
             "fill": {
              "color": "#C8D4E3"
             },
             "line": {
              "color": "white"
             }
            },
            "type": "table"
           }
          ]
         },
         "layout": {
          "annotationdefaults": {
           "arrowcolor": "#2a3f5f",
           "arrowhead": 0,
           "arrowwidth": 1
          },
          "autotypenumbers": "strict",
          "coloraxis": {
           "colorbar": {
            "outlinewidth": 0,
            "ticks": ""
           }
          },
          "colorscale": {
           "diverging": [
            [
             0,
             "#8e0152"
            ],
            [
             0.1,
             "#c51b7d"
            ],
            [
             0.2,
             "#de77ae"
            ],
            [
             0.3,
             "#f1b6da"
            ],
            [
             0.4,
             "#fde0ef"
            ],
            [
             0.5,
             "#f7f7f7"
            ],
            [
             0.6,
             "#e6f5d0"
            ],
            [
             0.7,
             "#b8e186"
            ],
            [
             0.8,
             "#7fbc41"
            ],
            [
             0.9,
             "#4d9221"
            ],
            [
             1,
             "#276419"
            ]
           ],
           "sequential": [
            [
             0,
             "#0d0887"
            ],
            [
             0.1111111111111111,
             "#46039f"
            ],
            [
             0.2222222222222222,
             "#7201a8"
            ],
            [
             0.3333333333333333,
             "#9c179e"
            ],
            [
             0.4444444444444444,
             "#bd3786"
            ],
            [
             0.5555555555555556,
             "#d8576b"
            ],
            [
             0.6666666666666666,
             "#ed7953"
            ],
            [
             0.7777777777777778,
             "#fb9f3a"
            ],
            [
             0.8888888888888888,
             "#fdca26"
            ],
            [
             1,
             "#f0f921"
            ]
           ],
           "sequentialminus": [
            [
             0,
             "#0d0887"
            ],
            [
             0.1111111111111111,
             "#46039f"
            ],
            [
             0.2222222222222222,
             "#7201a8"
            ],
            [
             0.3333333333333333,
             "#9c179e"
            ],
            [
             0.4444444444444444,
             "#bd3786"
            ],
            [
             0.5555555555555556,
             "#d8576b"
            ],
            [
             0.6666666666666666,
             "#ed7953"
            ],
            [
             0.7777777777777778,
             "#fb9f3a"
            ],
            [
             0.8888888888888888,
             "#fdca26"
            ],
            [
             1,
             "#f0f921"
            ]
           ]
          },
          "colorway": [
           "#636efa",
           "#EF553B",
           "#00cc96",
           "#ab63fa",
           "#FFA15A",
           "#19d3f3",
           "#FF6692",
           "#B6E880",
           "#FF97FF",
           "#FECB52"
          ],
          "font": {
           "color": "#2a3f5f"
          },
          "geo": {
           "bgcolor": "white",
           "lakecolor": "white",
           "landcolor": "#E5ECF6",
           "showlakes": true,
           "showland": true,
           "subunitcolor": "white"
          },
          "hoverlabel": {
           "align": "left"
          },
          "hovermode": "closest",
          "mapbox": {
           "style": "light"
          },
          "paper_bgcolor": "white",
          "plot_bgcolor": "#E5ECF6",
          "polar": {
           "angularaxis": {
            "gridcolor": "white",
            "linecolor": "white",
            "ticks": ""
           },
           "bgcolor": "#E5ECF6",
           "radialaxis": {
            "gridcolor": "white",
            "linecolor": "white",
            "ticks": ""
           }
          },
          "scene": {
           "xaxis": {
            "backgroundcolor": "#E5ECF6",
            "gridcolor": "white",
            "gridwidth": 2,
            "linecolor": "white",
            "showbackground": true,
            "ticks": "",
            "zerolinecolor": "white"
           },
           "yaxis": {
            "backgroundcolor": "#E5ECF6",
            "gridcolor": "white",
            "gridwidth": 2,
            "linecolor": "white",
            "showbackground": true,
            "ticks": "",
            "zerolinecolor": "white"
           },
           "zaxis": {
            "backgroundcolor": "#E5ECF6",
            "gridcolor": "white",
            "gridwidth": 2,
            "linecolor": "white",
            "showbackground": true,
            "ticks": "",
            "zerolinecolor": "white"
           }
          },
          "shapedefaults": {
           "line": {
            "color": "#2a3f5f"
           }
          },
          "ternary": {
           "aaxis": {
            "gridcolor": "white",
            "linecolor": "white",
            "ticks": ""
           },
           "baxis": {
            "gridcolor": "white",
            "linecolor": "white",
            "ticks": ""
           },
           "bgcolor": "#E5ECF6",
           "caxis": {
            "gridcolor": "white",
            "linecolor": "white",
            "ticks": ""
           }
          },
          "title": {
           "x": 0.05
          },
          "xaxis": {
           "automargin": true,
           "gridcolor": "white",
           "linecolor": "white",
           "ticks": "",
           "title": {
            "standoff": 15
           },
           "zerolinecolor": "white",
           "zerolinewidth": 2
          },
          "yaxis": {
           "automargin": true,
           "gridcolor": "white",
           "linecolor": "white",
           "ticks": "",
           "title": {
            "standoff": 15
           },
           "zerolinecolor": "white",
           "zerolinewidth": 2
          }
         }
        },
        "title": {
         "text": "cumulative_net_migration_ratio over time"
        },
        "width": 1200,
        "xaxis": {
         "anchor": "y",
         "domain": [
          0,
          1
         ],
         "title": {
          "text": "year"
         }
        },
        "yaxis": {
         "anchor": "x",
         "domain": [
          0,
          1
         ],
         "title": {
          "text": "value"
         }
        }
       }
      }
     },
     "metadata": {},
     "output_type": "display_data"
    },
    {
     "data": {
      "application/vnd.plotly.v1+json": {
       "config": {
        "plotlyServerURL": "https://plot.ly"
       },
       "data": [
        {
         "hovertemplate": "variable=('Shizuoka-ken Atami-shi', 22205)<br>year=%{x}<br>value=%{y}<extra></extra>",
         "legendgroup": "('Shizuoka-ken Atami-shi', 22205)",
         "line": {
          "color": "#636efa",
          "dash": "solid"
         },
         "marker": {
          "symbol": "circle"
         },
         "mode": "lines+markers",
         "name": "('Shizuoka-ken Atami-shi', 22205)",
         "orientation": "v",
         "showlegend": true,
         "type": "scatter",
         "x": [
          2009,
          2010,
          2011,
          2012,
          2013,
          2014,
          2015,
          2016,
          2017,
          2018,
          2019,
          2020,
          2021,
          2022,
          2023
         ],
         "xaxis": "x",
         "y": [
          1.0031672125822257,
          1.0120462358896618,
          1.021277171706234,
          1.024011261200292,
          1.0269889824314442,
          1.037383936547467,
          1.0412279039549546,
          1.0429333261146145,
          1.0457215559946935,
          1.0473186973823114,
          1.0500498220224088,
          1.0517010139986762,
          1.0538384527089202,
          null,
          null
         ],
         "yaxis": "y"
        }
       ],
       "layout": {
        "autosize": false,
        "height": 600,
        "hovermode": "closest",
        "legend": {
         "title": {
          "text": "variable"
         },
         "tracegroupgap": 0
        },
        "shapes": [
         {
          "fillcolor": "LightSalmon",
          "layer": "below",
          "line": {
           "width": 0
          },
          "opacity": 0.5,
          "type": "rect",
          "x0": 2015,
          "x1": 2020,
          "xref": "x",
          "y0": 0,
          "y1": 1,
          "yref": "y domain"
         }
        ],
        "showlegend": true,
        "template": {
         "data": {
          "bar": [
           {
            "error_x": {
             "color": "#2a3f5f"
            },
            "error_y": {
             "color": "#2a3f5f"
            },
            "marker": {
             "line": {
              "color": "#E5ECF6",
              "width": 0.5
             },
             "pattern": {
              "fillmode": "overlay",
              "size": 10,
              "solidity": 0.2
             }
            },
            "type": "bar"
           }
          ],
          "barpolar": [
           {
            "marker": {
             "line": {
              "color": "#E5ECF6",
              "width": 0.5
             },
             "pattern": {
              "fillmode": "overlay",
              "size": 10,
              "solidity": 0.2
             }
            },
            "type": "barpolar"
           }
          ],
          "carpet": [
           {
            "aaxis": {
             "endlinecolor": "#2a3f5f",
             "gridcolor": "white",
             "linecolor": "white",
             "minorgridcolor": "white",
             "startlinecolor": "#2a3f5f"
            },
            "baxis": {
             "endlinecolor": "#2a3f5f",
             "gridcolor": "white",
             "linecolor": "white",
             "minorgridcolor": "white",
             "startlinecolor": "#2a3f5f"
            },
            "type": "carpet"
           }
          ],
          "choropleth": [
           {
            "colorbar": {
             "outlinewidth": 0,
             "ticks": ""
            },
            "type": "choropleth"
           }
          ],
          "contour": [
           {
            "colorbar": {
             "outlinewidth": 0,
             "ticks": ""
            },
            "colorscale": [
             [
              0,
              "#0d0887"
             ],
             [
              0.1111111111111111,
              "#46039f"
             ],
             [
              0.2222222222222222,
              "#7201a8"
             ],
             [
              0.3333333333333333,
              "#9c179e"
             ],
             [
              0.4444444444444444,
              "#bd3786"
             ],
             [
              0.5555555555555556,
              "#d8576b"
             ],
             [
              0.6666666666666666,
              "#ed7953"
             ],
             [
              0.7777777777777778,
              "#fb9f3a"
             ],
             [
              0.8888888888888888,
              "#fdca26"
             ],
             [
              1,
              "#f0f921"
             ]
            ],
            "type": "contour"
           }
          ],
          "contourcarpet": [
           {
            "colorbar": {
             "outlinewidth": 0,
             "ticks": ""
            },
            "type": "contourcarpet"
           }
          ],
          "heatmap": [
           {
            "colorbar": {
             "outlinewidth": 0,
             "ticks": ""
            },
            "colorscale": [
             [
              0,
              "#0d0887"
             ],
             [
              0.1111111111111111,
              "#46039f"
             ],
             [
              0.2222222222222222,
              "#7201a8"
             ],
             [
              0.3333333333333333,
              "#9c179e"
             ],
             [
              0.4444444444444444,
              "#bd3786"
             ],
             [
              0.5555555555555556,
              "#d8576b"
             ],
             [
              0.6666666666666666,
              "#ed7953"
             ],
             [
              0.7777777777777778,
              "#fb9f3a"
             ],
             [
              0.8888888888888888,
              "#fdca26"
             ],
             [
              1,
              "#f0f921"
             ]
            ],
            "type": "heatmap"
           }
          ],
          "heatmapgl": [
           {
            "colorbar": {
             "outlinewidth": 0,
             "ticks": ""
            },
            "colorscale": [
             [
              0,
              "#0d0887"
             ],
             [
              0.1111111111111111,
              "#46039f"
             ],
             [
              0.2222222222222222,
              "#7201a8"
             ],
             [
              0.3333333333333333,
              "#9c179e"
             ],
             [
              0.4444444444444444,
              "#bd3786"
             ],
             [
              0.5555555555555556,
              "#d8576b"
             ],
             [
              0.6666666666666666,
              "#ed7953"
             ],
             [
              0.7777777777777778,
              "#fb9f3a"
             ],
             [
              0.8888888888888888,
              "#fdca26"
             ],
             [
              1,
              "#f0f921"
             ]
            ],
            "type": "heatmapgl"
           }
          ],
          "histogram": [
           {
            "marker": {
             "pattern": {
              "fillmode": "overlay",
              "size": 10,
              "solidity": 0.2
             }
            },
            "type": "histogram"
           }
          ],
          "histogram2d": [
           {
            "colorbar": {
             "outlinewidth": 0,
             "ticks": ""
            },
            "colorscale": [
             [
              0,
              "#0d0887"
             ],
             [
              0.1111111111111111,
              "#46039f"
             ],
             [
              0.2222222222222222,
              "#7201a8"
             ],
             [
              0.3333333333333333,
              "#9c179e"
             ],
             [
              0.4444444444444444,
              "#bd3786"
             ],
             [
              0.5555555555555556,
              "#d8576b"
             ],
             [
              0.6666666666666666,
              "#ed7953"
             ],
             [
              0.7777777777777778,
              "#fb9f3a"
             ],
             [
              0.8888888888888888,
              "#fdca26"
             ],
             [
              1,
              "#f0f921"
             ]
            ],
            "type": "histogram2d"
           }
          ],
          "histogram2dcontour": [
           {
            "colorbar": {
             "outlinewidth": 0,
             "ticks": ""
            },
            "colorscale": [
             [
              0,
              "#0d0887"
             ],
             [
              0.1111111111111111,
              "#46039f"
             ],
             [
              0.2222222222222222,
              "#7201a8"
             ],
             [
              0.3333333333333333,
              "#9c179e"
             ],
             [
              0.4444444444444444,
              "#bd3786"
             ],
             [
              0.5555555555555556,
              "#d8576b"
             ],
             [
              0.6666666666666666,
              "#ed7953"
             ],
             [
              0.7777777777777778,
              "#fb9f3a"
             ],
             [
              0.8888888888888888,
              "#fdca26"
             ],
             [
              1,
              "#f0f921"
             ]
            ],
            "type": "histogram2dcontour"
           }
          ],
          "mesh3d": [
           {
            "colorbar": {
             "outlinewidth": 0,
             "ticks": ""
            },
            "type": "mesh3d"
           }
          ],
          "parcoords": [
           {
            "line": {
             "colorbar": {
              "outlinewidth": 0,
              "ticks": ""
             }
            },
            "type": "parcoords"
           }
          ],
          "pie": [
           {
            "automargin": true,
            "type": "pie"
           }
          ],
          "scatter": [
           {
            "fillpattern": {
             "fillmode": "overlay",
             "size": 10,
             "solidity": 0.2
            },
            "type": "scatter"
           }
          ],
          "scatter3d": [
           {
            "line": {
             "colorbar": {
              "outlinewidth": 0,
              "ticks": ""
             }
            },
            "marker": {
             "colorbar": {
              "outlinewidth": 0,
              "ticks": ""
             }
            },
            "type": "scatter3d"
           }
          ],
          "scattercarpet": [
           {
            "marker": {
             "colorbar": {
              "outlinewidth": 0,
              "ticks": ""
             }
            },
            "type": "scattercarpet"
           }
          ],
          "scattergeo": [
           {
            "marker": {
             "colorbar": {
              "outlinewidth": 0,
              "ticks": ""
             }
            },
            "type": "scattergeo"
           }
          ],
          "scattergl": [
           {
            "marker": {
             "colorbar": {
              "outlinewidth": 0,
              "ticks": ""
             }
            },
            "type": "scattergl"
           }
          ],
          "scattermapbox": [
           {
            "marker": {
             "colorbar": {
              "outlinewidth": 0,
              "ticks": ""
             }
            },
            "type": "scattermapbox"
           }
          ],
          "scatterpolar": [
           {
            "marker": {
             "colorbar": {
              "outlinewidth": 0,
              "ticks": ""
             }
            },
            "type": "scatterpolar"
           }
          ],
          "scatterpolargl": [
           {
            "marker": {
             "colorbar": {
              "outlinewidth": 0,
              "ticks": ""
             }
            },
            "type": "scatterpolargl"
           }
          ],
          "scatterternary": [
           {
            "marker": {
             "colorbar": {
              "outlinewidth": 0,
              "ticks": ""
             }
            },
            "type": "scatterternary"
           }
          ],
          "surface": [
           {
            "colorbar": {
             "outlinewidth": 0,
             "ticks": ""
            },
            "colorscale": [
             [
              0,
              "#0d0887"
             ],
             [
              0.1111111111111111,
              "#46039f"
             ],
             [
              0.2222222222222222,
              "#7201a8"
             ],
             [
              0.3333333333333333,
              "#9c179e"
             ],
             [
              0.4444444444444444,
              "#bd3786"
             ],
             [
              0.5555555555555556,
              "#d8576b"
             ],
             [
              0.6666666666666666,
              "#ed7953"
             ],
             [
              0.7777777777777778,
              "#fb9f3a"
             ],
             [
              0.8888888888888888,
              "#fdca26"
             ],
             [
              1,
              "#f0f921"
             ]
            ],
            "type": "surface"
           }
          ],
          "table": [
           {
            "cells": {
             "fill": {
              "color": "#EBF0F8"
             },
             "line": {
              "color": "white"
             }
            },
            "header": {
             "fill": {
              "color": "#C8D4E3"
             },
             "line": {
              "color": "white"
             }
            },
            "type": "table"
           }
          ]
         },
         "layout": {
          "annotationdefaults": {
           "arrowcolor": "#2a3f5f",
           "arrowhead": 0,
           "arrowwidth": 1
          },
          "autotypenumbers": "strict",
          "coloraxis": {
           "colorbar": {
            "outlinewidth": 0,
            "ticks": ""
           }
          },
          "colorscale": {
           "diverging": [
            [
             0,
             "#8e0152"
            ],
            [
             0.1,
             "#c51b7d"
            ],
            [
             0.2,
             "#de77ae"
            ],
            [
             0.3,
             "#f1b6da"
            ],
            [
             0.4,
             "#fde0ef"
            ],
            [
             0.5,
             "#f7f7f7"
            ],
            [
             0.6,
             "#e6f5d0"
            ],
            [
             0.7,
             "#b8e186"
            ],
            [
             0.8,
             "#7fbc41"
            ],
            [
             0.9,
             "#4d9221"
            ],
            [
             1,
             "#276419"
            ]
           ],
           "sequential": [
            [
             0,
             "#0d0887"
            ],
            [
             0.1111111111111111,
             "#46039f"
            ],
            [
             0.2222222222222222,
             "#7201a8"
            ],
            [
             0.3333333333333333,
             "#9c179e"
            ],
            [
             0.4444444444444444,
             "#bd3786"
            ],
            [
             0.5555555555555556,
             "#d8576b"
            ],
            [
             0.6666666666666666,
             "#ed7953"
            ],
            [
             0.7777777777777778,
             "#fb9f3a"
            ],
            [
             0.8888888888888888,
             "#fdca26"
            ],
            [
             1,
             "#f0f921"
            ]
           ],
           "sequentialminus": [
            [
             0,
             "#0d0887"
            ],
            [
             0.1111111111111111,
             "#46039f"
            ],
            [
             0.2222222222222222,
             "#7201a8"
            ],
            [
             0.3333333333333333,
             "#9c179e"
            ],
            [
             0.4444444444444444,
             "#bd3786"
            ],
            [
             0.5555555555555556,
             "#d8576b"
            ],
            [
             0.6666666666666666,
             "#ed7953"
            ],
            [
             0.7777777777777778,
             "#fb9f3a"
            ],
            [
             0.8888888888888888,
             "#fdca26"
            ],
            [
             1,
             "#f0f921"
            ]
           ]
          },
          "colorway": [
           "#636efa",
           "#EF553B",
           "#00cc96",
           "#ab63fa",
           "#FFA15A",
           "#19d3f3",
           "#FF6692",
           "#B6E880",
           "#FF97FF",
           "#FECB52"
          ],
          "font": {
           "color": "#2a3f5f"
          },
          "geo": {
           "bgcolor": "white",
           "lakecolor": "white",
           "landcolor": "#E5ECF6",
           "showlakes": true,
           "showland": true,
           "subunitcolor": "white"
          },
          "hoverlabel": {
           "align": "left"
          },
          "hovermode": "closest",
          "mapbox": {
           "style": "light"
          },
          "paper_bgcolor": "white",
          "plot_bgcolor": "#E5ECF6",
          "polar": {
           "angularaxis": {
            "gridcolor": "white",
            "linecolor": "white",
            "ticks": ""
           },
           "bgcolor": "#E5ECF6",
           "radialaxis": {
            "gridcolor": "white",
            "linecolor": "white",
            "ticks": ""
           }
          },
          "scene": {
           "xaxis": {
            "backgroundcolor": "#E5ECF6",
            "gridcolor": "white",
            "gridwidth": 2,
            "linecolor": "white",
            "showbackground": true,
            "ticks": "",
            "zerolinecolor": "white"
           },
           "yaxis": {
            "backgroundcolor": "#E5ECF6",
            "gridcolor": "white",
            "gridwidth": 2,
            "linecolor": "white",
            "showbackground": true,
            "ticks": "",
            "zerolinecolor": "white"
           },
           "zaxis": {
            "backgroundcolor": "#E5ECF6",
            "gridcolor": "white",
            "gridwidth": 2,
            "linecolor": "white",
            "showbackground": true,
            "ticks": "",
            "zerolinecolor": "white"
           }
          },
          "shapedefaults": {
           "line": {
            "color": "#2a3f5f"
           }
          },
          "ternary": {
           "aaxis": {
            "gridcolor": "white",
            "linecolor": "white",
            "ticks": ""
           },
           "baxis": {
            "gridcolor": "white",
            "linecolor": "white",
            "ticks": ""
           },
           "bgcolor": "#E5ECF6",
           "caxis": {
            "gridcolor": "white",
            "linecolor": "white",
            "ticks": ""
           }
          },
          "title": {
           "x": 0.05
          },
          "xaxis": {
           "automargin": true,
           "gridcolor": "white",
           "linecolor": "white",
           "ticks": "",
           "title": {
            "standoff": 15
           },
           "zerolinecolor": "white",
           "zerolinewidth": 2
          },
          "yaxis": {
           "automargin": true,
           "gridcolor": "white",
           "linecolor": "white",
           "ticks": "",
           "title": {
            "standoff": 15
           },
           "zerolinecolor": "white",
           "zerolinewidth": 2
          }
         }
        },
        "title": {
         "text": "cumulative_new_dwellings_ratio over time"
        },
        "width": 1200,
        "xaxis": {
         "anchor": "y",
         "domain": [
          0,
          1
         ],
         "title": {
          "text": "year"
         }
        },
        "yaxis": {
         "anchor": "x",
         "domain": [
          0,
          1
         ],
         "title": {
          "text": "value"
         }
        }
       }
      }
     },
     "metadata": {},
     "output_type": "display_data"
    },
    {
     "data": {
      "application/vnd.plotly.v1+json": {
       "config": {
        "plotlyServerURL": "https://plot.ly"
       },
       "data": [
        {
         "hovertemplate": "variable=('Shizuoka-ken Atami-shi', 22205)<br>year=%{x}<br>value=%{y}<extra></extra>",
         "legendgroup": "('Shizuoka-ken Atami-shi', 22205)",
         "line": {
          "color": "#636efa",
          "dash": "solid"
         },
         "marker": {
          "symbol": "circle"
         },
         "mode": "lines+markers",
         "name": "('Shizuoka-ken Atami-shi', 22205)",
         "orientation": "v",
         "showlegend": true,
         "type": "scatter",
         "x": [
          2009,
          2010,
          2011,
          2012,
          2013,
          2014,
          2015,
          2016,
          2017,
          2018,
          2019,
          2020,
          2021,
          2022,
          2023
         ],
         "xaxis": "x",
         "y": [
          null,
          0.9752359741223884,
          0.9426238201293881,
          0.9129282002333228,
          0.9086859688195992,
          0.910223777707074,
          0.8982925018559763,
          0.903807402693817,
          0.9087389967122708,
          0.9209354120267261,
          0.9144660091207976,
          0.9048149326545764,
          0.8839219429419874,
          0.8839219429419874,
          0.8839219429419874
         ],
         "yaxis": "y"
        }
       ],
       "layout": {
        "autosize": false,
        "height": 600,
        "hovermode": "closest",
        "legend": {
         "title": {
          "text": "variable"
         },
         "tracegroupgap": 0
        },
        "shapes": [
         {
          "fillcolor": "LightSalmon",
          "layer": "below",
          "line": {
           "width": 0
          },
          "opacity": 0.5,
          "type": "rect",
          "x0": 2015,
          "x1": 2020,
          "xref": "x",
          "y0": 0,
          "y1": 1,
          "yref": "y domain"
         }
        ],
        "showlegend": true,
        "template": {
         "data": {
          "bar": [
           {
            "error_x": {
             "color": "#2a3f5f"
            },
            "error_y": {
             "color": "#2a3f5f"
            },
            "marker": {
             "line": {
              "color": "#E5ECF6",
              "width": 0.5
             },
             "pattern": {
              "fillmode": "overlay",
              "size": 10,
              "solidity": 0.2
             }
            },
            "type": "bar"
           }
          ],
          "barpolar": [
           {
            "marker": {
             "line": {
              "color": "#E5ECF6",
              "width": 0.5
             },
             "pattern": {
              "fillmode": "overlay",
              "size": 10,
              "solidity": 0.2
             }
            },
            "type": "barpolar"
           }
          ],
          "carpet": [
           {
            "aaxis": {
             "endlinecolor": "#2a3f5f",
             "gridcolor": "white",
             "linecolor": "white",
             "minorgridcolor": "white",
             "startlinecolor": "#2a3f5f"
            },
            "baxis": {
             "endlinecolor": "#2a3f5f",
             "gridcolor": "white",
             "linecolor": "white",
             "minorgridcolor": "white",
             "startlinecolor": "#2a3f5f"
            },
            "type": "carpet"
           }
          ],
          "choropleth": [
           {
            "colorbar": {
             "outlinewidth": 0,
             "ticks": ""
            },
            "type": "choropleth"
           }
          ],
          "contour": [
           {
            "colorbar": {
             "outlinewidth": 0,
             "ticks": ""
            },
            "colorscale": [
             [
              0,
              "#0d0887"
             ],
             [
              0.1111111111111111,
              "#46039f"
             ],
             [
              0.2222222222222222,
              "#7201a8"
             ],
             [
              0.3333333333333333,
              "#9c179e"
             ],
             [
              0.4444444444444444,
              "#bd3786"
             ],
             [
              0.5555555555555556,
              "#d8576b"
             ],
             [
              0.6666666666666666,
              "#ed7953"
             ],
             [
              0.7777777777777778,
              "#fb9f3a"
             ],
             [
              0.8888888888888888,
              "#fdca26"
             ],
             [
              1,
              "#f0f921"
             ]
            ],
            "type": "contour"
           }
          ],
          "contourcarpet": [
           {
            "colorbar": {
             "outlinewidth": 0,
             "ticks": ""
            },
            "type": "contourcarpet"
           }
          ],
          "heatmap": [
           {
            "colorbar": {
             "outlinewidth": 0,
             "ticks": ""
            },
            "colorscale": [
             [
              0,
              "#0d0887"
             ],
             [
              0.1111111111111111,
              "#46039f"
             ],
             [
              0.2222222222222222,
              "#7201a8"
             ],
             [
              0.3333333333333333,
              "#9c179e"
             ],
             [
              0.4444444444444444,
              "#bd3786"
             ],
             [
              0.5555555555555556,
              "#d8576b"
             ],
             [
              0.6666666666666666,
              "#ed7953"
             ],
             [
              0.7777777777777778,
              "#fb9f3a"
             ],
             [
              0.8888888888888888,
              "#fdca26"
             ],
             [
              1,
              "#f0f921"
             ]
            ],
            "type": "heatmap"
           }
          ],
          "heatmapgl": [
           {
            "colorbar": {
             "outlinewidth": 0,
             "ticks": ""
            },
            "colorscale": [
             [
              0,
              "#0d0887"
             ],
             [
              0.1111111111111111,
              "#46039f"
             ],
             [
              0.2222222222222222,
              "#7201a8"
             ],
             [
              0.3333333333333333,
              "#9c179e"
             ],
             [
              0.4444444444444444,
              "#bd3786"
             ],
             [
              0.5555555555555556,
              "#d8576b"
             ],
             [
              0.6666666666666666,
              "#ed7953"
             ],
             [
              0.7777777777777778,
              "#fb9f3a"
             ],
             [
              0.8888888888888888,
              "#fdca26"
             ],
             [
              1,
              "#f0f921"
             ]
            ],
            "type": "heatmapgl"
           }
          ],
          "histogram": [
           {
            "marker": {
             "pattern": {
              "fillmode": "overlay",
              "size": 10,
              "solidity": 0.2
             }
            },
            "type": "histogram"
           }
          ],
          "histogram2d": [
           {
            "colorbar": {
             "outlinewidth": 0,
             "ticks": ""
            },
            "colorscale": [
             [
              0,
              "#0d0887"
             ],
             [
              0.1111111111111111,
              "#46039f"
             ],
             [
              0.2222222222222222,
              "#7201a8"
             ],
             [
              0.3333333333333333,
              "#9c179e"
             ],
             [
              0.4444444444444444,
              "#bd3786"
             ],
             [
              0.5555555555555556,
              "#d8576b"
             ],
             [
              0.6666666666666666,
              "#ed7953"
             ],
             [
              0.7777777777777778,
              "#fb9f3a"
             ],
             [
              0.8888888888888888,
              "#fdca26"
             ],
             [
              1,
              "#f0f921"
             ]
            ],
            "type": "histogram2d"
           }
          ],
          "histogram2dcontour": [
           {
            "colorbar": {
             "outlinewidth": 0,
             "ticks": ""
            },
            "colorscale": [
             [
              0,
              "#0d0887"
             ],
             [
              0.1111111111111111,
              "#46039f"
             ],
             [
              0.2222222222222222,
              "#7201a8"
             ],
             [
              0.3333333333333333,
              "#9c179e"
             ],
             [
              0.4444444444444444,
              "#bd3786"
             ],
             [
              0.5555555555555556,
              "#d8576b"
             ],
             [
              0.6666666666666666,
              "#ed7953"
             ],
             [
              0.7777777777777778,
              "#fb9f3a"
             ],
             [
              0.8888888888888888,
              "#fdca26"
             ],
             [
              1,
              "#f0f921"
             ]
            ],
            "type": "histogram2dcontour"
           }
          ],
          "mesh3d": [
           {
            "colorbar": {
             "outlinewidth": 0,
             "ticks": ""
            },
            "type": "mesh3d"
           }
          ],
          "parcoords": [
           {
            "line": {
             "colorbar": {
              "outlinewidth": 0,
              "ticks": ""
             }
            },
            "type": "parcoords"
           }
          ],
          "pie": [
           {
            "automargin": true,
            "type": "pie"
           }
          ],
          "scatter": [
           {
            "fillpattern": {
             "fillmode": "overlay",
             "size": 10,
             "solidity": 0.2
            },
            "type": "scatter"
           }
          ],
          "scatter3d": [
           {
            "line": {
             "colorbar": {
              "outlinewidth": 0,
              "ticks": ""
             }
            },
            "marker": {
             "colorbar": {
              "outlinewidth": 0,
              "ticks": ""
             }
            },
            "type": "scatter3d"
           }
          ],
          "scattercarpet": [
           {
            "marker": {
             "colorbar": {
              "outlinewidth": 0,
              "ticks": ""
             }
            },
            "type": "scattercarpet"
           }
          ],
          "scattergeo": [
           {
            "marker": {
             "colorbar": {
              "outlinewidth": 0,
              "ticks": ""
             }
            },
            "type": "scattergeo"
           }
          ],
          "scattergl": [
           {
            "marker": {
             "colorbar": {
              "outlinewidth": 0,
              "ticks": ""
             }
            },
            "type": "scattergl"
           }
          ],
          "scattermapbox": [
           {
            "marker": {
             "colorbar": {
              "outlinewidth": 0,
              "ticks": ""
             }
            },
            "type": "scattermapbox"
           }
          ],
          "scatterpolar": [
           {
            "marker": {
             "colorbar": {
              "outlinewidth": 0,
              "ticks": ""
             }
            },
            "type": "scatterpolar"
           }
          ],
          "scatterpolargl": [
           {
            "marker": {
             "colorbar": {
              "outlinewidth": 0,
              "ticks": ""
             }
            },
            "type": "scatterpolargl"
           }
          ],
          "scatterternary": [
           {
            "marker": {
             "colorbar": {
              "outlinewidth": 0,
              "ticks": ""
             }
            },
            "type": "scatterternary"
           }
          ],
          "surface": [
           {
            "colorbar": {
             "outlinewidth": 0,
             "ticks": ""
            },
            "colorscale": [
             [
              0,
              "#0d0887"
             ],
             [
              0.1111111111111111,
              "#46039f"
             ],
             [
              0.2222222222222222,
              "#7201a8"
             ],
             [
              0.3333333333333333,
              "#9c179e"
             ],
             [
              0.4444444444444444,
              "#bd3786"
             ],
             [
              0.5555555555555556,
              "#d8576b"
             ],
             [
              0.6666666666666666,
              "#ed7953"
             ],
             [
              0.7777777777777778,
              "#fb9f3a"
             ],
             [
              0.8888888888888888,
              "#fdca26"
             ],
             [
              1,
              "#f0f921"
             ]
            ],
            "type": "surface"
           }
          ],
          "table": [
           {
            "cells": {
             "fill": {
              "color": "#EBF0F8"
             },
             "line": {
              "color": "white"
             }
            },
            "header": {
             "fill": {
              "color": "#C8D4E3"
             },
             "line": {
              "color": "white"
             }
            },
            "type": "table"
           }
          ]
         },
         "layout": {
          "annotationdefaults": {
           "arrowcolor": "#2a3f5f",
           "arrowhead": 0,
           "arrowwidth": 1
          },
          "autotypenumbers": "strict",
          "coloraxis": {
           "colorbar": {
            "outlinewidth": 0,
            "ticks": ""
           }
          },
          "colorscale": {
           "diverging": [
            [
             0,
             "#8e0152"
            ],
            [
             0.1,
             "#c51b7d"
            ],
            [
             0.2,
             "#de77ae"
            ],
            [
             0.3,
             "#f1b6da"
            ],
            [
             0.4,
             "#fde0ef"
            ],
            [
             0.5,
             "#f7f7f7"
            ],
            [
             0.6,
             "#e6f5d0"
            ],
            [
             0.7,
             "#b8e186"
            ],
            [
             0.8,
             "#7fbc41"
            ],
            [
             0.9,
             "#4d9221"
            ],
            [
             1,
             "#276419"
            ]
           ],
           "sequential": [
            [
             0,
             "#0d0887"
            ],
            [
             0.1111111111111111,
             "#46039f"
            ],
            [
             0.2222222222222222,
             "#7201a8"
            ],
            [
             0.3333333333333333,
             "#9c179e"
            ],
            [
             0.4444444444444444,
             "#bd3786"
            ],
            [
             0.5555555555555556,
             "#d8576b"
            ],
            [
             0.6666666666666666,
             "#ed7953"
            ],
            [
             0.7777777777777778,
             "#fb9f3a"
            ],
            [
             0.8888888888888888,
             "#fdca26"
            ],
            [
             1,
             "#f0f921"
            ]
           ],
           "sequentialminus": [
            [
             0,
             "#0d0887"
            ],
            [
             0.1111111111111111,
             "#46039f"
            ],
            [
             0.2222222222222222,
             "#7201a8"
            ],
            [
             0.3333333333333333,
             "#9c179e"
            ],
            [
             0.4444444444444444,
             "#bd3786"
            ],
            [
             0.5555555555555556,
             "#d8576b"
            ],
            [
             0.6666666666666666,
             "#ed7953"
            ],
            [
             0.7777777777777778,
             "#fb9f3a"
            ],
            [
             0.8888888888888888,
             "#fdca26"
            ],
            [
             1,
             "#f0f921"
            ]
           ]
          },
          "colorway": [
           "#636efa",
           "#EF553B",
           "#00cc96",
           "#ab63fa",
           "#FFA15A",
           "#19d3f3",
           "#FF6692",
           "#B6E880",
           "#FF97FF",
           "#FECB52"
          ],
          "font": {
           "color": "#2a3f5f"
          },
          "geo": {
           "bgcolor": "white",
           "lakecolor": "white",
           "landcolor": "#E5ECF6",
           "showlakes": true,
           "showland": true,
           "subunitcolor": "white"
          },
          "hoverlabel": {
           "align": "left"
          },
          "hovermode": "closest",
          "mapbox": {
           "style": "light"
          },
          "paper_bgcolor": "white",
          "plot_bgcolor": "#E5ECF6",
          "polar": {
           "angularaxis": {
            "gridcolor": "white",
            "linecolor": "white",
            "ticks": ""
           },
           "bgcolor": "#E5ECF6",
           "radialaxis": {
            "gridcolor": "white",
            "linecolor": "white",
            "ticks": ""
           }
          },
          "scene": {
           "xaxis": {
            "backgroundcolor": "#E5ECF6",
            "gridcolor": "white",
            "gridwidth": 2,
            "linecolor": "white",
            "showbackground": true,
            "ticks": "",
            "zerolinecolor": "white"
           },
           "yaxis": {
            "backgroundcolor": "#E5ECF6",
            "gridcolor": "white",
            "gridwidth": 2,
            "linecolor": "white",
            "showbackground": true,
            "ticks": "",
            "zerolinecolor": "white"
           },
           "zaxis": {
            "backgroundcolor": "#E5ECF6",
            "gridcolor": "white",
            "gridwidth": 2,
            "linecolor": "white",
            "showbackground": true,
            "ticks": "",
            "zerolinecolor": "white"
           }
          },
          "shapedefaults": {
           "line": {
            "color": "#2a3f5f"
           }
          },
          "ternary": {
           "aaxis": {
            "gridcolor": "white",
            "linecolor": "white",
            "ticks": ""
           },
           "baxis": {
            "gridcolor": "white",
            "linecolor": "white",
            "ticks": ""
           },
           "bgcolor": "#E5ECF6",
           "caxis": {
            "gridcolor": "white",
            "linecolor": "white",
            "ticks": ""
           }
          },
          "title": {
           "x": 0.05
          },
          "xaxis": {
           "automargin": true,
           "gridcolor": "white",
           "linecolor": "white",
           "ticks": "",
           "title": {
            "standoff": 15
           },
           "zerolinecolor": "white",
           "zerolinewidth": 2
          },
          "yaxis": {
           "automargin": true,
           "gridcolor": "white",
           "linecolor": "white",
           "ticks": "",
           "title": {
            "standoff": 15
           },
           "zerolinecolor": "white",
           "zerolinewidth": 2
          }
         }
        },
        "title": {
         "text": "cumulative_taxpayer_count_growth over time"
        },
        "width": 1200,
        "xaxis": {
         "anchor": "y",
         "domain": [
          0,
          1
         ],
         "title": {
          "text": "year"
         }
        },
        "yaxis": {
         "anchor": "x",
         "domain": [
          0,
          1
         ],
         "title": {
          "text": "value"
         }
        }
       }
      }
     },
     "metadata": {},
     "output_type": "display_data"
    }
   ],
   "source": [
    "area_codes = [22205]\n",
    "area_df = core_df[core_df[\"area_code\"].isin(area_codes)].sort_values(by=\"year\", ascending=True)\n",
    "\n",
    "area_df[f\"cumulative_{metric}_growth\"] = get_cumulative_growth_from_base(area_df.copy(), metric)\n",
    "\n",
    "plot_time_series(\n",
    "    area_df,\n",
    "    f\"cumulative_{metric}_growth\",\n",
    "    group_by_columns,\n",
    "    granularity_columns,\n",
    "    f\"cumulative_{metric}_growth over time\",\n",
    "    # visible=\"legendonly\",\n",
    "    width=1200,\n",
    "    height=600,\n",
    "    highlight=True,\n",
    "    highlight_range=(2020, 2022)\n",
    ")\n",
    "\n",
    "growth_factors = [\n",
    "    \"taxable_income_growth\",\n",
    "    \"total_tax_growth\",\n",
    "    \"net_migration_ratio\",\n",
    "    \"new_dwellings_ratio\",\n",
    "]\n",
    "\n",
    "base_factors = [\n",
    "    \"taxpayer_count\"\n",
    "]\n",
    "\n",
    "cumulative_factors = [\n",
    "    f\"cumulative_{factor}\" for factor in growth_factors\n",
    "] + [\n",
    "    f\"cumulative_{factor}_growth\" for factor in base_factors\n",
    "]\n",
    "\n",
    "area_df[growth_factors] = area_df[growth_factors].replace({0: np.nan})\n",
    "area_df[base_factors] = area_df[base_factors].replace({0: np.nan})\n",
    "\n",
    "for factor in growth_factors:\n",
    "    area_df[f\"cumulative_{factor}\"] = get_cumulative_growth(\n",
    "        area_df.copy(), factor\n",
    "    )\n",
    "\n",
    "for factor in base_factors:\n",
    "    area_df[f\"cumulative_{factor}_growth\"] = get_cumulative_growth_from_base(\n",
    "        area_df.copy(), factor\n",
    "    )\n",
    "\n",
    "for cumulative_factor in cumulative_factors:\n",
    "    plot_time_series(\n",
    "        area_df,\n",
    "        cumulative_factor,\n",
    "        group_by_columns,\n",
    "        granularity_columns,\n",
    "        f\"{cumulative_factor} over time\",\n",
    "        # visible=\"legendonly\",\n",
    "        width=1200,\n",
    "        height=600,\n",
    "        highlight=True,\n",
    "        highlight_range=(2015, 2020)\n",
    "    )\n",
    "\n"
   ]
  },
  {
   "cell_type": "code",
   "execution_count": 59,
   "metadata": {},
   "outputs": [
    {
     "data": {
      "text/html": [
       "<div>\n",
       "<style scoped>\n",
       "    .dataframe tbody tr th:only-of-type {\n",
       "        vertical-align: middle;\n",
       "    }\n",
       "\n",
       "    .dataframe tbody tr th {\n",
       "        vertical-align: top;\n",
       "    }\n",
       "\n",
       "    .dataframe thead th {\n",
       "        text-align: right;\n",
       "    }\n",
       "</style>\n",
       "<table border=\"1\" class=\"dataframe\">\n",
       "  <thead>\n",
       "    <tr style=\"text-align: right;\">\n",
       "      <th></th>\n",
       "      <th>unit_price_wmedian_smoothed_pct_chg</th>\n",
       "      <th>unit_price_wmedian_smoothed</th>\n",
       "      <th>year</th>\n",
       "      <th>years_since_crisis</th>\n",
       "      <th>count</th>\n",
       "      <th>total_traded_area</th>\n",
       "      <th>population</th>\n",
       "      <th>taxpayer_count</th>\n",
       "      <th>taxable_income</th>\n",
       "      <th>taxable_income_per_taxpayer</th>\n",
       "      <th>taxable_income_growth</th>\n",
       "      <th>taxable_income_per_taxpayer_growth</th>\n",
       "      <th>total_tax</th>\n",
       "      <th>total_tax_growth</th>\n",
       "      <th>new_dwellings</th>\n",
       "      <th>existing_dwellings</th>\n",
       "      <th>net_migration_ratio</th>\n",
       "      <th>new_dwellings_ratio</th>\n",
       "      <th>migrations_is_available</th>\n",
       "      <th>taxable_income_is_available</th>\n",
       "      <th>dwellings_is_available</th>\n",
       "      <th>total_tax_is_available</th>\n",
       "      <th>area_code</th>\n",
       "      <th>area</th>\n",
       "      <th>cumulative_unit_price_wmedian_smoothed_growth</th>\n",
       "      <th>cumulative_taxable_income_growth</th>\n",
       "      <th>cumulative_total_tax_growth</th>\n",
       "      <th>cumulative_net_migration_ratio</th>\n",
       "      <th>cumulative_new_dwellings_ratio</th>\n",
       "      <th>cumulative_taxpayer_count_growth</th>\n",
       "    </tr>\n",
       "  </thead>\n",
       "  <tbody>\n",
       "    <tr>\n",
       "      <th>18055</th>\n",
       "      <td>-0.380711</td>\n",
       "      <td>48804.375141</td>\n",
       "      <td>2009</td>\n",
       "      <td>1</td>\n",
       "      <td>66.0</td>\n",
       "      <td>24475.0</td>\n",
       "      <td>32971.0</td>\n",
       "      <td>18858.0</td>\n",
       "      <td>57521629.0</td>\n",
       "      <td>3050.250769</td>\n",
       "      <td>-0.084796</td>\n",
       "      <td>-0.075283</td>\n",
       "      <td>10489161.0</td>\n",
       "      <td>-0.047428</td>\n",
       "      <td>117.0</td>\n",
       "      <td>36941.0</td>\n",
       "      <td>0.000607</td>\n",
       "      <td>0.003167</td>\n",
       "      <td>1</td>\n",
       "      <td>1</td>\n",
       "      <td>1</td>\n",
       "      <td>1</td>\n",
       "      <td>22205</td>\n",
       "      <td>Shizuoka-ken Atami-shi</td>\n",
       "      <td>NaN</td>\n",
       "      <td>0.915204</td>\n",
       "      <td>0.952572</td>\n",
       "      <td>1.000607</td>\n",
       "      <td>1.003167</td>\n",
       "      <td>NaN</td>\n",
       "    </tr>\n",
       "    <tr>\n",
       "      <th>18056</th>\n",
       "      <td>-0.437615</td>\n",
       "      <td>35947.712418</td>\n",
       "      <td>2010</td>\n",
       "      <td>2</td>\n",
       "      <td>81.0</td>\n",
       "      <td>34870.0</td>\n",
       "      <td>32991.0</td>\n",
       "      <td>18391.0</td>\n",
       "      <td>52691475.0</td>\n",
       "      <td>2865.068512</td>\n",
       "      <td>-0.083971</td>\n",
       "      <td>-0.060711</td>\n",
       "      <td>10502168.0</td>\n",
       "      <td>0.001240</td>\n",
       "      <td>328.0</td>\n",
       "      <td>37058.0</td>\n",
       "      <td>0.002425</td>\n",
       "      <td>0.008851</td>\n",
       "      <td>1</td>\n",
       "      <td>1</td>\n",
       "      <td>1</td>\n",
       "      <td>1</td>\n",
       "      <td>22205</td>\n",
       "      <td>Shizuoka-ken Atami-shi</td>\n",
       "      <td>0.736567</td>\n",
       "      <td>0.838354</td>\n",
       "      <td>0.953753</td>\n",
       "      <td>1.003033</td>\n",
       "      <td>1.012046</td>\n",
       "      <td>0.975236</td>\n",
       "    </tr>\n",
       "    <tr>\n",
       "      <th>18057</th>\n",
       "      <td>-0.355986</td>\n",
       "      <td>31430.709603</td>\n",
       "      <td>2011</td>\n",
       "      <td>3</td>\n",
       "      <td>51.0</td>\n",
       "      <td>17320.0</td>\n",
       "      <td>33071.0</td>\n",
       "      <td>17776.0</td>\n",
       "      <td>50732226.0</td>\n",
       "      <td>2853.973110</td>\n",
       "      <td>-0.037183</td>\n",
       "      <td>-0.003873</td>\n",
       "      <td>10226135.0</td>\n",
       "      <td>-0.026283</td>\n",
       "      <td>341.0</td>\n",
       "      <td>37386.0</td>\n",
       "      <td>0.004929</td>\n",
       "      <td>0.009121</td>\n",
       "      <td>1</td>\n",
       "      <td>1</td>\n",
       "      <td>1</td>\n",
       "      <td>1</td>\n",
       "      <td>22205</td>\n",
       "      <td>Shizuoka-ken Atami-shi</td>\n",
       "      <td>0.644014</td>\n",
       "      <td>0.807181</td>\n",
       "      <td>0.928685</td>\n",
       "      <td>1.007977</td>\n",
       "      <td>1.021277</td>\n",
       "      <td>0.942624</td>\n",
       "    </tr>\n",
       "    <tr>\n",
       "      <th>18058</th>\n",
       "      <td>-0.179854</td>\n",
       "      <td>29482.359962</td>\n",
       "      <td>2012</td>\n",
       "      <td>4</td>\n",
       "      <td>80.0</td>\n",
       "      <td>28630.0</td>\n",
       "      <td>33234.0</td>\n",
       "      <td>17216.0</td>\n",
       "      <td>48997548.0</td>\n",
       "      <td>2846.047165</td>\n",
       "      <td>-0.034193</td>\n",
       "      <td>-0.002777</td>\n",
       "      <td>9791024.0</td>\n",
       "      <td>-0.042549</td>\n",
       "      <td>101.0</td>\n",
       "      <td>37727.0</td>\n",
       "      <td>0.004453</td>\n",
       "      <td>0.002677</td>\n",
       "      <td>1</td>\n",
       "      <td>1</td>\n",
       "      <td>1</td>\n",
       "      <td>1</td>\n",
       "      <td>22205</td>\n",
       "      <td>Shizuoka-ken Atami-shi</td>\n",
       "      <td>0.604093</td>\n",
       "      <td>0.779581</td>\n",
       "      <td>0.889171</td>\n",
       "      <td>1.012465</td>\n",
       "      <td>1.024011</td>\n",
       "      <td>0.912928</td>\n",
       "    </tr>\n",
       "    <tr>\n",
       "      <th>18059</th>\n",
       "      <td>-0.040344</td>\n",
       "      <td>30162.666029</td>\n",
       "      <td>2013</td>\n",
       "      <td>5</td>\n",
       "      <td>77.0</td>\n",
       "      <td>34195.0</td>\n",
       "      <td>33382.0</td>\n",
       "      <td>17136.0</td>\n",
       "      <td>48967696.0</td>\n",
       "      <td>2857.591970</td>\n",
       "      <td>-0.000609</td>\n",
       "      <td>0.004056</td>\n",
       "      <td>9793374.0</td>\n",
       "      <td>0.000240</td>\n",
       "      <td>110.0</td>\n",
       "      <td>37828.0</td>\n",
       "      <td>0.003475</td>\n",
       "      <td>0.002908</td>\n",
       "      <td>1</td>\n",
       "      <td>1</td>\n",
       "      <td>1</td>\n",
       "      <td>1</td>\n",
       "      <td>22205</td>\n",
       "      <td>Shizuoka-ken Atami-shi</td>\n",
       "      <td>0.618032</td>\n",
       "      <td>0.779106</td>\n",
       "      <td>0.889384</td>\n",
       "      <td>1.015984</td>\n",
       "      <td>1.026989</td>\n",
       "      <td>0.908686</td>\n",
       "    </tr>\n",
       "    <tr>\n",
       "      <th>18060</th>\n",
       "      <td>0.150013</td>\n",
       "      <td>33905.109157</td>\n",
       "      <td>2014</td>\n",
       "      <td>6</td>\n",
       "      <td>67.0</td>\n",
       "      <td>27145.0</td>\n",
       "      <td>33498.0</td>\n",
       "      <td>17165.0</td>\n",
       "      <td>50435446.0</td>\n",
       "      <td>2938.272415</td>\n",
       "      <td>0.029974</td>\n",
       "      <td>0.028234</td>\n",
       "      <td>9967010.0</td>\n",
       "      <td>0.017730</td>\n",
       "      <td>384.0</td>\n",
       "      <td>37938.0</td>\n",
       "      <td>-0.000478</td>\n",
       "      <td>0.010122</td>\n",
       "      <td>1</td>\n",
       "      <td>1</td>\n",
       "      <td>1</td>\n",
       "      <td>1</td>\n",
       "      <td>22205</td>\n",
       "      <td>Shizuoka-ken Atami-shi</td>\n",
       "      <td>0.694715</td>\n",
       "      <td>0.802459</td>\n",
       "      <td>0.905153</td>\n",
       "      <td>1.015498</td>\n",
       "      <td>1.037384</td>\n",
       "      <td>0.910224</td>\n",
       "    </tr>\n",
       "    <tr>\n",
       "      <th>18061</th>\n",
       "      <td>0.293594</td>\n",
       "      <td>39018.252360</td>\n",
       "      <td>2015</td>\n",
       "      <td>7</td>\n",
       "      <td>68.0</td>\n",
       "      <td>27400.0</td>\n",
       "      <td>33482.0</td>\n",
       "      <td>16940.0</td>\n",
       "      <td>50358761.0</td>\n",
       "      <td>2972.772196</td>\n",
       "      <td>-0.001520</td>\n",
       "      <td>0.011742</td>\n",
       "      <td>9762576.0</td>\n",
       "      <td>-0.020511</td>\n",
       "      <td>142.0</td>\n",
       "      <td>38322.0</td>\n",
       "      <td>0.004510</td>\n",
       "      <td>0.003705</td>\n",
       "      <td>1</td>\n",
       "      <td>1</td>\n",
       "      <td>1</td>\n",
       "      <td>1</td>\n",
       "      <td>22205</td>\n",
       "      <td>Shizuoka-ken Atami-shi</td>\n",
       "      <td>0.799483</td>\n",
       "      <td>0.801239</td>\n",
       "      <td>0.886587</td>\n",
       "      <td>1.020078</td>\n",
       "      <td>1.041228</td>\n",
       "      <td>0.898293</td>\n",
       "    </tr>\n",
       "    <tr>\n",
       "      <th>18062</th>\n",
       "      <td>0.270834</td>\n",
       "      <td>43087.769156</td>\n",
       "      <td>2016</td>\n",
       "      <td>8</td>\n",
       "      <td>74.0</td>\n",
       "      <td>28440.0</td>\n",
       "      <td>33633.0</td>\n",
       "      <td>17044.0</td>\n",
       "      <td>51725102.0</td>\n",
       "      <td>3034.798287</td>\n",
       "      <td>0.027132</td>\n",
       "      <td>0.020865</td>\n",
       "      <td>9757556.0</td>\n",
       "      <td>-0.000514</td>\n",
       "      <td>63.0</td>\n",
       "      <td>38464.0</td>\n",
       "      <td>0.004936</td>\n",
       "      <td>0.001638</td>\n",
       "      <td>1</td>\n",
       "      <td>1</td>\n",
       "      <td>1</td>\n",
       "      <td>1</td>\n",
       "      <td>22205</td>\n",
       "      <td>Shizuoka-ken Atami-shi</td>\n",
       "      <td>0.882867</td>\n",
       "      <td>0.822978</td>\n",
       "      <td>0.886131</td>\n",
       "      <td>1.025113</td>\n",
       "      <td>1.042933</td>\n",
       "      <td>0.903807</td>\n",
       "    </tr>\n",
       "    <tr>\n",
       "      <th>18063</th>\n",
       "      <td>0.061243</td>\n",
       "      <td>41407.846745</td>\n",
       "      <td>2017</td>\n",
       "      <td>9</td>\n",
       "      <td>81.0</td>\n",
       "      <td>31130.0</td>\n",
       "      <td>33799.0</td>\n",
       "      <td>17137.0</td>\n",
       "      <td>51994130.0</td>\n",
       "      <td>3034.027543</td>\n",
       "      <td>0.005201</td>\n",
       "      <td>-0.000254</td>\n",
       "      <td>9754325.0</td>\n",
       "      <td>-0.000331</td>\n",
       "      <td>103.0</td>\n",
       "      <td>38527.0</td>\n",
       "      <td>0.010562</td>\n",
       "      <td>0.002673</td>\n",
       "      <td>1</td>\n",
       "      <td>1</td>\n",
       "      <td>1</td>\n",
       "      <td>1</td>\n",
       "      <td>22205</td>\n",
       "      <td>Shizuoka-ken Atami-shi</td>\n",
       "      <td>0.848445</td>\n",
       "      <td>0.827258</td>\n",
       "      <td>0.885838</td>\n",
       "      <td>1.035941</td>\n",
       "      <td>1.045722</td>\n",
       "      <td>0.908739</td>\n",
       "    </tr>\n",
       "    <tr>\n",
       "      <th>18064</th>\n",
       "      <td>-0.168853</td>\n",
       "      <td>35812.257810</td>\n",
       "      <td>2018</td>\n",
       "      <td>10</td>\n",
       "      <td>66.0</td>\n",
       "      <td>22720.0</td>\n",
       "      <td>34156.0</td>\n",
       "      <td>17367.0</td>\n",
       "      <td>56631471.0</td>\n",
       "      <td>3260.866644</td>\n",
       "      <td>0.089190</td>\n",
       "      <td>0.074765</td>\n",
       "      <td>9898571.0</td>\n",
       "      <td>0.014788</td>\n",
       "      <td>59.0</td>\n",
       "      <td>38630.0</td>\n",
       "      <td>0.000937</td>\n",
       "      <td>0.001527</td>\n",
       "      <td>1</td>\n",
       "      <td>1</td>\n",
       "      <td>1</td>\n",
       "      <td>1</td>\n",
       "      <td>22205</td>\n",
       "      <td>Shizuoka-ken Atami-shi</td>\n",
       "      <td>0.733792</td>\n",
       "      <td>0.901041</td>\n",
       "      <td>0.898938</td>\n",
       "      <td>1.036911</td>\n",
       "      <td>1.047319</td>\n",
       "      <td>0.920935</td>\n",
       "    </tr>\n",
       "    <tr>\n",
       "      <th>18065</th>\n",
       "      <td>-0.189424</td>\n",
       "      <td>33564.198259</td>\n",
       "      <td>2019</td>\n",
       "      <td>0</td>\n",
       "      <td>61.0</td>\n",
       "      <td>22865.0</td>\n",
       "      <td>34188.0</td>\n",
       "      <td>17245.0</td>\n",
       "      <td>56599122.0</td>\n",
       "      <td>3282.059843</td>\n",
       "      <td>-0.000571</td>\n",
       "      <td>0.006499</td>\n",
       "      <td>9981136.0</td>\n",
       "      <td>0.008341</td>\n",
       "      <td>101.0</td>\n",
       "      <td>38731.0</td>\n",
       "      <td>0.000585</td>\n",
       "      <td>0.002608</td>\n",
       "      <td>1</td>\n",
       "      <td>1</td>\n",
       "      <td>1</td>\n",
       "      <td>1</td>\n",
       "      <td>22205</td>\n",
       "      <td>Shizuoka-ken Atami-shi</td>\n",
       "      <td>0.687729</td>\n",
       "      <td>0.900527</td>\n",
       "      <td>0.906436</td>\n",
       "      <td>1.037518</td>\n",
       "      <td>1.050050</td>\n",
       "      <td>0.914466</td>\n",
       "    </tr>\n",
       "    <tr>\n",
       "      <th>18066</th>\n",
       "      <td>-0.070168</td>\n",
       "      <td>33299.385586</td>\n",
       "      <td>2020</td>\n",
       "      <td>1</td>\n",
       "      <td>91.0</td>\n",
       "      <td>28115.0</td>\n",
       "      <td>34208.0</td>\n",
       "      <td>17063.0</td>\n",
       "      <td>54442464.0</td>\n",
       "      <td>3190.673621</td>\n",
       "      <td>-0.038104</td>\n",
       "      <td>-0.027844</td>\n",
       "      <td>9344213.0</td>\n",
       "      <td>-0.063813</td>\n",
       "      <td>61.0</td>\n",
       "      <td>38792.0</td>\n",
       "      <td>0.000877</td>\n",
       "      <td>0.001572</td>\n",
       "      <td>1</td>\n",
       "      <td>1</td>\n",
       "      <td>1</td>\n",
       "      <td>1</td>\n",
       "      <td>22205</td>\n",
       "      <td>Shizuoka-ken Atami-shi</td>\n",
       "      <td>0.682303</td>\n",
       "      <td>0.866213</td>\n",
       "      <td>0.848594</td>\n",
       "      <td>1.038428</td>\n",
       "      <td>1.051701</td>\n",
       "      <td>0.904815</td>\n",
       "    </tr>\n",
       "    <tr>\n",
       "      <th>18067</th>\n",
       "      <td>0.160012</td>\n",
       "      <td>38934.866167</td>\n",
       "      <td>2021</td>\n",
       "      <td>2</td>\n",
       "      <td>71.0</td>\n",
       "      <td>28815.0</td>\n",
       "      <td>34099.0</td>\n",
       "      <td>16669.0</td>\n",
       "      <td>52818894.0</td>\n",
       "      <td>3168.690023</td>\n",
       "      <td>-0.029822</td>\n",
       "      <td>-0.006890</td>\n",
       "      <td>8966889.0</td>\n",
       "      <td>-0.040381</td>\n",
       "      <td>79.0</td>\n",
       "      <td>38871.0</td>\n",
       "      <td>-0.003197</td>\n",
       "      <td>0.002032</td>\n",
       "      <td>1</td>\n",
       "      <td>1</td>\n",
       "      <td>1</td>\n",
       "      <td>1</td>\n",
       "      <td>22205</td>\n",
       "      <td>Shizuoka-ken Atami-shi</td>\n",
       "      <td>0.797774</td>\n",
       "      <td>0.840381</td>\n",
       "      <td>0.814327</td>\n",
       "      <td>1.035108</td>\n",
       "      <td>1.053838</td>\n",
       "      <td>0.883922</td>\n",
       "    </tr>\n",
       "    <tr>\n",
       "      <th>18068</th>\n",
       "      <td>0.508921</td>\n",
       "      <td>50246.145772</td>\n",
       "      <td>2022</td>\n",
       "      <td>3</td>\n",
       "      <td>63.0</td>\n",
       "      <td>20845.0</td>\n",
       "      <td>33969.0</td>\n",
       "      <td>NaN</td>\n",
       "      <td>0.0</td>\n",
       "      <td>0.000000</td>\n",
       "      <td>NaN</td>\n",
       "      <td>0.000000</td>\n",
       "      <td>9930662.0</td>\n",
       "      <td>0.107481</td>\n",
       "      <td>0.0</td>\n",
       "      <td>0.0</td>\n",
       "      <td>-0.003827</td>\n",
       "      <td>NaN</td>\n",
       "      <td>1</td>\n",
       "      <td>0</td>\n",
       "      <td>0</td>\n",
       "      <td>1</td>\n",
       "      <td>22205</td>\n",
       "      <td>Shizuoka-ken Atami-shi</td>\n",
       "      <td>1.029542</td>\n",
       "      <td>NaN</td>\n",
       "      <td>0.901852</td>\n",
       "      <td>1.031147</td>\n",
       "      <td>NaN</td>\n",
       "      <td>0.883922</td>\n",
       "    </tr>\n",
       "    <tr>\n",
       "      <th>18069</th>\n",
       "      <td>0.622221</td>\n",
       "      <td>63160.966042</td>\n",
       "      <td>2023</td>\n",
       "      <td>4</td>\n",
       "      <td>21.0</td>\n",
       "      <td>8610.0</td>\n",
       "      <td>0.0</td>\n",
       "      <td>NaN</td>\n",
       "      <td>0.0</td>\n",
       "      <td>0.000000</td>\n",
       "      <td>NaN</td>\n",
       "      <td>0.000000</td>\n",
       "      <td>0.0</td>\n",
       "      <td>NaN</td>\n",
       "      <td>0.0</td>\n",
       "      <td>0.0</td>\n",
       "      <td>NaN</td>\n",
       "      <td>NaN</td>\n",
       "      <td>0</td>\n",
       "      <td>0</td>\n",
       "      <td>0</td>\n",
       "      <td>0</td>\n",
       "      <td>22205</td>\n",
       "      <td>Shizuoka-ken Atami-shi</td>\n",
       "      <td>1.294166</td>\n",
       "      <td>NaN</td>\n",
       "      <td>NaN</td>\n",
       "      <td>NaN</td>\n",
       "      <td>NaN</td>\n",
       "      <td>0.883922</td>\n",
       "    </tr>\n",
       "  </tbody>\n",
       "</table>\n",
       "</div>"
      ],
      "text/plain": [
       "       unit_price_wmedian_smoothed_pct_chg  unit_price_wmedian_smoothed  year  \\\n",
       "18055                            -0.380711                 48804.375141  2009   \n",
       "18056                            -0.437615                 35947.712418  2010   \n",
       "18057                            -0.355986                 31430.709603  2011   \n",
       "18058                            -0.179854                 29482.359962  2012   \n",
       "18059                            -0.040344                 30162.666029  2013   \n",
       "18060                             0.150013                 33905.109157  2014   \n",
       "18061                             0.293594                 39018.252360  2015   \n",
       "18062                             0.270834                 43087.769156  2016   \n",
       "18063                             0.061243                 41407.846745  2017   \n",
       "18064                            -0.168853                 35812.257810  2018   \n",
       "18065                            -0.189424                 33564.198259  2019   \n",
       "18066                            -0.070168                 33299.385586  2020   \n",
       "18067                             0.160012                 38934.866167  2021   \n",
       "18068                             0.508921                 50246.145772  2022   \n",
       "18069                             0.622221                 63160.966042  2023   \n",
       "\n",
       "       years_since_crisis  count  total_traded_area  population  \\\n",
       "18055                   1   66.0            24475.0     32971.0   \n",
       "18056                   2   81.0            34870.0     32991.0   \n",
       "18057                   3   51.0            17320.0     33071.0   \n",
       "18058                   4   80.0            28630.0     33234.0   \n",
       "18059                   5   77.0            34195.0     33382.0   \n",
       "18060                   6   67.0            27145.0     33498.0   \n",
       "18061                   7   68.0            27400.0     33482.0   \n",
       "18062                   8   74.0            28440.0     33633.0   \n",
       "18063                   9   81.0            31130.0     33799.0   \n",
       "18064                  10   66.0            22720.0     34156.0   \n",
       "18065                   0   61.0            22865.0     34188.0   \n",
       "18066                   1   91.0            28115.0     34208.0   \n",
       "18067                   2   71.0            28815.0     34099.0   \n",
       "18068                   3   63.0            20845.0     33969.0   \n",
       "18069                   4   21.0             8610.0         0.0   \n",
       "\n",
       "       taxpayer_count  taxable_income  taxable_income_per_taxpayer  \\\n",
       "18055         18858.0      57521629.0                  3050.250769   \n",
       "18056         18391.0      52691475.0                  2865.068512   \n",
       "18057         17776.0      50732226.0                  2853.973110   \n",
       "18058         17216.0      48997548.0                  2846.047165   \n",
       "18059         17136.0      48967696.0                  2857.591970   \n",
       "18060         17165.0      50435446.0                  2938.272415   \n",
       "18061         16940.0      50358761.0                  2972.772196   \n",
       "18062         17044.0      51725102.0                  3034.798287   \n",
       "18063         17137.0      51994130.0                  3034.027543   \n",
       "18064         17367.0      56631471.0                  3260.866644   \n",
       "18065         17245.0      56599122.0                  3282.059843   \n",
       "18066         17063.0      54442464.0                  3190.673621   \n",
       "18067         16669.0      52818894.0                  3168.690023   \n",
       "18068             NaN             0.0                     0.000000   \n",
       "18069             NaN             0.0                     0.000000   \n",
       "\n",
       "       taxable_income_growth  taxable_income_per_taxpayer_growth   total_tax  \\\n",
       "18055              -0.084796                           -0.075283  10489161.0   \n",
       "18056              -0.083971                           -0.060711  10502168.0   \n",
       "18057              -0.037183                           -0.003873  10226135.0   \n",
       "18058              -0.034193                           -0.002777   9791024.0   \n",
       "18059              -0.000609                            0.004056   9793374.0   \n",
       "18060               0.029974                            0.028234   9967010.0   \n",
       "18061              -0.001520                            0.011742   9762576.0   \n",
       "18062               0.027132                            0.020865   9757556.0   \n",
       "18063               0.005201                           -0.000254   9754325.0   \n",
       "18064               0.089190                            0.074765   9898571.0   \n",
       "18065              -0.000571                            0.006499   9981136.0   \n",
       "18066              -0.038104                           -0.027844   9344213.0   \n",
       "18067              -0.029822                           -0.006890   8966889.0   \n",
       "18068                    NaN                            0.000000   9930662.0   \n",
       "18069                    NaN                            0.000000         0.0   \n",
       "\n",
       "       total_tax_growth  new_dwellings  existing_dwellings  \\\n",
       "18055         -0.047428          117.0             36941.0   \n",
       "18056          0.001240          328.0             37058.0   \n",
       "18057         -0.026283          341.0             37386.0   \n",
       "18058         -0.042549          101.0             37727.0   \n",
       "18059          0.000240          110.0             37828.0   \n",
       "18060          0.017730          384.0             37938.0   \n",
       "18061         -0.020511          142.0             38322.0   \n",
       "18062         -0.000514           63.0             38464.0   \n",
       "18063         -0.000331          103.0             38527.0   \n",
       "18064          0.014788           59.0             38630.0   \n",
       "18065          0.008341          101.0             38731.0   \n",
       "18066         -0.063813           61.0             38792.0   \n",
       "18067         -0.040381           79.0             38871.0   \n",
       "18068          0.107481            0.0                 0.0   \n",
       "18069               NaN            0.0                 0.0   \n",
       "\n",
       "       net_migration_ratio  new_dwellings_ratio  migrations_is_available  \\\n",
       "18055             0.000607             0.003167                        1   \n",
       "18056             0.002425             0.008851                        1   \n",
       "18057             0.004929             0.009121                        1   \n",
       "18058             0.004453             0.002677                        1   \n",
       "18059             0.003475             0.002908                        1   \n",
       "18060            -0.000478             0.010122                        1   \n",
       "18061             0.004510             0.003705                        1   \n",
       "18062             0.004936             0.001638                        1   \n",
       "18063             0.010562             0.002673                        1   \n",
       "18064             0.000937             0.001527                        1   \n",
       "18065             0.000585             0.002608                        1   \n",
       "18066             0.000877             0.001572                        1   \n",
       "18067            -0.003197             0.002032                        1   \n",
       "18068            -0.003827                  NaN                        1   \n",
       "18069                  NaN                  NaN                        0   \n",
       "\n",
       "       taxable_income_is_available  dwellings_is_available  \\\n",
       "18055                            1                       1   \n",
       "18056                            1                       1   \n",
       "18057                            1                       1   \n",
       "18058                            1                       1   \n",
       "18059                            1                       1   \n",
       "18060                            1                       1   \n",
       "18061                            1                       1   \n",
       "18062                            1                       1   \n",
       "18063                            1                       1   \n",
       "18064                            1                       1   \n",
       "18065                            1                       1   \n",
       "18066                            1                       1   \n",
       "18067                            1                       1   \n",
       "18068                            0                       0   \n",
       "18069                            0                       0   \n",
       "\n",
       "       total_tax_is_available  area_code                    area  \\\n",
       "18055                       1      22205  Shizuoka-ken Atami-shi   \n",
       "18056                       1      22205  Shizuoka-ken Atami-shi   \n",
       "18057                       1      22205  Shizuoka-ken Atami-shi   \n",
       "18058                       1      22205  Shizuoka-ken Atami-shi   \n",
       "18059                       1      22205  Shizuoka-ken Atami-shi   \n",
       "18060                       1      22205  Shizuoka-ken Atami-shi   \n",
       "18061                       1      22205  Shizuoka-ken Atami-shi   \n",
       "18062                       1      22205  Shizuoka-ken Atami-shi   \n",
       "18063                       1      22205  Shizuoka-ken Atami-shi   \n",
       "18064                       1      22205  Shizuoka-ken Atami-shi   \n",
       "18065                       1      22205  Shizuoka-ken Atami-shi   \n",
       "18066                       1      22205  Shizuoka-ken Atami-shi   \n",
       "18067                       1      22205  Shizuoka-ken Atami-shi   \n",
       "18068                       1      22205  Shizuoka-ken Atami-shi   \n",
       "18069                       0      22205  Shizuoka-ken Atami-shi   \n",
       "\n",
       "       cumulative_unit_price_wmedian_smoothed_growth  \\\n",
       "18055                                            NaN   \n",
       "18056                                       0.736567   \n",
       "18057                                       0.644014   \n",
       "18058                                       0.604093   \n",
       "18059                                       0.618032   \n",
       "18060                                       0.694715   \n",
       "18061                                       0.799483   \n",
       "18062                                       0.882867   \n",
       "18063                                       0.848445   \n",
       "18064                                       0.733792   \n",
       "18065                                       0.687729   \n",
       "18066                                       0.682303   \n",
       "18067                                       0.797774   \n",
       "18068                                       1.029542   \n",
       "18069                                       1.294166   \n",
       "\n",
       "       cumulative_taxable_income_growth  cumulative_total_tax_growth  \\\n",
       "18055                          0.915204                     0.952572   \n",
       "18056                          0.838354                     0.953753   \n",
       "18057                          0.807181                     0.928685   \n",
       "18058                          0.779581                     0.889171   \n",
       "18059                          0.779106                     0.889384   \n",
       "18060                          0.802459                     0.905153   \n",
       "18061                          0.801239                     0.886587   \n",
       "18062                          0.822978                     0.886131   \n",
       "18063                          0.827258                     0.885838   \n",
       "18064                          0.901041                     0.898938   \n",
       "18065                          0.900527                     0.906436   \n",
       "18066                          0.866213                     0.848594   \n",
       "18067                          0.840381                     0.814327   \n",
       "18068                               NaN                     0.901852   \n",
       "18069                               NaN                          NaN   \n",
       "\n",
       "       cumulative_net_migration_ratio  cumulative_new_dwellings_ratio  \\\n",
       "18055                        1.000607                        1.003167   \n",
       "18056                        1.003033                        1.012046   \n",
       "18057                        1.007977                        1.021277   \n",
       "18058                        1.012465                        1.024011   \n",
       "18059                        1.015984                        1.026989   \n",
       "18060                        1.015498                        1.037384   \n",
       "18061                        1.020078                        1.041228   \n",
       "18062                        1.025113                        1.042933   \n",
       "18063                        1.035941                        1.045722   \n",
       "18064                        1.036911                        1.047319   \n",
       "18065                        1.037518                        1.050050   \n",
       "18066                        1.038428                        1.051701   \n",
       "18067                        1.035108                        1.053838   \n",
       "18068                        1.031147                             NaN   \n",
       "18069                             NaN                             NaN   \n",
       "\n",
       "       cumulative_taxpayer_count_growth  \n",
       "18055                               NaN  \n",
       "18056                          0.975236  \n",
       "18057                          0.942624  \n",
       "18058                          0.912928  \n",
       "18059                          0.908686  \n",
       "18060                          0.910224  \n",
       "18061                          0.898293  \n",
       "18062                          0.903807  \n",
       "18063                          0.908739  \n",
       "18064                          0.920935  \n",
       "18065                          0.914466  \n",
       "18066                          0.904815  \n",
       "18067                          0.883922  \n",
       "18068                          0.883922  \n",
       "18069                          0.883922  "
      ]
     },
     "execution_count": 59,
     "metadata": {},
     "output_type": "execute_result"
    }
   ],
   "source": [
    "area_df"
   ]
  },
  {
   "cell_type": "code",
   "execution_count": null,
   "metadata": {},
   "outputs": [],
   "source": [
    "# Features: Sources of Taxable Income"
   ]
  }
 ],
 "metadata": {
  "kernelspec": {
   "display_name": "venv",
   "language": "python",
   "name": "python3"
  },
  "language_info": {
   "codemirror_mode": {
    "name": "ipython",
    "version": 3
   },
   "file_extension": ".py",
   "mimetype": "text/x-python",
   "name": "python",
   "nbconvert_exporter": "python",
   "pygments_lexer": "ipython3",
   "version": "3.12.0"
  }
 },
 "nbformat": 4,
 "nbformat_minor": 2
}
