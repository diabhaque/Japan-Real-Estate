{
 "cells": [
  {
   "cell_type": "code",
   "execution_count": 2,
   "metadata": {},
   "outputs": [],
   "source": [
    "import warnings\n",
    "\n",
    "import numpy as np\n",
    "import pandas as pd\n",
    "\n",
    "from jre_utils.datapath import factor_data_paths\n",
    "\n",
    "warnings.filterwarnings(\"ignore\")\n",
    "pd.set_option(\"display.max_columns\", None)"
   ]
  },
  {
   "cell_type": "code",
   "execution_count": 3,
   "metadata": {},
   "outputs": [],
   "source": [
    "new_dwellings_processed_path = factor_data_paths[\"processed\"][\"new_dwellings\"][\"municipality\"]\n",
    "new_dwellings_unprocessed_path = factor_data_paths[\"unprocessed\"][\"new_dwellings\"][\"municipality\"]\n",
    "\n",
    "existing_dwellings_processed_path = factor_data_paths[\"processed\"][\"existing_dwellings\"][\"municipality\"]\n",
    "existing_dwellings_unprocessed_path = factor_data_paths[\"unprocessed\"][\"existing_dwellings\"][\"municipality\"]"
   ]
  },
  {
   "cell_type": "code",
   "execution_count": 4,
   "metadata": {},
   "outputs": [],
   "source": [
    "new_dwellings_df = pd.read_csv(new_dwellings_unprocessed_path)\n",
    "existing_dwellings_df = pd.read_csv(existing_dwellings_unprocessed_path)"
   ]
  },
  {
   "cell_type": "code",
   "execution_count": 5,
   "metadata": {},
   "outputs": [],
   "source": [
    "new_dwellings_df = pd.read_csv(new_dwellings_unprocessed_path)\n",
    "existing_dwellings_df = pd.read_csv(existing_dwellings_unprocessed_path)\n",
    "\n",
    "existing_dwellings_df = existing_dwellings_df[existing_dwellings_df[\"year\"] == 2018]\n",
    "existing_dwellings_df = existing_dwellings_df.drop_duplicates(subset=[\"year\", \"area_code\"])\n",
    "existing_dwellings_df = existing_dwellings_df[existing_dwellings_df[\"existing_dwellings\"].apply(lambda x: x.isdigit())]\n",
    "existing_dwellings_df[\"existing_dwellings\"] = existing_dwellings_df[\"existing_dwellings\"].astype(float)\n",
    "\n",
    "new_dwellings_df = new_dwellings_df.drop_duplicates(subset=[\"year\", \"area_code\"])\n",
    "new_dwellings_df = new_dwellings_df[new_dwellings_df[\"new_dwellings\"].apply(lambda x: x.isdigit())]\n",
    "new_dwellings_df[\"new_dwellings\"] = new_dwellings_df[\"new_dwellings\"].astype(float)\n",
    "\n",
    "new_dwellings_df = new_dwellings_df.merge(existing_dwellings_df, on=[\"year\", \"area_code\"], suffixes=[\"\", \"_y\"], how=\"left\")\n",
    "\n",
    "new_dwellings_df[\"del_dwellings_count\"] = new_dwellings_df[\"new_dwellings\"]\n",
    "new_dwellings_df.loc[new_dwellings_df[\"year\"] == 2018, \"del_dwellings_count\"] = 0\n",
    "\n",
    "new_dwellings_df[\"existing_dwellings\"] = new_dwellings_df.groupby(\"area_code\")[\"existing_dwellings\"].ffill()\n",
    "new_dwellings_df[\"existing_dwellings\"] = new_dwellings_df.groupby(\"area_code\")[\"existing_dwellings\"].bfill()\n",
    "\n",
    "new_dwellings_df_pre = new_dwellings_df[new_dwellings_df[\"year\"] <= 2018]\n",
    "new_dwellings_df_pre = new_dwellings_df_pre.sort_values(by=[\"year\", \"area_code\"], ascending=[False, True])\n",
    "new_dwellings_df_pre[\"cumulative_del_dwellings_count\"] = new_dwellings_df_pre.groupby(\"area_code\")[\"del_dwellings_count\"].cumsum()\n",
    "new_dwellings_df_pre[\"existing_dwellings\"] = new_dwellings_df_pre[\"existing_dwellings\"] - new_dwellings_df_pre[\"cumulative_del_dwellings_count\"]\n",
    "\n",
    "new_dwellings_df_post= new_dwellings_df[new_dwellings_df[\"year\"] > 2018]\n",
    "new_dwellings_df_post = new_dwellings_df_post.sort_values(by=[\"year\", \"area_code\"], ascending=[True, True])\n",
    "new_dwellings_df_post[\"cumulative_del_dwellings_count\"] = new_dwellings_df_post.groupby(\"area_code\")[\"new_dwellings\"].cumsum()\n",
    "new_dwellings_df_post[\"existing_dwellings\"] = new_dwellings_df_post[\"existing_dwellings\"] + new_dwellings_df_post[\"cumulative_del_dwellings_count\"]\n",
    "\n",
    "new_dwellings_df = pd.concat([new_dwellings_df_pre, new_dwellings_df_post], ignore_index=True).sort_values(by=[\"year\", \"area_code\"], ascending=[False, True])\n",
    "\n",
    "new_dwellings_df[\"new_dwellings_ratio\"] = new_dwellings_df[\"new_dwellings\"] / new_dwellings_df[\"existing_dwellings\"]\n",
    "\n",
    "new_dwellings_df = new_dwellings_df.drop(columns=[\"del_dwellings_count\", \"cumulative_del_dwellings_count\", \"area_y\"])"
   ]
  },
  {
   "cell_type": "code",
   "execution_count": 6,
   "metadata": {},
   "outputs": [],
   "source": [
    "log_normalize_columns = [\n",
    "    \"new_dwellings\",\n",
    "    \"existing_dwellings\",\n",
    "    \"new_dwellings_ratio\",\n",
    "]\n",
    "\n",
    "normalize_columns = [\n",
    "    \"new_dwellings_ratio\",\n",
    "]\n",
    "\n",
    "for column in log_normalize_columns:\n",
    "    new_dwellings_df[f\"{column}_log\"] = new_dwellings_df[column].apply(\n",
    "        lambda x: np.log10(1 + x)\n",
    "    )\n",
    "    new_dwellings_df[f\"{column}_log_normalized_yearly\"] = new_dwellings_df.groupby(\n",
    "        \"year\"\n",
    "    )[f\"{column}_log\"].transform(lambda x: (x - x.mean()) / x.std())\n",
    "\n",
    "for column in normalize_columns:\n",
    "    new_dwellings_df[f\"{column}_normalized_yearly\"] = new_dwellings_df.groupby(\"year\")[\n",
    "        column\n",
    "    ].transform(lambda x: (x - x.mean()) / x.std())\n",
    "\n",
    "new_dwellings_df.to_csv(new_dwellings_processed_path, index=False)"
   ]
  },
  {
   "cell_type": "code",
   "execution_count": 41,
   "metadata": {},
   "outputs": [],
   "source": [
    "# I have a field in a pandas dataframe that is df[\"existing_dwellings\"]\n",
    "# The existing dwellings are given at 5 year intervals for each area\n",
    "# I will interpolate the values for the years in between\n",
    "# For example, is area X has 100 dwellings in 2010 and 200 dwellings in 2015, I will interpolate the values for 2011, 2012, 2013, 2014\n",
    "# The values for 2011, 2012, 2013, 2014 will be 120, 140, 160, 180 respectively\n",
    "# Give me the code to do the above \n",
    "\n"
   ]
  },
  {
   "cell_type": "code",
   "execution_count": null,
   "metadata": {},
   "outputs": [],
   "source": []
  }
 ],
 "metadata": {
  "kernelspec": {
   "display_name": "venv",
   "language": "python",
   "name": "python3"
  },
  "language_info": {
   "codemirror_mode": {
    "name": "ipython",
    "version": 3
   },
   "file_extension": ".py",
   "mimetype": "text/x-python",
   "name": "python",
   "nbconvert_exporter": "python",
   "pygments_lexer": "ipython3",
   "version": "3.8.18"
  }
 },
 "nbformat": 4,
 "nbformat_minor": 2
}
