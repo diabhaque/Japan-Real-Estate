{
 "cells": [
  {
   "cell_type": "code",
   "execution_count": 30,
   "metadata": {},
   "outputs": [],
   "source": [
    "import warnings\n",
    "\n",
    "from tqdm import tqdm\n",
    "import pandas as pd\n",
    "import numpy as np\n",
    "import weighted\n",
    "\n",
    "from jre_utils.datapath import DATA_DIRECTORY_PATH\n",
    "from jp_prefecture.address import JpAddressParser\n",
    "\n",
    "warnings.filterwarnings(\"ignore\")\n",
    "pd.set_option(\"display.max_columns\", None)"
   ]
  },
  {
   "cell_type": "code",
   "execution_count": 31,
   "metadata": {},
   "outputs": [
    {
     "data": {
      "text/plain": [
       "'../../data/core_scraped/lpa/2022.csv'"
      ]
     },
     "execution_count": 31,
     "metadata": {},
     "output_type": "execute_result"
    }
   ],
   "source": [
    "\"\"\"\n",
    "Goal: \n",
    "For the LPA data, \n",
    "index by year, prefecture and municipality, then\n",
    "get the weighted average price per unit area\n",
    "DONE!!\n",
    "\"\"\"\n",
    "\n",
    "lpa_data_path = f\"{DATA_DIRECTORY_PATH}/core_scraped/lpa\"\n",
    "lpa_data_paths = {\n",
    "    year: f\"{lpa_data_path}/{year}.csv\"\n",
    "    for year in range(1971, 2024)\n",
    "}\n",
    "print(lpa_data_paths[2022])\n",
    "\n",
    "lpa_pre_derived_data_path = f\"{DATA_DIRECTORY_PATH}/pre_derived_lpa\"\n",
    "lpa_pre_derived_data_paths = {\n",
    "    year: f\"{lpa_pre_derived_data_path}/yearly/{year}.csv\"\n",
    "    for year in range(1971, 2024)\n",
    "}\n",
    "print(lpa_pre_derived_data_paths[2022])\n"
   ]
  },
  {
   "cell_type": "code",
   "execution_count": 32,
   "metadata": {},
   "outputs": [],
   "source": [
    "# convert address to city code\n",
    "addr_column = \"所在及び地番\"\n",
    "price_per_unit_area_column = \"価格(円/m²)\"\n",
    "area_column = \"地積(m²)\"\n",
    "\n",
    "required_columns = [\"year\", \"area_code\", \"area\", \"unit_price\", \"traded_area\"]"
   ]
  },
  {
   "cell_type": "code",
   "execution_count": 33,
   "metadata": {},
   "outputs": [
    {
     "name": "stdout",
     "output_type": "stream",
     "text": [
      "'E.g. Maps 1101 to 1100'\n",
      "'E.g. Maps 1100 to Hokkaido Sapporo-shi'\n"
     ]
    }
   ],
   "source": [
    "import json\n",
    "from pprint import pprint\n",
    "\n",
    "sub_city_to_city_path = f\"{DATA_DIRECTORY_PATH}/core_scraped/sub_city_to_city.json\"\n",
    "with open(sub_city_to_city_path) as fd:\n",
    "     sub_city_to_city = json.load(fd)\n",
    "     pprint(f\"E.g. Maps 1101 to {sub_city_to_city[\"1101\"]}\")\n",
    "\n",
    "area_code_to_area_path = f\"{DATA_DIRECTORY_PATH}/core_scraped/area_code_to_area.json\"\n",
    "with open(area_code_to_area_path) as fd:\n",
    "     area_code_to_area = json.load(fd)\n",
    "     pprint(f\"E.g. Maps 1100 to {area_code_to_area[\"1100\"]}\") \n",
    "\n",
    "def get_area_from_area_code(area_code):\n",
    "     return area_code_to_area.get(area_code, \"na\" )"
   ]
  },
  {
   "cell_type": "code",
   "execution_count": 34,
   "metadata": {},
   "outputs": [],
   "source": [
    "def prepare_area_column(area):\n",
    "    try:\n",
    "        return int(area.split(\"(\")[0].replace(\",\", \"\"))\n",
    "    except:\n",
    "        print(\"error\")\n",
    "        return np.NaN\n",
    "\n",
    "def get_city_code(parser, addr):\n",
    "    try:\n",
    "        city_code = str(parser.parse_address(addr).cityCode)\n",
    "        return sub_city_to_city.get(city_code, city_code)\n",
    "    except:\n",
    "        return addr\n",
    "\n",
    "def get_area_from_area_code(area_code):\n",
    "     return area_code_to_area.get(area_code, \"na\" )\n",
    "\n",
    "parser = JpAddressParser(enable_town=True)"
   ]
  },
  {
   "cell_type": "code",
   "execution_count": 35,
   "metadata": {},
   "outputs": [],
   "source": [
    "def custom_aggregate(x):\n",
    "    d = {}\n",
    "    d[\"unit_price_wmean\"] = np.average(x[\"unit_price\"], weights=x[\"trade_area\"])\n",
    "    d[\"unit_price_wmedian\"] = weighted.median(x[\"unit_price\"], weights=x[\"trade_area\"])\n",
    "    d[\"unit_price_mean\"] = x[\"unit_price\"].mean()\n",
    "    d[\"unit_price_median\"] = x[\"unit_price\"].median()\n",
    "    d[\"total_traded_area\"] = x[\"trade_area\"].sum()\n",
    "    d[\"count\"] = x[\"count\"].count()\n",
    "    return pd.Series(\n",
    "        d,\n",
    "        index=[\n",
    "            \"unit_price_wmean\",\n",
    "            \"unit_price_wmedian\",\n",
    "            \"unit_price_mean\",\n",
    "            \"unit_price_median\",\n",
    "            \"total_traded_area\",\n",
    "            \"count\",\n",
    "        ],\n",
    "    )"
   ]
  },
  {
   "cell_type": "code",
   "execution_count": 37,
   "metadata": {},
   "outputs": [],
   "source": [
    "%%capture\n",
    "\n",
    "for year, data_path in lpa_data_paths.items():\n",
    "    main_df = pd.read_csv(data_path)\n",
    "    main_df = main_df.assign(year=year, count=1)\n",
    "    main_df[\"area_code\"] = main_df[addr_column].apply(lambda x: get_city_code(parser, x))\n",
    "    main_df[\"area\"] = main_df[\"area_code\"].apply(get_area_from_area_code)\n",
    "    main_df[\"unit_price\"] = main_df[price_per_unit_area_column].apply(prepare_area_column)\n",
    "    main_df[\"traded_area\"] = main_df[area_column].apply(prepare_area_column)\n",
    "    main_df = main_df[main_df[\"area_code\"].apply(lambda x: x.isdigit())]\n",
    "    main_df.to_csv(f\"{DATA_DIRECTORY_PATH}/pre_derived_lpa/yearly/{year}.csv\", index=False)"
   ]
  },
  {
   "cell_type": "code",
   "execution_count": null,
   "metadata": {},
   "outputs": [],
   "source": []
  },
  {
   "cell_type": "code",
   "execution_count": 15,
   "metadata": {},
   "outputs": [
    {
     "ename": "KeyError",
     "evalue": "\"['price_per_unit_area', 'area'] not in index\"",
     "output_type": "error",
     "traceback": [
      "\u001b[0;31m---------------------------------------------------------------------------\u001b[0m",
      "\u001b[0;31mKeyError\u001b[0m                                  Traceback (most recent call last)",
      "\u001b[1;32m/Users/diab/Desktop/japan_re/notebooks/core_preprocessing/lpa.ipynb Cell 7\u001b[0m line \u001b[0;36m1\n\u001b[1;32m      <a href='vscode-notebook-cell:/Users/diab/Desktop/japan_re/notebooks/core_preprocessing/lpa.ipynb#W5sZmlsZQ%3D%3D?line=7'>8</a>\u001b[0m main_df[\u001b[39m\"\u001b[39m\u001b[39mtraded_area\u001b[39m\u001b[39m\"\u001b[39m] \u001b[39m=\u001b[39m main_df[area_column]\u001b[39m.\u001b[39mapply(prepare_area_column)\n\u001b[1;32m      <a href='vscode-notebook-cell:/Users/diab/Desktop/japan_re/notebooks/core_preprocessing/lpa.ipynb#W5sZmlsZQ%3D%3D?line=8'>9</a>\u001b[0m main_df \u001b[39m=\u001b[39m main_df[main_df[\u001b[39m\"\u001b[39m\u001b[39marea_code\u001b[39m\u001b[39m\"\u001b[39m]\u001b[39m.\u001b[39mapply(\u001b[39mlambda\u001b[39;00m x: x\u001b[39m.\u001b[39misdigit())]\n\u001b[0;32m---> <a href='vscode-notebook-cell:/Users/diab/Desktop/japan_re/notebooks/core_preprocessing/lpa.ipynb#W5sZmlsZQ%3D%3D?line=10'>11</a>\u001b[0m df \u001b[39m=\u001b[39m main_df[required_columns]\n\u001b[1;32m     <a href='vscode-notebook-cell:/Users/diab/Desktop/japan_re/notebooks/core_preprocessing/lpa.ipynb#W5sZmlsZQ%3D%3D?line=11'>12</a>\u001b[0m df \u001b[39m=\u001b[39m pd\u001b[39m.\u001b[39mSeries(\n\u001b[1;32m     <a href='vscode-notebook-cell:/Users/diab/Desktop/japan_re/notebooks/core_preprocessing/lpa.ipynb#W5sZmlsZQ%3D%3D?line=12'>13</a>\u001b[0m     df\u001b[39m.\u001b[39mgroupby([\u001b[39m\"\u001b[39m\u001b[39myear\u001b[39m\u001b[39m\"\u001b[39m, \u001b[39m\"\u001b[39m\u001b[39marea_code\u001b[39m\u001b[39m\"\u001b[39m])\u001b[39m.\u001b[39mapply(\n\u001b[1;32m     <a href='vscode-notebook-cell:/Users/diab/Desktop/japan_re/notebooks/core_preprocessing/lpa.ipynb#W5sZmlsZQ%3D%3D?line=13'>14</a>\u001b[0m         \u001b[39mlambda\u001b[39;00m x: np\u001b[39m.\u001b[39maverage(x[\u001b[39m\"\u001b[39m\u001b[39munit_price\u001b[39m\u001b[39m\"\u001b[39m], weights\u001b[39m=\u001b[39mx[\u001b[39m\"\u001b[39m\u001b[39mtraded_area\u001b[39m\u001b[39m\"\u001b[39m])\n\u001b[1;32m     <a href='vscode-notebook-cell:/Users/diab/Desktop/japan_re/notebooks/core_preprocessing/lpa.ipynb#W5sZmlsZQ%3D%3D?line=14'>15</a>\u001b[0m     ),\n\u001b[1;32m     <a href='vscode-notebook-cell:/Users/diab/Desktop/japan_re/notebooks/core_preprocessing/lpa.ipynb#W5sZmlsZQ%3D%3D?line=15'>16</a>\u001b[0m     name\u001b[39m=\u001b[39m\u001b[39m\"\u001b[39m\u001b[39munit_price\u001b[39m\u001b[39m\"\u001b[39m,\n\u001b[1;32m     <a href='vscode-notebook-cell:/Users/diab/Desktop/japan_re/notebooks/core_preprocessing/lpa.ipynb#W5sZmlsZQ%3D%3D?line=16'>17</a>\u001b[0m )\u001b[39m.\u001b[39mreset_index()\n\u001b[1;32m     <a href='vscode-notebook-cell:/Users/diab/Desktop/japan_re/notebooks/core_preprocessing/lpa.ipynb#W5sZmlsZQ%3D%3D?line=17'>18</a>\u001b[0m df\u001b[39m.\u001b[39mto_csv(\u001b[39mf\u001b[39m\u001b[39m\"\u001b[39m\u001b[39m{\u001b[39;00mDATA_DIRECTORY_PATH\u001b[39m}\u001b[39;00m\u001b[39m/derived_lpa/yearly/\u001b[39m\u001b[39m{\u001b[39;00myear\u001b[39m}\u001b[39;00m\u001b[39m.csv\u001b[39m\u001b[39m\"\u001b[39m, index\u001b[39m=\u001b[39m\u001b[39mFalse\u001b[39;00m)\n",
      "File \u001b[0;32m~/Desktop/japan_re/venv/lib/python3.12/site-packages/pandas/core/frame.py:3899\u001b[0m, in \u001b[0;36mDataFrame.__getitem__\u001b[0;34m(self, key)\u001b[0m\n\u001b[1;32m   3897\u001b[0m     \u001b[39mif\u001b[39;00m is_iterator(key):\n\u001b[1;32m   3898\u001b[0m         key \u001b[39m=\u001b[39m \u001b[39mlist\u001b[39m(key)\n\u001b[0;32m-> 3899\u001b[0m     indexer \u001b[39m=\u001b[39m \u001b[39mself\u001b[39;49m\u001b[39m.\u001b[39;49mcolumns\u001b[39m.\u001b[39;49m_get_indexer_strict(key, \u001b[39m\"\u001b[39;49m\u001b[39mcolumns\u001b[39;49m\u001b[39m\"\u001b[39;49m)[\u001b[39m1\u001b[39m]\n\u001b[1;32m   3901\u001b[0m \u001b[39m# take() does not accept boolean indexers\u001b[39;00m\n\u001b[1;32m   3902\u001b[0m \u001b[39mif\u001b[39;00m \u001b[39mgetattr\u001b[39m(indexer, \u001b[39m\"\u001b[39m\u001b[39mdtype\u001b[39m\u001b[39m\"\u001b[39m, \u001b[39mNone\u001b[39;00m) \u001b[39m==\u001b[39m \u001b[39mbool\u001b[39m:\n",
      "File \u001b[0;32m~/Desktop/japan_re/venv/lib/python3.12/site-packages/pandas/core/indexes/base.py:6114\u001b[0m, in \u001b[0;36mIndex._get_indexer_strict\u001b[0;34m(self, key, axis_name)\u001b[0m\n\u001b[1;32m   6111\u001b[0m \u001b[39melse\u001b[39;00m:\n\u001b[1;32m   6112\u001b[0m     keyarr, indexer, new_indexer \u001b[39m=\u001b[39m \u001b[39mself\u001b[39m\u001b[39m.\u001b[39m_reindex_non_unique(keyarr)\n\u001b[0;32m-> 6114\u001b[0m \u001b[39mself\u001b[39;49m\u001b[39m.\u001b[39;49m_raise_if_missing(keyarr, indexer, axis_name)\n\u001b[1;32m   6116\u001b[0m keyarr \u001b[39m=\u001b[39m \u001b[39mself\u001b[39m\u001b[39m.\u001b[39mtake(indexer)\n\u001b[1;32m   6117\u001b[0m \u001b[39mif\u001b[39;00m \u001b[39misinstance\u001b[39m(key, Index):\n\u001b[1;32m   6118\u001b[0m     \u001b[39m# GH 42790 - Preserve name from an Index\u001b[39;00m\n",
      "File \u001b[0;32m~/Desktop/japan_re/venv/lib/python3.12/site-packages/pandas/core/indexes/base.py:6178\u001b[0m, in \u001b[0;36mIndex._raise_if_missing\u001b[0;34m(self, key, indexer, axis_name)\u001b[0m\n\u001b[1;32m   6175\u001b[0m     \u001b[39mraise\u001b[39;00m \u001b[39mKeyError\u001b[39;00m(\u001b[39mf\u001b[39m\u001b[39m\"\u001b[39m\u001b[39mNone of [\u001b[39m\u001b[39m{\u001b[39;00mkey\u001b[39m}\u001b[39;00m\u001b[39m] are in the [\u001b[39m\u001b[39m{\u001b[39;00maxis_name\u001b[39m}\u001b[39;00m\u001b[39m]\u001b[39m\u001b[39m\"\u001b[39m)\n\u001b[1;32m   6177\u001b[0m not_found \u001b[39m=\u001b[39m \u001b[39mlist\u001b[39m(ensure_index(key)[missing_mask\u001b[39m.\u001b[39mnonzero()[\u001b[39m0\u001b[39m]]\u001b[39m.\u001b[39munique())\n\u001b[0;32m-> 6178\u001b[0m \u001b[39mraise\u001b[39;00m \u001b[39mKeyError\u001b[39;00m(\u001b[39mf\u001b[39m\u001b[39m\"\u001b[39m\u001b[39m{\u001b[39;00mnot_found\u001b[39m}\u001b[39;00m\u001b[39m not in index\u001b[39m\u001b[39m\"\u001b[39m)\n",
      "\u001b[0;31mKeyError\u001b[0m: \"['price_per_unit_area', 'area'] not in index\""
     ]
    }
   ],
   "source": [
    "final_df = pd.DataFrame()\n",
    "\n",
    "for year, data_path in lpa_data_paths.items():\n",
    "    main_df = pd.read_csv(data_path)\n",
    "    main_df = main_df.assign(year=year, count=1)\n",
    "    main_df[\"area_code\"] = main_df[addr_column].apply(lambda x: get_city_code(parser, x))\n",
    "    main_df[\"area\"] = main_df[\"area_code\"].apply(get_area_from_area_code)\n",
    "    main_df[\"unit_price\"] = main_df[price_per_unit_area_column].apply(prepare_area_column)\n",
    "    main_df[\"traded_area\"] = main_df[area_column].apply(prepare_area_column)\n",
    "    main_df = main_df[main_df[\"area_code\"].apply(lambda x: x.isdigit())]\n",
    "    \n",
    "    df = main_df[required_columns]\n",
    "    df = (\n",
    "        df.groupby([\"year\", \"area_code\", \"area\"])\n",
    "        .apply(custom_aggregate)\n",
    "        .reset_index()\n",
    "    )\n",
    "    df = df.sort_values(by=[\"year\", \"area_code\"], ascending=[False, True]).reset_index(drop=True)\n",
    "    df.to_csv(f\"{DATA_DIRECTORY_PATH}/derived_lpa/yearly/{year}.csv\", index=False)\n",
    "    final_df = pd.concat([final_df, df])\n",
    "    "
   ]
  },
  {
   "cell_type": "code",
   "execution_count": 10,
   "metadata": {},
   "outputs": [],
   "source": [
    "final_df.to_csv(f\"{DATA_DIRECTORY_PATH}/derived_lpa/wappa.csv\", index=False)\n"
   ]
  },
  {
   "cell_type": "code",
   "execution_count": null,
   "metadata": {},
   "outputs": [],
   "source": []
  }
 ],
 "metadata": {
  "kernelspec": {
   "display_name": "venv",
   "language": "python",
   "name": "python3"
  },
  "language_info": {
   "codemirror_mode": {
    "name": "ipython",
    "version": 3
   },
   "file_extension": ".py",
   "mimetype": "text/x-python",
   "name": "python",
   "nbconvert_exporter": "python",
   "pygments_lexer": "ipython3",
   "version": "3.12.0"
  }
 },
 "nbformat": 4,
 "nbformat_minor": 2
}
