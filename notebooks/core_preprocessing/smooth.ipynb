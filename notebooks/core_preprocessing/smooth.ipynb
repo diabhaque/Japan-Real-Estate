{
 "cells": [
  {
   "cell_type": "code",
   "execution_count": 16,
   "metadata": {},
   "outputs": [],
   "source": [
    "import json\n",
    "\n",
    "from jp_prefecture.jp_cities import jp_cities as jp\n",
    "from jre_utils.datapath import DATA_DIRECTORY_PATH"
   ]
  },
  {
   "cell_type": "code",
   "execution_count": 17,
   "metadata": {},
   "outputs": [
    {
     "name": "stdout",
     "output_type": "stream",
     "text": [
      "E.g. Maps 1100 to Hokkaido Sapporo-shi\n"
     ]
    }
   ],
   "source": [
    "area_code_to_area_path = f\"{DATA_DIRECTORY_PATH}/core_scraped/area_code_to_area.json\"\n",
    "with open(area_code_to_area_path) as fd:\n",
    "     area_code_to_area = json.load(fd)\n",
    "     print(f\"E.g. Maps 1100 to {area_code_to_area[\"1100\"]}\") "
   ]
  },
  {
   "cell_type": "code",
   "execution_count": 18,
   "metadata": {},
   "outputs": [],
   "source": [
    "# help(jp)"
   ]
  },
  {
   "cell_type": "code",
   "execution_count": 32,
   "metadata": {},
   "outputs": [],
   "source": [
    "# Helpers\n",
    "\n",
    "def get_geocode(area_code):\n",
    "    # area_code -> (latitude, longitude)\n",
    "    try:\n",
    "        return tuple(jp.citycode2geodetic(area_code)) \n",
    "    except:\n",
    "        print(f\"Could not find geocode for {area_code}\")\n",
    "        return (0, 0)\n",
    "\n",
    "def get_euclidian_distance(geocode1, geocode2):\n",
    "    # lat1, lon1, lat2, lon2 -> distance\n",
    "    lat1, lon1 = geocode1\n",
    "    lat2, lon2 = geocode2\n",
    "    return ((lat1 - lat2)**2 + (lon1 - lon2)**2)**0.5\n",
    "\n",
    "def find_neighbours(area_code, area_to_geocode, n):\n",
    "    geocode = area_to_geocode[area_code]\n",
    "    area_to_distances = { area : get_euclidian_distance(geocode, area_geocode) for area, area_geocode in area_to_geocode.items() if area != area_code }\n",
    "    return sorted(area_to_distances, key=area_to_distances.get)[:n]\n",
    "\n",
    "# get_euclidian_distance(geocode(13101), geocode(13102))"
   ]
  },
  {
   "cell_type": "code",
   "execution_count": 36,
   "metadata": {},
   "outputs": [
    {
     "name": "stdout",
     "output_type": "stream",
     "text": [
      "Could not find geocode for 13362\n",
      "Could not find geocode for 43506\n"
     ]
    }
   ],
   "source": [
    "# Smoothing parameters\n",
    "\n",
    "n_neighbors = 5\n",
    "\n",
    "all_area_codes = list(area_code_to_area.keys())\n",
    "area_to_geocode = {area_code: get_geocode(area_code) for area_code in all_area_codes}\n",
    "area_to_neighbours = {area_code: find_neighbours(area_code, area_to_geocode, 5) for area_code in all_area_codes}"
   ]
  },
  {
   "cell_type": "code",
   "execution_count": 38,
   "metadata": {},
   "outputs": [],
   "source": [
    "# Get Longitudes and Latitudes\n",
    "# For Area, get 5 closest neighbors\n",
    "\n",
    "# area_to_neighbours"
   ]
  },
  {
   "cell_type": "code",
   "execution_count": null,
   "metadata": {},
   "outputs": [],
   "source": [
    "\"\"\"\n",
    "for each area_code:\n",
    "    for each year:\n",
    "        get n neighbours\n",
    "\n",
    "        data[area_code][year] = value\n",
    "\n",
    "        # BASIC KERNEL\n",
    "        # Can do spatial smoothing for each year, then temporal smoothing for the rest\n",
    "        # or\n",
    "        # Can do temporal smoothing for each year, then spatial smoothing for the rest\n",
    "\n",
    "        # Spatial Smoothing\n",
    "        0.1 for each neighbour\n",
    "        0.5 for main area\n",
    "\n",
    "        # Temporal Smoothing\n",
    "        0.1 (-2)\n",
    "        0.2 (-1)\n",
    "        0.5 (0)\n",
    "        0.2 (-1)\n",
    "        0.1 (-2)\n",
    "\n",
    "        \n",
    "        '''  area_code, n1, n2, n3\n",
    "        T-2: \n",
    "        T-1:\n",
    "        T0:\n",
    "        T1:\n",
    "        T2:\n",
    "        '''\n",
    "\n",
    "\"\"\"\n",
    "    "
   ]
  }
 ],
 "metadata": {
  "kernelspec": {
   "display_name": "venv",
   "language": "python",
   "name": "python3"
  },
  "language_info": {
   "codemirror_mode": {
    "name": "ipython",
    "version": 3
   },
   "file_extension": ".py",
   "mimetype": "text/x-python",
   "name": "python",
   "nbconvert_exporter": "python",
   "pygments_lexer": "ipython3",
   "version": "3.12.0"
  }
 },
 "nbformat": 4,
 "nbformat_minor": 2
}
