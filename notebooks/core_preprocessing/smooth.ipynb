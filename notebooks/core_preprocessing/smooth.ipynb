{
 "cells": [
  {
   "cell_type": "code",
   "execution_count": 1,
   "metadata": {},
   "outputs": [],
   "source": [
    "import warnings\n",
    "import json\n",
    "\n",
    "import pandas as pd\n",
    "import numpy as np\n",
    "\n",
    "from jre_utils.datapath import (\n",
    "    factor_data_paths,\n",
    "    get_derived_csv_path,\n",
    "    get_derived_lpa_path,\n",
    "    get_derived_plps_path,\n",
    "    DATA_DIRECTORY_PATH\n",
    ")\n",
    "from jre_utils.config import asset_types\n",
    "from jre_utils.visualize import plot_time_series\n",
    "\n",
    "from jp_prefecture.jp_cities import jp_cities as jp\n",
    "\n",
    "warnings.filterwarnings(\"ignore\")\n",
    "pd.set_option(\"display.max_columns\", None)"
   ]
  },
  {
   "cell_type": "code",
   "execution_count": 2,
   "metadata": {},
   "outputs": [
    {
     "name": "stdout",
     "output_type": "stream",
     "text": [
      "E.g. Maps 1100 to Hokkaido Sapporo-shi\n"
     ]
    }
   ],
   "source": [
    "area_code_to_area_path = f\"{DATA_DIRECTORY_PATH}/core_scraped/area_code_to_area.json\"\n",
    "with open(area_code_to_area_path) as fd:\n",
    "     area_code_to_area = json.load(fd)\n",
    "     print(f\"E.g. Maps 1100 to {area_code_to_area[\"1100\"]}\") "
   ]
  },
  {
   "cell_type": "code",
   "execution_count": 3,
   "metadata": {},
   "outputs": [],
   "source": [
    "# help(jp)"
   ]
  },
  {
   "cell_type": "code",
   "execution_count": 4,
   "metadata": {},
   "outputs": [],
   "source": [
    "# Helpers\n",
    "\n",
    "def get_geocode(area_code):\n",
    "    # area_code -> (latitude, longitude)\n",
    "    area_code = str(area_code)\n",
    "    try:\n",
    "        return tuple(jp.citycode2geodetic(area_code)) \n",
    "    except:\n",
    "        print(f\"Could not find geocode for {area_code}\")\n",
    "        return (0, 0)\n",
    "\n",
    "def get_euclidian_distance(geocode1, geocode2):\n",
    "    # lat1, lon1, lat2, lon2 -> distance\n",
    "    lat1, lon1 = geocode1\n",
    "    lat2, lon2 = geocode2\n",
    "    return ((lat1 - lat2)**2 + (lon1 - lon2)**2)**0.5\n",
    "\n",
    "def find_neighbours(area_code: str, area_to_geocode, n):\n",
    "    area_code = str(area_code)\n",
    "    geocode = area_to_geocode[area_code]\n",
    "    area_to_distances = { area : get_euclidian_distance(geocode, area_geocode) for area, area_geocode in area_to_geocode.items() if area != area_code }\n",
    "    return sorted(area_to_distances, key=area_to_distances.get)[:n]\n",
    "\n",
    "def find_neighbours_with_distance(area_code: str, area_to_geocode, n):\n",
    "    area_code = str(area_code)\n",
    "    geocode = area_to_geocode[area_code]\n",
    "    area_to_distances = { area : get_euclidian_distance(geocode, area_geocode) for area, area_geocode in area_to_geocode.items() if area != area_code }\n",
    "    closest = sorted(area_to_distances, key=area_to_distances.get)[:n]\n",
    "    return { area : area_to_distances[area] for area in closest }\n",
    "\n",
    "# get_euclidian_distance(geocode(13101), geocode(13102))"
   ]
  },
  {
   "cell_type": "code",
   "execution_count": 5,
   "metadata": {},
   "outputs": [
    {
     "name": "stdout",
     "output_type": "stream",
     "text": [
      "Could not find geocode for 13362\n",
      "Could not find geocode for 43506\n"
     ]
    }
   ],
   "source": [
    "# Smoothing parameters\n",
    "\n",
    "n_neighbors = 5\n",
    "\n",
    "all_area_codes = list(area_code_to_area.keys())\n",
    "area_to_geocode = {area_code: get_geocode(area_code) for area_code in all_area_codes}\n",
    "area_to_neighbours = {area_code: find_neighbours(area_code, area_to_geocode, 5) for area_code in all_area_codes}"
   ]
  },
  {
   "cell_type": "code",
   "execution_count": 6,
   "metadata": {},
   "outputs": [
    {
     "data": {
      "text/plain": [
       "{'13103': 0.00832056392317546,\n",
       " '13102': 0.032463657480348386,\n",
       " '13104': 0.034864796987784656,\n",
       " '13113': 0.04489803650493661,\n",
       " '13105': 0.05288099209545874}"
      ]
     },
     "execution_count": 6,
     "metadata": {},
     "output_type": "execute_result"
    }
   ],
   "source": [
    "# Get Longitudes and Latitudes\n",
    "# For Area, get 5 closest neighbors\n",
    "\n",
    "# area_to_neighbours\n",
    "find_neighbours_with_distance(\"13101\", area_to_geocode, 5)"
   ]
  },
  {
   "cell_type": "code",
   "execution_count": 7,
   "metadata": {},
   "outputs": [
    {
     "data": {
      "text/plain": [
       "'\\nkennedy_town = 20 -> 30\\nSYP = 10 -> 15\\n\\nkennedy_town_smooth_2 = .75 * 20 + .25 * 10 = 17.5\\nkennedy_town_smooth_2 = .75 * 30 + .25 * 15 = 26.25\\n\\nkennedy_return_smooth = .75 * 0.5 + .25 * 0.5 = 0.5\\n\\n'"
      ]
     },
     "execution_count": 7,
     "metadata": {},
     "output_type": "execute_result"
    }
   ],
   "source": [
    "\"\"\"\n",
    "for each area_code:\n",
    "    for each year:\n",
    "        get n neighbours\n",
    "\n",
    "        data[area_code][year] = value\n",
    "\n",
    "        # BASIC KERNEL\n",
    "        # Can do spatial smoothing for each year, then temporal smoothing for the rest\n",
    "        # or\n",
    "        # Can do temporal smoothing for each year, then spatial smoothing for the rest\n",
    "\n",
    "        # Spatial Smoothing\n",
    "        0.1 for each neighbour\n",
    "        0.5 for main area\n",
    "\n",
    "        # Temporal Smoothing\n",
    "        0.1 (-2)\n",
    "        0.2 (-1)\n",
    "        0.5 (0)\n",
    "        0.2 (-1)\n",
    "        0.1 (-2)\n",
    "\n",
    "        \n",
    "        '''  area_code, n1, n2, n3\n",
    "        T-2: \n",
    "        T-1:\n",
    "        T0:\n",
    "        T1:\n",
    "        T2:\n",
    "        '''\n",
    "\n",
    "\"\"\"\n",
    "\n",
    "\"\"\"\n",
    "kennedy_town = 20 -> 30\n",
    "SYP = 10 -> 15\n",
    "\n",
    "kennedy_town_smooth_2 = .75 * 20 + .25 * 10 = 17.5\n",
    "kennedy_town_smooth_2 = .75 * 30 + .25 * 15 = 26.25\n",
    "\n",
    "kennedy_return_smooth = .75 * 0.5 + .25 * 0.5 = 0.5\n",
    "\n",
    "\"\"\""
   ]
  },
  {
   "cell_type": "code",
   "execution_count": 8,
   "metadata": {},
   "outputs": [],
   "source": [
    "asset_type = \"building\"\n",
    "\n",
    "metrics = {\n",
    "    \"weighted_mean\": \"unit_price_wmean\",\n",
    "    \"weighted_median\": \"unit_price_wmedian\",\n",
    "    \"mean\": \"unit_price_mean\",\n",
    "    \"median\": \"unit_price_median\",\n",
    "}\n",
    "\n",
    "dataset_paths = {\n",
    "    \"main\": get_derived_csv_path(asset_type),\n",
    "    \"lpa\": get_derived_lpa_path(),\n",
    "    \"plps\": get_derived_plps_path()\n",
    "}"
   ]
  },
  {
   "cell_type": "code",
   "execution_count": 25,
   "metadata": {},
   "outputs": [],
   "source": [
    "granularity_columns = [\"area\", \"area_code\"]\n",
    "group_by_columns = granularity_columns + [\"year\"]\n",
    "display_columns = [\"unit_price\", \"total_traded_area\", \"count\"]\n",
    "\n",
    "metric = metrics[\"weighted_median\"]\n",
    "metric_pct_chg = metric + \"_pct_chg\""
   ]
  },
  {
   "cell_type": "code",
   "execution_count": 13,
   "metadata": {},
   "outputs": [],
   "source": [
    "core_df_path = dataset_paths[\"main\"]\n",
    "df = pd.read_csv(core_df_path)\n",
    "df[\"area_code\"] = df[\"area_code\"].astype(str)"
   ]
  },
  {
   "cell_type": "code",
   "execution_count": 34,
   "metadata": {},
   "outputs": [],
   "source": [
    "# Maybe do a cap on distance\n",
    "def get_neighbours(year_df, area_code, n_neighbors=5):\n",
    "    neighbours = find_neighbours(area_code, area_to_geocode, n_neighbors)\n",
    "    return [\n",
    "        neighbour\n",
    "        for neighbour in neighbours\n",
    "        if neighbour in year_df[\"area_code\"].unique()\n",
    "    ]\n",
    "\n",
    "\n",
    "# Should we smooth on future?\n",
    "def get_years(area_df, year, y_backward, y_forward):\n",
    "    years = [year - i for i in range(1, y_backward)] + [\n",
    "        year + i for i in range(1, y_forward)\n",
    "    ]\n",
    "\n",
    "    return [year for year in years if year in area_df[\"year\"].unique()]\n",
    "\n",
    "\n",
    "def get_price(df, area_code, year, metric):\n",
    "    try:\n",
    "        return df[(df[\"area_code\"] == area_code) & (df[\"year\"] == year)][metric].values[\n",
    "            0\n",
    "        ]\n",
    "    except:\n",
    "        print(f\"Could not find price for {area_code} in {year}\")\n",
    "\n",
    "\n",
    "def scale_distance_to_weight(distance):\n",
    "    return 1 / distance\n",
    "\n",
    "\n",
    "def scale_year_to_weight(year_diff):\n",
    "    return 1 / year_diff\n",
    "\n",
    "\n",
    "def normalize_weights(weights, scale=1):\n",
    "    return [scale * (weight / sum(weights)) for weight in weights]\n",
    "\n",
    "\n",
    "def smooth(\n",
    "    df,\n",
    "    year,\n",
    "    area_code,\n",
    "    metric,\n",
    "    n_neighbors=5,\n",
    "    n_years_forward=1,\n",
    "    n_years_backward=1,\n",
    "    area_smoothing_factor=0.5,\n",
    "    year_smoothing_factor=0.5,\n",
    "    distance_scaler=scale_distance_to_weight,\n",
    "    year_scaler=scale_year_to_weight,\n",
    "):\n",
    "    # OG price\n",
    "    og_price = get_price(df, area_code, year, metric)\n",
    "\n",
    "    # neighbour weights\n",
    "    neighbours = get_neighbours(df[df[\"year\"] == year], area_code, n_neighbors)\n",
    "    neighbour_prices = [\n",
    "        get_price(df, neighbour, year, metric) for neighbour in neighbours\n",
    "    ]\n",
    "\n",
    "    distances = [\n",
    "        get_euclidian_distance(area_to_geocode[area_code], area_to_geocode[neighbour])\n",
    "        for neighbour in neighbours\n",
    "    ]\n",
    "    distance_weights = normalize_weights(\n",
    "        [distance_scaler(distance) for distance in distances],\n",
    "        scale=area_smoothing_factor,\n",
    "    )\n",
    "\n",
    "    neighbour_weights = list(zip(distance_weights, neighbour_prices)) + [\n",
    "        (1 - area_smoothing_factor, og_price)\n",
    "    ]\n",
    "\n",
    "    # area smoothing\n",
    "    area_smoothed_price = np.average(\n",
    "        [v for (_, v) in neighbour_weights], weights=[k for (k, _) in neighbour_weights]\n",
    "    )\n",
    "\n",
    "    # year weights\n",
    "    years = get_years(\n",
    "        df[df[\"area_code\"] == area_code], year, n_years_backward, n_years_forward\n",
    "    )\n",
    "\n",
    "    year_prices = [get_price(df, area_code, year, metric) for year in years]\n",
    "    year_diffs = [abs(year - year_) for year_ in years]\n",
    "    year_diff_weights = normalize_weights(\n",
    "        [year_scaler(year_diff) for year_diff in year_diffs],\n",
    "        scale=year_smoothing_factor,\n",
    "    )\n",
    "\n",
    "    year_weights = list(zip(year_diff_weights, year_prices)) + [\n",
    "        (1 - year_smoothing_factor, area_smoothed_price)\n",
    "    ]\n",
    "\n",
    "    # year smoothing\n",
    "    area_year_smoothed_price = np.average(\n",
    "        [v for (_, v) in year_weights],\n",
    "        weights=[k for (k, _) in year_weights],\n",
    "    )\n",
    "\n",
    "    return area_year_smoothed_price"
   ]
  },
  {
   "cell_type": "code",
   "execution_count": 35,
   "metadata": {},
   "outputs": [
    {
     "data": {
      "text/html": [
       "<div>\n",
       "<style scoped>\n",
       "    .dataframe tbody tr th:only-of-type {\n",
       "        vertical-align: middle;\n",
       "    }\n",
       "\n",
       "    .dataframe tbody tr th {\n",
       "        vertical-align: top;\n",
       "    }\n",
       "\n",
       "    .dataframe thead th {\n",
       "        text-align: right;\n",
       "    }\n",
       "</style>\n",
       "<table border=\"1\" class=\"dataframe\">\n",
       "  <thead>\n",
       "    <tr style=\"text-align: right;\">\n",
       "      <th></th>\n",
       "      <th>year</th>\n",
       "      <th>area_code</th>\n",
       "      <th>area</th>\n",
       "      <th>unit_price_wmean</th>\n",
       "      <th>unit_price_wmedian</th>\n",
       "      <th>unit_price_mean</th>\n",
       "      <th>unit_price_median</th>\n",
       "      <th>total_traded_area</th>\n",
       "      <th>count</th>\n",
       "      <th>unit_price_wmedian_smoothed</th>\n",
       "    </tr>\n",
       "  </thead>\n",
       "  <tbody>\n",
       "    <tr>\n",
       "      <th>5327</th>\n",
       "      <td>2022</td>\n",
       "      <td>20602</td>\n",
       "      <td>Nagano-ken Sakae-mura</td>\n",
       "      <td>3193.916350</td>\n",
       "      <td>3193.916350</td>\n",
       "      <td>2371.825397</td>\n",
       "      <td>2371.825397</td>\n",
       "      <td>2630.0</td>\n",
       "      <td>2.0</td>\n",
       "      <td>3193.916350</td>\n",
       "    </tr>\n",
       "    <tr>\n",
       "      <th>5397</th>\n",
       "      <td>2021</td>\n",
       "      <td>20602</td>\n",
       "      <td>Nagano-ken Sakae-mura</td>\n",
       "      <td>925.925926</td>\n",
       "      <td>925.925926</td>\n",
       "      <td>925.925926</td>\n",
       "      <td>925.925926</td>\n",
       "      <td>540.0</td>\n",
       "      <td>1.0</td>\n",
       "      <td>925.925926</td>\n",
       "    </tr>\n",
       "    <tr>\n",
       "      <th>5537</th>\n",
       "      <td>2019</td>\n",
       "      <td>20602</td>\n",
       "      <td>Nagano-ken Sakae-mura</td>\n",
       "      <td>20000.000000</td>\n",
       "      <td>20000.000000</td>\n",
       "      <td>20000.000000</td>\n",
       "      <td>20000.000000</td>\n",
       "      <td>300.0</td>\n",
       "      <td>1.0</td>\n",
       "      <td>20000.000000</td>\n",
       "    </tr>\n",
       "    <tr>\n",
       "      <th>5675</th>\n",
       "      <td>2017</td>\n",
       "      <td>20602</td>\n",
       "      <td>Nagano-ken Sakae-mura</td>\n",
       "      <td>3750.000000</td>\n",
       "      <td>3750.000000</td>\n",
       "      <td>3750.000000</td>\n",
       "      <td>3750.000000</td>\n",
       "      <td>80.0</td>\n",
       "      <td>1.0</td>\n",
       "      <td>3750.000000</td>\n",
       "    </tr>\n",
       "    <tr>\n",
       "      <th>6089</th>\n",
       "      <td>2011</td>\n",
       "      <td>20602</td>\n",
       "      <td>Nagano-ken Sakae-mura</td>\n",
       "      <td>7407.407407</td>\n",
       "      <td>7407.407407</td>\n",
       "      <td>7407.407407</td>\n",
       "      <td>7407.407407</td>\n",
       "      <td>270.0</td>\n",
       "      <td>1.0</td>\n",
       "      <td>7407.407407</td>\n",
       "    </tr>\n",
       "    <tr>\n",
       "      <th>6287</th>\n",
       "      <td>2008</td>\n",
       "      <td>20602</td>\n",
       "      <td>Nagano-ken Sakae-mura</td>\n",
       "      <td>5814.432990</td>\n",
       "      <td>5814.432990</td>\n",
       "      <td>6875.675676</td>\n",
       "      <td>6875.675676</td>\n",
       "      <td>485.0</td>\n",
       "      <td>2.0</td>\n",
       "      <td>5814.432990</td>\n",
       "    </tr>\n",
       "  </tbody>\n",
       "</table>\n",
       "</div>"
      ],
      "text/plain": [
       "      year area_code                   area  unit_price_wmean  \\\n",
       "5327  2022     20602  Nagano-ken Sakae-mura       3193.916350   \n",
       "5397  2021     20602  Nagano-ken Sakae-mura        925.925926   \n",
       "5537  2019     20602  Nagano-ken Sakae-mura      20000.000000   \n",
       "5675  2017     20602  Nagano-ken Sakae-mura       3750.000000   \n",
       "6089  2011     20602  Nagano-ken Sakae-mura       7407.407407   \n",
       "6287  2008     20602  Nagano-ken Sakae-mura       5814.432990   \n",
       "\n",
       "      unit_price_wmedian  unit_price_mean  unit_price_median  \\\n",
       "5327         3193.916350      2371.825397        2371.825397   \n",
       "5397          925.925926       925.925926         925.925926   \n",
       "5537        20000.000000     20000.000000       20000.000000   \n",
       "5675         3750.000000      3750.000000        3750.000000   \n",
       "6089         7407.407407      7407.407407        7407.407407   \n",
       "6287         5814.432990      6875.675676        6875.675676   \n",
       "\n",
       "      total_traded_area  count  unit_price_wmedian_smoothed  \n",
       "5327             2630.0    2.0                  3193.916350  \n",
       "5397              540.0    1.0                   925.925926  \n",
       "5537              300.0    1.0                 20000.000000  \n",
       "5675               80.0    1.0                  3750.000000  \n",
       "6089              270.0    1.0                  7407.407407  \n",
       "6287              485.0    2.0                  5814.432990  "
      ]
     },
     "execution_count": 35,
     "metadata": {},
     "output_type": "execute_result"
    }
   ],
   "source": [
    "df[(df[\"area_code\"] == \"20602\")] # eliminate cases like these"
   ]
  },
  {
   "cell_type": "code",
   "execution_count": 36,
   "metadata": {},
   "outputs": [],
   "source": [
    "df[f\"{metric}_smoothed\"] = df.apply(\n",
    "    lambda row: smooth(\n",
    "        df,\n",
    "        row[\"year\"],\n",
    "        row[\"area_code\"],\n",
    "        metric,\n",
    "        n_neighbors=5,\n",
    "        n_years_forward=1,\n",
    "        n_years_backward=1,\n",
    "        area_smoothing_factor=0.5,\n",
    "        year_smoothing_factor=0,\n",
    "        distance_scaler=scale_distance_to_weight,\n",
    "        year_scaler=scale_year_to_weight,\n",
    "    ), axis=1\n",
    ")"
   ]
  },
  {
   "cell_type": "code",
   "execution_count": 53,
   "metadata": {},
   "outputs": [],
   "source": [
    "area_code = \"13108\"\n",
    "plot_df = df[df[\"area_code\"] == area_code]"
   ]
  },
  {
   "cell_type": "code",
   "execution_count": 54,
   "metadata": {},
   "outputs": [
    {
     "data": {
      "text/html": [
       "<div>\n",
       "<style scoped>\n",
       "    .dataframe tbody tr th:only-of-type {\n",
       "        vertical-align: middle;\n",
       "    }\n",
       "\n",
       "    .dataframe tbody tr th {\n",
       "        vertical-align: top;\n",
       "    }\n",
       "\n",
       "    .dataframe thead th {\n",
       "        text-align: right;\n",
       "    }\n",
       "</style>\n",
       "<table border=\"1\" class=\"dataframe\">\n",
       "  <thead>\n",
       "    <tr style=\"text-align: right;\">\n",
       "      <th></th>\n",
       "      <th>year</th>\n",
       "      <th>area_code</th>\n",
       "      <th>area</th>\n",
       "      <th>unit_price_wmean</th>\n",
       "      <th>unit_price_wmedian</th>\n",
       "      <th>unit_price_mean</th>\n",
       "      <th>unit_price_median</th>\n",
       "      <th>total_traded_area</th>\n",
       "      <th>count</th>\n",
       "      <th>unit_price_wmedian_smoothed</th>\n",
       "    </tr>\n",
       "  </thead>\n",
       "  <tbody>\n",
       "    <tr>\n",
       "      <th>2306</th>\n",
       "      <td>2023</td>\n",
       "      <td>13108</td>\n",
       "      <td>Tokyo-to Koto-ku</td>\n",
       "      <td>1.052062e+06</td>\n",
       "      <td>937500.000000</td>\n",
       "      <td>1.125485e+06</td>\n",
       "      <td>937500.000000</td>\n",
       "      <td>9700.0</td>\n",
       "      <td>61.0</td>\n",
       "      <td>2.603249e+06</td>\n",
       "    </tr>\n",
       "    <tr>\n",
       "      <th>2362</th>\n",
       "      <td>2022</td>\n",
       "      <td>13108</td>\n",
       "      <td>Tokyo-to Koto-ku</td>\n",
       "      <td>2.089601e+06</td>\n",
       "      <td>865093.240093</td>\n",
       "      <td>1.215150e+06</td>\n",
       "      <td>950000.000000</td>\n",
       "      <td>27455.0</td>\n",
       "      <td>193.0</td>\n",
       "      <td>1.782537e+06</td>\n",
       "    </tr>\n",
       "    <tr>\n",
       "      <th>2419</th>\n",
       "      <td>2021</td>\n",
       "      <td>13108</td>\n",
       "      <td>Tokyo-to Koto-ku</td>\n",
       "      <td>1.181048e+06</td>\n",
       "      <td>990000.000000</td>\n",
       "      <td>1.061225e+06</td>\n",
       "      <td>909545.454545</td>\n",
       "      <td>24910.0</td>\n",
       "      <td>196.0</td>\n",
       "      <td>1.652762e+06</td>\n",
       "    </tr>\n",
       "    <tr>\n",
       "      <th>2477</th>\n",
       "      <td>2020</td>\n",
       "      <td>13108</td>\n",
       "      <td>Tokyo-to Koto-ku</td>\n",
       "      <td>1.590672e+06</td>\n",
       "      <td>961334.573355</td>\n",
       "      <td>1.011893e+06</td>\n",
       "      <td>820855.614973</td>\n",
       "      <td>21130.0</td>\n",
       "      <td>172.0</td>\n",
       "      <td>1.714374e+06</td>\n",
       "    </tr>\n",
       "    <tr>\n",
       "      <th>2536</th>\n",
       "      <td>2019</td>\n",
       "      <td>13108</td>\n",
       "      <td>Tokyo-to Koto-ku</td>\n",
       "      <td>1.213500e+06</td>\n",
       "      <td>875000.000000</td>\n",
       "      <td>1.043429e+06</td>\n",
       "      <td>854545.454545</td>\n",
       "      <td>29370.0</td>\n",
       "      <td>203.0</td>\n",
       "      <td>1.840463e+06</td>\n",
       "    </tr>\n",
       "    <tr>\n",
       "      <th>2594</th>\n",
       "      <td>2018</td>\n",
       "      <td>13108</td>\n",
       "      <td>Tokyo-to Koto-ku</td>\n",
       "      <td>9.237166e+05</td>\n",
       "      <td>763095.238095</td>\n",
       "      <td>9.054521e+05</td>\n",
       "      <td>800000.000000</td>\n",
       "      <td>23570.0</td>\n",
       "      <td>149.0</td>\n",
       "      <td>1.671550e+06</td>\n",
       "    </tr>\n",
       "    <tr>\n",
       "      <th>2651</th>\n",
       "      <td>2017</td>\n",
       "      <td>13108</td>\n",
       "      <td>Tokyo-to Koto-ku</td>\n",
       "      <td>1.111368e+06</td>\n",
       "      <td>888888.888889</td>\n",
       "      <td>9.877161e+05</td>\n",
       "      <td>782307.692308</td>\n",
       "      <td>25590.0</td>\n",
       "      <td>160.0</td>\n",
       "      <td>1.662666e+06</td>\n",
       "    </tr>\n",
       "    <tr>\n",
       "      <th>2709</th>\n",
       "      <td>2016</td>\n",
       "      <td>13108</td>\n",
       "      <td>Tokyo-to Koto-ku</td>\n",
       "      <td>1.324150e+06</td>\n",
       "      <td>855197.634609</td>\n",
       "      <td>9.203208e+05</td>\n",
       "      <td>800000.000000</td>\n",
       "      <td>28385.0</td>\n",
       "      <td>196.0</td>\n",
       "      <td>1.418183e+06</td>\n",
       "    </tr>\n",
       "    <tr>\n",
       "      <th>2767</th>\n",
       "      <td>2015</td>\n",
       "      <td>13108</td>\n",
       "      <td>Tokyo-to Koto-ku</td>\n",
       "      <td>8.704933e+05</td>\n",
       "      <td>777222.222222</td>\n",
       "      <td>7.463733e+05</td>\n",
       "      <td>711111.111111</td>\n",
       "      <td>29800.0</td>\n",
       "      <td>177.0</td>\n",
       "      <td>1.347239e+06</td>\n",
       "    </tr>\n",
       "    <tr>\n",
       "      <th>2824</th>\n",
       "      <td>2014</td>\n",
       "      <td>13108</td>\n",
       "      <td>Tokyo-to Koto-ku</td>\n",
       "      <td>7.219751e+05</td>\n",
       "      <td>579941.604812</td>\n",
       "      <td>6.461600e+05</td>\n",
       "      <td>588888.888889</td>\n",
       "      <td>23290.0</td>\n",
       "      <td>161.0</td>\n",
       "      <td>1.195392e+06</td>\n",
       "    </tr>\n",
       "    <tr>\n",
       "      <th>2882</th>\n",
       "      <td>2013</td>\n",
       "      <td>13108</td>\n",
       "      <td>Tokyo-to Koto-ku</td>\n",
       "      <td>1.434528e+06</td>\n",
       "      <td>729635.229635</td>\n",
       "      <td>7.250260e+05</td>\n",
       "      <td>666666.666667</td>\n",
       "      <td>25330.0</td>\n",
       "      <td>166.0</td>\n",
       "      <td>1.177437e+06</td>\n",
       "    </tr>\n",
       "    <tr>\n",
       "      <th>2941</th>\n",
       "      <td>2012</td>\n",
       "      <td>13108</td>\n",
       "      <td>Tokyo-to Koto-ku</td>\n",
       "      <td>6.655136e+05</td>\n",
       "      <td>506642.156863</td>\n",
       "      <td>6.986979e+05</td>\n",
       "      <td>646153.846154</td>\n",
       "      <td>26480.0</td>\n",
       "      <td>189.0</td>\n",
       "      <td>9.113912e+05</td>\n",
       "    </tr>\n",
       "    <tr>\n",
       "      <th>2998</th>\n",
       "      <td>2011</td>\n",
       "      <td>13108</td>\n",
       "      <td>Tokyo-to Koto-ku</td>\n",
       "      <td>6.656105e+05</td>\n",
       "      <td>555145.611964</td>\n",
       "      <td>6.761365e+05</td>\n",
       "      <td>657142.857143</td>\n",
       "      <td>25880.0</td>\n",
       "      <td>146.0</td>\n",
       "      <td>9.851881e+05</td>\n",
       "    </tr>\n",
       "    <tr>\n",
       "      <th>3053</th>\n",
       "      <td>2010</td>\n",
       "      <td>13108</td>\n",
       "      <td>Tokyo-to Koto-ku</td>\n",
       "      <td>8.329403e+05</td>\n",
       "      <td>583660.130719</td>\n",
       "      <td>7.399687e+05</td>\n",
       "      <td>707878.787879</td>\n",
       "      <td>26375.0</td>\n",
       "      <td>158.0</td>\n",
       "      <td>1.114131e+06</td>\n",
       "    </tr>\n",
       "    <tr>\n",
       "      <th>3110</th>\n",
       "      <td>2009</td>\n",
       "      <td>13108</td>\n",
       "      <td>Tokyo-to Koto-ku</td>\n",
       "      <td>7.263648e+05</td>\n",
       "      <td>506684.491979</td>\n",
       "      <td>7.006354e+05</td>\n",
       "      <td>653333.333333</td>\n",
       "      <td>23630.0</td>\n",
       "      <td>143.0</td>\n",
       "      <td>1.180292e+06</td>\n",
       "    </tr>\n",
       "    <tr>\n",
       "      <th>3168</th>\n",
       "      <td>2008</td>\n",
       "      <td>13108</td>\n",
       "      <td>Tokyo-to Koto-ku</td>\n",
       "      <td>2.195675e+06</td>\n",
       "      <td>1000000.000000</td>\n",
       "      <td>1.020084e+06</td>\n",
       "      <td>741666.666667</td>\n",
       "      <td>22450.0</td>\n",
       "      <td>112.0</td>\n",
       "      <td>1.597756e+06</td>\n",
       "    </tr>\n",
       "    <tr>\n",
       "      <th>3225</th>\n",
       "      <td>2007</td>\n",
       "      <td>13108</td>\n",
       "      <td>Tokyo-to Koto-ku</td>\n",
       "      <td>1.049854e+06</td>\n",
       "      <td>845401.519262</td>\n",
       "      <td>9.338730e+05</td>\n",
       "      <td>764615.384615</td>\n",
       "      <td>26630.0</td>\n",
       "      <td>114.0</td>\n",
       "      <td>1.646612e+06</td>\n",
       "    </tr>\n",
       "    <tr>\n",
       "      <th>3281</th>\n",
       "      <td>2006</td>\n",
       "      <td>13108</td>\n",
       "      <td>Tokyo-to Koto-ku</td>\n",
       "      <td>1.421789e+06</td>\n",
       "      <td>809523.809524</td>\n",
       "      <td>8.203753e+05</td>\n",
       "      <td>700000.000000</td>\n",
       "      <td>18670.0</td>\n",
       "      <td>85.0</td>\n",
       "      <td>1.392647e+06</td>\n",
       "    </tr>\n",
       "    <tr>\n",
       "      <th>3305</th>\n",
       "      <td>2005</td>\n",
       "      <td>13108</td>\n",
       "      <td>Tokyo-to Koto-ku</td>\n",
       "      <td>6.494572e+05</td>\n",
       "      <td>579144.385027</td>\n",
       "      <td>6.705259e+05</td>\n",
       "      <td>542857.142857</td>\n",
       "      <td>19805.0</td>\n",
       "      <td>81.0</td>\n",
       "      <td>1.087540e+06</td>\n",
       "    </tr>\n",
       "  </tbody>\n",
       "</table>\n",
       "</div>"
      ],
      "text/plain": [
       "      year area_code              area  unit_price_wmean  unit_price_wmedian  \\\n",
       "2306  2023     13108  Tokyo-to Koto-ku      1.052062e+06       937500.000000   \n",
       "2362  2022     13108  Tokyo-to Koto-ku      2.089601e+06       865093.240093   \n",
       "2419  2021     13108  Tokyo-to Koto-ku      1.181048e+06       990000.000000   \n",
       "2477  2020     13108  Tokyo-to Koto-ku      1.590672e+06       961334.573355   \n",
       "2536  2019     13108  Tokyo-to Koto-ku      1.213500e+06       875000.000000   \n",
       "2594  2018     13108  Tokyo-to Koto-ku      9.237166e+05       763095.238095   \n",
       "2651  2017     13108  Tokyo-to Koto-ku      1.111368e+06       888888.888889   \n",
       "2709  2016     13108  Tokyo-to Koto-ku      1.324150e+06       855197.634609   \n",
       "2767  2015     13108  Tokyo-to Koto-ku      8.704933e+05       777222.222222   \n",
       "2824  2014     13108  Tokyo-to Koto-ku      7.219751e+05       579941.604812   \n",
       "2882  2013     13108  Tokyo-to Koto-ku      1.434528e+06       729635.229635   \n",
       "2941  2012     13108  Tokyo-to Koto-ku      6.655136e+05       506642.156863   \n",
       "2998  2011     13108  Tokyo-to Koto-ku      6.656105e+05       555145.611964   \n",
       "3053  2010     13108  Tokyo-to Koto-ku      8.329403e+05       583660.130719   \n",
       "3110  2009     13108  Tokyo-to Koto-ku      7.263648e+05       506684.491979   \n",
       "3168  2008     13108  Tokyo-to Koto-ku      2.195675e+06      1000000.000000   \n",
       "3225  2007     13108  Tokyo-to Koto-ku      1.049854e+06       845401.519262   \n",
       "3281  2006     13108  Tokyo-to Koto-ku      1.421789e+06       809523.809524   \n",
       "3305  2005     13108  Tokyo-to Koto-ku      6.494572e+05       579144.385027   \n",
       "\n",
       "      unit_price_mean  unit_price_median  total_traded_area  count  \\\n",
       "2306     1.125485e+06      937500.000000             9700.0   61.0   \n",
       "2362     1.215150e+06      950000.000000            27455.0  193.0   \n",
       "2419     1.061225e+06      909545.454545            24910.0  196.0   \n",
       "2477     1.011893e+06      820855.614973            21130.0  172.0   \n",
       "2536     1.043429e+06      854545.454545            29370.0  203.0   \n",
       "2594     9.054521e+05      800000.000000            23570.0  149.0   \n",
       "2651     9.877161e+05      782307.692308            25590.0  160.0   \n",
       "2709     9.203208e+05      800000.000000            28385.0  196.0   \n",
       "2767     7.463733e+05      711111.111111            29800.0  177.0   \n",
       "2824     6.461600e+05      588888.888889            23290.0  161.0   \n",
       "2882     7.250260e+05      666666.666667            25330.0  166.0   \n",
       "2941     6.986979e+05      646153.846154            26480.0  189.0   \n",
       "2998     6.761365e+05      657142.857143            25880.0  146.0   \n",
       "3053     7.399687e+05      707878.787879            26375.0  158.0   \n",
       "3110     7.006354e+05      653333.333333            23630.0  143.0   \n",
       "3168     1.020084e+06      741666.666667            22450.0  112.0   \n",
       "3225     9.338730e+05      764615.384615            26630.0  114.0   \n",
       "3281     8.203753e+05      700000.000000            18670.0   85.0   \n",
       "3305     6.705259e+05      542857.142857            19805.0   81.0   \n",
       "\n",
       "      unit_price_wmedian_smoothed  \n",
       "2306                 2.603249e+06  \n",
       "2362                 1.782537e+06  \n",
       "2419                 1.652762e+06  \n",
       "2477                 1.714374e+06  \n",
       "2536                 1.840463e+06  \n",
       "2594                 1.671550e+06  \n",
       "2651                 1.662666e+06  \n",
       "2709                 1.418183e+06  \n",
       "2767                 1.347239e+06  \n",
       "2824                 1.195392e+06  \n",
       "2882                 1.177437e+06  \n",
       "2941                 9.113912e+05  \n",
       "2998                 9.851881e+05  \n",
       "3053                 1.114131e+06  \n",
       "3110                 1.180292e+06  \n",
       "3168                 1.597756e+06  \n",
       "3225                 1.646612e+06  \n",
       "3281                 1.392647e+06  \n",
       "3305                 1.087540e+06  "
      ]
     },
     "execution_count": 54,
     "metadata": {},
     "output_type": "execute_result"
    }
   ],
   "source": [
    "plot_df"
   ]
  },
  {
   "cell_type": "code",
   "execution_count": 55,
   "metadata": {},
   "outputs": [
    {
     "data": {
      "application/vnd.plotly.v1+json": {
       "config": {
        "plotlyServerURL": "https://plot.ly"
       },
       "data": [
        {
         "hovertemplate": "variable=('Tokyo-to Koto-ku', '13108')<br>year=%{x}<br>value=%{y}<extra></extra>",
         "legendgroup": "('Tokyo-to Koto-ku', '13108')",
         "line": {
          "color": "#636efa",
          "dash": "solid"
         },
         "marker": {
          "symbol": "circle"
         },
         "mode": "lines+markers",
         "name": "('Tokyo-to Koto-ku', '13108')",
         "orientation": "v",
         "showlegend": true,
         "type": "scatter",
         "x": [
          2005,
          2006,
          2007,
          2008,
          2009,
          2010,
          2011,
          2012,
          2013,
          2014,
          2015,
          2016,
          2017,
          2018,
          2019,
          2020,
          2021,
          2022,
          2023
         ],
         "xaxis": "x",
         "y": [
          579144.3850267379,
          809523.8095238095,
          845401.5192620727,
          1000000,
          506684.4919786096,
          583660.1307189541,
          555145.6119637938,
          506642.1568627451,
          729635.2296352297,
          579941.6048123263,
          777222.2222222222,
          855197.6346093994,
          888888.8888888889,
          763095.2380952381,
          875000,
          961334.5733550336,
          990000,
          865093.24009324,
          937500
         ],
         "yaxis": "y"
        }
       ],
       "layout": {
        "autosize": false,
        "height": 800,
        "hovermode": "closest",
        "legend": {
         "title": {
          "text": "variable"
         },
         "tracegroupgap": 0
        },
        "template": {
         "data": {
          "bar": [
           {
            "error_x": {
             "color": "#2a3f5f"
            },
            "error_y": {
             "color": "#2a3f5f"
            },
            "marker": {
             "line": {
              "color": "#E5ECF6",
              "width": 0.5
             },
             "pattern": {
              "fillmode": "overlay",
              "size": 10,
              "solidity": 0.2
             }
            },
            "type": "bar"
           }
          ],
          "barpolar": [
           {
            "marker": {
             "line": {
              "color": "#E5ECF6",
              "width": 0.5
             },
             "pattern": {
              "fillmode": "overlay",
              "size": 10,
              "solidity": 0.2
             }
            },
            "type": "barpolar"
           }
          ],
          "carpet": [
           {
            "aaxis": {
             "endlinecolor": "#2a3f5f",
             "gridcolor": "white",
             "linecolor": "white",
             "minorgridcolor": "white",
             "startlinecolor": "#2a3f5f"
            },
            "baxis": {
             "endlinecolor": "#2a3f5f",
             "gridcolor": "white",
             "linecolor": "white",
             "minorgridcolor": "white",
             "startlinecolor": "#2a3f5f"
            },
            "type": "carpet"
           }
          ],
          "choropleth": [
           {
            "colorbar": {
             "outlinewidth": 0,
             "ticks": ""
            },
            "type": "choropleth"
           }
          ],
          "contour": [
           {
            "colorbar": {
             "outlinewidth": 0,
             "ticks": ""
            },
            "colorscale": [
             [
              0,
              "#0d0887"
             ],
             [
              0.1111111111111111,
              "#46039f"
             ],
             [
              0.2222222222222222,
              "#7201a8"
             ],
             [
              0.3333333333333333,
              "#9c179e"
             ],
             [
              0.4444444444444444,
              "#bd3786"
             ],
             [
              0.5555555555555556,
              "#d8576b"
             ],
             [
              0.6666666666666666,
              "#ed7953"
             ],
             [
              0.7777777777777778,
              "#fb9f3a"
             ],
             [
              0.8888888888888888,
              "#fdca26"
             ],
             [
              1,
              "#f0f921"
             ]
            ],
            "type": "contour"
           }
          ],
          "contourcarpet": [
           {
            "colorbar": {
             "outlinewidth": 0,
             "ticks": ""
            },
            "type": "contourcarpet"
           }
          ],
          "heatmap": [
           {
            "colorbar": {
             "outlinewidth": 0,
             "ticks": ""
            },
            "colorscale": [
             [
              0,
              "#0d0887"
             ],
             [
              0.1111111111111111,
              "#46039f"
             ],
             [
              0.2222222222222222,
              "#7201a8"
             ],
             [
              0.3333333333333333,
              "#9c179e"
             ],
             [
              0.4444444444444444,
              "#bd3786"
             ],
             [
              0.5555555555555556,
              "#d8576b"
             ],
             [
              0.6666666666666666,
              "#ed7953"
             ],
             [
              0.7777777777777778,
              "#fb9f3a"
             ],
             [
              0.8888888888888888,
              "#fdca26"
             ],
             [
              1,
              "#f0f921"
             ]
            ],
            "type": "heatmap"
           }
          ],
          "heatmapgl": [
           {
            "colorbar": {
             "outlinewidth": 0,
             "ticks": ""
            },
            "colorscale": [
             [
              0,
              "#0d0887"
             ],
             [
              0.1111111111111111,
              "#46039f"
             ],
             [
              0.2222222222222222,
              "#7201a8"
             ],
             [
              0.3333333333333333,
              "#9c179e"
             ],
             [
              0.4444444444444444,
              "#bd3786"
             ],
             [
              0.5555555555555556,
              "#d8576b"
             ],
             [
              0.6666666666666666,
              "#ed7953"
             ],
             [
              0.7777777777777778,
              "#fb9f3a"
             ],
             [
              0.8888888888888888,
              "#fdca26"
             ],
             [
              1,
              "#f0f921"
             ]
            ],
            "type": "heatmapgl"
           }
          ],
          "histogram": [
           {
            "marker": {
             "pattern": {
              "fillmode": "overlay",
              "size": 10,
              "solidity": 0.2
             }
            },
            "type": "histogram"
           }
          ],
          "histogram2d": [
           {
            "colorbar": {
             "outlinewidth": 0,
             "ticks": ""
            },
            "colorscale": [
             [
              0,
              "#0d0887"
             ],
             [
              0.1111111111111111,
              "#46039f"
             ],
             [
              0.2222222222222222,
              "#7201a8"
             ],
             [
              0.3333333333333333,
              "#9c179e"
             ],
             [
              0.4444444444444444,
              "#bd3786"
             ],
             [
              0.5555555555555556,
              "#d8576b"
             ],
             [
              0.6666666666666666,
              "#ed7953"
             ],
             [
              0.7777777777777778,
              "#fb9f3a"
             ],
             [
              0.8888888888888888,
              "#fdca26"
             ],
             [
              1,
              "#f0f921"
             ]
            ],
            "type": "histogram2d"
           }
          ],
          "histogram2dcontour": [
           {
            "colorbar": {
             "outlinewidth": 0,
             "ticks": ""
            },
            "colorscale": [
             [
              0,
              "#0d0887"
             ],
             [
              0.1111111111111111,
              "#46039f"
             ],
             [
              0.2222222222222222,
              "#7201a8"
             ],
             [
              0.3333333333333333,
              "#9c179e"
             ],
             [
              0.4444444444444444,
              "#bd3786"
             ],
             [
              0.5555555555555556,
              "#d8576b"
             ],
             [
              0.6666666666666666,
              "#ed7953"
             ],
             [
              0.7777777777777778,
              "#fb9f3a"
             ],
             [
              0.8888888888888888,
              "#fdca26"
             ],
             [
              1,
              "#f0f921"
             ]
            ],
            "type": "histogram2dcontour"
           }
          ],
          "mesh3d": [
           {
            "colorbar": {
             "outlinewidth": 0,
             "ticks": ""
            },
            "type": "mesh3d"
           }
          ],
          "parcoords": [
           {
            "line": {
             "colorbar": {
              "outlinewidth": 0,
              "ticks": ""
             }
            },
            "type": "parcoords"
           }
          ],
          "pie": [
           {
            "automargin": true,
            "type": "pie"
           }
          ],
          "scatter": [
           {
            "fillpattern": {
             "fillmode": "overlay",
             "size": 10,
             "solidity": 0.2
            },
            "type": "scatter"
           }
          ],
          "scatter3d": [
           {
            "line": {
             "colorbar": {
              "outlinewidth": 0,
              "ticks": ""
             }
            },
            "marker": {
             "colorbar": {
              "outlinewidth": 0,
              "ticks": ""
             }
            },
            "type": "scatter3d"
           }
          ],
          "scattercarpet": [
           {
            "marker": {
             "colorbar": {
              "outlinewidth": 0,
              "ticks": ""
             }
            },
            "type": "scattercarpet"
           }
          ],
          "scattergeo": [
           {
            "marker": {
             "colorbar": {
              "outlinewidth": 0,
              "ticks": ""
             }
            },
            "type": "scattergeo"
           }
          ],
          "scattergl": [
           {
            "marker": {
             "colorbar": {
              "outlinewidth": 0,
              "ticks": ""
             }
            },
            "type": "scattergl"
           }
          ],
          "scattermapbox": [
           {
            "marker": {
             "colorbar": {
              "outlinewidth": 0,
              "ticks": ""
             }
            },
            "type": "scattermapbox"
           }
          ],
          "scatterpolar": [
           {
            "marker": {
             "colorbar": {
              "outlinewidth": 0,
              "ticks": ""
             }
            },
            "type": "scatterpolar"
           }
          ],
          "scatterpolargl": [
           {
            "marker": {
             "colorbar": {
              "outlinewidth": 0,
              "ticks": ""
             }
            },
            "type": "scatterpolargl"
           }
          ],
          "scatterternary": [
           {
            "marker": {
             "colorbar": {
              "outlinewidth": 0,
              "ticks": ""
             }
            },
            "type": "scatterternary"
           }
          ],
          "surface": [
           {
            "colorbar": {
             "outlinewidth": 0,
             "ticks": ""
            },
            "colorscale": [
             [
              0,
              "#0d0887"
             ],
             [
              0.1111111111111111,
              "#46039f"
             ],
             [
              0.2222222222222222,
              "#7201a8"
             ],
             [
              0.3333333333333333,
              "#9c179e"
             ],
             [
              0.4444444444444444,
              "#bd3786"
             ],
             [
              0.5555555555555556,
              "#d8576b"
             ],
             [
              0.6666666666666666,
              "#ed7953"
             ],
             [
              0.7777777777777778,
              "#fb9f3a"
             ],
             [
              0.8888888888888888,
              "#fdca26"
             ],
             [
              1,
              "#f0f921"
             ]
            ],
            "type": "surface"
           }
          ],
          "table": [
           {
            "cells": {
             "fill": {
              "color": "#EBF0F8"
             },
             "line": {
              "color": "white"
             }
            },
            "header": {
             "fill": {
              "color": "#C8D4E3"
             },
             "line": {
              "color": "white"
             }
            },
            "type": "table"
           }
          ]
         },
         "layout": {
          "annotationdefaults": {
           "arrowcolor": "#2a3f5f",
           "arrowhead": 0,
           "arrowwidth": 1
          },
          "autotypenumbers": "strict",
          "coloraxis": {
           "colorbar": {
            "outlinewidth": 0,
            "ticks": ""
           }
          },
          "colorscale": {
           "diverging": [
            [
             0,
             "#8e0152"
            ],
            [
             0.1,
             "#c51b7d"
            ],
            [
             0.2,
             "#de77ae"
            ],
            [
             0.3,
             "#f1b6da"
            ],
            [
             0.4,
             "#fde0ef"
            ],
            [
             0.5,
             "#f7f7f7"
            ],
            [
             0.6,
             "#e6f5d0"
            ],
            [
             0.7,
             "#b8e186"
            ],
            [
             0.8,
             "#7fbc41"
            ],
            [
             0.9,
             "#4d9221"
            ],
            [
             1,
             "#276419"
            ]
           ],
           "sequential": [
            [
             0,
             "#0d0887"
            ],
            [
             0.1111111111111111,
             "#46039f"
            ],
            [
             0.2222222222222222,
             "#7201a8"
            ],
            [
             0.3333333333333333,
             "#9c179e"
            ],
            [
             0.4444444444444444,
             "#bd3786"
            ],
            [
             0.5555555555555556,
             "#d8576b"
            ],
            [
             0.6666666666666666,
             "#ed7953"
            ],
            [
             0.7777777777777778,
             "#fb9f3a"
            ],
            [
             0.8888888888888888,
             "#fdca26"
            ],
            [
             1,
             "#f0f921"
            ]
           ],
           "sequentialminus": [
            [
             0,
             "#0d0887"
            ],
            [
             0.1111111111111111,
             "#46039f"
            ],
            [
             0.2222222222222222,
             "#7201a8"
            ],
            [
             0.3333333333333333,
             "#9c179e"
            ],
            [
             0.4444444444444444,
             "#bd3786"
            ],
            [
             0.5555555555555556,
             "#d8576b"
            ],
            [
             0.6666666666666666,
             "#ed7953"
            ],
            [
             0.7777777777777778,
             "#fb9f3a"
            ],
            [
             0.8888888888888888,
             "#fdca26"
            ],
            [
             1,
             "#f0f921"
            ]
           ]
          },
          "colorway": [
           "#636efa",
           "#EF553B",
           "#00cc96",
           "#ab63fa",
           "#FFA15A",
           "#19d3f3",
           "#FF6692",
           "#B6E880",
           "#FF97FF",
           "#FECB52"
          ],
          "font": {
           "color": "#2a3f5f"
          },
          "geo": {
           "bgcolor": "white",
           "lakecolor": "white",
           "landcolor": "#E5ECF6",
           "showlakes": true,
           "showland": true,
           "subunitcolor": "white"
          },
          "hoverlabel": {
           "align": "left"
          },
          "hovermode": "closest",
          "mapbox": {
           "style": "light"
          },
          "paper_bgcolor": "white",
          "plot_bgcolor": "#E5ECF6",
          "polar": {
           "angularaxis": {
            "gridcolor": "white",
            "linecolor": "white",
            "ticks": ""
           },
           "bgcolor": "#E5ECF6",
           "radialaxis": {
            "gridcolor": "white",
            "linecolor": "white",
            "ticks": ""
           }
          },
          "scene": {
           "xaxis": {
            "backgroundcolor": "#E5ECF6",
            "gridcolor": "white",
            "gridwidth": 2,
            "linecolor": "white",
            "showbackground": true,
            "ticks": "",
            "zerolinecolor": "white"
           },
           "yaxis": {
            "backgroundcolor": "#E5ECF6",
            "gridcolor": "white",
            "gridwidth": 2,
            "linecolor": "white",
            "showbackground": true,
            "ticks": "",
            "zerolinecolor": "white"
           },
           "zaxis": {
            "backgroundcolor": "#E5ECF6",
            "gridcolor": "white",
            "gridwidth": 2,
            "linecolor": "white",
            "showbackground": true,
            "ticks": "",
            "zerolinecolor": "white"
           }
          },
          "shapedefaults": {
           "line": {
            "color": "#2a3f5f"
           }
          },
          "ternary": {
           "aaxis": {
            "gridcolor": "white",
            "linecolor": "white",
            "ticks": ""
           },
           "baxis": {
            "gridcolor": "white",
            "linecolor": "white",
            "ticks": ""
           },
           "bgcolor": "#E5ECF6",
           "caxis": {
            "gridcolor": "white",
            "linecolor": "white",
            "ticks": ""
           }
          },
          "title": {
           "x": 0.05
          },
          "xaxis": {
           "automargin": true,
           "gridcolor": "white",
           "linecolor": "white",
           "ticks": "",
           "title": {
            "standoff": 15
           },
           "zerolinecolor": "white",
           "zerolinewidth": 2
          },
          "yaxis": {
           "automargin": true,
           "gridcolor": "white",
           "linecolor": "white",
           "ticks": "",
           "title": {
            "standoff": 15
           },
           "zerolinecolor": "white",
           "zerolinewidth": 2
          }
         }
        },
        "title": {
         "text": "Unit Price over time"
        },
        "width": 1600,
        "xaxis": {
         "anchor": "y",
         "domain": [
          0,
          1
         ],
         "title": {
          "text": "year"
         }
        },
        "yaxis": {
         "anchor": "x",
         "domain": [
          0,
          1
         ],
         "title": {
          "text": "value"
         }
        }
       }
      }
     },
     "metadata": {},
     "output_type": "display_data"
    }
   ],
   "source": [
    "plot_time_series(\n",
    "    plot_df,\n",
    "    metric,\n",
    "    group_by_columns,\n",
    "    granularity_columns,\n",
    "    f\"Unit Price over time\",\n",
    "    # visible=\"legendonly\",\n",
    ")"
   ]
  },
  {
   "cell_type": "code",
   "execution_count": 56,
   "metadata": {},
   "outputs": [
    {
     "data": {
      "application/vnd.plotly.v1+json": {
       "config": {
        "plotlyServerURL": "https://plot.ly"
       },
       "data": [
        {
         "hovertemplate": "variable=('Tokyo-to Koto-ku', '13108')<br>year=%{x}<br>value=%{y}<extra></extra>",
         "legendgroup": "('Tokyo-to Koto-ku', '13108')",
         "line": {
          "color": "#636efa",
          "dash": "solid"
         },
         "marker": {
          "symbol": "circle"
         },
         "mode": "lines+markers",
         "name": "('Tokyo-to Koto-ku', '13108')",
         "orientation": "v",
         "showlegend": true,
         "type": "scatter",
         "x": [
          2005,
          2006,
          2007,
          2008,
          2009,
          2010,
          2011,
          2012,
          2013,
          2014,
          2015,
          2016,
          2017,
          2018,
          2019,
          2020,
          2021,
          2022,
          2023
         ],
         "xaxis": "x",
         "y": [
          1087540.0504130106,
          1392646.9844838264,
          1646611.9514861726,
          1597756.2603531212,
          1180291.5760183583,
          1114131.0291112326,
          985188.1357289641,
          911391.208537856,
          1177437.1056639568,
          1195391.8074308287,
          1347238.5222158292,
          1418182.870275197,
          1662666.4305187643,
          1671549.6286376505,
          1840463.2299792254,
          1714373.6827501704,
          1652761.9284969852,
          1782536.8615187919,
          2603249.307495854
         ],
         "yaxis": "y"
        }
       ],
       "layout": {
        "autosize": false,
        "height": 800,
        "hovermode": "closest",
        "legend": {
         "title": {
          "text": "variable"
         },
         "tracegroupgap": 0
        },
        "template": {
         "data": {
          "bar": [
           {
            "error_x": {
             "color": "#2a3f5f"
            },
            "error_y": {
             "color": "#2a3f5f"
            },
            "marker": {
             "line": {
              "color": "#E5ECF6",
              "width": 0.5
             },
             "pattern": {
              "fillmode": "overlay",
              "size": 10,
              "solidity": 0.2
             }
            },
            "type": "bar"
           }
          ],
          "barpolar": [
           {
            "marker": {
             "line": {
              "color": "#E5ECF6",
              "width": 0.5
             },
             "pattern": {
              "fillmode": "overlay",
              "size": 10,
              "solidity": 0.2
             }
            },
            "type": "barpolar"
           }
          ],
          "carpet": [
           {
            "aaxis": {
             "endlinecolor": "#2a3f5f",
             "gridcolor": "white",
             "linecolor": "white",
             "minorgridcolor": "white",
             "startlinecolor": "#2a3f5f"
            },
            "baxis": {
             "endlinecolor": "#2a3f5f",
             "gridcolor": "white",
             "linecolor": "white",
             "minorgridcolor": "white",
             "startlinecolor": "#2a3f5f"
            },
            "type": "carpet"
           }
          ],
          "choropleth": [
           {
            "colorbar": {
             "outlinewidth": 0,
             "ticks": ""
            },
            "type": "choropleth"
           }
          ],
          "contour": [
           {
            "colorbar": {
             "outlinewidth": 0,
             "ticks": ""
            },
            "colorscale": [
             [
              0,
              "#0d0887"
             ],
             [
              0.1111111111111111,
              "#46039f"
             ],
             [
              0.2222222222222222,
              "#7201a8"
             ],
             [
              0.3333333333333333,
              "#9c179e"
             ],
             [
              0.4444444444444444,
              "#bd3786"
             ],
             [
              0.5555555555555556,
              "#d8576b"
             ],
             [
              0.6666666666666666,
              "#ed7953"
             ],
             [
              0.7777777777777778,
              "#fb9f3a"
             ],
             [
              0.8888888888888888,
              "#fdca26"
             ],
             [
              1,
              "#f0f921"
             ]
            ],
            "type": "contour"
           }
          ],
          "contourcarpet": [
           {
            "colorbar": {
             "outlinewidth": 0,
             "ticks": ""
            },
            "type": "contourcarpet"
           }
          ],
          "heatmap": [
           {
            "colorbar": {
             "outlinewidth": 0,
             "ticks": ""
            },
            "colorscale": [
             [
              0,
              "#0d0887"
             ],
             [
              0.1111111111111111,
              "#46039f"
             ],
             [
              0.2222222222222222,
              "#7201a8"
             ],
             [
              0.3333333333333333,
              "#9c179e"
             ],
             [
              0.4444444444444444,
              "#bd3786"
             ],
             [
              0.5555555555555556,
              "#d8576b"
             ],
             [
              0.6666666666666666,
              "#ed7953"
             ],
             [
              0.7777777777777778,
              "#fb9f3a"
             ],
             [
              0.8888888888888888,
              "#fdca26"
             ],
             [
              1,
              "#f0f921"
             ]
            ],
            "type": "heatmap"
           }
          ],
          "heatmapgl": [
           {
            "colorbar": {
             "outlinewidth": 0,
             "ticks": ""
            },
            "colorscale": [
             [
              0,
              "#0d0887"
             ],
             [
              0.1111111111111111,
              "#46039f"
             ],
             [
              0.2222222222222222,
              "#7201a8"
             ],
             [
              0.3333333333333333,
              "#9c179e"
             ],
             [
              0.4444444444444444,
              "#bd3786"
             ],
             [
              0.5555555555555556,
              "#d8576b"
             ],
             [
              0.6666666666666666,
              "#ed7953"
             ],
             [
              0.7777777777777778,
              "#fb9f3a"
             ],
             [
              0.8888888888888888,
              "#fdca26"
             ],
             [
              1,
              "#f0f921"
             ]
            ],
            "type": "heatmapgl"
           }
          ],
          "histogram": [
           {
            "marker": {
             "pattern": {
              "fillmode": "overlay",
              "size": 10,
              "solidity": 0.2
             }
            },
            "type": "histogram"
           }
          ],
          "histogram2d": [
           {
            "colorbar": {
             "outlinewidth": 0,
             "ticks": ""
            },
            "colorscale": [
             [
              0,
              "#0d0887"
             ],
             [
              0.1111111111111111,
              "#46039f"
             ],
             [
              0.2222222222222222,
              "#7201a8"
             ],
             [
              0.3333333333333333,
              "#9c179e"
             ],
             [
              0.4444444444444444,
              "#bd3786"
             ],
             [
              0.5555555555555556,
              "#d8576b"
             ],
             [
              0.6666666666666666,
              "#ed7953"
             ],
             [
              0.7777777777777778,
              "#fb9f3a"
             ],
             [
              0.8888888888888888,
              "#fdca26"
             ],
             [
              1,
              "#f0f921"
             ]
            ],
            "type": "histogram2d"
           }
          ],
          "histogram2dcontour": [
           {
            "colorbar": {
             "outlinewidth": 0,
             "ticks": ""
            },
            "colorscale": [
             [
              0,
              "#0d0887"
             ],
             [
              0.1111111111111111,
              "#46039f"
             ],
             [
              0.2222222222222222,
              "#7201a8"
             ],
             [
              0.3333333333333333,
              "#9c179e"
             ],
             [
              0.4444444444444444,
              "#bd3786"
             ],
             [
              0.5555555555555556,
              "#d8576b"
             ],
             [
              0.6666666666666666,
              "#ed7953"
             ],
             [
              0.7777777777777778,
              "#fb9f3a"
             ],
             [
              0.8888888888888888,
              "#fdca26"
             ],
             [
              1,
              "#f0f921"
             ]
            ],
            "type": "histogram2dcontour"
           }
          ],
          "mesh3d": [
           {
            "colorbar": {
             "outlinewidth": 0,
             "ticks": ""
            },
            "type": "mesh3d"
           }
          ],
          "parcoords": [
           {
            "line": {
             "colorbar": {
              "outlinewidth": 0,
              "ticks": ""
             }
            },
            "type": "parcoords"
           }
          ],
          "pie": [
           {
            "automargin": true,
            "type": "pie"
           }
          ],
          "scatter": [
           {
            "fillpattern": {
             "fillmode": "overlay",
             "size": 10,
             "solidity": 0.2
            },
            "type": "scatter"
           }
          ],
          "scatter3d": [
           {
            "line": {
             "colorbar": {
              "outlinewidth": 0,
              "ticks": ""
             }
            },
            "marker": {
             "colorbar": {
              "outlinewidth": 0,
              "ticks": ""
             }
            },
            "type": "scatter3d"
           }
          ],
          "scattercarpet": [
           {
            "marker": {
             "colorbar": {
              "outlinewidth": 0,
              "ticks": ""
             }
            },
            "type": "scattercarpet"
           }
          ],
          "scattergeo": [
           {
            "marker": {
             "colorbar": {
              "outlinewidth": 0,
              "ticks": ""
             }
            },
            "type": "scattergeo"
           }
          ],
          "scattergl": [
           {
            "marker": {
             "colorbar": {
              "outlinewidth": 0,
              "ticks": ""
             }
            },
            "type": "scattergl"
           }
          ],
          "scattermapbox": [
           {
            "marker": {
             "colorbar": {
              "outlinewidth": 0,
              "ticks": ""
             }
            },
            "type": "scattermapbox"
           }
          ],
          "scatterpolar": [
           {
            "marker": {
             "colorbar": {
              "outlinewidth": 0,
              "ticks": ""
             }
            },
            "type": "scatterpolar"
           }
          ],
          "scatterpolargl": [
           {
            "marker": {
             "colorbar": {
              "outlinewidth": 0,
              "ticks": ""
             }
            },
            "type": "scatterpolargl"
           }
          ],
          "scatterternary": [
           {
            "marker": {
             "colorbar": {
              "outlinewidth": 0,
              "ticks": ""
             }
            },
            "type": "scatterternary"
           }
          ],
          "surface": [
           {
            "colorbar": {
             "outlinewidth": 0,
             "ticks": ""
            },
            "colorscale": [
             [
              0,
              "#0d0887"
             ],
             [
              0.1111111111111111,
              "#46039f"
             ],
             [
              0.2222222222222222,
              "#7201a8"
             ],
             [
              0.3333333333333333,
              "#9c179e"
             ],
             [
              0.4444444444444444,
              "#bd3786"
             ],
             [
              0.5555555555555556,
              "#d8576b"
             ],
             [
              0.6666666666666666,
              "#ed7953"
             ],
             [
              0.7777777777777778,
              "#fb9f3a"
             ],
             [
              0.8888888888888888,
              "#fdca26"
             ],
             [
              1,
              "#f0f921"
             ]
            ],
            "type": "surface"
           }
          ],
          "table": [
           {
            "cells": {
             "fill": {
              "color": "#EBF0F8"
             },
             "line": {
              "color": "white"
             }
            },
            "header": {
             "fill": {
              "color": "#C8D4E3"
             },
             "line": {
              "color": "white"
             }
            },
            "type": "table"
           }
          ]
         },
         "layout": {
          "annotationdefaults": {
           "arrowcolor": "#2a3f5f",
           "arrowhead": 0,
           "arrowwidth": 1
          },
          "autotypenumbers": "strict",
          "coloraxis": {
           "colorbar": {
            "outlinewidth": 0,
            "ticks": ""
           }
          },
          "colorscale": {
           "diverging": [
            [
             0,
             "#8e0152"
            ],
            [
             0.1,
             "#c51b7d"
            ],
            [
             0.2,
             "#de77ae"
            ],
            [
             0.3,
             "#f1b6da"
            ],
            [
             0.4,
             "#fde0ef"
            ],
            [
             0.5,
             "#f7f7f7"
            ],
            [
             0.6,
             "#e6f5d0"
            ],
            [
             0.7,
             "#b8e186"
            ],
            [
             0.8,
             "#7fbc41"
            ],
            [
             0.9,
             "#4d9221"
            ],
            [
             1,
             "#276419"
            ]
           ],
           "sequential": [
            [
             0,
             "#0d0887"
            ],
            [
             0.1111111111111111,
             "#46039f"
            ],
            [
             0.2222222222222222,
             "#7201a8"
            ],
            [
             0.3333333333333333,
             "#9c179e"
            ],
            [
             0.4444444444444444,
             "#bd3786"
            ],
            [
             0.5555555555555556,
             "#d8576b"
            ],
            [
             0.6666666666666666,
             "#ed7953"
            ],
            [
             0.7777777777777778,
             "#fb9f3a"
            ],
            [
             0.8888888888888888,
             "#fdca26"
            ],
            [
             1,
             "#f0f921"
            ]
           ],
           "sequentialminus": [
            [
             0,
             "#0d0887"
            ],
            [
             0.1111111111111111,
             "#46039f"
            ],
            [
             0.2222222222222222,
             "#7201a8"
            ],
            [
             0.3333333333333333,
             "#9c179e"
            ],
            [
             0.4444444444444444,
             "#bd3786"
            ],
            [
             0.5555555555555556,
             "#d8576b"
            ],
            [
             0.6666666666666666,
             "#ed7953"
            ],
            [
             0.7777777777777778,
             "#fb9f3a"
            ],
            [
             0.8888888888888888,
             "#fdca26"
            ],
            [
             1,
             "#f0f921"
            ]
           ]
          },
          "colorway": [
           "#636efa",
           "#EF553B",
           "#00cc96",
           "#ab63fa",
           "#FFA15A",
           "#19d3f3",
           "#FF6692",
           "#B6E880",
           "#FF97FF",
           "#FECB52"
          ],
          "font": {
           "color": "#2a3f5f"
          },
          "geo": {
           "bgcolor": "white",
           "lakecolor": "white",
           "landcolor": "#E5ECF6",
           "showlakes": true,
           "showland": true,
           "subunitcolor": "white"
          },
          "hoverlabel": {
           "align": "left"
          },
          "hovermode": "closest",
          "mapbox": {
           "style": "light"
          },
          "paper_bgcolor": "white",
          "plot_bgcolor": "#E5ECF6",
          "polar": {
           "angularaxis": {
            "gridcolor": "white",
            "linecolor": "white",
            "ticks": ""
           },
           "bgcolor": "#E5ECF6",
           "radialaxis": {
            "gridcolor": "white",
            "linecolor": "white",
            "ticks": ""
           }
          },
          "scene": {
           "xaxis": {
            "backgroundcolor": "#E5ECF6",
            "gridcolor": "white",
            "gridwidth": 2,
            "linecolor": "white",
            "showbackground": true,
            "ticks": "",
            "zerolinecolor": "white"
           },
           "yaxis": {
            "backgroundcolor": "#E5ECF6",
            "gridcolor": "white",
            "gridwidth": 2,
            "linecolor": "white",
            "showbackground": true,
            "ticks": "",
            "zerolinecolor": "white"
           },
           "zaxis": {
            "backgroundcolor": "#E5ECF6",
            "gridcolor": "white",
            "gridwidth": 2,
            "linecolor": "white",
            "showbackground": true,
            "ticks": "",
            "zerolinecolor": "white"
           }
          },
          "shapedefaults": {
           "line": {
            "color": "#2a3f5f"
           }
          },
          "ternary": {
           "aaxis": {
            "gridcolor": "white",
            "linecolor": "white",
            "ticks": ""
           },
           "baxis": {
            "gridcolor": "white",
            "linecolor": "white",
            "ticks": ""
           },
           "bgcolor": "#E5ECF6",
           "caxis": {
            "gridcolor": "white",
            "linecolor": "white",
            "ticks": ""
           }
          },
          "title": {
           "x": 0.05
          },
          "xaxis": {
           "automargin": true,
           "gridcolor": "white",
           "linecolor": "white",
           "ticks": "",
           "title": {
            "standoff": 15
           },
           "zerolinecolor": "white",
           "zerolinewidth": 2
          },
          "yaxis": {
           "automargin": true,
           "gridcolor": "white",
           "linecolor": "white",
           "ticks": "",
           "title": {
            "standoff": 15
           },
           "zerolinecolor": "white",
           "zerolinewidth": 2
          }
         }
        },
        "title": {
         "text": "Unit Price over time"
        },
        "width": 1600,
        "xaxis": {
         "anchor": "y",
         "domain": [
          0,
          1
         ],
         "title": {
          "text": "year"
         }
        },
        "yaxis": {
         "anchor": "x",
         "domain": [
          0,
          1
         ],
         "title": {
          "text": "value"
         }
        }
       }
      }
     },
     "metadata": {},
     "output_type": "display_data"
    }
   ],
   "source": [
    "plot_time_series(\n",
    "    plot_df,\n",
    "    f\"{metric}_smoothed\",\n",
    "    group_by_columns,\n",
    "    granularity_columns,\n",
    "    f\"Unit Price over time\",\n",
    "    # visible=\"legendonly\",\n",
    ")"
   ]
  },
  {
   "cell_type": "code",
   "execution_count": null,
   "metadata": {},
   "outputs": [],
   "source": []
  }
 ],
 "metadata": {
  "kernelspec": {
   "display_name": "venv",
   "language": "python",
   "name": "python3"
  },
  "language_info": {
   "codemirror_mode": {
    "name": "ipython",
    "version": 3
   },
   "file_extension": ".py",
   "mimetype": "text/x-python",
   "name": "python",
   "nbconvert_exporter": "python",
   "pygments_lexer": "ipython3",
   "version": "3.12.0"
  }
 },
 "nbformat": 4,
 "nbformat_minor": 2
}
