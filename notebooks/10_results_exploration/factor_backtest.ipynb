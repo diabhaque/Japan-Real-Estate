{
 "cells": [
  {
   "cell_type": "code",
   "execution_count": 139,
   "metadata": {},
   "outputs": [],
   "source": [
    "import warnings\n",
    "\n",
    "import pandas as pd\n",
    "import numpy as np\n",
    "\n",
    "from jre_utils.datapath import (\n",
    "    model_ready_data_paths,\n",
    ")\n",
    "\n",
    "from jre_utils.process import get_most_active_municipalities\n",
    "from jre_utils.backtest import Portfolio, Timeline\n",
    "\n",
    "\n",
    "warnings.filterwarnings(\"ignore\")\n",
    "pd.set_option(\"display.max_columns\", None)"
   ]
  },
  {
   "cell_type": "code",
   "execution_count": 140,
   "metadata": {},
   "outputs": [],
   "source": [
    "# Other strategies\n",
    "# E.g.\n",
    "# Sort by cumulative taxable income\n",
    "# Sort by momentum\n",
    "# Sort by mean reversion"
   ]
  },
  {
   "cell_type": "code",
   "execution_count": 141,
   "metadata": {},
   "outputs": [],
   "source": [
    "asset_type = \"combined\"\n",
    "dataset_key = \"transactions\"\n",
    "years_ahead = 2\n",
    "\n",
    "metrics = {\n",
    "    \"median\": \"unit_price_median\",\n",
    "    \"gmean\": \"unit_price_gmean\",\n",
    "}\n",
    "\n",
    "granularity_columns = [\"area\", \"area_code\"]\n",
    "group_by_columns = granularity_columns + [\"year\"]\n",
    "\n",
    "metric_key = \"gmean\"\n",
    "metric = metrics[metric_key]\n",
    "metric_pct_chg = metric + \"_pct_chg\"\n",
    "\n",
    "normalized_metric_pct_chg = metric_pct_chg + \"_normalized_yearly\""
   ]
  },
  {
   "cell_type": "code",
   "execution_count": 142,
   "metadata": {},
   "outputs": [],
   "source": [
    "dataset_name = f\"sequence_{dataset_key}_{asset_type}_{metric_key}_{years_ahead}\"\n",
    "model_ready_data_path = model_ready_data_paths[dataset_name]\n"
   ]
  },
  {
   "cell_type": "code",
   "execution_count": 154,
   "metadata": {},
   "outputs": [],
   "source": [
    "n = 100 # 500\n",
    "investment_asset_type = \"building\"\n",
    "core_df = pd.read_csv(model_ready_data_path)\n",
    "core_df[\"noise\"] = np.random.normal(0, 1, core_df.shape[0])\n",
    "\n",
    "# liquid_areas = get_most_active_municipalities(core_df, count_column=f\"{investment_asset_type}_count\", n=n)[\"area_code\"].unique()\n",
    "liquid_areas = [area_code for area_code in core_df[\"area_code\"].unique() if area_code // 1000 == 13] # Tokyo"
   ]
  },
  {
   "cell_type": "code",
   "execution_count": 155,
   "metadata": {},
   "outputs": [
    {
     "name": "stdout",
     "output_type": "stream",
     "text": [
      "net_migration_ratio_ma3\n",
      "net_migration_ratio_cumu3\n",
      "taxable_income_growth_ma3\n",
      "taxable_income_growth_cumu3\n",
      "new_dwellings_ratio_ma3\n",
      "new_dwellings_ratio_cumu3\n",
      "total_tax_growth_ma3\n",
      "total_tax_growth_cumu3\n",
      "building_count_growth_ma3\n",
      "building_count_growth_cumu3\n",
      "building_yearly_price_growth_ma3\n",
      "building_yearly_price_growth_cumu3\n"
     ]
    }
   ],
   "source": [
    "engineering_columns = [\n",
    "    \"net_migration_ratio\",\n",
    "    \"taxable_income_growth\",\n",
    "    \"new_dwellings_ratio\",\n",
    "    \"total_tax_growth\",\n",
    "    f\"{investment_asset_type}_count_growth\",\n",
    "    f\"{investment_asset_type}_yearly_price_growth\",\n",
    "]\n",
    "\n",
    "engineered_columns = []\n",
    "\n",
    "for col in engineering_columns:\n",
    "    core_df[\"multiplier\"] = core_df[col] + 1\n",
    "    core_df[f\"{col}_ma3\"] = core_df.groupby(granularity_columns)[col].transform(\n",
    "        lambda x: x.rolling(3, 1).mean()\n",
    "    )\n",
    "    core_df[f\"{col}_cumu3\"] = core_df.groupby(granularity_columns)[\"multiplier\"].transform(\n",
    "        lambda x: x.rolling(3, 1).apply(np.prod, raw=True)\n",
    "    )\n",
    "\n",
    "    engineered_columns.append(f\"{col}_ma3\")\n",
    "    engineered_columns.append(f\"{col}_cumu3\")\n",
    "\n",
    "    print(f\"{col}_ma3\")\n",
    "    print(f\"{col}_cumu3\")\n",
    "\n",
    "core_df[engineered_columns] = core_df[engineered_columns].fillna(0)"
   ]
  },
  {
   "cell_type": "code",
   "execution_count": 156,
   "metadata": {},
   "outputs": [
    {
     "data": {
      "text/html": [
       "<div>\n",
       "<style scoped>\n",
       "    .dataframe tbody tr th:only-of-type {\n",
       "        vertical-align: middle;\n",
       "    }\n",
       "\n",
       "    .dataframe tbody tr th {\n",
       "        vertical-align: top;\n",
       "    }\n",
       "\n",
       "    .dataframe thead th {\n",
       "        text-align: right;\n",
       "    }\n",
       "</style>\n",
       "<table border=\"1\" class=\"dataframe\">\n",
       "  <thead>\n",
       "    <tr style=\"text-align: right;\">\n",
       "      <th></th>\n",
       "      <th>area</th>\n",
       "      <th>area_code</th>\n",
       "      <th>year</th>\n",
       "      <th>building_yearly_price_growth</th>\n",
       "      <th>noise</th>\n",
       "    </tr>\n",
       "  </thead>\n",
       "  <tbody>\n",
       "    <tr>\n",
       "      <th>16302</th>\n",
       "      <td>Tokyo-to Chiyoda-ku</td>\n",
       "      <td>13101</td>\n",
       "      <td>2005</td>\n",
       "      <td>NaN</td>\n",
       "      <td>0.088061</td>\n",
       "    </tr>\n",
       "    <tr>\n",
       "      <th>16303</th>\n",
       "      <td>Tokyo-to Chiyoda-ku</td>\n",
       "      <td>13101</td>\n",
       "      <td>2006</td>\n",
       "      <td>0.115103</td>\n",
       "      <td>-0.025578</td>\n",
       "    </tr>\n",
       "    <tr>\n",
       "      <th>16304</th>\n",
       "      <td>Tokyo-to Chiyoda-ku</td>\n",
       "      <td>13101</td>\n",
       "      <td>2007</td>\n",
       "      <td>0.180474</td>\n",
       "      <td>-1.404868</td>\n",
       "    </tr>\n",
       "    <tr>\n",
       "      <th>16305</th>\n",
       "      <td>Tokyo-to Chiyoda-ku</td>\n",
       "      <td>13101</td>\n",
       "      <td>2008</td>\n",
       "      <td>-0.009674</td>\n",
       "      <td>-0.006484</td>\n",
       "    </tr>\n",
       "    <tr>\n",
       "      <th>16306</th>\n",
       "      <td>Tokyo-to Chiyoda-ku</td>\n",
       "      <td>13101</td>\n",
       "      <td>2009</td>\n",
       "      <td>-0.241944</td>\n",
       "      <td>-0.114534</td>\n",
       "    </tr>\n",
       "    <tr>\n",
       "      <th>16307</th>\n",
       "      <td>Tokyo-to Chiyoda-ku</td>\n",
       "      <td>13101</td>\n",
       "      <td>2010</td>\n",
       "      <td>0.074627</td>\n",
       "      <td>0.406716</td>\n",
       "    </tr>\n",
       "    <tr>\n",
       "      <th>16308</th>\n",
       "      <td>Tokyo-to Chiyoda-ku</td>\n",
       "      <td>13101</td>\n",
       "      <td>2011</td>\n",
       "      <td>-0.216327</td>\n",
       "      <td>-0.902860</td>\n",
       "    </tr>\n",
       "    <tr>\n",
       "      <th>16309</th>\n",
       "      <td>Tokyo-to Chiyoda-ku</td>\n",
       "      <td>13101</td>\n",
       "      <td>2012</td>\n",
       "      <td>0.026180</td>\n",
       "      <td>0.302200</td>\n",
       "    </tr>\n",
       "    <tr>\n",
       "      <th>16310</th>\n",
       "      <td>Tokyo-to Chiyoda-ku</td>\n",
       "      <td>13101</td>\n",
       "      <td>2013</td>\n",
       "      <td>0.450003</td>\n",
       "      <td>-0.209825</td>\n",
       "    </tr>\n",
       "    <tr>\n",
       "      <th>16311</th>\n",
       "      <td>Tokyo-to Chiyoda-ku</td>\n",
       "      <td>13101</td>\n",
       "      <td>2014</td>\n",
       "      <td>-0.066893</td>\n",
       "      <td>-1.406040</td>\n",
       "    </tr>\n",
       "    <tr>\n",
       "      <th>16312</th>\n",
       "      <td>Tokyo-to Chiyoda-ku</td>\n",
       "      <td>13101</td>\n",
       "      <td>2015</td>\n",
       "      <td>0.066683</td>\n",
       "      <td>0.132837</td>\n",
       "    </tr>\n",
       "    <tr>\n",
       "      <th>16313</th>\n",
       "      <td>Tokyo-to Chiyoda-ku</td>\n",
       "      <td>13101</td>\n",
       "      <td>2016</td>\n",
       "      <td>0.062582</td>\n",
       "      <td>-0.517939</td>\n",
       "    </tr>\n",
       "    <tr>\n",
       "      <th>16314</th>\n",
       "      <td>Tokyo-to Chiyoda-ku</td>\n",
       "      <td>13101</td>\n",
       "      <td>2017</td>\n",
       "      <td>0.569127</td>\n",
       "      <td>1.099110</td>\n",
       "    </tr>\n",
       "    <tr>\n",
       "      <th>16315</th>\n",
       "      <td>Tokyo-to Chiyoda-ku</td>\n",
       "      <td>13101</td>\n",
       "      <td>2018</td>\n",
       "      <td>-0.186203</td>\n",
       "      <td>0.456719</td>\n",
       "    </tr>\n",
       "    <tr>\n",
       "      <th>16316</th>\n",
       "      <td>Tokyo-to Chiyoda-ku</td>\n",
       "      <td>13101</td>\n",
       "      <td>2019</td>\n",
       "      <td>-0.038540</td>\n",
       "      <td>0.027381</td>\n",
       "    </tr>\n",
       "    <tr>\n",
       "      <th>16317</th>\n",
       "      <td>Tokyo-to Chiyoda-ku</td>\n",
       "      <td>13101</td>\n",
       "      <td>2020</td>\n",
       "      <td>0.252591</td>\n",
       "      <td>0.720036</td>\n",
       "    </tr>\n",
       "    <tr>\n",
       "      <th>16318</th>\n",
       "      <td>Tokyo-to Chiyoda-ku</td>\n",
       "      <td>13101</td>\n",
       "      <td>2021</td>\n",
       "      <td>0.068507</td>\n",
       "      <td>-2.068917</td>\n",
       "    </tr>\n",
       "    <tr>\n",
       "      <th>16319</th>\n",
       "      <td>Tokyo-to Chiyoda-ku</td>\n",
       "      <td>13101</td>\n",
       "      <td>2022</td>\n",
       "      <td>-0.057576</td>\n",
       "      <td>1.495047</td>\n",
       "    </tr>\n",
       "  </tbody>\n",
       "</table>\n",
       "</div>"
      ],
      "text/plain": [
       "                      area  area_code  year  building_yearly_price_growth  \\\n",
       "16302  Tokyo-to Chiyoda-ku      13101  2005                           NaN   \n",
       "16303  Tokyo-to Chiyoda-ku      13101  2006                      0.115103   \n",
       "16304  Tokyo-to Chiyoda-ku      13101  2007                      0.180474   \n",
       "16305  Tokyo-to Chiyoda-ku      13101  2008                     -0.009674   \n",
       "16306  Tokyo-to Chiyoda-ku      13101  2009                     -0.241944   \n",
       "16307  Tokyo-to Chiyoda-ku      13101  2010                      0.074627   \n",
       "16308  Tokyo-to Chiyoda-ku      13101  2011                     -0.216327   \n",
       "16309  Tokyo-to Chiyoda-ku      13101  2012                      0.026180   \n",
       "16310  Tokyo-to Chiyoda-ku      13101  2013                      0.450003   \n",
       "16311  Tokyo-to Chiyoda-ku      13101  2014                     -0.066893   \n",
       "16312  Tokyo-to Chiyoda-ku      13101  2015                      0.066683   \n",
       "16313  Tokyo-to Chiyoda-ku      13101  2016                      0.062582   \n",
       "16314  Tokyo-to Chiyoda-ku      13101  2017                      0.569127   \n",
       "16315  Tokyo-to Chiyoda-ku      13101  2018                     -0.186203   \n",
       "16316  Tokyo-to Chiyoda-ku      13101  2019                     -0.038540   \n",
       "16317  Tokyo-to Chiyoda-ku      13101  2020                      0.252591   \n",
       "16318  Tokyo-to Chiyoda-ku      13101  2021                      0.068507   \n",
       "16319  Tokyo-to Chiyoda-ku      13101  2022                     -0.057576   \n",
       "\n",
       "          noise  \n",
       "16302  0.088061  \n",
       "16303 -0.025578  \n",
       "16304 -1.404868  \n",
       "16305 -0.006484  \n",
       "16306 -0.114534  \n",
       "16307  0.406716  \n",
       "16308 -0.902860  \n",
       "16309  0.302200  \n",
       "16310 -0.209825  \n",
       "16311 -1.406040  \n",
       "16312  0.132837  \n",
       "16313 -0.517939  \n",
       "16314  1.099110  \n",
       "16315  0.456719  \n",
       "16316  0.027381  \n",
       "16317  0.720036  \n",
       "16318 -2.068917  \n",
       "16319  1.495047  "
      ]
     },
     "execution_count": 156,
     "metadata": {},
     "output_type": "execute_result"
    }
   ],
   "source": [
    "core_df[core_df[\"area_code\"] == 13101][group_by_columns + [f\"{investment_asset_type}_yearly_price_growth\", \"noise\"]]"
   ]
  },
  {
   "cell_type": "code",
   "execution_count": 157,
   "metadata": {},
   "outputs": [],
   "source": [
    "# combining_factors\n",
    "core_df[\"negative_cumulative_returns\"] = -core_df[f\"{investment_asset_type}_yearly_price_growth\"]\n",
    "\n",
    "# core_df[\"combined_factor\"] = core_df[\"taxable_income_growth_cumu3\"] + core_df[\"net_migration_ratio_cumu3\"]\n",
    "core_df[\"combined_factor\"] = core_df[\"taxable_income_growth_cumu3\"] + core_df[\"net_migration_ratio_cumu3\"] - core_df[f\"{investment_asset_type}_yearly_price_growth\"]"
   ]
  },
  {
   "cell_type": "code",
   "execution_count": 158,
   "metadata": {},
   "outputs": [],
   "source": [
    "investment_start_year = 2010\n",
    "investment_end_year = 2020\n",
    "investment_eval_end_year = 2022\n",
    "rebalancing_frequency = 2\n",
    "\n",
    "rebalancing_years = range(\n",
    "    investment_start_year, investment_end_year + 1, rebalancing_frequency\n",
    ")\n",
    "\n",
    "asset_count = 10\n",
    "shorting_enabled = True"
   ]
  },
  {
   "cell_type": "code",
   "execution_count": 159,
   "metadata": {},
   "outputs": [],
   "source": [
    "cash, assets, liabilities = 1000, {}, {}\n",
    "initial_portfolio = Portfolio(assets, liabilities, cash)\n",
    "\n",
    "timelines = {\n",
    "    \"taxable_income_growth_cumu3\": None,\n",
    "    \"net_migration_ratio_cumu3\": None,\n",
    "    \"new_dwellings_ratio_cumu3\": None,\n",
    "    \"total_tax_growth_cumu3\": None,\n",
    "    \"negative_cumulative_returns\": None,\n",
    "    f\"{investment_asset_type}_count_growth_cumu3\": None,\n",
    "    f\"{investment_asset_type}_yearly_price_growth_cumu3\": None,\n",
    "    \"combined_factor\": None,\n",
    "    \"noise\": None\n",
    "}"
   ]
  },
  {
   "cell_type": "code",
   "execution_count": 165,
   "metadata": {},
   "outputs": [],
   "source": [
    "for factor in timelines:\n",
    "    timelines[factor] = Timeline(investment_start_year, initial_portfolio)\n",
    "    for year in range(investment_start_year, investment_eval_end_year + 1):\n",
    "        current_year_df = core_df[core_df[\"year\"] == year]\n",
    "        current_year_df = current_year_df.set_index(\"area_code\")\n",
    "\n",
    "        timelines[factor].remark(\n",
    "            year, current_year_df, metric=f\"{investment_asset_type}_yearly_price_growth\"\n",
    "        )\n",
    "\n",
    "        # print(f\"{year} NAV: {timelines[factor].get_current_portfolio().nav()}\")\n",
    "\n",
    "        if year in rebalancing_years:\n",
    "            factor_df = current_year_df[current_year_df.index.isin(liquid_areas)]\n",
    "            top_areas = factor_df.nlargest(asset_count, factor).index\n",
    "            bottom_areas = factor_df.nsmallest(asset_count, factor).index\n",
    "            timelines[factor].rebalance(top_areas, bottom_areas if shorting_enabled else [])\n",
    "\n",
    "    series_name = f\"Combined Factor. Annualized Return: {timelines[factor].calculate_annualized_return()}. Sharpe Ratio:{timelines[factor].calculate_sharpe_ratio()}\""
   ]
  },
  {
   "cell_type": "code",
   "execution_count": 160,
   "metadata": {},
   "outputs": [
    {
     "name": "stdout",
     "output_type": "stream",
     "text": [
      "2010 NAV: 1000\n",
      "2011 NAV: 1086.264045279\n",
      "2012 NAV: 1215.4321567596867\n",
      "2013 NAV: 1312.035408362752\n",
      "2014 NAV: 1327.3453984317678\n",
      "2015 NAV: 1501.3762726432237\n",
      "2016 NAV: 1383.3852699815882\n",
      "2017 NAV: 1612.2931074960843\n",
      "2018 NAV: 1638.3605982485\n",
      "2019 NAV: 1727.3620582574392\n",
      "2020 NAV: 2092.4267039307224\n",
      "2021 NAV: 2347.459050611268\n",
      "2022 NAV: 2473.740204248139\n"
     ]
    }
   ],
   "source": [
    "factor = \"negative_cumulative_returns\"\n",
    "timelines[factor] = Timeline(investment_start_year, initial_portfolio)\n",
    "\n",
    "for year in range(investment_start_year, investment_eval_end_year + 1):\n",
    "    current_year_df = core_df[core_df[\"year\"] == year]\n",
    "    current_year_df = current_year_df.set_index(\"area_code\")\n",
    "\n",
    "    timelines[factor].remark(\n",
    "        year, current_year_df, metric=f\"{investment_asset_type}_yearly_price_growth\"\n",
    "    )\n",
    "\n",
    "    print(f\"{year} NAV: {timelines[factor].get_current_portfolio().nav()}\")\n",
    "\n",
    "    if year in rebalancing_years:\n",
    "        factor_df = current_year_df[current_year_df.index.isin(liquid_areas)]\n",
    "        top_areas = factor_df.nlargest(asset_count, factor).index\n",
    "        bottom_areas = factor_df.nsmallest(asset_count, factor).index\n",
    "        timelines[factor].rebalance(top_areas, bottom_areas if shorting_enabled else [])\n",
    "\n",
    "series_name = f\"Combined Factor. Annualized Return: {timelines[factor].calculate_annualized_return()}. Sharpe Ratio:{timelines[factor].calculate_sharpe_ratio()}\"\n",
    "factor_series = pd.Series(timelines[factor].get_cumulative_returns(), name=factor)"
   ]
  },
  {
   "cell_type": "code",
   "execution_count": 161,
   "metadata": {},
   "outputs": [
    {
     "name": "stdout",
     "output_type": "stream",
     "text": [
      "2010 NAV: 1000\n",
      "2011 NAV: 1077.8999007783111\n",
      "2012 NAV: 962.8804004645962\n",
      "2013 NAV: 998.8443632531513\n",
      "2014 NAV: 951.9400267011515\n",
      "2015 NAV: 945.2660100640122\n",
      "2016 NAV: 988.9808340912745\n",
      "2017 NAV: 922.1161384943923\n",
      "2018 NAV: 1024.1242452110264\n",
      "2019 NAV: 1101.575046623926\n",
      "2020 NAV: 1159.3965175477065\n",
      "2021 NAV: 1293.9354898992574\n",
      "2022 NAV: 1220.0637215527518\n"
     ]
    }
   ],
   "source": [
    "timelines[\"noise\"] = Timeline(investment_start_year, initial_portfolio)\n",
    "\n",
    "for year in range(investment_start_year, investment_eval_end_year + 1):\n",
    "    current_year_df = core_df[core_df[\"year\"] == year]\n",
    "    current_year_df = current_year_df.set_index(\"area_code\")\n",
    "\n",
    "    timelines[\"noise\"].remark(\n",
    "        year, current_year_df, metric=f\"{investment_asset_type}_yearly_price_growth\"\n",
    "    )\n",
    "\n",
    "    print(f\"{year} NAV: {timelines['noise'].get_current_portfolio().nav()}\")\n",
    "\n",
    "    if year in rebalancing_years:\n",
    "        factor_df = current_year_df[current_year_df.index.isin(liquid_areas)]\n",
    "        top_areas = factor_df.nlargest(asset_count, \"noise\").index\n",
    "        bottom_areas = factor_df.nsmallest(asset_count, \"noise\").index\n",
    "        timelines[\"noise\"].rebalance(\n",
    "            top_areas, bottom_areas if shorting_enabled else []\n",
    "        )\n",
    "\n",
    "series_name = f\"Noise. Annualized Return: {timelines['noise'].calculate_annualized_return()}. Sharpe Ratio:{timelines['noise'].calculate_sharpe_ratio()}\"\n",
    "noise_series = pd.Series(timelines[\"noise\"].get_cumulative_returns(), name=series_name)"
   ]
  },
  {
   "cell_type": "code",
   "execution_count": 168,
   "metadata": {},
   "outputs": [
    {
     "data": {
      "application/vnd.plotly.v1+json": {
       "config": {
        "plotlyServerURL": "https://plot.ly"
       },
       "data": [
        {
         "hovertemplate": "variable=negative_cumulative_returns<br>index=%{x}<br>value=%{y}<extra></extra>",
         "legendgroup": "negative_cumulative_returns",
         "line": {
          "color": "#636efa",
          "dash": "solid"
         },
         "marker": {
          "symbol": "circle"
         },
         "mode": "lines+markers",
         "name": "negative_cumulative_returns",
         "orientation": "v",
         "showlegend": true,
         "type": "scatter",
         "x": [
          2010,
          2011,
          2012,
          2013,
          2014,
          2015,
          2016,
          2017,
          2018,
          2019,
          2020,
          2021,
          2022
         ],
         "xaxis": "x",
         "y": [
          1,
          1.086264045279,
          1.2154321567596866,
          1.312035408362752,
          1.3273453984317678,
          1.5013762726432238,
          1.3833852699815883,
          1.6122931074960842,
          1.6383605982485,
          1.7273620582574392,
          2.0924267039307223,
          2.3474590506112682,
          2.473740204248139
         ],
         "yaxis": "y"
        },
        {
         "hovertemplate": "variable=Noise. Annualized Return: 0.015417885433197442. Sharpe Ratio:0.2703056733359533<br>index=%{x}<br>value=%{y}<extra></extra>",
         "legendgroup": "Noise. Annualized Return: 0.015417885433197442. Sharpe Ratio:0.2703056733359533",
         "line": {
          "color": "#EF553B",
          "dash": "solid"
         },
         "marker": {
          "symbol": "circle"
         },
         "mode": "lines+markers",
         "name": "Noise. Annualized Return: 0.015417885433197442. Sharpe Ratio:0.2703056733359533",
         "orientation": "v",
         "showlegend": true,
         "type": "scatter",
         "x": [
          2010,
          2011,
          2012,
          2013,
          2014,
          2015,
          2016,
          2017,
          2018,
          2019,
          2020,
          2021,
          2022
         ],
         "xaxis": "x",
         "y": [
          1,
          1.0778999007783112,
          0.9628804004645961,
          0.9988443632531513,
          0.9519400267011515,
          0.9452660100640122,
          0.9889808340912745,
          0.9221161384943923,
          1.0241242452110264,
          1.101575046623926,
          1.1593965175477066,
          1.2939354898992574,
          1.2200637215527517
         ],
         "yaxis": "y"
        }
       ],
       "layout": {
        "autosize": false,
        "height": 600,
        "hovermode": "closest",
        "legend": {
         "title": {
          "text": "variable"
         },
         "tracegroupgap": 0
        },
        "margin": {
         "t": 60
        },
        "showlegend": false,
        "template": {
         "data": {
          "bar": [
           {
            "error_x": {
             "color": "#2a3f5f"
            },
            "error_y": {
             "color": "#2a3f5f"
            },
            "marker": {
             "line": {
              "color": "#E5ECF6",
              "width": 0.5
             },
             "pattern": {
              "fillmode": "overlay",
              "size": 10,
              "solidity": 0.2
             }
            },
            "type": "bar"
           }
          ],
          "barpolar": [
           {
            "marker": {
             "line": {
              "color": "#E5ECF6",
              "width": 0.5
             },
             "pattern": {
              "fillmode": "overlay",
              "size": 10,
              "solidity": 0.2
             }
            },
            "type": "barpolar"
           }
          ],
          "carpet": [
           {
            "aaxis": {
             "endlinecolor": "#2a3f5f",
             "gridcolor": "white",
             "linecolor": "white",
             "minorgridcolor": "white",
             "startlinecolor": "#2a3f5f"
            },
            "baxis": {
             "endlinecolor": "#2a3f5f",
             "gridcolor": "white",
             "linecolor": "white",
             "minorgridcolor": "white",
             "startlinecolor": "#2a3f5f"
            },
            "type": "carpet"
           }
          ],
          "choropleth": [
           {
            "colorbar": {
             "outlinewidth": 0,
             "ticks": ""
            },
            "type": "choropleth"
           }
          ],
          "contour": [
           {
            "colorbar": {
             "outlinewidth": 0,
             "ticks": ""
            },
            "colorscale": [
             [
              0,
              "#0d0887"
             ],
             [
              0.1111111111111111,
              "#46039f"
             ],
             [
              0.2222222222222222,
              "#7201a8"
             ],
             [
              0.3333333333333333,
              "#9c179e"
             ],
             [
              0.4444444444444444,
              "#bd3786"
             ],
             [
              0.5555555555555556,
              "#d8576b"
             ],
             [
              0.6666666666666666,
              "#ed7953"
             ],
             [
              0.7777777777777778,
              "#fb9f3a"
             ],
             [
              0.8888888888888888,
              "#fdca26"
             ],
             [
              1,
              "#f0f921"
             ]
            ],
            "type": "contour"
           }
          ],
          "contourcarpet": [
           {
            "colorbar": {
             "outlinewidth": 0,
             "ticks": ""
            },
            "type": "contourcarpet"
           }
          ],
          "heatmap": [
           {
            "colorbar": {
             "outlinewidth": 0,
             "ticks": ""
            },
            "colorscale": [
             [
              0,
              "#0d0887"
             ],
             [
              0.1111111111111111,
              "#46039f"
             ],
             [
              0.2222222222222222,
              "#7201a8"
             ],
             [
              0.3333333333333333,
              "#9c179e"
             ],
             [
              0.4444444444444444,
              "#bd3786"
             ],
             [
              0.5555555555555556,
              "#d8576b"
             ],
             [
              0.6666666666666666,
              "#ed7953"
             ],
             [
              0.7777777777777778,
              "#fb9f3a"
             ],
             [
              0.8888888888888888,
              "#fdca26"
             ],
             [
              1,
              "#f0f921"
             ]
            ],
            "type": "heatmap"
           }
          ],
          "heatmapgl": [
           {
            "colorbar": {
             "outlinewidth": 0,
             "ticks": ""
            },
            "colorscale": [
             [
              0,
              "#0d0887"
             ],
             [
              0.1111111111111111,
              "#46039f"
             ],
             [
              0.2222222222222222,
              "#7201a8"
             ],
             [
              0.3333333333333333,
              "#9c179e"
             ],
             [
              0.4444444444444444,
              "#bd3786"
             ],
             [
              0.5555555555555556,
              "#d8576b"
             ],
             [
              0.6666666666666666,
              "#ed7953"
             ],
             [
              0.7777777777777778,
              "#fb9f3a"
             ],
             [
              0.8888888888888888,
              "#fdca26"
             ],
             [
              1,
              "#f0f921"
             ]
            ],
            "type": "heatmapgl"
           }
          ],
          "histogram": [
           {
            "marker": {
             "pattern": {
              "fillmode": "overlay",
              "size": 10,
              "solidity": 0.2
             }
            },
            "type": "histogram"
           }
          ],
          "histogram2d": [
           {
            "colorbar": {
             "outlinewidth": 0,
             "ticks": ""
            },
            "colorscale": [
             [
              0,
              "#0d0887"
             ],
             [
              0.1111111111111111,
              "#46039f"
             ],
             [
              0.2222222222222222,
              "#7201a8"
             ],
             [
              0.3333333333333333,
              "#9c179e"
             ],
             [
              0.4444444444444444,
              "#bd3786"
             ],
             [
              0.5555555555555556,
              "#d8576b"
             ],
             [
              0.6666666666666666,
              "#ed7953"
             ],
             [
              0.7777777777777778,
              "#fb9f3a"
             ],
             [
              0.8888888888888888,
              "#fdca26"
             ],
             [
              1,
              "#f0f921"
             ]
            ],
            "type": "histogram2d"
           }
          ],
          "histogram2dcontour": [
           {
            "colorbar": {
             "outlinewidth": 0,
             "ticks": ""
            },
            "colorscale": [
             [
              0,
              "#0d0887"
             ],
             [
              0.1111111111111111,
              "#46039f"
             ],
             [
              0.2222222222222222,
              "#7201a8"
             ],
             [
              0.3333333333333333,
              "#9c179e"
             ],
             [
              0.4444444444444444,
              "#bd3786"
             ],
             [
              0.5555555555555556,
              "#d8576b"
             ],
             [
              0.6666666666666666,
              "#ed7953"
             ],
             [
              0.7777777777777778,
              "#fb9f3a"
             ],
             [
              0.8888888888888888,
              "#fdca26"
             ],
             [
              1,
              "#f0f921"
             ]
            ],
            "type": "histogram2dcontour"
           }
          ],
          "mesh3d": [
           {
            "colorbar": {
             "outlinewidth": 0,
             "ticks": ""
            },
            "type": "mesh3d"
           }
          ],
          "parcoords": [
           {
            "line": {
             "colorbar": {
              "outlinewidth": 0,
              "ticks": ""
             }
            },
            "type": "parcoords"
           }
          ],
          "pie": [
           {
            "automargin": true,
            "type": "pie"
           }
          ],
          "scatter": [
           {
            "fillpattern": {
             "fillmode": "overlay",
             "size": 10,
             "solidity": 0.2
            },
            "type": "scatter"
           }
          ],
          "scatter3d": [
           {
            "line": {
             "colorbar": {
              "outlinewidth": 0,
              "ticks": ""
             }
            },
            "marker": {
             "colorbar": {
              "outlinewidth": 0,
              "ticks": ""
             }
            },
            "type": "scatter3d"
           }
          ],
          "scattercarpet": [
           {
            "marker": {
             "colorbar": {
              "outlinewidth": 0,
              "ticks": ""
             }
            },
            "type": "scattercarpet"
           }
          ],
          "scattergeo": [
           {
            "marker": {
             "colorbar": {
              "outlinewidth": 0,
              "ticks": ""
             }
            },
            "type": "scattergeo"
           }
          ],
          "scattergl": [
           {
            "marker": {
             "colorbar": {
              "outlinewidth": 0,
              "ticks": ""
             }
            },
            "type": "scattergl"
           }
          ],
          "scattermapbox": [
           {
            "marker": {
             "colorbar": {
              "outlinewidth": 0,
              "ticks": ""
             }
            },
            "type": "scattermapbox"
           }
          ],
          "scatterpolar": [
           {
            "marker": {
             "colorbar": {
              "outlinewidth": 0,
              "ticks": ""
             }
            },
            "type": "scatterpolar"
           }
          ],
          "scatterpolargl": [
           {
            "marker": {
             "colorbar": {
              "outlinewidth": 0,
              "ticks": ""
             }
            },
            "type": "scatterpolargl"
           }
          ],
          "scatterternary": [
           {
            "marker": {
             "colorbar": {
              "outlinewidth": 0,
              "ticks": ""
             }
            },
            "type": "scatterternary"
           }
          ],
          "surface": [
           {
            "colorbar": {
             "outlinewidth": 0,
             "ticks": ""
            },
            "colorscale": [
             [
              0,
              "#0d0887"
             ],
             [
              0.1111111111111111,
              "#46039f"
             ],
             [
              0.2222222222222222,
              "#7201a8"
             ],
             [
              0.3333333333333333,
              "#9c179e"
             ],
             [
              0.4444444444444444,
              "#bd3786"
             ],
             [
              0.5555555555555556,
              "#d8576b"
             ],
             [
              0.6666666666666666,
              "#ed7953"
             ],
             [
              0.7777777777777778,
              "#fb9f3a"
             ],
             [
              0.8888888888888888,
              "#fdca26"
             ],
             [
              1,
              "#f0f921"
             ]
            ],
            "type": "surface"
           }
          ],
          "table": [
           {
            "cells": {
             "fill": {
              "color": "#EBF0F8"
             },
             "line": {
              "color": "white"
             }
            },
            "header": {
             "fill": {
              "color": "#C8D4E3"
             },
             "line": {
              "color": "white"
             }
            },
            "type": "table"
           }
          ]
         },
         "layout": {
          "annotationdefaults": {
           "arrowcolor": "#2a3f5f",
           "arrowhead": 0,
           "arrowwidth": 1
          },
          "autotypenumbers": "strict",
          "coloraxis": {
           "colorbar": {
            "outlinewidth": 0,
            "ticks": ""
           }
          },
          "colorscale": {
           "diverging": [
            [
             0,
             "#8e0152"
            ],
            [
             0.1,
             "#c51b7d"
            ],
            [
             0.2,
             "#de77ae"
            ],
            [
             0.3,
             "#f1b6da"
            ],
            [
             0.4,
             "#fde0ef"
            ],
            [
             0.5,
             "#f7f7f7"
            ],
            [
             0.6,
             "#e6f5d0"
            ],
            [
             0.7,
             "#b8e186"
            ],
            [
             0.8,
             "#7fbc41"
            ],
            [
             0.9,
             "#4d9221"
            ],
            [
             1,
             "#276419"
            ]
           ],
           "sequential": [
            [
             0,
             "#0d0887"
            ],
            [
             0.1111111111111111,
             "#46039f"
            ],
            [
             0.2222222222222222,
             "#7201a8"
            ],
            [
             0.3333333333333333,
             "#9c179e"
            ],
            [
             0.4444444444444444,
             "#bd3786"
            ],
            [
             0.5555555555555556,
             "#d8576b"
            ],
            [
             0.6666666666666666,
             "#ed7953"
            ],
            [
             0.7777777777777778,
             "#fb9f3a"
            ],
            [
             0.8888888888888888,
             "#fdca26"
            ],
            [
             1,
             "#f0f921"
            ]
           ],
           "sequentialminus": [
            [
             0,
             "#0d0887"
            ],
            [
             0.1111111111111111,
             "#46039f"
            ],
            [
             0.2222222222222222,
             "#7201a8"
            ],
            [
             0.3333333333333333,
             "#9c179e"
            ],
            [
             0.4444444444444444,
             "#bd3786"
            ],
            [
             0.5555555555555556,
             "#d8576b"
            ],
            [
             0.6666666666666666,
             "#ed7953"
            ],
            [
             0.7777777777777778,
             "#fb9f3a"
            ],
            [
             0.8888888888888888,
             "#fdca26"
            ],
            [
             1,
             "#f0f921"
            ]
           ]
          },
          "colorway": [
           "#636efa",
           "#EF553B",
           "#00cc96",
           "#ab63fa",
           "#FFA15A",
           "#19d3f3",
           "#FF6692",
           "#B6E880",
           "#FF97FF",
           "#FECB52"
          ],
          "font": {
           "color": "#2a3f5f"
          },
          "geo": {
           "bgcolor": "white",
           "lakecolor": "white",
           "landcolor": "#E5ECF6",
           "showlakes": true,
           "showland": true,
           "subunitcolor": "white"
          },
          "hoverlabel": {
           "align": "left"
          },
          "hovermode": "closest",
          "mapbox": {
           "style": "light"
          },
          "paper_bgcolor": "white",
          "plot_bgcolor": "#E5ECF6",
          "polar": {
           "angularaxis": {
            "gridcolor": "white",
            "linecolor": "white",
            "ticks": ""
           },
           "bgcolor": "#E5ECF6",
           "radialaxis": {
            "gridcolor": "white",
            "linecolor": "white",
            "ticks": ""
           }
          },
          "scene": {
           "xaxis": {
            "backgroundcolor": "#E5ECF6",
            "gridcolor": "white",
            "gridwidth": 2,
            "linecolor": "white",
            "showbackground": true,
            "ticks": "",
            "zerolinecolor": "white"
           },
           "yaxis": {
            "backgroundcolor": "#E5ECF6",
            "gridcolor": "white",
            "gridwidth": 2,
            "linecolor": "white",
            "showbackground": true,
            "ticks": "",
            "zerolinecolor": "white"
           },
           "zaxis": {
            "backgroundcolor": "#E5ECF6",
            "gridcolor": "white",
            "gridwidth": 2,
            "linecolor": "white",
            "showbackground": true,
            "ticks": "",
            "zerolinecolor": "white"
           }
          },
          "shapedefaults": {
           "line": {
            "color": "#2a3f5f"
           }
          },
          "ternary": {
           "aaxis": {
            "gridcolor": "white",
            "linecolor": "white",
            "ticks": ""
           },
           "baxis": {
            "gridcolor": "white",
            "linecolor": "white",
            "ticks": ""
           },
           "bgcolor": "#E5ECF6",
           "caxis": {
            "gridcolor": "white",
            "linecolor": "white",
            "ticks": ""
           }
          },
          "title": {
           "x": 0.05
          },
          "xaxis": {
           "automargin": true,
           "gridcolor": "white",
           "linecolor": "white",
           "ticks": "",
           "title": {
            "standoff": 15
           },
           "zerolinecolor": "white",
           "zerolinewidth": 2
          },
          "yaxis": {
           "automargin": true,
           "gridcolor": "white",
           "linecolor": "white",
           "ticks": "",
           "title": {
            "standoff": 15
           },
           "zerolinecolor": "white",
           "zerolinewidth": 2
          }
         }
        },
        "width": 1000,
        "xaxis": {
         "anchor": "y",
         "domain": [
          0,
          1
         ],
         "title": {
          "text": "index"
         }
        },
        "yaxis": {
         "anchor": "x",
         "domain": [
          0,
          1
         ],
         "title": {
          "text": "value"
         }
        }
       }
      }
     },
     "metadata": {},
     "output_type": "display_data"
    }
   ],
   "source": [
    "# plot_time_series(df, title=\"Factor vs Noise\", ylabel=\"NAV\", xlabel=\"Year\", filename=\"factor_vs_noise.png\")\n",
    "import plotly.express as px\n",
    "import matplotlib.pyplot as plt\n",
    "\n",
    "factor = \"negative_cumulative_returns\"\n",
    "factor_series = pd.Series(timelines[factor].get_cumulative_returns(), name=factor)\n",
    "\n",
    "df = pd.concat([factor_series, noise_series], axis=1)\n",
    "\n",
    "fig = px.line(df, y=df.columns)\n",
    "fig.update_traces(mode=\"lines+markers\")\n",
    "fig.update_layout(\n",
    "        autosize=False,\n",
    "        width=1000,\n",
    "        height=600,\n",
    "        hovermode=\"closest\",\n",
    "        showlegend=False,\n",
    "    )\n",
    "fig.show()"
   ]
  },
  {
   "cell_type": "code",
   "execution_count": 169,
   "metadata": {},
   "outputs": [
    {
     "name": "stdout",
     "output_type": "stream",
     "text": [
      "Annualized Return:  0.07215606517110618\n",
      "Sharpe Ratio: 1.094465609865627\n"
     ]
    }
   ],
   "source": [
    "print(f\"Annualized Return: \", timelines[factor].calculate_annualized_return())\n",
    "print(f\"Sharpe Ratio:\", timelines[factor].calculate_sharpe_ratio())"
   ]
  },
  {
   "cell_type": "code",
   "execution_count": null,
   "metadata": {},
   "outputs": [],
   "source": []
  }
 ],
 "metadata": {
  "kernelspec": {
   "display_name": "venv38",
   "language": "python",
   "name": "python3"
  },
  "language_info": {
   "codemirror_mode": {
    "name": "ipython",
    "version": 3
   },
   "file_extension": ".py",
   "mimetype": "text/x-python",
   "name": "python",
   "nbconvert_exporter": "python",
   "pygments_lexer": "ipython3",
   "version": "3.8.18"
  }
 },
 "nbformat": 4,
 "nbformat_minor": 2
}
