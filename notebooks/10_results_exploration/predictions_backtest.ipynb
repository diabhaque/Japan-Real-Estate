{
 "cells": [
  {
   "cell_type": "code",
   "execution_count": 23,
   "metadata": {},
   "outputs": [],
   "source": [
    "import warnings\n",
    "\n",
    "import pandas as pd\n",
    "import numpy as np\n",
    "\n",
    "from jre_utils.datapath import (\n",
    "    model_ready_data_paths,\n",
    "    model_output_data_paths\n",
    ")\n",
    "\n",
    "from jre_utils.process import get_most_active_municipalities\n",
    "from jre_utils.backtest import Portfolio, Timeline\n",
    "\n",
    "from sklearn.metrics import r2_score\n",
    "\n",
    "warnings.filterwarnings(\"ignore\")\n",
    "pd.set_option(\"display.max_columns\", None)"
   ]
  },
  {
   "cell_type": "code",
   "execution_count": 16,
   "metadata": {},
   "outputs": [],
   "source": [
    "asset_type = \"combined\"\n",
    "dataset_key = \"transactions\"\n",
    "years_ahead = 2\n",
    "\n",
    "metrics = {\n",
    "    \"median\": \"unit_price_median\",\n",
    "    \"gmean\": \"unit_price_gmean\",\n",
    "}\n",
    "\n",
    "granularity_columns = [\"area\", \"area_code\"]\n",
    "group_by_columns = granularity_columns + [\"year\"]\n",
    "\n",
    "metric_key = \"gmean\"\n",
    "metric = metrics[metric_key]\n",
    "metric_pct_chg = metric + \"_pct_chg\"\n",
    "\n",
    "normalized_metric_pct_chg = metric_pct_chg + \"_normalized_yearly\""
   ]
  },
  {
   "cell_type": "code",
   "execution_count": 17,
   "metadata": {},
   "outputs": [],
   "source": [
    "dataset_name = f\"sequence_{dataset_key}_{asset_type}_{metric_key}_{years_ahead}\"\n",
    "model_ready_data_path = model_ready_data_paths[dataset_name]\n"
   ]
  },
  {
   "cell_type": "code",
   "execution_count": 89,
   "metadata": {},
   "outputs": [],
   "source": [
    "n = 100 # 500\n",
    "investment_asset_type = \"building\"\n",
    "\n",
    "core_df = pd.read_csv(model_ready_data_path)\n",
    "core_df[\"noise\"] = np.random.normal(0, 1, core_df.shape[0])\n",
    "\n",
    "# liquid_areas = get_most_active_municipalities(core_df, count_column=f\"{investment_asset_type}_count\", n=n)[\"area_code\"].unique()\n",
    "liquid_areas = [area_code for area_code in core_df[\"area_code\"].unique() if area_code // 1000 == 13] # Tokyo\n"
   ]
  },
  {
   "cell_type": "code",
   "execution_count": 90,
   "metadata": {},
   "outputs": [],
   "source": [
    "investment_start_year = 2010\n",
    "investment_end_year = 2020\n",
    "investment_eval_end_year = 2022\n",
    "rebalancing_frequency = 2\n",
    "\n",
    "rebalancing_years = range(\n",
    "    investment_start_year, investment_end_year + 1, rebalancing_frequency\n",
    ")\n",
    "\n",
    "asset_count = 10\n",
    "shorting_enabled = True"
   ]
  },
  {
   "cell_type": "code",
   "execution_count": 91,
   "metadata": {},
   "outputs": [],
   "source": [
    "cash, assets, liabilities = 1000, {}, {}\n",
    "initial_portfolio = Portfolio(assets, liabilities, cash)\n",
    "\n",
    "timelines = {\n",
    "    \"model\": None,\n",
    "    \"noise\": None\n",
    "}"
   ]
  },
  {
   "cell_type": "code",
   "execution_count": 92,
   "metadata": {},
   "outputs": [
    {
     "name": "stdout",
     "output_type": "stream",
     "text": [
      "2010 NAV: 1000\n",
      "2011 NAV: 1024.9626616009846\n",
      "2012 NAV: 1031.4478051983988\n",
      "2013 NAV: 1050.0926084958764\n",
      "2014 NAV: 1058.2387407407548\n",
      "2015 NAV: 1124.232996659528\n",
      "2016 NAV: 1115.3587995409166\n",
      "2017 NAV: 1183.6072605475633\n",
      "2018 NAV: 1220.444736029205\n",
      "2019 NAV: 1243.9004805260104\n",
      "2020 NAV: 1236.0281651377722\n",
      "2021 NAV: 1298.3767542865487\n",
      "2022 NAV: 1384.4068764993995\n"
     ]
    }
   ],
   "source": [
    "initial_portfolio = Portfolio(assets, liabilities, cash)\n",
    "timelines[\"model\"] = Timeline(investment_start_year, initial_portfolio)\n",
    "\n",
    "for year in range(investment_start_year, investment_eval_end_year + 1):\n",
    "    current_year_df = core_df[core_df[\"year\"] == year]\n",
    "    current_year_df = current_year_df.set_index(\"area_code\")\n",
    "    timelines[\"model\"].remark(\n",
    "        year, current_year_df, metric=f\"{investment_asset_type}_yearly_price_growth\"\n",
    "    )\n",
    "\n",
    "    print(f\"{year} NAV: {timelines['model'].get_current_portfolio().nav()}\")\n",
    "\n",
    "    if year in rebalancing_years:\n",
    "        dataset_name = f\"sequence_{dataset_key}_{investment_asset_type}_{metric_key}_{years_ahead}\"\n",
    "        output_dataset_name = f\"{dataset_name}_{year + years_ahead}\"\n",
    "        model_output_data_path = model_output_data_paths[output_dataset_name]\n",
    "\n",
    "        pred_df = pd.read_csv(model_output_data_path)\n",
    "        pred_df = pred_df[pred_df[\"area_code\"].isin(liquid_areas)]\n",
    "        pred_df = pred_df.set_index(\"area_code\")\n",
    "\n",
    "        top_areas = pred_df.nlargest(asset_count, \"predicted_normalized_return\").index\n",
    "        bottom_areas = pred_df.nsmallest(\n",
    "            asset_count, \"predicted_normalized_return\"\n",
    "        ).index\n",
    "\n",
    "        timelines[\"model\"].rebalance(top_areas, bottom_areas if shorting_enabled else [])\n",
    "\n",
    "series_name = f\"Model. Annualized Return: {timelines['model'].calculate_annualized_return()}. Sharpe Ratio:{timelines['model'].calculate_sharpe_ratio()}\"\n",
    "model_series = pd.Series(timelines[\"model\"].get_cumulative_returns(), name=series_name)"
   ]
  },
  {
   "cell_type": "code",
   "execution_count": 93,
   "metadata": {},
   "outputs": [
    {
     "name": "stdout",
     "output_type": "stream",
     "text": [
      "2010 NAV: 1000\n",
      "2011 NAV: 964.2192872240528\n",
      "2012 NAV: 989.3023371164571\n",
      "2013 NAV: 978.1992491745272\n",
      "2014 NAV: 970.9492035542041\n",
      "2015 NAV: 980.2554735518746\n",
      "2016 NAV: 952.7778575419625\n",
      "2017 NAV: 943.2159562000493\n",
      "2018 NAV: 927.2343308642695\n",
      "2019 NAV: 963.0839681765007\n",
      "2020 NAV: 1066.1608794975311\n",
      "2021 NAV: 1091.3248893861855\n",
      "2022 NAV: 1087.686743497408\n"
     ]
    }
   ],
   "source": [
    "timelines[\"noise\"] = Timeline(investment_start_year, initial_portfolio)\n",
    "\n",
    "for year in range(investment_start_year, investment_eval_end_year + 1):\n",
    "    current_year_df = core_df[core_df[\"year\"] == year]\n",
    "    current_year_df = current_year_df.set_index(\"area_code\")\n",
    "\n",
    "    timelines[\"noise\"].remark(\n",
    "        year, current_year_df, metric=f\"{investment_asset_type}_yearly_price_growth\"\n",
    "    )\n",
    "\n",
    "    print(f\"{year} NAV: {timelines['noise'].get_current_portfolio().nav()}\")\n",
    "\n",
    "    if year in rebalancing_years:\n",
    "        factor_df = current_year_df[current_year_df.index.isin(liquid_areas)]\n",
    "        top_areas = factor_df.nlargest(asset_count, \"noise\").index\n",
    "        bottom_areas = factor_df.nsmallest(asset_count, \"noise\").index\n",
    "        timelines[\"noise\"].rebalance(\n",
    "            top_areas, bottom_areas if shorting_enabled else []\n",
    "        )\n",
    "\n",
    "series_name = f\"Noise. Annualized Return: {timelines['noise'].calculate_annualized_return()}. Sharpe Ratio:{timelines['noise'].calculate_sharpe_ratio()}\"\n",
    "noise_series = pd.Series(timelines[\"noise\"].get_cumulative_returns(), name=series_name)"
   ]
  },
  {
   "cell_type": "code",
   "execution_count": 94,
   "metadata": {},
   "outputs": [
    {
     "data": {
      "application/vnd.plotly.v1+json": {
       "config": {
        "plotlyServerURL": "https://plot.ly"
       },
       "data": [
        {
         "hovertemplate": "variable=Model. Annualized Return: 0.02533655771370502. Sharpe Ratio:1.0907627556153772<br>index=%{x}<br>value=%{y}<extra></extra>",
         "legendgroup": "Model. Annualized Return: 0.02533655771370502. Sharpe Ratio:1.0907627556153772",
         "line": {
          "color": "#636efa",
          "dash": "solid"
         },
         "marker": {
          "symbol": "circle"
         },
         "mode": "lines+markers",
         "name": "Model. Annualized Return: 0.02533655771370502. Sharpe Ratio:1.0907627556153772",
         "orientation": "v",
         "showlegend": true,
         "type": "scatter",
         "x": [
          2010,
          2011,
          2012,
          2013,
          2014,
          2015,
          2016,
          2017,
          2018,
          2019,
          2020,
          2021,
          2022
         ],
         "xaxis": "x",
         "y": [
          1,
          1.0249626616009846,
          1.0314478051983988,
          1.0500926084958764,
          1.0582387407407547,
          1.124232996659528,
          1.1153587995409167,
          1.1836072605475634,
          1.220444736029205,
          1.2439004805260103,
          1.2360281651377723,
          1.2983767542865488,
          1.3844068764993995
         ],
         "yaxis": "y"
        },
        {
         "hovertemplate": "variable=Noise. Annualized Return: 0.006486577105657698. Sharpe Ratio:0.20887010940651765<br>index=%{x}<br>value=%{y}<extra></extra>",
         "legendgroup": "Noise. Annualized Return: 0.006486577105657698. Sharpe Ratio:0.20887010940651765",
         "line": {
          "color": "#EF553B",
          "dash": "solid"
         },
         "marker": {
          "symbol": "circle"
         },
         "mode": "lines+markers",
         "name": "Noise. Annualized Return: 0.006486577105657698. Sharpe Ratio:0.20887010940651765",
         "orientation": "v",
         "showlegend": true,
         "type": "scatter",
         "x": [
          2010,
          2011,
          2012,
          2013,
          2014,
          2015,
          2016,
          2017,
          2018,
          2019,
          2020,
          2021,
          2022
         ],
         "xaxis": "x",
         "y": [
          1,
          0.9642192872240528,
          0.9893023371164571,
          0.9781992491745272,
          0.9709492035542041,
          0.9802554735518746,
          0.9527778575419624,
          0.9432159562000493,
          0.9272343308642695,
          0.9630839681765007,
          1.0661608794975312,
          1.0913248893861855,
          1.087686743497408
         ],
         "yaxis": "y"
        }
       ],
       "layout": {
        "autosize": false,
        "height": 600,
        "hovermode": "closest",
        "legend": {
         "title": {
          "text": "variable"
         },
         "tracegroupgap": 0
        },
        "margin": {
         "t": 60
        },
        "showlegend": false,
        "template": {
         "data": {
          "bar": [
           {
            "error_x": {
             "color": "#2a3f5f"
            },
            "error_y": {
             "color": "#2a3f5f"
            },
            "marker": {
             "line": {
              "color": "#E5ECF6",
              "width": 0.5
             },
             "pattern": {
              "fillmode": "overlay",
              "size": 10,
              "solidity": 0.2
             }
            },
            "type": "bar"
           }
          ],
          "barpolar": [
           {
            "marker": {
             "line": {
              "color": "#E5ECF6",
              "width": 0.5
             },
             "pattern": {
              "fillmode": "overlay",
              "size": 10,
              "solidity": 0.2
             }
            },
            "type": "barpolar"
           }
          ],
          "carpet": [
           {
            "aaxis": {
             "endlinecolor": "#2a3f5f",
             "gridcolor": "white",
             "linecolor": "white",
             "minorgridcolor": "white",
             "startlinecolor": "#2a3f5f"
            },
            "baxis": {
             "endlinecolor": "#2a3f5f",
             "gridcolor": "white",
             "linecolor": "white",
             "minorgridcolor": "white",
             "startlinecolor": "#2a3f5f"
            },
            "type": "carpet"
           }
          ],
          "choropleth": [
           {
            "colorbar": {
             "outlinewidth": 0,
             "ticks": ""
            },
            "type": "choropleth"
           }
          ],
          "contour": [
           {
            "colorbar": {
             "outlinewidth": 0,
             "ticks": ""
            },
            "colorscale": [
             [
              0,
              "#0d0887"
             ],
             [
              0.1111111111111111,
              "#46039f"
             ],
             [
              0.2222222222222222,
              "#7201a8"
             ],
             [
              0.3333333333333333,
              "#9c179e"
             ],
             [
              0.4444444444444444,
              "#bd3786"
             ],
             [
              0.5555555555555556,
              "#d8576b"
             ],
             [
              0.6666666666666666,
              "#ed7953"
             ],
             [
              0.7777777777777778,
              "#fb9f3a"
             ],
             [
              0.8888888888888888,
              "#fdca26"
             ],
             [
              1,
              "#f0f921"
             ]
            ],
            "type": "contour"
           }
          ],
          "contourcarpet": [
           {
            "colorbar": {
             "outlinewidth": 0,
             "ticks": ""
            },
            "type": "contourcarpet"
           }
          ],
          "heatmap": [
           {
            "colorbar": {
             "outlinewidth": 0,
             "ticks": ""
            },
            "colorscale": [
             [
              0,
              "#0d0887"
             ],
             [
              0.1111111111111111,
              "#46039f"
             ],
             [
              0.2222222222222222,
              "#7201a8"
             ],
             [
              0.3333333333333333,
              "#9c179e"
             ],
             [
              0.4444444444444444,
              "#bd3786"
             ],
             [
              0.5555555555555556,
              "#d8576b"
             ],
             [
              0.6666666666666666,
              "#ed7953"
             ],
             [
              0.7777777777777778,
              "#fb9f3a"
             ],
             [
              0.8888888888888888,
              "#fdca26"
             ],
             [
              1,
              "#f0f921"
             ]
            ],
            "type": "heatmap"
           }
          ],
          "heatmapgl": [
           {
            "colorbar": {
             "outlinewidth": 0,
             "ticks": ""
            },
            "colorscale": [
             [
              0,
              "#0d0887"
             ],
             [
              0.1111111111111111,
              "#46039f"
             ],
             [
              0.2222222222222222,
              "#7201a8"
             ],
             [
              0.3333333333333333,
              "#9c179e"
             ],
             [
              0.4444444444444444,
              "#bd3786"
             ],
             [
              0.5555555555555556,
              "#d8576b"
             ],
             [
              0.6666666666666666,
              "#ed7953"
             ],
             [
              0.7777777777777778,
              "#fb9f3a"
             ],
             [
              0.8888888888888888,
              "#fdca26"
             ],
             [
              1,
              "#f0f921"
             ]
            ],
            "type": "heatmapgl"
           }
          ],
          "histogram": [
           {
            "marker": {
             "pattern": {
              "fillmode": "overlay",
              "size": 10,
              "solidity": 0.2
             }
            },
            "type": "histogram"
           }
          ],
          "histogram2d": [
           {
            "colorbar": {
             "outlinewidth": 0,
             "ticks": ""
            },
            "colorscale": [
             [
              0,
              "#0d0887"
             ],
             [
              0.1111111111111111,
              "#46039f"
             ],
             [
              0.2222222222222222,
              "#7201a8"
             ],
             [
              0.3333333333333333,
              "#9c179e"
             ],
             [
              0.4444444444444444,
              "#bd3786"
             ],
             [
              0.5555555555555556,
              "#d8576b"
             ],
             [
              0.6666666666666666,
              "#ed7953"
             ],
             [
              0.7777777777777778,
              "#fb9f3a"
             ],
             [
              0.8888888888888888,
              "#fdca26"
             ],
             [
              1,
              "#f0f921"
             ]
            ],
            "type": "histogram2d"
           }
          ],
          "histogram2dcontour": [
           {
            "colorbar": {
             "outlinewidth": 0,
             "ticks": ""
            },
            "colorscale": [
             [
              0,
              "#0d0887"
             ],
             [
              0.1111111111111111,
              "#46039f"
             ],
             [
              0.2222222222222222,
              "#7201a8"
             ],
             [
              0.3333333333333333,
              "#9c179e"
             ],
             [
              0.4444444444444444,
              "#bd3786"
             ],
             [
              0.5555555555555556,
              "#d8576b"
             ],
             [
              0.6666666666666666,
              "#ed7953"
             ],
             [
              0.7777777777777778,
              "#fb9f3a"
             ],
             [
              0.8888888888888888,
              "#fdca26"
             ],
             [
              1,
              "#f0f921"
             ]
            ],
            "type": "histogram2dcontour"
           }
          ],
          "mesh3d": [
           {
            "colorbar": {
             "outlinewidth": 0,
             "ticks": ""
            },
            "type": "mesh3d"
           }
          ],
          "parcoords": [
           {
            "line": {
             "colorbar": {
              "outlinewidth": 0,
              "ticks": ""
             }
            },
            "type": "parcoords"
           }
          ],
          "pie": [
           {
            "automargin": true,
            "type": "pie"
           }
          ],
          "scatter": [
           {
            "fillpattern": {
             "fillmode": "overlay",
             "size": 10,
             "solidity": 0.2
            },
            "type": "scatter"
           }
          ],
          "scatter3d": [
           {
            "line": {
             "colorbar": {
              "outlinewidth": 0,
              "ticks": ""
             }
            },
            "marker": {
             "colorbar": {
              "outlinewidth": 0,
              "ticks": ""
             }
            },
            "type": "scatter3d"
           }
          ],
          "scattercarpet": [
           {
            "marker": {
             "colorbar": {
              "outlinewidth": 0,
              "ticks": ""
             }
            },
            "type": "scattercarpet"
           }
          ],
          "scattergeo": [
           {
            "marker": {
             "colorbar": {
              "outlinewidth": 0,
              "ticks": ""
             }
            },
            "type": "scattergeo"
           }
          ],
          "scattergl": [
           {
            "marker": {
             "colorbar": {
              "outlinewidth": 0,
              "ticks": ""
             }
            },
            "type": "scattergl"
           }
          ],
          "scattermapbox": [
           {
            "marker": {
             "colorbar": {
              "outlinewidth": 0,
              "ticks": ""
             }
            },
            "type": "scattermapbox"
           }
          ],
          "scatterpolar": [
           {
            "marker": {
             "colorbar": {
              "outlinewidth": 0,
              "ticks": ""
             }
            },
            "type": "scatterpolar"
           }
          ],
          "scatterpolargl": [
           {
            "marker": {
             "colorbar": {
              "outlinewidth": 0,
              "ticks": ""
             }
            },
            "type": "scatterpolargl"
           }
          ],
          "scatterternary": [
           {
            "marker": {
             "colorbar": {
              "outlinewidth": 0,
              "ticks": ""
             }
            },
            "type": "scatterternary"
           }
          ],
          "surface": [
           {
            "colorbar": {
             "outlinewidth": 0,
             "ticks": ""
            },
            "colorscale": [
             [
              0,
              "#0d0887"
             ],
             [
              0.1111111111111111,
              "#46039f"
             ],
             [
              0.2222222222222222,
              "#7201a8"
             ],
             [
              0.3333333333333333,
              "#9c179e"
             ],
             [
              0.4444444444444444,
              "#bd3786"
             ],
             [
              0.5555555555555556,
              "#d8576b"
             ],
             [
              0.6666666666666666,
              "#ed7953"
             ],
             [
              0.7777777777777778,
              "#fb9f3a"
             ],
             [
              0.8888888888888888,
              "#fdca26"
             ],
             [
              1,
              "#f0f921"
             ]
            ],
            "type": "surface"
           }
          ],
          "table": [
           {
            "cells": {
             "fill": {
              "color": "#EBF0F8"
             },
             "line": {
              "color": "white"
             }
            },
            "header": {
             "fill": {
              "color": "#C8D4E3"
             },
             "line": {
              "color": "white"
             }
            },
            "type": "table"
           }
          ]
         },
         "layout": {
          "annotationdefaults": {
           "arrowcolor": "#2a3f5f",
           "arrowhead": 0,
           "arrowwidth": 1
          },
          "autotypenumbers": "strict",
          "coloraxis": {
           "colorbar": {
            "outlinewidth": 0,
            "ticks": ""
           }
          },
          "colorscale": {
           "diverging": [
            [
             0,
             "#8e0152"
            ],
            [
             0.1,
             "#c51b7d"
            ],
            [
             0.2,
             "#de77ae"
            ],
            [
             0.3,
             "#f1b6da"
            ],
            [
             0.4,
             "#fde0ef"
            ],
            [
             0.5,
             "#f7f7f7"
            ],
            [
             0.6,
             "#e6f5d0"
            ],
            [
             0.7,
             "#b8e186"
            ],
            [
             0.8,
             "#7fbc41"
            ],
            [
             0.9,
             "#4d9221"
            ],
            [
             1,
             "#276419"
            ]
           ],
           "sequential": [
            [
             0,
             "#0d0887"
            ],
            [
             0.1111111111111111,
             "#46039f"
            ],
            [
             0.2222222222222222,
             "#7201a8"
            ],
            [
             0.3333333333333333,
             "#9c179e"
            ],
            [
             0.4444444444444444,
             "#bd3786"
            ],
            [
             0.5555555555555556,
             "#d8576b"
            ],
            [
             0.6666666666666666,
             "#ed7953"
            ],
            [
             0.7777777777777778,
             "#fb9f3a"
            ],
            [
             0.8888888888888888,
             "#fdca26"
            ],
            [
             1,
             "#f0f921"
            ]
           ],
           "sequentialminus": [
            [
             0,
             "#0d0887"
            ],
            [
             0.1111111111111111,
             "#46039f"
            ],
            [
             0.2222222222222222,
             "#7201a8"
            ],
            [
             0.3333333333333333,
             "#9c179e"
            ],
            [
             0.4444444444444444,
             "#bd3786"
            ],
            [
             0.5555555555555556,
             "#d8576b"
            ],
            [
             0.6666666666666666,
             "#ed7953"
            ],
            [
             0.7777777777777778,
             "#fb9f3a"
            ],
            [
             0.8888888888888888,
             "#fdca26"
            ],
            [
             1,
             "#f0f921"
            ]
           ]
          },
          "colorway": [
           "#636efa",
           "#EF553B",
           "#00cc96",
           "#ab63fa",
           "#FFA15A",
           "#19d3f3",
           "#FF6692",
           "#B6E880",
           "#FF97FF",
           "#FECB52"
          ],
          "font": {
           "color": "#2a3f5f"
          },
          "geo": {
           "bgcolor": "white",
           "lakecolor": "white",
           "landcolor": "#E5ECF6",
           "showlakes": true,
           "showland": true,
           "subunitcolor": "white"
          },
          "hoverlabel": {
           "align": "left"
          },
          "hovermode": "closest",
          "mapbox": {
           "style": "light"
          },
          "paper_bgcolor": "white",
          "plot_bgcolor": "#E5ECF6",
          "polar": {
           "angularaxis": {
            "gridcolor": "white",
            "linecolor": "white",
            "ticks": ""
           },
           "bgcolor": "#E5ECF6",
           "radialaxis": {
            "gridcolor": "white",
            "linecolor": "white",
            "ticks": ""
           }
          },
          "scene": {
           "xaxis": {
            "backgroundcolor": "#E5ECF6",
            "gridcolor": "white",
            "gridwidth": 2,
            "linecolor": "white",
            "showbackground": true,
            "ticks": "",
            "zerolinecolor": "white"
           },
           "yaxis": {
            "backgroundcolor": "#E5ECF6",
            "gridcolor": "white",
            "gridwidth": 2,
            "linecolor": "white",
            "showbackground": true,
            "ticks": "",
            "zerolinecolor": "white"
           },
           "zaxis": {
            "backgroundcolor": "#E5ECF6",
            "gridcolor": "white",
            "gridwidth": 2,
            "linecolor": "white",
            "showbackground": true,
            "ticks": "",
            "zerolinecolor": "white"
           }
          },
          "shapedefaults": {
           "line": {
            "color": "#2a3f5f"
           }
          },
          "ternary": {
           "aaxis": {
            "gridcolor": "white",
            "linecolor": "white",
            "ticks": ""
           },
           "baxis": {
            "gridcolor": "white",
            "linecolor": "white",
            "ticks": ""
           },
           "bgcolor": "#E5ECF6",
           "caxis": {
            "gridcolor": "white",
            "linecolor": "white",
            "ticks": ""
           }
          },
          "title": {
           "x": 0.05
          },
          "xaxis": {
           "automargin": true,
           "gridcolor": "white",
           "linecolor": "white",
           "ticks": "",
           "title": {
            "standoff": 15
           },
           "zerolinecolor": "white",
           "zerolinewidth": 2
          },
          "yaxis": {
           "automargin": true,
           "gridcolor": "white",
           "linecolor": "white",
           "ticks": "",
           "title": {
            "standoff": 15
           },
           "zerolinecolor": "white",
           "zerolinewidth": 2
          }
         }
        },
        "width": 1000,
        "xaxis": {
         "anchor": "y",
         "domain": [
          0,
          1
         ],
         "title": {
          "text": "index"
         }
        },
        "yaxis": {
         "anchor": "x",
         "domain": [
          0,
          1
         ],
         "title": {
          "text": "value"
         }
        }
       }
      }
     },
     "metadata": {},
     "output_type": "display_data"
    }
   ],
   "source": [
    "import plotly.express as px\n",
    "import matplotlib.pyplot as plt\n",
    "\n",
    "df = pd.concat([model_series, noise_series], axis=1)\n",
    "\n",
    "fig = px.line(df, y=df.columns)\n",
    "fig.update_traces(mode=\"lines+markers\")\n",
    "fig.update_layout(\n",
    "        autosize=False,\n",
    "        width=1000,\n",
    "        height=600,\n",
    "        hovermode=\"closest\",\n",
    "        showlegend=False,\n",
    "    )\n",
    "fig.show()"
   ]
  },
  {
   "cell_type": "code",
   "execution_count": 95,
   "metadata": {},
   "outputs": [
    {
     "name": "stdout",
     "output_type": "stream",
     "text": [
      "2012 Rebalancing ratio: 0.50\n",
      "2014 Rebalancing ratio: 0.75\n",
      "2016 Rebalancing ratio: 0.55\n",
      "2018 Rebalancing ratio: 0.50\n",
      "2020 Rebalancing ratio: 0.25\n"
     ]
    }
   ],
   "source": [
    "rebalancing_ratios = timelines['model'].calculate_rebalancing_ratio()\n"
   ]
  },
  {
   "cell_type": "code",
   "execution_count": 96,
   "metadata": {},
   "outputs": [
    {
     "name": "stdout",
     "output_type": "stream",
     "text": [
      "Annualized Return:  0.02533655771370502\n",
      "Sharpe Ratio: 1.0907627556153772\n"
     ]
    }
   ],
   "source": [
    "print(f\"Annualized Return: \", timelines['model'].calculate_annualized_return())\n",
    "print(f\"Sharpe Ratio:\", timelines['model'].calculate_sharpe_ratio())"
   ]
  },
  {
   "cell_type": "code",
   "execution_count": null,
   "metadata": {},
   "outputs": [],
   "source": []
  }
 ],
 "metadata": {
  "kernelspec": {
   "display_name": "venv",
   "language": "python",
   "name": "python3"
  },
  "language_info": {
   "codemirror_mode": {
    "name": "ipython",
    "version": 3
   },
   "file_extension": ".py",
   "mimetype": "text/x-python",
   "name": "python",
   "nbconvert_exporter": "python",
   "pygments_lexer": "ipython3",
   "version": "3.8.18"
  }
 },
 "nbformat": 4,
 "nbformat_minor": 2
}
