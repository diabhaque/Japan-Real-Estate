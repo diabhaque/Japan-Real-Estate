{
 "cells": [
  {
   "cell_type": "code",
   "execution_count": 5,
   "metadata": {},
   "outputs": [],
   "source": [
    "import warnings\n",
    "\n",
    "import pandas as pd\n",
    "import numpy as np\n",
    "\n",
    "from jre_utils.datapath import (\n",
    "    model_built_data_paths,\n",
    "    model_output_data_paths,\n",
    ")\n",
    "\n",
    "from sklearn.metrics import r2_score\n",
    "\n",
    "from jre_utils.process import get_most_active_municipalities\n",
    "from jre_utils.backtest import Portfolio, Timeline\n",
    "\n",
    "\n",
    "warnings.filterwarnings(\"ignore\")\n",
    "pd.set_option(\"display.max_columns\", None)"
   ]
  },
  {
   "cell_type": "code",
   "execution_count": 6,
   "metadata": {},
   "outputs": [],
   "source": [
    "asset_type = \"all\"\n",
    "\n",
    "metrics = {\n",
    "    \"median\": \"unit_price_median\",\n",
    "}\n",
    "\n",
    "granularity_columns = [\"area\", \"area_code\", \"asset_type\"]\n",
    "group_by_columns = granularity_columns + [\"year\"]\n",
    "display_columns = [\"unit_price\", \"total_traded_area\", \"count\"]\n",
    "\n",
    "metric_key = f\"median\"\n",
    "metric = metrics[metric_key]\n",
    "\n",
    "metric_pct_chg = metric + \"_pct_chg\"\n",
    "normalized_metric_pct_chg = metric_pct_chg + \"_normalized_yearly\""
   ]
  },
  {
   "cell_type": "code",
   "execution_count": 7,
   "metadata": {},
   "outputs": [],
   "source": [
    "dataset_key = \"transactions\"\n",
    "years_ahead = 2\n",
    "dataset_name = f\"sequence_{dataset_key}_{asset_type}_{metric_key}_{years_ahead}\"\n"
   ]
  },
  {
   "cell_type": "code",
   "execution_count": 8,
   "metadata": {},
   "outputs": [],
   "source": [
    "n = 500 # 500\n",
    "investment_asset_type = \"land\"\n",
    "model_built_data_path = model_built_data_paths[f\"sequence_{dataset_key}_{investment_asset_type}_{metric_key}_{years_ahead}\"]\n",
    "core_df = pd.read_csv(model_built_data_path)\n",
    "\n",
    "liquid_areas = get_most_active_municipalities(core_df, n)[\"area_code\"].unique()"
   ]
  },
  {
   "cell_type": "code",
   "execution_count": 9,
   "metadata": {},
   "outputs": [],
   "source": [
    "investment_start_year = 2012\n",
    "investment_end_year = 2020\n",
    "investment_eval_end_year = 2022\n",
    "\n",
    "rebalancing_years = range(investment_start_year, investment_end_year + 1, 2)\n",
    "\n",
    "asset_count = 20\n",
    "shorting_enabled = False\n",
    "cash, assets, liabilities = 1000, {}, {}"
   ]
  },
  {
   "cell_type": "code",
   "execution_count": 10,
   "metadata": {},
   "outputs": [
    {
     "name": "stdout",
     "output_type": "stream",
     "text": [
      "2012 NAV: 1000, R^2 Score: -0.00239487698087415\n",
      "2013 NAV: 1108.8225006642165, R^2 Score: 0.02046487063631519\n",
      "2014 NAV: 1114.9373516563903, R^2 Score: 0.0160627510237773\n",
      "2015 NAV: 1510.1433066126476, R^2 Score: 0.19779673522202612\n",
      "2016 NAV: 1469.8554485229567, R^2 Score: 0.26379762656297545\n",
      "2017 NAV: 1919.4863779542075, R^2 Score: 0.25609928489910494\n",
      "2018 NAV: 1892.5851129751638, R^2 Score: 0.2129144714613076\n",
      "2019 NAV: 2221.536407616166, R^2 Score: 0.39159105215378176\n",
      "2020 NAV: 2414.4952664831562, R^2 Score: 0.2863298813243339\n",
      "2021 NAV: 3994.045489690802, R^2 Score: 0.2927831748169917\n",
      "2022 NAV: 4491.639202050433, R^2 Score: 0.33053274588619097\n"
     ]
    }
   ],
   "source": [
    "initial_portfolio = Portfolio(assets, liabilities, cash)\n",
    "timeline = Timeline(investment_start_year, initial_portfolio)\n",
    "\n",
    "for year in range(investment_start_year, investment_eval_end_year + 1):\n",
    "    current_year_df = pd.read_csv(model_output_data_paths[f\"{dataset_name}_{year}\"])\n",
    "    yearly_r2_score = r2_score(current_year_df[normalized_metric_pct_chg], current_year_df[\"predicted_normalized_return\"])\n",
    "    current_year_df = current_year_df[current_year_df[\"asset_type\"] == investment_asset_type]\n",
    "    current_year_df = current_year_df.set_index('area_code')\n",
    "\n",
    "    timeline.remark(year, current_year_df)\n",
    "\n",
    "    print(f\"{year} NAV: {timeline.get_current_portfolio().nav()}, R^2 Score: {yearly_r2_score}\")\n",
    "\n",
    "    if year in rebalancing_years:\n",
    "    \n",
    "        prediction_year_df = pd.read_csv(model_output_data_paths[f\"{dataset_name}_{year + years_ahead}\"])\n",
    "        prediction_year_df = prediction_year_df[prediction_year_df[\"asset_type\"] == investment_asset_type]\n",
    "        prediction_year_df = prediction_year_df[prediction_year_df[\"area_code\"].isin(liquid_areas)]\n",
    "        prediction_year_df = prediction_year_df.set_index('area_code')\n",
    "\n",
    "        top_areas = prediction_year_df.nlargest(asset_count, \"predicted_normalized_return\").index\n",
    "        bottom_areas = prediction_year_df.nsmallest(asset_count, \"predicted_normalized_return\").index\n",
    "\n",
    "        timeline.rebalance(top_areas, bottom_areas if shorting_enabled else [])\n",
    "\n",
    "# Thoughts\n",
    "# Returns look a little weird\n",
    "# Particularly, the fact that values immediately after rebalancing years show high returns\n",
    "# Then show low returns in the next year\n",
    "# Investigate     "
   ]
  },
  {
   "cell_type": "code",
   "execution_count": 12,
   "metadata": {},
   "outputs": [
    {
     "name": "stdout",
     "output_type": "stream",
     "text": [
      "2014 Rebalancing ratio:  0.7\n",
      "2016 Rebalancing ratio:  0.8\n",
      "2018 Rebalancing ratio:  0.9\n",
      "2020 Rebalancing ratio:  0.65\n"
     ]
    }
   ],
   "source": [
    "rebalancing_ratios = timeline.calculate_asset_rebalancing_ratio()"
   ]
  },
  {
   "cell_type": "code",
   "execution_count": 13,
   "metadata": {},
   "outputs": [
    {
     "name": "stdout",
     "output_type": "stream",
     "text": [
      "Annualized Return:  0.1463296695468388\n",
      "Sharpe Ratio: 0.8881367168433001\n"
     ]
    }
   ],
   "source": [
    "print(f\"Annualized Return: \", timeline.calculate_annualized_return())\n",
    "print(f\"Sharpe Ratio:\", timeline.calculate_sharpe_ratio())"
   ]
  }
 ],
 "metadata": {
  "kernelspec": {
   "display_name": "venv",
   "language": "python",
   "name": "python3"
  },
  "language_info": {
   "codemirror_mode": {
    "name": "ipython",
    "version": 3
   },
   "file_extension": ".py",
   "mimetype": "text/x-python",
   "name": "python",
   "nbconvert_exporter": "python",
   "pygments_lexer": "ipython3",
   "version": "3.8.18"
  }
 },
 "nbformat": 4,
 "nbformat_minor": 2
}
