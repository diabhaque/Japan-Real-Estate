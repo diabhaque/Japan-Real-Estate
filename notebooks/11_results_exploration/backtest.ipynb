{
 "cells": [
  {
   "cell_type": "code",
   "execution_count": 130,
   "metadata": {},
   "outputs": [],
   "source": [
    "import warnings\n",
    "\n",
    "import pandas as pd\n",
    "import numpy as np\n",
    "\n",
    "from jre_utils.datapath import (\n",
    "    model_output_data_paths,\n",
    ")\n",
    "\n",
    "from sklearn.metrics import r2_score\n",
    "\n",
    "from jre_utils.visualize import plot_time_series\n",
    "from jre_utils.process import get_cumulative_growth, get_cumulative_growth_from_base\n",
    "\n",
    "\n",
    "warnings.filterwarnings(\"ignore\")\n",
    "pd.set_option(\"display.max_columns\", None)"
   ]
  },
  {
   "cell_type": "code",
   "execution_count": 131,
   "metadata": {},
   "outputs": [],
   "source": [
    "asset_type = \"all\"\n",
    "\n",
    "metrics = {\n",
    "    \"median\": \"unit_price_median\",\n",
    "}\n",
    "\n",
    "granularity_columns = [\"area\", \"area_code\", \"asset_type\"]\n",
    "group_by_columns = granularity_columns + [\"year\"]\n",
    "display_columns = [\"unit_price\", \"total_traded_area\", \"count\"]\n",
    "\n",
    "metric_key = f\"median\"\n",
    "metric = metrics[metric_key]\n",
    "\n",
    "metric_pct_chg = metric + \"_pct_chg\"\n",
    "normalized_metric_pct_chg = metric_pct_chg + \"_normalized_yearly\""
   ]
  },
  {
   "cell_type": "code",
   "execution_count": 132,
   "metadata": {},
   "outputs": [],
   "source": [
    "dataset_key = \"transactions\"\n",
    "years_ahead = 2\n",
    "dataset_name = f\"sequence_{dataset_key}_{asset_type}_{metric_key}_{years_ahead}\""
   ]
  },
  {
   "cell_type": "code",
   "execution_count": 176,
   "metadata": {},
   "outputs": [
    {
     "name": "stdout",
     "output_type": "stream",
     "text": [
      "2012 NAV: 1000, R^2 Score: -0.06921784170517609\n",
      "2013 NAV: 1813.216334475962, R^2 Score: 0.1553739511884492\n",
      "2014 NAV: 1807.1529161225571, R^2 Score: 0.19943724653107509\n",
      "2015 NAV: 3944.775791717096, R^2 Score: 0.3362533980798028\n",
      "2016 NAV: 4252.369315373253, R^2 Score: 0.272862094683507\n",
      "2017 NAV: 8759.563406945006, R^2 Score: 0.34259312965829547\n",
      "2018 NAV: 8765.257933445206, R^2 Score: 0.24548421536056664\n",
      "2019 NAV: 17829.41335190593, R^2 Score: 0.444134951885203\n",
      "2020 NAV: 16380.313253011238, R^2 Score: 0.16405199678187488\n",
      "2021 NAV: 36519.89384730678, R^2 Score: 0.278401251224471\n",
      "2022 NAV: 34291.28629783324, R^2 Score: 0.41204100776197083\n"
     ]
    }
   ],
   "source": [
    "investment_start_year = 2012\n",
    "investment_end_year = 2020\n",
    "investment_eval_end_year = 2022\n",
    "\n",
    "rebalancing_years = range(investment_start_year, investment_end_year + 1, 2)\n",
    "\n",
    "investment_asset_type = \"building\"\n",
    "\n",
    "asset_count = 100\n",
    "shorting_enabled = True\n",
    "cash, assets, liabilities = 1000, {}, {}\n",
    "\n",
    "portfolio_curve = {\n",
    "    \"2011\": {\n",
    "        \"cash\": cash,\n",
    "        \"assets\": assets,\n",
    "        \"liabilities\": liabilities,\n",
    "    } # Can create portfolio object\n",
    "}\n",
    "\n",
    "# Reinvest all earnings: cash * ( 1 / 20 )\n",
    "for year in range(investment_start_year, investment_eval_end_year + 1):\n",
    "    current_year_df = pd.read_csv(model_output_data_paths[f\"{dataset_name}_{year}\"])\n",
    "    yearly_r2_score = r2_score(current_year_df[normalized_metric_pct_chg], current_year_df[\"predicted_normalized_return\"])\n",
    "    current_year_df = current_year_df[current_year_df[\"asset_type\"] == \"building\"]\n",
    "    current_year_df = current_year_df.set_index('area_code')\n",
    "\n",
    "    assets = {\n",
    "        area_code: value * ( 1 + current_year_df.loc[area_code, \"yearly_price_growth\"] )\n",
    "        for area_code, value in assets.items()\n",
    "    } \n",
    "    liabilities = {\n",
    "        area_code: value * ( 1 + current_year_df.loc[area_code, \"yearly_price_growth\"] )\n",
    "        for area_code, value in liabilities.items()\n",
    "    }\n",
    "\n",
    "    nav = sum(assets.values()) - sum(liabilities.values()) + cash\n",
    "\n",
    "    portfolio_curve[str(year)] = {\n",
    "        \"cash\": cash,\n",
    "        \"assets\": assets,\n",
    "        \"liabilities\": liabilities,\n",
    "    }\n",
    "\n",
    "    print(f\"{year} NAV: {nav}, R^2 Score: {yearly_r2_score}\")\n",
    "\n",
    "    if year in rebalancing_years:\n",
    "        # Close Positions\n",
    "        cash, assets, liabilities = nav, {}, {}\n",
    "\n",
    "        # Rebalance\n",
    "        prediction_year_df = pd.read_csv(model_output_data_paths[f\"{dataset_name}_{year + years_ahead}\"])\n",
    "        prediction_year_df = prediction_year_df[prediction_year_df[\"asset_type\"] == \"building\"]\n",
    "        prediction_year_df = prediction_year_df.set_index('area_code')\n",
    "\n",
    "        # Get liquid municipalities\n",
    "        # prediction_year_df = prediction_year_df.nlargest(asset_count * 2, \"count\") # count needs to exist\n",
    "\n",
    "        top_areas = prediction_year_df.nlargest(asset_count, \"predicted_normalized_return\").index\n",
    "        bottom_areas = prediction_year_df.nsmallest(asset_count, \"predicted_normalized_return\").index\n",
    "\n",
    "        # Invest\n",
    "        assets = {\n",
    "            area_code: cash * ( 1 / asset_count )\n",
    "            for area_code in top_areas\n",
    "        }\n",
    "\n",
    "        # Short\n",
    "        if shorting_enabled:\n",
    "            liabilities = {\n",
    "                area_code: cash * ( 1 / asset_count )\n",
    "                for area_code in bottom_areas\n",
    "            }\n",
    "            \n",
    "        cash -= sum(assets.values())\n",
    "        cash += sum(liabilities.values())"
   ]
  },
  {
   "cell_type": "code",
   "execution_count": 177,
   "metadata": {},
   "outputs": [
    {
     "name": "stdout",
     "output_type": "stream",
     "text": [
      "2014 Rebalancing ratio:  1.0\n",
      "2016 Rebalancing ratio:  0.85\n",
      "2018 Rebalancing ratio:  0.83\n",
      "2020 Rebalancing ratio:  0.9\n",
      "2022 Rebalancing ratio:  0.87\n"
     ]
    }
   ],
   "source": [
    "# YoY Rebalancing ratio\n",
    "\n",
    "type = \"assets\"\n",
    "\n",
    "for y1 in rebalancing_years:\n",
    "    y2 = y1 + 2\n",
    "    y1_assets = portfolio_curve[str(y1)][type].keys()\n",
    "    y2_assets = portfolio_curve[str(y2)][type].keys()\n",
    "\n",
    "    maintained_assets = [y1_asset for y1_asset in y1_assets if y1_asset in y2_assets]\n",
    "    rebalancing_ratio = 1 - len(maintained_assets) / asset_count\n",
    "    print(f\"{y2} Rebalancing ratio: \", rebalancing_ratio)"
   ]
  },
  {
   "cell_type": "code",
   "execution_count": null,
   "metadata": {},
   "outputs": [],
   "source": []
  }
 ],
 "metadata": {
  "kernelspec": {
   "display_name": "venv",
   "language": "python",
   "name": "python3"
  },
  "language_info": {
   "codemirror_mode": {
    "name": "ipython",
    "version": 3
   },
   "file_extension": ".py",
   "mimetype": "text/x-python",
   "name": "python",
   "nbconvert_exporter": "python",
   "pygments_lexer": "ipython3",
   "version": "3.12.0"
  }
 },
 "nbformat": 4,
 "nbformat_minor": 2
}
