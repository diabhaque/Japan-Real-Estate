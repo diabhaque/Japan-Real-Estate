{
 "cells": [
  {
   "cell_type": "code",
   "execution_count": 489,
   "metadata": {},
   "outputs": [],
   "source": [
    "import os\n",
    "import warnings\n",
    "\n",
    "import pandas as pd\n",
    "import numpy as np\n",
    "\n",
    "\n",
    "from jre_utils.datapath import (\n",
    "    DATA_DIRECTORY_PATH,\n",
    ")\n",
    "from jre_utils.config import asset_types\n",
    "from jp_prefecture.jp_cities import JpCity, jp_cities\n",
    "from geopy.geocoders import Nominatim\n",
    "\n",
    "warnings.filterwarnings(\"ignore\")\n",
    "pd.set_option(\"display.max_columns\", None)"
   ]
  },
  {
   "cell_type": "code",
   "execution_count": 443,
   "metadata": {},
   "outputs": [],
   "source": [
    "def area_to_int(area):\n",
    "    if area == \"2,000 m^2 or greater.\":\n",
    "        return 2000\n",
    "    elif area == \"5000 m^2 or greater.\":\n",
    "        return 5000\n",
    "    else:\n",
    "        return int(area)\n",
    "\n",
    "\n",
    "def map_time_units(x):\n",
    "    mapping = {\n",
    "        \"30-60minutes\": 45,\n",
    "        \"1H-1H30\": 75,\n",
    "        \"1H30-2H\": 105,\n",
    "        \"2H-\": 135,\n",
    "    }\n",
    "    \n",
    "    return int(x) if x.isdigit() else mapping[x]\n",
    "\n",
    "def map_layout(x):\n",
    "    if x == \"na\":\n",
    "        return \"na\"\n",
    "\n",
    "    x = x.split(\"+\")[0]\n",
    "\n",
    "    if x[0].isdigit() and int(x[0]) == 1:\n",
    "        if x != \"1K\" and x != \"1LDK\" and x != \"1DK\":\n",
    "            return \"1other\"\n",
    "        return x\n",
    "    \n",
    "    if x[0].isdigit() and int(x[0]) == 2:\n",
    "        if x != \"2LDK\" and x != \"2DK\":\n",
    "            return \"2other\"\n",
    "        return x\n",
    "\n",
    "    if x[0].isdigit() and int(x[0]) > 2:\n",
    "        return f\"{min(int(x[0]), 5)}LDK\"\n",
    "    \n",
    "    return \"other\"\n",
    "\n",
    "def map_land_shape(x):\n",
    "    x = x.lower()\n",
    "    x = x.replace(\"semi-\", \"\")\n",
    "    return x\n",
    "\n",
    "def map_frontage(x):\n",
    "    if x == \"na\":\n",
    "        return 0\n",
    "    if x == \"50.0m or longer.\":\n",
    "        return 55\n",
    "    return int(x.split(\".\")[0])\n",
    "\n",
    "def map_floor_area(x):\n",
    "    if \"less\" in x:\n",
    "        return 10\n",
    "    elif \"greater\" in x:\n",
    "        return 2000\n",
    "    else:\n",
    "        return int(x)\n",
    "    \n",
    "def map_year_of_construction(x):\n",
    "    if x == \"before the war\":\n",
    "        return 1930\n",
    "    \n",
    "    return int(x)\n",
    "\n",
    "def map_building_structure(x):\n",
    "    if len(x.split(\",\")) > 1:\n",
    "        return \"combo\"\n",
    "    else:\n",
    "        return x\n",
    "    \n",
    "def map_combined_use(x):\n",
    "    if \"Factory\" in x:\n",
    "        return \"Factory\"\n",
    "    elif \"Warehouse\" in x:\n",
    "        return \"Warehouse\"\n",
    "    elif \"Parking Lot\" in x:\n",
    "        return \"Parking Lot\"\n",
    "    elif \"Office\" in x:\n",
    "        return \"Office\"\n",
    "    elif \"Housing Complex\" in x:\n",
    "        return \"Housing Complex\"\n",
    "    else:\n",
    "        return x.split(\",\")[0]"
   ]
  },
  {
   "cell_type": "code",
   "execution_count": 499,
   "metadata": {},
   "outputs": [],
   "source": [
    "import json\n",
    "from pprint import pprint\n",
    "\n",
    "sub_city_to_city_path = f\"{DATA_DIRECTORY_PATH}/core_scraped/sub_city_to_city.json\"\n",
    "with open(sub_city_to_city_path) as fd:\n",
    "     sub_city_to_city = json.load(fd)\n",
    "     pprint(f\"E.g. Maps 1101 to {sub_city_to_city['1101']}\")\n",
    "\n",
    "area_code_to_area_path = f\"{DATA_DIRECTORY_PATH}/core_scraped/area_code_to_area.json\"\n",
    "with open(area_code_to_area_path) as fd:\n",
    "     area_code_to_area = json.load(fd)\n",
    "     pprint(f\"E.g. Maps 1100 to {area_code_to_area['1100']}\") \n",
    "\n",
    "def get_city_code(area_code):\n",
    "     return sub_city_to_city.get(area_code, area_code)\n",
    "\n",
    "def get_area_from_area_code(area_code):\n",
    "     return area_code_to_area.get(area_code, \"na\" )\n",
    "\n",
    "def get_city_geocode(area_code):\n",
    "    area_code = str(area_code)\n",
    "    try:\n",
    "        return tuple(jp_cities.citycode2geodetic(area_code)) \n",
    "    except:\n",
    "        print(f\"Could not find geocode for {area_code}\")\n",
    "        return np.NaN, np.NaN\n",
    "    \n",
    "def find_town_jp(all_towns_df, city_code, town_name, log=False):\n",
    "    city_df = all_towns_df[all_towns_df[\"cityCode\"] == int(city_code)]\n",
    "    town_df = city_df[city_df[\"townAlphabet\"].str.contains(town_name)]\n",
    "    \n",
    "    if town_df.empty:\n",
    "        if log:\n",
    "            print(f\"JP could not find {town_name} in {city_code}\")\n",
    "        return None, None\n",
    "    \n",
    "    return town_df[\"longitude\"].mean(), town_df[\"latitude\"].mean()\n",
    "\n",
    "def find_town_geopy(geolocator, address, log=False):\n",
    "    location_info = geolocator.geocode(address)\n",
    "\n",
    "    if not location_info:\n",
    "        if log:\n",
    "            print(f\"Geopy could not find {address}\")\n",
    "        return None, None\n",
    "    \n",
    "    return location_info.longitude, location_info.latitude\n",
    "\n",
    "def get_town_coordinates_jp(all_towns_df, city_name, city_code, town_name, log=False):\n",
    "    geolocator = Nominatim(user_agent=\"my_app\")\n",
    "    \n",
    "    # Try to locade in df - this is fast\n",
    "    jp_lon, jp_lat = find_town_jp(all_towns_df, city_code, town_name, log)\n",
    "\n",
    "    if not jp_lon or not jp_lat:\n",
    "        address = f\"{town_name}, {city_name}, Japan\"\n",
    "        \n",
    "        # Fall back and try to locate with geopy - this is slow\n",
    "        geopy_lon, geopy_lat = find_town_geopy(geolocator, address, log)\n",
    "        \n",
    "        if not geopy_lon or not geopy_lat:\n",
    "            # if nothing works, just return the city coordinates\n",
    "            return get_city_geocode(city_code)\n",
    "        \n",
    "        return geopy_lon, geopy_lat\n",
    "\n",
    "    return jp_lon, jp_lat\n",
    "\n"
   ]
  },
  {
   "cell_type": "code",
   "execution_count": 445,
   "metadata": {},
   "outputs": [
    {
     "data": {
      "text/plain": [
       "'../../data/core/13_Tokyo_20053_20233.csv'"
      ]
     },
     "execution_count": 445,
     "metadata": {},
     "output_type": "execute_result"
    }
   ],
   "source": [
    "prefecture_code = 13\n",
    "trade_prices_data_path = f\"{DATA_DIRECTORY_PATH}/core\"\n",
    "\n",
    "trade_prices_data_paths = [\n",
    "    f\"{trade_prices_data_path}/{filename}\"\n",
    "    for filename in sorted(os.listdir(trade_prices_data_path))\n",
    "]\n",
    "trade_prices_data_paths[prefecture_code - 1]"
   ]
  },
  {
   "cell_type": "code",
   "execution_count": 765,
   "metadata": {},
   "outputs": [],
   "source": [
    "df = pd.read_csv(\n",
    "    trade_prices_data_paths[prefecture_code - 1],\n",
    "    encoding=\"unicode_escape\",\n",
    "    index_col=\"No\",\n",
    ")\n",
    "df[\"area_code\"] = df[\"City,Town,Ward,Village code\"].astype(str)\n",
    "\n",
    "# we may want to skip the following step in the future\n",
    "df[\"area_code\"] = df[\"area_code\"].apply(get_city_code).astype(str)\n",
    "df[\"area\"] = df[\"area_code\"].apply(get_area_from_area_code)\n",
    "\n",
    "df[\"trade_price\"] = df[\"Transaction-price(total)\"]\n",
    "df[\"trade_area\"] = df[\"Area(m^2)\"].apply(area_to_int)\n",
    "df[\"unit_price\"] = df[\"Transaction-price(Unit price m^2)\"]\n",
    "df[\"trade_price_per_area\"] = df[\"trade_price\"] / df[\"trade_area\"]\n",
    "\n",
    "df[\"quarter\"] = df[\"Transaction period\"].apply(lambda x: int(x.split(\" \")[0][0]))\n",
    "df[\"year\"] = df[\"Transaction period\"].apply(lambda x: int(x.split(\" \")[2]))\n",
    "\n",
    "df[\"unit_price\"] = np.where(\n",
    "    df[\"unit_price\"].isna(),\n",
    "    df[\"trade_price_per_area\"],\n",
    "    df[\"unit_price\"],\n",
    ")\n",
    "\n",
    "df = df[\n",
    "    df[\"Type\"].isin(\n",
    "        [\n",
    "            asset_types[\"building\"][\"label\"],\n",
    "            asset_types[\"land\"][\"label\"],\n",
    "            asset_types[\"condo\"][\"label\"],\n",
    "        ],\n",
    "    )\n",
    "]\n",
    "\n",
    "# Renaming\n",
    "\n",
    "df = df.rename(columns = {\n",
    "    \"Type\": \"asset_type\",\n",
    "    \"Region\": \"neighbourhood_classification\",\n",
    "    \"Area\": \"subarea\",\n",
    "    \"Nearest stationFName\": \"nearest_station\",\n",
    "    \"Nearest stationFDistance(minute)\": \"time_to_nearest_station\",\n",
    "    \"Layout\": \"layout\",\n",
    "    \"Land shape\": \"land_shape\",\n",
    "    \"Frontage\": \"frontage\",\n",
    "    \"Total floor area(m^2)\": \"total_floor_area\",\n",
    "    \"Year of construction\": \"year_of_construction\",\n",
    "    \"Building structure\": \"building_structure\",\n",
    "    \"Use\": \"use\",\n",
    "    \"Purpose of Use\": \"purpose\",\n",
    "    \"Frontage roadFDirection\": \"frontage_road_direction\",\n",
    "    \"Frontage roadFClassification\": \"frontage_road_classification\",\n",
    "    \"Frontage roadFBreadth(m)\": \"frontage_road_breadth\",\n",
    "    \"City Planning\": \"zone\",\n",
    "    \"Maximus Building Coverage Ratio(%)\": \"max_building_coverage_ratio\",\n",
    "    \"Maximus Floor-area Ratio(%)\": \"max_floor_area_ratio\",\n",
    "    \"Renovation\": \"renovation_status\",\n",
    "})\n",
    "\n",
    "# Process factors\n",
    "df[\"subarea\"] = df[\"subarea\"].fillna(\"\")\n",
    "df[\"neighbourhood_classification\"] = df[\"neighbourhood_classification\"].fillna(\"na\")\n",
    "df[\"nearest_station\"] = df[\"nearest_station\"].fillna(\"na\")\n",
    "df[\"time_to_nearest_station\"] = df[\"time_to_nearest_station\"].fillna(\"30-60minutes\").apply(map_time_units)\n",
    "df[\"layout\"] = df[\"layout\"].fillna(\"na\").apply(map_layout)\n",
    "df[\"land_shape\"] = df[\"land_shape\"].fillna(\"na\").map(map_land_shape)\n",
    "df[\"frontage\"] = df[\"frontage\"].fillna(\"na\").apply(map_frontage)\n",
    "\n",
    "df[\"total_floor_area\"] = np.where(\n",
    "    df[\"total_floor_area\"].isna(),\n",
    "    df[\"trade_area\"].astype(str),\n",
    "    df[\"total_floor_area\"],\n",
    ")\n",
    "\n",
    "df[\"total_floor_area\"] = df[\"total_floor_area\"].apply(map_floor_area)\n",
    "\n",
    "\n",
    "df[\"year_of_construction\"] = np.where(\n",
    "    df[\"year_of_construction\"].isna(),\n",
    "    (df[\"year\"] - 30).astype(str),\n",
    "    df[\"year_of_construction\"],\n",
    ")\n",
    "\n",
    "df[\"year_of_construction\"] = df[\"year_of_construction\"].apply(map_year_of_construction)\n",
    "df[\"age\"] = df[\"year\"] - df[\"year_of_construction\"]\n",
    "df[\"building_structure\"] = df[\"building_structure\"].fillna(\"na\").map(map_building_structure)\n",
    "df[\"frontage_road_direction\"] = df[\"frontage_road_direction\"].fillna(\"na\")\n",
    "df[\"frontage_road_classification\"] = df[\"frontage_road_classification\"].fillna(\"na\")\n",
    "df[\"frontage_road_breadth\"] = df[\"frontage_road_breadth\"].fillna(\"0.0\").astype(float)\n",
    "df[\"zone\"] = df[\"zone\"].fillna(\"na\")\n",
    "df[\"max_building_coverage_ratio\"] = df[\"max_building_coverage_ratio\"].fillna(0)\n",
    "df[\"max_floor_area_ratio\"] = df[\"max_floor_area_ratio\"].fillna(0)\n",
    "df[\"renovation_status\"] = df[\"renovation_status\"].fillna(\"na\")\n",
    "\n",
    "df[\"combined_use\"] = np.where(\n",
    "    df[\"purpose\"].isna(),\n",
    "    df[\"use\"],\n",
    "    df[\"purpose\"],\n",
    ")\n",
    "df[\"combined_use\"] = df[\"combined_use\"].fillna(\"na\").apply(map_combined_use)\n",
    "\n",
    "df = df.drop(columns = [\n",
    "    \"City,Town,Ward,Village code\",\n",
    "    \"City,Town,Ward,Village\",\n",
    "    \"Transaction-price(total)\",\n",
    "    \"Area(m^2)\",\n",
    "    \"Transaction-price(Unit price m^2)\",\n",
    "    \"trade_price_per_area\",\n",
    "    \"Transaction period\",\n",
    "    \"Prefecture\",\n",
    "    \"Transactional factors\",\n",
    "    \"year_of_construction\", \n",
    "    \"use\",\n",
    "    \"purpose\"\n",
    "])\n"
   ]
  },
  {
   "cell_type": "code",
   "execution_count": 767,
   "metadata": {},
   "outputs": [],
   "source": [
    "# Advanced preprocessing\n",
    "\n",
    "# Convert towns into Longitude and Latitude\n",
    "jp_towns = JpCity(enable_town=True)\n",
    "towns_df = jp_towns.towns\n",
    "towns_df[\"townAlphabet\"] = towns_df[\"townAlphabet\"].fillna(\"\")\n",
    "\n",
    "towns_list_df = df[[\"area\", \"area_code\", \"subarea\"]].drop_duplicates()\n",
    "towns_list_df[[\"long\", \"lat\"]] = towns_list_df.apply(\n",
    "    lambda x: pd.Series(get_town_coordinates_jp(towns_df, x[\"area\"], x[\"area_code\"], x[\"subarea\"])),\n",
    "    axis=1,\n",
    ")\n",
    "\n",
    "df = df.merge(towns_list_df, on=[\"area\", \"area_code\", \"subarea\"], how=\"left\")\n"
   ]
  },
  {
   "cell_type": "code",
   "execution_count": 537,
   "metadata": {},
   "outputs": [],
   "source": [
    "# For each asset type, for each area_code\n",
    "# 1. Run clustering algorithm and get cluster code for each transaction\n",
    "# 2. Run regression to identify weights for each year"
   ]
  },
  {
   "cell_type": "code",
   "execution_count": 1247,
   "metadata": {},
   "outputs": [],
   "source": [
    "yearly_normalize_columns = [\n",
    "    f\"unit_price_log\",\n",
    "    # f\"unit_price_log_normalized\"\n",
    "]\n",
    "\n",
    "numerical_columns = [\n",
    "    \"long\",\n",
    "    \"lat\",\n",
    "    \"time_to_nearest_station\",\n",
    "    \"total_floor_area\",\n",
    "    \"trade_area\",\n",
    "    \"age\",\n",
    "    \"frontage\",\n",
    "    \"frontage_road_breadth\",\n",
    "    \"max_building_coverage_ratio\",\n",
    "    \"max_floor_area_ratio\",\n",
    "]\n",
    "\n",
    "categorical_columns = [\n",
    "    \"neighbourhood_classification\",\n",
    "    \"zone\",\n",
    "    \"renovation_status\",\n",
    "    \"combined_use\",\n",
    "    \"layout\",\n",
    "    \"building_structure\",\n",
    "    # \"land_shape\",\n",
    "    # \"frontage_road_direction\",\n",
    "    # \"frontage_road_classification\",\n",
    "]\n",
    "\n",
    "id_columns = [\"year\"]\n",
    "metric_columns = [\"unit_price\"]\n",
    "\n",
    "columns = yearly_normalize_columns + numerical_columns + categorical_columns\n"
   ]
  },
  {
   "cell_type": "code",
   "execution_count": 1248,
   "metadata": {},
   "outputs": [],
   "source": [
    "land_df = df[df[\"asset_type\"] == asset_types[\"land\"][\"label\"]]\n",
    "building_df = df[df[\"asset_type\"] == asset_types[\"building\"][\"label\"]]\n",
    "condo_df = df[df[\"asset_type\"] == asset_types[\"condo\"][\"label\"]]"
   ]
  },
  {
   "cell_type": "code",
   "execution_count": 1249,
   "metadata": {},
   "outputs": [
    {
     "data": {
      "text/html": [
       "<div>\n",
       "<style scoped>\n",
       "    .dataframe tbody tr th:only-of-type {\n",
       "        vertical-align: middle;\n",
       "    }\n",
       "\n",
       "    .dataframe tbody tr th {\n",
       "        vertical-align: top;\n",
       "    }\n",
       "\n",
       "    .dataframe thead th {\n",
       "        text-align: right;\n",
       "    }\n",
       "</style>\n",
       "<table border=\"1\" class=\"dataframe\">\n",
       "  <thead>\n",
       "    <tr style=\"text-align: right;\">\n",
       "      <th></th>\n",
       "      <th>unit_price_log</th>\n",
       "      <th>long</th>\n",
       "      <th>lat</th>\n",
       "      <th>time_to_nearest_station</th>\n",
       "      <th>total_floor_area</th>\n",
       "      <th>trade_area</th>\n",
       "      <th>age</th>\n",
       "      <th>frontage</th>\n",
       "      <th>frontage_road_breadth</th>\n",
       "      <th>max_building_coverage_ratio</th>\n",
       "      <th>max_floor_area_ratio</th>\n",
       "      <th>year</th>\n",
       "      <th>unit_price</th>\n",
       "      <th>neighbourhood_classification_Commercial Area</th>\n",
       "      <th>neighbourhood_classification_Residential Area</th>\n",
       "      <th>zone_Category I Residential Zone</th>\n",
       "      <th>zone_Category II Residential Zone</th>\n",
       "      <th>zone_Commercial Zone</th>\n",
       "      <th>combined_use_House</th>\n",
       "      <th>combined_use_Office</th>\n",
       "      <th>combined_use_Other</th>\n",
       "      <th>combined_use_Shop</th>\n",
       "    </tr>\n",
       "  </thead>\n",
       "  <tbody>\n",
       "    <tr>\n",
       "      <th>0</th>\n",
       "      <td>15.687313</td>\n",
       "      <td>0.112834</td>\n",
       "      <td>-0.112281</td>\n",
       "      <td>0.439975</td>\n",
       "      <td>0.718715</td>\n",
       "      <td>0.718715</td>\n",
       "      <td>0.0</td>\n",
       "      <td>-3.111046</td>\n",
       "      <td>0.368334</td>\n",
       "      <td>0.180546</td>\n",
       "      <td>0.209849</td>\n",
       "      <td>2023</td>\n",
       "      <td>6500000.0</td>\n",
       "      <td>1</td>\n",
       "      <td>0</td>\n",
       "      <td>0</td>\n",
       "      <td>0</td>\n",
       "      <td>1</td>\n",
       "      <td>1</td>\n",
       "      <td>0</td>\n",
       "      <td>0</td>\n",
       "      <td>0</td>\n",
       "    </tr>\n",
       "    <tr>\n",
       "      <th>1</th>\n",
       "      <td>15.404746</td>\n",
       "      <td>0.112834</td>\n",
       "      <td>-0.112281</td>\n",
       "      <td>0.439975</td>\n",
       "      <td>0.349914</td>\n",
       "      <td>0.349914</td>\n",
       "      <td>0.0</td>\n",
       "      <td>-0.764488</td>\n",
       "      <td>0.368334</td>\n",
       "      <td>0.180546</td>\n",
       "      <td>0.209849</td>\n",
       "      <td>2023</td>\n",
       "      <td>4900000.0</td>\n",
       "      <td>1</td>\n",
       "      <td>0</td>\n",
       "      <td>0</td>\n",
       "      <td>0</td>\n",
       "      <td>1</td>\n",
       "      <td>1</td>\n",
       "      <td>0</td>\n",
       "      <td>0</td>\n",
       "      <td>0</td>\n",
       "    </tr>\n",
       "    <tr>\n",
       "      <th>2</th>\n",
       "      <td>15.607270</td>\n",
       "      <td>0.112834</td>\n",
       "      <td>-0.112281</td>\n",
       "      <td>0.439975</td>\n",
       "      <td>-0.688347</td>\n",
       "      <td>-0.688347</td>\n",
       "      <td>0.0</td>\n",
       "      <td>-0.273912</td>\n",
       "      <td>0.382125</td>\n",
       "      <td>0.180546</td>\n",
       "      <td>-0.241017</td>\n",
       "      <td>2023</td>\n",
       "      <td>6000000.0</td>\n",
       "      <td>1</td>\n",
       "      <td>0</td>\n",
       "      <td>0</td>\n",
       "      <td>0</td>\n",
       "      <td>1</td>\n",
       "      <td>1</td>\n",
       "      <td>0</td>\n",
       "      <td>0</td>\n",
       "      <td>0</td>\n",
       "    </tr>\n",
       "    <tr>\n",
       "      <th>3</th>\n",
       "      <td>14.845130</td>\n",
       "      <td>0.112488</td>\n",
       "      <td>-0.114569</td>\n",
       "      <td>0.439975</td>\n",
       "      <td>1.290053</td>\n",
       "      <td>1.290053</td>\n",
       "      <td>0.0</td>\n",
       "      <td>0.628646</td>\n",
       "      <td>1.050334</td>\n",
       "      <td>-0.902801</td>\n",
       "      <td>-0.792607</td>\n",
       "      <td>2019</td>\n",
       "      <td>2800000.0</td>\n",
       "      <td>0</td>\n",
       "      <td>1</td>\n",
       "      <td>0</td>\n",
       "      <td>1</td>\n",
       "      <td>0</td>\n",
       "      <td>0</td>\n",
       "      <td>0</td>\n",
       "      <td>1</td>\n",
       "      <td>0</td>\n",
       "    </tr>\n",
       "    <tr>\n",
       "      <th>4</th>\n",
       "      <td>15.201805</td>\n",
       "      <td>0.114170</td>\n",
       "      <td>-0.113394</td>\n",
       "      <td>-0.070255</td>\n",
       "      <td>-0.252093</td>\n",
       "      <td>-0.252093</td>\n",
       "      <td>0.0</td>\n",
       "      <td>-0.079224</td>\n",
       "      <td>2.233339</td>\n",
       "      <td>0.180546</td>\n",
       "      <td>0.591160</td>\n",
       "      <td>2021</td>\n",
       "      <td>4000000.0</td>\n",
       "      <td>1</td>\n",
       "      <td>0</td>\n",
       "      <td>0</td>\n",
       "      <td>0</td>\n",
       "      <td>1</td>\n",
       "      <td>0</td>\n",
       "      <td>0</td>\n",
       "      <td>0</td>\n",
       "      <td>0</td>\n",
       "    </tr>\n",
       "    <tr>\n",
       "      <th>...</th>\n",
       "      <td>...</td>\n",
       "      <td>...</td>\n",
       "      <td>...</td>\n",
       "      <td>...</td>\n",
       "      <td>...</td>\n",
       "      <td>...</td>\n",
       "      <td>...</td>\n",
       "      <td>...</td>\n",
       "      <td>...</td>\n",
       "      <td>...</td>\n",
       "      <td>...</td>\n",
       "      <td>...</td>\n",
       "      <td>...</td>\n",
       "      <td>...</td>\n",
       "      <td>...</td>\n",
       "      <td>...</td>\n",
       "      <td>...</td>\n",
       "      <td>...</td>\n",
       "      <td>...</td>\n",
       "      <td>...</td>\n",
       "      <td>...</td>\n",
       "      <td>...</td>\n",
       "    </tr>\n",
       "    <tr>\n",
       "      <th>310</th>\n",
       "      <td>14.690980</td>\n",
       "      <td>0.112654</td>\n",
       "      <td>-0.112641</td>\n",
       "      <td>0.439975</td>\n",
       "      <td>1.412401</td>\n",
       "      <td>1.412401</td>\n",
       "      <td>0.0</td>\n",
       "      <td>1.639253</td>\n",
       "      <td>-0.286084</td>\n",
       "      <td>-0.902801</td>\n",
       "      <td>-0.792607</td>\n",
       "      <td>2006</td>\n",
       "      <td>2400000.0</td>\n",
       "      <td>0</td>\n",
       "      <td>1</td>\n",
       "      <td>0</td>\n",
       "      <td>1</td>\n",
       "      <td>0</td>\n",
       "      <td>0</td>\n",
       "      <td>0</td>\n",
       "      <td>0</td>\n",
       "      <td>0</td>\n",
       "    </tr>\n",
       "    <tr>\n",
       "      <th>311</th>\n",
       "      <td>13.795309</td>\n",
       "      <td>0.112654</td>\n",
       "      <td>-0.112641</td>\n",
       "      <td>0.856863</td>\n",
       "      <td>0.236049</td>\n",
       "      <td>0.236049</td>\n",
       "      <td>0.0</td>\n",
       "      <td>-1.509271</td>\n",
       "      <td>-1.234288</td>\n",
       "      <td>-0.902801</td>\n",
       "      <td>-0.792607</td>\n",
       "      <td>2006</td>\n",
       "      <td>980000.0</td>\n",
       "      <td>1</td>\n",
       "      <td>0</td>\n",
       "      <td>0</td>\n",
       "      <td>1</td>\n",
       "      <td>0</td>\n",
       "      <td>0</td>\n",
       "      <td>0</td>\n",
       "      <td>0</td>\n",
       "      <td>0</td>\n",
       "    </tr>\n",
       "    <tr>\n",
       "      <th>312</th>\n",
       "      <td>14.508658</td>\n",
       "      <td>0.113347</td>\n",
       "      <td>-0.113761</td>\n",
       "      <td>-0.728055</td>\n",
       "      <td>0.770241</td>\n",
       "      <td>0.770241</td>\n",
       "      <td>0.0</td>\n",
       "      <td>0.931384</td>\n",
       "      <td>-0.760186</td>\n",
       "      <td>0.180546</td>\n",
       "      <td>-0.241017</td>\n",
       "      <td>2007</td>\n",
       "      <td>2000000.0</td>\n",
       "      <td>1</td>\n",
       "      <td>0</td>\n",
       "      <td>0</td>\n",
       "      <td>0</td>\n",
       "      <td>1</td>\n",
       "      <td>0</td>\n",
       "      <td>0</td>\n",
       "      <td>0</td>\n",
       "      <td>0</td>\n",
       "    </tr>\n",
       "    <tr>\n",
       "      <th>313</th>\n",
       "      <td>11.918397</td>\n",
       "      <td>0.112106</td>\n",
       "      <td>-0.114543</td>\n",
       "      <td>1.209337</td>\n",
       "      <td>-0.688347</td>\n",
       "      <td>-0.688347</td>\n",
       "      <td>0.0</td>\n",
       "      <td>1.019774</td>\n",
       "      <td>-3.713018</td>\n",
       "      <td>-0.902801</td>\n",
       "      <td>-0.792607</td>\n",
       "      <td>2005</td>\n",
       "      <td>150000.0</td>\n",
       "      <td>0</td>\n",
       "      <td>1</td>\n",
       "      <td>1</td>\n",
       "      <td>0</td>\n",
       "      <td>0</td>\n",
       "      <td>0</td>\n",
       "      <td>0</td>\n",
       "      <td>0</td>\n",
       "      <td>0</td>\n",
       "    </tr>\n",
       "    <tr>\n",
       "      <th>314</th>\n",
       "      <td>14.557448</td>\n",
       "      <td>0.112106</td>\n",
       "      <td>-0.114543</td>\n",
       "      <td>0.856863</td>\n",
       "      <td>0.718715</td>\n",
       "      <td>0.718715</td>\n",
       "      <td>0.0</td>\n",
       "      <td>0.628646</td>\n",
       "      <td>-0.628275</td>\n",
       "      <td>-0.902801</td>\n",
       "      <td>-0.792607</td>\n",
       "      <td>2005</td>\n",
       "      <td>2100000.0</td>\n",
       "      <td>0</td>\n",
       "      <td>1</td>\n",
       "      <td>1</td>\n",
       "      <td>0</td>\n",
       "      <td>0</td>\n",
       "      <td>0</td>\n",
       "      <td>0</td>\n",
       "      <td>0</td>\n",
       "      <td>0</td>\n",
       "    </tr>\n",
       "  </tbody>\n",
       "</table>\n",
       "<p>315 rows × 22 columns</p>\n",
       "</div>"
      ],
      "text/plain": [
       "     unit_price_log      long       lat  time_to_nearest_station  \\\n",
       "0         15.687313  0.112834 -0.112281                 0.439975   \n",
       "1         15.404746  0.112834 -0.112281                 0.439975   \n",
       "2         15.607270  0.112834 -0.112281                 0.439975   \n",
       "3         14.845130  0.112488 -0.114569                 0.439975   \n",
       "4         15.201805  0.114170 -0.113394                -0.070255   \n",
       "..              ...       ...       ...                      ...   \n",
       "310       14.690980  0.112654 -0.112641                 0.439975   \n",
       "311       13.795309  0.112654 -0.112641                 0.856863   \n",
       "312       14.508658  0.113347 -0.113761                -0.728055   \n",
       "313       11.918397  0.112106 -0.114543                 1.209337   \n",
       "314       14.557448  0.112106 -0.114543                 0.856863   \n",
       "\n",
       "     total_floor_area  trade_area  age  frontage  frontage_road_breadth  \\\n",
       "0            0.718715    0.718715  0.0 -3.111046               0.368334   \n",
       "1            0.349914    0.349914  0.0 -0.764488               0.368334   \n",
       "2           -0.688347   -0.688347  0.0 -0.273912               0.382125   \n",
       "3            1.290053    1.290053  0.0  0.628646               1.050334   \n",
       "4           -0.252093   -0.252093  0.0 -0.079224               2.233339   \n",
       "..                ...         ...  ...       ...                    ...   \n",
       "310          1.412401    1.412401  0.0  1.639253              -0.286084   \n",
       "311          0.236049    0.236049  0.0 -1.509271              -1.234288   \n",
       "312          0.770241    0.770241  0.0  0.931384              -0.760186   \n",
       "313         -0.688347   -0.688347  0.0  1.019774              -3.713018   \n",
       "314          0.718715    0.718715  0.0  0.628646              -0.628275   \n",
       "\n",
       "     max_building_coverage_ratio  max_floor_area_ratio  year  unit_price  \\\n",
       "0                       0.180546              0.209849  2023   6500000.0   \n",
       "1                       0.180546              0.209849  2023   4900000.0   \n",
       "2                       0.180546             -0.241017  2023   6000000.0   \n",
       "3                      -0.902801             -0.792607  2019   2800000.0   \n",
       "4                       0.180546              0.591160  2021   4000000.0   \n",
       "..                           ...                   ...   ...         ...   \n",
       "310                    -0.902801             -0.792607  2006   2400000.0   \n",
       "311                    -0.902801             -0.792607  2006    980000.0   \n",
       "312                     0.180546             -0.241017  2007   2000000.0   \n",
       "313                    -0.902801             -0.792607  2005    150000.0   \n",
       "314                    -0.902801             -0.792607  2005   2100000.0   \n",
       "\n",
       "     neighbourhood_classification_Commercial Area  \\\n",
       "0                                               1   \n",
       "1                                               1   \n",
       "2                                               1   \n",
       "3                                               0   \n",
       "4                                               1   \n",
       "..                                            ...   \n",
       "310                                             0   \n",
       "311                                             1   \n",
       "312                                             1   \n",
       "313                                             0   \n",
       "314                                             0   \n",
       "\n",
       "     neighbourhood_classification_Residential Area  \\\n",
       "0                                                0   \n",
       "1                                                0   \n",
       "2                                                0   \n",
       "3                                                1   \n",
       "4                                                0   \n",
       "..                                             ...   \n",
       "310                                              1   \n",
       "311                                              0   \n",
       "312                                              0   \n",
       "313                                              1   \n",
       "314                                              1   \n",
       "\n",
       "     zone_Category I Residential Zone  zone_Category II Residential Zone  \\\n",
       "0                                   0                                  0   \n",
       "1                                   0                                  0   \n",
       "2                                   0                                  0   \n",
       "3                                   0                                  1   \n",
       "4                                   0                                  0   \n",
       "..                                ...                                ...   \n",
       "310                                 0                                  1   \n",
       "311                                 0                                  1   \n",
       "312                                 0                                  0   \n",
       "313                                 1                                  0   \n",
       "314                                 1                                  0   \n",
       "\n",
       "     zone_Commercial Zone  combined_use_House  combined_use_Office  \\\n",
       "0                       1                   1                    0   \n",
       "1                       1                   1                    0   \n",
       "2                       1                   1                    0   \n",
       "3                       0                   0                    0   \n",
       "4                       1                   0                    0   \n",
       "..                    ...                 ...                  ...   \n",
       "310                     0                   0                    0   \n",
       "311                     0                   0                    0   \n",
       "312                     1                   0                    0   \n",
       "313                     0                   0                    0   \n",
       "314                     0                   0                    0   \n",
       "\n",
       "     combined_use_Other  combined_use_Shop  \n",
       "0                     0                  0  \n",
       "1                     0                  0  \n",
       "2                     0                  0  \n",
       "3                     1                  0  \n",
       "4                     0                  0  \n",
       "..                  ...                ...  \n",
       "310                   0                  0  \n",
       "311                   0                  0  \n",
       "312                   0                  0  \n",
       "313                   0                  0  \n",
       "314                   0                  0  \n",
       "\n",
       "[315 rows x 22 columns]"
      ]
     },
     "execution_count": 1249,
     "metadata": {},
     "output_type": "execute_result"
    }
   ],
   "source": [
    "from sklearn.preprocessing import StandardScaler, MinMaxScaler\n",
    "# for area_code X, you have n clusters\n",
    "\n",
    "area_df = land_df[land_df[\"area_code\"] == \"13101\"].reset_index(drop=True)\n",
    "\n",
    "for column in numerical_columns:\n",
    "    area_df[column] = np.log(area_df[column] + 1)\n",
    "\n",
    "# Scale numerical variables\n",
    "scaler = StandardScaler()\n",
    "# scaler = MinMaxScaler()\n",
    "area_df[numerical_columns] = scaler.fit_transform(area_df[numerical_columns])\n",
    "\n",
    "\n",
    "for column in metric_columns:\n",
    "    area_df[f\"{column}_log\"] = np.log(area_df[column] + 1)\n",
    "    area_df[f\"{column}_log_normalized\"] = area_df.groupby(\"year\")[f\"{column}_log\"].transform(\n",
    "        lambda x: (x - x.mean()) / x.std()\n",
    "    )\n",
    "\n",
    "# Categorical variables\n",
    "area_df = pd.get_dummies(area_df[columns + id_columns + metric_columns], columns=categorical_columns)\n",
    "drop_columns = [col for col in area_df.columns if \"na\" in col]\n",
    "area_df = area_df.drop(columns=drop_columns)\n",
    "area_df"
   ]
  },
  {
   "cell_type": "code",
   "execution_count": 1252,
   "metadata": {},
   "outputs": [],
   "source": [
    "X = area_df.drop(columns=id_columns + metric_columns)"
   ]
  },
  {
   "cell_type": "code",
   "execution_count": 1239,
   "metadata": {},
   "outputs": [
    {
     "name": "stdout",
     "output_type": "stream",
     "text": [
      "Number of components retained by PCA: 1\n"
     ]
    }
   ],
   "source": [
    "from sklearn.decomposition import PCA\n",
    "\n",
    "# Perform PCA for dimensionality reduction\n",
    "pca = PCA(n_components=0.95)  # Retain 95% of the variance\n",
    "X_pca = pca.fit_transform(X)\n",
    "\n",
    "# Print the number of components retained by PCA\n",
    "print(\"Number of components retained by PCA:\", pca.n_components_)"
   ]
  },
  {
   "cell_type": "code",
   "execution_count": 1240,
   "metadata": {},
   "outputs": [
    {
     "name": "stdout",
     "output_type": "stream",
     "text": [
      "-1     131\n",
      " 19     18\n",
      " 14     17\n",
      " 16     13\n",
      " 13     12\n",
      " 6      12\n",
      " 4      11\n",
      " 17      9\n",
      " 10      9\n",
      " 8       8\n",
      " 7       8\n",
      " 5       8\n",
      " 0       7\n",
      " 11      7\n",
      " 1       7\n",
      " 15      6\n",
      " 2       6\n",
      " 18      6\n",
      " 9       5\n",
      " 12      5\n",
      " 3       5\n",
      " 20      5\n",
      "Name: dbscan_cluster, dtype: int64\n"
     ]
    }
   ],
   "source": [
    "from sklearn.cluster import DBSCAN\n",
    "\n",
    "# Apply DBSCAN\n",
    "dbscan = DBSCAN(eps=0.5, min_samples=5)\n",
    "clusters = dbscan.fit_predict(X_pca)\n",
    "\n",
    "# Add cluster labels to the DataFrame\n",
    "area_df['dbscan_cluster'] = clusters\n",
    "\n",
    "# Print the resulting clusters\n",
    "print(area_df['dbscan_cluster'].value_counts())"
   ]
  },
  {
   "cell_type": "code",
   "execution_count": 1241,
   "metadata": {},
   "outputs": [
    {
     "name": "stdout",
     "output_type": "stream",
     "text": [
      "K-means Clustering Results:\n",
      "0    133\n",
      "3     92\n",
      "2     53\n",
      "4     22\n",
      "1     15\n",
      "Name: kmeans_cluster, dtype: int64\n"
     ]
    }
   ],
   "source": [
    "from sklearn.cluster import KMeans\n",
    "\n",
    "# K-means clustering\n",
    "kmeans = KMeans(n_clusters=5, random_state=42)\n",
    "kmeans_labels = kmeans.fit_predict(X_pca)\n",
    "\n",
    "# Add K-means cluster labels to the DataFrame\n",
    "area_df['kmeans_cluster'] = kmeans_labels\n",
    "\n",
    "# Print the resulting clusters for K-means\n",
    "print(\"K-means Clustering Results:\")\n",
    "print(area_df['kmeans_cluster'].value_counts())\n"
   ]
  },
  {
   "cell_type": "code",
   "execution_count": 1242,
   "metadata": {},
   "outputs": [
    {
     "name": "stdout",
     "output_type": "stream",
     "text": [
      "HDBSCAN Clustering Results:\n",
      "-1     52\n",
      " 22    22\n",
      " 9     18\n",
      " 10    17\n",
      " 3     15\n",
      " 23    14\n",
      " 1     13\n",
      " 17    13\n",
      " 5     12\n",
      " 8     12\n",
      " 14    12\n",
      " 6     11\n",
      " 0     10\n",
      " 20    10\n",
      " 11     9\n",
      " 2      9\n",
      " 13     9\n",
      " 15     8\n",
      " 21     8\n",
      " 16     8\n",
      " 7      7\n",
      " 18     7\n",
      " 19     7\n",
      " 4      6\n",
      " 12     6\n",
      "Name: hdbscan_cluster, dtype: int64\n"
     ]
    }
   ],
   "source": [
    "from hdbscan import HDBSCAN\n",
    "\n",
    "# HDBSCAN clustering\n",
    "hdbscan = HDBSCAN(min_cluster_size=5, min_samples=5)\n",
    "hdbscan_labels = hdbscan.fit_predict(X_pca)\n",
    "\n",
    "# Add HDBSCAN cluster labels to the DataFrame\n",
    "area_df['hdbscan_cluster'] = hdbscan_labels\n",
    "\n",
    "# Print the resulting clusters for HDBSCAN\n",
    "print(\"HDBSCAN Clustering Results:\")\n",
    "print(area_df['hdbscan_cluster'].value_counts())"
   ]
  },
  {
   "cell_type": "code",
   "execution_count": 1243,
   "metadata": {},
   "outputs": [
    {
     "data": {
      "text/html": [
       "<div>\n",
       "<style scoped>\n",
       "    .dataframe tbody tr th:only-of-type {\n",
       "        vertical-align: middle;\n",
       "    }\n",
       "\n",
       "    .dataframe tbody tr th {\n",
       "        vertical-align: top;\n",
       "    }\n",
       "\n",
       "    .dataframe thead th {\n",
       "        text-align: right;\n",
       "    }\n",
       "</style>\n",
       "<table border=\"1\" class=\"dataframe\">\n",
       "  <thead>\n",
       "    <tr style=\"text-align: right;\">\n",
       "      <th></th>\n",
       "      <th>long</th>\n",
       "      <th>lat</th>\n",
       "      <th>time_to_nearest_station</th>\n",
       "      <th>trade_area</th>\n",
       "      <th>age</th>\n",
       "      <th>frontage</th>\n",
       "      <th>frontage_road_breadth</th>\n",
       "      <th>max_building_coverage_ratio</th>\n",
       "      <th>max_floor_area_ratio</th>\n",
       "      <th>year</th>\n",
       "      <th>unit_price</th>\n",
       "      <th>neighbourhood_classification_Commercial Area</th>\n",
       "      <th>neighbourhood_classification_Residential Area</th>\n",
       "      <th>zone_Category I Residential Zone</th>\n",
       "      <th>zone_Category II Residential Zone</th>\n",
       "      <th>zone_Commercial Zone</th>\n",
       "      <th>combined_use_House</th>\n",
       "      <th>combined_use_Office</th>\n",
       "      <th>combined_use_Other</th>\n",
       "      <th>combined_use_Shop</th>\n",
       "      <th>dbscan_cluster</th>\n",
       "      <th>kmeans_cluster</th>\n",
       "      <th>hdbscan_cluster</th>\n",
       "    </tr>\n",
       "  </thead>\n",
       "  <tbody>\n",
       "    <tr>\n",
       "      <th>26</th>\n",
       "      <td>0.113</td>\n",
       "      <td>-0.113</td>\n",
       "      <td>-0.728</td>\n",
       "      <td>0.110</td>\n",
       "      <td>0.0</td>\n",
       "      <td>0.385</td>\n",
       "      <td>-0.506</td>\n",
       "      <td>0.181</td>\n",
       "      <td>-0.241</td>\n",
       "      <td>2019</td>\n",
       "      <td>3000000.0</td>\n",
       "      <td>1</td>\n",
       "      <td>0</td>\n",
       "      <td>0</td>\n",
       "      <td>0</td>\n",
       "      <td>1</td>\n",
       "      <td>0</td>\n",
       "      <td>1</td>\n",
       "      <td>0</td>\n",
       "      <td>0</td>\n",
       "      <td>11</td>\n",
       "      <td>2</td>\n",
       "      <td>7</td>\n",
       "    </tr>\n",
       "    <tr>\n",
       "      <th>106</th>\n",
       "      <td>0.114</td>\n",
       "      <td>-0.114</td>\n",
       "      <td>-0.070</td>\n",
       "      <td>1.078</td>\n",
       "      <td>0.0</td>\n",
       "      <td>1.182</td>\n",
       "      <td>0.239</td>\n",
       "      <td>0.181</td>\n",
       "      <td>0.210</td>\n",
       "      <td>2014</td>\n",
       "      <td>3000000.0</td>\n",
       "      <td>1</td>\n",
       "      <td>0</td>\n",
       "      <td>0</td>\n",
       "      <td>0</td>\n",
       "      <td>1</td>\n",
       "      <td>0</td>\n",
       "      <td>0</td>\n",
       "      <td>0</td>\n",
       "      <td>0</td>\n",
       "      <td>11</td>\n",
       "      <td>2</td>\n",
       "      <td>7</td>\n",
       "    </tr>\n",
       "    <tr>\n",
       "      <th>157</th>\n",
       "      <td>0.114</td>\n",
       "      <td>-0.113</td>\n",
       "      <td>-0.728</td>\n",
       "      <td>-0.688</td>\n",
       "      <td>0.0</td>\n",
       "      <td>-0.079</td>\n",
       "      <td>0.382</td>\n",
       "      <td>0.181</td>\n",
       "      <td>0.210</td>\n",
       "      <td>2016</td>\n",
       "      <td>3000000.0</td>\n",
       "      <td>1</td>\n",
       "      <td>0</td>\n",
       "      <td>0</td>\n",
       "      <td>0</td>\n",
       "      <td>1</td>\n",
       "      <td>1</td>\n",
       "      <td>0</td>\n",
       "      <td>0</td>\n",
       "      <td>0</td>\n",
       "      <td>11</td>\n",
       "      <td>2</td>\n",
       "      <td>7</td>\n",
       "    </tr>\n",
       "    <tr>\n",
       "      <th>177</th>\n",
       "      <td>0.113</td>\n",
       "      <td>-0.114</td>\n",
       "      <td>1.209</td>\n",
       "      <td>-0.880</td>\n",
       "      <td>0.0</td>\n",
       "      <td>-0.764</td>\n",
       "      <td>0.382</td>\n",
       "      <td>0.181</td>\n",
       "      <td>-0.241</td>\n",
       "      <td>2015</td>\n",
       "      <td>3000000.0</td>\n",
       "      <td>1</td>\n",
       "      <td>0</td>\n",
       "      <td>0</td>\n",
       "      <td>0</td>\n",
       "      <td>1</td>\n",
       "      <td>0</td>\n",
       "      <td>0</td>\n",
       "      <td>0</td>\n",
       "      <td>0</td>\n",
       "      <td>11</td>\n",
       "      <td>2</td>\n",
       "      <td>7</td>\n",
       "    </tr>\n",
       "    <tr>\n",
       "      <th>212</th>\n",
       "      <td>0.113</td>\n",
       "      <td>-0.112</td>\n",
       "      <td>-0.728</td>\n",
       "      <td>-0.688</td>\n",
       "      <td>0.0</td>\n",
       "      <td>-0.274</td>\n",
       "      <td>0.382</td>\n",
       "      <td>0.181</td>\n",
       "      <td>-0.241</td>\n",
       "      <td>2013</td>\n",
       "      <td>3000000.0</td>\n",
       "      <td>1</td>\n",
       "      <td>0</td>\n",
       "      <td>0</td>\n",
       "      <td>0</td>\n",
       "      <td>1</td>\n",
       "      <td>0</td>\n",
       "      <td>0</td>\n",
       "      <td>0</td>\n",
       "      <td>0</td>\n",
       "      <td>11</td>\n",
       "      <td>2</td>\n",
       "      <td>7</td>\n",
       "    </tr>\n",
       "    <tr>\n",
       "      <th>284</th>\n",
       "      <td>0.113</td>\n",
       "      <td>-0.113</td>\n",
       "      <td>-1.655</td>\n",
       "      <td>-2.338</td>\n",
       "      <td>0.0</td>\n",
       "      <td>-0.499</td>\n",
       "      <td>1.182</td>\n",
       "      <td>0.181</td>\n",
       "      <td>0.591</td>\n",
       "      <td>2006</td>\n",
       "      <td>3000000.0</td>\n",
       "      <td>1</td>\n",
       "      <td>0</td>\n",
       "      <td>0</td>\n",
       "      <td>0</td>\n",
       "      <td>1</td>\n",
       "      <td>0</td>\n",
       "      <td>0</td>\n",
       "      <td>0</td>\n",
       "      <td>0</td>\n",
       "      <td>11</td>\n",
       "      <td>2</td>\n",
       "      <td>7</td>\n",
       "    </tr>\n",
       "    <tr>\n",
       "      <th>308</th>\n",
       "      <td>0.112</td>\n",
       "      <td>-0.116</td>\n",
       "      <td>0.440</td>\n",
       "      <td>0.420</td>\n",
       "      <td>0.0</td>\n",
       "      <td>-1.090</td>\n",
       "      <td>-0.148</td>\n",
       "      <td>-0.903</td>\n",
       "      <td>-0.793</td>\n",
       "      <td>2008</td>\n",
       "      <td>3000000.0</td>\n",
       "      <td>0</td>\n",
       "      <td>1</td>\n",
       "      <td>0</td>\n",
       "      <td>1</td>\n",
       "      <td>0</td>\n",
       "      <td>0</td>\n",
       "      <td>0</td>\n",
       "      <td>0</td>\n",
       "      <td>0</td>\n",
       "      <td>11</td>\n",
       "      <td>2</td>\n",
       "      <td>7</td>\n",
       "    </tr>\n",
       "  </tbody>\n",
       "</table>\n",
       "</div>"
      ],
      "text/plain": [
       "      long    lat  time_to_nearest_station  trade_area  age  frontage  \\\n",
       "26   0.113 -0.113                   -0.728       0.110  0.0     0.385   \n",
       "106  0.114 -0.114                   -0.070       1.078  0.0     1.182   \n",
       "157  0.114 -0.113                   -0.728      -0.688  0.0    -0.079   \n",
       "177  0.113 -0.114                    1.209      -0.880  0.0    -0.764   \n",
       "212  0.113 -0.112                   -0.728      -0.688  0.0    -0.274   \n",
       "284  0.113 -0.113                   -1.655      -2.338  0.0    -0.499   \n",
       "308  0.112 -0.116                    0.440       0.420  0.0    -1.090   \n",
       "\n",
       "     frontage_road_breadth  max_building_coverage_ratio  max_floor_area_ratio  \\\n",
       "26                  -0.506                        0.181                -0.241   \n",
       "106                  0.239                        0.181                 0.210   \n",
       "157                  0.382                        0.181                 0.210   \n",
       "177                  0.382                        0.181                -0.241   \n",
       "212                  0.382                        0.181                -0.241   \n",
       "284                  1.182                        0.181                 0.591   \n",
       "308                 -0.148                       -0.903                -0.793   \n",
       "\n",
       "     year  unit_price  neighbourhood_classification_Commercial Area  \\\n",
       "26   2019   3000000.0                                             1   \n",
       "106  2014   3000000.0                                             1   \n",
       "157  2016   3000000.0                                             1   \n",
       "177  2015   3000000.0                                             1   \n",
       "212  2013   3000000.0                                             1   \n",
       "284  2006   3000000.0                                             1   \n",
       "308  2008   3000000.0                                             0   \n",
       "\n",
       "     neighbourhood_classification_Residential Area  \\\n",
       "26                                               0   \n",
       "106                                              0   \n",
       "157                                              0   \n",
       "177                                              0   \n",
       "212                                              0   \n",
       "284                                              0   \n",
       "308                                              1   \n",
       "\n",
       "     zone_Category I Residential Zone  zone_Category II Residential Zone  \\\n",
       "26                                  0                                  0   \n",
       "106                                 0                                  0   \n",
       "157                                 0                                  0   \n",
       "177                                 0                                  0   \n",
       "212                                 0                                  0   \n",
       "284                                 0                                  0   \n",
       "308                                 0                                  1   \n",
       "\n",
       "     zone_Commercial Zone  combined_use_House  combined_use_Office  \\\n",
       "26                      1                   0                    1   \n",
       "106                     1                   0                    0   \n",
       "157                     1                   1                    0   \n",
       "177                     1                   0                    0   \n",
       "212                     1                   0                    0   \n",
       "284                     1                   0                    0   \n",
       "308                     0                   0                    0   \n",
       "\n",
       "     combined_use_Other  combined_use_Shop  dbscan_cluster  kmeans_cluster  \\\n",
       "26                    0                  0              11               2   \n",
       "106                   0                  0              11               2   \n",
       "157                   0                  0              11               2   \n",
       "177                   0                  0              11               2   \n",
       "212                   0                  0              11               2   \n",
       "284                   0                  0              11               2   \n",
       "308                   0                  0              11               2   \n",
       "\n",
       "     hdbscan_cluster  \n",
       "26                 7  \n",
       "106                7  \n",
       "157                7  \n",
       "177                7  \n",
       "212                7  \n",
       "284                7  \n",
       "308                7  "
      ]
     },
     "execution_count": 1243,
     "metadata": {},
     "output_type": "execute_result"
    }
   ],
   "source": [
    "area_df[area_df[\"hdbscan_cluster\"] == 7].round(3)\n"
   ]
  },
  {
   "cell_type": "code",
   "execution_count": 1244,
   "metadata": {},
   "outputs": [
    {
     "data": {
      "application/vnd.plotly.v1+json": {
       "config": {
        "plotlyServerURL": "https://plot.ly"
       },
       "data": [
        {
         "hovertemplate": "year=%{x}<br>hdbscan_cluster=%{y}<br>lat=%{marker.color}<extra></extra>",
         "legendgroup": "",
         "marker": {
          "color": [
           -0.11228068670108625,
           -0.11228068670108625,
           -0.11228068670108625,
           -0.11456882313834421,
           -0.11339449045699256,
           -0.11395706755749815,
           -0.11395706755749815,
           -0.11395706755749815,
           -0.11395706755749815,
           -0.11395706755749815,
           -0.11383723983201587,
           -0.11383723983201587,
           -0.11233222954997009,
           -0.1131945040262111,
           -0.1131945040262111,
           -0.1126574700770706,
           -0.11244672036411389,
           -0.11244672036411389,
           -0.11244672036411389,
           -0.11244672036411389,
           -0.11297298112443188,
           -0.11297298112443188,
           -0.11297298112443188,
           -0.11297298112443188,
           -0.11297298112443188,
           -0.11297298112443188,
           -0.11297298112443188,
           -0.1129992907310988,
           -0.1129992907310988,
           -0.1129992907310988,
           -0.1129992907310988,
           -0.1129992907310988,
           -0.1129992907310988,
           -0.1129992907310988,
           -0.1129992907310988,
           -0.1129992907310988,
           -0.1129992907310988,
           -0.1129992907310988,
           -0.1129992907310988,
           -0.1125774595211158,
           -0.11346183787629577,
           -0.11342400012925925,
           -0.11342400012925925,
           -0.11372369064777949,
           -0.11216389090877976,
           -0.11216389090877976,
           -0.11398814888692017,
           -0.11198080485310229,
           -0.11198080485310229,
           -0.11198080485310229,
           -0.11198080485310229,
           -0.11250594260566206,
           -0.11250594260566206,
           -0.11300991115230247,
           -0.11300991115230247,
           -0.11300991115230247,
           -0.11300991115230247,
           -0.11300991115230247,
           -0.11300991115230247,
           -0.1156324378352241,
           -0.1156324378352241,
           -0.1156324378352241,
           -0.1156324378352241,
           -0.1156324378352241,
           -0.11339449045699256,
           -0.11339449045699256,
           -0.11395706755749815,
           -0.11395706755749815,
           -0.11383723983201587,
           -0.11383723983201587,
           -0.11297298112443188,
           -0.11297298112443188,
           -0.11297298112443188,
           -0.11297298112443188,
           -0.1129992907310988,
           -0.1129992907310988,
           -0.11300991115230247,
           -0.11339449045699256,
           -0.11339449045699256,
           -0.11339449045699256,
           -0.11339449045699256,
           -0.11395706755749815,
           -0.11395706755749815,
           -0.11395706755749815,
           -0.11395706755749815,
           -0.11383723983201587,
           -0.11309215964823417,
           -0.1134348626183151,
           8.817592106919037,
           -0.1126574700770706,
           -0.11297298112443188,
           -0.11297298112443188,
           -0.11346183787629577,
           -0.11321815931904318,
           -0.11321815931904318,
           -0.11321815931904318,
           -0.11360038199266671,
           -0.11376131389077178,
           -0.11398814888692017,
           -0.11198080485310229,
           -0.11264095198177168,
           -0.11376131389077178,
           -0.11425992056990907,
           -0.11339449045699256,
           -0.11395706755749815,
           -0.11383723983201587,
           -0.11383723983201587,
           -0.1131945040262111,
           -0.1131945040262111,
           -0.1131945040262111,
           -0.11364451213664582,
           -0.11297298112443188,
           -0.11372369064777949,
           -0.11339449045699256,
           -0.11360038199266671,
           -0.11360038199266671,
           -0.11512495036010557,
           -0.11512495036010557,
           -0.11339449045699256,
           -0.11339449045699256,
           -0.11339449045699256,
           -0.11395706755749815,
           -0.11395706755749815,
           -0.11395706755749815,
           -0.11383723983201587,
           -0.1131945040262111,
           -0.1131945040262111,
           -0.11198080485310229,
           -0.11198080485310229,
           -0.1126574700770706,
           -0.11297298112443188,
           -0.11297298112443188,
           -0.11297298112443188,
           -0.1156324378352241,
           -0.11264095198177168,
           -0.11360038199266671,
           -0.11360038199266671,
           -0.11512495036010557,
           -0.11198080485310229,
           -0.11198080485310229,
           -0.11198080485310229,
           -0.11198080485310229,
           -0.11198080485310229,
           -0.11250594260566206,
           -0.11300991115230247,
           -0.11300991115230247,
           -0.11300991115230247,
           -0.11376131389077178,
           -0.11425992056990907,
           -0.11456882313834421,
           -0.11233222954997009,
           -0.11233222954997009,
           -0.11233222954997009,
           -0.11228068670108625,
           -0.1126574700770706,
           -0.1126574700770706,
           -0.11297298112443188,
           -0.1129992907310988,
           -0.1129992907310988,
           -0.11395706755749815,
           -0.11383723983201587,
           -0.11233222954997009,
           -0.11321815931904318,
           -0.11364451213664582,
           8.817592106919037,
           8.817592106919037,
           -0.11512495036010557,
           -0.11198080485310229,
           -0.11346183787629577,
           -0.11477977599499259,
           -0.11321815931904318,
           -0.11321815931904318,
           -0.11300991115230247,
           -0.11300991115230247,
           -0.11512495036010557,
           -0.1145429298158163,
           -0.1145429298158163,
           -0.11398814888692017,
           -0.11398814888692017,
           -0.11398814888692017,
           -0.11398814888692017,
           -0.11198080485310229,
           -0.11671986043038995,
           -0.1156324378352241,
           -0.1156324378352241,
           -0.11339449045699256,
           -0.11339449045699256,
           -0.11339449045699256,
           -0.11339449045699256,
           -0.11233222954997009,
           -0.11393455631650741,
           -0.11349460662562118,
           -0.11321815931904318,
           -0.11360038199266671,
           -0.11512495036010557,
           -0.11198080485310229,
           -0.11198080485310229,
           -0.11198080485310229,
           -0.11300991115230247,
           -0.11300991115230247,
           -0.1145429298158163,
           -0.11456882313834421,
           -0.11288705322671388,
           -0.11288705322671388,
           -0.11288705322671388,
           -0.11309215964823417,
           -0.1131945040262111,
           -0.1125774595211158,
           -0.11346183787629577,
           -0.11456882313834421,
           -0.11339449045699256,
           -0.11393455631650741,
           -0.11216389090877976,
           -0.11321815931904318,
           -0.11395706755749815,
           -0.11395706755749815,
           -0.11360038199266671,
           -0.11360038199266671,
           -0.11360038199266671,
           -0.1134348626183151,
           -0.11297298112443188,
           -0.1129992907310988,
           -0.1129992907310988,
           -0.11198080485310229,
           -0.11198080485310229,
           -0.11671986043038995,
           -0.11215013439116187,
           -0.1156622291040472,
           -0.1156622291040472,
           -0.11300991115230247,
           -0.11300991115230247,
           -0.11264095198177168,
           -0.11425992056990907,
           -0.11398814888692017,
           -0.1145429298158163,
           -0.11198080485310229,
           -0.11198080485310229,
           -0.11477977599499259,
           -0.11228068670108625,
           -0.11228068670108625,
           -0.11228068670108625,
           -0.11228068670108625,
           -0.11456882313834421,
           -0.11456882313834421,
           -0.11339449045699256,
           -0.11339449045699256,
           -0.11339449045699256,
           -0.11339449045699256,
           -0.11339449045699256,
           -0.11339449045699256,
           -0.11339449045699256,
           -0.11339449045699256,
           -0.11395706755749815,
           -0.11395706755749815,
           -0.11395706755749815,
           -0.11395706755749815,
           -0.11288705322671388,
           -0.1131945040262111,
           -0.1134348626183151,
           8.817592106919037,
           -0.11281301371753301,
           -0.1126574700770706,
           -0.1126574700770706,
           -0.1126574700770706,
           -0.1126574700770706,
           -0.1126574700770706,
           -0.11297298112443188,
           -0.11297298112443188,
           -0.11297298112443188,
           -0.11297298112443188,
           -0.11297298112443188,
           -0.11297298112443188,
           -0.11297298112443188,
           -0.11297298112443188,
           -0.1129992907310988,
           -0.1129992907310988,
           -0.1129992907310988,
           -0.11346183787629577,
           -0.11342400012925925,
           -0.11372369064777949,
           -0.11372369064777949,
           -0.11384746931170454,
           -0.11215013439116187,
           -0.11321815931904318,
           -0.11321815931904318,
           -0.11321815931904318,
           -0.11321815931904318,
           -0.11360038199266671,
           -0.11360038199266671,
           -0.11360038199266671,
           -0.11360038199266671,
           -0.11360038199266671,
           -0.11512495036010557,
           -0.11512495036010557,
           -0.11512495036010557,
           -0.11512495036010557,
           -0.11512495036010557,
           -0.11398814888692017,
           -0.11398814888692017,
           -0.11398814888692017,
           -0.11198080485310229,
           -0.11671986043038995,
           -0.11671986043038995,
           -0.11671986043038995,
           -0.11250594260566206,
           -0.11250594260566206,
           -0.11477977599499259,
           -0.11369430034334145,
           -0.1156324378352241,
           -0.11264095198177168,
           -0.11264095198177168,
           -0.11264095198177168,
           -0.11376131389077178,
           -0.1145429298158163,
           -0.1145429298158163
          ],
          "coloraxis": "coloraxis",
          "symbol": "circle"
         },
         "mode": "markers",
         "name": "",
         "orientation": "v",
         "showlegend": false,
         "type": "scatter",
         "x": [
          2023,
          2023,
          2023,
          2019,
          2021,
          2019,
          2019,
          2019,
          2023,
          2018,
          2022,
          2020,
          2022,
          2022,
          2019,
          2020,
          2021,
          2020,
          2020,
          2019,
          2022,
          2022,
          2022,
          2021,
          2021,
          2020,
          2019,
          2022,
          2022,
          2021,
          2021,
          2021,
          2020,
          2020,
          2020,
          2020,
          2020,
          2021,
          2020,
          2023,
          2020,
          2018,
          2020,
          2020,
          2020,
          2018,
          2023,
          2021,
          2020,
          2019,
          2018,
          2020,
          2020,
          2021,
          2022,
          2021,
          2020,
          2019,
          2019,
          2019,
          2019,
          2020,
          2020,
          2019,
          2017,
          2017,
          2017,
          2017,
          2017,
          2017,
          2017,
          2017,
          2017,
          2017,
          2017,
          2017,
          2017,
          2010,
          2010,
          2010,
          2010,
          2010,
          2010,
          2010,
          2010,
          2010,
          2010,
          2010,
          2010,
          2010,
          2010,
          2010,
          2010,
          2010,
          2010,
          2010,
          2010,
          2010,
          2010,
          2010,
          2010,
          2010,
          2010,
          2014,
          2014,
          2014,
          2014,
          2014,
          2014,
          2014,
          2014,
          2014,
          2014,
          2011,
          2014,
          2014,
          2014,
          2014,
          2011,
          2011,
          2011,
          2011,
          2011,
          2011,
          2011,
          2011,
          2011,
          2014,
          2014,
          2011,
          2011,
          2011,
          2011,
          2014,
          2014,
          2011,
          2011,
          2011,
          2011,
          2011,
          2011,
          2011,
          2011,
          2011,
          2011,
          2011,
          2011,
          2011,
          2011,
          2016,
          2016,
          2016,
          2016,
          2015,
          2016,
          2016,
          2016,
          2016,
          2016,
          2015,
          2015,
          2015,
          2016,
          2015,
          2015,
          2015,
          2016,
          2016,
          2015,
          2016,
          2015,
          2015,
          2016,
          2016,
          2015,
          2016,
          2016,
          2015,
          2015,
          2015,
          2015,
          2015,
          2015,
          2015,
          2015,
          2012,
          2012,
          2012,
          2012,
          2012,
          2012,
          2012,
          2012,
          2012,
          2012,
          2012,
          2012,
          2012,
          2012,
          2012,
          2012,
          2013,
          2013,
          2013,
          2013,
          2013,
          2013,
          2013,
          2013,
          2009,
          2009,
          2013,
          2013,
          2013,
          2009,
          2009,
          2013,
          2013,
          2013,
          2009,
          2009,
          2009,
          2009,
          2013,
          2013,
          2013,
          2009,
          2013,
          2013,
          2013,
          2013,
          2013,
          2013,
          2009,
          2013,
          2009,
          2009,
          2009,
          2006,
          2006,
          2005,
          2005,
          2007,
          2006,
          2006,
          2006,
          2006,
          2005,
          2005,
          2007,
          2007,
          2006,
          2006,
          2008,
          2007,
          2007,
          2007,
          2006,
          2007,
          2007,
          2005,
          2007,
          2006,
          2006,
          2005,
          2006,
          2008,
          2006,
          2008,
          2008,
          2007,
          2007,
          2006,
          2006,
          2006,
          2007,
          2006,
          2005,
          2005,
          2007,
          2007,
          2006,
          2007,
          2007,
          2006,
          2005,
          2005,
          2008,
          2008,
          2007,
          2006,
          2006,
          2008,
          2007,
          2006,
          2007,
          2007,
          2008,
          2008,
          2006,
          2007,
          2006,
          2006,
          2007,
          2008,
          2005,
          2008,
          2007,
          2008,
          2006,
          2006,
          2006,
          2007,
          2005,
          2005
         ],
         "xaxis": "x",
         "y": [
          0,
          1,
          0,
          19,
          -1,
          18,
          2,
          4,
          -1,
          0,
          0,
          0,
          5,
          -1,
          0,
          6,
          18,
          5,
          8,
          20,
          15,
          18,
          16,
          4,
          3,
          11,
          7,
          -1,
          3,
          3,
          -1,
          1,
          3,
          -1,
          -1,
          2,
          14,
          11,
          -1,
          1,
          14,
          11,
          5,
          21,
          2,
          3,
          -1,
          16,
          2,
          8,
          10,
          2,
          -1,
          16,
          6,
          -1,
          1,
          10,
          10,
          18,
          12,
          5,
          17,
          5,
          4,
          17,
          -1,
          1,
          13,
          -1,
          -1,
          -1,
          3,
          13,
          6,
          20,
          2,
          16,
          14,
          -1,
          -1,
          13,
          14,
          5,
          14,
          1,
          1,
          8,
          22,
          6,
          5,
          23,
          10,
          20,
          10,
          9,
          21,
          10,
          9,
          3,
          23,
          12,
          6,
          23,
          14,
          14,
          7,
          21,
          6,
          -1,
          22,
          10,
          -1,
          21,
          23,
          23,
          23,
          16,
          15,
          23,
          -1,
          15,
          8,
          12,
          1,
          6,
          -1,
          17,
          22,
          -1,
          22,
          9,
          8,
          3,
          22,
          23,
          19,
          20,
          22,
          22,
          21,
          20,
          -1,
          4,
          -1,
          8,
          6,
          -1,
          17,
          8,
          13,
          10,
          -1,
          -1,
          9,
          -1,
          17,
          7,
          -1,
          17,
          22,
          -1,
          10,
          10,
          8,
          9,
          -1,
          18,
          18,
          5,
          11,
          -1,
          9,
          3,
          5,
          23,
          23,
          7,
          9,
          4,
          22,
          6,
          -1,
          2,
          1,
          16,
          15,
          22,
          22,
          23,
          -1,
          9,
          2,
          11,
          20,
          3,
          -1,
          -1,
          6,
          21,
          5,
          13,
          3,
          17,
          22,
          22,
          22,
          -1,
          10,
          21,
          9,
          -1,
          7,
          17,
          3,
          3,
          1,
          1,
          11,
          8,
          14,
          14,
          -1,
          22,
          3,
          23,
          -1,
          10,
          23,
          10,
          17,
          -1,
          19,
          4,
          5,
          20,
          21,
          16,
          10,
          9,
          22,
          14,
          -1,
          15,
          14,
          -1,
          3,
          22,
          11,
          16,
          9,
          -1,
          19,
          12,
          22,
          15,
          10,
          0,
          19,
          19,
          9,
          22,
          22,
          -1,
          -1,
          22,
          -1,
          12,
          20,
          18,
          20,
          9,
          20,
          12,
          -1,
          9,
          8,
          13,
          6,
          14,
          1,
          10,
          1,
          2,
          7,
          8,
          8,
          13,
          17,
          22,
          11,
          19,
          0,
          -1,
          15,
          0,
          0,
          17,
          15,
          5,
          13,
          9,
          9,
          -1,
          10,
          9,
          17,
          9,
          7,
          -1,
          11,
          23,
          13,
          -1,
          17
         ],
         "yaxis": "y"
        }
       ],
       "layout": {
        "coloraxis": {
         "colorbar": {
          "title": {
           "text": "lat"
          }
         },
         "colorscale": [
          [
           0,
           "#0d0887"
          ],
          [
           0.1111111111111111,
           "#46039f"
          ],
          [
           0.2222222222222222,
           "#7201a8"
          ],
          [
           0.3333333333333333,
           "#9c179e"
          ],
          [
           0.4444444444444444,
           "#bd3786"
          ],
          [
           0.5555555555555556,
           "#d8576b"
          ],
          [
           0.6666666666666666,
           "#ed7953"
          ],
          [
           0.7777777777777778,
           "#fb9f3a"
          ],
          [
           0.8888888888888888,
           "#fdca26"
          ],
          [
           1,
           "#f0f921"
          ]
         ]
        },
        "legend": {
         "tracegroupgap": 0
        },
        "margin": {
         "t": 60
        },
        "template": {
         "data": {
          "bar": [
           {
            "error_x": {
             "color": "#2a3f5f"
            },
            "error_y": {
             "color": "#2a3f5f"
            },
            "marker": {
             "line": {
              "color": "#E5ECF6",
              "width": 0.5
             },
             "pattern": {
              "fillmode": "overlay",
              "size": 10,
              "solidity": 0.2
             }
            },
            "type": "bar"
           }
          ],
          "barpolar": [
           {
            "marker": {
             "line": {
              "color": "#E5ECF6",
              "width": 0.5
             },
             "pattern": {
              "fillmode": "overlay",
              "size": 10,
              "solidity": 0.2
             }
            },
            "type": "barpolar"
           }
          ],
          "carpet": [
           {
            "aaxis": {
             "endlinecolor": "#2a3f5f",
             "gridcolor": "white",
             "linecolor": "white",
             "minorgridcolor": "white",
             "startlinecolor": "#2a3f5f"
            },
            "baxis": {
             "endlinecolor": "#2a3f5f",
             "gridcolor": "white",
             "linecolor": "white",
             "minorgridcolor": "white",
             "startlinecolor": "#2a3f5f"
            },
            "type": "carpet"
           }
          ],
          "choropleth": [
           {
            "colorbar": {
             "outlinewidth": 0,
             "ticks": ""
            },
            "type": "choropleth"
           }
          ],
          "contour": [
           {
            "colorbar": {
             "outlinewidth": 0,
             "ticks": ""
            },
            "colorscale": [
             [
              0,
              "#0d0887"
             ],
             [
              0.1111111111111111,
              "#46039f"
             ],
             [
              0.2222222222222222,
              "#7201a8"
             ],
             [
              0.3333333333333333,
              "#9c179e"
             ],
             [
              0.4444444444444444,
              "#bd3786"
             ],
             [
              0.5555555555555556,
              "#d8576b"
             ],
             [
              0.6666666666666666,
              "#ed7953"
             ],
             [
              0.7777777777777778,
              "#fb9f3a"
             ],
             [
              0.8888888888888888,
              "#fdca26"
             ],
             [
              1,
              "#f0f921"
             ]
            ],
            "type": "contour"
           }
          ],
          "contourcarpet": [
           {
            "colorbar": {
             "outlinewidth": 0,
             "ticks": ""
            },
            "type": "contourcarpet"
           }
          ],
          "heatmap": [
           {
            "colorbar": {
             "outlinewidth": 0,
             "ticks": ""
            },
            "colorscale": [
             [
              0,
              "#0d0887"
             ],
             [
              0.1111111111111111,
              "#46039f"
             ],
             [
              0.2222222222222222,
              "#7201a8"
             ],
             [
              0.3333333333333333,
              "#9c179e"
             ],
             [
              0.4444444444444444,
              "#bd3786"
             ],
             [
              0.5555555555555556,
              "#d8576b"
             ],
             [
              0.6666666666666666,
              "#ed7953"
             ],
             [
              0.7777777777777778,
              "#fb9f3a"
             ],
             [
              0.8888888888888888,
              "#fdca26"
             ],
             [
              1,
              "#f0f921"
             ]
            ],
            "type": "heatmap"
           }
          ],
          "heatmapgl": [
           {
            "colorbar": {
             "outlinewidth": 0,
             "ticks": ""
            },
            "colorscale": [
             [
              0,
              "#0d0887"
             ],
             [
              0.1111111111111111,
              "#46039f"
             ],
             [
              0.2222222222222222,
              "#7201a8"
             ],
             [
              0.3333333333333333,
              "#9c179e"
             ],
             [
              0.4444444444444444,
              "#bd3786"
             ],
             [
              0.5555555555555556,
              "#d8576b"
             ],
             [
              0.6666666666666666,
              "#ed7953"
             ],
             [
              0.7777777777777778,
              "#fb9f3a"
             ],
             [
              0.8888888888888888,
              "#fdca26"
             ],
             [
              1,
              "#f0f921"
             ]
            ],
            "type": "heatmapgl"
           }
          ],
          "histogram": [
           {
            "marker": {
             "pattern": {
              "fillmode": "overlay",
              "size": 10,
              "solidity": 0.2
             }
            },
            "type": "histogram"
           }
          ],
          "histogram2d": [
           {
            "colorbar": {
             "outlinewidth": 0,
             "ticks": ""
            },
            "colorscale": [
             [
              0,
              "#0d0887"
             ],
             [
              0.1111111111111111,
              "#46039f"
             ],
             [
              0.2222222222222222,
              "#7201a8"
             ],
             [
              0.3333333333333333,
              "#9c179e"
             ],
             [
              0.4444444444444444,
              "#bd3786"
             ],
             [
              0.5555555555555556,
              "#d8576b"
             ],
             [
              0.6666666666666666,
              "#ed7953"
             ],
             [
              0.7777777777777778,
              "#fb9f3a"
             ],
             [
              0.8888888888888888,
              "#fdca26"
             ],
             [
              1,
              "#f0f921"
             ]
            ],
            "type": "histogram2d"
           }
          ],
          "histogram2dcontour": [
           {
            "colorbar": {
             "outlinewidth": 0,
             "ticks": ""
            },
            "colorscale": [
             [
              0,
              "#0d0887"
             ],
             [
              0.1111111111111111,
              "#46039f"
             ],
             [
              0.2222222222222222,
              "#7201a8"
             ],
             [
              0.3333333333333333,
              "#9c179e"
             ],
             [
              0.4444444444444444,
              "#bd3786"
             ],
             [
              0.5555555555555556,
              "#d8576b"
             ],
             [
              0.6666666666666666,
              "#ed7953"
             ],
             [
              0.7777777777777778,
              "#fb9f3a"
             ],
             [
              0.8888888888888888,
              "#fdca26"
             ],
             [
              1,
              "#f0f921"
             ]
            ],
            "type": "histogram2dcontour"
           }
          ],
          "mesh3d": [
           {
            "colorbar": {
             "outlinewidth": 0,
             "ticks": ""
            },
            "type": "mesh3d"
           }
          ],
          "parcoords": [
           {
            "line": {
             "colorbar": {
              "outlinewidth": 0,
              "ticks": ""
             }
            },
            "type": "parcoords"
           }
          ],
          "pie": [
           {
            "automargin": true,
            "type": "pie"
           }
          ],
          "scatter": [
           {
            "fillpattern": {
             "fillmode": "overlay",
             "size": 10,
             "solidity": 0.2
            },
            "type": "scatter"
           }
          ],
          "scatter3d": [
           {
            "line": {
             "colorbar": {
              "outlinewidth": 0,
              "ticks": ""
             }
            },
            "marker": {
             "colorbar": {
              "outlinewidth": 0,
              "ticks": ""
             }
            },
            "type": "scatter3d"
           }
          ],
          "scattercarpet": [
           {
            "marker": {
             "colorbar": {
              "outlinewidth": 0,
              "ticks": ""
             }
            },
            "type": "scattercarpet"
           }
          ],
          "scattergeo": [
           {
            "marker": {
             "colorbar": {
              "outlinewidth": 0,
              "ticks": ""
             }
            },
            "type": "scattergeo"
           }
          ],
          "scattergl": [
           {
            "marker": {
             "colorbar": {
              "outlinewidth": 0,
              "ticks": ""
             }
            },
            "type": "scattergl"
           }
          ],
          "scattermapbox": [
           {
            "marker": {
             "colorbar": {
              "outlinewidth": 0,
              "ticks": ""
             }
            },
            "type": "scattermapbox"
           }
          ],
          "scatterpolar": [
           {
            "marker": {
             "colorbar": {
              "outlinewidth": 0,
              "ticks": ""
             }
            },
            "type": "scatterpolar"
           }
          ],
          "scatterpolargl": [
           {
            "marker": {
             "colorbar": {
              "outlinewidth": 0,
              "ticks": ""
             }
            },
            "type": "scatterpolargl"
           }
          ],
          "scatterternary": [
           {
            "marker": {
             "colorbar": {
              "outlinewidth": 0,
              "ticks": ""
             }
            },
            "type": "scatterternary"
           }
          ],
          "surface": [
           {
            "colorbar": {
             "outlinewidth": 0,
             "ticks": ""
            },
            "colorscale": [
             [
              0,
              "#0d0887"
             ],
             [
              0.1111111111111111,
              "#46039f"
             ],
             [
              0.2222222222222222,
              "#7201a8"
             ],
             [
              0.3333333333333333,
              "#9c179e"
             ],
             [
              0.4444444444444444,
              "#bd3786"
             ],
             [
              0.5555555555555556,
              "#d8576b"
             ],
             [
              0.6666666666666666,
              "#ed7953"
             ],
             [
              0.7777777777777778,
              "#fb9f3a"
             ],
             [
              0.8888888888888888,
              "#fdca26"
             ],
             [
              1,
              "#f0f921"
             ]
            ],
            "type": "surface"
           }
          ],
          "table": [
           {
            "cells": {
             "fill": {
              "color": "#EBF0F8"
             },
             "line": {
              "color": "white"
             }
            },
            "header": {
             "fill": {
              "color": "#C8D4E3"
             },
             "line": {
              "color": "white"
             }
            },
            "type": "table"
           }
          ]
         },
         "layout": {
          "annotationdefaults": {
           "arrowcolor": "#2a3f5f",
           "arrowhead": 0,
           "arrowwidth": 1
          },
          "autotypenumbers": "strict",
          "coloraxis": {
           "colorbar": {
            "outlinewidth": 0,
            "ticks": ""
           }
          },
          "colorscale": {
           "diverging": [
            [
             0,
             "#8e0152"
            ],
            [
             0.1,
             "#c51b7d"
            ],
            [
             0.2,
             "#de77ae"
            ],
            [
             0.3,
             "#f1b6da"
            ],
            [
             0.4,
             "#fde0ef"
            ],
            [
             0.5,
             "#f7f7f7"
            ],
            [
             0.6,
             "#e6f5d0"
            ],
            [
             0.7,
             "#b8e186"
            ],
            [
             0.8,
             "#7fbc41"
            ],
            [
             0.9,
             "#4d9221"
            ],
            [
             1,
             "#276419"
            ]
           ],
           "sequential": [
            [
             0,
             "#0d0887"
            ],
            [
             0.1111111111111111,
             "#46039f"
            ],
            [
             0.2222222222222222,
             "#7201a8"
            ],
            [
             0.3333333333333333,
             "#9c179e"
            ],
            [
             0.4444444444444444,
             "#bd3786"
            ],
            [
             0.5555555555555556,
             "#d8576b"
            ],
            [
             0.6666666666666666,
             "#ed7953"
            ],
            [
             0.7777777777777778,
             "#fb9f3a"
            ],
            [
             0.8888888888888888,
             "#fdca26"
            ],
            [
             1,
             "#f0f921"
            ]
           ],
           "sequentialminus": [
            [
             0,
             "#0d0887"
            ],
            [
             0.1111111111111111,
             "#46039f"
            ],
            [
             0.2222222222222222,
             "#7201a8"
            ],
            [
             0.3333333333333333,
             "#9c179e"
            ],
            [
             0.4444444444444444,
             "#bd3786"
            ],
            [
             0.5555555555555556,
             "#d8576b"
            ],
            [
             0.6666666666666666,
             "#ed7953"
            ],
            [
             0.7777777777777778,
             "#fb9f3a"
            ],
            [
             0.8888888888888888,
             "#fdca26"
            ],
            [
             1,
             "#f0f921"
            ]
           ]
          },
          "colorway": [
           "#636efa",
           "#EF553B",
           "#00cc96",
           "#ab63fa",
           "#FFA15A",
           "#19d3f3",
           "#FF6692",
           "#B6E880",
           "#FF97FF",
           "#FECB52"
          ],
          "font": {
           "color": "#2a3f5f"
          },
          "geo": {
           "bgcolor": "white",
           "lakecolor": "white",
           "landcolor": "#E5ECF6",
           "showlakes": true,
           "showland": true,
           "subunitcolor": "white"
          },
          "hoverlabel": {
           "align": "left"
          },
          "hovermode": "closest",
          "mapbox": {
           "style": "light"
          },
          "paper_bgcolor": "white",
          "plot_bgcolor": "#E5ECF6",
          "polar": {
           "angularaxis": {
            "gridcolor": "white",
            "linecolor": "white",
            "ticks": ""
           },
           "bgcolor": "#E5ECF6",
           "radialaxis": {
            "gridcolor": "white",
            "linecolor": "white",
            "ticks": ""
           }
          },
          "scene": {
           "xaxis": {
            "backgroundcolor": "#E5ECF6",
            "gridcolor": "white",
            "gridwidth": 2,
            "linecolor": "white",
            "showbackground": true,
            "ticks": "",
            "zerolinecolor": "white"
           },
           "yaxis": {
            "backgroundcolor": "#E5ECF6",
            "gridcolor": "white",
            "gridwidth": 2,
            "linecolor": "white",
            "showbackground": true,
            "ticks": "",
            "zerolinecolor": "white"
           },
           "zaxis": {
            "backgroundcolor": "#E5ECF6",
            "gridcolor": "white",
            "gridwidth": 2,
            "linecolor": "white",
            "showbackground": true,
            "ticks": "",
            "zerolinecolor": "white"
           }
          },
          "shapedefaults": {
           "line": {
            "color": "#2a3f5f"
           }
          },
          "ternary": {
           "aaxis": {
            "gridcolor": "white",
            "linecolor": "white",
            "ticks": ""
           },
           "baxis": {
            "gridcolor": "white",
            "linecolor": "white",
            "ticks": ""
           },
           "bgcolor": "#E5ECF6",
           "caxis": {
            "gridcolor": "white",
            "linecolor": "white",
            "ticks": ""
           }
          },
          "title": {
           "x": 0.05
          },
          "xaxis": {
           "automargin": true,
           "gridcolor": "white",
           "linecolor": "white",
           "ticks": "",
           "title": {
            "standoff": 15
           },
           "zerolinecolor": "white",
           "zerolinewidth": 2
          },
          "yaxis": {
           "automargin": true,
           "gridcolor": "white",
           "linecolor": "white",
           "ticks": "",
           "title": {
            "standoff": 15
           },
           "zerolinecolor": "white",
           "zerolinewidth": 2
          }
         }
        },
        "width": 1000,
        "xaxis": {
         "anchor": "y",
         "domain": [
          0,
          1
         ],
         "title": {
          "text": "year"
         }
        },
        "yaxis": {
         "anchor": "x",
         "domain": [
          0,
          1
         ],
         "title": {
          "text": "hdbscan_cluster"
         }
        }
       }
      }
     },
     "metadata": {},
     "output_type": "display_data"
    },
    {
     "data": {
      "application/vnd.plotly.v1+json": {
       "config": {
        "plotlyServerURL": "https://plot.ly"
       },
       "data": [
        {
         "hovertemplate": "year=%{x}<br>dbscan_cluster=%{y}<br>lat=%{marker.color}<extra></extra>",
         "legendgroup": "",
         "marker": {
          "color": [
           -0.11228068670108625,
           -0.11228068670108625,
           -0.11228068670108625,
           -0.11456882313834421,
           -0.11339449045699256,
           -0.11395706755749815,
           -0.11395706755749815,
           -0.11395706755749815,
           -0.11395706755749815,
           -0.11395706755749815,
           -0.11383723983201587,
           -0.11383723983201587,
           -0.11233222954997009,
           -0.1131945040262111,
           -0.1131945040262111,
           -0.1126574700770706,
           -0.11244672036411389,
           -0.11244672036411389,
           -0.11244672036411389,
           -0.11244672036411389,
           -0.11297298112443188,
           -0.11297298112443188,
           -0.11297298112443188,
           -0.11297298112443188,
           -0.11297298112443188,
           -0.11297298112443188,
           -0.11297298112443188,
           -0.1129992907310988,
           -0.1129992907310988,
           -0.1129992907310988,
           -0.1129992907310988,
           -0.1129992907310988,
           -0.1129992907310988,
           -0.1129992907310988,
           -0.1129992907310988,
           -0.1129992907310988,
           -0.1129992907310988,
           -0.1129992907310988,
           -0.1129992907310988,
           -0.1125774595211158,
           -0.11346183787629577,
           -0.11342400012925925,
           -0.11342400012925925,
           -0.11372369064777949,
           -0.11216389090877976,
           -0.11216389090877976,
           -0.11398814888692017,
           -0.11198080485310229,
           -0.11198080485310229,
           -0.11198080485310229,
           -0.11198080485310229,
           -0.11250594260566206,
           -0.11250594260566206,
           -0.11300991115230247,
           -0.11300991115230247,
           -0.11300991115230247,
           -0.11300991115230247,
           -0.11300991115230247,
           -0.11300991115230247,
           -0.1156324378352241,
           -0.1156324378352241,
           -0.1156324378352241,
           -0.1156324378352241,
           -0.1156324378352241,
           -0.11339449045699256,
           -0.11339449045699256,
           -0.11395706755749815,
           -0.11395706755749815,
           -0.11383723983201587,
           -0.11383723983201587,
           -0.11297298112443188,
           -0.11297298112443188,
           -0.11297298112443188,
           -0.11297298112443188,
           -0.1129992907310988,
           -0.1129992907310988,
           -0.11300991115230247,
           -0.11339449045699256,
           -0.11339449045699256,
           -0.11339449045699256,
           -0.11339449045699256,
           -0.11395706755749815,
           -0.11395706755749815,
           -0.11395706755749815,
           -0.11395706755749815,
           -0.11383723983201587,
           -0.11309215964823417,
           -0.1134348626183151,
           8.817592106919037,
           -0.1126574700770706,
           -0.11297298112443188,
           -0.11297298112443188,
           -0.11346183787629577,
           -0.11321815931904318,
           -0.11321815931904318,
           -0.11321815931904318,
           -0.11360038199266671,
           -0.11376131389077178,
           -0.11398814888692017,
           -0.11198080485310229,
           -0.11264095198177168,
           -0.11376131389077178,
           -0.11425992056990907,
           -0.11339449045699256,
           -0.11395706755749815,
           -0.11383723983201587,
           -0.11383723983201587,
           -0.1131945040262111,
           -0.1131945040262111,
           -0.1131945040262111,
           -0.11364451213664582,
           -0.11297298112443188,
           -0.11372369064777949,
           -0.11339449045699256,
           -0.11360038199266671,
           -0.11360038199266671,
           -0.11512495036010557,
           -0.11512495036010557,
           -0.11339449045699256,
           -0.11339449045699256,
           -0.11339449045699256,
           -0.11395706755749815,
           -0.11395706755749815,
           -0.11395706755749815,
           -0.11383723983201587,
           -0.1131945040262111,
           -0.1131945040262111,
           -0.11198080485310229,
           -0.11198080485310229,
           -0.1126574700770706,
           -0.11297298112443188,
           -0.11297298112443188,
           -0.11297298112443188,
           -0.1156324378352241,
           -0.11264095198177168,
           -0.11360038199266671,
           -0.11360038199266671,
           -0.11512495036010557,
           -0.11198080485310229,
           -0.11198080485310229,
           -0.11198080485310229,
           -0.11198080485310229,
           -0.11198080485310229,
           -0.11250594260566206,
           -0.11300991115230247,
           -0.11300991115230247,
           -0.11300991115230247,
           -0.11376131389077178,
           -0.11425992056990907,
           -0.11456882313834421,
           -0.11233222954997009,
           -0.11233222954997009,
           -0.11233222954997009,
           -0.11228068670108625,
           -0.1126574700770706,
           -0.1126574700770706,
           -0.11297298112443188,
           -0.1129992907310988,
           -0.1129992907310988,
           -0.11395706755749815,
           -0.11383723983201587,
           -0.11233222954997009,
           -0.11321815931904318,
           -0.11364451213664582,
           8.817592106919037,
           8.817592106919037,
           -0.11512495036010557,
           -0.11198080485310229,
           -0.11346183787629577,
           -0.11477977599499259,
           -0.11321815931904318,
           -0.11321815931904318,
           -0.11300991115230247,
           -0.11300991115230247,
           -0.11512495036010557,
           -0.1145429298158163,
           -0.1145429298158163,
           -0.11398814888692017,
           -0.11398814888692017,
           -0.11398814888692017,
           -0.11398814888692017,
           -0.11198080485310229,
           -0.11671986043038995,
           -0.1156324378352241,
           -0.1156324378352241,
           -0.11339449045699256,
           -0.11339449045699256,
           -0.11339449045699256,
           -0.11339449045699256,
           -0.11233222954997009,
           -0.11393455631650741,
           -0.11349460662562118,
           -0.11321815931904318,
           -0.11360038199266671,
           -0.11512495036010557,
           -0.11198080485310229,
           -0.11198080485310229,
           -0.11198080485310229,
           -0.11300991115230247,
           -0.11300991115230247,
           -0.1145429298158163,
           -0.11456882313834421,
           -0.11288705322671388,
           -0.11288705322671388,
           -0.11288705322671388,
           -0.11309215964823417,
           -0.1131945040262111,
           -0.1125774595211158,
           -0.11346183787629577,
           -0.11456882313834421,
           -0.11339449045699256,
           -0.11393455631650741,
           -0.11216389090877976,
           -0.11321815931904318,
           -0.11395706755749815,
           -0.11395706755749815,
           -0.11360038199266671,
           -0.11360038199266671,
           -0.11360038199266671,
           -0.1134348626183151,
           -0.11297298112443188,
           -0.1129992907310988,
           -0.1129992907310988,
           -0.11198080485310229,
           -0.11198080485310229,
           -0.11671986043038995,
           -0.11215013439116187,
           -0.1156622291040472,
           -0.1156622291040472,
           -0.11300991115230247,
           -0.11300991115230247,
           -0.11264095198177168,
           -0.11425992056990907,
           -0.11398814888692017,
           -0.1145429298158163,
           -0.11198080485310229,
           -0.11198080485310229,
           -0.11477977599499259,
           -0.11228068670108625,
           -0.11228068670108625,
           -0.11228068670108625,
           -0.11228068670108625,
           -0.11456882313834421,
           -0.11456882313834421,
           -0.11339449045699256,
           -0.11339449045699256,
           -0.11339449045699256,
           -0.11339449045699256,
           -0.11339449045699256,
           -0.11339449045699256,
           -0.11339449045699256,
           -0.11339449045699256,
           -0.11395706755749815,
           -0.11395706755749815,
           -0.11395706755749815,
           -0.11395706755749815,
           -0.11288705322671388,
           -0.1131945040262111,
           -0.1134348626183151,
           8.817592106919037,
           -0.11281301371753301,
           -0.1126574700770706,
           -0.1126574700770706,
           -0.1126574700770706,
           -0.1126574700770706,
           -0.1126574700770706,
           -0.11297298112443188,
           -0.11297298112443188,
           -0.11297298112443188,
           -0.11297298112443188,
           -0.11297298112443188,
           -0.11297298112443188,
           -0.11297298112443188,
           -0.11297298112443188,
           -0.1129992907310988,
           -0.1129992907310988,
           -0.1129992907310988,
           -0.11346183787629577,
           -0.11342400012925925,
           -0.11372369064777949,
           -0.11372369064777949,
           -0.11384746931170454,
           -0.11215013439116187,
           -0.11321815931904318,
           -0.11321815931904318,
           -0.11321815931904318,
           -0.11321815931904318,
           -0.11360038199266671,
           -0.11360038199266671,
           -0.11360038199266671,
           -0.11360038199266671,
           -0.11360038199266671,
           -0.11512495036010557,
           -0.11512495036010557,
           -0.11512495036010557,
           -0.11512495036010557,
           -0.11512495036010557,
           -0.11398814888692017,
           -0.11398814888692017,
           -0.11398814888692017,
           -0.11198080485310229,
           -0.11671986043038995,
           -0.11671986043038995,
           -0.11671986043038995,
           -0.11250594260566206,
           -0.11250594260566206,
           -0.11477977599499259,
           -0.11369430034334145,
           -0.1156324378352241,
           -0.11264095198177168,
           -0.11264095198177168,
           -0.11264095198177168,
           -0.11376131389077178,
           -0.1145429298158163,
           -0.1145429298158163
          ],
          "coloraxis": "coloraxis",
          "symbol": "circle"
         },
         "mode": "markers",
         "name": "",
         "orientation": "v",
         "showlegend": false,
         "type": "scatter",
         "x": [
          2023,
          2023,
          2023,
          2019,
          2021,
          2019,
          2019,
          2019,
          2023,
          2018,
          2022,
          2020,
          2022,
          2022,
          2019,
          2020,
          2021,
          2020,
          2020,
          2019,
          2022,
          2022,
          2022,
          2021,
          2021,
          2020,
          2019,
          2022,
          2022,
          2021,
          2021,
          2021,
          2020,
          2020,
          2020,
          2020,
          2020,
          2021,
          2020,
          2023,
          2020,
          2018,
          2020,
          2020,
          2020,
          2018,
          2023,
          2021,
          2020,
          2019,
          2018,
          2020,
          2020,
          2021,
          2022,
          2021,
          2020,
          2019,
          2019,
          2019,
          2019,
          2020,
          2020,
          2019,
          2017,
          2017,
          2017,
          2017,
          2017,
          2017,
          2017,
          2017,
          2017,
          2017,
          2017,
          2017,
          2017,
          2010,
          2010,
          2010,
          2010,
          2010,
          2010,
          2010,
          2010,
          2010,
          2010,
          2010,
          2010,
          2010,
          2010,
          2010,
          2010,
          2010,
          2010,
          2010,
          2010,
          2010,
          2010,
          2010,
          2010,
          2010,
          2010,
          2014,
          2014,
          2014,
          2014,
          2014,
          2014,
          2014,
          2014,
          2014,
          2014,
          2011,
          2014,
          2014,
          2014,
          2014,
          2011,
          2011,
          2011,
          2011,
          2011,
          2011,
          2011,
          2011,
          2011,
          2014,
          2014,
          2011,
          2011,
          2011,
          2011,
          2014,
          2014,
          2011,
          2011,
          2011,
          2011,
          2011,
          2011,
          2011,
          2011,
          2011,
          2011,
          2011,
          2011,
          2011,
          2011,
          2016,
          2016,
          2016,
          2016,
          2015,
          2016,
          2016,
          2016,
          2016,
          2016,
          2015,
          2015,
          2015,
          2016,
          2015,
          2015,
          2015,
          2016,
          2016,
          2015,
          2016,
          2015,
          2015,
          2016,
          2016,
          2015,
          2016,
          2016,
          2015,
          2015,
          2015,
          2015,
          2015,
          2015,
          2015,
          2015,
          2012,
          2012,
          2012,
          2012,
          2012,
          2012,
          2012,
          2012,
          2012,
          2012,
          2012,
          2012,
          2012,
          2012,
          2012,
          2012,
          2013,
          2013,
          2013,
          2013,
          2013,
          2013,
          2013,
          2013,
          2009,
          2009,
          2013,
          2013,
          2013,
          2009,
          2009,
          2013,
          2013,
          2013,
          2009,
          2009,
          2009,
          2009,
          2013,
          2013,
          2013,
          2009,
          2013,
          2013,
          2013,
          2013,
          2013,
          2013,
          2009,
          2013,
          2009,
          2009,
          2009,
          2006,
          2006,
          2005,
          2005,
          2007,
          2006,
          2006,
          2006,
          2006,
          2005,
          2005,
          2007,
          2007,
          2006,
          2006,
          2008,
          2007,
          2007,
          2007,
          2006,
          2007,
          2007,
          2005,
          2007,
          2006,
          2006,
          2005,
          2006,
          2008,
          2006,
          2008,
          2008,
          2007,
          2007,
          2006,
          2006,
          2006,
          2007,
          2006,
          2005,
          2005,
          2007,
          2007,
          2006,
          2007,
          2007,
          2006,
          2005,
          2005,
          2008,
          2008,
          2007,
          2006,
          2006,
          2008,
          2007,
          2006,
          2007,
          2007,
          2008,
          2008,
          2006,
          2007,
          2006,
          2006,
          2007,
          2008,
          2005,
          2008,
          2007,
          2008,
          2006,
          2006,
          2006,
          2007,
          2005,
          2005
         ],
         "xaxis": "x",
         "y": [
          -1,
          -1,
          -1,
          0,
          -1,
          1,
          -1,
          2,
          -1,
          -1,
          -1,
          -1,
          3,
          -1,
          -1,
          4,
          1,
          5,
          6,
          -1,
          7,
          1,
          8,
          2,
          9,
          10,
          11,
          -1,
          12,
          -1,
          -1,
          -1,
          12,
          -1,
          -1,
          -1,
          13,
          10,
          -1,
          -1,
          13,
          10,
          5,
          -1,
          -1,
          -1,
          -1,
          8,
          -1,
          6,
          14,
          -1,
          -1,
          8,
          4,
          -1,
          -1,
          14,
          14,
          1,
          15,
          3,
          16,
          3,
          2,
          16,
          -1,
          -1,
          17,
          -1,
          -1,
          -1,
          12,
          17,
          4,
          -1,
          -1,
          8,
          13,
          -1,
          -1,
          17,
          13,
          5,
          13,
          -1,
          -1,
          6,
          -1,
          4,
          5,
          18,
          14,
          -1,
          14,
          19,
          -1,
          14,
          19,
          12,
          -1,
          15,
          4,
          -1,
          13,
          13,
          11,
          -1,
          4,
          -1,
          -1,
          14,
          -1,
          -1,
          -1,
          18,
          18,
          8,
          7,
          18,
          -1,
          7,
          6,
          15,
          -1,
          4,
          -1,
          16,
          -1,
          -1,
          20,
          19,
          6,
          -1,
          -1,
          18,
          0,
          -1,
          -1,
          20,
          -1,
          -1,
          -1,
          2,
          -1,
          6,
          4,
          -1,
          16,
          6,
          17,
          14,
          -1,
          -1,
          19,
          -1,
          16,
          11,
          -1,
          16,
          -1,
          -1,
          14,
          14,
          6,
          19,
          -1,
          1,
          1,
          5,
          10,
          -1,
          19,
          9,
          5,
          -1,
          -1,
          11,
          19,
          2,
          -1,
          4,
          -1,
          -1,
          -1,
          8,
          7,
          -1,
          20,
          -1,
          -1,
          19,
          -1,
          10,
          -1,
          -1,
          -1,
          -1,
          4,
          -1,
          5,
          17,
          12,
          16,
          -1,
          -1,
          20,
          -1,
          14,
          -1,
          19,
          -1,
          11,
          16,
          9,
          9,
          -1,
          -1,
          10,
          6,
          13,
          13,
          -1,
          -1,
          -1,
          18,
          -1,
          14,
          -1,
          14,
          16,
          -1,
          0,
          2,
          5,
          -1,
          -1,
          8,
          14,
          19,
          -1,
          13,
          -1,
          7,
          13,
          -1,
          9,
          20,
          10,
          8,
          19,
          -1,
          0,
          15,
          -1,
          7,
          14,
          -1,
          0,
          0,
          19,
          -1,
          -1,
          3,
          -1,
          -1,
          -1,
          15,
          -1,
          1,
          -1,
          19,
          -1,
          15,
          -1,
          19,
          6,
          17,
          4,
          13,
          -1,
          14,
          -1,
          -1,
          11,
          6,
          6,
          17,
          16,
          -1,
          10,
          0,
          -1,
          -1,
          7,
          -1,
          -1,
          16,
          7,
          3,
          17,
          19,
          19,
          -1,
          14,
          19,
          16,
          19,
          11,
          -1,
          10,
          -1,
          17,
          -1,
          16
         ],
         "yaxis": "y"
        }
       ],
       "layout": {
        "coloraxis": {
         "colorbar": {
          "title": {
           "text": "lat"
          }
         },
         "colorscale": [
          [
           0,
           "#0d0887"
          ],
          [
           0.1111111111111111,
           "#46039f"
          ],
          [
           0.2222222222222222,
           "#7201a8"
          ],
          [
           0.3333333333333333,
           "#9c179e"
          ],
          [
           0.4444444444444444,
           "#bd3786"
          ],
          [
           0.5555555555555556,
           "#d8576b"
          ],
          [
           0.6666666666666666,
           "#ed7953"
          ],
          [
           0.7777777777777778,
           "#fb9f3a"
          ],
          [
           0.8888888888888888,
           "#fdca26"
          ],
          [
           1,
           "#f0f921"
          ]
         ]
        },
        "legend": {
         "tracegroupgap": 0
        },
        "margin": {
         "t": 60
        },
        "template": {
         "data": {
          "bar": [
           {
            "error_x": {
             "color": "#2a3f5f"
            },
            "error_y": {
             "color": "#2a3f5f"
            },
            "marker": {
             "line": {
              "color": "#E5ECF6",
              "width": 0.5
             },
             "pattern": {
              "fillmode": "overlay",
              "size": 10,
              "solidity": 0.2
             }
            },
            "type": "bar"
           }
          ],
          "barpolar": [
           {
            "marker": {
             "line": {
              "color": "#E5ECF6",
              "width": 0.5
             },
             "pattern": {
              "fillmode": "overlay",
              "size": 10,
              "solidity": 0.2
             }
            },
            "type": "barpolar"
           }
          ],
          "carpet": [
           {
            "aaxis": {
             "endlinecolor": "#2a3f5f",
             "gridcolor": "white",
             "linecolor": "white",
             "minorgridcolor": "white",
             "startlinecolor": "#2a3f5f"
            },
            "baxis": {
             "endlinecolor": "#2a3f5f",
             "gridcolor": "white",
             "linecolor": "white",
             "minorgridcolor": "white",
             "startlinecolor": "#2a3f5f"
            },
            "type": "carpet"
           }
          ],
          "choropleth": [
           {
            "colorbar": {
             "outlinewidth": 0,
             "ticks": ""
            },
            "type": "choropleth"
           }
          ],
          "contour": [
           {
            "colorbar": {
             "outlinewidth": 0,
             "ticks": ""
            },
            "colorscale": [
             [
              0,
              "#0d0887"
             ],
             [
              0.1111111111111111,
              "#46039f"
             ],
             [
              0.2222222222222222,
              "#7201a8"
             ],
             [
              0.3333333333333333,
              "#9c179e"
             ],
             [
              0.4444444444444444,
              "#bd3786"
             ],
             [
              0.5555555555555556,
              "#d8576b"
             ],
             [
              0.6666666666666666,
              "#ed7953"
             ],
             [
              0.7777777777777778,
              "#fb9f3a"
             ],
             [
              0.8888888888888888,
              "#fdca26"
             ],
             [
              1,
              "#f0f921"
             ]
            ],
            "type": "contour"
           }
          ],
          "contourcarpet": [
           {
            "colorbar": {
             "outlinewidth": 0,
             "ticks": ""
            },
            "type": "contourcarpet"
           }
          ],
          "heatmap": [
           {
            "colorbar": {
             "outlinewidth": 0,
             "ticks": ""
            },
            "colorscale": [
             [
              0,
              "#0d0887"
             ],
             [
              0.1111111111111111,
              "#46039f"
             ],
             [
              0.2222222222222222,
              "#7201a8"
             ],
             [
              0.3333333333333333,
              "#9c179e"
             ],
             [
              0.4444444444444444,
              "#bd3786"
             ],
             [
              0.5555555555555556,
              "#d8576b"
             ],
             [
              0.6666666666666666,
              "#ed7953"
             ],
             [
              0.7777777777777778,
              "#fb9f3a"
             ],
             [
              0.8888888888888888,
              "#fdca26"
             ],
             [
              1,
              "#f0f921"
             ]
            ],
            "type": "heatmap"
           }
          ],
          "heatmapgl": [
           {
            "colorbar": {
             "outlinewidth": 0,
             "ticks": ""
            },
            "colorscale": [
             [
              0,
              "#0d0887"
             ],
             [
              0.1111111111111111,
              "#46039f"
             ],
             [
              0.2222222222222222,
              "#7201a8"
             ],
             [
              0.3333333333333333,
              "#9c179e"
             ],
             [
              0.4444444444444444,
              "#bd3786"
             ],
             [
              0.5555555555555556,
              "#d8576b"
             ],
             [
              0.6666666666666666,
              "#ed7953"
             ],
             [
              0.7777777777777778,
              "#fb9f3a"
             ],
             [
              0.8888888888888888,
              "#fdca26"
             ],
             [
              1,
              "#f0f921"
             ]
            ],
            "type": "heatmapgl"
           }
          ],
          "histogram": [
           {
            "marker": {
             "pattern": {
              "fillmode": "overlay",
              "size": 10,
              "solidity": 0.2
             }
            },
            "type": "histogram"
           }
          ],
          "histogram2d": [
           {
            "colorbar": {
             "outlinewidth": 0,
             "ticks": ""
            },
            "colorscale": [
             [
              0,
              "#0d0887"
             ],
             [
              0.1111111111111111,
              "#46039f"
             ],
             [
              0.2222222222222222,
              "#7201a8"
             ],
             [
              0.3333333333333333,
              "#9c179e"
             ],
             [
              0.4444444444444444,
              "#bd3786"
             ],
             [
              0.5555555555555556,
              "#d8576b"
             ],
             [
              0.6666666666666666,
              "#ed7953"
             ],
             [
              0.7777777777777778,
              "#fb9f3a"
             ],
             [
              0.8888888888888888,
              "#fdca26"
             ],
             [
              1,
              "#f0f921"
             ]
            ],
            "type": "histogram2d"
           }
          ],
          "histogram2dcontour": [
           {
            "colorbar": {
             "outlinewidth": 0,
             "ticks": ""
            },
            "colorscale": [
             [
              0,
              "#0d0887"
             ],
             [
              0.1111111111111111,
              "#46039f"
             ],
             [
              0.2222222222222222,
              "#7201a8"
             ],
             [
              0.3333333333333333,
              "#9c179e"
             ],
             [
              0.4444444444444444,
              "#bd3786"
             ],
             [
              0.5555555555555556,
              "#d8576b"
             ],
             [
              0.6666666666666666,
              "#ed7953"
             ],
             [
              0.7777777777777778,
              "#fb9f3a"
             ],
             [
              0.8888888888888888,
              "#fdca26"
             ],
             [
              1,
              "#f0f921"
             ]
            ],
            "type": "histogram2dcontour"
           }
          ],
          "mesh3d": [
           {
            "colorbar": {
             "outlinewidth": 0,
             "ticks": ""
            },
            "type": "mesh3d"
           }
          ],
          "parcoords": [
           {
            "line": {
             "colorbar": {
              "outlinewidth": 0,
              "ticks": ""
             }
            },
            "type": "parcoords"
           }
          ],
          "pie": [
           {
            "automargin": true,
            "type": "pie"
           }
          ],
          "scatter": [
           {
            "fillpattern": {
             "fillmode": "overlay",
             "size": 10,
             "solidity": 0.2
            },
            "type": "scatter"
           }
          ],
          "scatter3d": [
           {
            "line": {
             "colorbar": {
              "outlinewidth": 0,
              "ticks": ""
             }
            },
            "marker": {
             "colorbar": {
              "outlinewidth": 0,
              "ticks": ""
             }
            },
            "type": "scatter3d"
           }
          ],
          "scattercarpet": [
           {
            "marker": {
             "colorbar": {
              "outlinewidth": 0,
              "ticks": ""
             }
            },
            "type": "scattercarpet"
           }
          ],
          "scattergeo": [
           {
            "marker": {
             "colorbar": {
              "outlinewidth": 0,
              "ticks": ""
             }
            },
            "type": "scattergeo"
           }
          ],
          "scattergl": [
           {
            "marker": {
             "colorbar": {
              "outlinewidth": 0,
              "ticks": ""
             }
            },
            "type": "scattergl"
           }
          ],
          "scattermapbox": [
           {
            "marker": {
             "colorbar": {
              "outlinewidth": 0,
              "ticks": ""
             }
            },
            "type": "scattermapbox"
           }
          ],
          "scatterpolar": [
           {
            "marker": {
             "colorbar": {
              "outlinewidth": 0,
              "ticks": ""
             }
            },
            "type": "scatterpolar"
           }
          ],
          "scatterpolargl": [
           {
            "marker": {
             "colorbar": {
              "outlinewidth": 0,
              "ticks": ""
             }
            },
            "type": "scatterpolargl"
           }
          ],
          "scatterternary": [
           {
            "marker": {
             "colorbar": {
              "outlinewidth": 0,
              "ticks": ""
             }
            },
            "type": "scatterternary"
           }
          ],
          "surface": [
           {
            "colorbar": {
             "outlinewidth": 0,
             "ticks": ""
            },
            "colorscale": [
             [
              0,
              "#0d0887"
             ],
             [
              0.1111111111111111,
              "#46039f"
             ],
             [
              0.2222222222222222,
              "#7201a8"
             ],
             [
              0.3333333333333333,
              "#9c179e"
             ],
             [
              0.4444444444444444,
              "#bd3786"
             ],
             [
              0.5555555555555556,
              "#d8576b"
             ],
             [
              0.6666666666666666,
              "#ed7953"
             ],
             [
              0.7777777777777778,
              "#fb9f3a"
             ],
             [
              0.8888888888888888,
              "#fdca26"
             ],
             [
              1,
              "#f0f921"
             ]
            ],
            "type": "surface"
           }
          ],
          "table": [
           {
            "cells": {
             "fill": {
              "color": "#EBF0F8"
             },
             "line": {
              "color": "white"
             }
            },
            "header": {
             "fill": {
              "color": "#C8D4E3"
             },
             "line": {
              "color": "white"
             }
            },
            "type": "table"
           }
          ]
         },
         "layout": {
          "annotationdefaults": {
           "arrowcolor": "#2a3f5f",
           "arrowhead": 0,
           "arrowwidth": 1
          },
          "autotypenumbers": "strict",
          "coloraxis": {
           "colorbar": {
            "outlinewidth": 0,
            "ticks": ""
           }
          },
          "colorscale": {
           "diverging": [
            [
             0,
             "#8e0152"
            ],
            [
             0.1,
             "#c51b7d"
            ],
            [
             0.2,
             "#de77ae"
            ],
            [
             0.3,
             "#f1b6da"
            ],
            [
             0.4,
             "#fde0ef"
            ],
            [
             0.5,
             "#f7f7f7"
            ],
            [
             0.6,
             "#e6f5d0"
            ],
            [
             0.7,
             "#b8e186"
            ],
            [
             0.8,
             "#7fbc41"
            ],
            [
             0.9,
             "#4d9221"
            ],
            [
             1,
             "#276419"
            ]
           ],
           "sequential": [
            [
             0,
             "#0d0887"
            ],
            [
             0.1111111111111111,
             "#46039f"
            ],
            [
             0.2222222222222222,
             "#7201a8"
            ],
            [
             0.3333333333333333,
             "#9c179e"
            ],
            [
             0.4444444444444444,
             "#bd3786"
            ],
            [
             0.5555555555555556,
             "#d8576b"
            ],
            [
             0.6666666666666666,
             "#ed7953"
            ],
            [
             0.7777777777777778,
             "#fb9f3a"
            ],
            [
             0.8888888888888888,
             "#fdca26"
            ],
            [
             1,
             "#f0f921"
            ]
           ],
           "sequentialminus": [
            [
             0,
             "#0d0887"
            ],
            [
             0.1111111111111111,
             "#46039f"
            ],
            [
             0.2222222222222222,
             "#7201a8"
            ],
            [
             0.3333333333333333,
             "#9c179e"
            ],
            [
             0.4444444444444444,
             "#bd3786"
            ],
            [
             0.5555555555555556,
             "#d8576b"
            ],
            [
             0.6666666666666666,
             "#ed7953"
            ],
            [
             0.7777777777777778,
             "#fb9f3a"
            ],
            [
             0.8888888888888888,
             "#fdca26"
            ],
            [
             1,
             "#f0f921"
            ]
           ]
          },
          "colorway": [
           "#636efa",
           "#EF553B",
           "#00cc96",
           "#ab63fa",
           "#FFA15A",
           "#19d3f3",
           "#FF6692",
           "#B6E880",
           "#FF97FF",
           "#FECB52"
          ],
          "font": {
           "color": "#2a3f5f"
          },
          "geo": {
           "bgcolor": "white",
           "lakecolor": "white",
           "landcolor": "#E5ECF6",
           "showlakes": true,
           "showland": true,
           "subunitcolor": "white"
          },
          "hoverlabel": {
           "align": "left"
          },
          "hovermode": "closest",
          "mapbox": {
           "style": "light"
          },
          "paper_bgcolor": "white",
          "plot_bgcolor": "#E5ECF6",
          "polar": {
           "angularaxis": {
            "gridcolor": "white",
            "linecolor": "white",
            "ticks": ""
           },
           "bgcolor": "#E5ECF6",
           "radialaxis": {
            "gridcolor": "white",
            "linecolor": "white",
            "ticks": ""
           }
          },
          "scene": {
           "xaxis": {
            "backgroundcolor": "#E5ECF6",
            "gridcolor": "white",
            "gridwidth": 2,
            "linecolor": "white",
            "showbackground": true,
            "ticks": "",
            "zerolinecolor": "white"
           },
           "yaxis": {
            "backgroundcolor": "#E5ECF6",
            "gridcolor": "white",
            "gridwidth": 2,
            "linecolor": "white",
            "showbackground": true,
            "ticks": "",
            "zerolinecolor": "white"
           },
           "zaxis": {
            "backgroundcolor": "#E5ECF6",
            "gridcolor": "white",
            "gridwidth": 2,
            "linecolor": "white",
            "showbackground": true,
            "ticks": "",
            "zerolinecolor": "white"
           }
          },
          "shapedefaults": {
           "line": {
            "color": "#2a3f5f"
           }
          },
          "ternary": {
           "aaxis": {
            "gridcolor": "white",
            "linecolor": "white",
            "ticks": ""
           },
           "baxis": {
            "gridcolor": "white",
            "linecolor": "white",
            "ticks": ""
           },
           "bgcolor": "#E5ECF6",
           "caxis": {
            "gridcolor": "white",
            "linecolor": "white",
            "ticks": ""
           }
          },
          "title": {
           "x": 0.05
          },
          "xaxis": {
           "automargin": true,
           "gridcolor": "white",
           "linecolor": "white",
           "ticks": "",
           "title": {
            "standoff": 15
           },
           "zerolinecolor": "white",
           "zerolinewidth": 2
          },
          "yaxis": {
           "automargin": true,
           "gridcolor": "white",
           "linecolor": "white",
           "ticks": "",
           "title": {
            "standoff": 15
           },
           "zerolinecolor": "white",
           "zerolinewidth": 2
          }
         }
        },
        "width": 1000,
        "xaxis": {
         "anchor": "y",
         "domain": [
          0,
          1
         ],
         "title": {
          "text": "year"
         }
        },
        "yaxis": {
         "anchor": "x",
         "domain": [
          0,
          1
         ],
         "title": {
          "text": "dbscan_cluster"
         }
        }
       }
      }
     },
     "metadata": {},
     "output_type": "display_data"
    },
    {
     "data": {
      "application/vnd.plotly.v1+json": {
       "config": {
        "plotlyServerURL": "https://plot.ly"
       },
       "data": [
        {
         "hovertemplate": "year=%{x}<br>kmeans_cluster=%{y}<br>lat=%{marker.color}<extra></extra>",
         "legendgroup": "",
         "marker": {
          "color": [
           -0.11228068670108625,
           -0.11228068670108625,
           -0.11228068670108625,
           -0.11456882313834421,
           -0.11339449045699256,
           -0.11395706755749815,
           -0.11395706755749815,
           -0.11395706755749815,
           -0.11395706755749815,
           -0.11395706755749815,
           -0.11383723983201587,
           -0.11383723983201587,
           -0.11233222954997009,
           -0.1131945040262111,
           -0.1131945040262111,
           -0.1126574700770706,
           -0.11244672036411389,
           -0.11244672036411389,
           -0.11244672036411389,
           -0.11244672036411389,
           -0.11297298112443188,
           -0.11297298112443188,
           -0.11297298112443188,
           -0.11297298112443188,
           -0.11297298112443188,
           -0.11297298112443188,
           -0.11297298112443188,
           -0.1129992907310988,
           -0.1129992907310988,
           -0.1129992907310988,
           -0.1129992907310988,
           -0.1129992907310988,
           -0.1129992907310988,
           -0.1129992907310988,
           -0.1129992907310988,
           -0.1129992907310988,
           -0.1129992907310988,
           -0.1129992907310988,
           -0.1129992907310988,
           -0.1125774595211158,
           -0.11346183787629577,
           -0.11342400012925925,
           -0.11342400012925925,
           -0.11372369064777949,
           -0.11216389090877976,
           -0.11216389090877976,
           -0.11398814888692017,
           -0.11198080485310229,
           -0.11198080485310229,
           -0.11198080485310229,
           -0.11198080485310229,
           -0.11250594260566206,
           -0.11250594260566206,
           -0.11300991115230247,
           -0.11300991115230247,
           -0.11300991115230247,
           -0.11300991115230247,
           -0.11300991115230247,
           -0.11300991115230247,
           -0.1156324378352241,
           -0.1156324378352241,
           -0.1156324378352241,
           -0.1156324378352241,
           -0.1156324378352241,
           -0.11339449045699256,
           -0.11339449045699256,
           -0.11395706755749815,
           -0.11395706755749815,
           -0.11383723983201587,
           -0.11383723983201587,
           -0.11297298112443188,
           -0.11297298112443188,
           -0.11297298112443188,
           -0.11297298112443188,
           -0.1129992907310988,
           -0.1129992907310988,
           -0.11300991115230247,
           -0.11339449045699256,
           -0.11339449045699256,
           -0.11339449045699256,
           -0.11339449045699256,
           -0.11395706755749815,
           -0.11395706755749815,
           -0.11395706755749815,
           -0.11395706755749815,
           -0.11383723983201587,
           -0.11309215964823417,
           -0.1134348626183151,
           8.817592106919037,
           -0.1126574700770706,
           -0.11297298112443188,
           -0.11297298112443188,
           -0.11346183787629577,
           -0.11321815931904318,
           -0.11321815931904318,
           -0.11321815931904318,
           -0.11360038199266671,
           -0.11376131389077178,
           -0.11398814888692017,
           -0.11198080485310229,
           -0.11264095198177168,
           -0.11376131389077178,
           -0.11425992056990907,
           -0.11339449045699256,
           -0.11395706755749815,
           -0.11383723983201587,
           -0.11383723983201587,
           -0.1131945040262111,
           -0.1131945040262111,
           -0.1131945040262111,
           -0.11364451213664582,
           -0.11297298112443188,
           -0.11372369064777949,
           -0.11339449045699256,
           -0.11360038199266671,
           -0.11360038199266671,
           -0.11512495036010557,
           -0.11512495036010557,
           -0.11339449045699256,
           -0.11339449045699256,
           -0.11339449045699256,
           -0.11395706755749815,
           -0.11395706755749815,
           -0.11395706755749815,
           -0.11383723983201587,
           -0.1131945040262111,
           -0.1131945040262111,
           -0.11198080485310229,
           -0.11198080485310229,
           -0.1126574700770706,
           -0.11297298112443188,
           -0.11297298112443188,
           -0.11297298112443188,
           -0.1156324378352241,
           -0.11264095198177168,
           -0.11360038199266671,
           -0.11360038199266671,
           -0.11512495036010557,
           -0.11198080485310229,
           -0.11198080485310229,
           -0.11198080485310229,
           -0.11198080485310229,
           -0.11198080485310229,
           -0.11250594260566206,
           -0.11300991115230247,
           -0.11300991115230247,
           -0.11300991115230247,
           -0.11376131389077178,
           -0.11425992056990907,
           -0.11456882313834421,
           -0.11233222954997009,
           -0.11233222954997009,
           -0.11233222954997009,
           -0.11228068670108625,
           -0.1126574700770706,
           -0.1126574700770706,
           -0.11297298112443188,
           -0.1129992907310988,
           -0.1129992907310988,
           -0.11395706755749815,
           -0.11383723983201587,
           -0.11233222954997009,
           -0.11321815931904318,
           -0.11364451213664582,
           8.817592106919037,
           8.817592106919037,
           -0.11512495036010557,
           -0.11198080485310229,
           -0.11346183787629577,
           -0.11477977599499259,
           -0.11321815931904318,
           -0.11321815931904318,
           -0.11300991115230247,
           -0.11300991115230247,
           -0.11512495036010557,
           -0.1145429298158163,
           -0.1145429298158163,
           -0.11398814888692017,
           -0.11398814888692017,
           -0.11398814888692017,
           -0.11398814888692017,
           -0.11198080485310229,
           -0.11671986043038995,
           -0.1156324378352241,
           -0.1156324378352241,
           -0.11339449045699256,
           -0.11339449045699256,
           -0.11339449045699256,
           -0.11339449045699256,
           -0.11233222954997009,
           -0.11393455631650741,
           -0.11349460662562118,
           -0.11321815931904318,
           -0.11360038199266671,
           -0.11512495036010557,
           -0.11198080485310229,
           -0.11198080485310229,
           -0.11198080485310229,
           -0.11300991115230247,
           -0.11300991115230247,
           -0.1145429298158163,
           -0.11456882313834421,
           -0.11288705322671388,
           -0.11288705322671388,
           -0.11288705322671388,
           -0.11309215964823417,
           -0.1131945040262111,
           -0.1125774595211158,
           -0.11346183787629577,
           -0.11456882313834421,
           -0.11339449045699256,
           -0.11393455631650741,
           -0.11216389090877976,
           -0.11321815931904318,
           -0.11395706755749815,
           -0.11395706755749815,
           -0.11360038199266671,
           -0.11360038199266671,
           -0.11360038199266671,
           -0.1134348626183151,
           -0.11297298112443188,
           -0.1129992907310988,
           -0.1129992907310988,
           -0.11198080485310229,
           -0.11198080485310229,
           -0.11671986043038995,
           -0.11215013439116187,
           -0.1156622291040472,
           -0.1156622291040472,
           -0.11300991115230247,
           -0.11300991115230247,
           -0.11264095198177168,
           -0.11425992056990907,
           -0.11398814888692017,
           -0.1145429298158163,
           -0.11198080485310229,
           -0.11198080485310229,
           -0.11477977599499259,
           -0.11228068670108625,
           -0.11228068670108625,
           -0.11228068670108625,
           -0.11228068670108625,
           -0.11456882313834421,
           -0.11456882313834421,
           -0.11339449045699256,
           -0.11339449045699256,
           -0.11339449045699256,
           -0.11339449045699256,
           -0.11339449045699256,
           -0.11339449045699256,
           -0.11339449045699256,
           -0.11339449045699256,
           -0.11395706755749815,
           -0.11395706755749815,
           -0.11395706755749815,
           -0.11395706755749815,
           -0.11288705322671388,
           -0.1131945040262111,
           -0.1134348626183151,
           8.817592106919037,
           -0.11281301371753301,
           -0.1126574700770706,
           -0.1126574700770706,
           -0.1126574700770706,
           -0.1126574700770706,
           -0.1126574700770706,
           -0.11297298112443188,
           -0.11297298112443188,
           -0.11297298112443188,
           -0.11297298112443188,
           -0.11297298112443188,
           -0.11297298112443188,
           -0.11297298112443188,
           -0.11297298112443188,
           -0.1129992907310988,
           -0.1129992907310988,
           -0.1129992907310988,
           -0.11346183787629577,
           -0.11342400012925925,
           -0.11372369064777949,
           -0.11372369064777949,
           -0.11384746931170454,
           -0.11215013439116187,
           -0.11321815931904318,
           -0.11321815931904318,
           -0.11321815931904318,
           -0.11321815931904318,
           -0.11360038199266671,
           -0.11360038199266671,
           -0.11360038199266671,
           -0.11360038199266671,
           -0.11360038199266671,
           -0.11512495036010557,
           -0.11512495036010557,
           -0.11512495036010557,
           -0.11512495036010557,
           -0.11512495036010557,
           -0.11398814888692017,
           -0.11398814888692017,
           -0.11398814888692017,
           -0.11198080485310229,
           -0.11671986043038995,
           -0.11671986043038995,
           -0.11671986043038995,
           -0.11250594260566206,
           -0.11250594260566206,
           -0.11477977599499259,
           -0.11369430034334145,
           -0.1156324378352241,
           -0.11264095198177168,
           -0.11264095198177168,
           -0.11264095198177168,
           -0.11376131389077178,
           -0.1145429298158163,
           -0.1145429298158163
          ],
          "coloraxis": "coloraxis",
          "symbol": "circle"
         },
         "mode": "markers",
         "name": "",
         "orientation": "v",
         "showlegend": false,
         "type": "scatter",
         "x": [
          2023,
          2023,
          2023,
          2019,
          2021,
          2019,
          2019,
          2019,
          2023,
          2018,
          2022,
          2020,
          2022,
          2022,
          2019,
          2020,
          2021,
          2020,
          2020,
          2019,
          2022,
          2022,
          2022,
          2021,
          2021,
          2020,
          2019,
          2022,
          2022,
          2021,
          2021,
          2021,
          2020,
          2020,
          2020,
          2020,
          2020,
          2021,
          2020,
          2023,
          2020,
          2018,
          2020,
          2020,
          2020,
          2018,
          2023,
          2021,
          2020,
          2019,
          2018,
          2020,
          2020,
          2021,
          2022,
          2021,
          2020,
          2019,
          2019,
          2019,
          2019,
          2020,
          2020,
          2019,
          2017,
          2017,
          2017,
          2017,
          2017,
          2017,
          2017,
          2017,
          2017,
          2017,
          2017,
          2017,
          2017,
          2010,
          2010,
          2010,
          2010,
          2010,
          2010,
          2010,
          2010,
          2010,
          2010,
          2010,
          2010,
          2010,
          2010,
          2010,
          2010,
          2010,
          2010,
          2010,
          2010,
          2010,
          2010,
          2010,
          2010,
          2010,
          2010,
          2014,
          2014,
          2014,
          2014,
          2014,
          2014,
          2014,
          2014,
          2014,
          2014,
          2011,
          2014,
          2014,
          2014,
          2014,
          2011,
          2011,
          2011,
          2011,
          2011,
          2011,
          2011,
          2011,
          2011,
          2014,
          2014,
          2011,
          2011,
          2011,
          2011,
          2014,
          2014,
          2011,
          2011,
          2011,
          2011,
          2011,
          2011,
          2011,
          2011,
          2011,
          2011,
          2011,
          2011,
          2011,
          2011,
          2016,
          2016,
          2016,
          2016,
          2015,
          2016,
          2016,
          2016,
          2016,
          2016,
          2015,
          2015,
          2015,
          2016,
          2015,
          2015,
          2015,
          2016,
          2016,
          2015,
          2016,
          2015,
          2015,
          2016,
          2016,
          2015,
          2016,
          2016,
          2015,
          2015,
          2015,
          2015,
          2015,
          2015,
          2015,
          2015,
          2012,
          2012,
          2012,
          2012,
          2012,
          2012,
          2012,
          2012,
          2012,
          2012,
          2012,
          2012,
          2012,
          2012,
          2012,
          2012,
          2013,
          2013,
          2013,
          2013,
          2013,
          2013,
          2013,
          2013,
          2009,
          2009,
          2013,
          2013,
          2013,
          2009,
          2009,
          2013,
          2013,
          2013,
          2009,
          2009,
          2009,
          2009,
          2013,
          2013,
          2013,
          2009,
          2013,
          2013,
          2013,
          2013,
          2013,
          2013,
          2009,
          2013,
          2009,
          2009,
          2009,
          2006,
          2006,
          2005,
          2005,
          2007,
          2006,
          2006,
          2006,
          2006,
          2005,
          2005,
          2007,
          2007,
          2006,
          2006,
          2008,
          2007,
          2007,
          2007,
          2006,
          2007,
          2007,
          2005,
          2007,
          2006,
          2006,
          2005,
          2006,
          2008,
          2006,
          2008,
          2008,
          2007,
          2007,
          2006,
          2006,
          2006,
          2007,
          2006,
          2005,
          2005,
          2007,
          2007,
          2006,
          2007,
          2007,
          2006,
          2005,
          2005,
          2008,
          2008,
          2007,
          2006,
          2006,
          2008,
          2007,
          2006,
          2007,
          2007,
          2008,
          2008,
          2006,
          2007,
          2006,
          2006,
          2007,
          2008,
          2005,
          2008,
          2007,
          2008,
          2006,
          2006,
          2006,
          2007,
          2005,
          2005
         ],
         "xaxis": "x",
         "y": [
          1,
          4,
          4,
          2,
          2,
          2,
          2,
          3,
          1,
          1,
          1,
          1,
          3,
          2,
          1,
          0,
          2,
          0,
          3,
          0,
          3,
          2,
          3,
          3,
          2,
          3,
          2,
          4,
          2,
          2,
          4,
          4,
          2,
          1,
          4,
          2,
          3,
          3,
          2,
          4,
          3,
          3,
          0,
          0,
          2,
          2,
          2,
          3,
          2,
          3,
          0,
          2,
          4,
          3,
          0,
          3,
          4,
          0,
          0,
          2,
          3,
          3,
          3,
          3,
          3,
          3,
          2,
          4,
          3,
          4,
          4,
          0,
          2,
          3,
          0,
          0,
          2,
          3,
          3,
          0,
          0,
          3,
          3,
          0,
          3,
          4,
          4,
          3,
          0,
          0,
          0,
          0,
          0,
          0,
          0,
          0,
          0,
          0,
          0,
          2,
          0,
          3,
          0,
          0,
          3,
          3,
          2,
          0,
          0,
          0,
          0,
          0,
          3,
          0,
          0,
          0,
          0,
          3,
          3,
          0,
          0,
          3,
          3,
          3,
          4,
          0,
          0,
          3,
          0,
          0,
          0,
          0,
          3,
          2,
          0,
          0,
          2,
          0,
          0,
          0,
          0,
          0,
          0,
          3,
          0,
          3,
          0,
          0,
          3,
          3,
          3,
          0,
          0,
          0,
          0,
          2,
          3,
          2,
          0,
          3,
          0,
          0,
          0,
          0,
          3,
          0,
          1,
          2,
          2,
          0,
          3,
          0,
          0,
          2,
          0,
          0,
          0,
          2,
          0,
          3,
          0,
          0,
          1,
          2,
          4,
          3,
          3,
          0,
          0,
          0,
          0,
          0,
          2,
          3,
          0,
          2,
          0,
          0,
          0,
          0,
          0,
          3,
          2,
          3,
          0,
          0,
          0,
          0,
          0,
          0,
          0,
          0,
          2,
          3,
          2,
          2,
          4,
          4,
          3,
          3,
          3,
          3,
          3,
          0,
          2,
          0,
          3,
          0,
          0,
          0,
          3,
          2,
          2,
          3,
          0,
          0,
          0,
          3,
          0,
          0,
          0,
          3,
          2,
          3,
          3,
          0,
          2,
          0,
          3,
          3,
          0,
          0,
          2,
          3,
          0,
          3,
          0,
          1,
          2,
          2,
          0,
          0,
          0,
          3,
          4,
          0,
          1,
          3,
          0,
          2,
          0,
          0,
          0,
          3,
          0,
          0,
          3,
          3,
          0,
          3,
          4,
          0,
          4,
          2,
          2,
          3,
          3,
          3,
          3,
          0,
          3,
          2,
          1,
          4,
          3,
          1,
          1,
          3,
          3,
          3,
          3,
          0,
          0,
          1,
          0,
          0,
          3,
          0,
          2,
          0,
          3,
          0,
          3,
          0,
          3
         ],
         "yaxis": "y"
        }
       ],
       "layout": {
        "coloraxis": {
         "colorbar": {
          "title": {
           "text": "lat"
          }
         },
         "colorscale": [
          [
           0,
           "#0d0887"
          ],
          [
           0.1111111111111111,
           "#46039f"
          ],
          [
           0.2222222222222222,
           "#7201a8"
          ],
          [
           0.3333333333333333,
           "#9c179e"
          ],
          [
           0.4444444444444444,
           "#bd3786"
          ],
          [
           0.5555555555555556,
           "#d8576b"
          ],
          [
           0.6666666666666666,
           "#ed7953"
          ],
          [
           0.7777777777777778,
           "#fb9f3a"
          ],
          [
           0.8888888888888888,
           "#fdca26"
          ],
          [
           1,
           "#f0f921"
          ]
         ]
        },
        "legend": {
         "tracegroupgap": 0
        },
        "margin": {
         "t": 60
        },
        "template": {
         "data": {
          "bar": [
           {
            "error_x": {
             "color": "#2a3f5f"
            },
            "error_y": {
             "color": "#2a3f5f"
            },
            "marker": {
             "line": {
              "color": "#E5ECF6",
              "width": 0.5
             },
             "pattern": {
              "fillmode": "overlay",
              "size": 10,
              "solidity": 0.2
             }
            },
            "type": "bar"
           }
          ],
          "barpolar": [
           {
            "marker": {
             "line": {
              "color": "#E5ECF6",
              "width": 0.5
             },
             "pattern": {
              "fillmode": "overlay",
              "size": 10,
              "solidity": 0.2
             }
            },
            "type": "barpolar"
           }
          ],
          "carpet": [
           {
            "aaxis": {
             "endlinecolor": "#2a3f5f",
             "gridcolor": "white",
             "linecolor": "white",
             "minorgridcolor": "white",
             "startlinecolor": "#2a3f5f"
            },
            "baxis": {
             "endlinecolor": "#2a3f5f",
             "gridcolor": "white",
             "linecolor": "white",
             "minorgridcolor": "white",
             "startlinecolor": "#2a3f5f"
            },
            "type": "carpet"
           }
          ],
          "choropleth": [
           {
            "colorbar": {
             "outlinewidth": 0,
             "ticks": ""
            },
            "type": "choropleth"
           }
          ],
          "contour": [
           {
            "colorbar": {
             "outlinewidth": 0,
             "ticks": ""
            },
            "colorscale": [
             [
              0,
              "#0d0887"
             ],
             [
              0.1111111111111111,
              "#46039f"
             ],
             [
              0.2222222222222222,
              "#7201a8"
             ],
             [
              0.3333333333333333,
              "#9c179e"
             ],
             [
              0.4444444444444444,
              "#bd3786"
             ],
             [
              0.5555555555555556,
              "#d8576b"
             ],
             [
              0.6666666666666666,
              "#ed7953"
             ],
             [
              0.7777777777777778,
              "#fb9f3a"
             ],
             [
              0.8888888888888888,
              "#fdca26"
             ],
             [
              1,
              "#f0f921"
             ]
            ],
            "type": "contour"
           }
          ],
          "contourcarpet": [
           {
            "colorbar": {
             "outlinewidth": 0,
             "ticks": ""
            },
            "type": "contourcarpet"
           }
          ],
          "heatmap": [
           {
            "colorbar": {
             "outlinewidth": 0,
             "ticks": ""
            },
            "colorscale": [
             [
              0,
              "#0d0887"
             ],
             [
              0.1111111111111111,
              "#46039f"
             ],
             [
              0.2222222222222222,
              "#7201a8"
             ],
             [
              0.3333333333333333,
              "#9c179e"
             ],
             [
              0.4444444444444444,
              "#bd3786"
             ],
             [
              0.5555555555555556,
              "#d8576b"
             ],
             [
              0.6666666666666666,
              "#ed7953"
             ],
             [
              0.7777777777777778,
              "#fb9f3a"
             ],
             [
              0.8888888888888888,
              "#fdca26"
             ],
             [
              1,
              "#f0f921"
             ]
            ],
            "type": "heatmap"
           }
          ],
          "heatmapgl": [
           {
            "colorbar": {
             "outlinewidth": 0,
             "ticks": ""
            },
            "colorscale": [
             [
              0,
              "#0d0887"
             ],
             [
              0.1111111111111111,
              "#46039f"
             ],
             [
              0.2222222222222222,
              "#7201a8"
             ],
             [
              0.3333333333333333,
              "#9c179e"
             ],
             [
              0.4444444444444444,
              "#bd3786"
             ],
             [
              0.5555555555555556,
              "#d8576b"
             ],
             [
              0.6666666666666666,
              "#ed7953"
             ],
             [
              0.7777777777777778,
              "#fb9f3a"
             ],
             [
              0.8888888888888888,
              "#fdca26"
             ],
             [
              1,
              "#f0f921"
             ]
            ],
            "type": "heatmapgl"
           }
          ],
          "histogram": [
           {
            "marker": {
             "pattern": {
              "fillmode": "overlay",
              "size": 10,
              "solidity": 0.2
             }
            },
            "type": "histogram"
           }
          ],
          "histogram2d": [
           {
            "colorbar": {
             "outlinewidth": 0,
             "ticks": ""
            },
            "colorscale": [
             [
              0,
              "#0d0887"
             ],
             [
              0.1111111111111111,
              "#46039f"
             ],
             [
              0.2222222222222222,
              "#7201a8"
             ],
             [
              0.3333333333333333,
              "#9c179e"
             ],
             [
              0.4444444444444444,
              "#bd3786"
             ],
             [
              0.5555555555555556,
              "#d8576b"
             ],
             [
              0.6666666666666666,
              "#ed7953"
             ],
             [
              0.7777777777777778,
              "#fb9f3a"
             ],
             [
              0.8888888888888888,
              "#fdca26"
             ],
             [
              1,
              "#f0f921"
             ]
            ],
            "type": "histogram2d"
           }
          ],
          "histogram2dcontour": [
           {
            "colorbar": {
             "outlinewidth": 0,
             "ticks": ""
            },
            "colorscale": [
             [
              0,
              "#0d0887"
             ],
             [
              0.1111111111111111,
              "#46039f"
             ],
             [
              0.2222222222222222,
              "#7201a8"
             ],
             [
              0.3333333333333333,
              "#9c179e"
             ],
             [
              0.4444444444444444,
              "#bd3786"
             ],
             [
              0.5555555555555556,
              "#d8576b"
             ],
             [
              0.6666666666666666,
              "#ed7953"
             ],
             [
              0.7777777777777778,
              "#fb9f3a"
             ],
             [
              0.8888888888888888,
              "#fdca26"
             ],
             [
              1,
              "#f0f921"
             ]
            ],
            "type": "histogram2dcontour"
           }
          ],
          "mesh3d": [
           {
            "colorbar": {
             "outlinewidth": 0,
             "ticks": ""
            },
            "type": "mesh3d"
           }
          ],
          "parcoords": [
           {
            "line": {
             "colorbar": {
              "outlinewidth": 0,
              "ticks": ""
             }
            },
            "type": "parcoords"
           }
          ],
          "pie": [
           {
            "automargin": true,
            "type": "pie"
           }
          ],
          "scatter": [
           {
            "fillpattern": {
             "fillmode": "overlay",
             "size": 10,
             "solidity": 0.2
            },
            "type": "scatter"
           }
          ],
          "scatter3d": [
           {
            "line": {
             "colorbar": {
              "outlinewidth": 0,
              "ticks": ""
             }
            },
            "marker": {
             "colorbar": {
              "outlinewidth": 0,
              "ticks": ""
             }
            },
            "type": "scatter3d"
           }
          ],
          "scattercarpet": [
           {
            "marker": {
             "colorbar": {
              "outlinewidth": 0,
              "ticks": ""
             }
            },
            "type": "scattercarpet"
           }
          ],
          "scattergeo": [
           {
            "marker": {
             "colorbar": {
              "outlinewidth": 0,
              "ticks": ""
             }
            },
            "type": "scattergeo"
           }
          ],
          "scattergl": [
           {
            "marker": {
             "colorbar": {
              "outlinewidth": 0,
              "ticks": ""
             }
            },
            "type": "scattergl"
           }
          ],
          "scattermapbox": [
           {
            "marker": {
             "colorbar": {
              "outlinewidth": 0,
              "ticks": ""
             }
            },
            "type": "scattermapbox"
           }
          ],
          "scatterpolar": [
           {
            "marker": {
             "colorbar": {
              "outlinewidth": 0,
              "ticks": ""
             }
            },
            "type": "scatterpolar"
           }
          ],
          "scatterpolargl": [
           {
            "marker": {
             "colorbar": {
              "outlinewidth": 0,
              "ticks": ""
             }
            },
            "type": "scatterpolargl"
           }
          ],
          "scatterternary": [
           {
            "marker": {
             "colorbar": {
              "outlinewidth": 0,
              "ticks": ""
             }
            },
            "type": "scatterternary"
           }
          ],
          "surface": [
           {
            "colorbar": {
             "outlinewidth": 0,
             "ticks": ""
            },
            "colorscale": [
             [
              0,
              "#0d0887"
             ],
             [
              0.1111111111111111,
              "#46039f"
             ],
             [
              0.2222222222222222,
              "#7201a8"
             ],
             [
              0.3333333333333333,
              "#9c179e"
             ],
             [
              0.4444444444444444,
              "#bd3786"
             ],
             [
              0.5555555555555556,
              "#d8576b"
             ],
             [
              0.6666666666666666,
              "#ed7953"
             ],
             [
              0.7777777777777778,
              "#fb9f3a"
             ],
             [
              0.8888888888888888,
              "#fdca26"
             ],
             [
              1,
              "#f0f921"
             ]
            ],
            "type": "surface"
           }
          ],
          "table": [
           {
            "cells": {
             "fill": {
              "color": "#EBF0F8"
             },
             "line": {
              "color": "white"
             }
            },
            "header": {
             "fill": {
              "color": "#C8D4E3"
             },
             "line": {
              "color": "white"
             }
            },
            "type": "table"
           }
          ]
         },
         "layout": {
          "annotationdefaults": {
           "arrowcolor": "#2a3f5f",
           "arrowhead": 0,
           "arrowwidth": 1
          },
          "autotypenumbers": "strict",
          "coloraxis": {
           "colorbar": {
            "outlinewidth": 0,
            "ticks": ""
           }
          },
          "colorscale": {
           "diverging": [
            [
             0,
             "#8e0152"
            ],
            [
             0.1,
             "#c51b7d"
            ],
            [
             0.2,
             "#de77ae"
            ],
            [
             0.3,
             "#f1b6da"
            ],
            [
             0.4,
             "#fde0ef"
            ],
            [
             0.5,
             "#f7f7f7"
            ],
            [
             0.6,
             "#e6f5d0"
            ],
            [
             0.7,
             "#b8e186"
            ],
            [
             0.8,
             "#7fbc41"
            ],
            [
             0.9,
             "#4d9221"
            ],
            [
             1,
             "#276419"
            ]
           ],
           "sequential": [
            [
             0,
             "#0d0887"
            ],
            [
             0.1111111111111111,
             "#46039f"
            ],
            [
             0.2222222222222222,
             "#7201a8"
            ],
            [
             0.3333333333333333,
             "#9c179e"
            ],
            [
             0.4444444444444444,
             "#bd3786"
            ],
            [
             0.5555555555555556,
             "#d8576b"
            ],
            [
             0.6666666666666666,
             "#ed7953"
            ],
            [
             0.7777777777777778,
             "#fb9f3a"
            ],
            [
             0.8888888888888888,
             "#fdca26"
            ],
            [
             1,
             "#f0f921"
            ]
           ],
           "sequentialminus": [
            [
             0,
             "#0d0887"
            ],
            [
             0.1111111111111111,
             "#46039f"
            ],
            [
             0.2222222222222222,
             "#7201a8"
            ],
            [
             0.3333333333333333,
             "#9c179e"
            ],
            [
             0.4444444444444444,
             "#bd3786"
            ],
            [
             0.5555555555555556,
             "#d8576b"
            ],
            [
             0.6666666666666666,
             "#ed7953"
            ],
            [
             0.7777777777777778,
             "#fb9f3a"
            ],
            [
             0.8888888888888888,
             "#fdca26"
            ],
            [
             1,
             "#f0f921"
            ]
           ]
          },
          "colorway": [
           "#636efa",
           "#EF553B",
           "#00cc96",
           "#ab63fa",
           "#FFA15A",
           "#19d3f3",
           "#FF6692",
           "#B6E880",
           "#FF97FF",
           "#FECB52"
          ],
          "font": {
           "color": "#2a3f5f"
          },
          "geo": {
           "bgcolor": "white",
           "lakecolor": "white",
           "landcolor": "#E5ECF6",
           "showlakes": true,
           "showland": true,
           "subunitcolor": "white"
          },
          "hoverlabel": {
           "align": "left"
          },
          "hovermode": "closest",
          "mapbox": {
           "style": "light"
          },
          "paper_bgcolor": "white",
          "plot_bgcolor": "#E5ECF6",
          "polar": {
           "angularaxis": {
            "gridcolor": "white",
            "linecolor": "white",
            "ticks": ""
           },
           "bgcolor": "#E5ECF6",
           "radialaxis": {
            "gridcolor": "white",
            "linecolor": "white",
            "ticks": ""
           }
          },
          "scene": {
           "xaxis": {
            "backgroundcolor": "#E5ECF6",
            "gridcolor": "white",
            "gridwidth": 2,
            "linecolor": "white",
            "showbackground": true,
            "ticks": "",
            "zerolinecolor": "white"
           },
           "yaxis": {
            "backgroundcolor": "#E5ECF6",
            "gridcolor": "white",
            "gridwidth": 2,
            "linecolor": "white",
            "showbackground": true,
            "ticks": "",
            "zerolinecolor": "white"
           },
           "zaxis": {
            "backgroundcolor": "#E5ECF6",
            "gridcolor": "white",
            "gridwidth": 2,
            "linecolor": "white",
            "showbackground": true,
            "ticks": "",
            "zerolinecolor": "white"
           }
          },
          "shapedefaults": {
           "line": {
            "color": "#2a3f5f"
           }
          },
          "ternary": {
           "aaxis": {
            "gridcolor": "white",
            "linecolor": "white",
            "ticks": ""
           },
           "baxis": {
            "gridcolor": "white",
            "linecolor": "white",
            "ticks": ""
           },
           "bgcolor": "#E5ECF6",
           "caxis": {
            "gridcolor": "white",
            "linecolor": "white",
            "ticks": ""
           }
          },
          "title": {
           "x": 0.05
          },
          "xaxis": {
           "automargin": true,
           "gridcolor": "white",
           "linecolor": "white",
           "ticks": "",
           "title": {
            "standoff": 15
           },
           "zerolinecolor": "white",
           "zerolinewidth": 2
          },
          "yaxis": {
           "automargin": true,
           "gridcolor": "white",
           "linecolor": "white",
           "ticks": "",
           "title": {
            "standoff": 15
           },
           "zerolinecolor": "white",
           "zerolinewidth": 2
          }
         }
        },
        "width": 1000,
        "xaxis": {
         "anchor": "y",
         "domain": [
          0,
          1
         ],
         "title": {
          "text": "year"
         }
        },
        "yaxis": {
         "anchor": "x",
         "domain": [
          0,
          1
         ],
         "title": {
          "text": "kmeans_cluster"
         }
        }
       }
      }
     },
     "metadata": {},
     "output_type": "display_data"
    }
   ],
   "source": [
    "import plotly.express as px\n",
    "for cluster in [\"hdbscan_cluster\", \"dbscan_cluster\", \"kmeans_cluster\"]:\n",
    "    fig = px.scatter(area_df, x=\"year\", y=cluster, color=\"lat\", width=1000)\n",
    "    fig.show()"
   ]
  },
  {
   "cell_type": "code",
   "execution_count": 1245,
   "metadata": {},
   "outputs": [],
   "source": [
    "# Separate each cluster into its own DataFrame\n",
    "cluster_column = \"hdbscan_cluster\"\n",
    "combined_cluster_df = pd.DataFrame()\n",
    "unique_clusters = area_df[cluster_column].unique()\n",
    "\n",
    "for cluster in unique_clusters:\n",
    "    cluster_df = area_df[area_df[cluster_column] == cluster].copy()\n",
    "    yearly_price = cluster_df.groupby(['year'])['unit_price'].apply(lambda x: np.exp(np.log(x).mean()))\n",
    "    returns_df = pd.DataFrame(index=range(yearly_price.index.min(), yearly_price.index.max() + 1))\n",
    "\n",
    "    # Calculate annualized returns and fill in missing years\n",
    "    for i in range(len(yearly_price)):\n",
    "        if i == 0:\n",
    "            continue\n",
    "        start_year = yearly_price.index[i-1]\n",
    "        end_year = yearly_price.index[i]\n",
    "        start_price = yearly_price[start_year]\n",
    "        end_price = yearly_price[end_year]\n",
    "        years_diff = end_year - start_year\n",
    "        annualized_return = (end_price / start_price) ** (1 / years_diff) - 1\n",
    "        returns_df.loc[start_year + 1 :end_year + 1, 'annualized_return'] = annualized_return\n",
    "    \n",
    "    returns_df = returns_df.dropna()\n",
    "    returns_df = returns_df.assign(cluster_code = cluster)\n",
    "    returns_df = returns_df.reset_index().rename(columns={\"index\": \"year\"})\n",
    "    combined_cluster_df = pd.concat([combined_cluster_df, returns_df])"
   ]
  },
  {
   "cell_type": "code",
   "execution_count": 1246,
   "metadata": {},
   "outputs": [
    {
     "data": {
      "application/vnd.plotly.v1+json": {
       "config": {
        "plotlyServerURL": "https://plot.ly"
       },
       "data": [
        {
         "hovertemplate": "variable=-1<br>year=%{x}<br>value=%{y}<extra></extra>",
         "legendgroup": "-1",
         "line": {
          "color": "#636efa",
          "dash": "solid"
         },
         "marker": {
          "symbol": "circle"
         },
         "mode": "lines+markers",
         "name": "-1",
         "orientation": "v",
         "showlegend": true,
         "type": "scatter",
         "x": [
          2006,
          2007,
          2008,
          2009,
          2010,
          2011,
          2012,
          2013,
          2014,
          2015,
          2016,
          2017,
          2018,
          2019,
          2020,
          2021,
          2022,
          2023
         ],
         "xaxis": "x",
         "y": [
          0.02903890264571829,
          5.76643167034199,
          0.7008502760707478,
          -0.7553191489361704,
          -0.9065470206078059,
          1.2425694955919915,
          -0.3784589324319513,
          3.120917448332393,
          0.04952963449657655,
          -0.015965229312954854,
          0.44857093255455904,
          0.5037336743461818,
          0.20232588294167986,
          0.20232588294167986,
          0.20232588294167986,
          -0.2887311958682033,
          0.23494611744464966,
          0.21814242506446435
         ],
         "yaxis": "y"
        },
        {
         "hovertemplate": "variable=0<br>year=%{x}<br>value=%{y}<extra></extra>",
         "legendgroup": "0",
         "line": {
          "color": "#EF553B",
          "dash": "solid"
         },
         "marker": {
          "symbol": "circle"
         },
         "mode": "lines+markers",
         "name": "0",
         "orientation": "v",
         "showlegend": true,
         "type": "scatter",
         "x": [
          2006,
          2007,
          2008,
          2009,
          2010,
          2011,
          2012,
          2013,
          2014,
          2015,
          2016,
          2017,
          2018,
          2019,
          2020,
          2021,
          2022,
          2023
         ],
         "xaxis": "x",
         "y": [
          null,
          0.014185105674218823,
          -0.028072607062205046,
          -0.0029370668756653062,
          -0.0029370668756653062,
          -0.0029370668756653062,
          -0.0029370668756653062,
          -0.0029370668756653062,
          -0.0029370668756653062,
          -0.0029370668756653062,
          -0.0029370668756653062,
          -0.0029370668756653062,
          -0.0029370668756653062,
          0.029850746268655692,
          -0.01449275362318836,
          0.03611264434167882,
          0.03611264434167882,
          -0.1445208221372043
         ],
         "yaxis": "y"
        },
        {
         "hovertemplate": "variable=1<br>year=%{x}<br>value=%{y}<extra></extra>",
         "legendgroup": "1",
         "line": {
          "color": "#00cc96",
          "dash": "solid"
         },
         "marker": {
          "symbol": "circle"
         },
         "mode": "lines+markers",
         "name": "1",
         "orientation": "v",
         "showlegend": true,
         "type": "scatter",
         "x": [
          2006,
          2007,
          2008,
          2009,
          2010,
          2011,
          2012,
          2013,
          2014,
          2015,
          2016,
          2017,
          2018,
          2019,
          2020,
          2021,
          2022,
          2023
         ],
         "xaxis": "x",
         "y": [
          null,
          null,
          -0.022873744426848863,
          -0.022873744426848863,
          -0.022873744426848863,
          0.07267809610914422,
          -0.029375747504734706,
          -0.029375747504734706,
          -0.030994804932974573,
          -0.030994804932974573,
          -0.010929289906319584,
          -0.010929289906319584,
          0.014600599793947566,
          0.014600599793947566,
          0.014600599793947566,
          0.06382978723404409,
          0.004765822035123213,
          0.004765822035123213
         ],
         "yaxis": "y"
        },
        {
         "hovertemplate": "variable=2<br>year=%{x}<br>value=%{y}<extra></extra>",
         "legendgroup": "2",
         "line": {
          "color": "#ab63fa",
          "dash": "solid"
         },
         "marker": {
          "symbol": "circle"
         },
         "mode": "lines+markers",
         "name": "2",
         "orientation": "v",
         "showlegend": true,
         "type": "scatter",
         "x": [
          2006,
          2007,
          2008,
          2009,
          2010,
          2011,
          2012,
          2013,
          2014,
          2015,
          2016,
          2017,
          2018,
          2019,
          2020,
          2021,
          2022,
          2023
         ],
         "xaxis": "x",
         "y": [
          null,
          null,
          -0.005464808149047373,
          -0.005464808149047373,
          -0.005464808149047373,
          -0.005464808149047373,
          -0.005464808149047373,
          0.03574416865128649,
          0.03574416865128649,
          0.03574416865128649,
          -0.025320565519103444,
          -0.025320565519103444,
          0,
          0,
          0.0063406990908259075,
          null,
          null,
          null
         ],
         "yaxis": "y"
        },
        {
         "hovertemplate": "variable=3<br>year=%{x}<br>value=%{y}<extra></extra>",
         "legendgroup": "3",
         "line": {
          "color": "#FFA15A",
          "dash": "solid"
         },
         "marker": {
          "symbol": "circle"
         },
         "mode": "lines+markers",
         "name": "3",
         "orientation": "v",
         "showlegend": true,
         "type": "scatter",
         "x": [
          2006,
          2007,
          2008,
          2009,
          2010,
          2011,
          2012,
          2013,
          2014,
          2015,
          2016,
          2017,
          2018,
          2019,
          2020,
          2021,
          2022,
          2023
         ],
         "xaxis": "x",
         "y": [
          null,
          0,
          0,
          0,
          0.06249999999999889,
          -0.014815633856221866,
          -0.014815633856221866,
          0.01503843784510539,
          -0.014815633856222754,
          -0.015268072165337765,
          -0.015268072165337765,
          0.06249999999999889,
          -0.029411764705882137,
          0.015038437845104502,
          0.015038437845104502,
          -0.015694086430498744,
          0.01594431793423401,
          null
         ],
         "yaxis": "y"
        },
        {
         "hovertemplate": "variable=4<br>year=%{x}<br>value=%{y}<extra></extra>",
         "legendgroup": "4",
         "line": {
          "color": "#19d3f3",
          "dash": "solid"
         },
         "marker": {
          "symbol": "circle"
         },
         "mode": "lines+markers",
         "name": "4",
         "orientation": "v",
         "showlegend": true,
         "type": "scatter",
         "x": [
          2006,
          2007,
          2008,
          2009,
          2010,
          2011,
          2012,
          2013,
          2014,
          2015,
          2016,
          2017,
          2018,
          2019,
          2020,
          2021,
          2022,
          2023
         ],
         "xaxis": "x",
         "y": [
          null,
          null,
          null,
          null,
          0,
          0,
          0,
          0,
          0,
          0,
          0,
          0,
          0,
          0,
          0,
          0,
          null,
          null
         ],
         "yaxis": "y"
        },
        {
         "hovertemplate": "variable=5<br>year=%{x}<br>value=%{y}<extra></extra>",
         "legendgroup": "5",
         "line": {
          "color": "#FF6692",
          "dash": "solid"
         },
         "marker": {
          "symbol": "circle"
         },
         "mode": "lines+markers",
         "name": "5",
         "orientation": "v",
         "showlegend": true,
         "type": "scatter",
         "x": [
          2006,
          2007,
          2008,
          2009,
          2010,
          2011,
          2012,
          2013,
          2014,
          2015,
          2016,
          2017,
          2018,
          2019,
          2020,
          2021,
          2022,
          2023
         ],
         "xaxis": "x",
         "y": [
          null,
          -0.01710031891382946,
          -0.01710031891382946,
          -0.01710031891382946,
          -0.01710031891382946,
          0,
          0,
          0,
          0,
          0,
          0,
          0.023264108093813185,
          0.023264108093813185,
          0.023264108093813185,
          -0.04495349911244184,
          0.023264108093813407,
          0.023264108093813407,
          null
         ],
         "yaxis": "y"
        },
        {
         "hovertemplate": "variable=6<br>year=%{x}<br>value=%{y}<extra></extra>",
         "legendgroup": "6",
         "line": {
          "color": "#B6E880",
          "dash": "solid"
         },
         "marker": {
          "symbol": "circle"
         },
         "mode": "lines+markers",
         "name": "6",
         "orientation": "v",
         "showlegend": true,
         "type": "scatter",
         "x": [
          2006,
          2007,
          2008,
          2009,
          2010,
          2011,
          2012,
          2013,
          2014,
          2015,
          2016,
          2017,
          2018,
          2019,
          2020,
          2021,
          2022,
          2023
         ],
         "xaxis": "x",
         "y": [
          0,
          0,
          0,
          0,
          0,
          0,
          0,
          0,
          0,
          0,
          0,
          0,
          0,
          0,
          0,
          0,
          0,
          null
         ],
         "yaxis": "y"
        },
        {
         "hovertemplate": "variable=7<br>year=%{x}<br>value=%{y}<extra></extra>",
         "legendgroup": "7",
         "line": {
          "color": "#FF97FF",
          "dash": "solid"
         },
         "marker": {
          "symbol": "circle"
         },
         "mode": "lines+markers",
         "name": "7",
         "orientation": "v",
         "showlegend": true,
         "type": "scatter",
         "x": [
          2006,
          2007,
          2008,
          2009,
          2010,
          2011,
          2012,
          2013,
          2014,
          2015,
          2016,
          2017,
          2018,
          2019,
          2020,
          2021,
          2022,
          2023
         ],
         "xaxis": "x",
         "y": [
          null,
          0,
          0,
          0,
          0,
          0,
          0,
          0,
          0,
          0,
          0,
          0,
          0,
          0,
          null,
          null,
          null,
          null
         ],
         "yaxis": "y"
        },
        {
         "hovertemplate": "variable=8<br>year=%{x}<br>value=%{y}<extra></extra>",
         "legendgroup": "8",
         "line": {
          "color": "#FECB52",
          "dash": "solid"
         },
         "marker": {
          "symbol": "circle"
         },
         "mode": "lines+markers",
         "name": "8",
         "orientation": "v",
         "showlegend": true,
         "type": "scatter",
         "x": [
          2006,
          2007,
          2008,
          2009,
          2010,
          2011,
          2012,
          2013,
          2014,
          2015,
          2016,
          2017,
          2018,
          2019,
          2020,
          2021,
          2022,
          2023
         ],
         "xaxis": "x",
         "y": [
          0,
          0,
          0,
          0,
          0,
          0,
          0,
          0,
          0,
          0,
          0,
          0,
          0,
          0,
          0,
          null,
          null,
          null
         ],
         "yaxis": "y"
        },
        {
         "hovertemplate": "variable=9<br>year=%{x}<br>value=%{y}<extra></extra>",
         "legendgroup": "9",
         "line": {
          "color": "#636efa",
          "dash": "solid"
         },
         "marker": {
          "symbol": "circle"
         },
         "mode": "lines+markers",
         "name": "9",
         "orientation": "v",
         "showlegend": true,
         "type": "scatter",
         "x": [
          2006,
          2007,
          2008,
          2009,
          2010,
          2011,
          2012,
          2013,
          2014,
          2015,
          2016,
          2017,
          2018,
          2019,
          2020,
          2021,
          2022,
          2023
         ],
         "xaxis": "x",
         "y": [
          1.7763568394002505e-15,
          -1.7763568394002505e-15,
          0,
          0,
          0,
          0,
          0,
          0,
          0,
          0,
          0,
          null,
          null,
          null,
          null,
          null,
          null,
          null
         ],
         "yaxis": "y"
        },
        {
         "hovertemplate": "variable=10<br>year=%{x}<br>value=%{y}<extra></extra>",
         "legendgroup": "10",
         "line": {
          "color": "#EF553B",
          "dash": "solid"
         },
         "marker": {
          "symbol": "circle"
         },
         "mode": "lines+markers",
         "name": "10",
         "orientation": "v",
         "showlegend": true,
         "type": "scatter",
         "x": [
          2006,
          2007,
          2008,
          2009,
          2010,
          2011,
          2012,
          2013,
          2014,
          2015,
          2016,
          2017,
          2018,
          2019,
          2020,
          2021,
          2022,
          2023
         ],
         "xaxis": "x",
         "y": [
          null,
          0,
          0,
          0,
          0,
          0,
          0,
          0,
          0,
          0,
          0,
          0,
          0,
          0,
          null,
          null,
          null,
          null
         ],
         "yaxis": "y"
        },
        {
         "hovertemplate": "variable=11<br>year=%{x}<br>value=%{y}<extra></extra>",
         "legendgroup": "11",
         "line": {
          "color": "#00cc96",
          "dash": "solid"
         },
         "marker": {
          "symbol": "circle"
         },
         "mode": "lines+markers",
         "name": "11",
         "orientation": "v",
         "showlegend": true,
         "type": "scatter",
         "x": [
          2006,
          2007,
          2008,
          2009,
          2010,
          2011,
          2012,
          2013,
          2014,
          2015,
          2016,
          2017,
          2018,
          2019,
          2020,
          2021,
          2022,
          2023
         ],
         "xaxis": "x",
         "y": [
          0,
          0,
          0,
          0,
          0,
          0,
          0,
          0,
          0,
          0,
          0,
          0,
          0,
          0,
          0,
          0,
          null,
          null
         ],
         "yaxis": "y"
        },
        {
         "hovertemplate": "variable=12<br>year=%{x}<br>value=%{y}<extra></extra>",
         "legendgroup": "12",
         "line": {
          "color": "#ab63fa",
          "dash": "solid"
         },
         "marker": {
          "symbol": "circle"
         },
         "mode": "lines+markers",
         "name": "12",
         "orientation": "v",
         "showlegend": true,
         "type": "scatter",
         "x": [
          2006,
          2007,
          2008,
          2009,
          2010,
          2011,
          2012,
          2013,
          2014,
          2015,
          2016,
          2017,
          2018,
          2019,
          2020,
          2021,
          2022,
          2023
         ],
         "xaxis": "x",
         "y": [
          null,
          0,
          0,
          0,
          0,
          0,
          0,
          0,
          0,
          0,
          0,
          0,
          0,
          0,
          null,
          null,
          null,
          null
         ],
         "yaxis": "y"
        },
        {
         "hovertemplate": "variable=13<br>year=%{x}<br>value=%{y}<extra></extra>",
         "legendgroup": "13",
         "line": {
          "color": "#FFA15A",
          "dash": "solid"
         },
         "marker": {
          "symbol": "circle"
         },
         "mode": "lines+markers",
         "name": "13",
         "orientation": "v",
         "showlegend": true,
         "type": "scatter",
         "x": [
          2006,
          2007,
          2008,
          2009,
          2010,
          2011,
          2012,
          2013,
          2014,
          2015,
          2016,
          2017,
          2018,
          2019,
          2020,
          2021,
          2022,
          2023
         ],
         "xaxis": "x",
         "y": [
          0,
          0,
          0,
          0,
          0,
          0,
          0,
          0,
          0,
          0,
          0,
          0,
          null,
          null,
          null,
          null,
          null,
          null
         ],
         "yaxis": "y"
        },
        {
         "hovertemplate": "variable=14<br>year=%{x}<br>value=%{y}<extra></extra>",
         "legendgroup": "14",
         "line": {
          "color": "#19d3f3",
          "dash": "solid"
         },
         "marker": {
          "symbol": "circle"
         },
         "mode": "lines+markers",
         "name": "14",
         "orientation": "v",
         "showlegend": true,
         "type": "scatter",
         "x": [
          2006,
          2007,
          2008,
          2009,
          2010,
          2011,
          2012,
          2013,
          2014,
          2015,
          2016,
          2017,
          2018,
          2019,
          2020,
          2021,
          2022,
          2023
         ],
         "xaxis": "x",
         "y": [
          0,
          0,
          0,
          0,
          0,
          0,
          0,
          0,
          0,
          0,
          0,
          0,
          0,
          0,
          0,
          null,
          null,
          null
         ],
         "yaxis": "y"
        },
        {
         "hovertemplate": "variable=15<br>year=%{x}<br>value=%{y}<extra></extra>",
         "legendgroup": "15",
         "line": {
          "color": "#FF6692",
          "dash": "solid"
         },
         "marker": {
          "symbol": "circle"
         },
         "mode": "lines+markers",
         "name": "15",
         "orientation": "v",
         "showlegend": true,
         "type": "scatter",
         "x": [
          2006,
          2007,
          2008,
          2009,
          2010,
          2011,
          2012,
          2013,
          2014,
          2015,
          2016,
          2017,
          2018,
          2019,
          2020,
          2021,
          2022,
          2023
         ],
         "xaxis": "x",
         "y": [
          null,
          0,
          0,
          0,
          0,
          0,
          0,
          0,
          0,
          0,
          0,
          0,
          0,
          0,
          0,
          0,
          0,
          null
         ],
         "yaxis": "y"
        },
        {
         "hovertemplate": "variable=16<br>year=%{x}<br>value=%{y}<extra></extra>",
         "legendgroup": "16",
         "line": {
          "color": "#B6E880",
          "dash": "solid"
         },
         "marker": {
          "symbol": "circle"
         },
         "mode": "lines+markers",
         "name": "16",
         "orientation": "v",
         "showlegend": true,
         "type": "scatter",
         "x": [
          2006,
          2007,
          2008,
          2009,
          2010,
          2011,
          2012,
          2013,
          2014,
          2015,
          2016,
          2017,
          2018,
          2019,
          2020,
          2021,
          2022,
          2023
         ],
         "xaxis": "x",
         "y": [
          null,
          null,
          0,
          0,
          0,
          0,
          0,
          0,
          0,
          0,
          0,
          0,
          0,
          0,
          0,
          0,
          0,
          null
         ],
         "yaxis": "y"
        },
        {
         "hovertemplate": "variable=17<br>year=%{x}<br>value=%{y}<extra></extra>",
         "legendgroup": "17",
         "line": {
          "color": "#FF97FF",
          "dash": "solid"
         },
         "marker": {
          "symbol": "circle"
         },
         "mode": "lines+markers",
         "name": "17",
         "orientation": "v",
         "showlegend": true,
         "type": "scatter",
         "x": [
          2006,
          2007,
          2008,
          2009,
          2010,
          2011,
          2012,
          2013,
          2014,
          2015,
          2016,
          2017,
          2018,
          2019,
          2020,
          2021,
          2022,
          2023
         ],
         "xaxis": "x",
         "y": [
          0,
          0,
          0,
          0,
          0,
          0,
          0,
          0,
          0,
          0,
          0,
          0,
          0,
          0,
          0,
          null,
          null,
          null
         ],
         "yaxis": "y"
        },
        {
         "hovertemplate": "variable=18<br>year=%{x}<br>value=%{y}<extra></extra>",
         "legendgroup": "18",
         "line": {
          "color": "#FECB52",
          "dash": "solid"
         },
         "marker": {
          "symbol": "circle"
         },
         "mode": "lines+markers",
         "name": "18",
         "orientation": "v",
         "showlegend": true,
         "type": "scatter",
         "x": [
          2006,
          2007,
          2008,
          2009,
          2010,
          2011,
          2012,
          2013,
          2014,
          2015,
          2016,
          2017,
          2018,
          2019,
          2020,
          2021,
          2022,
          2023
         ],
         "xaxis": "x",
         "y": [
          null,
          null,
          null,
          0,
          0,
          0,
          0,
          0,
          0,
          0,
          0,
          0,
          0,
          0,
          0,
          0,
          0,
          null
         ],
         "yaxis": "y"
        },
        {
         "hovertemplate": "variable=19<br>year=%{x}<br>value=%{y}<extra></extra>",
         "legendgroup": "19",
         "line": {
          "color": "#636efa",
          "dash": "solid"
         },
         "marker": {
          "symbol": "circle"
         },
         "mode": "lines+markers",
         "name": "19",
         "orientation": "v",
         "showlegend": true,
         "type": "scatter",
         "x": [
          2006,
          2007,
          2008,
          2009,
          2010,
          2011,
          2012,
          2013,
          2014,
          2015,
          2016,
          2017,
          2018,
          2019,
          2020,
          2021,
          2022,
          2023
         ],
         "xaxis": "x",
         "y": [
          null,
          0,
          0,
          0,
          0,
          0,
          0,
          0,
          0,
          0,
          0,
          0,
          0,
          0,
          null,
          null,
          null,
          null
         ],
         "yaxis": "y"
        },
        {
         "hovertemplate": "variable=20<br>year=%{x}<br>value=%{y}<extra></extra>",
         "legendgroup": "20",
         "line": {
          "color": "#EF553B",
          "dash": "solid"
         },
         "marker": {
          "symbol": "circle"
         },
         "mode": "lines+markers",
         "name": "20",
         "orientation": "v",
         "showlegend": true,
         "type": "scatter",
         "x": [
          2006,
          2007,
          2008,
          2009,
          2010,
          2011,
          2012,
          2013,
          2014,
          2015,
          2016,
          2017,
          2018,
          2019,
          2020,
          2021,
          2022,
          2023
         ],
         "xaxis": "x",
         "y": [
          null,
          0,
          0,
          0.050000000000000044,
          0,
          -0.08733609451015545,
          0.1304775235876927,
          -0.019183572833390006,
          -0.019183572833390006,
          -0.019183572833390006,
          -0.019183572833390006,
          -0.019183572833390006,
          0.008438968179221185,
          0.008438968179221185,
          null,
          null,
          null,
          null
         ],
         "yaxis": "y"
        },
        {
         "hovertemplate": "variable=21<br>year=%{x}<br>value=%{y}<extra></extra>",
         "legendgroup": "21",
         "line": {
          "color": "#00cc96",
          "dash": "solid"
         },
         "marker": {
          "symbol": "circle"
         },
         "mode": "lines+markers",
         "name": "21",
         "orientation": "v",
         "showlegend": true,
         "type": "scatter",
         "x": [
          2006,
          2007,
          2008,
          2009,
          2010,
          2011,
          2012,
          2013,
          2014,
          2015,
          2016,
          2017,
          2018,
          2019,
          2020,
          2021,
          2022,
          2023
         ],
         "xaxis": "x",
         "y": [
          null,
          null,
          null,
          null,
          -0.014389239390837916,
          0.029306717329241172,
          0.042963573141940214,
          -0.02076350681306771,
          -0.02076350681306771,
          -0.0023952497091614955,
          -0.0023952497091614955,
          -0.0023952497091614955,
          -0.0023952497091614955,
          -0.0023952497091614955,
          -0.0023952497091614955,
          null,
          null,
          null
         ],
         "yaxis": "y"
        },
        {
         "hovertemplate": "variable=22<br>year=%{x}<br>value=%{y}<extra></extra>",
         "legendgroup": "22",
         "line": {
          "color": "#ab63fa",
          "dash": "solid"
         },
         "marker": {
          "symbol": "circle"
         },
         "mode": "lines+markers",
         "name": "22",
         "orientation": "v",
         "showlegend": true,
         "type": "scatter",
         "x": [
          2006,
          2007,
          2008,
          2009,
          2010,
          2011,
          2012,
          2013,
          2014,
          2015,
          2016,
          2017,
          2018,
          2019,
          2020,
          2021,
          2022,
          2023
         ],
         "xaxis": "x",
         "y": [
          0.028991510855053804,
          -0.058008290029227805,
          -0.007594522673186388,
          -0.007594522673186388,
          -0.007594522673186388,
          0.028389405617772034,
          -0.01625985268794372,
          0.042632161390103285,
          -0.02914678833632922,
          0.10886195775945673,
          null,
          null,
          null,
          null,
          null,
          null,
          null,
          null
         ],
         "yaxis": "y"
        },
        {
         "hovertemplate": "variable=23<br>year=%{x}<br>value=%{y}<extra></extra>",
         "legendgroup": "23",
         "line": {
          "color": "#FFA15A",
          "dash": "solid"
         },
         "marker": {
          "symbol": "circle"
         },
         "mode": "lines+markers",
         "name": "23",
         "orientation": "v",
         "showlegend": true,
         "type": "scatter",
         "x": [
          2006,
          2007,
          2008,
          2009,
          2010,
          2011,
          2012,
          2013,
          2014,
          2015,
          2016,
          2017,
          2018,
          2019,
          2020,
          2021,
          2022,
          2023
         ],
         "xaxis": "x",
         "y": [
          null,
          0.003801592639373741,
          0.003801592639373741,
          0.003801592639373741,
          0.003801592639373741,
          0.005037815259210987,
          -0.009999999999999676,
          -0.005165878606453678,
          -0.002587343800163233,
          0.003892538649926891,
          0.003892538649926891,
          null,
          null,
          null,
          null,
          null,
          null,
          null
         ],
         "yaxis": "y"
        }
       ],
       "layout": {
        "autosize": false,
        "height": 800,
        "hovermode": "closest",
        "legend": {
         "title": {
          "text": "variable"
         },
         "tracegroupgap": 0
        },
        "showlegend": true,
        "template": {
         "data": {
          "bar": [
           {
            "error_x": {
             "color": "#2a3f5f"
            },
            "error_y": {
             "color": "#2a3f5f"
            },
            "marker": {
             "line": {
              "color": "#E5ECF6",
              "width": 0.5
             },
             "pattern": {
              "fillmode": "overlay",
              "size": 10,
              "solidity": 0.2
             }
            },
            "type": "bar"
           }
          ],
          "barpolar": [
           {
            "marker": {
             "line": {
              "color": "#E5ECF6",
              "width": 0.5
             },
             "pattern": {
              "fillmode": "overlay",
              "size": 10,
              "solidity": 0.2
             }
            },
            "type": "barpolar"
           }
          ],
          "carpet": [
           {
            "aaxis": {
             "endlinecolor": "#2a3f5f",
             "gridcolor": "white",
             "linecolor": "white",
             "minorgridcolor": "white",
             "startlinecolor": "#2a3f5f"
            },
            "baxis": {
             "endlinecolor": "#2a3f5f",
             "gridcolor": "white",
             "linecolor": "white",
             "minorgridcolor": "white",
             "startlinecolor": "#2a3f5f"
            },
            "type": "carpet"
           }
          ],
          "choropleth": [
           {
            "colorbar": {
             "outlinewidth": 0,
             "ticks": ""
            },
            "type": "choropleth"
           }
          ],
          "contour": [
           {
            "colorbar": {
             "outlinewidth": 0,
             "ticks": ""
            },
            "colorscale": [
             [
              0,
              "#0d0887"
             ],
             [
              0.1111111111111111,
              "#46039f"
             ],
             [
              0.2222222222222222,
              "#7201a8"
             ],
             [
              0.3333333333333333,
              "#9c179e"
             ],
             [
              0.4444444444444444,
              "#bd3786"
             ],
             [
              0.5555555555555556,
              "#d8576b"
             ],
             [
              0.6666666666666666,
              "#ed7953"
             ],
             [
              0.7777777777777778,
              "#fb9f3a"
             ],
             [
              0.8888888888888888,
              "#fdca26"
             ],
             [
              1,
              "#f0f921"
             ]
            ],
            "type": "contour"
           }
          ],
          "contourcarpet": [
           {
            "colorbar": {
             "outlinewidth": 0,
             "ticks": ""
            },
            "type": "contourcarpet"
           }
          ],
          "heatmap": [
           {
            "colorbar": {
             "outlinewidth": 0,
             "ticks": ""
            },
            "colorscale": [
             [
              0,
              "#0d0887"
             ],
             [
              0.1111111111111111,
              "#46039f"
             ],
             [
              0.2222222222222222,
              "#7201a8"
             ],
             [
              0.3333333333333333,
              "#9c179e"
             ],
             [
              0.4444444444444444,
              "#bd3786"
             ],
             [
              0.5555555555555556,
              "#d8576b"
             ],
             [
              0.6666666666666666,
              "#ed7953"
             ],
             [
              0.7777777777777778,
              "#fb9f3a"
             ],
             [
              0.8888888888888888,
              "#fdca26"
             ],
             [
              1,
              "#f0f921"
             ]
            ],
            "type": "heatmap"
           }
          ],
          "heatmapgl": [
           {
            "colorbar": {
             "outlinewidth": 0,
             "ticks": ""
            },
            "colorscale": [
             [
              0,
              "#0d0887"
             ],
             [
              0.1111111111111111,
              "#46039f"
             ],
             [
              0.2222222222222222,
              "#7201a8"
             ],
             [
              0.3333333333333333,
              "#9c179e"
             ],
             [
              0.4444444444444444,
              "#bd3786"
             ],
             [
              0.5555555555555556,
              "#d8576b"
             ],
             [
              0.6666666666666666,
              "#ed7953"
             ],
             [
              0.7777777777777778,
              "#fb9f3a"
             ],
             [
              0.8888888888888888,
              "#fdca26"
             ],
             [
              1,
              "#f0f921"
             ]
            ],
            "type": "heatmapgl"
           }
          ],
          "histogram": [
           {
            "marker": {
             "pattern": {
              "fillmode": "overlay",
              "size": 10,
              "solidity": 0.2
             }
            },
            "type": "histogram"
           }
          ],
          "histogram2d": [
           {
            "colorbar": {
             "outlinewidth": 0,
             "ticks": ""
            },
            "colorscale": [
             [
              0,
              "#0d0887"
             ],
             [
              0.1111111111111111,
              "#46039f"
             ],
             [
              0.2222222222222222,
              "#7201a8"
             ],
             [
              0.3333333333333333,
              "#9c179e"
             ],
             [
              0.4444444444444444,
              "#bd3786"
             ],
             [
              0.5555555555555556,
              "#d8576b"
             ],
             [
              0.6666666666666666,
              "#ed7953"
             ],
             [
              0.7777777777777778,
              "#fb9f3a"
             ],
             [
              0.8888888888888888,
              "#fdca26"
             ],
             [
              1,
              "#f0f921"
             ]
            ],
            "type": "histogram2d"
           }
          ],
          "histogram2dcontour": [
           {
            "colorbar": {
             "outlinewidth": 0,
             "ticks": ""
            },
            "colorscale": [
             [
              0,
              "#0d0887"
             ],
             [
              0.1111111111111111,
              "#46039f"
             ],
             [
              0.2222222222222222,
              "#7201a8"
             ],
             [
              0.3333333333333333,
              "#9c179e"
             ],
             [
              0.4444444444444444,
              "#bd3786"
             ],
             [
              0.5555555555555556,
              "#d8576b"
             ],
             [
              0.6666666666666666,
              "#ed7953"
             ],
             [
              0.7777777777777778,
              "#fb9f3a"
             ],
             [
              0.8888888888888888,
              "#fdca26"
             ],
             [
              1,
              "#f0f921"
             ]
            ],
            "type": "histogram2dcontour"
           }
          ],
          "mesh3d": [
           {
            "colorbar": {
             "outlinewidth": 0,
             "ticks": ""
            },
            "type": "mesh3d"
           }
          ],
          "parcoords": [
           {
            "line": {
             "colorbar": {
              "outlinewidth": 0,
              "ticks": ""
             }
            },
            "type": "parcoords"
           }
          ],
          "pie": [
           {
            "automargin": true,
            "type": "pie"
           }
          ],
          "scatter": [
           {
            "fillpattern": {
             "fillmode": "overlay",
             "size": 10,
             "solidity": 0.2
            },
            "type": "scatter"
           }
          ],
          "scatter3d": [
           {
            "line": {
             "colorbar": {
              "outlinewidth": 0,
              "ticks": ""
             }
            },
            "marker": {
             "colorbar": {
              "outlinewidth": 0,
              "ticks": ""
             }
            },
            "type": "scatter3d"
           }
          ],
          "scattercarpet": [
           {
            "marker": {
             "colorbar": {
              "outlinewidth": 0,
              "ticks": ""
             }
            },
            "type": "scattercarpet"
           }
          ],
          "scattergeo": [
           {
            "marker": {
             "colorbar": {
              "outlinewidth": 0,
              "ticks": ""
             }
            },
            "type": "scattergeo"
           }
          ],
          "scattergl": [
           {
            "marker": {
             "colorbar": {
              "outlinewidth": 0,
              "ticks": ""
             }
            },
            "type": "scattergl"
           }
          ],
          "scattermapbox": [
           {
            "marker": {
             "colorbar": {
              "outlinewidth": 0,
              "ticks": ""
             }
            },
            "type": "scattermapbox"
           }
          ],
          "scatterpolar": [
           {
            "marker": {
             "colorbar": {
              "outlinewidth": 0,
              "ticks": ""
             }
            },
            "type": "scatterpolar"
           }
          ],
          "scatterpolargl": [
           {
            "marker": {
             "colorbar": {
              "outlinewidth": 0,
              "ticks": ""
             }
            },
            "type": "scatterpolargl"
           }
          ],
          "scatterternary": [
           {
            "marker": {
             "colorbar": {
              "outlinewidth": 0,
              "ticks": ""
             }
            },
            "type": "scatterternary"
           }
          ],
          "surface": [
           {
            "colorbar": {
             "outlinewidth": 0,
             "ticks": ""
            },
            "colorscale": [
             [
              0,
              "#0d0887"
             ],
             [
              0.1111111111111111,
              "#46039f"
             ],
             [
              0.2222222222222222,
              "#7201a8"
             ],
             [
              0.3333333333333333,
              "#9c179e"
             ],
             [
              0.4444444444444444,
              "#bd3786"
             ],
             [
              0.5555555555555556,
              "#d8576b"
             ],
             [
              0.6666666666666666,
              "#ed7953"
             ],
             [
              0.7777777777777778,
              "#fb9f3a"
             ],
             [
              0.8888888888888888,
              "#fdca26"
             ],
             [
              1,
              "#f0f921"
             ]
            ],
            "type": "surface"
           }
          ],
          "table": [
           {
            "cells": {
             "fill": {
              "color": "#EBF0F8"
             },
             "line": {
              "color": "white"
             }
            },
            "header": {
             "fill": {
              "color": "#C8D4E3"
             },
             "line": {
              "color": "white"
             }
            },
            "type": "table"
           }
          ]
         },
         "layout": {
          "annotationdefaults": {
           "arrowcolor": "#2a3f5f",
           "arrowhead": 0,
           "arrowwidth": 1
          },
          "autotypenumbers": "strict",
          "coloraxis": {
           "colorbar": {
            "outlinewidth": 0,
            "ticks": ""
           }
          },
          "colorscale": {
           "diverging": [
            [
             0,
             "#8e0152"
            ],
            [
             0.1,
             "#c51b7d"
            ],
            [
             0.2,
             "#de77ae"
            ],
            [
             0.3,
             "#f1b6da"
            ],
            [
             0.4,
             "#fde0ef"
            ],
            [
             0.5,
             "#f7f7f7"
            ],
            [
             0.6,
             "#e6f5d0"
            ],
            [
             0.7,
             "#b8e186"
            ],
            [
             0.8,
             "#7fbc41"
            ],
            [
             0.9,
             "#4d9221"
            ],
            [
             1,
             "#276419"
            ]
           ],
           "sequential": [
            [
             0,
             "#0d0887"
            ],
            [
             0.1111111111111111,
             "#46039f"
            ],
            [
             0.2222222222222222,
             "#7201a8"
            ],
            [
             0.3333333333333333,
             "#9c179e"
            ],
            [
             0.4444444444444444,
             "#bd3786"
            ],
            [
             0.5555555555555556,
             "#d8576b"
            ],
            [
             0.6666666666666666,
             "#ed7953"
            ],
            [
             0.7777777777777778,
             "#fb9f3a"
            ],
            [
             0.8888888888888888,
             "#fdca26"
            ],
            [
             1,
             "#f0f921"
            ]
           ],
           "sequentialminus": [
            [
             0,
             "#0d0887"
            ],
            [
             0.1111111111111111,
             "#46039f"
            ],
            [
             0.2222222222222222,
             "#7201a8"
            ],
            [
             0.3333333333333333,
             "#9c179e"
            ],
            [
             0.4444444444444444,
             "#bd3786"
            ],
            [
             0.5555555555555556,
             "#d8576b"
            ],
            [
             0.6666666666666666,
             "#ed7953"
            ],
            [
             0.7777777777777778,
             "#fb9f3a"
            ],
            [
             0.8888888888888888,
             "#fdca26"
            ],
            [
             1,
             "#f0f921"
            ]
           ]
          },
          "colorway": [
           "#636efa",
           "#EF553B",
           "#00cc96",
           "#ab63fa",
           "#FFA15A",
           "#19d3f3",
           "#FF6692",
           "#B6E880",
           "#FF97FF",
           "#FECB52"
          ],
          "font": {
           "color": "#2a3f5f"
          },
          "geo": {
           "bgcolor": "white",
           "lakecolor": "white",
           "landcolor": "#E5ECF6",
           "showlakes": true,
           "showland": true,
           "subunitcolor": "white"
          },
          "hoverlabel": {
           "align": "left"
          },
          "hovermode": "closest",
          "mapbox": {
           "style": "light"
          },
          "paper_bgcolor": "white",
          "plot_bgcolor": "#E5ECF6",
          "polar": {
           "angularaxis": {
            "gridcolor": "white",
            "linecolor": "white",
            "ticks": ""
           },
           "bgcolor": "#E5ECF6",
           "radialaxis": {
            "gridcolor": "white",
            "linecolor": "white",
            "ticks": ""
           }
          },
          "scene": {
           "xaxis": {
            "backgroundcolor": "#E5ECF6",
            "gridcolor": "white",
            "gridwidth": 2,
            "linecolor": "white",
            "showbackground": true,
            "ticks": "",
            "zerolinecolor": "white"
           },
           "yaxis": {
            "backgroundcolor": "#E5ECF6",
            "gridcolor": "white",
            "gridwidth": 2,
            "linecolor": "white",
            "showbackground": true,
            "ticks": "",
            "zerolinecolor": "white"
           },
           "zaxis": {
            "backgroundcolor": "#E5ECF6",
            "gridcolor": "white",
            "gridwidth": 2,
            "linecolor": "white",
            "showbackground": true,
            "ticks": "",
            "zerolinecolor": "white"
           }
          },
          "shapedefaults": {
           "line": {
            "color": "#2a3f5f"
           }
          },
          "ternary": {
           "aaxis": {
            "gridcolor": "white",
            "linecolor": "white",
            "ticks": ""
           },
           "baxis": {
            "gridcolor": "white",
            "linecolor": "white",
            "ticks": ""
           },
           "bgcolor": "#E5ECF6",
           "caxis": {
            "gridcolor": "white",
            "linecolor": "white",
            "ticks": ""
           }
          },
          "title": {
           "x": 0.05
          },
          "xaxis": {
           "automargin": true,
           "gridcolor": "white",
           "linecolor": "white",
           "ticks": "",
           "title": {
            "standoff": 15
           },
           "zerolinecolor": "white",
           "zerolinewidth": 2
          },
          "yaxis": {
           "automargin": true,
           "gridcolor": "white",
           "linecolor": "white",
           "ticks": "",
           "title": {
            "standoff": 15
           },
           "zerolinecolor": "white",
           "zerolinewidth": 2
          }
         }
        },
        "title": {
         "text": "Returns by cluster"
        },
        "width": 1600,
        "xaxis": {
         "anchor": "y",
         "domain": [
          0,
          1
         ],
         "title": {
          "text": "year"
         }
        },
        "yaxis": {
         "anchor": "x",
         "domain": [
          0,
          1
         ],
         "title": {
          "text": "value"
         }
        }
       }
      }
     },
     "metadata": {},
     "output_type": "display_data"
    }
   ],
   "source": [
    "from jre_utils.visualize import plot_time_series\n",
    "\n",
    "\n",
    "plot_time_series(combined_cluster_df, column=\"annualized_return\", group_by_columns=[\"cluster_code\", \"year\"], granularity_columns=[\"cluster_code\"], title=\"Returns by cluster\")"
   ]
  },
  {
   "cell_type": "code",
   "execution_count": null,
   "metadata": {},
   "outputs": [],
   "source": [
    "# Can we use future data for pca in for clustering?"
   ]
  },
  {
   "cell_type": "code",
   "execution_count": null,
   "metadata": {},
   "outputs": [],
   "source": [
    "# Now that I have a dense vector - I can append my year dummies and compute the returns for each year + pca"
   ]
  }
 ],
 "metadata": {
  "kernelspec": {
   "display_name": "venv38",
   "language": "python",
   "name": "python3"
  },
  "language_info": {
   "codemirror_mode": {
    "name": "ipython",
    "version": 3
   },
   "file_extension": ".py",
   "mimetype": "text/x-python",
   "name": "python",
   "nbconvert_exporter": "python",
   "pygments_lexer": "ipython3",
   "version": "3.8.18"
  }
 },
 "nbformat": 4,
 "nbformat_minor": 2
}
