{
 "cells": [
  {
   "cell_type": "code",
   "execution_count": 1,
   "metadata": {},
   "outputs": [],
   "source": [
    "import warnings\n",
    "import json\n",
    "\n",
    "import pandas as pd\n",
    "import numpy as np\n",
    "\n",
    "from jre_utils.datapath import (\n",
    "    DATA_DIRECTORY_PATH,\n",
    "    model_ready_data_paths\n",
    ")\n",
    "from jre_utils.config import asset_types\n",
    "from jre_utils.visualize import plot_time_series\n",
    "\n",
    "from jp_prefecture.jp_cities import jp_cities as jp\n",
    "\n",
    "warnings.filterwarnings(\"ignore\")\n",
    "pd.set_option(\"display.max_columns\", None)"
   ]
  },
  {
   "cell_type": "code",
   "execution_count": 11,
   "metadata": {},
   "outputs": [
    {
     "data": {
      "text/plain": [
       "0.032463657480348386"
      ]
     },
     "execution_count": 11,
     "metadata": {},
     "output_type": "execute_result"
    }
   ],
   "source": [
    "# Helpers\n",
    "def get_geocode(area_code):\n",
    "    # area_code -> (latitude, longitude)\n",
    "    area_code = str(area_code)\n",
    "    try:\n",
    "        return tuple(jp.citycode2geodetic(area_code)) \n",
    "    except:\n",
    "        print(f\"Could not find geocode for {area_code}\")\n",
    "        return (0, 0)\n",
    "\n",
    "def get_euclidian_distance(geocode1, geocode2):\n",
    "    # lat1, lon1, lat2, lon2 -> distance\n",
    "    lat1, lon1 = geocode1\n",
    "    lat2, lon2 = geocode2\n",
    "    return ((lat1 - lat2)**2 + (lon1 - lon2)**2)**0.5\n",
    "\n",
    "def find_neighbours(area_code: str, area_to_geocode, n):\n",
    "    area_code = str(area_code)\n",
    "    geocode = area_to_geocode[area_code]\n",
    "    area_to_distances = { area : get_euclidian_distance(geocode, area_geocode) for area, area_geocode in area_to_geocode.items() if area != area_code }\n",
    "    return sorted(area_to_distances, key=area_to_distances.get)[:n]\n",
    "\n",
    "def find_neighbours_with_distance(area_code: str, area_to_geocode, n):\n",
    "    area_code = str(area_code)\n",
    "    geocode = area_to_geocode[area_code]\n",
    "    area_to_distances = { area : get_euclidian_distance(geocode, area_geocode) for area, area_geocode in area_to_geocode.items() if area != area_code }\n",
    "    closest = sorted(area_to_distances, key=area_to_distances.get)[:n]\n",
    "    return { area : area_to_distances[area] for area in closest }\n",
    "\n",
    "get_euclidian_distance(get_geocode(13101), get_geocode(13102))"
   ]
  },
  {
   "cell_type": "code",
   "execution_count": 12,
   "metadata": {},
   "outputs": [],
   "source": [
    "asset_type = \"combined\"\n",
    "dataset_key = \"transactions\"\n",
    "years_ahead = 2\n",
    "\n",
    "metrics = {\n",
    "    \"median\": \"unit_price_median\",\n",
    "    \"gmean\": \"unit_price_gmean\",\n",
    "}\n",
    "\n",
    "granularity_columns = [\"area\", \"area_code\"]\n",
    "group_by_columns = granularity_columns + [\"year\"]\n",
    "\n",
    "metric_key = \"gmean\"\n",
    "metric = metrics[metric_key]\n",
    "metric_pct_chg = metric + \"_pct_chg\"\n",
    "\n",
    "normalized_metric_pct_chg = metric_pct_chg + \"_normalized_yearly\"\n",
    "\n",
    "dataset_name = f\"sequence_{dataset_key}_{asset_type}_{metric_key}_{years_ahead}\"\n",
    "model_ready_data_path = model_ready_data_paths[dataset_name]\n",
    "\n",
    "df = pd.read_csv(model_ready_data_path)\n"
   ]
  },
  {
   "cell_type": "code",
   "execution_count": 27,
   "metadata": {},
   "outputs": [],
   "source": [
    "n_neighbours = 5\n",
    "all_area_codes = list(df[\"area_code\"].astype(str).unique())\n",
    "area_to_geocode = {area_code: get_geocode(area_code) for area_code in all_area_codes}\n",
    "area_to_neighbours = {area_code: find_neighbours(area_code, area_to_geocode, n_neighbours) for area_code in all_area_codes}\n",
    "area_to_neighbours_with_distance = {area_code: find_neighbours_with_distance(area_code, area_to_geocode, n_neighbours) for area_code in all_area_codes}"
   ]
  },
  {
   "cell_type": "code",
   "execution_count": 28,
   "metadata": {},
   "outputs": [
    {
     "data": {
      "text/plain": [
       "{'13103': 0.00832056392317546,\n",
       " '13102': 0.032463657480348386,\n",
       " '13104': 0.034864796987784656,\n",
       " '13113': 0.04489803650493661,\n",
       " '13105': 0.05288099209545874}"
      ]
     },
     "execution_count": 28,
     "metadata": {},
     "output_type": "execute_result"
    }
   ],
   "source": [
    "find_neighbours_with_distance(\"13101\", area_to_geocode, n_neighbours)"
   ]
  },
  {
   "cell_type": "code",
   "execution_count": 32,
   "metadata": {},
   "outputs": [],
   "source": [
    "neighbours_path = f\"{DATA_DIRECTORY_PATH}/neighbours/{n_neighbours}.json\"\n",
    "with open(neighbours_path, 'w') as fd:\n",
    "    json.dump(area_to_neighbours_with_distance, fd)"
   ]
  },
  {
   "cell_type": "code",
   "execution_count": null,
   "metadata": {},
   "outputs": [],
   "source": []
  }
 ],
 "metadata": {
  "kernelspec": {
   "display_name": "venv38",
   "language": "python",
   "name": "python3"
  },
  "language_info": {
   "codemirror_mode": {
    "name": "ipython",
    "version": 3
   },
   "file_extension": ".py",
   "mimetype": "text/x-python",
   "name": "python",
   "nbconvert_exporter": "python",
   "pygments_lexer": "ipython3",
   "version": "3.8.18"
  }
 },
 "nbformat": 4,
 "nbformat_minor": 2
}
