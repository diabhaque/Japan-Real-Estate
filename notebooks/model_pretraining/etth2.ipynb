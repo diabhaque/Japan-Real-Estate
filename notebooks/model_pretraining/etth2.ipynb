{
 "cells": [
  {
   "cell_type": "code",
   "execution_count": 1,
   "metadata": {},
   "outputs": [
    {
     "name": "stderr",
     "output_type": "stream",
     "text": [
      "/Users/diab/Desktop/japan_re/venv38/lib/python3.8/site-packages/tqdm/auto.py:22: TqdmWarning: IProgress not found. Please update jupyter and ipywidgets. See https://ipywidgets.readthedocs.io/en/stable/user_install.html\n",
      "  from .autonotebook import tqdm as notebook_tqdm\n"
     ]
    }
   ],
   "source": [
    "import warnings\n",
    "\n",
    "import numpy as np\n",
    "import pandas as pd\n",
    "import matplotlib.pyplot as plt\n",
    "import seaborn as sns\n",
    "\n",
    "from tqdm.auto import tqdm\n",
    "\n",
    "import torch\n",
    "from torch.utils.data import DataLoader\n",
    "from torchvision import transforms\n",
    "\n",
    "from transformers import AdamW, get_scheduler\n",
    "\n",
    "from jre_utils.datapath import (\n",
    "    processed_pretraining_data_paths,\n",
    "    pretraining_data_paths,\n",
    "    pretrained_weights_paths,\n",
    ")\n",
    "from jre_utils.data import TimeSeriesDataset, PadAndMask, ToNumpy, ToTensor\n",
    "from jre_utils.models import TimeSeriesTransformerModel\n",
    "from jre_utils.engine import (\n",
    "    evaluate,\n",
    "    train,\n",
    "    EarlyStopper,\n",
    ")\n",
    "from jre_utils.metrics import MSELossWeighted\n",
    "\n",
    "warnings.filterwarnings(\"ignore\")\n",
    "pd.set_option(\"display.max_columns\", None)"
   ]
  },
  {
   "cell_type": "code",
   "execution_count": 2,
   "metadata": {},
   "outputs": [],
   "source": [
    "dataset = \"etth2\"\n",
    "df = pd.read_csv(pretraining_data_paths[dataset])\n",
    "date_time = pd.to_datetime(df.pop(\"date\"), format='%Y/%m/%d %H:%M')"
   ]
  },
  {
   "cell_type": "code",
   "execution_count": 3,
   "metadata": {},
   "outputs": [
    {
     "data": {
      "text/html": [
       "<div>\n",
       "<style scoped>\n",
       "    .dataframe tbody tr th:only-of-type {\n",
       "        vertical-align: middle;\n",
       "    }\n",
       "\n",
       "    .dataframe tbody tr th {\n",
       "        vertical-align: top;\n",
       "    }\n",
       "\n",
       "    .dataframe thead th {\n",
       "        text-align: right;\n",
       "    }\n",
       "</style>\n",
       "<table border=\"1\" class=\"dataframe\">\n",
       "  <thead>\n",
       "    <tr style=\"text-align: right;\">\n",
       "      <th></th>\n",
       "      <th>HUFL</th>\n",
       "      <th>HULL</th>\n",
       "      <th>MUFL</th>\n",
       "      <th>MULL</th>\n",
       "      <th>LUFL</th>\n",
       "      <th>LULL</th>\n",
       "      <th>OT</th>\n",
       "    </tr>\n",
       "  </thead>\n",
       "  <tbody>\n",
       "    <tr>\n",
       "      <th>0</th>\n",
       "      <td>41.130001</td>\n",
       "      <td>12.481</td>\n",
       "      <td>36.535999</td>\n",
       "      <td>9.355</td>\n",
       "      <td>4.424</td>\n",
       "      <td>1.311</td>\n",
       "      <td>38.661999</td>\n",
       "    </tr>\n",
       "    <tr>\n",
       "      <th>1</th>\n",
       "      <td>37.528000</td>\n",
       "      <td>10.136</td>\n",
       "      <td>33.936001</td>\n",
       "      <td>7.532</td>\n",
       "      <td>4.435</td>\n",
       "      <td>1.215</td>\n",
       "      <td>37.124001</td>\n",
       "    </tr>\n",
       "    <tr>\n",
       "      <th>2</th>\n",
       "      <td>37.946999</td>\n",
       "      <td>11.309</td>\n",
       "      <td>35.330002</td>\n",
       "      <td>9.007</td>\n",
       "      <td>2.100</td>\n",
       "      <td>0.000</td>\n",
       "      <td>36.465000</td>\n",
       "    </tr>\n",
       "    <tr>\n",
       "      <th>3</th>\n",
       "      <td>38.952000</td>\n",
       "      <td>11.895</td>\n",
       "      <td>35.543999</td>\n",
       "      <td>9.436</td>\n",
       "      <td>3.380</td>\n",
       "      <td>1.215</td>\n",
       "      <td>33.608501</td>\n",
       "    </tr>\n",
       "    <tr>\n",
       "      <th>4</th>\n",
       "      <td>38.113998</td>\n",
       "      <td>11.476</td>\n",
       "      <td>35.410000</td>\n",
       "      <td>9.623</td>\n",
       "      <td>2.036</td>\n",
       "      <td>0.000</td>\n",
       "      <td>31.850500</td>\n",
       "    </tr>\n",
       "    <tr>\n",
       "      <th>...</th>\n",
       "      <td>...</td>\n",
       "      <td>...</td>\n",
       "      <td>...</td>\n",
       "      <td>...</td>\n",
       "      <td>...</td>\n",
       "      <td>...</td>\n",
       "      <td>...</td>\n",
       "    </tr>\n",
       "    <tr>\n",
       "      <th>17415</th>\n",
       "      <td>39.202999</td>\n",
       "      <td>11.392</td>\n",
       "      <td>49.644001</td>\n",
       "      <td>11.929</td>\n",
       "      <td>-10.331</td>\n",
       "      <td>-1.258</td>\n",
       "      <td>47.084999</td>\n",
       "    </tr>\n",
       "    <tr>\n",
       "      <th>17416</th>\n",
       "      <td>38.113998</td>\n",
       "      <td>10.974</td>\n",
       "      <td>48.759998</td>\n",
       "      <td>11.366</td>\n",
       "      <td>-10.331</td>\n",
       "      <td>-1.290</td>\n",
       "      <td>48.183498</td>\n",
       "    </tr>\n",
       "    <tr>\n",
       "      <th>17417</th>\n",
       "      <td>39.622002</td>\n",
       "      <td>10.974</td>\n",
       "      <td>50.609001</td>\n",
       "      <td>11.661</td>\n",
       "      <td>-11.557</td>\n",
       "      <td>-1.418</td>\n",
       "      <td>48.183498</td>\n",
       "    </tr>\n",
       "    <tr>\n",
       "      <th>17418</th>\n",
       "      <td>43.643002</td>\n",
       "      <td>13.403</td>\n",
       "      <td>54.737000</td>\n",
       "      <td>13.778</td>\n",
       "      <td>-10.299</td>\n",
       "      <td>-1.418</td>\n",
       "      <td>46.865501</td>\n",
       "    </tr>\n",
       "    <tr>\n",
       "      <th>17419</th>\n",
       "      <td>38.868000</td>\n",
       "      <td>10.052</td>\n",
       "      <td>49.859001</td>\n",
       "      <td>10.669</td>\n",
       "      <td>-11.525</td>\n",
       "      <td>-1.418</td>\n",
       "      <td>45.986500</td>\n",
       "    </tr>\n",
       "  </tbody>\n",
       "</table>\n",
       "<p>17420 rows × 7 columns</p>\n",
       "</div>"
      ],
      "text/plain": [
       "            HUFL    HULL       MUFL    MULL    LUFL   LULL         OT\n",
       "0      41.130001  12.481  36.535999   9.355   4.424  1.311  38.661999\n",
       "1      37.528000  10.136  33.936001   7.532   4.435  1.215  37.124001\n",
       "2      37.946999  11.309  35.330002   9.007   2.100  0.000  36.465000\n",
       "3      38.952000  11.895  35.543999   9.436   3.380  1.215  33.608501\n",
       "4      38.113998  11.476  35.410000   9.623   2.036  0.000  31.850500\n",
       "...          ...     ...        ...     ...     ...    ...        ...\n",
       "17415  39.202999  11.392  49.644001  11.929 -10.331 -1.258  47.084999\n",
       "17416  38.113998  10.974  48.759998  11.366 -10.331 -1.290  48.183498\n",
       "17417  39.622002  10.974  50.609001  11.661 -11.557 -1.418  48.183498\n",
       "17418  43.643002  13.403  54.737000  13.778 -10.299 -1.418  46.865501\n",
       "17419  38.868000  10.052  49.859001  10.669 -11.525 -1.418  45.986500\n",
       "\n",
       "[17420 rows x 7 columns]"
      ]
     },
     "execution_count": 3,
     "metadata": {},
     "output_type": "execute_result"
    }
   ],
   "source": [
    "df"
   ]
  },
  {
   "cell_type": "code",
   "execution_count": 4,
   "metadata": {},
   "outputs": [
    {
     "data": {
      "image/png": "[encoded data removed]",
      "text/plain": [
       "<Figure size 640x480 with 4 Axes>"
      ]
     },
     "metadata": {},
     "output_type": "display_data"
    }
   ],
   "source": [
    "plot_cols = ['HUFL', 'HULL', 'MUFL', 'OT']\n",
    "plot_features = df[plot_cols]\n",
    "plot_features.index = date_time\n",
    "_ = plot_features.plot(subplots=True)\n"
   ]
  },
  {
   "cell_type": "code",
   "execution_count": 5,
   "metadata": {},
   "outputs": [
    {
     "data": {
      "text/html": [
       "<div>\n",
       "<style scoped>\n",
       "    .dataframe tbody tr th:only-of-type {\n",
       "        vertical-align: middle;\n",
       "    }\n",
       "\n",
       "    .dataframe tbody tr th {\n",
       "        vertical-align: top;\n",
       "    }\n",
       "\n",
       "    .dataframe thead th {\n",
       "        text-align: right;\n",
       "    }\n",
       "</style>\n",
       "<table border=\"1\" class=\"dataframe\">\n",
       "  <thead>\n",
       "    <tr style=\"text-align: right;\">\n",
       "      <th></th>\n",
       "      <th>count</th>\n",
       "      <th>mean</th>\n",
       "      <th>std</th>\n",
       "      <th>min</th>\n",
       "      <th>25%</th>\n",
       "      <th>50%</th>\n",
       "      <th>75%</th>\n",
       "      <th>max</th>\n",
       "    </tr>\n",
       "  </thead>\n",
       "  <tbody>\n",
       "    <tr>\n",
       "      <th>HUFL</th>\n",
       "      <td>17420.0</td>\n",
       "      <td>37.193346</td>\n",
       "      <td>10.218855</td>\n",
       "      <td>0.0000</td>\n",
       "      <td>30.156000</td>\n",
       "      <td>37.193001</td>\n",
       "      <td>44.062000</td>\n",
       "      <td>107.892998</td>\n",
       "    </tr>\n",
       "    <tr>\n",
       "      <th>HULL</th>\n",
       "      <td>17420.0</td>\n",
       "      <td>8.537565</td>\n",
       "      <td>6.020442</td>\n",
       "      <td>-18.6800</td>\n",
       "      <td>4.523000</td>\n",
       "      <td>9.131000</td>\n",
       "      <td>13.152000</td>\n",
       "      <td>36.438999</td>\n",
       "    </tr>\n",
       "    <tr>\n",
       "      <th>MUFL</th>\n",
       "      <td>17420.0</td>\n",
       "      <td>43.830356</td>\n",
       "      <td>13.056798</td>\n",
       "      <td>11.2050</td>\n",
       "      <td>37.394001</td>\n",
       "      <td>41.388000</td>\n",
       "      <td>46.078999</td>\n",
       "      <td>93.230003</td>\n",
       "    </tr>\n",
       "    <tr>\n",
       "      <th>MULL</th>\n",
       "      <td>17420.0</td>\n",
       "      <td>8.322694</td>\n",
       "      <td>4.366059</td>\n",
       "      <td>-6.5940</td>\n",
       "      <td>5.683000</td>\n",
       "      <td>9.302000</td>\n",
       "      <td>11.258000</td>\n",
       "      <td>28.736000</td>\n",
       "    </tr>\n",
       "    <tr>\n",
       "      <th>LUFL</th>\n",
       "      <td>17420.0</td>\n",
       "      <td>-3.423605</td>\n",
       "      <td>6.144403</td>\n",
       "      <td>-14.3500</td>\n",
       "      <td>-9.254000</td>\n",
       "      <td>-3.774000</td>\n",
       "      <td>2.527000</td>\n",
       "      <td>17.218000</td>\n",
       "    </tr>\n",
       "    <tr>\n",
       "      <th>LULL</th>\n",
       "      <td>17420.0</td>\n",
       "      <td>-2.085969</td>\n",
       "      <td>6.012796</td>\n",
       "      <td>-31.4620</td>\n",
       "      <td>-2.505000</td>\n",
       "      <td>-1.226000</td>\n",
       "      <td>0.000000</td>\n",
       "      <td>2.932000</td>\n",
       "    </tr>\n",
       "    <tr>\n",
       "      <th>OT</th>\n",
       "      <td>17420.0</td>\n",
       "      <td>26.609376</td>\n",
       "      <td>11.888266</td>\n",
       "      <td>-2.6465</td>\n",
       "      <td>16.469500</td>\n",
       "      <td>26.577000</td>\n",
       "      <td>35.585999</td>\n",
       "      <td>58.876999</td>\n",
       "    </tr>\n",
       "  </tbody>\n",
       "</table>\n",
       "</div>"
      ],
      "text/plain": [
       "        count       mean        std      min        25%        50%        75%  \\\n",
       "HUFL  17420.0  37.193346  10.218855   0.0000  30.156000  37.193001  44.062000   \n",
       "HULL  17420.0   8.537565   6.020442 -18.6800   4.523000   9.131000  13.152000   \n",
       "MUFL  17420.0  43.830356  13.056798  11.2050  37.394001  41.388000  46.078999   \n",
       "MULL  17420.0   8.322694   4.366059  -6.5940   5.683000   9.302000  11.258000   \n",
       "LUFL  17420.0  -3.423605   6.144403 -14.3500  -9.254000  -3.774000   2.527000   \n",
       "LULL  17420.0  -2.085969   6.012796 -31.4620  -2.505000  -1.226000   0.000000   \n",
       "OT    17420.0  26.609376  11.888266  -2.6465  16.469500  26.577000  35.585999   \n",
       "\n",
       "             max  \n",
       "HUFL  107.892998  \n",
       "HULL   36.438999  \n",
       "MUFL   93.230003  \n",
       "MULL   28.736000  \n",
       "LUFL   17.218000  \n",
       "LULL    2.932000  \n",
       "OT     58.876999  "
      ]
     },
     "execution_count": 5,
     "metadata": {},
     "output_type": "execute_result"
    }
   ],
   "source": [
    "df.describe().transpose()"
   ]
  },
  {
   "cell_type": "code",
   "execution_count": 6,
   "metadata": {},
   "outputs": [],
   "source": [
    "column_indices = {name: i for i, name in enumerate(df.columns)}\n",
    "\n",
    "n = len(df)\n",
    "train_df = df[0:int(n*0.9)]\n",
    "val_df = df[int(n*0.9):]\n",
    "\n",
    "num_features = df.shape[1]"
   ]
  },
  {
   "cell_type": "code",
   "execution_count": 7,
   "metadata": {},
   "outputs": [],
   "source": [
    "train_mean = train_df.mean()\n",
    "train_std = train_df.std()\n",
    "\n",
    "train_df = (train_df - train_mean) / train_std\n",
    "val_df = (val_df - train_mean) / train_std"
   ]
  },
  {
   "cell_type": "code",
   "execution_count": 8,
   "metadata": {},
   "outputs": [
    {
     "data": {
      "text/html": [
       "<div>\n",
       "<style scoped>\n",
       "    .dataframe tbody tr th:only-of-type {\n",
       "        vertical-align: middle;\n",
       "    }\n",
       "\n",
       "    .dataframe tbody tr th {\n",
       "        vertical-align: top;\n",
       "    }\n",
       "\n",
       "    .dataframe thead th {\n",
       "        text-align: right;\n",
       "    }\n",
       "</style>\n",
       "<table border=\"1\" class=\"dataframe\">\n",
       "  <thead>\n",
       "    <tr style=\"text-align: right;\">\n",
       "      <th></th>\n",
       "      <th>HUFL</th>\n",
       "      <th>HULL</th>\n",
       "      <th>MUFL</th>\n",
       "      <th>MULL</th>\n",
       "      <th>LUFL</th>\n",
       "      <th>LULL</th>\n",
       "      <th>OT</th>\n",
       "    </tr>\n",
       "  </thead>\n",
       "  <tbody>\n",
       "    <tr>\n",
       "      <th>0</th>\n",
       "      <td>0.295373</td>\n",
       "      <td>0.616868</td>\n",
       "      <td>-0.567230</td>\n",
       "      <td>0.249512</td>\n",
       "      <td>1.188835</td>\n",
       "      <td>0.539492</td>\n",
       "      <td>1.059389</td>\n",
       "    </tr>\n",
       "    <tr>\n",
       "      <th>1</th>\n",
       "      <td>-0.056950</td>\n",
       "      <td>0.244388</td>\n",
       "      <td>-0.758545</td>\n",
       "      <td>-0.151082</td>\n",
       "      <td>1.190700</td>\n",
       "      <td>0.524334</td>\n",
       "      <td>0.932313</td>\n",
       "    </tr>\n",
       "    <tr>\n",
       "      <th>2</th>\n",
       "      <td>-0.015966</td>\n",
       "      <td>0.430708</td>\n",
       "      <td>-0.655971</td>\n",
       "      <td>0.173041</td>\n",
       "      <td>0.794729</td>\n",
       "      <td>0.332483</td>\n",
       "      <td>0.877863</td>\n",
       "    </tr>\n",
       "    <tr>\n",
       "      <th>3</th>\n",
       "      <td>0.082336</td>\n",
       "      <td>0.523788</td>\n",
       "      <td>-0.640224</td>\n",
       "      <td>0.267311</td>\n",
       "      <td>1.011792</td>\n",
       "      <td>0.524334</td>\n",
       "      <td>0.641846</td>\n",
       "    </tr>\n",
       "    <tr>\n",
       "      <th>4</th>\n",
       "      <td>0.000369</td>\n",
       "      <td>0.457234</td>\n",
       "      <td>-0.650084</td>\n",
       "      <td>0.308403</td>\n",
       "      <td>0.783876</td>\n",
       "      <td>0.332483</td>\n",
       "      <td>0.496592</td>\n",
       "    </tr>\n",
       "    <tr>\n",
       "      <th>...</th>\n",
       "      <td>...</td>\n",
       "      <td>...</td>\n",
       "      <td>...</td>\n",
       "      <td>...</td>\n",
       "      <td>...</td>\n",
       "      <td>...</td>\n",
       "      <td>...</td>\n",
       "    </tr>\n",
       "    <tr>\n",
       "      <th>15673</th>\n",
       "      <td>-1.916863</td>\n",
       "      <td>-0.713577</td>\n",
       "      <td>-1.105708</td>\n",
       "      <td>-0.545742</td>\n",
       "      <td>-1.288062</td>\n",
       "      <td>0.078261</td>\n",
       "      <td>-0.649163</td>\n",
       "    </tr>\n",
       "    <tr>\n",
       "      <th>15674</th>\n",
       "      <td>-1.998831</td>\n",
       "      <td>-1.365616</td>\n",
       "      <td>-1.151035</td>\n",
       "      <td>-0.616280</td>\n",
       "      <td>-1.217516</td>\n",
       "      <td>0.068155</td>\n",
       "      <td>-0.667299</td>\n",
       "    </tr>\n",
       "    <tr>\n",
       "      <th>15675</th>\n",
       "      <td>-2.039814</td>\n",
       "      <td>-1.365616</td>\n",
       "      <td>-1.275316</td>\n",
       "      <td>-0.710550</td>\n",
       "      <td>-1.183091</td>\n",
       "      <td>0.068155</td>\n",
       "      <td>-0.703654</td>\n",
       "    </tr>\n",
       "    <tr>\n",
       "      <th>15676</th>\n",
       "      <td>-2.015165</td>\n",
       "      <td>-1.365616</td>\n",
       "      <td>-1.249709</td>\n",
       "      <td>-0.792954</td>\n",
       "      <td>-1.186822</td>\n",
       "      <td>0.068155</td>\n",
       "      <td>-0.721790</td>\n",
       "    </tr>\n",
       "    <tr>\n",
       "      <th>15677</th>\n",
       "      <td>-2.318385</td>\n",
       "      <td>-1.365616</td>\n",
       "      <td>-1.358170</td>\n",
       "      <td>-0.857779</td>\n",
       "      <td>-1.454251</td>\n",
       "      <td>0.068155</td>\n",
       "      <td>-0.776281</td>\n",
       "    </tr>\n",
       "  </tbody>\n",
       "</table>\n",
       "<p>15678 rows × 7 columns</p>\n",
       "</div>"
      ],
      "text/plain": [
       "           HUFL      HULL      MUFL      MULL      LUFL      LULL        OT\n",
       "0      0.295373  0.616868 -0.567230  0.249512  1.188835  0.539492  1.059389\n",
       "1     -0.056950  0.244388 -0.758545 -0.151082  1.190700  0.524334  0.932313\n",
       "2     -0.015966  0.430708 -0.655971  0.173041  0.794729  0.332483  0.877863\n",
       "3      0.082336  0.523788 -0.640224  0.267311  1.011792  0.524334  0.641846\n",
       "4      0.000369  0.457234 -0.650084  0.308403  0.783876  0.332483  0.496592\n",
       "...         ...       ...       ...       ...       ...       ...       ...\n",
       "15673 -1.916863 -0.713577 -1.105708 -0.545742 -1.288062  0.078261 -0.649163\n",
       "15674 -1.998831 -1.365616 -1.151035 -0.616280 -1.217516  0.068155 -0.667299\n",
       "15675 -2.039814 -1.365616 -1.275316 -0.710550 -1.183091  0.068155 -0.703654\n",
       "15676 -2.015165 -1.365616 -1.249709 -0.792954 -1.186822  0.068155 -0.721790\n",
       "15677 -2.318385 -1.365616 -1.358170 -0.857779 -1.454251  0.068155 -0.776281\n",
       "\n",
       "[15678 rows x 7 columns]"
      ]
     },
     "execution_count": 8,
     "metadata": {},
     "output_type": "execute_result"
    }
   ],
   "source": [
    "train_df"
   ]
  },
  {
   "cell_type": "code",
   "execution_count": 9,
   "metadata": {},
   "outputs": [],
   "source": [
    "train_df.to_csv(processed_pretraining_data_paths[dataset][\"train\"], index=False)\n",
    "val_df.to_csv(processed_pretraining_data_paths[dataset][\"eval\"], index=False)"
   ]
  },
  {
   "cell_type": "code",
   "execution_count": 11,
   "metadata": {},
   "outputs": [],
   "source": [
    "# df_std = (df - train_mean) / train_std\n",
    "# df_std = df_std.melt(var_name='Column', value_name='Normalized')\n",
    "# plt.figure(figsize=(12, 6))\n",
    "# ax = sns.violinplot(x='Column', y='Normalized', data=df_std)\n",
    "# _ = ax.set_xticklabels(df.keys(), rotation=90)"
   ]
  },
  {
   "cell_type": "code",
   "execution_count": 12,
   "metadata": {},
   "outputs": [],
   "source": [
    "BATCH_SIZE = 64\n",
    "window_length = 10\n",
    "shift = 1\n",
    "\n",
    "feature_columns = df.columns\n",
    "# feature_columns = [\"OT\"]\n",
    "\n",
    "train_dataset = TimeSeriesDataset(\n",
    "    train_df,\n",
    "    metrics=[\"OT\"],\n",
    "    feature_columns=feature_columns,\n",
    "    window_length=window_length,\n",
    "    shift=shift,\n",
    "    transform=transforms.Compose(\n",
    "        [ToNumpy(), PadAndMask(pad_length=window_length), ToTensor()]\n",
    "    ),\n",
    ")\n",
    "val_dataset = TimeSeriesDataset(\n",
    "    val_df,\n",
    "    metrics=[\"OT\"],\n",
    "    feature_columns=feature_columns,\n",
    "    window_length=window_length,\n",
    "    shift=shift,\n",
    "    transform=transforms.Compose(\n",
    "        [ToNumpy(), PadAndMask(pad_length=window_length), ToTensor()]\n",
    "    ),\n",
    ")"
   ]
  },
  {
   "cell_type": "code",
   "execution_count": 13,
   "metadata": {},
   "outputs": [],
   "source": [
    "train_dataloader = DataLoader(train_dataset, batch_size=BATCH_SIZE, shuffle=False, num_workers=0)\n",
    "eval_dataloader = DataLoader(val_dataset, batch_size=BATCH_SIZE, shuffle=False, num_workers=0)"
   ]
  },
  {
   "cell_type": "code",
   "execution_count": 14,
   "metadata": {},
   "outputs": [
    {
     "name": "stdout",
     "output_type": "stream",
     "text": [
      "0 torch.Size([64, 10, 7]) torch.Size([64, 1])\n"
     ]
    }
   ],
   "source": [
    "for i, sample in enumerate(train_dataloader):\n",
    "    if i == 0:\n",
    "        print(i, sample[\"window\"].shape, sample[\"target\"].shape)\n",
    "        break"
   ]
  },
  {
   "cell_type": "code",
   "execution_count": 15,
   "metadata": {},
   "outputs": [
    {
     "name": "stdout",
     "output_type": "stream",
     "text": [
      "Using mps device\n"
     ]
    }
   ],
   "source": [
    "device = (\n",
    "    \"cuda\"\n",
    "    if torch.cuda.is_available()\n",
    "    else \"mps\"\n",
    "    if torch.backends.mps.is_available()\n",
    "    else \"cpu\"\n",
    ")\n",
    "# device = \"cpu\"\n",
    "print(f\"Using {device} device\")"
   ]
  },
  {
   "cell_type": "code",
   "execution_count": 16,
   "metadata": {},
   "outputs": [],
   "source": [
    "n_features = len(feature_columns)\n",
    "d_model = 128\n",
    "d_hid = 256\n",
    "nlayers = 4\n",
    "nhead = 4\n",
    "dropout = 0.1\n",
    "enc_dropout = 0\n",
    "\n",
    "model = TimeSeriesTransformerModel(\n",
    "    n_features=n_features,\n",
    "    d_model=d_model,\n",
    "    nhead=nhead,\n",
    "    d_hid=d_hid,\n",
    "    nlayers=nlayers,\n",
    "    dropout=dropout,\n",
    "    device=device,\n",
    ")\n",
    "model = model.to(device)\n"
   ]
  },
  {
   "cell_type": "code",
   "execution_count": 17,
   "metadata": {},
   "outputs": [
    {
     "name": "stdout",
     "output_type": "stream",
     "text": [
      "torch.Size([64, 10, 7]) torch.Size([64, 10]) torch.Size([64, 1]) torch.Size([64, 1])\n",
      "torch.Size([64, 1])\n",
      "Loss: 0.4865954518318176\n"
     ]
    }
   ],
   "source": [
    "model.eval()\n",
    "mse_loss_weighted = MSELossWeighted().to(device)\n",
    "\n",
    "with torch.no_grad():\n",
    "    for batch in eval_dataloader:\n",
    "        window = batch[\"window\"].to(device)\n",
    "        mask = batch[\"mask\"].to(device)\n",
    "        target = batch[\"target\"].to(device)\n",
    "        weight = batch[\"weight\"].to(device)\n",
    "\n",
    "        outputs = model(window, mask)\n",
    "        loss = mse_loss_weighted(outputs, target, weight)\n",
    "\n",
    "        print(\n",
    "            batch[\"window\"].shape,\n",
    "            batch[\"mask\"].shape,\n",
    "            batch[\"target\"].shape,\n",
    "            batch[\"weight\"].shape,\n",
    "        )\n",
    "\n",
    "        print(outputs.shape)\n",
    "        print(\"Loss:\", loss.item())\n",
    "\n",
    "        if i == 0:\n",
    "            break"
   ]
  },
  {
   "cell_type": "code",
   "execution_count": 18,
   "metadata": {},
   "outputs": [],
   "source": [
    "learning_rate = 1e-4\n",
    "num_epochs = 20"
   ]
  },
  {
   "cell_type": "code",
   "execution_count": 19,
   "metadata": {},
   "outputs": [],
   "source": [
    "train_losses, train_r2_scores = [], []\n",
    "eval_losses, eval_r2_scores = [], []"
   ]
  },
  {
   "cell_type": "code",
   "execution_count": 21,
   "metadata": {},
   "outputs": [
    {
     "name": "stderr",
     "output_type": "stream",
     "text": [
      " 70%|███████   | 3430/4900 [05:02<02:09, 11.35it/s]"
     ]
    },
    {
     "name": "stdout",
     "output_type": "stream",
     "text": [
      "Early stopping at epoch 13\n"
     ]
    },
    {
     "name": "stderr",
     "output_type": "stream",
     "text": [
      "\n"
     ]
    }
   ],
   "source": [
    "num_training_steps = num_epochs * len(train_dataloader)\n",
    "\n",
    "optimizer = AdamW(model.parameters(), lr=learning_rate)\n",
    "lr_scheduler = get_scheduler(\n",
    "    \"linear\",\n",
    "    optimizer=optimizer,\n",
    "    num_warmup_steps=0,\n",
    "    num_training_steps=num_training_steps,\n",
    ")\n",
    "\n",
    "progress_bar = tqdm(range(num_training_steps))\n",
    "early_stopper = EarlyStopper(patience=5, min_delta=0.01)\n",
    "\n",
    "for epoch in range(num_epochs):\n",
    "    train_loss, train_r2_score = train(\n",
    "        model, train_dataloader, optimizer, lr_scheduler, progress_bar, device=device\n",
    "    )\n",
    "    train_losses.append(train_loss)\n",
    "    train_r2_scores.append(train_r2_score)\n",
    "\n",
    "    eval_loss, eval_r2_score = evaluate(model, eval_dataloader, device=device)\n",
    "    eval_losses.append(eval_loss)\n",
    "    eval_r2_scores.append(eval_r2_score)\n",
    "\n",
    "    if early_stopper.early_stop(eval_loss):\n",
    "        print(f\"Early stopping at epoch {epoch}\")\n",
    "        break\n",
    "\n",
    "\n",
    "progress_bar.close()"
   ]
  },
  {
   "cell_type": "code",
   "execution_count": 22,
   "metadata": {},
   "outputs": [
    {
     "data": {
      "image/png": "[encoded data removed]",
      "text/plain": [
       "<Figure size 640x480 with 1 Axes>"
      ]
     },
     "metadata": {},
     "output_type": "display_data"
    }
   ],
   "source": [
    "# Plot MSE\n",
    "plt.plot(train_losses, label = \"train\")\n",
    "plt.plot(eval_losses, label = \"eval\")\n",
    "plt.xlabel('epoch')\n",
    "plt.ylabel('loss')\n",
    "plt.title('loss over epochs')\n",
    "plt.legend()\n",
    "plt.show()"
   ]
  },
  {
   "cell_type": "code",
   "execution_count": 23,
   "metadata": {},
   "outputs": [
    {
     "data": {
      "image/png": "[encoded data removed]",
      "text/plain": [
       "<Figure size 640x480 with 1 Axes>"
      ]
     },
     "metadata": {},
     "output_type": "display_data"
    }
   ],
   "source": [
    "# Plot MSE\n",
    "plt.plot(train_losses, label = \"train\")\n",
    "plt.plot(eval_losses, label = \"eval\")\n",
    "plt.xlabel('epoch')\n",
    "plt.ylabel('loss')\n",
    "plt.title('loss over epochs')\n",
    "plt.legend()\n",
    "plt.show()"
   ]
  },
  {
   "cell_type": "code",
   "execution_count": 24,
   "metadata": {},
   "outputs": [
    {
     "data": {
      "image/png": "[encoded data removed]",
      "text/plain": [
       "<Figure size 640x480 with 1 Axes>"
      ]
     },
     "metadata": {},
     "output_type": "display_data"
    }
   ],
   "source": [
    "# Plot R2 scores\n",
    "plt.plot(train_r2_scores, label = \"train\")\n",
    "plt.plot(eval_r2_scores, label = \"eval\")\n",
    "plt.xlabel('epoch')\n",
    "plt.ylabel('r2 score')\n",
    "plt.title('r2 scores over epochs')\n",
    "plt.legend()\n",
    "plt.show()"
   ]
  },
  {
   "cell_type": "code",
   "execution_count": null,
   "metadata": {},
   "outputs": [],
   "source": []
  }
 ],
 "metadata": {
  "kernelspec": {
   "display_name": "venv38",
   "language": "python",
   "name": "python3"
  },
  "language_info": {
   "codemirror_mode": {
    "name": "ipython",
    "version": 3
   },
   "file_extension": ".py",
   "mimetype": "text/x-python",
   "name": "python",
   "nbconvert_exporter": "python",
   "pygments_lexer": "ipython3",
   "version": "3.8.18"
  }
 },
 "nbformat": 4,
 "nbformat_minor": 2
}
