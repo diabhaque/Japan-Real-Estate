{
 "cells": [
  {
   "cell_type": "code",
   "execution_count": 3,
   "metadata": {},
   "outputs": [],
   "source": [
    "import json\n",
    "from pprint import pprint\n",
    "\n",
    "from jre_utils.datapath import DATA_DIRECTORY_PATH\n",
    "\n",
    "# selenium 4\n",
    "from selenium import webdriver\n",
    "from selenium.webdriver.common.by import By\n",
    "from selenium.webdriver.chrome.service import Service as ChromeService\n",
    "from webdriver_manager.chrome import ChromeDriverManager"
   ]
  },
  {
   "cell_type": "code",
   "execution_count": null,
   "metadata": {},
   "outputs": [],
   "source": [
    "# Do not rerun accidentally\n",
    "driver = webdriver.Chrome(service=ChromeService(ChromeDriverManager().install()))"
   ]
  },
  {
   "cell_type": "code",
   "execution_count": 4,
   "metadata": {},
   "outputs": [
    {
     "name": "stdout",
     "output_type": "stream",
     "text": [
      "Example Land Price Announcement URL: https://www.land.mlit.go.jp/landPrice/SearchServlet?nccharset=953DFDC5&MOD=0&TDK=&SKC=&CHI=&YFR=2023&YTO=2023&YOU=0%2C3%2C5%2C7%2C9&PFR=&PTO=&PG=0&LATEST_YEAR=\n",
      "Example Prefectural Land Price Survey URL: https://www.land.mlit.go.jp/landPrice/SearchServlet?nccharset=953DFDC5&MOD=1&TDK=&SKC=&CHI=&YFR=2023&YTO=2023&YOU=0%2C3%2C5%2C7%2C9&PFR=&PTO=&PG=0&LATEST_YEAR=\n"
     ]
    }
   ],
   "source": [
    "year = 2023\n",
    "page = 122\n",
    "\n",
    "def get_mlit_url(mod, year, page=0):\n",
    "    return f\"https://www.land.mlit.go.jp/landPrice/SearchServlet?nccharset=953DFDC5&MOD={mod}&TDK=&SKC=&CHI=&YFR={year}&YTO={year}&YOU=0%2C3%2C5%2C7%2C9&PFR=&PTO=&PG={page}&LATEST_YEAR=\"\n",
    "\n",
    "\n",
    "def get_lpa_url(year, page=0):\n",
    "    return get_mlit_url(0, year, page)\n",
    "\n",
    "\n",
    "def get_plps_url(year, page=0):\n",
    "    return get_mlit_url(1, year, page)\n",
    "\n",
    "\n",
    "print(f\"Example Land Price Announcement URL: {get_lpa_url(year)}\")\n",
    "print(f\"Example Prefectural Land Price Survey URL: {get_plps_url(year)}\")"
   ]
  },
  {
   "cell_type": "code",
   "execution_count": 23,
   "metadata": {},
   "outputs": [],
   "source": [
    "def get_final_page_number(driver, url):\n",
    "    driver.get(url)\n",
    "\n",
    "    # Find all elements with class 'paging_off'\n",
    "    paging_off_elements = driver.find_elements(By.CLASS_NAME, 'paging_off')\n",
    "\n",
    "    # Extract the last element and get its href attribute\n",
    "    last_page_element = paging_off_elements[-1]\n",
    "    last_page_href = last_page_element.get_attribute('href')\n",
    "\n",
    "    # Extract the page number from the href attribute\n",
    "    last_page_number = int(last_page_href.split(\"'\")[1])\n",
    "\n",
    "    return last_page_number"
   ]
  },
  {
   "cell_type": "code",
   "execution_count": 53,
   "metadata": {},
   "outputs": [],
   "source": [
    "lpa_year_to_page_count = {\n",
    "    year: get_final_page_number(driver, get_lpa_url(year))\n",
    "    for year in range(1971, 2024)\n",
    "}\n",
    "\n",
    "plps_year_to_page_count = {\n",
    "    year: get_final_page_number(driver, get_plps_url(year))\n",
    "    for year in range(1997, 2024)\n",
    "}"
   ]
  },
  {
   "cell_type": "code",
   "execution_count": null,
   "metadata": {},
   "outputs": [],
   "source": [
    "# Saving each file\n",
    "plps_year_to_page_count_path = f\"{DATA_DIRECTORY_PATH}/core_scraped/plps_year_to_page_count.json\"\n",
    "with open(plps_year_to_page_count_path, 'w') as fp:\n",
    "    json.dump(plps_year_to_page_count, fp)\n",
    "    \n",
    "    \n",
    "lpa_year_to_page_count_path = f\"{DATA_DIRECTORY_PATH}/core_scraped/lpa_year_to_page_count.json\"\n",
    "with open(lpa_year_to_page_count_path, 'w') as fp:\n",
    "    json.dump(lpa_year_to_page_count, fp)"
   ]
  },
  {
   "cell_type": "code",
   "execution_count": 60,
   "metadata": {},
   "outputs": [
    {
     "name": "stdout",
     "output_type": "stream",
     "text": [
      "{'1997': 1372,\n",
      " '1998': 1381,\n",
      " '1999': 1279,\n",
      " '2000': 1261,\n",
      " '2001': 1262,\n",
      " '2002': 1262,\n",
      " '2003': 1263,\n",
      " '2004': 1259,\n",
      " '2005': 1216,\n",
      " '2006': 1165,\n",
      " '2007': 1123,\n",
      " '2008': 1096,\n",
      " '2009': 1065,\n",
      " '2010': 1050,\n",
      " '2011': 1038,\n",
      " '2012': 1027,\n",
      " '2013': 1072,\n",
      " '2014': 1061,\n",
      " '2015': 1060,\n",
      " '2016': 1057,\n",
      " '2017': 1056,\n",
      " '2018': 1054,\n",
      " '2019': 1053,\n",
      " '2020': 1053,\n",
      " '2021': 1050,\n",
      " '2022': 1050,\n",
      " '2023': 1047}\n"
     ]
    }
   ],
   "source": [
    "with open(plps_year_to_page_count_path) as fd:\n",
    "     plps_year_to_page_count = json.load(fd)\n",
    "     pprint(plps_year_to_page_count)\n",
    "\n",
    "with open(lpa_year_to_page_count_path) as fd:\n",
    "     lpa_year_to_page_count = json.load(fd)\n",
    "     pprint(lpa_year_to_page_count)\n",
    "     "
   ]
  },
  {
   "cell_type": "code",
   "execution_count": null,
   "metadata": {},
   "outputs": [],
   "source": []
  }
 ],
 "metadata": {
  "kernelspec": {
   "display_name": "venv",
   "language": "python",
   "name": "python3"
  },
  "language_info": {
   "codemirror_mode": {
    "name": "ipython",
    "version": 3
   },
   "file_extension": ".py",
   "mimetype": "text/x-python",
   "name": "python",
   "nbconvert_exporter": "python",
   "pygments_lexer": "ipython3",
   "version": "3.12.0"
  }
 },
 "nbformat": 4,
 "nbformat_minor": 2
}
