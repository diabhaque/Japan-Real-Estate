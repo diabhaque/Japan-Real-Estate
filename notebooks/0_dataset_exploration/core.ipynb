{
 "cells": [
  {
   "cell_type": "code",
   "execution_count": 7,
   "metadata": {},
   "outputs": [],
   "source": [
    "import os\n",
    "import warnings\n",
    "import math\n",
    "\n",
    "import pandas as pd\n",
    "import numpy as np\n",
    "\n",
    "from tqdm import tqdm\n",
    "\n",
    "from jre_utils.datapath import (\n",
    "    DATA_DIRECTORY_PATH,\n",
    "    get_derived_csv_path,\n",
    ")\n",
    "from jre_utils.config import asset_types\n",
    "\n",
    "warnings.filterwarnings(\"ignore\")\n",
    "pd.set_option(\"display.max_columns\", None)"
   ]
  },
  {
   "cell_type": "code",
   "execution_count": 8,
   "metadata": {},
   "outputs": [],
   "source": [
    "def area_to_int(area):\n",
    "    if area == \"2,000 m^2 or greater.\":\n",
    "        return 2000\n",
    "    elif area == \"5000 m^2 or greater.\":\n",
    "        return 5000\n",
    "    else:\n",
    "        return int(area)"
   ]
  },
  {
   "cell_type": "code",
   "execution_count": 9,
   "metadata": {},
   "outputs": [
    {
     "name": "stdout",
     "output_type": "stream",
     "text": [
      "'E.g. Maps 1101 to 1100'\n",
      "'E.g. Maps 1100 to Hokkaido Sapporo-shi'\n"
     ]
    }
   ],
   "source": [
    "import json\n",
    "from pprint import pprint\n",
    "\n",
    "sub_city_to_city_path = f\"{DATA_DIRECTORY_PATH}/core_scraped/sub_city_to_city.json\"\n",
    "with open(sub_city_to_city_path) as fd:\n",
    "     sub_city_to_city = json.load(fd)\n",
    "     pprint(f\"E.g. Maps 1101 to {sub_city_to_city[\"1101\"]}\")\n",
    "\n",
    "area_code_to_area_path = f\"{DATA_DIRECTORY_PATH}/core_scraped/area_code_to_area.json\"\n",
    "with open(area_code_to_area_path) as fd:\n",
    "     area_code_to_area = json.load(fd)\n",
    "     pprint(f\"E.g. Maps 1100 to {area_code_to_area[\"1100\"]}\") \n",
    "\n",
    "# In the future, we may want to use the 175 sub cities and just skip this\n",
    "# Problem currently is that we don't have taxable income for sub cities\n",
    "def get_city_code(area_code):\n",
    "     return sub_city_to_city.get(area_code, area_code)\n",
    "\n",
    "def get_area_from_area_code(area_code):\n",
    "     return area_code_to_area.get(area_code, \"na\" )"
   ]
  },
  {
   "cell_type": "code",
   "execution_count": 10,
   "metadata": {},
   "outputs": [
    {
     "data": {
      "text/plain": [
       "'../../data/core/26_Kyoto Prefecture_20053_20232.csv'"
      ]
     },
     "execution_count": 10,
     "metadata": {},
     "output_type": "execute_result"
    }
   ],
   "source": [
    "prefecture_code = 26\n",
    "trade_prices_data_path = f\"{DATA_DIRECTORY_PATH}/core\"\n",
    "\n",
    "trade_prices_data_paths = [\n",
    "    f\"{trade_prices_data_path}/{filename}\"\n",
    "    for filename in sorted(os.listdir(trade_prices_data_path))\n",
    "]\n",
    "trade_prices_data_paths[prefecture_code - 1]"
   ]
  },
  {
   "cell_type": "code",
   "execution_count": 11,
   "metadata": {},
   "outputs": [],
   "source": [
    "df = pd.read_csv(trade_prices_data_paths[prefecture_code - 1], encoding=\"unicode_escape\", index_col=\"No\")\n",
    "df[\"area_code\"] = df[\"City,Town,Ward,Village code\"].astype(str)\n",
    "\n",
    "# we may want to skip the following step in the future\n",
    "df[\"area_code\"] = df[\"area_code\"].apply(get_city_code).astype(str)\n",
    "df[\"area\"] = df[\"area_code\"].apply(get_area_from_area_code)\n",
    "\n",
    "df[\"trade_price\"] = df[\"Transaction-price(total)\"]\n",
    "df[\"trade_area\"] = df[\"Area(m^2)\"].apply(area_to_int)\n",
    "df[\"unit_price\"] = df[\"Transaction-price(Unit price m^2)\"]\n",
    "df[\"trade_price_per_area\"] = df[\"trade_price\"] / df[\"trade_area\"]\n",
    "\n",
    "df[\"quarter\"] = df[\"Transaction period\"].apply(lambda x: int(x.split(\" \")[0][0]))\n",
    "df[\"year\"] = df[\"Transaction period\"].apply(lambda x: int(x.split(\" \")[2]))\n",
    "\n",
    "df[\"unit_price\"] = np.where(\n",
    "    df[\"unit_price\"].isna(),\n",
    "    df[\"trade_price_per_area\"],\n",
    "    df[\"unit_price\"],\n",
    ")\n",
    "\n",
    "# Only buildings df for now\n",
    "df = df[df[\"Type\"] == asset_types[\"building\"][\"label\"]]\n"
   ]
  },
  {
   "cell_type": "code",
   "execution_count": 12,
   "metadata": {},
   "outputs": [
    {
     "data": {
      "text/html": [
       "<div>\n",
       "<style scoped>\n",
       "    .dataframe tbody tr th:only-of-type {\n",
       "        vertical-align: middle;\n",
       "    }\n",
       "\n",
       "    .dataframe tbody tr th {\n",
       "        vertical-align: top;\n",
       "    }\n",
       "\n",
       "    .dataframe thead th {\n",
       "        text-align: right;\n",
       "    }\n",
       "</style>\n",
       "<table border=\"1\" class=\"dataframe\">\n",
       "  <thead>\n",
       "    <tr style=\"text-align: right;\">\n",
       "      <th></th>\n",
       "      <th>Type</th>\n",
       "      <th>Region</th>\n",
       "      <th>Area</th>\n",
       "      <th>Transaction-price(total)</th>\n",
       "      <th>Area(m^2)</th>\n",
       "      <th>Nearest stationFDistance(minute)</th>\n",
       "      <th>Use</th>\n",
       "      <th>Purpose of Use</th>\n",
       "      <th>Frontage roadFClassification</th>\n",
       "      <th>Transaction period</th>\n",
       "      <th>year</th>\n",
       "      <th>unit_price</th>\n",
       "    </tr>\n",
       "    <tr>\n",
       "      <th>No</th>\n",
       "      <th></th>\n",
       "      <th></th>\n",
       "      <th></th>\n",
       "      <th></th>\n",
       "      <th></th>\n",
       "      <th></th>\n",
       "      <th></th>\n",
       "      <th></th>\n",
       "      <th></th>\n",
       "      <th></th>\n",
       "      <th></th>\n",
       "      <th></th>\n",
       "    </tr>\n",
       "  </thead>\n",
       "  <tbody>\n",
       "    <tr>\n",
       "      <th>26204</th>\n",
       "      <td>Residential Land(Land and Building)</td>\n",
       "      <td>Residential Area</td>\n",
       "      <td>Ichimombashi</td>\n",
       "      <td>13000000</td>\n",
       "      <td>100</td>\n",
       "      <td>16</td>\n",
       "      <td>House</td>\n",
       "      <td>NaN</td>\n",
       "      <td>Private Road</td>\n",
       "      <td>1st quarter 2020</td>\n",
       "      <td>2020</td>\n",
       "      <td>130000.000000</td>\n",
       "    </tr>\n",
       "    <tr>\n",
       "      <th>26362</th>\n",
       "      <td>Residential Land(Land and Building)</td>\n",
       "      <td>Residential Area</td>\n",
       "      <td>Okukaiinji</td>\n",
       "      <td>33000000</td>\n",
       "      <td>90</td>\n",
       "      <td>21</td>\n",
       "      <td>House</td>\n",
       "      <td>House</td>\n",
       "      <td>City Road</td>\n",
       "      <td>1st quarter 2020</td>\n",
       "      <td>2020</td>\n",
       "      <td>366666.666667</td>\n",
       "    </tr>\n",
       "    <tr>\n",
       "      <th>26363</th>\n",
       "      <td>Residential Land(Land and Building)</td>\n",
       "      <td>Residential Area</td>\n",
       "      <td>Okukaiinji</td>\n",
       "      <td>29000000</td>\n",
       "      <td>85</td>\n",
       "      <td>23</td>\n",
       "      <td>House</td>\n",
       "      <td>House</td>\n",
       "      <td>City Road</td>\n",
       "      <td>1st quarter 2020</td>\n",
       "      <td>2020</td>\n",
       "      <td>341176.470588</td>\n",
       "    </tr>\n",
       "    <tr>\n",
       "      <th>26364</th>\n",
       "      <td>Residential Land(Land and Building)</td>\n",
       "      <td>Residential Area</td>\n",
       "      <td>Okukaiinji</td>\n",
       "      <td>33000000</td>\n",
       "      <td>90</td>\n",
       "      <td>21</td>\n",
       "      <td>House</td>\n",
       "      <td>House</td>\n",
       "      <td>Private Road</td>\n",
       "      <td>1st quarter 2020</td>\n",
       "      <td>2020</td>\n",
       "      <td>366666.666667</td>\n",
       "    </tr>\n",
       "    <tr>\n",
       "      <th>26365</th>\n",
       "      <td>Residential Land(Land and Building)</td>\n",
       "      <td>Residential Area</td>\n",
       "      <td>Okukaiinji</td>\n",
       "      <td>30000000</td>\n",
       "      <td>140</td>\n",
       "      <td>16</td>\n",
       "      <td>House</td>\n",
       "      <td>House</td>\n",
       "      <td>Private Road</td>\n",
       "      <td>1st quarter 2020</td>\n",
       "      <td>2020</td>\n",
       "      <td>214285.714286</td>\n",
       "    </tr>\n",
       "    <tr>\n",
       "      <th>...</th>\n",
       "      <td>...</td>\n",
       "      <td>...</td>\n",
       "      <td>...</td>\n",
       "      <td>...</td>\n",
       "      <td>...</td>\n",
       "      <td>...</td>\n",
       "      <td>...</td>\n",
       "      <td>...</td>\n",
       "      <td>...</td>\n",
       "      <td>...</td>\n",
       "      <td>...</td>\n",
       "      <td>...</td>\n",
       "    </tr>\n",
       "    <tr>\n",
       "      <th>27043</th>\n",
       "      <td>Residential Land(Land and Building)</td>\n",
       "      <td>Residential Area</td>\n",
       "      <td>Hanayama</td>\n",
       "      <td>54000000</td>\n",
       "      <td>240</td>\n",
       "      <td>11</td>\n",
       "      <td>House</td>\n",
       "      <td>House</td>\n",
       "      <td>City Road</td>\n",
       "      <td>4th quarter 2021</td>\n",
       "      <td>2021</td>\n",
       "      <td>225000.000000</td>\n",
       "    </tr>\n",
       "    <tr>\n",
       "      <th>27044</th>\n",
       "      <td>Residential Land(Land and Building)</td>\n",
       "      <td>Residential Area</td>\n",
       "      <td>Hanayama</td>\n",
       "      <td>47000000</td>\n",
       "      <td>250</td>\n",
       "      <td>10</td>\n",
       "      <td>House</td>\n",
       "      <td>House</td>\n",
       "      <td>City Road</td>\n",
       "      <td>4th quarter 2021</td>\n",
       "      <td>2021</td>\n",
       "      <td>188000.000000</td>\n",
       "    </tr>\n",
       "    <tr>\n",
       "      <th>27045</th>\n",
       "      <td>Residential Land(Land and Building)</td>\n",
       "      <td>Residential Area</td>\n",
       "      <td>Hanayama</td>\n",
       "      <td>76000000</td>\n",
       "      <td>440</td>\n",
       "      <td>10</td>\n",
       "      <td>House</td>\n",
       "      <td>House</td>\n",
       "      <td>City Road</td>\n",
       "      <td>4th quarter 2021</td>\n",
       "      <td>2021</td>\n",
       "      <td>172727.272727</td>\n",
       "    </tr>\n",
       "    <tr>\n",
       "      <th>27093</th>\n",
       "      <td>Residential Land(Land and Building)</td>\n",
       "      <td>Residential Area</td>\n",
       "      <td>Higashikotari</td>\n",
       "      <td>33000000</td>\n",
       "      <td>100</td>\n",
       "      <td>9</td>\n",
       "      <td>House</td>\n",
       "      <td>House</td>\n",
       "      <td>City Road</td>\n",
       "      <td>4th quarter 2021</td>\n",
       "      <td>2021</td>\n",
       "      <td>330000.000000</td>\n",
       "    </tr>\n",
       "    <tr>\n",
       "      <th>27109</th>\n",
       "      <td>Residential Land(Land and Building)</td>\n",
       "      <td>Residential Area</td>\n",
       "      <td>Midorigaoka</td>\n",
       "      <td>32000000</td>\n",
       "      <td>90</td>\n",
       "      <td>13</td>\n",
       "      <td>NaN</td>\n",
       "      <td>House</td>\n",
       "      <td>City Road</td>\n",
       "      <td>4th quarter 2021</td>\n",
       "      <td>2021</td>\n",
       "      <td>355555.555556</td>\n",
       "    </tr>\n",
       "  </tbody>\n",
       "</table>\n",
       "<p>222 rows × 12 columns</p>\n",
       "</div>"
      ],
      "text/plain": [
       "                                      Type            Region           Area  \\\n",
       "No                                                                            \n",
       "26204  Residential Land(Land and Building)  Residential Area   Ichimombashi   \n",
       "26362  Residential Land(Land and Building)  Residential Area     Okukaiinji   \n",
       "26363  Residential Land(Land and Building)  Residential Area     Okukaiinji   \n",
       "26364  Residential Land(Land and Building)  Residential Area     Okukaiinji   \n",
       "26365  Residential Land(Land and Building)  Residential Area     Okukaiinji   \n",
       "...                                    ...               ...            ...   \n",
       "27043  Residential Land(Land and Building)  Residential Area       Hanayama   \n",
       "27044  Residential Land(Land and Building)  Residential Area       Hanayama   \n",
       "27045  Residential Land(Land and Building)  Residential Area       Hanayama   \n",
       "27093  Residential Land(Land and Building)  Residential Area  Higashikotari   \n",
       "27109  Residential Land(Land and Building)  Residential Area    Midorigaoka   \n",
       "\n",
       "       Transaction-price(total) Area(m^2) Nearest stationFDistance(minute)  \\\n",
       "No                                                                            \n",
       "26204                  13000000       100                                16   \n",
       "26362                  33000000        90                                21   \n",
       "26363                  29000000        85                                23   \n",
       "26364                  33000000        90                                21   \n",
       "26365                  30000000       140                                16   \n",
       "...                         ...       ...                               ...   \n",
       "27043                  54000000       240                                11   \n",
       "27044                  47000000       250                                10   \n",
       "27045                  76000000       440                                10   \n",
       "27093                  33000000       100                                 9   \n",
       "27109                  32000000        90                                13   \n",
       "\n",
       "         Use Purpose of Use Frontage roadFClassification Transaction period  \\\n",
       "No                                                                             \n",
       "26204  House            NaN                  Private Road   1st quarter 2020   \n",
       "26362  House          House                     City Road   1st quarter 2020   \n",
       "26363  House          House                     City Road   1st quarter 2020   \n",
       "26364  House          House                  Private Road   1st quarter 2020   \n",
       "26365  House          House                  Private Road   1st quarter 2020   \n",
       "...      ...            ...                           ...                ...   \n",
       "27043  House          House                     City Road   4th quarter 2021   \n",
       "27044  House          House                     City Road   4th quarter 2021   \n",
       "27045  House          House                     City Road   4th quarter 2021   \n",
       "27093  House          House                     City Road   4th quarter 2021   \n",
       "27109    NaN          House                     City Road   4th quarter 2021   \n",
       "\n",
       "       year     unit_price  \n",
       "No                          \n",
       "26204  2020  130000.000000  \n",
       "26362  2020  366666.666667  \n",
       "26363  2020  341176.470588  \n",
       "26364  2020  366666.666667  \n",
       "26365  2020  214285.714286  \n",
       "...     ...            ...  \n",
       "27043  2021  225000.000000  \n",
       "27044  2021  188000.000000  \n",
       "27045  2021  172727.272727  \n",
       "27093  2021  330000.000000  \n",
       "27109  2021  355555.555556  \n",
       "\n",
       "[222 rows x 12 columns]"
      ]
     },
     "execution_count": 12,
     "metadata": {},
     "output_type": "execute_result"
    }
   ],
   "source": [
    "area_code = 26209\n",
    "columns = [\"Type\", \"Region\", \"Area\", \"Transaction-price(total)\", \"Area(m^2)\", \"Nearest stationFDistance(minute)\", \"Use\", \"Purpose of Use\", \"Frontage roadFClassification\", \"Transaction period\", \"year\", \"unit_price\"]\n",
    "area_df = df[(df[\"City,Town,Ward,Village code\"] == area_code)]\n",
    "area_df[area_df[\"year\"].isin(list(range(2020, 2022)))].sort_values(by=[\"year\", \"quarter\"])[columns]\n"
   ]
  },
  {
   "cell_type": "code",
   "execution_count": 13,
   "metadata": {},
   "outputs": [
    {
     "data": {
      "text/html": [
       "<div>\n",
       "<style scoped>\n",
       "    .dataframe tbody tr th:only-of-type {\n",
       "        vertical-align: middle;\n",
       "    }\n",
       "\n",
       "    .dataframe tbody tr th {\n",
       "        vertical-align: top;\n",
       "    }\n",
       "\n",
       "    .dataframe thead th {\n",
       "        text-align: right;\n",
       "    }\n",
       "</style>\n",
       "<table border=\"1\" class=\"dataframe\">\n",
       "  <thead>\n",
       "    <tr style=\"text-align: right;\">\n",
       "      <th></th>\n",
       "      <th>unit_price</th>\n",
       "    </tr>\n",
       "    <tr>\n",
       "      <th>year</th>\n",
       "      <th></th>\n",
       "    </tr>\n",
       "  </thead>\n",
       "  <tbody>\n",
       "    <tr>\n",
       "      <th>2005</th>\n",
       "      <td>288311.688312</td>\n",
       "    </tr>\n",
       "    <tr>\n",
       "      <th>2006</th>\n",
       "      <td>320000.000000</td>\n",
       "    </tr>\n",
       "    <tr>\n",
       "      <th>2007</th>\n",
       "      <td>269617.893756</td>\n",
       "    </tr>\n",
       "    <tr>\n",
       "      <th>2008</th>\n",
       "      <td>308101.851852</td>\n",
       "    </tr>\n",
       "    <tr>\n",
       "      <th>2009</th>\n",
       "      <td>280000.000000</td>\n",
       "    </tr>\n",
       "    <tr>\n",
       "      <th>2010</th>\n",
       "      <td>290909.090909</td>\n",
       "    </tr>\n",
       "    <tr>\n",
       "      <th>2011</th>\n",
       "      <td>269696.969697</td>\n",
       "    </tr>\n",
       "    <tr>\n",
       "      <th>2012</th>\n",
       "      <td>292058.823529</td>\n",
       "    </tr>\n",
       "    <tr>\n",
       "      <th>2013</th>\n",
       "      <td>266666.666667</td>\n",
       "    </tr>\n",
       "    <tr>\n",
       "      <th>2014</th>\n",
       "      <td>235897.435897</td>\n",
       "    </tr>\n",
       "    <tr>\n",
       "      <th>2015</th>\n",
       "      <td>241428.571429</td>\n",
       "    </tr>\n",
       "    <tr>\n",
       "      <th>2016</th>\n",
       "      <td>280000.000000</td>\n",
       "    </tr>\n",
       "    <tr>\n",
       "      <th>2017</th>\n",
       "      <td>291891.891892</td>\n",
       "    </tr>\n",
       "    <tr>\n",
       "      <th>2018</th>\n",
       "      <td>255777.777778</td>\n",
       "    </tr>\n",
       "    <tr>\n",
       "      <th>2019</th>\n",
       "      <td>242857.142857</td>\n",
       "    </tr>\n",
       "    <tr>\n",
       "      <th>2020</th>\n",
       "      <td>266666.666667</td>\n",
       "    </tr>\n",
       "    <tr>\n",
       "      <th>2021</th>\n",
       "      <td>294444.444444</td>\n",
       "    </tr>\n",
       "    <tr>\n",
       "      <th>2022</th>\n",
       "      <td>318181.818182</td>\n",
       "    </tr>\n",
       "    <tr>\n",
       "      <th>2023</th>\n",
       "      <td>240000.000000</td>\n",
       "    </tr>\n",
       "  </tbody>\n",
       "</table>\n",
       "</div>"
      ],
      "text/plain": [
       "         unit_price\n",
       "year               \n",
       "2005  288311.688312\n",
       "2006  320000.000000\n",
       "2007  269617.893756\n",
       "2008  308101.851852\n",
       "2009  280000.000000\n",
       "2010  290909.090909\n",
       "2011  269696.969697\n",
       "2012  292058.823529\n",
       "2013  266666.666667\n",
       "2014  235897.435897\n",
       "2015  241428.571429\n",
       "2016  280000.000000\n",
       "2017  291891.891892\n",
       "2018  255777.777778\n",
       "2019  242857.142857\n",
       "2020  266666.666667\n",
       "2021  294444.444444\n",
       "2022  318181.818182\n",
       "2023  240000.000000"
      ]
     },
     "execution_count": 13,
     "metadata": {},
     "output_type": "execute_result"
    }
   ],
   "source": [
    "area_df.groupby(\"year\").agg({\"unit_price\": \"median\"})"
   ]
  },
  {
   "cell_type": "code",
   "execution_count": 197,
   "metadata": {},
   "outputs": [
    {
     "data": {
      "text/plain": [
       "(282, 36)"
      ]
     },
     "execution_count": 197,
     "metadata": {},
     "output_type": "execute_result"
    },
    {
     "data": {
      "image/png": "[encoded data removed]",
      "text/plain": [
       "<Figure size 640x480 with 1 Axes>"
      ]
     },
     "metadata": {},
     "output_type": "display_data"
    }
   ],
   "source": [
    "# Pre Heuristic\n",
    "area_df.groupby(\"year\").agg({\"unit_price\": \"median\"}).plot()\n"
   ]
  },
  {
   "cell_type": "code",
   "execution_count": 196,
   "metadata": {},
   "outputs": [
    {
     "data": {
      "text/plain": [
       "(262, 36)"
      ]
     },
     "execution_count": 196,
     "metadata": {},
     "output_type": "execute_result"
    },
    {
     "data": {
      "image/png": "[encoded data removed]",
      "text/plain": [
       "<Figure size 640x480 with 1 Axes>"
      ]
     },
     "metadata": {},
     "output_type": "display_data"
    }
   ],
   "source": [
    "# Post Heuristic\n",
    "new_area_df = area_df[area_df[\"year\"] <= 2022]\n",
    "new_area_df = new_area_df[\n",
    "    (new_area_df[\"Region\"] != \"Industrial Area\") &\n",
    "    (~new_area_df[\"Use\"].str.contains(\"Factory|Warehouse|Parking Lot\", na=False, regex=True)) &\n",
    "    (~new_area_df[\"Purpose of Use\"].str.contains(\"Factory|Warehouse|Parking Lot\", na=False, regex=True))\n",
    "]\n",
    "\n",
    "new_area_df.groupby(\"year\").agg({\"unit_price\": \"median\"}).plot()\n"
   ]
  },
  {
   "cell_type": "code",
   "execution_count": null,
   "metadata": {},
   "outputs": [],
   "source": []
  },
  {
   "cell_type": "code",
   "execution_count": null,
   "metadata": {},
   "outputs": [],
   "source": [
    "area_codes_used = [\n",
    "    \"7547\", # industrial area issue # Fukushima issue\n",
    "    \"7545\", # industrial area issue # Fukushima issue\n",
    "    \"7543\", # industrial area issue # Fukushima issue\n",
    "    \"34203\" # industrial area issue\n",
    "    \"37322\", # weighted median issue\n",
    "    \"1608\", # No obvious heuristics. raw data is janky.\n",
    "    \"10429\", \n",
    "    \"10429\", # signals in data. Can't really complain\n",
    "    \"10345\", # signals in data. Can't really complain\n",
    "    \"16209\", # industrial area issue\n",
    "    \"36206\"\n",
    "]\n",
    "\"\"\"\n",
    "Heurisitics:\n",
    "(df[\"Region\"] != \"Industrial Area\") &\n",
    "(not df[\"Use\"].str.contains( any of [\"Factory\", \"Warehouse\", \"Parking Lot\"])\n",
    "(not df[\"Purpose of Use\"].str.contains([\"Factory\", \"Warehouse\", \"Parking Lot\"])\n",
    "\n",
    "Remove edge cases with years with only one count. Edges are harder to smooth.\n",
    "Remove 2023. Partial data is just noise.\n",
    "Add count as a smoothing parameter. // Maybe unnecessary\n",
    "\"\"\"\n",
    "\n",
    "\n"
   ]
  },
  {
   "cell_type": "code",
   "execution_count": 93,
   "metadata": {},
   "outputs": [
    {
     "data": {
      "text/plain": [
       "''"
      ]
     },
     "execution_count": 93,
     "metadata": {},
     "output_type": "execute_result"
    }
   ],
   "source": [
    "\"\"\"\n",
    "Fixed this bizarre bug with the transaction year code. Lesson, keep dataframe operations simple.\n",
    "Area Weighted puts too much weight into transactions that have 2000 m^2 or greater. Use median.\n",
    "\"\"\""
   ]
  },
  {
   "cell_type": "code",
   "execution_count": 51,
   "metadata": {},
   "outputs": [],
   "source": [
    "# df[(df[\"Region\"] == \"Residential Area\") & (df[\"Area(m^2)\"] == \"2,000 m^2 or greater.\")]\n"
   ]
  },
  {
   "cell_type": "code",
   "execution_count": 33,
   "metadata": {},
   "outputs": [
    {
     "data": {
      "text/plain": [
       "''"
      ]
     },
     "execution_count": 33,
     "metadata": {},
     "output_type": "execute_result"
    }
   ],
   "source": [
    "\"\"\"\n",
    "I may need to define a bit more involved logic and steps to determine when to include a transaction and when to discard it\n",
    "For example, the industrial area case with the 2000 m^2 or greater area is to be thrown away.\n",
    "However, this does necessarily not mean I should throw away all transactions with 2000 m^2 or greater area.\n",
    "Some are for housing complexes and may include valid signals as the prices, while discounted, should be reflective of the market's opinion.\n",
    "As such, I should dive deep into the intricacies of this dataset and try to understand its nuances\n",
    "The input dataset is of the utmost importance\n",
    "\"\"\"\n",
    "\n",
    "\"\"\"\n",
    "Task: Filter out undesirable transactions\n",
    "Fitering post smoothing is less meaningful. The undesirable transactions impact the nearby ones.\n",
    "Filtering out years after aggregation is wasteful.\n",
    "Figure out heuristics to filter out anomalies. This is a form of smoothing.\n",
    "The only filtering we do should be done with transactions. We don't filter our years.\n",
    "Years will be frontfilled and smoothed.\n",
    "Set count = 0 for all frontfilled values.\n",
    "\"\"\"\n",
    "\n",
    "\"\"\"\n",
    "Task: Filter out undesirable transactions\n",
    "\n",
    "1. Identify the municipalities and years that we filtered out in the dataset building notebook.\n",
    "2. Go into the transactions to figure out what caused them to be anomalies. Then, figure out patterns in those anomalies.\n",
    "3. Use those patterns to generate a heuristic.\n",
    "\n",
    "Repeat steps 1, 2 and 3 until we no longer feel the need to filter out transactions.\n",
    "This could be a multi-day process.\n",
    "\"\"\""
   ]
  },
  {
   "cell_type": "code",
   "execution_count": 18,
   "metadata": {},
   "outputs": [
    {
     "data": {
      "text/plain": [
       "Type\n",
       "Pre-owned Condominiums, etc.           250051\n",
       "Residential Land(Land and Building)    184604\n",
       "Residential Land(Land Only)             98244\n",
       "Forest Land                               608\n",
       "Agricultural Land                         137\n",
       "Name: count, dtype: int64"
      ]
     },
     "execution_count": 18,
     "metadata": {},
     "output_type": "execute_result"
    }
   ],
   "source": [
    "# Oh shit, we are leaving behind a lot of data in pre-owned condominiums\n",
    "df[\"Type\"].value_counts()"
   ]
  },
  {
   "cell_type": "code",
   "execution_count": 21,
   "metadata": {},
   "outputs": [
    {
     "data": {
      "text/plain": [
       "Purpose of Use\n",
       "House        242985\n",
       "Other         24474\n",
       "Office         5276\n",
       "Shop           3175\n",
       "Warehouse       862\n",
       "Factory         467\n",
       "Name: count, dtype: int64"
      ]
     },
     "execution_count": 21,
     "metadata": {},
     "output_type": "execute_result"
    }
   ],
   "source": [
    "# correlation between returns of each segment\n",
    "# remove because some years might have only warehouses whereas others have only houses for low count areas\n",
    "\n",
    "df[\"Purpose of Use\"].value_counts()\n",
    "\n",
    "#"
   ]
  },
  {
   "cell_type": "code",
   "execution_count": 17,
   "metadata": {},
   "outputs": [
    {
     "data": {
      "text/plain": [
       "Use\n",
       "House                                                356759\n",
       "Housing Complex                                       16374\n",
       "House, Shop                                            3406\n",
       "Office                                                 3194\n",
       "Shop                                                   2248\n",
       "                                                      ...  \n",
       "Factory, Parking Lot, Shop                                1\n",
       "Housing Complex, Factory, Office, Workshop                1\n",
       "Factory, Workshop, Other                                  1\n",
       "Housing Complex, Workshop, Warehouse, Parking Lot         1\n",
       "Warehouse, Shop, Other                                    1\n",
       "Name: count, Length: 216, dtype: int64"
      ]
     },
     "execution_count": 17,
     "metadata": {},
     "output_type": "execute_result"
    }
   ],
   "source": [
    "df[\"Use\"].value_counts()"
   ]
  },
  {
   "cell_type": "code",
   "execution_count": 19,
   "metadata": {},
   "outputs": [
    {
     "data": {
      "text/plain": [
       "City Planning\n",
       "Category I Exclusively Low-story Residential Zone       129904\n",
       "Commercial Zone                                          95719\n",
       "Quasi-industrial Zone                                    74733\n",
       "Category I Exclusively Medium-high Residential Zone      74185\n",
       "Category I Residential Zone                              58270\n",
       "Neighborhood Commercial Zone                             51686\n",
       "Category II Exclusively Medium-high Residential Zone     12743\n",
       "Category II Residential Zone                             10857\n",
       "Industrial Zone                                           7411\n",
       "Quasi-residential Zone                                    7112\n",
       "Category II Exclusively Low-story Residential Zone        3768\n",
       "Non-divided City Planning Area                             830\n",
       "Urbanization Control Area                                  820\n",
       "Exclusively Industrial Zone                                346\n",
       "Outside City Planning Area                                 209\n",
       "Quasi-city Planning Area                                     7\n",
       "Name: count, dtype: int64"
      ]
     },
     "execution_count": 19,
     "metadata": {},
     "output_type": "execute_result"
    }
   ],
   "source": [
    "# Once we've decided on a Area Code, we can drill down to City Planning to identify the type of zone we want to invest in\n",
    "# Same for Use\n",
    "df[\"City Planning\"].value_counts()"
   ]
  },
  {
   "cell_type": "code",
   "execution_count": 152,
   "metadata": {},
   "outputs": [
    {
     "data": {
      "text/plain": [
       "Frontage roadFClassification\n",
       "City Road                        9131\n",
       "Prefectural Road                 1451\n",
       "Road                              789\n",
       "Town Road                         420\n",
       "National Road                     354\n",
       "Private Road                      353\n",
       "Agricultural Road                  57\n",
       "Access Road                        32\n",
       "Village Road                       26\n",
       "Kyoto/ Osaka Prefectural Road       4\n",
       "Ward Road                           2\n",
       "Forest Road                         2\n",
       "Hokkaido Prefectural Road           1\n",
       "Name: count, dtype: int64"
      ]
     },
     "execution_count": 152,
     "metadata": {},
     "output_type": "execute_result"
    }
   ],
   "source": [
    "df[\"Frontage roadFClassification\"].value_counts()"
   ]
  },
  {
   "cell_type": "code",
   "execution_count": 162,
   "metadata": {},
   "outputs": [
    {
     "data": {
      "text/html": [
       "<div>\n",
       "<style scoped>\n",
       "    .dataframe tbody tr th:only-of-type {\n",
       "        vertical-align: middle;\n",
       "    }\n",
       "\n",
       "    .dataframe tbody tr th {\n",
       "        vertical-align: top;\n",
       "    }\n",
       "\n",
       "    .dataframe thead th {\n",
       "        text-align: right;\n",
       "    }\n",
       "</style>\n",
       "<table border=\"1\" class=\"dataframe\">\n",
       "  <thead>\n",
       "    <tr style=\"text-align: right;\">\n",
       "      <th></th>\n",
       "      <th>unit_price</th>\n",
       "    </tr>\n",
       "    <tr>\n",
       "      <th>Use</th>\n",
       "      <th></th>\n",
       "    </tr>\n",
       "  </thead>\n",
       "  <tbody>\n",
       "    <tr>\n",
       "      <th>Housing Complex, Shop, Other</th>\n",
       "      <td>3.333333e+06</td>\n",
       "    </tr>\n",
       "    <tr>\n",
       "      <th>House, Housing Complex, Other</th>\n",
       "      <td>3.363636e+05</td>\n",
       "    </tr>\n",
       "    <tr>\n",
       "      <th>Housing Complex, Parking Lot, Other</th>\n",
       "      <td>2.417647e+05</td>\n",
       "    </tr>\n",
       "    <tr>\n",
       "      <th>Office, Parking Lot, Other</th>\n",
       "      <td>2.300000e+05</td>\n",
       "    </tr>\n",
       "    <tr>\n",
       "      <th>Factory, Office, Warehouse, Shop</th>\n",
       "      <td>2.100000e+05</td>\n",
       "    </tr>\n",
       "    <tr>\n",
       "      <th>...</th>\n",
       "      <td>...</td>\n",
       "    </tr>\n",
       "    <tr>\n",
       "      <th>Factory, Warehouse, Parking Lot</th>\n",
       "      <td>3.636364e+03</td>\n",
       "    </tr>\n",
       "    <tr>\n",
       "      <th>House, Workshop, Parking Lot</th>\n",
       "      <td>3.500000e+03</td>\n",
       "    </tr>\n",
       "    <tr>\n",
       "      <th>Office, Workshop, Warehouse, Other</th>\n",
       "      <td>2.798529e+03</td>\n",
       "    </tr>\n",
       "    <tr>\n",
       "      <th>Factory, Workshop, Warehouse</th>\n",
       "      <td>2.300000e+03</td>\n",
       "    </tr>\n",
       "    <tr>\n",
       "      <th>House, Factory, Parking Lot, Other</th>\n",
       "      <td>1.000000e+03</td>\n",
       "    </tr>\n",
       "  </tbody>\n",
       "</table>\n",
       "<p>102 rows × 1 columns</p>\n",
       "</div>"
      ],
      "text/plain": [
       "                                       unit_price\n",
       "Use                                              \n",
       "Housing Complex, Shop, Other         3.333333e+06\n",
       "House, Housing Complex, Other        3.363636e+05\n",
       "Housing Complex, Parking Lot, Other  2.417647e+05\n",
       "Office, Parking Lot, Other           2.300000e+05\n",
       "Factory, Office, Warehouse, Shop     2.100000e+05\n",
       "...                                           ...\n",
       "Factory, Warehouse, Parking Lot      3.636364e+03\n",
       "House, Workshop, Parking Lot         3.500000e+03\n",
       "Office, Workshop, Warehouse, Other   2.798529e+03\n",
       "Factory, Workshop, Warehouse         2.300000e+03\n",
       "House, Factory, Parking Lot, Other   1.000000e+03\n",
       "\n",
       "[102 rows x 1 columns]"
      ]
     },
     "execution_count": 162,
     "metadata": {},
     "output_type": "execute_result"
    }
   ],
   "source": [
    "# Price by class \n",
    "# classification = \"Frontage roadFClassification\"\n",
    "classification = \"Use\"\n",
    "pd.DataFrame(df.groupby(classification)[\"unit_price\"].mean().sort_values(ascending=False))"
   ]
  },
  {
   "cell_type": "code",
   "execution_count": 23,
   "metadata": {},
   "outputs": [
    {
     "name": "stdout",
     "output_type": "stream",
     "text": [
      "<class 'pandas.core.frame.DataFrame'>\n",
      "Index: 533644 entries, 1 to 533644\n",
      "Data columns (total 28 columns):\n",
      " #   Column                              Non-Null Count   Dtype  \n",
      "---  ------                              --------------   -----  \n",
      " 0   Type                                533644 non-null  object \n",
      " 1   Region                              282848 non-null  object \n",
      " 2   City,Town,Ward,Village code         533644 non-null  int64  \n",
      " 3   Prefecture                          533644 non-null  object \n",
      " 4   City,Town,Ward,Village              533644 non-null  object \n",
      " 5   Area                                533398 non-null  object \n",
      " 6   Nearest stationFName               531523 non-null  object \n",
      " 7   Nearest stationFDistance(minute)   522855 non-null  object \n",
      " 8   Transaction-price(total)            533644 non-null  int64  \n",
      " 9   Layout                              240590 non-null  object \n",
      " 10  Area(m^2)                           533644 non-null  object \n",
      " 11  Transaction-price(Unit price m^2)   98244 non-null   float64\n",
      " 12  Land shape                          282428 non-null  object \n",
      " 13  Frontage                            258382 non-null  object \n",
      " 14  Total floor area(m^2)               177283 non-null  object \n",
      " 15  Year of construction                418800 non-null  object \n",
      " 16  Building structure                  422862 non-null  object \n",
      " 17  Use                                 400424 non-null  object \n",
      " 18  Purpose of Use                      277239 non-null  object \n",
      " 19  Frontage roadFDirection            282424 non-null  object \n",
      " 20  Frontage roadFClassification       279312 non-null  object \n",
      " 21  Frontage roadFBreadth(m)           277462 non-null  float64\n",
      " 22  City Planning                       528600 non-null  object \n",
      " 23  Maximus Building Coverage Ratio(%)  526110 non-null  float64\n",
      " 24  Maximus Floor-area Ratio(%)         526110 non-null  float64\n",
      " 25  Transaction period                  533644 non-null  object \n",
      " 26  Renovation                          222503 non-null  object \n",
      " 27  Transactional factors               40018 non-null   object \n",
      "dtypes: float64(4), int64(2), object(22)\n",
      "memory usage: 118.1+ MB\n"
     ]
    }
   ],
   "source": [
    "# split into Purpose of Use\n",
    "# Frontfill each and smooth to get a consistent chart\n",
    "df.info()"
   ]
  },
  {
   "cell_type": "code",
   "execution_count": null,
   "metadata": {},
   "outputs": [],
   "source": [
    "# We can use transac"
   ]
  }
 ],
 "metadata": {
  "kernelspec": {
   "display_name": "venv",
   "language": "python",
   "name": "python3"
  },
  "language_info": {
   "codemirror_mode": {
    "name": "ipython",
    "version": 3
   },
   "file_extension": ".py",
   "mimetype": "text/x-python",
   "name": "python",
   "nbconvert_exporter": "python",
   "pygments_lexer": "ipython3",
   "version": "3.12.0"
  }
 },
 "nbformat": 4,
 "nbformat_minor": 2
}
